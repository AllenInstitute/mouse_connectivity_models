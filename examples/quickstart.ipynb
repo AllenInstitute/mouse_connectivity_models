{
 "cells": [
  {
   "cell_type": "markdown",
   "metadata": {},
   "source": [
    "# Quick start!\n",
    "\n",
    "Here's our quick-start guide to accessing the mouse connectivity model data.\n",
    "Beware, working with the voxel data will require about 6 GB memory.\n",
    "\n",
    "# Voxel matrices\n",
    "\n",
    "Most people who are using the `mcmodels` package would like to access the voxel-scale connectivity matrix.\n",
    "This notebook will try to show you how.\n",
    "\n",
    "First, install all dependencies and clone the `mcmodels` package. Run `pytest mcmodels` to ensure it's working."
   ]
  },
  {
   "cell_type": "code",
   "execution_count": 1,
   "metadata": {
    "scrolled": true
   },
   "outputs": [
    {
     "name": "stdout",
     "output_type": "stream",
     "text": [
      "/home/kameron/src/mouse_connectivity_models\n",
      "/home/kameron/src/mouse_connectivity_models/examples\n"
     ]
    }
   ],
   "source": [
    "# These cd commands are not necessary if you've run pip install mcmodels\n",
    "%cd ..\n",
    "import mcmodels\n",
    "%cd examples"
   ]
  },
  {
   "cell_type": "code",
   "execution_count": 2,
   "metadata": {},
   "outputs": [],
   "source": [
    "from mcmodels.core import VoxelModelCache\n",
    "cache = VoxelModelCache(manifest_file='connectivity/voxel_model_manifest.json')"
   ]
  },
  {
   "cell_type": "markdown",
   "metadata": {},
   "source": [
    "## Option 1: Try this first\n",
    "\n",
    "You can download all the data for the voxel connectivity with the following simple command:"
   ]
  },
  {
   "cell_type": "code",
   "execution_count": 15,
   "metadata": {},
   "outputs": [
    {
     "name": "stderr",
     "output_type": "stream",
     "text": [
      "2021-04-23 13:31:04,282 allensdk.api.api.retrieve_file_over_http INFO     Downloading URL: http://download.alleninstitute.org/publications/A_high_resolution_data-driven_model_of_the_mouse_connectome/nodes.csv.gz\n",
      "INFO:allensdk.api.api.retrieve_file_over_http:Downloading URL: http://download.alleninstitute.org/publications/A_high_resolution_data-driven_model_of_the_mouse_connectome/nodes.csv.gz\n",
      "2021-04-23 14:02:23,108 allensdk.api.api.retrieve_file_over_http INFO     Downloading URL: http://download.alleninstitute.org/publications/A_high_resolution_data-driven_model_of_the_mouse_connectome/weights.csv.gz\n",
      "INFO:allensdk.api.api.retrieve_file_over_http:Downloading URL: http://download.alleninstitute.org/publications/A_high_resolution_data-driven_model_of_the_mouse_connectome/weights.csv.gz\n",
      "2021-04-23 14:16:16,093 allensdk.api.api.retrieve_file_over_http INFO     Downloading URL: http://download.alleninstitute.org/publications/A_high_resolution_data-driven_model_of_the_mouse_connectome/source_mask_params.json\n",
      "INFO:allensdk.api.api.retrieve_file_over_http:Downloading URL: http://download.alleninstitute.org/publications/A_high_resolution_data-driven_model_of_the_mouse_connectome/source_mask_params.json\n",
      "2021-04-23 14:16:24,601 allensdk.api.api.retrieve_file_over_http INFO     Downloading URL: http://download.alleninstitute.org/informatics-archive/current-release/mouse_ccf/annotation/ccf_2017/annotation_100.nrrd\n",
      "INFO:allensdk.api.api.retrieve_file_over_http:Downloading URL: http://download.alleninstitute.org/informatics-archive/current-release/mouse_ccf/annotation/ccf_2017/annotation_100.nrrd\n",
      "2021-04-23 14:16:25,689 allensdk.api.api.retrieve_file_over_http INFO     Downloading URL: http://download.alleninstitute.org/publications/A_high_resolution_data-driven_model_of_the_mouse_connectome/target_mask_params.json\n",
      "INFO:allensdk.api.api.retrieve_file_over_http:Downloading URL: http://download.alleninstitute.org/publications/A_high_resolution_data-driven_model_of_the_mouse_connectome/target_mask_params.json\n"
     ]
    }
   ],
   "source": [
    "voxel_array, source_mask, target_mask = cache.get_voxel_connectivity_array()"
   ]
  },
  {
   "cell_type": "markdown",
   "metadata": {},
   "source": [
    "## Option 2: Only necessary if you already downloaded the data\n",
    "\n",
    "If you've already downloaded the data from \n",
    "[this page](http://download.alleninstitute.org/publications/A_high_resolution_data-driven_model_of_the_mouse_connectome/),\n",
    "then you can use a slightly more complicated command to load it.\n",
    "\n",
    "(Option 1 does this for you.)\n",
    "\n",
    "Make sure you have these files:\n",
    "\n",
    "* `nodes.csv.gz`\n",
    "* `weights.csv.gz`\n",
    "* `source_mask_params.json`\n",
    "* `target_mask_params.json`\n",
    "\n",
    "Place them in the directory that the \"manifest.json\" file is in.\n",
    "\n",
    "These files contain the matrices for the low-rank decomposition of the voxel connectivity."
   ]
  },
  {
   "cell_type": "code",
   "execution_count": 5,
   "metadata": {},
   "outputs": [
    {
     "name": "stderr",
     "output_type": "stream",
     "text": [
      "2021-04-23 13:08:20,507 allensdk.api.api.retrieve_file_over_http INFO     Downloading URL: http://download.alleninstitute.org/informatics-archive/current-release/mouse_ccf/annotation/ccf_2017/annotation_100.nrrd\n"
     ]
    }
   ],
   "source": [
    "directory=\".\"\n",
    "voxel_array, source_mask, target_mask = \\\n",
    "    cache.get_voxel_connectivity_array(weights_file_name=directory+'connectivity/weights.csv.gz', \n",
    "                                       nodes_file_name=directory+'connectivity/nodes.csv.gz',\n",
    "                                       source_mask_file_name=directory+'connectivity/source_mask_params.json',\n",
    "                                       target_mask_file_name=directory+'connectivity/target_mask_params.json')"
   ]
  },
  {
   "cell_type": "markdown",
   "metadata": {},
   "source": [
    "### After loading the connectivity\n",
    "\n",
    "Here are some useful commands.\n",
    "\n",
    "The `voxel_connectivity_array` object allows numpy-like indexing into the connectivity without forming a dense (giant) matrix.\n",
    "\n",
    "The source and target masks are useful for figuring out the coordinates in the Allen common coordinate framework that correspond to an entry in the matrix."
   ]
  },
  {
   "cell_type": "code",
   "execution_count": 16,
   "metadata": {},
   "outputs": [
    {
     "data": {
      "text/plain": [
       "(226346, 448962)"
      ]
     },
     "execution_count": 16,
     "metadata": {},
     "output_type": "execute_result"
    }
   ],
   "source": [
    "voxel_array.shape"
   ]
  },
  {
   "cell_type": "code",
   "execution_count": 17,
   "metadata": {},
   "outputs": [
    {
     "data": {
      "text/plain": [
       "226346"
      ]
     },
     "execution_count": 17,
     "metadata": {},
     "output_type": "execute_result"
    }
   ],
   "source": [
    "len(source_mask.coordinates)"
   ]
  },
  {
   "cell_type": "code",
   "execution_count": 18,
   "metadata": {},
   "outputs": [
    {
     "data": {
      "text/plain": [
       "448962"
      ]
     },
     "execution_count": 18,
     "metadata": {},
     "output_type": "execute_result"
    }
   ],
   "source": [
    "len(target_mask.coordinates)"
   ]
  },
  {
   "cell_type": "markdown",
   "metadata": {},
   "source": [
    "The (x,y,z) coordinates of the source and target voxels can be looked up in these masks."
   ]
  },
  {
   "cell_type": "code",
   "execution_count": 19,
   "metadata": {},
   "outputs": [
    {
     "name": "stdout",
     "output_type": "stream",
     "text": [
      "[ 1 33 62]\n",
      "[131  73  71]\n"
     ]
    }
   ],
   "source": [
    "print(source_mask.coordinates[1])\n",
    "print(target_mask.coordinates[-1])"
   ]
  },
  {
   "cell_type": "markdown",
   "metadata": {},
   "source": [
    "# Regional matrices\n",
    "\n",
    "Perhaps you prefer your connectomes summarized at a regional scale.\n",
    "\n",
    "You can find these connectomes at [this page](http://download.alleninstitute.org/publications/A_high_resolution_data-driven_model_of_the_mouse_connectome/) in CSV format.\n",
    "These will load with `pandas`.\n",
    "The row/columns are labeled by their short name in the Allen Mouse Connectivity Atlas.\n",
    "\n",
    "Refer to [the paper](https://www.mitpressjournals.org/doi/full/10.1162/netn_a_00066) \n",
    "for a precise description of the various normalizations used."
   ]
  },
  {
   "cell_type": "code",
   "execution_count": null,
   "metadata": {},
   "outputs": [],
   "source": []
  },
  {
   "cell_type": "code",
   "execution_count": null,
   "metadata": {},
   "outputs": [],
   "source": []
  }
 ],
 "metadata": {
  "kernelspec": {
   "display_name": "Python 3",
   "language": "python",
   "name": "python3"
  },
  "language_info": {
   "codemirror_mode": {
    "name": "ipython",
    "version": 3
   },
   "file_extension": ".py",
   "mimetype": "text/x-python",
   "name": "python",
   "nbconvert_exporter": "python",
   "pygments_lexer": "ipython3",
   "version": "3.8.5"
  }
 },
 "nbformat": 4,
 "nbformat_minor": 2
}

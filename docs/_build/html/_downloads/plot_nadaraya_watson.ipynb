{
  "cells": [
    {
      "cell_type": "code",
      "execution_count": null,
      "metadata": {
        "collapsed": false
      },
      "outputs": [],
      "source": [
        "%matplotlib inline"
      ]
    },
    {
      "cell_type": "markdown",
      "metadata": {},
      "source": [
        "\n# Nadaraya-Watson Regression\n\n\n<div class=\"alert alert-info\"><h4>Note</h4><p>This example is in part a copy of ``plot_kernel_ridge_regressions`` by\n    Jan Hendrik Metzen found in the package Scikit-Learn.</p></div>\n\n.. currentmodule:: mcmodels.regressors.nonparametric\n\nNadaraya-Watos (NW) regression learns a non-linear function by using a kernel-\nweighted average of the data. Fitting NW can be done in closed-form and is\ntypically very fast. However, the learned model is non-sparse and thus suffers\nat prediction-time.\n\nTALK ABOUT EFFICIENT LOOCV!!\n\nThis example illustrates NW on an artificial dataset, which\nconsists of a sinusoidal target function and strong noise added to every fifth\ndatapoint.\n\n"
      ]
    },
    {
      "cell_type": "code",
      "execution_count": null,
      "metadata": {
        "collapsed": false
      },
      "outputs": [],
      "source": [
        "# Authors: Joseph Knox <josephk@alleninstitute.org>\n# License: Allen Institute Software License\n\n# NOTE: modified from plot_kernel_ridge_regression.py by Jan Hendrik Metzen\n#       from the package Scikit-Learn licensed under the 3 clause BSD License\n#       reproduced below:\n#\n# New BSD License\n#\n# Copyright (c) 2007\u20132018 The scikit-learn developers.\n# All rights reserved.\n#\n#\n# Redistribution and use in source and binary forms, with or without\n# modification, are permitted provided that the following conditions are met:\n#\n#   a. Redistributions of source code must retain the above copyright notice,\n#      this list of conditions and the following disclaimer.\n#   b. Redistributions in binary form must reproduce the above copyright\n#      notice, this list of conditions and the following disclaimer in the\n#      documentation and/or other materials provided with the distribution.\n#   c. Neither the name of the Scikit-learn Developers  nor the names of\n#      its contributors may be used to endorse or promote products\n#      derived from this software without specific prior written\n#      permission.\n#\n#\n# THIS SOFTWARE IS PROVIDED BY THE COPYRIGHT HOLDERS AND CONTRIBUTORS \"AS IS\"\n# AND ANY EXPRESS OR IMPLIED WARRANTIES, INCLUDING, BUT NOT LIMITED TO, THE\n# IMPLIED WARRANTIES OF MERCHANTABILITY AND FITNESS FOR A PARTICULAR PURPOSE\n# ARE DISCLAIMED. IN NO EVENT SHALL THE REGENTS OR CONTRIBUTORS BE LIABLE FOR\n# ANY DIRECT, INDIRECT, INCIDENTAL, SPECIAL, EXEMPLARY, OR CONSEQUENTIAL\n# DAMAGES (INCLUDING, BUT NOT LIMITED TO, PROCUREMENT OF SUBSTITUTE GOODS OR\n# SERVICES; LOSS OF USE, DATA, OR PROFITS; OR BUSINESS INTERRUPTION) HOWEVER\n# CAUSED AND ON ANY THEORY OF LIABILITY, WHETHER IN CONTRACT, STRICT\n# LIABILITY, OR TORT (INCLUDING NEGLIGENCE OR OTHERWISE) ARISING IN ANY WAY\n# OUT OF THE USE OF THIS SOFTWARE, EVEN IF ADVISED OF THE POSSIBILITY OF SUCH\n# DAMAGE.\n\n\nfrom __future__ import division, print_function\nimport time\n\nimport numpy as np\nimport matplotlib.pyplot as plt\n\nfrom sklearn.model_selection import GridSearchCV\n\nfrom mcmodels.regressors import NadarayaWatson, NadarayaWatsonCV\n\n\nprint(__doc__)\n\nrng = np.random.RandomState(0)\n\n# #############################################################################\n# Generate sample data\nX = 5 * rng.rand(10000, 1)\ny = np.sin(X).ravel()\n\n# Add noise to targets\ny[::5] += 3 * (0.5 - rng.rand(X.shape[0] // 5))\n\nX_plot = np.linspace(0, 5, 1e3)[:, None]\n\n# #############################################################################\n# Fit regression model\ntrain_size = 100\nparam_grid=dict(kernel=[\"rbf\"], gamma=np.logspace(-2, 2, 25))\n\nnw_gs = GridSearchCV(NadarayaWatson(), cv=5, param_grid=param_grid)\nnw_cv = NadarayaWatsonCV(param_grid)\n\n# fit 5-fold using GridSearch\nt0 = time.time()\nnw_gs.fit(X[:train_size], y[:train_size])\ngs_fit = time.time() - t0\nprint(\"GridSearchCV 5 fold cross validation fitted in %.2f s\" % gs_fit)\nprint(\"\\toptimal bandwidth found: %.2f\" % nw_gs.best_estimator_.gamma)\n\n# fit leave-one-out using NadarayaWatsonCV\nt0 = time.time()\nnw_cv.fit(X[:train_size], y[:train_size])\ncv_fit = time.time() - t0\nprint(\"NadarayaWatsonCV leave-one-out cross validation fitted in %.2f s\" % cv_fit)\nprint(\"\\toptimal bandwidth found: %.3f\" % nw_cv.gamma)\n\n# predict\ny_gs = nw_gs.predict(X_plot)\ny_cv = nw_cv.predict(X_plot)\n\n\n# #############################################################################\n# Look at the results\nplt.scatter(X[:100], y[:100], c='k', label='data', zorder=1,\n            edgecolors=(0, 0, 0))\nplt.plot(X_plot, y_gs, 'c-', lw=3, label='5-Fold GridSearchCV')\nplt.plot(X_plot, y_cv, 'r:', lw=3, label='LOO NadarayaWatsonCV')\nplt.xlabel('data')\nplt.ylabel('target')\nplt.title('Nadaraya-Watson Regression')\nplt.legend()\n\nplt.show()"
      ]
    }
  ],
  "metadata": {
    "kernelspec": {
      "display_name": "Python 3",
      "language": "python",
      "name": "python3"
    },
    "language_info": {
      "codemirror_mode": {
        "name": "ipython",
        "version": 3
      },
      "file_extension": ".py",
      "mimetype": "text/x-python",
      "name": "python",
      "nbconvert_exporter": "python",
      "pygments_lexer": "ipython3",
      "version": "3.6.4"
    }
  },
  "nbformat": 4,
  "nbformat_minor": 0
}
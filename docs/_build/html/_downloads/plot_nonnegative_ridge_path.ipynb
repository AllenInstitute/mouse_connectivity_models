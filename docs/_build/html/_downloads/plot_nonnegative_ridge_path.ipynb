{
  "cells": [
    {
      "cell_type": "code",
      "execution_count": null,
      "metadata": {
        "collapsed": false
      },
      "outputs": [],
      "source": [
        "%matplotlib inline"
      ]
    },
    {
      "cell_type": "markdown",
      "metadata": {},
      "source": [
        "\n# Plot NonnegativeRidge coefficients as a function of regularization\n\n\n<div class=\"alert alert-info\"><h4>Note</h4><p>This example is a copy of ``plot_ridge_path.py`` by Fabian Pedregosa\n    in the package Scikit-learn, using NonnegativeRidge.</p></div>\n\n.. currentmodule:: mcmodels.regressors.nonnegative_linear\n\n:class:`NonnegativeRidge` Regression is the estimator used in this example.\nEach color represents a different feature of the\ncoefficient vector, and this is displayed as a function of the\nregularization parameter.\n\nThis example also shows the usefulness of applying Ridge regression\nto highly ill-conditioned matrices. For such matrices, a slight\nchange in the target variable can cause huge variances in the\ncalculated weights. In such cases, it is useful to set a certain\nregularization (alpha) to reduce this variation (noise).\n\nWhen alpha is very large, the regularization effect dominates the\nsquared loss function and the coefficients tend to zero.\nAt the end of the path, as alpha tends toward zero\nand the solution tends towards the ordinary least squares, coefficients\nexhibit big oscillations. In practise it is necessary to tune alpha\nin such a way that a balance is maintained between both.\n\n"
      ]
    },
    {
      "cell_type": "code",
      "execution_count": null,
      "metadata": {
        "collapsed": false
      },
      "outputs": [],
      "source": [
        "# Authors: Joseph Knox <josephk@alleninstitute.org>\n# License: Allen Institute Software License\n\n# NOTE: modified from plot_ridge_path.py by Fabian Pedregosa\n#       from the package Scikit-Learn licensed under the 3 clause BSD License\n#       reproduced below:\n#\n# New BSD License\n#\n# Copyright (c) 2007\u20132018 The scikit-learn developers.\n# All rights reserved.\n#\n#\n# Redistribution and use in source and binary forms, with or without\n# modification, are permitted provided that the following conditions are met:\n#\n#   a. Redistributions of source code must retain the above copyright notice,\n#      this list of conditions and the following disclaimer.\n#   b. Redistributions in binary form must reproduce the above copyright\n#      notice, this list of conditions and the following disclaimer in the\n#      documentation and/or other materials provided with the distribution.\n#   c. Neither the name of the Scikit-learn Developers  nor the names of\n#      its contributors may be used to endorse or promote products\n#      derived from this software without specific prior written\n#      permission.\n#\n#\n# THIS SOFTWARE IS PROVIDED BY THE COPYRIGHT HOLDERS AND CONTRIBUTORS \"AS IS\"\n# AND ANY EXPRESS OR IMPLIED WARRANTIES, INCLUDING, BUT NOT LIMITED TO, THE\n# IMPLIED WARRANTIES OF MERCHANTABILITY AND FITNESS FOR A PARTICULAR PURPOSE\n# ARE DISCLAIMED. IN NO EVENT SHALL THE REGENTS OR CONTRIBUTORS BE LIABLE FOR\n# ANY DIRECT, INDIRECT, INCIDENTAL, SPECIAL, EXEMPLARY, OR CONSEQUENTIAL\n# DAMAGES (INCLUDING, BUT NOT LIMITED TO, PROCUREMENT OF SUBSTITUTE GOODS OR\n# SERVICES; LOSS OF USE, DATA, OR PROFITS; OR BUSINESS INTERRUPTION) HOWEVER\n# CAUSED AND ON ANY THEORY OF LIABILITY, WHETHER IN CONTRACT, STRICT\n# LIABILITY, OR TORT (INCLUDING NEGLIGENCE OR OTHERWISE) ARISING IN ANY WAY\n# OUT OF THE USE OF THIS SOFTWARE, EVEN IF ADVISED OF THE POSSIBILITY OF SUCH\n# DAMAGE.\n\n\nfrom __future__ import division, print_function\n\nimport numpy as np\nimport matplotlib.pyplot as plt\n\nfrom mcmodels.regressors import NonnegativeRidge\n\n\nprint(__doc__)\n\n# X is the n  x n Hilbert matrix\nn = 6\nX = 1. / (np.arange(1, n + 1) + np.arange(n)[:, np.newaxis])\ny = np.ones(n)\n\n# #############################################################################\n# Compute paths\n\nn_alphas = 550\nalphas = np.logspace(-5, 5, n_alphas)\n\ncoefs = []\nfor a in alphas:\n    ridge = NonnegativeRidge(alpha=a)\n    ridge.fit(X, y)\n    coefs.append(ridge.coef_)\n\n# #############################################################################\n# Display results\n\nfig, axes = plt.subplots(1, 2, figsize=(8, 3))\n\nfor ax in axes:\n    ax.plot(alphas, coefs, lw=2)\n    ax.set_xscale('log')\n    ax.set_xlabel('alpha')\n    ax.set_ylabel('weights')\n\n# trim subplots\naxes[0].set_xlim(1e-5, 1e5)\naxes[1].set_xlim(1e-1, 1e5)\n\naxes[0].set_ylim(0, 8)\naxes[1].set_ylim(0, 1)\n\nplt.suptitle('Ridge coefficients as a function of the regularization')\nplt.show()"
      ]
    }
  ],
  "metadata": {
    "kernelspec": {
      "display_name": "Python 3",
      "language": "python",
      "name": "python3"
    },
    "language_info": {
      "codemirror_mode": {
        "name": "ipython",
        "version": 3
      },
      "file_extension": ".py",
      "mimetype": "text/x-python",
      "name": "python",
      "nbconvert_exporter": "python",
      "pygments_lexer": "ipython3",
      "version": "3.6.4"
    }
  },
  "nbformat": 4,
  "nbformat_minor": 0
}
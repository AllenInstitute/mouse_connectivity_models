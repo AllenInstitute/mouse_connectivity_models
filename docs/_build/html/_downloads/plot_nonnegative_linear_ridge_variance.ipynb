{
  "cells": [
    {
      "cell_type": "code",
      "execution_count": null,
      "metadata": {
        "collapsed": false
      },
      "outputs": [],
      "source": [
        "%matplotlib inline"
      ]
    },
    {
      "cell_type": "markdown",
      "metadata": {},
      "source": [
        "\n# NonnegativeLinear Least Squares and NonnegativeRidge Regression Variance\n\n\n<div class=\"alert alert-info\"><h4>Note</h4><p>This example is a copy of ``plot_ols_ridge_variance.py`` by Gael Varoquaux\n    and Jaques Grobler in the package Scikit-learn, using\n    NonnegativeLinear and NonnegativeRidge.</p></div>\n\n.. currentmodule:: mcmodels.regressors.nonnegative_linear\n\nDue to the few points in each dimension and the straight\nline that linear regression uses to follow these points\nas well as it can, noise on the observations will cause\ngreat variance as shown in the first plot. Every line's slope\ncan vary quite a bit for each prediction due to the noise\ninduced in the observations.\n\nRidge regression is basically minimizing a penalised version\nof the least-squared function. The penalising `shrinks` the\nvalue of the regression coefficients.\nDespite the few data points in each dimension, the slope\nof the prediction is much more stable and the variance\nin the line itself is greatly reduced, in comparison to that\nof the standard linear regression\n\n"
      ]
    },
    {
      "cell_type": "code",
      "execution_count": null,
      "metadata": {
        "collapsed": false
      },
      "outputs": [],
      "source": [
        "# Authors: Joseph Knox <josephk@alleninstitute.org>\n# License: Allen Institute Software License\n\n# NOTE: modified from plot_ols_ridge_variance.py by Gael Varoquaux and Jaques Grobler\n#       from the package Scikit-Learn licensed under the 3 clause BSD License\n#       reproduced below:\n#\n# New BSD License\n#\n# Copyright (c) 2007\u20132018 The scikit-learn developers.\n# All rights reserved.\n#\n#\n# Redistribution and use in source and binary forms, with or without\n# modification, are permitted provided that the following conditions are met:\n#\n#   a. Redistributions of source code must retain the above copyright notice,\n#      this list of conditions and the following disclaimer.\n#   b. Redistributions in binary form must reproduce the above copyright\n#      notice, this list of conditions and the following disclaimer in the\n#      documentation and/or other materials provided with the distribution.\n#   c. Neither the name of the Scikit-learn Developers  nor the names of\n#      its contributors may be used to endorse or promote products\n#      derived from this software without specific prior written\n#      permission.\n#\n#\n# THIS SOFTWARE IS PROVIDED BY THE COPYRIGHT HOLDERS AND CONTRIBUTORS \"AS IS\"\n# AND ANY EXPRESS OR IMPLIED WARRANTIES, INCLUDING, BUT NOT LIMITED TO, THE\n# IMPLIED WARRANTIES OF MERCHANTABILITY AND FITNESS FOR A PARTICULAR PURPOSE\n# ARE DISCLAIMED. IN NO EVENT SHALL THE REGENTS OR CONTRIBUTORS BE LIABLE FOR\n# ANY DIRECT, INDIRECT, INCIDENTAL, SPECIAL, EXEMPLARY, OR CONSEQUENTIAL\n# DAMAGES (INCLUDING, BUT NOT LIMITED TO, PROCUREMENT OF SUBSTITUTE GOODS OR\n# SERVICES; LOSS OF USE, DATA, OR PROFITS; OR BUSINESS INTERRUPTION) HOWEVER\n# CAUSED AND ON ANY THEORY OF LIABILITY, WHETHER IN CONTRACT, STRICT\n# LIABILITY, OR TORT (INCLUDING NEGLIGENCE OR OTHERWISE) ARISING IN ANY WAY\n# OUT OF THE USE OF THIS SOFTWARE, EVEN IF ADVISED OF THE POSSIBILITY OF SUCH\n# DAMAGE.\n\n\nfrom __future__ import print_function\n\nimport numpy as np\nimport matplotlib.pyplot as plt\n\nfrom mcmodels.regressors import NonnegativeLinear, NonnegativeRidge\n\n\nprint(__doc__)\n\nn_datasets = 5\n\nX_train = np.c_[.5, 1].T\ny_train = [.5, 1]\nX_test = np.c_[0, 2].T\n\nnp.random.seed(0)\n\nregressors = dict(NonnegativeLinear=NonnegativeLinear(),\n                  NonnegativeRidge=NonnegativeRidge(alpha=.1))\n\nfig, axes = plt.subplots(1, 2, figsize=(8, 3))\n\nfor ax, (name, reg) in zip(axes, regressors.items()):\n\n    for _ in range(n_datasets):\n        this_X = .15 * np.random.normal(size=(2, 1)) + X_train\n        reg.fit(this_X, y_train)\n\n        ax.plot(X_test, reg.predict(X_test), color='.5')\n        ax.scatter(this_X, y_train, s=3, c='.5', marker='o', zorder=10)\n\n    reg.fit(X_train, y_train)\n    ax.plot(X_test, reg.predict(X_test), linewidth=2, color='blue')\n    ax.scatter(X_train, y_train, s=30, c='r', marker='+', zorder=10)\n\n    ax.set_xlim(0, 2)\n    ax.set_ylim((0, 1.6))\n\n    ax.set_xlabel('X')\n    ax.set_ylabel('y')\n\n    ax.set_title(name)\n\nplt.show()"
      ]
    }
  ],
  "metadata": {
    "kernelspec": {
      "display_name": "Python 3",
      "language": "python",
      "name": "python3"
    },
    "language_info": {
      "codemirror_mode": {
        "name": "ipython",
        "version": 3
      },
      "file_extension": ".py",
      "mimetype": "text/x-python",
      "name": "python",
      "nbconvert_exporter": "python",
      "pygments_lexer": "ipython3",
      "version": "3.6.4"
    }
  },
  "nbformat": 4,
  "nbformat_minor": 0
}
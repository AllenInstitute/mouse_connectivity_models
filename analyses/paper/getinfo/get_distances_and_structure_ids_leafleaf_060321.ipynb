{
 "cells": [
  {
   "cell_type": "code",
   "execution_count": 1,
   "metadata": {
    "collapsed": true
   },
   "outputs": [],
   "source": [
    "import pandas as pd\n",
    "import seaborn as sns\n",
    "import numpy as np\n",
    "import matplotlib.pyplot as plt\n",
    "import matplotlib as mpl\n",
    "from matplotlib.pyplot import gcf"
   ]
  },
  {
   "cell_type": "code",
   "execution_count": 2,
   "metadata": {},
   "outputs": [
    {
     "name": "stderr",
     "output_type": "stream",
     "text": [
      "/Users/samsonkoelle/anaconda3/envs/allen_010719_5/lib/python3.7/site-packages/sklearn/utils/deprecation.py:144: FutureWarning: The sklearn.linear_model.base module is  deprecated in version 0.22 and will be removed in version 0.24. The corresponding classes / functions should instead be imported from sklearn.linear_model. Anything that cannot be imported from sklearn.linear_model is now part of the private API.\n",
      "  warnings.warn(message, FutureWarning)\n",
      "/Users/samsonkoelle/anaconda3/envs/allen_010719_5/lib/python3.7/site-packages/sklearn/utils/deprecation.py:144: FutureWarning: The sklearn.metrics.scorer module is  deprecated in version 0.22 and will be removed in version 0.24. The corresponding classes / functions should instead be imported from sklearn.metrics. Anything that cannot be imported from sklearn.metrics is now part of the private API.\n",
      "  warnings.warn(message, FutureWarning)\n"
     ]
    }
   ],
   "source": [
    "%load_ext autoreload\n",
    "%autoreload 2\n",
    "\n",
    "import os\n",
    "import numpy as np\n",
    "import pandas as pd \n",
    "import sys\n",
    "import pickle\n",
    "import itertools\n",
    "import seaborn as sns\n",
    "import matplotlib.pyplot as plt\n",
    "from mpl_toolkits.mplot3d import Axes3D\n",
    "import random\n",
    "from sklearn.metrics import pairwise_distances\n",
    "from sklearn.kernel_ridge import KernelRidge\n",
    "import math\n",
    "\n",
    "workingdirectory = os.popen('git rev-parse --show-toplevel').read()[:-1]\n",
    "sys.path.append(workingdirectory)\n",
    "os.chdir(workingdirectory)\n",
    "\n",
    "import allensdk.core.json_utilities as ju\n",
    "from allensdk.core.mouse_connectivity_cache import MouseConnectivityCache\n",
    "\n",
    "from mcmodels.core import VoxelModelCache\n",
    "from mcmodels.core.utils import get_structure_id,get_ordered_summary_structures\n",
    "from mcmodels.core.connectivity_data import get_connectivity_data\n",
    "from mcmodels.models.voxel.crossvalidation import get_nwloocv_predictions_multimodel_merge_dists\n",
    "from mcmodels.utils import nonzero_unique #, unionize\n",
    "#from mcmodels.models.crossvalidation import get_best_hyperparameters,get_loss_best_hyp,get_loss#get_loocv_predictions,get_loss#get_best_hyperparameters,get_loss_best_hyp,get_loocv_predictions,get_loss\n",
    "from mcmodels.core.utils import get_leaves_ontologicalorder, get_indices, get_indices2,get_eval_indices,screen_index_matrices,screen_index_matrices2,screen_index_matrices3,get_indices_2ormore#get_cre_status,get_minorstructure_dictionary,get_leaves_ontologicalorder\n",
    "#from mcmodels.regressors import NadarayaWatson\n",
    "#from mcmodels.core.plotting import plot_loss_surface,plot_loss_scatter\n",
    "def fix_pdcsv(csv):\n",
    "    \n",
    "    csv_rownames = np.asarray(csv.iloc[:,0])\n",
    "    csv = csv.iloc[:,1:]\n",
    "    csv.index = csv_rownames\n",
    "    return(csv)\n",
    "\n",
    "from mcmodels.core import Mask\n",
    "def get_regional_centroids(cache,sid,hemisphere_id):\n",
    "    \n",
    "    mask = Mask.from_cache(cache, structure_ids=[sid], hemisphere_id=hemisphere_id)\n",
    "    centroid_loc = np.mean(mask.coordinates, axis = 0)\n",
    "    \n",
    "    return(centroid_loc)"
   ]
  },
  {
   "cell_type": "code",
   "execution_count": 3,
   "metadata": {},
   "outputs": [
    {
     "name": "stdout",
     "output_type": "stream",
     "text": [
      "annotation/ccf_2017\n"
     ]
    }
   ],
   "source": [
    "#read data\n",
    "TOP_DIR = '/Users/samsonkoelle/alleninstitute/mcm_2020/mcm_updated/'\n",
    "INPUT_JSON = os.path.join(TOP_DIR, 'input_011520.json')\n",
    "EXPERIMENTS_EXCLUDE_JSON = os.path.join(TOP_DIR, 'experiments_exclude.json')\n",
    "FILE_DIR = '/Users/samsonkoelle/alleninstitute/mcm_2020/mcm_updated/'\n",
    "OUTPUT_DIR = os.path.join(FILE_DIR, 'output')\n",
    "\n",
    "input_data = ju.read(INPUT_JSON)\n",
    "manifest_file = input_data.get('manifest_file')\n",
    "manifest_file = os.path.join(TOP_DIR, manifest_file)\n",
    "experiments_exclude = ju.read(EXPERIMENTS_EXCLUDE_JSON)\n",
    "\n",
    "#its unclear why the hyperparameters are loaded from the output directory\n",
    "cache = VoxelModelCache(manifest_file=manifest_file)\n",
    "major_structures = input_data.get('structures')\n",
    "major_structure_ids = [get_structure_id(cache, s) for s in major_structures]\n",
    "data_info = pd.read_excel('/Users/samsonkoelle/alleninstitute/Whole Brain Cre Image Series_curation only.xlsx', 'all datasets curated_070919pull')\n",
    "data_info.set_index(\"id\", inplace=True)\n",
    "ontological_order = get_ordered_summary_structures(cache, 167587189)\n",
    "\n",
    "mcc = MouseConnectivityCache(manifest_file = '../connectivity/mouse_connectivity_manifest.json')\n",
    "st = mcc.get_structure_tree()\n",
    "ai_map = st.get_id_acronym_map()\n",
    "ia_map = {value: key for key, value in ai_map.items()}\n",
    "\n",
    "#regionalize voxel model: compare with regional model\n",
    "#regional parameters\n",
    "cre = None\n",
    "eid_set=None\n",
    "high_res=False\n",
    "threshold_injection = False\n",
    "\n",
    "COARSE_STRUCTURE_SET_ID = 2\n",
    "DEFAULT_STRUCTURE_SET_IDS = tuple([COARSE_STRUCTURE_SET_ID])\n",
    "tree = cache.get_structure_tree()\n",
    "default_structures = tree.get_structures_by_set_id(DEFAULT_STRUCTURE_SET_IDS)\n",
    "default_structure_ids = [st['id'] for st in default_structures if st['id'] != 934]\n",
    "#cre= True"
   ]
  },
  {
   "cell_type": "code",
   "execution_count": 4,
   "metadata": {},
   "outputs": [
    {
     "name": "stdout",
     "output_type": "stream",
     "text": [
      "512\n",
      "703\n",
      "1089\n",
      "1097\n",
      "315\n",
      "313\n",
      "354\n",
      "698\n",
      "771\n",
      "803\n",
      "477\n",
      "549\n"
     ]
    }
   ],
   "source": [
    "connectivity_data = get_connectivity_data(cache, major_structure_ids[:12], experiments_exclude, remove_injection = False)\n",
    "\n",
    "connectivity_data.get_injection_hemisphere_ids()\n",
    "connectivity_data.align()\n",
    "connectivity_data.get_centroids()\n",
    "connectivity_data.get_data_matrices(default_structure_ids)\n",
    "connectivity_data.get_crelines(data_info)\n",
    "with open('data/info/leafs.pickle', 'rb') as handle:\n",
    "    leafs = pickle.load(handle)\n",
    "    \n",
    "connectivity_data.ai_map = ai_map\n",
    "connectivity_data.get_summarystructures(data_info)\n",
    "connectivity_data.leafs = leafs"
   ]
  },
  {
   "cell_type": "code",
   "execution_count": 5,
   "metadata": {},
   "outputs": [
    {
     "data": {
      "text/plain": [
       "(564, 1123)"
      ]
     },
     "execution_count": 5,
     "metadata": {},
     "output_type": "execute_result"
    }
   ],
   "source": [
    "wt_conn = pd.read_csv('/Users/samsonkoelle/alleninstitute/sambranch/mouse_connectivity_models/paper/connectivities/el_leafsurf_leafsmth_leafleaf_C57BL6J0428.csv',  header=[0,1])\n",
    "wt_conn = fix_pdcsv(wt_conn)\n",
    "wt_conn.shape"
   ]
  },
  {
   "cell_type": "code",
   "execution_count": 30,
   "metadata": {},
   "outputs": [],
   "source": [
    "ic_targ_names = np.asarray(list(wt_conn.columns))[:,1]\n",
    "ic_targ_id = np.asarray([ai_map[ic_targ_names[i]] for i in range(len(ic_targ_names))])"
   ]
  },
  {
   "cell_type": "code",
   "execution_count": 18,
   "metadata": {
    "collapsed": true
   },
   "outputs": [],
   "source": [
    "columns = np.asarray(list(wt_conn.columns))\n",
    "ipsi_inds = np.where(columns[:,0] == 'ipsi')[0]\n",
    "contra_inds = np.where(columns[:,0] == 'contra')[0]\n",
    "ipsi_names = columns[ipsi_inds,1]\n",
    "contra_names = columns[contra_inds,1]\n",
    "rows = np.asarray(list(wt_conn.index))"
   ]
  },
  {
   "cell_type": "code",
   "execution_count": 31,
   "metadata": {
    "collapsed": true
   },
   "outputs": [],
   "source": [
    "regional_centroids_sources = np.asarray([get_regional_centroids(cache,ai_map[rows[i]],hemisphere_id = 2) for i in range(len(rows))])\n",
    "\n",
    "# ipsi_names = np.asarray(list(wt_conn.columns))[:291][:,1]\n",
    "# contra_names = np.asarray(list(wt_conn.columns))[291:][:,1]\n",
    "regional_centroids_ipsitargets = np.asarray([get_regional_centroids(cache,ai_map[ipsi_names[i]],hemisphere_id = 2) for i in range(len(ipsi_inds))])\n",
    "regional_centroids_contratargets = np.asarray([get_regional_centroids(cache,ai_map[contra_names[i]],hemisphere_id = 1) for i in range(len(contra_inds))])\n",
    "\n",
    "#nreg = wt_conn_oo.shape[0]\n",
    "#crow = np.zeros((nreg,4), dtype  =float)\n",
    "# for i in range(nreg):\n",
    "#     crow[i,:] = np.asarray(cs_col_ipsi_dict[major_ontoloogy[i]])"
   ]
  },
  {
   "cell_type": "code",
   "execution_count": 32,
   "metadata": {
    "collapsed": true
   },
   "outputs": [],
   "source": [
    "regional_centroids_targets = np.vstack([regional_centroids_ipsitargets,regional_centroids_contratargets])\n",
    "\n",
    "ntarg = wt_conn.shape[1]\n",
    "nsource = regional_centroids_sources.shape[0]\n",
    "distances = np.zeros((nsource, ntarg))\n",
    "for i in range(nsource):\n",
    "    for j in range(ntarg):\n",
    "        distances[i,j] = np.linalg.norm(regional_centroids_sources[i] - regional_centroids_targets[j])"
   ]
  },
  {
   "cell_type": "code",
   "execution_count": 7,
   "metadata": {
    "collapsed": true
   },
   "outputs": [],
   "source": [
    "from mcmodels.utils import get_aligned_ids"
   ]
  },
  {
   "cell_type": "code",
   "execution_count": 31,
   "metadata": {},
   "outputs": [],
   "source": [
    "ontological_order_leaves = np.load('/Users/samsonkoelle/alleninstitute/sambranch/mouse_connectivity_models/paper/info/ontological_order_leaves_v3.npy')\n",
    "ontological_order = np.load('/Users/samsonkoelle/alleninstitute/sambranch/mouse_connectivity_models/paper/info/ontological_order_v3.npy')\n",
    "#ontological_order_leaves_majors = get_aligned_ids(st,ontological_order_leaves,major_structure_ids)\n",
    "ontological_order_i_majors = get_aligned_ids(st,ontological_order_leaves,major_structure_ids)\n",
    "ontological_order_ic_majors = get_aligned_ids(st,ic_targ_id,major_structure_ids)"
   ]
  },
  {
   "cell_type": "code",
   "execution_count": 32,
   "metadata": {},
   "outputs": [
    {
     "data": {
      "text/plain": [
       "array([315, 315, 315, ..., 512, 512, 512])"
      ]
     },
     "execution_count": 32,
     "metadata": {},
     "output_type": "execute_result"
    }
   ],
   "source": [
    "ontological_order_ic_majors"
   ]
  },
  {
   "cell_type": "code",
   "execution_count": 19,
   "metadata": {
    "collapsed": true
   },
   "outputs": [],
   "source": [
    "#ontological_order_leaves_names = np.asarray([ia_map[ontological_order_leaves[i]] for i in range(len(ontological_order_leaves))])"
   ]
  },
  {
   "cell_type": "code",
   "execution_count": 13,
   "metadata": {},
   "outputs": [],
   "source": [
    "# contra_inds = np.where(np.asarray(list(wt_conn.columns))[:,0] == 'contra')[0]\n",
    "# ipsi_inds = np.where(np.asarray(list(wt_conn.columns))[:,0] == 'ipsi')[0]\n",
    "\n",
    "# contra_names = ontological_order_leaves_names[np.in1d(ontological_order_leaves_names,np.asarray(list(wt_conn.columns))[:,1][contra_inds])]\n",
    "\n",
    "# ipsi_names = ontological_order_leaves_names[np.in1d(ontological_order_leaves_names,np.asarray(list(wt_conn.columns))[:,1][ipsi_inds])]\n",
    "\n",
    "# icomb = np.asarray([np.repeat('ipsi',ipsi_names.shape[0]),ipsi_names])\n",
    "# icomb = np.asarray(icomb)\n",
    "# tuples2 = list(zip(*icomb))\n",
    "# ipsi_multi = pd.MultiIndex.from_tuples(tuples2, names=['first', 'second'])\n",
    "# #contra_inds = cnam_multi[~np.in1d(cnam_multi,wt_conn.columns)]\n",
    "\n",
    "# ccomb = np.asarray([np.repeat('contra',contra_names.shape[0]),contra_names])\n",
    "# ccomb = np.asarray(ccomb)\n",
    "# tuples2 = list(zip(*ccomb))\n",
    "# cnam_multi = pd.MultiIndex.from_tuples(tuples2, names=['first', 'second'])\n",
    "# #contra_multi = cnam_multi[~np.in1d(cnam_multi,wt_conn.columns)]\n",
    "\n",
    "# comb = np.hstack([icomb,ccomb])\n",
    "# tuples = list(zip(*comb))\n",
    "# multi = pd.MultiIndex.from_tuples(tuples, names=['first', 'second'])"
   ]
  },
  {
   "cell_type": "code",
   "execution_count": null,
   "metadata": {
    "collapsed": true
   },
   "outputs": [],
   "source": [
    "# ool_ic = np.asarray([ai_map[comb[1][i]] for i in range(len(comb[1]))])\n",
    "# ool_ic_majors = get_aligned_ids(st, ool_ic,major_structure_ids)\n",
    "# ool_ic_major_names = np.asarray([ia_map[ool_ic_majors[i]] for i in range(len(oos_ic_majors))])"
   ]
  },
  {
   "cell_type": "code",
   "execution_count": 33,
   "metadata": {
    "collapsed": true
   },
   "outputs": [],
   "source": [
    "# ool_i = np.asarray([ai_map[comb[1][i]] for i in range(len(comb[1]))])\n",
    "# ool_i_majors = get_aligned_ids(st, ool_ic,major_structure_ids)\n",
    "# ool_i_major_names = np.asarray([ia_map[ool_ic_majors[i]] for i in range(len(oos_ic_majors))])"
   ]
  },
  {
   "cell_type": "code",
   "execution_count": 34,
   "metadata": {},
   "outputs": [],
   "source": [
    "#major_ontoloogy_summary = np.load('/Users/samsonkoelle/ontological_order_summary_majors_names.npy')\n",
    "#ontological_order_leaves_majors_names = np.asarray([ia_map[ontological_order_leaves_majors[i]] for i in range(len(ontological_order_leaves_majors))])\n",
    "#ontological_order_summary_majors = get_aligned_ids(ontological_order,major_structure_ids)\n",
    "#ontological_order_summary_majors_names = np.asarray([ia_map[ontological_order_summary_majors[i]] for i in range(len(ontological_order_summary_majors))])\n"
   ]
  },
  {
   "cell_type": "code",
   "execution_count": 35,
   "metadata": {},
   "outputs": [],
   "source": [
    "#oos_ic_major_names.shape"
   ]
  },
  {
   "cell_type": "code",
   "execution_count": 36,
   "metadata": {
    "collapsed": true
   },
   "outputs": [],
   "source": [
    "#np.save('/Users/samsonkoelle/alleninstitute/sambranch/mouse_connectivity_models/analyses/paper/getinfo/ontological_order_summary_majors_names_v3', ontological_order_summary_majors_names)\n",
    "np.save('/Users/samsonkoelle/alleninstitute/sambranch/mouse_connectivity_models/analyses/paper/getinfo/ool_ic_majors_names_v3_0610', ontological_order_ic_majors)\n",
    "np.save('/Users/samsonkoelle/alleninstitute/sambranch/mouse_connectivity_models/analyses/paper/getinfo/ool_i_majors_names_v3_0610', ontological_order_i_majors)"
   ]
  },
  {
   "cell_type": "code",
   "execution_count": null,
   "metadata": {
    "collapsed": true
   },
   "outputs": [],
   "source": [
    "np.save('/Users/samsonkoelle/alleninstitute/sambranch/mouse_connectivity_models/analyses/paper/getinfo/distances_leaf_leaf', distances)"
   ]
  }
 ],
 "metadata": {
  "kernelspec": {
   "display_name": "allen_010719_5",
   "language": "python",
   "name": "allen_010719_5"
  },
  "language_info": {
   "codemirror_mode": {
    "name": "ipython",
    "version": 3
   },
   "file_extension": ".py",
   "mimetype": "text/x-python",
   "name": "python",
   "nbconvert_exporter": "python",
   "pygments_lexer": "ipython3",
   "version": "3.7.6"
  }
 },
 "nbformat": 4,
 "nbformat_minor": 2
}

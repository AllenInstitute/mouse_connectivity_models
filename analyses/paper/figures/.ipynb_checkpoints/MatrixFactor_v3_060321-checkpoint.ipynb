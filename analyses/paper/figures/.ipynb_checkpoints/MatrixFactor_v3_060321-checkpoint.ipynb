{
 "cells": [
  {
   "cell_type": "code",
   "execution_count": 1,
   "metadata": {},
   "outputs": [
    {
     "name": "stderr",
     "output_type": "stream",
     "text": [
      "/Users/samsonkoelle/anaconda3/envs/allen_010719_5/lib/python3.7/site-packages/sklearn/utils/deprecation.py:144: FutureWarning: The sklearn.decomposition.cdnmf_fast module is  deprecated in version 0.22 and will be removed in version 0.24. The corresponding classes / functions should instead be imported from sklearn.decomposition. Anything that cannot be imported from sklearn.decomposition is now part of the private API.\n",
      "  warnings.warn(message, FutureWarning)\n"
     ]
    }
   ],
   "source": [
    "import pandas as pd\n",
    "import seaborn as sns\n",
    "import numpy as np\n",
    "import matplotlib.pyplot as plt\n",
    "import matplotlib as mpl\n",
    "from matplotlib.pyplot import gcf\n",
    "import numpy as np \n",
    "from einops import rearrange\n",
    "from sklearn import cluster"
   ]
  },
  {
   "cell_type": "code",
   "execution_count": 2,
   "metadata": {},
   "outputs": [
    {
     "name": "stderr",
     "output_type": "stream",
     "text": [
      "/Users/samsonkoelle/anaconda3/envs/allen_010719_5/lib/python3.7/site-packages/sklearn/utils/deprecation.py:144: FutureWarning: The sklearn.linear_model.base module is  deprecated in version 0.22 and will be removed in version 0.24. The corresponding classes / functions should instead be imported from sklearn.linear_model. Anything that cannot be imported from sklearn.linear_model is now part of the private API.\n",
      "  warnings.warn(message, FutureWarning)\n",
      "/Users/samsonkoelle/anaconda3/envs/allen_010719_5/lib/python3.7/site-packages/sklearn/utils/deprecation.py:144: FutureWarning: The sklearn.metrics.scorer module is  deprecated in version 0.22 and will be removed in version 0.24. The corresponding classes / functions should instead be imported from sklearn.metrics. Anything that cannot be imported from sklearn.metrics is now part of the private API.\n",
      "  warnings.warn(message, FutureWarning)\n"
     ]
    }
   ],
   "source": [
    "%load_ext autoreload\n",
    "%autoreload 2\n",
    "\n",
    "import os\n",
    "import numpy as np\n",
    "import pandas as pd \n",
    "import sys\n",
    "import pickle\n",
    "import itertools\n",
    "import seaborn as sns\n",
    "import matplotlib.pyplot as plt\n",
    "from mpl_toolkits.mplot3d import Axes3D\n",
    "import random\n",
    "from sklearn.metrics import pairwise_distances\n",
    "from sklearn.kernel_ridge import KernelRidge\n",
    "from sklearn.decomposition._nmf import NMF\n",
    "import math\n",
    "import seaborn as sns\n",
    "from matplotlib.patches import Rectangle\n",
    "\n",
    "workingdirectory = os.popen('git rev-parse --show-toplevel').read()[:-1]\n",
    "sys.path.append(workingdirectory)\n",
    "os.chdir(workingdirectory)\n",
    "\n",
    "import allensdk.core.json_utilities as ju\n",
    "from allensdk.core.mouse_connectivity_cache import MouseConnectivityCache\n",
    "\n",
    "from mcmodels.core import VoxelModelCache\n",
    "from mcmodels.core.utils import get_structure_id,get_ordered_summary_structures\n",
    "from mcmodels.core.connectivity_data import get_connectivity_data\n",
    "from mcmodels.models.voxel.crossvalidation import get_nwloocv_predictions_multimodel_merge_dists\n",
    "from mcmodels.utils import nonzero_unique \n",
    "from mcmodels.core.utils import get_leaves_ontologicalorder, get_indices, get_indices2,get_eval_indices,screen_index_matrices,screen_index_matrices2,screen_index_matrices3,get_indices_2ormore#get_cre_status,get_minorstructure_dictionary,get_leaves_ontologicalorder\n",
    "\n"
   ]
  },
  {
   "cell_type": "code",
   "execution_count": 3,
   "metadata": {},
   "outputs": [
    {
     "name": "stdout",
     "output_type": "stream",
     "text": [
      "annotation/ccf_2017\n"
     ]
    }
   ],
   "source": [
    "TOP_DIR = '/Users/samsonkoelle/alleninstitute/mcm_2020/mcm_updated/'\n",
    "INPUT_JSON = os.path.join(TOP_DIR, 'input_011520.json')\n",
    "EXPERIMENTS_EXCLUDE_JSON = os.path.join(TOP_DIR, 'experiments_exclude.json')\n",
    "FILE_DIR = '/Users/samsonkoelle/alleninstitute/mcm_2020/mcm_updated/'\n",
    "OUTPUT_DIR = os.path.join(FILE_DIR, 'output')\n",
    "\n",
    "input_data = ju.read(INPUT_JSON)\n",
    "manifest_file = input_data.get('manifest_file')\n",
    "manifest_file = os.path.join(TOP_DIR, manifest_file)\n",
    "experiments_exclude = ju.read(EXPERIMENTS_EXCLUDE_JSON)\n",
    "\n",
    "#its unclear why the hyperparameters are loaded from the output directory\n",
    "cache = VoxelModelCache(manifest_file=manifest_file)\n",
    "major_structures = input_data.get('structures')"
   ]
  },
  {
   "cell_type": "code",
   "execution_count": 7,
   "metadata": {},
   "outputs": [],
   "source": [
    "#load data\n",
    "def cv_nmf_missing(data, n_components,alpha=0.01, l1_ratio = 1.,p_holdout = .3):\n",
    "    \n",
    "    missings = np.asarray(np.where(np.isnan(data))).transpose()\n",
    "    presents = np.asarray(np.where(~np.isnan(data))).transpose()\n",
    "\n",
    "    M = np.where(np.random.rand(presents.shape[0]) > p_holdout)[0]\n",
    "    N = np.where(np.random.rand(presents.shape[0]) < p_holdout)[0]\n",
    "\n",
    "    nmf = NMF(n_components=n_components, alpha=alpha, l1_ratio=l1_ratio, solver='mu', init = 'random', max_iter=500)\n",
    "\n",
    "    data_tr = data.copy()\n",
    "    for i in range(len(M)):\n",
    "        data_tr[presents[M[i],0] ,presents[M[i],1]]  =np.nan\n",
    "\n",
    "    data_te = data.copy()\n",
    "    for i in range(len(N)):\n",
    "        data_te[presents[N[i],0] ,presents[N[i],1]]  =np.nan\n",
    "\n",
    "    nmf.fit(data_tr)\n",
    "\n",
    "    tr_nmf_embedding = nmf.transform(data_tr)\n",
    "    te_nmf_embedding = nmf.transform(data_te)\n",
    "\n",
    "    tr_nmf_recon = nmf.inverse_transform(tr_nmf_embedding)\n",
    "    te_nmf_recon = nmf.inverse_transform(te_nmf_embedding)\n",
    "    tr_err = np.nanmean((data_tr - tr_nmf_recon)**2)\n",
    "    te_err= np.nanmean((data_te - te_nmf_recon)**2)\n",
    "    \n",
    "    return(tr_err, te_err)\n",
    "\n",
    "def fix_pdcsv(csv):\n",
    "    \n",
    "    csv_rownames = np.asarray(csv.iloc[:,0])\n",
    "    csv = csv.iloc[:,1:]\n",
    "    csv.index = csv_rownames\n",
    "    return(csv)\n",
    "\n",
    "def fill_df_na(data, indices):\n",
    "    \n",
    "    for i in range(indices.shape[0]):\n",
    "        data.iloc[indices[i,0],indices[i,1]] = np.nan\n",
    "        \n",
    "    return(data)\n",
    "\n",
    "def get_colors(structures, palettes, alpha):\n",
    "    \n",
    "    strs_unique = np.unique(structures)\n",
    "    nstr = len(strs_unique)\n",
    "    cs = sns.color_palette(\"Spectral\", nstr)\n",
    "    \n",
    "    #print(np.asarray(cs).shape, np.expand_dims(np.ones(12),1).shape)\n",
    "    cs_alphas = np.hstack([np.asarray(cs), alpha*np.expand_dims(np.ones(12),1)])\n",
    "    color_str = {}\n",
    "    for i in range(nstr):\n",
    "        #print(i)\n",
    "        color_str[strs_unique[i]] = cs_alphas[i]\n",
    "    #print(color_str['CB'])\n",
    "    #print(color_str)\n",
    "    output = np.zeros((len(structures),4), dtype  =float)\n",
    "    for i in range(len(structures)):\n",
    "        #print(np.asarray(color_str[structures[i]]))\n",
    "        output[i] = np.asarray(color_str[structures[i]])\n",
    "        \n",
    "    return(output,color_str)\n",
    "\n",
    "wt_conn = pd.read_csv('/Users/samsonkoelle/alleninstitute/sambranch/mouse_connectivity_models/paper/connectivities/el_leafsurf_leafsmth_leafleaf_C57BL6J0428.csv',  header=[0,1])\n",
    "wt_conn = fix_pdcsv(wt_conn)\n",
    "#dists = pd.read_csv('/Users/samsonkoelle/alleninstitute/sambranch/mouse_connectivity_models/analyses/paper/getinfo/distances.csv',  header=[0,1])\n",
    "#dists = fix_pdcsv(dists)"
   ]
  },
  {
   "cell_type": "code",
   "execution_count": 9,
   "metadata": {},
   "outputs": [],
   "source": [
    "distances_leaf_leaf = np.load('/Users/samsonkoelle/alleninstitute/sambranch/mouse_connectivity_models/analyses/paper/getinfo/distances_leaf_leaf.npy')"
   ]
  },
  {
   "cell_type": "code",
   "execution_count": null,
   "metadata": {
    "collapsed": true
   },
   "outputs": [],
   "source": [
    "sns.heatmap(distances_leaf_leaf)"
   ]
  },
  {
   "cell_type": "code",
   "execution_count": null,
   "metadata": {
    "collapsed": true
   },
   "outputs": [],
   "source": [
    "wt_conn = wt_conn.loc[dists.index]\n",
    "wt_conn = wt_conn.loc[:,dists.columns]"
   ]
  }
 ],
 "metadata": {
  "kernelspec": {
   "display_name": "allen_010719_5",
   "language": "python",
   "name": "allen_010719_5"
  },
  "language_info": {
   "codemirror_mode": {
    "name": "ipython",
    "version": 3
   },
   "file_extension": ".py",
   "mimetype": "text/x-python",
   "name": "python",
   "nbconvert_exporter": "python",
   "pygments_lexer": "ipython3",
   "version": "3.7.6"
  }
 },
 "nbformat": 4,
 "nbformat_minor": 2
}

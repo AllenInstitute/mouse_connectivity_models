{
 "cells": [
  {
   "cell_type": "code",
   "execution_count": 1,
   "metadata": {},
   "outputs": [
    {
     "name": "stderr",
     "output_type": "stream",
     "text": [
      "/Users/samsonkoelle/anaconda3/envs/allen_010719_5/lib/python3.7/site-packages/sklearn/utils/deprecation.py:144: FutureWarning: The sklearn.linear_model.base module is  deprecated in version 0.22 and will be removed in version 0.24. The corresponding classes / functions should instead be imported from sklearn.linear_model. Anything that cannot be imported from sklearn.linear_model is now part of the private API.\n",
      "  warnings.warn(message, FutureWarning)\n",
      "/Users/samsonkoelle/anaconda3/envs/allen_010719_5/lib/python3.7/site-packages/sklearn/utils/deprecation.py:144: FutureWarning: The sklearn.metrics.scorer module is  deprecated in version 0.22 and will be removed in version 0.24. The corresponding classes / functions should instead be imported from sklearn.metrics. Anything that cannot be imported from sklearn.metrics is now part of the private API.\n",
      "  warnings.warn(message, FutureWarning)\n"
     ]
    }
   ],
   "source": [
    "%load_ext autoreload\n",
    "%autoreload 2\n",
    "\n",
    "import os\n",
    "import numpy as np\n",
    "import pandas as pd \n",
    "import sys\n",
    "#import pickle\n",
    "import itertools\n",
    "import seaborn as sns\n",
    "import matplotlib.pyplot as plt\n",
    "from mpl_toolkits.mplot3d import Axes3D\n",
    "import random\n",
    "from sklearn.metrics import pairwise_distances\n",
    "from sklearn.kernel_ridge import KernelRidge\n",
    "import math\n",
    "import dill as pickle\n",
    "\n",
    "workingdirectory = os.popen('git rev-parse --show-toplevel').read()[:-1]\n",
    "sys.path.append(workingdirectory)\n",
    "os.chdir(workingdirectory)\n",
    "\n",
    "import allensdk.core.json_utilities as ju\n",
    "from allensdk.core.mouse_connectivity_cache import MouseConnectivityCache\n",
    "\n",
    "from mcmodels.utils import get_aligned_ids\n",
    "from mcmodels.core import VoxelModelCache\n",
    "from mcmodels.connectivity.creation import get_connectivity_matrices3\n",
    "from mcmodels.core.connectivity_data import get_connectivity_data\n",
    "#from mcmodels.models.voxel.crossvalidation import get_nwloocv_predictions_multimodel_merge_dists\n",
    "from mcmodels.utils import nonzero_unique\n",
    "from mcmodels.core.utils import get_structure_id,get_ordered_summary_structures, get_leaves_ontologicalorder, get_indices_2ormore, get_indices, get_indices2,get_eval_indices,screen_index_matrices,screen_index_matrices2,screen_index_matrices3\n",
    "from mcmodels.regressors import NadarayaWatson\n",
    "from mcmodels.core.plotting import plot_loss_surface,plot_loss_scatter\n",
    "from mcmodels.models.expectedloss.crossvalidation import get_loss_surface_cv_spline\n",
    "from mcmodels.models.expectedloss.crossvalidation import get_embedding_cv\n",
    "from mcmodels.models.crossvalidation import get_best_hyperparameters,get_loss_best_hyp,get_loss, Crossval\n",
    "from mcmodels.models.voxel.crossvalidation import get_nwloocv_predictions_multimodel_merge_dists\n",
    "\n",
    "def get_row_col_names(connectivity_data, target_ordering):\n",
    "    \n",
    "    rnames = np.asarray([ia_map[target_ordering[i]] for i in range(len(target_ordering))])\n",
    "    ipsi_target_regions = connectivity_data.ipsi_target_regions\n",
    "    contra_target_regions = connectivity_data.contra_target_regions                               \n",
    "    ipsi_indices= np.asarray([])\n",
    "    contra_indices = np.asarray([])\n",
    "    for iy in target_ordering: \n",
    "        ipsi_indices = np.concatenate([ipsi_indices, np.where(ipsi_target_regions==iy)[0]] )\n",
    "        contra_indices = np.concatenate([contra_indices, np.where(contra_target_regions==iy)[0]] )\n",
    "    ipsi_indices = np.asarray(ipsi_indices, dtype = int)   \n",
    "    contra_indices = np.asarray(contra_indices, dtype = int)    \n",
    "    reorder = np.concatenate([ipsi_indices, len(ipsi_indices) + contra_indices])  \n",
    "    colids = np.concatenate([ipsi_target_regions, contra_target_regions])[reorder]\n",
    "    cnames = np.asarray([ia_map[colids[i]] for i in range(len(colids))])\n",
    "    ccomb = np.vstack([np.concatenate([np.repeat('ipsi',connectivity_data.ipsi_target_regions.shape[0]),\n",
    "                                       np.repeat('contra',connectivity_data.contra_target_regions.shape)]), cnames])\n",
    "    ccomb = np.asarray(ccomb)\n",
    "    tuples2 = list(zip(*ccomb))\n",
    "    cnam_multi = pd.MultiIndex.from_tuples(tuples2, names=['first', 'second'])\n",
    "    return(cnam_multi, rnames)"
   ]
  },
  {
   "cell_type": "code",
   "execution_count": 2,
   "metadata": {},
   "outputs": [
    {
     "name": "stdout",
     "output_type": "stream",
     "text": [
      "annotation/ccf_2017\n",
      "512\n",
      "703\n",
      "1089\n",
      "1097\n",
      "315\n",
      "313\n",
      "354\n",
      "698\n",
      "771\n",
      "803\n",
      "477\n",
      "549\n"
     ]
    },
    {
     "name": "stderr",
     "output_type": "stream",
     "text": [
      "/Users/samsonkoelle/alleninstitute/sambranch/mouse_connectivity_models/mcmodels/core/connectivity_data.py:225: RuntimeWarning: divide by zero encountered in true_divide\n",
      "  np.sum(reg_inj_vcount_norm, axis=1), 1)\n",
      "/Users/samsonkoelle/alleninstitute/sambranch/mouse_connectivity_models/mcmodels/core/connectivity_data.py:225: RuntimeWarning: invalid value encountered in true_divide\n",
      "  np.sum(reg_inj_vcount_norm, axis=1), 1)\n",
      "/Users/samsonkoelle/alleninstitute/sambranch/mouse_connectivity_models/mcmodels/core/connectivity_data.py:229: RuntimeWarning: divide by zero encountered in true_divide\n",
      "  np.sum(reg_ipsi_inj, axis=1), 1)\n",
      "/Users/samsonkoelle/alleninstitute/sambranch/mouse_connectivity_models/mcmodels/core/connectivity_data.py:229: RuntimeWarning: invalid value encountered in true_divide\n",
      "  np.sum(reg_ipsi_inj, axis=1), 1)\n"
     ]
    }
   ],
   "source": [
    "#read data\n",
    "TOP_DIR = '/Users/samsonkoelle/alleninstitute/mcm_2020/mcm_updated/'\n",
    "INPUT_JSON = os.path.join(TOP_DIR, 'input_011520.json')\n",
    "EXPERIMENTS_EXCLUDE_JSON = os.path.join(TOP_DIR, 'experiments_exclude.json')\n",
    "input_data = ju.read(INPUT_JSON)\n",
    "experiments_exclude = ju.read(EXPERIMENTS_EXCLUDE_JSON)\n",
    "manifest_file = input_data.get('manifest_file')\n",
    "manifest_file = os.path.join(TOP_DIR, manifest_file)\n",
    "cache = VoxelModelCache(manifest_file=manifest_file)\n",
    "st = cache.get_structure_tree()\n",
    "ai_map = st.get_id_acronym_map()\n",
    "ia_map = {value: key for key, value in ai_map.items()}\n",
    "major_structures = np.load('/Users/samsonkoelle/alleninstitute/sambranch/mouse_connectivity_models/paper/info/major_structures.npy')\n",
    "major_structure_ids = np.load('/Users/samsonkoelle/alleninstitute/sambranch/mouse_connectivity_models/paper/info/major_structure_ids.npy')\n",
    "data_info = pd.read_excel('/Users/samsonkoelle/alleninstitute/Whole Brain Cre Image Series_curation only.xlsx', 'all datasets curated_070919pull')\n",
    "data_info.set_index(\"id\", inplace=True)\n",
    "with open('data/info/leafs.pickle', 'rb') as handle:\n",
    "    leafs = pickle.load(handle)\n",
    "ontological_order_leaves = np.load('/Users/samsonkoelle/alleninstitute/sambranch/mouse_connectivity_models/paper/info/ontological_order_leaves_v3.npy')\n",
    "\n",
    "\n",
    "ontological_order = np.load('/Users/samsonkoelle/alleninstitute/sambranch/mouse_connectivity_models/paper/info/ontological_order_v3.npy')\n",
    "ontological_order_leaves_majors = get_aligned_ids(st,ontological_order_leaves,major_structure_ids)\n",
    "ontological_order_leaves_summary = get_aligned_ids(st,ontological_order_leaves,ontological_order)\n",
    "\n",
    "connectivity_data = get_connectivity_data(cache, major_structure_ids, experiments_exclude, remove_injection = False, structure_set_id=167587189)\n",
    "connectivity_data.get_injection_hemisphere_ids()\n",
    "connectivity_data.align()\n",
    "connectivity_data.get_centroids()\n",
    "connectivity_data.get_data_matrices(major_structure_ids)\n",
    "\n",
    "connectivity_data.ai_map = ai_map\n",
    "connectivity_data.get_crelines(data_info)\n",
    "connectivity_data.get_summarystructures(data_info)\n",
    "connectivity_data.summary_structures = {sid: connectivity_data.structure_datas[sid].summary_structures for sid in major_structure_ids}#get_indices_2ormore(connectivity_data.leafs)\n",
    "connectivity_data.leafs = leafs\n",
    "\n",
    "sid0 = list(connectivity_data.structure_datas.keys())[0]\n",
    "#Identify keys denoting which voxels correspond to which structure in the ipsi and contra targets.\n",
    "targ_ord = ontological_order_leaves\n",
    "source_ord = ontological_order_leaves\n",
    "contra_targetkey = connectivity_data.structure_datas[sid0].projection_mask.get_key(structure_ids=targ_ord, hemisphere_id=1)\n",
    "#ontological_order = np.load('/Users/samsonkoelle/alleninstitute/sambranch/mouse_connectivity_models/paper/info/ontological_order_v3.npy')\n",
    "ipsi_targetkey = connectivity_data.structure_datas[sid0].projection_mask.get_key(structure_ids=targ_ord, hemisphere_id=2)\n",
    "connectivity_data.get_regionalized_normalized_data(source_ord, ipsi_targetkey, contra_targetkey)\n",
    "summary_structures = {sid: connectivity_data.structure_datas[sid].summary_structures for sid in major_structure_ids}#get_indices_2ormore(connectivity_data.leafs)"
   ]
  },
  {
   "cell_type": "code",
   "execution_count": 6,
   "metadata": {
    "collapsed": true
   },
   "outputs": [],
   "source": [
    "#el_leafsurf_leafsmth_v3_leafleaf_\n",
    "\n",
    "experiment_sids_surfaces = leafs\n",
    "experiment_sids_nws = leafs\n",
    "model_ordering = ontological_order_leaves_majors\n",
    "source_ordering_surface = ontological_order_leaves\n",
    "source_ordering_nw = ontological_order_leaves\n",
    "source_ordering = ontological_order_leaves\n",
    "target_ordering = ontological_order_leaves\n",
    "for sid in major_structure_ids:\n",
    "    connectivity_data.structure_datas[sid].crelines = connectivity_data.creline[sid]\n",
    "    \n",
    "with open('/Users/samsonkoelle/alleninstitute/sambranch/mouse_connectivity_models/paper/trainedmodels/ELleaf_surface_0427_leafleaf2.pickle', 'rb') as handle:\n",
    "    surfaces = pickle.load(handle)\n",
    " \n",
    "# source_reg = np.asarray(['MOp2/3', 'MOp5', 'MOp6a','MOs2/3', 'MOs5', 'MOs6a' ])\n",
    "eval_cre_list = ['C57BL/6J', 'Cux2-IRES-Cre','Ntsr1-Cre_GN220','Rbp4-Cre_KL100','Tlx3-Cre_PL56']\n",
    "cnam_multi, rnames = get_row_col_names(connectivity_data, ontological_order_leaves)\n",
    "eval_cre_names = ['C57BL6J', 'Cux2-IRES-Cre','Ntsr1-Cre_GN220','Rbp4-Cre_KL100','Tlx3-Cre_PL56']\n"
   ]
  },
  {
   "cell_type": "code",
   "execution_count": 7,
   "metadata": {},
   "outputs": [
    {
     "name": "stdout",
     "output_type": "stream",
     "text": [
      "0 C57BL/6J\n",
      "0 593.0\n",
      "1 821.0\n",
      "2 721.0\n",
      "3 778.0\n",
      "4 33.0\n",
      "5 305.0\n",
      "1 Cux2-IRES-Cre\n",
      "0 593.0\n",
      "1 821.0\n",
      "2 721.0\n",
      "3 778.0\n",
      "4 33.0\n",
      "5 305.0\n",
      "2 Ntsr1-Cre_GN220\n",
      "0 593.0\n",
      "1 821.0\n",
      "2 721.0\n",
      "3 778.0\n",
      "4 33.0\n",
      "5 305.0\n",
      "3 Rbp4-Cre_KL100\n",
      "0 593.0\n",
      "1 821.0\n",
      "2 721.0\n",
      "3 778.0\n",
      "4 33.0\n",
      "5 305.0\n",
      "4 Tlx3-Cre_PL56\n",
      "0 593.0\n",
      "1 821.0\n",
      "2 721.0\n",
      "3 778.0\n",
      "4 33.0\n",
      "5 305.0\n"
     ]
    }
   ],
   "source": [
    "for c in range(len(eval_cre_list)):\n",
    "    print(c, eval_cre_list[c])\n",
    "    conn_v3 = get_connectivity_matrices3(connectivity_data, surfaces, experiment_sids_surfaces,experiment_sids_nws, model_ordering, source_ordering_surface[117:123], source_ordering_nw[117:123], source_ordering[117:123], target_ordering, [eval_cre_list[c]])\n",
    "    connectivity_matrices = pd.DataFrame(conn_v3[0], columns = cnam_multi, index=rnames[117:123])\n",
    "    connectivity_matrices.to_csv('/Users/samsonkoelle/alleninstitute/sambranch/mouse_connectivity_models/paper/connectivities/el_leafsurf_leafsmth_leafleaf_' + str(eval_cre_names[c]) + '0428_visp.csv')\n",
    "    \n",
    "    \n",
    "    "
   ]
  },
  {
   "cell_type": "code",
   "execution_count": 10,
   "metadata": {},
   "outputs": [
    {
     "name": "stdout",
     "output_type": "stream",
     "text": [
      "0 C57BL/6J\n",
      "0 320.0\n",
      "1 943.0\n",
      "2 648.0\n",
      "3 844.0\n",
      "4 882.0\n",
      "5 656.0\n",
      "6 962.0\n",
      "7 767.0\n",
      "8 1021.0\n",
      "9 1085.0\n",
      "1 Cux2-IRES-Cre\n",
      "0 320.0\n",
      "1 943.0\n",
      "2 648.0\n",
      "3 844.0\n",
      "4 882.0\n",
      "5 656.0\n",
      "6 962.0\n",
      "7 767.0\n",
      "8 1021.0\n",
      "9 1085.0\n",
      "2 Ntsr1-Cre_GN220\n",
      "0 320.0\n",
      "1 943.0\n",
      "2 648.0\n",
      "3 844.0\n",
      "4 882.0\n",
      "5 656.0\n",
      "6 962.0\n",
      "7 767.0\n",
      "8 1021.0\n",
      "9 1085.0\n",
      "3 Rbp4-Cre_KL100\n",
      "0 320.0\n",
      "1 943.0\n",
      "2 648.0\n",
      "3 844.0\n",
      "4 882.0\n",
      "5 656.0\n",
      "6 962.0\n",
      "7 767.0\n",
      "8 1021.0\n",
      "9 1085.0\n",
      "4 Tlx3-Cre_PL56\n",
      "0 320.0\n",
      "1 943.0\n",
      "2 648.0\n",
      "3 844.0\n",
      "4 882.0\n",
      "5 656.0\n",
      "6 962.0\n",
      "7 767.0\n",
      "8 1021.0\n",
      "9 1085.0\n"
     ]
    }
   ],
   "source": [
    "for c in range(len(eval_cre_list)):\n",
    "    print(c, eval_cre_list[c])\n",
    "    conn_v3 = get_connectivity_matrices3(connectivity_data, surfaces, experiment_sids_surfaces,experiment_sids_nws, model_ordering, source_ordering_surface[5:15], source_ordering_nw[5:15], source_ordering[5:15], target_ordering, [eval_cre_list[c]])\n",
    "    connectivity_matrices = pd.DataFrame(conn_v3[0], columns = cnam_multi, index=rnames[5:15])\n",
    "    connectivity_matrices.to_csv('/Users/samsonkoelle/alleninstitute/sambranch/mouse_connectivity_models/paper/connectivities/el_leafsurf_leafsmth_leafleaf_' + str(eval_cre_names[c]) + '0428_mo.csv')\n",
    "    \n",
    "    \n",
    "       "
   ]
  },
  {
   "cell_type": "code",
   "execution_count": 11,
   "metadata": {},
   "outputs": [
    {
     "data": {
      "text/plain": [
       "'/Users/samsonkoelle/alleninstitute/sambranch/mouse_connectivity_models'"
      ]
     },
     "execution_count": 11,
     "metadata": {},
     "output_type": "execute_result"
    }
   ],
   "source": [
    "workingdirectory"
   ]
  },
  {
   "cell_type": "code",
   "execution_count": 12,
   "metadata": {},
   "outputs": [
    {
     "data": {
      "text/plain": [
       "'/Users/samsonkoelle/alleninstitute/mcm_2020/mcm_updated/new_manifest.json'"
      ]
     },
     "execution_count": 12,
     "metadata": {},
     "output_type": "execute_result"
    }
   ],
   "source": [
    "manifest_file"
   ]
  },
  {
   "cell_type": "code",
   "execution_count": null,
   "metadata": {
    "collapsed": true
   },
   "outputs": [],
   "source": []
  }
 ],
 "metadata": {
  "kernelspec": {
   "display_name": "allen_010719_5",
   "language": "python",
   "name": "allen_010719_5"
  },
  "language_info": {
   "codemirror_mode": {
    "name": "ipython",
    "version": 3
   },
   "file_extension": ".py",
   "mimetype": "text/x-python",
   "name": "python",
   "nbconvert_exporter": "python",
   "pygments_lexer": "ipython3",
   "version": "3.7.6"
  }
 },
 "nbformat": 4,
 "nbformat_minor": 2
}

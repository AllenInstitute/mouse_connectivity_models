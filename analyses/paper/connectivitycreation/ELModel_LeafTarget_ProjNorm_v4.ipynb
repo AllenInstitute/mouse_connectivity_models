{
 "cells": [
  {
   "cell_type": "code",
   "execution_count": 1,
   "metadata": {},
   "outputs": [
    {
     "name": "stderr",
     "output_type": "stream",
     "text": [
      "/Users/samsonkoelle/anaconda3/envs/allen_010719_5/lib/python3.7/site-packages/sklearn/utils/deprecation.py:144: FutureWarning: The sklearn.linear_model.base module is  deprecated in version 0.22 and will be removed in version 0.24. The corresponding classes / functions should instead be imported from sklearn.linear_model. Anything that cannot be imported from sklearn.linear_model is now part of the private API.\n",
      "  warnings.warn(message, FutureWarning)\n",
      "/Users/samsonkoelle/anaconda3/envs/allen_010719_5/lib/python3.7/site-packages/sklearn/utils/deprecation.py:144: FutureWarning: The sklearn.metrics.scorer module is  deprecated in version 0.22 and will be removed in version 0.24. The corresponding classes / functions should instead be imported from sklearn.metrics. Anything that cannot be imported from sklearn.metrics is now part of the private API.\n",
      "  warnings.warn(message, FutureWarning)\n"
     ]
    }
   ],
   "source": [
    "%load_ext autoreload\n",
    "%autoreload 2\n",
    "\n",
    "import os\n",
    "import numpy as np\n",
    "import pandas as pd \n",
    "import sys\n",
    "#import pickle\n",
    "import itertools\n",
    "import seaborn as sns\n",
    "import matplotlib.pyplot as plt\n",
    "from mpl_toolkits.mplot3d import Axes3D\n",
    "import random\n",
    "from sklearn.metrics import pairwise_distances\n",
    "from sklearn.kernel_ridge import KernelRidge\n",
    "import math\n",
    "import dill as pickle\n",
    "\n",
    "workingdirectory = os.popen('git rev-parse --show-toplevel').read()[:-1]\n",
    "sys.path.append(workingdirectory)\n",
    "os.chdir(workingdirectory)\n",
    "\n",
    "import allensdk.core.json_utilities as ju\n",
    "from allensdk.core.mouse_connectivity_cache import MouseConnectivityCache\n",
    "\n",
    "from mcmodels.utils import get_aligned_ids\n",
    "from mcmodels.core import VoxelModelCache\n",
    "from mcmodels.connectivity.creation import get_connectivity_matrices3\n",
    "from mcmodels.core.connectivity_data import get_connectivity_data\n",
    "#from mcmodels.models.voxel.crossvalidation import get_nwloocv_predictions_multimodel_merge_dists\n",
    "from mcmodels.utils import nonzero_unique\n",
    "from mcmodels.core.utils import get_structure_id,get_ordered_summary_structures, get_leaves_ontologicalorder, get_indices_2ormore, get_indices, get_indices2,get_eval_indices,screen_index_matrices,screen_index_matrices2,screen_index_matrices3\n",
    "from mcmodels.regressors import NadarayaWatson\n",
    "from mcmodels.core.plotting import plot_loss_surface,plot_loss_scatter\n",
    "from mcmodels.models.expectedloss.crossvalidation import get_loss_surface_cv_spline\n",
    "from mcmodels.models.expectedloss.crossvalidation import get_embedding_cv\n",
    "from mcmodels.models.crossvalidation import get_best_hyperparameters,get_loss_best_hyp,get_loss, Crossval\n",
    "from mcmodels.models.voxel.crossvalidation import get_nwloocv_predictions_multimodel_merge_dists\n",
    "\n",
    "def get_row_col_names(connectivity_data, target_ordering):\n",
    "    \n",
    "    rnames = np.asarray([ia_map[target_ordering[i]] for i in range(len(target_ordering))])\n",
    "    ipsi_target_regions = connectivity_data.ipsi_target_regions\n",
    "    contra_target_regions = connectivity_data.contra_target_regions                               \n",
    "    ipsi_indices= np.asarray([])\n",
    "    contra_indices = np.asarray([])\n",
    "    for iy in target_ordering: \n",
    "        ipsi_indices = np.concatenate([ipsi_indices, np.where(ipsi_target_regions==iy)[0]] )\n",
    "        contra_indices = np.concatenate([contra_indices, np.where(contra_target_regions==iy)[0]] )\n",
    "    ipsi_indices = np.asarray(ipsi_indices, dtype = int)   \n",
    "    contra_indices = np.asarray(contra_indices, dtype = int)    \n",
    "    reorder = np.concatenate([ipsi_indices, len(ipsi_indices) + contra_indices])  \n",
    "    colids = np.concatenate([ipsi_target_regions, contra_target_regions])[reorder]\n",
    "    cnames = np.asarray([ia_map[colids[i]] for i in range(len(colids))])\n",
    "    ccomb = np.vstack([np.concatenate([np.repeat('ipsi',connectivity_data.ipsi_target_regions.shape[0]),\n",
    "                                       np.repeat('contra',connectivity_data.contra_target_regions.shape)]), cnames])\n",
    "    ccomb = np.asarray(ccomb)\n",
    "    tuples2 = list(zip(*ccomb))\n",
    "    cnam_multi = pd.MultiIndex.from_tuples(tuples2, names=['first', 'second'])\n",
    "    return(cnam_multi, rnames)"
   ]
  },
  {
   "cell_type": "code",
   "execution_count": 2,
   "metadata": {},
   "outputs": [
    {
     "name": "stdout",
     "output_type": "stream",
     "text": [
      "annotation/ccf_2017\n"
     ]
    }
   ],
   "source": [
    "#read data\n",
    "TOP_DIR = '/Users/samsonkoelle/alleninstitute/mcm_2020/mcm_updated/'\n",
    "INPUT_JSON = os.path.join(TOP_DIR, 'input_011520.json')\n",
    "EXPERIMENTS_EXCLUDE_JSON = os.path.join(TOP_DIR, 'experiments_exclude.json')\n",
    "input_data = ju.read(INPUT_JSON)\n",
    "experiments_exclude = ju.read(EXPERIMENTS_EXCLUDE_JSON)\n",
    "manifest_file = input_data.get('manifest_file')\n",
    "manifest_file = os.path.join(TOP_DIR, manifest_file)\n",
    "cache = VoxelModelCache(manifest_file=manifest_file)\n",
    "st = cache.get_structure_tree()\n",
    "ai_map = st.get_id_acronym_map()\n",
    "ia_map = {value: key for key, value in ai_map.items()}\n",
    "major_structures = np.load('/Users/samsonkoelle/alleninstitute/sambranch/mouse_connectivity_models/paper/info/major_structures.npy')\n",
    "major_structure_ids = np.load('/Users/samsonkoelle/alleninstitute/sambranch/mouse_connectivity_models/paper/info/major_structure_ids.npy')\n",
    "data_info = pd.read_excel('/Users/samsonkoelle/alleninstitute/Whole Brain Cre Image Series_curation only.xlsx', 'all datasets curated_070919pull')\n",
    "data_info.set_index(\"id\", inplace=True)\n",
    "with open('data/info/leafs.pickle', 'rb') as handle:\n",
    "    leafs = pickle.load(handle)\n",
    "ontological_order_leaves = np.load('/Users/samsonkoelle/alleninstitute/sambranch/mouse_connectivity_models/paper/info/ontological_order_leaves_v3.npy')\n",
    "\n",
    "\n",
    "ontological_order = np.load('/Users/samsonkoelle/alleninstitute/sambranch/mouse_connectivity_models/paper/info/ontological_order_v3.npy')\n",
    "ontological_order_leaves_majors = get_aligned_ids(st,ontological_order_leaves,major_structure_ids)\n",
    "ontological_order_leaves_summary = get_aligned_ids(st,ontological_order_leaves,ontological_order)"
   ]
  },
  {
   "cell_type": "code",
   "execution_count": 3,
   "metadata": {},
   "outputs": [
    {
     "name": "stdout",
     "output_type": "stream",
     "text": [
      "512\n",
      "703\n",
      "1089\n",
      "1097\n",
      "315\n",
      "313\n",
      "354\n",
      "698\n",
      "771\n",
      "803\n",
      "477\n",
      "549\n"
     ]
    },
    {
     "name": "stderr",
     "output_type": "stream",
     "text": [
      "/Users/samsonkoelle/alleninstitute/sambranch/mouse_connectivity_models/mcmodels/core/connectivity_data.py:225: RuntimeWarning: divide by zero encountered in true_divide\n",
      "  np.sum(reg_inj_vcount_norm, axis=1), 1)\n",
      "/Users/samsonkoelle/alleninstitute/sambranch/mouse_connectivity_models/mcmodels/core/connectivity_data.py:225: RuntimeWarning: invalid value encountered in true_divide\n",
      "  np.sum(reg_inj_vcount_norm, axis=1), 1)\n",
      "/Users/samsonkoelle/alleninstitute/sambranch/mouse_connectivity_models/mcmodels/core/connectivity_data.py:229: RuntimeWarning: divide by zero encountered in true_divide\n",
      "  np.sum(reg_ipsi_inj, axis=1), 1)\n",
      "/Users/samsonkoelle/alleninstitute/sambranch/mouse_connectivity_models/mcmodels/core/connectivity_data.py:229: RuntimeWarning: invalid value encountered in true_divide\n",
      "  np.sum(reg_ipsi_inj, axis=1), 1)\n"
     ]
    }
   ],
   "source": [
    "connectivity_data = get_connectivity_data(cache, major_structure_ids, experiments_exclude, remove_injection = False, structure_set_id=167587189)\n",
    "connectivity_data.get_injection_hemisphere_ids()\n",
    "connectivity_data.align()\n",
    "connectivity_data.get_centroids()\n",
    "connectivity_data.get_data_matrices(major_structure_ids)\n",
    "\n",
    "connectivity_data.ai_map = ai_map\n",
    "connectivity_data.get_crelines(data_info)\n",
    "connectivity_data.get_summarystructures(data_info)\n",
    "connectivity_data.summary_structures = {sid: connectivity_data.structure_datas[sid].summary_structures for sid in major_structure_ids}#get_indices_2ormore(connectivity_data.leafs)\n",
    "connectivity_data.leafs = leafs\n",
    "\n",
    "sid0 = list(connectivity_data.structure_datas.keys())[0]\n",
    "#Identify keys denoting which voxels correspond to which structure in the ipsi and contra targets.\n",
    "targ_ord = ontological_order_leaves\n",
    "source_ord = ontological_order_leaves\n",
    "contra_targetkey = connectivity_data.structure_datas[sid0].projection_mask.get_key(structure_ids=targ_ord, hemisphere_id=1)\n",
    "#ontological_order = np.load('/Users/samsonkoelle/alleninstitute/sambranch/mouse_connectivity_models/paper/info/ontological_order_v3.npy')\n",
    "ipsi_targetkey = connectivity_data.structure_datas[sid0].projection_mask.get_key(structure_ids=targ_ord, hemisphere_id=2)\n",
    "connectivity_data.get_regionalized_normalized_data(source_ord, ipsi_targetkey, contra_targetkey)\n",
    "summary_structures = {sid: connectivity_data.structure_datas[sid].summary_structures for sid in major_structure_ids}#get_indices_2ormore(connectivity_data.leafs)"
   ]
  },
  {
   "cell_type": "code",
   "execution_count": 5,
   "metadata": {
    "collapsed": true
   },
   "outputs": [],
   "source": [
    "#el_leafsurf_leafsmth_v3_leafleaf_\n",
    "\n",
    "experiment_sids_surfaces = leafs\n",
    "experiment_sids_nws = leafs\n",
    "model_ordering = ontological_order_leaves_majors[5:15]#[:5]#\n",
    "source_ordering_surface = ontological_order_leaves[5:15]#[:5]#\n",
    "source_ordering_nw = ontological_order_leaves[5:15]#[:5]#\n",
    "source_ordering = ontological_order_leaves[5:15]#[:5]#\n",
    "target_ordering = ontological_order_leaves\n",
    "for sid in major_structure_ids:\n",
    "    connectivity_data.structure_datas[sid].crelines = connectivity_data.creline[sid]\n",
    "    \n",
    "with open('/Users/samsonkoelle/alleninstitute/sambranch/mouse_connectivity_models/paper/trainedmodels/ELleaf_surface_0427_leafleaf.pickle', 'rb') as handle:\n",
    "    surfaces = pickle.load(handle)\n",
    " \n",
    "# for c in range(len(eval_cre_list)):\n",
    "#     print(c, eval_cre_list[c])\n",
    "#     conn_v3 = get_connectivity_matrices3(connectivity_data, surfaces, experiment_sids_surfaces,experiment_sids_nws, model_ordering, source_ordering_surface, source_ordering_nw, source_ordering, target_ordering, [eval_cre_list[c]])\n",
    "#     connectivity_matrices = pd.DataFrame(conn_v3[0], columns = cnam_multi, index=rnames[117:123])\n",
    "#     connectivity_matrices.to_csv('/Users/samsonkoelle/alleninstitute/sambranch/mouse_connectivity_models/paper/connectivities/el_sumsurf_leafsmth_v3_leafleaf_' + str(eval_cre_list_name[c]) + '0422_visp.csv')"
   ]
  },
  {
   "cell_type": "code",
   "execution_count": 8,
   "metadata": {
    "collapsed": true
   },
   "outputs": [],
   "source": [
    "source_reg = np.asarray(['MOp2/3', 'MOp5', 'MOp6a','MOs2/3', 'MOs5', 'MOs6a' ])\n",
    "eval_cre_list = ['C57BL/6J', 'Cux2-IRES-Cre','Ntsr1-Cre_GN220','Rbp4-Cre_KL100','Tlx3-Cre_PL56']"
   ]
  },
  {
   "cell_type": "code",
   "execution_count": 20,
   "metadata": {},
   "outputs": [
    {
     "data": {
      "text/plain": [
       "767"
      ]
     },
     "execution_count": 20,
     "metadata": {},
     "output_type": "execute_result"
    }
   ],
   "source": []
  },
  {
   "cell_type": "code",
   "execution_count": 9,
   "metadata": {},
   "outputs": [
    {
     "name": "stdout",
     "output_type": "stream",
     "text": [
      "0 320.0\n",
      "1 943.0\n",
      "2 648.0\n",
      "3 844.0\n",
      "4 882.0\n",
      "5 656.0\n",
      "6 962.0\n",
      "7 767.0\n",
      "8 1021.0\n",
      "9 1085.0\n",
      "0 320.0\n",
      "1 943.0\n",
      "2 648.0\n",
      "3 844.0\n",
      "4 882.0\n",
      "5 656.0\n",
      "6 962.0\n",
      "7 767.0\n",
      "8 1021.0\n",
      "9 1085.0\n"
     ]
    }
   ],
   "source": [
    "c = 2\n",
    "cnam_multi, rnames = get_row_col_names(connectivity_data, ontological_order_leaves)\n",
    "conn_v3 = get_connectivity_matrices3(connectivity_data, surfaces, experiment_sids_surfaces,experiment_sids_nws, model_ordering, source_ordering_surface, source_ordering_nw, source_ordering, target_ordering, [eval_cre_list[c]])\n",
    "connectivity_matrices_mo = pd.DataFrame(conn_v3[0], columns = cnam_multi, index=rnames[5:15])\n",
    "#connectivity_matrices.to_csv('/Users/samsonkoelle/alleninstitute/sambranch/mouse_connectivity_models/paper/connectivities/el_leafsurf_leafsmth_v3_leafleaf_' + str(eval_cre_list_name[c]) + '0422_visp.csv')\n",
    "\n",
    "c = 3\n",
    "conn_v3 = get_connectivity_matrices3(connectivity_data, surfaces, experiment_sids_surfaces,experiment_sids_nws, model_ordering, source_ordering_surface, source_ordering_nw, source_ordering, target_ordering, [eval_cre_list[c]])\n",
    "connectivity_matrices3_mo = pd.DataFrame(conn_v3[0], columns = cnam_multi, index=rnames[5:15])\n"
   ]
  },
  {
   "cell_type": "code",
   "execution_count": 12,
   "metadata": {},
   "outputs": [
    {
     "data": {
      "text/plain": [
       "<matplotlib.axes._subplots.AxesSubplot at 0xb2c114710>"
      ]
     },
     "execution_count": 12,
     "metadata": {},
     "output_type": "execute_result"
    },
    {
     "data": {
      "image/png": "[encoded data removed]",
      "text/plain": [
       "<Figure size 1080x1080 with 2 Axes>"
      ]
     },
     "metadata": {
      "needs_background": "light"
     },
     "output_type": "display_data"
    }
   ],
   "source": [
    "fig , ax = plt.subplots(figsize = (15,15))\n",
    "sns.heatmap(connectivity_matrices3_mo.loc[:,targ_reg], ax= ax, vmax= .001)"
   ]
  },
  {
   "cell_type": "code",
   "execution_count": 11,
   "metadata": {
    "collapsed": true
   },
   "outputs": [],
   "source": [
    "targ_reg = [('ipsi',      'AId1'),\n",
    "('ipsi',    'AId2/3'),\n",
    "('ipsi',      'AId5'),\n",
    "('ipsi',     'AId6a'),\n",
    "('ipsi',      'AIv1'),\n",
    "('ipsi',    'AIv2/3'),\n",
    "('ipsi',      'AIv5'),\n",
    "('ipsi',     'AIv6a'),\n",
    "('ipsi',     'AIv6b'),\n",
    "('ipsi',    'ORBvl1'),\n",
    "('ipsi',  'ORBvl2/3'),\n",
    "('ipsi',    'ORBvl5'),\n",
    "('ipsi',   'ORBvl6a'),\n",
    "('ipsi',   'ORBvl6b'),\n",
    "('ipsi',     'TEa1'),\n",
    "('ipsi',   'TEa2/3'),\n",
    "('ipsi',     'TEa4'),\n",
    "('ipsi',     'TEa5'),\n",
    "('ipsi',    'TEa6a'),\n",
    "('ipsi',    'TEa6b'),\n",
    "('ipsi',     'BLAa'),\n",
    "('ipsi',     'BLAp'),\n",
    "('ipsi',     'BLAv'),\n",
    "('ipsi',     'ECT1'),\n",
    "('ipsi',   'ECT2/3'),\n",
    "('ipsi',     'ECT5'),\n",
    "('ipsi',    'ECT6a'),\n",
    "('ipsi',    'ECT6b'),\n",
    "('ipsi',   'CEAc'),\n",
    "('ipsi',   'CEAl'),\n",
    "('ipsi',   'CEAm')]"
   ]
  },
  {
   "cell_type": "code",
   "execution_count": 25,
   "metadata": {
    "collapsed": true
   },
   "outputs": [],
   "source": [
    "gammas = np.asarray([0.0001,0.001,0.01,0.1,1,10,100,1000,10000])"
   ]
  },
  {
   "cell_type": "code",
   "execution_count": 26,
   "metadata": {},
   "outputs": [
    {
     "data": {
      "text/plain": [
       "100.0"
      ]
     },
     "execution_count": 26,
     "metadata": {},
     "output_type": "execute_result"
    }
   ],
   "source": [
    "gammas[6]"
   ]
  },
  {
   "cell_type": "code",
   "execution_count": 13,
   "metadata": {
    "collapsed": true
   },
   "outputs": [],
   "source": [
    "\n",
    "def get_region_prediction3(cache, structure_data, prediction_region, prediction_sid_surface, experiment_sids_surface,\n",
    "                           prediction_sid_nw, experiment_sids_nw, cre, gamma, surface):\n",
    "    '''\n",
    "    prediction_sid_surface: what is the sid for the surface (i.e. computing cre-means)\n",
    "    experiment_sids_surface: what are the sids for the experiments w/ above\n",
    "    prediction_sid_nw: what is the sid for Nadaraya-Watson\n",
    "    experiment_sids_nw: what are the sids for the experiments w/ above\n",
    "    '''\n",
    "\n",
    "    nw_exp_ind = np.where(experiment_sids_nw == prediction_sid_nw)[0]\n",
    "    surface_exp_ind = np.where(experiment_sids_surface == prediction_sid_surface)[0]\n",
    "\n",
    "    nexp_surface = len(surface_exp_ind)\n",
    "    cres_surface = structure_data.crelines[surface_exp_ind]\n",
    "\n",
    "    mask = Mask.from_cache(cache, structure_ids=[prediction_region], hemisphere_id=2)\n",
    "\n",
    "    projections = structure_data.reg_proj_norm[nw_exp_ind]\n",
    "    centroids = structure_data.centroids[nw_exp_ind]\n",
    "\n",
    "    projections_surface = structure_data.reg_proj_norm[surface_exp_ind]\n",
    "    means = get_means(projections_surface, cres_surface, np.repeat(prediction_sid_surface, nexp_surface))\n",
    "\n",
    "    if centroids.shape[0] > 0:\n",
    "\n",
    "        if np.isin(cre, np.asarray(list(means[prediction_sid_surface].keys()))):\n",
    "            losses = get_embedding(surface, pairwise_distances(centroids, mask.coordinates) ** 2, cres_surface, cre,\n",
    "                                   means[prediction_sid_surface])\n",
    "            predictions = get_nw_predictions(projections, losses, gamma)\n",
    "            output = np.mean(predictions, axis=0)\n",
    "            #output = output / np.sum(output)#/ np.linalg.norm(output)\n",
    "        else:\n",
    "            output = np.zeros(projections.shape[1])\n",
    "            output[:] = np.nan\n",
    "    else:\n",
    "        output = np.zeros(projections.shape[1])\n",
    "        output[:] = np.nan\n",
    "\n",
    "    return (output)\n"
   ]
  },
  {
   "cell_type": "code",
   "execution_count": 30,
   "metadata": {
    "collapsed": true
   },
   "outputs": [],
   "source": [
    "from mcmodels.core import Mask\n",
    "from mcmodels.models.expectedloss.utils import get_means\n",
    "from mcmodels.models.expectedloss.shapeconstrained import get_embedding\n",
    "from mcmodels.core import Mask\n",
    "from sklearn.metrics import pairwise_distances\n",
    "from mcmodels.models.voxel.utils import get_nw_predictions\n"
   ]
  },
  {
   "cell_type": "code",
   "execution_count": 31,
   "metadata": {
    "collapsed": true
   },
   "outputs": [],
   "source": [
    "structure_data = connectivity_data.structure_datas[315]\n",
    "prediction_region = ai_map[rnames[12]]\n",
    "prediction_sid_surface = ai_map[rnames[12]]\n",
    "experiment_sids_surface = leafs[315]\n",
    "prediction_sid_nw = ai_map[rnames[12]]\n",
    "experiment_sids_nw = leafs[315]                       \n",
    "gamma = gammas[surfaces[315].gamma]\n",
    "surface= surfaces[315]\n",
    "cre = 'Rbp4-Cre_KL100'\n",
    "asdf = get_region_prediction3(cache, structure_data, prediction_region, prediction_sid_surface, experiment_sids_surface,\n",
    "                           prediction_sid_nw, experiment_sids_nw, cre, gamma, surface)"
   ]
  },
  {
   "cell_type": "code",
   "execution_count": 40,
   "metadata": {},
   "outputs": [
    {
     "data": {
      "text/plain": [
       "(1123,)"
      ]
     },
     "execution_count": 40,
     "metadata": {},
     "output_type": "execute_result"
    }
   ],
   "source": [
    "asdf.shape"
   ]
  },
  {
   "cell_type": "code",
   "execution_count": 41,
   "metadata": {
    "collapsed": true
   },
   "outputs": [],
   "source": [
    "conn_redo = pd.DataFrame(np.expand_dims(asdf,0), columns = cnam_multi, index=rnames[12:13])\n"
   ]
  },
  {
   "cell_type": "code",
   "execution_count": 42,
   "metadata": {},
   "outputs": [
    {
     "data": {
      "text/plain": [
       "(1123,)"
      ]
     },
     "execution_count": 42,
     "metadata": {},
     "output_type": "execute_result"
    }
   ],
   "source": [
    "asdf.shape"
   ]
  },
  {
   "cell_type": "code",
   "execution_count": 43,
   "metadata": {},
   "outputs": [
    {
     "data": {
      "text/plain": [
       "0.9999999984678954"
      ]
     },
     "execution_count": 43,
     "metadata": {},
     "output_type": "execute_result"
    }
   ],
   "source": [
    "np.nansum(conn_redo)"
   ]
  },
  {
   "cell_type": "code",
   "execution_count": 44,
   "metadata": {},
   "outputs": [
    {
     "data": {
      "text/plain": [
       "<matplotlib.axes._subplots.AxesSubplot at 0xcb7dbe990>"
      ]
     },
     "execution_count": 44,
     "metadata": {},
     "output_type": "execute_result"
    },
    {
     "data": {
      "image/png": "[encoded data removed]",
      "text/plain": [
       "<Figure size 1080x1080 with 2 Axes>"
      ]
     },
     "metadata": {
      "needs_background": "light"
     },
     "output_type": "display_data"
    }
   ],
   "source": [
    "fig , ax = plt.subplots(figsize = (15,15))\n",
    "sns.heatmap(conn_redo.loc[:,targ_reg], ax= ax, vmax= .001)"
   ]
  },
  {
   "cell_type": "code",
   "execution_count": 56,
   "metadata": {
    "collapsed": true
   },
   "outputs": [],
   "source": [
    "    nw_exp_ind = np.where(experiment_sids_nw == prediction_sid_nw)[0]\n",
    "    surface_exp_ind = np.where(experiment_sids_surface == prediction_sid_surface)[0]\n",
    "\n",
    "    nexp_surface = len(surface_exp_ind)\n",
    "    cres_surface = structure_data.crelines[surface_exp_ind]\n",
    "\n",
    "    mask = Mask.from_cache(cache, structure_ids=[prediction_region], hemisphere_id=2)\n",
    "\n",
    "    projections = structure_data.reg_proj_norm[nw_exp_ind]\n",
    "    centroids = structure_data.centroids[nw_exp_ind]\n",
    "\n",
    "    projections_surface = structure_data.reg_proj_norm[surface_exp_ind]\n",
    "    means = get_means(projections_surface, cres_surface, np.repeat(prediction_sid_surface, nexp_surface))\n"
   ]
  },
  {
   "cell_type": "code",
   "execution_count": 46,
   "metadata": {},
   "outputs": [
    {
     "data": {
      "text/plain": [
       "(100, 1123)"
      ]
     },
     "execution_count": 46,
     "metadata": {},
     "output_type": "execute_result"
    }
   ],
   "source": [
    "projections.shape"
   ]
  },
  {
   "cell_type": "code",
   "execution_count": 50,
   "metadata": {},
   "outputs": [
    {
     "data": {
      "text/plain": [
       "'MOs5'"
      ]
     },
     "execution_count": 50,
     "metadata": {},
     "output_type": "execute_result"
    }
   ],
   "source": [
    "ia_map[prediction_sid_nw]"
   ]
  },
  {
   "cell_type": "code",
   "execution_count": 52,
   "metadata": {},
   "outputs": [
    {
     "name": "stdout",
     "output_type": "stream",
     "text": [
      "[ 111  303  316  357  411  473  487  521  648  698  898  933 1044] [ 372 1115]\n",
      "[104 337 438 724 743 841 900 967] []\n"
     ]
    }
   ],
   "source": [
    "visp6a = np.where(connectivity_data.leafs[315] == 33)[0]\n",
    "mos6a = np.where(connectivity_data.leafs[315] == 1021)[0]\n",
    "mos5 = np.where(connectivity_data.leafs[315] == 767)[0]\n",
    "nt = np.where(connectivity_data.creline[315] == 'Ntsr1-Cre_GN220')[0]\n",
    "rb = np.where(connectivity_data.creline[315] == 'Rbp4-Cre_KL100')[0]\n",
    "\n",
    "print(np.intersect1d(visp6a,nt ), np.intersect1d(visp6a,rb ))\n",
    "print(np.intersect1d(mos5,rb ),np.intersect1d(mos5,nt ))\n",
    "np.intersect1d(mos6a,rb ),np.intersect1d(mos6a,nt )\n",
    "l5rb = np.intersect1d(mos5,rb )\n",
    "l6rb = np.intersect1d(mos6a,rb )\n",
    "l6nt = np.intersect1d(mos6a,nt )"
   ]
  },
  {
   "cell_type": "code",
   "execution_count": 57,
   "metadata": {
    "collapsed": true
   },
   "outputs": [],
   "source": [
    "customs = connectivity_data.structure_datas[315].centroids[l5rb]"
   ]
  },
  {
   "cell_type": "code",
   "execution_count": 60,
   "metadata": {
    "collapsed": true
   },
   "outputs": [],
   "source": [
    "yehhhhhhhhhhh = [ia_map[connectivity_data.ipsi_target_regions[i]] for i in range(len(connectivity_data.ipsi_target_regions))]\n",
    "indices = ('BLAa','BLAp','BLAv', 'CEAc', 'CEAl','CEAm')\n",
    "#nw_sum_cresum2leaf2.predictions[315].shape\n",
    "inds = np.where(np.isin(yehhhhhhhhhhh, indices))[0]"
   ]
  },
  {
   "cell_type": "code",
   "execution_count": 58,
   "metadata": {
    "collapsed": true
   },
   "outputs": [],
   "source": [
    "    if centroids.shape[0] > 0:\n",
    "\n",
    "        if np.isin(cre, np.asarray(list(means[prediction_sid_surface].keys()))):\n",
    "            losses = get_embedding(surface, pairwise_distances(centroids, customs) ** 2, cres_surface, cre,\n",
    "                                   means[prediction_sid_surface])\n",
    "            predictions = get_nw_predictions(projections, losses, gamma)\n",
    "            output = np.mean(predictions, axis=0)\n",
    "            #output = output / np.sum(output)#/ np.linalg.norm(output)\n",
    "        else:\n",
    "            output = np.zeros(projections.shape[1])\n",
    "            output[:] = np.nan\n",
    "    else:\n",
    "        output = np.zeros(projections.shape[1])\n",
    "        output[:] = np.nan"
   ]
  },
  {
   "cell_type": "code",
   "execution_count": 64,
   "metadata": {},
   "outputs": [
    {
     "data": {
      "text/plain": [
       "(100, 1123)"
      ]
     },
     "execution_count": 64,
     "metadata": {},
     "output_type": "execute_result"
    }
   ],
   "source": [
    "projections.shape"
   ]
  },
  {
   "cell_type": "code",
   "execution_count": null,
   "metadata": {
    "collapsed": true
   },
   "outputs": [],
   "source": [
    "sns.heatmap(predictions[:,inds], vmax= .001)"
   ]
  },
  {
   "cell_type": "code",
   "execution_count": 63,
   "metadata": {},
   "outputs": [
    {
     "data": {
      "text/plain": [
       "<matplotlib.axes._subplots.AxesSubplot at 0xcb6cc88d0>"
      ]
     },
     "execution_count": 63,
     "metadata": {},
     "output_type": "execute_result"
    },
    {
     "data": {
      "image/png": "[encoded data removed]",
      "text/plain": [
       "<Figure size 432x288 with 2 Axes>"
      ]
     },
     "metadata": {
      "needs_background": "light"
     },
     "output_type": "display_data"
    }
   ],
   "source": [
    "sns.heatmap(predictions[:,inds], vmax= .001)"
   ]
  },
  {
   "cell_type": "code",
   "execution_count": 62,
   "metadata": {},
   "outputs": [
    {
     "data": {
      "text/plain": [
       "(8, 3)"
      ]
     },
     "execution_count": 62,
     "metadata": {},
     "output_type": "execute_result"
    }
   ],
   "source": [
    "customs.shape"
   ]
  },
  {
   "cell_type": "code",
   "execution_count": null,
   "metadata": {
    "collapsed": true
   },
   "outputs": [],
   "source": []
  }
 ],
 "metadata": {
  "kernelspec": {
   "display_name": "allen_010719_5",
   "language": "python",
   "name": "allen_010719_5"
  },
  "language_info": {
   "codemirror_mode": {
    "name": "ipython",
    "version": 3
   },
   "file_extension": ".py",
   "mimetype": "text/x-python",
   "name": "python",
   "nbconvert_exporter": "python",
   "pygments_lexer": "ipython3",
   "version": "3.7.6"
  }
 },
 "nbformat": 4,
 "nbformat_minor": 2
}

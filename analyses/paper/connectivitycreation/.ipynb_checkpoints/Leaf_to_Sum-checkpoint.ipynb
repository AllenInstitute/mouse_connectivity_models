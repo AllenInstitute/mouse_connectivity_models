{
 "cells": [
  {
   "cell_type": "code",
   "execution_count": 4,
   "metadata": {},
   "outputs": [
    {
     "name": "stdout",
     "output_type": "stream",
     "text": [
      "The autoreload extension is already loaded. To reload it, use:\n",
      "  %reload_ext autoreload\n"
     ]
    }
   ],
   "source": [
    "%load_ext autoreload\n",
    "%autoreload 2\n",
    "\n",
    "import os\n",
    "import numpy as np\n",
    "import pandas as pd \n",
    "import sys\n",
    "#import pickle\n",
    "import itertools\n",
    "import seaborn as sns\n",
    "import matplotlib.pyplot as plt\n",
    "from mpl_toolkits.mplot3d import Axes3D\n",
    "import random\n",
    "from sklearn.metrics import pairwise_distances\n",
    "from sklearn.kernel_ridge import KernelRidge\n",
    "import math\n",
    "import dill as pickle\n",
    "\n",
    "\n",
    "\n",
    "workingdirectory = os.popen('git rev-parse --show-toplevel').read()[:-1]\n",
    "sys.path.append(workingdirectory)\n",
    "os.chdir(workingdirectory)\n",
    "\n",
    "import allensdk.core.json_utilities as ju\n",
    "from allensdk.core.mouse_connectivity_cache import MouseConnectivityCache\n",
    "\n",
    "from mcmodels.utils import get_aligned_ids\n",
    "from mcmodels.core import VoxelModelCache\n",
    "from mcmodels.connectivity.creation import get_connectivity_matrices3\n",
    "from mcmodels.core.connectivity_data import get_connectivity_data\n",
    "#from mcmodels.models.voxel.crossvalidation import get_nwloocv_predictions_multimodel_merge_dists\n",
    "from mcmodels.utils import nonzero_unique\n",
    "from mcmodels.core.utils import get_structure_id,get_ordered_summary_structures, get_leaves_ontologicalorder, get_indices_2ormore, get_indices, get_indices2,get_eval_indices,screen_index_matrices,screen_index_matrices2,screen_index_matrices3\n",
    "from mcmodels.regressors import NadarayaWatson\n",
    "from mcmodels.core.plotting import plot_loss_surface,plot_loss_scatter\n",
    "from mcmodels.models.expectedloss.crossvalidation import get_loss_surface_cv_spline\n",
    "from mcmodels.models.expectedloss.crossvalidation import get_embedding_cv\n",
    "from mcmodels.models.crossvalidation import get_best_hyperparameters,get_loss_best_hyp,get_loss, Crossval\n",
    "from mcmodels.models.voxel.crossvalidation import get_nwloocv_predictions_multimodel_merge_dists\n",
    "\n",
    "def get_row_col_names(connectivity_data, target_ordering):\n",
    "    \n",
    "    rnames = np.asarray([ia_map[target_ordering[i]] for i in range(len(target_ordering))])\n",
    "    ipsi_target_regions = connectivity_data.ipsi_target_regions\n",
    "    contra_target_regions = connectivity_data.contra_target_regions                               \n",
    "    ipsi_indices= np.asarray([])\n",
    "    contra_indices = np.asarray([])\n",
    "    for iy in target_ordering: \n",
    "        ipsi_indices = np.concatenate([ipsi_indices, np.where(ipsi_target_regions==iy)[0]] )\n",
    "        contra_indices = np.concatenate([contra_indices, np.where(contra_target_regions==iy)[0]] )\n",
    "    ipsi_indices = np.asarray(ipsi_indices, dtype = int)   \n",
    "    contra_indices = np.asarray(contra_indices, dtype = int)    \n",
    "    reorder = np.concatenate([ipsi_indices, len(ipsi_indices) + contra_indices])  \n",
    "    colids = np.concatenate([ipsi_target_regions, contra_target_regions])[reorder]\n",
    "    cnames = np.asarray([ia_map[colids[i]] for i in range(len(colids))])\n",
    "    ccomb = np.vstack([np.concatenate([np.repeat('ipsi',connectivity_data.ipsi_target_regions.shape[0]),\n",
    "                                       np.repeat('contra',connectivity_data.contra_target_regions.shape)]), cnames])\n",
    "    ccomb = np.asarray(ccomb)\n",
    "    tuples2 = list(zip(*ccomb))\n",
    "    cnam_multi = pd.MultiIndex.from_tuples(tuples2, names=['first', 'second'])\n",
    "    return(cnam_multi, rnames)"
   ]
  },
  {
   "cell_type": "code",
   "execution_count": 5,
   "metadata": {
    "collapsed": true
   },
   "outputs": [],
   "source": [
    "def fix_pdcsv(csv):\n",
    "    \n",
    "    #wt_conn = pd.read_csv('/Users/samsonkoelle/wt_leafsmooth_leafsurface_sumtarget.csv',  header=[0,1])\n",
    "    csv_rownames = np.asarray(csv.iloc[:,0])\n",
    "    csv = csv.iloc[:,1:]\n",
    "    csv.index = csv_rownames\n",
    "    return(csv)\n",
    "\n",
    "def fill_df_na(data, indices):\n",
    "    \n",
    "    for i in range(indices.shape[0]):\n",
    "        data.iloc[indices[i,0],indices[i,1]] = np.nan\n",
    "        \n",
    "    return(data)\n",
    "\n",
    "from mcmodels.core import Mask\n",
    "\n",
    "def get_regional_sizes(cache,sid,hemisphere_id):\n",
    "    \n",
    "    mask = Mask.from_cache(cache, structure_ids=[sid], hemisphere_id=hemisphere_id)\n",
    "    size = mask.coordinates.shape[0]\n",
    "    \n",
    "    return(size)\n",
    "\n",
    "def get_aligned_ids(st,list1,list2):\n",
    "    output = np.empty(len(list1), dtype = int)\n",
    "    for i in range(len(list1)):\n",
    "        output[ i] = np.intersect1d(st.ancestor_ids([list1[i]]), list2)[0]\n",
    "    return(output)\n",
    "\n",
    "def get_combined_sources(data, list1, list2, sizes):\n",
    "    ids = np.where(data.sum(axis = 1) > 0)[0]\n",
    "    ool_s = get_aligned_ids(st,list1,list2)\n",
    "    list2 = np.asarray(list2)\n",
    "    nsum = list2.shape[0]\n",
    "    data_sum = np.zeros((nsum, data.shape[1]))\n",
    "    ids = np.where(data.sum(axis = 1) > 0)[0]\n",
    "    for s in range(nsum):\n",
    "        inds = np.where(ool_s[ids] == list2[s])[0]\n",
    "        #print(sizes[inds])\n",
    "        data_sum[s] = sizes[ids][inds] @ data[ids][inds] / np.sum(sizes[ids][inds])\n",
    "    return(data_sum)\n",
    "\n",
    "def get_combined_targets(data, list1, list2, sizes):\n",
    "    '''\n",
    "    this function sums connectivity of targets in list 1 that have the same metastructure in list 2\n",
    "    '''\n",
    "    ool_s = get_aligned_ids(st,list1,list2)\n",
    "    list2 = np.asarray(list2)\n",
    "    nsum = list2.shape[0]\n",
    "    data_sum = np.zeros((data.shape[0], nsum)) \n",
    "    for s in range(nsum):\n",
    "        inds = np.where(ool_s == list2[s])[0]\n",
    "        #print(inds, data.shape)\n",
    "        data_sum[:,s] = data[:,inds].sum(axis = 1)#data[:,inds].transpose()#sizes[inds] @ data[:,inds].transpose() / np.sum(sizes[inds])\n",
    "        #print(np.nanmax(data_sum[:,s]))\n",
    "\n",
    "    return(data_sum)"
   ]
  },
  {
   "cell_type": "code",
   "execution_count": 14,
   "metadata": {},
   "outputs": [
    {
     "name": "stdout",
     "output_type": "stream",
     "text": [
      "annotation/ccf_2017\n"
     ]
    }
   ],
   "source": [
    "#read data\n",
    "TOP_DIR = '/Users/samsonkoelle/alleninstitute/mcm_2020/mcm_updated/'\n",
    "INPUT_JSON = os.path.join(TOP_DIR, 'input_011520.json')\n",
    "EXPERIMENTS_EXCLUDE_JSON = os.path.join(TOP_DIR, 'experiments_exclude.json')\n",
    "input_data = ju.read(INPUT_JSON)\n",
    "experiments_exclude = ju.read(EXPERIMENTS_EXCLUDE_JSON)\n",
    "manifest_file = input_data.get('manifest_file')\n",
    "manifest_file = os.path.join(TOP_DIR, manifest_file)\n",
    "cache = VoxelModelCache(manifest_file=manifest_file)\n",
    "st = cache.get_structure_tree()\n",
    "ai_map = st.get_id_acronym_map()\n",
    "ontological_order = np.load('/Users/samsonkoelle/alleninstitute/sambranch/mouse_connectivity_models/paper/info/ontological_order_v3.npy')\n",
    "ipsi_targets_summary_unordered = np.load('/Users/samsonkoelle/alleninstitute/sambranch/mouse_connectivity_models/paper/info/summary_ipsi_targets.npy')\n",
    "contra_targets_summary_unordered = np.load('/Users/samsonkoelle/alleninstitute/sambranch/mouse_connectivity_models/paper/info/summary_contra_targets.npy')\n",
    "\n",
    "\n",
    "csv = '/Users/samsonkoelle/alleninstitute/sambranch/mouse_connectivity_models/paper/connectivities/elsumsurfleafsmth_v3_leafleaf_wt.csv'\n",
    "conn_leafleaf = pd.read_csv(csv,  header=[0,1])\n",
    "conn_leafleaf = fix_pdcsv(conn_leafleaf)   \n",
    "data = conn_leafleaf\n",
    "targets = np.asarray(list(data.columns))\n",
    "contra_min = np.where(targets[:,0] == 'ipsi')[0].max() + 1\n",
    "sizes = np.asarray([get_regional_sizes(cache,ai_map[data.index[i]],hemisphere_id = 2) for i in range(len(data.index))])\n",
    "sizes_ipsi = np.asarray([get_regional_sizes(cache,ai_map[targets[i][1]],hemisphere_id = 2) for i in range(contra_min)])\n",
    "sizes_contra = np.asarray([get_regional_sizes(cache,ai_map[targets[i][1]],hemisphere_id = 1) for i in range(contra_min, targets.shape[0])])\n"
   ]
  },
  {
   "cell_type": "code",
   "execution_count": 26,
   "metadata": {},
   "outputs": [
    {
     "data": {
      "text/plain": [
       "564"
      ]
     },
     "execution_count": 26,
     "metadata": {},
     "output_type": "execute_result"
    }
   ],
   "source": [
    "contra_min"
   ]
  },
  {
   "cell_type": "code",
   "execution_count": 47,
   "metadata": {
    "collapsed": true
   },
   "outputs": [],
   "source": [
    "def comb_targs(csv):\n",
    "    \n",
    "    conn_leafleaf = pd.read_csv(csv,  header=[0,1])\n",
    "    conn_leafleaf = fix_pdcsv(conn_leafleaf)    \n",
    "    data = conn_leafleaf\n",
    "    #list1 = [ai_map[data.index[i]] for i in range(data.shape[0])]\n",
    "    #list2 = ontological_order#[ai_map[wt_conn.columns[i][1]] for i in range(321)]\n",
    "    #data_sourcecomb = get_combined_sources(np.asarray(data), list1, list2, sizes)\n",
    "    data_sourcecomb = np.asarray(data)\n",
    "    #print(data.shape)\n",
    "    contra_subset_names = targets[:contra_min][:,1]\n",
    "    contra_subset_ids = np.asarray([ai_map[contra_subset_names[i]] for i in range(len(contra_subset_names))])\n",
    "    contra_targets_summary_ordered = np.asarray([i for i in ontological_order if i in contra_targets_summary_unordered])\n",
    "    ipsi_targets_summary_ordered = np.asarray([i for i in ontological_order if i in ipsi_targets_summary_unordered])\n",
    "    ia_map = {value: key for key, value in ai_map.items()}\n",
    "    #get combined targets\n",
    "    list1 = np.asarray([ai_map[targets[:,1][i]] for i in range(contra_min)])\n",
    "    data_ipsicomb = get_combined_targets(data_sourcecomb[:,:(contra_min)], list1, np.asarray(ipsi_targets_summary_ordered), sizes_ipsi)\n",
    "    list1 = np.asarray([ai_map[targets[:,1][i]] for i in range(contra_min, targets.shape[0])])\n",
    "    data_contracomb = get_combined_targets(data_sourcecomb[:,(contra_min):], list1, np.asarray(contra_targets_summary_ordered), sizes_contra)\n",
    "    data_combined = np.hstack([data_ipsicomb,data_contracomb])\n",
    "    ncontra = contra_targets_summary_ordered.shape[0]\n",
    "    nipsi = ipsi_targets_summary_ordered.shape[0]\n",
    "    ctso_names = [ia_map[contra_targets_summary_ordered[i]] for i in range(len(contra_targets_summary_ordered))]\n",
    "    itso_names = [ia_map[ipsi_targets_summary_ordered[i]] for i in range(len(ipsi_targets_summary_ordered))]\n",
    "    bigs = np.concatenate([np.repeat('ipsi', nipsi),np.repeat('contra', ncontra)])\n",
    "    smalls = np.concatenate([itso_names, ctso_names])\n",
    "    arrays = np.vstack([bigs,smalls]  )\n",
    "    tuples = list(zip(*arrays))\n",
    "    columns = pd.MultiIndex.from_tuples(tuples, names=[\"first\", \"second\"])\n",
    "    output = pd.DataFrame(data_combined,index = data.index, columns=columns)\n",
    "    return(output)"
   ]
  },
  {
   "cell_type": "code",
   "execution_count": 48,
   "metadata": {},
   "outputs": [],
   "source": [
    "output = comb_targs('/Users/samsonkoelle/alleninstitute/sambranch/mouse_connectivity_models/paper/connectivities/elsumsurfleafsmth_v3_leafleaf_wt.csv')"
   ]
  },
  {
   "cell_type": "code",
   "execution_count": 50,
   "metadata": {
    "collapsed": true
   },
   "outputs": [],
   "source": [
    "eval_cre_list = ['Cux2-IRES-Cre','Ntsr1-Cre_GN220','Rbp4-Cre_KL100','Tlx3-Cre_PL56']"
   ]
  },
  {
   "cell_type": "code",
   "execution_count": null,
   "metadata": {
    "collapsed": true
   },
   "outputs": [],
   "source": [
    "\n",
    "for c in range(len(eval_cre_list)):\n",
    "    output = comb_targs('/Users/samsonkoelle/alleninstitute/sambranch/mouse_connectivity_models/paper/connectivities/elsumsurfleafsmth_v3_leafleaf_' + str(eval_cre_list[c]) + '.csv')\n",
    "    output.to_csv('/Users/samsonkoelle/alleninstitute/sambranch/mouse_connectivity_models/paper/connectivities/elsumsurfleafsmth_v3_leafsum_' + str(eval_cre_list[c]) + '.csv')\n",
    "    "
   ]
  },
  {
   "cell_type": "code",
   "execution_count": null,
   "metadata": {
    "collapsed": true
   },
   "outputs": [],
   "source": []
  },
  {
   "cell_type": "code",
   "execution_count": null,
   "metadata": {
    "collapsed": true
   },
   "outputs": [],
   "source": []
  },
  {
   "cell_type": "code",
   "execution_count": null,
   "metadata": {
    "collapsed": true
   },
   "outputs": [],
   "source": []
  },
  {
   "cell_type": "code",
   "execution_count": null,
   "metadata": {
    "collapsed": true
   },
   "outputs": [],
   "source": []
  },
  {
   "cell_type": "code",
   "execution_count": null,
   "metadata": {
    "collapsed": true
   },
   "outputs": [],
   "source": []
  },
  {
   "cell_type": "code",
   "execution_count": null,
   "metadata": {
    "collapsed": true
   },
   "outputs": [],
   "source": []
  },
  {
   "cell_type": "code",
   "execution_count": null,
   "metadata": {
    "collapsed": true
   },
   "outputs": [],
   "source": []
  },
  {
   "cell_type": "code",
   "execution_count": 3,
   "metadata": {
    "collapsed": true
   },
   "outputs": [],
   "source": [
    "conn_leafleaf = pd.read_csv('/Users/samsonkoelle/alleninstitute/sambranch/mouse_connectivity_models/paper/connectivities/elsumsurfleafsmth_v3_leafleaf_wt.csv',  header=[0,1])\n",
    "conn_leafleaf = fix_pdcsv(conn_leafleaf)"
   ]
  },
  {
   "cell_type": "code",
   "execution_count": 566,
   "metadata": {},
   "outputs": [
    {
     "name": "stderr",
     "output_type": "stream",
     "text": [
      "/Users/samsonkoelle/anaconda3/envs/allen_010719_5/lib/python3.7/site-packages/ipykernel_launcher.py:32: RuntimeWarning: invalid value encountered in greater\n",
      "/Users/samsonkoelle/anaconda3/envs/allen_010719_5/lib/python3.7/site-packages/ipykernel_launcher.py:37: RuntimeWarning: invalid value encountered in greater\n",
      "/Users/samsonkoelle/anaconda3/envs/allen_010719_5/lib/python3.7/site-packages/ipykernel_launcher.py:41: RuntimeWarning: invalid value encountered in true_divide\n"
     ]
    }
   ],
   "source": [
    "data = conn_leafleaf\n",
    "sizes = np.asarray([get_regional_sizes(cache,ai_map[data.index[i]],hemisphere_id = 2) for i in range(len(data.index))])\n",
    "list1 = [ai_map[data.index[i]] for i in range(data.shape[0])]\n",
    "list2 = ontological_order#[ai_map[wt_conn.columns[i][1]] for i in range(321)]\n",
    "data_sourcecomb = get_combined_sources(np.asarray(data), list1, list2, sizes)\n",
    "targets = np.asarray(list(data.columns))\n",
    "contra_min = np.where(targets[:,0] == 'ipsi')[0].max() + 1"
   ]
  },
  {
   "cell_type": "code",
   "execution_count": 567,
   "metadata": {
    "collapsed": true
   },
   "outputs": [],
   "source": [
    "sizes_ipsi = np.asarray([get_regional_sizes(cache,ai_map[targets[i][1]],hemisphere_id = 2) for i in range(contra_min)])\n",
    "sizes_contra = np.asarray([get_regional_sizes(cache,ai_map[targets[i][1]],hemisphere_id = 1) for i in range(contra_min, targets.shape[0])])\n",
    "contra_subset_names = targets[:contra_min][:,1]\n",
    "contra_subset_ids = np.asarray([ai_map[contra_subset_names[i]] for i in range(len(contra_subset_names))])\n",
    "ipsi_targets_summary_unordered = np.load('/Users/samsonkoelle/alleninstitute/sambranch/mouse_connectivity_models/paper/info/summary_ipsi_targets.npy')\n",
    "contra_targets_summary_unordered = np.load('/Users/samsonkoelle/alleninstitute/sambranch/mouse_connectivity_models/paper/info/summary_contra_targets.npy')\n",
    "contra_targets_summary_ordered = np.asarray([i for i in ontological_order if i in contra_targets_summary_unordered])\n",
    "ipsi_targets_summary_ordered = np.asarray([i for i in ontological_order if i in ipsi_targets_summary_unordered])\n",
    "ia_map = {value: key for key, value in ai_map.items()}"
   ]
  },
  {
   "cell_type": "code",
   "execution_count": 568,
   "metadata": {
    "collapsed": true
   },
   "outputs": [],
   "source": [
    "#list1 = [ai_map[data.index[i]] for i in range(ipsi_max+1)]\n",
    "##list2 = ontological_order#[ai_map[wt_conn.columns[i][1]] for i in range(321)]\n"
   ]
  },
  {
   "cell_type": "code",
   "execution_count": 569,
   "metadata": {
    "collapsed": true
   },
   "outputs": [],
   "source": [
    "#data_sourcecomb[:,:(ipsi_max+1)].sum(axis = 1)\n",
    "#data_ipsicomb.sum(axis = 1)"
   ]
  },
  {
   "cell_type": "code",
   "execution_count": 570,
   "metadata": {
    "collapsed": true
   },
   "outputs": [],
   "source": []
  },
  {
   "cell_type": "code",
   "execution_count": 571,
   "metadata": {
    "collapsed": true
   },
   "outputs": [],
   "source": [
    "#get combined targets\n",
    "list1 = np.asarray([ai_map[targets[:,1][i]] for i in range(ipsi_max+1)])\n",
    "data_ipsicomb = get_combined_targets(data_sourcecomb[:,:(ipsi_max+1)], list1, np.asarray(ipsi_targets_summary_ordered), sizes_ipsi)\n",
    "list1 = np.asarray([ai_map[targets[:,1][i]] for i in range(ipsi_max+1, targets.shape[0])])\n",
    "data_contracomb = get_combined_targets(data_sourcecomb[:,(ipsi_max+1):], list1, np.asarray(contra_targets_summary_ordered), sizes_contra)\n",
    "\n",
    "data_combined = np.hstack([data_ipsicomb,data_contracomb])\n",
    "sum_index = np.asarray([ia_map[ontological_order[i]] for i in range(len(ontological_order))])\n",
    "ncontra = contra_targets_summary_ordered.shape[0]\n",
    "nipsi = ipsi_targets_summary_ordered.shape[0]\n",
    "ctso_names = [ia_map[contra_targets_summary_ordered[i]] for i in range(len(contra_targets_summary_ordered))]\n",
    "itso_names = [ia_map[ipsi_targets_summary_ordered[i]] for i in range(len(ipsi_targets_summary_ordered))]\n",
    "bigs = np.concatenate([np.repeat('ipsi', nipsi),np.repeat('contra', ncontra)])\n",
    "smalls = np.concatenate([itso_names, ctso_names])\n",
    "arrays = np.vstack([bigs,smalls]  )\n",
    "tuples = list(zip(*arrays))\n",
    "columns = pd.MultiIndex.from_tuples(tuples, names=[\"first\", \"second\"])\n",
    "output = pd.DataFrame(data_combined,index = sum_index, columns=columns)"
   ]
  },
  {
   "cell_type": "code",
   "execution_count": 572,
   "metadata": {
    "collapsed": true
   },
   "outputs": [],
   "source": [
    "output.to_csv('/Users/samsonkoelle/alleninstitute/sambranch/mouse_connectivity_models/paper/connectivities/elsumsurfleafsmth_v3_sumsum_wt.csv')"
   ]
  },
  {
   "cell_type": "code",
   "execution_count": 573,
   "metadata": {
    "collapsed": true
   },
   "outputs": [],
   "source": [
    "#fig , ax = plt.subplots(figsize = (15,15))\n",
    "#sns.heatmap(np.log10(output.iloc[np.where(output.sum(axis = 1)>0)]), vmin =  -6, vmax= 0, ax = ax)"
   ]
  },
  {
   "cell_type": "code",
   "execution_count": 574,
   "metadata": {
    "collapsed": true
   },
   "outputs": [],
   "source": [
    "#get combined targets\n",
    "list1 = np.asarray([ai_map[targets[:,1][i]] for i in range(ipsi_max+1)])\n",
    "data_ipsicomb = get_combined_targets(np.asarray(data)[:,:(ipsi_max+1)], list1, np.asarray(ipsi_targets_summary_ordered), sizes_ipsi)\n",
    "list1 = np.asarray([ai_map[targets[:,1][i]] for i in range(ipsi_max+1, targets.shape[0])])\n",
    "data_contracomb = get_combined_targets(np.asarray(data)[:,(ipsi_max+1):], list1, np.asarray(contra_targets_summary_ordered), sizes_contra)"
   ]
  },
  {
   "cell_type": "code",
   "execution_count": 575,
   "metadata": {
    "collapsed": true
   },
   "outputs": [],
   "source": [
    "data_combined = np.hstack([data_ipsicomb,data_contracomb])\n",
    "#leaf_index = np.asarray([ia_map[ontological_order_[i]] for i in range(len(ontological_order))])\n",
    "ncontra = contra_targets_summary_ordered.shape[0]\n",
    "nipsi = ipsi_targets_summary_ordered.shape[0]\n",
    "ctso_names = [ia_map[contra_targets_summary_ordered[i]] for i in range(len(contra_targets_summary_ordered))]\n",
    "itso_names = [ia_map[ipsi_targets_summary_ordered[i]] for i in range(len(ipsi_targets_summary_ordered))]\n",
    "bigs = np.concatenate([np.repeat('ipsi', nipsi),np.repeat('contra', ncontra)])\n",
    "smalls = np.concatenate([itso_names, ctso_names])\n",
    "arrays = np.vstack([bigs,smalls]  )\n",
    "tuples = list(zip(*arrays))\n",
    "columns = pd.MultiIndex.from_tuples(tuples, names=[\"first\", \"second\"])\n",
    "output = pd.DataFrame(data_combined,index = data.index, columns=columns)"
   ]
  },
  {
   "cell_type": "code",
   "execution_count": 576,
   "metadata": {
    "collapsed": true
   },
   "outputs": [],
   "source": [
    "#sns.heatmap(np.log(output), vmin = -6, vmax = 0)\n",
    "output.to_csv('/Users/samsonkoelle/alleninstitute/sambranch/mouse_connectivity_models/paper/connectivities/elsumsurfleafsmth_v3_leafsum_wt.csv')"
   ]
  },
  {
   "cell_type": "code",
   "execution_count": null,
   "metadata": {
    "collapsed": true
   },
   "outputs": [],
   "source": []
  },
  {
   "cell_type": "code",
   "execution_count": null,
   "metadata": {
    "collapsed": true
   },
   "outputs": [],
   "source": []
  },
  {
   "cell_type": "code",
   "execution_count": null,
   "metadata": {
    "collapsed": true
   },
   "outputs": [],
   "source": []
  },
  {
   "cell_type": "code",
   "execution_count": null,
   "metadata": {
    "collapsed": true
   },
   "outputs": [],
   "source": []
  },
  {
   "cell_type": "code",
   "execution_count": null,
   "metadata": {
    "collapsed": true
   },
   "outputs": [],
   "source": []
  },
  {
   "cell_type": "code",
   "execution_count": null,
   "metadata": {
    "collapsed": true
   },
   "outputs": [],
   "source": []
  },
  {
   "cell_type": "code",
   "execution_count": null,
   "metadata": {
    "collapsed": true
   },
   "outputs": [],
   "source": []
  },
  {
   "cell_type": "code",
   "execution_count": null,
   "metadata": {
    "collapsed": true
   },
   "outputs": [],
   "source": []
  },
  {
   "cell_type": "code",
   "execution_count": null,
   "metadata": {
    "collapsed": true
   },
   "outputs": [],
   "source": []
  },
  {
   "cell_type": "code",
   "execution_count": 523,
   "metadata": {},
   "outputs": [
    {
     "data": {
      "text/plain": [
       "((313, 621), (564, 621))"
      ]
     },
     "execution_count": 523,
     "metadata": {},
     "output_type": "execute_result"
    }
   ],
   "source": [
    "output.shape,oldway.shape"
   ]
  },
  {
   "cell_type": "code",
   "execution_count": 524,
   "metadata": {},
   "outputs": [
    {
     "data": {
      "text/plain": [
       "TMv     0.000000\n",
       "ICc     1.604226\n",
       "ICd     1.799153\n",
       "ICe     2.183175\n",
       "PSV     0.000000\n",
       "          ...   \n",
       "VeCB    0.000000\n",
       "SCO     0.000000\n",
       "PDTg    0.000000\n",
       "Pa4     0.000000\n",
       "PN      0.000000\n",
       "Length: 564, dtype: float64"
      ]
     },
     "execution_count": 524,
     "metadata": {},
     "output_type": "execute_result"
    }
   ],
   "source": [
    "oldway.sum(axis = 1)"
   ]
  },
  {
   "cell_type": "code",
   "execution_count": null,
   "metadata": {
    "collapsed": true
   },
   "outputs": [],
   "source": []
  },
  {
   "cell_type": "code",
   "execution_count": null,
   "metadata": {
    "collapsed": true
   },
   "outputs": [],
   "source": []
  },
  {
   "cell_type": "code",
   "execution_count": null,
   "metadata": {
    "collapsed": true
   },
   "outputs": [],
   "source": []
  },
  {
   "cell_type": "code",
   "execution_count": null,
   "metadata": {
    "collapsed": true
   },
   "outputs": [],
   "source": []
  },
  {
   "cell_type": "code",
   "execution_count": null,
   "metadata": {
    "collapsed": true
   },
   "outputs": [],
   "source": []
  },
  {
   "cell_type": "code",
   "execution_count": null,
   "metadata": {
    "collapsed": true
   },
   "outputs": [],
   "source": []
  },
  {
   "cell_type": "code",
   "execution_count": null,
   "metadata": {
    "collapsed": true
   },
   "outputs": [],
   "source": []
  },
  {
   "cell_type": "code",
   "execution_count": null,
   "metadata": {
    "collapsed": true
   },
   "outputs": [],
   "source": []
  },
  {
   "cell_type": "code",
   "execution_count": null,
   "metadata": {
    "collapsed": true
   },
   "outputs": [],
   "source": []
  },
  {
   "cell_type": "code",
   "execution_count": null,
   "metadata": {
    "collapsed": true
   },
   "outputs": [],
   "source": []
  },
  {
   "cell_type": "code",
   "execution_count": null,
   "metadata": {
    "collapsed": true
   },
   "outputs": [],
   "source": []
  },
  {
   "cell_type": "code",
   "execution_count": null,
   "metadata": {
    "collapsed": true
   },
   "outputs": [],
   "source": []
  },
  {
   "cell_type": "code",
   "execution_count": null,
   "metadata": {
    "collapsed": true
   },
   "outputs": [],
   "source": []
  },
  {
   "cell_type": "code",
   "execution_count": null,
   "metadata": {
    "collapsed": true
   },
   "outputs": [],
   "source": []
  },
  {
   "cell_type": "code",
   "execution_count": null,
   "metadata": {
    "collapsed": true
   },
   "outputs": [],
   "source": []
  },
  {
   "cell_type": "code",
   "execution_count": null,
   "metadata": {
    "collapsed": true
   },
   "outputs": [],
   "source": [
    "#get combined targets\n",
    "list1 = np.asarray([ai_map[targets[:,1][i]] for i in range(ipsi_max+1)])\n",
    "#ipsi_names = np.asarray([ia_map[list1[i]] for i in range(len(list1))])\n",
    "#list2 = ontological_order#[ai_map[wt_conn.columns[i][1]] for i in range(321)]\n",
    "data_ipsicomb = get_combined_targets(data_sourcecomb[:,:(ipsi_max+1)], list1, np.asarray(ipsi_targets_summary_ordered), sizes_ipsi)\n",
    "#data_ipsicomb = get_combined_targets(data_sourcecomb[:,:(ipsi_max+1)], list1, list2, sizes_ipsi)\n",
    "list1 = np.asarray([ai_map[targets[:,1][i]] for i in range(ipsi_max+1, targets.shape[0])])\n",
    "#contra_names = np.asarray([ia_map[list1[i]] for i in range(len(list1))])\n",
    "data_contracomb = get_combined_targets(data_sourcecomb[:,(ipsi_max+1):], list1, np.asarray(contra_targets_summary_ordered), sizes_contra)"
   ]
  },
  {
   "cell_type": "code",
   "execution_count": 458,
   "metadata": {
    "collapsed": true
   },
   "outputs": [],
   "source": [
    "data = data_sourcecomb[:,:(ipsi_max+1)]\n",
    "list1 = np.asarray([ai_map[targets[:,1][i]] for i in range(ipsi_max+1)])\n",
    "list2 =  np.asarray(ipsi_targets_summary_ordered)\n",
    "sizes = sizes_ipsi\n",
    "#print(list2)"
   ]
  },
  {
   "cell_type": "code",
   "execution_count": 472,
   "metadata": {},
   "outputs": [
    {
     "data": {
      "text/plain": [
       "0.8409522375167342"
      ]
     },
     "execution_count": 472,
     "metadata": {},
     "output_type": "execute_result"
    }
   ],
   "source": [
    "data[2].sum()"
   ]
  },
  {
   "cell_type": "code",
   "execution_count": 483,
   "metadata": {
    "collapsed": true
   },
   "outputs": [],
   "source": [
    "    jjjj = np.asarray([])\n",
    "    for s in range(nsum):\n",
    "        inds = np.where(ool_s == list2[s])[0]\n",
    "        jjjj = np.append(jjjj,inds)"
   ]
  },
  {
   "cell_type": "code",
   "execution_count": 484,
   "metadata": {},
   "outputs": [
    {
     "data": {
      "text/plain": [
       "(564,)"
      ]
     },
     "execution_count": 484,
     "metadata": {},
     "output_type": "execute_result"
    }
   ],
   "source": [
    "np.unique(jjjj).shape"
   ]
  },
  {
   "cell_type": "code",
   "execution_count": 504,
   "metadata": {},
   "outputs": [
    {
     "name": "stdout",
     "output_type": "stream",
     "text": [
      "0.004376143944126914 0.014418542171988643\n"
     ]
    }
   ],
   "source": [
    "    ool_s = get_aligned_ids(st,list1,list2)\n",
    "    list2 = np.asarray(list2)\n",
    "    nsum = list2.shape[0]\n",
    "    data_sum = np.zeros((data.shape[0], nsum)) \n",
    "    data_check = np.zeros((data.shape[0], data.shape[1]))\n",
    "    #for s in range(nsum):\n",
    "    s = 0\n",
    "    inds = np.where(ool_s == list2[s])[0]\n",
    "\n",
    "    #print(inds, data.shape)\n",
    "    data_sum[:,s] = np.einsum( 'l, s l -> s', sizes[inds] / np.sum(sizes[inds]) , data[:,inds]) \n",
    "    data_check[:,inds] = data[:,inds]\n",
    "    print(np.einsum( 'l, s l -> s', sizes[inds] / np.sum(sizes[inds]) , data[2:3,inds]).sum(), data[2:3,inds].sum())\n",
    "    #print(s, data_sum[2,s] / data[2,inds].sum(), data_sum[2,:].sum(), data_check[2,:].sum())"
   ]
  },
  {
   "cell_type": "code",
   "execution_count": 506,
   "metadata": {},
   "outputs": [
    {
     "data": {
      "text/plain": [
       "array([0.00437614])"
      ]
     },
     "execution_count": 506,
     "metadata": {},
     "output_type": "execute_result"
    }
   ],
   "source": [
    "np.einsum( 'l, s l -> s', (sizes[inds] / np.sum(sizes[inds])) , data[2:3,inds])"
   ]
  },
  {
   "cell_type": "code",
   "execution_count": 507,
   "metadata": {},
   "outputs": [
    {
     "data": {
      "text/plain": [
       "array([0.24430642, 0.25465839, 0.38302277, 0.11594203, 0.00207039])"
      ]
     },
     "execution_count": 507,
     "metadata": {},
     "output_type": "execute_result"
    }
   ],
   "source": [
    "(sizes[inds] / np.sum(sizes[inds])) #the sum of the vector is not the sum of the vector multiplied by another normalized vector)"
   ]
  },
  {
   "cell_type": "code",
   "execution_count": 508,
   "metadata": {},
   "outputs": [
    {
     "data": {
      "text/plain": [
       "array([[1.76556287e-03, 2.80833931e-03, 7.82565359e-03, 2.00273582e-03,\n",
       "        1.62505794e-05]])"
      ]
     },
     "execution_count": 508,
     "metadata": {},
     "output_type": "execute_result"
    }
   ],
   "source": [
    "data[2:3,inds]"
   ]
  },
  {
   "cell_type": "code",
   "execution_count": 503,
   "metadata": {},
   "outputs": [
    {
     "data": {
      "text/plain": [
       "array([[1.76556287e-03, 2.80833931e-03, 7.82565359e-03, 2.00273582e-03,\n",
       "        1.62505794e-05]])"
      ]
     },
     "execution_count": 503,
     "metadata": {},
     "output_type": "execute_result"
    }
   ],
   "source": [
    "data[2:3,inds]"
   ]
  },
  {
   "cell_type": "code",
   "execution_count": 492,
   "metadata": {},
   "outputs": [
    {
     "data": {
      "text/plain": [
       "0.014418542171988643"
      ]
     },
     "execution_count": 492,
     "metadata": {},
     "output_type": "execute_result"
    }
   ],
   "source": [
    "data_check[2,inds].sum()"
   ]
  },
  {
   "cell_type": "code",
   "execution_count": 493,
   "metadata": {},
   "outputs": [
    {
     "data": {
      "text/plain": [
       "0.0043761439441269145"
      ]
     },
     "execution_count": 493,
     "metadata": {},
     "output_type": "execute_result"
    }
   ],
   "source": [
    "data_sum[2,s].sum()"
   ]
  },
  {
   "cell_type": "code",
   "execution_count": 496,
   "metadata": {},
   "outputs": [
    {
     "data": {
      "text/plain": [
       "array([0.24430642, 0.25465839, 0.38302277, 0.11594203, 0.00207039])"
      ]
     },
     "execution_count": 496,
     "metadata": {},
     "output_type": "execute_result"
    }
   ],
   "source": [
    "sizes[inds] / np.sum(sizes[inds])"
   ]
  },
  {
   "cell_type": "code",
   "execution_count": 495,
   "metadata": {},
   "outputs": [
    {
     "data": {
      "text/plain": [
       "0.07614518676246448"
      ]
     },
     "execution_count": 495,
     "metadata": {},
     "output_type": "execute_result"
    }
   ],
   "source": [
    "np.nansum(np.einsum( 'l, s l -> s', sizes[inds] / np.sum(sizes[inds]) , data[:,inds]) , axis = 1)"
   ]
  },
  {
   "cell_type": "code",
   "execution_count": 497,
   "metadata": {},
   "outputs": [
    {
     "name": "stdout",
     "output_type": "stream",
     "text": [
      "0 0.3035080725864635 (5,) 0.0043761439441269145 0.014418542171988643\n",
      "1 0.2665036643166186 (5,) 0.022472987426590128 0.08232321255942215\n",
      "2 0.28411615292715253 (5,) 0.13549664627062769 0.4801311431525724\n",
      "3 0.18726231247322433 (6,) 0.13671879520299915 0.4866575440937453\n",
      "4 0.175143046841002 (6,) 0.13773874207376977 0.49248105173031476\n",
      "5 0.20012355683466976 (6,) 0.13797400006522184 0.49365661544291867\n",
      "6 0.19066633908919028 (6,) 0.13976506956968565 0.5030503527592154\n",
      "7 0.20403544933578577 (6,) 0.1407242143381352 0.5077512259240107\n",
      "8 0.17098563774900397 (6,) 0.14083143399811526 0.5083782941467668\n",
      "9 0.1945862624907836 (6,) 0.14115025585216817 0.5100167543852843\n",
      "10 0.18324316143978048 (6,) 0.14291606115569305 0.519653159311125\n",
      "11 0.1852195258759483 (6,) 0.14328773093325436 0.5216598039983067\n",
      "12 0.22337591715839747 (6,) 0.1439007338207806 0.5244040697872261\n",
      "13 0.17814241601476 (6,) 0.14395396949073216 0.5247029074876598\n",
      "14 0.1824349890896837 (6,) 0.1439938972564943 0.5249217677291154\n",
      "15 0.17610352334024246 (6,) 0.14400652950944362 0.5249934997007972\n",
      "16 0.16878855079214314 (6,) 0.14404105215365126 0.5251980316080008\n",
      "17 0.16824356539413787 (6,) 0.14408479644163813 0.5254580373198648\n",
      "18 0.19767006929301809 (6,) 0.1441720545625482 0.5258994704676457\n",
      "19 0.1675402094956745 (6,) 0.14419650488130326 0.526045407486757\n",
      "20 0.17685038373222614 (6,) 0.1443656885357458 0.5270020559874394\n",
      "21 0.24281881714972206 (6,) 0.1443889321446732 0.5270977800717597\n",
      "22 0.1930432062705935 (6,) 0.14442644834249843 0.5272921210099881\n",
      "23 0.17285508544176562 (6,) 0.14443772068721558 0.5273573336977626\n",
      "24 0.2174883301304184 (6,) 0.14449474463104392 0.5276195268177066\n",
      "25 0.2899530324251533 (5,) 0.1501950340561507 0.5472788812222109\n",
      "26 0.2819077487952702 (5,) 0.1510540726066105 0.5503261140639149\n",
      "27 0.29984315323475047 (5,) 0.15273943267537982 0.5559469196437237\n",
      "28 0.2467089323141611 (5,) 0.15278759708798245 0.5561421473241762\n",
      "29 0.2834615115897303 (5,) 0.1548001727131259 0.5632421434183774\n",
      "30 0.2706602227207981 (5,) 0.15499651176073434 0.5639675512586384\n",
      "31 0.2539878296383119 (5,) 0.15545915686547157 0.5657890759568732\n",
      "32 0.27808476849642494 (5,) 0.15852877687779005 0.5768275086941841\n",
      "33 0.2526568450246359 (5,) 0.1588613180097673 0.5781436857086831\n",
      "34 0.23250219807936456 (5,) 0.15902805869964387 0.5788608431861348\n",
      "35 0.23554339427045692 (5,) 0.15925392938819805 0.5798197776926777\n",
      "36 0.2489317812860164 (5,) 0.1597694826301791 0.5818908400508772\n",
      "37 0.25794502960083493 (5,) 0.160186712921199 0.5835083563552835\n",
      "38 0.19158658484128552 (6,) 0.1604473480578933 0.5848687602526138\n",
      "39 0.18972264618306572 (6,) 0.16060509015072494 0.5857001954871796\n",
      "40 0.1918630348851476 (6,) 0.16071704053913038 0.586283686666043\n",
      "41 0.2704366761730397 (5,) 0.16082887859511444 0.5866972328520362\n",
      "42 0.21031032022216467 (5,) 0.16104748495362875 0.5877366795053596\n",
      "43 1.0 (1,) 0.16249491520988502 0.589184109761616\n",
      "44 0.2502705636024551 (3,) 0.1625204637148916 0.5892861933012813\n",
      "45 1.0 (1,) 0.16271619244082186 0.5894819220272115\n",
      "46 0.4988166621650269 (2,) 0.162937127697024 0.5899248407846629\n",
      "47 1.0 (1,) 0.1630953496289616 0.5900830627166005\n",
      "48 1.0 (1,) 0.16635895776449958 0.5933466708521384\n",
      "49 0.3614571176712266 (3,) 0.16639587274039458 0.5934487990828199\n",
      "50 1.0 (1,) 0.16665781281558856 0.5937107391580139\n",
      "51 0.49445561618480294 (2,) 0.16698210708137498 0.5943666003823006\n",
      "52 1.0 (1,) 0.16758316821286454 0.5949676615137902\n",
      "53 1.0 (1,) 0.16791581363583913 0.5953003069367647\n",
      "54 1.0 (1,) 0.16808724989478885 0.5954717431957145\n",
      "55 1.0 (1,) 0.16809020993522367 0.5954747032361493\n",
      "56 1.0 (1,) 0.1681230528859957 0.5955075461869214\n",
      "57 0.651820811595122 (3,) 0.16908660693008737 0.5969857960785345\n",
      "58 1.0 (1,) 0.1690913683470506 0.5969905574954977\n",
      "59 1.0 (1,) 0.16970702729206294 0.59760621644051\n",
      "60 0.1792448836880316 (5,) 0.16994157483080494 0.5989147477297502\n",
      "61 0.2435779333480275 (5,) 0.17010246928506928 0.5995752938311676\n",
      "62 1.0 (1,) 0.17025642261503154 0.5997292471611299\n",
      "63 1.0 (1,) 0.1706555876579674 0.6001284122040658\n",
      "64 1.0 (1,) 0.17068883784904998 0.6001616623951483\n",
      "65 1.0 (1,) 0.17119050212777523 0.6006633266738736\n",
      "66 1.0 (1,) 0.17124310362797351 0.6007159281740718\n",
      "67 1.0 (1,) 0.1712541672733719 0.6007269918194702\n",
      "68 1.0 (1,) 0.17132591824770918 0.6007987427938075\n",
      "69 1.0 (1,) 0.17178774605151492 0.6012605705976132\n",
      "70 1.0 (1,) 0.171946275793244 0.6014191003393423\n",
      "71 1.0 (1,) 0.17195811776552272 0.601430942311621\n",
      "72 1.0 (1,) 0.17198353626074375 0.6014563608068421\n",
      "73 0.40599722745429306 (3,) 0.17228327121855144 0.6021946292913022\n",
      "74 0.5217656305422694 (2,) 0.17230095426988093 0.6022285200849735\n",
      "75 1.0 (1,) 0.1723185190261353 0.6022460848412279\n",
      "76 1.0 (1,) 0.263277840070293 0.6932054058853855\n",
      "77 1.0 (1,) 0.2643823047857563 0.6943098706008488\n",
      "78 1.0 (1,) 0.2645795064344719 0.6945070722495644\n",
      "79 1.0 (1,) 0.2670176916207681 0.6969452574358607\n",
      "80 1.0 (1,) 0.2670314292093737 0.6969589950244662\n",
      "81 1.0 (1,) 0.2670765108185907 0.6970040766336832\n",
      "82 1.0 (1,) 0.26708046646516687 0.6970080322802594\n",
      "83 1.0 (1,) 0.2670965051669376 0.6970240709820301\n",
      "84 1.0 (1,) 0.2670987896461839 0.6970263554612764\n",
      "85 1.0 (1,) 0.2671710222925859 0.6970985881076784\n",
      "86 1.0 (1,) 0.2671940570601909 0.6971216228752835\n",
      "87 0.37897397076815376 (3,) 0.26737540734580933 0.6976001525359112\n",
      "88 1.0 (1,) 0.2673897456194487 0.6976144908095506\n",
      "89 1.0 (1,) 0.2676188685715068 0.6978436137616086\n",
      "90 1.0 (1,) 0.2704466040233955 0.7006713492134974\n",
      "91 1.0 (1,) 0.27132700519608155 0.7015517503861834\n",
      "92 1.0 (1,) 0.27176077553271205 0.701985520722814\n",
      "93 1.0 (1,) 0.27177347923096473 0.7019982244210666\n",
      "94 1.0 (1,) 0.27177947117540563 0.7020042163655076\n",
      "95 1.0 (1,) 0.2723836019798529 0.7026083471699548\n",
      "96 1.0 (1,) 0.27241331819980613 0.702638063389908\n",
      "97 1.0 (1,) 0.2724936206619111 0.702718365852013\n",
      "98 1.0 (1,) 0.27249574048963593 0.7027204856797378\n",
      "99 1.0 (1,) 0.28673034896381794 0.7169550941539198\n",
      "100 1.0 (1,) 0.294423997861051 0.7246487430511529\n",
      "101 1.0 (1,) 0.2965173544832942 0.7267420996733961\n",
      "102 1.0 (1,) 0.2966363462648172 0.7268610914549192\n",
      "103 1.0 (1,) 0.2999003472512909 0.7301250924413928\n",
      "104 1.0 (1,) 0.30042246589694366 0.7306472110870456\n",
      "105 1.0 (1,) 0.3007085350685419 0.7309332802586438\n",
      "106 1.0 (1,) 0.30076474374250006 0.730989488932602\n",
      "107 1.0 (1,) 0.3010930234739207 0.7313177686640226\n",
      "108 1.0 (1,) 0.30115364518099036 0.7313783903710922\n",
      "109 1.0 (1,) 0.3011634322048262 0.7313881773949281\n",
      "110 0.3260879684922088 (3,) 0.3012619732874213 0.7316903691104053\n",
      "111 0.5146373827139622 (3,) 0.30128284328557076 0.7317309219323541\n",
      "112 1.0 (1,) 0.3036314903512968 0.7340795689980801\n",
      "113 1.0 (1,) 0.3217591917297189 0.7522072703765023\n",
      "114 1.0 (1,) 0.3218601341631928 0.7523082128099763\n",
      "115 1.0 (1,) 0.32188712077980475 0.7523351994265881\n",
      "116 1.0 (1,) 0.32309305773674596 0.7535411363835294\n",
      "117 0.5103192261742046 (2,) 0.3239483082172443 0.7552170490997914\n",
      "118 1.0 (1,) 0.32403440838090614 0.7553031492634532\n",
      "119 1.0 (1,) 0.3242048858078581 0.7554736266904052\n",
      "120 1.0 (1,) 0.3246996018482825 0.7559683427308295\n",
      "121 1.0 (1,) 0.32714221865146653 0.7584109595340136\n",
      "122 1.0 (1,) 0.3276184901167377 0.7588872309992848\n",
      "123 1.0 (1,) 0.3402956640082302 0.7715644048907773\n",
      "124 1.0 (1,) 0.34205130916434023 0.7733200500468873\n",
      "125 1.0 (1,) 0.3420880278766212 0.7733567687591683\n",
      "126 1.0 (1,) 0.342152138700956 0.773420879583503\n",
      "127 1.0 (1,) 0.3421685050150395 0.7734372458975866\n",
      "128 1.0 (1,) 0.34238545523913977 0.7736541961216867\n",
      "129 1.0 (1,) 0.342454019716283 0.77372276059883\n",
      "130 1.0 (1,) 0.3429119032567607 0.7741806441393078\n",
      "131 1.0 (1,) 0.3444832284823158 0.7757519693648628\n",
      "132 1.0 (1,) 0.3481243795616149 0.779393120444162\n",
      "133 1.0 (1,) 0.3534789202790444 0.7847476611615913\n",
      "134 1.0 (1,) 0.3582895230173455 0.7895582638998926\n",
      "135 1.0 (1,) 0.3583185683290874 0.7895873092116343\n",
      "136 1.0 (1,) 0.36361220317850185 0.7948809440610489\n",
      "137 1.0 (1,) 0.36362060466262913 0.7948893455451762\n",
      "138 1.0 (1,) 0.36362331027338735 0.7948920511559343\n",
      "139 1.0 (1,) 0.36370625554481417 0.7949749964273611\n",
      "140 1.0 (1,) 0.36370684413875787 0.7949755850213049\n",
      "141 1.0 (1,) 0.36373896636633585 0.7950077072488828\n",
      "142 1.0 (1,) 0.36384476927339626 0.7951135101559432\n",
      "143 1.0 (1,) 0.3638716747927122 0.7951404156752593\n",
      "144 1.0 (1,) 0.3638716765036262 0.7951404173861732\n",
      "145 1.0 (1,) 0.3638719513285512 0.7951406922110982\n",
      "146 1.0 (1,) 0.3638719594815861 0.7951407003641332\n",
      "147 1.0 (1,) 0.363874196250319 0.7951429371328661\n",
      "148 1.0 (1,) 0.3639830145817041 0.7952517554642511\n",
      "149 1.0 (1,) 0.3639830202948281 0.7952517611773751\n",
      "150 1.0 (1,) 0.3639864592575458 0.7952552001400928\n",
      "151 1.0 (1,) 0.3639975534757431 0.7952662943582901\n",
      "152 1.0 (1,) 0.3640024100422522 0.7952711509247993\n",
      "153 1.0 (1,) 0.3640068399924556 0.7952755808750026\n",
      "154 1.0 (1,) 0.3640173278994633 0.7952860687820104\n",
      "155 1.0 (1,) 0.36401845012701556 0.7952871910095626\n",
      "156 1.0 (1,) 0.3640184688913927 0.7952872097739397\n",
      "157 1.0 (1,) 0.3640193426589886 0.7952880835415357\n",
      "158 1.0 (1,) 0.3640768694149517 0.7953456102974987\n",
      "159 1.0 (1,) 0.364077526253049 0.7953462671355961\n",
      "160 1.0 (1,) 0.3640775268653231 0.7953462677478701\n",
      "161 1.0 (1,) 0.3640780795789393 0.7953468204614863\n",
      "162 1.0 (1,) 0.36410154238127734 0.7953702832638243\n",
      "163 1.0 (1,) 0.364102352435871 0.7953710933184182\n",
      "164 1.0 (1,) 0.3641372798685126 0.7954060207510596\n",
      "165 1.0 (1,) 0.36414020803878416 0.7954089489213312\n",
      "166 1.0 (1,) 0.36421287170857486 0.7954816125911219\n",
      "167 0.2745862068873265 (5,) 0.36429850487531956 0.795793475185079\n",
      "168 1.0 (1,) 0.3644601410552067 0.7959551113649661\n",
      "169 1.0 (1,) 0.36446224076922334 0.7959572110789828\n",
      "170 1.0 (1,) 0.3648247570581954 0.7963197273679549\n",
      "171 1.0 (1,) 0.36482718200471936 0.7963221523144788\n",
      "172 1.0 (1,) 0.3648292247368217 0.7963241950465811\n",
      "173 1.0 (1,) 0.3648578133642505 0.7963527836740099\n",
      "174 1.0 (1,) 0.3648661215094215 0.7963610918191809\n",
      "175 1.0 (1,) 0.36487199461894537 0.7963669649287048\n",
      "176 1.0 (1,) 0.3651152772884438 0.7966102475982033\n",
      "177 1.0 (1,) 0.36549963030928423 0.7969946006190437\n",
      "178 1.0 (1,) 0.36551366254370166 0.7970086328534611\n",
      "179 1.0 (1,) 0.3655269190401171 0.7970218893498766\n",
      "180 1.0 (1,) 0.3656771432356915 0.7971721135454509\n",
      "181 1.0 (1,) 0.3656799216259402 0.7971748919356997\n",
      "182 1.0 (1,) 0.3656853378448994 0.7971803081546589\n",
      "183 1.0 (1,) 0.3664167290840672 0.7979116993938267\n",
      "184 1.0 (1,) 0.3674382587728265 0.7989332290825859\n",
      "185 1.0 (1,) 0.36846984612600847 0.799964816435768\n",
      "186 1.0 (1,) 0.3687179386533809 0.8002129089631402\n",
      "187 0.3206863800140889 (3,) 0.3688934792511349 0.8007602992132231\n",
      "188 0.42061977656826 (3,) 0.3689515333117135 0.8008983194961785\n",
      "189 1.0 (1,) 0.3689684454209819 0.8009152316054469\n",
      "190 1.0 (1,) 0.3689751429824806 0.8009219291669456\n",
      "191 1.0 (1,) 0.36899926291067164 0.8009460490951367\n",
      "192 1.0 (1,) 0.3690004657777334 0.8009472519621984\n",
      "193 1.0 (1,) 0.36900106081820433 0.8009478470026693\n",
      "194 1.0 (1,) 0.3713664629280719 0.803313249112537\n",
      "195 1.0 (1,) 0.37167491344434506 0.8036216996288101\n",
      "196 1.0 (1,) 0.3716779986804723 0.8036247848649374\n",
      "197 1.0 (1,) 0.3717396907262205 0.8036864769106855\n",
      "198 1.0 (1,) 0.3808266220681438 0.8127734082526088\n",
      "199 0.350101903387701 (4,) 0.3836001391954218 0.8206954363833918\n",
      "200 0.2405140973621493 (4,) 0.3836408438204815 0.8208646764633128\n",
      "201 1.0 (1,) 0.38582951258859316 0.8230533452314245\n",
      "202 1.0 (1,) 0.38583392592689963 0.823057758569731\n",
      "203 1.0 (1,) 0.3858695760914597 0.823093408734291\n",
      "204 1.0 (1,) 0.38602113750430017 0.8232449701471315\n",
      "205 1.0 (1,) 0.38602408081770906 0.8232479134605404\n",
      "206 1.0 (1,) 0.38607992110376727 0.8233037537465986\n",
      "207 1.0 (1,) 0.38631242748368244 0.8235362601265137\n",
      "208 1.0 (1,) 0.3867860612240177 0.824009893866849\n",
      "209 1.0 (1,) 0.3867865922778849 0.8240104249207163\n",
      "210 1.0 (1,) 0.386865206625101 0.8240890392679323\n",
      "211 1.0 (1,) 0.3869342874027012 0.8241581200455325\n",
      "212 1.0 (1,) 0.3869364709489297 0.824160303591761\n",
      "213 1.0 (1,) 0.38694320369584373 0.824167036338675\n",
      "214 1.0 (1,) 0.3869496727720925 0.8241735054149238\n",
      "215 1.0 (1,) 0.38696462761995265 0.824188460262784\n",
      "216 1.0 (1,) 0.3869656969333239 0.8241895295761552\n",
      "217 1.0 (1,) 0.38697219227445045 0.8241960249172817\n",
      "218 1.0 (1,) 0.3870381766175279 0.8242620092603592\n",
      "219 1.0 (1,) 0.3872453758659029 0.8244692085087342\n",
      "220 1.0 (1,) 0.38752366724434595 0.8247474998871772\n",
      "221 1.0 (1,) 0.3875428961825406 0.8247667288253719\n",
      "222 0.17669810372428318 (8,) 0.3875968098040043 0.8250718459733626\n",
      "223 1.0 (1,) 0.38762031883377956 0.8250953550031379\n",
      "224 1.0 (1,) 0.3876335890385771 0.8251086252079354\n",
      "225 1.0 (1,) 0.38768331695239555 0.8251583531217539\n",
      "226 1.0 (1,) 0.3880161846120233 0.8254912207813816\n",
      "227 1.0 (1,) 0.3880411878188945 0.8255162239882528\n",
      "228 1.0 (1,) 0.38805886055554684 0.8255338967249051\n",
      "229 0.4026020858769134 (3,) 0.38806899583058113 0.8255590711474674\n",
      "230 1.0 (1,) 0.38807116134925607 0.8255612366661423\n",
      "231 1.0 (1,) 0.3880750578775675 0.8255651331944538\n",
      "232 1.0 (1,) 0.38807832563710526 0.8255684009539915\n",
      "233 1.0 (1,) 0.38814167353299955 0.8256317488498859\n",
      "234 1.0 (1,) 0.390980864437541 0.8284709397544273\n",
      "235 1.0 (1,) 0.3913154135803224 0.8288054888972087\n",
      "236 1.0 (1,) 0.39131791671953836 0.8288079920364246\n",
      "237 1.0 (1,) 0.3913587372842121 0.8288488126010984\n",
      "238 1.0 (1,) 0.3926059169036392 0.8300959922205255\n",
      "239 1.0 (1,) 0.3926166333082968 0.8301067086251831\n",
      "240 1.0 (1,) 0.3926359563717503 0.8301260316886365\n",
      "241 1.0 (1,) 0.3926366825733865 0.8301267578902728\n",
      "242 1.0 (1,) 0.39264570344480254 0.8301357787616888\n",
      "243 1.0 (1,) 0.39264790176776004 0.8301379770846463\n",
      "244 1.0 (1,) 0.3931375879833017 0.8306276633001879\n",
      "245 1.0 (1,) 0.3931386470807159 0.8306287223976021\n",
      "246 1.0 (1,) 0.3932133727110236 0.8307034480279099\n",
      "247 1.0 (1,) 0.39325264702725216 0.8307427223441385\n",
      "248 1.0 (1,) 0.3945569151886296 0.8320469905055159\n",
      "249 1.0 (1,) 0.3946034016732162 0.8320934769901025\n",
      "250 1.0 (1,) 0.3946064038933675 0.8320964792102538\n",
      "251 1.0 (1,) 0.3946256613805315 0.8321157366974178\n",
      "252 1.0 (1,) 0.39463102711045883 0.8321211024273452\n",
      "253 1.0 (1,) 0.3947180517578452 0.8322081270747315\n",
      "254 1.0 (1,) 0.395072219877218 0.8325622951941043\n",
      "255 1.0 (1,) 0.3950748748080704 0.8325649501249567\n",
      "256 1.0 (1,) 0.3950762288894251 0.8325663042063114\n",
      "257 1.0 (1,) 0.3951044946692674 0.8325945699861537\n",
      "258 1.0 (1,) 0.3951273630015035 0.8326174383183897\n",
      "259 1.0 (1,) 0.3951456429259663 0.8326357182428525\n",
      "260 1.0 (1,) 0.3953722355941858 0.8328623109110721\n",
      "261 1.0 (1,) 0.3954287605174315 0.8329188358343178\n",
      "262 1.0 (1,) 0.39544766391514746 0.8329377392320337\n",
      "263 1.0 (1,) 0.39547415206701103 0.8329642273838973\n",
      "264 1.0 (1,) 0.3954746835776875 0.8329647588945738\n",
      "265 1.0 (1,) 0.3955809402759936 0.8330710155928799\n",
      "266 1.0 (1,) 0.39558135571835806 0.8330714310352443\n",
      "267 0.5747395324382735 (2,) 0.3955821294416573 0.8330727772508004\n",
      "268 1.0 (1,) 0.3955834337112476 0.8330740815203908\n",
      "269 1.0 (1,) 0.3960199053854916 0.8335105531946347\n",
      "270 1.0 (1,) 0.3960199910677248 0.8335106388768678\n",
      "271 1.0 (1,) 0.39623994245549754 0.8337305902646406\n",
      "272 1.0 (1,) 0.39652016110782273 0.8340108089169658\n",
      "273 1.0 (1,) 0.396520540645884 0.8340111884550271\n",
      "274 1.0 (1,) 0.3965290963492885 0.8340197441584316\n",
      "275 0.5954019129414302 (2,) 0.39660893839140804 0.8341538418836557\n",
      "276 1.0 (1,) 0.3968854493803025 0.8344303528725502\n",
      "277 0.4974748892958506 (2,) 0.3969580072321121 0.8345762051625266\n",
      "278 1.0 (1,) 0.39716667792009525 0.8347848758505099\n",
      "279 1.0 (1,) 0.39716702043590285 0.8347852183663174\n",
      "280 1.0 (1,) 0.39718743857428995 0.8348056365047045\n",
      "281 1.0 (1,) 0.3972670490043084 0.834885246934723\n",
      "282 1.0 (1,) 0.3972705514114534 0.834888749341868\n",
      "283 1.0 (1,) 0.3972774029462519 0.8348956008766665\n",
      "284 1.0 (1,) 0.39728955288041146 0.834907750810826\n",
      "285 1.0 (1,) 0.39729117365859323 0.8349093715890078\n",
      "286 1.0 (1,) 0.3973254148425034 0.834943612772918\n",
      "287 1.0 (1,) 0.397373892724213 0.8349920906546275\n",
      "288 1.0 (1,) 0.3973766557188774 0.8349948536492919\n",
      "289 1.0 (1,) 0.39737760503462066 0.8349958029650353\n",
      "290 1.0 (1,) 0.39738589684520426 0.8350040947756188\n",
      "291 1.0 (1,) 0.39738597518959606 0.8350041731200106\n",
      "292 1.0 (1,) 0.39764589439309506 0.8352640923235096\n",
      "293 1.0 (1,) 0.3988957176755257 0.8365139156059402\n",
      "294 1.0 (1,) 0.3989388368893572 0.8365570348197717\n",
      "295 1.0 (1,) 0.39897117275087474 0.8365893706812892\n",
      "296 0.5917250126368038 (2,) 0.39912405847745 0.8368477436134965\n",
      "297 1.0 (1,) 0.3993730700634919 0.8370967551995383\n",
      "298 1.0 (1,) 0.39952195389356115 0.8372456390296076\n",
      "299 1.0 (1,) 0.39953616546814225 0.8372598506041887\n",
      "300 1.0 (1,) 0.3995390746927044 0.8372627598287508\n",
      "301 1.0 (1,) 0.3996989252404752 0.8374226103765217\n",
      "302 1.0 (1,) 0.3998769174932184 0.8376006026292648\n",
      "303 1.0 (1,) 0.40019125731773 0.8379149424537764\n",
      "304 0.49987919508608586 (2,) 0.400624817643264 0.8387822726603464\n",
      "305 1.0 (1,) 0.4011753742089058 0.8393328292259882\n",
      "306 1.0 (1,) 0.40145096046211853 0.839608415479201\n",
      "307 1.0 (1,) 0.4027078126397891 0.8408652676568714\n"
     ]
    },
    {
     "name": "stdout",
     "output_type": "stream",
     "text": [
      "308 1.0 (1,) 0.4027872155359524 0.8409446705530348\n",
      "309 1.0 (1,) 0.4027898466371288 0.8409473016542112\n",
      "310 1.0 (1,) 0.4027920796775336 0.840949534694616\n",
      "311 1.0 (1,) 0.40279248974395293 0.8409499447610354\n",
      "312 1.0 (1,) 0.4027947824996518 0.8409522375167342\n"
     ]
    }
   ],
   "source": [
    "    ool_s = get_aligned_ids(st,list1,list2)\n",
    "    list2 = np.asarray(list2)\n",
    "    nsum = list2.shape[0]\n",
    "    data_sum = np.zeros((data.shape[0], nsum)) \n",
    "    data_check = np.zeros((data.shape[0], data.shape[1]))\n",
    "    for s in range(nsum):\n",
    "        inds = np.where(ool_s == list2[s])[0]\n",
    "        \n",
    "        #print(inds, data.shape)\n",
    "        data_sum[:,s] = np.einsum( 'l, s l -> s', sizes[inds] / np.sum(sizes[inds]) , data[:,inds]) \n",
    "        data_check[:,inds] = data[:,inds]\n",
    "        print(s, data_sum[2,s] / data[2,inds].sum(),inds.shape, data_sum[2,:].sum(), data_check[2,:].sum())"
   ]
  },
  {
   "cell_type": "code",
   "execution_count": 479,
   "metadata": {},
   "outputs": [
    {
     "data": {
      "text/plain": [
       "(313,)"
      ]
     },
     "execution_count": 479,
     "metadata": {},
     "output_type": "execute_result"
    }
   ],
   "source": [
    "data_sum.sum(axis =1).shape"
   ]
  },
  {
   "cell_type": "code",
   "execution_count": 469,
   "metadata": {},
   "outputs": [
    {
     "data": {
      "text/plain": [
       "array([1.])"
      ]
     },
     "execution_count": 469,
     "metadata": {},
     "output_type": "execute_result"
    }
   ],
   "source": [
    "sizes[inds]/ np.sum(sizes[inds])"
   ]
  },
  {
   "cell_type": "code",
   "execution_count": 327,
   "metadata": {
    "collapsed": true
   },
   "outputs": [],
   "source": []
  },
  {
   "cell_type": "code",
   "execution_count": 427,
   "metadata": {},
   "outputs": [
    {
     "data": {
      "text/plain": [
       "array([1.        , 1.        , 1.        , 1.        , 1.        ,\n",
       "       1.        , 1.        , 1.        , 1.00000001,        nan,\n",
       "       1.        ,        nan, 1.        , 1.        , 1.        ,\n",
       "       1.        , 1.        , 1.        , 1.        , 1.        ,\n",
       "       1.        , 1.        , 1.        , 1.        , 1.        ,\n",
       "       1.        , 1.        , 1.        , 1.        , 1.        ,\n",
       "       1.        , 1.        , 1.        ,        nan,        nan,\n",
       "       1.        , 1.        , 1.        ,        nan,        nan,\n",
       "              nan,        nan, 1.        , 1.        ,        nan,\n",
       "       1.        ,        nan,        nan, 1.        ,        nan,\n",
       "              nan, 1.        ,        nan, 1.        , 1.        ,\n",
       "              nan, 1.        , 1.        ,        nan,        nan,\n",
       "       1.        , 1.        , 1.        ,        nan,        nan,\n",
       "       1.        ,        nan,        nan, 0.99999999,        nan,\n",
       "              nan,        nan,        nan, 1.        ,        nan,\n",
       "              nan, 1.        , 1.00000001,        nan,        nan,\n",
       "       1.        , 1.        ,        nan,        nan,        nan,\n",
       "              nan,        nan, 1.        ,        nan, 1.        ,\n",
       "       0.99999997,        nan,        nan,        nan, 0.99999999,\n",
       "              nan,        nan, 1.        ,        nan,        nan,\n",
       "       1.        ,        nan,        nan, 1.        ,        nan,\n",
       "              nan,        nan,        nan,        nan,        nan,\n",
       "       1.        ,        nan,        nan, 1.        ,        nan,\n",
       "              nan, 0.99999999,        nan,        nan,        nan,\n",
       "              nan, 1.        ,        nan, 1.        ,        nan,\n",
       "              nan,        nan,        nan,        nan,        nan,\n",
       "              nan, 0.99999999,        nan,        nan, 1.        ,\n",
       "              nan,        nan,        nan,        nan,        nan,\n",
       "              nan,        nan,        nan,        nan,        nan,\n",
       "              nan,        nan,        nan,        nan,        nan,\n",
       "              nan, 1.        ,        nan,        nan,        nan,\n",
       "              nan,        nan,        nan,        nan,        nan,\n",
       "              nan,        nan,        nan,        nan,        nan,\n",
       "              nan,        nan,        nan,        nan,        nan,\n",
       "              nan, 1.        ,        nan,        nan,        nan,\n",
       "       1.        ,        nan,        nan,        nan,        nan,\n",
       "              nan,        nan,        nan, 1.        ,        nan,\n",
       "              nan,        nan,        nan, 1.        ,        nan,\n",
       "              nan,        nan,        nan,        nan,        nan,\n",
       "              nan,        nan,        nan, 1.        , 1.        ,\n",
       "       1.00000001, 1.        ,        nan,        nan,        nan,\n",
       "              nan,        nan,        nan,        nan,        nan,\n",
       "              nan,        nan,        nan,        nan,        nan,\n",
       "              nan,        nan,        nan,        nan,        nan,\n",
       "              nan,        nan, 1.        ,        nan,        nan,\n",
       "              nan,        nan,        nan,        nan,        nan,\n",
       "              nan,        nan,        nan, 1.00000001,        nan,\n",
       "              nan,        nan,        nan, 1.        ,        nan,\n",
       "              nan,        nan,        nan,        nan, 0.99999999,\n",
       "              nan,        nan,        nan, 0.99999999,        nan,\n",
       "              nan,        nan,        nan,        nan, 1.        ,\n",
       "              nan, 1.        ,        nan,        nan,        nan,\n",
       "       1.        , 1.        ,        nan,        nan,        nan,\n",
       "              nan,        nan,        nan,        nan, 1.00000001,\n",
       "              nan,        nan, 0.99999999,        nan,        nan,\n",
       "              nan,        nan,        nan, 1.        ,        nan,\n",
       "              nan, 0.99999999,        nan,        nan,        nan,\n",
       "              nan, 1.        , 0.99999999,        nan,        nan,\n",
       "       1.        ,        nan,        nan,        nan,        nan,\n",
       "              nan, 0.99999999, 1.00000001,        nan,        nan,\n",
       "       1.00000003,        nan,        nan, 0.99999999, 0.99999999,\n",
       "       1.00000002,        nan, 1.        ,        nan, 0.99999999,\n",
       "       0.99999999,        nan,        nan])"
      ]
     },
     "execution_count": 427,
     "metadata": {},
     "output_type": "execute_result"
    }
   ],
   "source": [
    "data_sourcecomb.sum(axis = 1)"
   ]
  },
  {
   "cell_type": "code",
   "execution_count": 349,
   "metadata": {
    "collapsed": true
   },
   "outputs": [],
   "source": [
    "ids = np.where(output.sum(axis = 1)> 0)[0]"
   ]
  },
  {
   "cell_type": "code",
   "execution_count": 351,
   "metadata": {},
   "outputs": [
    {
     "name": "stderr",
     "output_type": "stream",
     "text": [
      "/Users/samsonkoelle/anaconda3/envs/allen_010719_5/lib/python3.7/site-packages/ipykernel_launcher.py:1: RuntimeWarning: divide by zero encountered in log10\n",
      "  \"\"\"Entry point for launching an IPython kernel.\n"
     ]
    },
    {
     "data": {
      "text/plain": [
       "<matplotlib.axes._subplots.AxesSubplot at 0x128294610>"
      ]
     },
     "execution_count": 351,
     "metadata": {},
     "output_type": "execute_result"
    },
    {
     "data": {
      "image/png": "[encoded data removed]",
      "text/plain": [
       "<Figure size 432x288 with 2 Axes>"
      ]
     },
     "metadata": {
      "needs_background": "light"
     },
     "output_type": "display_data"
    }
   ],
   "source": [
    "sns.heatmap(np.log10(output.iloc[ids]), vmax = 0, vmin = -6)"
   ]
  },
  {
   "cell_type": "code",
   "execution_count": 423,
   "metadata": {},
   "outputs": [
    {
     "data": {
      "text/plain": [
       "TMv     0.000000\n",
       "ICc     1.604226\n",
       "ICd     1.799153\n",
       "ICe     2.183175\n",
       "PSV     0.000000\n",
       "          ...   \n",
       "VeCB    0.000000\n",
       "SCO     0.000000\n",
       "PDTg    0.000000\n",
       "Pa4     0.000000\n",
       "PN      0.000000\n",
       "Length: 564, dtype: float64"
      ]
     },
     "execution_count": 423,
     "metadata": {},
     "output_type": "execute_result"
    }
   ],
   "source": [
    "oldway = pd.read_csv('/Users/samsonkoelle/alleninstitute/sambranch/mouse_connectivity_models/analyses/paper/connectivities/ELLeafsmoothsummarysurface_leafsource_summarytarget_v3/elsummarymodel_leafsource_summarytarget_wt_v3.csv',  header=[0,1])\n",
    "oldway = fix_pdcsv(oldway)\n",
    "#oldway is the just unionized\n",
    "oldway.sum(axis = 1)"
   ]
  },
  {
   "cell_type": "code",
   "execution_count": 374,
   "metadata": {},
   "outputs": [
    {
     "name": "stdout",
     "output_type": "stream",
     "text": [
      "[0 1 2 3 4] (564, 564)\n",
      "[5 6 7 8 9] (564, 564)\n",
      "[10 11 12 13 14] (564, 564)\n",
      "[15 16 17 18 19 20] (564, 564)\n",
      "[21 22 23 24 25 26] (564, 564)\n",
      "[27 28 29 30 31 32] (564, 564)\n",
      "[33 34 35 36 37 38] (564, 564)\n",
      "[39 40 41 42 43 44] (564, 564)\n",
      "[45 46 47 48 49 50] (564, 564)\n",
      "[51 52 53 54 55 56] (564, 564)\n",
      "[57 58 59 60 61 62] (564, 564)\n",
      "[63 64 65 66 67 68] (564, 564)\n",
      "[69 70 71 72 73 74] (564, 564)\n",
      "[75 76 77 78 79 80] (564, 564)\n",
      "[81 82 83 84 85 86] (564, 564)\n",
      "[87 88 89 90 91 92] (564, 564)\n",
      "[93 94 95 96 97 98] (564, 564)\n",
      "[ 99 100 101 102 103 104] (564, 564)\n",
      "[105 106 107 108 109 110] (564, 564)\n",
      "[111 112 113 114 115 116] (564, 564)\n",
      "[117 118 119 120 121 122] (564, 564)\n",
      "[123 124 125 126 127 128] (564, 564)\n",
      "[129 130 131 132 133 134] (564, 564)\n",
      "[135 136 137 138 139 140] (564, 564)\n",
      "[141 142 143 144 145 146] (564, 564)\n",
      "[147 148 149 150 151] (564, 564)\n",
      "[152 153 154 155 156] (564, 564)\n",
      "[157 158 159 160 161] (564, 564)\n",
      "[162 163 164 165 166] (564, 564)\n",
      "[167 168 169 170 171] (564, 564)\n",
      "[172 173 174 175 176] (564, 564)\n",
      "[177 178 179 180 181] (564, 564)\n",
      "[182 183 184 185 186] (564, 564)\n",
      "[187 188 189 190 191] (564, 564)\n",
      "[192 193 194 195 196] (564, 564)\n",
      "[197 198 199 200 201] (564, 564)\n",
      "[202 203 204 205 206] (564, 564)\n",
      "[207 208 209 210 211] (564, 564)\n",
      "[212 213 214 215 216 217] (564, 564)\n",
      "[218 219 220 221 222 223] (564, 564)\n",
      "[224 225 226 227 228 229] (564, 564)\n",
      "[230 231 232 233 234] (564, 564)\n",
      "[235 236 237 238 239] (564, 564)\n",
      "[240] (564, 564)\n",
      "[241 242 243] (564, 564)\n",
      "[244] (564, 564)\n",
      "[245 246] (564, 564)\n",
      "[247] (564, 564)\n",
      "[248] (564, 564)\n",
      "[249 250 251] (564, 564)\n",
      "[252] (564, 564)\n",
      "[253 254] (564, 564)\n",
      "[255] (564, 564)\n",
      "[256] (564, 564)\n",
      "[257] (564, 564)\n",
      "[258] (564, 564)\n",
      "[259] (564, 564)\n",
      "[260 261 262] (564, 564)\n",
      "[263] (564, 564)\n",
      "[264] (564, 564)\n",
      "[265 266 267 268 269] (564, 564)\n",
      "[270 271 272 273 274] (564, 564)\n",
      "[275] (564, 564)\n",
      "[276] (564, 564)\n",
      "[277] (564, 564)\n",
      "[278] (564, 564)\n",
      "[279] (564, 564)\n",
      "[280] (564, 564)\n",
      "[281] (564, 564)\n",
      "[282] (564, 564)\n",
      "[283] (564, 564)\n",
      "[284] (564, 564)\n",
      "[285] (564, 564)\n",
      "[286 287 288] (564, 564)\n",
      "[289 290] (564, 564)\n",
      "[291] (564, 564)\n",
      "[292] (564, 564)\n",
      "[293] (564, 564)\n",
      "[294] (564, 564)\n",
      "[295] (564, 564)\n",
      "[296] (564, 564)\n",
      "[297] (564, 564)\n",
      "[298] (564, 564)\n",
      "[299] (564, 564)\n",
      "[300] (564, 564)\n",
      "[301] (564, 564)\n",
      "[302] (564, 564)\n",
      "[303 304 305] (564, 564)\n",
      "[306] (564, 564)\n",
      "[307] (564, 564)\n",
      "[308] (564, 564)\n",
      "[309] (564, 564)\n",
      "[310] (564, 564)\n",
      "[311] (564, 564)\n",
      "[312] (564, 564)\n",
      "[313] (564, 564)\n",
      "[314] (564, 564)\n",
      "[315] (564, 564)\n",
      "[316] (564, 564)\n",
      "[317] (564, 564)\n",
      "[318] (564, 564)\n",
      "[319] (564, 564)\n",
      "[320] (564, 564)\n",
      "[321] (564, 564)\n",
      "[322] (564, 564)\n",
      "[323] (564, 564)\n",
      "[324] (564, 564)\n",
      "[325] (564, 564)\n",
      "[326] (564, 564)\n",
      "[327] (564, 564)\n",
      "[328 329 330] (564, 564)\n",
      "[331 332 333] (564, 564)\n",
      "[334] (564, 564)\n",
      "[335] (564, 564)\n",
      "[336] (564, 564)\n",
      "[337] (564, 564)\n",
      "[338] (564, 564)\n",
      "[339 340] (564, 564)\n",
      "[341] (564, 564)\n",
      "[342] (564, 564)\n",
      "[343] (564, 564)\n",
      "[344] (564, 564)\n",
      "[345] (564, 564)\n",
      "[346] (564, 564)\n",
      "[347] (564, 564)\n",
      "[348] (564, 564)\n",
      "[349] (564, 564)\n",
      "[350] (564, 564)\n",
      "[351] (564, 564)\n",
      "[352] (564, 564)\n",
      "[353] (564, 564)\n",
      "[354] (564, 564)\n",
      "[355] (564, 564)\n",
      "[356] (564, 564)\n",
      "[357] (564, 564)\n",
      "[358] (564, 564)\n",
      "[359] (564, 564)\n",
      "[360] (564, 564)\n",
      "[361] (564, 564)\n",
      "[362] (564, 564)\n",
      "[363] (564, 564)\n",
      "[364] (564, 564)\n",
      "[365] (564, 564)\n",
      "[366] (564, 564)\n",
      "[367] (564, 564)\n",
      "[368] (564, 564)\n",
      "[369] (564, 564)\n",
      "[370] (564, 564)\n",
      "[371] (564, 564)\n",
      "[372] (564, 564)\n",
      "[373] (564, 564)\n",
      "[374] (564, 564)\n",
      "[375] (564, 564)\n",
      "[376] (564, 564)\n",
      "[377] (564, 564)\n",
      "[378] (564, 564)\n",
      "[379] (564, 564)\n",
      "[380] (564, 564)\n",
      "[381] (564, 564)\n",
      "[382] (564, 564)\n",
      "[383] (564, 564)\n",
      "[384] (564, 564)\n",
      "[385] (564, 564)\n",
      "[386] (564, 564)\n",
      "[387] (564, 564)\n",
      "[388] (564, 564)\n",
      "[389] (564, 564)\n",
      "[390 391 392 393 394] (564, 564)\n",
      "[395] (564, 564)\n",
      "[396] (564, 564)\n",
      "[397] (564, 564)\n",
      "[398] (564, 564)\n",
      "[399] (564, 564)\n",
      "[400] (564, 564)\n",
      "[401] (564, 564)\n",
      "[402] (564, 564)\n",
      "[403] (564, 564)\n",
      "[404] (564, 564)\n",
      "[405] (564, 564)\n",
      "[406] (564, 564)\n",
      "[407] (564, 564)\n",
      "[408] (564, 564)\n",
      "[409] (564, 564)\n",
      "[410] (564, 564)\n",
      "[411] (564, 564)\n",
      "[412] (564, 564)\n",
      "[413] (564, 564)\n",
      "[414 415 416] (564, 564)\n",
      "[417 418 419] (564, 564)\n",
      "[420] (564, 564)\n",
      "[421] (564, 564)\n",
      "[422] (564, 564)\n",
      "[423] (564, 564)\n",
      "[424] (564, 564)\n",
      "[425] (564, 564)\n",
      "[426] (564, 564)\n",
      "[427] (564, 564)\n",
      "[428] (564, 564)\n",
      "[429] (564, 564)\n",
      "[430 431 432 433] (564, 564)\n",
      "[434 435 436 437] (564, 564)\n",
      "[438] (564, 564)\n",
      "[439] (564, 564)\n",
      "[440] (564, 564)\n",
      "[441] (564, 564)\n",
      "[442] (564, 564)\n",
      "[443] (564, 564)\n",
      "[444] (564, 564)\n",
      "[445] (564, 564)\n",
      "[446] (564, 564)\n",
      "[447] (564, 564)\n",
      "[448] (564, 564)\n",
      "[449] (564, 564)\n",
      "[450] (564, 564)\n",
      "[451] (564, 564)\n",
      "[452] (564, 564)\n",
      "[453] (564, 564)\n",
      "[454] (564, 564)\n",
      "[455] (564, 564)\n",
      "[456] (564, 564)\n",
      "[457] (564, 564)\n",
      "[458] (564, 564)\n",
      "[459 460 461 462 463 464 465 466] (564, 564)\n",
      "[467] (564, 564)\n",
      "[468] (564, 564)\n",
      "[469] (564, 564)\n",
      "[470] (564, 564)\n",
      "[471] (564, 564)\n",
      "[472] (564, 564)\n",
      "[473 474 475] (564, 564)\n",
      "[476] (564, 564)\n",
      "[477] (564, 564)\n",
      "[478] (564, 564)\n",
      "[479] (564, 564)\n",
      "[480] (564, 564)\n",
      "[481] (564, 564)\n",
      "[482] (564, 564)\n",
      "[483] (564, 564)\n",
      "[484] (564, 564)\n",
      "[485] (564, 564)\n",
      "[486] (564, 564)\n",
      "[487] (564, 564)\n",
      "[488] (564, 564)\n",
      "[489] (564, 564)\n",
      "[490] (564, 564)\n",
      "[491] (564, 564)\n",
      "[492] (564, 564)\n",
      "[493] (564, 564)\n",
      "[494] (564, 564)\n",
      "[495] (564, 564)\n",
      "[496] (564, 564)\n",
      "[497] (564, 564)\n",
      "[498] (564, 564)\n",
      "[499] (564, 564)\n",
      "[500] (564, 564)\n",
      "[501] (564, 564)\n",
      "[502] (564, 564)\n",
      "[503] (564, 564)\n",
      "[504] (564, 564)\n",
      "[505] (564, 564)\n",
      "[506] (564, 564)\n",
      "[507] (564, 564)\n",
      "[508] (564, 564)\n",
      "[509] (564, 564)\n",
      "[510] (564, 564)\n",
      "[511] (564, 564)\n",
      "[512] (564, 564)\n",
      "[513 514] (564, 564)\n",
      "[515] (564, 564)\n",
      "[516] (564, 564)\n",
      "[517] (564, 564)\n",
      "[518] (564, 564)\n",
      "[519] (564, 564)\n",
      "[520] (564, 564)\n",
      "[521] (564, 564)\n",
      "[522 523] (564, 564)\n",
      "[524] (564, 564)\n",
      "[525 526] (564, 564)\n",
      "[527] (564, 564)\n",
      "[528] (564, 564)\n",
      "[529] (564, 564)\n",
      "[530] (564, 564)\n",
      "[531] (564, 564)\n",
      "[532] (564, 564)\n",
      "[533] (564, 564)\n",
      "[534] (564, 564)\n",
      "[535] (564, 564)\n",
      "[536] (564, 564)\n",
      "[537] (564, 564)\n",
      "[538] (564, 564)\n",
      "[539] (564, 564)\n",
      "[540] (564, 564)\n",
      "[541] (564, 564)\n",
      "[542] (564, 564)\n",
      "[543] (564, 564)\n",
      "[544] (564, 564)\n",
      "[545 546] (564, 564)\n",
      "[547] (564, 564)\n",
      "[548] (564, 564)\n",
      "[549] (564, 564)\n",
      "[550] (564, 564)\n",
      "[551] (564, 564)\n",
      "[552] (564, 564)\n",
      "[553] (564, 564)\n",
      "[554 555] (564, 564)\n",
      "[556] (564, 564)\n",
      "[557] (564, 564)\n",
      "[558] (564, 564)\n",
      "[559] (564, 564)\n",
      "[560] (564, 564)\n",
      "[561] (564, 564)\n",
      "[562] (564, 564)\n",
      "[563] (564, 564)\n",
      "[0 1 2 3 4] (564, 559)\n",
      "[5 6 7 8 9] (564, 559)\n",
      "[10 11 12 13 14] (564, 559)\n",
      "[15 16 17 18 19 20] (564, 559)\n",
      "[21 22 23 24 25 26] (564, 559)\n",
      "[27 28 29 30 31 32] (564, 559)\n",
      "[33 34 35 36 37 38] (564, 559)\n",
      "[39 40 41 42 43 44] (564, 559)\n",
      "[45 46 47 48 49 50] (564, 559)\n",
      "[51 52 53 54 55 56] (564, 559)\n",
      "[57 58 59 60 61 62] (564, 559)\n",
      "[63 64 65 66 67 68] (564, 559)\n",
      "[69 70 71 72 73 74] (564, 559)\n",
      "[75 76 77 78 79 80] (564, 559)\n",
      "[81 82 83 84 85 86] (564, 559)\n",
      "[87 88 89 90 91 92] (564, 559)\n",
      "[93 94 95 96 97 98] (564, 559)\n",
      "[ 99 100 101 102 103 104] (564, 559)\n",
      "[105 106 107 108 109 110] (564, 559)\n",
      "[111 112 113 114 115 116] (564, 559)\n",
      "[117 118 119 120 121 122] (564, 559)\n",
      "[123 124 125 126 127 128] (564, 559)\n",
      "[129 130 131 132 133 134] (564, 559)\n",
      "[135 136 137 138 139 140] (564, 559)\n",
      "[141 142 143 144 145 146] (564, 559)\n",
      "[147 148 149 150 151] (564, 559)\n",
      "[152 153 154 155 156] (564, 559)\n",
      "[157 158 159 160 161] (564, 559)\n",
      "[162 163 164 165 166] (564, 559)\n",
      "[167 168 169 170 171] (564, 559)\n",
      "[172 173 174 175 176] (564, 559)\n",
      "[177 178 179 180 181] (564, 559)\n",
      "[182 183 184 185 186] (564, 559)\n",
      "[187 188 189 190 191] (564, 559)\n",
      "[192 193 194 195 196] (564, 559)\n",
      "[197 198 199 200 201] (564, 559)\n",
      "[202 203 204 205 206] (564, 559)\n",
      "[207 208 209 210 211] (564, 559)\n",
      "[212 213 214 215 216 217] (564, 559)\n",
      "[218 219 220 221 222 223] (564, 559)\n",
      "[224 225 226 227 228 229] (564, 559)\n",
      "[230 231 232 233 234] (564, 559)\n",
      "[235 236 237 238 239] (564, 559)\n",
      "[240] (564, 559)\n",
      "[241 242 243] (564, 559)\n",
      "[244] (564, 559)\n",
      "[245 246] (564, 559)\n",
      "[247] (564, 559)\n",
      "[248] (564, 559)\n",
      "[249 250 251] (564, 559)\n",
      "[252] (564, 559)\n",
      "[253 254] (564, 559)\n",
      "[255] (564, 559)\n",
      "[256] (564, 559)\n",
      "[257] (564, 559)\n",
      "[258] (564, 559)\n",
      "[259] (564, 559)\n",
      "[260 261 262] (564, 559)\n",
      "[263] (564, 559)\n",
      "[264] (564, 559)\n",
      "[265 266 267 268 269] (564, 559)\n",
      "[270 271 272 273 274] (564, 559)\n",
      "[275] (564, 559)\n",
      "[276] (564, 559)\n",
      "[277] (564, 559)\n",
      "[278] (564, 559)\n",
      "[279] (564, 559)\n",
      "[280] (564, 559)\n",
      "[281] (564, 559)\n",
      "[282] (564, 559)\n",
      "[283] (564, 559)\n",
      "[284] (564, 559)\n",
      "[285] (564, 559)\n",
      "[286 287 288] (564, 559)\n",
      "[289 290] (564, 559)\n",
      "[291] (564, 559)\n",
      "[292] (564, 559)\n",
      "[293] (564, 559)\n",
      "[294] (564, 559)\n",
      "[295] (564, 559)\n",
      "[296] (564, 559)\n",
      "[297] (564, 559)\n",
      "[298] (564, 559)\n",
      "[299] (564, 559)\n",
      "[300] (564, 559)\n",
      "[301] (564, 559)\n",
      "[302] (564, 559)\n",
      "[303 304 305] (564, 559)\n",
      "[306] (564, 559)\n",
      "[307] (564, 559)\n",
      "[308] (564, 559)\n",
      "[309] (564, 559)\n",
      "[310] (564, 559)\n",
      "[311] (564, 559)\n",
      "[312] (564, 559)\n",
      "[313] (564, 559)\n",
      "[314] (564, 559)\n",
      "[315] (564, 559)\n",
      "[316] (564, 559)\n",
      "[317] (564, 559)\n",
      "[318] (564, 559)\n",
      "[319] (564, 559)\n",
      "[320] (564, 559)\n",
      "[321] (564, 559)\n",
      "[322] (564, 559)\n",
      "[323] (564, 559)\n",
      "[324] (564, 559)\n",
      "[325] (564, 559)\n",
      "[326] (564, 559)\n",
      "[327] (564, 559)\n",
      "[328 329 330] (564, 559)\n",
      "[331 332 333] (564, 559)\n",
      "[334] (564, 559)\n",
      "[335] (564, 559)\n",
      "[336] (564, 559)\n",
      "[337] (564, 559)\n",
      "[338] (564, 559)\n",
      "[339 340] (564, 559)\n",
      "[341] (564, 559)\n",
      "[342] (564, 559)\n",
      "[343] (564, 559)\n",
      "[344] (564, 559)\n",
      "[345] (564, 559)\n",
      "[346] (564, 559)\n",
      "[347] (564, 559)\n",
      "[348] (564, 559)\n",
      "[349] (564, 559)\n",
      "[350] (564, 559)\n",
      "[351] (564, 559)\n",
      "[352] (564, 559)\n",
      "[353] (564, 559)\n",
      "[354] (564, 559)\n",
      "[355] (564, 559)\n",
      "[356] (564, 559)\n",
      "[357] (564, 559)\n",
      "[358] (564, 559)\n",
      "[359] (564, 559)\n",
      "[360] (564, 559)\n",
      "[361] (564, 559)\n",
      "[362] (564, 559)\n",
      "[363] (564, 559)\n",
      "[364] (564, 559)\n",
      "[365] (564, 559)\n",
      "[366] (564, 559)\n",
      "[367] (564, 559)\n",
      "[368] (564, 559)\n",
      "[369] (564, 559)\n",
      "[370] (564, 559)\n",
      "[371] (564, 559)\n",
      "[372] (564, 559)\n",
      "[373] (564, 559)\n",
      "[374] (564, 559)\n",
      "[375] (564, 559)\n",
      "[376] (564, 559)\n",
      "[377] (564, 559)\n",
      "[378] (564, 559)\n",
      "[379] (564, 559)\n",
      "[380] (564, 559)\n",
      "[381] (564, 559)\n",
      "[382] (564, 559)\n",
      "[383] (564, 559)\n",
      "[384] (564, 559)\n",
      "[385] (564, 559)\n",
      "[386] (564, 559)\n",
      "[387] (564, 559)\n",
      "[388] (564, 559)\n",
      "[389 390 391 392 393] (564, 559)\n",
      "[394] (564, 559)\n",
      "[395] (564, 559)\n",
      "[396] (564, 559)\n",
      "[397] (564, 559)\n"
     ]
    },
    {
     "name": "stdout",
     "output_type": "stream",
     "text": [
      "[398] (564, 559)\n",
      "[399] (564, 559)\n",
      "[400] (564, 559)\n",
      "[401] (564, 559)\n",
      "[402] (564, 559)\n",
      "[403] (564, 559)\n",
      "[404] (564, 559)\n",
      "[405] (564, 559)\n",
      "[406] (564, 559)\n",
      "[407] (564, 559)\n",
      "[408] (564, 559)\n",
      "[409] (564, 559)\n",
      "[410] (564, 559)\n",
      "[411] (564, 559)\n",
      "[412] (564, 559)\n",
      "[413 414 415] (564, 559)\n",
      "[416 417 418] (564, 559)\n",
      "[419] (564, 559)\n",
      "[420] (564, 559)\n",
      "[421] (564, 559)\n",
      "[422] (564, 559)\n",
      "[423] (564, 559)\n",
      "[424] (564, 559)\n",
      "[425] (564, 559)\n",
      "[426] (564, 559)\n",
      "[427] (564, 559)\n",
      "[428] (564, 559)\n",
      "[429 430 431 432] (564, 559)\n",
      "[433 434 435 436] (564, 559)\n",
      "[437] (564, 559)\n",
      "[438] (564, 559)\n",
      "[439] (564, 559)\n",
      "[440] (564, 559)\n",
      "[441] (564, 559)\n",
      "[442] (564, 559)\n",
      "[443] (564, 559)\n",
      "[444] (564, 559)\n",
      "[445] (564, 559)\n",
      "[446] (564, 559)\n",
      "[447] (564, 559)\n",
      "[448] (564, 559)\n",
      "[449] (564, 559)\n",
      "[450] (564, 559)\n",
      "[451] (564, 559)\n",
      "[452] (564, 559)\n",
      "[453] (564, 559)\n",
      "[454] (564, 559)\n",
      "[455] (564, 559)\n",
      "[456] (564, 559)\n",
      "[457 458 459 460 461 462 463 464] (564, 559)\n",
      "[465] (564, 559)\n",
      "[466] (564, 559)\n",
      "[467] (564, 559)\n",
      "[468] (564, 559)\n",
      "[469] (564, 559)\n",
      "[470] (564, 559)\n",
      "[471 472 473] (564, 559)\n",
      "[474] (564, 559)\n",
      "[475] (564, 559)\n",
      "[476] (564, 559)\n",
      "[477] (564, 559)\n",
      "[478] (564, 559)\n",
      "[479] (564, 559)\n",
      "[480] (564, 559)\n",
      "[481] (564, 559)\n",
      "[482] (564, 559)\n",
      "[483] (564, 559)\n",
      "[484] (564, 559)\n",
      "[485] (564, 559)\n",
      "[486] (564, 559)\n",
      "[487] (564, 559)\n",
      "[488] (564, 559)\n",
      "[489] (564, 559)\n",
      "[490] (564, 559)\n",
      "[491] (564, 559)\n",
      "[492] (564, 559)\n",
      "[493] (564, 559)\n",
      "[494] (564, 559)\n",
      "[495] (564, 559)\n",
      "[496] (564, 559)\n",
      "[497] (564, 559)\n",
      "[498] (564, 559)\n",
      "[499] (564, 559)\n",
      "[500] (564, 559)\n",
      "[501] (564, 559)\n",
      "[502] (564, 559)\n",
      "[503] (564, 559)\n",
      "[504] (564, 559)\n",
      "[505] (564, 559)\n",
      "[506] (564, 559)\n",
      "[507] (564, 559)\n",
      "[508] (564, 559)\n",
      "[509] (564, 559)\n",
      "[510] (564, 559)\n",
      "[511 512] (564, 559)\n",
      "[513] (564, 559)\n",
      "[514] (564, 559)\n",
      "[515] (564, 559)\n",
      "[516] (564, 559)\n",
      "[517] (564, 559)\n",
      "[518] (564, 559)\n",
      "[519] (564, 559)\n",
      "[520 521] (564, 559)\n",
      "[522] (564, 559)\n",
      "[523 524] (564, 559)\n",
      "[525] (564, 559)\n",
      "[526] (564, 559)\n",
      "[527] (564, 559)\n",
      "[528] (564, 559)\n",
      "[529] (564, 559)\n",
      "[530] (564, 559)\n",
      "[531] (564, 559)\n",
      "[532] (564, 559)\n",
      "[533] (564, 559)\n",
      "[534] (564, 559)\n",
      "[535] (564, 559)\n",
      "[536] (564, 559)\n",
      "[537] (564, 559)\n",
      "[538] (564, 559)\n",
      "[539] (564, 559)\n",
      "[540 541] (564, 559)\n",
      "[542] (564, 559)\n",
      "[543] (564, 559)\n",
      "[544] (564, 559)\n",
      "[545] (564, 559)\n",
      "[546] (564, 559)\n",
      "[547] (564, 559)\n",
      "[548] (564, 559)\n",
      "[549 550] (564, 559)\n",
      "[551] (564, 559)\n",
      "[552] (564, 559)\n",
      "[553] (564, 559)\n",
      "[554] (564, 559)\n",
      "[555] (564, 559)\n",
      "[556] (564, 559)\n",
      "[557] (564, 559)\n",
      "[558] (564, 559)\n"
     ]
    }
   ],
   "source": [
    "#get combined targets\n",
    "list1 = np.asarray([ai_map[targets[:,1][i]] for i in range(ipsi_max+1)])\n",
    "ipsi_names = np.asarray([ia_map[list1[i]] for i in range(len(list1))])\n",
    "#list2 = ontological_order#[ai_map[wt_conn.columns[i][1]] for i in range(321)]\n",
    "data_ipsicomb = get_combined_targets(np.asarray(data)[:,:(contra_min)], list1, np.asarray(ipsi_targets_summary_ordered), sizes_ipsi)\n",
    "#data_ipsicomb = get_combined_targets(data_sourcecomb[:,:(ipsi_max+1)], list1, list2, sizes_ipsi)\n",
    "list1 = np.asarray([ai_map[targets[:,1][i]] for i in range(ipsi_max+1, targets.shape[0])])\n",
    "contra_names = np.asarray([ia_map[list1[i]] for i in range(len(list1))])\n",
    "data_contracomb = get_combined_targets(np.asarray(data)[:,(contra_min):], list1, np.asarray(contra_targets_summary_ordered), sizes_contra)"
   ]
  },
  {
   "cell_type": "code",
   "execution_count": 381,
   "metadata": {
    "collapsed": true
   },
   "outputs": [],
   "source": [
    "#np.asarray(ipsi_targets_summary_ordered)"
   ]
  },
  {
   "cell_type": "code",
   "execution_count": 383,
   "metadata": {},
   "outputs": [
    {
     "data": {
      "text/plain": [
       "(564, 621)"
      ]
     },
     "execution_count": 383,
     "metadata": {},
     "output_type": "execute_result"
    }
   ],
   "source": [
    "#contra_names.shape\n",
    "data_combined = np.hstack([data_ipsicomb,data_contracomb])\n",
    "data_combined.shape"
   ]
  },
  {
   "cell_type": "code",
   "execution_count": 387,
   "metadata": {
    "collapsed": true
   },
   "outputs": [],
   "source": [
    "\n",
    "ontological_order_leaves = np.load('/Users/samsonkoelle/alleninstitute/sambranch/mouse_connectivity_models/paper/info/ontological_order_leaves_v3.npy')\n",
    "\n",
    "#ontological_order_leaves.shape"
   ]
  },
  {
   "cell_type": "code",
   "execution_count": 390,
   "metadata": {
    "collapsed": true
   },
   "outputs": [],
   "source": [
    "\n",
    "leaf_index = np.asarray([ia_map[ontological_order_leaves[i]] for i in range(len(ontological_order_leaves))])\n",
    "ncontra = contra_targets_summary_ordered.shape[0]\n",
    "nipsi = ipsi_targets_summary_ordered.shape[0]\n",
    "ctso_names = [ia_map[contra_targets_summary_ordered[i]] for i in range(len(contra_targets_summary_ordered))]\n",
    "itso_names = [ia_map[ipsi_targets_summary_ordered[i]] for i in range(len(ipsi_targets_summary_ordered))]\n",
    "bigs = np.concatenate([np.repeat('ipsi', nipsi),np.repeat('contra', ncontra)])\n",
    "smalls = np.concatenate([itso_names, ctso_names])\n",
    "arrays = np.vstack([bigs,smalls]  )\n",
    "tuples = list(zip(*arrays))\n",
    "columns = pd.MultiIndex.from_tuples(tuples, names=[\"first\", \"second\"])\n",
    "output = pd.DataFrame(data_combined,index = leaf_index, columns=columns)\n",
    "#output = pd.DataFrame(data_combined,index = sum_index, columns=columns)"
   ]
  },
  {
   "cell_type": "code",
   "execution_count": 395,
   "metadata": {
    "collapsed": true
   },
   "outputs": [],
   "source": [
    "ids = np.where(output.sum(axis = 1)> 0)[0]"
   ]
  },
  {
   "cell_type": "code",
   "execution_count": 394,
   "metadata": {
    "collapsed": true
   },
   "outputs": [],
   "source": [
    "oldway = oldway.loc[output.index]\n",
    "oldway = oldway.loc[:,output.columns]"
   ]
  },
  {
   "cell_type": "code",
   "execution_count": 396,
   "metadata": {},
   "outputs": [
    {
     "name": "stderr",
     "output_type": "stream",
     "text": [
      "/Users/samsonkoelle/anaconda3/envs/allen_010719_5/lib/python3.7/site-packages/ipykernel_launcher.py:1: RuntimeWarning: divide by zero encountered in log10\n",
      "  \"\"\"Entry point for launching an IPython kernel.\n"
     ]
    },
    {
     "data": {
      "text/plain": [
       "<matplotlib.axes._subplots.AxesSubplot at 0x12ced8610>"
      ]
     },
     "execution_count": 396,
     "metadata": {},
     "output_type": "execute_result"
    },
    {
     "data": {
      "image/png": "[encoded data removed]",
      "text/plain": [
       "<Figure size 432x288 with 2 Axes>"
      ]
     },
     "metadata": {
      "needs_background": "light"
     },
     "output_type": "display_data"
    }
   ],
   "source": [
    "sns.heatmap(np.log10(oldway.iloc[ids]), vmax = 0, vmin = -6)"
   ]
  },
  {
   "cell_type": "code",
   "execution_count": 403,
   "metadata": {},
   "outputs": [
    {
     "name": "stderr",
     "output_type": "stream",
     "text": [
      "/Users/samsonkoelle/anaconda3/envs/allen_010719_5/lib/python3.7/site-packages/pandas/core/series.py:679: RuntimeWarning: divide by zero encountered in log\n",
      "  result = getattr(ufunc, method)(*inputs, **kwargs)\n"
     ]
    },
    {
     "data": {
      "text/plain": [
       "<matplotlib.collections.PathCollection at 0x12e9c2390>"
      ]
     },
     "execution_count": 403,
     "metadata": {},
     "output_type": "execute_result"
    },
    {
     "data": {
      "image/png": "[encoded data removed]",
      "text/plain": [
       "<Figure size 432x288 with 1 Axes>"
      ]
     },
     "metadata": {
      "needs_background": "light"
     },
     "output_type": "display_data"
    }
   ],
   "source": [
    "plt.scatter(np.log(oldway.iloc[2]),np.log( output.iloc[2]))"
   ]
  },
  {
   "cell_type": "code",
   "execution_count": 409,
   "metadata": {},
   "outputs": [
    {
     "data": {
      "text/plain": [
       "3.3630464646671996"
      ]
     },
     "execution_count": 409,
     "metadata": {},
     "output_type": "execute_result"
    }
   ],
   "source": [
    "oldway.iloc[2].sum()"
   ]
  },
  {
   "cell_type": "code",
   "execution_count": 410,
   "metadata": {},
   "outputs": [
    {
     "data": {
      "text/plain": [
       "0.6140626526717434"
      ]
     },
     "execution_count": 410,
     "metadata": {},
     "output_type": "execute_result"
    }
   ],
   "source": [
    "output.iloc[2].sum()"
   ]
  },
  {
   "cell_type": "code",
   "execution_count": 406,
   "metadata": {
    "collapsed": true
   },
   "outputs": [],
   "source": [
    "from scipy.stats import pearsonr"
   ]
  },
  {
   "cell_type": "code",
   "execution_count": 422,
   "metadata": {},
   "outputs": [
    {
     "data": {
      "text/plain": [
       "(564, 621)"
      ]
     },
     "execution_count": 422,
     "metadata": {},
     "output_type": "execute_result"
    }
   ],
   "source": [
    "oldway.shape"
   ]
  },
  {
   "cell_type": "code",
   "execution_count": 412,
   "metadata": {},
   "outputs": [
    {
     "name": "stderr",
     "output_type": "stream",
     "text": [
      "/Users/samsonkoelle/anaconda3/envs/allen_010719_5/lib/python3.7/site-packages/ipykernel_launcher.py:2: RuntimeWarning: All-NaN axis encountered\n",
      "  \n"
     ]
    },
    {
     "name": "stdout",
     "output_type": "stream",
     "text": [
      "0.8677255518072686\n",
      "0.8458219746889561\n",
      "0.90598061092719\n",
      "0.8633722955803791\n",
      "0.871742336537006\n",
      "0.8426344193862053\n",
      "0.9726083418231394\n",
      "0.9595107024847408\n",
      "0.8593615270293151\n",
      "0.7956644365873247\n",
      "0.8247275737370818\n",
      "0.7591043949485077\n",
      "0.7586393553049855\n",
      "0.9785564273553583\n",
      "0.8626865556643517\n",
      "0.7631487250862505\n",
      "0.742317406405494\n",
      "0.9902422987285956\n",
      "0.705719454044435\n",
      "0.8475916402305986\n",
      "0.8196238528036481\n",
      "0.9221416624620938\n",
      "0.7619612197168697\n",
      "0.7416424346136155\n",
      "0.7859579653733484\n",
      "0.9884907819220239\n",
      "0.6720784282973425\n",
      "0.6605616347639784\n",
      "0.8692351385524751\n",
      "0.9415253206415355\n",
      "0.7972632270932951\n",
      "0.8437249758762205\n",
      "0.8691974417957532\n",
      "0.8459460394129481\n",
      "0.9524864341277302\n",
      "0.7664668713912226\n",
      "0.8394859941160027\n",
      "0.9923183218639857\n",
      "0.9610673220030614\n",
      "0.9152018596899151\n",
      "0.8309206227649482\n",
      "0.824761349956571\n",
      "0.8181473524759881\n",
      "0.8446920982745507\n",
      "0.8045089387050423\n",
      "0.6817506487018374\n",
      "0.810101412360521\n",
      "0.8627956152415656\n",
      "0.7982178131538971\n",
      "0.8229968488534519\n",
      "0.8688947978500803\n",
      "0.7567114943855984\n",
      "0.7936734455360397\n",
      "0.7863831775670682\n",
      "0.7888531600833177\n",
      "0.9941308699733366\n",
      "0.9650195494820396\n",
      "0.9026428187158967\n",
      "0.806706207649023\n",
      "0.9897480336437012\n",
      "0.8284323632369165\n",
      "0.6978288744901371\n",
      "0.9782645389922398\n",
      "0.7939073952520306\n",
      "0.8777604951815031\n",
      "0.7714484747401875\n",
      "0.8413239236956427\n",
      "0.8187562850114287\n",
      "0.7874160633744712\n",
      "0.6708375625466574\n",
      "0.7982433243274983\n",
      "0.8800784703477159\n",
      "0.9172315347193514\n",
      "0.8518708196476582\n",
      "0.8680031365152341\n",
      "0.8980238743160127\n",
      "0.8850326619052142\n",
      "0.8633905667340279\n",
      "0.9463553366026327\n",
      "0.8367091169985806\n",
      "0.8496278913763878\n",
      "0.9432222186431368\n",
      "0.8896572911381331\n",
      "0.868301506911026\n",
      "0.8653561020297369\n",
      "0.8679116809651892\n",
      "0.7284787113179992\n",
      "0.6301998989863468\n",
      "0.9274355674766448\n",
      "0.865834280146329\n",
      "0.9164068634126072\n",
      "0.8574525915019373\n",
      "0.8685105075108815\n",
      "0.6121609149982402\n",
      "0.9411655560179395\n",
      "0.9200404417518493\n",
      "0.8221139120472584\n",
      "0.9790032794589455\n",
      "0.9538072008601804\n",
      "0.9045234592810577\n",
      "0.8957608174244287\n",
      "0.999754377425756\n",
      "0.9957767238082957\n",
      "0.9811162879564862\n",
      "0.9336363317160634\n",
      "0.899791192628073\n",
      "0.9870753280130914\n",
      "0.9935198591579569\n",
      "0.9464525493003775\n",
      "0.9264651510852885\n",
      "0.9587516553939159\n",
      "0.8216466291544586\n",
      "0.6815809817423799\n",
      "0.7638043570170543\n",
      "0.7121055725616142\n",
      "0.8248361876067902\n",
      "0.8578840999358679\n",
      "0.8757747105344287\n",
      "0.886298041686548\n",
      "0.8857576576252773\n",
      "0.9842354816648328\n",
      "0.9890726539084349\n",
      "0.9419694526890575\n",
      "0.9950132295212063\n",
      "0.9925348380305795\n",
      "0.9798125600753974\n",
      "0.9986168905301402\n",
      "0.914972627679348\n",
      "0.9134800525585476\n",
      "0.967278653569511\n",
      "0.9332958220681886\n",
      "0.9529177611818263\n",
      "0.9773634949891457\n",
      "0.7811883930849288\n",
      "0.7334341740972761\n",
      "0.8034175697717465\n",
      "0.8112053997915551\n",
      "0.805111359079602\n",
      "0.7873038024389329\n",
      "0.8287820360024203\n",
      "0.9001887251580643\n",
      "0.998873305821433\n",
      "0.998726980011508\n",
      "0.9964246711520068\n",
      "0.9968975266560802\n",
      "0.8135412065918669\n",
      "0.9703046331227491\n",
      "0.992267485683908\n",
      "0.9905018083129473\n",
      "0.8867544205398166\n",
      "0.8905924510947117\n",
      "0.9293424820862817\n",
      "0.9267461853008561\n",
      "0.9135671412015068\n",
      "0.6596457306057416\n",
      "0.14408223431375905\n",
      "0.8870857718224797\n",
      "0.7930495321253443\n",
      "0.6808443200731406\n",
      "0.8288565607053892\n",
      "0.9384065710506506\n",
      "0.9160720675028553\n",
      "0.9276256831699752\n",
      "0.9194202708903632\n",
      "0.9896048502742453\n",
      "0.8939991507017684\n",
      "0.9431478295862874\n",
      "0.9831670007022199\n",
      "0.9807853567520509\n",
      "0.9888677154308745\n",
      "0.9868612220434656\n",
      "0.9901197420029867\n",
      "0.9536038358445262\n",
      "0.9791577906160648\n",
      "0.9985356765131401\n",
      "0.9661035568868271\n",
      "0.9991758144278534\n",
      "0.9909497914427001\n",
      "0.9978141625089842\n",
      "0.9999995915868746\n",
      "0.9561316042336129\n",
      "0.9877986934924093\n",
      "0.9983972667001654\n",
      "0.9999647284321851\n",
      "0.9770363996367922\n",
      "0.985603662165107\n",
      "0.972643205527727\n"
     ]
    }
   ],
   "source": [
    "for i in range(oldway.shape[0]):\n",
    "    if np.nanmax(oldway.iloc[i]) > 0:\n",
    "        print(pearsonr(oldway.iloc[i] ,output.iloc[i])[0])"
   ]
  },
  {
   "cell_type": "code",
   "execution_count": 414,
   "metadata": {},
   "outputs": [
    {
     "data": {
      "text/plain": [
       "<matplotlib.collections.PathCollection at 0x1318ef0d0>"
      ]
     },
     "execution_count": 414,
     "metadata": {},
     "output_type": "execute_result"
    },
    {
     "data": {
      "image/png": "[encoded data removed]",
      "text/plain": [
       "<Figure size 432x288 with 1 Axes>"
      ]
     },
     "metadata": {
      "needs_background": "light"
     },
     "output_type": "display_data"
    }
   ],
   "source": [
    "plt.scatter(oldway.iloc[2] ,output.iloc[2])"
   ]
  },
  {
   "cell_type": "code",
   "execution_count": 425,
   "metadata": {},
   "outputs": [
    {
     "data": {
      "text/plain": [
       "FRP1      0.000000\n",
       "FRP2/3    0.384499\n",
       "FRP5      0.614063\n",
       "FRP6a     0.800944\n",
       "FRP6b     0.000000\n",
       "            ...   \n",
       "FL        0.000000\n",
       "FN        0.934653\n",
       "IP        0.960808\n",
       "DN        0.000000\n",
       "VeCB      0.000000\n",
       "Length: 564, dtype: float64"
      ]
     },
     "execution_count": 425,
     "metadata": {},
     "output_type": "execute_result"
    }
   ],
   "source": [
    "output.sum(axis = 1)"
   ]
  },
  {
   "cell_type": "code",
   "execution_count": 420,
   "metadata": {},
   "outputs": [
    {
     "data": {
      "text/plain": [
       "FRP1      0.0\n",
       "FRP2/3    1.0\n",
       "FRP5      1.0\n",
       "FRP6a     1.0\n",
       "FRP6b     0.0\n",
       "         ... \n",
       "FL        0.0\n",
       "FN        1.0\n",
       "IP        1.0\n",
       "DN        0.0\n",
       "VeCB      0.0\n",
       "Length: 564, dtype: float64"
      ]
     },
     "execution_count": 420,
     "metadata": {},
     "output_type": "execute_result"
    }
   ],
   "source": [
    "conn_leafleaf.sum(axis = 1)"
   ]
  },
  {
   "cell_type": "code",
   "execution_count": 421,
   "metadata": {},
   "outputs": [
    {
     "data": {
      "text/plain": [
       "FRP1      0.000000\n",
       "FRP2/3    2.332362\n",
       "FRP5      3.363046\n",
       "FRP6a     3.999549\n",
       "FRP6b     0.000000\n",
       "            ...   \n",
       "FL        0.000000\n",
       "FN        5.480421\n",
       "IP        4.121508\n",
       "DN        0.000000\n",
       "VeCB      0.000000\n",
       "Length: 564, dtype: float64"
      ]
     },
     "execution_count": 421,
     "metadata": {},
     "output_type": "execute_result"
    }
   ],
   "source": [
    "#oldway is the just unionized\n",
    "oldway.sum(axis = 1)"
   ]
  },
  {
   "cell_type": "code",
   "execution_count": null,
   "metadata": {
    "collapsed": true
   },
   "outputs": [],
   "source": []
  },
  {
   "cell_type": "code",
   "execution_count": 352,
   "metadata": {
    "collapsed": true
   },
   "outputs": [],
   "source": [
    "# ool_s = get_aligned_ids(st,list1,list2)\n",
    "# ids = np.where(data.sum(axis = 1) > 0)[0]\n",
    "# list2 = np.asarray(list2)\n",
    "# nsum = list2.shape[0]\n",
    "# data_sum = np.zeros((nsum, data.shape[1]))\n",
    "# ids = np.where(data.sum(axis = 1) > 0)[0]\n",
    "# for s in range(nsum):\n",
    "#     inds = np.where(ool_s[ids] == list2[s])[0]\n",
    "#     #print(sizes[inds])\n",
    "#     data_sum[s] = sizes[ids][inds] @ data.iloc[ids].iloc[inds] / np.sum(sizes[ids][inds])"
   ]
  },
  {
   "cell_type": "code",
   "execution_count": 353,
   "metadata": {},
   "outputs": [
    {
     "data": {
      "text/html": [
       "<div>\n",
       "<style scoped>\n",
       "    .dataframe tbody tr th:only-of-type {\n",
       "        vertical-align: middle;\n",
       "    }\n",
       "\n",
       "    .dataframe tbody tr th {\n",
       "        vertical-align: top;\n",
       "    }\n",
       "\n",
       "    .dataframe thead tr th {\n",
       "        text-align: left;\n",
       "    }\n",
       "</style>\n",
       "<table border=\"1\" class=\"dataframe\">\n",
       "  <thead>\n",
       "    <tr>\n",
       "      <th></th>\n",
       "      <th colspan=\"10\" halign=\"left\">ipsi</th>\n",
       "      <th>...</th>\n",
       "      <th colspan=\"10\" halign=\"left\">contra</th>\n",
       "    </tr>\n",
       "    <tr>\n",
       "      <th></th>\n",
       "      <th>FRP1</th>\n",
       "      <th>FRP2/3</th>\n",
       "      <th>FRP5</th>\n",
       "      <th>FRP6a</th>\n",
       "      <th>FRP6b</th>\n",
       "      <th>MOp1</th>\n",
       "      <th>MOp2/3</th>\n",
       "      <th>MOp5</th>\n",
       "      <th>MOp6a</th>\n",
       "      <th>MOp6b</th>\n",
       "      <th>...</th>\n",
       "      <th>ANcr1</th>\n",
       "      <th>ANcr2</th>\n",
       "      <th>PRM</th>\n",
       "      <th>COPY</th>\n",
       "      <th>PFL</th>\n",
       "      <th>FL</th>\n",
       "      <th>FN</th>\n",
       "      <th>IP</th>\n",
       "      <th>DN</th>\n",
       "      <th>VeCB</th>\n",
       "    </tr>\n",
       "  </thead>\n",
       "  <tbody>\n",
       "    <tr>\n",
       "      <th>FRP1</th>\n",
       "      <td>NaN</td>\n",
       "      <td>NaN</td>\n",
       "      <td>NaN</td>\n",
       "      <td>NaN</td>\n",
       "      <td>NaN</td>\n",
       "      <td>NaN</td>\n",
       "      <td>NaN</td>\n",
       "      <td>NaN</td>\n",
       "      <td>NaN</td>\n",
       "      <td>NaN</td>\n",
       "      <td>...</td>\n",
       "      <td>NaN</td>\n",
       "      <td>NaN</td>\n",
       "      <td>NaN</td>\n",
       "      <td>NaN</td>\n",
       "      <td>NaN</td>\n",
       "      <td>NaN</td>\n",
       "      <td>NaN</td>\n",
       "      <td>NaN</td>\n",
       "      <td>NaN</td>\n",
       "      <td>NaN</td>\n",
       "    </tr>\n",
       "    <tr>\n",
       "      <th>FRP2/3</th>\n",
       "      <td>0.036963</td>\n",
       "      <td>4.945445e-02</td>\n",
       "      <td>0.054436</td>\n",
       "      <td>0.004040</td>\n",
       "      <td>0.000163</td>\n",
       "      <td>0.008611</td>\n",
       "      <td>0.008912</td>\n",
       "      <td>6.308426e-03</td>\n",
       "      <td>2.782383e-03</td>\n",
       "      <td>1.166525e-04</td>\n",
       "      <td>...</td>\n",
       "      <td>0.000000</td>\n",
       "      <td>0.000000e+00</td>\n",
       "      <td>8.901402e-07</td>\n",
       "      <td>0.000000</td>\n",
       "      <td>0.000000</td>\n",
       "      <td>0.000000</td>\n",
       "      <td>0.000000</td>\n",
       "      <td>0.000000e+00</td>\n",
       "      <td>0.000000e+00</td>\n",
       "      <td>0.000000</td>\n",
       "    </tr>\n",
       "    <tr>\n",
       "      <th>FRP5</th>\n",
       "      <td>0.014817</td>\n",
       "      <td>2.390276e-02</td>\n",
       "      <td>0.038743</td>\n",
       "      <td>0.007485</td>\n",
       "      <td>0.000089</td>\n",
       "      <td>0.011081</td>\n",
       "      <td>0.008873</td>\n",
       "      <td>7.169855e-03</td>\n",
       "      <td>1.100737e-02</td>\n",
       "      <td>5.081713e-04</td>\n",
       "      <td>...</td>\n",
       "      <td>0.000109</td>\n",
       "      <td>6.374014e-05</td>\n",
       "      <td>8.123461e-05</td>\n",
       "      <td>0.000111</td>\n",
       "      <td>0.000287</td>\n",
       "      <td>0.000048</td>\n",
       "      <td>0.000005</td>\n",
       "      <td>3.100057e-07</td>\n",
       "      <td>1.824393e-08</td>\n",
       "      <td>0.000012</td>\n",
       "    </tr>\n",
       "    <tr>\n",
       "      <th>FRP6a</th>\n",
       "      <td>0.006831</td>\n",
       "      <td>9.927861e-03</td>\n",
       "      <td>0.053499</td>\n",
       "      <td>0.037782</td>\n",
       "      <td>0.000663</td>\n",
       "      <td>0.000739</td>\n",
       "      <td>0.000044</td>\n",
       "      <td>1.785906e-04</td>\n",
       "      <td>4.514024e-04</td>\n",
       "      <td>1.166491e-05</td>\n",
       "      <td>...</td>\n",
       "      <td>0.000000</td>\n",
       "      <td>2.084261e-07</td>\n",
       "      <td>3.764918e-07</td>\n",
       "      <td>0.000000</td>\n",
       "      <td>0.000057</td>\n",
       "      <td>0.000000</td>\n",
       "      <td>0.000000</td>\n",
       "      <td>0.000000e+00</td>\n",
       "      <td>0.000000e+00</td>\n",
       "      <td>0.000000</td>\n",
       "    </tr>\n",
       "    <tr>\n",
       "      <th>FRP6b</th>\n",
       "      <td>NaN</td>\n",
       "      <td>NaN</td>\n",
       "      <td>NaN</td>\n",
       "      <td>NaN</td>\n",
       "      <td>NaN</td>\n",
       "      <td>NaN</td>\n",
       "      <td>NaN</td>\n",
       "      <td>NaN</td>\n",
       "      <td>NaN</td>\n",
       "      <td>NaN</td>\n",
       "      <td>...</td>\n",
       "      <td>NaN</td>\n",
       "      <td>NaN</td>\n",
       "      <td>NaN</td>\n",
       "      <td>NaN</td>\n",
       "      <td>NaN</td>\n",
       "      <td>NaN</td>\n",
       "      <td>NaN</td>\n",
       "      <td>NaN</td>\n",
       "      <td>NaN</td>\n",
       "      <td>NaN</td>\n",
       "    </tr>\n",
       "    <tr>\n",
       "      <th>...</th>\n",
       "      <td>...</td>\n",
       "      <td>...</td>\n",
       "      <td>...</td>\n",
       "      <td>...</td>\n",
       "      <td>...</td>\n",
       "      <td>...</td>\n",
       "      <td>...</td>\n",
       "      <td>...</td>\n",
       "      <td>...</td>\n",
       "      <td>...</td>\n",
       "      <td>...</td>\n",
       "      <td>...</td>\n",
       "      <td>...</td>\n",
       "      <td>...</td>\n",
       "      <td>...</td>\n",
       "      <td>...</td>\n",
       "      <td>...</td>\n",
       "      <td>...</td>\n",
       "      <td>...</td>\n",
       "      <td>...</td>\n",
       "      <td>...</td>\n",
       "    </tr>\n",
       "    <tr>\n",
       "      <th>FL</th>\n",
       "      <td>NaN</td>\n",
       "      <td>NaN</td>\n",
       "      <td>NaN</td>\n",
       "      <td>NaN</td>\n",
       "      <td>NaN</td>\n",
       "      <td>NaN</td>\n",
       "      <td>NaN</td>\n",
       "      <td>NaN</td>\n",
       "      <td>NaN</td>\n",
       "      <td>NaN</td>\n",
       "      <td>...</td>\n",
       "      <td>NaN</td>\n",
       "      <td>NaN</td>\n",
       "      <td>NaN</td>\n",
       "      <td>NaN</td>\n",
       "      <td>NaN</td>\n",
       "      <td>NaN</td>\n",
       "      <td>NaN</td>\n",
       "      <td>NaN</td>\n",
       "      <td>NaN</td>\n",
       "      <td>NaN</td>\n",
       "    </tr>\n",
       "    <tr>\n",
       "      <th>FN</th>\n",
       "      <td>0.000000</td>\n",
       "      <td>0.000000e+00</td>\n",
       "      <td>0.000000</td>\n",
       "      <td>0.000000</td>\n",
       "      <td>0.000000</td>\n",
       "      <td>0.000077</td>\n",
       "      <td>0.000017</td>\n",
       "      <td>2.137499e-08</td>\n",
       "      <td>2.057406e-07</td>\n",
       "      <td>1.556478e-08</td>\n",
       "      <td>...</td>\n",
       "      <td>0.002166</td>\n",
       "      <td>5.796098e-03</td>\n",
       "      <td>5.608080e-03</td>\n",
       "      <td>0.003423</td>\n",
       "      <td>0.000100</td>\n",
       "      <td>0.000013</td>\n",
       "      <td>0.009704</td>\n",
       "      <td>6.976401e-03</td>\n",
       "      <td>3.122086e-04</td>\n",
       "      <td>0.000140</td>\n",
       "    </tr>\n",
       "    <tr>\n",
       "      <th>IP</th>\n",
       "      <td>0.000019</td>\n",
       "      <td>3.447473e-10</td>\n",
       "      <td>0.000000</td>\n",
       "      <td>0.000000</td>\n",
       "      <td>0.000000</td>\n",
       "      <td>0.000269</td>\n",
       "      <td>0.000047</td>\n",
       "      <td>0.000000e+00</td>\n",
       "      <td>0.000000e+00</td>\n",
       "      <td>1.480726e-08</td>\n",
       "      <td>...</td>\n",
       "      <td>0.000052</td>\n",
       "      <td>6.567511e-05</td>\n",
       "      <td>3.000850e-04</td>\n",
       "      <td>0.000758</td>\n",
       "      <td>0.002214</td>\n",
       "      <td>0.000015</td>\n",
       "      <td>0.000052</td>\n",
       "      <td>3.057021e-05</td>\n",
       "      <td>3.479912e-05</td>\n",
       "      <td>0.000002</td>\n",
       "    </tr>\n",
       "    <tr>\n",
       "      <th>DN</th>\n",
       "      <td>NaN</td>\n",
       "      <td>NaN</td>\n",
       "      <td>NaN</td>\n",
       "      <td>NaN</td>\n",
       "      <td>NaN</td>\n",
       "      <td>NaN</td>\n",
       "      <td>NaN</td>\n",
       "      <td>NaN</td>\n",
       "      <td>NaN</td>\n",
       "      <td>NaN</td>\n",
       "      <td>...</td>\n",
       "      <td>NaN</td>\n",
       "      <td>NaN</td>\n",
       "      <td>NaN</td>\n",
       "      <td>NaN</td>\n",
       "      <td>NaN</td>\n",
       "      <td>NaN</td>\n",
       "      <td>NaN</td>\n",
       "      <td>NaN</td>\n",
       "      <td>NaN</td>\n",
       "      <td>NaN</td>\n",
       "    </tr>\n",
       "    <tr>\n",
       "      <th>VeCB</th>\n",
       "      <td>NaN</td>\n",
       "      <td>NaN</td>\n",
       "      <td>NaN</td>\n",
       "      <td>NaN</td>\n",
       "      <td>NaN</td>\n",
       "      <td>NaN</td>\n",
       "      <td>NaN</td>\n",
       "      <td>NaN</td>\n",
       "      <td>NaN</td>\n",
       "      <td>NaN</td>\n",
       "      <td>...</td>\n",
       "      <td>NaN</td>\n",
       "      <td>NaN</td>\n",
       "      <td>NaN</td>\n",
       "      <td>NaN</td>\n",
       "      <td>NaN</td>\n",
       "      <td>NaN</td>\n",
       "      <td>NaN</td>\n",
       "      <td>NaN</td>\n",
       "      <td>NaN</td>\n",
       "      <td>NaN</td>\n",
       "    </tr>\n",
       "  </tbody>\n",
       "</table>\n",
       "<p>564 rows × 1123 columns</p>\n",
       "</div>"
      ],
      "text/plain": [
       "            ipsi                                                        \\\n",
       "            FRP1        FRP2/3      FRP5     FRP6a     FRP6b      MOp1   \n",
       "FRP1         NaN           NaN       NaN       NaN       NaN       NaN   \n",
       "FRP2/3  0.036963  4.945445e-02  0.054436  0.004040  0.000163  0.008611   \n",
       "FRP5    0.014817  2.390276e-02  0.038743  0.007485  0.000089  0.011081   \n",
       "FRP6a   0.006831  9.927861e-03  0.053499  0.037782  0.000663  0.000739   \n",
       "FRP6b        NaN           NaN       NaN       NaN       NaN       NaN   \n",
       "...          ...           ...       ...       ...       ...       ...   \n",
       "FL           NaN           NaN       NaN       NaN       NaN       NaN   \n",
       "FN      0.000000  0.000000e+00  0.000000  0.000000  0.000000  0.000077   \n",
       "IP      0.000019  3.447473e-10  0.000000  0.000000  0.000000  0.000269   \n",
       "DN           NaN           NaN       NaN       NaN       NaN       NaN   \n",
       "VeCB         NaN           NaN       NaN       NaN       NaN       NaN   \n",
       "\n",
       "                                                            ...    contra  \\\n",
       "          MOp2/3          MOp5         MOp6a         MOp6b  ...     ANcr1   \n",
       "FRP1         NaN           NaN           NaN           NaN  ...       NaN   \n",
       "FRP2/3  0.008912  6.308426e-03  2.782383e-03  1.166525e-04  ...  0.000000   \n",
       "FRP5    0.008873  7.169855e-03  1.100737e-02  5.081713e-04  ...  0.000109   \n",
       "FRP6a   0.000044  1.785906e-04  4.514024e-04  1.166491e-05  ...  0.000000   \n",
       "FRP6b        NaN           NaN           NaN           NaN  ...       NaN   \n",
       "...          ...           ...           ...           ...  ...       ...   \n",
       "FL           NaN           NaN           NaN           NaN  ...       NaN   \n",
       "FN      0.000017  2.137499e-08  2.057406e-07  1.556478e-08  ...  0.002166   \n",
       "IP      0.000047  0.000000e+00  0.000000e+00  1.480726e-08  ...  0.000052   \n",
       "DN           NaN           NaN           NaN           NaN  ...       NaN   \n",
       "VeCB         NaN           NaN           NaN           NaN  ...       NaN   \n",
       "\n",
       "                                                                            \\\n",
       "               ANcr2           PRM      COPY       PFL        FL        FN   \n",
       "FRP1             NaN           NaN       NaN       NaN       NaN       NaN   \n",
       "FRP2/3  0.000000e+00  8.901402e-07  0.000000  0.000000  0.000000  0.000000   \n",
       "FRP5    6.374014e-05  8.123461e-05  0.000111  0.000287  0.000048  0.000005   \n",
       "FRP6a   2.084261e-07  3.764918e-07  0.000000  0.000057  0.000000  0.000000   \n",
       "FRP6b            NaN           NaN       NaN       NaN       NaN       NaN   \n",
       "...              ...           ...       ...       ...       ...       ...   \n",
       "FL               NaN           NaN       NaN       NaN       NaN       NaN   \n",
       "FN      5.796098e-03  5.608080e-03  0.003423  0.000100  0.000013  0.009704   \n",
       "IP      6.567511e-05  3.000850e-04  0.000758  0.002214  0.000015  0.000052   \n",
       "DN               NaN           NaN       NaN       NaN       NaN       NaN   \n",
       "VeCB             NaN           NaN       NaN       NaN       NaN       NaN   \n",
       "\n",
       "                                              \n",
       "                  IP            DN      VeCB  \n",
       "FRP1             NaN           NaN       NaN  \n",
       "FRP2/3  0.000000e+00  0.000000e+00  0.000000  \n",
       "FRP5    3.100057e-07  1.824393e-08  0.000012  \n",
       "FRP6a   0.000000e+00  0.000000e+00  0.000000  \n",
       "FRP6b            NaN           NaN       NaN  \n",
       "...              ...           ...       ...  \n",
       "FL               NaN           NaN       NaN  \n",
       "FN      6.976401e-03  3.122086e-04  0.000140  \n",
       "IP      3.057021e-05  3.479912e-05  0.000002  \n",
       "DN               NaN           NaN       NaN  \n",
       "VeCB             NaN           NaN       NaN  \n",
       "\n",
       "[564 rows x 1123 columns]"
      ]
     },
     "execution_count": 353,
     "metadata": {},
     "output_type": "execute_result"
    }
   ],
   "source": [
    "conn_leafleaf"
   ]
  },
  {
   "cell_type": "code",
   "execution_count": null,
   "metadata": {
    "collapsed": true
   },
   "outputs": [],
   "source": [
    "def leafsource_to_sumsource():\n",
    "    "
   ]
  }
 ],
 "metadata": {
  "kernelspec": {
   "display_name": "allen_010719_5",
   "language": "python",
   "name": "allen_010719_5"
  }
 },
 "nbformat": 4,
 "nbformat_minor": 2
}

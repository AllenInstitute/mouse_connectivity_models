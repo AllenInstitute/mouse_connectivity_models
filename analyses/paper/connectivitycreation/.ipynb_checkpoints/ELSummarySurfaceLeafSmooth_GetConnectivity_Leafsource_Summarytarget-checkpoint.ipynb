{
 "cells": [
  {
   "cell_type": "code",
   "execution_count": 1,
   "metadata": {},
   "outputs": [
    {
     "name": "stderr",
     "output_type": "stream",
     "text": [
      "/Users/samsonkoelle/anaconda3/envs/allen_010719_5/lib/python3.7/site-packages/sklearn/utils/deprecation.py:144: FutureWarning: The sklearn.linear_model.base module is  deprecated in version 0.22 and will be removed in version 0.24. The corresponding classes / functions should instead be imported from sklearn.linear_model. Anything that cannot be imported from sklearn.linear_model is now part of the private API.\n",
      "  warnings.warn(message, FutureWarning)\n",
      "/Users/samsonkoelle/anaconda3/envs/allen_010719_5/lib/python3.7/site-packages/sklearn/utils/deprecation.py:144: FutureWarning: The sklearn.metrics.scorer module is  deprecated in version 0.22 and will be removed in version 0.24. The corresponding classes / functions should instead be imported from sklearn.metrics. Anything that cannot be imported from sklearn.metrics is now part of the private API.\n",
      "  warnings.warn(message, FutureWarning)\n"
     ]
    }
   ],
   "source": [
    "%load_ext autoreload\n",
    "%autoreload 2\n",
    "\n",
    "import os\n",
    "import numpy as np\n",
    "import pandas as pd \n",
    "import sys\n",
    "import pickle\n",
    "import itertools\n",
    "import seaborn as sns\n",
    "import matplotlib.pyplot as plt\n",
    "from mpl_toolkits.mplot3d import Axes3D\n",
    "import random\n",
    "from sklearn.metrics import pairwise_distances\n",
    "from sklearn.kernel_ridge import KernelRidge\n",
    "import math\n",
    "\n",
    "workingdirectory = os.popen('git rev-parse --show-toplevel').read()[:-1]\n",
    "sys.path.append(workingdirectory)\n",
    "os.chdir(workingdirectory)\n",
    "\n",
    "import allensdk.core.json_utilities as ju\n",
    "from allensdk.core.mouse_connectivity_cache import MouseConnectivityCache\n",
    "\n",
    "from mcmodels.core import VoxelModelCache\n",
    "from mcmodels.core.utils import get_structure_id,get_ordered_summary_structures\n",
    "from mcmodels.core.connectivity_data import get_connectivity_data\n",
    "#from mcmodels.models.crossvalidation import get_nwloocv_predictions_multimodel_merge_dists\n",
    "from mcmodels.utils import nonzero_unique #, unionize\n",
    "from mcmodels.models.crossvalidation import get_best_hyperparameters,get_loss_best_hyp,get_loss#get_loocv_predictions,get_loss#get_best_hyperparameters,get_loss_best_hyp,get_loocv_predictions,get_loss\n",
    "from mcmodels.core.utils import get_leaves_ontologicalorder, get_indices, get_indices2,get_eval_indices,screen_index_matrices,screen_index_matrices2,screen_index_matrices3#get_cre_status,get_minorstructure_dictionary,get_leaves_ontologicalorder\n",
    "from mcmodels.core.utils import get_indices_2ormore\n",
    "\n",
    "from mcmodels.regressors import NadarayaWatson\n",
    "from mcmodels.core.plotting import plot_loss_surface,plot_loss_scatter"
   ]
  },
  {
   "cell_type": "code",
   "execution_count": 2,
   "metadata": {
    "collapsed": true
   },
   "outputs": [],
   "source": [
    "\n",
    "def get_cre_distances(projections, means_cast, sids, cres):\n",
    "    nsamp = cres.shape[0]\n",
    "    credist = np.empty((nsamp,nsamp))\n",
    "    credist[:] = np.nan\n",
    "    for i in range(nsamp):\n",
    "        #print(i)\n",
    "        meani = means_cast[sids[i]][cres[i]]#means_cast.loc[tuple([cres[i], sids[i]])]\n",
    "        for j in range(nsamp):\n",
    "            meanj = means_cast[sids[j]][cres[j]]\n",
    "            if sids[j] == sids[i]:\n",
    "                credist[i,j]  = np.linalg.norm(meani - meanj)#**2\n",
    "    return(credist)\n",
    "def get_loss_surface_cv(projections, centroids, cres, sids,fraction, gamma = 100000):\n",
    "    means_cast = get_means(projections, cres, sids)\n",
    "    cre_distances_cv = get_cre_distances_cv(projections, means_cast, sids, cres)\n",
    "    surface = get_surface_from_distances(projections,centroids,cre_distances_cv, fraction, gamma)\n",
    "    surface.cre_distances_cv = cre_distances_cv\n",
    "    return(surface)\n",
    "\n",
    "def get_surface_from_distances(projections,centroids,cre_distances, fraction, gamma = 100000):\n",
    "    \n",
    "    nsamp = centroids.shape[0]\n",
    "    pairs = np.asarray(np.where(~np.isnan(cre_distances))).transpose() #not all cres will have distances, e.g. if not in same leaf\n",
    "    ngp = pairs.shape[0]\n",
    "    \n",
    "    coordinates = np.zeros((ngp,2))\n",
    "    projection_distances = np.zeros((ngp,1))\n",
    "    for i in range(ngp):\n",
    "        coordinates[i,0] = np.linalg.norm(centroids[pairs[i][0]] - centroids[pairs[i][1]])**2\n",
    "        coordinates[i,1] = cre_distances[pairs[i][0]][pairs[i][1]]\n",
    "        projection_distances[i] = np.linalg.norm(projections[pairs[i][0]] - projections[pairs[i][1]])**2\n",
    "    coordinates_normed = coordinates / np.linalg.norm(coordinates, axis = 0)#**2\n",
    "\n",
    "    surface = NadarayaWatson(kernel='rbf',  gamma  = gamma)\n",
    "    randos = random.sample(list(range(ngp)), math.floor(ngp * fraction))\n",
    "    surface.fit(coordinates_normed[randos], projection_distances[randos])\n",
    "    surface.coordinates_normed = coordinates_normed\n",
    "    surface.norms = np.linalg.norm(coordinates, axis = 0)\n",
    "    surface.projection_distances = projection_distances\n",
    "    return(surface)\n",
    "\n",
    "# def get_cre_distances_cv(proj, means_cast, sids,cres):\n",
    "#     nsamp = cres.shape[0]\n",
    "#     credist = np.empty((nsamp,nsamp))\n",
    "#     credist[:] = np.nan\n",
    "#     for i in range(nsamp):\n",
    "#         print(i)\n",
    "#         meani = meani = means_cast[sids[i]][cres[i]]\n",
    "#         ls = np.where(leafs[sid] == leafs[sid][i])[0]\n",
    "#         crs = np.where(cres == cres[i])[0]\n",
    "#         ncr = len(np.intersect1d(ls, crs))\n",
    "        \n",
    "#         meanloocvi = meani\n",
    "#         if ncr > 1:\n",
    "#             meanloocvi = (ncr * meani ) / (ncr - 1) -   (1/ ncr)* proj[i] #results[reg[i]][tuple([cs[reg_cre_ind[j],1], cs[reg_cre_ind[k],1]])]\n",
    "#         else:\n",
    "#             meanloocvi = np.zeros(proj[i].shape[0])\n",
    "#             meanloocvi[:] = np.nan\n",
    "            \n",
    "#         for j in range(nsamp):\n",
    "#             meanj = means_cast[sids[j]][cres[j]]\n",
    "#             if sids[j] == sids[i]:\n",
    "#                 credist[i,j]  = np.linalg.norm(meanloocvi - meanj)\n",
    "\n",
    "#     return(credist)\n",
    "\n",
    "def get_means(projections, cres, sids):\n",
    "    cre_means = {}\n",
    "    cre_types = np.unique(cres)\n",
    "    sid_types = np.unique(sids)\n",
    "    for i in range(len(sid_types)):\n",
    "        cre_means[sid_types[i]] = {}\n",
    "        sid_inds = np.where(sids == sid_types[i])[0]\n",
    "        for j in range(len(cre_types)): \n",
    "            cre_inds = np.where(cres == cre_types[j])[0]\n",
    "            cre_means[sid_types[i]][cre_types[j]] = np.mean(projections[np.intersect1d(sid_inds, cre_inds)], axis = 0 )\n",
    "    return(cre_means)\n",
    "\n",
    "def get_cre_distances_cv(proj, means_cast, sids,cres):\n",
    "    nsamp = cres.shape[0]\n",
    "    credist = np.empty((nsamp,nsamp))\n",
    "    credist[:] = np.nan\n",
    "    for i in range(nsamp):\n",
    "        #print(i)\n",
    "        meani = meani = means_cast[sids[i]][cres[i]]\n",
    "        ls = np.where(leafs[sid] == leafs[sid][i])[0]\n",
    "        crs = np.where(cres == cres[i])[0]\n",
    "        ncr = len(np.intersect1d(ls, crs))\n",
    "        \n",
    "        meanloocvi = meani\n",
    "        if ncr > 1:\n",
    "            meanloocvi = (ncr * meani ) / (ncr - 1) -   (1/ ncr)* proj[i] #results[reg[i]][tuple([cs[reg_cre_ind[j],1], cs[reg_cre_ind[k],1]])]\n",
    "        else:\n",
    "            meanloocvi = np.zeros(proj[i].shape[0])\n",
    "            meanloocvi[:] = np.nan\n",
    "            \n",
    "        for j in range(nsamp):\n",
    "            meanj = means_cast[sids[j]][cres[j]]\n",
    "            if sids[j] == sids[i]:\n",
    "                credist[j,i]  = np.linalg.norm(meanloocvi - meanj)\n",
    "\n",
    "    return(credist)\n",
    "\n",
    "def get_embedding_cv(surface, dists, cre_distances_cv):\n",
    "    \n",
    "    ntrain = dists.shape[0]\n",
    "    norms = surface.norms\n",
    "    leaf_pairs = np.asarray(np.where(~np.isnan(cre_distances_cv))).transpose()\n",
    "    nlp = leaf_pairs.shape[0]\n",
    "    \n",
    "    losses = np.zeros((ntrain, ntrain))\n",
    "    for i in range(nlp):\n",
    "        d_ij = dists[leaf_pairs[i][0]][leaf_pairs[i][1]] / norms[0]\n",
    "        p_ij = cre_distances_cv[leaf_pairs[i][0]][leaf_pairs[i][1]] / norms[1]\n",
    "        losses[leaf_pairs[i][0]][leaf_pairs[i][1]] = surface.predict(np.asarray([[d_ij, p_ij]]))\n",
    "      \n",
    "    losses[np.where(losses == 0)] = np.nan\n",
    "    \n",
    "    return(losses)\n",
    "\n",
    "\n",
    "from mcmodels.core import Mask\n",
    "\n",
    "\n",
    "def get_embedding(surface, dists, cres = None, cre = None, means = None):\n",
    "    \n",
    "    ntrain = dists.shape[0]\n",
    "    neval = dists.shape[1]\n",
    "    norms = surface.norms\n",
    "    #cnorm = surface.cnorm\n",
    "    \n",
    "    cre_deezy = np.zeros((ntrain))\n",
    "    \n",
    "    for i in range(ntrain):\n",
    "        cre_deezy[i] = np.linalg.norm(means[cres[i]] - means[cre])\n",
    "    \n",
    "    losses = np.zeros((ntrain, neval))\n",
    "    for i in range(ntrain):\n",
    "        for j in range(neval):\n",
    "            d_ij = dists[i,j] / norms[0]\n",
    "            p_i = cre_deezy[i] / norms[1]\n",
    "            losses[i,j] = surface.predict(np.asarray([[d_ij, p_i]]))\n",
    "            \n",
    "    return(losses)\n",
    "\n",
    "\n",
    "\n",
    "def get_nw_predictions(projections, dists, gamma):\n",
    "  \n",
    "     \n",
    "    projections = np.asarray(projections, dtype=np.float32)\n",
    "    neval = dists.shape[1]\n",
    "    #nexp = centroids.shape[0]\n",
    "    predictions = np.zeros((neval, projections.shape[1]))\n",
    "    predictions[:] = np.nan\n",
    "    \n",
    "    #print(model_index_val.shape, eval_index_val.shape)\n",
    "    #weights = np.exp(- dists / gamma)#np.exp(-dists[model_index_val] / gamma) #get_weights(centroids, gamma)\n",
    "    for i in range(neval):\n",
    "        dists_i = dists[:,i] - np.min(dists[:,i])\n",
    "        #dists_i = dists[i,:] - np.min(dists[i,:])\n",
    "        weights_i = np.exp(- dists_i * gamma)\n",
    "        weights_i = np.asarray(weights_i, dtype=np.float32)\n",
    "        weights_i[np.isnan(weights_i)] = 0.\n",
    "        weights_i = weights_i / np.sum(weights_i)\n",
    "        predictions[i] = np.dot(weights_i, projections)\n",
    "        \n",
    "    return(predictions) \n",
    "\n",
    "def get_connectivity_matrices2_nw(connectivity_data, gamma_dict, cres, structures, model_ordering, source_ordering, target_ordering, eval_cres, cre_model = True):\n",
    "    \n",
    "    nsource = len(source_ordering)\n",
    "    #n#target = len(target_ordering)\n",
    "    ncre = len(eval_cres)\n",
    "\n",
    "    ipsi_target_regions = connectivity_data.ipsi_target_regions\n",
    "    contra_target_regions = connectivity_data.contra_target_regions                               \n",
    "    ipsi_indices= np.asarray([])\n",
    "    contra_indices = np.asarray([])\n",
    "    for iy in target_ordering: \n",
    "        ipsi_indices = np.concatenate([ipsi_indices, np.where(ipsi_target_regions==iy)[0]] )\n",
    "        contra_indices = np.concatenate([contra_indices, np.where(contra_target_regions==iy)[0]] )\n",
    "    ipsi_indices = np.asarray(ipsi_indices, dtype = int)   \n",
    "    contra_indices = np.asarray(contra_indices, dtype = int)    \n",
    "    reorder = np.concatenate([ipsi_indices, len(ipsi_indices) + contra_indices])  \n",
    "    ntarget = len(reorder)\n",
    "      \n",
    "    connectivity = np.zeros((ncre, nsource, ntarget))\n",
    "    connectivity[:] = np.nan\n",
    "    #structure_major_dictionary = connectivity_data.structure_major_dictionary\n",
    "    for c in range(ncre):\n",
    "        for i in range(nsource):\n",
    "            print(i,source_ordering[i])\n",
    "            sid = model_ordering[i,0]#structure_major_dictionary[source_ordering[i]]\n",
    "            gamma = gamma_dict[sid]\n",
    "            connectivity[c,i] = get_region_prediction2(cache,\n",
    "                                                      connectivity_data.structure_datas[sid],\n",
    "                                                      exp_structures = structures[sid],\n",
    "                                                      model_region = model_ordering[i,1],\n",
    "                                                      prediction_region= source_ordering[i],\n",
    "                                                      cre = eval_cres[c],\n",
    "                                                      gamma = gamma_dict[sid],\n",
    "                                                      cre_model = cre_model)\n",
    "                                                      \n",
    "    connectivity = connectivity[:,:,reorder]                                                  \n",
    "                                                      \n",
    "    return(connectivity)\n",
    "\n",
    "\n",
    "def get_region_prediction2(cache, structure_data,  exp_structures, model_region, prediction_region, cre, gamma, surface = None, cre_model = False):\n",
    "    \n",
    "    model_experiments = np.where(exp_structures == model_region)[0]\n",
    "    nexp = len(model_experiments)\n",
    "    \n",
    "    cres = structure_data.crelines[model_experiments]\n",
    "    mask = Mask.from_cache(cache,structure_ids=[prediction_region],hemisphere_id=2)\n",
    "\n",
    "#     if surface != None and cre_model != True:\n",
    "#         means = get_means(projections,cres, np.repeat(model_region,nexp))\n",
    "        \n",
    "#         losses = get_embedding(surface, pairwise_distances(centroids, mask.coordinates)**2, cres, cre, means[model_region])\n",
    "#         predictions = get_nw_predictions(projections, losses, gamma)\n",
    "#         output = np.mean(predictions, axis = 0)\n",
    "        \n",
    "    if surface != None and cre_model == True:\n",
    "        projections = structure_data.reg_proj_norm[model_experiments]\n",
    "        centroids = structure_data.centroids[model_experiments]\n",
    "        means = get_means(projections, cres, np.repeat(model_region,nexp))\n",
    "        #print(means)\n",
    "        print(prediction_region, model_region,means.keys())\n",
    "        #supposed to check if theres a cre in that region\n",
    "        if np.isin(model_region, list(means.keys())):\n",
    "            if np.isin(cre, np.asarray(list(means[model_region].keys()))):\n",
    "                losses = get_embedding(surface, pairwise_distances(centroids, mask.coordinates)**2, cres, cre, means[model_region])\n",
    "                predictions = get_nw_predictions(projections, losses, gamma)\n",
    "                output = np.mean(predictions, axis = 0)\n",
    "            else:\n",
    "                output = np.zeros(projections.shape[1])\n",
    "                output[:] = np.nan\n",
    "        else:\n",
    "            output = np.zeros(projections.shape[1])\n",
    "            output[:] = np.nan           \n",
    "#     if surface == None and cre_model != True:\n",
    "#         means = get_means(projections, cres, [model_region])\n",
    "#         predictions = means[cres]\n",
    "#         output = np.mean(predictions, axis = 0)\n",
    "        \n",
    "    if surface == None and cre_model == True:\n",
    "        \n",
    "        \n",
    "        modelcre_experiments = np.where(cres == cre)[0]\n",
    "        if len(modelcre_experiments)>0:\n",
    "            projections = structure_data.reg_proj_norm[model_experiments][modelcre_experiments]\n",
    "            centroids = structure_data.centroids[model_experiments][modelcre_experiments]\n",
    "            #print((pairwise_distances(centroids, mask.coordinates)**2).shape)\n",
    "            predictions = get_nw_predictions(projections, pairwise_distances(centroids, mask.coordinates)**2, gamma)\n",
    "            output = np.mean(predictions, axis = 0)\n",
    "        else:\n",
    "            output = np.zeros(structure_data.reg_proj_norm.shape[1])\n",
    "            output[:] = np.nan  \n",
    "            \n",
    "    if surface == None and cre_model == False:\n",
    "        \n",
    "        if len(model_experiments)>0:\n",
    "            projections = structure_data.reg_proj_norm[model_experiments]\n",
    "            centroids = structure_data.centroids[model_experiments]\n",
    "            predictions = get_nw_predictions(projections, pairwise_distances(centroids, mask.coordinates)**2, gamma)\n",
    "            output = np.mean(predictions, axis = 0)\n",
    "        else:\n",
    "            output = np.zeros(structure_data.reg_proj_norm.shape[1])\n",
    "            output[:] = np.nan  \n",
    "        \n",
    "    return(output)\n",
    "\n",
    "\n",
    "#good one\n",
    "#model_ordering_leafs,model_region_structures are len n exps, which model to use\n",
    "#model_experiments_leaf,model_experiments_structure are inds of \n",
    "#cres can be deleted\n",
    "# def get_connectivity_matrices3(connectivity_data, surfaces, cres, structures_smooth,structures_surface, model_ordering_leafs, model_ordering_surfaces, source_ordering, target_ordering, eval_cres):\n",
    "    \n",
    "#     nsource = len(source_ordering)\n",
    "#     #n#target = len(target_ordering)\n",
    "#     ncre = len(eval_cres)\n",
    "\n",
    "#     ipsi_target_regions = connectivity_data.ipsi_target_regions\n",
    "#     contra_target_regions = connectivity_data.contra_target_regions                               \n",
    "#     ipsi_indices= np.asarray([])\n",
    "#     contra_indices = np.asarray([])\n",
    "#     for iy in target_ordering: \n",
    "#         ipsi_indices = np.concatenate([ipsi_indices, np.where(ipsi_target_regions==iy)[0]] )\n",
    "#         contra_indices = np.concatenate([contra_indices, np.where(contra_target_regions==iy)[0]] )\n",
    "#     ipsi_indices = np.asarray(ipsi_indices, dtype = int)   \n",
    "#     contra_indices = np.asarray(contra_indices, dtype = int)    \n",
    "#     reorder = np.concatenate([ipsi_indices, len(ipsi_indices) + contra_indices])  \n",
    "#     ntarget = len(reorder)\n",
    "      \n",
    "#     connectivity = np.zeros((ncre, nsource, ntarget))\n",
    "#     connectivity[:] = np.nan\n",
    "#     #structure_major_dictionary = connectivity_data.structure_major_dictionary\n",
    "#     for c in range(ncre):\n",
    "#         for i in range(nsource):\n",
    "#             print(i,source_ordering[i])\n",
    "#             sid = model_ordering_leafs[i,0]#structure_major_dictionary[source_ordering[i]]\n",
    "#             gamma = surfaces[sid].gamma#gamma_dict[sid]\n",
    "#             connectivity[c,i] = get_region_prediction3(cache,\n",
    "#                                                       connectivity_data.structure_datas[sid],\n",
    "#                                                       #structures_sid = structures[sid],\n",
    "#                                                        structures_surface_sid =structures_surface[sid],\n",
    "#                                                        structures_smooth_sid= structures_smooth[sid],\n",
    "#                                                       model_region_leaf = model_ordering_leafs[i,1],\n",
    "#                                                        model_region_surface = model_ordering_surfaces[i,1],\n",
    "#                                                       prediction_region= source_ordering[i],\n",
    "#                                                       cre = eval_cres[c],\n",
    "#                                                       gamma = surfaces[sid].bestgamma,\n",
    "#                                                       surface = surfaces[sid],\n",
    "#                                                       cre_model = True)\n",
    "                                                      \n",
    "#     connectivity = connectivity[:,:,reorder]                                                  \n",
    "                                                      \n",
    "#     return(connectivity)\n",
    "\n",
    "# def get_region_prediction3(cache, structure_data,  structures_surface_sid,structures_smooth_sid, model_region_surface, model_region_leaf, prediction_region, cre, gamma, surface = None, cre_model = False):\n",
    "    \n",
    "\n",
    "#     model_experiments_leaf = np.where(structures_smooth_sid == model_region_leaf)[0]\n",
    "#     model_experiments_surface = np.where(structures_surface_sid == model_region_surface)[0]\n",
    "    \n",
    "#     nexp_surface = len(model_experiments_surface)\n",
    "    \n",
    "#     cres_surface = structure_data.crelines[model_experiments_surface]\n",
    "#     mask = Mask.from_cache(cache,structure_ids=[prediction_region],hemisphere_id=2)\n",
    "#     if surface != None and cre_model == True:\n",
    "#         projections = structure_data.reg_proj_norm[model_experiments_leaf]\n",
    "#         projections_surface = structure_data.reg_proj_norm[model_experiments_surface]\n",
    "#         centroids = structure_data.centroids[model_experiments_leaf]#model_region_leaf\n",
    "#         means = get_means(projections_surface, cres_surface, np.repeat(model_region_surface,nexp_surface))\n",
    "#         #supposed to check if theres a cre in that region\n",
    "#         #if np.isin(model_region_surface, list(means.keys())):\n",
    "#         if centroids.shape[0]>0:\n",
    "#             if np.isin(cre, np.asarray(list(means[model_region_surface].keys()))):\n",
    "#                 losses = get_embedding(surface, pairwise_distances(centroids, mask.coordinates)**2, cres_surface, cre, means[model_region_surface])\n",
    "#                 predictions = get_nw_predictions(projections, losses, gamma)\n",
    "#                 output = np.mean(predictions, axis = 0)\n",
    "#             else:\n",
    "#                 output = np.zeros(projections.shape[1])\n",
    "#                 output[:] = np.nan\n",
    "#         else:\n",
    "#             output = np.zeros(projections.shape[1])\n",
    "#             output[:] = np.nan\n",
    "#     if surface == None and cre_model == True:\n",
    "        \n",
    "        \n",
    "#         modelcre_experiments = np.where(cres == cre)[0]\n",
    "#         if len(modelcre_experiments)>0:\n",
    "#             projections = structure_data.reg_proj_norm[model_experiments][modelcre_experiments]\n",
    "#             centroids = structure_data.centroids[model_experiments][modelcre_experiments]\n",
    "#             #print((pairwise_distances(centroids, mask.coordinates)**2).shape)\n",
    "#             predictions = get_nw_predictions(projections, pairwise_distances(centroids, mask.coordinates)**2, gamma)\n",
    "#             output = np.mean(predictions, axis = 0)\n",
    "#         else:\n",
    "#             output = np.zeros(structure_data.reg_proj_norm.shape[1])\n",
    "#             output[:] = np.nan  \n",
    "            \n",
    "#     if surface == None and cre_model == False:\n",
    "        \n",
    "#         if len(model_experiments)>0:\n",
    "#             projections = structure_data.reg_proj_norm[model_experiments]\n",
    "#             centroids = structure_data.centroids[model_experiments]\n",
    "#             predictions = get_nw_predictions(projections, pairwise_distances(centroids, mask.coordinates)**2, gamma)\n",
    "#             output = np.mean(predictions, axis = 0)\n",
    "#         else:\n",
    "#             output = np.zeros(structure_data.reg_proj_norm.shape[1])\n",
    "#             output[:] = np.nan  \n",
    "       \n",
    "#     return(output)\n"
   ]
  },
  {
   "cell_type": "code",
   "execution_count": 3,
   "metadata": {
    "collapsed": true
   },
   "outputs": [],
   "source": [
    "#use v3"
   ]
  },
  {
   "cell_type": "code",
   "execution_count": 4,
   "metadata": {},
   "outputs": [
    {
     "name": "stdout",
     "output_type": "stream",
     "text": [
      "annotation/ccf_2017\n"
     ]
    }
   ],
   "source": [
    "#read data\n",
    "TOP_DIR = '/Users/samsonkoelle/alleninstitute/mcm_2020/mcm_updated/'\n",
    "INPUT_JSON = os.path.join(TOP_DIR, 'input_011520.json')\n",
    "EXPERIMENTS_EXCLUDE_JSON = os.path.join(TOP_DIR, 'experiments_exclude.json')\n",
    "FILE_DIR = '/Users/samsonkoelle/alleninstitute/mcm_2020/mcm_updated/'\n",
    "OUTPUT_DIR = os.path.join(FILE_DIR, 'output')\n",
    "\n",
    "input_data = ju.read(INPUT_JSON)\n",
    "manifest_file = input_data.get('manifest_file')\n",
    "manifest_file = os.path.join(TOP_DIR, manifest_file)\n",
    "experiments_exclude = ju.read(EXPERIMENTS_EXCLUDE_JSON)\n",
    "\n",
    "#its unclear why the hyperparameters are loaded from the output directory\n",
    "cache = VoxelModelCache(manifest_file=manifest_file)\n",
    "major_structures = input_data.get('structures')\n",
    "major_structure_ids = [get_structure_id(cache, s) for s in major_structures]\n",
    "data_info = pd.read_excel('/Users/samsonkoelle/alleninstitute/Whole Brain Cre Image Series_curation only.xlsx', 'all datasets curated_070919pull')\n",
    "data_info.set_index(\"id\", inplace=True)\n",
    "\n",
    "#switch from v2 structures\n",
    "#ontological_order = get_ordered_summary_structures(cache)\n",
    "\n",
    "#to v3\n",
    "ontological_order = get_ordered_summary_structures(cache,167587189)\n",
    "#due to redundancy in ccfv3, remove 'MDRNv', 'MDRNd' from summary structures (include as leafs of MDRN)\n",
    "#ontological_order[277]\n",
    "ontological_order = np.setdiff1d(ontological_order, [1098, 1107])\n",
    "\n",
    "mcc = MouseConnectivityCache(manifest_file = '../connectivity/mouse_connectivity_manifest.json')\n",
    "st = mcc.get_structure_tree()\n",
    "ai_map = st.get_id_acronym_map()\n",
    "ia_map = {value: key for key, value in ai_map.items()}\n",
    "\n",
    "#regionalize voxel model: compare with regional model\n",
    "#regional parameters\n",
    "cre = None\n",
    "eid_set=None\n",
    "high_res=False\n",
    "threshold_injection = False\n",
    "\n",
    "COARSE_STRUCTURE_SET_ID = 2\n",
    "DEFAULT_STRUCTURE_SET_IDS = tuple([COARSE_STRUCTURE_SET_ID])\n",
    "tree = cache.get_structure_tree()\n",
    "default_structures = tree.get_structures_by_set_id(DEFAULT_STRUCTURE_SET_IDS)\n",
    "default_structure_ids = [st['id'] for st in default_structures if st['id'] != 934]\n",
    "#cre= True"
   ]
  },
  {
   "cell_type": "code",
   "execution_count": 5,
   "metadata": {},
   "outputs": [
    {
     "name": "stdout",
     "output_type": "stream",
     "text": [
      "512\n",
      "703\n",
      "1089\n",
      "1097\n",
      "315\n",
      "313\n",
      "354\n",
      "698\n",
      "771\n",
      "803\n",
      "477\n",
      "549\n"
     ]
    }
   ],
   "source": [
    "connectivity_data = get_connectivity_data(cache, major_structure_ids, experiments_exclude, remove_injection = False)"
   ]
  },
  {
   "cell_type": "code",
   "execution_count": 6,
   "metadata": {
    "collapsed": true
   },
   "outputs": [],
   "source": [
    "connectivity_data.get_injection_hemisphere_ids()\n",
    "connectivity_data.align()\n",
    "connectivity_data.get_centroids()\n",
    "connectivity_data.get_data_matrices(default_structure_ids)\n",
    "connectivity_data.get_crelines(data_info)"
   ]
  },
  {
   "cell_type": "code",
   "execution_count": 7,
   "metadata": {
    "collapsed": true
   },
   "outputs": [],
   "source": [
    "#major division segregation is legacy code but convenient for fast cross validation in major division model\n",
    "#experiments_minor_structures = get_summarystructure_dictionary(connectivity_data, data_info)\n",
    "#get leaves in ontological order.  Where leafs don't exist, uses summary structure\n",
    "ontological_order_leaves = get_leaves_ontologicalorder(connectivity_data, ontological_order)\n",
    "#Key isn't affected by which experiment we choose. This allows default masking to be inherited from the AllenSDK.\n",
    "sid0 = list(connectivity_data.structure_datas.keys())[0]\n",
    "eid0 = list(connectivity_data.structure_datas[sid0].experiment_datas.keys())[0]\n",
    "#Identify keys denoting which voxels correspond to which structure in the ipsi and contra targets.\n",
    "#contra_targetkey = msvd.experiments[list(msvd.experiments.keys())[0]].projection_mask.get_key(structure_ids=ontological_order_leaves, hemisphere_id=1)\n",
    "#ipsi_targetkey = msvd.experiments[list(msvd.experiments.keys())[0]].projection_mask.get_key(structure_ids=ontological_order_leaves, hemisphere_id=2)\n",
    "contra_targetkey = connectivity_data.structure_datas[sid0].projection_mask.get_key(structure_ids=ontological_order, hemisphere_id=1)\n",
    "ipsi_targetkey = connectivity_data.structure_datas[sid0].projection_mask.get_key(structure_ids=ontological_order, hemisphere_id=2)\n",
    "#get average intensities of projection structures given ipsi and contra keys\n",
    "#source_key = ontological_order #only relevant here when injection needs to be unionized, but currently a required argument\n",
    "ipsi_target_regions, ipsi_target_counts = nonzero_unique(ipsi_targetkey, return_counts=True)\n",
    "contra_target_regions, contra_target_counts = nonzero_unique(contra_targetkey, return_counts=True)\n",
    "\n",
    "target_order = lambda x: np.array(ontological_order)[np.isin(ontological_order, x)]\n",
    "permutation = lambda x: np.argsort(np.argsort(target_order(x)))\n",
    "targ_ids = np.concatenate([ipsi_target_regions[permutation(ipsi_target_regions)],\n",
    "                           contra_target_regions[permutation(contra_target_regions)]])"
   ]
  },
  {
   "cell_type": "code",
   "execution_count": 8,
   "metadata": {
    "collapsed": true
   },
   "outputs": [],
   "source": [
    "connectivity_data.ai_map = ai_map\n",
    "connectivity_data.get_summarystructures(data_info)\n"
   ]
  },
  {
   "cell_type": "code",
   "execution_count": 9,
   "metadata": {
    "collapsed": true
   },
   "outputs": [],
   "source": [
    "with open('data/info/leafs.pickle', 'rb') as handle:\n",
    "    leafs = pickle.load(handle)\n",
    "    \n",
    "# connectivity_data.ai_map = ai_map\n",
    "# connectivity_data.get_summarystructures(data_info)\n",
    "connectivity_data.leafs = leafs\n",
    "# connectivity_data.get_regionalized_normalized_data(ontological_order, ipsi_targetkey, contra_targetkey)\n",
    "# connectivity_data.get_creleaf_combos()\n",
    "# connectivity_data.leaf2_index_matrices = get_indices_2ormore(connectivity_data.leafs)\n",
    "# connectivity_data.creleaf2_index_matrices = get_indices_2ormore(connectivity_data.creleaf_combos)\n",
    "\n",
    "summary_structures = {}\n",
    "for sid in major_structure_ids:\n",
    "    summary_structures[sid] = connectivity_data.structure_datas[sid].summary_structures\n",
    "connectivity_data.summary_structures = summary_structures#get_indices_2ormore(connectivity_data.leafs)\n",
    "\n",
    "connectivity_data.get_regionalized_normalized_data(ontological_order, ipsi_targetkey, contra_targetkey)\n",
    "connectivity_data.get_creleaf_combos()\n",
    "connectivity_data.leaf2_index_matrices = get_indices_2ormore(connectivity_data.leafs)\n",
    "connectivity_data.creleaf2_index_matrices = get_indices_2ormore(connectivity_data.creleaf_combos)\n",
    "\n",
    "connectivity_data.get_regionalized_normalized_data(ontological_order, ipsi_targetkey, contra_targetkey)\n",
    "\n"
   ]
  },
  {
   "cell_type": "code",
   "execution_count": 10,
   "metadata": {
    "collapsed": true
   },
   "outputs": [],
   "source": [
    "\n",
    "connectivity_data.sum2_index_matrices = get_indices_2ormore(connectivity_data.summary_structures)\n"
   ]
  },
  {
   "cell_type": "code",
   "execution_count": 11,
   "metadata": {
    "collapsed": true
   },
   "outputs": [],
   "source": [
    "\n",
    "def get_cre_distances(projections, means_cast, sids, cres):\n",
    "    nsamp = cres.shape[0]\n",
    "    credist = np.empty((nsamp,nsamp))\n",
    "    credist[:] = np.nan\n",
    "    for i in range(nsamp):\n",
    "        #print(i)\n",
    "        meani = means_cast[sids[i]][cres[i]]#means_cast.loc[tuple([cres[i], sids[i]])]\n",
    "        for j in range(nsamp):\n",
    "            meanj = means_cast[sids[j]][cres[j]]\n",
    "            if sids[j] == sids[i]:\n",
    "                credist[i,j]  = np.linalg.norm(meani - meanj)#**2\n",
    "    return(credist)\n",
    "\n",
    "def get_loss_surface_cv_spline(projections, centroids, cres, sids,fraction):\n",
    "    means_cast = get_means(projections, cres, sids)\n",
    "    cre_distances_cv = get_cre_distances_cv(projections, means_cast, sids, cres)\n",
    "    surface = get_surface_from_distances_spline(projections,centroids,cre_distances_cv, fraction)\n",
    "    surface.cre_distances_cv = cre_distances_cv\n",
    "    return(surface)\n",
    "\n",
    "def get_surface_from_distances_spline(projections,centroids,cre_distances, fraction):\n",
    "    \n",
    "    nsamp = centroids.shape[0]\n",
    "    pairs = np.asarray(np.where(~np.isnan(cre_distances))).transpose() #not all cres will have distances, e.g. if not in same leaf\n",
    "    ngp = pairs.shape[0]\n",
    "    \n",
    "    coordinates = np.zeros((ngp,2))\n",
    "    projection_distances = np.zeros((ngp,1))\n",
    "    for i in range(ngp):\n",
    "        coordinates[i,0] = np.linalg.norm(centroids[pairs[i][0]] - centroids[pairs[i][1]])**2\n",
    "        coordinates[i,1] = cre_distances[pairs[i][0]][pairs[i][1]]\n",
    "        projection_distances[i] = np.linalg.norm(projections[pairs[i][0]] - projections[pairs[i][1]])**2\n",
    "    coordinates_normed = coordinates / np.linalg.norm(coordinates, axis = 0)#**2\n",
    "    coordinates_normed[np.where(np.isnan(coordinates_normed))] = 0.\n",
    "    #was n_splines = 10\n",
    "    surface = LinearGAM(s(0, constraints=['monotonic_inc', 'concave'], n_splines=10) + \n",
    "                        s(1, constraints=['monotonic_inc', 'concave'], n_splines=10))\n",
    "\n",
    "    #surface = NadarayaWatson(kernel='rbf',  gamma  = gamma)\n",
    "    randos = random.sample(list(range(ngp)), math.floor(ngp * fraction))\n",
    "    surface.fit(coordinates_normed[randos], projection_distances[randos])\n",
    "    surface.coordinates_normed = coordinates_normed\n",
    "    surface.norms = np.linalg.norm(coordinates, axis = 0)\n",
    "    surface.projection_distances = projection_distances\n",
    "    return(surface)\n",
    "\n",
    "def get_surface_from_distances_nw(projections,centroids,cre_distances, fraction, gamma = 100000):\n",
    "    \n",
    "    nsamp = centroids.shape[0]\n",
    "    pairs = np.asarray(np.where(~np.isnan(cre_distances))).transpose() #not all cres will have distances, e.g. if not in same leaf\n",
    "    ngp = pairs.shape[0]\n",
    "    \n",
    "    coordinates = np.zeros((ngp,2))\n",
    "    projection_distances = np.zeros((ngp,1))\n",
    "    for i in range(ngp):\n",
    "        coordinates[i,0] = np.linalg.norm(centroids[pairs[i][0]] - centroids[pairs[i][1]])**2\n",
    "        coordinates[i,1] = cre_distances[pairs[i][0]][pairs[i][1]]\n",
    "        projection_distances[i] = np.linalg.norm(projections[pairs[i][0]] - projections[pairs[i][1]])**2\n",
    "    coordinates_normed = coordinates / np.linalg.norm(coordinates, axis = 0)#**2\n",
    "    \n",
    "    \n",
    "    \n",
    "    surface = NadarayaWatson(kernel='rbf',  gamma  = gamma)\n",
    "    randos = random.sample(list(range(ngp)), math.floor(ngp * fraction))\n",
    "    #print(coordinates_normed[randos])\n",
    "    surface.fit(coordinates_normed[randos], projection_distances[randos])\n",
    "    surface.coordinates_normed = coordinates_normed\n",
    "    surface.norms = np.linalg.norm(coordinates, axis = 0)\n",
    "    surface.projection_distances = projection_distances\n",
    "    return(surface)\n",
    "\n",
    "def get_means(projections, cres, sids):\n",
    "    cre_means = {}\n",
    "    cre_types = np.unique(cres)\n",
    "    sid_types = np.unique(sids)\n",
    "    for i in range(len(sid_types)):\n",
    "        cre_means[sid_types[i]] = {}\n",
    "        sid_inds = np.where(sids == sid_types[i])[0]\n",
    "        for j in range(len(cre_types)): \n",
    "            cre_inds = np.where(cres == cre_types[j])[0]\n",
    "            cre_means[sid_types[i]][cre_types[j]] = np.mean(projections[np.intersect1d(sid_inds, cre_inds)], axis = 0 )\n",
    "    return(cre_means)\n",
    "\n",
    "def get_cre_distances_cv(proj, means_cast, sids,cres):\n",
    "    nsamp = cres.shape[0]\n",
    "    credist = np.empty((nsamp,nsamp))\n",
    "    credist[:] = np.nan\n",
    "    for i in range(nsamp):\n",
    "        #print(i)\n",
    "        meani = meani = means_cast[sids[i]][cres[i]]\n",
    "        ls = np.where(sids == sids[i])[0]\n",
    "        crs = np.where(cres == cres[i])[0]\n",
    "        ncr = len(np.intersect1d(ls, crs))\n",
    "        \n",
    "        meanloocvi = meani\n",
    "        if ncr > 1:\n",
    "            meanloocvi = (ncr * meani ) / (ncr - 1) -   (1/ ncr)* proj[i] #results[reg[i]][tuple([cs[reg_cre_ind[j],1], cs[reg_cre_ind[k],1]])]\n",
    "        else:\n",
    "            meanloocvi = np.zeros(proj[i].shape[0])\n",
    "            meanloocvi[:] = np.nan\n",
    "            \n",
    "        for j in range(nsamp):\n",
    "            meanj = means_cast[sids[j]][cres[j]]\n",
    "            if sids[j] == sids[i]:\n",
    "                if cres[i] != cres[j]:\n",
    "                    credist[j,i]  = np.linalg.norm(meanloocvi - meanj)\n",
    "                else: \n",
    "                    credist[j,i] = 0.\n",
    "  \n",
    "    return(credist)\n",
    "\n",
    "def get_embedding_cv(surface, dists, cre_distances_cv):\n",
    "    \n",
    "    ntrain = dists.shape[0]\n",
    "    norms = surface.norms\n",
    "    norms[np.where(norms == 0.)] = 1.\n",
    "    leaf_pairs = np.asarray(np.where(~np.isnan(cre_distances_cv))).transpose()\n",
    "    nlp = leaf_pairs.shape[0]\n",
    "    \n",
    "    losses = np.zeros((ntrain, ntrain))\n",
    "    for i in range(nlp):\n",
    "        d_ij = dists[leaf_pairs[i][0]][leaf_pairs[i][1]] / norms[0]\n",
    "        p_ij = cre_distances_cv[leaf_pairs[i][0]][leaf_pairs[i][1]] / norms[1]\n",
    "        losses[leaf_pairs[i][0]][leaf_pairs[i][1]] = surface.predict(np.asarray([[d_ij, p_ij]]))\n",
    "      \n",
    "    losses[np.where(losses == 0)] = np.nan\n",
    "    \n",
    "    return(losses)\n",
    "\n",
    "\n",
    "from mcmodels.core import Mask\n",
    "\n",
    "\n",
    "def get_embedding(surface, dists, cres = None, cre = None, means = None):\n",
    "    \n",
    "    ntrain = dists.shape[0]\n",
    "    neval = dists.shape[1]\n",
    "    norms = surface.norms\n",
    "    #cnorm = surface.cnorm\n",
    "    \n",
    "    cre_deezy = np.zeros((ntrain))\n",
    "    \n",
    "    for i in range(ntrain):\n",
    "        cre_deezy[i] = np.linalg.norm(means[cres[i]] - means[cre])\n",
    "    \n",
    "    losses = np.zeros((ntrain, neval))\n",
    "    for i in range(ntrain):\n",
    "        for j in range(neval):\n",
    "            d_ij = dists[i,j] / norms[0]\n",
    "            p_i = cre_deezy[i] / norms[1]\n",
    "            losses[i,j] = surface.predict(np.asarray([[d_ij, p_i]]))\n",
    "            \n",
    "    return(losses)\n",
    "\n",
    "\n",
    "\n",
    "def get_nw_predictions(projections, dists, gamma):\n",
    "  \n",
    "     \n",
    "    projections = np.asarray(projections, dtype=np.float32)\n",
    "    neval = dists.shape[1]\n",
    "    #nexp = centroids.shape[0]\n",
    "    predictions = np.zeros((neval, projections.shape[1]))\n",
    "    predictions[:] = np.nan\n",
    "    \n",
    "    #print(model_index_val.shape, eval_index_val.shape)\n",
    "    #weights = np.exp(- dists / gamma)#np.exp(-dists[model_index_val] / gamma) #get_weights(centroids, gamma)\n",
    "    for i in range(neval):\n",
    "        dists_i = dists[:,i] - np.min(dists[:,i])\n",
    "        #dists_i = dists[i,:] - np.min(dists[i,:])\n",
    "        weights_i = np.exp(- dists_i * gamma)\n",
    "        weights_i = np.asarray(weights_i, dtype=np.float32)\n",
    "        weights_i[np.isnan(weights_i)] = 0.\n",
    "        weights_i = weights_i / np.sum(weights_i)\n",
    "        predictions[i] = np.dot(weights_i, projections)\n",
    "        \n",
    "    return(predictions) \n",
    "\n",
    "def get_connectivity_matrices2_nw(connectivity_data, gamma_dict, cres, structures, model_ordering, source_ordering, target_ordering, eval_cres, cre_model = True):\n",
    "    \n",
    "    nsource = len(source_ordering)\n",
    "    #n#target = len(target_ordering)\n",
    "    ncre = len(eval_cres)\n",
    "\n",
    "    ipsi_target_regions = connectivity_data.ipsi_target_regions\n",
    "    contra_target_regions = connectivity_data.contra_target_regions                               \n",
    "    ipsi_indices= np.asarray([])\n",
    "    contra_indices = np.asarray([])\n",
    "    for iy in target_ordering: \n",
    "        ipsi_indices = np.concatenate([ipsi_indices, np.where(ipsi_target_regions==iy)[0]] )\n",
    "        contra_indices = np.concatenate([contra_indices, np.where(contra_target_regions==iy)[0]] )\n",
    "    ipsi_indices = np.asarray(ipsi_indices, dtype = int)   \n",
    "    contra_indices = np.asarray(contra_indices, dtype = int)    \n",
    "    reorder = np.concatenate([ipsi_indices, len(ipsi_indices) + contra_indices])  \n",
    "    ntarget = len(reorder)\n",
    "      \n",
    "    connectivity = np.zeros((ncre, nsource, ntarget))\n",
    "    connectivity[:] = np.nan\n",
    "    #structure_major_dictionary = connectivity_data.structure_major_dictionary\n",
    "    for c in range(ncre):\n",
    "        for i in range(nsource):\n",
    "            print(i,source_ordering[i])\n",
    "            sid = model_ordering[i,0]#structure_major_dictionary[source_ordering[i]]\n",
    "            gamma = gamma_dict[sid]\n",
    "            connectivity[c,i] = get_region_prediction2(cache,\n",
    "                                                      connectivity_data.structure_datas[sid],\n",
    "                                                      exp_structures = structures[sid],\n",
    "                                                      model_region = model_ordering[i,1],\n",
    "                                                      prediction_region= source_ordering[i],\n",
    "                                                      cre = eval_cres[c],\n",
    "                                                      gamma = gamma_dict[sid],\n",
    "                                                      cre_model = cre_model)\n",
    "                                                      \n",
    "    connectivity = connectivity[:,:,reorder]                                                  \n",
    "                                                      \n",
    "    return(connectivity)\n",
    "\n",
    "\n",
    "def get_region_prediction2(cache, structure_data,  exp_structures, model_region, prediction_region, cre, gamma, surface = None, cre_model = False):\n",
    "    \n",
    "    model_experiments = np.where(exp_structures == model_region)[0]\n",
    "    nexp = len(model_experiments)\n",
    "    \n",
    "    cres = structure_data.crelines[model_experiments]\n",
    "    mask = Mask.from_cache(cache,structure_ids=[prediction_region],hemisphere_id=2)\n",
    "\n",
    "      \n",
    "    if surface != None and cre_model == True:\n",
    "        projections = structure_data.reg_proj_norm[model_experiments]\n",
    "        centroids = structure_data.centroids[model_experiments]\n",
    "        means = get_means(projections, cres, np.repeat(model_region,nexp))\n",
    "        #print(means)\n",
    "        print(prediction_region, model_region,means.keys())\n",
    "        #supposed to check if theres a cre in that region\n",
    "        if np.isin(model_region, list(means.keys())):\n",
    "            if np.isin(cre, np.asarray(list(means[model_region].keys()))):\n",
    "                losses = get_embedding(surface, pairwise_distances(centroids, mask.coordinates)**2, cres, cre, means[model_region])\n",
    "                predictions = get_nw_predictions(projections, losses, gamma)\n",
    "                output = np.mean(predictions, axis = 0)\n",
    "            else:\n",
    "                output = np.zeros(projections.shape[1])\n",
    "                output[:] = np.nan\n",
    "        else:\n",
    "            output = np.zeros(projections.shape[1])\n",
    "            output[:] = np.nan           \n",
    "   \n",
    "    if surface == None and cre_model == True:\n",
    "        \n",
    "        \n",
    "        modelcre_experiments = np.where(cres == cre)[0]\n",
    "        if len(modelcre_experiments)>0:\n",
    "            projections = structure_data.reg_proj_norm[model_experiments][modelcre_experiments]\n",
    "            centroids = structure_data.centroids[model_experiments][modelcre_experiments]\n",
    "            #print((pairwise_distances(centroids, mask.coordinates)**2).shape)\n",
    "            predictions = get_nw_predictions(projections, pairwise_distances(centroids, mask.coordinates)**2, gamma)\n",
    "            output = np.mean(predictions, axis = 0)\n",
    "        else:\n",
    "            output = np.zeros(structure_data.reg_proj_norm.shape[1])\n",
    "            output[:] = np.nan  \n",
    "            \n",
    "    if surface == None and cre_model == False:\n",
    "        \n",
    "        if len(model_experiments)>0:\n",
    "            projections = structure_data.reg_proj_norm[model_experiments]\n",
    "            centroids = structure_data.centroids[model_experiments]\n",
    "            predictions = get_nw_predictions(projections, pairwise_distances(centroids, mask.coordinates)**2, gamma)\n",
    "            output = np.mean(predictions, axis = 0)\n",
    "        else:\n",
    "            output = np.zeros(structure_data.reg_proj_norm.shape[1])\n",
    "            output[:] = np.nan  \n",
    "        \n",
    "    return(output)\n",
    "\n",
    "\n",
    "#good one\n",
    "#model_ordering_leafs,model_region_structures are len n exps, which model to use\n",
    "#model_experiments_leaf,model_experiments_structure are inds of \n",
    "\n"
   ]
  },
  {
   "cell_type": "code",
   "execution_count": 12,
   "metadata": {
    "collapsed": true
   },
   "outputs": [],
   "source": [
    "def get_cresum_combos(self):\n",
    "\n",
    "    connectivity_data = self\n",
    "    summary_structures = self.summary_structures\n",
    "    creline = self.creline\n",
    "    cresums = {}\n",
    "    cresums_merged = {}\n",
    "\n",
    "    major_structure_ids = np.asarray(list(connectivity_data.structure_datas.keys()))\n",
    "    for sid in major_structure_ids:\n",
    "        cresums[sid] = np.asarray(np.vstack([summary_structures[sid], creline[sid]]), dtype=str).transpose()\n",
    "        cresums_merged[sid] = [cresums[sid][:, 0][i] + cresums[sid][:, 1][i] for i in range(cresums[sid].shape[0])]\n",
    "        cresums_merged[sid] = np.asarray(cresums_merged[sid])\n",
    "    self.cresum_combos = cresums_merged\n",
    "\n",
    "get_cresum_combos(connectivity_data)\n",
    "connectivity_data.cresum2_index_matrices = get_indices_2ormore(connectivity_data.cresum_combos)\n",
    "connectivity_data.cresum2_evalindices = get_eval_indices(connectivity_data.cresum2_index_matrices)\n",
    "\n",
    "summary_structures = {}\n",
    "\n",
    "for sid in major_structure_ids:\n",
    "    summary_structures[sid] = connectivity_data.structure_datas[sid].summary_structures\n",
    "    \n",
    "connectivity_data.summary_structures = summary_structures#get_indices_2ormore(connectivity_data.leafs)\n"
   ]
  },
  {
   "cell_type": "code",
   "execution_count": 13,
   "metadata": {
    "collapsed": true
   },
   "outputs": [],
   "source": [
    "import numpy as np\n",
    "import dill as pickle"
   ]
  },
  {
   "cell_type": "code",
   "execution_count": 14,
   "metadata": {
    "collapsed": true
   },
   "outputs": [],
   "source": [
    "gamma = np.load('/Users/samsonkoelle/alleninstitute/sambranch/mouse_connectivity_models/paper/trainedmodels/ELsummary_surface_gamma.npy')\n",
    "with open('/Users/samsonkoelle/alleninstitute/sambranch/mouse_connectivity_models/paper/trainedmodels/ELsummary_surface.pickle', 'rb') as handle:\n",
    "    surfaces = pickle.load(handle)"
   ]
  },
  {
   "cell_type": "code",
   "execution_count": 15,
   "metadata": {
    "collapsed": true
   },
   "outputs": [],
   "source": [
    "crelist = ['C57BL/6J']#, 'Cux2-IRES-Cre','Ntsr1-Cre_GN220','Rbp4-Cre_KL100','Tlx3-Cre_PL56']\n",
    "eval_cres = ['C57BL/6J']#, 'Cux2-IRES-Cre','Ntsr1-Cre_GN220','Rbp4-Cre_KL100','Tlx3-Cre_PL56']\n",
    "def get_aligned_ids(list1,list2):\n",
    "    output = np.empty(len(list1), dtype = int)\n",
    "    for i in range(len(list1)):\n",
    "        output[ i] = np.intersect1d(st.ancestor_ids([list1[i]]), list2)[0]\n",
    "    return(output)\n",
    "eval_cres = ['C57BL/6J', 'Cux2-IRES-Cre','Ntsr1-Cre_GN220','Rbp4-Cre_KL100','Tlx3-Cre_PL56']\n",
    "ontological_order_leaves_majors = get_aligned_ids(ontological_order_leaves,major_structure_ids)\n",
    "ontological_order_leaves_summary = get_aligned_ids(ontological_order_leaves,ontological_order)\n",
    "\n",
    "\n",
    "# model_ordering_leaf = np.asarray([ontological_order_leaves_majors,ontological_order_leaves]).transpose()\n",
    "# model_ordering_summary = np.asarray([ontological_order_leaves_majors,ontological_order_leaves_summary]).transpose()\n",
    "model_ordering_leafs = np.asarray([ontological_order_leaves_majors,ontological_order_leaves]).transpose()\n",
    "model_ordering_summaries = np.asarray([ontological_order_leaves_majors,ontological_order_leaves_summary]).transpose()\n"
   ]
  },
  {
   "cell_type": "code",
   "execution_count": 16,
   "metadata": {
    "collapsed": true
   },
   "outputs": [],
   "source": [
    "# with open('data/info/leafs.pickle', 'rb') as handle:\n",
    "#     leafs = pickle.load(handle)\n",
    "  "
   ]
  },
  {
   "cell_type": "code",
   "execution_count": 17,
   "metadata": {
    "collapsed": true
   },
   "outputs": [],
   "source": [
    "connectivity_data.get_crelines(data_info)\n",
    "for sid in major_structure_ids:\n",
    "    connectivity_data.structure_datas[sid].crelines = connectivity_data.creline[sid]\n",
    "\n",
    "connectivity_data.ipsi_target_regions = ipsi_target_regions\n",
    "connectivity_data.contra_target_regions = contra_target_regions"
   ]
  },
  {
   "cell_type": "code",
   "execution_count": null,
   "metadata": {
    "collapsed": true
   },
   "outputs": [],
   "source": []
  },
  {
   "cell_type": "code",
   "execution_count": null,
   "metadata": {
    "collapsed": true
   },
   "outputs": [],
   "source": []
  },
  {
   "cell_type": "code",
   "execution_count": 18,
   "metadata": {
    "collapsed": true
   },
   "outputs": [],
   "source": [
    "def get_region_prediction3(cache, structure_data,  prediction_region, prediction_sid_surface, experiment_sids_surface,prediction_sid_nw, experiment_sids_nw, cre, gamma, surface):\n",
    " \n",
    "    #def get_region_prediction3(cache, structure_data,  structures_surface_sid,structures_smooth_sid, model_region_surface, model_region_experiments, prediction_region, cre, gamma, surface = None, cre_model = False):\n",
    "    '''\n",
    "    prediction_sid_surface: what is the sid for the surface (i.e. computing cre-means)\n",
    "    experiment_sids_surface: what are the sids for the experiments w/ above\n",
    "    prediction_sid_nw: what is the sid for Nadaraya-Watson\n",
    "    experiment_sids_nw: what are the sids for the experiments w/ above\n",
    "    '''\n",
    "#     model_experiments_ind = np.where(structures_smooth_sid == model_region_experiments)[0]\n",
    "#     model_experiments_surface = np.where(structures_surface_sid == model_region_surface)[0]\n",
    "    #print(prediction_sid_nw)\n",
    "    nw_exp_ind = np.where(experiment_sids_nw == prediction_sid_nw)[0]\n",
    "    surface_exp_ind = np.where(experiment_sids_surface == prediction_sid_surface)[0]\n",
    "\n",
    "    nexp_surface = len(surface_exp_ind)\n",
    "    cres_surface = structure_data.crelines[surface_exp_ind]\n",
    "    \n",
    "    mask = Mask.from_cache(cache,structure_ids=[prediction_region],hemisphere_id=2)\n",
    "\n",
    "    projections = structure_data.reg_proj_norm[nw_exp_ind]\n",
    "    centroids = structure_data.centroids[nw_exp_ind]\n",
    "\n",
    "    projections_surface = structure_data.reg_proj_norm[surface_exp_ind]\n",
    "    means = get_means(projections_surface, cres_surface, np.repeat(prediction_sid_surface,nexp_surface))\n",
    "\n",
    "    if centroids.shape[0]>0:\n",
    "        #print(means)\n",
    "        if np.isin(cre, np.asarray(list(means[prediction_sid_surface].keys()))):\n",
    "            losses = get_embedding(surface, pairwise_distances(centroids, mask.coordinates)**2, cres_surface, cre, means[prediction_sid_surface])\n",
    "            predictions = get_nw_predictions(projections, losses, gamma)\n",
    "            output = np.mean(predictions, axis = 0)\n",
    "        else:\n",
    "            output = np.zeros(projections.shape[1])\n",
    "            output[:] = np.nan\n",
    "    else:\n",
    "        output = np.zeros(projections.shape[1])\n",
    "        output[:] = np.nan\n",
    "\n",
    "    return(output)\n",
    "\n",
    "\n",
    "def get_connectivity_matrices3(connectivity_data, surfaces, experiment_sids_surfaces,experiment_sids_nws, model_ordering, source_ordering_surface, source_ordering_nw, source_ordering, target_ordering, eval_cres):\n",
    "    \n",
    "    nsource = len(source_ordering)\n",
    "    ncre = len(eval_cres)\n",
    "\n",
    "    ipsi_target_regions = connectivity_data.ipsi_target_regions\n",
    "    contra_target_regions = connectivity_data.contra_target_regions                               \n",
    "    ipsi_indices= np.asarray([])\n",
    "    contra_indices = np.asarray([])\n",
    "    for iy in target_ordering: \n",
    "        ipsi_indices = np.concatenate([ipsi_indices, np.where(ipsi_target_regions==iy)[0]] )\n",
    "        contra_indices = np.concatenate([contra_indices, np.where(contra_target_regions==iy)[0]] )\n",
    "    ipsi_indices = np.asarray(ipsi_indices, dtype = int)   \n",
    "    contra_indices = np.asarray(contra_indices, dtype = int)    \n",
    "    reorder = np.concatenate([ipsi_indices, len(ipsi_indices) + contra_indices])  \n",
    "    ntarget = len(reorder)\n",
    "      \n",
    "    connectivity = np.zeros((ncre, nsource, ntarget))\n",
    "    connectivity[:] = np.nan\n",
    "    #structure_major_dictionary = connectivity_data.structure_major_dictionary\n",
    "    for c in range(ncre):\n",
    "        for i in range(nsource):\n",
    "            print(i,source_ordering[i])\n",
    "            sid = int(model_ordering[i])#structure_major_dictionary[source_ordering[i]]\n",
    "\n",
    "            structure_data = connectivity_data.structure_datas[sid]\n",
    "            #prediction_sid_surface = source_ordering_surface[i]\n",
    "            experiment_sids_surface = experiment_sids_surfaces[sid]\n",
    "            #prediction_sid_nw = source_ordering_nw[i]\n",
    "            prediction_sid_nw = int(source_ordering_nw[i])\n",
    "            \n",
    "            prediction_sid_surface = int(source_ordering_surface[i])\n",
    "            \n",
    "            experiment_sids_nw = experiment_sids_nws[sid]\n",
    "            prediction_region = source_ordering[i]\n",
    "            cre = eval_cres[c]\n",
    "            gamma = surfaces[sid].gamma\n",
    "            surface = surfaces[sid]\n",
    "            #print(prediction_sid_nw[0], prediction_sid_surface[0], 'yes')\n",
    "            connectivity[c,i] = get_region_prediction3(cache,\n",
    "                                                      structure_data,\n",
    "                                                      prediction_sid_surface =prediction_sid_surface,\n",
    "                                                      experiment_sids_surface= experiment_sids_surface,\n",
    "                                                      prediction_sid_nw = prediction_sid_nw,\n",
    "                                                      experiment_sids_nw = experiment_sids_nw,\n",
    "                                                      prediction_region = prediction_region,\n",
    "                                                      cre = cre,\n",
    "                                                      gamma = gamma,\n",
    "                                                      surface = surface)\n",
    "                                                      \n",
    "    connectivity = connectivity[:,:,reorder]                                                  \n",
    "                                                      \n",
    "    return(connectivity)"
   ]
  },
  {
   "cell_type": "code",
   "execution_count": 19,
   "metadata": {
    "collapsed": true
   },
   "outputs": [],
   "source": [
    "with open('data/info/leafs.pickle', 'rb') as handle:\n",
    "    leafs = pickle.load(handle)\n",
    "   "
   ]
  },
  {
   "cell_type": "code",
   "execution_count": 22,
   "metadata": {
    "collapsed": true
   },
   "outputs": [],
   "source": [
    "connectivity_data = connectivity_data\n",
    "surfaces = surfaces\n",
    "cres = crelist\n",
    "experiment_sids_surfaces = summary_structures\n",
    "experiment_sids_nws = leafs#[315][210:215]\n",
    "model_ordering = ontological_order_leaves_majors[210:215]\n",
    "source_ordering_surface = ontological_order_leaves_summary[210:215]\n",
    "source_ordering_nw = ontological_order_leaves[210:215]\n",
    "source_ordering = ontological_order_leaves[210:215]\n",
    "target_ordering = ontological_order#[210:215]\n",
    "#eval_cres = crelist\n",
    "#crelist = ['Cux2-IRES-Cre','Ntsr1-Cre_GN220','Rbp4-Cre_KL100','Tlx3-Cre_PL56']#['C57BL/6J']#, 'Cux2-IRES-Cre','Ntsr1-Cre_GN220','Rbp4-Cre_KL100','Tlx3-Cre_PL56']\n",
    "crelist= ['C57BL/6J']\n",
    "#eval_cres = ['C57BL/6J']#, 'Cux2-IRES-Cre','Ntsr1-Cre_GN220','Rbp4-Cre_KL100','Tlx3-Cre_PL56']\n",
    "eval_cres = crelist"
   ]
  },
  {
   "cell_type": "code",
   "execution_count": 23,
   "metadata": {},
   "outputs": [
    {
     "name": "stdout",
     "output_type": "stream",
     "text": [
      "0 593.0\n",
      "1 821.0\n",
      "2 721.0\n",
      "3 778.0\n",
      "4 33.0\n"
     ]
    }
   ],
   "source": [
    "conn_v3 = get_connectivity_matrices3(connectivity_data, surfaces, experiment_sids_surfaces,experiment_sids_nws, model_ordering, source_ordering_surface, source_ordering_nw, source_ordering, target_ordering, eval_cres)"
   ]
  },
  {
   "cell_type": "code",
   "execution_count": 24,
   "metadata": {
    "collapsed": true
   },
   "outputs": [],
   "source": [
    "#target_ordering= ontological_order_leaves\n",
    "\n",
    "rnames = np.asarray([ia_map[ontological_order_leaves[i]] for i in range(len(ontological_order_leaves))])\n",
    "ipsi_target_regions = connectivity_data.ipsi_target_regions\n",
    "contra_target_regions = connectivity_data.contra_target_regions                               \n",
    "ipsi_indices= np.asarray([])\n",
    "contra_indices = np.asarray([])\n",
    "for iy in target_ordering: \n",
    "    ipsi_indices = np.concatenate([ipsi_indices, np.where(ipsi_target_regions==iy)[0]] )\n",
    "    contra_indices = np.concatenate([contra_indices, np.where(contra_target_regions==iy)[0]] )\n",
    "ipsi_indices = np.asarray(ipsi_indices, dtype = int)   \n",
    "contra_indices = np.asarray(contra_indices, dtype = int)    \n",
    "reorder = np.concatenate([ipsi_indices, len(ipsi_indices) + contra_indices])  \n",
    "ntarget = len(reorder)\n",
    "\n",
    "colids = np.concatenate([ipsi_target_regions, contra_target_regions])[reorder]\n",
    "cnames = np.asarray([ia_map[colids[i]] for i in range(len(colids))])\n",
    "\n",
    "\n",
    "ccomb = np.vstack([np.concatenate([np.repeat('ipsi',connectivity_data.ipsi_target_regions.shape[0]),\n",
    "                                   np.repeat('contra',connectivity_data.contra_target_regions.shape)]), cnames])\n",
    "ccomb = np.asarray(ccomb)\n",
    "tuples2 = list(zip(*ccomb))\n",
    "cnam_multi = pd.MultiIndex.from_tuples(tuples2, names=['first', 'second'])"
   ]
  },
  {
   "cell_type": "code",
   "execution_count": 26,
   "metadata": {
    "collapsed": true
   },
   "outputs": [],
   "source": [
    "connectivity_matrices = pd.DataFrame(conn_v3[0], columns = cnam_multi, index=rnames[210:215])\n",
    "target_regions = [(  'ipsi',     'LGv'), (  'ipsi',     'LGd'),(  'ipsi',     'VISp'), (  'ipsi',     'VISl')]\n",
    "\n",
    "#connectivity_matrices_cux2_sumall.to_csv('/Users/samsonkoelle/alleninstitute/sambranch/mouse_connectivity_models/analyses/paper/connectivities/elsummarymodel_leafsource_summarytarget_cux2_v3.csv')"
   ]
  },
  {
   "cell_type": "code",
   "execution_count": 36,
   "metadata": {},
   "outputs": [
    {
     "data": {
      "text/plain": [
       "(array([450]),)"
      ]
     },
     "execution_count": 36,
     "metadata": {},
     "output_type": "execute_result"
    }
   ],
   "source": [
    "np.where(np.asarray([ia_map[ontological_order_leaves[i]] for i in range(len(ontological_order_leaves))]) == 'MOp1')"
   ]
  },
  {
   "cell_type": "code",
   "execution_count": 41,
   "metadata": {},
   "outputs": [
    {
     "data": {
      "text/plain": [
       "array(['MOs5', 'MOs6a'], dtype='<U10')"
      ]
     },
     "execution_count": 41,
     "metadata": {},
     "output_type": "execute_result"
    }
   ],
   "source": [
    "np.asarray([ia_map[ontological_order_leaves[i]] for i in range(len(ontological_order_leaves))])[458:460]"
   ]
  },
  {
   "cell_type": "code",
   "execution_count": 42,
   "metadata": {
    "collapsed": true
   },
   "outputs": [],
   "source": [
    "connectivity_data = connectivity_data\n",
    "surfaces = surfaces\n",
    "cres = crelist\n",
    "experiment_sids_surfaces = summary_structures\n",
    "experiment_sids_nws = leafs#[315][210:215]\n",
    "model_ordering = ontological_order_leaves_majors[458:460]\n",
    "source_ordering_surface = ontological_order_leaves_summary[458:460]\n",
    "source_ordering_nw = ontological_order_leaves[458:460]\n",
    "source_ordering = ontological_order_leaves[458:460]\n",
    "target_ordering = ontological_order#[210:215]\n",
    "#eval_cres = crelist\n",
    "crelist = ['C57BL/6J','Ntsr1-Cre_GN220','Rbp4-Cre_KL100']#['C57BL/6J']#, 'Cux2-IRES-Cre','Ntsr1-Cre_GN220','Rbp4-Cre_KL100','Tlx3-Cre_PL56']\n",
    "#crelist= ['C57BL/6J']\n",
    "#eval_cres = ['C57BL/6J']#, 'Cux2-IRES-Cre','Ntsr1-Cre_GN220','Rbp4-Cre_KL100','Tlx3-Cre_PL56']\n",
    "eval_cres = crelist"
   ]
  },
  {
   "cell_type": "code",
   "execution_count": 43,
   "metadata": {},
   "outputs": [
    {
     "name": "stdout",
     "output_type": "stream",
     "text": [
      "0 767.0\n",
      "1 1021.0\n",
      "0 767.0\n",
      "1 1021.0\n",
      "0 767.0\n",
      "1 1021.0\n"
     ]
    }
   ],
   "source": [
    "conn_v3_mo = get_connectivity_matrices3(connectivity_data, surfaces, experiment_sids_surfaces,experiment_sids_nws, model_ordering, source_ordering_surface, source_ordering_nw, source_ordering, target_ordering, eval_cres)"
   ]
  },
  {
   "cell_type": "code",
   "execution_count": 53,
   "metadata": {
    "collapsed": true
   },
   "outputs": [],
   "source": [
    "np.save('/Users/samsonkoelle/Desktop/contest_mo',conn_v3_mo)"
   ]
  },
  {
   "cell_type": "code",
   "execution_count": 49,
   "metadata": {
    "collapsed": true
   },
   "outputs": [],
   "source": [
    "connectivity_mo_wt = pd.DataFrame(conn_v3_mo[0], columns = cnam_multi, index=rnames[458:460])\n",
    "connectivity_mo_ntsr1 = pd.DataFrame(conn_v3_mo[1], columns = cnam_multi, index=rnames[458:460])\n",
    "connectivity_mo_rbp4 = pd.DataFrame(conn_v3_mo[2], columns = cnam_multi, index=rnames[458:460])"
   ]
  },
  {
   "cell_type": "code",
   "execution_count": 50,
   "metadata": {
    "collapsed": true
   },
   "outputs": [],
   "source": [
    "targ_reg = [(  'ipsi',     'ORBvl'), (  'ipsi',     'AId'),(  'ipsi',     'AIv'), (  'ipsi',     'TEa'),\n",
    "            (  'ipsi',     'ECT'), (  'ipsi',     'BLA'),(  'ipsi',     'CEA')]\n"
   ]
  },
  {
   "cell_type": "code",
   "execution_count": 55,
   "metadata": {},
   "outputs": [
    {
     "data": {
      "text/plain": [
       "<matplotlib.axes._subplots.AxesSubplot at 0xcb91a28d0>"
      ]
     },
     "execution_count": 55,
     "metadata": {},
     "output_type": "execute_result"
    },
    {
     "data": {
      "image/png": "[encoded data removed]",
      "text/plain": [
       "<Figure size 432x288 with 2 Axes>"
      ]
     },
     "metadata": {
      "needs_background": "light"
     },
     "output_type": "display_data"
    }
   ],
   "source": [
    "sns.heatmap(connectivity_mo_wt.loc[:,targ_reg], vmax= .01)"
   ]
  },
  {
   "cell_type": "code",
   "execution_count": 56,
   "metadata": {},
   "outputs": [
    {
     "data": {
      "text/plain": [
       "<matplotlib.axes._subplots.AxesSubplot at 0xcbfd22d90>"
      ]
     },
     "execution_count": 56,
     "metadata": {},
     "output_type": "execute_result"
    },
    {
     "data": {
      "image/png": "[encoded data removed]",
      "text/plain": [
       "<Figure size 432x288 with 2 Axes>"
      ]
     },
     "metadata": {
      "needs_background": "light"
     },
     "output_type": "display_data"
    }
   ],
   "source": [
    "sns.heatmap(connectivity_mo_ntsr1.loc[:,targ_reg] , vmax= .01)"
   ]
  },
  {
   "cell_type": "code",
   "execution_count": 52,
   "metadata": {},
   "outputs": [
    {
     "data": {
      "text/plain": [
       "<matplotlib.axes._subplots.AxesSubplot at 0xcb96f60d0>"
      ]
     },
     "execution_count": 52,
     "metadata": {},
     "output_type": "execute_result"
    },
    {
     "data": {
      "image/png": "[encoded data removed]",
      "text/plain": [
       "<Figure size 432x288 with 2 Axes>"
      ]
     },
     "metadata": {
      "needs_background": "light"
     },
     "output_type": "display_data"
    }
   ],
   "source": [
    "sns.heatmap(connectivity_mo_rbp4.loc[:,targ_reg], vmax= .01)"
   ]
  },
  {
   "cell_type": "code",
   "execution_count": 27,
   "metadata": {},
   "outputs": [
    {
     "data": {
      "text/plain": [
       "<matplotlib.axes._subplots.AxesSubplot at 0xcb8ae6dd0>"
      ]
     },
     "execution_count": 27,
     "metadata": {},
     "output_type": "execute_result"
    },
    {
     "data": {
      "image/png": "[encoded data removed]",
      "text/plain": [
       "<Figure size 432x288 with 2 Axes>"
      ]
     },
     "metadata": {
      "needs_background": "light"
     },
     "output_type": "display_data"
    }
   ],
   "source": [
    "sns.heatmap(connectivity_matrices.loc[:,target_regions])"
   ]
  },
  {
   "cell_type": "code",
   "execution_count": 28,
   "metadata": {
    "collapsed": true
   },
   "outputs": [],
   "source": [
    "eval_cres = ['Ntsr1-Cre_GN220']"
   ]
  },
  {
   "cell_type": "code",
   "execution_count": 29,
   "metadata": {},
   "outputs": [
    {
     "name": "stdout",
     "output_type": "stream",
     "text": [
      "0 593.0\n",
      "1 821.0\n",
      "2 721.0\n",
      "3 778.0\n",
      "4 33.0\n"
     ]
    }
   ],
   "source": [
    "conn_v3_ntsr1 = get_connectivity_matrices3(connectivity_data, surfaces, experiment_sids_surfaces,experiment_sids_nws, model_ordering, source_ordering_surface, source_ordering_nw, source_ordering, target_ordering, eval_cres)"
   ]
  },
  {
   "cell_type": "code",
   "execution_count": 30,
   "metadata": {
    "collapsed": true
   },
   "outputs": [],
   "source": [
    "connectivity_matrices = pd.DataFrame(conn_v3_ntsr1[0], columns = cnam_multi, index=rnames[210:215])\n",
    "target_regions = [(  'ipsi',     'LGv'), (  'ipsi',     'LGd'),(  'ipsi',     'VISp'), (  'ipsi',     'VISl')]\n",
    "\n",
    "#connectivity_matrices_cux2_sumall.to_csv('/Users/samsonkoelle/alleninstitute/sambranch/mouse_connectivity_models/analyses/paper/connectivities/elsummarymodel_leafsource_summarytarget_cux2_v3.csv')"
   ]
  },
  {
   "cell_type": "code",
   "execution_count": 31,
   "metadata": {},
   "outputs": [
    {
     "data": {
      "text/plain": [
       "<matplotlib.axes._subplots.AxesSubplot at 0xcb8184d10>"
      ]
     },
     "execution_count": 31,
     "metadata": {},
     "output_type": "execute_result"
    },
    {
     "data": {
      "image/png": "[encoded data removed]",
      "text/plain": [
       "<Figure size 432x288 with 2 Axes>"
      ]
     },
     "metadata": {
      "needs_background": "light"
     },
     "output_type": "display_data"
    }
   ],
   "source": [
    "sns.heatmap(connectivity_matrices.loc[:,target_regions])"
   ]
  },
  {
   "cell_type": "code",
   "execution_count": 32,
   "metadata": {},
   "outputs": [
    {
     "name": "stdout",
     "output_type": "stream",
     "text": [
      "[]\n",
      "[305]\n",
      "[  41  148  321  398  410  492  512  573  630  632  697  811  863  883\n",
      " 1029 1086 1100 1125]\n",
      "[ 74  93 101 121 346 348 394 444 696 765 778 829]\n",
      "[]\n"
     ]
    }
   ],
   "source": [
    "for i in range(5):\n",
    "    print(np.intersect1d(np.where(leafs[315] == ontological_order_leaves[210:215][i]), np.where(connectivity_data.creline[315] == 'C57BL/6J')[0]))"
   ]
  },
  {
   "cell_type": "code",
   "execution_count": 33,
   "metadata": {},
   "outputs": [
    {
     "name": "stdout",
     "output_type": "stream",
     "text": [
      "[]\n",
      "[]\n",
      "[]\n",
      "[214 910 934]\n",
      "[ 111  303  316  357  411  473  487  521  648  698  898  933 1044]\n"
     ]
    }
   ],
   "source": [
    "for i in range(5):\n",
    "    print(np.intersect1d(np.where(leafs[315] == ontological_order_leaves[210:215][i]), np.where(connectivity_data.creline[315] == 'Ntsr1-Cre_GN220')[0]))"
   ]
  },
  {
   "cell_type": "code",
   "execution_count": null,
   "metadata": {
    "collapsed": true
   },
   "outputs": [],
   "source": [
    "#connectivity_matrices_wt_sumall = pd.DataFrame(conn_v3[0], columns = cnam_multi, index=rnames)\n",
    "#connectivity_matrices_wt_sumall.to_csv('/Users/samsonkoelle/alleninstitute/sambranch/mouse_connectivity_models/analyses/paper/connectivities/elsummarymodel_leafsource_summarytarget_wt_v3.csv')"
   ]
  },
  {
   "cell_type": "code",
   "execution_count": 46,
   "metadata": {
    "collapsed": true
   },
   "outputs": [],
   "source": [
    "connectivity_matrices_wt_sumall = pd.DataFrame(conn_v3[0], columns = cnam_multi, index=rnames)\n",
    "connectivity_matrices_wt_sumall.to_csv('/Users/samsonkoelle/alleninstitute/sambranch/mouse_connectivity_models/analyses/paper/connectivities/elsummarymodel_leafsource_summarytarget_wt_v3.csv')"
   ]
  },
  {
   "cell_type": "code",
   "execution_count": 35,
   "metadata": {
    "collapsed": true
   },
   "outputs": [],
   "source": [
    "#target_ordering= ontological_order_leaves\n",
    "\n",
    "rnames = np.asarray([ia_map[ontological_order_leaves[i]] for i in range(len(ontological_order_leaves))])\n",
    "ipsi_target_regions = connectivity_data.ipsi_target_regions\n",
    "contra_target_regions = connectivity_data.contra_target_regions                               \n",
    "ipsi_indices= np.asarray([])\n",
    "contra_indices = np.asarray([])\n",
    "for iy in target_ordering: \n",
    "    ipsi_indices = np.concatenate([ipsi_indices, np.where(ipsi_target_regions==iy)[0]] )\n",
    "    contra_indices = np.concatenate([contra_indices, np.where(contra_target_regions==iy)[0]] )\n",
    "ipsi_indices = np.asarray(ipsi_indices, dtype = int)   \n",
    "contra_indices = np.asarray(contra_indices, dtype = int)    \n",
    "reorder = np.concatenate([ipsi_indices, len(ipsi_indices) + contra_indices])  \n",
    "ntarget = len(reorder)\n",
    "\n",
    "colids = np.concatenate([ipsi_target_regions, contra_target_regions])[reorder]\n",
    "cnames = np.asarray([ia_map[colids[i]] for i in range(len(colids))])\n",
    "\n",
    "\n",
    "ccomb = np.vstack([np.concatenate([np.repeat('ipsi',connectivity_data.ipsi_target_regions.shape[0]),\n",
    "                                   np.repeat('contra',connectivity_data.contra_target_regions.shape)]), cnames])\n",
    "ccomb = np.asarray(ccomb)\n",
    "tuples2 = list(zip(*ccomb))\n",
    "cnam_multi = pd.MultiIndex.from_tuples(tuples2, names=['first', 'second'])"
   ]
  },
  {
   "cell_type": "code",
   "execution_count": 47,
   "metadata": {
    "collapsed": true
   },
   "outputs": [],
   "source": [
    "connectivity_matrices_cux2_sumall = pd.DataFrame(conn[0], columns = cnam_multi, index=rnames)\n",
    "connectivity_matrices_cux2_sumall.to_csv('/Users/samsonkoelle/alleninstitute/sambranch/mouse_connectivity_models/analyses/paper/connectivities/elsummarymodel_leafsource_summarytarget_cux2_v3.csv')"
   ]
  },
  {
   "cell_type": "code",
   "execution_count": 48,
   "metadata": {
    "collapsed": true
   },
   "outputs": [],
   "source": [
    "connectivity_matrices_ntsr1_sumall = pd.DataFrame(conn[1], columns = cnam_multi, index=rnames)\n",
    "connectivity_matrices_ntsr1_sumall.to_csv('/Users/samsonkoelle/alleninstitute/sambranch/mouse_connectivity_models/analyses/paper/connectivities/elsummarymodel_leafsource_summarytarget_ntsr1_v3.csv')"
   ]
  },
  {
   "cell_type": "code",
   "execution_count": 49,
   "metadata": {
    "collapsed": true
   },
   "outputs": [],
   "source": [
    "connectivity_matrices_Rbp4_sumall = pd.DataFrame(conn[2], columns = cnam_multi, index=rnames)\n",
    "connectivity_matrices_Rbp4_sumall.to_csv('/Users/samsonkoelle/alleninstitute/sambranch/mouse_connectivity_models/analyses/paper/connectivities/elsummarymodel_leafsource_summarytarget_rbp4_v3.csv')"
   ]
  },
  {
   "cell_type": "code",
   "execution_count": 50,
   "metadata": {
    "collapsed": true
   },
   "outputs": [],
   "source": [
    "connectivity_matrices_tlx3_sumall = pd.DataFrame(conn[3], columns = cnam_multi, index=rnames)\n",
    "connectivity_matrices_tlx3_sumall.to_csv('/Users/samsonkoelle/alleninstitute/sambranch/mouse_connectivity_models/analyses/paper/connectivities/elsummarymodel_leafsource_summarytarget_tlx3_v3.csv')"
   ]
  },
  {
   "cell_type": "code",
   "execution_count": null,
   "metadata": {
    "collapsed": true
   },
   "outputs": [],
   "source": [
    "#'Cux2-IRES-Cre','Ntsr1-Cre_GN220','Rbp4-Cre_KL100','Tlx3-Cre_PL56'"
   ]
  },
  {
   "cell_type": "code",
   "execution_count": 39,
   "metadata": {
    "collapsed": true
   },
   "outputs": [],
   "source": [
    "connectivity_matrices_wt_sumall = pd.DataFrame(conn[0], columns = cnam_multi, index=rnames)"
   ]
  },
  {
   "cell_type": "code",
   "execution_count": 41,
   "metadata": {
    "collapsed": true
   },
   "outputs": [],
   "source": [
    "connectivity_matrices_wt_sumall.to_csv('/Users/samsonkoelle/alleninstitute/sambranch/mouse_connectivity_models/analyses/paper/connectivities/elsummarymodel_leafsource_summarytarget_wt')"
   ]
  },
  {
   "cell_type": "code",
   "execution_count": 55,
   "metadata": {
    "collapsed": true
   },
   "outputs": [],
   "source": [
    "#connectivity_matrices_wt_sumall_old = pd.read_csv('/Users/samsonkoelle/wt_leafsmooth_leafsurface_sumtarget_1201.csv', ,  header=[0,1]=)"
   ]
  },
  {
   "cell_type": "code",
   "execution_count": 69,
   "metadata": {
    "collapsed": true
   },
   "outputs": [],
   "source": [
    "#load data\n",
    "#there appears to be an issue with index_col = [0],  header=[0,1]\n",
    "wt_conn_old = pd.read_csv('/Users/samsonkoelle/wt_leafsmooth_leafsurface_sumtarget_1201.csv' , header=[0,1])\n",
    "\n",
    "def fix_pdcsv(csv):\n",
    "    \n",
    "    #wt_conn = pd.read_csv('/Users/samsonkoelle/wt_leafsmooth_leafsurface_sumtarget.csv',  header=[0,1])\n",
    "    csv_rownames = np.asarray(csv.iloc[:,0])\n",
    "    csv = csv.iloc[:,1:]\n",
    "    csv.index = csv_rownames\n",
    "    return(csv)\n",
    "\n",
    "wt_conn_old = fix_pdcsv(wt_conn_old)"
   ]
  },
  {
   "cell_type": "code",
   "execution_count": 71,
   "metadata": {},
   "outputs": [
    {
     "data": {
      "text/plain": [
       "<matplotlib.collections.PathCollection at 0xcb1c98390>"
      ]
     },
     "execution_count": 71,
     "metadata": {},
     "output_type": "execute_result"
    },
    {
     "data": {
      "image/png": "[encoded data removed]",
      "text/plain": [
       "<Figure size 432x288 with 1 Axes>"
      ]
     },
     "metadata": {
      "needs_background": "light"
     },
     "output_type": "display_data"
    }
   ],
   "source": [
    "plt.scatter(wt_conn_old.loc['FRP5'], connectivity_matrices_wt_sumall.loc['FRP5'])"
   ]
  },
  {
   "cell_type": "code",
   "execution_count": 73,
   "metadata": {},
   "outputs": [
    {
     "name": "stderr",
     "output_type": "stream",
     "text": [
      "/Users/samsonkoelle/anaconda3/envs/allen_010719_5/lib/python3.7/site-packages/pandas/core/series.py:679: RuntimeWarning: divide by zero encountered in log\n",
      "  result = getattr(ufunc, method)(*inputs, **kwargs)\n"
     ]
    },
    {
     "data": {
      "text/plain": [
       "<matplotlib.collections.PathCollection at 0xcb1ed0b90>"
      ]
     },
     "execution_count": 73,
     "metadata": {},
     "output_type": "execute_result"
    },
    {
     "data": {
      "image/png": "[encoded data removed]",
      "text/plain": [
       "<Figure size 432x288 with 1 Axes>"
      ]
     },
     "metadata": {
      "needs_background": "light"
     },
     "output_type": "display_data"
    }
   ],
   "source": [
    "plt.scatter(np.log(wt_conn_old.loc['VISp4']), np.log(connectivity_matrices_wt_sumall.loc['VISp4']))"
   ]
  },
  {
   "cell_type": "code",
   "execution_count": 77,
   "metadata": {},
   "outputs": [
    {
     "data": {
      "text/plain": [
       "<matplotlib.collections.PathCollection at 0xcb5b27290>"
      ]
     },
     "execution_count": 77,
     "metadata": {},
     "output_type": "execute_result"
    },
    {
     "data": {
      "image/png": "[encoded data removed]",
      "text/plain": [
       "<Figure size 432x288 with 1 Axes>"
      ]
     },
     "metadata": {
      "needs_background": "light"
     },
     "output_type": "display_data"
    }
   ],
   "source": [
    "plt.scatter(np.log(wt_conn_old.loc['VISp5']), np.log(connectivity_matrices_wt_sumall.loc['VISp5']))"
   ]
  },
  {
   "cell_type": "code",
   "execution_count": 78,
   "metadata": {},
   "outputs": [
    {
     "data": {
      "text/plain": [
       "ipsi    FRP       NaN\n",
       "        MOp       NaN\n",
       "        MOs       NaN\n",
       "        SSp-n     NaN\n",
       "        SSp-bfd   NaN\n",
       "                   ..\n",
       "contra  PFL       NaN\n",
       "        FL        NaN\n",
       "        FN        NaN\n",
       "        IP        NaN\n",
       "        DN        NaN\n",
       "Name: VISp6a, Length: 577, dtype: float64"
      ]
     },
     "execution_count": 78,
     "metadata": {},
     "output_type": "execute_result"
    }
   ],
   "source": [
    "wt_conn_old.loc['VISp6a']"
   ]
  },
  {
   "cell_type": "code",
   "execution_count": 79,
   "metadata": {},
   "outputs": [
    {
     "data": {
      "text/plain": [
       "first   second \n",
       "ipsi    FRP        7.770434e-05\n",
       "        MOp        2.184474e-03\n",
       "        MOs        8.380203e-03\n",
       "        SSp-n      6.918965e-04\n",
       "        SSp-bfd    5.430885e-03\n",
       "                       ...     \n",
       "contra  PFL        1.130568e-03\n",
       "        FL         3.951964e-04\n",
       "        FN         1.366436e-06\n",
       "        IP         8.271518e-07\n",
       "        DN         1.849836e-07\n",
       "Name: VISp6a, Length: 577, dtype: float64"
      ]
     },
     "execution_count": 79,
     "metadata": {},
     "output_type": "execute_result"
    }
   ],
   "source": [
    "connectivity_matrices_wt_sumall.loc['VISp6a']"
   ]
  },
  {
   "cell_type": "code",
   "execution_count": 47,
   "metadata": {},
   "outputs": [
    {
     "data": {
      "text/plain": [
       "(186,)"
      ]
     },
     "execution_count": 47,
     "metadata": {},
     "output_type": "execute_result"
    }
   ],
   "source": [
    "np.where(connectivity_matrices_wt_sumall.sum(axis = 1) !=0.)[0].shape"
   ]
  },
  {
   "cell_type": "code",
   "execution_count": 57,
   "metadata": {},
   "outputs": [
    {
     "data": {
      "text/plain": [
       "(121,)"
      ]
     },
     "execution_count": 57,
     "metadata": {},
     "output_type": "execute_result"
    }
   ],
   "source": [
    "np.where(connectivity_matrices_wt_sumall_old.sum(axis = 1) !=0.)[0].shape"
   ]
  },
  {
   "cell_type": "code",
   "execution_count": 59,
   "metadata": {},
   "outputs": [
    {
     "data": {
      "text/html": [
       "<div>\n",
       "<style scoped>\n",
       "    .dataframe tbody tr th:only-of-type {\n",
       "        vertical-align: middle;\n",
       "    }\n",
       "\n",
       "    .dataframe tbody tr th {\n",
       "        vertical-align: top;\n",
       "    }\n",
       "\n",
       "    .dataframe thead tr th {\n",
       "        text-align: left;\n",
       "    }\n",
       "</style>\n",
       "<table border=\"1\" class=\"dataframe\">\n",
       "  <thead>\n",
       "    <tr>\n",
       "      <th>first</th>\n",
       "      <th colspan=\"10\" halign=\"left\">ipsi</th>\n",
       "      <th>...</th>\n",
       "      <th colspan=\"10\" halign=\"left\">contra</th>\n",
       "    </tr>\n",
       "    <tr>\n",
       "      <th>second</th>\n",
       "      <th>FRP</th>\n",
       "      <th>MOp</th>\n",
       "      <th>MOs</th>\n",
       "      <th>SSp-n</th>\n",
       "      <th>SSp-bfd</th>\n",
       "      <th>SSp-ll</th>\n",
       "      <th>SSp-m</th>\n",
       "      <th>SSp-ul</th>\n",
       "      <th>SSp-tr</th>\n",
       "      <th>SSp-un</th>\n",
       "      <th>...</th>\n",
       "      <th>NOD</th>\n",
       "      <th>SIM</th>\n",
       "      <th>AN</th>\n",
       "      <th>PRM</th>\n",
       "      <th>COPY</th>\n",
       "      <th>PFL</th>\n",
       "      <th>FL</th>\n",
       "      <th>FN</th>\n",
       "      <th>IP</th>\n",
       "      <th>DN</th>\n",
       "    </tr>\n",
       "  </thead>\n",
       "  <tbody>\n",
       "    <tr>\n",
       "      <th>FRP1</th>\n",
       "      <td>NaN</td>\n",
       "      <td>NaN</td>\n",
       "      <td>NaN</td>\n",
       "      <td>NaN</td>\n",
       "      <td>NaN</td>\n",
       "      <td>NaN</td>\n",
       "      <td>NaN</td>\n",
       "      <td>NaN</td>\n",
       "      <td>NaN</td>\n",
       "      <td>NaN</td>\n",
       "      <td>...</td>\n",
       "      <td>NaN</td>\n",
       "      <td>NaN</td>\n",
       "      <td>NaN</td>\n",
       "      <td>NaN</td>\n",
       "      <td>NaN</td>\n",
       "      <td>NaN</td>\n",
       "      <td>NaN</td>\n",
       "      <td>NaN</td>\n",
       "      <td>NaN</td>\n",
       "      <td>NaN</td>\n",
       "    </tr>\n",
       "    <tr>\n",
       "      <th>FRP2/3</th>\n",
       "      <td>3.383236e-01</td>\n",
       "      <td>6.234344e-02</td>\n",
       "      <td>8.207796e-01</td>\n",
       "      <td>0.001093</td>\n",
       "      <td>0.000168</td>\n",
       "      <td>2.598411e-05</td>\n",
       "      <td>0.003196</td>\n",
       "      <td>3.725514e-04</td>\n",
       "      <td>9.797102e-06</td>\n",
       "      <td>1.883110e-05</td>\n",
       "      <td>...</td>\n",
       "      <td>0.000000</td>\n",
       "      <td>0.000000</td>\n",
       "      <td>0.000000e+00</td>\n",
       "      <td>0.000002</td>\n",
       "      <td>0.000000</td>\n",
       "      <td>0.000000</td>\n",
       "      <td>0.000000</td>\n",
       "      <td>0.000000</td>\n",
       "      <td>0.000000e+00</td>\n",
       "      <td>0.000000e+00</td>\n",
       "    </tr>\n",
       "    <tr>\n",
       "      <th>FRP5</th>\n",
       "      <td>3.296336e-01</td>\n",
       "      <td>1.118266e-01</td>\n",
       "      <td>5.627480e-01</td>\n",
       "      <td>0.002927</td>\n",
       "      <td>0.000353</td>\n",
       "      <td>1.210437e-04</td>\n",
       "      <td>0.018610</td>\n",
       "      <td>5.827464e-03</td>\n",
       "      <td>2.795066e-05</td>\n",
       "      <td>7.172653e-04</td>\n",
       "      <td>...</td>\n",
       "      <td>0.000133</td>\n",
       "      <td>0.000116</td>\n",
       "      <td>2.601491e-04</td>\n",
       "      <td>0.000282</td>\n",
       "      <td>0.000511</td>\n",
       "      <td>0.001011</td>\n",
       "      <td>0.000190</td>\n",
       "      <td>0.000024</td>\n",
       "      <td>4.428778e-07</td>\n",
       "      <td>7.487731e-08</td>\n",
       "    </tr>\n",
       "    <tr>\n",
       "      <th>FRP6a</th>\n",
       "      <td>4.342746e-01</td>\n",
       "      <td>5.693409e-03</td>\n",
       "      <td>3.965367e-01</td>\n",
       "      <td>0.000097</td>\n",
       "      <td>0.000032</td>\n",
       "      <td>0.000000e+00</td>\n",
       "      <td>0.004673</td>\n",
       "      <td>1.745053e-04</td>\n",
       "      <td>0.000000e+00</td>\n",
       "      <td>2.689954e-05</td>\n",
       "      <td>...</td>\n",
       "      <td>0.000000</td>\n",
       "      <td>0.000002</td>\n",
       "      <td>8.326684e-07</td>\n",
       "      <td>0.000002</td>\n",
       "      <td>0.000000</td>\n",
       "      <td>0.000227</td>\n",
       "      <td>0.000000</td>\n",
       "      <td>0.000000</td>\n",
       "      <td>0.000000e+00</td>\n",
       "      <td>0.000000e+00</td>\n",
       "    </tr>\n",
       "    <tr>\n",
       "      <th>FRP6b</th>\n",
       "      <td>NaN</td>\n",
       "      <td>NaN</td>\n",
       "      <td>NaN</td>\n",
       "      <td>NaN</td>\n",
       "      <td>NaN</td>\n",
       "      <td>NaN</td>\n",
       "      <td>NaN</td>\n",
       "      <td>NaN</td>\n",
       "      <td>NaN</td>\n",
       "      <td>NaN</td>\n",
       "      <td>...</td>\n",
       "      <td>NaN</td>\n",
       "      <td>NaN</td>\n",
       "      <td>NaN</td>\n",
       "      <td>NaN</td>\n",
       "      <td>NaN</td>\n",
       "      <td>NaN</td>\n",
       "      <td>NaN</td>\n",
       "      <td>NaN</td>\n",
       "      <td>NaN</td>\n",
       "      <td>NaN</td>\n",
       "    </tr>\n",
       "    <tr>\n",
       "      <th>...</th>\n",
       "      <td>...</td>\n",
       "      <td>...</td>\n",
       "      <td>...</td>\n",
       "      <td>...</td>\n",
       "      <td>...</td>\n",
       "      <td>...</td>\n",
       "      <td>...</td>\n",
       "      <td>...</td>\n",
       "      <td>...</td>\n",
       "      <td>...</td>\n",
       "      <td>...</td>\n",
       "      <td>...</td>\n",
       "      <td>...</td>\n",
       "      <td>...</td>\n",
       "      <td>...</td>\n",
       "      <td>...</td>\n",
       "      <td>...</td>\n",
       "      <td>...</td>\n",
       "      <td>...</td>\n",
       "      <td>...</td>\n",
       "      <td>...</td>\n",
       "    </tr>\n",
       "    <tr>\n",
       "      <th>PFL</th>\n",
       "      <td>1.439438e-05</td>\n",
       "      <td>7.948757e-03</td>\n",
       "      <td>3.006184e-03</td>\n",
       "      <td>0.008349</td>\n",
       "      <td>0.011361</td>\n",
       "      <td>3.687958e-03</td>\n",
       "      <td>0.008480</td>\n",
       "      <td>2.935677e-03</td>\n",
       "      <td>1.668404e-04</td>\n",
       "      <td>2.474538e-04</td>\n",
       "      <td>...</td>\n",
       "      <td>0.021769</td>\n",
       "      <td>0.094570</td>\n",
       "      <td>1.162284e-01</td>\n",
       "      <td>0.051984</td>\n",
       "      <td>0.036561</td>\n",
       "      <td>0.033771</td>\n",
       "      <td>0.003145</td>\n",
       "      <td>0.000351</td>\n",
       "      <td>1.494835e-03</td>\n",
       "      <td>1.578074e-04</td>\n",
       "    </tr>\n",
       "    <tr>\n",
       "      <th>FL</th>\n",
       "      <td>NaN</td>\n",
       "      <td>NaN</td>\n",
       "      <td>NaN</td>\n",
       "      <td>NaN</td>\n",
       "      <td>NaN</td>\n",
       "      <td>NaN</td>\n",
       "      <td>NaN</td>\n",
       "      <td>NaN</td>\n",
       "      <td>NaN</td>\n",
       "      <td>NaN</td>\n",
       "      <td>...</td>\n",
       "      <td>NaN</td>\n",
       "      <td>NaN</td>\n",
       "      <td>NaN</td>\n",
       "      <td>NaN</td>\n",
       "      <td>NaN</td>\n",
       "      <td>NaN</td>\n",
       "      <td>NaN</td>\n",
       "      <td>NaN</td>\n",
       "      <td>NaN</td>\n",
       "      <td>NaN</td>\n",
       "    </tr>\n",
       "    <tr>\n",
       "      <th>FN</th>\n",
       "      <td>0.000000e+00</td>\n",
       "      <td>5.117939e-04</td>\n",
       "      <td>2.613541e-04</td>\n",
       "      <td>0.000095</td>\n",
       "      <td>0.000166</td>\n",
       "      <td>4.726471e-09</td>\n",
       "      <td>0.000337</td>\n",
       "      <td>2.743849e-05</td>\n",
       "      <td>3.489020e-08</td>\n",
       "      <td>2.008037e-08</td>\n",
       "      <td>...</td>\n",
       "      <td>0.000381</td>\n",
       "      <td>0.011068</td>\n",
       "      <td>4.310618e-02</td>\n",
       "      <td>0.030363</td>\n",
       "      <td>0.018532</td>\n",
       "      <td>0.000540</td>\n",
       "      <td>0.000070</td>\n",
       "      <td>0.052541</td>\n",
       "      <td>3.777179e-02</td>\n",
       "      <td>1.690367e-03</td>\n",
       "    </tr>\n",
       "    <tr>\n",
       "      <th>IP</th>\n",
       "      <td>5.706606e-19</td>\n",
       "      <td>8.766322e-18</td>\n",
       "      <td>9.152959e-08</td>\n",
       "      <td>0.000365</td>\n",
       "      <td>0.000087</td>\n",
       "      <td>6.866135e-19</td>\n",
       "      <td>0.000561</td>\n",
       "      <td>6.127053e-07</td>\n",
       "      <td>4.967319e-19</td>\n",
       "      <td>4.729797e-19</td>\n",
       "      <td>...</td>\n",
       "      <td>0.000092</td>\n",
       "      <td>0.000183</td>\n",
       "      <td>5.943723e-04</td>\n",
       "      <td>0.000234</td>\n",
       "      <td>0.000095</td>\n",
       "      <td>0.000110</td>\n",
       "      <td>0.000042</td>\n",
       "      <td>0.000089</td>\n",
       "      <td>2.982120e-05</td>\n",
       "      <td>1.406795e-18</td>\n",
       "    </tr>\n",
       "    <tr>\n",
       "      <th>DN</th>\n",
       "      <td>NaN</td>\n",
       "      <td>NaN</td>\n",
       "      <td>NaN</td>\n",
       "      <td>NaN</td>\n",
       "      <td>NaN</td>\n",
       "      <td>NaN</td>\n",
       "      <td>NaN</td>\n",
       "      <td>NaN</td>\n",
       "      <td>NaN</td>\n",
       "      <td>NaN</td>\n",
       "      <td>...</td>\n",
       "      <td>NaN</td>\n",
       "      <td>NaN</td>\n",
       "      <td>NaN</td>\n",
       "      <td>NaN</td>\n",
       "      <td>NaN</td>\n",
       "      <td>NaN</td>\n",
       "      <td>NaN</td>\n",
       "      <td>NaN</td>\n",
       "      <td>NaN</td>\n",
       "      <td>NaN</td>\n",
       "    </tr>\n",
       "  </tbody>\n",
       "</table>\n",
       "<p>541 rows × 577 columns</p>\n",
       "</div>"
      ],
      "text/plain": [
       "first           ipsi                                                  \\\n",
       "second           FRP           MOp           MOs     SSp-n   SSp-bfd   \n",
       "FRP1             NaN           NaN           NaN       NaN       NaN   \n",
       "FRP2/3  3.383236e-01  6.234344e-02  8.207796e-01  0.001093  0.000168   \n",
       "FRP5    3.296336e-01  1.118266e-01  5.627480e-01  0.002927  0.000353   \n",
       "FRP6a   4.342746e-01  5.693409e-03  3.965367e-01  0.000097  0.000032   \n",
       "FRP6b            NaN           NaN           NaN       NaN       NaN   \n",
       "...              ...           ...           ...       ...       ...   \n",
       "PFL     1.439438e-05  7.948757e-03  3.006184e-03  0.008349  0.011361   \n",
       "FL               NaN           NaN           NaN       NaN       NaN   \n",
       "FN      0.000000e+00  5.117939e-04  2.613541e-04  0.000095  0.000166   \n",
       "IP      5.706606e-19  8.766322e-18  9.152959e-08  0.000365  0.000087   \n",
       "DN               NaN           NaN           NaN       NaN       NaN   \n",
       "\n",
       "first                                                                     ...  \\\n",
       "second        SSp-ll     SSp-m        SSp-ul        SSp-tr        SSp-un  ...   \n",
       "FRP1             NaN       NaN           NaN           NaN           NaN  ...   \n",
       "FRP2/3  2.598411e-05  0.003196  3.725514e-04  9.797102e-06  1.883110e-05  ...   \n",
       "FRP5    1.210437e-04  0.018610  5.827464e-03  2.795066e-05  7.172653e-04  ...   \n",
       "FRP6a   0.000000e+00  0.004673  1.745053e-04  0.000000e+00  2.689954e-05  ...   \n",
       "FRP6b            NaN       NaN           NaN           NaN           NaN  ...   \n",
       "...              ...       ...           ...           ...           ...  ...   \n",
       "PFL     3.687958e-03  0.008480  2.935677e-03  1.668404e-04  2.474538e-04  ...   \n",
       "FL               NaN       NaN           NaN           NaN           NaN  ...   \n",
       "FN      4.726471e-09  0.000337  2.743849e-05  3.489020e-08  2.008037e-08  ...   \n",
       "IP      6.866135e-19  0.000561  6.127053e-07  4.967319e-19  4.729797e-19  ...   \n",
       "DN               NaN       NaN           NaN           NaN           NaN  ...   \n",
       "\n",
       "first     contra                                                        \\\n",
       "second       NOD       SIM            AN       PRM      COPY       PFL   \n",
       "FRP1         NaN       NaN           NaN       NaN       NaN       NaN   \n",
       "FRP2/3  0.000000  0.000000  0.000000e+00  0.000002  0.000000  0.000000   \n",
       "FRP5    0.000133  0.000116  2.601491e-04  0.000282  0.000511  0.001011   \n",
       "FRP6a   0.000000  0.000002  8.326684e-07  0.000002  0.000000  0.000227   \n",
       "FRP6b        NaN       NaN           NaN       NaN       NaN       NaN   \n",
       "...          ...       ...           ...       ...       ...       ...   \n",
       "PFL     0.021769  0.094570  1.162284e-01  0.051984  0.036561  0.033771   \n",
       "FL           NaN       NaN           NaN       NaN       NaN       NaN   \n",
       "FN      0.000381  0.011068  4.310618e-02  0.030363  0.018532  0.000540   \n",
       "IP      0.000092  0.000183  5.943723e-04  0.000234  0.000095  0.000110   \n",
       "DN           NaN       NaN           NaN       NaN       NaN       NaN   \n",
       "\n",
       "first                                                   \n",
       "second        FL        FN            IP            DN  \n",
       "FRP1         NaN       NaN           NaN           NaN  \n",
       "FRP2/3  0.000000  0.000000  0.000000e+00  0.000000e+00  \n",
       "FRP5    0.000190  0.000024  4.428778e-07  7.487731e-08  \n",
       "FRP6a   0.000000  0.000000  0.000000e+00  0.000000e+00  \n",
       "FRP6b        NaN       NaN           NaN           NaN  \n",
       "...          ...       ...           ...           ...  \n",
       "PFL     0.003145  0.000351  1.494835e-03  1.578074e-04  \n",
       "FL           NaN       NaN           NaN           NaN  \n",
       "FN      0.000070  0.052541  3.777179e-02  1.690367e-03  \n",
       "IP      0.000042  0.000089  2.982120e-05  1.406795e-18  \n",
       "DN           NaN       NaN           NaN           NaN  \n",
       "\n",
       "[541 rows x 577 columns]"
      ]
     },
     "execution_count": 59,
     "metadata": {},
     "output_type": "execute_result"
    }
   ],
   "source": [
    "connectivity_matrices_wt_sumall"
   ]
  },
  {
   "cell_type": "code",
   "execution_count": 58,
   "metadata": {},
   "outputs": [
    {
     "data": {
      "text/html": [
       "<div>\n",
       "<style scoped>\n",
       "    .dataframe tbody tr th:only-of-type {\n",
       "        vertical-align: middle;\n",
       "    }\n",
       "\n",
       "    .dataframe tbody tr th {\n",
       "        vertical-align: top;\n",
       "    }\n",
       "\n",
       "    .dataframe thead tr th {\n",
       "        text-align: left;\n",
       "    }\n",
       "\n",
       "    .dataframe thead tr:last-of-type th {\n",
       "        text-align: right;\n",
       "    }\n",
       "</style>\n",
       "<table border=\"1\" class=\"dataframe\">\n",
       "  <thead>\n",
       "    <tr>\n",
       "      <th>first</th>\n",
       "      <th colspan=\"10\" halign=\"left\">ipsi</th>\n",
       "      <th>...</th>\n",
       "      <th colspan=\"10\" halign=\"left\">contra</th>\n",
       "    </tr>\n",
       "    <tr>\n",
       "      <th>second</th>\n",
       "      <th>FRP</th>\n",
       "      <th>MOp</th>\n",
       "      <th>MOs</th>\n",
       "      <th>SSp-n</th>\n",
       "      <th>SSp-bfd</th>\n",
       "      <th>SSp-ll</th>\n",
       "      <th>SSp-m</th>\n",
       "      <th>SSp-ul</th>\n",
       "      <th>SSp-tr</th>\n",
       "      <th>SSp-un</th>\n",
       "      <th>...</th>\n",
       "      <th>NOD</th>\n",
       "      <th>SIM</th>\n",
       "      <th>AN</th>\n",
       "      <th>PRM</th>\n",
       "      <th>COPY</th>\n",
       "      <th>PFL</th>\n",
       "      <th>FL</th>\n",
       "      <th>FN</th>\n",
       "      <th>IP</th>\n",
       "      <th>DN</th>\n",
       "    </tr>\n",
       "    <tr>\n",
       "      <th>FRP1</th>\n",
       "      <th></th>\n",
       "      <th></th>\n",
       "      <th></th>\n",
       "      <th></th>\n",
       "      <th></th>\n",
       "      <th></th>\n",
       "      <th></th>\n",
       "      <th></th>\n",
       "      <th></th>\n",
       "      <th></th>\n",
       "      <th></th>\n",
       "      <th></th>\n",
       "      <th></th>\n",
       "      <th></th>\n",
       "      <th></th>\n",
       "      <th></th>\n",
       "      <th></th>\n",
       "      <th></th>\n",
       "      <th></th>\n",
       "      <th></th>\n",
       "      <th></th>\n",
       "    </tr>\n",
       "  </thead>\n",
       "  <tbody>\n",
       "    <tr>\n",
       "      <th>FRP2/3</th>\n",
       "      <td>NaN</td>\n",
       "      <td>NaN</td>\n",
       "      <td>NaN</td>\n",
       "      <td>NaN</td>\n",
       "      <td>NaN</td>\n",
       "      <td>NaN</td>\n",
       "      <td>NaN</td>\n",
       "      <td>NaN</td>\n",
       "      <td>NaN</td>\n",
       "      <td>NaN</td>\n",
       "      <td>...</td>\n",
       "      <td>NaN</td>\n",
       "      <td>NaN</td>\n",
       "      <td>NaN</td>\n",
       "      <td>NaN</td>\n",
       "      <td>NaN</td>\n",
       "      <td>NaN</td>\n",
       "      <td>NaN</td>\n",
       "      <td>NaN</td>\n",
       "      <td>NaN</td>\n",
       "      <td>NaN</td>\n",
       "    </tr>\n",
       "    <tr>\n",
       "      <th>FRP5</th>\n",
       "      <td>0.175879</td>\n",
       "      <td>0.129804</td>\n",
       "      <td>0.508782</td>\n",
       "      <td>0.002452</td>\n",
       "      <td>0.000694</td>\n",
       "      <td>1.262551e-04</td>\n",
       "      <td>0.015829</td>\n",
       "      <td>0.005540</td>\n",
       "      <td>7.043700e-05</td>\n",
       "      <td>6.353662e-04</td>\n",
       "      <td>...</td>\n",
       "      <td>0.000010</td>\n",
       "      <td>0.000279</td>\n",
       "      <td>0.000894</td>\n",
       "      <td>0.000211</td>\n",
       "      <td>0.000123</td>\n",
       "      <td>0.000728</td>\n",
       "      <td>0.000097</td>\n",
       "      <td>2.060882e-07</td>\n",
       "      <td>0.000002</td>\n",
       "      <td>3.226770e-08</td>\n",
       "    </tr>\n",
       "    <tr>\n",
       "      <th>FRP6a</th>\n",
       "      <td>NaN</td>\n",
       "      <td>NaN</td>\n",
       "      <td>NaN</td>\n",
       "      <td>NaN</td>\n",
       "      <td>NaN</td>\n",
       "      <td>NaN</td>\n",
       "      <td>NaN</td>\n",
       "      <td>NaN</td>\n",
       "      <td>NaN</td>\n",
       "      <td>NaN</td>\n",
       "      <td>...</td>\n",
       "      <td>NaN</td>\n",
       "      <td>NaN</td>\n",
       "      <td>NaN</td>\n",
       "      <td>NaN</td>\n",
       "      <td>NaN</td>\n",
       "      <td>NaN</td>\n",
       "      <td>NaN</td>\n",
       "      <td>NaN</td>\n",
       "      <td>NaN</td>\n",
       "      <td>NaN</td>\n",
       "    </tr>\n",
       "    <tr>\n",
       "      <th>FRP6b</th>\n",
       "      <td>NaN</td>\n",
       "      <td>NaN</td>\n",
       "      <td>NaN</td>\n",
       "      <td>NaN</td>\n",
       "      <td>NaN</td>\n",
       "      <td>NaN</td>\n",
       "      <td>NaN</td>\n",
       "      <td>NaN</td>\n",
       "      <td>NaN</td>\n",
       "      <td>NaN</td>\n",
       "      <td>...</td>\n",
       "      <td>NaN</td>\n",
       "      <td>NaN</td>\n",
       "      <td>NaN</td>\n",
       "      <td>NaN</td>\n",
       "      <td>NaN</td>\n",
       "      <td>NaN</td>\n",
       "      <td>NaN</td>\n",
       "      <td>NaN</td>\n",
       "      <td>NaN</td>\n",
       "      <td>NaN</td>\n",
       "    </tr>\n",
       "    <tr>\n",
       "      <th>MOp1</th>\n",
       "      <td>NaN</td>\n",
       "      <td>NaN</td>\n",
       "      <td>NaN</td>\n",
       "      <td>NaN</td>\n",
       "      <td>NaN</td>\n",
       "      <td>NaN</td>\n",
       "      <td>NaN</td>\n",
       "      <td>NaN</td>\n",
       "      <td>NaN</td>\n",
       "      <td>NaN</td>\n",
       "      <td>...</td>\n",
       "      <td>NaN</td>\n",
       "      <td>NaN</td>\n",
       "      <td>NaN</td>\n",
       "      <td>NaN</td>\n",
       "      <td>NaN</td>\n",
       "      <td>NaN</td>\n",
       "      <td>NaN</td>\n",
       "      <td>NaN</td>\n",
       "      <td>NaN</td>\n",
       "      <td>NaN</td>\n",
       "    </tr>\n",
       "    <tr>\n",
       "      <th>...</th>\n",
       "      <td>...</td>\n",
       "      <td>...</td>\n",
       "      <td>...</td>\n",
       "      <td>...</td>\n",
       "      <td>...</td>\n",
       "      <td>...</td>\n",
       "      <td>...</td>\n",
       "      <td>...</td>\n",
       "      <td>...</td>\n",
       "      <td>...</td>\n",
       "      <td>...</td>\n",
       "      <td>...</td>\n",
       "      <td>...</td>\n",
       "      <td>...</td>\n",
       "      <td>...</td>\n",
       "      <td>...</td>\n",
       "      <td>...</td>\n",
       "      <td>...</td>\n",
       "      <td>...</td>\n",
       "      <td>...</td>\n",
       "      <td>...</td>\n",
       "    </tr>\n",
       "    <tr>\n",
       "      <th>PFL</th>\n",
       "      <td>0.000016</td>\n",
       "      <td>0.008962</td>\n",
       "      <td>0.003389</td>\n",
       "      <td>0.009412</td>\n",
       "      <td>0.012808</td>\n",
       "      <td>4.157839e-03</td>\n",
       "      <td>0.009561</td>\n",
       "      <td>0.003310</td>\n",
       "      <td>1.880975e-04</td>\n",
       "      <td>2.789818e-04</td>\n",
       "      <td>...</td>\n",
       "      <td>0.024528</td>\n",
       "      <td>0.106602</td>\n",
       "      <td>0.130967</td>\n",
       "      <td>0.058597</td>\n",
       "      <td>0.041204</td>\n",
       "      <td>0.038068</td>\n",
       "      <td>0.003543</td>\n",
       "      <td>3.959431e-04</td>\n",
       "      <td>0.001685</td>\n",
       "      <td>1.779135e-04</td>\n",
       "    </tr>\n",
       "    <tr>\n",
       "      <th>FL</th>\n",
       "      <td>NaN</td>\n",
       "      <td>NaN</td>\n",
       "      <td>NaN</td>\n",
       "      <td>NaN</td>\n",
       "      <td>NaN</td>\n",
       "      <td>NaN</td>\n",
       "      <td>NaN</td>\n",
       "      <td>NaN</td>\n",
       "      <td>NaN</td>\n",
       "      <td>NaN</td>\n",
       "      <td>...</td>\n",
       "      <td>NaN</td>\n",
       "      <td>NaN</td>\n",
       "      <td>NaN</td>\n",
       "      <td>NaN</td>\n",
       "      <td>NaN</td>\n",
       "      <td>NaN</td>\n",
       "      <td>NaN</td>\n",
       "      <td>NaN</td>\n",
       "      <td>NaN</td>\n",
       "      <td>NaN</td>\n",
       "    </tr>\n",
       "    <tr>\n",
       "      <th>FN</th>\n",
       "      <td>0.000000</td>\n",
       "      <td>0.000512</td>\n",
       "      <td>0.000261</td>\n",
       "      <td>0.000095</td>\n",
       "      <td>0.000166</td>\n",
       "      <td>4.726471e-09</td>\n",
       "      <td>0.000337</td>\n",
       "      <td>0.000027</td>\n",
       "      <td>3.489020e-08</td>\n",
       "      <td>2.008037e-08</td>\n",
       "      <td>...</td>\n",
       "      <td>0.000381</td>\n",
       "      <td>0.011068</td>\n",
       "      <td>0.043106</td>\n",
       "      <td>0.030363</td>\n",
       "      <td>0.018532</td>\n",
       "      <td>0.000540</td>\n",
       "      <td>0.000070</td>\n",
       "      <td>5.254120e-02</td>\n",
       "      <td>0.037772</td>\n",
       "      <td>1.690367e-03</td>\n",
       "    </tr>\n",
       "    <tr>\n",
       "      <th>IP</th>\n",
       "      <td>0.000041</td>\n",
       "      <td>0.000677</td>\n",
       "      <td>0.000224</td>\n",
       "      <td>0.000806</td>\n",
       "      <td>0.000757</td>\n",
       "      <td>4.778025e-05</td>\n",
       "      <td>0.001414</td>\n",
       "      <td>0.000149</td>\n",
       "      <td>2.980216e-05</td>\n",
       "      <td>2.768753e-05</td>\n",
       "      <td>...</td>\n",
       "      <td>0.000103</td>\n",
       "      <td>0.000161</td>\n",
       "      <td>0.000538</td>\n",
       "      <td>0.000659</td>\n",
       "      <td>0.001680</td>\n",
       "      <td>0.005055</td>\n",
       "      <td>0.000050</td>\n",
       "      <td>1.630989e-04</td>\n",
       "      <td>0.000085</td>\n",
       "      <td>8.030446e-05</td>\n",
       "    </tr>\n",
       "    <tr>\n",
       "      <th>DN</th>\n",
       "      <td>NaN</td>\n",
       "      <td>NaN</td>\n",
       "      <td>NaN</td>\n",
       "      <td>NaN</td>\n",
       "      <td>NaN</td>\n",
       "      <td>NaN</td>\n",
       "      <td>NaN</td>\n",
       "      <td>NaN</td>\n",
       "      <td>NaN</td>\n",
       "      <td>NaN</td>\n",
       "      <td>...</td>\n",
       "      <td>NaN</td>\n",
       "      <td>NaN</td>\n",
       "      <td>NaN</td>\n",
       "      <td>NaN</td>\n",
       "      <td>NaN</td>\n",
       "      <td>NaN</td>\n",
       "      <td>NaN</td>\n",
       "      <td>NaN</td>\n",
       "      <td>NaN</td>\n",
       "      <td>NaN</td>\n",
       "    </tr>\n",
       "  </tbody>\n",
       "</table>\n",
       "<p>540 rows × 577 columns</p>\n",
       "</div>"
      ],
      "text/plain": [
       "first       ipsi                                                        \\\n",
       "second       FRP       MOp       MOs     SSp-n   SSp-bfd        SSp-ll   \n",
       "FRP1                                                                     \n",
       "FRP2/3       NaN       NaN       NaN       NaN       NaN           NaN   \n",
       "FRP5    0.175879  0.129804  0.508782  0.002452  0.000694  1.262551e-04   \n",
       "FRP6a        NaN       NaN       NaN       NaN       NaN           NaN   \n",
       "FRP6b        NaN       NaN       NaN       NaN       NaN           NaN   \n",
       "MOp1         NaN       NaN       NaN       NaN       NaN           NaN   \n",
       "...          ...       ...       ...       ...       ...           ...   \n",
       "PFL     0.000016  0.008962  0.003389  0.009412  0.012808  4.157839e-03   \n",
       "FL           NaN       NaN       NaN       NaN       NaN           NaN   \n",
       "FN      0.000000  0.000512  0.000261  0.000095  0.000166  4.726471e-09   \n",
       "IP      0.000041  0.000677  0.000224  0.000806  0.000757  4.778025e-05   \n",
       "DN           NaN       NaN       NaN       NaN       NaN           NaN   \n",
       "\n",
       "first                                                   ...    contra  \\\n",
       "second     SSp-m    SSp-ul        SSp-tr        SSp-un  ...       NOD   \n",
       "FRP1                                                    ...             \n",
       "FRP2/3       NaN       NaN           NaN           NaN  ...       NaN   \n",
       "FRP5    0.015829  0.005540  7.043700e-05  6.353662e-04  ...  0.000010   \n",
       "FRP6a        NaN       NaN           NaN           NaN  ...       NaN   \n",
       "FRP6b        NaN       NaN           NaN           NaN  ...       NaN   \n",
       "MOp1         NaN       NaN           NaN           NaN  ...       NaN   \n",
       "...          ...       ...           ...           ...  ...       ...   \n",
       "PFL     0.009561  0.003310  1.880975e-04  2.789818e-04  ...  0.024528   \n",
       "FL           NaN       NaN           NaN           NaN  ...       NaN   \n",
       "FN      0.000337  0.000027  3.489020e-08  2.008037e-08  ...  0.000381   \n",
       "IP      0.001414  0.000149  2.980216e-05  2.768753e-05  ...  0.000103   \n",
       "DN           NaN       NaN           NaN           NaN  ...       NaN   \n",
       "\n",
       "first                                                               \\\n",
       "second       SIM        AN       PRM      COPY       PFL        FL   \n",
       "FRP1                                                                 \n",
       "FRP2/3       NaN       NaN       NaN       NaN       NaN       NaN   \n",
       "FRP5    0.000279  0.000894  0.000211  0.000123  0.000728  0.000097   \n",
       "FRP6a        NaN       NaN       NaN       NaN       NaN       NaN   \n",
       "FRP6b        NaN       NaN       NaN       NaN       NaN       NaN   \n",
       "MOp1         NaN       NaN       NaN       NaN       NaN       NaN   \n",
       "...          ...       ...       ...       ...       ...       ...   \n",
       "PFL     0.106602  0.130967  0.058597  0.041204  0.038068  0.003543   \n",
       "FL           NaN       NaN       NaN       NaN       NaN       NaN   \n",
       "FN      0.011068  0.043106  0.030363  0.018532  0.000540  0.000070   \n",
       "IP      0.000161  0.000538  0.000659  0.001680  0.005055  0.000050   \n",
       "DN           NaN       NaN       NaN       NaN       NaN       NaN   \n",
       "\n",
       "first                                         \n",
       "second            FN        IP            DN  \n",
       "FRP1                                          \n",
       "FRP2/3           NaN       NaN           NaN  \n",
       "FRP5    2.060882e-07  0.000002  3.226770e-08  \n",
       "FRP6a            NaN       NaN           NaN  \n",
       "FRP6b            NaN       NaN           NaN  \n",
       "MOp1             NaN       NaN           NaN  \n",
       "...              ...       ...           ...  \n",
       "PFL     3.959431e-04  0.001685  1.779135e-04  \n",
       "FL               NaN       NaN           NaN  \n",
       "FN      5.254120e-02  0.037772  1.690367e-03  \n",
       "IP      1.630989e-04  0.000085  8.030446e-05  \n",
       "DN               NaN       NaN           NaN  \n",
       "\n",
       "[540 rows x 577 columns]"
      ]
     },
     "execution_count": 58,
     "metadata": {},
     "output_type": "execute_result"
    }
   ],
   "source": [
    "connectivity_matrices_wt_sumall_old"
   ]
  },
  {
   "cell_type": "code",
   "execution_count": null,
   "metadata": {
    "collapsed": true
   },
   "outputs": [],
   "source": []
  },
  {
   "cell_type": "code",
   "execution_count": null,
   "metadata": {
    "collapsed": true
   },
   "outputs": [],
   "source": [
    "conn2 = get_connectivity_matrices3(connectivity_data, surfaces, experiment_sids_surfaces,experiment_sids_nws, model_ordering, source_ordering_surface, source_ordering_nw, source_ordering, target_ordering, eval_cres)"
   ]
  },
  {
   "cell_type": "code",
   "execution_count": null,
   "metadata": {
    "collapsed": true
   },
   "outputs": [],
   "source": []
  },
  {
   "cell_type": "code",
   "execution_count": null,
   "metadata": {
    "collapsed": true
   },
   "outputs": [],
   "source": []
  },
  {
   "cell_type": "code",
   "execution_count": null,
   "metadata": {
    "collapsed": true
   },
   "outputs": [],
   "source": []
  },
  {
   "cell_type": "code",
   "execution_count": null,
   "metadata": {
    "collapsed": true
   },
   "outputs": [],
   "source": []
  },
  {
   "cell_type": "code",
   "execution_count": 69,
   "metadata": {
    "scrolled": true
   },
   "outputs": [
    {
     "name": "stdout",
     "output_type": "stream",
     "text": [
      "0 68.0\n"
     ]
    },
    {
     "name": "stderr",
     "output_type": "stream",
     "text": [
      "IOPub data rate exceeded.\n",
      "The notebook server will temporarily stop sending output\n",
      "to the client in order to avoid crashing it.\n",
      "To change this limit, set the config variable\n",
      "`--NotebookApp.iopub_data_rate_limit`.\n"
     ]
    },
    {
     "ename": "TypeError",
     "evalue": "unhashable type: 'numpy.ndarray'",
     "output_type": "error",
     "traceback": [
      "\u001b[0;31m---------------------------------------------------------------------------\u001b[0m",
      "\u001b[0;31mTypeError\u001b[0m                                 Traceback (most recent call last)",
      "\u001b[0;32m<ipython-input-69-48e6088cc123>\u001b[0m in \u001b[0;36m<module>\u001b[0;34m\u001b[0m\n\u001b[1;32m     12\u001b[0m \u001b[0mtarget_ordering\u001b[0m\u001b[0;34m=\u001b[0m \u001b[0montological_order\u001b[0m\u001b[0;34m\u001b[0m\u001b[0;34m\u001b[0m\u001b[0m\n\u001b[1;32m     13\u001b[0m \u001b[0;31m#connectivity_matrices = get_connectivity_matrices3(connectivity_data, surfaces, cres, structures_smooth,structures_surface, model_ordering_leafs,  source_ordering, target_ordering, eval_cres)\u001b[0m\u001b[0;34m\u001b[0m\u001b[0;34m\u001b[0m\u001b[0;34m\u001b[0m\u001b[0m\n\u001b[0;32m---> 14\u001b[0;31m \u001b[0mconnectivity_matrices\u001b[0m \u001b[0;34m=\u001b[0m \u001b[0mget_connectivity_matrices3\u001b[0m\u001b[0;34m(\u001b[0m\u001b[0mconnectivity_data\u001b[0m\u001b[0;34m,\u001b[0m \u001b[0msurfaces\u001b[0m\u001b[0;34m,\u001b[0m \u001b[0mcres\u001b[0m\u001b[0;34m,\u001b[0m \u001b[0mstructures_smooth\u001b[0m\u001b[0;34m,\u001b[0m\u001b[0mstructures_surface\u001b[0m\u001b[0;34m,\u001b[0m \u001b[0mmodel_ordering\u001b[0m\u001b[0;34m,\u001b[0m \u001b[0msource_ordering\u001b[0m\u001b[0;34m,\u001b[0m \u001b[0mtarget_ordering\u001b[0m\u001b[0;34m,\u001b[0m \u001b[0meval_cres\u001b[0m\u001b[0;34m)\u001b[0m\u001b[0;34m\u001b[0m\u001b[0;34m\u001b[0m\u001b[0m\n\u001b[0m\u001b[1;32m     15\u001b[0m \u001b[0;34m\u001b[0m\u001b[0m\n",
      "\u001b[0;32m<ipython-input-68-86862505516a>\u001b[0m in \u001b[0;36mget_connectivity_matrices3\u001b[0;34m(connectivity_data, surfaces, cres, structures_smooth, structures_surface, model_ordering, source_ordering, target_ordering, eval_cres)\u001b[0m\n\u001b[1;32m     74\u001b[0m                                                       \u001b[0mcre\u001b[0m \u001b[0;34m=\u001b[0m \u001b[0meval_cres\u001b[0m\u001b[0;34m[\u001b[0m\u001b[0mc\u001b[0m\u001b[0;34m]\u001b[0m\u001b[0;34m,\u001b[0m\u001b[0;34m\u001b[0m\u001b[0;34m\u001b[0m\u001b[0m\n\u001b[1;32m     75\u001b[0m                                                       \u001b[0mgamma\u001b[0m \u001b[0;34m=\u001b[0m \u001b[0msurfaces\u001b[0m\u001b[0;34m[\u001b[0m\u001b[0msid\u001b[0m\u001b[0;34m]\u001b[0m\u001b[0;34m.\u001b[0m\u001b[0mgamma\u001b[0m\u001b[0;34m,\u001b[0m\u001b[0;34m\u001b[0m\u001b[0;34m\u001b[0m\u001b[0m\n\u001b[0;32m---> 76\u001b[0;31m                                                       surface = surfaces[sid])\n\u001b[0m\u001b[1;32m     77\u001b[0m \u001b[0;34m\u001b[0m\u001b[0m\n\u001b[1;32m     78\u001b[0m     \u001b[0mconnectivity\u001b[0m \u001b[0;34m=\u001b[0m \u001b[0mconnectivity\u001b[0m\u001b[0;34m[\u001b[0m\u001b[0;34m:\u001b[0m\u001b[0;34m,\u001b[0m\u001b[0;34m:\u001b[0m\u001b[0;34m,\u001b[0m\u001b[0mreorder\u001b[0m\u001b[0;34m]\u001b[0m\u001b[0;34m\u001b[0m\u001b[0;34m\u001b[0m\u001b[0m\n",
      "\u001b[0;32m<ipython-input-68-86862505516a>\u001b[0m in \u001b[0;36mget_region_prediction3\u001b[0;34m(cache, structure_data, structures_surface_sid, structures_smooth_sid, prediction_region, cre, gamma, surface)\u001b[0m\n\u001b[1;32m     26\u001b[0m     \u001b[0;32mif\u001b[0m \u001b[0mcentroids\u001b[0m\u001b[0;34m.\u001b[0m\u001b[0mshape\u001b[0m\u001b[0;34m[\u001b[0m\u001b[0;36m0\u001b[0m\u001b[0;34m]\u001b[0m\u001b[0;34m>\u001b[0m\u001b[0;36m0\u001b[0m\u001b[0;34m:\u001b[0m\u001b[0;34m\u001b[0m\u001b[0;34m\u001b[0m\u001b[0m\n\u001b[1;32m     27\u001b[0m         \u001b[0mprint\u001b[0m\u001b[0;34m(\u001b[0m\u001b[0mmeans\u001b[0m\u001b[0;34m)\u001b[0m\u001b[0;34m\u001b[0m\u001b[0;34m\u001b[0m\u001b[0m\n\u001b[0;32m---> 28\u001b[0;31m         \u001b[0;32mif\u001b[0m \u001b[0mnp\u001b[0m\u001b[0;34m.\u001b[0m\u001b[0misin\u001b[0m\u001b[0;34m(\u001b[0m\u001b[0mcre\u001b[0m\u001b[0;34m,\u001b[0m \u001b[0mnp\u001b[0m\u001b[0;34m.\u001b[0m\u001b[0masarray\u001b[0m\u001b[0;34m(\u001b[0m\u001b[0mlist\u001b[0m\u001b[0;34m(\u001b[0m\u001b[0mmeans\u001b[0m\u001b[0;34m[\u001b[0m\u001b[0mstructures_surface_sid\u001b[0m\u001b[0;34m]\u001b[0m\u001b[0;34m.\u001b[0m\u001b[0mkeys\u001b[0m\u001b[0;34m(\u001b[0m\u001b[0;34m)\u001b[0m\u001b[0;34m)\u001b[0m\u001b[0;34m)\u001b[0m\u001b[0;34m)\u001b[0m\u001b[0;34m:\u001b[0m\u001b[0;34m\u001b[0m\u001b[0;34m\u001b[0m\u001b[0m\n\u001b[0m\u001b[1;32m     29\u001b[0m             \u001b[0mlosses\u001b[0m \u001b[0;34m=\u001b[0m \u001b[0mget_embedding\u001b[0m\u001b[0;34m(\u001b[0m\u001b[0msurface\u001b[0m\u001b[0;34m,\u001b[0m \u001b[0mpairwise_distances\u001b[0m\u001b[0;34m(\u001b[0m\u001b[0mcentroids\u001b[0m\u001b[0;34m,\u001b[0m \u001b[0mmask\u001b[0m\u001b[0;34m.\u001b[0m\u001b[0mcoordinates\u001b[0m\u001b[0;34m)\u001b[0m\u001b[0;34m**\u001b[0m\u001b[0;36m2\u001b[0m\u001b[0;34m,\u001b[0m \u001b[0mcres_surface\u001b[0m\u001b[0;34m,\u001b[0m \u001b[0mcre\u001b[0m\u001b[0;34m,\u001b[0m \u001b[0mmeans\u001b[0m\u001b[0;34m[\u001b[0m\u001b[0mmodel_region_surface\u001b[0m\u001b[0;34m]\u001b[0m\u001b[0;34m)\u001b[0m\u001b[0;34m\u001b[0m\u001b[0;34m\u001b[0m\u001b[0m\n\u001b[1;32m     30\u001b[0m             \u001b[0mpredictions\u001b[0m \u001b[0;34m=\u001b[0m \u001b[0mget_nw_predictions\u001b[0m\u001b[0;34m(\u001b[0m\u001b[0mprojections\u001b[0m\u001b[0;34m,\u001b[0m \u001b[0mlosses\u001b[0m\u001b[0;34m,\u001b[0m \u001b[0mgamma\u001b[0m\u001b[0;34m)\u001b[0m\u001b[0;34m\u001b[0m\u001b[0;34m\u001b[0m\u001b[0m\n",
      "\u001b[0;31mTypeError\u001b[0m: unhashable type: 'numpy.ndarray'"
     ]
    }
   ],
   "source": [
    "#connectivity_data\n",
    "surfaces = surfaces#_str\n",
    "cres = crelist\n",
    "structures_smooth = summary_structures#leafs\n",
    "structures_surface = summary_structures#leafs\n",
    "model_ordering = np.asarray([ontological_order_leaves_majors,ontological_order_leaves]).transpose()\n",
    "#model_ordering_surfaces = np.asarray([ontological_order_leaves_majors,ontological_order_leaves]).transpose()\n",
    "#model_ordering_leafs = model_ordering_leafs#[117:123]\n",
    "#model_ordering_surfaces = model_ordering_summaries#[117:123]\n",
    "ontological_order_leaves \n",
    "ontological_order_leaves_summary\n",
    "\n",
    "eval_cres = eval_cres\n",
    "source_ordering = ontological_order_leaves#[117:123]\n",
    "target_ordering= ontological_order\n",
    "#connectivity_matrices = get_connectivity_matrices3(connectivity_data, surfaces, cres, structures_smooth,structures_surface, model_ordering_leafs,  source_ordering, target_ordering, eval_cres)\n",
    "#connectivity_matrices = get_connectivity_matrices3(connectivity_data, surfaces, cres, structures_smooth,structures_surface, model_ordering, source_ordering, target_ordering, eval_cres)\n",
    "    "
   ]
  },
  {
   "cell_type": "code",
   "execution_count": 70,
   "metadata": {
    "collapsed": true
   },
   "outputs": [],
   "source": [
    "    nsource = len(source_ordering)\n",
    "    ncre = len(eval_cres)\n",
    "\n",
    "    ipsi_target_regions = connectivity_data.ipsi_target_regions\n",
    "    contra_target_regions = connectivity_data.contra_target_regions                               \n",
    "    ipsi_indices= np.asarray([])\n",
    "    contra_indices = np.asarray([])\n",
    "    for iy in target_ordering: \n",
    "        ipsi_indices = np.concatenate([ipsi_indices, np.where(ipsi_target_regions==iy)[0]] )\n",
    "        contra_indices = np.concatenate([contra_indices, np.where(contra_target_regions==iy)[0]] )\n",
    "    ipsi_indices = np.asarray(ipsi_indices, dtype = int)   \n",
    "    contra_indices = np.asarray(contra_indices, dtype = int)    \n",
    "    reorder = np.concatenate([ipsi_indices, len(ipsi_indices) + contra_indices])  \n",
    "    ntarget = len(reorder)\n",
    "      \n",
    "    connectivity = np.zeros((ncre, nsource, ntarget))\n",
    "    connectivity[:] = np.nan\n"
   ]
  },
  {
   "cell_type": "code",
   "execution_count": 84,
   "metadata": {},
   "outputs": [
    {
     "name": "stdout",
     "output_type": "stream",
     "text": [
      "0 68.0\n"
     ]
    }
   ],
   "source": [
    "c = 0 \n",
    "i = 0\n",
    "print(i,source_ordering[i])\n",
    "sid = int(model_ordering[i,0])#structure_major_dictionary[source_ordering[i]]\n",
    "\n",
    "sid = 315\n",
    "structure_data = connectivity_data.structure_datas[sid]\n",
    "structures_surface_sid = structures_surface[sid]\n",
    "structures_smooth_sid = structures_smooth[sid]\n",
    "prediction_region = source_ordering[i]\n",
    "cre = eval_cres[c]\n",
    "gamma = surfaces[sid].gamma\n",
    "surface = surfaces[sid]\n"
   ]
  },
  {
   "cell_type": "code",
   "execution_count": 86,
   "metadata": {},
   "outputs": [
    {
     "data": {
      "text/plain": [
       "(1128,)"
      ]
     },
     "execution_count": 86,
     "metadata": {},
     "output_type": "execute_result"
    }
   ],
   "source": [
    "structures_surface_sid.shape"
   ]
  },
  {
   "cell_type": "code",
   "execution_count": 73,
   "metadata": {},
   "outputs": [
    {
     "ename": "TypeError",
     "evalue": "unhashable type: 'numpy.ndarray'",
     "output_type": "error",
     "traceback": [
      "\u001b[0;31m---------------------------------------------------------------------------\u001b[0m",
      "\u001b[0;31mTypeError\u001b[0m                                 Traceback (most recent call last)",
      "\u001b[0;32m<ipython-input-73-1336b8885f09>\u001b[0m in \u001b[0;36m<module>\u001b[0;34m\u001b[0m\n\u001b[1;32m     15\u001b[0m \u001b[0;32mif\u001b[0m \u001b[0mcentroids\u001b[0m\u001b[0;34m.\u001b[0m\u001b[0mshape\u001b[0m\u001b[0;34m[\u001b[0m\u001b[0;36m0\u001b[0m\u001b[0;34m]\u001b[0m\u001b[0;34m>\u001b[0m\u001b[0;36m0\u001b[0m\u001b[0;34m:\u001b[0m\u001b[0;34m\u001b[0m\u001b[0;34m\u001b[0m\u001b[0m\n\u001b[1;32m     16\u001b[0m     \u001b[0;31m#print(means)\u001b[0m\u001b[0;34m\u001b[0m\u001b[0;34m\u001b[0m\u001b[0;34m\u001b[0m\u001b[0m\n\u001b[0;32m---> 17\u001b[0;31m     \u001b[0;32mif\u001b[0m \u001b[0mnp\u001b[0m\u001b[0;34m.\u001b[0m\u001b[0misin\u001b[0m\u001b[0;34m(\u001b[0m\u001b[0mcre\u001b[0m\u001b[0;34m,\u001b[0m \u001b[0mnp\u001b[0m\u001b[0;34m.\u001b[0m\u001b[0masarray\u001b[0m\u001b[0;34m(\u001b[0m\u001b[0mlist\u001b[0m\u001b[0;34m(\u001b[0m\u001b[0mmeans\u001b[0m\u001b[0;34m[\u001b[0m\u001b[0mstructures_surface_sid\u001b[0m\u001b[0;34m]\u001b[0m\u001b[0;34m.\u001b[0m\u001b[0mkeys\u001b[0m\u001b[0;34m(\u001b[0m\u001b[0;34m)\u001b[0m\u001b[0;34m)\u001b[0m\u001b[0;34m)\u001b[0m\u001b[0;34m)\u001b[0m\u001b[0;34m:\u001b[0m\u001b[0;34m\u001b[0m\u001b[0;34m\u001b[0m\u001b[0m\n\u001b[0m\u001b[1;32m     18\u001b[0m         \u001b[0mlosses\u001b[0m \u001b[0;34m=\u001b[0m \u001b[0mget_embedding\u001b[0m\u001b[0;34m(\u001b[0m\u001b[0msurface\u001b[0m\u001b[0;34m,\u001b[0m \u001b[0mpairwise_distances\u001b[0m\u001b[0;34m(\u001b[0m\u001b[0mcentroids\u001b[0m\u001b[0;34m,\u001b[0m \u001b[0mmask\u001b[0m\u001b[0;34m.\u001b[0m\u001b[0mcoordinates\u001b[0m\u001b[0;34m)\u001b[0m\u001b[0;34m**\u001b[0m\u001b[0;36m2\u001b[0m\u001b[0;34m,\u001b[0m \u001b[0mcres_surface\u001b[0m\u001b[0;34m,\u001b[0m \u001b[0mcre\u001b[0m\u001b[0;34m,\u001b[0m \u001b[0mmeans\u001b[0m\u001b[0;34m[\u001b[0m\u001b[0mmodel_region_surface\u001b[0m\u001b[0;34m]\u001b[0m\u001b[0;34m)\u001b[0m\u001b[0;34m\u001b[0m\u001b[0;34m\u001b[0m\u001b[0m\n\u001b[1;32m     19\u001b[0m         \u001b[0mpredictions\u001b[0m \u001b[0;34m=\u001b[0m \u001b[0mget_nw_predictions\u001b[0m\u001b[0;34m(\u001b[0m\u001b[0mprojections\u001b[0m\u001b[0;34m,\u001b[0m \u001b[0mlosses\u001b[0m\u001b[0;34m,\u001b[0m \u001b[0mgamma\u001b[0m\u001b[0;34m)\u001b[0m\u001b[0;34m\u001b[0m\u001b[0;34m\u001b[0m\u001b[0m\n",
      "\u001b[0;31mTypeError\u001b[0m: unhashable type: 'numpy.ndarray'"
     ]
    }
   ],
   "source": [
    "    nw_exp_ind = np.where(structures_smooth_sid == structures_smooth_sid)[0]\n",
    "    te_exp_ind = np.where(structures_surface_sid == structures_surface_sid)[0]\n",
    "\n",
    "    nexp_surface = len(te_exp_ind)\n",
    "    cres_surface = structure_data.crelines[te_exp_ind]\n",
    "    \n",
    "    mask = Mask.from_cache(cache,structure_ids=[prediction_region],hemisphere_id=2)\n",
    "\n",
    "    projections = structure_data.reg_proj_norm[nw_exp_ind]\n",
    "    centroids = structure_data.centroids[nw_exp_ind]\n",
    "\n",
    "    projections_surface = structure_data.reg_proj_norm[te_exp_ind]\n",
    "    means = get_means(projections_surface, cres_surface, np.repeat(structures_surface_sid,nexp_surface))\n",
    "\n",
    "    if centroids.shape[0]>0:\n",
    "        #print(means)\n",
    "        if np.isin(cre, np.asarray(list(means[structures_surface_sid].keys()))):\n",
    "            losses = get_embedding(surface, pairwise_distances(centroids, mask.coordinates)**2, cres_surface, cre, means[model_region_surface])\n",
    "            predictions = get_nw_predictions(projections, losses, gamma)\n",
    "            output = np.mean(predictions, axis = 0)\n",
    "        else:\n",
    "            output = np.zeros(projections.shape[1])\n",
    "            output[:] = np.nan\n",
    "    else:\n",
    "        output = np.zeros(projections.shape[1])\n",
    "        output[:] = np.nan\n"
   ]
  },
  {
   "cell_type": "code",
   "execution_count": 82,
   "metadata": {},
   "outputs": [
    {
     "data": {
      "text/plain": [
       "dict_keys([39, 44, 48, 104, 111, 119, 184, 329, 337, 345, 353, 361, 369, 378, 385, 394, 402, 409, 417, 425, 533, 541, 677, 723, 731, 746, 879, 886, 894, 895, 972, 985, 993, 1002, 1011, 1018, 1027, 1057, 182305689, 312782546, 312782574, 312782628])"
      ]
     },
     "execution_count": 82,
     "metadata": {},
     "output_type": "execute_result"
    }
   ],
   "source": [
    "means.keys()"
   ]
  },
  {
   "cell_type": "code",
   "execution_count": 77,
   "metadata": {},
   "outputs": [
    {
     "data": {
      "text/plain": [
       "dict_keys([39, 44, 48, 104, 111, 119, 184, 329, 337, 345, 353, 361, 369, 378, 385, 394, 402, 409, 417, 425, 533, 541, 677, 723, 731, 746, 879, 886, 894, 895, 972, 985, 993, 1002, 1011, 1018, 1027, 1057, 182305689, 312782546, 312782574, 312782628])"
      ]
     },
     "execution_count": 77,
     "metadata": {},
     "output_type": "execute_result"
    }
   ],
   "source": [
    "means.keys()"
   ]
  },
  {
   "cell_type": "code",
   "execution_count": 78,
   "metadata": {},
   "outputs": [
    {
     "data": {
      "text/plain": [
       "array([886, 385, 993, ..., 385, 329, 993], dtype=object)"
      ]
     },
     "execution_count": 78,
     "metadata": {},
     "output_type": "execute_result"
    }
   ],
   "source": [
    "structures_surface_sid"
   ]
  },
  {
   "cell_type": "code",
   "execution_count": 79,
   "metadata": {},
   "outputs": [
    {
     "data": {
      "text/plain": [
       "array([886, 385, 993, ..., 385, 329, 993], dtype=object)"
      ]
     },
     "execution_count": 79,
     "metadata": {},
     "output_type": "execute_result"
    }
   ],
   "source": [
    "structures_surface_sid"
   ]
  },
  {
   "cell_type": "code",
   "execution_count": null,
   "metadata": {
    "collapsed": true
   },
   "outputs": [],
   "source": []
  }
 ],
 "metadata": {
  "kernelspec": {
   "display_name": "allen_010719_5",
   "language": "python",
   "name": "allen_010719_5"
  },
  "language_info": {
   "codemirror_mode": {
    "name": "ipython",
    "version": 3
   },
   "file_extension": ".py",
   "mimetype": "text/x-python",
   "name": "python",
   "nbconvert_exporter": "python",
   "pygments_lexer": "ipython3",
   "version": "3.7.6"
  }
 },
 "nbformat": 4,
 "nbformat_minor": 2
}

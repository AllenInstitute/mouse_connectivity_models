{
 "cells": [
  {
   "cell_type": "code",
   "execution_count": 1,
   "metadata": {
    "collapsed": true
   },
   "outputs": [],
   "source": [
    "import pandas as pd"
   ]
  },
  {
   "cell_type": "code",
   "execution_count": 2,
   "metadata": {},
   "outputs": [
    {
     "name": "stderr",
     "output_type": "stream",
     "text": [
      "/Users/samsonkoelle/anaconda3/envs/allen_010719_5/lib/python3.7/site-packages/sklearn/utils/deprecation.py:144: FutureWarning: The sklearn.linear_model.base module is  deprecated in version 0.22 and will be removed in version 0.24. The corresponding classes / functions should instead be imported from sklearn.linear_model. Anything that cannot be imported from sklearn.linear_model is now part of the private API.\n",
      "  warnings.warn(message, FutureWarning)\n",
      "/Users/samsonkoelle/anaconda3/envs/allen_010719_5/lib/python3.7/site-packages/sklearn/utils/deprecation.py:144: FutureWarning: The sklearn.metrics.scorer module is  deprecated in version 0.22 and will be removed in version 0.24. The corresponding classes / functions should instead be imported from sklearn.metrics. Anything that cannot be imported from sklearn.metrics is now part of the private API.\n",
      "  warnings.warn(message, FutureWarning)\n"
     ]
    }
   ],
   "source": [
    "import os\n",
    "import numpy as np\n",
    "import pandas as pd \n",
    "import sys\n",
    "#import pickle\n",
    "import itertools\n",
    "import seaborn as sns\n",
    "import matplotlib.pyplot as plt\n",
    "from mpl_toolkits.mplot3d import Axes3D\n",
    "import random\n",
    "from sklearn.metrics import pairwise_distances\n",
    "from sklearn.kernel_ridge import KernelRidge\n",
    "import math\n",
    "import dill as pickle\n",
    "\n",
    "workingdirectory = os.popen('git rev-parse --show-toplevel').read()[:-1]\n",
    "sys.path.append(workingdirectory)\n",
    "os.chdir(workingdirectory)\n",
    "\n",
    "\n",
    "import allensdk\n",
    "import allensdk.core.json_utilities as ju\n",
    "from allensdk.core.mouse_connectivity_cache import MouseConnectivityCache\n",
    "\n",
    "from mcmodels.utils import get_aligned_ids\n",
    "from mcmodels.core import VoxelModelCache\n",
    "from mcmodels.connectivity.creation import get_connectivity_matrices3\n",
    "from mcmodels.core.connectivity_data import get_connectivity_data\n",
    "#from mcmodels.models.voxel.crossvalidation import get_nwloocv_predictions_multimodel_merge_dists\n",
    "from mcmodels.utils import nonzero_unique\n",
    "from mcmodels.core.utils import get_structure_id,get_ordered_summary_structures, get_leaves_ontologicalorder, get_indices_2ormore, get_indices, get_indices2,get_eval_indices,screen_index_matrices,screen_index_matrices2,screen_index_matrices3\n",
    "from mcmodels.regressors import NadarayaWatson\n",
    "from mcmodels.core.plotting import plot_loss_surface,plot_loss_scatter\n",
    "from mcmodels.models.expectedloss.crossvalidation import get_loss_surface_cv_spline\n",
    "from mcmodels.models.expectedloss.crossvalidation import get_embedding_cv\n",
    "from mcmodels.models.crossvalidation import get_best_hyperparameters,get_loss_best_hyp,get_loss, Crossval\n",
    "from mcmodels.models.voxel.crossvalidation import get_nwloocv_predictions_multimodel_merge_dists\n",
    "\n",
    "# def get_row_col_names(connectivity_data, target_ordering):\n",
    "    \n",
    "#     rnames = np.asarray([ia_map[target_ordering[i]] for i in range(len(target_ordering))])\n",
    "#     ipsi_target_regions = connectivity_data.ipsi_target_regions\n",
    "#     contra_target_regions = connectivity_data.contra_target_regions                               \n",
    "#     ipsi_indices= np.asarray([])\n",
    "#     contra_indices = np.asarray([])\n",
    "#     for iy in target_ordering: \n",
    "#         ipsi_indices = np.concatenate([ipsi_indices, np.where(ipsi_target_regions==iy)[0]] )\n",
    "#         contra_indices = np.concatenate([contra_indices, np.where(contra_target_regions==iy)[0]] )\n",
    "#     ipsi_indices = np.asarray(ipsi_indices, dtype = int)   \n",
    "#     contra_indices = np.asarray(contra_indices, dtype = int)    \n",
    "#     reorder = np.concatenate([ipsi_indices, len(ipsi_indices) + contra_indices])  \n",
    "#     colids = np.concatenate([ipsi_target_regions, contra_target_regions])[reorder]\n",
    "#     cnames = np.asarray([ia_map[colids[i]] for i in range(len(colids))])\n",
    "#     ccomb = np.vstack([np.concatenate([np.repeat('ipsi',connectivity_data.ipsi_target_regions.shape[0]),\n",
    "#                                        np.repeat('contra',connectivity_data.contra_target_regions.shape)]), cnames])\n",
    "#     ccomb = np.asarray(ccomb)\n",
    "#     tuples2 = list(zip(*ccomb))\n",
    "#     cnam_multi = pd.MultiIndex.from_tuples(tuples2, names=['first', 'second'])\n",
    "#     return(cnam_multi, rnames)\n",
    "\n",
    "# #read data\n",
    "# TOP_DIR = '/Users/samsonkoelle/alleninstitute/mcm_2020/mcm_updated/'\n",
    "# INPUT_JSON = os.path.join(TOP_DIR, 'input_011520.json')\n",
    "# EXPERIMENTS_EXCLUDE_JSON = os.path.join(TOP_DIR, 'experiments_exclude.json')\n",
    "# input_data = ju.read(INPUT_JSON)\n",
    "# experiments_exclude = ju.read(EXPERIMENTS_EXCLUDE_JSON)\n",
    "# manifest_file = input_data.get('manifest_file')\n",
    "# manifest_file = os.path.join(TOP_DIR, manifest_file)\n",
    "# cache = VoxelModelCache(manifest_file=manifest_file)\n",
    "# st = cache.get_structure_tree()\n",
    "# ai_map = st.get_id_acronym_map()\n",
    "# ia_map = {value: key for key, value in ai_map.items()}\n",
    "# major_structures = np.load('/Users/samsonkoelle/alleninstitute/sambranch/mouse_connectivity_models/paper/info/major_structures.npy')\n",
    "# major_structure_ids = np.load('/Users/samsonkoelle/alleninstitute/sambranch/mouse_connectivity_models/paper/info/major_structure_ids.npy')\n",
    "# data_info = pd.read_excel('/Users/samsonkoelle/alleninstitute/Whole Brain Cre Image Series_curation only.xlsx', 'all datasets curated_070919pull')\n",
    "# data_info.set_index(\"id\", inplace=True)\n",
    "# with open('data/info/leafs.pickle', 'rb') as handle:\n",
    "#     leafs = pickle.load(handle)\n",
    "    \n",
    "# ontological_order_leaves = np.load('/Users/samsonkoelle/alleninstitute/sambranch/mouse_connectivity_models/paper/info/ontological_order_leaves_v3.npy')\n",
    "# ontological_order = np.load('/Users/samsonkoelle/alleninstitute/sambranch/mouse_connectivity_models/paper/info/ontological_order_v3.npy')\n",
    "# ontological_order_leaves_majors = get_aligned_ids(st,ontological_order_leaves,major_structure_ids)\n",
    "# ontological_order_leaves_summary = get_aligned_ids(st,ontological_order_leaves,ontological_order)\n",
    "\n",
    "# connectivity_data = get_connectivity_data(cache, major_structure_ids, experiments_exclude, remove_injection = False, structure_set_id=167587189)\n",
    "# connectivity_data.get_injection_hemisphere_ids()\n",
    "# connectivity_data.align()\n",
    "# connectivity_data.get_centroids()\n",
    "# connectivity_data.get_data_matrices(major_structure_ids)\n",
    "\n",
    "# connectivity_data.ai_map = ai_map\n",
    "# connectivity_data.get_crelines(data_info)"
   ]
  },
  {
   "cell_type": "code",
   "execution_count": 9,
   "metadata": {},
   "outputs": [],
   "source": [
    "#eval_cre_list = np.unique(np.concatenate(list(connectivity_data.creline.values())))\n",
    "#eval_cre_list = np.asarray(eval_cre_list, dtype = str)\n",
    "#np.save('/Users/samsonkoelle/alleninstitute/sambranch/mouse_connectivity_models/paper/info/crelist', eval_cre_list)"
   ]
  },
  {
   "cell_type": "code",
   "execution_count": 10,
   "metadata": {
    "collapsed": true
   },
   "outputs": [],
   "source": [
    "\n",
    "def fix_pdcsv(csv):\n",
    "    \n",
    "    #wt_conn = pd.read_csv('/Users/samsonkoelle/wt_leafsmooth_leafsurface_sumtarget.csv',  header=[0,1])\n",
    "    csv_rownames = np.asarray(csv.iloc[:,0])\n",
    "    csv = csv.iloc[:,1:]\n",
    "    csv.index = csv_rownames\n",
    "    return(csv)\n",
    "\n",
    "def fill_df_na(data, indices):\n",
    "    \n",
    "    for i in range(indices.shape[0]):\n",
    "        data.iloc[indices[i,0],indices[i,1]] = np.nan\n",
    "        \n",
    "    return(data)\n",
    "\n"
   ]
  },
  {
   "cell_type": "code",
   "execution_count": 11,
   "metadata": {
    "collapsed": true
   },
   "outputs": [],
   "source": [
    "eval_cre_list = np.load('/Users/samsonkoelle/alleninstitute/sambranch/mouse_connectivity_models/paper/info/crelist.npy',allow_pickle=True)\n",
    "eval_cre_list[4] = 'C57BL6J'\n"
   ]
  },
  {
   "cell_type": "code",
   "execution_count": 12,
   "metadata": {},
   "outputs": [
    {
     "name": "stdout",
     "output_type": "stream",
     "text": [
      "0\n",
      "1\n",
      "2\n",
      "3\n",
      "4\n",
      "5\n",
      "6\n",
      "7\n",
      "8\n",
      "9\n",
      "10\n",
      "11\n",
      "12\n",
      "13\n",
      "14\n",
      "15\n",
      "16\n",
      "17\n",
      "18\n",
      "19\n",
      "20\n",
      "21\n",
      "22\n",
      "23\n",
      "24\n",
      "25\n",
      "26\n",
      "27\n",
      "28\n",
      "29\n",
      "30\n",
      "31\n",
      "32\n",
      "33\n",
      "34\n",
      "35\n",
      "36\n",
      "37\n",
      "38\n",
      "39\n",
      "40\n",
      "41\n",
      "42\n",
      "43\n",
      "44\n",
      "45\n",
      "46\n",
      "47\n",
      "48\n",
      "49\n",
      "50\n",
      "51\n",
      "52\n",
      "53\n",
      "54\n",
      "55\n",
      "56\n",
      "57\n",
      "58\n",
      "59\n",
      "60\n",
      "61\n",
      "62\n",
      "63\n",
      "64\n",
      "65\n",
      "66\n",
      "67\n",
      "68\n",
      "69\n",
      "70\n",
      "71\n",
      "72\n",
      "73\n",
      "74\n",
      "75\n",
      "76\n",
      "77\n",
      "78\n",
      "79\n",
      "80\n",
      "81\n",
      "82\n",
      "83\n",
      "84\n",
      "85\n",
      "86\n",
      "87\n",
      "88\n",
      "89\n",
      "90\n",
      "91\n",
      "92\n",
      "93\n",
      "94\n",
      "95\n",
      "96\n",
      "97\n",
      "98\n",
      "99\n",
      "100\n",
      "101\n",
      "102\n",
      "103\n",
      "104\n",
      "105\n",
      "106\n",
      "107\n",
      "108\n",
      "109\n",
      "110\n",
      "111\n",
      "112\n"
     ]
    }
   ],
   "source": [
    "\n",
    "c = 0\n",
    "conn = pd.read_csv(workingdirectory + '/paper/connectivities/el_leafsurf_leafsmth_leafleaf_' + str(eval_cre_list[c]) + '0428.csv',   header=[0, 1])\n",
    "conn = fix_pdcsv(conn)\n",
    "data_comb = np.zeros((len(eval_cre_list), conn.shape[0], conn.shape[1]))\n",
    "ncre = len(eval_cre_list)\n",
    "for c in range(ncre):\n",
    "    print(c)\n",
    "    conn = pd.read_csv(workingdirectory + '/paper/connectivities/el_leafsurf_leafsmth_leafleaf_' + str(eval_cre_list[c]) + '0428.csv',   header=[0, 1])\n",
    "    conn = fix_pdcsv(conn)\n",
    "    data_comb[c] = conn\n",
    "    #print(c, eval_cre_list[c])\n",
    "    #conn_v3 = get_connectivity_matrices3(connectivity_data, surfaces, experiment_sids_surfaces,experiment_sids_nws, model_ordering, source_ordering_surface, source_ordering_nw, source_ordering, target_ordering, [eval_cre_list[c]])\n",
    "    #connectivity_matrices = pd.DataFrame(conn_v3[0], columns = cnam_multi, index=rnames)\n",
    "    #connectivity_matrices.to_csv(workingdirectory + '/paper/connectivities/el_sumsurf_leafsmth_leafleaf_' + str(eval_cre_names[c]) + '0428.csv')\n",
    "    "
   ]
  },
  {
   "cell_type": "code",
   "execution_count": 31,
   "metadata": {},
   "outputs": [
    {
     "name": "stderr",
     "output_type": "stream",
     "text": [
      "/Users/samsonkoelle/anaconda3/envs/allen_010719_5/lib/python3.7/site-packages/ipykernel_launcher.py:1: RuntimeWarning: Mean of empty slice\n",
      "  \"\"\"Entry point for launching an IPython kernel.\n"
     ]
    }
   ],
   "source": [
    "meandata = np.nanmean(data_comb, axis = tuple([0]))"
   ]
  },
  {
   "cell_type": "code",
   "execution_count": 35,
   "metadata": {
    "collapsed": true
   },
   "outputs": [],
   "source": [
    "nonwt = np.setdiff1d(list(range(ncre)), 4)"
   ]
  },
  {
   "cell_type": "code",
   "execution_count": 36,
   "metadata": {},
   "outputs": [
    {
     "name": "stderr",
     "output_type": "stream",
     "text": [
      "/Users/samsonkoelle/anaconda3/envs/allen_010719_5/lib/python3.7/site-packages/ipykernel_launcher.py:1: RuntimeWarning: Mean of empty slice\n",
      "  \"\"\"Entry point for launching an IPython kernel.\n"
     ]
    }
   ],
   "source": [
    "meandata_nonwt = np.nanmean(data_comb[nonwt], axis = tuple([0]))"
   ]
  },
  {
   "cell_type": "code",
   "execution_count": 40,
   "metadata": {
    "collapsed": true
   },
   "outputs": [],
   "source": [
    "meandata = pd.DataFrame(meandata, columns = conn.columns, index=conn.index)\n",
    "meandata_nonwt = pd.DataFrame(meandata_nonwt, columns = conn.columns, index=conn.index)"
   ]
  },
  {
   "cell_type": "code",
   "execution_count": 13,
   "metadata": {},
   "outputs": [
    {
     "ename": "NameError",
     "evalue": "name 'meandata' is not defined",
     "output_type": "error",
     "traceback": [
      "\u001b[0;31m---------------------------------------------------------------------------\u001b[0m",
      "\u001b[0;31mNameError\u001b[0m                                 Traceback (most recent call last)",
      "\u001b[0;32m<ipython-input-13-79ee47078a51>\u001b[0m in \u001b[0;36m<module>\u001b[0;34m\u001b[0m\n\u001b[0;32m----> 1\u001b[0;31m \u001b[0mmeandata\u001b[0m\u001b[0;34m\u001b[0m\u001b[0;34m\u001b[0m\u001b[0m\n\u001b[0m",
      "\u001b[0;31mNameError\u001b[0m: name 'meandata' is not defined"
     ]
    }
   ],
   "source": [
    "meandata"
   ]
  },
  {
   "cell_type": "code",
   "execution_count": 41,
   "metadata": {
    "collapsed": true
   },
   "outputs": [],
   "source": [
    "meandata.to_csv(workingdirectory + '/paper/connectivities/el_leafsurf_leafsmth_leafleaf_meandata_0428.csv')"
   ]
  },
  {
   "cell_type": "code",
   "execution_count": 42,
   "metadata": {
    "collapsed": true
   },
   "outputs": [],
   "source": [
    "meandata_nonwt.to_csv(workingdirectory + '/paper/connectivities/el_leafsurf_leafsmth_leafleaf_meandata_nonwt_0428.csv')"
   ]
  },
  {
   "cell_type": "code",
   "execution_count": 44,
   "metadata": {},
   "outputs": [
    {
     "name": "stderr",
     "output_type": "stream",
     "text": [
      "/Users/samsonkoelle/anaconda3/envs/allen_010719_5/lib/python3.7/site-packages/ipykernel_launcher.py:1: RuntimeWarning: divide by zero encountered in log\n",
      "  \"\"\"Entry point for launching an IPython kernel.\n"
     ]
    },
    {
     "data": {
      "text/plain": [
       "<matplotlib.axes._subplots.AxesSubplot at 0x1279c87d0>"
      ]
     },
     "execution_count": 44,
     "metadata": {},
     "output_type": "execute_result"
    },
    {
     "data": {
      "image/png": "[encoded data removed]",
      "text/plain": [
       "<Figure size 432x288 with 2 Axes>"
      ]
     },
     "metadata": {
      "needs_background": "light"
     },
     "output_type": "display_data"
    }
   ],
   "source": [
    "sns.heatmap(np.log(meandata), vmin = -6, vmax = 0)"
   ]
  },
  {
   "cell_type": "code",
   "execution_count": null,
   "metadata": {
    "collapsed": true
   },
   "outputs": [],
   "source": []
  }
 ],
 "metadata": {
  "kernelspec": {
   "display_name": "allen_010719_5",
   "language": "python",
   "name": "allen_010719_5"
  },
  "language_info": {
   "codemirror_mode": {
    "name": "ipython",
    "version": 3
   },
   "file_extension": ".py",
   "mimetype": "text/x-python",
   "name": "python",
   "nbconvert_exporter": "python",
   "pygments_lexer": "ipython3",
   "version": "3.7.6"
  }
 },
 "nbformat": 4,
 "nbformat_minor": 2
}

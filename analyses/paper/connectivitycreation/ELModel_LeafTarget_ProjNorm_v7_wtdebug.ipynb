{
 "cells": [
  {
   "cell_type": "code",
   "execution_count": 2,
   "metadata": {},
   "outputs": [
    {
     "name": "stdout",
     "output_type": "stream",
     "text": [
      "annotation/ccf_2017\n",
      "512\n",
      "703\n",
      "1089\n",
      "1097\n",
      "315\n",
      "313\n",
      "354\n",
      "698\n",
      "771\n",
      "803\n",
      "477\n",
      "549\n"
     ]
    },
    {
     "name": "stderr",
     "output_type": "stream",
     "text": [
      "/Users/samsonkoelle/alleninstitute/sambranch/mouse_connectivity_models/mcmodels/core/connectivity_data.py:225: RuntimeWarning: divide by zero encountered in true_divide\n",
      "  np.sum(reg_inj_vcount_norm, axis=1), 1)\n",
      "/Users/samsonkoelle/alleninstitute/sambranch/mouse_connectivity_models/mcmodels/core/connectivity_data.py:225: RuntimeWarning: invalid value encountered in true_divide\n",
      "  np.sum(reg_inj_vcount_norm, axis=1), 1)\n",
      "/Users/samsonkoelle/alleninstitute/sambranch/mouse_connectivity_models/mcmodels/core/connectivity_data.py:229: RuntimeWarning: divide by zero encountered in true_divide\n",
      "  np.sum(reg_ipsi_inj, axis=1), 1)\n",
      "/Users/samsonkoelle/alleninstitute/sambranch/mouse_connectivity_models/mcmodels/core/connectivity_data.py:229: RuntimeWarning: invalid value encountered in true_divide\n",
      "  np.sum(reg_ipsi_inj, axis=1), 1)\n"
     ]
    }
   ],
   "source": [
    "import os\n",
    "import numpy as np\n",
    "import pandas as pd \n",
    "import sys\n",
    "#import pickle\n",
    "import itertools\n",
    "import seaborn as sns\n",
    "import matplotlib.pyplot as plt\n",
    "from mpl_toolkits.mplot3d import Axes3D\n",
    "import random\n",
    "from sklearn.metrics import pairwise_distances\n",
    "from sklearn.kernel_ridge import KernelRidge\n",
    "import math\n",
    "import dill as pickle\n",
    "\n",
    "workingdirectory = os.popen('git rev-parse --show-toplevel').read()[:-1]\n",
    "sys.path.append(workingdirectory)\n",
    "os.chdir(workingdirectory)\n",
    "\n",
    "\n",
    "import allensdk\n",
    "import allensdk.core.json_utilities as ju\n",
    "from allensdk.core.mouse_connectivity_cache import MouseConnectivityCache\n",
    "\n",
    "from mcmodels.utils import get_aligned_ids\n",
    "from mcmodels.core import VoxelModelCache\n",
    "from mcmodels.connectivity.creation import get_connectivity_matrices3\n",
    "from mcmodels.core.connectivity_data import get_connectivity_data\n",
    "#from mcmodels.models.voxel.crossvalidation import get_nwloocv_predictions_multimodel_merge_dists\n",
    "from mcmodels.utils import nonzero_unique\n",
    "from mcmodels.core.utils import get_structure_id,get_ordered_summary_structures, get_leaves_ontologicalorder, get_indices_2ormore, get_indices, get_indices2,get_eval_indices,screen_index_matrices,screen_index_matrices2,screen_index_matrices3\n",
    "from mcmodels.regressors import NadarayaWatson\n",
    "from mcmodels.core.plotting import plot_loss_surface,plot_loss_scatter\n",
    "from mcmodels.models.expectedloss.crossvalidation import get_loss_surface_cv_spline\n",
    "from mcmodels.models.expectedloss.crossvalidation import get_embedding_cv\n",
    "from mcmodels.models.crossvalidation import get_best_hyperparameters,get_loss_best_hyp,get_loss, Crossval\n",
    "from mcmodels.models.voxel.crossvalidation import get_nwloocv_predictions_multimodel_merge_dists\n",
    "\n",
    "def get_row_col_names(connectivity_data, target_ordering):\n",
    "    \n",
    "    rnames = np.asarray([ia_map[target_ordering[i]] for i in range(len(target_ordering))])\n",
    "    ipsi_target_regions = connectivity_data.ipsi_target_regions\n",
    "    contra_target_regions = connectivity_data.contra_target_regions                               \n",
    "    ipsi_indices= np.asarray([])\n",
    "    contra_indices = np.asarray([])\n",
    "    for iy in target_ordering: \n",
    "        ipsi_indices = np.concatenate([ipsi_indices, np.where(ipsi_target_regions==iy)[0]] )\n",
    "        contra_indices = np.concatenate([contra_indices, np.where(contra_target_regions==iy)[0]] )\n",
    "    ipsi_indices = np.asarray(ipsi_indices, dtype = int)   \n",
    "    contra_indices = np.asarray(contra_indices, dtype = int)    \n",
    "    reorder = np.concatenate([ipsi_indices, len(ipsi_indices) + contra_indices])  \n",
    "    colids = np.concatenate([ipsi_target_regions, contra_target_regions])[reorder]\n",
    "    cnames = np.asarray([ia_map[colids[i]] for i in range(len(colids))])\n",
    "    ccomb = np.vstack([np.concatenate([np.repeat('ipsi',connectivity_data.ipsi_target_regions.shape[0]),\n",
    "                                       np.repeat('contra',connectivity_data.contra_target_regions.shape)]), cnames])\n",
    "    ccomb = np.asarray(ccomb)\n",
    "    tuples2 = list(zip(*ccomb))\n",
    "    cnam_multi = pd.MultiIndex.from_tuples(tuples2, names=['first', 'second'])\n",
    "    return(cnam_multi, rnames)\n",
    "\n",
    "#read data\n",
    "TOP_DIR = '/Users/samsonkoelle/alleninstitute/mcm_2020/mcm_updated/'\n",
    "INPUT_JSON = os.path.join(TOP_DIR, 'input_011520.json')\n",
    "EXPERIMENTS_EXCLUDE_JSON = os.path.join(TOP_DIR, 'experiments_exclude.json')\n",
    "input_data = ju.read(INPUT_JSON)\n",
    "experiments_exclude = ju.read(EXPERIMENTS_EXCLUDE_JSON)\n",
    "manifest_file = input_data.get('manifest_file')\n",
    "manifest_file = os.path.join(TOP_DIR, manifest_file)\n",
    "cache = VoxelModelCache(manifest_file=manifest_file)\n",
    "st = cache.get_structure_tree()\n",
    "ai_map = st.get_id_acronym_map()\n",
    "ia_map = {value: key for key, value in ai_map.items()}\n",
    "major_structures = np.load('/Users/samsonkoelle/alleninstitute/sambranch/mouse_connectivity_models/paper/info/major_structures.npy')\n",
    "major_structure_ids = np.load('/Users/samsonkoelle/alleninstitute/sambranch/mouse_connectivity_models/paper/info/major_structure_ids.npy')\n",
    "data_info = pd.read_excel('/Users/samsonkoelle/alleninstitute/Whole Brain Cre Image Series_curation only.xlsx', 'all datasets curated_070919pull')\n",
    "data_info.set_index(\"id\", inplace=True)\n",
    "with open('data/info/leafs.pickle', 'rb') as handle:\n",
    "    leafs = pickle.load(handle)\n",
    "    \n",
    "ontological_order_leaves = np.load('/Users/samsonkoelle/alleninstitute/sambranch/mouse_connectivity_models/paper/info/ontological_order_leaves_v3.npy')\n",
    "ontological_order = np.load('/Users/samsonkoelle/alleninstitute/sambranch/mouse_connectivity_models/paper/info/ontological_order_v3.npy')\n",
    "ontological_order_leaves_majors = get_aligned_ids(st,ontological_order_leaves,major_structure_ids)\n",
    "ontological_order_leaves_summary = get_aligned_ids(st,ontological_order_leaves,ontological_order)\n",
    "\n",
    "connectivity_data = get_connectivity_data(cache, major_structure_ids, experiments_exclude, remove_injection = False, structure_set_id=167587189)\n",
    "connectivity_data.get_injection_hemisphere_ids()\n",
    "connectivity_data.align()\n",
    "connectivity_data.get_centroids()\n",
    "connectivity_data.get_data_matrices(major_structure_ids)\n",
    "\n",
    "connectivity_data.ai_map = ai_map\n",
    "connectivity_data.get_crelines(data_info)\n",
    "connectivity_data.get_summarystructures(data_info)\n",
    "connectivity_data.summary_structures = {sid: connectivity_data.structure_datas[sid].summary_structures for sid in major_structure_ids}#get_indices_2ormore(connectivity_data.leafs)\n",
    "connectivity_data.leafs = leafs\n",
    "\n",
    "sid0 = list(connectivity_data.structure_datas.keys())[0]\n",
    "#Identify keys denoting which voxels correspond to which structure in the ipsi and contra targets.\n",
    "targ_ord = ontological_order_leaves\n",
    "source_ord = ontological_order_leaves\n",
    "contra_targetkey = connectivity_data.structure_datas[sid0].projection_mask.get_key(structure_ids=targ_ord, hemisphere_id=1)\n",
    "#ontological_order = np.load('/Users/samsonkoelle/alleninstitute/sambranch/mouse_connectivity_models/paper/info/ontological_order_v3.npy')\n",
    "ipsi_targetkey = connectivity_data.structure_datas[sid0].projection_mask.get_key(structure_ids=targ_ord, hemisphere_id=2)\n",
    "connectivity_data.get_regionalized_normalized_data(source_ord, ipsi_targetkey, contra_targetkey)\n",
    "summary_structures = {sid: connectivity_data.structure_datas[sid].summary_structures for sid in major_structure_ids}#get_indices_2ormore(connectivity_data.leafs)\n",
    "\n",
    "#el_leafsurf_leafsmth_v3_leafleaf_\n",
    "\n",
    "experiment_sids_surfaces = summary_structures\n",
    "experiment_sids_nws = leafs\n",
    "model_ordering = ontological_order_leaves_majors\n",
    "source_ordering_surface = ontological_order_leaves_summary\n",
    "source_ordering_nw = ontological_order_leaves\n",
    "source_ordering = ontological_order_leaves\n",
    "target_ordering = ontological_order_leaves\n",
    "for sid in major_structure_ids:\n",
    "    connectivity_data.structure_datas[sid].crelines = connectivity_data.creline[sid]\n",
    "    \n",
    "with open(workingdirectory + '/paper/trainedmodels/ELleaf_surface_0427_leafleaf2.pickle', 'rb') as handle:\n",
    "    surfaces = pickle.load(handle)\n",
    " \n",
    "#source_reg = np.asarray(['MOp2/3', 'MOp5', 'MOp6a','MOs2/3', 'MOs5', 'MOs6a' ])\n",
    "eval_cre_list = ['C57BL/6J', 'Cux2-IRES-Cre','Ntsr1-Cre_GN220','Rbp4-Cre_KL100','Tlx3-Cre_PL56']\n",
    "#eval_cre_list = np.unique(np.concatenate(list(connectivity_data.creline.values())))\n",
    "#eval_cre_list = np.setdiff1d(eval_cre_list,eval_cre_list_old)\n",
    "cnam_multi, rnames = get_row_col_names(connectivity_data, ontological_order_leaves)\n",
    "eval_cre_names =  ['C57BL6J', 'Cux2-IRES-Cre','Ntsr1-Cre_GN220','Rbp4-Cre_KL100','Tlx3-Cre_PL56']\n",
    "#eval_cre_list\n"
   ]
  },
  {
   "cell_type": "code",
   "execution_count": 4,
   "metadata": {},
   "outputs": [
    {
     "data": {
      "text/plain": [
       "array([8])"
      ]
     },
     "execution_count": 4,
     "metadata": {},
     "output_type": "execute_result"
    }
   ],
   "source": [
    "np.where(rnames == 'MOp6a')[0]"
   ]
  },
  {
   "cell_type": "code",
   "execution_count": null,
   "metadata": {
    "collapsed": true
   },
   "outputs": [],
   "source": [
    "c = eval_cre_list[0]"
   ]
  },
  {
   "cell_type": "code",
   "execution_count": 8,
   "metadata": {},
   "outputs": [
    {
     "data": {
      "text/plain": [
       "(array([315]), array([985]), array([844.]), array([844.]))"
      ]
     },
     "execution_count": 8,
     "metadata": {},
     "output_type": "execute_result"
    }
   ],
   "source": []
  },
  {
   "cell_type": "code",
   "execution_count": 17,
   "metadata": {},
   "outputs": [
    {
     "data": {
      "text/plain": [
       "(array([985]), array([844.]))"
      ]
     },
     "execution_count": 17,
     "metadata": {},
     "output_type": "execute_result"
    }
   ],
   "source": [
    "source_ordering_surface[8:9],source_ordering_nw[8:9]"
   ]
  },
  {
   "cell_type": "code",
   "execution_count": 36,
   "metadata": {},
   "outputs": [
    {
     "data": {
      "text/plain": [
       "<matplotlib.collections.PathCollection at 0xd60e25710>"
      ]
     },
     "execution_count": 36,
     "metadata": {},
     "output_type": "execute_result"
    },
    {
     "data": {
      "image/png": "[encoded data removed]",
      "text/plain": [
       "<Figure size 432x288 with 1 Axes>"
      ]
     },
     "metadata": {
      "needs_background": "light"
     },
     "output_type": "display_data"
    }
   ],
   "source": [
    "plt.scatter(conn_v3[0],connectivity_data.structure_datas[315].reg_proj_norm[leaf_ind].mean(axis = 0))"
   ]
  },
  {
   "cell_type": "code",
   "execution_count": 38,
   "metadata": {
    "collapsed": true
   },
   "outputs": [],
   "source": [
    "    ipsi_target_regions = connectivity_data.ipsi_target_regions\n",
    "    contra_target_regions = connectivity_data.contra_target_regions\n",
    "    ipsi_indices = np.asarray([])\n",
    "    contra_indices = np.asarray([])\n",
    "    for iy in target_ordering:\n",
    "        ipsi_indices = np.concatenate([ipsi_indices, np.where(ipsi_target_regions == iy)[0]])\n",
    "        contra_indices = np.concatenate([contra_indices, np.where(contra_target_regions == iy)[0]])\n",
    "    ipsi_indices = np.asarray(ipsi_indices, dtype=int)\n",
    "    contra_indices = np.asarray(contra_indices, dtype=int)\n",
    "    reorder = np.concatenate([ipsi_indices, len(ipsi_indices) + contra_indices])"
   ]
  },
  {
   "cell_type": "code",
   "execution_count": 56,
   "metadata": {},
   "outputs": [
    {
     "data": {
      "text/plain": [
       "<matplotlib.collections.PathCollection at 0xd64993490>"
      ]
     },
     "execution_count": 56,
     "metadata": {},
     "output_type": "execute_result"
    },
    {
     "data": {
      "image/png": "[encoded data removed]",
      "text/plain": [
       "<Figure size 432x288 with 1 Axes>"
      ]
     },
     "metadata": {
      "needs_background": "light"
     },
     "output_type": "display_data"
    }
   ],
   "source": [
    "plt.scatter(conn_v3[0],connectivity_data.structure_datas[315].reg_proj_norm[leaf_ind[0]].mean(axis = 0)[reorder])"
   ]
  },
  {
   "cell_type": "code",
   "execution_count": 55,
   "metadata": {},
   "outputs": [],
   "source": [
    "means = pd.DataFrame(np.expand_dims(connectivity_data.structure_datas[315].reg_proj_norm[leaf_ind[0]].mean(axis = 0)[reorder],0), index=rnames[8:9],columns = cnam_multi)"
   ]
  },
  {
   "cell_type": "code",
   "execution_count": 57,
   "metadata": {},
   "outputs": [],
   "source": [
    "means_ntsr1 = pd.DataFrame(np.expand_dims(connectivity_data.structure_datas[315].reg_proj_norm[leaf_ind[0][[0,2]]].mean(axis = 0)[reorder],0), index=rnames[8:9],columns = cnam_multi)"
   ]
  },
  {
   "cell_type": "code",
   "execution_count": 69,
   "metadata": {
    "collapsed": true
   },
   "outputs": [],
   "source": [
    "means_other = pd.DataFrame(np.expand_dims(connectivity_data.structure_datas[315].reg_proj_norm[leaf_ind[0][[1]]].mean(axis = 0)[reorder],0), index=rnames[8:9],columns = cnam_multi)"
   ]
  },
  {
   "cell_type": "code",
   "execution_count": 70,
   "metadata": {},
   "outputs": [
    {
     "data": {
      "text/plain": [
       "<matplotlib.axes._subplots.AxesSubplot at 0xd620e0a90>"
      ]
     },
     "execution_count": 70,
     "metadata": {},
     "output_type": "execute_result"
    },
    {
     "data": {
      "image/png": "[encoded data removed]",
      "text/plain": [
       "<Figure size 432x288 with 2 Axes>"
      ]
     },
     "metadata": {
      "needs_background": "light"
     },
     "output_type": "display_data"
    }
   ],
   "source": [
    "sns.heatmap(np.squeeze(np.asarray([means.loc[:,targ_reg],\n",
    "means_ntsr1.loc[:,targ_reg],\n",
    "means_other.loc[:,targ_reg],\n",
    "connectivity_matrices.loc[:,targ_reg]])))"
   ]
  },
  {
   "cell_type": "code",
   "execution_count": 75,
   "metadata": {},
   "outputs": [],
   "source": [
    "strs = leafs[315][np.where(connectivity_data.creline[315] == 'Syt6-Cre_KI148')[0]]"
   ]
  },
  {
   "cell_type": "code",
   "execution_count": 81,
   "metadata": {},
   "outputs": [
    {
     "data": {
      "text/plain": [
       "array([12])"
      ]
     },
     "execution_count": 81,
     "metadata": {},
     "output_type": "execute_result"
    }
   ],
   "source": [
    "np.where( np.asarray([ia_map[strs[i]] for i in range(len(strs))]) == 'MOp6a')[0]"
   ]
  },
  {
   "cell_type": "code",
   "execution_count": 82,
   "metadata": {},
   "outputs": [
    {
     "data": {
      "text/plain": [
       "array([37, 41])"
      ]
     },
     "execution_count": 82,
     "metadata": {},
     "output_type": "execute_result"
    }
   ],
   "source": [
    "np.where( np.asarray([ia_map[strs[i]] for i in range(len(strs))]) == 'MOp5')[0]"
   ]
  },
  {
   "cell_type": "code",
   "execution_count": 84,
   "metadata": {},
   "outputs": [
    {
     "data": {
      "text/plain": [
       "array([153, 774, 891])"
      ]
     },
     "execution_count": 84,
     "metadata": {},
     "output_type": "execute_result"
    }
   ],
   "source": [
    "np.where(connectivity_data.creline[315] == 'Syt6-Cre_KI148')[0][[12,37,41]]"
   ]
  },
  {
   "cell_type": "code",
   "execution_count": 107,
   "metadata": {
    "collapsed": true
   },
   "outputs": [],
   "source": [
    "means_Syt6 = pd.DataFrame(np.expand_dims(connectivity_data.structure_datas[315].reg_proj_norm[[153, 774, 891]].mean(axis = 0)[reorder],0), index=rnames[7:8],columns = cnam_multi)"
   ]
  },
  {
   "cell_type": "code",
   "execution_count": 108,
   "metadata": {},
   "outputs": [
    {
     "data": {
      "text/plain": [
       "<matplotlib.axes._subplots.AxesSubplot at 0xd65ba2490>"
      ]
     },
     "execution_count": 108,
     "metadata": {},
     "output_type": "execute_result"
    },
    {
     "data": {
      "image/png": "[encoded data removed]",
      "text/plain": [
       "<Figure size 432x288 with 2 Axes>"
      ]
     },
     "metadata": {
      "needs_background": "light"
     },
     "output_type": "display_data"
    }
   ],
   "source": [
    "sns.heatmap(means_Syt6.loc[:,targ_reg])"
   ]
  },
  {
   "cell_type": "code",
   "execution_count": 117,
   "metadata": {},
   "outputs": [],
   "source": [
    "ass = np.where(connectivity_data.creline[315] == 'Ntsr1-Cre_GN220')[0]\n",
    "bss = np.where(connectivity_data.summary_structures[315] == 985)[0]\n",
    "ntss = np.intersect1d(ass,bss)"
   ]
  },
  {
   "cell_type": "code",
   "execution_count": 119,
   "metadata": {
    "collapsed": true
   },
   "outputs": [],
   "source": [
    "css = np.where(connectivity_data.creline[315] == 'C57BL/6J')[0]\n",
    "bss = np.where(connectivity_data.summary_structures[315] == 985)[0]"
   ]
  },
  {
   "cell_type": "code",
   "execution_count": 120,
   "metadata": {},
   "outputs": [],
   "source": [
    "wti = np.intersect1d(css,bss)"
   ]
  },
  {
   "cell_type": "code",
   "execution_count": 121,
   "metadata": {
    "collapsed": true
   },
   "outputs": [],
   "source": [
    "means_ntsr1 = pd.DataFrame(np.expand_dims(connectivity_data.structure_datas[315].reg_proj_norm[ntss].mean(axis = 0)[reorder],0), index=rnames[7:8],columns = cnam_multi)"
   ]
  },
  {
   "cell_type": "code",
   "execution_count": 122,
   "metadata": {
    "collapsed": true
   },
   "outputs": [],
   "source": [
    "means_wa = pd.DataFrame(np.expand_dims(connectivity_data.structure_datas[315].reg_proj_norm[wti].mean(axis = 0)[reorder],0), index=rnames[7:8],columns = cnam_multi)"
   ]
  },
  {
   "cell_type": "code",
   "execution_count": 123,
   "metadata": {},
   "outputs": [
    {
     "data": {
      "text/plain": [
       "0.28191804145203725"
      ]
     },
     "execution_count": 123,
     "metadata": {},
     "output_type": "execute_result"
    }
   ],
   "source": [
    "np.linalg.norm(means_ntsr1 - means_wa)"
   ]
  },
  {
   "cell_type": "code",
   "execution_count": 124,
   "metadata": {},
   "outputs": [
    {
     "data": {
      "text/plain": [
       "0.1958459676220996"
      ]
     },
     "execution_count": 124,
     "metadata": {},
     "output_type": "execute_result"
    }
   ],
   "source": [
    "np.linalg.norm(means_Syt6 - means_wa)"
   ]
  },
  {
   "cell_type": "code",
   "execution_count": 142,
   "metadata": {},
   "outputs": [],
   "source": [
    "combbbb = pd.concat([means_ntsr1, means_Syt6,means_wa])"
   ]
  },
  {
   "cell_type": "code",
   "execution_count": 149,
   "metadata": {},
   "outputs": [
    {
     "name": "stderr",
     "output_type": "stream",
     "text": [
      "/Users/samsonkoelle/anaconda3/envs/allen_010719_5/lib/python3.7/site-packages/ipykernel_launcher.py:1: RuntimeWarning: divide by zero encountered in log\n",
      "  \"\"\"Entry point for launching an IPython kernel.\n"
     ]
    },
    {
     "data": {
      "text/plain": [
       "<matplotlib.axes._subplots.AxesSubplot at 0xd662b1b50>"
      ]
     },
     "execution_count": 149,
     "metadata": {},
     "output_type": "execute_result"
    },
    {
     "data": {
      "image/png": "[encoded data removed]",
      "text/plain": [
       "<Figure size 432x288 with 2 Axes>"
      ]
     },
     "metadata": {
      "needs_background": "light"
     },
     "output_type": "display_data"
    }
   ],
   "source": [
    "sns.heatmap(np.log(combbbb.iloc[:,:30]), vmin = -6, vmax= 0)"
   ]
  },
  {
   "cell_type": "code",
   "execution_count": 143,
   "metadata": {},
   "outputs": [
    {
     "data": {
      "text/plain": [
       "<matplotlib.axes._subplots.AxesSubplot at 0xd65bf8d50>"
      ]
     },
     "execution_count": 143,
     "metadata": {},
     "output_type": "execute_result"
    },
    {
     "data": {
      "image/png": "[encoded data removed]",
      "text/plain": [
       "<Figure size 432x288 with 2 Axes>"
      ]
     },
     "metadata": {
      "needs_background": "light"
     },
     "output_type": "display_data"
    }
   ],
   "source": [
    "sns.heatmap(combbbb.loc[:,targ_reg])"
   ]
  },
  {
   "cell_type": "code",
   "execution_count": 135,
   "metadata": {},
   "outputs": [
    {
     "ename": "TypeError",
     "evalue": "'(slice(None, None, None), [('ipsi', 'AId1'), ('ipsi', 'AId2/3'), ('ipsi', 'AId5'), ('ipsi', 'AId6a'), ('ipsi', 'AIv1'), ('ipsi', 'AIv2/3'), ('ipsi', 'AIv5'), ('ipsi', 'AIv6a'), ('ipsi', 'AIv6b'), ('ipsi', 'ORBvl1'), ('ipsi', 'ORBvl2/3'), ('ipsi', 'ORBvl5'), ('ipsi', 'ORBvl6a'), ('ipsi', 'ORBvl6b'), ('ipsi', 'TEa1'), ('ipsi', 'TEa2/3'), ('ipsi', 'TEa4'), ('ipsi', 'TEa5'), ('ipsi', 'TEa6a'), ('ipsi', 'TEa6b'), ('ipsi', 'BLAa'), ('ipsi', 'BLAp'), ('ipsi', 'BLAv'), ('ipsi', 'ECT1'), ('ipsi', 'ECT2/3'), ('ipsi', 'ECT5'), ('ipsi', 'ECT6a'), ('ipsi', 'ECT6b'), ('ipsi', 'CEAc'), ('ipsi', 'CEAl'), ('ipsi', 'CEAm')])' is an invalid key",
     "output_type": "error",
     "traceback": [
      "\u001b[0;31m---------------------------------------------------------------------------\u001b[0m",
      "\u001b[0;31mTypeError\u001b[0m                                 Traceback (most recent call last)",
      "\u001b[0;32m<ipython-input-135-f1fb1f9fcb7c>\u001b[0m in \u001b[0;36m<module>\u001b[0;34m\u001b[0m\n\u001b[0;32m----> 1\u001b[0;31m \u001b[0msns\u001b[0m\u001b[0;34m.\u001b[0m\u001b[0mheatmap\u001b[0m\u001b[0;34m(\u001b[0m\u001b[0;34m[\u001b[0m\u001b[0mmeans_Syt6\u001b[0m\u001b[0;34m.\u001b[0m\u001b[0mloc\u001b[0m\u001b[0;34m[\u001b[0m\u001b[0;34m:\u001b[0m\u001b[0;34m,\u001b[0m\u001b[0mtarg_reg\u001b[0m\u001b[0;34m]\u001b[0m\u001b[0;34m,\u001b[0m \u001b[0mmeans_ntsr1\u001b[0m\u001b[0;34m[\u001b[0m\u001b[0;34m:\u001b[0m\u001b[0;34m,\u001b[0m\u001b[0mtarg_reg\u001b[0m\u001b[0;34m]\u001b[0m\u001b[0;34m,\u001b[0m \u001b[0mmeans_wa\u001b[0m\u001b[0;34m[\u001b[0m\u001b[0;34m:\u001b[0m\u001b[0;34m,\u001b[0m\u001b[0mtarg_reg\u001b[0m\u001b[0;34m]\u001b[0m\u001b[0;34m]\u001b[0m\u001b[0;34m)\u001b[0m\u001b[0;34m\u001b[0m\u001b[0;34m\u001b[0m\u001b[0m\n\u001b[0m",
      "\u001b[0;32m~/anaconda3/envs/allen_010719_5/lib/python3.7/site-packages/pandas/core/frame.py\u001b[0m in \u001b[0;36m__getitem__\u001b[0;34m(self, key)\u001b[0m\n\u001b[1;32m   2797\u001b[0m         \u001b[0;32mif\u001b[0m \u001b[0mis_single_key\u001b[0m\u001b[0;34m:\u001b[0m\u001b[0;34m\u001b[0m\u001b[0;34m\u001b[0m\u001b[0m\n\u001b[1;32m   2798\u001b[0m             \u001b[0;32mif\u001b[0m \u001b[0mself\u001b[0m\u001b[0;34m.\u001b[0m\u001b[0mcolumns\u001b[0m\u001b[0;34m.\u001b[0m\u001b[0mnlevels\u001b[0m \u001b[0;34m>\u001b[0m \u001b[0;36m1\u001b[0m\u001b[0;34m:\u001b[0m\u001b[0;34m\u001b[0m\u001b[0;34m\u001b[0m\u001b[0m\n\u001b[0;32m-> 2799\u001b[0;31m                 \u001b[0;32mreturn\u001b[0m \u001b[0mself\u001b[0m\u001b[0;34m.\u001b[0m\u001b[0m_getitem_multilevel\u001b[0m\u001b[0;34m(\u001b[0m\u001b[0mkey\u001b[0m\u001b[0;34m)\u001b[0m\u001b[0;34m\u001b[0m\u001b[0;34m\u001b[0m\u001b[0m\n\u001b[0m\u001b[1;32m   2800\u001b[0m             \u001b[0mindexer\u001b[0m \u001b[0;34m=\u001b[0m \u001b[0mself\u001b[0m\u001b[0;34m.\u001b[0m\u001b[0mcolumns\u001b[0m\u001b[0;34m.\u001b[0m\u001b[0mget_loc\u001b[0m\u001b[0;34m(\u001b[0m\u001b[0mkey\u001b[0m\u001b[0;34m)\u001b[0m\u001b[0;34m\u001b[0m\u001b[0;34m\u001b[0m\u001b[0m\n\u001b[1;32m   2801\u001b[0m             \u001b[0;32mif\u001b[0m \u001b[0mis_integer\u001b[0m\u001b[0;34m(\u001b[0m\u001b[0mindexer\u001b[0m\u001b[0;34m)\u001b[0m\u001b[0;34m:\u001b[0m\u001b[0;34m\u001b[0m\u001b[0;34m\u001b[0m\u001b[0m\n",
      "\u001b[0;32m~/anaconda3/envs/allen_010719_5/lib/python3.7/site-packages/pandas/core/frame.py\u001b[0m in \u001b[0;36m_getitem_multilevel\u001b[0;34m(self, key)\u001b[0m\n\u001b[1;32m   2847\u001b[0m     \u001b[0;32mdef\u001b[0m \u001b[0m_getitem_multilevel\u001b[0m\u001b[0;34m(\u001b[0m\u001b[0mself\u001b[0m\u001b[0;34m,\u001b[0m \u001b[0mkey\u001b[0m\u001b[0;34m)\u001b[0m\u001b[0;34m:\u001b[0m\u001b[0;34m\u001b[0m\u001b[0;34m\u001b[0m\u001b[0m\n\u001b[1;32m   2848\u001b[0m         \u001b[0;31m# self.columns is a MultiIndex\u001b[0m\u001b[0;34m\u001b[0m\u001b[0;34m\u001b[0m\u001b[0;34m\u001b[0m\u001b[0m\n\u001b[0;32m-> 2849\u001b[0;31m         \u001b[0mloc\u001b[0m \u001b[0;34m=\u001b[0m \u001b[0mself\u001b[0m\u001b[0;34m.\u001b[0m\u001b[0mcolumns\u001b[0m\u001b[0;34m.\u001b[0m\u001b[0mget_loc\u001b[0m\u001b[0;34m(\u001b[0m\u001b[0mkey\u001b[0m\u001b[0;34m)\u001b[0m\u001b[0;34m\u001b[0m\u001b[0;34m\u001b[0m\u001b[0m\n\u001b[0m\u001b[1;32m   2850\u001b[0m         \u001b[0;32mif\u001b[0m \u001b[0misinstance\u001b[0m\u001b[0;34m(\u001b[0m\u001b[0mloc\u001b[0m\u001b[0;34m,\u001b[0m \u001b[0;34m(\u001b[0m\u001b[0mslice\u001b[0m\u001b[0;34m,\u001b[0m \u001b[0mSeries\u001b[0m\u001b[0;34m,\u001b[0m \u001b[0mnp\u001b[0m\u001b[0;34m.\u001b[0m\u001b[0mndarray\u001b[0m\u001b[0;34m,\u001b[0m \u001b[0mIndex\u001b[0m\u001b[0;34m)\u001b[0m\u001b[0;34m)\u001b[0m\u001b[0;34m:\u001b[0m\u001b[0;34m\u001b[0m\u001b[0;34m\u001b[0m\u001b[0m\n\u001b[1;32m   2851\u001b[0m             \u001b[0mnew_columns\u001b[0m \u001b[0;34m=\u001b[0m \u001b[0mself\u001b[0m\u001b[0;34m.\u001b[0m\u001b[0mcolumns\u001b[0m\u001b[0;34m[\u001b[0m\u001b[0mloc\u001b[0m\u001b[0;34m]\u001b[0m\u001b[0;34m\u001b[0m\u001b[0;34m\u001b[0m\u001b[0m\n",
      "\u001b[0;32m~/anaconda3/envs/allen_010719_5/lib/python3.7/site-packages/pandas/core/indexes/multi.py\u001b[0m in \u001b[0;36mget_loc\u001b[0;34m(self, key, method)\u001b[0m\n\u001b[1;32m   2670\u001b[0m \u001b[0;34m\u001b[0m\u001b[0m\n\u001b[1;32m   2671\u001b[0m         \u001b[0;32mif\u001b[0m \u001b[0mkeylen\u001b[0m \u001b[0;34m==\u001b[0m \u001b[0mself\u001b[0m\u001b[0;34m.\u001b[0m\u001b[0mnlevels\u001b[0m \u001b[0;32mand\u001b[0m \u001b[0mself\u001b[0m\u001b[0;34m.\u001b[0m\u001b[0mis_unique\u001b[0m\u001b[0;34m:\u001b[0m\u001b[0;34m\u001b[0m\u001b[0;34m\u001b[0m\u001b[0m\n\u001b[0;32m-> 2672\u001b[0;31m             \u001b[0;32mreturn\u001b[0m \u001b[0mself\u001b[0m\u001b[0;34m.\u001b[0m\u001b[0m_engine\u001b[0m\u001b[0;34m.\u001b[0m\u001b[0mget_loc\u001b[0m\u001b[0;34m(\u001b[0m\u001b[0mkey\u001b[0m\u001b[0;34m)\u001b[0m\u001b[0;34m\u001b[0m\u001b[0;34m\u001b[0m\u001b[0m\n\u001b[0m\u001b[1;32m   2673\u001b[0m \u001b[0;34m\u001b[0m\u001b[0m\n\u001b[1;32m   2674\u001b[0m         \u001b[0;31m# -- partial selection or non-unique index\u001b[0m\u001b[0;34m\u001b[0m\u001b[0;34m\u001b[0m\u001b[0;34m\u001b[0m\u001b[0m\n",
      "\u001b[0;32mpandas/_libs/index.pyx\u001b[0m in \u001b[0;36mpandas._libs.index.BaseMultiIndexCodesEngine.get_loc\u001b[0;34m()\u001b[0m\n",
      "\u001b[0;31mTypeError\u001b[0m: '(slice(None, None, None), [('ipsi', 'AId1'), ('ipsi', 'AId2/3'), ('ipsi', 'AId5'), ('ipsi', 'AId6a'), ('ipsi', 'AIv1'), ('ipsi', 'AIv2/3'), ('ipsi', 'AIv5'), ('ipsi', 'AIv6a'), ('ipsi', 'AIv6b'), ('ipsi', 'ORBvl1'), ('ipsi', 'ORBvl2/3'), ('ipsi', 'ORBvl5'), ('ipsi', 'ORBvl6a'), ('ipsi', 'ORBvl6b'), ('ipsi', 'TEa1'), ('ipsi', 'TEa2/3'), ('ipsi', 'TEa4'), ('ipsi', 'TEa5'), ('ipsi', 'TEa6a'), ('ipsi', 'TEa6b'), ('ipsi', 'BLAa'), ('ipsi', 'BLAp'), ('ipsi', 'BLAv'), ('ipsi', 'ECT1'), ('ipsi', 'ECT2/3'), ('ipsi', 'ECT5'), ('ipsi', 'ECT6a'), ('ipsi', 'ECT6b'), ('ipsi', 'CEAc'), ('ipsi', 'CEAl'), ('ipsi', 'CEAm')])' is an invalid key"
     ]
    }
   ],
   "source": [
    "sns.heatmap([means_Syt6.loc[:,targ_reg], means_ntsr1[:,targ_reg], means_wa[:,targ_reg]])"
   ]
  },
  {
   "cell_type": "code",
   "execution_count": null,
   "metadata": {
    "collapsed": true
   },
   "outputs": [],
   "source": []
  },
  {
   "cell_type": "code",
   "execution_count": null,
   "metadata": {
    "collapsed": true
   },
   "outputs": [],
   "source": []
  },
  {
   "cell_type": "code",
   "execution_count": 106,
   "metadata": {},
   "outputs": [
    {
     "data": {
      "text/plain": [
       "array([  5, 734])"
      ]
     },
     "execution_count": 106,
     "metadata": {},
     "output_type": "execute_result"
    }
   ],
   "source": [
    "np.intersect1d(ass,bss)"
   ]
  },
  {
   "cell_type": "code",
   "execution_count": 94,
   "metadata": {},
   "outputs": [
    {
     "data": {
      "text/plain": [
       "<matplotlib.axes._subplots.AxesSubplot at 0xd653e3550>"
      ]
     },
     "execution_count": 94,
     "metadata": {},
     "output_type": "execute_result"
    },
    {
     "data": {
      "image/png": "[encoded data removed]",
      "text/plain": [
       "<Figure size 432x288 with 2 Axes>"
      ]
     },
     "metadata": {
      "needs_background": "light"
     },
     "output_type": "display_data"
    }
   ],
   "source": [
    "means_other = pd.DataFrame(np.expand_dims(connectivity_data.structure_datas[315].reg_proj_norm[[153]].mean(axis = 0)[reorder],0), index=rnames[8:9],columns = cnam_multi)\n",
    "sns.heatmap(means_other.loc[:,targ_reg])"
   ]
  },
  {
   "cell_type": "code",
   "execution_count": null,
   "metadata": {
    "collapsed": true
   },
   "outputs": [],
   "source": []
  },
  {
   "cell_type": "code",
   "execution_count": 71,
   "metadata": {},
   "outputs": [
    {
     "data": {
      "text/plain": [
       "array(['Syt6-Cre_KI148'], dtype=object)"
      ]
     },
     "execution_count": 71,
     "metadata": {},
     "output_type": "execute_result"
    }
   ],
   "source": [
    "connectivity_data.creline[315][leaf_ind[0][[1]]]"
   ]
  },
  {
   "cell_type": "code",
   "execution_count": 42,
   "metadata": {},
   "outputs": [],
   "source": [
    "targ_reg = [('ipsi',      'AId1'),\n",
    "('ipsi',    'AId2/3'),\n",
    "('ipsi',      'AId5'),\n",
    "('ipsi',     'AId6a'),\n",
    "('ipsi',      'AIv1'),\n",
    "('ipsi',    'AIv2/3'),\n",
    "('ipsi',      'AIv5'),\n",
    "('ipsi',     'AIv6a'),\n",
    "('ipsi',     'AIv6b'),\n",
    "('ipsi',    'ORBvl1'),\n",
    "('ipsi',  'ORBvl2/3'),\n",
    "('ipsi',    'ORBvl5'),\n",
    "('ipsi',   'ORBvl6a'),\n",
    "('ipsi',   'ORBvl6b'),\n",
    "('ipsi',     'TEa1'),\n",
    "('ipsi',   'TEa2/3'),\n",
    "('ipsi',     'TEa4'),\n",
    "('ipsi',     'TEa5'),\n",
    "('ipsi',    'TEa6a'),\n",
    "('ipsi',    'TEa6b'),\n",
    "('ipsi',     'BLAa'),\n",
    "('ipsi',     'BLAp'),\n",
    "('ipsi',     'BLAv'),\n",
    "('ipsi',     'ECT1'),\n",
    "('ipsi',   'ECT2/3'),\n",
    "('ipsi',     'ECT5'),\n",
    "('ipsi',    'ECT6a'),\n",
    "('ipsi',    'ECT6b'),\n",
    "('ipsi',   'CEAc'),\n",
    "('ipsi',   'CEAl'),\n",
    "('ipsi',   'CEAm')]"
   ]
  },
  {
   "cell_type": "code",
   "execution_count": null,
   "metadata": {
    "collapsed": true
   },
   "outputs": [],
   "source": []
  },
  {
   "cell_type": "code",
   "execution_count": null,
   "metadata": {
    "collapsed": true
   },
   "outputs": [],
   "source": []
  },
  {
   "cell_type": "code",
   "execution_count": null,
   "metadata": {
    "collapsed": true
   },
   "outputs": [],
   "source": []
  },
  {
   "cell_type": "code",
   "execution_count": 9,
   "metadata": {},
   "outputs": [
    {
     "name": "stdout",
     "output_type": "stream",
     "text": [
      "0 C57BL/6J\n",
      "0 844.0\n"
     ]
    }
   ],
   "source": [
    "    c  = 0\n",
    "    print(c, eval_cre_list[c])\n",
    "    conn_v3 = get_connectivity_matrices3(connectivity_data, surfaces, experiment_sids_surfaces,experiment_sids_nws,model_ordering[8:9], source_ordering_surface[8:9], source_ordering_nw[8:9], source_ordering[8:9], target_ordering, [eval_cre_list[c]])\n",
    "    connectivity_matrices = pd.DataFrame(conn_v3[0], columns = cnam_multi, index=rnames[8:9])\n",
    "    #connectivity_matrices.to_csv(workingdirectory + '/paper/connectivities/el_sumsurf_leafsmth_leafleaf_' + str(eval_cre_names[c]) + '0428.csv')\n"
   ]
  },
  {
   "cell_type": "code",
   "execution_count": 26,
   "metadata": {},
   "outputs": [
    {
     "data": {
      "text/plain": [
       "first   second\n",
       "ipsi    FRP1      4.628515e-09\n",
       "        FRP2/3    2.660361e-06\n",
       "        FRP5      1.223329e-05\n",
       "        FRP6a     1.997782e-05\n",
       "        FRP6b     3.091387e-06\n",
       "                      ...     \n",
       "contra  FL        2.117784e-05\n",
       "        FN        1.139790e-07\n",
       "        IP        7.818304e-07\n",
       "        DN        0.000000e+00\n",
       "        VeCB      7.671334e-07\n",
       "Name: MOp6a, Length: 1123, dtype: float64"
      ]
     },
     "execution_count": 26,
     "metadata": {},
     "output_type": "execute_result"
    }
   ],
   "source": [
    "connectivity_matrices.loc['MOp6a']"
   ]
  },
  {
   "cell_type": "code",
   "execution_count": null,
   "metadata": {
    "collapsed": true
   },
   "outputs": [],
   "source": []
  },
  {
   "cell_type": "code",
   "execution_count": 22,
   "metadata": {},
   "outputs": [
    {
     "data": {
      "text/plain": [
       "array(['Rbp4-Cre_KL100', 'Nr5a1-Cre', 'Sim1-Cre_KJ18', ..., 'C57BL/6J',\n",
       "       'Tlx3-Cre_PL56', 'C57BL/6J'], dtype=object)"
      ]
     },
     "execution_count": 22,
     "metadata": {},
     "output_type": "execute_result"
    }
   ],
   "source": [
    "connectivity_data.creline[315]"
   ]
  },
  {
   "cell_type": "code",
   "execution_count": 23,
   "metadata": {},
   "outputs": [],
   "source": [
    "sum_ind = np.where(experiment_sids_surfaces[315] == 985)\n",
    "leaf_ind = np.where(experiment_sids_nws[315]  == 844)\n"
   ]
  },
  {
   "cell_type": "code",
   "execution_count": 35,
   "metadata": {},
   "outputs": [
    {
     "data": {
      "text/plain": [
       "array([4.27947520e-05, 2.99017514e-06, 1.58263648e-05, ...,\n",
       "       1.01331261e-07, 1.64050952e-06, 6.37426447e-06])"
      ]
     },
     "execution_count": 35,
     "metadata": {},
     "output_type": "execute_result"
    }
   ],
   "source": []
  },
  {
   "cell_type": "code",
   "execution_count": 27,
   "metadata": {},
   "outputs": [
    {
     "data": {
      "text/plain": [
       "array(['Ntsr1-Cre_GN220', 'Syt6-Cre_KI148', 'Ntsr1-Cre_GN220'],\n",
       "      dtype=object)"
      ]
     },
     "execution_count": 27,
     "metadata": {},
     "output_type": "execute_result"
    }
   ],
   "source": [
    "connectivity_data.creline[315][leaf_ind]"
   ]
  },
  {
   "cell_type": "code",
   "execution_count": 24,
   "metadata": {},
   "outputs": [
    {
     "data": {
      "text/plain": [
       "array(['Ntsr1-Cre_GN220', 'C57BL/6J', 'Syt6-Cre_KI148', 'Nr5a1-Cre',\n",
       "       'Rbp4-Cre_KL100', 'Crh-IRES-Cre_BL', 'A930038C07Rik-Tg1-Cre',\n",
       "       'Cux2-IRES-Cre', 'C57BL/6J', 'Chrna2-Cre_OE25', 'C57BL/6J',\n",
       "       'C57BL/6J', 'Scnn1a-Tg3-Cre', 'C57BL/6J', 'C57BL/6J', 'C57BL/6J',\n",
       "       'Tlx3-Cre_PL56', 'Npr3-IRES2-Cre', 'Efr3a-Cre_NO108',\n",
       "       'Sim1-Cre_KJ18', 'Ntsr1-Cre_GN220', 'Htr2a-Cre_KM207',\n",
       "       'Syt6-Cre_KI148', 'Calb1-T2A-dgCre', 'Sim1-Cre_KJ18',\n",
       "       'Syt6-Cre_KI148', 'Sim1-Cre_KJ18', 'C57BL/6J',\n",
       "       'A930038C07Rik-Tg1-Cre', 'Chrna2-Cre_OE25'], dtype=object)"
      ]
     },
     "execution_count": 24,
     "metadata": {},
     "output_type": "execute_result"
    }
   ],
   "source": [
    "connectivity_data.creline[315][sum_ind]"
   ]
  },
  {
   "cell_type": "code",
   "execution_count": 12,
   "metadata": {
    "collapsed": true
   },
   "outputs": [],
   "source": [
    "def fix_pdcsv(csv):\n",
    "    \n",
    "    #wt_conn = pd.read_csv('/Users/samsonkoelle/wt_leafsmooth_leafsurface_sumtarget.csv',  header=[0,1])\n",
    "    csv_rownames = np.asarray(csv.iloc[:,0])\n",
    "    csv = csv.iloc[:,1:]\n",
    "    csv.index = csv_rownames\n",
    "    return(csv)"
   ]
  },
  {
   "cell_type": "code",
   "execution_count": 13,
   "metadata": {},
   "outputs": [],
   "source": [
    "wt_conn = pd.read_csv('/Users/samsonkoelle/alleninstitute/sambranch/mouse_connectivity_models/paper/connectivities/el_sumsurf_leafsmth_leafleaf_C57BL6J0428.csv',   header=[0, 1])\n",
    "wt_conn = fix_pdcsv(wt_conn)\n"
   ]
  },
  {
   "cell_type": "code",
   "execution_count": 32,
   "metadata": {},
   "outputs": [
    {
     "data": {
      "text/plain": [
       "(564, 1123)"
      ]
     },
     "execution_count": 32,
     "metadata": {},
     "output_type": "execute_result"
    }
   ],
   "source": [
    "wt_conn.shape"
   ]
  },
  {
   "cell_type": "code",
   "execution_count": 14,
   "metadata": {},
   "outputs": [
    {
     "data": {
      "text/plain": [
       "ipsi    FRP1      4.628515e-09\n",
       "        FRP2/3    2.660361e-06\n",
       "        FRP5      1.223329e-05\n",
       "        FRP6a     1.997782e-05\n",
       "        FRP6b     3.091387e-06\n",
       "                      ...     \n",
       "contra  FL        2.117784e-05\n",
       "        FN        1.139790e-07\n",
       "        IP        7.818304e-07\n",
       "        DN        0.000000e+00\n",
       "        VeCB      7.671334e-07\n",
       "Name: MOp6a, Length: 1123, dtype: float64"
      ]
     },
     "execution_count": 14,
     "metadata": {},
     "output_type": "execute_result"
    }
   ],
   "source": [
    "wt_conn.loc['MOp6a']"
   ]
  },
  {
   "cell_type": "code",
   "execution_count": null,
   "metadata": {
    "collapsed": true
   },
   "outputs": [],
   "source": [
    "\n",
    "for c in range(len(eval_cre_list)):\n",
    "    print(c, eval_cre_list[c])\n",
    "    conn_v3 = get_connectivity_matrices3(connectivity_data, surfaces, experiment_sids_surfaces,experiment_sids_nws, model_ordering, source_ordering_surface, source_ordering_nw, source_ordering, target_ordering, [eval_cre_list[c]])\n",
    "    connectivity_matrices = pd.DataFrame(conn_v3[0], columns = cnam_multi, index=rnames)\n",
    "    connectivity_matrices.to_csv(workingdirectory + '/paper/connectivities/el_sumsurf_leafsmth_leafleaf_' + str(eval_cre_names[c]) + '0428.csv')\n",
    "    \n"
   ]
  },
  {
   "cell_type": "code",
   "execution_count": null,
   "metadata": {
    "collapsed": true
   },
   "outputs": [],
   "source": []
  }
 ],
 "metadata": {
  "kernelspec": {
   "display_name": "allen_010719_5",
   "language": "python",
   "name": "allen_010719_5"
  },
  "language_info": {
   "codemirror_mode": {
    "name": "ipython",
    "version": 3
   },
   "file_extension": ".py",
   "mimetype": "text/x-python",
   "name": "python",
   "nbconvert_exporter": "python",
   "pygments_lexer": "ipython3",
   "version": "3.7.6"
  }
 },
 "nbformat": 4,
 "nbformat_minor": 2
}

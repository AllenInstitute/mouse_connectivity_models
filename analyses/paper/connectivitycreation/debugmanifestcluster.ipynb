{
 "cells": [
  {
   "cell_type": "code",
   "execution_count": 4,
   "metadata": {},
   "outputs": [
    {
     "name": "stderr",
     "output_type": "stream",
     "text": [
      "/Users/samsonkoelle/anaconda3/envs/allen_010719_5/lib/python3.7/site-packages/sklearn/utils/deprecation.py:144: FutureWarning: The sklearn.linear_model.base module is  deprecated in version 0.22 and will be removed in version 0.24. The corresponding classes / functions should instead be imported from sklearn.linear_model. Anything that cannot be imported from sklearn.linear_model is now part of the private API.\n",
      "  warnings.warn(message, FutureWarning)\n",
      "/Users/samsonkoelle/anaconda3/envs/allen_010719_5/lib/python3.7/site-packages/sklearn/utils/deprecation.py:144: FutureWarning: The sklearn.metrics.scorer module is  deprecated in version 0.22 and will be removed in version 0.24. The corresponding classes / functions should instead be imported from sklearn.metrics. Anything that cannot be imported from sklearn.metrics is now part of the private API.\n",
      "  warnings.warn(message, FutureWarning)\n"
     ]
    },
    {
     "name": "stdout",
     "output_type": "stream",
     "text": [
      "1751\n",
      "2992\n"
     ]
    }
   ],
   "source": [
    "\n",
    "#this works on the cluster\n",
    "import allensdk.core.json_utilities as ju\n",
    "from allensdk.core.mouse_connectivity_cache import MouseConnectivityCache\n",
    "import os\n",
    "from allensdk.api.cache import Cache\n",
    "from allensdk.api.queries.mouse_connectivity_api import MouseConnectivityApi\n",
    "from mcmodels.core import VoxelModelCache\n",
    "\n",
    "#read data\n",
    "MCA = MouseConnectivityApi(None)\n",
    "file_name = '/Users/samsonkoelle/alleninstitute/mcm_2020/mcm_updated/experiments_011520.json'\n",
    "experiments = MCA.get_experiments_api(path=file_name,\n",
    "                                           strategy='lazy',\n",
    "                                           **Cache.cache_json())\n",
    "\n",
    "print(len(experiments))\n",
    "exp_query = MCA.model_query('ApiConnectivity', num_rows='all')\n",
    "print(len(exp_query))"
   ]
  },
  {
   "cell_type": "code",
   "execution_count": 6,
   "metadata": {},
   "outputs": [
    {
     "name": "stdout",
     "output_type": "stream",
     "text": [
      "1751\n"
     ]
    }
   ],
   "source": [
    "manifest_file = \"/Users/samsonkoelle/alleninstitute/mcm_2020/mcm_updated/new_manifest.json\"\n",
    "cache = VoxelModelCache(manifest_file=manifest_file)\n",
    "experiments = cache.api.get_experiments_api(path=file_name,\n",
    "                                           strategy='lazy',\n",
    "                                           **Cache.cache_json())\n",
    "print(len(experiments))"
   ]
  },
  {
   "cell_type": "code",
   "execution_count": null,
   "metadata": {
    "collapsed": true
   },
   "outputs": [],
   "source": [
    "import allensdk.core.json_utilities as ju\n",
    "from allensdk.core.mouse_connectivity_cache import MouseConnectivityCache\n",
    "import os\n",
    "from allensdk.api.cache import Cache\n",
    "from allensdk.api.queries.mouse_connectivity_api import MouseConnectivityApi\n",
    "\n",
    "#read data\n",
    "MCA = MouseConnectivityApi(None)\n",
    "file_name = '/homes/sjkoelle/mouse_connectivity_models/experiments_011520.json'\n",
    "experiments = MCA.get_experiments_api(path=file_name,\n",
    "                                           strategy='lazy',\n",
    "                                           **Cache.cache_json())\n",
    "\n",
    "print(len(experiments))\n",
    "exp_query = MCA.model_query('ApiConnectivity', num_rows='all')\n",
    "print(len(exp_query))"
   ]
  },
  {
   "cell_type": "code",
   "execution_count": null,
   "metadata": {
    "collapsed": true
   },
   "outputs": [],
   "source": [
    "from mcmodels.core import VoxelModelCache\n",
    "\n",
    "manifest_file = \"/homes/sjkoelle/mouse_connectivity_models/new_manifest.json\"\n",
    "cache = VoxelModelCache(manifest_file=manifest_file)\n",
    "experiments = cache.api.get_experiments_api(path=file_name,\n",
    "                                           strategy='lazy',\n",
    "                                           **Cache.cache_json())\n",
    "print(len(experiments))"
   ]
  },
  {
   "cell_type": "code",
   "execution_count": 7,
   "metadata": {
    "collapsed": true
   },
   "outputs": [],
   "source": []
  },
  {
   "cell_type": "code",
   "execution_count": 8,
   "metadata": {
    "collapsed": true
   },
   "outputs": [],
   "source": [
    "from allensdk.core.mouse_connectivity_cache import MouseConnectivityCache\n",
    "manifest_file = \"/homes/sjkoelle/mouse_connectivity_models/new_manifest.json\"\n",
    "MCC = MouseConnectivityCache(manifest_file=manifest_file)\n",
    "len(list(MCC.get_experiments(injection_structure_ids=[512])))"
   ]
  },
  {
   "cell_type": "code",
   "execution_count": 9,
   "metadata": {},
   "outputs": [
    {
     "data": {
      "text/plain": [
       "36"
      ]
     },
     "execution_count": 9,
     "metadata": {},
     "output_type": "execute_result"
    }
   ],
   "source": [
    "from allensdk.core.mouse_connectivity_cache import MouseConnectivityCache\n",
    "manifest_file = \"/homes/sjkoelle/mouse_connectivity_models/data/raw_data/new_manifest.json\"\n",
    "MCC = MouseConnectivityCache(manifest_file=manifest_file)\n",
    "len(list(MCC.get_experiments(injection_structure_ids=[512])))"
   ]
  },
  {
   "cell_type": "code",
   "execution_count": null,
   "metadata": {
    "collapsed": true
   },
   "outputs": [],
   "source": [
    "from allensdk.core.mouse_connectivity_cache import MouseConnectivityCache\n",
    "MCC = MouseConnectivityCache(manifest_file=manifest_file)\n",
    "len(list(MCC.get_experiments(injection_structure_ids=[512])))"
   ]
  },
  {
   "cell_type": "code",
   "execution_count": null,
   "metadata": {
    "collapsed": true
   },
   "outputs": [],
   "source": []
  },
  {
   "cell_type": "code",
   "execution_count": null,
   "metadata": {
    "collapsed": true
   },
   "outputs": [],
   "source": [
    "import allensdk.core.json_utilities as ju\n",
    "asdf = ju.read('/homes/sjkoelle/mouse_connectivity_models/data/raw_data/experiments_011520.json')"
   ]
  },
  {
   "cell_type": "code",
   "execution_count": null,
   "metadata": {
    "collapsed": true
   },
   "outputs": [],
   "source": [
    "experiments_011520.json"
   ]
  },
  {
   "cell_type": "code",
   "execution_count": null,
   "metadata": {
    "collapsed": true
   },
   "outputs": [],
   "source": []
  },
  {
   "cell_type": "code",
   "execution_count": 6,
   "metadata": {},
   "outputs": [
    {
     "name": "stdout",
     "output_type": "stream",
     "text": [
      "1751\n",
      "2992\n"
     ]
    }
   ],
   "source": [
    "import allensdk.core.json_utilities as ju\n",
    "from allensdk.core.mouse_connectivity_cache import MouseConnectivityCache\n",
    "import os\n",
    "from allensdk.api.cache import Cache\n",
    "from allensdk.api.queries.mouse_connectivity_api import MouseConnectivityApi\n",
    "\n",
    "#read data\n",
    "TOP_DIR = '/Users/samsonkoelle/alleninstitute/mcm_2020/mcm_updated/'\n",
    "INPUT_JSON = os.path.join(TOP_DIR, 'input_011520.json')\n",
    "EXPERIMENTS_EXCLUDE_JSON = os.path.join(TOP_DIR, 'experiments_exclude.json')\n",
    "input_data = ju.read(INPUT_JSON)\n",
    "experiments_exclude = ju.read(EXPERIMENTS_EXCLUDE_JSON)\n",
    "manifest_file = input_data.get('manifest_file')\n",
    "manifest_file = os.path.join(TOP_DIR, manifest_file)\n",
    "\n",
    "MCA = MouseConnectivityApi(None)\n",
    "file_name = '/Users/samsonkoelle/alleninstitute/mcm_2020/mcm_updated/experiments_011520.json'\n",
    "experiments = MCA.get_experiments_api(path=file_name,\n",
    "                                           strategy='lazy',\n",
    "                                           **Cache.cache_json())\n",
    "\n",
    "print(len(experiments))\n",
    "exp_query = MCA.model_query('ApiConnectivity', num_rows='all')\n",
    "print(len(exp_query))"
   ]
  },
  {
   "cell_type": "code",
   "execution_count": null,
   "metadata": {
    "collapsed": true
   },
   "outputs": [],
   "source": []
  },
  {
   "cell_type": "code",
   "execution_count": null,
   "metadata": {
    "collapsed": true
   },
   "outputs": [],
   "source": []
  },
  {
   "cell_type": "code",
   "execution_count": 70,
   "metadata": {},
   "outputs": [
    {
     "data": {
      "text/plain": [
       "'/Users/samsonkoelle/alleninstitute/mcm_2020/mcm_updated/experiments_011520.json'"
      ]
     },
     "execution_count": 70,
     "metadata": {},
     "output_type": "execute_result"
    }
   ],
   "source": [
    "file_name"
   ]
  },
  {
   "cell_type": "code",
   "execution_count": 23,
   "metadata": {
    "collapsed": true
   },
   "outputs": [],
   "source": [
    "from allensdk.core.mouse_connectivity_cache import MouseConnectivityCache"
   ]
  },
  {
   "cell_type": "code",
   "execution_count": 4,
   "metadata": {
    "collapsed": true
   },
   "outputs": [],
   "source": [
    "MCC = MouseConnectivityCache(manifest_file=manifest_file)"
   ]
  },
  {
   "cell_type": "code",
   "execution_count": 5,
   "metadata": {},
   "outputs": [
    {
     "data": {
      "text/plain": [
       "36"
      ]
     },
     "execution_count": 5,
     "metadata": {},
     "output_type": "execute_result"
    }
   ],
   "source": [
    "len(list(MCC.get_experiments(injection_structure_ids=[512])))"
   ]
  },
  {
   "cell_type": "code",
   "execution_count": 6,
   "metadata": {
    "collapsed": true
   },
   "outputs": [],
   "source": [
    "mf = ju.read(manifest_file)"
   ]
  },
  {
   "cell_type": "code",
   "execution_count": 9,
   "metadata": {},
   "outputs": [
    {
     "data": {
      "text/plain": [
       "25"
      ]
     },
     "execution_count": 9,
     "metadata": {},
     "output_type": "execute_result"
    }
   ],
   "source": [
    "len(list(mf['manifest']))"
   ]
  },
  {
   "cell_type": "code",
   "execution_count": 17,
   "metadata": {},
   "outputs": [
    {
     "data": {
      "text/plain": [
       "{'key': 'EXPERIMENTS',\n",
       " 'type': 'file',\n",
       " 'spec': 'experiments_011520.json',\n",
       " 'parent_key': 'BASEDIR'}"
      ]
     },
     "execution_count": 17,
     "metadata": {},
     "output_type": "execute_result"
    }
   ],
   "source": [
    "mf['manifest'][8]"
   ]
  },
  {
   "cell_type": "code",
   "execution_count": 18,
   "metadata": {
    "collapsed": true
   },
   "outputs": [],
   "source": [
    "exps = ju.read('experiments_011520.json') "
   ]
  },
  {
   "cell_type": "code",
   "execution_count": 19,
   "metadata": {},
   "outputs": [
    {
     "data": {
      "text/plain": [
       "1751"
      ]
     },
     "execution_count": 19,
     "metadata": {},
     "output_type": "execute_result"
    }
   ],
   "source": [
    "len(exps)"
   ]
  },
  {
   "cell_type": "code",
   "execution_count": 33,
   "metadata": {
    "collapsed": true
   },
   "outputs": [],
   "source": []
  },
  {
   "cell_type": "code",
   "execution_count": 30,
   "metadata": {},
   "outputs": [],
   "source": [
    "file_name = MCC.get_cache_path(None, MCC.EXPERIMENTS_KEY)"
   ]
  },
  {
   "cell_type": "code",
   "execution_count": 68,
   "metadata": {},
   "outputs": [
    {
     "data": {
      "text/plain": [
       "'/Users/samsonkoelle/alleninstitute/mcm_2020/mcm_updated/experiments_011520.json'"
      ]
     },
     "execution_count": 68,
     "metadata": {},
     "output_type": "execute_result"
    }
   ],
   "source": [
    "file_name"
   ]
  },
  {
   "cell_type": "code",
   "execution_count": 34,
   "metadata": {},
   "outputs": [],
   "source": [
    "experiments = MCC.api.get_experiments_api(path=file_name,\n",
    "                                           strategy='lazy',\n",
    "                                           **Cache.cache_json())"
   ]
  },
  {
   "cell_type": "code",
   "execution_count": 45,
   "metadata": {
    "collapsed": true
   },
   "outputs": [],
   "source": []
  },
  {
   "cell_type": "code",
   "execution_count": 43,
   "metadata": {
    "collapsed": true
   },
   "outputs": [],
   "source": [
    "base_uri = None"
   ]
  },
  {
   "cell_type": "code",
   "execution_count": 47,
   "metadata": {},
   "outputs": [],
   "source": []
  },
  {
   "cell_type": "code",
   "execution_count": 55,
   "metadata": {
    "collapsed": true
   },
   "outputs": [],
   "source": []
  },
  {
   "cell_type": "code",
   "execution_count": null,
   "metadata": {
    "collapsed": true
   },
   "outputs": [],
   "source": []
  },
  {
   "cell_type": "code",
   "execution_count": 56,
   "metadata": {},
   "outputs": [
    {
     "data": {
      "text/plain": [
       "1751"
      ]
     },
     "execution_count": 56,
     "metadata": {},
     "output_type": "execute_result"
    }
   ],
   "source": [
    "len(experiments)"
   ]
  },
  {
   "cell_type": "code",
   "execution_count": 64,
   "metadata": {
    "collapsed": true
   },
   "outputs": [],
   "source": []
  },
  {
   "cell_type": "code",
   "execution_count": 67,
   "metadata": {},
   "outputs": [
    {
     "data": {
      "text/plain": [
       "allensdk.api.cache.Cache"
      ]
     },
     "execution_count": 67,
     "metadata": {},
     "output_type": "execute_result"
    }
   ],
   "source": [
    "Cache"
   ]
  },
  {
   "cell_type": "code",
   "execution_count": 63,
   "metadata": {
    "collapsed": true
   },
   "outputs": [],
   "source": [
    "experiments"
   ]
  },
  {
   "cell_type": "code",
   "execution_count": 40,
   "metadata": {},
   "outputs": [],
   "source": [
    "rd = Cache.cache_json()['reader']"
   ]
  },
  {
   "cell_type": "code",
   "execution_count": 53,
   "metadata": {},
   "outputs": [],
   "source": []
  },
  {
   "cell_type": "code",
   "execution_count": 54,
   "metadata": {},
   "outputs": [
    {
     "data": {
      "text/plain": [
       "2992"
      ]
     },
     "execution_count": 54,
     "metadata": {},
     "output_type": "execute_result"
    }
   ],
   "source": []
  },
  {
   "cell_type": "code",
   "execution_count": 58,
   "metadata": {},
   "outputs": [
    {
     "name": "stdout",
     "output_type": "stream",
     "text": [
      "Help on method model_query in module allensdk.api.queries.rma_api:\n",
      "\n",
      "model_query(*args, **kwargs) method of allensdk.api.queries.mouse_connectivity_api.MouseConnectivityApi instance\n",
      "    Construct and execute a model stage of an RMA query string.\n",
      "    \n",
      "    Parameters\n",
      "    ----------\n",
      "    model : string\n",
      "        The top level data type\n",
      "    filters : dict\n",
      "        key, value comparisons applied to the top-level model to narrow the results.\n",
      "    criteria : string\n",
      "        raw RMA criteria clause to choose what object are returned\n",
      "    include : string\n",
      "        raw RMA include clause to return associated objects\n",
      "    only : list of strings, optional\n",
      "        to be joined into an rma::options only filter to limit what data is returned\n",
      "    except : list of strings, optional\n",
      "        to be joined into an rma::options except filter to limit what data is returned\n",
      "    excpt : list of strings, optional\n",
      "        synonym for except parameter to avoid a reserved word conflict.\n",
      "    tabular : list of string, optional\n",
      "        return columns as a tabular data structure rather than a nested tree.\n",
      "    count : boolean, optional\n",
      "        False to skip the extra database count query.\n",
      "    debug : string, optional\n",
      "        'true', 'false' or 'preview'\n",
      "    num_rows : int or string, optional\n",
      "        how many database rows are returned (may not correspond directly to JSON tree structure)\n",
      "    start_row : int or string, optional\n",
      "        which database row is start of returned data  (may not correspond directly to JSON tree structure)\n",
      "    \n",
      "    \n",
      "    Notes\n",
      "    -----\n",
      "    See `RMA Path Syntax <http://help.brain-map.org/display/api/RMA+Path+Syntax#RMAPathSyntax-DoubleColonforAxis>`_\n",
      "    for a brief overview of the normalized RMA syntax.\n",
      "    Normalized RMA syntax differs from the legacy syntax\n",
      "    used in much of the RMA documentation.\n",
      "    Using the &debug=true option with an RMA URL will include debugging information in the\n",
      "    response, including the normalized query.\n",
      "\n"
     ]
    }
   ],
   "source": [
    "help( MCA.model_query)"
   ]
  },
  {
   "cell_type": "code",
   "execution_count": 21,
   "metadata": {},
   "outputs": [
    {
     "data": {
      "text/plain": [
       "1751"
      ]
     },
     "execution_count": 21,
     "metadata": {},
     "output_type": "execute_result"
    }
   ],
   "source": [
    "len(list(MCC.get_experiments(injection_structure_ids=major_structure_ids)))"
   ]
  },
  {
   "cell_type": "code",
   "execution_count": 28,
   "metadata": {},
   "outputs": [
    {
     "name": "stdout",
     "output_type": "stream",
     "text": [
      "Help on module allensdk.core.mouse_connectivity_cache in allensdk.core:\n",
      "\n",
      "NAME\n",
      "    allensdk.core.mouse_connectivity_cache\n",
      "\n",
      "DESCRIPTION\n",
      "    # Allen Institute Software License - This software license is the 2-clause BSD\n",
      "    # license plus a third clause that prohibits redistribution for commercial\n",
      "    # purposes without further permission.\n",
      "    #\n",
      "    # Copyright 2015-2017. Allen Institute. All rights reserved.\n",
      "    #\n",
      "    # Redistribution and use in source and binary forms, with or without\n",
      "    # modification, are permitted provided that the following conditions are met:\n",
      "    #\n",
      "    # 1. Redistributions of source code must retain the above copyright notice,\n",
      "    # this list of conditions and the following disclaimer.\n",
      "    #\n",
      "    # 2. Redistributions in binary form must reproduce the above copyright notice,\n",
      "    # this list of conditions and the following disclaimer in the documentation\n",
      "    # and/or other materials provided with the distribution.\n",
      "    #\n",
      "    # 3. Redistributions for commercial purposes are not permitted without the\n",
      "    # Allen Institute's written permission.\n",
      "    # For purposes of this license, commercial purposes is the incorporation of the\n",
      "    # Allen Institute's software into anything for which you will charge fees or\n",
      "    # other compensation. Contact terms@alleninstitute.org for commercial licensing\n",
      "    # opportunities.\n",
      "    #\n",
      "    # THIS SOFTWARE IS PROVIDED BY THE COPYRIGHT HOLDERS AND CONTRIBUTORS \"AS IS\"\n",
      "    # AND ANY EXPRESS OR IMPLIED WARRANTIES, INCLUDING, BUT NOT LIMITED TO, THE\n",
      "    # IMPLIED WARRANTIES OF MERCHANTABILITY AND FITNESS FOR A PARTICULAR PURPOSE\n",
      "    # ARE DISCLAIMED. IN NO EVENT SHALL THE COPYRIGHT HOLDER OR CONTRIBUTORS BE\n",
      "    # LIABLE FOR ANY DIRECT, INDIRECT, INCIDENTAL, SPECIAL, EXEMPLARY, OR\n",
      "    # CONSEQUENTIAL DAMAGES (INCLUDING, BUT NOT LIMITED TO, PROCUREMENT OF\n",
      "    # SUBSTITUTE GOODS OR SERVICES; LOSS OF USE, DATA, OR PROFITS; OR BUSINESS\n",
      "    # INTERRUPTION) HOWEVER CAUSED AND ON ANY THEORY OF LIABILITY, WHETHER IN\n",
      "    # CONTRACT, STRICT LIABILITY, OR TORT (INCLUDING NEGLIGENCE OR OTHERWISE)\n",
      "    # ARISING IN ANY WAY OUT OF THE USE OF THIS SOFTWARE, EVEN IF ADVISED OF THE\n",
      "    # POSSIBILITY OF SUCH DAMAGE.\n",
      "    #\n",
      "\n",
      "CLASSES\n",
      "    allensdk.core.reference_space_cache.ReferenceSpaceCache(allensdk.api.cache.Cache)\n",
      "        MouseConnectivityCache\n",
      "    \n",
      "    class MouseConnectivityCache(allensdk.core.reference_space_cache.ReferenceSpaceCache)\n",
      "     |  MouseConnectivityCache(resolution=None, cache=True, manifest_file=None, ccf_version=None, base_uri=None, version=None)\n",
      "     |  \n",
      "     |  Cache class for storing and accessing data related to the adult mouse\n",
      "     |  Connectivity Atlas.  By default, this class will cache any downloaded\n",
      "     |  metadata or files in well known locations defined in a manifest file.\n",
      "     |  This behavior can be disabled.\n",
      "     |  \n",
      "     |  Attributes\n",
      "     |  ----------\n",
      "     |  \n",
      "     |  resolution: int\n",
      "     |      Resolution of grid data to be downloaded when accessing projection volume,\n",
      "     |      the annotation volume, and the annotation volume.  Must be one of (10, 25,\n",
      "     |      50, 100).  Default is 25.\n",
      "     |  \n",
      "     |  api: MouseConnectivityApi instance\n",
      "     |      Used internally to make API queries.\n",
      "     |  \n",
      "     |  Parameters\n",
      "     |  ----------\n",
      "     |  \n",
      "     |  resolution: int\n",
      "     |      Resolution of grid data to be downloaded when accessing projection volume,\n",
      "     |      the annotation volume, and the annotation volume.  Must be one of (10, 25,\n",
      "     |      50, 100).  Default is 25.\n",
      "     |  \n",
      "     |  ccf_version: string\n",
      "     |      Desired version of the Common Coordinate Framework.  This affects the annotation\n",
      "     |      volume (get_annotation_volume) and structure masks (get_structure_mask).\n",
      "     |      Must be one of (MouseConnectivityApi.CCF_2015, MouseConnectivityApi.CCF_2016).\n",
      "     |      Default: MouseConnectivityApi.CCF_2016\n",
      "     |  \n",
      "     |  cache: boolean\n",
      "     |      Whether the class should save results of API queries to locations specified\n",
      "     |      in the manifest file.  Queries for files (as opposed to metadata) must have a\n",
      "     |      file location.  If caching is disabled, those locations must be specified\n",
      "     |      in the function call (e.g. get_projection_density(file_name='file.nrrd')).\n",
      "     |  \n",
      "     |  manifest_file: string\n",
      "     |      File name of the manifest to be read.  Default is \"mouse_connectivity_manifest.json\".\n",
      "     |  \n",
      "     |  Method resolution order:\n",
      "     |      MouseConnectivityCache\n",
      "     |      allensdk.core.reference_space_cache.ReferenceSpaceCache\n",
      "     |      allensdk.api.cache.Cache\n",
      "     |      builtins.object\n",
      "     |  \n",
      "     |  Methods defined here:\n",
      "     |  \n",
      "     |  __init__(self, resolution=None, cache=True, manifest_file=None, ccf_version=None, base_uri=None, version=None)\n",
      "     |      Initialize self.  See help(type(self)) for accurate signature.\n",
      "     |  \n",
      "     |  add_manifest_paths(self, manifest_builder)\n",
      "     |      Construct a manifest for this Cache class and save it in a file.\n",
      "     |      \n",
      "     |      Parameters\n",
      "     |      ----------\n",
      "     |      \n",
      "     |      file_name: string\n",
      "     |          File location to save the manifest.\n",
      "     |  \n",
      "     |  filter_experiments(self, experiments, cre=None, injection_structure_ids=None)\n",
      "     |      Take a list of experiments and filter them by cre status and injection structure.\n",
      "     |      \n",
      "     |      Parameters\n",
      "     |      ----------\n",
      "     |      \n",
      "     |      cre: boolean or list\n",
      "     |          If True, return only cre-positive experiments.  If False, return only\n",
      "     |          cre-negative experiments.  If None, return all experients. If list, return\n",
      "     |          all experiments with cre line names in the supplied list. Default None.\n",
      "     |      \n",
      "     |      injection_structure_ids: list\n",
      "     |          Only return experiments that were injected in the structures provided here.\n",
      "     |          If None, return all experiments.  Default None.\n",
      "     |  \n",
      "     |  filter_structure_unionizes(self, unionizes, is_injection=None, structure_ids=None, include_descendants=False, hemisphere_ids=None)\n",
      "     |      Take a list of unionzes and return a subset of records filtered by injection status, structure, and\n",
      "     |      hemisphere.\n",
      "     |      \n",
      "     |      Parameters\n",
      "     |      ----------\n",
      "     |      is_injection: boolean\n",
      "     |          If True, only return unionize records that disregard non-injection pixels.\n",
      "     |          If False, only return unionize records that disregard injection pixels.\n",
      "     |          If None, return all records.  Default None.\n",
      "     |      \n",
      "     |      structure_ids: list\n",
      "     |          Only return unionize records for a set of structures.\n",
      "     |          If None, return all records. Default None.\n",
      "     |      \n",
      "     |      include_descendants: boolean\n",
      "     |          Include all descendant records for specified structures. Default False.\n",
      "     |      \n",
      "     |      hemisphere_ids: list\n",
      "     |          Only return unionize records that disregard pixels outside of a hemisphere.\n",
      "     |          or set of hemispheres. Left = 1, Right = 2, Both = 3.  If None, include all\n",
      "     |          records [1, 2, 3].  Default None.\n",
      "     |  \n",
      "     |  get_affine_parameters(self, section_data_set_id, direction='trv', file_name=None)\n",
      "     |      Extract the parameters of the 3D affine tranformation mapping this section data set's image-space stack to \n",
      "     |      CCF-space (or vice-versa).\n",
      "     |      \n",
      "     |      Parameters\n",
      "     |      ----------\n",
      "     |      section_data_set_id : int\n",
      "     |          download the parameters for this data set.\n",
      "     |      direction : str, optional\n",
      "     |          Valid options are:\n",
      "     |              trv : \"transform from reference to volume\". Maps CCF points to image space points. If you are \n",
      "     |                  resampling data into CCF, this is the direction you want.\n",
      "     |              tvr : \"transform from volume to reference\". Maps image space points to CCF points.\n",
      "     |      file_name : str\n",
      "     |          If provided, store the downloaded file here.\n",
      "     |      \n",
      "     |      Returns\n",
      "     |      -------\n",
      "     |      alignment : numpy.ndarray\n",
      "     |          4 X 3 matrix. In order to transform a point [X_1, X_2, X_3] run \n",
      "     |              np.dot([X_1, X_2, X_3, 1], alignment). In \n",
      "     |          to build a SimpleITK affine transform run:\n",
      "     |              transform = sitk.AffineTransform(3)\n",
      "     |              transform.SetParameters(alignment.flatten())\n",
      "     |  \n",
      "     |  get_data_mask(self, experiment_id, file_name=None)\n",
      "     |      Read a data mask volume for a single experiment. Download it\n",
      "     |      first if it doesn't exist.  Data mask is a binary mask of\n",
      "     |      voxels that have valid data.  Only use valid data in analysis!\n",
      "     |      \n",
      "     |      Parameters\n",
      "     |      ----------\n",
      "     |      \n",
      "     |      experiment_id: int\n",
      "     |          ID of the experiment to download/read.  This corresponds to\n",
      "     |          section_data_set_id in the API.\n",
      "     |      \n",
      "     |      file_name: string\n",
      "     |          File name to store the template volume.  If it already exists,\n",
      "     |          it will be read from this file.  If file_name is None, the\n",
      "     |          file_name will be pulled out of the manifest.  Default is None.\n",
      "     |  \n",
      "     |  get_deformation_field(self, section_data_set_id, header_path=None, voxel_path=None)\n",
      "     |      Extract the local alignment parameters for this dataset. This a 3D vector image (3 components) describing \n",
      "     |      a deformable local mapping from CCF voxels to this section data set's affine-aligned image stack.\n",
      "     |      \n",
      "     |      Parameters\n",
      "     |      ----------\n",
      "     |          section_data_set_id : int\n",
      "     |              Download the deformation field for this data set\n",
      "     |          header_path : str, optional\n",
      "     |              If supplied, the deformation field header will be downloaded to this path.\n",
      "     |          voxel_path : str, optiona\n",
      "     |              If supplied, the deformation field voxels will be downloaded to this path.\n",
      "     |      \n",
      "     |      Returns\n",
      "     |      -------\n",
      "     |          numpy.ndarray : \n",
      "     |              3D X 3 component vector array (origin 0, 0, 0; 25-micron isometric resolution) defining a \n",
      "     |              deformable transformation from CCF-space to affine-transformed image space.\n",
      "     |  \n",
      "     |  get_experiment_structure_unionizes(self, experiment_id, file_name=None, is_injection=None, structure_ids=None, include_descendants=False, hemisphere_ids=None)\n",
      "     |      Retrieve the structure unionize data for a specific experiment.  Filter by\n",
      "     |      structure, injection status, and hemisphere.\n",
      "     |      \n",
      "     |      Parameters\n",
      "     |      ----------\n",
      "     |      \n",
      "     |      experiment_id: int\n",
      "     |          ID of the experiment of interest.  Corresponds to section_data_set_id in the API.\n",
      "     |      \n",
      "     |      file_name: string\n",
      "     |          File name to save/read the experiments list.  If file_name is None,\n",
      "     |          the file_name will be pulled out of the manifest.  If caching\n",
      "     |          is disabled, no file will be saved. Default is None.\n",
      "     |      \n",
      "     |      is_injection: boolean\n",
      "     |          If True, only return unionize records that disregard non-injection pixels.\n",
      "     |          If False, only return unionize records that disregard injection pixels.\n",
      "     |          If None, return all records.  Default None.\n",
      "     |      \n",
      "     |      structure_ids: list\n",
      "     |          Only return unionize records for a specific set of structures.\n",
      "     |          If None, return all records. Default None.\n",
      "     |      \n",
      "     |      include_descendants: boolean\n",
      "     |          Include all descendant records for specified structures. Default False.\n",
      "     |      \n",
      "     |      hemisphere_ids: list\n",
      "     |          Only return unionize records that disregard pixels outside of a hemisphere.\n",
      "     |          or set of hemispheres. Left = 1, Right = 2, Both = 3.  If None, include all\n",
      "     |          records [1, 2, 3].  Default None.\n",
      "     |  \n",
      "     |  get_experiments(self, dataframe=False, file_name=None, cre=None, injection_structure_ids=None)\n",
      "     |      Read a list of experiments that match certain criteria.  If caching is enabled,\n",
      "     |      this will save the whole (unfiltered) list of experiments to a file.\n",
      "     |      \n",
      "     |      Parameters\n",
      "     |      ----------\n",
      "     |      \n",
      "     |      dataframe: boolean\n",
      "     |          Return the list of experiments as a Pandas DataFrame.  If False,\n",
      "     |          return a list of dictionaries.  Default False.\n",
      "     |      \n",
      "     |      file_name: string\n",
      "     |          File name to save/read the structures table.  If file_name is None,\n",
      "     |          the file_name will be pulled out of the manifest.  If caching\n",
      "     |          is disabled, no file will be saved. Default is None.\n",
      "     |      \n",
      "     |      cre: boolean or list\n",
      "     |          If True, return only cre-positive experiments.  If False, return only\n",
      "     |          cre-negative experiments.  If None, return all experients. If list, return\n",
      "     |          all experiments with cre line names in the supplied list. Default None.\n",
      "     |      \n",
      "     |      injection_structure_ids: list\n",
      "     |          Only return experiments that were injected in the structures provided here.\n",
      "     |          If None, return all experiments.  Default None.\n",
      "     |  \n",
      "     |  get_injection_density(self, experiment_id, file_name=None)\n",
      "     |      Read an injection density volume for a single experiment. Download it\n",
      "     |      first if it doesn't exist.  Injection density is the proportion of\n",
      "     |      projecting pixels in a grid voxel only including pixels that are\n",
      "     |      part of the injection site in [0,1].\n",
      "     |      \n",
      "     |      Parameters\n",
      "     |      ----------\n",
      "     |      \n",
      "     |      experiment_id: int\n",
      "     |          ID of the experiment to download/read.  This corresponds to\n",
      "     |          section_data_set_id in the API.\n",
      "     |      \n",
      "     |      file_name: string\n",
      "     |          File name to store the template volume.  If it already exists,\n",
      "     |          it will be read from this file.  If file_name is None, the\n",
      "     |          file_name will be pulled out of the manifest.  Default is None.\n",
      "     |  \n",
      "     |  get_injection_fraction(self, experiment_id, file_name=None)\n",
      "     |      Read an injection fraction volume for a single experiment. Download it\n",
      "     |      first if it doesn't exist.  Injection fraction is the proportion of\n",
      "     |      pixels in the injection site in a grid voxel in [0,1].\n",
      "     |      \n",
      "     |      Parameters\n",
      "     |      ----------\n",
      "     |      \n",
      "     |      experiment_id: int\n",
      "     |          ID of the experiment to download/read.  This corresponds to\n",
      "     |          section_data_set_id in the API.\n",
      "     |      \n",
      "     |      file_name: string\n",
      "     |          File name to store the template volume.  If it already exists,\n",
      "     |          it will be read from this file.  If file_name is None, the\n",
      "     |          file_name will be pulled out of the manifest.  Default is None.\n",
      "     |  \n",
      "     |  get_projection_density(self, experiment_id, file_name=None)\n",
      "     |      Read a projection density volume for a single experiment.  Download it\n",
      "     |      first if it doesn't exist.  Projection density is the proportion of\n",
      "     |      of projecting pixels in a grid voxel in [0,1].\n",
      "     |      \n",
      "     |      Parameters\n",
      "     |      ----------\n",
      "     |      \n",
      "     |      experiment_id: int\n",
      "     |          ID of the experiment to download/read.  This corresponds to\n",
      "     |          section_data_set_id in the API.\n",
      "     |      \n",
      "     |      file_name: string\n",
      "     |          File name to store the template volume.  If it already exists,\n",
      "     |          it will be read from this file.  If file_name is None, the\n",
      "     |          file_name will be pulled out of the manifest.  Default is None.\n",
      "     |  \n",
      "     |  get_projection_matrix(self, experiment_ids, projection_structure_ids=None, hemisphere_ids=None, parameter='projection_volume', dataframe=False)\n",
      "     |  \n",
      "     |  get_structure_unionizes(self, experiment_ids, is_injection=None, structure_ids=None, include_descendants=False, hemisphere_ids=None)\n",
      "     |      Get structure unionizes for a set of experiment IDs.  Filter the results by injection status,\n",
      "     |      structure, and hemisphere.\n",
      "     |      \n",
      "     |      Parameters\n",
      "     |      ----------\n",
      "     |      experiment_ids: list\n",
      "     |          List of experiment IDs.  Corresponds to section_data_set_id in the API.\n",
      "     |      \n",
      "     |      is_injection: boolean\n",
      "     |          If True, only return unionize records that disregard non-injection pixels.\n",
      "     |          If False, only return unionize records that disregard injection pixels.\n",
      "     |          If None, return all records.  Default None.\n",
      "     |      \n",
      "     |      structure_ids: list\n",
      "     |          Only return unionize records for a specific set of structures.\n",
      "     |          If None, return all records. Default None.\n",
      "     |      \n",
      "     |      include_descendants: boolean\n",
      "     |          Include all descendant records for specified structures. Default False.\n",
      "     |      \n",
      "     |      hemisphere_ids: list\n",
      "     |          Only return unionize records that disregard pixels outside of a hemisphere.\n",
      "     |          or set of hemispheres. Left = 1, Right = 2, Both = 3.  If None, include all\n",
      "     |          records [1, 2, 3].  Default None.\n",
      "     |  \n",
      "     |  rank_structures(self, experiment_ids, is_injection, structure_ids=None, hemisphere_ids=None, rank_on='normalized_projection_volume', n=5, threshold=0.01)\n",
      "     |      Produces one or more (per experiment) ranked lists of brain structures, using a specified data field.\n",
      "     |      \n",
      "     |      Parameters\n",
      "     |      ----------\n",
      "     |      experiment_ids : list of int\n",
      "     |          Obtain injection_structures for these experiments.\n",
      "     |      is_injection : boolean\n",
      "     |          Use data from only injection (or non-injection) unionizes.\n",
      "     |      structure_ids : list of int, optional\n",
      "     |          Consider only these structures. It is a good idea to make sure that these structures are not spatially\n",
      "     |          overlapping; otherwise your results will contain redundant information. Defaults to the summary\n",
      "     |          structures - a brain-wide list of nonoverlapping mid-level structures.\n",
      "     |      hemisphere_ids : list of int, optional\n",
      "     |          Consider only these hemispheres (1: left, 2: right, 3: both). Like with structures,\n",
      "     |          you might get redundant results if you select overlapping options. Defaults to [1, 2].\n",
      "     |      rank_on : str, optional\n",
      "     |          Rank unionize data using this field (descending). Defaults to normalized_projection_volume.\n",
      "     |      n : int, optional\n",
      "     |          Return only the top n structures.\n",
      "     |      threshold : float, optional\n",
      "     |          Consider only records whose data value - specified by the rank_on parameter - exceeds this value.\n",
      "     |      \n",
      "     |      Returns\n",
      "     |      -------\n",
      "     |      list :\n",
      "     |          Each element (1 for each input experiment) is a list of dictionaries. The dictionaries describe the top\n",
      "     |          injection structures in descending order. They are specified by their structure and hemisphere id fields and\n",
      "     |          additionally report the value specified by the rank_on parameter.\n",
      "     |  \n",
      "     |  ----------------------------------------------------------------------\n",
      "     |  Data descriptors defined here:\n",
      "     |  \n",
      "     |  default_structure_ids\n",
      "     |  \n",
      "     |  ----------------------------------------------------------------------\n",
      "     |  Data and other attributes defined here:\n",
      "     |  \n",
      "     |  ALIGNMENT3D_KEY = 'ALIGNMENT3D'\n",
      "     |  \n",
      "     |  DATA_MASK_KEY = 'DATA_MASK'\n",
      "     |  \n",
      "     |  DEFAULT_STRUCTURE_SET_IDS = (167587189,)\n",
      "     |  \n",
      "     |  DEFORMATION_FIELD_HEADER_KEY = 'DEFORMATION_FIELD_HEADER'\n",
      "     |  \n",
      "     |  DEFORMATION_FIELD_VOXEL_KEY = 'DEFORMATION_FIELD_VOXELS'\n",
      "     |  \n",
      "     |  DFMFLD_RESOLUTIONS = (25,)\n",
      "     |  \n",
      "     |  EXPERIMENTS_KEY = 'EXPERIMENTS'\n",
      "     |  \n",
      "     |  INJECTION_DENSITY_KEY = 'INJECTION_DENSITY'\n",
      "     |  \n",
      "     |  INJECTION_FRACTION_KEY = 'INJECTION_FRACTION'\n",
      "     |  \n",
      "     |  MANIFEST_VERSION = 1.3\n",
      "     |  \n",
      "     |  PROJECTION_DENSITY_KEY = 'PROJECTION_DENSITY'\n",
      "     |  \n",
      "     |  STRUCTURE_UNIONIZES_KEY = 'STRUCTURE_UNIONIZES'\n",
      "     |  \n",
      "     |  SUMMARY_STRUCTURE_SET_ID = 167587189\n",
      "     |  \n",
      "     |  ----------------------------------------------------------------------\n",
      "     |  Methods inherited from allensdk.core.reference_space_cache.ReferenceSpaceCache:\n",
      "     |  \n",
      "     |  get_annotation_volume(self, file_name=None)\n",
      "     |      Read the annotation volume.  Download it first if it doesn't exist.\n",
      "     |      \n",
      "     |      Parameters\n",
      "     |      ----------\n",
      "     |      \n",
      "     |      file_name: string\n",
      "     |          File name to store the annotation volume.  If it already exists,\n",
      "     |          it will be read from this file.  If file_name is None, the\n",
      "     |          file_name will be pulled out of the manifest.  Default is None.\n",
      "     |  \n",
      "     |  get_reference_space(self, structure_file_name=None, annotation_file_name=None)\n",
      "     |      Build a ReferenceSpace from this cache's annotation volume and \n",
      "     |      structure tree. The ReferenceSpace does operations that relate brain \n",
      "     |      structures to spatial domains.\n",
      "     |      \n",
      "     |      Parameters\n",
      "     |      ----------\n",
      "     |      \n",
      "     |      structure_file_name: string\n",
      "     |          File name to save/read the structures table.  If file_name is None,\n",
      "     |          the file_name will be pulled out of the manifest.  If caching\n",
      "     |          is disabled, no file will be saved. Default is None.\n",
      "     |          \n",
      "     |      annotation_file_name: string\n",
      "     |          File name to store the annotation volume.  If it already exists,\n",
      "     |          it will be read from this file.  If file_name is None, the\n",
      "     |          file_name will be pulled out of the manifest.  Default is None.\n",
      "     |  \n",
      "     |  get_structure_mask(self, structure_id, file_name=None, annotation_file_name=None)\n",
      "     |      Read a 3D numpy array shaped like the annotation volume that has non-zero values where\n",
      "     |      voxels belong to a particular structure.  This will take care of identifying substructures.\n",
      "     |      \n",
      "     |      Notes\n",
      "     |      -----\n",
      "     |      This method downloads structure masks from the Allen Institute. To make your own locally, see \n",
      "     |      ReferenceSpace.many_structure_masks.\n",
      "     |      \n",
      "     |      Parameters\n",
      "     |      ----------\n",
      "     |      \n",
      "     |      structure_id: int\n",
      "     |          ID of a structure.\n",
      "     |      \n",
      "     |      file_name: string\n",
      "     |          File name to store the structure mask.  If it already exists,\n",
      "     |          it will be read from this file.  If file_name is None, the\n",
      "     |          file_name will be pulled out of the manifest.  Default is None.\n",
      "     |      \n",
      "     |      annotation_file_name: string\n",
      "     |          File name to store the annotation volume.  If it already exists,\n",
      "     |          it will be read from this file.  If file_name is None, the\n",
      "     |          file_name will be pulled out of the manifest.  Default is None.\n",
      "     |  \n",
      "     |  get_structure_mesh(self, structure_id, file_name=None)\n",
      "     |      Obtain a 3D mesh specifying the surface of an annotated structure.\n",
      "     |      \n",
      "     |      Parameters\n",
      "     |      -----------\n",
      "     |      structure_id: int\n",
      "     |          ID of a structure.\n",
      "     |      file_name: string\n",
      "     |          File name to store the structure mesh.  If it already exists,\n",
      "     |          it will be read from this file.  If file_name is None, the\n",
      "     |          file_name will be pulled out of the manifest.  Default is None.\n",
      "     |      \n",
      "     |      Returns\n",
      "     |      -------\n",
      "     |      vertices : np.ndarray\n",
      "     |          Dimensions are (nSamples, nCoordinates=3). Locations in the reference space\n",
      "     |          of vertices\n",
      "     |      vertex_normals : np.ndarray\n",
      "     |          Dimensions are (nSample, nElements=3). Vectors normal to vertices.\n",
      "     |      face_vertices : np.ndarray\n",
      "     |          Dimensions are (sample, nVertices=3). References are given in indices \n",
      "     |          (0-indexed here, but 1-indexed in the file) of vertices that make up each face.\n",
      "     |      face_normals : np.ndarray\n",
      "     |          Dimensions are (sample, nNormals=3). References are given in indices \n",
      "     |          (0-indexed here, but 1-indexed in the file) of vertex normals that make up each face.\n",
      "     |      \n",
      "     |      Notes\n",
      "     |      -----\n",
      "     |      These meshes are meant for 3D visualization and as such have been smoothed. \n",
      "     |      If you are interested in performing quantative analyses, we recommend that you \n",
      "     |      use the structure masks instead.\n",
      "     |  \n",
      "     |  get_structure_tree(self, file_name=None, structure_graph_id=1)\n",
      "     |      Read the list of adult mouse structures and return an StructureTree \n",
      "     |      instance.\n",
      "     |      \n",
      "     |      Parameters\n",
      "     |      ----------\n",
      "     |      \n",
      "     |      file_name: string\n",
      "     |          File name to save/read the structures table.  If file_name is None,\n",
      "     |          the file_name will be pulled out of the manifest.  If caching\n",
      "     |          is disabled, no file will be saved. Default is None.\n",
      "     |      structure_graph_id: int\n",
      "     |          Build a tree using structure only from the identified structure graph.\n",
      "     |  \n",
      "     |  get_template_volume(self, file_name=None)\n",
      "     |      Read the template volume.  Download it first if it doesn't exist.\n",
      "     |      \n",
      "     |      Parameters\n",
      "     |      ----------\n",
      "     |      \n",
      "     |      file_name: string\n",
      "     |          File name to store the template volume.  If it already exists,\n",
      "     |          it will be read from this file.  If file_name is None, the\n",
      "     |          file_name will be pulled out of the manifest.  Default is None.\n",
      "     |  \n",
      "     |  ----------------------------------------------------------------------\n",
      "     |  Class methods inherited from allensdk.core.reference_space_cache.ReferenceSpaceCache:\n",
      "     |  \n",
      "     |  validate_structure_id(structure_id) from builtins.type\n",
      "     |  \n",
      "     |  validate_structure_ids(structure_ids) from builtins.type\n",
      "     |  \n",
      "     |  ----------------------------------------------------------------------\n",
      "     |  Data and other attributes inherited from allensdk.core.reference_space_cache.ReferenceSpaceCache:\n",
      "     |  \n",
      "     |  ANNOTATION_KEY = 'ANNOTATION'\n",
      "     |  \n",
      "     |  REFERENCE_SPACE_VERSION_KEY = 'REFERENCE_SPACE_VERSION'\n",
      "     |  \n",
      "     |  STRUCTURES_KEY = 'STRUCTURES'\n",
      "     |  \n",
      "     |  STRUCTURE_MASK_KEY = 'STRUCTURE_MASK'\n",
      "     |  \n",
      "     |  STRUCTURE_MESH_KEY = 'STRUCTURE_MESH'\n",
      "     |  \n",
      "     |  STRUCTURE_TREE_KEY = 'STRUCTURE_TREE'\n",
      "     |  \n",
      "     |  TEMPLATE_KEY = 'TEMPLATE'\n",
      "     |  \n",
      "     |  ----------------------------------------------------------------------\n",
      "     |  Methods inherited from allensdk.api.cache.Cache:\n",
      "     |  \n",
      "     |  build_manifest(self, file_name)\n",
      "     |      Creation of default path specifications.\n",
      "     |      \n",
      "     |      Parameters\n",
      "     |      ----------\n",
      "     |      file_name : string\n",
      "     |          where to save it\n",
      "     |  \n",
      "     |  get_cache_path(self, file_name, manifest_key, *args)\n",
      "     |      Helper method for accessing path specs from manifest keys.\n",
      "     |      \n",
      "     |      Parameters\n",
      "     |      ----------\n",
      "     |      file_name : string\n",
      "     |      manifest_key : string\n",
      "     |      args : ordered parameters\n",
      "     |      \n",
      "     |      Returns\n",
      "     |      -------\n",
      "     |      string or None\n",
      "     |          path\n",
      "     |  \n",
      "     |  load_csv(self, path, rename=None, index=None)\n",
      "     |      Read a csv file as a pandas dataframe.\n",
      "     |      \n",
      "     |      Parameters\n",
      "     |      ----------\n",
      "     |      rename : list of string tuples (new old), optional\n",
      "     |          columns to rename\n",
      "     |      index : string, optional\n",
      "     |          post-rename column to use as the row label.\n",
      "     |  \n",
      "     |  load_json(self, path, rename=None, index=None)\n",
      "     |      Read a json file as a pandas dataframe.\n",
      "     |      \n",
      "     |      Parameters\n",
      "     |      ----------\n",
      "     |      rename : list of string tuples (new old), optional\n",
      "     |          columns to rename\n",
      "     |      index : string, optional\n",
      "     |          post-rename column to use as the row label.\n",
      "     |  \n",
      "     |  load_manifest(self, file_name, version=None)\n",
      "     |      Read a keyed collection of path specifications.\n",
      "     |      \n",
      "     |      Parameters\n",
      "     |      ----------\n",
      "     |      file_name : string\n",
      "     |          path to the manifest file\n",
      "     |      \n",
      "     |      Returns\n",
      "     |      -------\n",
      "     |      Manifest\n",
      "     |  \n",
      "     |  manifest_dataframe(self)\n",
      "     |      Convenience method to view manifest as a pandas dataframe.\n",
      "     |  \n",
      "     |  wrap(self, fn, path, cache, save_as_json=True, return_dataframe=False, index=None, rename=None, **kwargs)\n",
      "     |      make an rma query, save it and return the dataframe.\n",
      "     |      \n",
      "     |      Parameters\n",
      "     |      ----------\n",
      "     |      fn : function reference\n",
      "     |          makes the actual query using kwargs.\n",
      "     |      path : string\n",
      "     |          where to save the data\n",
      "     |      cache : boolean\n",
      "     |          True will make the query, False just loads from disk\n",
      "     |      save_as_json : boolean, optional\n",
      "     |          True (default) will save data as json, False as csv\n",
      "     |      return_dataframe : boolean, optional\n",
      "     |          True will cast the return value to a pandas dataframe, False (default) will not\n",
      "     |      index : string, optional\n",
      "     |          column to use as the pandas index\n",
      "     |      rename : list of string tuples, optional\n",
      "     |          (new, old) columns to rename\n",
      "     |      kwargs : objects\n",
      "     |          passed through to the query function\n",
      "     |      \n",
      "     |      Returns\n",
      "     |      -------\n",
      "     |      dict or DataFrame\n",
      "     |          data type depends on return_dataframe option.\n",
      "     |      \n",
      "     |      Notes\n",
      "     |      -----\n",
      "     |      Column renaming happens after the file is reloaded for json\n",
      "     |  \n",
      "     |  ----------------------------------------------------------------------\n",
      "     |  Static methods inherited from allensdk.api.cache.Cache:\n",
      "     |  \n",
      "     |  cache_csv()\n",
      "     |  \n",
      "     |  cache_csv_dataframe()\n",
      "     |  \n",
      "     |  cache_csv_json()\n",
      "     |  \n",
      "     |  cache_json()\n",
      "     |  \n",
      "     |  cache_json_dataframe()\n",
      "     |  \n",
      "     |  cacher(fn, *args, **kwargs)\n",
      "     |      make an rma query, save it and return the dataframe.\n",
      "     |      \n",
      "     |      Parameters\n",
      "     |      ----------\n",
      "     |      fn : function reference\n",
      "     |          makes the actual query using kwargs.\n",
      "     |      path : string\n",
      "     |          where to save the data\n",
      "     |      strategy : string or None, optional\n",
      "     |          'create' always generates the data,\n",
      "     |          'file' loads from disk,\n",
      "     |          'lazy' queries the server if no file exists,\n",
      "     |          None generates the data and bypasses all caching behavior\n",
      "     |      pre : function\n",
      "     |          df|json->df|json, takes one data argument and returns filtered version, None for pass-through\n",
      "     |      post : function\n",
      "     |          df|json->?, takes one data argument and returns Object\n",
      "     |      reader : function, optional\n",
      "     |          path -> data, default NOP\n",
      "     |      writer : function, optional\n",
      "     |          path, data -> None, default NOP\n",
      "     |      kwargs : objects\n",
      "     |          passed through to the query function\n",
      "     |      \n",
      "     |      Returns\n",
      "     |      -------\n",
      "     |      Object or None\n",
      "     |          data type depends on fn, reader and/or post methods.\n",
      "     |  \n",
      "     |  csv_writer(pth, gen)\n",
      "     |  \n",
      "     |  json_remove_keys(data, keys)\n",
      "     |  \n",
      "     |  json_rename_columns(data, new_old_name_tuples=None)\n",
      "     |      Convenience method to rename columns in a pandas dataframe.\n",
      "     |      \n",
      "     |      Parameters\n",
      "     |      ----------\n",
      "     |      data : dataframe\n",
      "     |          edited in place.\n",
      "     |      new_old_name_tuples : list of string tuples (new, old)\n",
      "     |  \n",
      "     |  nocache_dataframe()\n",
      "     |  \n",
      "     |  nocache_json()\n",
      "     |  \n",
      "     |  pathfinder(file_name_position, secondary_file_name_position=None, path_keyword=None)\n",
      "     |      helper method to find path argument in legacy methods written\n",
      "     |      prior to the @cacheable decorator.  Do not use for new @cacheable methods.\n",
      "     |      \n",
      "     |      Parameters\n",
      "     |      ----------\n",
      "     |      file_name_position : integer\n",
      "     |          zero indexed position in the decorated method args where file path may be found.\n",
      "     |      secondary_file_name_position : integer\n",
      "     |          zero indexed position in the decorated method args where tha file path may be found.\n",
      "     |      path_keyword : string\n",
      "     |          kwarg that may have the file path.\n",
      "     |      \n",
      "     |      Notes\n",
      "     |      -----\n",
      "     |      This method is only intended to provide backward-compatibility for some\n",
      "     |      methods that otherwise do not follow the path conventions of the @cacheable\n",
      "     |      decorator.\n",
      "     |  \n",
      "     |  remove_keys(data, keys=None)\n",
      "     |      DataFrame version\n",
      "     |  \n",
      "     |  rename_columns(data, new_old_name_tuples=None)\n",
      "     |      Convenience method to rename columns in a pandas dataframe.\n",
      "     |      \n",
      "     |      Parameters\n",
      "     |      ----------\n",
      "     |      data : dataframe\n",
      "     |          edited in place.\n",
      "     |      new_old_name_tuples : list of string tuples (new, old)\n",
      "     |  \n",
      "     |  ----------------------------------------------------------------------\n",
      "     |  Data descriptors inherited from allensdk.api.cache.Cache:\n",
      "     |  \n",
      "     |  __dict__\n",
      "     |      dictionary for instance variables (if defined)\n",
      "     |  \n",
      "     |  __weakref__\n",
      "     |      list of weak references to the object (if defined)\n",
      "\n",
      "FUNCTIONS\n",
      "    reduce(...)\n",
      "        reduce(function, sequence[, initial]) -> value\n",
      "        \n",
      "        Apply a function of two arguments cumulatively to the items of a sequence,\n",
      "        from left to right, so as to reduce the sequence to a single value.\n",
      "        For example, reduce(lambda x, y: x+y, [1, 2, 3, 4, 5]) calculates\n",
      "        ((((1+2)+3)+4)+5).  If initial is present, it is placed before the items\n",
      "        of the sequence in the calculation, and serves as a default when the\n",
      "        sequence is empty.\n",
      "\n",
      "FILE\n",
      "    /Users/samsonkoelle/anaconda3/envs/allen_010719_5/lib/python3.7/site-packages/allensdk/core/mouse_connectivity_cache.py\n",
      "\n",
      "\n"
     ]
    }
   ],
   "source": [
    "import allensdk\n",
    "help(allensdk.core.mouse_connectivity_cache)"
   ]
  }
 ],
 "metadata": {
  "kernelspec": {
   "display_name": "allen_010719_5",
   "language": "python",
   "name": "allen_010719_5"
  },
  "language_info": {
   "codemirror_mode": {
    "name": "ipython",
    "version": 3
   },
   "file_extension": ".py",
   "mimetype": "text/x-python",
   "name": "python",
   "nbconvert_exporter": "python",
   "pygments_lexer": "ipython3",
   "version": "3.7.6"
  }
 },
 "nbformat": 4,
 "nbformat_minor": 2
}

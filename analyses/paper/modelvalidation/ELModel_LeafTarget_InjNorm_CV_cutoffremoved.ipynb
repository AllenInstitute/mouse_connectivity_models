{
 "cells": [
  {
   "cell_type": "code",
   "execution_count": 4,
   "metadata": {},
   "outputs": [
    {
     "name": "stderr",
     "output_type": "stream",
     "text": [
      "/Users/samsonkoelle/anaconda3/envs/allen_010719_5/lib/python3.7/site-packages/sklearn/utils/deprecation.py:144: FutureWarning: The sklearn.linear_model.base module is  deprecated in version 0.22 and will be removed in version 0.24. The corresponding classes / functions should instead be imported from sklearn.linear_model. Anything that cannot be imported from sklearn.linear_model is now part of the private API.\n",
      "  warnings.warn(message, FutureWarning)\n",
      "/Users/samsonkoelle/anaconda3/envs/allen_010719_5/lib/python3.7/site-packages/sklearn/utils/deprecation.py:144: FutureWarning: The sklearn.metrics.scorer module is  deprecated in version 0.22 and will be removed in version 0.24. The corresponding classes / functions should instead be imported from sklearn.metrics. Anything that cannot be imported from sklearn.metrics is now part of the private API.\n",
      "  warnings.warn(message, FutureWarning)\n"
     ]
    }
   ],
   "source": [
    "%load_ext autoreload\n",
    "%autoreload 2\n",
    "\n",
    "import os\n",
    "import numpy as np\n",
    "import pandas as pd \n",
    "import sys\n",
    "#import pickle\n",
    "import itertools\n",
    "import seaborn as sns\n",
    "import matplotlib.pyplot as plt\n",
    "from mpl_toolkits.mplot3d import Axes3D\n",
    "import random\n",
    "from sklearn.metrics import pairwise_distances\n",
    "from sklearn.kernel_ridge import KernelRidge\n",
    "import math\n",
    "import dill as pickle\n",
    "from copy import deepcopy\n",
    "\n",
    "workingdirectory = os.popen('git rev-parse --show-toplevel').read()[:-1]\n",
    "sys.path.append(workingdirectory)\n",
    "os.chdir(workingdirectory)\n",
    "\n",
    "import allensdk.core.json_utilities as ju\n",
    "from allensdk.core.mouse_connectivity_cache import MouseConnectivityCache\n",
    "from mcmodels.core.utils import get_ccf_data\n",
    "\n",
    "from mcmodels.core import VoxelModelCache\n",
    "from mcmodels.connectivity.creation import get_connectivity_matrices3\n",
    "from mcmodels.core.connectivity_data import get_connectivity_data\n",
    "#from mcmodels.models.voxel.crossvalidation import get_nwloocv_predictions_multimodel_merge_dists\n",
    "from mcmodels.utils import nonzero_unique\n",
    "from mcmodels.core.utils import get_structure_id,get_ordered_summary_structures, get_leaves_ontologicalorder, get_indices_2ormore, get_indices, get_indices2,get_eval_indices,screen_index_matrices,screen_index_matrices2,screen_index_matrices3\n",
    "from mcmodels.regressors import NadarayaWatson\n",
    "from mcmodels.core.plotting import plot_loss_surface,plot_loss_scatter\n",
    "from mcmodels.models.expectedloss.crossvalidation import get_loss_surface_cv_spline\n",
    "from mcmodels.models.expectedloss.crossvalidation import get_embedding_cv\n",
    "from mcmodels.models.crossvalidation import get_best_hyperparameters,get_loss_best_hyp,get_loss, Crossval\n",
    "from mcmodels.models.voxel.crossvalidation import get_nwloocv_predictions_multimodel_merge_dists,CrossvalNW"
   ]
  },
  {
   "cell_type": "code",
   "execution_count": null,
   "metadata": {
    "collapsed": true
   },
   "outputs": [],
   "source": []
  },
  {
   "cell_type": "code",
   "execution_count": 5,
   "metadata": {},
   "outputs": [
    {
     "name": "stdout",
     "output_type": "stream",
     "text": [
      "annotation/ccf_2017\n"
     ]
    }
   ],
   "source": [
    "#read data\n",
    "TOP_DIR = '/Users/samsonkoelle/alleninstitute/mcm_2020/mcm_updated/'\n",
    "INPUT_JSON = os.path.join(TOP_DIR, 'input_011520.json')\n",
    "EXPERIMENTS_EXCLUDE_JSON = os.path.join(TOP_DIR, 'experiments_exclude.json')\n",
    "FILE_DIR = '/Users/samsonkoelle/alleninstitute/mcm_2020/mcm_updated/'\n",
    "OUTPUT_DIR = os.path.join(FILE_DIR, 'output')\n",
    "\n",
    "input_data = ju.read(INPUT_JSON)\n",
    "manifest_file = input_data.get('manifest_file')\n",
    "manifest_file = os.path.join(TOP_DIR, manifest_file)\n",
    "experiments_exclude = ju.read(EXPERIMENTS_EXCLUDE_JSON)\n",
    "\n",
    "#its unclear why the hyperparameters are loaded from the output directory\n",
    "cache = VoxelModelCache(manifest_file=manifest_file)\n",
    "major_structures = input_data.get('structures')\n",
    "major_structure_ids = [get_structure_id(cache, s) for s in major_structures]\n",
    "data_info = pd.read_excel('/Users/samsonkoelle/alleninstitute/Whole Brain Cre Image Series_curation only.xlsx', 'all datasets curated_070919pull')\n",
    "data_info.set_index(\"id\", inplace=True)\n"
   ]
  },
  {
   "cell_type": "code",
   "execution_count": 6,
   "metadata": {
    "collapsed": true
   },
   "outputs": [],
   "source": [
    "#load version 3 list\n",
    "ontological_order = get_ordered_summary_structures(cache,167587189)\n",
    "#due to redundancy in ccfv3, remove 'MDRNv', 'MDRNd' from summary structures (include as leafs of MDRN)\n",
    "ontological_order[277]\n",
    "ontological_order = np.setdiff1d(ontological_order, [1098, 1107])\n",
    "#load version 2 list\n",
    "#ontological_order = get_ordered_summary_structures(cache,687527945)\n",
    "\n",
    "mcc = MouseConnectivityCache(manifest_file = '../connectivity/mouse_connectivity_manifest.json')\n",
    "st = mcc.get_structure_tree()\n",
    "ai_map = st.get_id_acronym_map()\n",
    "ia_map = {value: key for key, value in ai_map.items()}\n",
    "\n",
    "#regionalize voxel model: compare with regional model\n",
    "#regional parameters\n",
    "cre = None\n",
    "eid_set=None\n",
    "high_res=False\n",
    "threshold_injection = False\n",
    "\n",
    "COARSE_STRUCTURE_SET_ID = 2\n",
    "DEFAULT_STRUCTURE_SET_IDS = tuple([COARSE_STRUCTURE_SET_ID])\n",
    "tree = cache.get_structure_tree()\n",
    "default_structures = tree.get_structures_by_set_id(DEFAULT_STRUCTURE_SET_IDS)\n",
    "default_structure_ids = [st['id'] for st in default_structures if st['id'] != 934]"
   ]
  },
  {
   "cell_type": "code",
   "execution_count": 7,
   "metadata": {},
   "outputs": [
    {
     "name": "stdout",
     "output_type": "stream",
     "text": [
      "512\n",
      "703\n",
      "1089\n",
      "1097\n",
      "315\n",
      "313\n",
      "354\n",
      "698\n",
      "771\n",
      "803\n",
      "477\n",
      "549\n"
     ]
    }
   ],
   "source": [
    "connectivity_data = get_connectivity_data(cache, major_structure_ids, experiments_exclude, remove_injection = False, structure_set_id=167587189)\n",
    "\n",
    "connectivity_data.get_injection_hemisphere_ids()\n",
    "connectivity_data.align()\n",
    "connectivity_data.get_centroids()\n"
   ]
  },
  {
   "cell_type": "code",
   "execution_count": 8,
   "metadata": {
    "collapsed": true
   },
   "outputs": [],
   "source": [
    "connectivity_data.get_data_matrices(default_structure_ids)\n",
    "connectivity_data.get_crelines(data_info)\n",
    "with open('data/info/leafs.pickle', 'rb') as handle:\n",
    "    leafs = pickle.load(handle)\n",
    "    \n",
    "connectivity_data.ai_map = ai_map\n",
    "connectivity_data.get_summarystructures(data_info)\n",
    "connectivity_data.leafs = leafs\n",
    "ontological_order_leaves = get_leaves_ontologicalorder(connectivity_data, ontological_order)\n",
    "sid0 = list(connectivity_data.structure_datas.keys())[0]\n",
    "eid0 = list(connectivity_data.structure_datas[sid0].experiment_datas.keys())[0]\n",
    "contra_targetkey = connectivity_data.structure_datas[sid0].projection_mask.get_key(structure_ids=ontological_order, hemisphere_id=1)\n",
    "ipsi_targetkey = connectivity_data.structure_datas[sid0].projection_mask.get_key(structure_ids=ontological_order, hemisphere_id=2)\n",
    "ipsi_target_regions, ipsi_target_counts = nonzero_unique(ipsi_targetkey, return_counts=True)\n",
    "contra_target_regions, contra_target_counts = nonzero_unique(contra_targetkey, return_counts=True)\n",
    "target_order = lambda x: np.array(ontological_order)[np.isin(ontological_order, x)]\n",
    "permutation = lambda x: np.argsort(np.argsort(target_order(x)))\n",
    "targ_ids = np.concatenate([ipsi_target_regions[permutation(ipsi_target_regions)],\n",
    "                           contra_target_regions[permutation(contra_target_regions)]])\n",
    "\n",
    "connectivity_data.get_regionalized_normalized_data(ontological_order, ipsi_targetkey, contra_targetkey)\n",
    "\n",
    "above_thresh = {}\n",
    "thresh = 1\n",
    "for m in range(12):\n",
    "    sid = major_structure_ids[m]\n",
    "    above_thresh[sid] = np.where(connectivity_data.structure_datas[sid].reg_inj.sum(axis = 1) > thresh)[0]"
   ]
  },
  {
   "cell_type": "code",
   "execution_count": 15,
   "metadata": {
    "collapsed": true
   },
   "outputs": [],
   "source": [
    "from collections import Counter"
   ]
  },
  {
   "cell_type": "code",
   "execution_count": 49,
   "metadata": {},
   "outputs": [],
   "source": [
    "# cts = Counter(np.concatenate(list(connectivity_data.creline.values())))\n",
    "# #cts.most_common()\n",
    "# #cts = Counter(np.concatenate(list(connectivity_data.leafs.values())))\n",
    "\n",
    "# com_leaf = np.asarray(cts.most_common())\n",
    "# ndf = np.asarray([[com_leaf[i,0] for i in range(100)], com_leaf[:100,1]]).transpose()\n",
    "# pdf = pd.DataFrame(ndf)\n",
    "# pdf = pdf.set_index(0)\n",
    "# print(pdf.iloc[:20].to_latex())\n",
    "# cts = Counter(np.concatenate(list(connectivity_data.leafs.values())))\n",
    "\n",
    "# com_leaf = np.asarray(cts.most_common())\n",
    "# ndf = np.asarray([[ia_map[com_leaf[i,0]] for i in range(100)], com_leaf[:100,1]]).transpose()\n",
    "# pdf = pd.DataFrame(ndf)\n",
    "# pdf = pdf.set_index(0)\n",
    "# print(pdf.iloc[:20].to_latex())"
   ]
  },
  {
   "cell_type": "code",
   "execution_count": 50,
   "metadata": {},
   "outputs": [],
   "source": [
    "#what leafs have the most cres\n",
    "#Counter(connectivity_data.creline[315][np.where(connectivity_data.leafs[315] == 1015)[0]])"
   ]
  },
  {
   "cell_type": "code",
   "execution_count": 51,
   "metadata": {
    "collapsed": true
   },
   "outputs": [],
   "source": [
    "for sid in major_structure_ids:\n",
    "    connectivity_data.structure_datas[sid].reg_proj_injnorm = connectivity_data.structure_datas[sid].reg_proj_injnorm[above_thresh[sid]]\n",
    "    connectivity_data.structure_datas[sid].centroids = connectivity_data.structure_datas[sid].centroids[above_thresh[sid]]\n",
    "    connectivity_data.creline[sid] = connectivity_data.creline[sid][above_thresh[sid]]\n",
    "    connectivity_data.leafs[sid] = connectivity_data.leafs[sid][above_thresh[sid]]"
   ]
  },
  {
   "cell_type": "code",
   "execution_count": 52,
   "metadata": {},
   "outputs": [
    {
     "name": "stdout",
     "output_type": "stream",
     "text": [
      "\\begin{tabular}{lrr}\n",
      "\\toprule\n",
      "{} &  Total &  Cre-Leaf \\\\\n",
      "\\midrule\n",
      "Isocortex &     36 &         4 \\\\\n",
      "OLF       &      7 &         2 \\\\\n",
      "HPF       &    122 &        59 \\\\\n",
      "CTXsp     &     85 &        38 \\\\\n",
      "STR       &   1128 &       709 \\\\\n",
      "PAL       &     68 &        18 \\\\\n",
      "TH        &     46 &         7 \\\\\n",
      "HY        &     35 &        17 \\\\\n",
      "MB        &     33 &         8 \\\\\n",
      "P         &     30 &        11 \\\\\n",
      "MY        &     78 &        44 \\\\\n",
      "CB        &     83 &        29 \\\\\n",
      "\\bottomrule\n",
      "\\end{tabular}\n",
      "\n"
     ]
    }
   ],
   "source": [
    "\n",
    "\n",
    "gammas = np.asarray([0.0001,0.001,0.01,0.1,1,10,100,1000,10000])\n",
    "#reg_proj_norm = {sid: connectivity_data.structure_datas[sid].reg_proj_norm for sid in major_structure_ids}\n",
    "reg_proj_injnorm = {sid: connectivity_data.structure_datas[sid].reg_proj_injnorm for sid in major_structure_ids}\n",
    "#sum2_index_matrices = {sid: connectivity_data.sum2_index_matrices[sid] for sid in major_structure_ids} \n",
    "#cresum2_evalindices = {sid: connectivity_data.cresum2_evalindices[sid] for sid in major_structure_ids} \n",
    "#cresum2_leaf2_evalindices = {sid: connectivity_data.cresum2_leaf2_evalindices[sid] for sid in major_structure_ids} \n",
    "crelines = {sid: connectivity_data.creline[sid] for sid in major_structure_ids}\n",
    "#look at visp6a prediction accuracy\n",
    "#lets just make the eval plots\n",
    "connectivity_data.leaf2_index_matrices = get_indices_2ormore(connectivity_data.leafs)\n",
    "connectivity_data.get_creleaf_combos()\n",
    "connectivity_data.creleaf2_index_matrices = get_indices_2ormore(connectivity_data.creleaf_combos)\n",
    "connectivity_data.get_creleaf_combos()\n",
    "connectivity_data.cre2_index_matrices = get_indices_2ormore(crelines)\n",
    "\n",
    "#connectivity_data.cresum2_evalindices = get_eval_indices(connectivity_data.cresum2_index_matrices)\n",
    "connectivity_data.creleaf2_evalindices = get_eval_indices(connectivity_data.creleaf2_index_matrices)\n",
    "creleaf2_evalindices = {sid: connectivity_data.creleaf2_evalindices[sid] for sid in major_structure_ids} \n",
    "cre2_index_matrices = {sid: connectivity_data.cre2_index_matrices[sid] for sid in major_structure_ids} \n",
    "#connectivity_data.cresum2_leaf2_evalindices = get_eval_indices(connectivity_data.cresum2_leaf2_index_matrices)\n",
    "\n",
    "\n",
    "connectivity_data.major2_index_matrices = {}\n",
    "for sid in major_structure_ids:\n",
    "     connectivity_data.major2_index_matrices[sid] =  np.expand_dims(np.ones(crelines[sid].shape),0)\n",
    "major2_index_matrices = {sid:connectivity_data.major2_index_matrices[sid] for sid in major_structure_ids}\n",
    "\n",
    "wtmajor2_index_matrices = {}\n",
    "for sid in major_structure_ids:\n",
    "    wtm = np.zeros(major2_index_matrices[sid].shape) \n",
    "    #print(wtm.shape)\n",
    "    wtmajor2_index_matrices[sid] = wtm[:,np.where(crelines[sid] == 'C57BL/6J')[0]] = 1\n",
    "#get_indices2(connectivity_data.creline[sid], np.asarray(['C57BL/6J']),leafs[sid])\n",
    "\n",
    "#ncresum2_leaf2 = np.zeros(12)\n",
    "#ncresum2 = np.zeros(12)\n",
    "ncreleaf2 = np.zeros(12)\n",
    "ntotal = np.zeros(12)\n",
    "for i in range(12):\n",
    "    sid = major_structure_ids[i]\n",
    "    ntotal[i] = connectivity_data.structure_datas[sid].reg_proj.shape[0]\n",
    "    #ncresum2_leaf2[i] =len(cresum2_leaf2_evalindices[sid])\n",
    "    #ncresum2[i] = len(cresum2_evalindices[sid])\n",
    "    ncreleaf2[i] = len(creleaf2_evalindices[sid])\n",
    "\n",
    "major_structures = np.asarray(major_structures)\n",
    "reo = np.asarray([4,7,2,1,10,9,11,3,5,8,6,0], dtype = int)\n",
    "df = pd.DataFrame([ntotal,  ncreleaf2], dtype = int, index=['Total','Cre-Leaf'], columns = major_structures[reo]).transpose()\n",
    "#df = pd.DataFrame([ntotal, ncresum2, ncresum2_leaf2,  ncreleaf2], dtype = int, index=['Total','Cre-Summary','Cre-Summary, Leaf','Cre-Leaf']).transpose()\n",
    "print(df.to_latex())"
   ]
  },
  {
   "cell_type": "code",
   "execution_count": 53,
   "metadata": {},
   "outputs": [
    {
     "name": "stdout",
     "output_type": "stream",
     "text": [
      "(82, 621)\n",
      "(82, 3)\n",
      "(82,)\n",
      "(82,)\n"
     ]
    }
   ],
   "source": [
    "print(connectivity_data.structure_datas[sid].reg_proj_injnorm.shape)\n",
    "print(connectivity_data.structure_datas[sid].centroids.shape)\n",
    "print(connectivity_data.creline[sid].shape)\n",
    "print(connectivity_data.creline[sid].shape)\n",
    "#frac_learn[m]"
   ]
  },
  {
   "cell_type": "code",
   "execution_count": 54,
   "metadata": {},
   "outputs": [
    {
     "name": "stderr",
     "output_type": "stream",
     "text": [
      "/Users/samsonkoelle/anaconda3/envs/allen_010719_5/lib/python3.7/site-packages/numpy/core/fromnumeric.py:3420: RuntimeWarning: Mean of empty slice.\n",
      "  out=out, **kwargs)\n",
      "/Users/samsonkoelle/anaconda3/envs/allen_010719_5/lib/python3.7/site-packages/numpy/core/_methods.py:181: RuntimeWarning: invalid value encountered in true_divide\n",
      "  ret, rcount, out=ret, casting='unsafe', subok=False)\n",
      "/Users/samsonkoelle/anaconda3/envs/allen_010719_5/lib/python3.7/site-packages/numpy/core/fromnumeric.py:3420: RuntimeWarning: Mean of empty slice.\n",
      "  out=out, **kwargs)\n",
      "/Users/samsonkoelle/anaconda3/envs/allen_010719_5/lib/python3.7/site-packages/numpy/core/_methods.py:181: RuntimeWarning: invalid value encountered in true_divide\n",
      "  ret, rcount, out=ret, casting='unsafe', subok=False)\n",
      "/Users/samsonkoelle/alleninstitute/sambranch/mouse_connectivity_models/mcmodels/models/expectedloss/shapeconstrained.py:47: RuntimeWarning: invalid value encountered in true_divide\n",
      "  coordinates_normed = coordinates / np.linalg.norm(coordinates, axis=0)  # **2\n",
      "/Users/samsonkoelle/anaconda3/envs/allen_010719_5/lib/python3.7/site-packages/pygam/pygam.py:1111: RuntimeWarning: divide by zero encountered in double_scalars\n",
      "  r2['explained_deviance'] = 1. - full_d.sum()/null_d.sum()\n",
      "/Users/samsonkoelle/anaconda3/envs/allen_010719_5/lib/python3.7/site-packages/numpy/core/fromnumeric.py:3420: RuntimeWarning: Mean of empty slice.\n",
      "  out=out, **kwargs)\n",
      "/Users/samsonkoelle/anaconda3/envs/allen_010719_5/lib/python3.7/site-packages/numpy/core/_methods.py:181: RuntimeWarning: invalid value encountered in true_divide\n",
      "  ret, rcount, out=ret, casting='unsafe', subok=False)\n",
      "/Users/samsonkoelle/anaconda3/envs/allen_010719_5/lib/python3.7/site-packages/numpy/core/fromnumeric.py:3420: RuntimeWarning: Mean of empty slice.\n",
      "  out=out, **kwargs)\n",
      "/Users/samsonkoelle/anaconda3/envs/allen_010719_5/lib/python3.7/site-packages/numpy/core/_methods.py:181: RuntimeWarning: invalid value encountered in true_divide\n",
      "  ret, rcount, out=ret, casting='unsafe', subok=False)\n",
      "/Users/samsonkoelle/anaconda3/envs/allen_010719_5/lib/python3.7/site-packages/numpy/core/fromnumeric.py:3420: RuntimeWarning: Mean of empty slice.\n",
      "  out=out, **kwargs)\n",
      "/Users/samsonkoelle/anaconda3/envs/allen_010719_5/lib/python3.7/site-packages/numpy/core/_methods.py:181: RuntimeWarning: invalid value encountered in true_divide\n",
      "  ret, rcount, out=ret, casting='unsafe', subok=False)\n",
      "/Users/samsonkoelle/anaconda3/envs/allen_010719_5/lib/python3.7/site-packages/numpy/core/fromnumeric.py:3420: RuntimeWarning: Mean of empty slice.\n",
      "  out=out, **kwargs)\n",
      "/Users/samsonkoelle/anaconda3/envs/allen_010719_5/lib/python3.7/site-packages/numpy/core/_methods.py:181: RuntimeWarning: invalid value encountered in true_divide\n",
      "  ret, rcount, out=ret, casting='unsafe', subok=False)\n",
      "/Users/samsonkoelle/anaconda3/envs/allen_010719_5/lib/python3.7/site-packages/numpy/core/fromnumeric.py:3420: RuntimeWarning: Mean of empty slice.\n",
      "  out=out, **kwargs)\n",
      "/Users/samsonkoelle/anaconda3/envs/allen_010719_5/lib/python3.7/site-packages/numpy/core/_methods.py:181: RuntimeWarning: invalid value encountered in true_divide\n",
      "  ret, rcount, out=ret, casting='unsafe', subok=False)\n",
      "/Users/samsonkoelle/anaconda3/envs/allen_010719_5/lib/python3.7/site-packages/numpy/core/fromnumeric.py:3420: RuntimeWarning: Mean of empty slice.\n",
      "  out=out, **kwargs)\n",
      "/Users/samsonkoelle/anaconda3/envs/allen_010719_5/lib/python3.7/site-packages/numpy/core/_methods.py:181: RuntimeWarning: invalid value encountered in true_divide\n",
      "  ret, rcount, out=ret, casting='unsafe', subok=False)\n",
      "/Users/samsonkoelle/anaconda3/envs/allen_010719_5/lib/python3.7/site-packages/numpy/core/fromnumeric.py:3420: RuntimeWarning: Mean of empty slice.\n",
      "  out=out, **kwargs)\n",
      "/Users/samsonkoelle/anaconda3/envs/allen_010719_5/lib/python3.7/site-packages/numpy/core/_methods.py:181: RuntimeWarning: invalid value encountered in true_divide\n",
      "  ret, rcount, out=ret, casting='unsafe', subok=False)\n",
      "/Users/samsonkoelle/anaconda3/envs/allen_010719_5/lib/python3.7/site-packages/numpy/core/fromnumeric.py:3420: RuntimeWarning: Mean of empty slice.\n",
      "  out=out, **kwargs)\n",
      "/Users/samsonkoelle/anaconda3/envs/allen_010719_5/lib/python3.7/site-packages/numpy/core/_methods.py:181: RuntimeWarning: invalid value encountered in true_divide\n",
      "  ret, rcount, out=ret, casting='unsafe', subok=False)\n",
      "/Users/samsonkoelle/anaconda3/envs/allen_010719_5/lib/python3.7/site-packages/numpy/core/fromnumeric.py:3420: RuntimeWarning: Mean of empty slice.\n",
      "  out=out, **kwargs)\n",
      "/Users/samsonkoelle/anaconda3/envs/allen_010719_5/lib/python3.7/site-packages/numpy/core/_methods.py:181: RuntimeWarning: invalid value encountered in true_divide\n",
      "  ret, rcount, out=ret, casting='unsafe', subok=False)\n",
      "/Users/samsonkoelle/anaconda3/envs/allen_010719_5/lib/python3.7/site-packages/numpy/core/fromnumeric.py:3420: RuntimeWarning: Mean of empty slice.\n",
      "  out=out, **kwargs)\n",
      "/Users/samsonkoelle/anaconda3/envs/allen_010719_5/lib/python3.7/site-packages/numpy/core/_methods.py:181: RuntimeWarning: invalid value encountered in true_divide\n",
      "  ret, rcount, out=ret, casting='unsafe', subok=False)\n"
     ]
    }
   ],
   "source": [
    "#get surfaces leaf\n",
    "frac_learn = np.ones(12)\n",
    "for m in range(12):\n",
    "    sid = major_structure_ids[m]\n",
    "    connectivity_data.structure_datas[sid].loss_surface_cv_leaf = get_loss_surface_cv_spline(connectivity_data.structure_datas[sid].reg_proj_injnorm,\n",
    "                                                                                                 connectivity_data.structure_datas[sid].centroids,\n",
    "                                                                                                 connectivity_data.creline[sid],\n",
    "                                                                                                 connectivity_data.leafs[sid],\n",
    "                                                                                                 frac_learn[m])\n",
    "    connectivity_data.structure_datas[sid].smoothed_losses_leaf = get_embedding_cv(surface = connectivity_data.structure_datas[sid].loss_surface_cv_leaf,\n",
    "                                                                              dists = pairwise_distances(connectivity_data.structure_datas[sid].centroids)**2,\n",
    "                                                                              cre_distances_cv = connectivity_data.structure_datas[sid].loss_surface_cv_leaf.cre_distances_cv)\n",
    "    "
   ]
  },
  {
   "cell_type": "code",
   "execution_count": 55,
   "metadata": {
    "collapsed": true
   },
   "outputs": [],
   "source": [
    "# #what are the indices that have both 2 in the same leaf, and 2 of the same cre in the sum\n",
    "# connectivity_data.cresum2_leaf2_index_matrices = deepcopy(connectivity_data.cresum2_index_matrices)\n",
    "# for sid in major_structure_ids:\n",
    "#     included_leaf2 =  connectivity_data.leaf2_index_matrices[sid].sum(axis = 0)\n",
    "#     included_cresum2 = connectivity_data.cresum2_index_matrices[sid].sum(axis = 0)\n",
    "#     keepers = np.intersect1d( np.where(included_leaf2 == 1)[0], np.where(included_cresum2 == 1)[0])\n",
    "#     #print(len(keepers))\n",
    "#     setdiff = np.setdiff1d(list(range(connectivity_data.leaf2_index_matrices[sid].shape[1])), keepers)\n",
    "#     connectivity_data.cresum2_leaf2_index_matrices[sid][:,setdiff] = 0\n",
    "    "
   ]
  },
  {
   "cell_type": "code",
   "execution_count": 56,
   "metadata": {},
   "outputs": [],
   "source": [
    "leaf2_index_matrices = {sid: connectivity_data.leaf2_index_matrices[sid] for sid in major_structure_ids} \n",
    "distances = {sid: connectivity_data.structure_datas[sid].smoothed_losses_leaf for sid in major_structure_ids}\n",
    "twostage_leaf_creleaf2 = CrossvalNW(reg_proj_injnorm, distances, leaf2_index_matrices, creleaf2_evalindices,gammas)\n",
    "twostage_leaf_creleaf2.gammas = gammas #ds\n",
    "twostage_leaf_creleaf2.predictions = twostage_leaf_creleaf2.get_predictions()\n",
    "twostage_leaf_creleaf2.get_results_loocv()\n",
    "twostage_leaf_creleaf2.get_results_weightedloocv(connectivity_data.leafs,crelines,ia_map)"
   ]
  },
  {
   "cell_type": "code",
   "execution_count": 57,
   "metadata": {},
   "outputs": [
    {
     "data": {
      "text/plain": [
       "array([0.49551171, 0.49739986, 0.31802197, 0.40858308, 0.37257939,\n",
       "       0.37779774, 0.49411563, 0.3871113 , 0.56212459, 0.44327197,\n",
       "       0.29837562, 0.53393518])"
      ]
     },
     "execution_count": 57,
     "metadata": {},
     "output_type": "execute_result"
    }
   ],
   "source": [
    "twostage_leaf_creleaf2.meanloss"
   ]
  },
  {
   "cell_type": "code",
   "execution_count": 58,
   "metadata": {},
   "outputs": [
    {
     "name": "stderr",
     "output_type": "stream",
     "text": [
      "/Users/samsonkoelle/alleninstitute/sambranch/mouse_connectivity_models/mcmodels/models/voxel/crossvalidation.py:43: RuntimeWarning: overflow encountered in exp\n",
      "  weights_i = np.exp(-dists_i * gamma)  # weights[i,:] / np.nansum(weights[i,:][otherindices])\n"
     ]
    }
   ],
   "source": [
    "creleaf2_index_matrices = {sid: connectivity_data.creleaf2_index_matrices[sid] for sid in major_structure_ids} \n",
    "leaf2_index_matrices = {sid: connectivity_data.leaf2_index_matrices[sid] for sid in major_structure_ids} \n",
    "pds = {}\n",
    "for sid in major_structure_ids:\n",
    "    pds[sid] = pairwise_distances(connectivity_data.structure_datas[sid].centroids)**2\n",
    "distances = pds\n",
    "\n",
    "##{sid: connectivity_data.structure_datas[sid].smoothed_losses_str for sid in major_structure_ids}\n",
    "nw_major_creleaf2 = CrossvalNW(reg_proj_injnorm, distances,major2_index_matrices, creleaf2_evalindices,gammas)\n",
    "nw_major_creleaf2.gammas = gammas\n",
    "nw_major_creleaf2.predictions = nw_major_creleaf2.get_predictions()\n",
    "nw_major_creleaf2.get_results_loocv()\n",
    "nw_major_creleaf2.get_results_weightedloocv(connectivity_data.leafs,crelines,ia_map)\n"
   ]
  },
  {
   "cell_type": "code",
   "execution_count": 59,
   "metadata": {},
   "outputs": [
    {
     "data": {
      "text/plain": [
       "array([0.61503358, 0.49739986, 0.4904136 , 0.46239138, 0.49748706,\n",
       "       0.30349243, 0.65441012, 0.51575293, 0.76407003, 0.46641033,\n",
       "       0.42060867, 0.52162145])"
      ]
     },
     "execution_count": 59,
     "metadata": {},
     "output_type": "execute_result"
    }
   ],
   "source": [
    "nw_major_creleaf2.meanloss"
   ]
  },
  {
   "cell_type": "code",
   "execution_count": 60,
   "metadata": {
    "collapsed": true
   },
   "outputs": [],
   "source": [
    "nw_majorwt_creleaf2 = CrossvalNW(reg_proj_injnorm, distances,wtmajor2_index_matrices, creleaf2_evalindices,gammas)\n",
    "nw_majorwt_creleaf2.gammas = gammas\n",
    "nw_majorwt_creleaf2.predictions = nw_major_creleaf2.get_predictions()\n",
    "nw_majorwt_creleaf2.get_results_loocv()\n",
    "nw_majorwt_creleaf2.get_results_weightedloocv(connectivity_data.leafs,crelines,ia_map)\n"
   ]
  },
  {
   "cell_type": "code",
   "execution_count": 61,
   "metadata": {},
   "outputs": [
    {
     "data": {
      "text/plain": [
       "array([0.61503358, 0.49739986, 0.4904136 , 0.46239138, 0.49748706,\n",
       "       0.30349243, 0.65441012, 0.51575293, 0.76407003, 0.46641033,\n",
       "       0.42060867, 0.52162145])"
      ]
     },
     "execution_count": 61,
     "metadata": {},
     "output_type": "execute_result"
    }
   ],
   "source": [
    "nw_majorwt_creleaf2.meanloss"
   ]
  },
  {
   "cell_type": "code",
   "execution_count": 62,
   "metadata": {
    "collapsed": true
   },
   "outputs": [],
   "source": [
    "nw_leaf_creleaf2 = CrossvalNW(reg_proj_injnorm, distances,leaf2_index_matrices, creleaf2_evalindices,gammas)\n",
    "nw_leaf_creleaf2.gammas = gammas# ds\n",
    "nw_leaf_creleaf2.predictions = nw_leaf_creleaf2.get_predictions()\n",
    "nw_leaf_creleaf2.get_results_loocv()\n",
    "nw_leaf_creleaf2.get_results_weightedloocv(connectivity_data.leafs,crelines,ia_map)\n"
   ]
  },
  {
   "cell_type": "code",
   "execution_count": 63,
   "metadata": {},
   "outputs": [
    {
     "data": {
      "text/plain": [
       "array([0.50036524, 0.49739986, 0.41910314, 0.45060663, 0.49744626,\n",
       "       0.32599315, 0.49491104, 0.41232511, 0.75809955, 0.44488629,\n",
       "       0.35746546, 0.50139   ])"
      ]
     },
     "execution_count": 63,
     "metadata": {},
     "output_type": "execute_result"
    }
   ],
   "source": [
    "nw_leaf_creleaf2.meanloss"
   ]
  },
  {
   "cell_type": "code",
   "execution_count": 64,
   "metadata": {
    "collapsed": true
   },
   "outputs": [],
   "source": [
    "#distances = pds#{sid: connectivity_data.structure_datas[sid].smoothed_losses_str for sid in major_structure_ids}\n",
    "nw_creleaf_creleaf2 = CrossvalNW(reg_proj_injnorm, distances,creleaf2_index_matrices, creleaf2_evalindices,gammas)\n",
    "nw_creleaf_creleaf2.gammas = gammas# ds\n",
    "nw_creleaf_creleaf2.predictions = nw_creleaf_creleaf2.get_predictions()\n",
    "nw_creleaf_creleaf2.get_results_loocv()\n",
    "nw_creleaf_creleaf2.get_results_weightedloocv(connectivity_data.leafs,crelines,ia_map)\n"
   ]
  },
  {
   "cell_type": "code",
   "execution_count": 65,
   "metadata": {},
   "outputs": [
    {
     "data": {
      "text/plain": [
       "array([0.84935969, 0.49739986, 0.32463493, 0.4297395 , 0.38226119,\n",
       "       0.35441512, 0.67832154, 0.41229759, 0.56213315, 0.539072  ,\n",
       "       0.3283235 , 0.72395377])"
      ]
     },
     "execution_count": 65,
     "metadata": {},
     "output_type": "execute_result"
    }
   ],
   "source": [
    "nw_creleaf_creleaf2.meanloss"
   ]
  },
  {
   "cell_type": "code",
   "execution_count": 24,
   "metadata": {},
   "outputs": [
    {
     "name": "stderr",
     "output_type": "stream",
     "text": [
      "/Users/samsonkoelle/alleninstitute/sambranch/mouse_connectivity_models/mcmodels/models/voxel/crossvalidation.py:43: RuntimeWarning: overflow encountered in exp\n",
      "  weights_i = np.exp(-dists_i * gamma)  # weights[i,:] / np.nansum(weights[i,:][otherindices])\n"
     ]
    }
   ],
   "source": [
    "\n",
    "\n",
    "# nw_sum_cresum2leaf2 = CrossvalNW(reg_proj_norm, distances,sum2_index_matrices, cresum2_leaf2_evalindices,gammas)\n",
    "# nw_sum_cresum2leaf2.gammas = gammas\n",
    "# nw_sum_cresum2leaf2.predictions = nw_sum_cresum2leaf2.get_predictions()\n",
    "# nw_sum_cresum2leaf2.get_results_loocv()\n",
    "# nw_sum_cresum2leaf2.get_results_weightedloocv(connectivity_data.summary_structures,crelines,ia_map)\n",
    "#nw_sum_creleaf2.meanloss\n",
    "\n",
    "\n",
    "\n"
   ]
  },
  {
   "cell_type": "code",
   "execution_count": 66,
   "metadata": {
    "collapsed": true
   },
   "outputs": [],
   "source": [
    "#distances = pds#{sid: connectivity_data.structure_datas[sid].smoothed_losses_str for sid in major_structure_ids}\n",
    "nw_cremajor_creleaf2 = CrossvalNW(reg_proj_injnorm, distances,cre2_index_matrices, creleaf2_evalindices,gammas)\n",
    "nw_cremajor_creleaf2.gammas = gammas# ds\n",
    "nw_cremajor_creleaf2.predictions = nw_cremajor_creleaf2.get_predictions()\n",
    "nw_cremajor_creleaf2.get_results_loocv()\n",
    "nw_cremajor_creleaf2.get_results_weightedloocv(connectivity_data.leafs,crelines,ia_map)\n"
   ]
  },
  {
   "cell_type": "code",
   "execution_count": 67,
   "metadata": {},
   "outputs": [
    {
     "data": {
      "text/plain": [
       "array([0.68923929, 0.49739986, 0.4710937 , 0.45278232, 0.40968429,\n",
       "       0.35290677, 0.58946796, 0.434511  , 0.56213231, 0.52581669,\n",
       "       0.35270877, 0.72261032])"
      ]
     },
     "execution_count": 67,
     "metadata": {},
     "output_type": "execute_result"
    }
   ],
   "source": [
    "nw_cremajor_creleaf2.meanloss"
   ]
  },
  {
   "cell_type": "code",
   "execution_count": 68,
   "metadata": {
    "collapsed": true
   },
   "outputs": [],
   "source": [
    "\n",
    "mean_gammas = np.ones(12)*0.000001\n",
    "mean_creleaf_creleaf2 = CrossvalNW(reg_proj_injnorm, distances, creleaf2_index_matrices, creleaf2_evalindices,mean_gammas)\n",
    "mean_creleaf_creleaf2.gammas = mean_gammas# ds\n",
    "mean_creleaf_creleaf2.predictions = mean_creleaf_creleaf2.get_predictions()\n",
    "mean_creleaf_creleaf2.get_results_loocv()\n",
    "mean_creleaf_creleaf2.get_results_weightedloocv(connectivity_data.leafs,crelines,ia_map)\n"
   ]
  },
  {
   "cell_type": "code",
   "execution_count": 69,
   "metadata": {},
   "outputs": [
    {
     "data": {
      "text/plain": [
       "array([0.84935969, 0.49739986, 0.32799569, 0.42973161, 0.39058528,\n",
       "       0.42904373, 0.7789465 , 0.41798414, 0.56213315, 0.53905097,\n",
       "       0.33089021, 0.72395148])"
      ]
     },
     "execution_count": 69,
     "metadata": {},
     "output_type": "execute_result"
    }
   ],
   "source": [
    "mean_creleaf_creleaf2.meanloss"
   ]
  },
  {
   "cell_type": "code",
   "execution_count": 70,
   "metadata": {
    "collapsed": true
   },
   "outputs": [],
   "source": [
    "#el_labels = np.zeros(150, dtype = str)\n",
    "models = np.asarray(['Mean','NW','NW','NW','NW','NW','EL'])\n",
    "datas = np.asarray([r\"$I_c \\cap I_L$\",\n",
    "                   r\"$I_c \\cap I_M$\",\n",
    "                   r\"$I_c \\cap I_L$\",\n",
    "                    r\"$I_L$\",\n",
    "                  r\"$I_{wt} \\cap I_M$\",\n",
    "                  r\"$I_M$\"  ,\n",
    "                  r\"$I_L$\"])\n",
    "multi_ind = np.vstack([models,datas])\n",
    "multi_ind = np.asarray(multi_ind, dtype = str)\n",
    "multi_ind = list(zip(*multi_ind))\n",
    "multi_ind = pd.MultiIndex.from_tuples(multi_ind, names=[r\"$\\widehat f$\",r\"$\\mathcal D$\"])\n",
    "\n",
    "reo = np.asarray([4,7,2,1,10,9,11,3,5,8,6,0])\n",
    "results = pd.DataFrame([mean_creleaf_creleaf2.meanloss_weighted,\n",
    "nw_cremajor_creleaf2.meanloss_weighted,\n",
    "nw_creleaf_creleaf2.meanloss_weighted,\n",
    "nw_leaf_creleaf2.meanloss_weighted,\n",
    "nw_majorwt_creleaf2.meanloss_weighted,\n",
    "nw_major_creleaf2.meanloss_weighted,\n",
    "twostage_leaf_creleaf2.meanloss_weighted], index = multi_ind, columns = major_structures).transpose()#, cre2_index_matrices\n",
    "trunc = lambda x: math.trunc(1000 * x) / 1000;\n",
    "\n",
    "results = results.applymap(trunc)"
   ]
  },
  {
   "cell_type": "code",
   "execution_count": 71,
   "metadata": {},
   "outputs": [
    {
     "name": "stdout",
     "output_type": "stream",
     "text": [
      "\\begin{tabular}{lrrrrrrr}\n",
      "\\toprule\n",
      "$\\widehat f$ &           Mean & \\multicolumn{5}{l}{NW} &     EL \\\\\n",
      "$\\mathcal D$ & $I_c \\cap I_L$ & $I_c \\cap I_M$ & $I_c \\cap I_L$ &  $I_L$ & $I_{wt} \\cap I_M$ &  $I_M$ &  $I_L$ \\\\\n",
      "\\midrule\n",
      "Isocortex &          0.413 &          0.453 &          0.408 &  0.538 &             0.528 &  0.528 &  0.396 \\\\\n",
      "OLF       &          0.499 &          0.504 &          0.494 &  0.441 &             0.543 &  0.543 &  0.437 \\\\\n",
      "HPF       &          0.336 &          0.483 &          0.332 &  0.444 &             0.501 &  0.501 &  0.321 \\\\\n",
      "CTXsp     &          0.497 &          0.497 &          0.497 &  0.497 &             0.497 &  0.497 &  0.497 \\\\\n",
      "STR       &          0.359 &          0.386 &          0.359 &  0.364 &             0.433 &  0.433 &  0.322 \\\\\n",
      "PAL       &          0.519 &          0.497 &          0.519 &  0.436 &             0.459 &  0.459 &  0.434 \\\\\n",
      "TH        &          0.769 &          0.767 &          0.769 &  0.514 &             0.539 &  0.539 &  0.556 \\\\\n",
      "HY        &          0.414 &          0.439 &          0.414 &  0.441 &             0.452 &  0.452 &  0.399 \\\\\n",
      "MB        &          0.459 &          0.396 &          0.397 &  0.358 &             0.324 &  0.324 &  0.403 \\\\\n",
      "P         &          0.562 &          0.562 &          0.562 &  0.758 &             0.764 &  0.764 &  0.562 \\\\\n",
      "MY        &          0.699 &          0.552 &          0.621 &  0.439 &             0.578 &  0.578 &  0.439 \\\\\n",
      "CB        &          0.849 &          0.689 &          0.849 &  0.500 &             0.615 &  0.615 &  0.495 \\\\\n",
      "\\bottomrule\n",
      "\\end{tabular}\n",
      "\n"
     ]
    }
   ],
   "source": [
    "print(results.iloc[reo].to_latex(index=True,escape=False))\n",
    "#{sid: connectivity_data.structure_datas[sid].smoothed_losses_str for sid in major_structure_ids}\n"
   ]
  },
  {
   "cell_type": "code",
   "execution_count": null,
   "metadata": {
    "collapsed": true
   },
   "outputs": [],
   "source": []
  }
 ],
 "metadata": {
  "kernelspec": {
   "display_name": "allen_010719_5",
   "language": "python",
   "name": "allen_010719_5"
  },
  "language_info": {
   "codemirror_mode": {
    "name": "ipython",
    "version": 3
   },
   "file_extension": ".py",
   "mimetype": "text/x-python",
   "name": "python",
   "nbconvert_exporter": "python",
   "pygments_lexer": "ipython3",
   "version": "3.7.6"
  }
 },
 "nbformat": 4,
 "nbformat_minor": 2
}

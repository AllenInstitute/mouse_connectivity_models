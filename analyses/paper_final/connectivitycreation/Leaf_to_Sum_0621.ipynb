{
 "cells": [
  {
   "cell_type": "code",
   "execution_count": 8,
   "metadata": {},
   "outputs": [
    {
     "name": "stdout",
     "output_type": "stream",
     "text": [
      "The autoreload extension is already loaded. To reload it, use:\n",
      "  %reload_ext autoreload\n"
     ]
    }
   ],
   "source": [
    "%load_ext autoreload\n",
    "%autoreload 2\n",
    "\n",
    "import os\n",
    "import numpy as np\n",
    "import pandas as pd \n",
    "import sys\n",
    "#import pickle\n",
    "import itertools\n",
    "import seaborn as sns\n",
    "import matplotlib.pyplot as plt\n",
    "from mpl_toolkits.mplot3d import Axes3D\n",
    "import random\n",
    "from sklearn.metrics import pairwise_distances\n",
    "from sklearn.kernel_ridge import KernelRidge\n",
    "import math\n",
    "import dill as pickle\n",
    "\n",
    "\n",
    "\n",
    "workingdirectory = os.popen('git rev-parse --show-toplevel').read()[:-1]\n",
    "sys.path.append(workingdirectory)\n",
    "os.chdir(workingdirectory)\n",
    "\n",
    "import allensdk.core.json_utilities as ju\n",
    "from allensdk.core.mouse_connectivity_cache import MouseConnectivityCache\n",
    "\n",
    "from mcmodels.utils import get_aligned_ids\n",
    "from mcmodels.core import VoxelModelCache\n",
    "from mcmodels.connectivity.creation import get_connectivity_matrices3\n",
    "from mcmodels.core.connectivity_data import get_connectivity_data\n",
    "#from mcmodels.models.voxel.crossvalidation import get_nwloocv_predictions_multimodel_merge_dists\n",
    "from mcmodels.utils import nonzero_unique\n",
    "from mcmodels.core.utils import get_structure_id,get_ordered_summary_structures, get_leaves_ontologicalorder, get_indices_2ormore, get_indices, get_indices2,get_eval_indices,screen_index_matrices,screen_index_matrices2,screen_index_matrices3\n",
    "from mcmodels.regressors import NadarayaWatson\n",
    "from mcmodels.core.plotting import plot_loss_surface,plot_loss_scatter\n",
    "from mcmodels.models.expectedloss.crossvalidation import get_loss_surface_cv_spline\n",
    "from mcmodels.models.expectedloss.crossvalidation import get_embedding_cv\n",
    "from mcmodels.models.crossvalidation import get_best_hyperparameters,get_loss_best_hyp,get_loss, Crossval\n",
    "from mcmodels.models.voxel.crossvalidation import get_nwloocv_predictions_multimodel_merge_dists\n",
    "\n",
    "def get_row_col_names(connectivity_data, target_ordering):\n",
    "    \n",
    "    rnames = np.asarray([ia_map[target_ordering[i]] for i in range(len(target_ordering))])\n",
    "    ipsi_target_regions = connectivity_data.ipsi_target_regions\n",
    "    contra_target_regions = connectivity_data.contra_target_regions                               \n",
    "    ipsi_indices= np.asarray([])\n",
    "    contra_indices = np.asarray([])\n",
    "    for iy in target_ordering: \n",
    "        ipsi_indices = np.concatenate([ipsi_indices, np.where(ipsi_target_regions==iy)[0]] )\n",
    "        contra_indices = np.concatenate([contra_indices, np.where(contra_target_regions==iy)[0]] )\n",
    "    ipsi_indices = np.asarray(ipsi_indices, dtype = int)   \n",
    "    contra_indices = np.asarray(contra_indices, dtype = int)    \n",
    "    reorder = np.concatenate([ipsi_indices, len(ipsi_indices) + contra_indices])  \n",
    "    colids = np.concatenate([ipsi_target_regions, contra_target_regions])[reorder]\n",
    "    cnames = np.asarray([ia_map[colids[i]] for i in range(len(colids))])\n",
    "    ccomb = np.vstack([np.concatenate([np.repeat('ipsi',connectivity_data.ipsi_target_regions.shape[0]),\n",
    "                                       np.repeat('contra',connectivity_data.contra_target_regions.shape)]), cnames])\n",
    "    ccomb = np.asarray(ccomb)\n",
    "    tuples2 = list(zip(*ccomb))\n",
    "    cnam_multi = pd.MultiIndex.from_tuples(tuples2, names=['first', 'second'])\n",
    "    return(cnam_multi, rnames)\n",
    "\n",
    "def fix_pdcsv(csv):\n",
    "    \n",
    "    #wt_conn = pd.read_csv('/Users/samsonkoelle/wt_leafsmooth_leafsurface_sumtarget.csv',  header=[0,1])\n",
    "    csv_rownames = np.asarray(csv.iloc[:,0])\n",
    "    csv = csv.iloc[:,1:]\n",
    "    csv.index = csv_rownames\n",
    "    return(csv)\n",
    "\n",
    "def fill_df_na(data, indices):\n",
    "    \n",
    "    for i in range(indices.shape[0]):\n",
    "        data.iloc[indices[i,0],indices[i,1]] = np.nan\n",
    "        \n",
    "    return(data)\n",
    "\n",
    "from mcmodels.core import Mask\n",
    "\n",
    "def get_regional_sizes(cache,sid,hemisphere_id):\n",
    "    \n",
    "    mask = Mask.from_cache(cache, structure_ids=[sid], hemisphere_id=hemisphere_id)\n",
    "    size = mask.coordinates.shape[0]\n",
    "    \n",
    "    return(size)\n",
    "\n",
    "def get_aligned_ids(st,list1,list2):\n",
    "    output = np.empty(len(list1), dtype = int)\n",
    "    for i in range(len(list1)):\n",
    "        output[ i] = np.intersect1d(st.ancestor_ids([list1[i]]), list2)[0]\n",
    "    return(output)\n",
    "\n",
    "def get_combined_sources(data, list1, list2, sizes):\n",
    "    ids = np.where(data.sum(axis = 1) > 0)[0]\n",
    "    ool_s = get_aligned_ids(st,list1,list2)\n",
    "    list2 = np.asarray(list2)\n",
    "    nsum = list2.shape[0]\n",
    "    data_sum = np.zeros((nsum, data.shape[1]))\n",
    "    ids = np.where(data.sum(axis = 1) > 0)[0]\n",
    "    for s in range(nsum):\n",
    "        inds = np.where(ool_s[ids] == list2[s])[0]\n",
    "        #print(sizes[inds])\n",
    "        data_sum[s] = sizes[ids][inds] @ data[ids][inds] / np.sum(sizes[ids][inds])\n",
    "    return(data_sum)\n",
    "\n",
    "def get_combined_targets(data, list1, list2, sizes):\n",
    "    '''\n",
    "    this function sums connectivity of targets in list 1 that have the same metastructure in list 2\n",
    "    '''\n",
    "    ool_s = get_aligned_ids(st,list1,list2)\n",
    "    list2 = np.asarray(list2)\n",
    "    nsum = list2.shape[0]\n",
    "    data_sum = np.zeros((data.shape[0], nsum)) \n",
    "    for s in range(nsum):\n",
    "        inds = np.where(ool_s == list2[s])[0]\n",
    "        #print(inds, data.shape)\n",
    "        data_sum[:,s] = data[:,inds].sum(axis = 1)#data[:,inds].transpose()#sizes[inds] @ data[:,inds].transpose() / np.sum(sizes[inds])\n",
    "        #print(np.nanmax(data_sum[:,s]))\n",
    "\n",
    "    return(data_sum)\n",
    "\n",
    "def comb_targs(csv):\n",
    "    \n",
    "    conn_leafleaf = pd.read_csv(csv,  header=[0,1])\n",
    "    conn_leafleaf = fix_pdcsv(conn_leafleaf)    \n",
    "    data = conn_leafleaf\n",
    "    data_sourcecomb = np.asarray(data)\n",
    "    contra_subset_names = targets[:contra_min][:,1]\n",
    "    contra_subset_ids = np.asarray([ai_map[contra_subset_names[i]] for i in range(len(contra_subset_names))])\n",
    "    contra_targets_summary_ordered = np.asarray([i for i in ontological_order if i in contra_targets_summary_unordered])\n",
    "    ipsi_targets_summary_ordered = np.asarray([i for i in ontological_order if i in ipsi_targets_summary_unordered])\n",
    "    ia_map = {value: key for key, value in ai_map.items()}\n",
    "    #get combined targets\n",
    "    list1 = np.asarray([ai_map[targets[:,1][i]] for i in range(contra_min)])\n",
    "    data_ipsicomb = get_combined_targets(data_sourcecomb[:,:(contra_min)], list1, np.asarray(ipsi_targets_summary_ordered), sizes_ipsi)\n",
    "    list1 = np.asarray([ai_map[targets[:,1][i]] for i in range(contra_min, targets.shape[0])])\n",
    "    data_contracomb = get_combined_targets(data_sourcecomb[:,(contra_min):], list1, np.asarray(contra_targets_summary_ordered), sizes_contra)\n",
    "    data_combined = np.hstack([data_ipsicomb,data_contracomb])\n",
    "    ncontra = contra_targets_summary_ordered.shape[0]\n",
    "    nipsi = ipsi_targets_summary_ordered.shape[0]\n",
    "    ctso_names = [ia_map[contra_targets_summary_ordered[i]] for i in range(len(contra_targets_summary_ordered))]\n",
    "    itso_names = [ia_map[ipsi_targets_summary_ordered[i]] for i in range(len(ipsi_targets_summary_ordered))]\n",
    "    bigs = np.concatenate([np.repeat('ipsi', nipsi),np.repeat('contra', ncontra)])\n",
    "    smalls = np.concatenate([itso_names, ctso_names])\n",
    "    arrays = np.vstack([bigs,smalls]  )\n",
    "    tuples = list(zip(*arrays))\n",
    "    columns = pd.MultiIndex.from_tuples(tuples, names=[\"first\", \"second\"])\n",
    "    output = pd.DataFrame(data_combined,index = data.index, columns=columns)\n",
    "    return(output)\n",
    "\n",
    "def comb_targs_sumsum(csv):\n",
    "    \n",
    "    conn_leafleaf = pd.read_csv(csv,  header=[0,1])\n",
    "    conn_leafleaf = fix_pdcsv(conn_leafleaf)    \n",
    "    data = conn_leafleaf\n",
    "    list1 = [ai_map[data.index[i]] for i in range(data.shape[0])]\n",
    "    list2 = ontological_order#[ai_map[wt_conn.columns[i][1]] for i in range(321)]\n",
    "    data_sourcecomb = np.asarray(get_combined_sources(np.asarray(data), list1, list2, sizes))\n",
    "\n",
    "    #data_sourcecomb = np.asarray(data)\n",
    "    contra_subset_names = targets[:contra_min][:,1]\n",
    "    contra_subset_ids = np.asarray([ai_map[contra_subset_names[i]] for i in range(len(contra_subset_names))])\n",
    "    contra_targets_summary_ordered = np.asarray([i for i in ontological_order if i in contra_targets_summary_unordered])\n",
    "    ipsi_targets_summary_ordered = np.asarray([i for i in ontological_order if i in ipsi_targets_summary_unordered])\n",
    "    ia_map = {value: key for key, value in ai_map.items()}\n",
    "    #get combined targets\n",
    "    list1 = np.asarray([ai_map[targets[:,1][i]] for i in range(contra_min)])\n",
    "    data_ipsicomb = get_combined_targets(data_sourcecomb[:,:(contra_min)], list1, np.asarray(ipsi_targets_summary_ordered), sizes_ipsi)\n",
    "    list1 = np.asarray([ai_map[targets[:,1][i]] for i in range(contra_min, targets.shape[0])])\n",
    "    data_contracomb = get_combined_targets(data_sourcecomb[:,(contra_min):], list1, np.asarray(contra_targets_summary_ordered), sizes_contra)\n",
    "    data_combined = np.hstack([data_ipsicomb,data_contracomb])\n",
    "    ncontra = contra_targets_summary_ordered.shape[0]\n",
    "    nipsi = ipsi_targets_summary_ordered.shape[0]\n",
    "    ctso_names = [ia_map[contra_targets_summary_ordered[i]] for i in range(len(contra_targets_summary_ordered))]\n",
    "    itso_names = [ia_map[ipsi_targets_summary_ordered[i]] for i in range(len(ipsi_targets_summary_ordered))]\n",
    "    bigs = np.concatenate([np.repeat('ipsi', nipsi),np.repeat('contra', ncontra)])\n",
    "    smalls = np.concatenate([itso_names, ctso_names])\n",
    "    arrays = np.vstack([bigs,smalls])\n",
    "    tuples = list(zip(*arrays))\n",
    "    columns = pd.MultiIndex.from_tuples(tuples, names=[\"first\", \"second\"])\n",
    "    output = pd.DataFrame(data_combined,index = ontological_order, columns=columns)\n",
    "    return(output)"
   ]
  },
  {
   "cell_type": "code",
   "execution_count": 2,
   "metadata": {},
   "outputs": [
    {
     "name": "stdout",
     "output_type": "stream",
     "text": [
      "annotation/ccf_2017\n"
     ]
    }
   ],
   "source": [
    "#read data\n",
    "TOP_DIR = '/Users/samsonkoelle/alleninstitute/mcm_2020/mcm_updated/'\n",
    "INPUT_JSON = os.path.join(TOP_DIR, 'input_011520.json')\n",
    "EXPERIMENTS_EXCLUDE_JSON = os.path.join(TOP_DIR, 'experiments_exclude.json')\n",
    "input_data = ju.read(INPUT_JSON)\n",
    "experiments_exclude = ju.read(EXPERIMENTS_EXCLUDE_JSON)\n",
    "manifest_file = input_data.get('manifest_file')\n",
    "manifest_file = os.path.join(TOP_DIR, manifest_file)\n",
    "cache = VoxelModelCache(manifest_file=manifest_file)\n",
    "st = cache.get_structure_tree()\n",
    "ai_map = st.get_id_acronym_map()\n",
    "ontological_order = np.load('/Users/samsonkoelle/alleninstitute/sambranch/mouse_connectivity_models/paper/info/ontological_order_v3.npy')\n",
    "ipsi_targets_summary_unordered = np.load('/Users/samsonkoelle/alleninstitute/sambranch/mouse_connectivity_models/paper/info/summary_ipsi_targets.npy')\n",
    "contra_targets_summary_unordered = np.load('/Users/samsonkoelle/alleninstitute/sambranch/mouse_connectivity_models/paper/info/summary_contra_targets.npy')\n",
    "\n",
    "\n",
    "csv = '/Users/samsonkoelle/alleninstitute/sambranch/mouse_connectivity_models/paper/connectivities/elsumsurfleafsmth_v3_leafleaf_wt.csv'\n",
    "conn_leafleaf = pd.read_csv(csv,  header=[0,1])\n",
    "conn_leafleaf = fix_pdcsv(conn_leafleaf)   \n",
    "data = conn_leafleaf\n",
    "targets = np.asarray(list(data.columns))\n",
    "contra_min = np.where(targets[:,0] == 'ipsi')[0].max() + 1\n",
    "sizes = np.asarray([get_regional_sizes(cache,ai_map[data.index[i]],hemisphere_id = 2) for i in range(len(data.index))])\n",
    "sizes_ipsi = np.asarray([get_regional_sizes(cache,ai_map[targets[i][1]],hemisphere_id = 2) for i in range(contra_min)])\n",
    "sizes_contra = np.asarray([get_regional_sizes(cache,ai_map[targets[i][1]],hemisphere_id = 1) for i in range(contra_min, targets.shape[0])])\n"
   ]
  },
  {
   "cell_type": "code",
   "execution_count": 40,
   "metadata": {},
   "outputs": [
    {
     "name": "stderr",
     "output_type": "stream",
     "text": [
      "/Users/samsonkoelle/anaconda3/envs/allen_010719_5/lib/python3.7/site-packages/ipykernel_launcher.py:104: RuntimeWarning: invalid value encountered in true_divide\n"
     ]
    }
   ],
   "source": [
    "#eval_cre_list = ['Cux2-IRES-Cre','Ntsr1-Cre_GN220','Rbp4-Cre_KL100','Tlx3-Cre_PL56']\n",
    "output = comb_targs_sumsum('/Users/samsonkoelle/alleninstitute/sambranch/mouse_connectivity_models/paper/connectivities/el_leafsurf_leafsmth_leafleaf_C57BL6J0428_log6.csv')"
   ]
  },
  {
   "cell_type": "code",
   "execution_count": 41,
   "metadata": {
    "collapsed": true
   },
   "outputs": [],
   "source": [
    "mcc = MouseConnectivityCache(manifest_file = '../connectivity/mouse_connectivity_manifest.json')\n",
    "st = mcc.get_structure_tree()\n",
    "ai_map = st.get_id_acronym_map()\n",
    "ia_map = {value: key for key, value in ai_map.items()}\n"
   ]
  },
  {
   "cell_type": "code",
   "execution_count": 42,
   "metadata": {},
   "outputs": [],
   "source": [
    "ontological_order_names = [ia_map[ontological_order[i]] for i in range(len(ontological_order))]"
   ]
  },
  {
   "cell_type": "code",
   "execution_count": 43,
   "metadata": {},
   "outputs": [],
   "source": [
    "output.index = ontological_order_names\n",
    "#output.to_csv('/Users/samsonkoelle/alleninstitute/sambranch/mouse_connectivity_models/paper/connectivities/el_leafsurf_leafsmth_leafleaf_C57BL6J0428_log6_sumsum.csv')"
   ]
  },
  {
   "cell_type": "code",
   "execution_count": 93,
   "metadata": {},
   "outputs": [],
   "source": [
    "output.to_csv('/Users/samsonkoelle/alleninstitute/sambranch/mouse_connectivity_models/paper/connectivities/el_leafsurf_leafsmth_leafleaf_C57BL6J0428_log6_sumsum.csv')"
   ]
  },
  {
   "cell_type": "code",
   "execution_count": 44,
   "metadata": {
    "collapsed": true
   },
   "outputs": [],
   "source": [
    "targ_sum_major_names = np.load('/Users/samsonkoelle/alleninstitute/sambranch/mouse_connectivity_models/paper/info/targ_sum_major_names.npy')"
   ]
  },
  {
   "cell_type": "code",
   "execution_count": 45,
   "metadata": {},
   "outputs": [
    {
     "name": "stderr",
     "output_type": "stream",
     "text": [
      "/Users/samsonkoelle/anaconda3/envs/allen_010719_5/lib/python3.7/site-packages/ipykernel_launcher.py:1: RuntimeWarning: divide by zero encountered in log10\n",
      "  \"\"\"Entry point for launching an IPython kernel.\n"
     ]
    }
   ],
   "source": [
    "to_plot = np.log10(output.iloc[:43, :43])\n",
    "lowlim = -6\n",
    "to_plot[to_plot < lowlim] = lowlim"
   ]
  },
  {
   "cell_type": "code",
   "execution_count": 90,
   "metadata": {},
   "outputs": [],
   "source": [
    "import matplotlib.pyplot as plt\n",
    "import matplotlib.colors as colors\n",
    "import numpy as np\n",
    "\n",
    "def truncate_colormap(cmap, minval=0.0, maxval=1.0, n=100):\n",
    "    new_cmap = colors.LinearSegmentedColormap.from_list(\n",
    "        'trunc({n},{a:.2f},{b:.2f})'.format(n=cmap.name, a=minval, b=maxval),\n",
    "        #cmap(np.linspace(maxval, minval, n)))\n",
    "        cmap(np.linspace(minval,maxval , n)))\n",
    "    return new_cmap\n",
    "\n",
    "#arr = np.linspace(0, 50, 100).reshape((10, 10))\n",
    "#fig, ax = plt.subplots(ncols=2)\n",
    "\n",
    "cmap = plt.get_cmap('Greys')\n",
    "new_cmap = truncate_colormap(cmap, 0.1,1.)"
   ]
  },
  {
   "cell_type": "code",
   "execution_count": 91,
   "metadata": {},
   "outputs": [
    {
     "data": {
      "text/plain": [
       "<seaborn.matrix.ClusterGrid at 0x1398d9b50>"
      ]
     },
     "execution_count": 91,
     "metadata": {},
     "output_type": "execute_result"
    },
    {
     "data": {
      "image/png": "[encoded data removed]",
      "text/plain": [
       "<Figure size 720x720 with 4 Axes>"
      ]
     },
     "metadata": {
      "needs_background": "light"
     },
     "output_type": "display_data"
    }
   ],
   "source": [
    "sns.clustermap(to_plot,\n",
    "               vmin = -6,\n",
    "               vmax=  0,\n",
    "              col_cluster = False, \n",
    "               row_cluster = False,\n",
    "              cmap = new_cmap)"
   ]
  },
  {
   "cell_type": "code",
   "execution_count": null,
   "metadata": {
    "collapsed": true
   },
   "outputs": [],
   "source": []
  }
 ],
 "metadata": {
  "kernelspec": {
   "display_name": "mcm_class",
   "language": "python",
   "name": "mcm_class"
  },
  "language_info": {
   "codemirror_mode": {
    "name": "ipython",
    "version": 3
   },
   "file_extension": ".py",
   "mimetype": "text/x-python",
   "name": "python",
   "nbconvert_exporter": "python",
   "pygments_lexer": "ipython3",
   "version": "3.7.11"
  }
 },
 "nbformat": 4,
 "nbformat_minor": 2
}

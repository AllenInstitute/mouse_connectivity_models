{
 "cells": [
  {
   "cell_type": "code",
   "execution_count": 1,
   "metadata": {},
   "outputs": [],
   "source": [
    "%load_ext autoreload\n",
    "%autoreload 2"
   ]
  },
  {
   "cell_type": "code",
   "execution_count": 2,
   "metadata": {},
   "outputs": [
    {
     "name": "stderr",
     "output_type": "stream",
     "text": [
      "/Users/samsonkoelle/miniconda3/envs/mcm_class/lib/python3.7/site-packages/sklearn/utils/deprecation.py:144: FutureWarning: The sklearn.linear_model.base module is  deprecated in version 0.22 and will be removed in version 0.24. The corresponding classes / functions should instead be imported from sklearn.linear_model. Anything that cannot be imported from sklearn.linear_model is now part of the private API.\n",
      "  warnings.warn(message, FutureWarning)\n",
      "/Users/samsonkoelle/miniconda3/envs/mcm_class/lib/python3.7/site-packages/sklearn/utils/deprecation.py:144: FutureWarning: The sklearn.metrics.scorer module is  deprecated in version 0.22 and will be removed in version 0.24. The corresponding classes / functions should instead be imported from sklearn.metrics. Anything that cannot be imported from sklearn.metrics is now part of the private API.\n",
      "  warnings.warn(message, FutureWarning)\n"
     ]
    }
   ],
   "source": [
    "import pandas as pd\n",
    "import numpy as np\n",
    "import os\n",
    "import numpy as np\n",
    "import pandas as pd \n",
    "import sys\n",
    "\n",
    "workingdirectory = os.popen('git rev-parse --show-toplevel').read()[:-1]\n",
    "sys.path.append(workingdirectory)\n",
    "os.chdir(workingdirectory)\n",
    "\n",
    "import allensdk.core.json_utilities as ju\n",
    "from allensdk.core.mouse_connectivity_cache import MouseConnectivityCache\n",
    "\n",
    "from mcmodels.core import VoxelModelCache\n",
    "from mcmodels.core.utils import get_structure_id,get_ordered_summary_structures\n",
    "from mcmodels.core.connectivity_data import get_connectivity_data\n",
    "from mcmodels.core.utils import get_leaves_ontologicalorder\n",
    "from mcmodels.utils import get_aligned_ids, fix_pdcsv"
   ]
  },
  {
   "cell_type": "code",
   "execution_count": 3,
   "metadata": {},
   "outputs": [
    {
     "name": "stdout",
     "output_type": "stream",
     "text": [
      "annotation/ccf_2017\n"
     ]
    }
   ],
   "source": [
    "#read data\n",
    "TOP_DIR = workingdirectory\n",
    "INPUT_JSON = workingdirectory + '/data/meta/input_011520.json'\n",
    "EXPERIMENTS_EXCLUDE_JSON = workingdirectory + '/data/meta/experiments_exclude.json'\n",
    "\n",
    "input_data = ju.read(INPUT_JSON)\n",
    "manifest_file = input_data.get('manifest_file')\n",
    "manifest_file = os.path.join(TOP_DIR, manifest_file)\n",
    "experiments_exclude = ju.read(EXPERIMENTS_EXCLUDE_JSON)\n",
    "\n",
    "#NOTE (Sam): hyperparameters are loaded from the output directory\n",
    "cache = VoxelModelCache(manifest_file=manifest_file)\n",
    "major_structures = input_data.get('structures')\n",
    "major_structure_ids = [get_structure_id(cache, s) for s in major_structures]\n",
    "data_info = pd.read_excel(workingdirectory + '/data/meta/Whole Brain Cre Image Series_curation only.xlsx', 'all datasets curated_070919pull')\n",
    "data_info.set_index(\"id\", inplace=True)\n",
    "\n",
    "#NOTE (Sam): switched from v2 structures to v3\n",
    "#ontological_order = get_ordered_summary_structures(cache)\n",
    "ontological_order = get_ordered_summary_structures(cache,167587189)\n",
    "\n",
    "#NOTE (Sam): due to redundancy in ccfv3, its necessary to remove 'MDRNv', 'MDRNd' from summary structures (include as leafs of MDRN)\n",
    "#we retain ordering\n",
    "ontological_order = ontological_order[~np.in1d(ontological_order,[1098, 1107])]\n",
    "\n",
    "#NOTE (Sam): this was (seemingly mistakenly) mouse_connectivity_manifest.json in an earlier version\n",
    "mcc = MouseConnectivityCache(manifest_file = workingdirectory + '/data/meta/new_manifest.json')\n",
    "st = mcc.get_structure_tree()\n",
    "ai_map = st.get_id_acronym_map()\n",
    "ia_map = {value: key for key, value in ai_map.items()}\n",
    "\n",
    "cre = None\n",
    "eid_set=None\n",
    "high_res=False\n",
    "threshold_injection = False\n",
    "\n",
    "COARSE_STRUCTURE_SET_ID = 2\n",
    "DEFAULT_STRUCTURE_SET_IDS = tuple([COARSE_STRUCTURE_SET_ID])\n",
    "tree = cache.get_structure_tree()\n",
    "default_structures = tree.get_structures_by_set_id(DEFAULT_STRUCTURE_SET_IDS)\n",
    "default_structure_ids = [st['id'] for st in default_structures if st['id'] != 934]\n",
    "folder =  '/Users/samsonkoelle/mouse_connectivity_models/data/raw/'"
   ]
  },
  {
   "cell_type": "code",
   "execution_count": 4,
   "metadata": {},
   "outputs": [
    {
     "name": "stdout",
     "output_type": "stream",
     "text": [
      "512\n",
      "703\n",
      "1089\n",
      "1097\n",
      "315\n",
      "313\n",
      "354\n",
      "698\n",
      "771\n",
      "803\n",
      "477\n",
      "549\n"
     ]
    }
   ],
   "source": [
    "#NOTE (Sam): this will download the data if necessary \n",
    "connectivity_data = get_connectivity_data(cache, major_structure_ids, experiments_exclude, remove_injection = False, structure_set_id=167587189, folder = folder)\n",
    "connectivity_data.get_injection_hemisphere_ids()\n",
    "connectivity_data.align()\n",
    "connectivity_data.get_centroids()\n",
    "connectivity_data.get_data_matrices(default_structure_ids)\n",
    "connectivity_data.get_crelines(data_info)\n",
    "connectivity_data.ai_map = ai_map\n",
    "connectivity_data.get_summarystructures(data_info)\n"
   ]
  },
  {
   "cell_type": "code",
   "execution_count": 5,
   "metadata": {},
   "outputs": [],
   "source": [
    "ontological_order_leaves = get_leaves_ontologicalorder(connectivity_data, ontological_order)\n"
   ]
  },
  {
   "cell_type": "code",
   "execution_count": 8,
   "metadata": {},
   "outputs": [
    {
     "data": {
      "text/plain": [
       "array(True)"
      ]
     },
     "execution_count": 8,
     "metadata": {},
     "output_type": "execute_result"
    }
   ],
   "source": [
    "np.isin(269, ontological_order_leaves)"
   ]
  },
  {
   "cell_type": "code",
   "execution_count": 10,
   "metadata": {},
   "outputs": [
    {
     "ename": "NameError",
     "evalue": "name 'leafs' is not defined",
     "output_type": "error",
     "traceback": [
      "\u001b[0;31m---------------------------------------------------------------------------\u001b[0m",
      "\u001b[0;31mNameError\u001b[0m                                 Traceback (most recent call last)",
      "\u001b[0;32m/var/folders/5j/2xkgvzfs29nfprr5czfm2gtr0000gn/T/ipykernel_29071/3836883593.py\u001b[0m in \u001b[0;36m<module>\u001b[0;34m\u001b[0m\n\u001b[0;32m----> 1\u001b[0;31m \u001b[0mleafs\u001b[0m\u001b[0;34m[\u001b[0m\u001b[0;36m315\u001b[0m\u001b[0;34m]\u001b[0m\u001b[0;34m\u001b[0m\u001b[0;34m\u001b[0m\u001b[0m\n\u001b[0m",
      "\u001b[0;31mNameError\u001b[0m: name 'leafs' is not defined"
     ]
    }
   ],
   "source": [
    "leafs[315]"
   ]
  },
  {
   "cell_type": "code",
   "execution_count": 6,
   "metadata": {},
   "outputs": [],
   "source": [
    "np.save(workingdirectory + '/data/meta/default_structures', default_structures)\n",
    "np.save(workingdirectory + '/data/meta/ontological_order_v3', ontological_order)\n",
    "np.save(workingdirectory + '/data/meta/major_structures',major_structures)\n",
    "np.save(workingdirectory + '/data/meta/major_structure_ids',major_structure_ids)\n",
    "np.save(workingdirectory + '/data/meta/default_structure_ids', default_structure_ids)\n",
    "np.save(workingdirectory + '/data/meta/ontological_order_leaves_v3', ontological_order_leaves)"
   ]
  },
  {
   "cell_type": "code",
   "execution_count": 6,
   "metadata": {
    "collapsed": true
   },
   "outputs": [],
   "source": [
    "# wt_conn = pd.read_csv(workingdirectory + '/paper/connectivities/elsumsurfleafsmth_v3_leafsum_wt.csv', header = [0,1])\n",
    "# wt_conn = fix_pdcsv(wt_conn)\n",
    "# targ_sum = np.asarray(list(wt_conn.columns))[:,1]\n",
    "# targ_sum_id = np.asarray([ai_map[targ_sum[i]] for i in range(len(targ_sum))])\n",
    "# targ_sum_major = get_aligned_ids(targ_sum_id,major_structure_ids)\n",
    "# source_leaf_major = get_aligned_ids(ontological_order_leaves,major_structure_ids)\n",
    "# source_leaf_major_names = np.asarray([ia_map[source_leaf_major[i]] for i in range(len(source_leaf_major))])\n",
    "# targ_sum_major_names = np.asarray([ia_map[targ_sum_major[i]] for i in range(len(targ_sum_major))])\n",
    "# np.save(workingdirectory + '/paper/info/source_leaf_major_names', source_leaf_major_names)\n",
    "# np.save(workingdirectory + '/paper/info/targ_sum_major_names', targ_sum_major_names)"
   ]
  }
 ],
 "metadata": {
  "kernelspec": {
   "display_name": "mcm_class",
   "language": "python",
   "name": "mcm_class"
  },
  "language_info": {
   "codemirror_mode": {
    "name": "ipython",
    "version": 3
   },
   "file_extension": ".py",
   "mimetype": "text/x-python",
   "name": "python",
   "nbconvert_exporter": "python",
   "pygments_lexer": "ipython3",
   "version": "3.7.11"
  }
 },
 "nbformat": 4,
 "nbformat_minor": 2
}

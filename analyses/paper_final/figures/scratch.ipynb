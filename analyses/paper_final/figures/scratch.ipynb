{
 "cells": [
  {
   "cell_type": "code",
   "execution_count": 1,
   "id": "76cfa84f",
   "metadata": {},
   "outputs": [
    {
     "name": "stdout",
     "output_type": "stream",
     "text": [
      "starting model validation\n"
     ]
    },
    {
     "name": "stderr",
     "output_type": "stream",
     "text": [
      "/Users/samsonkoelle/miniconda3/envs/mcm_class/lib/python3.7/site-packages/sklearn/utils/deprecation.py:144: FutureWarning: The sklearn.decomposition.cdnmf_fast module is  deprecated in version 0.22 and will be removed in version 0.24. The corresponding classes / functions should instead be imported from sklearn.decomposition. Anything that cannot be imported from sklearn.decomposition is now part of the private API.\n",
      "  warnings.warn(message, FutureWarning)\n",
      "/Users/samsonkoelle/mouse_connectivity_models/mcmodels/utils.py:27: MatplotlibDeprecationWarning: Support for setting the 'text.latex.preamble' or 'pgf.preamble' rcParam to a list of strings is deprecated since 3.3 and will be removed two minor releases later; set it to a single string instead.\n",
      "  mpl.rcParams[\"text.latex.preamble\"] = [r\"\\usepackage{amsmath}\"]\n",
      "/Users/samsonkoelle/miniconda3/envs/mcm_class/lib/python3.7/site-packages/sklearn/utils/deprecation.py:144: FutureWarning: The sklearn.linear_model.base module is  deprecated in version 0.22 and will be removed in version 0.24. The corresponding classes / functions should instead be imported from sklearn.linear_model. Anything that cannot be imported from sklearn.linear_model is now part of the private API.\n",
      "  warnings.warn(message, FutureWarning)\n",
      "/Users/samsonkoelle/miniconda3/envs/mcm_class/lib/python3.7/site-packages/sklearn/utils/deprecation.py:144: FutureWarning: The sklearn.metrics.scorer module is  deprecated in version 0.22 and will be removed in version 0.24. The corresponding classes / functions should instead be imported from sklearn.metrics. Anything that cannot be imported from sklearn.metrics is now part of the private API.\n",
      "  warnings.warn(message, FutureWarning)\n"
     ]
    },
    {
     "name": "stdout",
     "output_type": "stream",
     "text": [
      "annotation/ccf_2017\n",
      "512\n",
      "703\n",
      "1089\n",
      "1097\n",
      "315\n",
      "313\n",
      "354\n",
      "698\n",
      "771\n",
      "803\n",
      "477\n",
      "549\n"
     ]
    }
   ],
   "source": [
    "print(\"starting model validation\")\n",
    "\n",
    "import os\n",
    "import numpy as np\n",
    "import pandas as pd\n",
    "import sys\n",
    "from sklearn.metrics import pairwise_distances\n",
    "import math\n",
    "import dill as pickle\n",
    "import matplotlib.pyplot as plt\n",
    "import seaborn as sns\n",
    "import allensdk.core.json_utilities as ju\n",
    "\n",
    "workingdirectory = os.popen(\"git rev-parse --show-toplevel\").read()[:-1]\n",
    "sys.path.append(workingdirectory)\n",
    "os.chdir(workingdirectory)\n",
    "\n",
    "from mcmodels.core import VoxelModelCache\n",
    "from mcmodels.core.connectivity_data import get_connectivity_data\n",
    "from mcmodels.core.utils import (\n",
    "    get_indices_2ormore,\n",
    "    get_eval_indices,\n",
    ")\n",
    "from mcmodels.models.expectedloss.crossvalidation import get_loss_surface_cv_spline\n",
    "from mcmodels.models.expectedloss.crossvalidation import get_embedding_cv\n",
    "from mcmodels.models.expectedloss.plotting import plot_loss_surface, plot_loss_scatter\n",
    "from mcmodels.models.voxel.crossvalidation import CrossvalNW\n",
    "from mcmodels.models.plotting import plot_loss\n",
    "\n",
    "# load metadata\n",
    "TOP_DIR = workingdirectory\n",
    "INPUT_JSON = workingdirectory + \"/data/meta/input_011520.json\"\n",
    "EXPERIMENTS_EXCLUDE_JSON = workingdirectory + \"/data/meta/experiments_exclude.json\"\n",
    "COARSE_STRUCTURE_SET_ID = 2\n",
    "DEFAULT_STRUCTURE_SET_IDS = tuple([COARSE_STRUCTURE_SET_ID])\n",
    "FOLDER = workingdirectory + \"/data/raw/\"\n",
    "\n",
    "input_data = ju.read(INPUT_JSON)\n",
    "experiments_exclude = ju.read(EXPERIMENTS_EXCLUDE_JSON)\n",
    "manifest_file = input_data.get(\"manifest_file\")\n",
    "manifest_file = os.path.join(TOP_DIR, manifest_file)\n",
    "cache = VoxelModelCache(manifest_file=manifest_file)\n",
    "st = cache.get_structure_tree()\n",
    "ai_map = st.get_id_acronym_map()\n",
    "ia_map = {value: key for key, value in ai_map.items()}\n",
    "major_structures = np.load(workingdirectory + \"/data/meta/major_structures.npy\")\n",
    "major_structure_ids = np.load(workingdirectory + \"/data/meta/major_structure_ids.npy\")\n",
    "data_info = pd.read_excel(\n",
    "    workingdirectory + \"/data/meta/Whole Brain Cre Image Series_curation only.xlsx\",\n",
    "    \"all datasets curated_070919pull\",\n",
    ")\n",
    "data_info.set_index(\"id\", inplace=True)\n",
    "with open(\"data/meta/leafs.pickle\", \"rb\") as handle:\n",
    "    leafs = pickle.load(handle)\n",
    "ontological_order_leaves = np.load(\n",
    "    workingdirectory + \"/data/meta/ontological_order_leaves_v3.npy\"\n",
    ")\n",
    "ontological_order = np.load(\"data/meta/ontological_order_v3.npy\")\n",
    "default_structures = st.get_structures_by_set_id(DEFAULT_STRUCTURE_SET_IDS)\n",
    "default_structure_ids = [st[\"id\"] for st in default_structures if st[\"id\"] != 934]\n",
    "reorder = np.asarray([4, 7, 2, 1, 10, 9, 11, 3, 5, 8, 6, 0], dtype=int)\n",
    "\n",
    "connectivity_data = get_connectivity_data(\n",
    "    cache,\n",
    "    major_structure_ids,\n",
    "    experiments_exclude,\n",
    "    remove_injection=False,\n",
    "    structure_set_id=167587189,\n",
    "    folder=FOLDER,\n",
    ")\n",
    "connectivity_data.ai_map = ai_map\n",
    "connectivity_data.leafs = leafs\n",
    "connectivity_data.get_injection_hemisphere_ids()\n",
    "connectivity_data.align()\n",
    "connectivity_data.get_centroids()\n",
    "connectivity_data.get_data_matrices(default_structure_ids)"
   ]
  },
  {
   "cell_type": "code",
   "execution_count": null,
   "id": "6341cbf2",
   "metadata": {},
   "outputs": [],
   "source": [
    "\n",
    "connectivity_data.get_crelines(data_info)\n",
    "connectivity_data.get_summarystructures(data_info)"
   ]
  },
  {
   "cell_type": "code",
   "execution_count": null,
   "id": "fef5fe11",
   "metadata": {},
   "outputs": [],
   "source": []
  },
  {
   "cell_type": "code",
   "execution_count": 14,
   "id": "df4e3697",
   "metadata": {},
   "outputs": [
    {
     "data": {
      "text/plain": [
       "63"
      ]
     },
     "execution_count": 14,
     "metadata": {},
     "output_type": "execute_result"
    }
   ],
   "source": [
    "len(experiments_exclude)"
   ]
  },
  {
   "cell_type": "code",
   "execution_count": 7,
   "id": "67748a98",
   "metadata": {},
   "outputs": [],
   "source": [
    "\n",
    "sid0 = list(connectivity_data.structure_datas.keys())[0]\n",
    "eid0 = list(connectivity_data.structure_datas[sid0].experiment_datas.keys())[0]\n",
    "contra_targetkey = connectivity_data.structure_datas[sid0].projection_mask.get_key(\n",
    "    structure_ids=ontological_order_leaves, hemisphere_id=1\n",
    ")\n",
    "ipsi_targetkey = connectivity_data.structure_datas[sid0].projection_mask.get_key(\n",
    "    structure_ids=ontological_order_leaves, hemisphere_id=2\n",
    ")\n",
    "# why is this ontological_order and not ontological_order_leavs\n",
    "connectivity_data.get_regionalized_normalized_data(\n",
    "    ontological_order, ipsi_targetkey, contra_targetkey\n",
    ")\n",
    "above_thresh = {}\n",
    "thresh = 1.\n",
    "for m in range(12):\n",
    "    sid = major_structure_ids[m]\n",
    "    above_thresh[sid] = np.where(\n",
    "        connectivity_data.structure_datas[sid].reg_inj.sum(axis=1) > thresh\n",
    "    )[0]"
   ]
  },
  {
   "cell_type": "code",
   "execution_count": 9,
   "id": "34a4b421",
   "metadata": {},
   "outputs": [
    {
     "data": {
      "text/plain": [
       "(119,)"
      ]
     },
     "execution_count": 9,
     "metadata": {},
     "output_type": "execute_result"
    }
   ],
   "source": [
    "above_thresh[1089].shape"
   ]
  },
  {
   "cell_type": "code",
   "execution_count": 10,
   "id": "3b147d62",
   "metadata": {},
   "outputs": [
    {
     "data": {
      "text/plain": [
       "(122, 15)"
      ]
     },
     "execution_count": 10,
     "metadata": {},
     "output_type": "execute_result"
    }
   ],
   "source": [
    "connectivity_data.structure_datas[1089].reg_inj.shape"
   ]
  },
  {
   "cell_type": "code",
   "execution_count": 13,
   "id": "2848ae6f",
   "metadata": {},
   "outputs": [
    {
     "data": {
      "text/plain": [
       "array([ 92.22285482,  86.94704444,  15.74930503,  31.87939723,\n",
       "        38.808499  ,  18.62808836,   2.82715991,  97.73040009,\n",
       "        76.96314173,  43.1752588 ,  52.08771899,  46.28863907,\n",
       "       134.58049557,  13.28672998, 130.87423988,   9.16048717,\n",
       "       163.84784195,  84.23641097,  35.32037612,  20.31832889,\n",
       "        38.50305367,  16.45821056,   7.21147324,  10.27625108,\n",
       "        48.91752228,  24.77646255,  52.86222553, 184.86096354,\n",
       "         0.45270361,   3.87058234,  55.64315703,  52.54935786,\n",
       "       385.60094273,   2.09677505,   5.94380331, 122.78809193,\n",
       "       298.60370907, 105.1412113 , 103.76855849,  43.98730092,\n",
       "        31.55429977, 140.22614589,  34.37143677,   5.27896428,\n",
       "        19.02999551, 274.74255389, 140.42110492,   7.02473011,\n",
       "        44.27008169, 151.80364642,  95.4914603 , 252.07355465,\n",
       "       198.92646762,   9.24949455,   3.13325644, 148.41680689,\n",
       "         8.15581935, 158.47872971,  70.78661102,  68.36185992,\n",
       "        42.94553366,   6.10664463,  12.83690054,   5.74193859,\n",
       "        65.62670135,  93.63350108, 326.68900582,  68.91642091,\n",
       "       374.70037842,  27.28485725, 105.05158223,   9.10317768,\n",
       "       137.48999732, 136.91153547,  54.16975432,  48.36360018,\n",
       "        77.33397894, 335.92626789, 167.52528446,  12.32372248,\n",
       "        34.42244542,  15.95372868,  83.41009473,  29.60592873,\n",
       "        38.27896043,  21.3390415 , 107.49303877,  42.64422512,\n",
       "       112.62811983,  33.35184402,  16.2904363 , 164.87510709,\n",
       "        35.1333228 ,  61.67078818,  49.49262863,  52.33844757,\n",
       "       148.13163165,   0.99980557, 138.01656869,  16.88897528,\n",
       "       219.42226648,  24.85614037,  19.24684911, 141.91563051,\n",
       "       242.66921234,   9.83879046,  75.08566856,  64.37427046,\n",
       "        42.3089395 , 150.90761662,  14.20398426,  39.77952328,\n",
       "        11.14380592,  23.81505941, 107.70259743,   0.89652407,\n",
       "        20.51848025, 171.55771774, 130.90150515,  23.17557259,\n",
       "       253.45456386, 417.97307205])"
      ]
     },
     "execution_count": 13,
     "metadata": {},
     "output_type": "execute_result"
    }
   ],
   "source": [
    "connectivity_data.structure_datas[1089].reg_inj.sum(axis = 1)"
   ]
  },
  {
   "cell_type": "code",
   "execution_count": 12,
   "id": "8d772cc6",
   "metadata": {},
   "outputs": [
    {
     "data": {
      "text/plain": [
       "(448962,)"
      ]
     },
     "execution_count": 12,
     "metadata": {},
     "output_type": "execute_result"
    }
   ],
   "source": [
    "ipsi_targetkey.shape"
   ]
  },
  {
   "cell_type": "code",
   "execution_count": 1,
   "id": "068af1c7",
   "metadata": {},
   "outputs": [
    {
     "ename": "NameError",
     "evalue": "name 'connectivity_data' is not defined",
     "output_type": "error",
     "traceback": [
      "\u001b[0;31m---------------------------------------------------------------------------\u001b[0m",
      "\u001b[0;31mNameError\u001b[0m                                 Traceback (most recent call last)",
      "\u001b[0;32m/var/folders/5j/2xkgvzfs29nfprr5czfm2gtr0000gn/T/ipykernel_56574/3709390524.py\u001b[0m in \u001b[0;36m<module>\u001b[0;34m\u001b[0m\n\u001b[0;32m----> 1\u001b[0;31m \u001b[0mconnectivity_data\u001b[0m\u001b[0;34m.\u001b[0m\u001b[0mstructure_datas\u001b[0m\u001b[0;34m[\u001b[0m\u001b[0;36m1089\u001b[0m\u001b[0;34m]\u001b[0m\u001b[0;34m.\u001b[0m\u001b[0minjections\u001b[0m\u001b[0;34m.\u001b[0m\u001b[0msum\u001b[0m\u001b[0;34m(\u001b[0m\u001b[0maxis\u001b[0m \u001b[0;34m=\u001b[0m \u001b[0;36m1\u001b[0m\u001b[0;34m)\u001b[0m\u001b[0;34m\u001b[0m\u001b[0;34m\u001b[0m\u001b[0m\n\u001b[0m",
      "\u001b[0;31mNameError\u001b[0m: name 'connectivity_data' is not defined"
     ]
    }
   ],
   "source": [
    "connectivity_data.structure_datas[1089].injections.sum(axis = 1)"
   ]
  },
  {
   "cell_type": "code",
   "execution_count": 3,
   "id": "8c97ca09",
   "metadata": {},
   "outputs": [
    {
     "ename": "NameError",
     "evalue": "name 'connectivity_data' is not defined",
     "output_type": "error",
     "traceback": [
      "\u001b[0;31m---------------------------------------------------------------------------\u001b[0m",
      "\u001b[0;31mNameError\u001b[0m                                 Traceback (most recent call last)",
      "\u001b[0;32m/var/folders/5j/2xkgvzfs29nfprr5czfm2gtr0000gn/T/ipykernel_56574/1827057015.py\u001b[0m in \u001b[0;36m<module>\u001b[0;34m\u001b[0m\n\u001b[0;32m----> 1\u001b[0;31m \u001b[0mconnectivity_data\u001b[0m\u001b[0;34m.\u001b[0m\u001b[0mstructure_data\u001b[0m\u001b[0;34m[\u001b[0m\u001b[0;36m1089\u001b[0m\u001b[0;34m]\u001b[0m\u001b[0;34m.\u001b[0m\u001b[0minjections\u001b[0m\u001b[0;34m\u001b[0m\u001b[0;34m\u001b[0m\u001b[0m\n\u001b[0m",
      "\u001b[0;31mNameError\u001b[0m: name 'connectivity_data' is not defined"
     ]
    }
   ],
   "source": [
    "connectivity_data.structure_data[1089].injections"
   ]
  },
  {
   "cell_type": "code",
   "execution_count": null,
   "id": "bc87b22f",
   "metadata": {},
   "outputs": [],
   "source": []
  }
 ],
 "metadata": {
  "kernelspec": {
   "display_name": "mcm_class",
   "language": "python",
   "name": "mcm_class"
  },
  "language_info": {
   "codemirror_mode": {
    "name": "ipython",
    "version": 3
   },
   "file_extension": ".py",
   "mimetype": "text/x-python",
   "name": "python",
   "nbconvert_exporter": "python",
   "pygments_lexer": "ipython3",
   "version": "3.7.11"
  }
 },
 "nbformat": 4,
 "nbformat_minor": 5
}

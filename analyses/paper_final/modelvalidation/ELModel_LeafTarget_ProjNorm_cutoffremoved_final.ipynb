{
 "cells": [
  {
   "cell_type": "code",
   "execution_count": 1,
   "id": "4a69be8b",
   "metadata": {},
   "outputs": [
    {
     "name": "stderr",
     "output_type": "stream",
     "text": [
      "/Users/samsonkoelle/miniconda3/envs/mcm_class/lib/python3.7/site-packages/sklearn/utils/deprecation.py:144: FutureWarning: The sklearn.linear_model.base module is  deprecated in version 0.22 and will be removed in version 0.24. The corresponding classes / functions should instead be imported from sklearn.linear_model. Anything that cannot be imported from sklearn.linear_model is now part of the private API.\n",
      "  warnings.warn(message, FutureWarning)\n",
      "/Users/samsonkoelle/miniconda3/envs/mcm_class/lib/python3.7/site-packages/sklearn/utils/deprecation.py:144: FutureWarning: The sklearn.metrics.scorer module is  deprecated in version 0.22 and will be removed in version 0.24. The corresponding classes / functions should instead be imported from sklearn.metrics. Anything that cannot be imported from sklearn.metrics is now part of the private API.\n",
      "  warnings.warn(message, FutureWarning)\n"
     ]
    }
   ],
   "source": [
    "%load_ext autoreload\n",
    "%autoreload 2\n",
    "\n",
    "import os\n",
    "import numpy as np\n",
    "import pandas as pd \n",
    "import sys\n",
    "#import pickle\n",
    "import itertools\n",
    "import seaborn as sns\n",
    "import matplotlib.pyplot as plt\n",
    "from mpl_toolkits.mplot3d import Axes3D\n",
    "import random\n",
    "from sklearn.metrics import pairwise_distances\n",
    "from sklearn.kernel_ridge import KernelRidge\n",
    "import math\n",
    "import dill as pickle\n",
    "from copy import deepcopy\n",
    "from collections import Counter\n",
    "\n",
    "workingdirectory = os.popen('git rev-parse --show-toplevel').read()[:-1]\n",
    "sys.path.append(workingdirectory)\n",
    "os.chdir(workingdirectory)\n",
    "\n",
    "import allensdk.core.json_utilities as ju\n",
    "from allensdk.core.mouse_connectivity_cache import MouseConnectivityCache\n",
    "from mcmodels.core.utils import get_ccf_data\n",
    "\n",
    "from mcmodels.core import VoxelModelCache\n",
    "from mcmodels.connectivity.creation import get_connectivity_matrices3\n",
    "from mcmodels.core.connectivity_data import get_connectivity_data\n",
    "#from mcmodels.models.voxel.crossvalidation import get_nwloocv_predictions_multimodel_merge_dists\n",
    "from mcmodels.utils import nonzero_unique\n",
    "from mcmodels.core.utils import get_structure_id,get_ordered_summary_structures, get_leaves_ontologicalorder, get_indices_2ormore, get_indices, get_indices2,get_eval_indices,screen_index_matrices,screen_index_matrices2,screen_index_matrices3\n",
    "from mcmodels.regressors import NadarayaWatson\n",
    "from mcmodels.core.plotting import plot_loss_surface,plot_loss_scatter\n",
    "from mcmodels.models.expectedloss.crossvalidation import get_loss_surface_cv_spline\n",
    "from mcmodels.models.expectedloss.crossvalidation import get_embedding_cv\n",
    "from mcmodels.models.crossvalidation import get_best_hyperparameters,get_loss_best_hyp,get_loss, Crossval\n",
    "from mcmodels.models.voxel.crossvalidation import get_nwloocv_predictions_multimodel_merge_dists,CrossvalNW"
   ]
  },
  {
   "cell_type": "code",
   "execution_count": 2,
   "id": "d4db6e41",
   "metadata": {},
   "outputs": [
    {
     "name": "stdout",
     "output_type": "stream",
     "text": [
      "annotation/ccf_2017\n"
     ]
    }
   ],
   "source": [
    "#read data\n",
    "TOP_DIR = workingdirectory\n",
    "INPUT_JSON = workingdirectory + '/data/data_final/input_011520.json'\n",
    "EXPERIMENTS_EXCLUDE_JSON = workingdirectory + '/data/data_final/experiments_exclude.json'\n",
    "input_data = ju.read(INPUT_JSON)\n",
    "experiments_exclude = ju.read(EXPERIMENTS_EXCLUDE_JSON)\n",
    "manifest_file = input_data.get('manifest_file')\n",
    "manifest_file = os.path.join(TOP_DIR, manifest_file)\n",
    "cache = VoxelModelCache(manifest_file=manifest_file)\n",
    "st = cache.get_structure_tree()\n",
    "ai_map = st.get_id_acronym_map()\n",
    "ia_map = {value: key for key, value in ai_map.items()}\n",
    "major_structures = np.load(workingdirectory + '/analyses/paper_final/metadata/major_structures.npy')\n",
    "major_structure_ids = np.load(workingdirectory + '/analyses/paper_final/metadata/major_structure_ids.npy')\n",
    "data_info = pd.read_excel(workingdirectory + '/data/data_final/Whole Brain Cre Image Series_curation only.xlsx', 'all datasets curated_070919pull')\n",
    "data_info.set_index(\"id\", inplace=True)\n",
    "with open('data/info/leafs.pickle', 'rb') as handle:\n",
    "    leafs = pickle.load(handle)\n",
    "ontological_order_leaves = np.load(workingdirectory + '/analyses/paper_final/metadata/ontological_order_leaves_v3.npy')\n",
    "COARSE_STRUCTURE_SET_ID = 2\n",
    "DEFAULT_STRUCTURE_SET_IDS = tuple([COARSE_STRUCTURE_SET_ID])\n",
    "tree = cache.get_structure_tree()\n",
    "default_structures = tree.get_structures_by_set_id(DEFAULT_STRUCTURE_SET_IDS)\n",
    "default_structure_ids = [st['id'] for st in default_structures if st['id'] != 934]"
   ]
  },
  {
   "cell_type": "code",
   "execution_count": 3,
   "id": "60c2a7cf",
   "metadata": {},
   "outputs": [
    {
     "name": "stdout",
     "output_type": "stream",
     "text": [
      "512\n",
      "703\n",
      "1089\n",
      "1097\n",
      "315\n",
      "313\n",
      "354\n",
      "698\n",
      "771\n",
      "803\n",
      "477\n",
      "549\n"
     ]
    }
   ],
   "source": [
    "connectivity_data = get_connectivity_data(cache, major_structure_ids, experiments_exclude, remove_injection = False, structure_set_id=167587189)\n",
    "connectivity_data.get_injection_hemisphere_ids()\n",
    "connectivity_data.align()\n",
    "connectivity_data.get_centroids()\n"
   ]
  },
  {
   "cell_type": "code",
   "execution_count": 4,
   "id": "fa0edcb6",
   "metadata": {},
   "outputs": [],
   "source": [
    "ontological_order = get_ordered_summary_structures(cache,167587189)\n",
    "#due to redundancy in ccfv3, remove 'MDRNv', 'MDRNd' from summary structures (include as leafs of MDRN)\n",
    "ontological_order[277]\n",
    "ontological_order = np.setdiff1d(ontological_order, [1098, 1107])\n"
   ]
  },
  {
   "cell_type": "code",
   "execution_count": 5,
   "id": "12a3e6dc",
   "metadata": {},
   "outputs": [],
   "source": [
    "connectivity_data.get_data_matrices(default_structure_ids)\n",
    "connectivity_data.get_crelines(data_info)\n",
    "with open('data/info/leafs.pickle', 'rb') as handle:\n",
    "    leafs = pickle.load(handle)\n",
    "    \n",
    "connectivity_data.ai_map = ai_map\n",
    "connectivity_data.get_summarystructures(data_info)\n",
    "connectivity_data.leafs = leafs\n",
    "ontological_order_leaves = get_leaves_ontologicalorder(connectivity_data, ontological_order)\n",
    "sid0 = list(connectivity_data.structure_datas.keys())[0]\n",
    "eid0 = list(connectivity_data.structure_datas[sid0].experiment_datas.keys())[0]\n",
    "# contra_targetkey = connectivity_data.structure_datas[sid0].projection_mask.get_key(structure_ids=ontological_order, hemisphere_id=1)\n",
    "# ipsi_targetkey = connectivity_data.structure_datas[sid0].projection_mask.get_key(structure_ids=ontological_order, hemisphere_id=2)\n",
    "# ipsi_target_regions, ipsi_target_counts = nonzero_unique(ipsi_targetkey, return_counts=True)\n",
    "# contra_target_regions, contra_target_counts = nonzero_unique(contra_targetkey, return_counts=True)\n",
    "# target_order = lambda x: np.array(ontological_order)[np.isin(ontological_order, x)]\n",
    "# permutation = lambda x: np.argsort(np.argsort(target_order(x)))\n",
    "# targ_ids = np.concatenate([ipsi_target_regions[permutation(ipsi_target_regions)],\n",
    "#                            contra_target_regions[permutation(contra_target_regions)]])\n",
    "targ_ord = ontological_order_leaves\n",
    "source_ord = ontological_order_leaves\n",
    "contra_targetkey = connectivity_data.structure_datas[sid0].projection_mask.get_key(structure_ids=targ_ord, hemisphere_id=1)\n",
    "#ontological_order = np.load('/Users/samsonkoelle/alleninstitute/sambranch/mouse_connectivity_models/paper/info/ontological_order_v3.npy')\n",
    "ipsi_targetkey = connectivity_data.structure_datas[sid0].projection_mask.get_key(structure_ids=targ_ord, hemisphere_id=2)\n",
    "\n",
    "\n",
    "connectivity_data.get_regionalized_normalized_data(ontological_order, ipsi_targetkey, contra_targetkey)\n",
    "\n",
    "above_thresh = {}\n",
    "thresh = 1\n",
    "for m in range(12):\n",
    "    sid = major_structure_ids[m]\n",
    "    above_thresh[sid] = np.where(connectivity_data.structure_datas[sid].reg_inj.sum(axis = 1) > thresh)[0]"
   ]
  },
  {
   "cell_type": "code",
   "execution_count": 6,
   "id": "25ddc9a4",
   "metadata": {},
   "outputs": [
    {
     "name": "stdout",
     "output_type": "stream",
     "text": [
      "\\begin{tabular}{lrr}\n",
      "\\toprule\n",
      "{} &  Total &  Cre-Leaf \\\\\n",
      "\\midrule\n",
      "Isocortex &     36 &         4 \\\\\n",
      "OLF       &      7 &         2 \\\\\n",
      "HPF       &    122 &        59 \\\\\n",
      "CTXsp     &     85 &        38 \\\\\n",
      "STR       &   1128 &       709 \\\\\n",
      "PAL       &     68 &        18 \\\\\n",
      "TH        &     46 &         7 \\\\\n",
      "HY        &     35 &        17 \\\\\n",
      "MB        &     33 &         8 \\\\\n",
      "P         &     30 &        11 \\\\\n",
      "MY        &     78 &        44 \\\\\n",
      "CB        &     83 &        29 \\\\\n",
      "\\bottomrule\n",
      "\\end{tabular}\n",
      "\n"
     ]
    }
   ],
   "source": [
    "for sid in major_structure_ids:\n",
    "    connectivity_data.structure_datas[sid].reg_proj_injnorm = connectivity_data.structure_datas[sid].reg_proj_injnorm[above_thresh[sid]]\n",
    "    connectivity_data.structure_datas[sid].centroids = connectivity_data.structure_datas[sid].centroids[above_thresh[sid]]\n",
    "    connectivity_data.creline[sid] = connectivity_data.creline[sid][above_thresh[sid]]\n",
    "    connectivity_data.leafs[sid] = connectivity_data.leafs[sid][above_thresh[sid]]\n",
    "\n",
    "gammas = np.asarray([0.0001,0.001,0.01,0.1,1,10,100,1000,10000])\n",
    "reg_proj_injnorm = {sid: connectivity_data.structure_datas[sid].reg_proj_injnorm for sid in major_structure_ids}\n",
    "crelines = {sid: connectivity_data.creline[sid] for sid in major_structure_ids}\n",
    "connectivity_data.leaf2_index_matrices = get_indices_2ormore(connectivity_data.leafs)\n",
    "connectivity_data.get_creleaf_combos()\n",
    "connectivity_data.creleaf2_index_matrices = get_indices_2ormore(connectivity_data.creleaf_combos)\n",
    "connectivity_data.get_creleaf_combos()\n",
    "connectivity_data.cre2_index_matrices = get_indices_2ormore(crelines)\n",
    "connectivity_data.creleaf2_evalindices = get_eval_indices(connectivity_data.creleaf2_index_matrices)\n",
    "creleaf2_evalindices = {sid: connectivity_data.creleaf2_evalindices[sid] for sid in major_structure_ids} \n",
    "cre2_index_matrices = {sid: connectivity_data.cre2_index_matrices[sid] for sid in major_structure_ids} \n",
    "connectivity_data.major2_index_matrices = {}\n",
    "for sid in major_structure_ids:\n",
    "     connectivity_data.major2_index_matrices[sid] =  np.expand_dims(np.ones(crelines[sid].shape),0)\n",
    "major2_index_matrices = {sid:connectivity_data.major2_index_matrices[sid] for sid in major_structure_ids}\n",
    "\n",
    "wtmajor2_index_matrices = {}\n",
    "for sid in major_structure_ids:\n",
    "    wtm = np.zeros(major2_index_matrices[sid].shape) \n",
    "    #print(wtm.shape)\n",
    "    wtmajor2_index_matrices[sid] = wtm[:,np.where(crelines[sid] == 'C57BL/6J')[0]] = 1\n",
    "#get_indices2(connectivity_data.creline[sid], np.asarray(['C57BL/6J']),leafs[sid])\n",
    "\n",
    "#ncresum2_leaf2 = np.zeros(12)\n",
    "#ncresum2 = np.zeros(12)\n",
    "ncreleaf2 = np.zeros(12)\n",
    "ntotal = np.zeros(12)\n",
    "for i in range(12):\n",
    "    sid = major_structure_ids[i]\n",
    "    ntotal[i] = connectivity_data.structure_datas[sid].reg_proj.shape[0]\n",
    "    #ncresum2_leaf2[i] =len(cresum2_leaf2_evalindices[sid])\n",
    "    #ncresum2[i] = len(cresum2_evalindices[sid])\n",
    "    ncreleaf2[i] = len(creleaf2_evalindices[sid])\n",
    "\n",
    "major_structures = np.asarray(major_structures)\n",
    "reo = np.asarray([4,7,2,1,10,9,11,3,5,8,6,0], dtype = int)\n",
    "df = pd.DataFrame([ntotal,  ncreleaf2], dtype = int, index=['Total','Cre-Leaf'], columns = major_structures[reo]).transpose()\n",
    "#df = pd.DataFrame([ntotal, ncresum2, ncresum2_leaf2,  ncreleaf2], dtype = int, index=['Total','Cre-Summary','Cre-Summary, Leaf','Cre-Leaf']).transpose()\n",
    "print(df.to_latex())"
   ]
  },
  {
   "cell_type": "code",
   "execution_count": 7,
   "id": "01c84364",
   "metadata": {},
   "outputs": [],
   "source": [
    "\n",
    "major2_index_matrices = {sid:connectivity_data.major2_index_matrices[sid] for sid in major_structure_ids}"
   ]
  },
  {
   "cell_type": "code",
   "execution_count": 8,
   "id": "48e750ab",
   "metadata": {},
   "outputs": [
    {
     "data": {
      "text/plain": [
       "(1, 1102)"
      ]
     },
     "execution_count": 8,
     "metadata": {},
     "output_type": "execute_result"
    }
   ],
   "source": [
    "major2_index_matrices[315].shape"
   ]
  },
  {
   "cell_type": "code",
   "execution_count": 11,
   "id": "fd9da2e2",
   "metadata": {},
   "outputs": [
    {
     "data": {
      "text/plain": [
       "(51, 1102)"
      ]
     },
     "execution_count": 11,
     "metadata": {},
     "output_type": "execute_result"
    }
   ],
   "source": [
    "connectivity_data.cre2_index_matrices[315].shape"
   ]
  },
  {
   "cell_type": "code",
   "execution_count": 12,
   "id": "05d75ccf",
   "metadata": {},
   "outputs": [
    {
     "name": "stderr",
     "output_type": "stream",
     "text": [
      "/Users/samsonkoelle/miniconda3/envs/mcm_class/lib/python3.7/site-packages/numpy/core/fromnumeric.py:3441: RuntimeWarning: Mean of empty slice.\n",
      "  out=out, **kwargs)\n",
      "/Users/samsonkoelle/miniconda3/envs/mcm_class/lib/python3.7/site-packages/numpy/core/_methods.py:182: RuntimeWarning: invalid value encountered in true_divide\n",
      "  ret, rcount, out=ret, casting='unsafe', subok=False)\n",
      "/Users/samsonkoelle/miniconda3/envs/mcm_class/lib/python3.7/site-packages/numpy/core/fromnumeric.py:3441: RuntimeWarning: Mean of empty slice.\n",
      "  out=out, **kwargs)\n",
      "/Users/samsonkoelle/miniconda3/envs/mcm_class/lib/python3.7/site-packages/numpy/core/_methods.py:182: RuntimeWarning: invalid value encountered in true_divide\n",
      "  ret, rcount, out=ret, casting='unsafe', subok=False)\n",
      "/Users/samsonkoelle/mouse_connectivity_models/mcmodels/models/expectedloss/shapeconstrained.py:47: RuntimeWarning: invalid value encountered in true_divide\n",
      "  coordinates_normed = coordinates / np.linalg.norm(coordinates, axis=0)  # **2\n",
      "/Users/samsonkoelle/miniconda3/envs/mcm_class/lib/python3.7/site-packages/pygam/pygam.py:1111: RuntimeWarning: divide by zero encountered in double_scalars\n",
      "  r2['explained_deviance'] = 1. - full_d.sum()/null_d.sum()\n",
      "/Users/samsonkoelle/miniconda3/envs/mcm_class/lib/python3.7/site-packages/numpy/core/fromnumeric.py:3441: RuntimeWarning: Mean of empty slice.\n",
      "  out=out, **kwargs)\n",
      "/Users/samsonkoelle/miniconda3/envs/mcm_class/lib/python3.7/site-packages/numpy/core/_methods.py:182: RuntimeWarning: invalid value encountered in true_divide\n",
      "  ret, rcount, out=ret, casting='unsafe', subok=False)\n",
      "/Users/samsonkoelle/miniconda3/envs/mcm_class/lib/python3.7/site-packages/numpy/core/fromnumeric.py:3441: RuntimeWarning: Mean of empty slice.\n",
      "  out=out, **kwargs)\n",
      "/Users/samsonkoelle/miniconda3/envs/mcm_class/lib/python3.7/site-packages/numpy/core/_methods.py:182: RuntimeWarning: invalid value encountered in true_divide\n",
      "  ret, rcount, out=ret, casting='unsafe', subok=False)\n",
      "/Users/samsonkoelle/miniconda3/envs/mcm_class/lib/python3.7/site-packages/numpy/core/fromnumeric.py:3441: RuntimeWarning: Mean of empty slice.\n",
      "  out=out, **kwargs)\n",
      "/Users/samsonkoelle/miniconda3/envs/mcm_class/lib/python3.7/site-packages/numpy/core/_methods.py:182: RuntimeWarning: invalid value encountered in true_divide\n",
      "  ret, rcount, out=ret, casting='unsafe', subok=False)\n",
      "/Users/samsonkoelle/miniconda3/envs/mcm_class/lib/python3.7/site-packages/numpy/core/fromnumeric.py:3441: RuntimeWarning: Mean of empty slice.\n",
      "  out=out, **kwargs)\n",
      "/Users/samsonkoelle/miniconda3/envs/mcm_class/lib/python3.7/site-packages/numpy/core/_methods.py:182: RuntimeWarning: invalid value encountered in true_divide\n",
      "  ret, rcount, out=ret, casting='unsafe', subok=False)\n",
      "/Users/samsonkoelle/miniconda3/envs/mcm_class/lib/python3.7/site-packages/numpy/core/fromnumeric.py:3441: RuntimeWarning: Mean of empty slice.\n",
      "  out=out, **kwargs)\n",
      "/Users/samsonkoelle/miniconda3/envs/mcm_class/lib/python3.7/site-packages/numpy/core/_methods.py:182: RuntimeWarning: invalid value encountered in true_divide\n",
      "  ret, rcount, out=ret, casting='unsafe', subok=False)\n",
      "/Users/samsonkoelle/miniconda3/envs/mcm_class/lib/python3.7/site-packages/numpy/core/fromnumeric.py:3441: RuntimeWarning: Mean of empty slice.\n",
      "  out=out, **kwargs)\n",
      "/Users/samsonkoelle/miniconda3/envs/mcm_class/lib/python3.7/site-packages/numpy/core/_methods.py:182: RuntimeWarning: invalid value encountered in true_divide\n",
      "  ret, rcount, out=ret, casting='unsafe', subok=False)\n",
      "/Users/samsonkoelle/miniconda3/envs/mcm_class/lib/python3.7/site-packages/numpy/core/fromnumeric.py:3441: RuntimeWarning: Mean of empty slice.\n",
      "  out=out, **kwargs)\n",
      "/Users/samsonkoelle/miniconda3/envs/mcm_class/lib/python3.7/site-packages/numpy/core/_methods.py:182: RuntimeWarning: invalid value encountered in true_divide\n",
      "  ret, rcount, out=ret, casting='unsafe', subok=False)\n",
      "/Users/samsonkoelle/miniconda3/envs/mcm_class/lib/python3.7/site-packages/numpy/core/fromnumeric.py:3441: RuntimeWarning: Mean of empty slice.\n",
      "  out=out, **kwargs)\n",
      "/Users/samsonkoelle/miniconda3/envs/mcm_class/lib/python3.7/site-packages/numpy/core/_methods.py:182: RuntimeWarning: invalid value encountered in true_divide\n",
      "  ret, rcount, out=ret, casting='unsafe', subok=False)\n",
      "/Users/samsonkoelle/miniconda3/envs/mcm_class/lib/python3.7/site-packages/numpy/core/fromnumeric.py:3441: RuntimeWarning: Mean of empty slice.\n",
      "  out=out, **kwargs)\n",
      "/Users/samsonkoelle/miniconda3/envs/mcm_class/lib/python3.7/site-packages/numpy/core/_methods.py:182: RuntimeWarning: invalid value encountered in true_divide\n",
      "  ret, rcount, out=ret, casting='unsafe', subok=False)\n",
      "/Users/samsonkoelle/miniconda3/envs/mcm_class/lib/python3.7/site-packages/numpy/core/fromnumeric.py:3441: RuntimeWarning: Mean of empty slice.\n",
      "  out=out, **kwargs)\n",
      "/Users/samsonkoelle/miniconda3/envs/mcm_class/lib/python3.7/site-packages/numpy/core/_methods.py:182: RuntimeWarning: invalid value encountered in true_divide\n",
      "  ret, rcount, out=ret, casting='unsafe', subok=False)\n"
     ]
    }
   ],
   "source": [
    "#get surfaces leaf\n",
    "frac_learn = np.ones(12)\n",
    "for m in range(12):\n",
    "    sid = major_structure_ids[m]\n",
    "    connectivity_data.structure_datas[sid].loss_surface_cv_leaf = get_loss_surface_cv_spline(connectivity_data.structure_datas[sid].reg_proj_norm,\n",
    "                                                                                                 connectivity_data.structure_datas[sid].centroids,\n",
    "                                                                                                 connectivity_data.creline[sid],\n",
    "                                                                                                 connectivity_data.leafs[sid],\n",
    "                                                                                                 frac_learn[m])\n",
    "    connectivity_data.structure_datas[sid].smoothed_losses_leaf = get_embedding_cv(surface = connectivity_data.structure_datas[sid].loss_surface_cv_leaf,\n",
    "                                                                              dists = pairwise_distances(connectivity_data.structure_datas[sid].centroids)**2,\n",
    "                                                                              cre_distances_cv = connectivity_data.structure_datas[sid].loss_surface_cv_leaf.cre_distances_cv)\n",
    "    "
   ]
  },
  {
   "cell_type": "code",
   "execution_count": 13,
   "id": "79c66af7",
   "metadata": {},
   "outputs": [],
   "source": [
    "reg_proj_norm = {sid: connectivity_data.structure_datas[sid].reg_proj_norm[above_thresh[sid]] for sid in major_structure_ids}\n",
    "creleaf2_index_matrices = {sid: connectivity_data.creleaf2_index_matrices[sid] for sid in major_structure_ids} \n",
    "leaf2_index_matrices = {sid: connectivity_data.leaf2_index_matrices[sid] for sid in major_structure_ids} \n",
    "pds = {}\n",
    "for sid in major_structure_ids:\n",
    "    pds[sid] = pairwise_distances(connectivity_data.structure_datas[sid].centroids)**2\n",
    "distances = pds"
   ]
  },
  {
   "cell_type": "code",
   "execution_count": null,
   "id": "a9d4b946",
   "metadata": {},
   "outputs": [],
   "source": [
    "##{sid: connectivity_data.structure_datas[sid].smoothed_losses_str for sid in major_structure_ids}\n",
    "nw_major_creleaf2 = CrossvalNW(reg_proj_norm, distances,major2_index_matrices, creleaf2_evalindices,gammas)\n",
    "nw_major_creleaf2.gammas = gammas\n",
    "nw_major_creleaf2.predictions = nw_major_creleaf2.get_predictions()\n",
    "nw_major_creleaf2.get_results_loocv()\n",
    "nw_major_creleaf2.get_results_weightedloocv(connectivity_data.leafs,crelines,ia_map)\n"
   ]
  },
  {
   "cell_type": "code",
   "execution_count": 28,
   "id": "c70eddce",
   "metadata": {},
   "outputs": [
    {
     "data": {
      "text/plain": [
       "array([1101])"
      ]
     },
     "execution_count": 28,
     "metadata": {},
     "output_type": "execute_result"
    }
   ],
   "source": [
    "np.where(model_index_val == eval_index_val[i])[0]"
   ]
  },
  {
   "cell_type": "code",
   "execution_count": 30,
   "id": "3e3f391d",
   "metadata": {},
   "outputs": [
    {
     "name": "stdout",
     "output_type": "stream",
     "text": [
      "(1102, 1123)\n",
      "(1102, 1102)\n",
      "(1, 1102)\n"
     ]
    }
   ],
   "source": [
    "print(reg_proj_norm[315].shape)\n",
    "print(distances[315].shape)\n",
    "print(major2_index_matrices[315].shape)"
   ]
  },
  {
   "cell_type": "code",
   "execution_count": 33,
   "id": "0a74ced1",
   "metadata": {},
   "outputs": [
    {
     "data": {
      "text/plain": [
       "(1102,)"
      ]
     },
     "execution_count": 33,
     "metadata": {},
     "output_type": "execute_result"
    }
   ],
   "source": [
    "model_indices.shape"
   ]
  },
  {
   "cell_type": "code",
   "execution_count": 34,
   "id": "ecdc07dc",
   "metadata": {},
   "outputs": [],
   "source": [
    "eval_index_val = np.where(eval_indices == 1)[0]\n",
    "model_index_val = np.where(model_indices == 1)[0]\n"
   ]
  },
  {
   "cell_type": "code",
   "execution_count": 35,
   "id": "21e80d5f",
   "metadata": {},
   "outputs": [
    {
     "data": {
      "text/plain": [
       "array([   0,    1,    2, ..., 1099, 1100, 1101])"
      ]
     },
     "execution_count": 35,
     "metadata": {},
     "output_type": "execute_result"
    }
   ],
   "source": [
    "model_index_val"
   ]
  },
  {
   "cell_type": "code",
   "execution_count": 36,
   "id": "c935e0ac",
   "metadata": {},
   "outputs": [
    {
     "name": "stdout",
     "output_type": "stream",
     "text": [
      "(1102,)\n"
     ]
    }
   ],
   "source": [
    "print(model_indices.shape)"
   ]
  },
  {
   "cell_type": "code",
   "execution_count": 26,
   "id": "64052253",
   "metadata": {},
   "outputs": [],
   "source": [
    "projections = reg_proj_norm[315]\n",
    "dists = distances[315]\n",
    "gamma = .5\n",
    "model_indices = major2_index_matrices[315][0]\n",
    "eval_indices = major2_index_matrices[315][0]\n",
    "\n",
    "eval_index_val = np.where(eval_indices == 1)[0]\n",
    "model_index_val = np.where(model_indices == 1)[0]\n",
    "#print('e', eval_index_val, 'm', model_index_val)\n",
    "projections = np.asarray(projections, dtype=np.float32)\n",
    "nmod_ind = len(model_index_val)\n",
    "neval = len(eval_index_val)\n",
    "# nexp = centroids.shape[0]\n",
    "predictions = np.empty(projections.shape)\n",
    "predictions[:] = np.nan\n",
    "if len(model_index_val) > 0 and len(eval_index_val) > 0:\n",
    "    # weights = np.exp(-dists[model_index_val][:, eval_index_val] / gamma)#np.exp(-dists[model_index_val] / gamma) #get_weights(centroids, gamma)\n",
    "    for i in range(neval):\n",
    "        matchindex = np.where(model_index_val == eval_index_val[i])[0]\n",
    "        otherindices = np.setdiff1d(np.asarray(list(range(nmod_ind))), matchindex)\n",
    "        # this order of operations is the fastest I found\n",
    "        dists_i = dists[model_index_val][:, eval_index_val[i]] - np.min(\n",
    "            dists[model_index_val[otherindices]][:, eval_index_val[i]])\n",
    "        weights_i = np.exp(-dists_i * gamma)  # weights[i,:] / np.nansum(weights[i,:][otherindices])\n",
    "        # print(np.nansum(weights[:,i][otherindices]))\n",
    "        weights_i[matchindex] = 0\n",
    "        weights_i = np.asarray(weights_i, dtype=np.float32)\n",
    "        weights_i = weights_i / np.sum(weights_i)\n",
    "        # weights_i[np.isnan(weights_i)] = 0.\n",
    "        pred = np.dot(weights_i, projections[model_index_val])\n",
    "        #pred = pred / np.linalg.norm(pred)\n",
    "        predictions[eval_index_val[i]] = pred\n"
   ]
  },
  {
   "cell_type": "code",
   "execution_count": 27,
   "id": "f301ae76",
   "metadata": {},
   "outputs": [],
   "source": []
  },
  {
   "cell_type": "code",
   "execution_count": null,
   "id": "4d505854",
   "metadata": {},
   "outputs": [],
   "source": []
  },
  {
   "cell_type": "code",
   "execution_count": null,
   "id": "efcde09a",
   "metadata": {},
   "outputs": [],
   "source": []
  },
  {
   "cell_type": "code",
   "execution_count": null,
   "id": "b1f79e9f",
   "metadata": {},
   "outputs": [],
   "source": []
  },
  {
   "cell_type": "code",
   "execution_count": null,
   "id": "6fac27e5",
   "metadata": {},
   "outputs": [],
   "source": [
    "def get_nwloocv_predictions_singlemodel_dists(projections, dists, gamma, model_indices, eval_indices):\n",
    "\n",
    "    eval_index_val = np.where(eval_indices == 1)[0]\n",
    "    model_index_val = np.where(model_indices == 1)[0]\n",
    "    #print('e', eval_index_val, 'm', model_index_val)\n",
    "    projections = np.asarray(projections, dtype=np.float32)\n",
    "    nmod_ind = len(model_index_val)\n",
    "    neval = len(eval_index_val)\n",
    "    # nexp = centroids.shape[0]\n",
    "    predictions = np.empty(projections.shape)\n",
    "    predictions[:] = np.nan\n",
    "    if len(model_index_val) > 0 and len(eval_index_val) > 0:\n",
    "        # weights = np.exp(-dists[model_index_val][:, eval_index_val] / gamma)#np.exp(-dists[model_index_val] / gamma) #get_weights(centroids, gamma)\n",
    "        for i in range(neval):\n",
    "            matchindex = np.where(model_index_val == eval_index_val[i])[0]\n",
    "            otherindices = np.setdiff1d(np.asarray(list(range(nmod_ind))), matchindex)\n",
    "            # this order of operations is the fastest I found\n",
    "            dists_i = dists[model_index_val][:, eval_index_val[i]] - np.min(\n",
    "                dists[model_index_val[otherindices]][:, eval_index_val[i]])\n",
    "            weights_i = np.exp(-dists_i * gamma)  # weights[i,:] / np.nansum(weights[i,:][otherindices])\n",
    "            # print(np.nansum(weights[:,i][otherindices]))\n",
    "            weights_i[matchindex] = 0\n",
    "            weights_i = np.asarray(weights_i, dtype=np.float32)\n",
    "            weights_i = weights_i / np.sum(weights_i)\n",
    "            # weights_i[np.isnan(weights_i)] = 0.\n",
    "            pred = np.dot(weights_i, projections[model_index_val])\n",
    "            #pred = pred / np.linalg.norm(pred)\n",
    "            predictions[eval_index_val[i]] = pred\n",
    "\n",
    "    return (predictions)"
   ]
  },
  {
   "cell_type": "code",
   "execution_count": null,
   "id": "eb577225",
   "metadata": {},
   "outputs": [],
   "source": []
  },
  {
   "cell_type": "code",
   "execution_count": null,
   "id": "e2da6edc",
   "metadata": {},
   "outputs": [],
   "source": []
  },
  {
   "cell_type": "code",
   "execution_count": null,
   "id": "ef93a638",
   "metadata": {},
   "outputs": [],
   "source": []
  },
  {
   "cell_type": "code",
   "execution_count": 22,
   "id": "daef5ba3",
   "metadata": {},
   "outputs": [
    {
     "name": "stderr",
     "output_type": "stream",
     "text": [
      "/Users/samsonkoelle/mouse_connectivity_models/mcmodels/models/voxel/crossvalidation.py:43: RuntimeWarning: overflow encountered in exp\n",
      "  weights_i = np.exp(-dists_i * gamma)  # weights[i,:] / np.nansum(weights[i,:][otherindices])\n"
     ]
    }
   ],
   "source": [
    "#distances = pds#{sid: connectivity_data.structure_datas[sid].smoothed_losses_str for sid in major_structure_ids}\n",
    "nw_creleaf_creleaf2 = CrossvalNW(reg_proj_norm, distances,creleaf2_index_matrices, creleaf2_evalindices,gammas)\n",
    "nw_creleaf_creleaf2.gammas = gammas# ds\n",
    "nw_creleaf_creleaf2.predictions = nw_creleaf_creleaf2.get_predictions()\n",
    "nw_creleaf_creleaf2.get_results_loocv()\n",
    "nw_creleaf_creleaf2.get_results_weightedloocv(connectivity_data.leafs,crelines,ia_map)\n"
   ]
  },
  {
   "cell_type": "code",
   "execution_count": 23,
   "id": "024f4355",
   "metadata": {},
   "outputs": [
    {
     "data": {
      "text/plain": [
       "array([0.06219172, 0.62132425, 0.14592686, 0.34548913, 0.18368028,\n",
       "       0.14053769, 0.25252631, 0.16467688, 0.29210916, 0.20105935,\n",
       "       0.0965846 , 0.61511732])"
      ]
     },
     "execution_count": 23,
     "metadata": {},
     "output_type": "execute_result"
    }
   ],
   "source": [
    "nw_creleaf_creleaf2.meanloss"
   ]
  },
  {
   "cell_type": "code",
   "execution_count": 24,
   "id": "6a2ddf68",
   "metadata": {},
   "outputs": [],
   "source": [
    "\n",
    "#distances = pds#{sid: connectivity_data.structure_datas[sid].smoothed_losses_str for sid in major_structure_ids}\n",
    "nw_cremajor_creleaf2 = CrossvalNW(reg_proj_norm, distances,cre2_index_matrices, creleaf2_evalindices,gammas)\n",
    "nw_cremajor_creleaf2.gammas = gammas# ds\n",
    "nw_cremajor_creleaf2.predictions = nw_cremajor_creleaf2.get_predictions()\n",
    "nw_cremajor_creleaf2.get_results_loocv()\n",
    "nw_cremajor_creleaf2.get_results_weightedloocv(connectivity_data.leafs,crelines,ia_map)\n",
    "\n",
    "mean_gammas = np.ones(12)*0.000001\n",
    "mean_creleaf_creleaf2 = CrossvalNW(reg_proj_norm, distances, creleaf2_index_matrices, creleaf2_evalindices,mean_gammas)\n",
    "mean_creleaf_creleaf2.gammas = mean_gammas# ds\n",
    "mean_creleaf_creleaf2.predictions = mean_creleaf_creleaf2.get_predictions()\n",
    "mean_creleaf_creleaf2.get_results_loocv()\n",
    "mean_creleaf_creleaf2.get_results_weightedloocv(connectivity_data.leafs,crelines,ia_map)\n"
   ]
  },
  {
   "cell_type": "code",
   "execution_count": 25,
   "id": "6f002df2",
   "metadata": {},
   "outputs": [
    {
     "data": {
      "text/plain": [
       "array([0.06219172, 0.62132425, 0.1728102 , 0.35197502, 0.22421699,\n",
       "       0.16053243, 0.26838125, 0.19121029, 0.29210916, 0.20387396,\n",
       "       0.1249916 , 0.67317245])"
      ]
     },
     "execution_count": 25,
     "metadata": {},
     "output_type": "execute_result"
    }
   ],
   "source": [
    "nw_creleaf_creleaf2.meanloss_weighted"
   ]
  },
  {
   "cell_type": "code",
   "execution_count": 26,
   "id": "5b070259",
   "metadata": {},
   "outputs": [],
   "source": [
    "\n",
    "nw_majorwt_creleaf2 = CrossvalNW(reg_proj_norm, distances,wtmajor2_index_matrices, creleaf2_evalindices,gammas)\n",
    "nw_majorwt_creleaf2.gammas = gammas\n",
    "nw_majorwt_creleaf2.predictions = nw_major_creleaf2.get_predictions()\n",
    "nw_majorwt_creleaf2.get_results_loocv()\n",
    "nw_majorwt_creleaf2.get_results_weightedloocv(connectivity_data.leafs,crelines,ia_map)\n",
    "\n",
    "\n",
    "# nw_sum_cresum2leaf2 = CrossvalNW(reg_proj_norm, distances,sum2_index_matrices, cresum2_leaf2_evalindices,gammas)\n",
    "# nw_sum_cresum2leaf2.gammas = gammas\n",
    "# nw_sum_cresum2leaf2.predictions = nw_sum_cresum2leaf2.get_predictions()\n",
    "# nw_sum_cresum2leaf2.get_results_loocv()\n",
    "# nw_sum_cresum2leaf2.get_results_weightedloocv(connectivity_data.summary_structures,crelines,ia_map)\n",
    "#nw_sum_creleaf2.meanloss\n",
    "\n",
    "nw_leaf_creleaf2 = CrossvalNW(reg_proj_norm, distances,leaf2_index_matrices, creleaf2_evalindices,gammas)\n",
    "nw_leaf_creleaf2.gammas = gammas# ds\n",
    "nw_leaf_creleaf2.predictions = nw_leaf_creleaf2.get_predictions()\n",
    "nw_leaf_creleaf2.get_results_loocv()\n",
    "nw_leaf_creleaf2.get_results_weightedloocv(connectivity_data.leafs,crelines,ia_map)\n",
    "\n"
   ]
  },
  {
   "cell_type": "code",
   "execution_count": 27,
   "id": "52b35c36",
   "metadata": {},
   "outputs": [],
   "source": [
    "leaf2_index_matrices = {sid: connectivity_data.leaf2_index_matrices[sid] for sid in major_structure_ids} \n",
    "distances = {sid: connectivity_data.structure_datas[sid].smoothed_losses_leaf for sid in major_structure_ids}\n",
    "twostage_leaf_creleaf2 = CrossvalNW(reg_proj_norm, distances, leaf2_index_matrices, creleaf2_evalindices,gammas)\n",
    "twostage_leaf_creleaf2.gammas = gammas #ds\n",
    "twostage_leaf_creleaf2.predictions = twostage_leaf_creleaf2.get_predictions()\n",
    "twostage_leaf_creleaf2.get_results_loocv()\n",
    "twostage_leaf_creleaf2.get_results_weightedloocv(connectivity_data.leafs,crelines,ia_map)"
   ]
  },
  {
   "cell_type": "code",
   "execution_count": 28,
   "id": "c1b66dc6",
   "metadata": {},
   "outputs": [],
   "source": [
    "#el_labels = np.zeros(150, dtype = str)\n",
    "models = np.asarray(['Mean','NW','NW','NW','NW','NW','EL'])\n",
    "datas = np.asarray([r\"$I_c \\cap I_L$\",\n",
    "                   r\"$I_c \\cap I_M$\",\n",
    "                   r\"$I_c \\cap I_L$\",\n",
    "                    r\"$I_L$\",\n",
    "                  r\"$I_{wt} \\cap I_M$\",\n",
    "                  r\"$I_M$\"  ,\n",
    "                  r\"$I_L$\"])\n",
    "multi_ind = np.vstack([models,datas])\n",
    "multi_ind = np.asarray(multi_ind, dtype = str)\n",
    "multi_ind = list(zip(*multi_ind))\n",
    "multi_ind = pd.MultiIndex.from_tuples(multi_ind, names=[r\"$\\widehat f$\",r\"$\\mathcal D$\"])\n",
    "\n",
    "reo = np.asarray([4,7,2,1,10,9,11,3,5,8,6,0])\n",
    "results = pd.DataFrame([mean_creleaf_creleaf2.meanloss_weighted,\n",
    "nw_cremajor_creleaf2.meanloss_weighted,\n",
    "nw_creleaf_creleaf2.meanloss_weighted,\n",
    "nw_leaf_creleaf2.meanloss_weighted,\n",
    "nw_majorwt_creleaf2.meanloss_weighted,\n",
    "nw_major_creleaf2.meanloss_weighted,\n",
    "twostage_leaf_creleaf2.meanloss_weighted], index = multi_ind, columns = major_structures).transpose()#, cre2_index_matrices\n",
    "trunc = lambda x: math.trunc(1000 * x) / 1000;\n",
    "\n",
    "results = results.applymap(trunc)"
   ]
  },
  {
   "cell_type": "code",
   "execution_count": 29,
   "id": "0f287e32",
   "metadata": {},
   "outputs": [
    {
     "name": "stdout",
     "output_type": "stream",
     "text": [
      "\\begin{tabular}{lrrrrrrr}\n",
      "\\toprule\n",
      "$\\widehat f$ &           Mean & \\multicolumn{5}{l}{NW} &     EL \\\\\n",
      "$\\mathcal D$ & $I_c \\cap I_L$ & $I_c \\cap I_M$ & $I_c \\cap I_L$ &  $I_L$ & $I_{wt} \\cap I_M$ &  $I_M$ &  $I_L$ \\\\\n",
      "\\midrule\n",
      "Isocortex &          0.229 &          0.248 &          0.224 &  0.274 &             0.269 &  0.269 &  0.217 \\\\\n",
      "OLF       &          0.193 &          0.233 &          0.191 &  0.135 &             0.179 &  0.179 &  0.138 \\\\\n",
      "HPF       &          0.178 &          0.342 &          0.172 &  0.212 &             0.235 &  0.235 &  0.172 \\\\\n",
      "CTXsp     &          0.621 &          0.621 &          0.621 &  0.621 &             0.621 &  0.621 &  0.621 \\\\\n",
      "STR       &          0.128 &          0.117 &          0.124 &  0.171 &             0.234 &  0.234 &  0.125 \\\\\n",
      "PAL       &          0.203 &          0.205 &          0.203 &  0.295 &             0.291 &  0.291 &  0.188 \\\\\n",
      "TH        &          0.673 &          0.664 &          0.673 &  0.358 &             0.379 &  0.379 &  0.417 \\\\\n",
      "HY        &          0.358 &          0.378 &          0.351 &  0.331 &             0.312 &  0.312 &  0.314 \\\\\n",
      "MB        &          0.168 &          0.191 &          0.160 &  0.199 &             0.202 &  0.202 &  0.160 \\\\\n",
      "P         &          0.292 &          0.292 &          0.292 &  0.299 &             0.299 &  0.299 &  0.287 \\\\\n",
      "MY        &          0.268 &          0.347 &          0.268 &  0.167 &             0.189 &  0.189 &  0.196 \\\\\n",
      "CB        &          0.062 &          0.062 &          0.062 &  0.068 &             0.108 &  0.108 &  0.061 \\\\\n",
      "\\bottomrule\n",
      "\\end{tabular}\n",
      "\n"
     ]
    }
   ],
   "source": [
    "print(results.iloc[reo].to_latex(index=True,escape=False))"
   ]
  },
  {
   "cell_type": "code",
   "execution_count": null,
   "id": "59efe7dc",
   "metadata": {},
   "outputs": [],
   "source": []
  }
 ],
 "metadata": {
  "kernelspec": {
   "display_name": "mcm_class",
   "language": "python",
   "name": "mcm_class"
  },
  "language_info": {
   "codemirror_mode": {
    "name": "ipython",
    "version": 3
   },
   "file_extension": ".py",
   "mimetype": "text/x-python",
   "name": "python",
   "nbconvert_exporter": "python",
   "pygments_lexer": "ipython3",
   "version": "3.7.11"
  }
 },
 "nbformat": 4,
 "nbformat_minor": 5
}

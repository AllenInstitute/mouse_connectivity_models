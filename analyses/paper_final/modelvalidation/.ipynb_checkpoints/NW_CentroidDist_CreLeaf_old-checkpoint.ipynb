{
 "cells": [
  {
   "cell_type": "code",
   "execution_count": 1,
   "metadata": {},
   "outputs": [
    {
     "name": "stderr",
     "output_type": "stream",
     "text": [
      "/Users/samsonkoelle/anaconda3/envs/allen_010719_5/lib/python3.7/site-packages/sklearn/utils/deprecation.py:144: FutureWarning: The sklearn.linear_model.base module is  deprecated in version 0.22 and will be removed in version 0.24. The corresponding classes / functions should instead be imported from sklearn.linear_model. Anything that cannot be imported from sklearn.linear_model is now part of the private API.\n",
      "  warnings.warn(message, FutureWarning)\n",
      "/Users/samsonkoelle/anaconda3/envs/allen_010719_5/lib/python3.7/site-packages/sklearn/utils/deprecation.py:144: FutureWarning: The sklearn.metrics.scorer module is  deprecated in version 0.22 and will be removed in version 0.24. The corresponding classes / functions should instead be imported from sklearn.metrics. Anything that cannot be imported from sklearn.metrics is now part of the private API.\n",
      "  warnings.warn(message, FutureWarning)\n"
     ]
    }
   ],
   "source": [
    "%load_ext autoreload\n",
    "%autoreload 2\n",
    "\n",
    "import os\n",
    "import numpy as np\n",
    "import pandas as pd \n",
    "import sys\n",
    "import pickle\n",
    "import itertools\n",
    "import seaborn as sns\n",
    "import matplotlib.pyplot as plt\n",
    "from mpl_toolkits.mplot3d import Axes3D\n",
    "import random\n",
    "from sklearn.metrics import pairwise_distances\n",
    "from sklearn.kernel_ridge import KernelRidge\n",
    "import math\n",
    "\n",
    "workingdirectory = os.popen('git rev-parse --show-toplevel').read()[:-1]\n",
    "sys.path.append(workingdirectory)\n",
    "os.chdir(workingdirectory)\n",
    "\n",
    "import allensdk.core.json_utilities as ju\n",
    "from allensdk.core.mouse_connectivity_cache import MouseConnectivityCache\n",
    "\n",
    "#from mcmodels.core import VoxelModelCache\n",
    "from mcmodels.core.utils import get_structure_id,get_ordered_summary_structures\n",
    "from mcmodels.core.connectivity_data import get_connectivity_data\n",
    "from mcmodels.models.voxel.crossvalidation import get_nwloocv_predictions_multimodel_merge_dists\n",
    "from mcmodels.utils import nonzero_unique #, unionize\n",
    "from mcmodels.models.crossvalidation import get_best_hyperparameters,get_loss_best_hyp,get_loss#get_loocv_predictions,get_loss#get_best_hyperparameters,get_loss_best_hyp,get_loocv_predictions,get_loss\n",
    "from mcmodels.core.utils import get_leaves_ontologicalorder, get_indices, get_indices2,get_eval_indices,screen_index_matrices,screen_index_matrices2,screen_index_matrices3#get_cre_status,get_minorstructure_dictionary,get_leaves_ontologicalorder\n",
    "from mcmodels.core.utils import get_indices_2ormore\n",
    "from mcmodels.core.voxel_model_cache import VoxelModelCache\n",
    "from mcmodels.regressors import NadarayaWatson\n",
    "from mcmodels.core.plotting import plot_loss_surface,plot_loss_scatter"
   ]
  },
  {
   "cell_type": "code",
   "execution_count": 2,
   "metadata": {},
   "outputs": [
    {
     "name": "stdout",
     "output_type": "stream",
     "text": [
      "annotation/ccf_2017\n"
     ]
    }
   ],
   "source": [
    "#read data\n",
    "TOP_DIR = '/Users/samsonkoelle/alleninstitute/mcm_2020/mcm_updated/'\n",
    "INPUT_JSON = os.path.join(TOP_DIR, 'input_011520.json')\n",
    "EXPERIMENTS_EXCLUDE_JSON = os.path.join(TOP_DIR, 'experiments_exclude.json')\n",
    "FILE_DIR = '/Users/samsonkoelle/alleninstitute/mcm_2020/mcm_updated/'\n",
    "OUTPUT_DIR = os.path.join(FILE_DIR, 'output')\n",
    "\n",
    "input_data = ju.read(INPUT_JSON)\n",
    "manifest_file = input_data.get('manifest_file')\n",
    "manifest_file = os.path.join(TOP_DIR, manifest_file)\n",
    "experiments_exclude = ju.read(EXPERIMENTS_EXCLUDE_JSON)\n",
    "\n",
    "#its unclear why the hyperparameters are loaded from the output directory\n",
    "cache = VoxelModelCache(manifest_file=manifest_file)\n",
    "\n",
    "\n",
    "mcc = MouseConnectivityCache(manifest_file = '../connectivity/mouse_connectivity_manifest.json')\n",
    "#cache  = mcc\n",
    "ontological_order = get_ordered_summary_structures(cache)\n",
    "\n",
    "\n",
    "major_structures = input_data.get('structures')\n",
    "major_structure_ids = [get_structure_id(cache, s) for s in major_structures]\n",
    "data_info = pd.read_excel('/Users/samsonkoelle/alleninstitute/Whole Brain Cre Image Series_curation only.xlsx', 'all datasets curated_070919pull')\n",
    "data_info.set_index(\"id\", inplace=True)\n",
    "\n",
    "st = mcc.get_structure_tree()\n",
    "ai_map = st.get_id_acronym_map()\n",
    "ia_map = {value: key for key, value in ai_map.items()}\n",
    "\n",
    "#regionalize voxel model: compare with regional model\n",
    "#regional parameters\n",
    "cre = None\n",
    "eid_set=None\n",
    "high_res=False\n",
    "threshold_injection = False\n",
    "\n",
    "COARSE_STRUCTURE_SET_ID = 2\n",
    "DEFAULT_STRUCTURE_SET_IDS = tuple([COARSE_STRUCTURE_SET_ID])\n",
    "tree = cache.get_structure_tree()\n",
    "default_structures = tree.get_structures_by_set_id(DEFAULT_STRUCTURE_SET_IDS)\n",
    "default_structure_ids = [st['id'] for st in default_structures if st['id'] != 934]\n",
    "#cre= True"
   ]
  },
  {
   "cell_type": "code",
   "execution_count": 3,
   "metadata": {},
   "outputs": [
    {
     "name": "stdout",
     "output_type": "stream",
     "text": [
      "512\n",
      "703\n",
      "1089\n",
      "1097\n",
      "315\n",
      "313\n",
      "354\n",
      "698\n",
      "771\n",
      "803\n",
      "477\n",
      "549\n"
     ]
    }
   ],
   "source": [
    "connectivity_data = get_connectivity_data(cache, major_structure_ids, experiments_exclude, remove_injection = False)\n",
    "connectivity_data.get_injection_hemisphere_ids()\n",
    "connectivity_data.align()\n",
    "connectivity_data.get_centroids()\n",
    "connectivity_data.get_data_matrices(default_structure_ids)\n",
    "connectivity_data.get_crelines(data_info)"
   ]
  },
  {
   "cell_type": "code",
   "execution_count": 4,
   "metadata": {
    "collapsed": true
   },
   "outputs": [],
   "source": [
    "#major division segregation is legacy code but convenient for fast cross validation in major division model\n",
    "#experiments_minor_structures = get_summarystructure_dictionary(connectivity_data, data_info)\n",
    "#get leaves in ontological order.  Where leafs don't exist, uses summary structure\n",
    "ontological_order_leaves = get_leaves_ontologicalorder(connectivity_data, ontological_order)\n",
    "#Key isn't affected by which experiment we choose. This allows default masking to be inherited from the AllenSDK.\n",
    "sid0 = list(connectivity_data.structure_datas.keys())[0]\n",
    "eid0 = list(connectivity_data.structure_datas[sid0].experiment_datas.keys())[0]\n",
    "#Identify keys denoting which voxels correspond to which structure in the ipsi and contra targets.\n",
    "#contra_targetkey = msvd.experiments[list(msvd.experiments.keys())[0]].projection_mask.get_key(structure_ids=ontological_order_leaves, hemisphere_id=1)\n",
    "#ipsi_targetkey = msvd.experiments[list(msvd.experiments.keys())[0]].projection_mask.get_key(structure_ids=ontological_order_leaves, hemisphere_id=2)\n",
    "contra_targetkey = connectivity_data.structure_datas[sid0].projection_mask.get_key(structure_ids=ontological_order, hemisphere_id=1)\n",
    "ipsi_targetkey = connectivity_data.structure_datas[sid0].projection_mask.get_key(structure_ids=ontological_order, hemisphere_id=2)\n",
    "#get average intensities of projection structures given ipsi and contra keys\n",
    "#source_key = ontological_order #only relevant here when injection needs to be unionized, but currently a required argument\n",
    "ipsi_target_regions, ipsi_target_counts = nonzero_unique(ipsi_targetkey, return_counts=True)\n",
    "contra_target_regions, contra_target_counts = nonzero_unique(contra_targetkey, return_counts=True)\n",
    "\n",
    "target_order = lambda x: np.array(ontological_order)[np.isin(ontological_order, x)]\n",
    "permutation = lambda x: np.argsort(np.argsort(target_order(x)))\n",
    "targ_ids = np.concatenate([ipsi_target_regions[permutation(ipsi_target_regions)],\n",
    "                           contra_target_regions[permutation(contra_target_regions)]])"
   ]
  },
  {
   "cell_type": "code",
   "execution_count": null,
   "metadata": {
    "collapsed": true
   },
   "outputs": [],
   "source": [
    "with open('data/info/leafs.pickle', 'rb') as handle:\n",
    "    leafs = pickle.load(handle)\n",
    "    \n",
    "connectivity_data.ai_map = ai_map\n",
    "connectivity_data.get_summarystructures(data_info)\n",
    "connectivity_data.leafs = leafs\n",
    "connectivity_data.get_regionalized_normalized_data(ontological_order, ipsi_targetkey, contra_targetkey)\n",
    "connectivity_data.get_creleaf_combos()\n",
    "connectivity_data.leaf2_index_matrices = get_indices_2ormore(connectivity_data.leafs)\n",
    "connectivity_data.creleaf2_index_matrices = get_indices_2ormore(connectivity_data.creleaf_combos)"
   ]
  },
  {
   "cell_type": "code",
   "execution_count": null,
   "metadata": {
    "collapsed": true
   },
   "outputs": [],
   "source": [
    "#twostage_leaf_creleaf2 = Crossval()\n",
    "\n",
    "pds = {}\n",
    "for sid in major_structure_ids:\n",
    "    pds[sid] = pairwise_distances(connectivity_data.structure_datas[sid].centroids)**2\n",
    "    \n",
    "#gammas = np.asarray([0.1,.5,1,2,10,20,40,100,1000,10000])\n",
    "gammas = np.asarray([0.001,0.01,0.1,1,10,100,1000,10000])\n",
    "#gammas = np.asarray([0.1,.5,1,2,10,20,40])\n",
    "loocvpredictions = {}\n",
    "reg_proj_norm= {}\n",
    "for sid in np.asarray(list(connectivity_data.structure_datas.keys())):\n",
    "    print(sid)\n",
    "    #print(connectivity_data.structure_datas[sid].reg_proj_norm.shape)\n",
    "    reg_proj_norm[sid ] = connectivity_data.structure_datas[sid].reg_proj_norm\n",
    "    #pds = pairwise_distances(connectivity_data.structure_datas[sid].centroids)**2\n",
    "    print('here')\n",
    "    loocvpredictions[sid] = get_nwloocv_predictions_multimodel_merge_dists(connectivity_data.structure_datas[sid].reg_proj_norm[:,:], \n",
    "                                                                                       #connectivity_data.structure_datas[sid].smoothed_losses_str,#np.ones(losses.shape),#(losses - np.nanmin(losses))**2,#**6, \n",
    "                                                                                       pds[sid],                                       \n",
    "                                                                                       #(sls[sid] - np.nanmin(sls[sid]))**.5,\n",
    "                                                                                       gammas, \n",
    "                                                                                       connectivity_data.creleaf2_index_matrices[sid], \n",
    "                                                                                       connectivity_data.creleaf2_index_matrices[sid])                                  \n",
    "                                                                                       #screened_eval_indices[sid])                                  \n",
    "                                                                                       #indices_leaf2ormore[sid])"
   ]
  },
  {
   "cell_type": "code",
   "execution_count": null,
   "metadata": {
    "collapsed": true
   },
   "outputs": [],
   "source": [
    "\n",
    "        \n",
    "connectivity_data.creleaf2_evalindices = get_eval_indices(connectivity_data.creleaf2_index_matrices)"
   ]
  },
  {
   "cell_type": "code",
   "execution_count": null,
   "metadata": {
    "collapsed": true
   },
   "outputs": [],
   "source": [
    "from mcmodels.models.crossvalidation import Crossval"
   ]
  },
  {
   "cell_type": "code",
   "execution_count": null,
   "metadata": {
    "collapsed": true
   },
   "outputs": [],
   "source": [
    "reg_proj_norm= {}\n",
    "for sid in np.asarray(list(connectivity_data.structure_datas.keys())):\n",
    "    reg_proj_norm[sid ] = connectivity_data.structure_datas[sid].reg_proj_norm\n",
    "    \n",
    "a= [list(range(len(gammas)))]\n",
    "keys = np.asarray(list(itertools.product(*a)))\n",
    "nw_creleaf_creleaf2 = Crossval()\n",
    "nw_creleaf_creleaf2.loocvpredictions = loocvpredictions\n",
    "nw_creleaf_creleaf2.losses = get_loss(reg_proj_norm, nw_creleaf_creleaf2.loocvpredictions,pred_ind = connectivity_data.creleaf2_evalindices, true_ind = connectivity_data.creleaf2_evalindices,keys = keys)\n",
    "nw_creleaf_creleaf2.bestgamma  = get_best_hyperparameters(nw_creleaf_creleaf2.losses,keys)\n",
    "nw_creleaf_creleaf2.meanloss = get_loss_best_hyp(nw_creleaf_creleaf2.losses, nw_creleaf_creleaf2.bestgamma)\n",
    "\n",
    "#meanloss_nw_leaf_leaf2wt\n",
    "#meanloss_nw_wtleaf_leaf2wt"
   ]
  },
  {
   "cell_type": "code",
   "execution_count": 14,
   "metadata": {
    "collapsed": true
   },
   "outputs": [],
   "source": [
    "with open('/Users/samsonkoelle/alleninstitute/sambranch/mouse_connectivity_models/analyses/paper/modelvalidation/predictions/nw_creleaf_creleaf2.pickle', 'wb') as handle:\n",
    "    pickle.dump(nw_creleaf_creleaf2, handle, protocol=pickle.HIGHEST_PROTOCOL)"
   ]
  },
  {
   "cell_type": "code",
   "execution_count": null,
   "metadata": {
    "collapsed": true
   },
   "outputs": [],
   "source": [
    "nw_creleaf_creleaf2.meanloss"
   ]
  },
  {
   "cell_type": "code",
   "execution_count": 11,
   "metadata": {},
   "outputs": [
    {
     "data": {
      "text/plain": [
       "array([0.04951634, 0.4966726 , 0.1013065 , 0.25932422, 0.15073582,\n",
       "       0.11942033, 0.22439401, 0.07448767, 0.2385843 , 0.19429965,\n",
       "       0.06370823, 0.57225383])"
      ]
     },
     "execution_count": 11,
     "metadata": {},
     "output_type": "execute_result"
    }
   ],
   "source": [
    "nw_creleaf_creleaf2.meanloss"
   ]
  },
  {
   "cell_type": "code",
   "execution_count": 13,
   "metadata": {},
   "outputs": [
    {
     "data": {
      "text/plain": [
       "array([0.04951634, 0.4966726 , 0.1013065 , 0.25932422, 0.15073582,\n",
       "       0.11942033, 0.22439401, 0.07448767, 0.2385843 , 0.19429965,\n",
       "       0.06370823, 0.57225383])"
      ]
     },
     "execution_count": 13,
     "metadata": {},
     "output_type": "execute_result"
    }
   ],
   "source": [
    "nw_creleaf_creleaf2.meanloss"
   ]
  },
  {
   "cell_type": "code",
   "execution_count": null,
   "metadata": {
    "collapsed": true
   },
   "outputs": [],
   "source": [
    "m = 4\n",
    "sid = major_structure_ids[4]\n",
    "leaf_sid = np.asarray([ia_map[connectivity_data.leafs[sid][i]] for i in range(len(connectivity_data.leafs[sid]))])[connectivity_data.creleaf2_evalindices[sid]]\n",
    "combo_loss = pd.DataFrame(np.asarray([nw_creleaf_creleaf2.losses[315][nw_creleaf_creleaf2.bestgamma[m],:][0], \n",
    "             connectivity_data.creline[sid][connectivity_data.creleaf2_evalindices[sid]],\n",
    "             leaf_sid]).transpose())\n",
    "combo_loss.columns  = np.asarray(['Loss','Cre','Leaf'])"
   ]
  },
  {
   "cell_type": "code",
   "execution_count": null,
   "metadata": {
    "collapsed": true
   },
   "outputs": [],
   "source": [
    "#look at relative improvement on each point\n",
    "#sparsity constraint"
   ]
  },
  {
   "cell_type": "code",
   "execution_count": null,
   "metadata": {
    "collapsed": true
   },
   "outputs": [],
   "source": [
    "#nw_creleaf_creleaf2.losses_l0 = get_loss_l0(reg_proj_norm, nw_creleaf_creleaf2.loocvpredictions,pred_ind = connectivity_data.creleaf2_evalindices, true_ind = connectivity_data.creleaf2_evalindices,keys = keys)\n"
   ]
  }
 ],
 "metadata": {
  "kernelspec": {
   "display_name": "allen_010719_5",
   "language": "python",
   "name": "allen_010719_5"
  },
  "language_info": {
   "codemirror_mode": {
    "name": "ipython",
    "version": 3
   },
   "file_extension": ".py",
   "mimetype": "text/x-python",
   "name": "python",
   "nbconvert_exporter": "python",
   "pygments_lexer": "ipython3",
   "version": "3.7.6"
  }
 },
 "nbformat": 4,
 "nbformat_minor": 2
}

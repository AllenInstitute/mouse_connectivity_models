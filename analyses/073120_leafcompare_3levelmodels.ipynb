{
 "cells": [
  {
   "cell_type": "code",
   "execution_count": 2,
   "metadata": {},
   "outputs": [
    {
     "name": "stderr",
     "output_type": "stream",
     "text": [
      "/Users/samsonkoelle/anaconda3/envs/allen_010719_5/lib/python3.7/site-packages/sklearn/utils/deprecation.py:144: FutureWarning: The sklearn.linear_model.base module is  deprecated in version 0.22 and will be removed in version 0.24. The corresponding classes / functions should instead be imported from sklearn.linear_model. Anything that cannot be imported from sklearn.linear_model is now part of the private API.\n",
      "  warnings.warn(message, FutureWarning)\n",
      "/Users/samsonkoelle/anaconda3/envs/allen_010719_5/lib/python3.7/site-packages/sklearn/utils/deprecation.py:144: FutureWarning: The sklearn.metrics.scorer module is  deprecated in version 0.22 and will be removed in version 0.24. The corresponding classes / functions should instead be imported from sklearn.metrics. Anything that cannot be imported from sklearn.metrics is now part of the private API.\n",
      "  warnings.warn(message, FutureWarning)\n"
     ]
    }
   ],
   "source": [
    "%load_ext autoreload\n",
    "%autoreload 2\n",
    "\n",
    "import os\n",
    "import numpy as np\n",
    "import pandas as pd \n",
    "import sys\n",
    "import pickle\n",
    "import itertools\n",
    "import seaborn as sns\n",
    "import matplotlib.pyplot as plt\n",
    "\n",
    "workingdirectory = os.popen('git rev-parse --show-toplevel').read()[:-1]\n",
    "sys.path.append(workingdirectory)\n",
    "os.chdir(workingdirectory)\n",
    "\n",
    "import allensdk.core.json_utilities as ju\n",
    "from allensdk.core.mouse_connectivity_cache import MouseConnectivityCache\n",
    "\n",
    "from mcmodels.core import Mask,ModelData,VoxelModelCache\n",
    "from mcmodels.core.utils import get_structure_id, get_ordered_summary_structures,get_minorstructures,get_loss_paper\n",
    "from mcmodels.utils import nonzero_unique, unionize\n",
    "from mcmodels.core.experiment import get_voxeldata_msvd\n",
    "from mcmodels.models.crossvalidation import get_best_hyperparameters,get_loss_best_hyp,get_loss, get_loocv_predictions_code\n",
    "from mcmodels.core.utils import get_cre_status,get_minorstructure_dictionary,get_leaves_ontologicalorder\n",
    "from mcmodels.core.utils import get_regionalized_normalized_data\n",
    "from mcmodels.core.utils import get_connectivity\n",
    "from mcmodels.core.utils import get_ontological_order_leaf\n",
    "from mcmodels.core.utils import get_nw_loocv,get_wt_inds\n",
    "from mcmodels.core.utils import get_countvec, get_twoormore"
   ]
  },
  {
   "cell_type": "code",
   "execution_count": 3,
   "metadata": {
    "collapsed": true
   },
   "outputs": [],
   "source": [
    "from sklearn.metrics.pairwise import pairwise_kernels\n",
    "from mcmodels.regressors.nonparametric.nadaraya_watson import get_weights\n",
    "\n",
    "#get where we actually modelled\n",
    "def get_eval_indices(eval_index_matrices):\n",
    "    eval_indices = {}\n",
    "    major_structure_ids = np.asarray(list(eval_index_matrices.keys()))\n",
    "    for sid in major_structure_ids:\n",
    "        eval_indices[sid] = np.where(eval_index_matrices[sid].sum(axis = 0) > 0)[0]\n",
    "    return(eval_indices)    \n",
    "\n",
    "\n",
    "\n",
    "def get_weights(eval_centroids, model_centroids, gamma):\n",
    "    weights = pairwise_kernels(X=eval_centroids, Y=model_centroids, metric='rbf', gamma=gamma, filter_params=True)\n",
    "    return (weights)\n",
    "\n",
    "\n",
    "def get_indices(ids):\n",
    "\n",
    "    ids_unique = np.unique(ids)\n",
    "    output = np.zeros((len(ids_unique), len(ids)), dtype = int)\n",
    "    for i in range(len(ids_unique)):\n",
    "        output[i,np.where(ids == ids_unique[i])[0] ] = 1\n",
    "    return(output)\n",
    "\n",
    "#get indices of firstlist in firstlisttest in categories defined by secondlist\n",
    "def get_indices2(firstlist, firstlisttest, secondlist):\n",
    "    \n",
    "    sl_unique = np.unique(secondlist)\n",
    "    output = np.zeros((len(sl_unique), len(secondlist)), dtype = int)\n",
    "    for i in range(len(sl_unique)):\n",
    "        output[i,np.intersect1d(np.where(np.isin(firstlist,firstlisttest))[0], np.where(secondlist == sl_unique[i])[0])] = 1\n",
    "    return(output)\n",
    "\n",
    "#nmodels = nleafs\n",
    "#populate each with experiments that share summary structure\n",
    "def get_indices_summaryinleaf(summarylist , leaflist):\n",
    "    \n",
    "    nexp = len(leaflist)\n",
    "    leaf_unique = np.unique(leaflist)\n",
    "    output = np.zeros((len(leaf_unique), nexp), dtype = int)\n",
    "    \n",
    "    for i in range(len(leaf_unique)):\n",
    "        \n",
    "        summary = summarylist[np.where(leaflist == leaf_unique[i])[0]][0]\n",
    "        output[i,np.where(summarylist == summary)[0]] = 1\n",
    "        \n",
    "        \n",
    "    return(output)\n",
    "\n",
    "#get predictions at all eval_indices using model_indices\n",
    "#if an eval_indices is also a model indice, leave it out of the model\n",
    "#if a model index is not an eval index, it never gets left out\n",
    "def get_nwloocv_predictions_singlemodel(projections, centroids, gamma, model_indices, eval_indices):\n",
    "    \n",
    "#def get_loocv_predictions(projections, centroids, gamma):\n",
    "    \n",
    "#     projections = np.asarray(projections, dtype=np.float32)\n",
    "#     neval = len(eval_indices)\n",
    "#     #nexp = centroids.shape[0]\n",
    "#     predictions = np.empty(projections.shape)\n",
    "#     weights = get_weights(centroids, gamma)\n",
    "    \n",
    "#     for i in range(neval):\n",
    "#         otherindices = np.setdiff1d(model_indices, eval_indices[i])\n",
    "#         #this order of operations is the fastest I found\n",
    "#         weights_i = weights[eval_indices[i]][model_indices] / weights[model_indices[i]][otherindices].sum()\n",
    "#         weights_i[i] = 0\n",
    "#         weights_i = np.asarray(weights_i, dtype=np.float32)\n",
    "#         pred = np.dot(weights_i, projections[model_indices])\n",
    "#         predictions[i] = pred\n",
    "\n",
    "    eval_index_val = np.where(eval_indices == 1)[0]\n",
    "    model_index_val = np.where(model_indices == 1)[0]\n",
    "    \n",
    "    projections = np.asarray(projections, dtype=np.float32)\n",
    "    \n",
    "    nmod_ind = len(model_index_val)\n",
    "    neval = len(eval_index_val)\n",
    "    #nexp = centroids.shape[0]\n",
    "    predictions = np.empty(projections.shape)\n",
    "    #print(model_index_val.shape, eval_index_val.shape)\n",
    "\n",
    "    if len(model_index_val) > 0 and  len(eval_index_val) > 0:\n",
    "        weights = pairwise_kernels(centroids[model_index_val], centroids[eval_index_val], metric='rbf', gamma=gamma, filter_params=True) #get_weights(centroids, gamma)\n",
    "        for i in range(neval):\n",
    "            matchindex = np.where(model_index_val == eval_index_val[i])[0]\n",
    "            otherindices = np.setdiff1d(np.asarray(list(range(nmod_ind))), matchindex)         \n",
    "            #this order of operations is the fastest I found\n",
    "            weights_i = weights[:,i] / weights[:,i][otherindices].sum()\n",
    "            weights_i[matchindex] = 0\n",
    "            weights_i = np.asarray(weights_i, dtype=np.float32)\n",
    "            pred = np.dot(weights_i, projections[model_index_val])\n",
    "            predictions[eval_index_val[i]] = pred\n",
    "\n",
    "        \n",
    "    return(predictions)    \n",
    "\n",
    "def get_nwloocv_predictions_multimodel(projections, centroids, gammas, model_index_matrix, eval_index_matrix):\n",
    "    \n",
    "\n",
    "    \n",
    "    ntargets = projections.shape[1]\n",
    "    nexp = projections.shape[0]\n",
    "    nmodels = model_index_matrix.shape[0]\n",
    "    ngammas = len(gammas)\n",
    "    \n",
    "    projections = np.asarray(projections, dtype=np.float32)\n",
    "    predictions = np.empty((nmodels, ngammas, nexp, ntargets))\n",
    "    \n",
    "    \n",
    "    for m in range(nmodels):\n",
    "        #print('m', m, len(np.where(model_index_matrix[m] ==1)[0]))\n",
    "        predictions[m] = np.asarray([get_nwloocv_predictions_singlemodel(projections, centroids, gammas[g], model_index_matrix[m], eval_index_matrix[m]) for g in range(ngammas)])\n",
    "    \n",
    "    return(predictions)  \n",
    "\n",
    "def combine_predictions(predictions, eval_index_matrix):\n",
    "    \n",
    "    nmodels, ngammas, nexp, ntargets = predictions.shape\n",
    "    combined_predictions = np.empty((ngammas, nexp, ntargets))\n",
    "    for m in range(nmodels):\n",
    "        combined_predictions[:,np.where(eval_index_matrix[m] == 1)[0]] = predictions[m][:,np.where(eval_index_matrix[m] == 1)[0]]\n",
    "        \n",
    "    return(combined_predictions)\n",
    "\n",
    "def get_nwloocv_predictions_multimodel_merge(projections, centroids, gammas, model_index_matrix, eval_index_matrix):\n",
    "    \n",
    "    predictions_unmerged = get_nwloocv_predictions_multimodel(projections, centroids, gammas, model_index_matrix, eval_index_matrix)\n",
    "    print(predictions_unmerged.shape)\n",
    "    predictions_merged = combine_predictions(predictions_unmerged, eval_index_matrix)\n",
    "    \n",
    "    return(predictions_merged)\n",
    "#we should not pass model_index_matrices that are identical to eval_index_matrices and have only 1 element per model\n",
    "#can do automatically in the cross validation code but would rther do it explicitly to ensure identical indexing b/w experiments\n",
    "#1 model leads to removing the model index from eval indices\n",
    "#should never have no elements in model_indices\n",
    "def screen_indices(model_indices, eval_indices):\n",
    "    \n",
    "    eval_indices2 = eval_indices.copy()\n",
    "    mod_loc = np.where(model_indices == 1)[0]\n",
    "    if len(mod_loc) == 1:\n",
    "        eval_indices2[mod_loc] = 0\n",
    "    return(eval_indices2)\n",
    "\n",
    "#this will not result in certain models having no indices, but could result in an empty eval index.  cactch later\n",
    "#this will result in certain indices having no prediction.  this is fine.\n",
    "#can merge (sum) the index matrix to see where predictions are actually generated\n",
    "def screen_index_matrices(model_index_matrices, eval_index_matrices):\n",
    "    \n",
    "    nmodels = model_index_matrices.shape[0]\n",
    "    eval_index_matrices2 = eval_index_matrices.copy()\n",
    "    for m in range(nmodels):\n",
    "        eval_index_matrices2[m] = screen_indices(model_index_matrices[m], eval_index_matrices[m])\n",
    "    \n",
    "    return(eval_index_matrices2)\n",
    "\n",
    "#need code for removing experiments that have no model\n",
    "#this can happen when the model set is a subset of the evaluation set.\n",
    "#we will therefore generate predictions for a subset\n",
    "#given a leaf is included, the eval set is the same\n",
    "#however, we want to remove evals in leaves we don't have a wt for... of course one could say we are doing worse...\n",
    "#but we also have a fewer number of models\n",
    "def screen_index_matrices2(model_index_matrices, eval_index_matrices):\n",
    "    \n",
    "    nmodels = model_index_matrices.shape[0]\n",
    "    include_per_model = model_index_matrices.sum(axis= 1)\n",
    "    to_include = np.where(include_per_model > 0)[0]\n",
    "    \n",
    "    model_index_matrices2 = model_index_matrices\n",
    "    eval_index_matrices2 = eval_index_matrices[to_include]\n",
    "    model_index_matrices2 = model_index_matrices[to_include]\n",
    "    \n",
    "    return(model_index_matrices2, eval_index_matrices2)"
   ]
  },
  {
   "cell_type": "code",
   "execution_count": 4,
   "metadata": {
    "collapsed": true
   },
   "outputs": [],
   "source": [
    "#read data\n",
    "TOP_DIR = '/Users/samsonkoelle/alleninstitute/mcm_2020/mcm_updated/'\n",
    "INPUT_JSON = os.path.join(TOP_DIR, 'input_011520.json')\n",
    "EXPERIMENTS_EXCLUDE_JSON = os.path.join(TOP_DIR, 'experiments_exclude.json')\n",
    "FILE_DIR = '/Users/samsonkoelle/alleninstitute/mcm_2020/mcm_updated/'\n",
    "OUTPUT_DIR = os.path.join(FILE_DIR, 'output')\n",
    "\n",
    "input_data = ju.read(INPUT_JSON)\n",
    "manifest_file = input_data.get('manifest_file')\n",
    "manifest_file = os.path.join(TOP_DIR, manifest_file)\n",
    "experiments_exclude = ju.read(EXPERIMENTS_EXCLUDE_JSON)\n",
    "\n",
    "#its unclear why the hyperparameters are loaded from the output directory\n",
    "cache = VoxelModelCache(manifest_file=manifest_file)\n",
    "major_structures = input_data.get('structures')\n",
    "major_structure_ids = [get_structure_id(cache, s) for s in major_structures]\n",
    "data_info = pd.read_excel('/Users/samsonkoelle/alleninstitute/Whole Brain Cre Image Series_curation only.xlsx', 'all datasets curated_070919pull')\n",
    "data_info.set_index(\"id\", inplace=True)\n",
    "ontological_order = get_ordered_summary_structures(cache)\n",
    "\n",
    "mcc = MouseConnectivityCache(manifest_file = '../connectivity/mouse_connectivity_manifest.json')\n",
    "st = mcc.get_structure_tree()\n",
    "ai_map = st.get_id_acronym_map()\n",
    "ia_map = {value: key for key, value in ai_map.items()}\n",
    "\n",
    "#regionalize voxel model: compare with regional model\n",
    "#regional parameters\n",
    "cre = None\n",
    "eid_set=None\n",
    "high_res=False\n",
    "threshold_injection = False\n",
    "\n",
    "COARSE_STRUCTURE_SET_ID = 2\n",
    "DEFAULT_STRUCTURE_SET_IDS = tuple([COARSE_STRUCTURE_SET_ID])\n",
    "tree = cache.get_structure_tree()\n",
    "default_structures = tree.get_structures_by_set_id(DEFAULT_STRUCTURE_SET_IDS)\n",
    "default_structure_ids = [st['id'] for st in default_structures if st['id'] != 934]\n",
    "#cre= True"
   ]
  },
  {
   "cell_type": "code",
   "execution_count": 5,
   "metadata": {},
   "outputs": [
    {
     "name": "stdout",
     "output_type": "stream",
     "text": [
      "512\n",
      "703\n",
      "1089\n",
      "1097\n",
      "315\n",
      "313\n",
      "354\n",
      "698\n",
      "771\n",
      "803\n",
      "477\n",
      "549\n"
     ]
    }
   ],
   "source": [
    "#load data\n",
    "msvds = {}\n",
    "for sid in major_structure_ids:\n",
    "    print(sid)\n",
    "    voxel_data = ModelData(cache, sid)\n",
    "    experiment_ids = voxel_data.get_experiment_ids(experiments_exclude=experiments_exclude, cre=cre)\n",
    "    experiment_ids = np.asarray(list(experiment_ids))    \n",
    "    #get injections and projections on the voxel level.\n",
    "    #Note that a preprocessing screen is applied in AllenSDK to mask at projection and injection boundaries\n",
    "    #Voxels intensity not in these regions in the corresponding projection vector will be 0.\n",
    "    msvd = get_voxeldata_msvd(cache, sid,experiments_exclude,default_structure_ids,cre)\n",
    "    msvds[sid]  = msvd"
   ]
  },
  {
   "cell_type": "code",
   "execution_count": 6,
   "metadata": {
    "collapsed": true
   },
   "outputs": [],
   "source": [
    "#get dictionaries of creline and leaf by experiment\n",
    "creline = get_cre_status(data_info, msvds)\n",
    "with open('data/info/leafs.pickle', 'rb') as handle:\n",
    "    leafs = pickle.load(handle)\n",
    "    \n",
    "#get dictionary of minor structures for each experiment in each major division\n",
    "#major division segregation is legacy code but convenient for fast cross validation in major division model\n",
    "experiments_minor_structures = get_minorstructure_dictionary(msvds, data_info)\n",
    "\n",
    "#get leaves in ontological order.  Where leafs don't exist, uses summary structure\n",
    "ontological_order_leaves = get_leaves_ontologicalorder(msvd, ontological_order)\n",
    "\n",
    "#Key isn't affected by which experiment we choose. This allows default masking to be inherited from the AllenSDK.\n",
    "key = list(msvd.experiments.keys())[0]\n",
    "\n",
    "#Identify keys denoting which voxels correspond to which structure in the ipsi and contra targets.\n",
    "#contra_targetkey = msvd.experiments[list(msvd.experiments.keys())[0]].projection_mask.get_key(structure_ids=ontological_order_leaves, hemisphere_id=1)\n",
    "#ipsi_targetkey = msvd.experiments[list(msvd.experiments.keys())[0]].projection_mask.get_key(structure_ids=ontological_order_leaves, hemisphere_id=2)\n",
    "contra_targetkey = msvd.experiments[key].projection_mask.get_key(structure_ids=ontological_order, hemisphere_id=1)\n",
    "ipsi_targetkey = msvd.experiments[key].projection_mask.get_key(structure_ids=ontological_order, hemisphere_id=2)\n",
    "\n",
    "#get average intensities of projection structures given ipsi and contra keys\n",
    "source_key = ontological_order #only relevant here when injection needs to be unionized, but currently a required argument\n",
    "msvds = get_regionalized_normalized_data(msvds,cache, source_key,ipsi_targetkey,contra_targetkey)\n",
    "\n",
    "#wt_2ormore = get_wt_inds(creline)"
   ]
  },
  {
   "cell_type": "code",
   "execution_count": 7,
   "metadata": {
    "collapsed": true
   },
   "outputs": [],
   "source": [
    "indices_leaf = {}\n",
    "indices_wtinleaf = {}\n",
    "indices_wtleaf = {}\n",
    "indices_summary = {}\n",
    "indices_summaryinleaf = {}\n",
    "indices_major = {}\n",
    "indices_majorinleaf = {}\n",
    "indices_leaf2ormore = {}\n",
    "indices_wtinleaf2ormore = {}\n",
    "indices_leaf_reduced = {}\n",
    "indices_wtinleaf_reduced = {}\n",
    "for sid in major_structure_ids:\n",
    "    \n",
    "    #wt_leaf on leaf\n",
    "\n",
    "    #get the indices of experiments sharing leafs (nmodels is number of leafs)\n",
    "    indices_leaf[sid] = get_indices(leafs[sid]) #eval_indices\n",
    "    indices_creleaf = get_indices(leafs[sid])\n",
    "    \n",
    "    #get the indices of the wts in the leaf (nmodels is number of leafs)\n",
    "    indices_wtinleaf[sid] = get_indices2(creline[sid], np.asarray(['C57BL/6J']),leafs[sid]) #model_indices\n",
    "    \n",
    "    #get indices of experiments sharing summary structure x cre combination (nmodel is number of cre x leaf combinations)\n",
    "    #indices_wtleaf[sid] = get_indices(creleafs_merged[sid])\n",
    "    \n",
    "    #get indices of experiments sharing summary structure(nmodel is number of summary structures)\n",
    "    indices_summary[sid] = get_indices(experiments_minor_structures[sid])\n",
    "    \n",
    "    #get indices of experiments sharing major structure(nmodel is number of summary structures)\n",
    "    indices_major[sid] = np.ones((1,experiments_minor_structures[sid].shape[0]))\n",
    "    \n",
    "    #get indices of experiments sharing same major structure as a leaf (nmodel is number of leafs)\n",
    "    indices_majorinleaf[sid] = get_indices2(np.ones(len(leafs[sid])), np.asarray([1]),leafs[sid]) #model_indices\n",
    "    \n",
    "    #get indices of experiments in same summary structure as a leaf (nmodel is number of leafs)\n",
    "    indices_summaryinleaf[sid] = get_indices_summaryinleaf(experiments_minor_structures[sid], leafs[sid])\n",
    "    \n",
    "    #evaluate models on leafs\n",
    "    #model_indices, eval_indices = indices_majorinleaf, indices_leaf\n",
    "    #model_indices, eval_indices = indices_summaryinleaf, indices_leaf\n",
    "    #this is the most restrictive of these 3, so eval_indices_leaf2ormore is the smallest eval set\n",
    "    indices_leaf2ormore[sid] = screen_index_matrices(indices_leaf[sid], indices_leaf[sid])\n",
    "    \n",
    "    indices_wtinleaf2ormore[sid] = screen_index_matrices(indices_wtinleaf[sid], indices_wtinleaf[sid])\n",
    "    #need to find explicitly so can be used in other experiments\n",
    "    #how do we line up with leaf model...\n",
    "    #reduced modelset.  also\n",
    "    #indices_wtinleaf_reduced, indices_leaf_reduced = screen_index_matrices2(indices_wtinleaf[sid], indices_leaf[sid])\n",
    "    indices_leaf_reduced[sid], indices_wtinleaf_reduced[sid]  = screen_index_matrices2( indices_leaf2ormore[sid],indices_wtinleaf[sid])\n",
    "\n",
    "    #if i want to only use indices_leaf_reduced as target in a different experiment, do i need to eliminate  \n",
    "    #\n",
    "    \n",
    "    \n",
    "    #leaf on leaf\n",
    "    #eval_indices = indices_leaf\n",
    "    #model_indices = indices_leaf\n",
    "\n",
    "    #leaf on wt_leaf\n",
    "    #model_indices = indices_leaf\n",
    "    #eval_indices = indices_wtinleaf\n",
    "\n",
    "    #summary on summary\n",
    "    #model_indices = get_indices(experiments_minor_structures[sid])\n",
    "    #eval_indices = get_indices(experiments_minor_structures[sid])\n",
    "\n",
    "    #creleaf precise (nmodels is number of creleaf combinations)\n",
    "    \n",
    "    #indices_wtleaf = get_indices(creleafs[sid])"
   ]
  },
  {
   "cell_type": "code",
   "execution_count": 218,
   "metadata": {},
   "outputs": [
    {
     "data": {
      "text/plain": [
       "(12,)"
      ]
     },
     "execution_count": 218,
     "metadata": {},
     "output_type": "execute_result"
    }
   ],
   "source": [
    "sid = 512\n",
    "np.where( creline[sid] == 'C57BL/6J')[0].shape"
   ]
  },
  {
   "cell_type": "code",
   "execution_count": 219,
   "metadata": {
    "collapsed": true
   },
   "outputs": [],
   "source": [
    "#the increase here doesn't make sense\n",
    "indices_wtinleaf[sid] = get_indices2(creline[sid], np.asarray(['C57BL/6J']),leafs[sid]) "
   ]
  },
  {
   "cell_type": "code",
   "execution_count": 220,
   "metadata": {},
   "outputs": [
    {
     "data": {
      "text/plain": [
       "12"
      ]
     },
     "execution_count": 220,
     "metadata": {},
     "output_type": "execute_result"
    }
   ],
   "source": [
    "indices_wtinleaf[sid].sum(axis = 1).sum()"
   ]
  },
  {
   "cell_type": "code",
   "execution_count": 221,
   "metadata": {},
   "outputs": [
    {
     "data": {
      "text/plain": [
       "14"
      ]
     },
     "execution_count": 221,
     "metadata": {},
     "output_type": "execute_result"
    }
   ],
   "source": [
    "output.sum(axis = 1).sum()"
   ]
  },
  {
   "cell_type": "code",
   "execution_count": 222,
   "metadata": {},
   "outputs": [
    {
     "data": {
      "text/plain": [
       "(13, 36)"
      ]
     },
     "execution_count": 222,
     "metadata": {},
     "output_type": "execute_result"
    }
   ],
   "source": [
    "indices_wtinleaf[sid].shape"
   ]
  },
  {
   "cell_type": "code",
   "execution_count": 223,
   "metadata": {
    "scrolled": true
   },
   "outputs": [
    {
     "data": {
      "text/plain": [
       "(13,)"
      ]
     },
     "execution_count": 223,
     "metadata": {},
     "output_type": "execute_result"
    }
   ],
   "source": [
    "np.unique(leafs[sid]).shape"
   ]
  },
  {
   "cell_type": "code",
   "execution_count": 224,
   "metadata": {
    "collapsed": true
   },
   "outputs": [],
   "source": [
    "firstlist = creline[sid]\n",
    "firstlisttest = np.asarray(['C57BL/6J'])\n",
    "secondlist = leafs[sid]"
   ]
  },
  {
   "cell_type": "code",
   "execution_count": 225,
   "metadata": {},
   "outputs": [
    {
     "name": "stdout",
     "output_type": "stream",
     "text": [
      "[ 0 12 16]\n",
      "[ 6 28]\n",
      "[22]\n",
      "[10]\n",
      "[17]\n",
      "[ 9 19]\n",
      "[35]\n",
      "[ 5  7 14 15 30 31]\n",
      "[3]\n",
      "[24 25]\n",
      "[ 4 13 18 29 33]\n",
      "[ 1 27]\n",
      "[ 2  8 11 20 21 23 26 32 34]\n"
     ]
    }
   ],
   "source": [
    "    sl_unique = np.unique(secondlist)\n",
    "    output = np.zeros((len(sl_unique), len(secondlist)), dtype = int)\n",
    "    for i in range(len(sl_unique)):\n",
    "        #print(len(np.where(secondlist == secondlist[i])[0]))\n",
    "        #print(len(np.intersect1d(np.where(np.isin(firstlist,firstlisttest))[0], np.where(secondlist == secondlist[i])[0])))\n",
    "        #print(secondlist[i])\n",
    "        print(np.where(secondlist == sl_unique[i])[0])\n",
    "        #int has length 12 \n",
    "        output[i,np.intersect1d(np.where(np.isin(firstlist,firstlisttest))[0], np.where(secondlist == sl_unique[i])[0])] = 1\n"
   ]
  },
  {
   "cell_type": "code",
   "execution_count": 226,
   "metadata": {},
   "outputs": [
    {
     "data": {
      "text/plain": [
       "array([  91, 1064, 1091, 1025, 1056, 1007,  846, 1007, 1091,  984,  968,\n",
       "       1091,   91, 1056, 1007, 1007,   91,  976, 1056,  984, 1091, 1091,\n",
       "        951, 1091, 1041, 1041, 1091, 1064,  846, 1056, 1007, 1007, 1091,\n",
       "       1056, 1091,  989])"
      ]
     },
     "execution_count": 226,
     "metadata": {},
     "output_type": "execute_result"
    }
   ],
   "source": [
    "secondlist"
   ]
  },
  {
   "cell_type": "code",
   "execution_count": 227,
   "metadata": {},
   "outputs": [
    {
     "data": {
      "text/plain": [
       "array([ 0, 12, 16])"
      ]
     },
     "execution_count": 227,
     "metadata": {},
     "output_type": "execute_result"
    }
   ],
   "source": [
    "np.where(secondlist == secondlist[i])[0]"
   ]
  },
  {
   "cell_type": "code",
   "execution_count": 228,
   "metadata": {},
   "outputs": [
    {
     "data": {
      "text/plain": [
       "(12,)"
      ]
     },
     "execution_count": 228,
     "metadata": {},
     "output_type": "execute_result"
    }
   ],
   "source": [
    "np.where(np.isin(firstlist,firstlisttest))[0].shape"
   ]
  },
  {
   "cell_type": "code",
   "execution_count": 229,
   "metadata": {},
   "outputs": [
    {
     "data": {
      "text/plain": [
       "array([ 0, 12, 16])"
      ]
     },
     "execution_count": 229,
     "metadata": {},
     "output_type": "execute_result"
    }
   ],
   "source": [
    "np.where(secondlist == secondlist[i])[0]"
   ]
  },
  {
   "cell_type": "code",
   "execution_count": null,
   "metadata": {
    "collapsed": true
   },
   "outputs": [],
   "source": []
  },
  {
   "cell_type": "code",
   "execution_count": null,
   "metadata": {
    "collapsed": true
   },
   "outputs": [],
   "source": []
  },
  {
   "cell_type": "code",
   "execution_count": 231,
   "metadata": {},
   "outputs": [
    {
     "data": {
      "text/plain": [
       "array([1, 0, 1, 0, 1, 1, 1, 1, 1, 1, 1, 1, 2])"
      ]
     },
     "execution_count": 231,
     "metadata": {},
     "output_type": "execute_result"
    }
   ],
   "source": [
    "#where are the wildtypes in the leafs\n",
    "indices_wtinleaf[512].sum(axis = 1)\n",
    "#godzilla number of wildtypes and where they are in leafs"
   ]
  },
  {
   "cell_type": "code",
   "execution_count": 232,
   "metadata": {},
   "outputs": [
    {
     "data": {
      "text/plain": [
       "12"
      ]
     },
     "execution_count": 232,
     "metadata": {},
     "output_type": "execute_result"
    }
   ],
   "source": [
    "#only has 14 'codes'\n",
    "indices_wtinleaf[sid].sum(axis = 1).sum()"
   ]
  },
  {
   "cell_type": "code",
   "execution_count": 233,
   "metadata": {},
   "outputs": [
    {
     "data": {
      "text/plain": [
       "array([0, 0, 0, 0, 0, 0, 0, 0, 0, 0, 0, 0, 2])"
      ]
     },
     "execution_count": 233,
     "metadata": {},
     "output_type": "execute_result"
    }
   ],
   "source": [
    "indices_wtinleaf2ormore[sid].sum(axis =1)"
   ]
  },
  {
   "cell_type": "code",
   "execution_count": 8,
   "metadata": {},
   "outputs": [
    {
     "ename": "NameError",
     "evalue": "name 'gammas' is not defined",
     "output_type": "error",
     "traceback": [
      "\u001b[0;31m---------------------------------------------------------------------------\u001b[0m",
      "\u001b[0;31mNameError\u001b[0m                                 Traceback (most recent call last)",
      "\u001b[0;32m<ipython-input-8-36a32ed9f7b4>\u001b[0m in \u001b[0;36m<module>\u001b[0;34m\u001b[0m\n\u001b[1;32m      3\u001b[0m     msvds[sid].loocv_predictions_major_major = get_nwloocv_predictions_multimodel_merge(msvds[sid].reg_proj_vcount_norm_renorm, \n\u001b[1;32m      4\u001b[0m                                                                                    \u001b[0mmsvds\u001b[0m\u001b[0;34m[\u001b[0m\u001b[0msid\u001b[0m\u001b[0;34m]\u001b[0m\u001b[0;34m.\u001b[0m\u001b[0mcentroids\u001b[0m\u001b[0;34m,\u001b[0m\u001b[0;34m\u001b[0m\u001b[0;34m\u001b[0m\u001b[0m\n\u001b[0;32m----> 5\u001b[0;31m                                                                                    \u001b[0mgammas\u001b[0m\u001b[0;34m,\u001b[0m\u001b[0;34m\u001b[0m\u001b[0;34m\u001b[0m\u001b[0m\n\u001b[0m\u001b[1;32m      6\u001b[0m                                                                                    \u001b[0mindices_major\u001b[0m\u001b[0;34m[\u001b[0m\u001b[0msid\u001b[0m\u001b[0;34m]\u001b[0m\u001b[0;34m,\u001b[0m\u001b[0;34m\u001b[0m\u001b[0;34m\u001b[0m\u001b[0m\n\u001b[1;32m      7\u001b[0m                                                                                     indices_major[sid])\n",
      "\u001b[0;31mNameError\u001b[0m: name 'gammas' is not defined"
     ]
    }
   ],
   "source": [
    "for sid in major_structure_ids:\n",
    "\n",
    "    msvds[sid].loocv_predictions_major_major = get_nwloocv_predictions_multimodel_merge(msvds[sid].reg_proj_vcount_norm_renorm, \n",
    "                                                                                   msvds[sid].centroids, \n",
    "                                                                                   gammas, \n",
    "                                                                                   indices_major[sid], \n",
    "                                                                                    indices_major[sid])\n",
    "\n",
    "    print(sid)\n",
    "    msvds[sid].loocv_predictions_major_leaf2 = get_nwloocv_predictions_multimodel_merge(msvds[sid].reg_proj_vcount_norm_renorm,\n",
    "                                                                                        msvds[sid].centroids,\n",
    "                                                                                        gammas, \n",
    "                                                                                        indices_majorinleaf[sid], \n",
    "                                                                                        indices_leaf2ormore[sid])\n",
    "    msvds[sid].loocv_predictions_summary_leaf2 = get_nwloocv_predictions_multimodel_merge(msvds[sid].reg_proj_vcount_norm_renorm, \n",
    "                                                                                          msvds[sid].centroids, \n",
    "                                                                                          gammas, \n",
    "                                                                                          indices_summaryinleaf[sid], \n",
    "                                                                                          indices_leaf2ormore[sid])\n",
    "    msvds[sid].loocv_predictions_leaf_leaf2 = get_nwloocv_predictions_multimodel_merge(msvds[sid].reg_proj_vcount_norm_renorm, \n",
    "                                                                                       msvds[sid].centroids, \n",
    "                                                                                       gammas, \n",
    "                                                                                       indices_leaf[sid], \n",
    "                                                                                       indices_leaf2ormore[sid])\n",
    "#     msvds[sid].loocv_predictions_leaf_leaf = get_nwloocv_predictions_multimodel_merge(msvds[sid].reg_proj_vcount_norm_renorm, \n",
    "#                                                                                        msvds[sid].centroids, \n",
    "#                                                                                        gammas, \n",
    "#                                                                                        indices_leaf[sid], \n",
    "#                                                                                        indices_leaf[sid])\n",
    "\n",
    "    msvds[sid].loocv_predictions_wtleaf_leaf2 = get_nwloocv_predictions_multimodel_merge(msvds[sid].reg_proj_vcount_norm_renorm, \n",
    "                                                                                       msvds[sid].centroids, \n",
    "                                                                                       gammas, \n",
    "                                                                                       indices_wtinleaf[sid], \n",
    "                                                                                       indices_leaf2ormore[sid])\n",
    "    #say we wish to predict wild types\n",
    "    msvds[sid].loocv_predictions_wtleaf_wtleaf2 = get_nwloocv_predictions_multimodel_merge(msvds[sid].reg_proj_vcount_norm_renorm, \n",
    "                                                                                       msvds[sid].centroids, \n",
    "                                                                                       gammas, \n",
    "                                                                                       indices_wtinleaf2ormore[sid], \n",
    "                                                                                        indices_wtinleaf2ormore[sid])\n",
    "                                                                                          \n",
    "    msvds[sid].loocv_predictions_leaf_wtleaf2 = get_nwloocv_predictions_multimodel_merge(msvds[sid].reg_proj_vcount_norm_renorm, \n",
    "                                                                                       msvds[sid].centroids, \n",
    "                                                                                       gammas, \n",
    "                                                                                       indices_leaf[sid], \n",
    "                                                                                        indices_wtinleaf2ormore[sid])\n",
    "    #for comparison with prev exp\n",
    "    msvds[sid].loocv_predictions_leaf_wtleaf = get_nwloocv_predictions_multimodel_merge(msvds[sid].reg_proj_vcount_norm_renorm, \n",
    "                                                                                       msvds[sid].centroids, \n",
    "                                                                                       gammas, \n",
    "                                                                                       indices_leaf[sid], \n",
    "                                                                                        indices_wtinleaf[sid])\n",
    "    \n",
    "    \n",
    "\n",
    "    #predict all leafs using cre in that leaf \n",
    "    #indices_leaf2ormore is a reduced set of indices_leaf so that we dont have the evaluator be the only predictor\n",
    "    #if we are evaluating leaf2ormore with cres we wont have this issue any more than already.\n",
    "    #however, we have to not evaluate when there are no cres in the leaf"
   ]
  },
  {
   "cell_type": "code",
   "execution_count": 38,
   "metadata": {},
   "outputs": [
    {
     "name": "stdout",
     "output_type": "stream",
     "text": [
      "512\n",
      "703\n",
      "1089\n",
      "1097\n",
      "315\n"
     ]
    },
    {
     "name": "stderr",
     "output_type": "stream",
     "text": [
      "/Users/samsonkoelle/anaconda3/envs/allen_010719_5/lib/python3.7/site-packages/ipykernel_launcher.py:98: RuntimeWarning: divide by zero encountered in true_divide\n",
      "/Users/samsonkoelle/anaconda3/envs/allen_010719_5/lib/python3.7/site-packages/ipykernel_launcher.py:98: RuntimeWarning: invalid value encountered in true_divide\n",
      "/Users/samsonkoelle/anaconda3/envs/allen_010719_5/lib/python3.7/site-packages/ipykernel_launcher.py:98: RuntimeWarning: overflow encountered in true_divide\n"
     ]
    },
    {
     "name": "stdout",
     "output_type": "stream",
     "text": [
      "313\n",
      "354\n",
      "698\n",
      "771\n",
      "803\n",
      "477\n",
      "549\n"
     ]
    },
    {
     "name": "stderr",
     "output_type": "stream",
     "text": [
      "/Users/samsonkoelle/anaconda3/envs/allen_010719_5/lib/python3.7/site-packages/ipykernel_launcher.py:98: RuntimeWarning: divide by zero encountered in true_divide\n",
      "/Users/samsonkoelle/anaconda3/envs/allen_010719_5/lib/python3.7/site-packages/ipykernel_launcher.py:98: RuntimeWarning: invalid value encountered in true_divide\n",
      "/Users/samsonkoelle/anaconda3/envs/allen_010719_5/lib/python3.7/site-packages/ipykernel_launcher.py:98: RuntimeWarning: divide by zero encountered in true_divide\n",
      "/Users/samsonkoelle/anaconda3/envs/allen_010719_5/lib/python3.7/site-packages/ipykernel_launcher.py:98: RuntimeWarning: invalid value encountered in true_divide\n",
      "/Users/samsonkoelle/anaconda3/envs/allen_010719_5/lib/python3.7/site-packages/ipykernel_launcher.py:98: RuntimeWarning: divide by zero encountered in true_divide\n",
      "/Users/samsonkoelle/anaconda3/envs/allen_010719_5/lib/python3.7/site-packages/ipykernel_launcher.py:98: RuntimeWarning: invalid value encountered in true_divide\n",
      "/Users/samsonkoelle/anaconda3/envs/allen_010719_5/lib/python3.7/site-packages/ipykernel_launcher.py:98: RuntimeWarning: divide by zero encountered in true_divide\n",
      "/Users/samsonkoelle/anaconda3/envs/allen_010719_5/lib/python3.7/site-packages/ipykernel_launcher.py:98: RuntimeWarning: invalid value encountered in true_divide\n",
      "/Users/samsonkoelle/anaconda3/envs/allen_010719_5/lib/python3.7/site-packages/ipykernel_launcher.py:98: RuntimeWarning: divide by zero encountered in true_divide\n",
      "/Users/samsonkoelle/anaconda3/envs/allen_010719_5/lib/python3.7/site-packages/ipykernel_launcher.py:98: RuntimeWarning: invalid value encountered in true_divide\n",
      "/Users/samsonkoelle/anaconda3/envs/allen_010719_5/lib/python3.7/site-packages/ipykernel_launcher.py:98: RuntimeWarning: overflow encountered in true_divide\n",
      "/Users/samsonkoelle/anaconda3/envs/allen_010719_5/lib/python3.7/site-packages/ipykernel_launcher.py:98: RuntimeWarning: divide by zero encountered in true_divide\n",
      "/Users/samsonkoelle/anaconda3/envs/allen_010719_5/lib/python3.7/site-packages/ipykernel_launcher.py:98: RuntimeWarning: invalid value encountered in true_divide\n"
     ]
    }
   ],
   "source": [
    "gammas = np.asarray([0.1,.5,1,2,10])\n",
    "for sid in major_structure_ids:\n",
    "    print(sid)\n",
    "    msvds[sid].loocv_predictions_major_major = get_nwloocv_predictions_multimodel_merge(msvds[sid].reg_proj_vcount_norm_renorm, \n",
    "                                                                                       msvds[sid].centroids, \n",
    "                                                                                       gammas, \n",
    "                                                                                       indices_major[sid], \n",
    "                                                                                        indices_major[sid])\n"
   ]
  },
  {
   "cell_type": "code",
   "execution_count": 48,
   "metadata": {},
   "outputs": [
    {
     "name": "stdout",
     "output_type": "stream",
     "text": [
      "0\n",
      "1\n",
      "2\n",
      "3\n",
      "4\n",
      "5\n",
      "6\n",
      "7\n",
      "8\n",
      "9\n",
      "10\n",
      "11\n"
     ]
    }
   ],
   "source": [
    "#     msvds[sid].loocv_predictions_major_major2 = get_nwloocv_predictions_multimodel_merge(msvds[sid].reg_proj_vcount_norm_renorm, \n",
    "#                                                                                        msvds[sid].centroids, \n",
    "#                                                                                        gammas, \n",
    "#                                                                                        indices_leaf[sid], \n",
    "#                                                                                        indices_leaf2ormore[sid])\n",
    "a= [list(range(5))]\n",
    "keys = np.asarray(list(itertools.product(*a)))\n",
    "\n",
    "nwloocv_major_major = {}\n",
    "reg_proj_vcount_norm_renorms = {}\n",
    "for sid in major_structure_ids:\n",
    "    nwloocv_major_major[sid] = msvds[sid].loocv_predictions_major_major\n",
    "    reg_proj_vcount_norm_renorms[sid ] = msvds[sid].reg_proj_vcount_norm_renorm\n",
    "\n",
    "eval_indices_major = get_eval_indices(indices_major)\n",
    "losses_major_major = get_loss(reg_proj_vcount_norm_renorms, nwloocv_major_major,pred_ind = eval_indices_major, true_ind = eval_indices_major,keys = keys)\n",
    "best_gamma_major_major = get_best_hyperparameters(losses_major_major,keys)\n",
    "meanloss_nw_major_major = get_loss_best_hyp(losses_major_major, best_gamma_major_major)"
   ]
  },
  {
   "cell_type": "code",
   "execution_count": 49,
   "metadata": {},
   "outputs": [
    {
     "data": {
      "text/plain": [
       "(5, 83, 577)"
      ]
     },
     "execution_count": 49,
     "metadata": {},
     "output_type": "execute_result"
    }
   ],
   "source": [
    "nwloocv_major_major[549].shape"
   ]
  },
  {
   "cell_type": "code",
   "execution_count": 50,
   "metadata": {},
   "outputs": [
    {
     "data": {
      "text/plain": [
       "array([0.90097783, 0.77737892, 0.35946378, 0.29377341, 0.43029092,\n",
       "       0.47135974, 0.40976477, 0.44626504, 0.45657043, 0.53027727,\n",
       "       0.69085557, 0.42870434])"
      ]
     },
     "execution_count": 50,
     "metadata": {},
     "output_type": "execute_result"
    }
   ],
   "source": [
    "#changing target list to leafs rather than summaries\n",
    "meanloss_nw_major_major"
   ]
  },
  {
   "cell_type": "code",
   "execution_count": 26,
   "metadata": {},
   "outputs": [
    {
     "data": {
      "text/plain": [
       "array([0.91745875, 0.88343212, 0.37942834, 0.30860234, 0.40127128,\n",
       "       0.48650491, 0.4394712 , 0.53795851, 0.52413763, 0.56407093,\n",
       "       0.73076523, 0.49477931])"
      ]
     },
     "execution_count": 26,
     "metadata": {},
     "output_type": "execute_result"
    }
   ],
   "source": [
    "meanloss_nw_major_major"
   ]
  },
  {
   "cell_type": "code",
   "execution_count": 51,
   "metadata": {},
   "outputs": [
    {
     "ename": "NameError",
     "evalue": "name 'meanloss_nw_finest_finest2' is not defined",
     "output_type": "error",
     "traceback": [
      "\u001b[0;31m---------------------------------------------------------------------------\u001b[0m",
      "\u001b[0;31mNameError\u001b[0m                                 Traceback (most recent call last)",
      "\u001b[0;32m<ipython-input-51-d87645adc113>\u001b[0m in \u001b[0;36m<module>\u001b[0;34m\u001b[0m\n\u001b[1;32m      1\u001b[0m \u001b[0;31m#obviously im having some difficulty\u001b[0m\u001b[0;34m\u001b[0m\u001b[0;34m\u001b[0m\u001b[0;34m\u001b[0m\u001b[0m\n\u001b[0;32m----> 2\u001b[0;31m \u001b[0mmeanloss_nw_finest_finest2\u001b[0m\u001b[0;34m\u001b[0m\u001b[0;34m\u001b[0m\u001b[0m\n\u001b[0m",
      "\u001b[0;31mNameError\u001b[0m: name 'meanloss_nw_finest_finest2' is not defined"
     ]
    }
   ],
   "source": [
    "#obviously im having some difficulty\n",
    "meanloss_nw_finest_finest2"
   ]
  },
  {
   "cell_type": "code",
   "execution_count": 97,
   "metadata": {},
   "outputs": [
    {
     "data": {
      "text/plain": [
       "array([0.93199997, 1.12600816, 0.40212803, 0.36564319, 0.45510793,\n",
       "       0.64921397, 0.53419902, 0.60271628, 0.65895914, 0.58846024,\n",
       "       0.6907309 , 0.59767407])"
      ]
     },
     "execution_count": 97,
     "metadata": {},
     "output_type": "execute_result"
    }
   ],
   "source": [
    "meanloss_nw_finest_finest2"
   ]
  },
  {
   "cell_type": "code",
   "execution_count": 10,
   "metadata": {},
   "outputs": [
    {
     "ename": "AttributeError",
     "evalue": "'VoxelDataset' object has no attribute 'loocv_predictions_leaf_leaf2'",
     "output_type": "error",
     "traceback": [
      "\u001b[0;31m---------------------------------------------------------------------------\u001b[0m",
      "\u001b[0;31mAttributeError\u001b[0m                            Traceback (most recent call last)",
      "\u001b[0;32m<ipython-input-10-d90c7b6ead00>\u001b[0m in \u001b[0;36m<module>\u001b[0;34m\u001b[0m\n\u001b[1;32m      9\u001b[0m \u001b[0;34m\u001b[0m\u001b[0m\n\u001b[1;32m     10\u001b[0m \u001b[0;32mfor\u001b[0m \u001b[0msid\u001b[0m \u001b[0;32min\u001b[0m \u001b[0mmajor_structure_ids\u001b[0m\u001b[0;34m:\u001b[0m\u001b[0;34m\u001b[0m\u001b[0;34m\u001b[0m\u001b[0m\n\u001b[0;32m---> 11\u001b[0;31m     \u001b[0mnwloocv_leaf_leaf2\u001b[0m\u001b[0;34m[\u001b[0m\u001b[0msid\u001b[0m\u001b[0;34m]\u001b[0m \u001b[0;34m=\u001b[0m \u001b[0mmsvds\u001b[0m\u001b[0;34m[\u001b[0m\u001b[0msid\u001b[0m\u001b[0;34m]\u001b[0m\u001b[0;34m.\u001b[0m\u001b[0mloocv_predictions_leaf_leaf2\u001b[0m\u001b[0;34m\u001b[0m\u001b[0;34m\u001b[0m\u001b[0m\n\u001b[0m\u001b[1;32m     12\u001b[0m     \u001b[0mreg_proj_vcount_norm_renorms\u001b[0m\u001b[0;34m[\u001b[0m\u001b[0msid\u001b[0m \u001b[0;34m]\u001b[0m \u001b[0;34m=\u001b[0m \u001b[0mmsvds\u001b[0m\u001b[0;34m[\u001b[0m\u001b[0msid\u001b[0m\u001b[0;34m]\u001b[0m\u001b[0;34m.\u001b[0m\u001b[0mreg_proj_vcount_norm_renorm\u001b[0m\u001b[0;34m\u001b[0m\u001b[0;34m\u001b[0m\u001b[0m\n\u001b[1;32m     13\u001b[0m     \u001b[0mnwloocv_summary_leaf2\u001b[0m\u001b[0;34m[\u001b[0m\u001b[0msid\u001b[0m\u001b[0;34m]\u001b[0m\u001b[0;34m=\u001b[0m \u001b[0mmsvds\u001b[0m\u001b[0;34m[\u001b[0m\u001b[0msid\u001b[0m\u001b[0;34m]\u001b[0m\u001b[0;34m.\u001b[0m\u001b[0mloocv_predictions_summary_leaf2\u001b[0m\u001b[0;34m\u001b[0m\u001b[0;34m\u001b[0m\u001b[0m\n",
      "\u001b[0;31mAttributeError\u001b[0m: 'VoxelDataset' object has no attribute 'loocv_predictions_leaf_leaf2'"
     ]
    }
   ],
   "source": [
    "nwloocv_leaf_leaf2 = {}\n",
    "nwloocv_summary_leaf2 = {}\n",
    "nwloocv_major_leaf2 = {}\n",
    "nwloocv_wtleaf_wtleaf2 = {}\n",
    "nwloocv_leaf_wtleaf2 = {}\n",
    "nwloocv_leaf_wtleaf = {}\n",
    "reg_proj_vcount_norm_renorms= {}\n",
    "nwloocv_leaf_leaf = {}\n",
    "\n",
    "for sid in major_structure_ids:\n",
    "    nwloocv_leaf_leaf2[sid] = msvds[sid].loocv_predictions_leaf_leaf2\n",
    "    reg_proj_vcount_norm_renorms[sid ] = msvds[sid].reg_proj_vcount_norm_renorm\n",
    "    nwloocv_summary_leaf2[sid]= msvds[sid].loocv_predictions_summary_leaf2\n",
    "    nwloocv_major_leaf2[sid] = msvds[sid].loocv_predictions_major_leaf2\n",
    "    nwloocv_wtleaf_wtleaf2[sid] = msvds[sid].loocv_predictions_wtleaf_wtleaf2\n",
    "    nwloocv_leaf_wtleaf2[sid] = msvds[sid].loocv_predictions_leaf_wtleaf2\n",
    "    nwloocv_leaf_wtleaf[sid] = msvds[sid].loocv_predictions_leaf_wtleaf\n",
    "    nwloocv_leaf_leaf[sid ] = msvds[sid].loocv_predictions_leaf_leaf\n",
    "    \n",
    "inds_good = {}\n",
    "for sid in major_structure_ids:\n",
    "    inds_good[sid] = np.asarray(list(range(msvds[sid].injections.shape[0]))) \n",
    "\n",
    "a= [list(range(5))]\n",
    "keys = np.asarray(list(itertools.product(*a)))\n",
    "\n",
    "eval_indices_leaf2ormore = get_eval_indices(indices_leaf2ormore)\n",
    "#eval_indices_leaf  = get_eval_indices(indices_leaf)\n",
    "eval_indices_wtinleaf2ormore = get_eval_indices(indices_wtinleaf2ormore)\n",
    "eval_indices_wtinleaf = get_eval_indices(indices_wtinleaf)\n",
    "\n",
    "losses_finest_finest2 = get_loss(reg_proj_vcount_norm_renorms, nwloocv_leaf_leaf2,pred_ind = eval_indices_leaf2ormore, true_ind = eval_indices_leaf2ormore,keys = keys)\n",
    "losses_summary_finest2 = get_loss(reg_proj_vcount_norm_renorms, nwloocv_summary_leaf2,pred_ind = eval_indices_leaf2ormore, true_ind = eval_indices_leaf2ormore,keys = keys)\n",
    "losses_major_finest2 = get_loss(reg_proj_vcount_norm_renorms, nwloocv_major_leaf2,pred_ind = eval_indices_leaf2ormore, true_ind = eval_indices_leaf2ormore,keys = keys)\n",
    "losses_wtleaf_wtleaf2 = get_loss(reg_proj_vcount_norm_renorms, nwloocv_wtleaf_wtleaf2,pred_ind = eval_indices_wtinleaf2ormore, true_ind = eval_indices_wtinleaf2ormore,keys = keys)\n",
    "losses_leaf_wtleaf2 = get_loss(reg_proj_vcount_norm_renorms, nwloocv_leaf_wtleaf2,pred_ind = eval_indices_wtinleaf2ormore, true_ind = eval_indices_wtinleaf2ormore,keys = keys)\n",
    "losses_leaf_wtleaf = get_loss(reg_proj_vcount_norm_renorms, nwloocv_leaf_wtleaf,pred_ind = eval_indices_wtinleaf, true_ind = eval_indices_wtinleaf,keys = keys)\n",
    "#losses_finest_finest = get_loss(reg_proj_vcount_norm_renorms, nwloocv_leaf_leaf,pred_ind = eval_indices_leaf, true_ind = eval_indices_leaf,keys = keys)\n",
    "\n",
    "\n",
    "#best_gamma_finest_finest = get_best_hyperparameters(losses_finest_finest,keys)\n",
    "best_gamma_finest_finest2 = get_best_hyperparameters(losses_finest_finest2,keys)\n",
    "best_gamma_summary_finest2 = get_best_hyperparameters(losses_summary_finest2,keys)\n",
    "best_gamma_major_finest2 = get_best_hyperparameters(losses_major_finest2,keys)\n",
    "best_gamma_wtleaf_wtleaf2 = get_best_hyperparameters(losses_wtleaf_wtleaf2,keys)\n",
    "best_gamma_leaf_wtleaf2 = get_best_hyperparameters(losses_leaf_wtleaf2,keys)\n",
    "best_gamma_leaf_wtleaf = get_best_hyperparameters(losses_leaf_wtleaf,keys)\n",
    "\n",
    "#meanloss_nw_finest_finest = get_loss_best_hyp(losses_finest_finest, best_gamma_finest_finest)\n",
    "meanloss_nw_finest_finest2 = get_loss_best_hyp(losses_finest_finest2, best_gamma_finest_finest2)\n",
    "meanloss_nw_summary_finest2 = get_loss_best_hyp(losses_summary_finest2, best_gamma_summary_finest2)\n",
    "meanloss_nw_major_finest2 = get_loss_best_hyp(losses_major_finest2, best_gamma_major_finest2)\n",
    "meanloss_nw_wtleaf_wtleaf2 = get_loss_best_hyp(losses_wtleaf_wtleaf2, best_gamma_wtleaf_wtleaf2)\n",
    "meanloss_nw_leaf_wtleaf2 = get_loss_best_hyp(losses_leaf_wtleaf2, best_gamma_leaf_wtleaf2)\n",
    "meanloss_nw_leaf_wtleaf = get_loss_best_hyp(losses_leaf_wtleaf, best_gamma_leaf_wtleaf)\n",
    "meanloss_nwall_leaf_wtleaf = get_loss_best_hyp(losses_leaf_wtleaf2, best_gamma_finest_finest2)"
   ]
  },
  {
   "cell_type": "code",
   "execution_count": null,
   "metadata": {
    "collapsed": true
   },
   "outputs": [],
   "source": [
    "losses_leaf_wtleaf2 = get_loss(reg_proj_vcount_norm_renorms, nwloocv_leaf_wtleaf2,pred_ind = eval_indices_wtinleaf2ormore, true_ind = eval_indices_wtinleaf2ormore,keys = keys)\n",
    "losses_leaf_wtleaf = get_loss(reg_proj_vcount_norm_renorms, nwloocv_leaf_wtleaf,pred_ind = eval_indices_wtinleaf, true_ind = eval_indices_wtinleaf,keys = keys)\n"
   ]
  },
  {
   "cell_type": "code",
   "execution_count": 332,
   "metadata": {
    "collapsed": true
   },
   "outputs": [],
   "source": [
    "losses_leaf_wtleaf2_otherway = get_loss(reg_proj_vcount_norm_renorms, nwloocv_leaf_leaf2,pred_ind = eval_indices_wtinleaf2ormore, true_ind = eval_indices_wtinleaf2ormore,keys = keys)\n"
   ]
  },
  {
   "cell_type": "code",
   "execution_count": 337,
   "metadata": {},
   "outputs": [
    {
     "data": {
      "text/plain": [
       "(5, 12)"
      ]
     },
     "execution_count": 337,
     "metadata": {},
     "output_type": "execute_result"
    }
   ],
   "source": [
    "#this has 12, godzilla has 8\n",
    "losses_leaf_wtleaf[512].shape"
   ]
  },
  {
   "cell_type": "code",
   "execution_count": 339,
   "metadata": {},
   "outputs": [
    {
     "data": {
      "text/plain": [
       "(12,)"
      ]
     },
     "execution_count": 339,
     "metadata": {},
     "output_type": "execute_result"
    }
   ],
   "source": [
    "eval_indices_wtinleaf[512].shape"
   ]
  },
  {
   "cell_type": "code",
   "execution_count": 344,
   "metadata": {},
   "outputs": [
    {
     "data": {
      "text/plain": [
       "(12,)"
      ]
     },
     "execution_count": 344,
     "metadata": {},
     "output_type": "execute_result"
    }
   ],
   "source": [
    "sid = 512\n",
    "np.where(get_indices2(creline[sid], np.asarray(['C57BL/6J']),leafs[sid]).sum(axis = 0) > 0)[0].shape\n"
   ]
  },
  {
   "cell_type": "code",
   "execution_count": null,
   "metadata": {
    "collapsed": true
   },
   "outputs": [],
   "source": [
    "#basically, get_indices2 might not account for the fact that some leafs only have the wt"
   ]
  },
  {
   "cell_type": "code",
   "execution_count": 345,
   "metadata": {
    "collapsed": true
   },
   "outputs": [],
   "source": [
    "indices_wtinleaf_reduced, indices_leaf_reduced = screen_index_matrices2(indices_wtinleaf[sid], indices_leaf[sid])\n",
    "    "
   ]
  },
  {
   "cell_type": "code",
   "execution_count": 349,
   "metadata": {},
   "outputs": [
    {
     "data": {
      "text/plain": [
       "12"
      ]
     },
     "execution_count": 349,
     "metadata": {},
     "output_type": "execute_result"
    }
   ],
   "source": [
    "indices_wtinleaf_reduced.sum(axis = 1).sum()"
   ]
  },
  {
   "cell_type": "code",
   "execution_count": 381,
   "metadata": {
    "collapsed": true
   },
   "outputs": [],
   "source": [
    "#model_index_matrices are the indices of the leafs'\n",
    "#indices_wtinleaf are the wild types\n",
    "#need to make sure we dont have leafs with only 1 experiment\n",
    "def screen_index_matrices2(model_index_matrices, eval_index_matrices):\n",
    "    \n",
    "    #nmodels = model_index_matrices.shape[0]\n",
    "    include_per_model = model_index_matrices.sum(axis= 1)\n",
    "    to_exclude = np.where(include_per_model <= 1)[0]\n",
    "    #to_include = np.where(include_per_model > 0)[0]\n",
    "    \n",
    "    model_index_matrices2 = model_index_matrices.copy()\n",
    "    eval_index_matrices2 = eval_index_matrices.copy()\n",
    "    model_index_matrices2[to_exclude] = 0\n",
    "    eval_index_matrices2[to_exclude] = 0\n",
    "    \n",
    "    return(model_index_matrices2, eval_index_matrices2)"
   ]
  },
  {
   "cell_type": "code",
   "execution_count": 365,
   "metadata": {
    "collapsed": true
   },
   "outputs": [],
   "source": [
    "indices_leaf_reduced, indices_wtinleaf_reduced  = screen_index_matrices2( indices_leaf2ormore[sid],indices_wtinleaf[sid])\n",
    "    "
   ]
  },
  {
   "cell_type": "code",
   "execution_count": 372,
   "metadata": {
    "collapsed": true
   },
   "outputs": [],
   "source": [
    "model_index_matrices = indices_leaf2ormore[sid]\n",
    "eval_index_matrices = indices_wtinleaf[sid]"
   ]
  },
  {
   "cell_type": "code",
   "execution_count": 394,
   "metadata": {
    "collapsed": true
   },
   "outputs": [],
   "source": []
  },
  {
   "cell_type": "code",
   "execution_count": 395,
   "metadata": {
    "collapsed": true
   },
   "outputs": [],
   "source": [
    "eval_indices_wtinleaf_reduced = get_eval_indices(indices_wtinleaf_reduced)\n",
    "losses_leaf_wtleaf2_otherway = get_loss(reg_proj_vcount_norm_renorms, nwloocv_leaf_leaf2,pred_ind = eval_indices_wtinleaf_reduced, true_ind = eval_indices_wtinleaf_reduced,keys = keys)"
   ]
  },
  {
   "cell_type": "code",
   "execution_count": 398,
   "metadata": {},
   "outputs": [
    {
     "data": {
      "text/plain": [
       "array([[0.34174093, 1.65425879, 0.21638183, 1.14073591, 0.6425    ,\n",
       "        1.12506149, 0.72780486, 1.04390712],\n",
       "       [0.35124271, 1.65425879, 0.21026201, 1.32445258, 0.6425    ,\n",
       "        1.12506149, 0.83424494, 1.22832153],\n",
       "       [0.36399655, 1.65425879, 0.2399193 , 1.32447863, 0.6425    ,\n",
       "        1.12506149, 0.86154553, 1.28456278],\n",
       "       [0.38932652, 1.65425879, 0.30518207, 1.32447863, 0.6425    ,\n",
       "        1.12506149, 0.86407479, 1.32012681],\n",
       "       [0.44595791, 1.65425879, 0.48245589, 1.32447863, 0.6425    ,\n",
       "        1.12506149,        nan,        nan]])"
      ]
     },
     "execution_count": 398,
     "metadata": {},
     "output_type": "execute_result"
    }
   ],
   "source": [
    "losses_leaf_wtleaf2_otherway[512] #finally... this is the same as before"
   ]
  },
  {
   "cell_type": "code",
   "execution_count": 392,
   "metadata": {
    "collapsed": true
   },
   "outputs": [],
   "source": [
    "\n",
    "def get_loss(true_dict, prediction_dict, pred_ind=None, true_ind=None, keys=None):\n",
    "    output = {}\n",
    "    major_structure_ids = list(prediction_dict.keys())\n",
    "    nms = len(major_structure_ids)\n",
    "    ngam = prediction_dict[major_structure_ids[0]].shape[0]\n",
    "    nalph = prediction_dict[major_structure_ids[0]].shape[1]\n",
    "    for m in range(nms):\n",
    "        sid = major_structure_ids[m]\n",
    "        if pred_ind == None:\n",
    "            # prediction_dict and true_dict will contain predictions for 'bad' experiments with no recorded injection\n",
    "            # when we have the wild type predictions, the subset is what is good among the wild types\n",
    "            # so 'true' subsetting is always good, since it is w.r.t. the full injection\n",
    "            # but prediction needs good w.r.t. wt\n",
    "            pind = np.asarray(list(range(prediction_dict[sid].shape[1])), dtype=int)\n",
    "        else:\n",
    "            pind = pred_ind[sid]\n",
    "        if true_ind == None:\n",
    "            tind = np.asarray(list(range(true_dict[sid].shape[0])), dtype=int)\n",
    "        else:\n",
    "            tind = true_ind[sid]\n",
    "\n",
    "        nexp = len(pind)\n",
    "\n",
    "        output[sid] = np.zeros(np.append([len(np.unique(keys[:, i])) for i in range(keys.shape[1])], nexp))\n",
    "\n",
    "        for j in range(keys.shape[0]):\n",
    "            output[sid][tuple(keys[j])] = np.asarray(\n",
    "                [get_loss_paper(true_dict[sid][tind[i]], prediction_dict[sid][tuple(keys[j])][pind[i]]) for i in\n",
    "                 range(nexp)])\n",
    "\n",
    "    return (output)"
   ]
  },
  {
   "cell_type": "code",
   "execution_count": null,
   "metadata": {
    "collapsed": true
   },
   "outputs": [],
   "source": [
    "pind = "
   ]
  },
  {
   "cell_type": "code",
   "execution_count": null,
   "metadata": {
    "collapsed": true
   },
   "outputs": [],
   "source": []
  },
  {
   "cell_type": "code",
   "execution_count": null,
   "metadata": {
    "collapsed": true
   },
   "outputs": [],
   "source": []
  },
  {
   "cell_type": "code",
   "execution_count": null,
   "metadata": {
    "collapsed": true
   },
   "outputs": [],
   "source": []
  },
  {
   "cell_type": "code",
   "execution_count": null,
   "metadata": {
    "collapsed": true
   },
   "outputs": [],
   "source": []
  },
  {
   "cell_type": "code",
   "execution_count": 391,
   "metadata": {},
   "outputs": [
    {
     "data": {
      "text/plain": [
       "(5, 13)"
      ]
     },
     "execution_count": 391,
     "metadata": {},
     "output_type": "execute_result"
    }
   ],
   "source": [
    "losses_leaf_wtleaf2_otherway[512].shape\n"
   ]
  },
  {
   "cell_type": "code",
   "execution_count": 389,
   "metadata": {},
   "outputs": [
    {
     "data": {
      "text/plain": [
       "array([1, 0, 0, 0, 0, 1, 0, 1, 0, 1, 1, 1, 2])"
      ]
     },
     "execution_count": 389,
     "metadata": {},
     "output_type": "execute_result"
    }
   ],
   "source": [
    "indices_wtinleaf_reduced[512].sum(axis = 1)"
   ]
  },
  {
   "cell_type": "code",
   "execution_count": 380,
   "metadata": {},
   "outputs": [
    {
     "data": {
      "text/plain": [
       "8"
      ]
     },
     "execution_count": 380,
     "metadata": {},
     "output_type": "execute_result"
    }
   ],
   "source": [
    "eval_index_matrices2.sum(axis  = 1).sum()"
   ]
  },
  {
   "cell_type": "code",
   "execution_count": 368,
   "metadata": {},
   "outputs": [
    {
     "data": {
      "text/plain": [
       "5"
      ]
     },
     "execution_count": 368,
     "metadata": {},
     "output_type": "execute_result"
    }
   ],
   "source": [
    "indices_wtinleaf_reduced.sum(axis = 1).sum()\n",
    "#maybe should be 8? if only 8 of the wild types are in leafs with more than 1 experiment"
   ]
  },
  {
   "cell_type": "code",
   "execution_count": 369,
   "metadata": {},
   "outputs": [
    {
     "data": {
      "text/plain": [
       "array([3, 2, 0, 0, 0, 2, 0, 6, 0, 2, 5, 2, 9])"
      ]
     },
     "execution_count": 369,
     "metadata": {},
     "output_type": "execute_result"
    }
   ],
   "source": [
    "indices_leaf2ormore[512].sum(axis = 1)"
   ]
  },
  {
   "cell_type": "code",
   "execution_count": 370,
   "metadata": {},
   "outputs": [
    {
     "data": {
      "text/plain": [
       "array([0, 0, 0, 0, 0, 0, 0, 0, 0, 0, 0, 0, 2])"
      ]
     },
     "execution_count": 370,
     "metadata": {},
     "output_type": "execute_result"
    }
   ],
   "source": [
    "#this is for 2 wts\n",
    "indices_wtinleaf2ormore[512].sum(axis = 1)"
   ]
  },
  {
   "cell_type": "code",
   "execution_count": 371,
   "metadata": {},
   "outputs": [
    {
     "data": {
      "text/plain": [
       "array([1, 0, 1, 0, 1, 1, 1, 1, 1, 1, 1, 1, 2])"
      ]
     },
     "execution_count": 371,
     "metadata": {},
     "output_type": "execute_result"
    }
   ],
   "source": [
    "indices_wtinleaf[sid].sum(axis = 1)"
   ]
  },
  {
   "cell_type": "code",
   "execution_count": null,
   "metadata": {
    "collapsed": true
   },
   "outputs": [],
   "source": []
  },
  {
   "cell_type": "code",
   "execution_count": null,
   "metadata": {
    "collapsed": true
   },
   "outputs": [],
   "source": []
  },
  {
   "cell_type": "code",
   "execution_count": null,
   "metadata": {
    "collapsed": true
   },
   "outputs": [],
   "source": []
  },
  {
   "cell_type": "code",
   "execution_count": null,
   "metadata": {
    "collapsed": true
   },
   "outputs": [],
   "source": []
  },
  {
   "cell_type": "code",
   "execution_count": null,
   "metadata": {
    "collapsed": true
   },
   "outputs": [],
   "source": [
    "def get_eval_indices(eval_index_matrices):\n",
    "    eval_indices = {}\n",
    "    major_structure_ids = np.asarray(list(eval_index_matrices.keys()))\n",
    "    for sid in major_structure_ids:\n",
    "        eval_indices[sid] = np.where(eval_index_matrices[sid].sum(axis = 0) > 0)[0]\n",
    "    return(eval_indices)    "
   ]
  },
  {
   "cell_type": "code",
   "execution_count": null,
   "metadata": {
    "collapsed": true
   },
   "outputs": [],
   "source": []
  },
  {
   "cell_type": "code",
   "execution_count": 331,
   "metadata": {},
   "outputs": [
    {
     "data": {
      "text/plain": [
       "array([0.23437622,        nan, 0.1817548 , 0.1541542 , 0.30627729,\n",
       "       0.15907457, 0.41965146, 0.10320351,        nan, 0.18120275,\n",
       "       0.47311745, 0.23478083])"
      ]
     },
     "execution_count": 331,
     "metadata": {},
     "output_type": "execute_result"
    }
   ],
   "source": [
    "meanloss_nwall_leaf_wtleaf"
   ]
  },
  {
   "cell_type": "code",
   "execution_count": 327,
   "metadata": {},
   "outputs": [
    {
     "data": {
      "text/plain": [
       "array([1.24103258, 2.        , 0.26152648, 0.46757392, 0.38090104,\n",
       "       0.46156683, 0.78686578, 0.39213311, 0.75838845, 0.50065412,\n",
       "       0.38147014, 0.37212881])"
      ]
     },
     "execution_count": 327,
     "metadata": {},
     "output_type": "execute_result"
    }
   ],
   "source": [
    "meanloss_nw_leaf_wtleaf"
   ]
  },
  {
   "cell_type": "code",
   "execution_count": 262,
   "metadata": {
    "collapsed": true
   },
   "outputs": [],
   "source": [
    "eval_indices_wtinleaf2ormore = get_eval_indices(indices_wtinleaf2ormore)"
   ]
  },
  {
   "cell_type": "code",
   "execution_count": 265,
   "metadata": {},
   "outputs": [
    {
     "data": {
      "text/plain": [
       "{512: array([11, 21]),\n",
       " 703: array([], dtype=int64),\n",
       " 1089: array([  0,  11,  25,  34,  38,  39,  47,  49,  51,  59,  65,  70,  72,\n",
       "         74,  83,  87,  90,  98, 103, 104, 116, 117, 120, 121]),\n",
       " 1097: array([35, 51, 58]),\n",
       " 315: array([   9,   13,   33,   41,   74,   81,   93,  101,  120,  121,  131,\n",
       "         148,  151,  202,  237,  241,  254,  255,  258,  275,  286,  321,\n",
       "         330,  331,  346,  348,  354,  360,  366,  381,  394,  398,  410,\n",
       "         427,  429,  433,  441,  444,  458,  479,  492,  512,  523,  540,\n",
       "         566,  573,  601,  630,  632,  676,  681,  696,  697,  701,  710,\n",
       "         712,  749,  755,  765,  772,  778,  807,  811,  816,  829,  834,\n",
       "         853,  863,  865,  873,  883,  893,  913,  923,  926,  951,  954,\n",
       "         998, 1001, 1006, 1015, 1022, 1025, 1027, 1029, 1037, 1058, 1065,\n",
       "        1070, 1072, 1086, 1100, 1125, 1127]),\n",
       " 313: array([ 3,  9, 17, 19, 20, 25]),\n",
       " 354: array([2, 5, 9]),\n",
       " 698: array([ 1,  4, 21, 28, 29]),\n",
       " 771: array([], dtype=int64),\n",
       " 803: array([ 9, 21]),\n",
       " 477: array([ 2,  3,  6,  8,  9, 19, 20, 25, 28, 59, 60, 62, 63, 69, 75]),\n",
       " 549: array([ 8, 14, 26, 36, 60, 77, 79, 80, 82])}"
      ]
     },
     "execution_count": 265,
     "metadata": {},
     "output_type": "execute_result"
    }
   ],
   "source": [
    "eval_indices_wtinleaf2ormore"
   ]
  },
  {
   "cell_type": "code",
   "execution_count": 267,
   "metadata": {},
   "outputs": [
    {
     "data": {
      "text/plain": [
       "0.23437621991390023"
      ]
     },
     "execution_count": 267,
     "metadata": {},
     "output_type": "execute_result"
    }
   ],
   "source": [
    "get_loss_paper(msvds[sid].reg_proj_vcount_norm_renorm[11], msvds[sid].reg_proj_vcount_norm_renorm[21])"
   ]
  },
  {
   "cell_type": "code",
   "execution_count": 268,
   "metadata": {},
   "outputs": [
    {
     "data": {
      "text/plain": [
       "0.23437621991390023"
      ]
     },
     "execution_count": 268,
     "metadata": {},
     "output_type": "execute_result"
    }
   ],
   "source": [
    "get_loss_paper(msvds[sid].reg_proj_vcount_norm_renorm[21], msvds[sid].reg_proj_vcount_norm_renorm[11])"
   ]
  },
  {
   "cell_type": "code",
   "execution_count": 252,
   "metadata": {},
   "outputs": [
    {
     "data": {
      "text/plain": [
       "13"
      ]
     },
     "execution_count": 252,
     "metadata": {},
     "output_type": "execute_result"
    }
   ],
   "source": [
    "#36 experiments, but only 12 wt type.  13 different leafs.  one wild type leaf combo\n",
    "len(np.unique(leafs[sid]))"
   ]
  },
  {
   "cell_type": "code",
   "execution_count": 250,
   "metadata": {},
   "outputs": [
    {
     "data": {
      "text/plain": [
       "12"
      ]
     },
     "execution_count": 250,
     "metadata": {},
     "output_type": "execute_result"
    }
   ],
   "source": [
    "len(np.where(creline[512]=='C57BL/6J')[0])"
   ]
  },
  {
   "cell_type": "code",
   "execution_count": 248,
   "metadata": {},
   "outputs": [
    {
     "data": {
      "text/plain": [
       "(36,)"
      ]
     },
     "execution_count": 248,
     "metadata": {},
     "output_type": "execute_result"
    }
   ],
   "source": [
    "nwloocv_leaf_wtleaf2[512][0].sum(axis = 1).shape"
   ]
  },
  {
   "cell_type": "code",
   "execution_count": 236,
   "metadata": {
    "scrolled": true
   },
   "outputs": [
    {
     "data": {
      "text/plain": [
       "array([[0.21638183, 1.14073591],\n",
       "       [0.21026201, 1.32445258],\n",
       "       [0.2399193 , 1.32447863],\n",
       "       [0.30518207, 1.32447863],\n",
       "       [0.48245589, 1.32447863]])"
      ]
     },
     "execution_count": 236,
     "metadata": {},
     "output_type": "execute_result"
    }
   ],
   "source": [
    "losses_leaf_wtleaf2[512]\n",
    "#this is still different than in previous notebook godzilla\n",
    "#why are they so different from each other... check predictions in evalindices\n",
    "#generate those predictions manually"
   ]
  },
  {
   "cell_type": "code",
   "execution_count": 237,
   "metadata": {},
   "outputs": [
    {
     "data": {
      "text/plain": [
       "0.970118522644043"
      ]
     },
     "execution_count": 237,
     "metadata": {},
     "output_type": "execute_result"
    }
   ],
   "source": [
    "np.nanmax(nwloocv_leaf_wtleaf2[sid])"
   ]
  },
  {
   "cell_type": "code",
   "execution_count": 261,
   "metadata": {},
   "outputs": [
    {
     "data": {
      "text/plain": [
       "array([2.13929893, 2.13929893, 2.13929893, 2.13929893,        nan,\n",
       "       2.13929893, 2.13929893, 2.13929893, 2.13929893,        nan,\n",
       "       2.13929893, 3.26033067, 2.13929893, 2.13929893,        nan,\n",
       "       0.        , 0.        , 0.        , 0.        , 0.        ,\n",
       "       2.13929893, 2.41753067, 2.13929893, 2.13929893,        nan,\n",
       "       2.68548563, 2.68548563, 2.68548563, 2.68548563,        nan,\n",
       "       0.        , 2.68548563, 1.3779863 , 2.13929893, 1.92727318,\n",
       "       0.        ])"
      ]
     },
     "execution_count": 261,
     "metadata": {},
     "output_type": "execute_result"
    }
   ],
   "source": [
    "\n",
    "nwloocv_leaf_wtleaf2[512][0].sum(axis = 1)"
   ]
  },
  {
   "cell_type": "code",
   "execution_count": 279,
   "metadata": {},
   "outputs": [
    {
     "data": {
      "text/plain": [
       "array([[0.21638183, 1.14073591],\n",
       "       [0.21026201, 1.32445258],\n",
       "       [0.2399193 , 1.32447863],\n",
       "       [0.30518207, 1.32447863],\n",
       "       [0.48245589, 1.32447863]])"
      ]
     },
     "execution_count": 279,
     "metadata": {},
     "output_type": "execute_result"
    }
   ],
   "source": [
    "losses_leaf_wtleaf2[512]"
   ]
  },
  {
   "cell_type": "code",
   "execution_count": 281,
   "metadata": {},
   "outputs": [
    {
     "data": {
      "text/plain": [
       "1.1426680081123983"
      ]
     },
     "execution_count": 281,
     "metadata": {},
     "output_type": "execute_result"
    }
   ],
   "source": [
    "get_loss_paper(nwloocv_leaf_wtleaf2[512][0,21],nwloocv_leaf_wtleaf2[512][0,11])"
   ]
  },
  {
   "cell_type": "code",
   "execution_count": 283,
   "metadata": {},
   "outputs": [
    {
     "data": {
      "text/plain": [
       "1.1407359061086297"
      ]
     },
     "execution_count": 283,
     "metadata": {},
     "output_type": "execute_result"
    }
   ],
   "source": [
    "get_loss_paper(msvds[sid].reg_proj_vcount_norm_renorm[21],nwloocv_leaf_wtleaf2[512][0,21])"
   ]
  },
  {
   "cell_type": "code",
   "execution_count": 284,
   "metadata": {},
   "outputs": [
    {
     "data": {
      "text/plain": [
       "0.21638183384258114"
      ]
     },
     "execution_count": 284,
     "metadata": {},
     "output_type": "execute_result"
    }
   ],
   "source": [
    "get_loss_paper(msvds[sid].reg_proj_vcount_norm_renorm[11],nwloocv_leaf_wtleaf2[512][0,11])"
   ]
  },
  {
   "cell_type": "code",
   "execution_count": 322,
   "metadata": {},
   "outputs": [
    {
     "name": "stdout",
     "output_type": "stream",
     "text": [
      "(13, 5, 36, 577)\n"
     ]
    },
    {
     "name": "stderr",
     "output_type": "stream",
     "text": [
      "/Users/samsonkoelle/anaconda3/envs/allen_010719_5/lib/python3.7/site-packages/ipykernel_launcher.py:91: RuntimeWarning: divide by zero encountered in true_divide\n",
      "/Users/samsonkoelle/anaconda3/envs/allen_010719_5/lib/python3.7/site-packages/ipykernel_launcher.py:91: RuntimeWarning: invalid value encountered in true_divide\n"
     ]
    }
   ],
   "source": [
    "#these predictions don't seem right... messed up indices\n",
    "sid = 512\n",
    "msvds[sid].loocv_predictions_leaf_wtleaf2 = get_nwloocv_predictions_multimodel_merge(msvds[sid].reg_proj_vcount_norm_renorm, \n",
    "                                                                                   msvds[sid].centroids, \n",
    "                                                                                   gammas, \n",
    "                                                                                   indices_wtinleaf2ormore[sid], \n",
    "                                                                                    indices_wtinleaf2ormore[sid])\n"
   ]
  },
  {
   "cell_type": "code",
   "execution_count": 323,
   "metadata": {},
   "outputs": [
    {
     "data": {
      "text/plain": [
       "0.23437620792567018"
      ]
     },
     "execution_count": 323,
     "metadata": {},
     "output_type": "execute_result"
    }
   ],
   "source": [
    "get_loss_paper(msvds[sid].reg_proj_vcount_norm_renorm[11],msvds[512].loocv_predictions_leaf_wtleaf2[0,11])"
   ]
  },
  {
   "cell_type": "code",
   "execution_count": 324,
   "metadata": {},
   "outputs": [
    {
     "data": {
      "text/plain": [
       "0.23437622420714097"
      ]
     },
     "execution_count": 324,
     "metadata": {},
     "output_type": "execute_result"
    }
   ],
   "source": [
    "get_loss_paper(msvds[sid].reg_proj_vcount_norm_renorm[21],msvds[512].loocv_predictions_leaf_wtleaf2[0,21])"
   ]
  },
  {
   "cell_type": "code",
   "execution_count": 310,
   "metadata": {},
   "outputs": [
    {
     "data": {
      "text/plain": [
       "(13, 5, 36, 577)"
      ]
     },
     "execution_count": 310,
     "metadata": {},
     "output_type": "execute_result"
    }
   ],
   "source": [
    "msvds[512].loocv_predictions_leaf_wtleaf2.shape"
   ]
  },
  {
   "cell_type": "code",
   "execution_count": null,
   "metadata": {
    "collapsed": true
   },
   "outputs": [],
   "source": [
    "def get_nwloocv_predictions_singlemodel(projections, centroids, gamma, model_indices, eval_indices):\n",
    "    \n",
    "#def get_loocv_predictions(projections, centroids, gamma):\n",
    "    \n",
    "#     projections = np.asarray(projections, dtype=np.float32)\n",
    "#     neval = len(eval_indices)\n",
    "#     #nexp = centroids.shape[0]\n",
    "#     predictions = np.empty(projections.shape)\n",
    "#     weights = get_weights(centroids, gamma)\n",
    "    \n",
    "#     for i in range(neval):\n",
    "#         otherindices = np.setdiff1d(model_indices, eval_indices[i])\n",
    "#         #this order of operations is the fastest I found\n",
    "#         weights_i = weights[eval_indices[i]][model_indices] / weights[model_indices[i]][otherindices].sum()\n",
    "#         weights_i[i] = 0\n",
    "#         weights_i = np.asarray(weights_i, dtype=np.float32)\n",
    "#         pred = np.dot(weights_i, projections[model_indices])\n",
    "#         predictions[i] = pred\n",
    "\n",
    "    eval_index_val = np.where(eval_indices == 1)[0]\n",
    "    model_index_val = np.where(model_indices == 1)[0]\n",
    "    \n",
    "    projections = np.asarray(projections, dtype=np.float32)\n",
    "    \n",
    "    nmod_ind = len(model_index_val)\n",
    "    neval = len(eval_index_val)\n",
    "    #nexp = centroids.shape[0]\n",
    "    predictions = np.empty(projections.shape)\n",
    "    #print(model_index_val.shape, eval_index_val.shape)\n",
    "\n",
    "    if len(model_index_val) > 0 and  len(eval_index_val) > 0:\n",
    "        weights = pairwise_kernels(centroids[model_index_val], centroids[eval_index_val], metric='rbf', gamma=gamma, filter_params=True) #get_weights(centroids, gamma)\n",
    "        for i in range(neval):\n",
    "            matchindex = np.where(model_index_val == eval_index_val[i])[0]\n",
    "            otherindices = np.setdiff1d(np.asarray(list(range(nmod_ind))), matchindex)         \n",
    "            #this order of operations is the fastest I found\n",
    "            weights_i = weights[:,i] / weights[:,i][otherindices].sum()\n",
    "            weights_i[matchindex] = 0\n",
    "            weights_i = np.asarray(weights_i, dtype=np.float32)\n",
    "            pred = np.dot(weights_i, projections[model_index_val])\n",
    "            predictions[eval_index_val[i]] = pred\n",
    "\n",
    "        \n",
    "    return(predictions)    \n",
    "\n",
    "def get_nwloocv_predictions_multimodel(projections, centroids, gammas, model_index_matrix, eval_index_matrix):\n",
    "    \n",
    "\n",
    "    \n",
    "    ntargets = projections.shape[1]\n",
    "    nexp = projections.shape[0]\n",
    "    nmodels = model_index_matrix.shape[0]\n",
    "    ngammas = len(gammas)\n",
    "    \n",
    "    projections = np.asarray(projections, dtype=np.float32)\n",
    "    predictions = np.empty((nmodels, ngammas, nexp, ntargets))\n",
    "    \n",
    "    \n",
    "    for m in range(nmodels):\n",
    "        #print('m', m, len(np.where(model_index_matrix[m] ==1)[0]))\n",
    "        predictions[m] = np.asarray([get_nwloocv_predictions_singlemodel(projections, centroids, gammas[g], model_index_matrix[m], eval_index_matrix[m]) for g in range(ngammas)])\n",
    "    \n",
    "    return(predictions)  \n",
    "\n",
    "def combine_predictions(predictions, eval_index_matrix):\n",
    "    \n",
    "    nmodels, ngammas, nexp, ntargets = predictions.shape\n",
    "    combined_predictions = np.empty((ngammas, nexp, ntargets))\n",
    "    for m in range(nmodels):\n",
    "        combined_predictions[:,np.where(eval_index_matrix[m] == 1)[0]] = predictions[m][:,np.where(eval_index_matrix[m] == 1)[0]]\n",
    "        \n",
    "    return(combined_predictions)\n",
    "\n",
    "def get_nwloocv_predictions_multimodel_merge(projections, centroids, gammas, model_index_matrix, eval_index_matrix):\n",
    "    \n",
    "    predictions_unmerged = get_nwloocv_predictions_multimodel(projections, centroids, gammas, model_index_matrix, eval_index_matrix)\n",
    "    print(predictions_unmerged.shape)\n",
    "    predictions_merged = combine_predictions(predictions_unmerged, eval_index_matrix)\n",
    "    \n",
    "    return(predictions_merged)"
   ]
  },
  {
   "cell_type": "code",
   "execution_count": 297,
   "metadata": {},
   "outputs": [
    {
     "data": {
      "text/plain": [
       "array([11, 21])"
      ]
     },
     "execution_count": 297,
     "metadata": {},
     "output_type": "execute_result"
    }
   ],
   "source": [
    "np.where(eval_index_matrix[m] == 1)[0]\n"
   ]
  },
  {
   "cell_type": "code",
   "execution_count": null,
   "metadata": {
    "collapsed": true
   },
   "outputs": [],
   "source": []
  },
  {
   "cell_type": "code",
   "execution_count": null,
   "metadata": {
    "collapsed": true
   },
   "outputs": [],
   "source": []
  },
  {
   "cell_type": "code",
   "execution_count": null,
   "metadata": {
    "collapsed": true
   },
   "outputs": [],
   "source": []
  },
  {
   "cell_type": "code",
   "execution_count": null,
   "metadata": {
    "collapsed": true
   },
   "outputs": [],
   "source": []
  },
  {
   "cell_type": "code",
   "execution_count": null,
   "metadata": {
    "collapsed": true
   },
   "outputs": [],
   "source": []
  },
  {
   "cell_type": "code",
   "execution_count": null,
   "metadata": {
    "collapsed": true
   },
   "outputs": [],
   "source": []
  },
  {
   "cell_type": "code",
   "execution_count": null,
   "metadata": {
    "collapsed": true
   },
   "outputs": [],
   "source": []
  },
  {
   "cell_type": "code",
   "execution_count": null,
   "metadata": {
    "collapsed": true
   },
   "outputs": [],
   "source": []
  },
  {
   "cell_type": "code",
   "execution_count": null,
   "metadata": {
    "collapsed": true
   },
   "outputs": [],
   "source": []
  },
  {
   "cell_type": "code",
   "execution_count": null,
   "metadata": {
    "collapsed": true
   },
   "outputs": [],
   "source": []
  },
  {
   "cell_type": "code",
   "execution_count": null,
   "metadata": {
    "collapsed": true
   },
   "outputs": [],
   "source": []
  },
  {
   "cell_type": "code",
   "execution_count": null,
   "metadata": {
    "collapsed": true
   },
   "outputs": [],
   "source": []
  },
  {
   "cell_type": "code",
   "execution_count": null,
   "metadata": {
    "collapsed": true
   },
   "outputs": [],
   "source": []
  },
  {
   "cell_type": "code",
   "execution_count": null,
   "metadata": {
    "collapsed": true
   },
   "outputs": [],
   "source": []
  },
  {
   "cell_type": "code",
   "execution_count": null,
   "metadata": {
    "collapsed": true
   },
   "outputs": [],
   "source": []
  },
  {
   "cell_type": "code",
   "execution_count": null,
   "metadata": {
    "collapsed": true
   },
   "outputs": [],
   "source": []
  },
  {
   "cell_type": "code",
   "execution_count": null,
   "metadata": {
    "collapsed": true
   },
   "outputs": [],
   "source": []
  },
  {
   "cell_type": "code",
   "execution_count": null,
   "metadata": {
    "collapsed": true
   },
   "outputs": [],
   "source": []
  },
  {
   "cell_type": "code",
   "execution_count": null,
   "metadata": {
    "collapsed": true
   },
   "outputs": [],
   "source": [
    "#so theres only 2 points worth evaluating?  34 in person distinct cre leaf combos\n",
    "#there 2 leafs with double... so how is it 2 and not 4?"
   ]
  },
  {
   "cell_type": "code",
   "execution_count": 64,
   "metadata": {},
   "outputs": [
    {
     "data": {
      "text/plain": [
       "array([0.78692754, 0.29068181, 0.35803372, 0.27034826, 0.44147834,\n",
       "       0.49263346, 0.31888494, 0.3827807 , 0.34821835, 0.49121184,\n",
       "       0.64899939, 0.3360901 ])"
      ]
     },
     "execution_count": 64,
     "metadata": {},
     "output_type": "execute_result"
    }
   ],
   "source": [
    "#this is consisntent with old result\n",
    "meanloss_nw_finest_finest2"
   ]
  },
  {
   "cell_type": "code",
   "execution_count": 70,
   "metadata": {},
   "outputs": [
    {
     "data": {
      "text/plain": [
       "array([1.98668425,        nan, 0.63826926, 1.84877534, 0.33209361,\n",
       "       1.78119019, 1.25544011, 0.10097336,        nan, 1.80148266,\n",
       "       0.19512863, 1.63289607])"
      ]
     },
     "execution_count": 70,
     "metadata": {},
     "output_type": "execute_result"
    }
   ],
   "source": [
    "#why not this??\n",
    "meanloss_nw_leaf_wtleaf2"
   ]
  },
  {
   "cell_type": "code",
   "execution_count": 72,
   "metadata": {},
   "outputs": [
    {
     "data": {
      "text/plain": [
       "(5, 36, 577)"
      ]
     },
     "execution_count": 72,
     "metadata": {},
     "output_type": "execute_result"
    }
   ],
   "source": [
    "nwloocv_leaf_wtleaf2[512].shape"
   ]
  },
  {
   "cell_type": "code",
   "execution_count": 74,
   "metadata": {},
   "outputs": [
    {
     "data": {
      "text/plain": [
       "array([3.12427152e-03, 2.09801419e-05, 1.76919217e-03, 1.08384375e-35,\n",
       "       0.00000000e+00, 9.42581147e-03, 1.22441968e-04, 0.00000000e+00,\n",
       "       0.00000000e+00, 0.00000000e+00, 0.00000000e+00, 4.75900888e-05,\n",
       "       8.56435072e-05, 2.20537637e-04, 0.00000000e+00, 0.00000000e+00,\n",
       "       0.00000000e+00, 0.00000000e+00, 8.98282230e-03, 0.00000000e+00,\n",
       "       1.94945571e-03, 0.00000000e+00, 4.25323188e-01, 7.72098952e-04,\n",
       "       2.99081206e-03, 5.26415708e-04, 9.23750486e-05, 0.00000000e+00,\n",
       "       8.47871415e-04, 0.00000000e+00, 5.58666179e-05, 2.31866681e-04,\n",
       "       6.47603825e-04, 0.00000000e+00, 6.13230368e-05, 1.58015191e-05,\n",
       "       0.00000000e+00, 1.06011739e-05, 1.36638922e-03, 4.21375917e-05,\n",
       "       1.15039665e-03, 2.97770498e-07, 0.00000000e+00, 2.02284878e-06,\n",
       "       2.12574087e-05, 6.46157772e-04, 4.58102766e-03, 0.00000000e+00,\n",
       "       7.41571785e-05, 1.88214832e-03, 2.07855846e-05, 0.00000000e+00,\n",
       "       2.91276792e-05, 0.00000000e+00, 0.00000000e+00, 2.30481179e-04,\n",
       "       0.00000000e+00, 2.40330631e-03, 5.82540818e-02, 3.07866809e-04,\n",
       "       9.39201345e-05, 1.52929137e-02, 8.95273697e-04, 0.00000000e+00,\n",
       "       1.80988252e-06, 5.82160652e-02, 0.00000000e+00, 1.71281979e-04,\n",
       "       9.08649381e-05, 1.08665070e-02, 0.00000000e+00, 3.92520279e-02,\n",
       "       0.00000000e+00, 3.14665772e-02, 0.00000000e+00, 0.00000000e+00,\n",
       "       8.74998932e-06, 0.00000000e+00, 0.00000000e+00, 5.12946031e-07,\n",
       "       0.00000000e+00, 0.00000000e+00, 0.00000000e+00, 2.60106666e-04,\n",
       "       2.09545775e-04, 0.00000000e+00, 0.00000000e+00, 3.37336085e-35,\n",
       "       1.73373657e-04, 0.00000000e+00, 0.00000000e+00, 2.76698440e-04,\n",
       "       3.99465061e-05, 6.43476742e-05, 2.28853296e-05, 0.00000000e+00,\n",
       "       0.00000000e+00, 1.52899502e-05, 1.50378663e-04, 0.00000000e+00,\n",
       "       0.00000000e+00, 2.41339217e-06, 1.64618720e-34, 4.52655335e-08,\n",
       "       2.27230368e-04, 0.00000000e+00, 3.17076198e-03, 0.00000000e+00,\n",
       "       2.29835467e-04, 0.00000000e+00, 6.26704947e-04, 1.60881700e-05,\n",
       "       0.00000000e+00, 0.00000000e+00, 0.00000000e+00, 7.09713568e-05,\n",
       "       5.40431261e-01, 0.00000000e+00, 5.06513752e-04, 7.97134184e-04,\n",
       "       9.27912188e-05, 8.65352195e-05, 7.66500272e-03, 5.15047395e-06,\n",
       "       1.92266147e-04, 7.35644924e-37, 2.37761869e-05, 5.14007479e-06,\n",
       "       0.00000000e+00, 1.03296485e-36, 0.00000000e+00, 2.51173401e-06,\n",
       "       3.78298137e-05, 5.38629320e-06, 8.43666203e-04, 5.06698387e-04,\n",
       "       0.00000000e+00, 3.15579050e-03, 2.07771336e-05, 0.00000000e+00,\n",
       "       5.46915864e-04, 2.65325129e-04, 2.64683412e-03, 7.05194427e-04,\n",
       "       1.01458092e-04, 0.00000000e+00, 0.00000000e+00, 2.99182767e-03,\n",
       "       2.31678960e-08, 0.00000000e+00, 7.65165489e-04, 0.00000000e+00,\n",
       "       6.12045347e-04, 0.00000000e+00, 1.43149678e-04, 9.47710779e-03,\n",
       "       0.00000000e+00, 0.00000000e+00, 0.00000000e+00, 1.08176726e-04,\n",
       "       0.00000000e+00, 1.61756750e-03, 5.58068452e-04, 2.17502192e-03,\n",
       "       0.00000000e+00, 0.00000000e+00, 0.00000000e+00, 1.17106736e-03,\n",
       "       3.94331431e-03, 4.93507890e-04, 2.07830075e-04, 3.07136029e-03,\n",
       "       1.20326877e-04, 0.00000000e+00, 0.00000000e+00, 3.60354927e-04,\n",
       "       0.00000000e+00, 9.07953290e-05, 3.52093542e-04, 0.00000000e+00,\n",
       "       8.78570892e-04, 1.01323485e-05, 5.98140759e-04, 1.71348976e-04,\n",
       "       0.00000000e+00, 2.21143547e-03, 0.00000000e+00, 0.00000000e+00,\n",
       "       1.32651790e-03, 0.00000000e+00, 1.54871941e-07, 0.00000000e+00,\n",
       "       6.53998228e-04, 4.39028780e-04, 0.00000000e+00, 0.00000000e+00,\n",
       "       8.22823131e-06, 0.00000000e+00, 1.09409913e-03, 0.00000000e+00,\n",
       "       4.65982521e-05, 6.41841954e-03, 9.26489593e-05, 1.86687396e-06,\n",
       "       5.71664376e-03, 5.51295889e-05, 3.29920931e-06, 0.00000000e+00,\n",
       "       3.82541708e-04, 0.00000000e+00, 0.00000000e+00, 8.73642130e-05,\n",
       "       3.10867075e-02, 2.70381384e-03, 3.32567259e-04, 5.86905470e-03,\n",
       "       2.18737172e-04, 2.60236004e-04, 7.65285949e-05, 0.00000000e+00,\n",
       "       1.42624747e-04, 3.51210692e-05, 1.48711167e-03, 1.86453581e-05,\n",
       "       4.01001750e-03, 0.00000000e+00, 2.82606288e-05, 0.00000000e+00,\n",
       "       4.92361578e-05, 8.36084830e-04, 1.55390438e-03, 8.24803283e-05,\n",
       "       3.89783247e-03, 0.00000000e+00, 2.62054428e-02, 4.84824665e-02,\n",
       "       1.31629629e-03, 0.00000000e+00, 6.91114925e-04, 1.19482492e-36,\n",
       "       6.53183495e-04, 3.67177912e-04, 0.00000000e+00, 2.89233890e-03,\n",
       "       6.02428336e-04, 7.41939994e-06, 0.00000000e+00, 6.09297166e-03,\n",
       "       5.73154748e-37, 2.57811887e-04, 5.51282355e-05, 6.73607707e-01,\n",
       "       3.01662130e-05, 2.09127261e-35, 1.23261867e-04, 1.01592609e-35,\n",
       "       9.00552720e-02, 1.09987697e-04, 2.22904548e-01, 4.43694444e-04,\n",
       "       0.00000000e+00, 0.00000000e+00, 1.85177906e-03, 1.28532520e-05,\n",
       "       0.00000000e+00, 0.00000000e+00, 8.24199989e-03, 5.29097102e-04,\n",
       "       2.35982243e-05, 6.24637178e-04, 3.58259212e-03, 1.18065113e-03,\n",
       "       6.68398978e-04, 0.00000000e+00, 8.88722949e-04, 0.00000000e+00,\n",
       "       1.91466243e-05, 0.00000000e+00, 6.60982769e-05, 0.00000000e+00,\n",
       "       3.81418591e-04, 0.00000000e+00, 5.58179105e-04, 0.00000000e+00,\n",
       "       0.00000000e+00, 0.00000000e+00, 0.00000000e+00, 1.11446514e-06,\n",
       "       8.68507341e-05, 0.00000000e+00, 7.77849709e-06, 8.32316728e-05,\n",
       "       2.15988939e-06, 1.24066028e-05, 0.00000000e+00, 0.00000000e+00,\n",
       "       1.53163699e-02, 2.28587451e-04, 0.00000000e+00, 0.00000000e+00,\n",
       "       0.00000000e+00, 0.00000000e+00, 9.45582506e-05, 8.87938143e-07,\n",
       "       9.86990868e-04, 0.00000000e+00, 0.00000000e+00, 0.00000000e+00,\n",
       "       1.31088862e-04, 1.15208815e-04, 0.00000000e+00, 3.30172625e-04,\n",
       "       0.00000000e+00, 9.60531906e-06, 2.16525095e-03, 9.41692502e-04,\n",
       "       1.97561085e-03, 1.50937893e-04, 0.00000000e+00, 8.12186772e-05,\n",
       "       0.00000000e+00, 1.59910604e-04, 3.82465485e-04, 6.50988950e-04,\n",
       "       0.00000000e+00, 1.37634546e-04, 1.47410959e-04, 1.74462184e-04,\n",
       "       0.00000000e+00, 1.16798379e-04, 4.79811075e-04, 0.00000000e+00,\n",
       "       0.00000000e+00, 1.10846466e-36, 4.88598789e-06, 1.46824789e-06,\n",
       "       0.00000000e+00, 8.97969439e-05, 3.61941170e-06, 2.08050224e-05,\n",
       "       2.98237940e-03, 2.10293702e-08, 0.00000000e+00, 1.55694113e-04,\n",
       "       0.00000000e+00, 0.00000000e+00, 1.67265789e-05, 0.00000000e+00,\n",
       "       2.78632688e-05, 4.97984234e-03, 1.06227701e-03, 7.74566361e-05,\n",
       "       3.30348739e-05, 1.05677056e-04, 0.00000000e+00, 0.00000000e+00,\n",
       "       4.91530091e-06, 6.35714852e-04, 1.38877658e-04, 0.00000000e+00,\n",
       "       1.60782470e-03, 7.48326536e-03, 1.67738204e-03, 0.00000000e+00,\n",
       "       0.00000000e+00, 1.37592247e-06, 7.79355815e-08, 0.00000000e+00,\n",
       "       0.00000000e+00, 0.00000000e+00, 0.00000000e+00, 4.26831597e-04,\n",
       "       0.00000000e+00, 2.94294805e-05, 0.00000000e+00, 6.22320315e-03,\n",
       "       3.78072002e-07, 0.00000000e+00, 0.00000000e+00, 2.47035467e-04,\n",
       "       7.61947558e-06, 4.62488976e-36, 0.00000000e+00, 0.00000000e+00,\n",
       "       0.00000000e+00, 3.38175159e-05, 4.15773002e-06, 0.00000000e+00,\n",
       "       0.00000000e+00, 2.36522919e-06, 0.00000000e+00, 1.54076952e-05,\n",
       "       3.91621725e-05, 0.00000000e+00, 0.00000000e+00, 0.00000000e+00,\n",
       "       3.01812743e-05, 0.00000000e+00, 0.00000000e+00, 2.01164003e-05,\n",
       "       0.00000000e+00, 0.00000000e+00, 0.00000000e+00, 4.83934036e-06,\n",
       "       0.00000000e+00, 0.00000000e+00, 3.70493981e-05, 1.42580655e-04,\n",
       "       9.03921755e-05, 1.45029016e-05, 3.16763297e-03, 0.00000000e+00,\n",
       "       5.85909147e-05, 0.00000000e+00, 3.94262926e-04, 1.82215985e-07,\n",
       "       0.00000000e+00, 2.97807006e-08, 1.10446912e-04, 0.00000000e+00,\n",
       "       3.26245674e-04, 1.16018082e-05, 6.40480403e-06, 0.00000000e+00,\n",
       "       0.00000000e+00, 0.00000000e+00, 9.25703789e-05, 0.00000000e+00,\n",
       "       1.42218452e-03, 1.21766825e-05, 1.16105343e-03, 9.03302745e-04,\n",
       "       2.94760335e-04, 0.00000000e+00, 0.00000000e+00, 6.02664019e-04,\n",
       "       1.86574733e-04, 2.78803753e-07, 0.00000000e+00, 8.32668690e-08,\n",
       "       1.47112296e-04, 0.00000000e+00, 1.60331518e-04, 1.58261340e-02,\n",
       "       2.60832394e-06, 0.00000000e+00, 0.00000000e+00, 3.01662076e-05,\n",
       "       1.75796629e-35, 1.82895141e-03, 2.04424188e-03, 3.44284344e-03,\n",
       "       0.00000000e+00, 0.00000000e+00, 0.00000000e+00, 1.16720541e-04,\n",
       "       6.00619882e-04, 6.82483602e-04, 6.71426766e-04, 5.88820330e-05,\n",
       "       1.02320508e-08, 2.17679117e-04, 9.74121122e-06, 5.18939982e-04,\n",
       "       1.43394084e-06, 2.73317099e-04, 8.07700635e-05, 0.00000000e+00,\n",
       "       1.30130662e-04, 1.01993683e-05, 1.86989026e-04, 8.94231081e-04,\n",
       "       0.00000000e+00, 8.35851941e-04, 0.00000000e+00, 3.25262499e-06,\n",
       "       0.00000000e+00, 0.00000000e+00, 4.79896052e-08, 0.00000000e+00,\n",
       "       1.71721191e-03, 5.59175212e-04, 0.00000000e+00, 0.00000000e+00,\n",
       "       6.27522022e-05, 5.65322935e-08, 1.56800670e-03, 0.00000000e+00,\n",
       "       4.90820617e-04, 4.81174357e-04, 1.55891685e-04, 1.17039817e-05,\n",
       "       7.65630684e-05, 5.81258382e-06, 0.00000000e+00, 7.33586377e-04,\n",
       "       0.00000000e+00, 0.00000000e+00, 1.31848699e-03, 1.12400121e-04,\n",
       "       9.75520525e-04, 0.00000000e+00, 1.12590089e-04, 0.00000000e+00,\n",
       "       0.00000000e+00, 4.19076037e-04, 0.00000000e+00, 5.51264035e-04,\n",
       "       3.23416243e-05, 2.50790617e-04, 1.11893623e-05, 1.33816502e-04,\n",
       "       0.00000000e+00, 0.00000000e+00, 0.00000000e+00, 2.30837086e-05,\n",
       "       1.72784756e-04, 3.33816533e-05, 1.12681402e-04, 1.98988453e-03,\n",
       "       1.46220700e-05, 1.60654765e-02, 6.22687722e-03, 6.05216715e-04,\n",
       "       7.55749723e-37, 9.62111444e-05, 4.00318504e-06, 1.69228791e-04,\n",
       "       1.10511050e-04, 0.00000000e+00, 4.84601071e-04, 2.54382333e-03,\n",
       "       6.88883592e-05, 5.56635729e-04, 0.00000000e+00, 8.01007729e-03,\n",
       "       1.09609728e-05, 1.38104719e-04, 2.67613086e-05, 0.00000000e+00,\n",
       "       3.66051177e-06, 0.00000000e+00, 2.51121982e-03, 7.27358338e-06,\n",
       "       1.26289786e-03, 3.67649845e-05, 0.00000000e+00, 3.93386642e-07,\n",
       "       7.86425488e-04, 5.12387133e-10, 0.00000000e+00, 8.64546109e-07,\n",
       "       6.80933415e-04, 1.93702593e-03, 5.75321701e-06, 1.76495945e-04,\n",
       "       1.49510788e-06, 5.31514161e-05, 3.11347947e-04, 0.00000000e+00,\n",
       "       1.02827245e-04, 0.00000000e+00, 9.82998172e-05, 0.00000000e+00,\n",
       "       7.19479111e-04, 4.41123237e-04, 0.00000000e+00, 0.00000000e+00,\n",
       "       4.07518237e-04, 0.00000000e+00, 0.00000000e+00, 0.00000000e+00,\n",
       "       0.00000000e+00, 1.13718115e-05, 0.00000000e+00, 0.00000000e+00,\n",
       "       2.19134090e-05])"
      ]
     },
     "execution_count": 74,
     "metadata": {},
     "output_type": "execute_result"
    }
   ],
   "source": [
    "nwloocv_leaf_wtleaf2[512][0][0]"
   ]
  },
  {
   "cell_type": "code",
   "execution_count": null,
   "metadata": {
    "collapsed": true
   },
   "outputs": [],
   "source": [
    "#godzilla\n",
    "#it appears i didnt restrict the 'creleaf' set enough and actually computed wildtypes in major structure\n",
    "#we have 6 wtinleaf2ormore"
   ]
  },
  {
   "cell_type": "code",
   "execution_count": 239,
   "metadata": {},
   "outputs": [
    {
     "data": {
      "text/plain": [
       "(13, 36)"
      ]
     },
     "execution_count": 239,
     "metadata": {},
     "output_type": "execute_result"
    }
   ],
   "source": [
    "indices_leaf[512].shape"
   ]
  },
  {
   "cell_type": "code",
   "execution_count": 81,
   "metadata": {},
   "outputs": [
    {
     "name": "stdout",
     "output_type": "stream",
     "text": [
      "(13, 5, 36, 577)\n"
     ]
    },
    {
     "name": "stderr",
     "output_type": "stream",
     "text": [
      "/Users/samsonkoelle/anaconda3/envs/allen_010719_5/lib/python3.7/site-packages/ipykernel_launcher.py:98: RuntimeWarning: invalid value encountered in true_divide\n",
      "/Users/samsonkoelle/anaconda3/envs/allen_010719_5/lib/python3.7/site-packages/ipykernel_launcher.py:98: RuntimeWarning: invalid value encountered in true_divide\n",
      "/Users/samsonkoelle/anaconda3/envs/allen_010719_5/lib/python3.7/site-packages/ipykernel_launcher.py:98: RuntimeWarning: invalid value encountered in true_divide\n",
      "/Users/samsonkoelle/anaconda3/envs/allen_010719_5/lib/python3.7/site-packages/ipykernel_launcher.py:98: RuntimeWarning: invalid value encountered in true_divide\n",
      "/Users/samsonkoelle/anaconda3/envs/allen_010719_5/lib/python3.7/site-packages/ipykernel_launcher.py:98: RuntimeWarning: invalid value encountered in true_divide\n",
      "/Users/samsonkoelle/anaconda3/envs/allen_010719_5/lib/python3.7/site-packages/ipykernel_launcher.py:98: RuntimeWarning: invalid value encountered in true_divide\n",
      "/Users/samsonkoelle/anaconda3/envs/allen_010719_5/lib/python3.7/site-packages/ipykernel_launcher.py:98: RuntimeWarning: invalid value encountered in true_divide\n",
      "/Users/samsonkoelle/anaconda3/envs/allen_010719_5/lib/python3.7/site-packages/ipykernel_launcher.py:98: RuntimeWarning: invalid value encountered in true_divide\n",
      "/Users/samsonkoelle/anaconda3/envs/allen_010719_5/lib/python3.7/site-packages/ipykernel_launcher.py:98: RuntimeWarning: invalid value encountered in true_divide\n"
     ]
    }
   ],
   "source": [
    "    sid = 512\n",
    "    msvds[sid].loocv_predictions_leaf_wtleaf2 = get_nwloocv_predictions_multimodel_merge(msvds[sid].reg_proj_vcount_norm_renorm, \n",
    "                                                                                       msvds[sid].centroids, \n",
    "                                                                                       gammas, \n",
    "                                                                                       indices_leaf[sid], \n",
    "                                                                                        indices_wtinleaf2ormore[sid])\n"
   ]
  },
  {
   "cell_type": "code",
   "execution_count": 246,
   "metadata": {},
   "outputs": [
    {
     "data": {
      "text/plain": [
       "array([0, 0, 0, 0, 0, 0, 0, 0, 0, 0, 0, 0, 2])"
      ]
     },
     "execution_count": 246,
     "metadata": {},
     "output_type": "execute_result"
    }
   ],
   "source": [
    "eval_index_matrix.sum(axis = 1) #this is right"
   ]
  },
  {
   "cell_type": "code",
   "execution_count": 102,
   "metadata": {},
   "outputs": [
    {
     "data": {
      "text/plain": [
       "0.9156172275543213"
      ]
     },
     "execution_count": 102,
     "metadata": {},
     "output_type": "execute_result"
    }
   ],
   "source": [
    "msvds[sid].loocv_predictions_leaf_wtleaf2[0].max()"
   ]
  },
  {
   "cell_type": "code",
   "execution_count": 100,
   "metadata": {},
   "outputs": [
    {
     "data": {
      "text/plain": [
       "(5, 36, 577)"
      ]
     },
     "execution_count": 100,
     "metadata": {},
     "output_type": "execute_result"
    }
   ],
   "source": [
    "msvds[sid].loocv_predictions_leaf_wtleaf2.shape"
   ]
  },
  {
   "cell_type": "code",
   "execution_count": 316,
   "metadata": {
    "collapsed": true
   },
   "outputs": [],
   "source": [
    "sid = 512\n",
    "projections = msvds[sid].reg_proj_vcount_norm_renorm\n",
    "\n",
    "centroids =                                   msvds[sid].centroids\n",
    "gamma = gammas[0]\n",
    "model_index_matrix=                             indices_wtinleaf2ormore[sid]\n",
    "eval_index_matrix=                indices_wtinleaf2ormore[sid]\n",
    "model_indices = model_index_matrix[0]\n",
    "eval_indices = eval_index_matrix[0]"
   ]
  },
  {
   "cell_type": "code",
   "execution_count": 317,
   "metadata": {},
   "outputs": [
    {
     "name": "stderr",
     "output_type": "stream",
     "text": [
      "/Users/samsonkoelle/anaconda3/envs/allen_010719_5/lib/python3.7/site-packages/ipykernel_launcher.py:91: RuntimeWarning: divide by zero encountered in true_divide\n",
      "/Users/samsonkoelle/anaconda3/envs/allen_010719_5/lib/python3.7/site-packages/ipykernel_launcher.py:91: RuntimeWarning: invalid value encountered in true_divide\n"
     ]
    }
   ],
   "source": [
    "msvds[512].loocv_predictions_leaf_wtleaf2 = get_nwloocv_predictions_multimodel(projections, centroids, gammas, model_index_matrix, eval_index_matrix)"
   ]
  },
  {
   "cell_type": "code",
   "execution_count": 302,
   "metadata": {},
   "outputs": [
    {
     "data": {
      "text/plain": [
       "0.23437621546526288"
      ]
     },
     "execution_count": 302,
     "metadata": {},
     "output_type": "execute_result"
    }
   ],
   "source": [
    "get_loss_paper(asdf[-1][0][21,:], projections[21])"
   ]
  },
  {
   "cell_type": "code",
   "execution_count": null,
   "metadata": {
    "collapsed": true
   },
   "outputs": [],
   "source": [
    "def get_nwloocv_predictions_multimodel_merge(projections, centroids, gammas, model_index_matrix, eval_index_matrix):\n",
    "    \n",
    "    predictions_unmerged = get_nwloocv_predictions_multimodel(projections, centroids, gammas, model_index_matrix, eval_index_matrix)\n",
    "    print(predictions_unmerged.shape)\n",
    "    predictions_merged = combine_predictions(predictions_unmerged, eval_index_matrix)\n",
    "    \n",
    "    return(predictions_merged)"
   ]
  },
  {
   "cell_type": "code",
   "execution_count": 319,
   "metadata": {},
   "outputs": [
    {
     "name": "stdout",
     "output_type": "stream",
     "text": [
      "(13, 5, 36, 577)\n"
     ]
    },
    {
     "name": "stderr",
     "output_type": "stream",
     "text": [
      "/Users/samsonkoelle/anaconda3/envs/allen_010719_5/lib/python3.7/site-packages/ipykernel_launcher.py:91: RuntimeWarning: divide by zero encountered in true_divide\n",
      "/Users/samsonkoelle/anaconda3/envs/allen_010719_5/lib/python3.7/site-packages/ipykernel_launcher.py:91: RuntimeWarning: invalid value encountered in true_divide\n"
     ]
    }
   ],
   "source": [
    "msvds[512].loocv_predictions_leaf_wtleaf2 =  get_nwloocv_predictions_multimodel_merge(projections, centroids, gammas, model_index_matrix, eval_index_matrix)"
   ]
  },
  {
   "cell_type": "code",
   "execution_count": 305,
   "metadata": {},
   "outputs": [
    {
     "data": {
      "text/plain": [
       "0.23437621546526288"
      ]
     },
     "execution_count": 305,
     "metadata": {},
     "output_type": "execute_result"
    }
   ],
   "source": [
    "get_loss_paper(asdf[0][21,:], projections[21])"
   ]
  },
  {
   "cell_type": "code",
   "execution_count": 306,
   "metadata": {},
   "outputs": [
    {
     "data": {
      "text/plain": [
       "0.234376212459474"
      ]
     },
     "execution_count": 306,
     "metadata": {},
     "output_type": "execute_result"
    }
   ],
   "source": [
    "get_loss_paper(asdf[0][11,:], projections[11])"
   ]
  },
  {
   "cell_type": "code",
   "execution_count": 294,
   "metadata": {},
   "outputs": [
    {
     "name": "stdout",
     "output_type": "stream",
     "text": [
      "0.8285275\n",
      "0.9855121\n"
     ]
    }
   ],
   "source": [
    "    eval_index_val = np.asarray([11,21])#np.where(eval_indices == 1)[0]\n",
    "    model_index_val = np.asarray([11,21])#np.where(model_indices == 1)[0]\n",
    "    \n",
    "    projections = np.asarray(projections, dtype=np.float32)\n",
    "    \n",
    "    nmod_ind = len(model_index_val)\n",
    "    neval = len(eval_index_val)\n",
    "    #nexp = centroids.shape[0]\n",
    "    predictions = np.empty(projections.shape)\n",
    "    #print(model_index_val.shape, eval_index_val.shape)\n",
    "\n",
    "    if len(model_index_val) > 0 and  len(eval_index_val) > 0:\n",
    "        weights = pairwise_kernels(centroids[model_index_val], centroids[eval_index_val], metric='rbf', gamma=gamma, filter_params=True) #get_weights(centroids, gamma)\n",
    "        for i in range(neval):\n",
    "            matchindex = np.where(model_index_val == eval_index_val[i])[0]\n",
    "            otherindices = np.setdiff1d(np.asarray(list(range(nmod_ind))), matchindex)         \n",
    "            #this order of operations is the fastest I found\n",
    "            weights_i = weights[:,i] / weights[:,i][otherindices].sum()\n",
    "            weights_i[matchindex] = 0\n",
    "            weights_i = np.asarray(weights_i, dtype=np.float32)\n",
    "            pred = np.dot(weights_i, projections[model_index_val])\n",
    "            print(pred.max())\n",
    "            predictions[eval_index_val[i]] = pred\n"
   ]
  },
  {
   "cell_type": "code",
   "execution_count": 295,
   "metadata": {},
   "outputs": [
    {
     "data": {
      "text/plain": [
       "0.2343762122189106"
      ]
     },
     "execution_count": 295,
     "metadata": {},
     "output_type": "execute_result"
    }
   ],
   "source": [
    "get_loss_paper(predictions[11],predictions[21])"
   ]
  },
  {
   "cell_type": "code",
   "execution_count": 296,
   "metadata": {},
   "outputs": [
    {
     "data": {
      "text/plain": [
       "0.2343762122189106"
      ]
     },
     "execution_count": 296,
     "metadata": {},
     "output_type": "execute_result"
    }
   ],
   "source": [
    "get_loss_paper(predictions[21],predictions[11])"
   ]
  },
  {
   "cell_type": "code",
   "execution_count": 140,
   "metadata": {},
   "outputs": [
    {
     "data": {
      "text/plain": [
       "array([], dtype=int64)"
      ]
     },
     "execution_count": 140,
     "metadata": {},
     "output_type": "execute_result"
    }
   ],
   "source": [
    "model_index_val"
   ]
  },
  {
   "cell_type": "code",
   "execution_count": 144,
   "metadata": {},
   "outputs": [
    {
     "data": {
      "text/plain": [
       "array([0, 0, 2, 0, 0, 0, 0, 0, 2, 0, 0, 2, 0])"
      ]
     },
     "execution_count": 144,
     "metadata": {},
     "output_type": "execute_result"
    }
   ],
   "source": [
    "eval_index_matrix.sum(axis = 1)"
   ]
  },
  {
   "cell_type": "code",
   "execution_count": 145,
   "metadata": {},
   "outputs": [
    {
     "data": {
      "text/plain": [
       "array([0, 0, 2, 0, 0, 0, 0, 0, 2, 0, 0, 2, 0])"
      ]
     },
     "execution_count": 145,
     "metadata": {},
     "output_type": "execute_result"
    }
   ],
   "source": [
    "model_index_matrix.sum(axis = 1)"
   ]
  },
  {
   "cell_type": "code",
   "execution_count": 118,
   "metadata": {},
   "outputs": [
    {
     "data": {
      "text/plain": [
       "array([3, 2, 1, 1, 1, 2, 1, 6, 1, 2, 5, 2, 9])"
      ]
     },
     "execution_count": 118,
     "metadata": {},
     "output_type": "execute_result"
    }
   ],
   "source": [
    "model_index_matrix.sum(axis = 1)"
   ]
  },
  {
   "cell_type": "code",
   "execution_count": 131,
   "metadata": {},
   "outputs": [
    {
     "data": {
      "text/plain": [
       "36"
      ]
     },
     "execution_count": 131,
     "metadata": {},
     "output_type": "execute_result"
    }
   ],
   "source": [
    "model_index_matrix.sum(axis = 1).sum()"
   ]
  },
  {
   "cell_type": "code",
   "execution_count": 132,
   "metadata": {},
   "outputs": [
    {
     "data": {
      "text/plain": [
       "array([0, 0, 2, 0, 0, 0, 0, 0, 2, 0, 0, 2, 0])"
      ]
     },
     "execution_count": 132,
     "metadata": {},
     "output_type": "execute_result"
    }
   ],
   "source": [
    "eval_index_matrix.sum(axis = 1)"
   ]
  },
  {
   "cell_type": "code",
   "execution_count": 135,
   "metadata": {},
   "outputs": [
    {
     "data": {
      "text/plain": [
       "36"
      ]
     },
     "execution_count": 135,
     "metadata": {},
     "output_type": "execute_result"
    }
   ],
   "source": [
    "model_index_matrix.sum(axis = 1).sum()"
   ]
  },
  {
   "cell_type": "code",
   "execution_count": 274,
   "metadata": {},
   "outputs": [
    {
     "name": "stderr",
     "output_type": "stream",
     "text": [
      "/Users/samsonkoelle/anaconda3/envs/allen_010719_5/lib/python3.7/site-packages/ipykernel_launcher.py:91: RuntimeWarning: divide by zero encountered in true_divide\n",
      "/Users/samsonkoelle/anaconda3/envs/allen_010719_5/lib/python3.7/site-packages/ipykernel_launcher.py:91: RuntimeWarning: invalid value encountered in true_divide\n"
     ]
    }
   ],
   "source": [
    "    predictions_unmerged = get_nwloocv_predictions_multimodel(projections, centroids, gammas, model_index_matrix, eval_index_matrix)\n"
   ]
  },
  {
   "cell_type": "code",
   "execution_count": 275,
   "metadata": {
    "collapsed": true
   },
   "outputs": [],
   "source": [
    "predictions = predictions_unmerged"
   ]
  },
  {
   "cell_type": "code",
   "execution_count": 276,
   "metadata": {
    "collapsed": true
   },
   "outputs": [],
   "source": [
    "    nmodels, ngammas, nexp, ntargets = predictions.shape\n",
    "    combined_predictions = np.empty((ngammas, nexp, ntargets))\n",
    "    for m in range(nmodels):\n",
    "        combined_predictions[:,np.where(eval_index_matrix[m] == 1)[0]] = predictions[m][:,np.where(eval_index_matrix[m] == 1)[0]]\n"
   ]
  },
  {
   "cell_type": "code",
   "execution_count": 278,
   "metadata": {},
   "outputs": [
    {
     "data": {
      "text/plain": [
       "0.2343762122189106"
      ]
     },
     "execution_count": 278,
     "metadata": {},
     "output_type": "execute_result"
    }
   ],
   "source": [
    "get_loss_paper(combined_predictions[0,11,:],combined_predictions[0,21,:])"
   ]
  },
  {
   "cell_type": "code",
   "execution_count": 103,
   "metadata": {},
   "outputs": [
    {
     "data": {
      "text/plain": [
       "0.6157449559467582"
      ]
     },
     "execution_count": 103,
     "metadata": {},
     "output_type": "execute_result"
    }
   ],
   "source": [
    "projections[0].max()\n"
   ]
  },
  {
   "cell_type": "code",
   "execution_count": 89,
   "metadata": {},
   "outputs": [
    {
     "ename": "NameError",
     "evalue": "name 'predictions_merged' is not defined",
     "output_type": "error",
     "traceback": [
      "\u001b[0;31m---------------------------------------------------------------------------\u001b[0m",
      "\u001b[0;31mNameError\u001b[0m                                 Traceback (most recent call last)",
      "\u001b[0;32m<ipython-input-89-71109029b5ae>\u001b[0m in \u001b[0;36m<module>\u001b[0;34m\u001b[0m\n\u001b[0;32m----> 1\u001b[0;31m \u001b[0mpredictions_merged\u001b[0m\u001b[0;34m\u001b[0m\u001b[0;34m\u001b[0m\u001b[0m\n\u001b[0m",
      "\u001b[0;31mNameError\u001b[0m: name 'predictions_merged' is not defined"
     ]
    }
   ],
   "source": [
    "predictions_merged"
   ]
  },
  {
   "cell_type": "code",
   "execution_count": 78,
   "metadata": {},
   "outputs": [
    {
     "data": {
      "text/plain": [
       "0.9156172275543213"
      ]
     },
     "execution_count": 78,
     "metadata": {},
     "output_type": "execute_result"
    }
   ],
   "source": [
    "msvds[sid].loocv_predictions_leaf_wtleaf2[0].max()"
   ]
  },
  {
   "cell_type": "code",
   "execution_count": 82,
   "metadata": {},
   "outputs": [
    {
     "data": {
      "text/plain": [
       "(36, 577)"
      ]
     },
     "execution_count": 82,
     "metadata": {},
     "output_type": "execute_result"
    }
   ],
   "source": [
    "msvds[sid].loocv_predictions_leaf_wtleaf2[0].shape"
   ]
  },
  {
   "cell_type": "code",
   "execution_count": 9,
   "metadata": {},
   "outputs": [
    {
     "ename": "NameError",
     "evalue": "name 'meanloss_nw_major_finest2' is not defined",
     "output_type": "error",
     "traceback": [
      "\u001b[0;31m---------------------------------------------------------------------------\u001b[0m",
      "\u001b[0;31mNameError\u001b[0m                                 Traceback (most recent call last)",
      "\u001b[0;32m<ipython-input-9-49e601c1e283>\u001b[0m in \u001b[0;36m<module>\u001b[0;34m\u001b[0m\n\u001b[0;32m----> 1\u001b[0;31m \u001b[0mmeanloss_nw_major_finest2\u001b[0m\u001b[0;34m\u001b[0m\u001b[0;34m\u001b[0m\u001b[0m\n\u001b[0m",
      "\u001b[0;31mNameError\u001b[0m: name 'meanloss_nw_major_finest2' is not defined"
     ]
    }
   ],
   "source": [
    "meanloss_nw_major_finest2"
   ]
  },
  {
   "cell_type": "code",
   "execution_count": 65,
   "metadata": {
    "collapsed": true
   },
   "outputs": [],
   "source": [
    "losses = np.asarray([meanloss_nw_major_major,\n",
    "                     meanloss_nw_finest_finest2, \n",
    "           meanloss_nw_summary_finest2,\n",
    "            meanloss_nw_major_finest2  ,\n",
    "                    meanloss_nw_wtleaf_wtleaf2,\n",
    "                    meanloss_nw_leaf_wtleaf2,\n",
    "                    meanloss_nw_leaf_wtleaf]).transpose()\n",
    "\n",
    "\n",
    "losses2 = losses[[4,7,2,1,10,9,11,3,5,8,6,0]]\n",
    "loss =pd.DataFrame(losses2)#, columns = ['all','allwt'])"
   ]
  },
  {
   "cell_type": "code",
   "execution_count": 66,
   "metadata": {},
   "outputs": [
    {
     "data": {
      "text/html": [
       "<div>\n",
       "<style scoped>\n",
       "    .dataframe tbody tr th:only-of-type {\n",
       "        vertical-align: middle;\n",
       "    }\n",
       "\n",
       "    .dataframe tbody tr th {\n",
       "        vertical-align: top;\n",
       "    }\n",
       "\n",
       "    .dataframe thead th {\n",
       "        text-align: right;\n",
       "    }\n",
       "</style>\n",
       "<table border=\"1\" class=\"dataframe\">\n",
       "  <thead>\n",
       "    <tr style=\"text-align: right;\">\n",
       "      <th></th>\n",
       "      <th>0</th>\n",
       "      <th>1</th>\n",
       "      <th>2</th>\n",
       "      <th>3</th>\n",
       "      <th>4</th>\n",
       "      <th>5</th>\n",
       "      <th>6</th>\n",
       "    </tr>\n",
       "  </thead>\n",
       "  <tbody>\n",
       "    <tr>\n",
       "      <th>0</th>\n",
       "      <td>0.430291</td>\n",
       "      <td>0.441478</td>\n",
       "      <td>0.437777</td>\n",
       "      <td>0.761299</td>\n",
       "      <td>0.185551</td>\n",
       "      <td>0.332094</td>\n",
       "      <td>0.332094</td>\n",
       "    </tr>\n",
       "    <tr>\n",
       "      <th>1</th>\n",
       "      <td>0.446265</td>\n",
       "      <td>0.382781</td>\n",
       "      <td>0.382707</td>\n",
       "      <td>0.241034</td>\n",
       "      <td>0.099833</td>\n",
       "      <td>0.100973</td>\n",
       "      <td>0.100973</td>\n",
       "    </tr>\n",
       "    <tr>\n",
       "      <th>2</th>\n",
       "      <td>0.359464</td>\n",
       "      <td>0.358034</td>\n",
       "      <td>0.318438</td>\n",
       "      <td>0.679845</td>\n",
       "      <td>0.137924</td>\n",
       "      <td>0.638269</td>\n",
       "      <td>0.638269</td>\n",
       "    </tr>\n",
       "    <tr>\n",
       "      <th>3</th>\n",
       "      <td>0.777379</td>\n",
       "      <td>0.290682</td>\n",
       "      <td>0.290682</td>\n",
       "      <td>0.290682</td>\n",
       "      <td>NaN</td>\n",
       "      <td>NaN</td>\n",
       "      <td>1.437976</td>\n",
       "    </tr>\n",
       "    <tr>\n",
       "      <th>4</th>\n",
       "      <td>0.690856</td>\n",
       "      <td>0.648999</td>\n",
       "      <td>0.648954</td>\n",
       "      <td>1.007649</td>\n",
       "      <td>0.131307</td>\n",
       "      <td>0.195129</td>\n",
       "      <td>0.209115</td>\n",
       "    </tr>\n",
       "    <tr>\n",
       "      <th>5</th>\n",
       "      <td>0.530277</td>\n",
       "      <td>0.491212</td>\n",
       "      <td>0.491212</td>\n",
       "      <td>0.763025</td>\n",
       "      <td>0.518663</td>\n",
       "      <td>1.801483</td>\n",
       "      <td>1.049773</td>\n",
       "    </tr>\n",
       "    <tr>\n",
       "      <th>6</th>\n",
       "      <td>0.428704</td>\n",
       "      <td>0.336090</td>\n",
       "      <td>0.337409</td>\n",
       "      <td>0.926016</td>\n",
       "      <td>0.557145</td>\n",
       "      <td>1.632896</td>\n",
       "      <td>1.248982</td>\n",
       "    </tr>\n",
       "    <tr>\n",
       "      <th>7</th>\n",
       "      <td>0.293773</td>\n",
       "      <td>0.270348</td>\n",
       "      <td>0.270348</td>\n",
       "      <td>0.828003</td>\n",
       "      <td>0.155343</td>\n",
       "      <td>1.848775</td>\n",
       "      <td>1.848775</td>\n",
       "    </tr>\n",
       "    <tr>\n",
       "      <th>8</th>\n",
       "      <td>0.471360</td>\n",
       "      <td>0.492633</td>\n",
       "      <td>0.453227</td>\n",
       "      <td>1.648834</td>\n",
       "      <td>0.165519</td>\n",
       "      <td>1.781190</td>\n",
       "      <td>1.667228</td>\n",
       "    </tr>\n",
       "    <tr>\n",
       "      <th>9</th>\n",
       "      <td>0.456570</td>\n",
       "      <td>0.348218</td>\n",
       "      <td>0.348218</td>\n",
       "      <td>0.614635</td>\n",
       "      <td>NaN</td>\n",
       "      <td>NaN</td>\n",
       "      <td>0.905921</td>\n",
       "    </tr>\n",
       "    <tr>\n",
       "      <th>10</th>\n",
       "      <td>0.409765</td>\n",
       "      <td>0.318885</td>\n",
       "      <td>0.318885</td>\n",
       "      <td>1.050196</td>\n",
       "      <td>0.260809</td>\n",
       "      <td>1.255440</td>\n",
       "      <td>1.335200</td>\n",
       "    </tr>\n",
       "    <tr>\n",
       "      <th>11</th>\n",
       "      <td>0.900978</td>\n",
       "      <td>0.786928</td>\n",
       "      <td>0.774063</td>\n",
       "      <td>0.526687</td>\n",
       "      <td>0.234376</td>\n",
       "      <td>1.986684</td>\n",
       "      <td>1.457819</td>\n",
       "    </tr>\n",
       "  </tbody>\n",
       "</table>\n",
       "</div>"
      ],
      "text/plain": [
       "           0         1         2         3         4         5         6\n",
       "0   0.430291  0.441478  0.437777  0.761299  0.185551  0.332094  0.332094\n",
       "1   0.446265  0.382781  0.382707  0.241034  0.099833  0.100973  0.100973\n",
       "2   0.359464  0.358034  0.318438  0.679845  0.137924  0.638269  0.638269\n",
       "3   0.777379  0.290682  0.290682  0.290682       NaN       NaN  1.437976\n",
       "4   0.690856  0.648999  0.648954  1.007649  0.131307  0.195129  0.209115\n",
       "5   0.530277  0.491212  0.491212  0.763025  0.518663  1.801483  1.049773\n",
       "6   0.428704  0.336090  0.337409  0.926016  0.557145  1.632896  1.248982\n",
       "7   0.293773  0.270348  0.270348  0.828003  0.155343  1.848775  1.848775\n",
       "8   0.471360  0.492633  0.453227  1.648834  0.165519  1.781190  1.667228\n",
       "9   0.456570  0.348218  0.348218  0.614635       NaN       NaN  0.905921\n",
       "10  0.409765  0.318885  0.318885  1.050196  0.260809  1.255440  1.335200\n",
       "11  0.900978  0.786928  0.774063  0.526687  0.234376  1.986684  1.457819"
      ]
     },
     "execution_count": 66,
     "metadata": {},
     "output_type": "execute_result"
    }
   ],
   "source": [
    "loss"
   ]
  },
  {
   "cell_type": "code",
   "execution_count": 47,
   "metadata": {
    "collapsed": true
   },
   "outputs": [],
   "source": [
    "#losses = losses_finest_finest2\n",
    "#hyps = best_gamma_finest_finest2\n",
    "\n",
    "def get_best_hyperparameters(losses, keys):\n",
    "    \n",
    "    major_structure_ids = np.asarray(list(losses.keys()))\n",
    "    nms = len(major_structure_ids)\n",
    "    nkey = keys.shape[1]\n",
    "    output = np.empty((nms, nkey))\n",
    "    for m in range(nms):\n",
    "        print(m)\n",
    "        sid = major_structure_ids[m]\n",
    "        lvec = np.asarray([np.nanmean(losses[sid][key]) for key in keys])\n",
    "        if np.any(~np.isnan(lvec)):\n",
    "            output[m] = keys[np.nanargmin(lvec)]\n",
    "        # if len(np.where(np.isnan(np.nanmean(losses[sid][:,:], axis = 1)))[0]) < losses[sid].shape[0]:\n",
    "        #    output[m] = np.nanargmin(np.nanmean(losses[sid][:,:], axis = 1))\n",
    "\n",
    "    output = np.asarray(output, dtype=int)\n",
    "    return(output)\n",
    "    \n",
    "def get_loss_best_hyp(losses, hyps):\n",
    "    major_structure_ids = np.asarray(list(losses.keys()))\n",
    "    nms = len(major_structure_ids)\n",
    "    output = np.zeros(nms)\n",
    "    for m in range(nms):\n",
    "        sid = major_structure_ids[m]\n",
    "        output[m] = np.nanmean(losses[sid][hyps[m], :])\n",
    "    return (output)"
   ]
  },
  {
   "cell_type": "code",
   "execution_count": 74,
   "metadata": {},
   "outputs": [
    {
     "ename": "TypeError",
     "evalue": "'NoneType' object is not subscriptable",
     "output_type": "error",
     "traceback": [
      "\u001b[0;31m---------------------------------------------------------------------------\u001b[0m",
      "\u001b[0;31mTypeError\u001b[0m                                 Traceback (most recent call last)",
      "\u001b[0;32m<ipython-input-74-ae54642dc598>\u001b[0m in \u001b[0;36m<module>\u001b[0;34m\u001b[0m\n\u001b[1;32m      4\u001b[0m \u001b[0;32mfor\u001b[0m \u001b[0mm\u001b[0m \u001b[0;32min\u001b[0m \u001b[0mrange\u001b[0m\u001b[0;34m(\u001b[0m\u001b[0mnms\u001b[0m\u001b[0;34m)\u001b[0m\u001b[0;34m:\u001b[0m\u001b[0;34m\u001b[0m\u001b[0;34m\u001b[0m\u001b[0m\n\u001b[1;32m      5\u001b[0m     \u001b[0msid\u001b[0m \u001b[0;34m=\u001b[0m \u001b[0mmajor_structure_ids\u001b[0m\u001b[0;34m[\u001b[0m\u001b[0mm\u001b[0m\u001b[0;34m]\u001b[0m\u001b[0;34m\u001b[0m\u001b[0;34m\u001b[0m\u001b[0m\n\u001b[0;32m----> 6\u001b[0;31m     \u001b[0moutput\u001b[0m\u001b[0;34m[\u001b[0m\u001b[0mm\u001b[0m\u001b[0;34m]\u001b[0m \u001b[0;34m=\u001b[0m \u001b[0mnp\u001b[0m\u001b[0;34m.\u001b[0m\u001b[0mnanmean\u001b[0m\u001b[0;34m(\u001b[0m\u001b[0mlosses\u001b[0m\u001b[0;34m[\u001b[0m\u001b[0msid\u001b[0m\u001b[0;34m]\u001b[0m\u001b[0;34m[\u001b[0m\u001b[0mhyps\u001b[0m\u001b[0;34m[\u001b[0m\u001b[0mm\u001b[0m\u001b[0;34m]\u001b[0m\u001b[0;34m,\u001b[0m \u001b[0;34m:\u001b[0m\u001b[0;34m]\u001b[0m\u001b[0;34m)\u001b[0m\u001b[0;34m\u001b[0m\u001b[0;34m\u001b[0m\u001b[0m\n\u001b[0m",
      "\u001b[0;31mTypeError\u001b[0m: 'NoneType' object is not subscriptable"
     ]
    }
   ],
   "source": [
    "    major_structure_ids = np.asarray(list(losses.keys()))\n",
    "    nms = len(major_structure_ids)\n",
    "    output = np.zeros(nms)\n",
    "    for m in range(nms):\n",
    "        sid = major_structure_ids[m]\n",
    "        output[m] = np.nanmean(losses[sid][hyps[m], :])\n"
   ]
  },
  {
   "cell_type": "code",
   "execution_count": 80,
   "metadata": {
    "collapsed": true
   },
   "outputs": [],
   "source": [
    "best_gamma_finest_finest2"
   ]
  },
  {
   "cell_type": "code",
   "execution_count": 67,
   "metadata": {},
   "outputs": [
    {
     "name": "stderr",
     "output_type": "stream",
     "text": [
      "/Users/samsonkoelle/anaconda3/envs/allen_010719_5/lib/python3.7/site-packages/ipykernel_launcher.py:3: RuntimeWarning: Mean of empty slice\n",
      "  This is separate from the ipykernel package so we can avoid doing imports until\n"
     ]
    }
   ],
   "source": [
    "m = 0\n",
    "sid = major_structure_ids[m]\n",
    "lvec = np.asarray([np.nanmean(losses[sid][key]) for key in keys])\n"
   ]
  },
  {
   "cell_type": "code",
   "execution_count": 68,
   "metadata": {},
   "outputs": [
    {
     "data": {
      "text/plain": [
       "True"
      ]
     },
     "execution_count": 68,
     "metadata": {},
     "output_type": "execute_result"
    }
   ],
   "source": []
  },
  {
   "cell_type": "code",
   "execution_count": 48,
   "metadata": {
    "scrolled": true
   },
   "outputs": [
    {
     "name": "stderr",
     "output_type": "stream",
     "text": [
      "/Users/samsonkoelle/anaconda3/envs/allen_010719_5/lib/python3.7/site-packages/ipykernel_launcher.py:3: RuntimeWarning: Mean of empty slice\n",
      "  This is separate from the ipykernel package so we can avoid doing imports until\n"
     ]
    }
   ],
   "source": [
    "m = 1\n",
    "sid = major_structure_ids[m]\n",
    "lvec = np.asarray([np.nanmean(losses[sid][key]) for key in keys])\n"
   ]
  },
  {
   "cell_type": "code",
   "execution_count": 49,
   "metadata": {},
   "outputs": [
    {
     "data": {
      "text/plain": [
       "array([], shape=(5, 0), dtype=float64)"
      ]
     },
     "execution_count": 49,
     "metadata": {},
     "output_type": "execute_result"
    }
   ],
   "source": [
    "losses[sid]"
   ]
  },
  {
   "cell_type": "code",
   "execution_count": 43,
   "metadata": {},
   "outputs": [
    {
     "data": {
      "text/plain": [
       "array([], shape=(5, 0), dtype=float64)"
      ]
     },
     "execution_count": 43,
     "metadata": {},
     "output_type": "execute_result"
    }
   ],
   "source": [
    "losses[sid]"
   ]
  },
  {
   "cell_type": "code",
   "execution_count": 36,
   "metadata": {},
   "outputs": [
    {
     "data": {
      "text/plain": [
       "array([0.24061124, 0.24061124, 0.24061124, 0.24061124,        nan])"
      ]
     },
     "execution_count": 36,
     "metadata": {},
     "output_type": "execute_result"
    }
   ],
   "source": [
    "lvec"
   ]
  },
  {
   "cell_type": "code",
   "execution_count": 19,
   "metadata": {
    "collapsed": true
   },
   "outputs": [],
   "source": [
    "# #Set gammas for crossvalidation\n",
    "# gammas = np.asarray([0.1,.5,1,2,10])\n",
    "\n",
    "# for sid in major_structure_ids:\n",
    "#     print(sid)\n",
    "#     msvds[sid].loocv_predictions_all = get_loocv_predictions_code(projections = msvds[sid].regional_projection_vcount_norm_renorm, \n",
    "#                                                                  centroids = msvds[sid].centroids,\n",
    "#                                                                  gammas = gammas)    \n",
    "#     msvds[sid].loocv_predictions_leaf = get_loocv_predictions_code(projections = msvds[sid].reg_proj_vcount_norm_renorm, \n",
    "#                                                                  centroids = msvds[sid].centroids,\n",
    "#                                                                  gammas = gammas,\n",
    "#                                                                  codes = np.expand_dims(leafs[sid], axis = 1))\n",
    "#     msvds[sid].loocv_predictions_cre = get_loocv_predictions_code(projections = msvds[sid].reg_proj_vcount_norm_renorm, \n",
    "#                                                                  centroids = msvds[sid].centroids,\n",
    "#                                                                  gammas = gammas,\n",
    "#                                                                  codes=np.expand_dims(np.asarray(creline[sid], dtype = str), axis = 1))\n",
    "#     msvds[sid].loocv_predictions_creleaf = get_loocv_predictions_code(projections = msvds[sid].reg_proj_vcount_norm_renorm, \n",
    "#                                                                  centroids = msvds[sid].centroids,\n",
    "#                                                                  gammas = gammas,\n",
    "#                                                                  codes=np.asarray(np.vstack([leafs[sid], creline[sid]]), dtype = str).transpose())\n",
    "    \n",
    "# #this function is not suitable for generating predictions based off of a class that shouldn't itself be used for the prediction\n",
    "# #the codes are used to segreate\n",
    "# #we need to have two codes.\n",
    "# #the first code denotes the different levels of model\n",
    "# #the second should be a dictionary with key of the first code saying whos model we should use"
   ]
  },
  {
   "cell_type": "code",
   "execution_count": null,
   "metadata": {
    "collapsed": true
   },
   "outputs": [],
   "source": []
  },
  {
   "cell_type": "code",
   "execution_count": null,
   "metadata": {
    "collapsed": true
   },
   "outputs": [],
   "source": [
    "#every experiment can be specified by an include 1 0 in model and include in evaluation 1 0 "
   ]
  },
  {
   "cell_type": "code",
   "execution_count": 6,
   "metadata": {
    "collapsed": true
   },
   "outputs": [],
   "source": [
    "\n",
    "# def get_loocv_predictions_code(projections, centroids, gammas, codes=None):\n",
    "\n",
    "#     ngam = len(gammas)\n",
    "#     if codes is None:\n",
    "#         # print('yehh')\n",
    "#         codes = np.zeros((projections.shape[0], 1))\n",
    "\n",
    "#     # print(codes)\n",
    "#     unique_codes = np.unique(codes, axis=1)\n",
    "#     predictions = np.empty(np.append(ngam, projections.shape))\n",
    "\n",
    "#     for c in range(len(unique_codes)):\n",
    "#         print(unique_codes[c])\n",
    "#         code_ind = np.where(codes == unique_codes[c])[0]\n",
    "#         if len(code_ind) > 1:\n",
    "#             predictions[:, code_ind] = np.asarray(\n",
    "#                 [get_loocv_predictions(projections[code_ind], centroids[code_ind], gammas[g]) for g in range(ngam)])\n",
    "\n",
    "#     return (predictions)\n",
    "\n"
   ]
  },
  {
   "cell_type": "code",
   "execution_count": 7,
   "metadata": {
    "collapsed": true
   },
   "outputs": [],
   "source": [
    "#codes are the levels for models and evals\n",
    "#modelcodes are to be included in the model\n",
    "#evalcodes are to be included in evalcodes\n",
    "def generate_model_eval_indices(codes, modelcodes = None, evalcodes = None):\n",
    "    \n",
    "    if modelcodes is None:\n",
    "        modelcodes = np.unique(np.asarray(list(codes.values())))\n",
    "    if evalcodes is None:\n",
    "        evalcodes = np.unique(np.asarray(list(codes.values())))\n",
    "        \n",
    "    for sid in np.asarray(list(codes.keys())):\n",
    "        nexp = len(codes)\n",
    "        #nmodels = len(modelcodes[sid])\n",
    "        model_indices = np.zeros((nexp)) #np.asarray((nmodels, nexp))\n",
    "        eval_indices = np.zeros((nexp)) #np.asarray((nmodels, nexp))\n",
    "        #for c in range(nmodels):\n",
    "        model_indices[np.where(np.isin(codes, modelcodes))[0]] = 1\n",
    "        eval_indices[np.where(np.isin(codes, evalcodes))[0]] = 1\n",
    "    \n",
    "    return(model_indices, eval_indices)"
   ]
  },
  {
   "cell_type": "code",
   "execution_count": 8,
   "metadata": {
    "collapsed": true
   },
   "outputs": [],
   "source": [
    "def get_indices(codelist, testcode):\n",
    "    \n",
    "    output = np.zeros(len(codelist))\n",
    "    output[np.where(np.isin(codelist, testcode))[0]] = 1\n",
    "    \n",
    "    return(output)"
   ]
  },
  {
   "cell_type": "code",
   "execution_count": 9,
   "metadata": {
    "collapsed": true
   },
   "outputs": [],
   "source": [
    "# def get_indices(codelist, testcode, codelist2, testcode2):\n",
    "    \n",
    "#     output = np.zeros(len(codelist))\n",
    "#     output[np.where(np.isin(codelist, testcode))[0]] = 1\n",
    "    \n",
    "#     return(output)"
   ]
  },
  {
   "cell_type": "code",
   "execution_count": 11,
   "metadata": {
    "collapsed": true
   },
   "outputs": [],
   "source": [
    "# for sid in major_structure_ids\n",
    "\n",
    "#     creline_options = np.unique(creline[sid])\n",
    "#     for creline_option in creline_options:\n",
    "#         model_indices = get_indices(creline[sid], creline_option)\n",
    "#         eval_indices = get_indices(creline[sid], creline[sid][i])"
   ]
  },
  {
   "cell_type": "code",
   "execution_count": 12,
   "metadata": {
    "collapsed": true
   },
   "outputs": [],
   "source": [
    "#can"
   ]
  },
  {
   "cell_type": "code",
   "execution_count": 13,
   "metadata": {
    "collapsed": true
   },
   "outputs": [],
   "source": [
    "# model_indices is matrix of dimension nmodels x nexperiments\n",
    "# eval_indices is matrix of dimension nmodels x nexperiments\n",
    "# each leaf gets its own model"
   ]
  },
  {
   "cell_type": "code",
   "execution_count": 14,
   "metadata": {
    "collapsed": true
   },
   "outputs": [],
   "source": [
    "#get the indices of different leafs\n",
    "#eval_indices = get_indices(leafs[sid])\n",
    "#get the indices of the wts in that leaf\n",
    "#model_indices = get_indices2(creline[sid], np.asarray(['C57BL/6J']),leafs[sid])"
   ]
  },
  {
   "cell_type": "code",
   "execution_count": 15,
   "metadata": {
    "collapsed": true
   },
   "outputs": [],
   "source": [
    "creleafs = {}\n",
    "creleafs_merged = {}\n",
    "for sid in major_structure_ids:\n",
    "    creleafs[sid] = np.asarray(np.vstack([leafs[sid], creline[sid]]), dtype = str).transpose()\n",
    "    creleafs_merged[sid] = [creleafs[sid][:,0][i]  + creleafs[sid][:,1][i] for i in range(creleafs[sid].shape[0])]"
   ]
  },
  {
   "cell_type": "code",
   "execution_count": 16,
   "metadata": {},
   "outputs": [
    {
     "ename": "TypeError",
     "evalue": "get_indices() missing 1 required positional argument: 'testcode'",
     "output_type": "error",
     "traceback": [
      "\u001b[0;31m---------------------------------------------------------------------------\u001b[0m",
      "\u001b[0;31mTypeError\u001b[0m                                 Traceback (most recent call last)",
      "\u001b[0;32m<ipython-input-16-55e4fce97c0f>\u001b[0m in \u001b[0;36m<module>\u001b[0;34m\u001b[0m\n\u001b[1;32m     13\u001b[0m \u001b[0;34m\u001b[0m\u001b[0m\n\u001b[1;32m     14\u001b[0m     \u001b[0;31m#get the indices of experiments sharing leafs (nmodels is number of leafs)\u001b[0m\u001b[0;34m\u001b[0m\u001b[0;34m\u001b[0m\u001b[0;34m\u001b[0m\u001b[0m\n\u001b[0;32m---> 15\u001b[0;31m     \u001b[0mindices_leaf\u001b[0m\u001b[0;34m[\u001b[0m\u001b[0msid\u001b[0m\u001b[0;34m]\u001b[0m \u001b[0;34m=\u001b[0m \u001b[0mget_indices\u001b[0m\u001b[0;34m(\u001b[0m\u001b[0mleafs\u001b[0m\u001b[0;34m[\u001b[0m\u001b[0msid\u001b[0m\u001b[0;34m]\u001b[0m\u001b[0;34m)\u001b[0m \u001b[0;31m#eval_indices\u001b[0m\u001b[0;34m\u001b[0m\u001b[0;34m\u001b[0m\u001b[0m\n\u001b[0m\u001b[1;32m     16\u001b[0m     \u001b[0mindices_creleaf\u001b[0m \u001b[0;34m=\u001b[0m \u001b[0mget_indices\u001b[0m\u001b[0;34m(\u001b[0m\u001b[0mleafs\u001b[0m\u001b[0;34m[\u001b[0m\u001b[0msid\u001b[0m\u001b[0;34m]\u001b[0m\u001b[0;34m)\u001b[0m\u001b[0;34m\u001b[0m\u001b[0;34m\u001b[0m\u001b[0m\n\u001b[1;32m     17\u001b[0m \u001b[0;34m\u001b[0m\u001b[0m\n",
      "\u001b[0;31mTypeError\u001b[0m: get_indices() missing 1 required positional argument: 'testcode'"
     ]
    }
   ],
   "source": []
  },
  {
   "cell_type": "code",
   "execution_count": null,
   "metadata": {
    "collapsed": true
   },
   "outputs": [],
   "source": []
  },
  {
   "cell_type": "code",
   "execution_count": 292,
   "metadata": {},
   "outputs": [
    {
     "ename": "AttributeError",
     "evalue": "'VoxelDataset' object has no attribute 'loocv_predictions_wtleaf_wtleaf2'",
     "output_type": "error",
     "traceback": [
      "\u001b[0;31m---------------------------------------------------------------------------\u001b[0m",
      "\u001b[0;31mAttributeError\u001b[0m                            Traceback (most recent call last)",
      "\u001b[0;32m<ipython-input-292-a7b3fc8182ca>\u001b[0m in \u001b[0;36m<module>\u001b[0;34m\u001b[0m\n\u001b[1;32m     12\u001b[0m     \u001b[0mnwloocv_summary_leaf2\u001b[0m\u001b[0;34m[\u001b[0m\u001b[0msid\u001b[0m\u001b[0;34m]\u001b[0m\u001b[0;34m=\u001b[0m \u001b[0mmsvds\u001b[0m\u001b[0;34m[\u001b[0m\u001b[0msid\u001b[0m\u001b[0;34m]\u001b[0m\u001b[0;34m.\u001b[0m\u001b[0mloocv_predictions_summaryleaf2\u001b[0m\u001b[0;34m\u001b[0m\u001b[0;34m\u001b[0m\u001b[0m\n\u001b[1;32m     13\u001b[0m     \u001b[0mnwloocv_major_leaf2\u001b[0m\u001b[0;34m[\u001b[0m\u001b[0msid\u001b[0m\u001b[0;34m]\u001b[0m \u001b[0;34m=\u001b[0m \u001b[0mmsvds\u001b[0m\u001b[0;34m[\u001b[0m\u001b[0msid\u001b[0m\u001b[0;34m]\u001b[0m\u001b[0;34m.\u001b[0m\u001b[0mloocv_predictions_majorleaf2\u001b[0m\u001b[0;34m\u001b[0m\u001b[0;34m\u001b[0m\u001b[0m\n\u001b[0;32m---> 14\u001b[0;31m     \u001b[0mnwloocv_wtleaf_wtleaf2\u001b[0m \u001b[0;34m=\u001b[0m \u001b[0mmsvds\u001b[0m\u001b[0;34m[\u001b[0m\u001b[0msid\u001b[0m\u001b[0;34m]\u001b[0m\u001b[0;34m.\u001b[0m\u001b[0mloocv_predictions_wtleaf_wtleaf2\u001b[0m\u001b[0;34m\u001b[0m\u001b[0;34m\u001b[0m\u001b[0m\n\u001b[0m\u001b[1;32m     15\u001b[0m     \u001b[0mnwloocv_leaf_wtleaf2\u001b[0m \u001b[0;34m=\u001b[0m \u001b[0mmsvds\u001b[0m\u001b[0;34m[\u001b[0m\u001b[0msid\u001b[0m\u001b[0;34m]\u001b[0m\u001b[0;34m.\u001b[0m\u001b[0mloocv_predictions_leaf_wtleaf2\u001b[0m\u001b[0;34m\u001b[0m\u001b[0;34m\u001b[0m\u001b[0m\n\u001b[1;32m     16\u001b[0m     \u001b[0mnwloocv_leaf_wtleaf\u001b[0m \u001b[0;34m=\u001b[0m \u001b[0mmsvds\u001b[0m\u001b[0;34m[\u001b[0m\u001b[0msid\u001b[0m\u001b[0;34m]\u001b[0m\u001b[0;34m.\u001b[0m\u001b[0mloocv_predictions_leaf_wtleaf\u001b[0m\u001b[0;34m\u001b[0m\u001b[0;34m\u001b[0m\u001b[0m\n",
      "\u001b[0;31mAttributeError\u001b[0m: 'VoxelDataset' object has no attribute 'loocv_predictions_wtleaf_wtleaf2'"
     ]
    }
   ],
   "source": []
  },
  {
   "cell_type": "code",
   "execution_count": 268,
   "metadata": {
    "collapsed": true
   },
   "outputs": [],
   "source": []
  },
  {
   "cell_type": "code",
   "execution_count": 265,
   "metadata": {
    "collapsed": true
   },
   "outputs": [],
   "source": []
  },
  {
   "cell_type": "code",
   "execution_count": 290,
   "metadata": {
    "collapsed": true
   },
   "outputs": [],
   "source": []
  },
  {
   "cell_type": "code",
   "execution_count": 291,
   "metadata": {
    "collapsed": true
   },
   "outputs": [],
   "source": []
  },
  {
   "cell_type": "code",
   "execution_count": 271,
   "metadata": {
    "collapsed": true
   },
   "outputs": [],
   "source": []
  },
  {
   "cell_type": "code",
   "execution_count": 274,
   "metadata": {},
   "outputs": [
    {
     "name": "stdout",
     "output_type": "stream",
     "text": [
      "0\n",
      "1\n",
      "2\n",
      "3\n",
      "4\n",
      "5\n",
      "6\n",
      "7\n",
      "8\n",
      "9\n",
      "10\n",
      "11\n"
     ]
    }
   ],
   "source": []
  },
  {
   "cell_type": "code",
   "execution_count": 275,
   "metadata": {},
   "outputs": [
    {
     "data": {
      "text/plain": [
       "array([0.78692754, 0.29068181, 0.35803372, 0.27034826, 0.44147834,\n",
       "       0.49263346, 0.31888494, 0.3827807 , 0.34821835, 0.49121184,\n",
       "       0.64899939, 0.3360901 ])"
      ]
     },
     "execution_count": 275,
     "metadata": {},
     "output_type": "execute_result"
    }
   ],
   "source": [
    "#these were the answers before... why changed???\n",
    "mean_nw_all"
   ]
  },
  {
   "cell_type": "code",
   "execution_count": 91,
   "metadata": {},
   "outputs": [
    {
     "data": {
      "text/plain": [
       "array([0.7597419 , 0.47051428, 0.35582579, 0.28493421, 0.41721117,\n",
       "       0.47354946, 0.35344191, 0.48337169, 0.41948756, 0.52509813,\n",
       "       0.6907309 , 0.42712092])"
      ]
     },
     "execution_count": 91,
     "metadata": {},
     "output_type": "execute_result"
    }
   ],
   "source": [
    "meanloss_nw_finest_finest2"
   ]
  },
  {
   "cell_type": "code",
   "execution_count": 92,
   "metadata": {},
   "outputs": [
    {
     "data": {
      "text/plain": [
       "['CB',\n",
       " 'CTXsp',\n",
       " 'HPF',\n",
       " 'HY',\n",
       " 'Isocortex',\n",
       " 'MB',\n",
       " 'MY',\n",
       " 'OLF',\n",
       " 'P',\n",
       " 'PAL',\n",
       " 'STR',\n",
       " 'TH']"
      ]
     },
     "execution_count": 92,
     "metadata": {},
     "output_type": "execute_result"
    }
   ],
   "source": [
    "major_structures"
   ]
  },
  {
   "cell_type": "code",
   "execution_count": 282,
   "metadata": {
    "collapsed": true
   },
   "outputs": [],
   "source": [
    "from sklearn.metrics.pairwise import pairwise_kernels\n",
    "from mcmodels.regressors.nonparametric.nadaraya_watson import get_weights\n",
    "\n",
    "\n",
    "def get_weights(eval_centroids, model_centroids, gamma):\n",
    "    weights = pairwise_kernels(X=eval_centroids, Y=model_centroids, metric='rbf', gamma=gamma, filter_params=True)\n",
    "    return (weights)\n",
    "\n",
    "\n",
    "def get_indices(ids):\n",
    "\n",
    "    ids_unique = np.unique(ids)\n",
    "    output = np.zeros((len(ids_unique), len(ids)), dtype = int)\n",
    "    for i in range(len(ids_unique)):\n",
    "        output[i,np.where(ids == ids_unique[i])[0] ] = 1\n",
    "    return(output)\n",
    "\n",
    "#get indices of firstlist in firstlisttest in categories defined by secondlist\n",
    "def get_indices2(firstlist, firstlisttest, secondlist):\n",
    "    \n",
    "    sl_unique = np.unique(secondlist)\n",
    "    output = np.zeros((len(sl_unique), len(secondlist)), dtype = int)\n",
    "    for i in range(len(sl_unique)):\n",
    "        output[i,np.intersect1d(np.where(np.isin(firstlist,firstlisttest))[0], np.where(secondlist == secondlist[i])[0])] = 1\n",
    "    return(output)\n",
    "\n",
    "#nmodels = nleafs\n",
    "#populate each with experiments that share summary structure\n",
    "def get_indices_summaryinleaf(summarylist , leaflist):\n",
    "    \n",
    "    nexp = len(leaflist)\n",
    "    leaf_unique = np.unique(leaflist)\n",
    "    output = np.zeros((len(leaf_unique), nexp), dtype = int)\n",
    "    \n",
    "    for i in range(len(leaf_unique)):\n",
    "        \n",
    "        summary = summarylist[np.where(leaflist == leaf_unique[i])[0]][0]\n",
    "        output[i,np.where(summarylist == summary)[0]] = 1\n",
    "        \n",
    "        \n",
    "    return(output)\n",
    "\n",
    "#get predictions at all eval_indices using model_indices\n",
    "#if an eval_indices is also a model indice, leave it out of the model\n",
    "#if a model index is not an eval index, it never gets left out\n",
    "def get_nwloocv_predictions_singlemodel(projections, centroids, gamma, model_indices, eval_indices):\n",
    "    \n",
    "#def get_loocv_predictions(projections, centroids, gamma):\n",
    "    \n",
    "#     projections = np.asarray(projections, dtype=np.float32)\n",
    "#     neval = len(eval_indices)\n",
    "#     #nexp = centroids.shape[0]\n",
    "#     predictions = np.empty(projections.shape)\n",
    "#     weights = get_weights(centroids, gamma)\n",
    "    \n",
    "#     for i in range(neval):\n",
    "#         otherindices = np.setdiff1d(model_indices, eval_indices[i])\n",
    "#         #this order of operations is the fastest I found\n",
    "#         weights_i = weights[eval_indices[i]][model_indices] / weights[model_indices[i]][otherindices].sum()\n",
    "#         weights_i[i] = 0\n",
    "#         weights_i = np.asarray(weights_i, dtype=np.float32)\n",
    "#         pred = np.dot(weights_i, projections[model_indices])\n",
    "#         predictions[i] = pred\n",
    "\n",
    "    eval_index_val = np.where(eval_indices == 1)[0]\n",
    "    model_index_val = np.where(model_indices == 1)[0]\n",
    "    \n",
    "    projections = np.asarray(projections, dtype=np.float32)\n",
    "    \n",
    "    nmod_ind = len(model_index_val)\n",
    "    neval = len(eval_index_val)\n",
    "    #nexp = centroids.shape[0]\n",
    "    predictions = np.empty(projections.shape)\n",
    "    #print(model_index_val.shape, eval_index_val.shape)\n",
    "\n",
    "    if len(model_index_val) > 0 and  len(eval_index_val) > 0:\n",
    "        weights = pairwise_kernels(centroids[model_index_val], centroids[eval_index_val], metric='rbf', gamma=gamma, filter_params=True) #get_weights(centroids, gamma)\n",
    "        for i in range(neval):\n",
    "            matchindex = np.where(model_index_val == eval_index_val[i])[0]\n",
    "            otherindices = np.setdiff1d(np.asarray(list(range(nmod_ind))), matchindex)         \n",
    "            #this order of operations is the fastest I found\n",
    "            weights_i = weights[:,i] / weights[:,i][otherindices].sum()\n",
    "            weights_i[matchindex] = 0\n",
    "            weights_i = np.asarray(weights_i, dtype=np.float32)\n",
    "            pred = np.dot(weights_i, projections[model_index_val])\n",
    "            predictions[eval_index_val[i]] = pred\n",
    "\n",
    "        \n",
    "    return(predictions)    \n",
    "\n",
    "def get_nwloocv_predictions_multimodel(projections, centroids, gammas, model_index_matrix, eval_index_matrix):\n",
    "    \n",
    "\n",
    "    \n",
    "    ntargets = projections.shape[1]\n",
    "    nexp = projections.shape[0]\n",
    "    nmodels = model_index_matrix.shape[0]\n",
    "    ngammas = len(gammas)\n",
    "    \n",
    "    projections = np.asarray(projections, dtype=np.float32)\n",
    "    predictions = np.empty((nmodels, ngammas, nexp, ntargets))\n",
    "    \n",
    "    \n",
    "    for m in range(nmodels):\n",
    "        #print('m', m, len(np.where(model_index_matrix[m] ==1)[0]))\n",
    "        predictions[m] = np.asarray([get_nwloocv_predictions_singlemodel(projections, centroids, gammas[g], model_index_matrix[m], eval_index_matrix[m]) for g in range(ngammas)])\n",
    "    \n",
    "    return(predictions)  \n",
    "\n",
    "def get_nwloocv_predictions_multimodel_merge(projections, centroids, gammas, model_index_matrix, eval_index_matrix):\n",
    "    \n",
    "    predictions_unmerged = get_nwloocv_predictions_multimodel(projections, centroids, gammas, model_index_matrix, eval_index_matrix)\n",
    "    predictions_merged = combine_predictions(predictions_unmerged, eval_index_matrix)\n",
    "    \n",
    "    return(predictions_merged)\n",
    "#we should not pass model_index_matrices that are identical to eval_index_matrices and have only 1 element per model\n",
    "#can do automatically in the cross validation code but would rther do it explicitly to ensure identical indexing b/w experiments\n",
    "#1 model leads to removing the model index from eval indices\n",
    "#should never have no elements in model_indices\n",
    "def screen_indices(model_indices, eval_indices):\n",
    "    \n",
    "    eval_indices2 = eval_indices.copy()\n",
    "    mod_loc = np.where(model_indices == 1)[0]\n",
    "    if len(mod_loc) == 1:\n",
    "        eval_indices2[mod_loc] = 0\n",
    "    return(eval_indices2)\n",
    "\n",
    "#this will not result in certain models having no indices, but could result in an empty eval index.  cactch later\n",
    "#this will result in certain indices having no prediction.  this is fine.\n",
    "#can merge (sum) the index matrix to see where predictions are actually generated\n",
    "def screen_index_matrices(model_index_matrices, eval_index_matrices):\n",
    "    \n",
    "    nmodels = model_index_matrices.shape[0]\n",
    "    eval_index_matrices2 = eval_index_matrices.copy()\n",
    "    for m in range(nmodels):\n",
    "        eval_index_matrices2[m] = screen_indices(model_index_matrices[m], eval_index_matrices[m])\n",
    "    \n",
    "    return(eval_index_matrices2)\n",
    "\n",
    "#need code for removing experiments that have no model\n",
    "#this can happen when the model set is a subset of the evaluation set.\n",
    "#we will therefore generate predictions for a subset\n",
    "#given a leaf is included, the eval set is the same\n",
    "#however, we want to remove evals in leaves we don't have a wt for... of course one could say we are doing worse...\n",
    "#but we also have a fewer number of models\n",
    "def screen_index_matrices2(model_index_matrices, eval_index_matrices):\n",
    "    \n",
    "    nmodels = model_index_matrices.shape[0]\n",
    "    include_per_model = model_index_matrices.sum(axis= 1)\n",
    "    to_include = np.where(include_per_model > 0)[0]\n",
    "    \n",
    "    model_index_matrices2 = model_index_matrices\n",
    "    eval_index_matrices2 = eval_index_matrices[to_include]\n",
    "    model_index_matrices2 = model_index_matrices[to_include]\n",
    "    \n",
    "    return(model_index_matrices2, eval_index_matrices2)"
   ]
  },
  {
   "cell_type": "code",
   "execution_count": 188,
   "metadata": {},
   "outputs": [
    {
     "name": "stdout",
     "output_type": "stream",
     "text": [
      "[0. 0.]\n"
     ]
    }
   ],
   "source": [
    "a= np.zeros(2)\n",
    "b = a.copy()\n",
    "b[1] = 1.\n",
    "print(a)"
   ]
  },
  {
   "cell_type": "code",
   "execution_count": null,
   "metadata": {
    "collapsed": true
   },
   "outputs": [],
   "source": []
  },
  {
   "cell_type": "code",
   "execution_count": null,
   "metadata": {
    "collapsed": true
   },
   "outputs": [],
   "source": [
    "msvds[sid].loocv_predictions_model = get_nwloocv_predictions_multimodel(projections = msvds[sid].reg_proj_vcount_norm_renorm, \n",
    "                                                                 centroids = msvds[sid].centroids,\n",
    "                                                                 gammas = gammas,\n",
    "                                                                model_indices = np.where(model_indices[c] == 1)[0]\n",
    "                                                                eval_indices = np.where(eval_indices[c] == 1)[0])\n",
    "                                                                 #codes=np.asarray(np.vstack([leafs[sid], creline[sid]]), dtype = str).transpose())\n"
   ]
  },
  {
   "cell_type": "code",
   "execution_count": 98,
   "metadata": {
    "collapsed": true
   },
   "outputs": [],
   "source": []
  },
  {
   "cell_type": "code",
   "execution_count": null,
   "metadata": {
    "collapsed": true
   },
   "outputs": [],
   "source": []
  },
  {
   "cell_type": "code",
   "execution_count": null,
   "metadata": {
    "collapsed": true
   },
   "outputs": [],
   "source": []
  },
  {
   "cell_type": "code",
   "execution_count": null,
   "metadata": {
    "collapsed": true
   },
   "outputs": [],
   "source": [
    "#get indices where creline is wt\n",
    "get_indices(creleafs, creline, wt)"
   ]
  },
  {
   "cell_type": "code",
   "execution_count": null,
   "metadata": {
    "collapsed": true
   },
   "outputs": [],
   "source": [
    "nmodels = number of leafs"
   ]
  },
  {
   "cell_type": "code",
   "execution_count": null,
   "metadata": {
    "collapsed": true
   },
   "outputs": [],
   "source": [
    "eval_indicator = leaf\n",
    "model_indicator = creleafs[leaf][wt]"
   ]
  },
  {
   "cell_type": "code",
   "execution_count": null,
   "metadata": {
    "collapsed": true
   },
   "outputs": [],
   "source": [
    "codes = leafs\n",
    "for leaf in leafs[sid]:\n",
    "    modelcodes = np.asarray([leaf])\n",
    "    evalcodes = np.asarray([leaf])\n",
    "    generate_model_eval_indices(codes, modelcodes = None, evalcodes = None)"
   ]
  },
  {
   "cell_type": "code",
   "execution_count": 35,
   "metadata": {
    "collapsed": true,
    "scrolled": true
   },
   "outputs": [],
   "source": [
    "creleaf = np.asarray(np.vstack([leafs[sid], creline[sid]]), dtype = str).transpose()"
   ]
  },
  {
   "cell_type": "code",
   "execution_count": null,
   "metadata": {
    "collapsed": true
   },
   "outputs": [],
   "source": [
    "#generate_model_eval_indices(leafs[sid], leafs[sid][i], leafs[sid][i])\n",
    "\n",
    "for i in range(nexp):\n",
    "    #get the model and evaluation indices for the model of the ith creleaf (i.e. sharing its code)\n",
    "    #and evaluate on the ith leaf\n",
    "    generate_model_eval_indices(creleafs[sid], creleafs[sid][i], leafs[sid], leafs[sid][i])"
   ]
  },
  {
   "cell_type": "code",
   "execution_count": 34,
   "metadata": {
    "collapsed": true
   },
   "outputs": [],
   "source": [
    "with open('data/info/leafs.pickle', 'rb') as handle:\n",
    "    leafs = pickle.load(handle)\n",
    "    "
   ]
  },
  {
   "cell_type": "code",
   "execution_count": null,
   "metadata": {
    "collapsed": true
   },
   "outputs": [],
   "source": [
    "def merge_models(modelcodes):\n",
    "    \n",
    "    \n",
    "    generate_model_eval_indices(codes, modelcodes = None, evalcodes = leafs[sid])"
   ]
  },
  {
   "cell_type": "code",
   "execution_count": 20,
   "metadata": {},
   "outputs": [
    {
     "ename": "NameError",
     "evalue": "name 'codes' is not defined",
     "output_type": "error",
     "traceback": [
      "\u001b[0;31m---------------------------------------------------------------------------\u001b[0m",
      "\u001b[0;31mNameError\u001b[0m                                 Traceback (most recent call last)",
      "\u001b[0;32m<ipython-input-20-0881946c5b78>\u001b[0m in \u001b[0;36m<module>\u001b[0;34m\u001b[0m\n\u001b[1;32m      1\u001b[0m \u001b[0mwt\u001b[0m \u001b[0;34m=\u001b[0m \u001b[0mnp\u001b[0m\u001b[0;34m.\u001b[0m\u001b[0masarray\u001b[0m\u001b[0;34m(\u001b[0m\u001b[0;34m[\u001b[0m\u001b[0;34m'C57BL/6J'\u001b[0m\u001b[0;34m]\u001b[0m\u001b[0;34m)\u001b[0m\u001b[0;34m\u001b[0m\u001b[0;34m\u001b[0m\u001b[0m\n\u001b[0;32m----> 2\u001b[0;31m \u001b[0mwt_wt_inds\u001b[0m \u001b[0;34m=\u001b[0m \u001b[0mgenerate_model_eval_indices\u001b[0m\u001b[0;34m(\u001b[0m\u001b[0mcodes\u001b[0m\u001b[0;34m,\u001b[0m \u001b[0mwt\u001b[0m\u001b[0;34m,\u001b[0m \u001b[0mwt\u001b[0m\u001b[0;34m)\u001b[0m\u001b[0;34m\u001b[0m\u001b[0;34m\u001b[0m\u001b[0m\n\u001b[0m\u001b[1;32m      3\u001b[0m \u001b[0mall_all_inds\u001b[0m \u001b[0;34m=\u001b[0m \u001b[0mgenerate_model_eval_indices\u001b[0m\u001b[0;34m(\u001b[0m\u001b[0mcodes\u001b[0m\u001b[0;34m)\u001b[0m\u001b[0;34m\u001b[0m\u001b[0;34m\u001b[0m\u001b[0m\n\u001b[1;32m      4\u001b[0m \u001b[0mall_wt_inds\u001b[0m \u001b[0;34m=\u001b[0m \u001b[0mgenerate_model_eval_indices\u001b[0m\u001b[0;34m(\u001b[0m\u001b[0mcodes\u001b[0m\u001b[0;34m,\u001b[0m \u001b[0mevalcodes\u001b[0m \u001b[0;34m=\u001b[0m \u001b[0mwt\u001b[0m\u001b[0;34m)\u001b[0m\u001b[0;34m\u001b[0m\u001b[0;34m\u001b[0m\u001b[0m\n\u001b[1;32m      5\u001b[0m \u001b[0mwt_all_inds\u001b[0m \u001b[0;34m=\u001b[0m \u001b[0mgenerate_model_eval_indices\u001b[0m\u001b[0;34m(\u001b[0m\u001b[0mcodes\u001b[0m\u001b[0;34m,\u001b[0m \u001b[0mmodelcodes\u001b[0m \u001b[0;34m=\u001b[0m \u001b[0mwt\u001b[0m\u001b[0;34m)\u001b[0m\u001b[0;34m\u001b[0m\u001b[0;34m\u001b[0m\u001b[0m\n",
      "\u001b[0;31mNameError\u001b[0m: name 'codes' is not defined"
     ]
    }
   ],
   "source": [
    "wt = np.asarray(['C57BL/6J'])\n",
    "leafs\n",
    "wt_wt_inds = generate_model_eval_indices(creline[sid], wt, wt)\n",
    "#leafs wil\n",
    "wt_wt_inds_leafindices = generate_model_eval_indices(creline, wt, wt)\n",
    "\n",
    "all_all_inds = generate_model_eval_indices(codes)\n",
    "all_wt_inds = generate_model_eval_indices(codes, evalcodes = wt)\n",
    "wt_all_inds = generate_model_eval_indices(codes, modelcodes = wt)"
   ]
  },
  {
   "cell_type": "code",
   "execution_count": null,
   "metadata": {
    "collapsed": true
   },
   "outputs": [],
   "source": [
    "def generate_model_eval_indices(codes, codescompare):\n",
    "    \n",
    "    nmodels = len(modelcodes[sid])\n",
    "    for c in range(nmodels):"
   ]
  },
  {
   "cell_type": "code",
   "execution_count": null,
   "metadata": {
    "collapsed": true
   },
   "outputs": [],
   "source": [
    "\n",
    "def get_loocv_predictions_code(projections, centroids, gammas, codes=None):\n",
    "\n",
    "    ngam = len(gammas)\n",
    "    if codes is None:\n",
    "        # print('yehh')\n",
    "        codes = np.zeros((projections.shape[0], 1))\n",
    "\n",
    "    # print(codes)\n",
    "    unique_codes = np.unique(codes, axis=1)\n",
    "    predictions = np.empty(np.append(ngam, projections.shape))\n",
    "    \n",
    "    #unique_codes should be array of binary variables indicating model_indices and eval_indices for a given model.\n",
    "    for c in range(len(unique_codes)):\n",
    "        print(unique_codes[c])\n",
    "        code_ind = np.where(codes == unique_codes[c])[0]\n",
    "        #if len(model_indices) > 1:\n",
    "        predictions[:, eval_indices] = np.asarray([get_loocv_predictions(projections, centroids, gammas[g], model_indices, eval_indices) for g in range(ngam)])\n",
    "\n",
    "    return (predictions)\n",
    "\n"
   ]
  },
  {
   "cell_type": "code",
   "execution_count": null,
   "metadata": {
    "collapsed": true
   },
   "outputs": [],
   "source": []
  },
  {
   "cell_type": "code",
   "execution_count": 18,
   "metadata": {
    "collapsed": true
   },
   "outputs": [],
   "source": []
  },
  {
   "cell_type": "code",
   "execution_count": null,
   "metadata": {
    "collapsed": true
   },
   "outputs": [],
   "source": []
  },
  {
   "cell_type": "code",
   "execution_count": 58,
   "metadata": {
    "collapsed": true
   },
   "outputs": [],
   "source": [
    "from itertools import product"
   ]
  },
  {
   "cell_type": "code",
   "execution_count": 60,
   "metadata": {},
   "outputs": [
    {
     "data": {
      "text/plain": [
       "[(0, 0), (0, 1), (0, 2), (1, 0), (1, 1), (1, 2)]"
      ]
     },
     "execution_count": 60,
     "metadata": {},
     "output_type": "execute_result"
    }
   ],
   "source": [
    "list(product(list(range(2)), list(range(3))))"
   ]
  },
  {
   "cell_type": "code",
   "execution_count": 61,
   "metadata": {
    "collapsed": true
   },
   "outputs": [],
   "source": []
  },
  {
   "cell_type": "code",
   "execution_count": null,
   "metadata": {
    "collapsed": true
   },
   "outputs": [],
   "source": []
  },
  {
   "cell_type": "code",
   "execution_count": 53,
   "metadata": {},
   "outputs": [
    {
     "data": {
      "text/plain": [
       "[(0, range(0, 5)), (1, range(0, 2))]"
      ]
     },
     "execution_count": 53,
     "metadata": {},
     "output_type": "execute_result"
    }
   ],
   "source": [
    "list(enumerate([range(5), range(2)]))"
   ]
  },
  {
   "cell_type": "code",
   "execution_count": null,
   "metadata": {
    "collapsed": true
   },
   "outputs": [],
   "source": [
    "def get_loocv_predictions_code(projections, centroids, gammas, codes = None):\n",
    "\n",
    "    if codes is None:\n",
    "        #print('yehh')\n",
    "        codes = np.zeros((projections.shape[0], 1))\n",
    "        \n",
    "    #print(codes)\n",
    "    unique_codes = np.unique(codes, axis = 1)\n",
    "    predictions = np.empty(np.append(ngam,projections.shape))\n",
    "    \n",
    "    for c in range(len(unique_codes)):\n",
    "        print(unique_codes[c])\n",
    "        code_ind = np.where(codes == unique_codes[c])[0]\n",
    "        if len(code_ind) >1:\n",
    "            predictions[:,code_ind] = np.asarray([get_loocv_predictions(projections[code_ind], centroids[code_ind], gammas[g]) for g in range(ngam)])\n",
    "    \n",
    "    return(predictions)"
   ]
  },
  {
   "cell_type": "code",
   "execution_count": null,
   "metadata": {
    "collapsed": true
   },
   "outputs": [],
   "source": []
  },
  {
   "cell_type": "code",
   "execution_count": null,
   "metadata": {
    "collapsed": true
   },
   "outputs": [],
   "source": [
    "    #should a model be (everyone his own cre)\n",
    "    #or, a single set of indices\n",
    "    #if we want to merge models to evaluate loss of a compound model, we should do that at a later state\n",
    "    #do this for leafs as well\n",
    "    nmodels = model_indices.shape[0]\n",
    "    msvds[sid].loocv_predictions_model = np.empty((nmodels, ntargets))\n",
    "    for c in range(nmodels):\n",
    "        msvds[sid].loocv_predictions_model[c] = get_loocv_predictions_modeleval(projections = msvds[sid].reg_proj_vcount_norm_renorm, \n",
    "                                                                 centroids = msvds[sid].centroids,\n",
    "                                                                 gammas = gammas,\n",
    "                                                                model_indices = np.where(model_indices[c] == 1)[0]\n",
    "                                                                eval_indices = np.where(eval_indices[c] == 1)[0])\n",
    "                                                                 #codes=np.asarray(np.vstack([leafs[sid], creline[sid]]), dtype = str).transpose())\n"
   ]
  }
 ],
 "metadata": {
  "kernelspec": {
   "display_name": "allen_010719_5",
   "language": "python",
   "name": "allen_010719_5"
  },
  "language_info": {
   "codemirror_mode": {
    "name": "ipython",
    "version": 3
   },
   "file_extension": ".py",
   "mimetype": "text/x-python",
   "name": "python",
   "nbconvert_exporter": "python",
   "pygments_lexer": "ipython3",
   "version": "3.7.6"
  }
 },
 "nbformat": 4,
 "nbformat_minor": 2
}

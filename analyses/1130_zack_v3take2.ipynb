{
 "cells": [
  {
   "cell_type": "code",
   "execution_count": 10,
   "metadata": {},
   "outputs": [
    {
     "name": "stdout",
     "output_type": "stream",
     "text": [
      "The autoreload extension is already loaded. To reload it, use:\n",
      "  %reload_ext autoreload\n"
     ]
    }
   ],
   "source": [
    "%load_ext autoreload\n",
    "%autoreload 2\n",
    "\n",
    "import os\n",
    "import numpy as np\n",
    "import pandas as pd \n",
    "import sys\n",
    "import pickle\n",
    "import itertools\n",
    "import seaborn as sns\n",
    "import matplotlib.pyplot as plt\n",
    "from mpl_toolkits.mplot3d import Axes3D\n",
    "import random\n",
    "from sklearn.metrics import pairwise_distances\n",
    "from sklearn.kernel_ridge import KernelRidge\n",
    "import math\n",
    "\n",
    "workingdirectory = os.popen('git rev-parse --show-toplevel').read()[:-1]\n",
    "sys.path.append(workingdirectory)\n",
    "os.chdir(workingdirectory)\n",
    "\n",
    "import allensdk.core.json_utilities as ju\n",
    "from allensdk.core.mouse_connectivity_cache import MouseConnectivityCache\n",
    "\n",
    "from mcmodels.core import VoxelModelCache\n",
    "from mcmodels.core.utils import get_structure_id,get_ordered_summary_structures\n",
    "from mcmodels.core.connectivity_data import get_connectivity_data\n",
    "from mcmodels.models.crossvalidation import get_nwloocv_predictions_multimodel_merge_dists\n",
    "from mcmodels.utils import nonzero_unique #, unionize\n",
    "from mcmodels.models.crossvalidation import get_best_hyperparameters,get_loss_best_hyp,get_loss#get_loocv_predictions,get_loss#get_best_hyperparameters,get_loss_best_hyp,get_loocv_predictions,get_loss\n",
    "from mcmodels.core.utils import get_leaves_ontologicalorder, get_indices, get_indices2,get_eval_indices,screen_index_matrices,screen_index_matrices2,screen_index_matrices3#get_cre_status,get_minorstructure_dictionary,get_leaves_ontologicalorder\n",
    "from mcmodels.core.utils import get_indices_2ormore\n",
    "from mcmodels.regressors import NadarayaWatson\n",
    "from mcmodels.core.plotting import plot_loss_surface,plot_loss_scatter"
   ]
  },
  {
   "cell_type": "code",
   "execution_count": 11,
   "metadata": {
    "collapsed": true
   },
   "outputs": [],
   "source": [
    "#read data\n",
    "TOP_DIR = '/Users/samsonkoelle/alleninstitute/mcm_2020/mcm_updated/'\n",
    "INPUT_JSON = os.path.join(TOP_DIR, 'input_011520.json')\n",
    "EXPERIMENTS_EXCLUDE_JSON = os.path.join(TOP_DIR, 'experiments_exclude.json')\n",
    "FILE_DIR = '/Users/samsonkoelle/alleninstitute/mcm_2020/mcm_updated/'\n",
    "OUTPUT_DIR = os.path.join(FILE_DIR, 'output')\n",
    "\n",
    "input_data = ju.read(INPUT_JSON)\n",
    "manifest_file = input_data.get('manifest_file')\n",
    "manifest_file = os.path.join(TOP_DIR, manifest_file)\n",
    "experiments_exclude = ju.read(EXPERIMENTS_EXCLUDE_JSON)\n",
    "\n",
    "#its unclear why the hyperparameters are loaded from the output directory\n",
    "cache = VoxelModelCache(manifest_file=manifest_file)\n",
    "major_structures = input_data.get('structures')\n",
    "major_structure_ids = [get_structure_id(cache, s) for s in major_structures]\n",
    "data_info = pd.read_excel('/Users/samsonkoelle/alleninstitute/Whole Brain Cre Image Series_curation only.xlsx', 'all datasets curated_070919pull')\n",
    "data_info.set_index(\"id\", inplace=True)\n",
    "ontological_order = get_ordered_summary_structures(cache)\n",
    "\n",
    "mcc = MouseConnectivityCache(manifest_file = '../connectivity/mouse_connectivity_manifest.json')\n",
    "st = mcc.get_structure_tree()\n",
    "ai_map = st.get_id_acronym_map()\n",
    "ia_map = {value: key for key, value in ai_map.items()}\n",
    "\n",
    "#regionalize voxel model: compare with regional model\n",
    "#regional parameters\n",
    "cre = None\n",
    "eid_set=None\n",
    "high_res=False\n",
    "threshold_injection = False\n",
    "\n",
    "COARSE_STRUCTURE_SET_ID = 2#3#2#167587189#3#2(old)\n",
    "DEFAULT_STRUCTURE_SET_IDS = tuple([COARSE_STRUCTURE_SET_ID])\n",
    "tree = cache.get_structure_tree()\n",
    "default_structures = tree.get_structures_by_set_id(DEFAULT_STRUCTURE_SET_IDS)\n",
    "default_structure_ids = [st['id'] for st in default_structures if st['id'] != 934]\n",
    "#cre= True"
   ]
  },
  {
   "cell_type": "code",
   "execution_count": 12,
   "metadata": {
    "collapsed": true
   },
   "outputs": [],
   "source": [
    "#info = cache.get_experiments(dataframe= [628236463])"
   ]
  },
  {
   "cell_type": "code",
   "execution_count": 18,
   "metadata": {},
   "outputs": [
    {
     "name": "stdout",
     "output_type": "stream",
     "text": [
      "316\n"
     ]
    }
   ],
   "source": [
    "COARSE_STRUCTURE_SET_ID = 167587189#2#167587189#3#2(old)\n",
    "DEFAULT_STRUCTURE_SET_IDS = tuple([COARSE_STRUCTURE_SET_ID])\n",
    "tree = cache.get_structure_tree()\n",
    "default_structures = tree.get_structures_by_set_id(DEFAULT_STRUCTURE_SET_IDS)\n",
    "print(len(default_structures))#, default_structures"
   ]
  },
  {
   "cell_type": "code",
   "execution_count": 11,
   "metadata": {
    "collapsed": true
   },
   "outputs": [],
   "source": [
    "#default_structures_new = default_structures.copy()"
   ]
  },
  {
   "cell_type": "code",
   "execution_count": 12,
   "metadata": {
    "collapsed": true
   },
   "outputs": [],
   "source": [
    "#ds_id_new = [default_structures_new[i]['id'] for i in range(len(default_structures_new))]"
   ]
  },
  {
   "cell_type": "code",
   "execution_count": 16,
   "metadata": {
    "collapsed": true
   },
   "outputs": [],
   "source": [
    "#len(np.where(np.isin(info['primary_injection_structure'],ds_id_new ))[0])"
   ]
  },
  {
   "cell_type": "code",
   "execution_count": 17,
   "metadata": {
    "collapsed": true
   },
   "outputs": [],
   "source": [
    "#.shape\n",
    "#len(np.where(np.isin(info['primary_injection_structure'],ontological_order ))[0])"
   ]
  },
  {
   "cell_type": "code",
   "execution_count": 13,
   "metadata": {},
   "outputs": [
    {
     "name": "stdout",
     "output_type": "stream",
     "text": [
      "512\n",
      "703\n",
      "1089\n",
      "1097\n",
      "315\n",
      "313\n",
      "354\n",
      "698\n",
      "771\n",
      "803\n",
      "477\n",
      "549\n"
     ]
    }
   ],
   "source": [
    "connectivity_data = get_connectivity_data(cache, major_structure_ids, experiments_exclude, remove_injection = False,structure_set_id = 167587189)\n",
    "\n",
    "connectivity_data.get_injection_hemisphere_ids()\n",
    "connectivity_data.align()\n",
    "connectivity_data.get_centroids()\n",
    "connectivity_data.get_data_matrices(default_structure_ids)\n",
    "connectivity_data.get_crelines(data_info)\n",
    "with open('data/info/leafs.pickle', 'rb') as handle:\n",
    "    leafs = pickle.load(handle)\n",
    "    \n",
    "connectivity_data.ai_map = ai_map\n",
    "connectivity_data.get_summarystructures(data_info)\n",
    "connectivity_data.leafs = leafs"
   ]
  },
  {
   "cell_type": "code",
   "execution_count": 5,
   "metadata": {
    "collapsed": true
   },
   "outputs": [],
   "source": [
    "a = np.zeros(12)\n",
    "for i in range(12):\n",
    "    a[i] = np.unique(len(connectivity_data.structure_datas[major_structure_ids[i]].summary_structures))"
   ]
  },
  {
   "cell_type": "code",
   "execution_count": 6,
   "metadata": {},
   "outputs": [
    {
     "data": {
      "text/plain": [
       "1751.0"
      ]
     },
     "execution_count": 6,
     "metadata": {},
     "output_type": "execute_result"
    }
   ],
   "source": [
    "a.sum()"
   ]
  },
  {
   "cell_type": "code",
   "execution_count": 23,
   "metadata": {
    "collapsed": true
   },
   "outputs": [],
   "source": [
    "a = np.zeros(12)\n",
    "for i in range(12):\n",
    "    a[i] = np.unique(len(connectivity_data.structure_datas[major_structure_ids[i]].summary_structures))"
   ]
  },
  {
   "cell_type": "code",
   "execution_count": 25,
   "metadata": {},
   "outputs": [
    {
     "data": {
      "text/plain": [
       "1751.0"
      ]
     },
     "execution_count": 25,
     "metadata": {},
     "output_type": "execute_result"
    }
   ],
   "source": [
    "a.sum()"
   ]
  },
  {
   "cell_type": "code",
   "execution_count": 27,
   "metadata": {
    "collapsed": true
   },
   "outputs": [],
   "source": [
    "b = np.zeros(12)\n",
    "for i in range(12):\n",
    "    b[i] = np.unique(len(connectivity_data.leafs[major_structure_ids[i]]))"
   ]
  },
  {
   "cell_type": "code",
   "execution_count": 29,
   "metadata": {},
   "outputs": [
    {
     "data": {
      "text/plain": [
       "1751.0"
      ]
     },
     "execution_count": 29,
     "metadata": {},
     "output_type": "execute_result"
    }
   ],
   "source": [
    "b.sum()"
   ]
  },
  {
   "cell_type": "code",
   "execution_count": 7,
   "metadata": {},
   "outputs": [
    {
     "data": {
      "text/plain": [
       "291"
      ]
     },
     "execution_count": 7,
     "metadata": {},
     "output_type": "execute_result"
    }
   ],
   "source": [
    "len(ontological_order)"
   ]
  },
  {
   "cell_type": "code",
   "execution_count": 31,
   "metadata": {},
   "outputs": [
    {
     "data": {
      "text/plain": [
       "315"
      ]
     },
     "execution_count": 31,
     "metadata": {},
     "output_type": "execute_result"
    }
   ],
   "source": [
    "len(ontological_order)"
   ]
  },
  {
   "cell_type": "code",
   "execution_count": 33,
   "metadata": {},
   "outputs": [
    {
     "data": {
      "text/plain": [
       "566"
      ]
     },
     "execution_count": 33,
     "metadata": {},
     "output_type": "execute_result"
    }
   ],
   "source": [
    "len(ontological_order_leaves)"
   ]
  },
  {
   "cell_type": "code",
   "execution_count": 8,
   "metadata": {},
   "outputs": [
    {
     "data": {
      "text/plain": [
       "541"
      ]
     },
     "execution_count": 8,
     "metadata": {},
     "output_type": "execute_result"
    }
   ],
   "source": [
    "ontological_order_leaves = get_leaves_ontologicalorder(connectivity_data, ontological_order)\n",
    "len(ontological_order_leaves)"
   ]
  },
  {
   "cell_type": "code",
   "execution_count": 29,
   "metadata": {},
   "outputs": [
    {
     "data": {
      "text/plain": [
       "(315, 315)"
      ]
     },
     "execution_count": 29,
     "metadata": {},
     "output_type": "execute_result"
    }
   ],
   "source": [
    "len(ontological_order), len(np.unique(ontological_order))"
   ]
  },
  {
   "cell_type": "code",
   "execution_count": 89,
   "metadata": {},
   "outputs": [
    {
     "ename": "IndexError",
     "evalue": "index 565 is out of bounds for axis 0 with size 564",
     "output_type": "error",
     "traceback": [
      "\u001b[0;31m---------------------------------------------------------------------------\u001b[0m",
      "\u001b[0;31mIndexError\u001b[0m                                Traceback (most recent call last)",
      "\u001b[0;32m<ipython-input-89-c0a4914f8aa7>\u001b[0m in \u001b[0;36m<module>\u001b[0;34m\u001b[0m\n\u001b[1;32m     19\u001b[0m \u001b[0mtarget_order\u001b[0m \u001b[0;34m=\u001b[0m \u001b[0;32mlambda\u001b[0m \u001b[0mx\u001b[0m\u001b[0;34m:\u001b[0m \u001b[0mnp\u001b[0m\u001b[0;34m.\u001b[0m\u001b[0marray\u001b[0m\u001b[0;34m(\u001b[0m\u001b[0montological_order_leaves\u001b[0m\u001b[0;34m)\u001b[0m\u001b[0;34m[\u001b[0m\u001b[0mnp\u001b[0m\u001b[0;34m.\u001b[0m\u001b[0misin\u001b[0m\u001b[0;34m(\u001b[0m\u001b[0montological_order_leaves\u001b[0m\u001b[0;34m,\u001b[0m \u001b[0mx\u001b[0m\u001b[0;34m)\u001b[0m\u001b[0;34m]\u001b[0m\u001b[0;34m\u001b[0m\u001b[0;34m\u001b[0m\u001b[0m\n\u001b[1;32m     20\u001b[0m \u001b[0mpermutation\u001b[0m \u001b[0;34m=\u001b[0m \u001b[0;32mlambda\u001b[0m \u001b[0mx\u001b[0m\u001b[0;34m:\u001b[0m \u001b[0mnp\u001b[0m\u001b[0;34m.\u001b[0m\u001b[0margsort\u001b[0m\u001b[0;34m(\u001b[0m\u001b[0mnp\u001b[0m\u001b[0;34m.\u001b[0m\u001b[0margsort\u001b[0m\u001b[0;34m(\u001b[0m\u001b[0mtarget_order\u001b[0m\u001b[0;34m(\u001b[0m\u001b[0mx\u001b[0m\u001b[0;34m)\u001b[0m\u001b[0;34m)\u001b[0m\u001b[0;34m)\u001b[0m\u001b[0;34m\u001b[0m\u001b[0;34m\u001b[0m\u001b[0m\n\u001b[0;32m---> 21\u001b[0;31m targ_ids = np.concatenate([ipsi_target_regions[permutation(ipsi_target_regions)],\n\u001b[0m\u001b[1;32m     22\u001b[0m                            contra_target_regions[permutation(contra_target_regions)]])\n",
      "\u001b[0;31mIndexError\u001b[0m: index 565 is out of bounds for axis 0 with size 564"
     ]
    }
   ],
   "source": [
    "#major division segregation is legacy code but convenient for fast cross validation in major division model\n",
    "#experiments_minor_structures = get_summarystructure_dictionary(connectivity_data, data_info)\n",
    "#get leaves in ontological order.  Where leafs don't exist, uses summary structure\n",
    "ontological_order_leaves = get_leaves_ontologicalorder(connectivity_data, ontological_order)\n",
    "#Key isn't affected by which experiment we choose. This allows default masking to be inherited from the AllenSDK.\n",
    "sid0 = list(connectivity_data.structure_datas.keys())[0]\n",
    "eid0 = list(connectivity_data.structure_datas[sid0].experiment_datas.keys())[0]\n",
    "#Identify keys denoting which voxels correspond to which structure in the ipsi and contra targets.\n",
    "contra_targetkey = connectivity_data.structure_datas[sid0].projection_mask.get_key(structure_ids=ontological_order_leaves, hemisphere_id=1)\n",
    "ipsi_targetkey = connectivity_data.structure_datas[sid0].projection_mask.get_key(structure_ids=ontological_order_leaves, hemisphere_id=2)\n",
    "\n",
    "#contra_targetkey = connectivity_data.structure_datas[sid0].projection_mask.get_key(structure_ids=ontological_order, hemisphere_id=1)\n",
    "#ipsi_targetkey = connectivity_data.structure_datas[sid0].projection_mask.get_key(structure_ids=ontological_order, hemisphere_id=2)\n",
    "#get average intensities of projection structures given ipsi and contra keys\n",
    "#source_key = ontological_order #only relevant here when injection needs to be unionized, but currently a required argument\n",
    "ipsi_target_regions, ipsi_target_counts = nonzero_unique(ipsi_targetkey, return_counts=True)\n",
    "contra_target_regions, contra_target_counts = nonzero_unique(contra_targetkey, return_counts=True)\n",
    "\n",
    "target_order = lambda x: np.array(ontological_order_leaves)[np.isin(ontological_order_leaves, x)]\n",
    "permutation = lambda x: np.argsort(np.argsort(target_order(x)))\n",
    "targ_ids = np.concatenate([ipsi_target_regions[permutation(ipsi_target_regions)],\n",
    "                           contra_target_regions[permutation(contra_target_regions)]])"
   ]
  },
  {
   "cell_type": "code",
   "execution_count": 92,
   "metadata": {},
   "outputs": [
    {
     "name": "stdout",
     "output_type": "stream",
     "text": [
      "564\n",
      "(565,)\n",
      "(564,)\n",
      "(566,)\n",
      "(564,)\n"
     ]
    }
   ],
   "source": [
    "#problem, ipsi_target_regions is too small\n",
    "#redundancy in ipsi_targetkey\n",
    "#redundancy in ontological_order_leaves\n",
    "print(len(np.unique(ontological_order_leaves))) \n",
    "print(np.unique(ipsi_targetkey).shape)\n",
    "print(ipsi_target_regions.shape)\n",
    "print(ontological_order_leaves.shape)\n",
    "print(np.unique(ontological_order_leaves).shape)"
   ]
  },
  {
   "cell_type": "code",
   "execution_count": 93,
   "metadata": {
    "collapsed": true
   },
   "outputs": [],
   "source": [
    "oll = get_leaves_ontologicalorder(connectivity_data, ontological_order)"
   ]
  },
  {
   "cell_type": "code",
   "execution_count": 94,
   "metadata": {},
   "outputs": [
    {
     "data": {
      "text/plain": [
       "2"
      ]
     },
     "execution_count": 94,
     "metadata": {},
     "output_type": "execute_result"
    }
   ],
   "source": [
    "#1098 is present twice\n",
    "Counter(oll)[1098]"
   ]
  },
  {
   "cell_type": "code",
   "execution_count": 110,
   "metadata": {},
   "outputs": [
    {
     "data": {
      "text/plain": [
       "2"
      ]
     },
     "execution_count": 110,
     "metadata": {},
     "output_type": "execute_result"
    }
   ],
   "source": [
    "Counter(oll)[1107]"
   ]
  },
  {
   "cell_type": "code",
   "execution_count": 116,
   "metadata": {},
   "outputs": [
    {
     "data": {
      "text/plain": [
       "('MDRNv', 'MDRNd', 'MDRN')"
      ]
     },
     "execution_count": 116,
     "metadata": {},
     "output_type": "execute_result"
    }
   ],
   "source": [
    "ia_map[1107], ia_map[1098], ia_map[395]"
   ]
  },
  {
   "cell_type": "code",
   "execution_count": 115,
   "metadata": {},
   "outputs": [
    {
     "data": {
      "text/plain": [
       "395"
      ]
     },
     "execution_count": 115,
     "metadata": {},
     "output_type": "execute_result"
    }
   ],
   "source": [
    "ontological_order[277]"
   ]
  },
  {
   "cell_type": "code",
   "execution_count": 103,
   "metadata": {
    "collapsed": true
   },
   "outputs": [],
   "source": [
    "from mcmodels.core import Mask"
   ]
  },
  {
   "cell_type": "code",
   "execution_count": 104,
   "metadata": {
    "collapsed": true
   },
   "outputs": [],
   "source": [
    "projection_mask = Mask.from_cache(cache,structure_ids=167587189,hemisphere_id=3)"
   ]
  },
  {
   "cell_type": "code",
   "execution_count": 107,
   "metadata": {},
   "outputs": [
    {
     "name": "stdout",
     "output_type": "stream",
     "text": [
      "277 [1098, 1107] 0\n",
      "277 [1098, 1107] 1\n",
      "duh 278 1098\n"
     ]
    }
   ],
   "source": [
    "    #it is present as both a child of structure 277 in ontological order, and also as 278 in ontological order\n",
    "    sid0 = list(connectivity_data.structure_datas.keys())[0]\n",
    "    #eid0 = list(connectivity_data.structure_datas[sid0].experiment_datas.keys())[0]\n",
    "    levs = projection_mask.reference_space.structure_tree.child_ids(\n",
    "        ontological_order)\n",
    "    flat_list = np.asarray([item for sublist in levs for item in sublist])\n",
    "\n",
    "    nss = len(levs)\n",
    "    leavves = np.asarray([])\n",
    "    for i in range(nss):\n",
    "        if np.isin(1098, levs[i]):\n",
    "            print(i,levs[i],Counter(leavves)[1098])\n",
    "        if len(levs[i]) > 0:\n",
    "            leavves = np.append(leavves, levs[i])\n",
    "        else:\n",
    "            leavves = np.append(leavves, ontological_order[i])\n",
    "        if np.isin(1098, levs[i]):\n",
    "            print(i,levs[i],Counter(leavves)[1098])\n",
    "        if np.isin(1098,ontological_order[i]):\n",
    "            print('duh',i ,ontological_order[i])"
   ]
  },
  {
   "cell_type": "code",
   "execution_count": null,
   "metadata": {
    "collapsed": true
   },
   "outputs": [],
   "source": []
  },
  {
   "cell_type": "code",
   "execution_count": 101,
   "metadata": {},
   "outputs": [
    {
     "data": {
      "text/plain": [
       "315"
      ]
     },
     "execution_count": 101,
     "metadata": {},
     "output_type": "execute_result"
    }
   ],
   "source": [
    "len(ontological_order)"
   ]
  },
  {
   "cell_type": "code",
   "execution_count": 95,
   "metadata": {},
   "outputs": [
    {
     "name": "stdout",
     "output_type": "stream",
     "text": [
      "277 [1098, 1107] 0\n",
      "277 [1098, 1107] 1\n",
      "duh 278\n"
     ]
    }
   ],
   "source": [
    "    #it is present as both a child of structure 277 in ontological order, and also as 278 in ontological order\n",
    "    sid0 = list(connectivity_data.structure_datas.keys())[0]\n",
    "    #eid0 = list(connectivity_data.structure_datas[sid0].experiment_datas.keys())[0]\n",
    "    levs = connectivity_data.structure_datas[sid0].projection_mask.reference_space.structure_tree.child_ids(\n",
    "        ontological_order)\n",
    "    flat_list = np.asarray([item for sublist in levs for item in sublist])\n",
    "\n",
    "    nss = len(levs)\n",
    "    leavves = np.asarray([])\n",
    "    for i in range(nss):\n",
    "        if np.isin(1098, levs[i]):\n",
    "            print(i,levs[i],Counter(leavves)[1098])\n",
    "        if len(levs[i]) > 0:\n",
    "            leavves = np.append(leavves, levs[i])\n",
    "        else:\n",
    "            leavves = np.append(leavves, ontological_order[i])\n",
    "        if np.isin(1098, levs[i]):\n",
    "            print(i,levs[i],Counter(leavves)[1098])\n",
    "        if np.isin(1098,ontological_order[i]):\n",
    "            print('duh',i )"
   ]
  },
  {
   "cell_type": "code",
   "execution_count": 30,
   "metadata": {
    "collapsed": true
   },
   "outputs": [],
   "source": [
    "from collections import Counter"
   ]
  },
  {
   "cell_type": "code",
   "execution_count": 37,
   "metadata": {},
   "outputs": [
    {
     "data": {
      "text/plain": [
       "array([525, 526])"
      ]
     },
     "execution_count": 37,
     "metadata": {},
     "output_type": "execute_result"
    }
   ],
   "source": [
    "np.asarray(list(Counter(ontological_order_leaves).values())).argsort()[-2:]"
   ]
  },
  {
   "cell_type": "code",
   "execution_count": 38,
   "metadata": {},
   "outputs": [
    {
     "data": {
      "text/plain": [
       "(1098.0, 1107.0)"
      ]
     },
     "execution_count": 38,
     "metadata": {},
     "output_type": "execute_result"
    }
   ],
   "source": [
    "ontological_order_leaves[525], ontological_order_leaves[526]"
   ]
  },
  {
   "cell_type": "code",
   "execution_count": 99,
   "metadata": {},
   "outputs": [
    {
     "data": {
      "text/plain": [
       "('MDRN', 'MDRNd', 'MDRNd')"
      ]
     },
     "execution_count": 99,
     "metadata": {},
     "output_type": "execute_result"
    }
   ],
   "source": [
    "ia_map[ontological_order[277]], ia_map[ontological_order[278]], ia_map[1098]"
   ]
  },
  {
   "cell_type": "code",
   "execution_count": null,
   "metadata": {
    "collapsed": true
   },
   "outputs": [],
   "source": [
    "ontological_order = get_ordered_summary_structures(cache)\n"
   ]
  },
  {
   "cell_type": "code",
   "execution_count": null,
   "metadata": {
    "collapsed": true
   },
   "outputs": [],
   "source": [
    "#MDRNd is listed as a summary structure in the new ontology,\n",
    "#but is still a child of 'MDRN', which is also listed as a summary structure"
   ]
  },
  {
   "cell_type": "code",
   "execution_count": 100,
   "metadata": {},
   "outputs": [
    {
     "data": {
      "text/plain": [
       "<allensdk.core.reference_space.ReferenceSpace at 0xc7d0682d0>"
      ]
     },
     "execution_count": 100,
     "metadata": {},
     "output_type": "execute_result"
    }
   ],
   "source": [
    "connectivity_data.structure_datas[sid0].projection_mask.reference_space"
   ]
  },
  {
   "cell_type": "code",
   "execution_count": null,
   "metadata": {
    "collapsed": true
   },
   "outputs": [],
   "source": []
  },
  {
   "cell_type": "code",
   "execution_count": null,
   "metadata": {
    "collapsed": true
   },
   "outputs": [],
   "source": []
  },
  {
   "cell_type": "code",
   "execution_count": null,
   "metadata": {
    "collapsed": true
   },
   "outputs": [],
   "source": []
  },
  {
   "cell_type": "code",
   "execution_count": null,
   "metadata": {
    "collapsed": true
   },
   "outputs": [],
   "source": []
  },
  {
   "cell_type": "code",
   "execution_count": 50,
   "metadata": {
    "collapsed": true
   },
   "outputs": [],
   "source": [
    "\n",
    "\n",
    "def get_leaves_ontologicalorder(connectivity_data, ontological_order):\n",
    "    '''\n",
    "\n",
    "    :param msvd:\n",
    "    :param ontological_order:\n",
    "    :return: The leaf order associated with the 'ontological_order' of summary structures\n",
    "    '''\n",
    "    sid0 = list(connectivity_data.structure_datas.keys())[0]\n",
    "    #eid0 = list(connectivity_data.structure_datas[sid0].experiment_datas.keys())[0]\n",
    "    levs = connectivity_data.structure_datas[sid0].projection_mask.reference_space.structure_tree.child_ids(\n",
    "        ontological_order)\n",
    "    flat_list = np.asarray([item for sublist in levs for item in sublist])\n",
    "\n",
    "    nss = len(levs)\n",
    "    leavves = np.asarray([])\n",
    "    for i in range(nss):\n",
    "        if len(levs[i]) > 0:\n",
    "            leavves = np.append(leavves, levs[i])\n",
    "        else:\n",
    "            leavves = np.append(leavves, ontological_order[i])\n",
    "    return (leavves)\n"
   ]
  },
  {
   "cell_type": "code",
   "execution_count": 51,
   "metadata": {
    "collapsed": true
   },
   "outputs": [],
   "source": []
  },
  {
   "cell_type": "code",
   "execution_count": 67,
   "metadata": {},
   "outputs": [
    {
     "name": "stdout",
     "output_type": "stream",
     "text": [
      "277 [1098, 1107] 0\n",
      "277 [1098, 1107] 1\n",
      "duh\n"
     ]
    }
   ],
   "source": []
  },
  {
   "cell_type": "code",
   "execution_count": null,
   "metadata": {
    "collapsed": true
   },
   "outputs": [],
   "source": [
    "ontological_order"
   ]
  },
  {
   "cell_type": "code",
   "execution_count": 87,
   "metadata": {},
   "outputs": [
    {
     "data": {
      "text/plain": [
       "[[1098, 1107]]"
      ]
     },
     "execution_count": 87,
     "metadata": {},
     "output_type": "execute_result"
    }
   ],
   "source": [
    "connectivity_data.structure_datas[sid0].projection_mask.reference_space.structure_tree.child_ids(\n",
    "        [395])"
   ]
  },
  {
   "cell_type": "code",
   "execution_count": 88,
   "metadata": {},
   "outputs": [
    {
     "data": {
      "text/plain": [
       "'MDRN'"
      ]
     },
     "execution_count": 88,
     "metadata": {},
     "output_type": "execute_result"
    }
   ],
   "source": [
    "ia_map[395]"
   ]
  },
  {
   "cell_type": "code",
   "execution_count": 72,
   "metadata": {},
   "outputs": [
    {
     "data": {
      "text/plain": [
       "395"
      ]
     },
     "execution_count": 72,
     "metadata": {},
     "output_type": "execute_result"
    }
   ],
   "source": [
    "ontological_order[277]"
   ]
  },
  {
   "cell_type": "code",
   "execution_count": 80,
   "metadata": {},
   "outputs": [
    {
     "data": {
      "text/plain": [
       "((315,),\n",
       " ['FRP',\n",
       "  'MOp',\n",
       "  'MOs',\n",
       "  'SSp-n',\n",
       "  'SSp-bfd',\n",
       "  'SSp-ll',\n",
       "  'SSp-m',\n",
       "  'SSp-ul',\n",
       "  'SSp-tr',\n",
       "  'SSp-un',\n",
       "  'SSs',\n",
       "  'GU',\n",
       "  'VISC',\n",
       "  'AUDd',\n",
       "  'AUDp',\n",
       "  'AUDpo',\n",
       "  'AUDv',\n",
       "  'VISal',\n",
       "  'VISam',\n",
       "  'VISl',\n",
       "  'VISp',\n",
       "  'VISpl',\n",
       "  'VISpm',\n",
       "  'VISli',\n",
       "  'VISpor',\n",
       "  'ACAd',\n",
       "  'ACAv',\n",
       "  'PL',\n",
       "  'ILA',\n",
       "  'ORBl',\n",
       "  'ORBm',\n",
       "  'ORBvl',\n",
       "  'AId',\n",
       "  'AIp',\n",
       "  'AIv',\n",
       "  'RSPagl',\n",
       "  'RSPd',\n",
       "  'RSPv',\n",
       "  'VISa',\n",
       "  'VISrl',\n",
       "  'TEa',\n",
       "  'PERI',\n",
       "  'ECT',\n",
       "  'MOB',\n",
       "  'AOB',\n",
       "  'AON',\n",
       "  'TT',\n",
       "  'DP',\n",
       "  'PIR',\n",
       "  'NLOT',\n",
       "  'COAa',\n",
       "  'COAp',\n",
       "  'PAA',\n",
       "  'TR',\n",
       "  'CA1',\n",
       "  'CA2',\n",
       "  'CA3',\n",
       "  'DG',\n",
       "  'FC',\n",
       "  'IG',\n",
       "  'ENTl',\n",
       "  'ENTm',\n",
       "  'PAR',\n",
       "  'POST',\n",
       "  'PRE',\n",
       "  'SUB',\n",
       "  'ProS',\n",
       "  'HATA',\n",
       "  'APr',\n",
       "  'CLA',\n",
       "  'EPd',\n",
       "  'EPv',\n",
       "  'LA',\n",
       "  'BLA',\n",
       "  'BMA',\n",
       "  'PA',\n",
       "  'CP',\n",
       "  'ACB',\n",
       "  'FS',\n",
       "  'OT',\n",
       "  'LSc',\n",
       "  'LSr',\n",
       "  'LSv',\n",
       "  'SF',\n",
       "  'SH',\n",
       "  'AAA',\n",
       "  'BA',\n",
       "  'CEA',\n",
       "  'IA',\n",
       "  'MEA',\n",
       "  'GPe',\n",
       "  'GPi',\n",
       "  'SI',\n",
       "  'MA',\n",
       "  'MS',\n",
       "  'NDB',\n",
       "  'TRS',\n",
       "  'BST',\n",
       "  'BAC',\n",
       "  'VAL',\n",
       "  'VM',\n",
       "  'VPL',\n",
       "  'VPLpc',\n",
       "  'VPM',\n",
       "  'VPMpc',\n",
       "  'PoT',\n",
       "  'SPFm',\n",
       "  'SPFp',\n",
       "  'SPA',\n",
       "  'PP',\n",
       "  'MG',\n",
       "  'LGd',\n",
       "  'LP',\n",
       "  'PO',\n",
       "  'POL',\n",
       "  'SGN',\n",
       "  'AV',\n",
       "  'AM',\n",
       "  'AD',\n",
       "  'IAM',\n",
       "  'IAD',\n",
       "  'LD',\n",
       "  'IMD',\n",
       "  'MD',\n",
       "  'SMT',\n",
       "  'PR',\n",
       "  'PVT',\n",
       "  'PT',\n",
       "  'RE',\n",
       "  'Xi',\n",
       "  'RH',\n",
       "  'CM',\n",
       "  'PCN',\n",
       "  'CL',\n",
       "  'PF',\n",
       "  'PIL',\n",
       "  'RT',\n",
       "  'IGL',\n",
       "  'IntG',\n",
       "  'LGv',\n",
       "  'SubG',\n",
       "  'MH',\n",
       "  'LH',\n",
       "  'SO',\n",
       "  'ASO',\n",
       "  'PVH',\n",
       "  'PVa',\n",
       "  'PVi',\n",
       "  'ARH',\n",
       "  'ADP',\n",
       "  'AVP',\n",
       "  'AVPV',\n",
       "  'DMH',\n",
       "  'MEPO',\n",
       "  'MPO',\n",
       "  'OV',\n",
       "  'PD',\n",
       "  'PS',\n",
       "  'PVp',\n",
       "  'PVpo',\n",
       "  'SBPV',\n",
       "  'SCH',\n",
       "  'SFO',\n",
       "  'VMPO',\n",
       "  'VLPO',\n",
       "  'AHN',\n",
       "  'LM',\n",
       "  'MM',\n",
       "  'SUM',\n",
       "  'TMd',\n",
       "  'TMv',\n",
       "  'MPN',\n",
       "  'PMd',\n",
       "  'PMv',\n",
       "  'PVHd',\n",
       "  'VMH',\n",
       "  'PH',\n",
       "  'LHA',\n",
       "  'LPO',\n",
       "  'PST',\n",
       "  'PSTN',\n",
       "  'PeF',\n",
       "  'RCH',\n",
       "  'STN',\n",
       "  'TU',\n",
       "  'ZI',\n",
       "  'ME',\n",
       "  'SCs',\n",
       "  'IC',\n",
       "  'NB',\n",
       "  'SAG',\n",
       "  'PBG',\n",
       "  'MEV',\n",
       "  'SCO',\n",
       "  'SNr',\n",
       "  'VTA',\n",
       "  'PN',\n",
       "  'RR',\n",
       "  'MRN',\n",
       "  'SCm',\n",
       "  'PAG',\n",
       "  'APN',\n",
       "  'MPT',\n",
       "  'NOT',\n",
       "  'NPC',\n",
       "  'OP',\n",
       "  'PPT',\n",
       "  'CUN',\n",
       "  'RN',\n",
       "  'III',\n",
       "  'MA3',\n",
       "  'EW',\n",
       "  'IV',\n",
       "  'Pa4',\n",
       "  'VTN',\n",
       "  'AT',\n",
       "  'LT',\n",
       "  'DT',\n",
       "  'MT',\n",
       "  'SNc',\n",
       "  'PPN',\n",
       "  'IF',\n",
       "  'IPN',\n",
       "  'RL',\n",
       "  'CLI',\n",
       "  'DR',\n",
       "  'NLL',\n",
       "  'PSV',\n",
       "  'PB',\n",
       "  'SOC',\n",
       "  'B',\n",
       "  'DTN',\n",
       "  'PDTg',\n",
       "  'PCG',\n",
       "  'PG',\n",
       "  'PRNc',\n",
       "  'SG',\n",
       "  'SUT',\n",
       "  'TRN',\n",
       "  'V',\n",
       "  'P5',\n",
       "  'Acs5',\n",
       "  'PC5',\n",
       "  'I5',\n",
       "  'CS',\n",
       "  'LC',\n",
       "  'LDT',\n",
       "  'NI',\n",
       "  'PRNr',\n",
       "  'RPO',\n",
       "  'SLC',\n",
       "  'SLD',\n",
       "  'AP',\n",
       "  'DCO',\n",
       "  'VCO',\n",
       "  'CU',\n",
       "  'GR',\n",
       "  'ECU',\n",
       "  'NTB',\n",
       "  'NTS',\n",
       "  'SPVC',\n",
       "  'SPVI',\n",
       "  'SPVO',\n",
       "  'Pa5',\n",
       "  'VI',\n",
       "  'VII',\n",
       "  'ACVII',\n",
       "  'AMB',\n",
       "  'DMX',\n",
       "  'GRN',\n",
       "  'ICB',\n",
       "  'IO',\n",
       "  'IRN',\n",
       "  'ISN',\n",
       "  'LIN',\n",
       "  'LRN',\n",
       "  'MARN',\n",
       "  'MDRN',\n",
       "  'MDRNd',\n",
       "  'MDRNv',\n",
       "  'PARN',\n",
       "  'PAS',\n",
       "  'PGRNd',\n",
       "  'PGRNl',\n",
       "  'NR',\n",
       "  'PRP',\n",
       "  'PPY',\n",
       "  'LAV',\n",
       "  'MV',\n",
       "  'SPIV',\n",
       "  'SUV',\n",
       "  'x',\n",
       "  'XII',\n",
       "  'y',\n",
       "  'RM',\n",
       "  'RPA',\n",
       "  'RO',\n",
       "  'LING',\n",
       "  'CENT',\n",
       "  'CUL',\n",
       "  'DEC',\n",
       "  'FOTU',\n",
       "  'PYR',\n",
       "  'UVU',\n",
       "  'NOD',\n",
       "  'SIM',\n",
       "  'AN',\n",
       "  'PRM',\n",
       "  'COPY',\n",
       "  'PFL',\n",
       "  'FL',\n",
       "  'FN',\n",
       "  'IP',\n",
       "  'DN',\n",
       "  'VeCB'])"
      ]
     },
     "execution_count": 80,
     "metadata": {},
     "output_type": "execute_result"
    }
   ],
   "source": [
    "ontological_order.shape, [ia_map[ontological_order[i]] for i in range(len(ontological_order))]"
   ]
  },
  {
   "cell_type": "code",
   "execution_count": 81,
   "metadata": {
    "collapsed": true
   },
   "outputs": [],
   "source": [
    "hhh = np.asarray([ia_map[ontological_order[i]] for i in range(len(ontological_order))])"
   ]
  },
  {
   "cell_type": "code",
   "execution_count": 84,
   "metadata": {},
   "outputs": [
    {
     "data": {
      "text/plain": [
       "(array([], dtype=int64),)"
      ]
     },
     "execution_count": 84,
     "metadata": {},
     "output_type": "execute_result"
    }
   ],
   "source": [
    "np.where(hhh == 'stp')"
   ]
  },
  {
   "cell_type": "code",
   "execution_count": 71,
   "metadata": {},
   "outputs": [
    {
     "data": {
      "text/plain": [
       "[1098, 1107]"
      ]
     },
     "execution_count": 71,
     "metadata": {},
     "output_type": "execute_result"
    }
   ],
   "source": [
    "levs[277]"
   ]
  },
  {
   "cell_type": "code",
   "execution_count": 70,
   "metadata": {},
   "outputs": [
    {
     "data": {
      "text/plain": [
       "[[]]"
      ]
     },
     "execution_count": 70,
     "metadata": {},
     "output_type": "execute_result"
    }
   ],
   "source": [
    "connectivity_data.structure_datas[sid0].projection_mask.reference_space.structure_tree.child_ids(\n",
    "        [1098])"
   ]
  },
  {
   "cell_type": "code",
   "execution_count": 73,
   "metadata": {},
   "outputs": [
    {
     "data": {
      "text/plain": [
       "[[1098, 1107]]"
      ]
     },
     "execution_count": 73,
     "metadata": {},
     "output_type": "execute_result"
    }
   ],
   "source": [
    "connectivity_data.structure_datas[sid0].projection_mask.reference_space.structure_tree.child_ids(\n",
    "        [395])"
   ]
  },
  {
   "cell_type": "code",
   "execution_count": 75,
   "metadata": {
    "scrolled": true
   },
   "outputs": [
    {
     "data": {
      "text/plain": [
       "('MDRN', 'stp', 'MDRNd')"
      ]
     },
     "execution_count": 75,
     "metadata": {},
     "output_type": "execute_result"
    }
   ],
   "source": [
    "ia_map[395], ia_map[277], ia_map[1098]"
   ]
  },
  {
   "cell_type": "code",
   "execution_count": 86,
   "metadata": {
    "collapsed": true
   },
   "outputs": [],
   "source": []
  },
  {
   "cell_type": "code",
   "execution_count": 76,
   "metadata": {},
   "outputs": [
    {
     "data": {
      "text/plain": [
       "'sAMY'"
      ]
     },
     "execution_count": 76,
     "metadata": {},
     "output_type": "execute_result"
    }
   ],
   "source": [
    "ia_map[278]"
   ]
  },
  {
   "cell_type": "code",
   "execution_count": 69,
   "metadata": {},
   "outputs": [
    {
     "data": {
      "text/plain": [
       "array(True)"
      ]
     },
     "execution_count": 69,
     "metadata": {},
     "output_type": "execute_result"
    }
   ],
   "source": [
    "np.isin(1098,ontological_order)"
   ]
  },
  {
   "cell_type": "code",
   "execution_count": 66,
   "metadata": {},
   "outputs": [
    {
     "data": {
      "text/plain": [
       "2"
      ]
     },
     "execution_count": 66,
     "metadata": {},
     "output_type": "execute_result"
    }
   ],
   "source": []
  },
  {
   "cell_type": "code",
   "execution_count": 62,
   "metadata": {},
   "outputs": [
    {
     "data": {
      "text/plain": [
       "array([525, 526])"
      ]
     },
     "execution_count": 62,
     "metadata": {},
     "output_type": "execute_result"
    }
   ],
   "source": [
    "np.asarray(list(Counter(leavves).values())).argsort()[-2:]"
   ]
  },
  {
   "cell_type": "code",
   "execution_count": 54,
   "metadata": {},
   "outputs": [
    {
     "data": {
      "text/plain": [
       "Counter({68.0: 1,\n",
       "         667.0: 1,\n",
       "         526157192.0: 1,\n",
       "         526157196.0: 1,\n",
       "         526322264.0: 1,\n",
       "         320.0: 1,\n",
       "         943.0: 1,\n",
       "         648.0: 1,\n",
       "         844.0: 1,\n",
       "         882.0: 1,\n",
       "         656.0: 1,\n",
       "         962.0: 1,\n",
       "         767.0: 1,\n",
       "         1021.0: 1,\n",
       "         1085.0: 1,\n",
       "         558.0: 1,\n",
       "         838.0: 1,\n",
       "         654.0: 1,\n",
       "         702.0: 1,\n",
       "         889.0: 1,\n",
       "         929.0: 1,\n",
       "         981.0: 1,\n",
       "         201.0: 1,\n",
       "         1047.0: 1,\n",
       "         1070.0: 1,\n",
       "         1038.0: 1,\n",
       "         1062.0: 1,\n",
       "         1030.0: 1,\n",
       "         113.0: 1,\n",
       "         1094.0: 1,\n",
       "         1128.0: 1,\n",
       "         478.0: 1,\n",
       "         510.0: 1,\n",
       "         878.0: 1,\n",
       "         657.0: 1,\n",
       "         950.0: 1,\n",
       "         974.0: 1,\n",
       "         1102.0: 1,\n",
       "         2.0: 1,\n",
       "         450.0: 1,\n",
       "         854.0: 1,\n",
       "         577.0: 1,\n",
       "         625.0: 1,\n",
       "         945.0: 1,\n",
       "         1026.0: 1,\n",
       "         1006.0: 1,\n",
       "         670.0: 1,\n",
       "         1086.0: 1,\n",
       "         1111.0: 1,\n",
       "         9.0: 1,\n",
       "         461.0: 1,\n",
       "         182305693.0: 1,\n",
       "         182305697.0: 1,\n",
       "         182305701.0: 1,\n",
       "         182305705.0: 1,\n",
       "         182305709.0: 1,\n",
       "         182305713.0: 1,\n",
       "         873.0: 1,\n",
       "         806.0: 1,\n",
       "         1035.0: 1,\n",
       "         1090.0: 1,\n",
       "         862.0: 1,\n",
       "         893.0: 1,\n",
       "         36.0: 1,\n",
       "         180.0: 1,\n",
       "         148.0: 1,\n",
       "         187.0: 1,\n",
       "         638.0: 1,\n",
       "         662.0: 1,\n",
       "         897.0: 1,\n",
       "         1106.0: 1,\n",
       "         1010.0: 1,\n",
       "         1058.0: 1,\n",
       "         857.0: 1,\n",
       "         849.0: 1,\n",
       "         527.0: 1,\n",
       "         600.0: 1,\n",
       "         678.0: 1,\n",
       "         252.0: 1,\n",
       "         156.0: 1,\n",
       "         243.0: 1,\n",
       "         735.0: 1,\n",
       "         251.0: 1,\n",
       "         816.0: 1,\n",
       "         847.0: 1,\n",
       "         954.0: 1,\n",
       "         1005.0: 1,\n",
       "         696.0: 1,\n",
       "         643.0: 1,\n",
       "         759.0: 1,\n",
       "         791.0: 1,\n",
       "         249.0: 1,\n",
       "         456.0: 1,\n",
       "         959.0: 1,\n",
       "         755.0: 1,\n",
       "         990.0: 1,\n",
       "         1023.0: 1,\n",
       "         520.0: 1,\n",
       "         598.0: 1,\n",
       "         1074.0: 1,\n",
       "         905.0: 1,\n",
       "         1114.0: 1,\n",
       "         233.0: 1,\n",
       "         601.0: 1,\n",
       "         649.0: 1,\n",
       "         281.0: 1,\n",
       "         1066.0: 1,\n",
       "         401.0: 1,\n",
       "         433.0: 1,\n",
       "         1046.0: 1,\n",
       "         441.0: 1,\n",
       "         421.0: 1,\n",
       "         973.0: 1,\n",
       "         573.0: 1,\n",
       "         613.0: 1,\n",
       "         74.0: 1,\n",
       "         121.0: 1,\n",
       "         593.0: 1,\n",
       "         821.0: 1,\n",
       "         721.0: 1,\n",
       "         778.0: 1,\n",
       "         33.0: 1,\n",
       "         305.0: 1,\n",
       "         750.0: 1,\n",
       "         269.0: 1,\n",
       "         869.0: 1,\n",
       "         902.0: 1,\n",
       "         377.0: 1,\n",
       "         393.0: 1,\n",
       "         805.0: 1,\n",
       "         41.0: 1,\n",
       "         501.0: 1,\n",
       "         565.0: 1,\n",
       "         257.0: 1,\n",
       "         469.0: 1,\n",
       "         312782578.0: 1,\n",
       "         312782582.0: 1,\n",
       "         312782586.0: 1,\n",
       "         312782590.0: 1,\n",
       "         312782594.0: 1,\n",
       "         312782598.0: 1,\n",
       "         312782632.0: 1,\n",
       "         312782636.0: 1,\n",
       "         312782640.0: 1,\n",
       "         312782644.0: 1,\n",
       "         312782648.0: 1,\n",
       "         312782652.0: 1,\n",
       "         935.0: 1,\n",
       "         211.0: 1,\n",
       "         1015.0: 1,\n",
       "         919.0: 1,\n",
       "         927.0: 1,\n",
       "         588.0: 1,\n",
       "         296.0: 1,\n",
       "         772.0: 1,\n",
       "         810.0: 1,\n",
       "         819.0: 1,\n",
       "         171.0: 1,\n",
       "         304.0: 1,\n",
       "         363.0: 1,\n",
       "         84.0: 1,\n",
       "         132.0: 1,\n",
       "         707.0: 1,\n",
       "         556.0: 1,\n",
       "         827.0: 1,\n",
       "         1054.0: 1,\n",
       "         1081.0: 1,\n",
       "         448.0: 1,\n",
       "         412.0: 1,\n",
       "         630.0: 1,\n",
       "         440.0: 1,\n",
       "         488.0: 1,\n",
       "         484.0: 1,\n",
       "         582.0: 1,\n",
       "         620.0: 1,\n",
       "         910.0: 1,\n",
       "         527696977.0: 1,\n",
       "         969.0: 1,\n",
       "         288.0: 1,\n",
       "         1125.0: 1,\n",
       "         608.0: 1,\n",
       "         680.0: 1,\n",
       "         996.0: 1,\n",
       "         328.0: 1,\n",
       "         1101.0: 1,\n",
       "         783.0: 1,\n",
       "         831.0: 1,\n",
       "         120.0: 1,\n",
       "         163.0: 1,\n",
       "         344.0: 1,\n",
       "         314.0: 1,\n",
       "         355.0: 1,\n",
       "         704.0: 1,\n",
       "         694.0: 1,\n",
       "         800.0: 1,\n",
       "         675.0: 1,\n",
       "         699.0: 1,\n",
       "         671.0: 1,\n",
       "         965.0: 1,\n",
       "         774.0: 1,\n",
       "         906.0: 1,\n",
       "         279.0: 1,\n",
       "         442.0: 1,\n",
       "         434.0: 1,\n",
       "         610.0: 1,\n",
       "         274.0: 1,\n",
       "         330.0: 1,\n",
       "         542.0: 1,\n",
       "         430.0: 1,\n",
       "         687.0: 1,\n",
       "         590.0: 1,\n",
       "         622.0: 1,\n",
       "         312782550.0: 1,\n",
       "         312782554.0: 1,\n",
       "         312782558.0: 1,\n",
       "         312782562.0: 1,\n",
       "         312782566.0: 1,\n",
       "         312782570.0: 1,\n",
       "         312782604.0: 1,\n",
       "         312782608.0: 1,\n",
       "         312782612.0: 1,\n",
       "         312782616.0: 1,\n",
       "         312782620.0: 1,\n",
       "         312782624.0: 1,\n",
       "         97.0: 1,\n",
       "         1127.0: 1,\n",
       "         234.0: 1,\n",
       "         289.0: 1,\n",
       "         729.0: 1,\n",
       "         786.0: 1,\n",
       "         540.0: 1,\n",
       "         888.0: 1,\n",
       "         692.0: 1,\n",
       "         335.0: 1,\n",
       "         368.0: 1,\n",
       "         836.0: 1,\n",
       "         427.0: 1,\n",
       "         988.0: 1,\n",
       "         977.0: 1,\n",
       "         1045.0: 1,\n",
       "         507.0: 1,\n",
       "         188.0: 1,\n",
       "         196.0: 1,\n",
       "         204.0: 1,\n",
       "         159.0: 1,\n",
       "         597.0: 1,\n",
       "         605.0: 1,\n",
       "         814.0: 1,\n",
       "         961.0: 1,\n",
       "         260.0: 1,\n",
       "         268.0: 1,\n",
       "         1139.0: 1,\n",
       "         639.0: 1,\n",
       "         655.0: 1,\n",
       "         663.0: 1,\n",
       "         788.0: 1,\n",
       "         566.0: 1,\n",
       "         382.0: 1,\n",
       "         423.0: 1,\n",
       "         463.0: 1,\n",
       "         10703.0: 1,\n",
       "         10704.0: 1,\n",
       "         632.0: 1,\n",
       "         982.0: 1,\n",
       "         19.0: 1,\n",
       "         1121.0: 1,\n",
       "         20.0: 1,\n",
       "         52.0: 1,\n",
       "         139.0: 1,\n",
       "         28.0: 1,\n",
       "         526.0: 1,\n",
       "         543.0: 1,\n",
       "         664.0: 1,\n",
       "         727.0: 1,\n",
       "         743.0: 1,\n",
       "         843.0: 1,\n",
       "         1037.0: 1,\n",
       "         1084.0: 1,\n",
       "         502.0: 1,\n",
       "         484682470.0: 1,\n",
       "         589508447.0: 1,\n",
       "         484682508.0: 1,\n",
       "         583.0: 1,\n",
       "         952.0: 1,\n",
       "         966.0: 1,\n",
       "         131.0: 1,\n",
       "         303.0: 1,\n",
       "         311.0: 1,\n",
       "         451.0: 1,\n",
       "         327.0: 1,\n",
       "         334.0: 1,\n",
       "         780.0: 1,\n",
       "         672.0: 1,\n",
       "         56.0: 1,\n",
       "         998.0: 1,\n",
       "         754.0: 1,\n",
       "         250.0: 1,\n",
       "         258.0: 1,\n",
       "         266.0: 1,\n",
       "         310.0: 1,\n",
       "         333.0: 1,\n",
       "         23.0: 1,\n",
       "         292.0: 1,\n",
       "         544.0: 1,\n",
       "         551.0: 1,\n",
       "         559.0: 1,\n",
       "         1105.0: 1,\n",
       "         403.0: 1,\n",
       "         1022.0: 1,\n",
       "         1031.0: 1,\n",
       "         342.0: 1,\n",
       "         298.0: 1,\n",
       "         564.0: 1,\n",
       "         596.0: 1,\n",
       "         581.0: 1,\n",
       "         351.0: 1,\n",
       "         287.0: 1,\n",
       "         629.0: 1,\n",
       "         685.0: 1,\n",
       "         718.0: 1,\n",
       "         725.0: 1,\n",
       "         733.0: 1,\n",
       "         741.0: 1,\n",
       "         563807435.0: 1,\n",
       "         414.0: 1,\n",
       "         422.0: 1,\n",
       "         609.0: 1,\n",
       "         1044.0: 1,\n",
       "         1072.0: 1,\n",
       "         1079.0: 1,\n",
       "         1088.0: 1,\n",
       "         496345664.0: 1,\n",
       "         496345668.0: 1,\n",
       "         496345672.0: 1,\n",
       "         218.0: 1,\n",
       "         1020.0: 1,\n",
       "         1029.0: 1,\n",
       "         325.0: 1,\n",
       "         255.0: 1,\n",
       "         1096.0: 1,\n",
       "         1104.0: 1,\n",
       "         64.0: 1,\n",
       "         1120.0: 1,\n",
       "         1113.0: 1,\n",
       "         155.0: 1,\n",
       "         59.0: 1,\n",
       "         362.0: 1,\n",
       "         366.0: 1,\n",
       "         1077.0: 1,\n",
       "         149.0: 1,\n",
       "         15.0: 1,\n",
       "         181.0: 1,\n",
       "         560581559.0: 1,\n",
       "         189.0: 1,\n",
       "         599.0: 1,\n",
       "         907.0: 1,\n",
       "         575.0: 1,\n",
       "         930.0: 1,\n",
       "         560581563.0: 1,\n",
       "         262.0: 1,\n",
       "         27.0: 1,\n",
       "         563807439.0: 1,\n",
       "         178.0: 1,\n",
       "         321.0: 1,\n",
       "         483.0: 1,\n",
       "         186.0: 1,\n",
       "         390.0: 1,\n",
       "         332.0: 1,\n",
       "         38.0: 1,\n",
       "         30.0: 1,\n",
       "         118.0: 1,\n",
       "         223.0: 1,\n",
       "         72.0: 1,\n",
       "         263.0: 1,\n",
       "         272.0: 1,\n",
       "         830.0: 1,\n",
       "         452.0: 1,\n",
       "         523.0: 1,\n",
       "         763.0: 1,\n",
       "         914.0: 1,\n",
       "         1109.0: 1,\n",
       "         126.0: 1,\n",
       "         133.0: 1,\n",
       "         347.0: 1,\n",
       "         286.0: 1,\n",
       "         338.0: 1,\n",
       "         576073699.0: 1,\n",
       "         689.0: 1,\n",
       "         88.0: 1,\n",
       "         210.0: 1,\n",
       "         732.0: 1,\n",
       "         606826647.0: 1,\n",
       "         606826651.0: 1,\n",
       "         606826655.0: 1,\n",
       "         606826659.0: 1,\n",
       "         525.0: 1,\n",
       "         1126.0: 1,\n",
       "         1.0: 1,\n",
       "         515.0: 1,\n",
       "         980.0: 1,\n",
       "         1004.0: 1,\n",
       "         63.0: 1,\n",
       "         693.0: 1,\n",
       "         946.0: 1,\n",
       "         194.0: 1,\n",
       "         226.0: 1,\n",
       "         356.0: 1,\n",
       "         364.0: 1,\n",
       "         576073704.0: 1,\n",
       "         173.0: 1,\n",
       "         470.0: 1,\n",
       "         614.0: 1,\n",
       "         804.0: 1,\n",
       "         10671.0: 1,\n",
       "         851.0: 1,\n",
       "         842.0: 1,\n",
       "         834.0: 1,\n",
       "         811.0: 1,\n",
       "         820.0: 1,\n",
       "         828.0: 1,\n",
       "         580.0: 1,\n",
       "         271.0: 1,\n",
       "         874.0: 1,\n",
       "         460.0: 1,\n",
       "         599626923.0: 1,\n",
       "         381.0: 1,\n",
       "         749.0: 1,\n",
       "         607344830.0: 1,\n",
       "         246.0: 1,\n",
       "         128.0: 1,\n",
       "         26.0: 1,\n",
       "         42.0: 1,\n",
       "         17.0: 1,\n",
       "         10.0: 1,\n",
       "         50.0: 1,\n",
       "         67.0: 1,\n",
       "         587.0: 1,\n",
       "         614454277.0: 1,\n",
       "         215.0: 1,\n",
       "         531.0: 1,\n",
       "         628.0: 1,\n",
       "         634.0: 1,\n",
       "         706.0: 1,\n",
       "         1061.0: 1,\n",
       "         616.0: 1,\n",
       "         214.0: 1,\n",
       "         35.0: 1,\n",
       "         549009211.0: 1,\n",
       "         975.0: 1,\n",
       "         115.0: 1,\n",
       "         606826663.0: 1,\n",
       "         757.0: 1,\n",
       "         231.0: 1,\n",
       "         66.0: 1,\n",
       "         75.0: 1,\n",
       "         58.0: 1,\n",
       "         374.0: 1,\n",
       "         1052.0: 1,\n",
       "         12.0: 1,\n",
       "         607344834.0: 1,\n",
       "         607344838.0: 1,\n",
       "         607344842.0: 1,\n",
       "         607344846.0: 1,\n",
       "         607344850.0: 1,\n",
       "         607344854.0: 1,\n",
       "         607344858.0: 1,\n",
       "         607344862.0: 1,\n",
       "         197.0: 1,\n",
       "         591.0: 1,\n",
       "         872.0: 1,\n",
       "         612.0: 1,\n",
       "         7.0: 1,\n",
       "         123.0: 1,\n",
       "         122.0: 1,\n",
       "         105.0: 1,\n",
       "         114.0: 1,\n",
       "         280.0: 1,\n",
       "         880.0: 1,\n",
       "         599626927.0: 1,\n",
       "         898.0: 1,\n",
       "         931.0: 1,\n",
       "         1093.0: 1,\n",
       "         318.0: 1,\n",
       "         534.0: 1,\n",
       "         574.0: 1,\n",
       "         621.0: 1,\n",
       "         549009215.0: 1,\n",
       "         549009219.0: 1,\n",
       "         549009223.0: 1,\n",
       "         549009227.0: 1,\n",
       "         679.0: 1,\n",
       "         147.0: 1,\n",
       "         162.0: 1,\n",
       "         604.0: 1,\n",
       "         146.0: 1,\n",
       "         238.0: 1,\n",
       "         350.0: 1,\n",
       "         358.0: 1,\n",
       "         207.0: 1,\n",
       "         96.0: 1,\n",
       "         101.0: 1,\n",
       "         711.0: 1,\n",
       "         1039.0: 1,\n",
       "         903.0: 1,\n",
       "         642.0: 1,\n",
       "         651.0: 1,\n",
       "         429.0: 1,\n",
       "         437.0: 1,\n",
       "         445.0: 1,\n",
       "         589508451.0: 1,\n",
       "         653.0: 1,\n",
       "         661.0: 1,\n",
       "         576.0: 1,\n",
       "         939.0: 1,\n",
       "         143.0: 1,\n",
       "         839.0: 1,\n",
       "         1048.0: 1,\n",
       "         372.0: 1,\n",
       "         83.0: 1,\n",
       "         136.0: 1,\n",
       "         106.0: 1,\n",
       "         203.0: 1,\n",
       "         955.0: 1,\n",
       "         963.0: 1,\n",
       "         307.0: 1,\n",
       "         1098.0: 2,\n",
       "         1107.0: 2,\n",
       "         852.0: 1,\n",
       "         859.0: 1,\n",
       "         970.0: 1,\n",
       "         978.0: 1,\n",
       "         177.0: 1,\n",
       "         169.0: 1,\n",
       "         1069.0: 1,\n",
       "         209.0: 1,\n",
       "         202.0: 1,\n",
       "         225.0: 1,\n",
       "         217.0: 1,\n",
       "         765.0: 1,\n",
       "         773.0: 1,\n",
       "         781.0: 1,\n",
       "         206.0: 1,\n",
       "         230.0: 1,\n",
       "         222.0: 1,\n",
       "         912.0: 1,\n",
       "         976.0: 1,\n",
       "         984.0: 1,\n",
       "         1091.0: 1,\n",
       "         936.0: 1,\n",
       "         944.0: 1,\n",
       "         951.0: 1,\n",
       "         957.0: 1,\n",
       "         968.0: 1,\n",
       "         1007.0: 1,\n",
       "         1056.0: 1,\n",
       "         1064.0: 1,\n",
       "         1025.0: 1,\n",
       "         1033.0: 1,\n",
       "         1041.0: 1,\n",
       "         1049.0: 1,\n",
       "         989.0: 1,\n",
       "         91.0: 1,\n",
       "         846.0: 1,\n",
       "         589508455.0: 1})"
      ]
     },
     "execution_count": 54,
     "metadata": {},
     "output_type": "execute_result"
    }
   ],
   "source": [
    "Counter(oll)"
   ]
  },
  {
   "cell_type": "code",
   "execution_count": 41,
   "metadata": {
    "collapsed": true
   },
   "outputs": [],
   "source": [
    "\n",
    "    sid0 = list(connectivity_data.structure_datas.keys())[0]\n",
    "    #eid0 = list(connectivity_data.structure_datas[sid0].experiment_datas.keys())[0]\n",
    "    levs = connectivity_data.structure_datas[sid0].projection_mask.reference_space.structure_tree.child_ids(\n",
    "        ontological_order)\n",
    "    #flat_list = np.asarray([item for sublist in levs for item in sublist])\n",
    "\n"
   ]
  },
  {
   "cell_type": "code",
   "execution_count": 48,
   "metadata": {},
   "outputs": [
    {
     "name": "stdout",
     "output_type": "stream",
     "text": [
      "277\n"
     ]
    }
   ],
   "source": [
    "    nss = len(levs)\n",
    "    leavves = np.asarray([])\n",
    "    for i in range(nss):\n",
    "        if np.isin(1098, levs[i]):\n",
    "            print(i)"
   ]
  },
  {
   "cell_type": "code",
   "execution_count": 49,
   "metadata": {},
   "outputs": [
    {
     "data": {
      "text/plain": [
       "[1098, 1107]"
      ]
     },
     "execution_count": 49,
     "metadata": {},
     "output_type": "execute_result"
    }
   ],
   "source": [
    "levs[277]"
   ]
  },
  {
   "cell_type": "code",
   "execution_count": 45,
   "metadata": {},
   "outputs": [
    {
     "data": {
      "text/plain": [
       "(315,)"
      ]
     },
     "execution_count": 45,
     "metadata": {},
     "output_type": "execute_result"
    }
   ],
   "source": [
    "ontological_order.shape"
   ]
  },
  {
   "cell_type": "code",
   "execution_count": 39,
   "metadata": {},
   "outputs": [
    {
     "data": {
      "text/plain": [
       "('MDRNd', 'MDRNv')"
      ]
     },
     "execution_count": 39,
     "metadata": {},
     "output_type": "execute_result"
    }
   ],
   "source": [
    "ia_map[1098], ia_map[1107]"
   ]
  },
  {
   "cell_type": "code",
   "execution_count": 27,
   "metadata": {},
   "outputs": [
    {
     "data": {
      "text/plain": [
       "564"
      ]
     },
     "execution_count": 27,
     "metadata": {},
     "output_type": "execute_result"
    }
   ],
   "source": []
  },
  {
   "cell_type": "code",
   "execution_count": 25,
   "metadata": {},
   "outputs": [
    {
     "data": {
      "text/plain": [
       "(565,)"
      ]
     },
     "execution_count": 25,
     "metadata": {},
     "output_type": "execute_result"
    }
   ],
   "source": []
  },
  {
   "cell_type": "code",
   "execution_count": 22,
   "metadata": {},
   "outputs": [
    {
     "data": {
      "text/plain": [
       "((564,), (566,))"
      ]
     },
     "execution_count": 22,
     "metadata": {},
     "output_type": "execute_result"
    }
   ],
   "source": []
  },
  {
   "cell_type": "code",
   "execution_count": 57,
   "metadata": {},
   "outputs": [
    {
     "data": {
      "text/plain": [
       "(array([525, 527]),)"
      ]
     },
     "execution_count": 57,
     "metadata": {},
     "output_type": "execute_result"
    }
   ],
   "source": [
    "np.where(ontological_order_leaves == 1098.0)"
   ]
  },
  {
   "cell_type": "code",
   "execution_count": 55,
   "metadata": {},
   "outputs": [
    {
     "data": {
      "text/plain": [
       "Counter({68.0: 1,\n",
       "         667.0: 1,\n",
       "         526157192.0: 1,\n",
       "         526157196.0: 1,\n",
       "         526322264.0: 1,\n",
       "         320.0: 1,\n",
       "         943.0: 1,\n",
       "         648.0: 1,\n",
       "         844.0: 1,\n",
       "         882.0: 1,\n",
       "         656.0: 1,\n",
       "         962.0: 1,\n",
       "         767.0: 1,\n",
       "         1021.0: 1,\n",
       "         1085.0: 1,\n",
       "         558.0: 1,\n",
       "         838.0: 1,\n",
       "         654.0: 1,\n",
       "         702.0: 1,\n",
       "         889.0: 1,\n",
       "         929.0: 1,\n",
       "         981.0: 1,\n",
       "         201.0: 1,\n",
       "         1047.0: 1,\n",
       "         1070.0: 1,\n",
       "         1038.0: 1,\n",
       "         1062.0: 1,\n",
       "         1030.0: 1,\n",
       "         113.0: 1,\n",
       "         1094.0: 1,\n",
       "         1128.0: 1,\n",
       "         478.0: 1,\n",
       "         510.0: 1,\n",
       "         878.0: 1,\n",
       "         657.0: 1,\n",
       "         950.0: 1,\n",
       "         974.0: 1,\n",
       "         1102.0: 1,\n",
       "         2.0: 1,\n",
       "         450.0: 1,\n",
       "         854.0: 1,\n",
       "         577.0: 1,\n",
       "         625.0: 1,\n",
       "         945.0: 1,\n",
       "         1026.0: 1,\n",
       "         1006.0: 1,\n",
       "         670.0: 1,\n",
       "         1086.0: 1,\n",
       "         1111.0: 1,\n",
       "         9.0: 1,\n",
       "         461.0: 1,\n",
       "         182305693.0: 1,\n",
       "         182305697.0: 1,\n",
       "         182305701.0: 1,\n",
       "         182305705.0: 1,\n",
       "         182305709.0: 1,\n",
       "         182305713.0: 1,\n",
       "         873.0: 1,\n",
       "         806.0: 1,\n",
       "         1035.0: 1,\n",
       "         1090.0: 1,\n",
       "         862.0: 1,\n",
       "         893.0: 1,\n",
       "         36.0: 1,\n",
       "         180.0: 1,\n",
       "         148.0: 1,\n",
       "         187.0: 1,\n",
       "         638.0: 1,\n",
       "         662.0: 1,\n",
       "         897.0: 1,\n",
       "         1106.0: 1,\n",
       "         1010.0: 1,\n",
       "         1058.0: 1,\n",
       "         857.0: 1,\n",
       "         849.0: 1,\n",
       "         527.0: 1,\n",
       "         600.0: 1,\n",
       "         678.0: 1,\n",
       "         252.0: 1,\n",
       "         156.0: 1,\n",
       "         243.0: 1,\n",
       "         735.0: 1,\n",
       "         251.0: 1,\n",
       "         816.0: 1,\n",
       "         847.0: 1,\n",
       "         954.0: 1,\n",
       "         1005.0: 1,\n",
       "         696.0: 1,\n",
       "         643.0: 1,\n",
       "         759.0: 1,\n",
       "         791.0: 1,\n",
       "         249.0: 1,\n",
       "         456.0: 1,\n",
       "         959.0: 1,\n",
       "         755.0: 1,\n",
       "         990.0: 1,\n",
       "         1023.0: 1,\n",
       "         520.0: 1,\n",
       "         598.0: 1,\n",
       "         1074.0: 1,\n",
       "         905.0: 1,\n",
       "         1114.0: 1,\n",
       "         233.0: 1,\n",
       "         601.0: 1,\n",
       "         649.0: 1,\n",
       "         281.0: 1,\n",
       "         1066.0: 1,\n",
       "         401.0: 1,\n",
       "         433.0: 1,\n",
       "         1046.0: 1,\n",
       "         441.0: 1,\n",
       "         421.0: 1,\n",
       "         973.0: 1,\n",
       "         573.0: 1,\n",
       "         613.0: 1,\n",
       "         74.0: 1,\n",
       "         121.0: 1,\n",
       "         593.0: 1,\n",
       "         821.0: 1,\n",
       "         721.0: 1,\n",
       "         778.0: 1,\n",
       "         33.0: 1,\n",
       "         305.0: 1,\n",
       "         750.0: 1,\n",
       "         269.0: 1,\n",
       "         869.0: 1,\n",
       "         902.0: 1,\n",
       "         377.0: 1,\n",
       "         393.0: 1,\n",
       "         805.0: 1,\n",
       "         41.0: 1,\n",
       "         501.0: 1,\n",
       "         565.0: 1,\n",
       "         257.0: 1,\n",
       "         469.0: 1,\n",
       "         312782578.0: 1,\n",
       "         312782582.0: 1,\n",
       "         312782586.0: 1,\n",
       "         312782590.0: 1,\n",
       "         312782594.0: 1,\n",
       "         312782598.0: 1,\n",
       "         312782632.0: 1,\n",
       "         312782636.0: 1,\n",
       "         312782640.0: 1,\n",
       "         312782644.0: 1,\n",
       "         312782648.0: 1,\n",
       "         312782652.0: 1,\n",
       "         935.0: 1,\n",
       "         211.0: 1,\n",
       "         1015.0: 1,\n",
       "         919.0: 1,\n",
       "         927.0: 1,\n",
       "         588.0: 1,\n",
       "         296.0: 1,\n",
       "         772.0: 1,\n",
       "         810.0: 1,\n",
       "         819.0: 1,\n",
       "         171.0: 1,\n",
       "         304.0: 1,\n",
       "         363.0: 1,\n",
       "         84.0: 1,\n",
       "         132.0: 1,\n",
       "         707.0: 1,\n",
       "         556.0: 1,\n",
       "         827.0: 1,\n",
       "         1054.0: 1,\n",
       "         1081.0: 1,\n",
       "         448.0: 1,\n",
       "         412.0: 1,\n",
       "         630.0: 1,\n",
       "         440.0: 1,\n",
       "         488.0: 1,\n",
       "         484.0: 1,\n",
       "         582.0: 1,\n",
       "         620.0: 1,\n",
       "         910.0: 1,\n",
       "         527696977.0: 1,\n",
       "         969.0: 1,\n",
       "         288.0: 1,\n",
       "         1125.0: 1,\n",
       "         608.0: 1,\n",
       "         680.0: 1,\n",
       "         996.0: 1,\n",
       "         328.0: 1,\n",
       "         1101.0: 1,\n",
       "         783.0: 1,\n",
       "         831.0: 1,\n",
       "         120.0: 1,\n",
       "         163.0: 1,\n",
       "         344.0: 1,\n",
       "         314.0: 1,\n",
       "         355.0: 1,\n",
       "         704.0: 1,\n",
       "         694.0: 1,\n",
       "         800.0: 1,\n",
       "         675.0: 1,\n",
       "         699.0: 1,\n",
       "         671.0: 1,\n",
       "         965.0: 1,\n",
       "         774.0: 1,\n",
       "         906.0: 1,\n",
       "         279.0: 1,\n",
       "         442.0: 1,\n",
       "         434.0: 1,\n",
       "         610.0: 1,\n",
       "         274.0: 1,\n",
       "         330.0: 1,\n",
       "         542.0: 1,\n",
       "         430.0: 1,\n",
       "         687.0: 1,\n",
       "         590.0: 1,\n",
       "         622.0: 1,\n",
       "         312782550.0: 1,\n",
       "         312782554.0: 1,\n",
       "         312782558.0: 1,\n",
       "         312782562.0: 1,\n",
       "         312782566.0: 1,\n",
       "         312782570.0: 1,\n",
       "         312782604.0: 1,\n",
       "         312782608.0: 1,\n",
       "         312782612.0: 1,\n",
       "         312782616.0: 1,\n",
       "         312782620.0: 1,\n",
       "         312782624.0: 1,\n",
       "         97.0: 1,\n",
       "         1127.0: 1,\n",
       "         234.0: 1,\n",
       "         289.0: 1,\n",
       "         729.0: 1,\n",
       "         786.0: 1,\n",
       "         540.0: 1,\n",
       "         888.0: 1,\n",
       "         692.0: 1,\n",
       "         335.0: 1,\n",
       "         368.0: 1,\n",
       "         836.0: 1,\n",
       "         427.0: 1,\n",
       "         988.0: 1,\n",
       "         977.0: 1,\n",
       "         1045.0: 1,\n",
       "         507.0: 1,\n",
       "         188.0: 1,\n",
       "         196.0: 1,\n",
       "         204.0: 1,\n",
       "         159.0: 1,\n",
       "         597.0: 1,\n",
       "         605.0: 1,\n",
       "         814.0: 1,\n",
       "         961.0: 1,\n",
       "         260.0: 1,\n",
       "         268.0: 1,\n",
       "         1139.0: 1,\n",
       "         639.0: 1,\n",
       "         655.0: 1,\n",
       "         663.0: 1,\n",
       "         788.0: 1,\n",
       "         566.0: 1,\n",
       "         382.0: 1,\n",
       "         423.0: 1,\n",
       "         463.0: 1,\n",
       "         10703.0: 1,\n",
       "         10704.0: 1,\n",
       "         632.0: 1,\n",
       "         982.0: 1,\n",
       "         19.0: 1,\n",
       "         1121.0: 1,\n",
       "         20.0: 1,\n",
       "         52.0: 1,\n",
       "         139.0: 1,\n",
       "         28.0: 1,\n",
       "         526.0: 1,\n",
       "         543.0: 1,\n",
       "         664.0: 1,\n",
       "         727.0: 1,\n",
       "         743.0: 1,\n",
       "         843.0: 1,\n",
       "         1037.0: 1,\n",
       "         1084.0: 1,\n",
       "         502.0: 1,\n",
       "         484682470.0: 1,\n",
       "         589508447.0: 1,\n",
       "         484682508.0: 1,\n",
       "         583.0: 1,\n",
       "         952.0: 1,\n",
       "         966.0: 1,\n",
       "         131.0: 1,\n",
       "         303.0: 1,\n",
       "         311.0: 1,\n",
       "         451.0: 1,\n",
       "         327.0: 1,\n",
       "         334.0: 1,\n",
       "         780.0: 1,\n",
       "         672.0: 1,\n",
       "         56.0: 1,\n",
       "         998.0: 1,\n",
       "         754.0: 1,\n",
       "         250.0: 1,\n",
       "         258.0: 1,\n",
       "         266.0: 1,\n",
       "         310.0: 1,\n",
       "         333.0: 1,\n",
       "         23.0: 1,\n",
       "         292.0: 1,\n",
       "         544.0: 1,\n",
       "         551.0: 1,\n",
       "         559.0: 1,\n",
       "         1105.0: 1,\n",
       "         403.0: 1,\n",
       "         1022.0: 1,\n",
       "         1031.0: 1,\n",
       "         342.0: 1,\n",
       "         298.0: 1,\n",
       "         564.0: 1,\n",
       "         596.0: 1,\n",
       "         581.0: 1,\n",
       "         351.0: 1,\n",
       "         287.0: 1,\n",
       "         629.0: 1,\n",
       "         685.0: 1,\n",
       "         718.0: 1,\n",
       "         725.0: 1,\n",
       "         733.0: 1,\n",
       "         741.0: 1,\n",
       "         563807435.0: 1,\n",
       "         414.0: 1,\n",
       "         422.0: 1,\n",
       "         609.0: 1,\n",
       "         1044.0: 1,\n",
       "         1072.0: 1,\n",
       "         1079.0: 1,\n",
       "         1088.0: 1,\n",
       "         496345664.0: 1,\n",
       "         496345668.0: 1,\n",
       "         496345672.0: 1,\n",
       "         218.0: 1,\n",
       "         1020.0: 1,\n",
       "         1029.0: 1,\n",
       "         325.0: 1,\n",
       "         255.0: 1,\n",
       "         1096.0: 1,\n",
       "         1104.0: 1,\n",
       "         64.0: 1,\n",
       "         1120.0: 1,\n",
       "         1113.0: 1,\n",
       "         155.0: 1,\n",
       "         59.0: 1,\n",
       "         362.0: 1,\n",
       "         366.0: 1,\n",
       "         1077.0: 1,\n",
       "         149.0: 1,\n",
       "         15.0: 1,\n",
       "         181.0: 1,\n",
       "         560581559.0: 1,\n",
       "         189.0: 1,\n",
       "         599.0: 1,\n",
       "         907.0: 1,\n",
       "         575.0: 1,\n",
       "         930.0: 1,\n",
       "         560581563.0: 1,\n",
       "         262.0: 1,\n",
       "         27.0: 1,\n",
       "         563807439.0: 1,\n",
       "         178.0: 1,\n",
       "         321.0: 1,\n",
       "         483.0: 1,\n",
       "         186.0: 1,\n",
       "         390.0: 1,\n",
       "         332.0: 1,\n",
       "         38.0: 1,\n",
       "         30.0: 1,\n",
       "         118.0: 1,\n",
       "         223.0: 1,\n",
       "         72.0: 1,\n",
       "         263.0: 1,\n",
       "         272.0: 1,\n",
       "         830.0: 1,\n",
       "         452.0: 1,\n",
       "         523.0: 1,\n",
       "         763.0: 1,\n",
       "         914.0: 1,\n",
       "         1109.0: 1,\n",
       "         126.0: 1,\n",
       "         133.0: 1,\n",
       "         347.0: 1,\n",
       "         286.0: 1,\n",
       "         338.0: 1,\n",
       "         576073699.0: 1,\n",
       "         689.0: 1,\n",
       "         88.0: 1,\n",
       "         210.0: 1,\n",
       "         732.0: 1,\n",
       "         606826647.0: 1,\n",
       "         606826651.0: 1,\n",
       "         606826655.0: 1,\n",
       "         606826659.0: 1,\n",
       "         525.0: 1,\n",
       "         1126.0: 1,\n",
       "         1.0: 1,\n",
       "         515.0: 1,\n",
       "         980.0: 1,\n",
       "         1004.0: 1,\n",
       "         63.0: 1,\n",
       "         693.0: 1,\n",
       "         946.0: 1,\n",
       "         194.0: 1,\n",
       "         226.0: 1,\n",
       "         356.0: 1,\n",
       "         364.0: 1,\n",
       "         576073704.0: 1,\n",
       "         173.0: 1,\n",
       "         470.0: 1,\n",
       "         614.0: 1,\n",
       "         804.0: 1,\n",
       "         10671.0: 1,\n",
       "         851.0: 1,\n",
       "         842.0: 1,\n",
       "         834.0: 1,\n",
       "         811.0: 1,\n",
       "         820.0: 1,\n",
       "         828.0: 1,\n",
       "         580.0: 1,\n",
       "         271.0: 1,\n",
       "         874.0: 1,\n",
       "         460.0: 1,\n",
       "         599626923.0: 1,\n",
       "         381.0: 1,\n",
       "         749.0: 1,\n",
       "         607344830.0: 1,\n",
       "         246.0: 1,\n",
       "         128.0: 1,\n",
       "         26.0: 1,\n",
       "         42.0: 1,\n",
       "         17.0: 1,\n",
       "         10.0: 1,\n",
       "         50.0: 1,\n",
       "         67.0: 1,\n",
       "         587.0: 1,\n",
       "         614454277.0: 1,\n",
       "         215.0: 1,\n",
       "         531.0: 1,\n",
       "         628.0: 1,\n",
       "         634.0: 1,\n",
       "         706.0: 1,\n",
       "         1061.0: 1,\n",
       "         616.0: 1,\n",
       "         214.0: 1,\n",
       "         35.0: 1,\n",
       "         549009211.0: 1,\n",
       "         975.0: 1,\n",
       "         115.0: 1,\n",
       "         606826663.0: 1,\n",
       "         757.0: 1,\n",
       "         231.0: 1,\n",
       "         66.0: 1,\n",
       "         75.0: 1,\n",
       "         58.0: 1,\n",
       "         374.0: 1,\n",
       "         1052.0: 1,\n",
       "         12.0: 1,\n",
       "         607344834.0: 1,\n",
       "         607344838.0: 1,\n",
       "         607344842.0: 1,\n",
       "         607344846.0: 1,\n",
       "         607344850.0: 1,\n",
       "         607344854.0: 1,\n",
       "         607344858.0: 1,\n",
       "         607344862.0: 1,\n",
       "         197.0: 1,\n",
       "         591.0: 1,\n",
       "         872.0: 1,\n",
       "         612.0: 1,\n",
       "         7.0: 1,\n",
       "         123.0: 1,\n",
       "         122.0: 1,\n",
       "         105.0: 1,\n",
       "         114.0: 1,\n",
       "         280.0: 1,\n",
       "         880.0: 1,\n",
       "         599626927.0: 1,\n",
       "         898.0: 1,\n",
       "         931.0: 1,\n",
       "         1093.0: 1,\n",
       "         318.0: 1,\n",
       "         534.0: 1,\n",
       "         574.0: 1,\n",
       "         621.0: 1,\n",
       "         549009215.0: 1,\n",
       "         549009219.0: 1,\n",
       "         549009223.0: 1,\n",
       "         549009227.0: 1,\n",
       "         679.0: 1,\n",
       "         147.0: 1,\n",
       "         162.0: 1,\n",
       "         604.0: 1,\n",
       "         146.0: 1,\n",
       "         238.0: 1,\n",
       "         350.0: 1,\n",
       "         358.0: 1,\n",
       "         207.0: 1,\n",
       "         96.0: 1,\n",
       "         101.0: 1,\n",
       "         711.0: 1,\n",
       "         1039.0: 1,\n",
       "         903.0: 1,\n",
       "         642.0: 1,\n",
       "         651.0: 1,\n",
       "         429.0: 1,\n",
       "         437.0: 1,\n",
       "         445.0: 1,\n",
       "         589508451.0: 1,\n",
       "         653.0: 1,\n",
       "         661.0: 1,\n",
       "         576.0: 1,\n",
       "         939.0: 1,\n",
       "         143.0: 1,\n",
       "         839.0: 1,\n",
       "         1048.0: 1,\n",
       "         372.0: 1,\n",
       "         83.0: 1,\n",
       "         136.0: 1,\n",
       "         106.0: 1,\n",
       "         203.0: 1,\n",
       "         955.0: 1,\n",
       "         963.0: 1,\n",
       "         307.0: 1,\n",
       "         1098.0: 2,\n",
       "         1107.0: 2,\n",
       "         852.0: 1,\n",
       "         859.0: 1,\n",
       "         970.0: 1,\n",
       "         978.0: 1,\n",
       "         177.0: 1,\n",
       "         169.0: 1,\n",
       "         1069.0: 1,\n",
       "         209.0: 1,\n",
       "         202.0: 1,\n",
       "         225.0: 1,\n",
       "         217.0: 1,\n",
       "         765.0: 1,\n",
       "         773.0: 1,\n",
       "         781.0: 1,\n",
       "         206.0: 1,\n",
       "         230.0: 1,\n",
       "         222.0: 1,\n",
       "         912.0: 1,\n",
       "         976.0: 1,\n",
       "         984.0: 1,\n",
       "         1091.0: 1,\n",
       "         936.0: 1,\n",
       "         944.0: 1,\n",
       "         951.0: 1,\n",
       "         957.0: 1,\n",
       "         968.0: 1,\n",
       "         1007.0: 1,\n",
       "         1056.0: 1,\n",
       "         1064.0: 1,\n",
       "         1025.0: 1,\n",
       "         1033.0: 1,\n",
       "         1041.0: 1,\n",
       "         1049.0: 1,\n",
       "         989.0: 1,\n",
       "         91.0: 1,\n",
       "         846.0: 1,\n",
       "         589508455.0: 1})"
      ]
     },
     "execution_count": 55,
     "metadata": {},
     "output_type": "execute_result"
    }
   ],
   "source": [
    "Counter(ontological_order_leaves)"
   ]
  },
  {
   "cell_type": "code",
   "execution_count": 56,
   "metadata": {},
   "outputs": [
    {
     "data": {
      "text/plain": [
       "(array([525, 527]),)"
      ]
     },
     "execution_count": 56,
     "metadata": {},
     "output_type": "execute_result"
    }
   ],
   "source": [
    "np.where(ontological_order_leaves == 1098)"
   ]
  },
  {
   "cell_type": "code",
   "execution_count": 20,
   "metadata": {},
   "outputs": [
    {
     "ename": "IndexError",
     "evalue": "index 565 is out of bounds for axis 0 with size 564",
     "output_type": "error",
     "traceback": [
      "\u001b[0;31m---------------------------------------------------------------------------\u001b[0m",
      "\u001b[0;31mIndexError\u001b[0m                                Traceback (most recent call last)",
      "\u001b[0;32m<ipython-input-20-dddc929461bc>\u001b[0m in \u001b[0;36m<module>\u001b[0;34m\u001b[0m\n\u001b[0;32m----> 1\u001b[0;31m \u001b[0mipsi_target_regions\u001b[0m\u001b[0;34m[\u001b[0m\u001b[0mpermutation\u001b[0m\u001b[0;34m(\u001b[0m\u001b[0mipsi_target_regions\u001b[0m\u001b[0;34m)\u001b[0m\u001b[0;34m]\u001b[0m\u001b[0;34m\u001b[0m\u001b[0;34m\u001b[0m\u001b[0m\n\u001b[0m",
      "\u001b[0;31mIndexError\u001b[0m: index 565 is out of bounds for axis 0 with size 564"
     ]
    }
   ],
   "source": [
    "ipsi_target_regions[permutation(ipsi_target_regions)]"
   ]
  },
  {
   "cell_type": "code",
   "execution_count": 17,
   "metadata": {},
   "outputs": [
    {
     "data": {
      "text/plain": [
       "(566,)"
      ]
     },
     "execution_count": 17,
     "metadata": {},
     "output_type": "execute_result"
    }
   ],
   "source": [
    "permutation(ipsi_target_regions).shape"
   ]
  },
  {
   "cell_type": "code",
   "execution_count": 18,
   "metadata": {},
   "outputs": [
    {
     "data": {
      "text/plain": [
       "(561,)"
      ]
     },
     "execution_count": 18,
     "metadata": {},
     "output_type": "execute_result"
    }
   ],
   "source": [
    "permutation(contra_target_regions).shape"
   ]
  },
  {
   "cell_type": "code",
   "execution_count": 19,
   "metadata": {},
   "outputs": [
    {
     "ename": "IndexError",
     "evalue": "index 560 is out of bounds for axis 0 with size 559",
     "output_type": "error",
     "traceback": [
      "\u001b[0;31m---------------------------------------------------------------------------\u001b[0m",
      "\u001b[0;31mIndexError\u001b[0m                                Traceback (most recent call last)",
      "\u001b[0;32m<ipython-input-19-c1398dad998f>\u001b[0m in \u001b[0;36m<module>\u001b[0;34m\u001b[0m\n\u001b[0;32m----> 1\u001b[0;31m \u001b[0mcontra_target_regions\u001b[0m\u001b[0;34m[\u001b[0m\u001b[0mpermutation\u001b[0m\u001b[0;34m(\u001b[0m\u001b[0mcontra_target_regions\u001b[0m\u001b[0;34m)\u001b[0m\u001b[0;34m]\u001b[0m\u001b[0;34m\u001b[0m\u001b[0;34m\u001b[0m\u001b[0m\n\u001b[0m",
      "\u001b[0;31mIndexError\u001b[0m: index 560 is out of bounds for axis 0 with size 559"
     ]
    }
   ],
   "source": [
    "contra_target_regions[permutation(contra_target_regions)]"
   ]
  },
  {
   "cell_type": "code",
   "execution_count": 30,
   "metadata": {},
   "outputs": [
    {
     "ename": "NameError",
     "evalue": "name 'ipsi_targetkey' is not defined",
     "output_type": "error",
     "traceback": [
      "\u001b[0;31m---------------------------------------------------------------------------\u001b[0m",
      "\u001b[0;31mNameError\u001b[0m                                 Traceback (most recent call last)",
      "\u001b[0;32m<ipython-input-30-5d8c5d871ffe>\u001b[0m in \u001b[0;36m<module>\u001b[0;34m\u001b[0m\n\u001b[0;32m----> 1\u001b[0;31m \u001b[0mconnectivity_data\u001b[0m\u001b[0;34m.\u001b[0m\u001b[0mget_regionalized_normalized_data\u001b[0m\u001b[0;34m(\u001b[0m\u001b[0montological_order\u001b[0m\u001b[0;34m,\u001b[0m \u001b[0mipsi_targetkey\u001b[0m\u001b[0;34m,\u001b[0m \u001b[0mcontra_targetkey\u001b[0m\u001b[0;34m)\u001b[0m\u001b[0;34m\u001b[0m\u001b[0;34m\u001b[0m\u001b[0m\n\u001b[0m\u001b[1;32m      2\u001b[0m \u001b[0mconnectivity_data\u001b[0m\u001b[0;34m.\u001b[0m\u001b[0mget_creleaf_combos\u001b[0m\u001b[0;34m(\u001b[0m\u001b[0;34m)\u001b[0m\u001b[0;34m\u001b[0m\u001b[0;34m\u001b[0m\u001b[0m\n\u001b[1;32m      3\u001b[0m \u001b[0mconnectivity_data\u001b[0m\u001b[0;34m.\u001b[0m\u001b[0mleaf2_index_matrices\u001b[0m \u001b[0;34m=\u001b[0m \u001b[0mget_indices_2ormore\u001b[0m\u001b[0;34m(\u001b[0m\u001b[0mconnectivity_data\u001b[0m\u001b[0;34m.\u001b[0m\u001b[0mleafs\u001b[0m\u001b[0;34m)\u001b[0m\u001b[0;34m\u001b[0m\u001b[0;34m\u001b[0m\u001b[0m\n\u001b[1;32m      4\u001b[0m \u001b[0mconnectivity_data\u001b[0m\u001b[0;34m.\u001b[0m\u001b[0mcreleaf2_index_matrices\u001b[0m \u001b[0;34m=\u001b[0m \u001b[0mget_indices_2ormore\u001b[0m\u001b[0;34m(\u001b[0m\u001b[0mconnectivity_data\u001b[0m\u001b[0;34m.\u001b[0m\u001b[0mcreleaf_combos\u001b[0m\u001b[0;34m)\u001b[0m\u001b[0;34m\u001b[0m\u001b[0;34m\u001b[0m\u001b[0m\n",
      "\u001b[0;31mNameError\u001b[0m: name 'ipsi_targetkey' is not defined"
     ]
    }
   ],
   "source": [
    "connectivity_data.get_regionalized_normalized_data(ontological_order, ipsi_targetkey, contra_targetkey)\n",
    "connectivity_data.get_creleaf_combos()\n",
    "connectivity_data.leaf2_index_matrices = get_indices_2ormore(connectivity_data.leafs)\n",
    "connectivity_data.creleaf2_index_matrices = get_indices_2ormore(connectivity_data.creleaf_combos)"
   ]
  },
  {
   "cell_type": "code",
   "execution_count": null,
   "metadata": {
    "collapsed": true
   },
   "outputs": [],
   "source": []
  }
 ],
 "metadata": {
  "kernelspec": {
   "display_name": "allen_010719_5",
   "language": "python",
   "name": "allen_010719_5"
  },
  "language_info": {
   "codemirror_mode": {
    "name": "ipython",
    "version": 3
   },
   "file_extension": ".py",
   "mimetype": "text/x-python",
   "name": "python",
   "nbconvert_exporter": "python",
   "pygments_lexer": "ipython3",
   "version": "3.7.6"
  }
 },
 "nbformat": 4,
 "nbformat_minor": 2
}

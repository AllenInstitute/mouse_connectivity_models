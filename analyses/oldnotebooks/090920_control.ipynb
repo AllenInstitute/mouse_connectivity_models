{
 "cells": [
  {
   "cell_type": "code",
   "execution_count": 1,
   "metadata": {},
   "outputs": [
    {
     "name": "stderr",
     "output_type": "stream",
     "text": [
      "/Users/samsonkoelle/anaconda3/envs/allen_010719_5/lib/python3.7/site-packages/sklearn/utils/deprecation.py:144: FutureWarning: The sklearn.linear_model.base module is  deprecated in version 0.22 and will be removed in version 0.24. The corresponding classes / functions should instead be imported from sklearn.linear_model. Anything that cannot be imported from sklearn.linear_model is now part of the private API.\n",
      "  warnings.warn(message, FutureWarning)\n",
      "/Users/samsonkoelle/anaconda3/envs/allen_010719_5/lib/python3.7/site-packages/sklearn/utils/deprecation.py:144: FutureWarning: The sklearn.metrics.scorer module is  deprecated in version 0.22 and will be removed in version 0.24. The corresponding classes / functions should instead be imported from sklearn.metrics. Anything that cannot be imported from sklearn.metrics is now part of the private API.\n",
      "  warnings.warn(message, FutureWarning)\n"
     ]
    }
   ],
   "source": [
    "%load_ext autoreload\n",
    "%autoreload 2\n",
    "\n",
    "import os\n",
    "import numpy as np\n",
    "import pandas as pd \n",
    "import sys\n",
    "import pickle\n",
    "import itertools\n",
    "import seaborn as sns\n",
    "import matplotlib.pyplot as plt\n",
    "from mpl_toolkits.mplot3d import Axes3D\n",
    "import random\n",
    "from sklearn.metrics import pairwise_distances\n",
    "\n",
    "workingdirectory = os.popen('git rev-parse --show-toplevel').read()[:-1]\n",
    "sys.path.append(workingdirectory)\n",
    "os.chdir(workingdirectory)\n",
    "from mcmodels.regressors import NadarayaWatson\n",
    "import math\n",
    "\n",
    "import allensdk.core.json_utilities as ju\n",
    "from allensdk.core.mouse_connectivity_cache import MouseConnectivityCache\n",
    "from sklearn.kernel_ridge import KernelRidge\n",
    "\n",
    "from mcmodels.core import Mask,ModelData,VoxelModelCache\n",
    "from mcmodels.core.utils import get_structure_id, get_ordered_summary_structures,get_minorstructures,get_loss_paper\n",
    "from mcmodels.utils import nonzero_unique, unionize\n",
    "from mcmodels.core.experiment import get_voxeldata_msvd\n",
    "from mcmodels.models.crossvalidation import get_best_hyperparameters,get_loss_best_hyp,get_loocv_predictions,get_loss\n",
    "from mcmodels.core.utils import get_cre_status,get_minorstructure_dictionary,get_leaves_ontologicalorder\n",
    "from mcmodels.core.utils import get_regionalized_normalized_data\n",
    "from mcmodels.core.utils import get_connectivity\n",
    "from mcmodels.core.utils import get_ontological_order_leaf\n",
    "from mcmodels.core.utils import get_nw_loocv,get_wt_inds\n",
    "from mcmodels.core.utils import get_countvec\n",
    "from mcmodels.core.utils import get_injection_hemisphere_id"
   ]
  },
  {
   "cell_type": "code",
   "execution_count": 2,
   "metadata": {
    "collapsed": true
   },
   "outputs": [],
   "source": [
    "#read data\n",
    "TOP_DIR = '/Users/samsonkoelle/alleninstitute/mcm_2020/mcm_updated/'\n",
    "INPUT_JSON = os.path.join(TOP_DIR, 'input_011520.json')\n",
    "EXPERIMENTS_EXCLUDE_JSON = os.path.join(TOP_DIR, 'experiments_exclude.json')\n",
    "FILE_DIR = '/Users/samsonkoelle/alleninstitute/mcm_2020/mcm_updated/'\n",
    "OUTPUT_DIR = os.path.join(FILE_DIR, 'output')\n",
    "\n",
    "input_data = ju.read(INPUT_JSON)\n",
    "manifest_file = input_data.get('manifest_file')\n",
    "manifest_file = os.path.join(TOP_DIR, manifest_file)\n",
    "experiments_exclude = ju.read(EXPERIMENTS_EXCLUDE_JSON)\n",
    "\n",
    "#its unclear why the hyperparameters are loaded from the output directory\n",
    "cache = VoxelModelCache(manifest_file=manifest_file)\n",
    "major_structures = input_data.get('structures')\n",
    "major_structure_ids = [get_structure_id(cache, s) for s in major_structures]\n",
    "data_info = pd.read_excel('/Users/samsonkoelle/alleninstitute/Whole Brain Cre Image Series_curation only.xlsx', 'all datasets curated_070919pull')\n",
    "data_info.set_index(\"id\", inplace=True)\n",
    "ontological_order = get_ordered_summary_structures(cache)\n",
    "\n",
    "mcc = MouseConnectivityCache(manifest_file = '../connectivity/mouse_connectivity_manifest.json')\n",
    "st = mcc.get_structure_tree()\n",
    "ai_map = st.get_id_acronym_map()\n",
    "ia_map = {value: key for key, value in ai_map.items()}\n",
    "\n",
    "#regionalize voxel model: compare with regional model\n",
    "#regional parameters\n",
    "cre = None\n",
    "eid_set=None\n",
    "high_res=False\n",
    "threshold_injection = False\n",
    "\n",
    "COARSE_STRUCTURE_SET_ID = 2\n",
    "DEFAULT_STRUCTURE_SET_IDS = tuple([COARSE_STRUCTURE_SET_ID])\n",
    "tree = cache.get_structure_tree()\n",
    "default_structures = tree.get_structures_by_set_id(DEFAULT_STRUCTURE_SET_IDS)\n",
    "default_structure_ids = [st['id'] for st in default_structures if st['id'] != 934]\n",
    "#cre= True"
   ]
  },
  {
   "cell_type": "code",
   "execution_count": 3,
   "metadata": {
    "collapsed": true
   },
   "outputs": [],
   "source": [
    "def get_ccf_data(cache, experiment_id):\n",
    "\n",
    "    eid_data = ExperimentData(experiment_id)\n",
    "    eid_data.data_quality_mask = cache.get_data_mask(experiment_id)[0]\n",
    "    eid_data.injection_signal = cache.get_injection_density(experiment_id)[0]\n",
    "    eid_data.injection_fraction = cache.get_injection_fraction(experiment_id)[0]\n",
    "    eid_data.projection_signal = cache.get_projection_density(experiment_id)[0]\n",
    "    return(eid_data)\n",
    "#     return {\n",
    "#         \"data_quality_mask\" : cache.get_data_mask(experiment_id)[0],\n",
    "#         \"injection_signal\" : cache.get_injection_density(experiment_id)[0],\n",
    "#         \"injection_fraction\" : cache.get_injection_fraction(experiment_id)[0],\n",
    "#         \"projection_signal\" : cache.get_projection_density(experiment_id)[0]\n",
    "#     }\n",
    "\n",
    "def get_connectivity_data(cache, structure_ids, experiments_exclude, remove_injection = False):\n",
    "\n",
    "    connectivity_data = ConnectivityData()\n",
    "    for sid in structure_ids:\n",
    "        print(sid)\n",
    "        sid_data = StructureData(sid)\n",
    "        #deprecated language\n",
    "        model_data = ModelData(cache, sid)\n",
    "        sid_data.eids = model_data.get_experiment_ids(experiments_exclude=experiments_exclude, cre=None)\n",
    "        for eid in sid_data.eids:\n",
    "            \n",
    "            eid_data = get_ccf_data(cache, eid)#ExperimentData(eid)\n",
    "            eid_data.data_mask_tolerance = .5\n",
    "            #ccf_data = get_ccf_data(cache, eid)\n",
    "            eid_data.injection_signal_true = eid_data.injection_signal * eid_data.injection_fraction\n",
    "            if remove_injection == True:\n",
    "                pass #remove injection fraction from projection\n",
    "            #injection_signal should = projection_signal in some locations (nonzero)\n",
    "            #why do we use partial?\n",
    "            #mask_func = partial(_mask_data_volume,data_mask=eid_data.data_mask,tolerance=eid_data.data_mask_tolerance)\n",
    "            eid_data.injection_qmasked  = _mask_data_volume(eid_data.injection_signal_true,eid_data.data_quality_mask,eid_data.data_mask_tolerance)\n",
    "            eid_data.projection_qmasked  = _mask_data_volume(eid_data.projection_signal,eid_data.data_quality_mask,eid_data.data_mask_tolerance) #mask_func(eid_data.projection_signal) \n",
    "            #eid_data.centroid = compute_centroid(eid_data.injection_qmasked)\n",
    "            sid_data.experiment_datas[eid] = eid_data\n",
    "        connectivity_data.structure_datas[sid] = sid_data\n",
    "    return(connectivity_data)\n",
    "\n",
    "def get_data_matrices(connectivity_data):\n",
    "    \n",
    "    structure_ids = np.asarray(list(connectivity_data.structure_datas.keys()))\n",
    "    for sid in structure_ids:\n",
    "        experiment_ids = np.asarray(list(connectivity_data.structure_datas[sid].experiment_datas.keys()))\n",
    "        connectivity_data.structure_datas[sid].injection_mask = Mask.from_cache(cache,structure_ids=[sid],hemisphere_id=2)\n",
    "        connectivity_data.structure_datas[sid].projection_mask = Mask.from_cache(cache,structure_ids=default_structure_ids, hemisphere_id=3)\n",
    "        for eid in experiment_ids:\n",
    "            connectivity_data.structure_datas[sid].experiment_datas[eid].injection_vec = connectivity_data.structure_datas[sid].injection_mask.mask_volume(connectivity_data.structure_datas[sid].experiment_datas[eid].injection_qmasked)\n",
    "            connectivity_data.structure_datas[sid].experiment_datas[eid].projection_vec = connectivity_data.structure_datas[sid].projection_mask.mask_volume(connectivity_data.structure_datas[sid].experiment_datas[eid].projection_qmasked)\n",
    "        connectivity_data.structure_datas[sid].injections = np.asarray([connectivity_data.structure_datas[sid].experiment_datas[eid].injection_vec for eid in connectivity_data.structure_datas[sid].eids])\n",
    "        connectivity_data.structure_datas[sid].projections = np.asarray([connectivity_data.structure_datas[sid].experiment_datas[eid].projection_vec for eid in connectivity_data.structure_datas[sid].eids])\n",
    "        connectivity_data.structure_datas[sid].centroids = np.asarray([connectivity_data.structure_datas[sid].experiment_datas[eid].centroid for eid in connectivity_data.structure_datas[sid].eids])\n",
    "        \n",
    "        \n",
    "    return(connectivity_data)\n",
    "\n",
    "\n",
    "def get_regionalized_normalized_data(connectivity_data, cache, source_order, ipsi_key, contra_key): #experiments_minor_structures):\n",
    "    '''\n",
    "    :param msvds: Class dictionary holding data\n",
    "    :param cache: AllenSDK cache\n",
    "    :param source_order: Source key (tautologically ipsilateral due to hemisphere mirroring)\n",
    "    :param ipsi_key: Ipsilateral target key\n",
    "    :param contra_key:  Contralateral target key\n",
    "    :return: msvds: Class dictionary holding average data\n",
    "    '''\n",
    "    major_structure_ids = np.asarray(list(connectivity_data.structure_datas.keys()))\n",
    "    for sid in major_structure_ids:\n",
    "        # print()\n",
    "        structure_data = connectivity_data.structure_datas[sid]\n",
    "        #nexp = msvd.projections.shape[0]\n",
    "\n",
    "        #minor_structures = np.unique(experiments_minor_structures[sid])\n",
    "        #nmins = len(minor_structures)\n",
    "\n",
    "        projections = structure_data.projections\n",
    "        ipsi_proj = unionize(projections, ipsi_key)\n",
    "        contra_proj = unionize(projections, contra_key)\n",
    "        reg_proj = np.hstack([ipsi_proj, contra_proj])\n",
    "        structure_data.reg_proj = reg_proj\n",
    "\n",
    "        ipsi_target_regions, ipsi_target_counts = nonzero_unique(ipsi_key, return_counts=True)\n",
    "        contra_target_regions, contra_target_counts = nonzero_unique(contra_key, return_counts=True)\n",
    "        target_counts = np.concatenate([ipsi_target_counts, contra_target_counts])\n",
    "        reg_proj_vcount_norm = np.divide(reg_proj, target_counts[np.newaxis, :])\n",
    "        structure_data.reg_proj_vcount_norm = reg_proj_vcount_norm\n",
    "        structure_data.reg_proj_vcount_norm_renorm = reg_proj_vcount_norm / np.expand_dims(np.linalg.norm(reg_proj_vcount_norm, axis=1), 1)\n",
    "        \n",
    "        source_mask = Mask.from_cache(cache, structure_ids=[sid], hemisphere_id=2)\n",
    "        source_key = source_mask.get_key(structure_ids=source_order)\n",
    "        source_regions, source_counts = nonzero_unique(source_key, return_counts=True)\n",
    "\n",
    "        injections = structure_data.injections\n",
    "        reg_ipsi_inj = unionize(injections, source_key)\n",
    "        structure_data.reg_inj = reg_ipsi_inj\n",
    "        reg_inj_vcount_norm = np.divide(reg_ipsi_inj, source_counts[np.newaxis, :])\n",
    "        structure_data.reg_inj_vcount_norm = reg_inj_vcount_norm\n",
    "        \n",
    "        structure_data.reg_proj_vcount_norm_injnorm = reg_proj_vcount_norm / np.expand_dims(np.linalg.norm(reg_inj_vcount_norm, axis=1), 1)\n",
    "        connectivity_data.structure_datas[sid] = structure_data\n",
    "        #msvd.reg_proj_vcountnorm_totalnorm =\n",
    "\n",
    "    return (connectivity_data)\n",
    "\n",
    "# def get_normalized_data(connectivity_data, normalization = None):\n",
    "\n",
    "#     structure_ids = np.asarray(list(connectivity_data.structure_datas.keys()))\n",
    "#     for sid in structure_ids:\n",
    "#         if normalization == None:\n",
    "#             pass\n",
    "#         if normalization == 'injection':\n",
    "#             nc = np.sum(connectivity_data.structure_datas[sid].injections, axis = 1)\n",
    "#             connectivity_data.structure_datas[sid].projection_normed = connectivity_data.structure_datas[sid].projections / nc\n",
    "#         if normalization == 'total':\n",
    "#             nc = np.sum(conn_data[sid].projections, axis = 1)\n",
    "#             connectivity_data.structure_datas[sid].projection_normed = connectivity_data.structure_datas[sid].projections / nc\n",
    "\n",
    "#     return(connectivity_data)\n",
    "\n",
    "\n",
    "def compute_centroid(injection_density):\n",
    "    \"\"\"Computes centroid in index coordinates.\n",
    "\n",
    "    Parameters\n",
    "    ----------\n",
    "    injection_density : array, shape (x_ccf, y_ccf, z_ccf)\n",
    "        injection_density data volume.\n",
    "\n",
    "    Returns\n",
    "    -------\n",
    "        centroid of injection_density in index coordinates.\n",
    "    \"\"\"\n",
    "    nnz = injection_density.nonzero()\n",
    "    coords = np.vstack(nnz)\n",
    "\n",
    "    return np.dot(coords, injection_density[nnz]) / injection_density.sum()\n",
    "\n",
    "def get_cre_status(data_info, connectivity_data):\n",
    "    major_structure_ids = np.asarray(list(connectivity_data.structure_datas.keys()))\n",
    "    exps = np.asarray(data_info.index.values , dtype = np.int)\n",
    "    creline = {}\n",
    "    for sid in major_structure_ids:\n",
    "        experiment_ids = np.asarray(list(connectivity_data.structure_datas[sid].experiment_datas.keys()))\n",
    "        nexp = len(experiment_ids)\n",
    "        creline[sid] = np.zeros(nexp, dtype = object)\n",
    "        for i in range(len(experiment_ids)):\n",
    "            index = np.where(exps == experiment_ids[i])[0][0]\n",
    "            creline[sid][i] = data_info['transgenic-line'].iloc[index]\n",
    "    return(creline)\n"
   ]
  },
  {
   "cell_type": "code",
   "execution_count": 4,
   "metadata": {
    "collapsed": true
   },
   "outputs": [],
   "source": [
    "class ConnectivityData():\n",
    "    \n",
    "    def __init__(self):\n",
    "        self.structure_datas = {}    \n",
    "    \n",
    "    def get_injection_hemisphere_ids(self):\n",
    "        \n",
    "        structure_datas = self.structure_datas\n",
    "        \n",
    "        \n",
    "        for sid in list(structure_datas.keys()):\n",
    "            structure_datas[sid].get_injection_hemisphere_ids()\n",
    "            \n",
    "        self.structure_datas = structure_datas\n",
    "        \n",
    "        \n",
    "    def align(self):\n",
    "        \n",
    "        structure_datas= self.structure_datas\n",
    "        \n",
    "        for sid in list(structure_datas.keys()):\n",
    "            structure_datas[sid].align()\n",
    "        self.structure_datas = structure_datas\n",
    "\n",
    "    def get_centroids(self):\n",
    "        \n",
    "        structure_datas = self.structure_datas\n",
    "        \n",
    "        for sid in list(structure_datas.keys()):\n",
    "            structure_datas[sid].get_centroids()\n",
    "            \n",
    "        self.structure_datas = structure_datas\n",
    "        \n",
    "class StructureData():\n",
    "    \n",
    "    def __init__(self, sid):\n",
    "        self.experiment_datas = {}\n",
    "        \n",
    "    def get_injection_hemisphere_ids(self):   \n",
    "        \n",
    "        experiment_datas = self.experiment_datas\n",
    "        \n",
    "        for eid in list(experiment_datas.keys()):\n",
    "             experiment_datas[eid].injection_hemisphere_id = get_injection_hemisphere_id(experiment_datas[eid].injection_qmasked, majority=True)\n",
    "        self.experiment_datas = experiment_datas\n",
    "        \n",
    "    def align(self):\n",
    "        \n",
    "        experiment_datas = self.experiment_datas\n",
    "        \n",
    "        for eid in list(experiment_datas.keys()):\n",
    "            if experiment_datas[eid].injection_hemisphere_id == 1:\n",
    "                experiment_datas[eid].flip()\n",
    "        self.experiment_datas = experiment_datas\n",
    "\n",
    "    def get_centroids(self):\n",
    "        \n",
    "        experiment_datas = self.experiment_datas\n",
    "        \n",
    "        for eid in list(experiment_datas.keys()):\n",
    "            experiment_datas[eid].centroid = compute_centroid(experiment_datas[eid].injection_qmasked)\n",
    "        self.experiment_datas = experiment_datas        \n",
    "        \n",
    "class ExperimentData():\n",
    "    \n",
    "    def __init__(self, eid):\n",
    "        2+2\n",
    "    \n",
    "    #def get_injection_hemisphere():\n",
    "        \n",
    "        \n",
    "    def flip(self):\n",
    "        \"\"\"Reflects experiment along midline.\n",
    "\n",
    "        Returns\n",
    "        -------\n",
    "        self - flipped experiment\n",
    "        \"\"\"\n",
    "\n",
    "        self.injection_qmasked = self.injection_qmasked[..., ::-1]\n",
    "        self.projection_qmasked = self.projection_qmasked[..., ::-1]\n",
    "        self.injection_signal = self.injection_signal[..., ::-1]\n",
    "        self.projection_signal = self.projection_signal[..., ::-1]\n",
    "        self.injection_signal_true = self.injection_signal_true[..., ::-1]\n",
    "        #self.projection_signal_true = self.projection_signal_true[..., ::-1]\n",
    "        self.injection_fraction = self.injection_fraction[..., ::-1]\n",
    "        self.data_quality_mask = self.data_quality_mask[...,::-1]\n",
    "        \n",
    "        #return self        \n",
    "\n",
    "def _mask_data_volume(data_volume, data_mask, tolerance=0.0):\n",
    "    \"\"\"Masks a given data volume in place.\n",
    "\n",
    "    Parameters\n",
    "    ----------\n",
    "    data_volume : array, shape (x_ccf, y_ccf, z_ccf)\n",
    "        Data volume to be masked.\n",
    "\n",
    "    data_mask : array, shape (x_ccf, y_ccf, z_ccf)\n",
    "        data_mask for given experiment (values in [0,1])\n",
    "        See allensdk.core.mouse_connectivity_cache for more info.\n",
    "\n",
    "    tolerance : float, optional (default=0.0)\n",
    "        tolerance with which to define bad voxels in data_mask.\n",
    "\n",
    "\n",
    "    Returns\n",
    "    -------\n",
    "    data_volume\n",
    "        data_volume parameter masked in place.\n",
    "\n",
    "    \"\"\"\n",
    "    if data_volume.shape != data_mask.shape:\n",
    "        raise ValueError(\"data_volume (%s) and data_mask (%s) must be the same \"\n",
    "                         \"shape!\" % (data_volume.shape, data_mask.shape))\n",
    "\n",
    "    # mask data volume\n",
    "    data_volume[data_mask < tolerance] = 0.0\n",
    "\n",
    "    return data_volume\n",
    "\n",
    "\n",
    "def get_summarystructure_dictionary(connectivity_data, data_info):\n",
    "    summarystructure_dictionary = {}\n",
    "    major_structure_ids = np.asarray(list(connectivity_data.structure_datas.keys()))\n",
    "    for sid in major_structure_ids:\n",
    "        eids = np.asarray(list(connectivity_data.structure_datas[sid].experiment_datas.keys()))\n",
    "        summarystructure_dictionary[sid] = get_minorstructures(eids, data_info)\n",
    "    return (summarystructure_dictionary)\n",
    "\n",
    "\n",
    "def get_leaves_ontologicalorder(connectivity_data, ontological_order):\n",
    "    '''\n",
    "\n",
    "    :param msvd:\n",
    "    :param ontological_order:\n",
    "    :return: The leaf order associated with the 'ontological_order' of summary structures\n",
    "    '''\n",
    "    sid0 = list(connectivity_data.structure_datas.keys())[0]\n",
    "    #eid0 = list(connectivity_data.structure_datas[sid0].experiment_datas.keys())[0]\n",
    "    levs = connectivity_data.structure_datas[sid0].projection_mask.reference_space.structure_tree.child_ids(\n",
    "        ontological_order)\n",
    "    flat_list = np.asarray([item for sublist in levs for item in sublist])\n",
    "\n",
    "    nss = len(levs)\n",
    "    leavves = np.asarray([])\n",
    "    for i in range(nss):\n",
    "        if len(levs[i]) > 0:\n",
    "            leavves = np.append(leavves, levs[i])\n",
    "        else:\n",
    "            leavves = np.append(leavves, ontological_order[i])\n",
    "    return (leavves)\n",
    "\n",
    "from sklearn.metrics.pairwise import pairwise_kernels\n",
    "from mcmodels.regressors.nonparametric.nadaraya_watson import get_weights\n",
    "\n",
    "def get_best_hyperparameters(losses, keys):\n",
    "    \n",
    "    major_structure_ids = np.asarray(list(losses.keys()))\n",
    "    nms = len(major_structure_ids)\n",
    "    nkey = keys.shape[1]\n",
    "    output = np.empty((nms, nkey))\n",
    "    for m in range(nms):\n",
    "        print(m)\n",
    "        sid = major_structure_ids[m]\n",
    "        lvec = np.asarray([np.nanmean(losses[sid][key]) for key in keys])\n",
    "        if np.any(~np.isnan(lvec)):\n",
    "            output[m] = keys[np.nanargmin(lvec)]\n",
    "        # if len(np.where(np.isnan(np.nanmean(losses[sid][:,:], axis = 1)))[0]) < losses[sid].shape[0]:\n",
    "        #    output[m] = np.nanargmin(np.nanmean(losses[sid][:,:], axis = 1))\n",
    "\n",
    "    output = np.asarray(output, dtype=int)\n",
    "    return(output)\n",
    "\n",
    "#get where we actually modelled\n",
    "def get_eval_indices(eval_index_matrices):\n",
    "    eval_indices = {}\n",
    "    major_structure_ids = np.asarray(list(eval_index_matrices.keys()))\n",
    "    for sid in major_structure_ids:\n",
    "        eval_indices[sid] = np.where(eval_index_matrices[sid].sum(axis = 0) > 0)[0]\n",
    "    return(eval_indices)    \n",
    "\n",
    "\n",
    "\n",
    "def get_weights(eval_centroids, model_centroids, gamma):\n",
    "    weights = pairwise_kernels(X=eval_centroids, Y=model_centroids, metric='rbf', gamma=gamma, filter_params=True)\n",
    "    return (weights)\n",
    "\n",
    "\n",
    "def get_indices(ids):\n",
    "\n",
    "    ids_unique = np.unique(ids)\n",
    "    output = np.zeros((len(ids_unique), len(ids)), dtype = int)\n",
    "    for i in range(len(ids_unique)):\n",
    "        output[i,np.where(ids == ids_unique[i])[0] ] = 1\n",
    "    return(output)\n",
    "\n",
    "#get indices of firstlist in firstlisttest in categories defined by secondlist\n",
    "def get_indices2(firstlist, firstlisttest, secondlist):\n",
    "    \n",
    "    sl_unique = np.unique(secondlist)\n",
    "    output = np.zeros((len(sl_unique), len(secondlist)), dtype = int)\n",
    "    for i in range(len(sl_unique)):\n",
    "        output[i,np.intersect1d(np.where(np.isin(firstlist,firstlisttest))[0], np.where(secondlist == sl_unique[i])[0])] = 1\n",
    "    return(output)\n",
    "\n",
    "#nmodels = nleafs\n",
    "#populate each with experiments that share summary structure\n",
    "def get_indices_summaryinleaf(summarylist , leaflist):\n",
    "    \n",
    "    nexp = len(leaflist)\n",
    "    leaf_unique = np.unique(leaflist)\n",
    "    output = np.zeros((len(leaf_unique), nexp), dtype = int)\n",
    "    \n",
    "    for i in range(len(leaf_unique)):\n",
    "        \n",
    "        summary = summarylist[np.where(leaflist == leaf_unique[i])[0]][0]\n",
    "        output[i,np.where(summarylist == summary)[0]] = 1\n",
    "        \n",
    "        \n",
    "    return(output)\n",
    "\n",
    "#get predictions at all eval_indices using model_indices\n",
    "#if an eval_indices is also a model indice, leave it out of the model\n",
    "#if a model index is not an eval index, it never gets left out\n",
    "def get_nwloocv_predictions_singlemodel(projections, centroids, gamma, model_indices, eval_indices):\n",
    "  \n",
    "    eval_index_val = np.where(eval_indices == 1)[0]\n",
    "    model_index_val = np.where(model_indices == 1)[0]\n",
    "    \n",
    "    projections = np.asarray(projections, dtype=np.float32)\n",
    "    \n",
    "    nmod_ind = len(model_index_val)\n",
    "    neval = len(eval_index_val)\n",
    "    #nexp = centroids.shape[0]\n",
    "    predictions = np.empty(projections.shape)\n",
    "    #print(model_index_val.shape, eval_index_val.shape)\n",
    "\n",
    "    if len(model_index_val) > 0 and  len(eval_index_val) > 0:\n",
    "        weights = pairwise_kernels(centroids[model_index_val], centroids[eval_index_val], metric='rbf', gamma=gamma, filter_params=True) #get_weights(centroids, gamma)\n",
    "        for i in range(neval):\n",
    "            matchindex = np.where(model_index_val == eval_index_val[i])[0]\n",
    "            otherindices = np.setdiff1d(np.asarray(list(range(nmod_ind))), matchindex)         \n",
    "            #this order of operations is the fastest I found\n",
    "            weights_i = weights[:,i] / weights[:,i][otherindices].sum()\n",
    "            weights_i[matchindex] = 0\n",
    "            weights_i = np.asarray(weights_i, dtype=np.float32)\n",
    "            pred = np.dot(weights_i, projections[model_index_val])\n",
    "            predictions[eval_index_val[i]] = pred\n",
    "\n",
    "        \n",
    "    return(predictions)    \n",
    "\n",
    "def get_nwloocv_predictions_multimodel(projections, centroids, gammas, model_index_matrix, eval_index_matrix):\n",
    "    \n",
    "\n",
    "    \n",
    "    ntargets = projections.shape[1]\n",
    "    nexp = projections.shape[0]\n",
    "    nmodels = model_index_matrix.shape[0]\n",
    "    ngammas = len(gammas)\n",
    "    \n",
    "    projections = np.asarray(projections, dtype=np.float32)\n",
    "    predictions = np.empty((nmodels, ngammas, nexp, ntargets))\n",
    "    \n",
    "    \n",
    "    for m in range(nmodels):\n",
    "        #print('m', m, len(np.where(model_index_matrix[m] ==1)[0]))\n",
    "        predictions[m] = np.asarray([get_nwloocv_predictions_singlemodel(projections, centroids, gammas[g], model_index_matrix[m], eval_index_matrix[m]) for g in range(ngammas)])\n",
    "    \n",
    "    return(predictions)  \n",
    "\n",
    "def combine_predictions(predictions, eval_index_matrix):\n",
    "    \n",
    "    nmodels, ngammas, nexp, ntargets = predictions.shape\n",
    "    combined_predictions = np.empty((ngammas, nexp, ntargets))\n",
    "    for m in range(nmodels):\n",
    "        combined_predictions[:,np.where(eval_index_matrix[m] == 1)[0]] = predictions[m][:,np.where(eval_index_matrix[m] == 1)[0]]\n",
    "        \n",
    "    return(combined_predictions)\n",
    "\n",
    "def get_nwloocv_predictions_multimodel_merge(projections, centroids, gammas, model_index_matrix, eval_index_matrix):\n",
    "    \n",
    "    predictions_unmerged = get_nwloocv_predictions_multimodel(projections, centroids, gammas, model_index_matrix, eval_index_matrix)\n",
    "    print(predictions_unmerged.shape)\n",
    "    predictions_merged = combine_predictions(predictions_unmerged, eval_index_matrix)\n",
    "    \n",
    "    return(predictions_merged)\n",
    "\n",
    "#we should not pass model_index_matrices that are identical to eval_index_matrices and have only 1 element per model\n",
    "#although in principal we could do automatically in the cross validation code \n",
    "#we would rather do it explicitly to ensure identical indexing b/w experiments\n",
    "#if we only have 1 model index we will remove the model index from eval indices\n",
    "def screen_indices(model_indices, eval_indices):\n",
    "    \n",
    "    eval_indices2 = eval_indices.copy()\n",
    "    mod_loc = np.where(model_indices == 1)[0]\n",
    "    if len(mod_loc) == 1:\n",
    "        eval_indices2[mod_loc] = 0\n",
    "    return(eval_indices2)\n",
    "\n",
    "#this could result in an empty eval index i.e. certain indices having no prediction.  catch later\n",
    "#can merge (sum) the index matrix to see where predictions are actually generated\n",
    "def screen_index_matrices(model_index_matrices, eval_index_matrices):\n",
    "    \n",
    "    #alter eval_indices to remove model index in cases where there is only one experiment in the model\n",
    "    \n",
    "    nmodels = model_index_matrices.shape[0]\n",
    "    eval_index_matrices2 = eval_index_matrices.copy()\n",
    "    for m in range(nmodels):\n",
    "        eval_index_matrices2[m] = screen_indices(model_index_matrices[m], eval_index_matrices[m])\n",
    "    \n",
    "    return(eval_index_matrices2)\n",
    "\n",
    "#need code for removing experiments that have no model\n",
    "#this can happen when the model set is a subset of the evaluation set.\n",
    "#we will therefore generate predictions for a subset\n",
    "#given a leaf is included, the eval set is the same\n",
    "#however, we want to remove evals in leaves we don't have a wt for... of course one could say we are doing worse...\n",
    "#but we also have a fewer number of models\n",
    "#model_index_matrices are the indices of the leafs'\n",
    "#indices_wtinleaf are the wild types\n",
    "#need to make sure we dont have leafs with only 1 experiment\n",
    "\n",
    "\n",
    "def screen_index_matrices2(model_index_matrices, eval_index_matrices):\n",
    "    \n",
    "    #alter model and eval matrices to be nonzero only when there are at least two experiments in the model\n",
    "    #it can be useful for when model_index_matrices is a subset of eval_index_matrices\n",
    "    #nmodels = model_index_matrices.shape[0]\n",
    "    include_per_model = model_index_matrices.sum(axis= 1)\n",
    "    to_exclude = np.where(include_per_model <= 1)[0]\n",
    "    #to_include = np.where(include_per_model > 0)[0]\n",
    "    \n",
    "    model_index_matrices2 = model_index_matrices.copy()\n",
    "    eval_index_matrices2 = eval_index_matrices.copy()\n",
    "    model_index_matrices2[to_exclude] = 0\n",
    "    eval_index_matrices2[to_exclude] = 0\n",
    "    \n",
    "    return(model_index_matrices2, eval_index_matrices2)\n",
    "\n",
    "def screen_index_matrices3(model_index_matrices, eval_index_matrices):\n",
    "    \n",
    "    #alter model and eval matrices to be nonzero only when there are at least one experiments in the model\n",
    "    #it can be useful for when model_index_matrices is a subset of eval_index_matrices\n",
    "    #nmodels = model_index_matrices.shape[0]\n",
    "    include_per_model = model_index_matrices.sum(axis= 1)\n",
    "    to_exclude = np.where(include_per_model < 1)[0]\n",
    "    #to_include = np.where(include_per_model > 0)[0]\n",
    "    \n",
    "    model_index_matrices2 = model_index_matrices.copy()\n",
    "    eval_index_matrices2 = eval_index_matrices.copy()\n",
    "    model_index_matrices2[to_exclude] = 0\n",
    "    eval_index_matrices2[to_exclude] = 0\n",
    "    \n",
    "    to_remove = np.where(include_per_model == 1)[0]\n",
    "    eval_index_matrices2[to_remove] = 0\n",
    "    \n",
    "    return(model_index_matrices2, eval_index_matrices2)\n",
    "\n",
    "def get_cre_similarity(proj, cres,eminors,colnames):\n",
    "\n",
    "    ss = np.append(['cre','injsum'],colnames)\n",
    "    ns = np.concatenate([np.empty(2, dtype = str), np.repeat('ipsi',291), np.repeat('contra',286)])\n",
    "    colns = np.vstack([ns,ss]).transpose()\n",
    "    clns = list(zip(*colns.transpose()))\n",
    "    clnsmi = pd.MultiIndex.from_tuples(clns, names=['first', 'second'])\n",
    "    data_merged = pd.DataFrame(np.hstack([np.expand_dims(cres,1),np.expand_dims(eminors,1),proj ]), columns= clnsmi)\n",
    "    data_melted = pd.melt(data_merged, id_vars=[('','cre'),('','injsum')])\n",
    "    data_melted = data_melted.astype({'value': np.float64})\n",
    "    means = data_melted.groupby(by=['first', 'second',('','cre'),('','injsum')])['value'].mean().reset_index()\n",
    "    means = means.astype({'value': np.float64})\n",
    "    means_cast = pd.pivot_table(means, index = [('','cre'),('','injsum')], columns = ['first', 'second'])\n",
    "    cs = np.asarray(list(means_cast.index))    \n",
    "    return(means_cast,cs)\n",
    "\n",
    "def get_cre_dist_cv(proj, means_cast, eminors,cres):\n",
    "    nsamp = cres.shape[0]\n",
    "    credist = np.empty((nsamp,nsamp))\n",
    "    credist[:] = np.nan\n",
    "    for i in range(nsamp):\n",
    "        print(i)\n",
    "        #get mean of all points sharing cre line and minor structure with this one (but not including)\n",
    "        meani = means_cast.loc[tuple([cres[i], eminors[i]])]\n",
    "#         ncr = len(np.where(cres == cres[i])[0])\n",
    "        ls = np.where(leafs[sid] == leafs[sid][i])[0]\n",
    "        crs = np.where(cres == cres[i])[0]\n",
    "        ncr = len(np.intersect1d(ls, crs))\n",
    "        \n",
    "        meanloocvi = meani\n",
    "        if ncr > 1:\n",
    "            meanloocvi = (ncr * meani ) / (ncr - 1) -   (1/ ncr)* proj[i] #results[reg[i]][tuple([cs[reg_cre_ind[j],1], cs[reg_cre_ind[k],1]])]\n",
    "        else:\n",
    "            meanloocvi = np.zeros(proj[i].shape[0])\n",
    "            meanloocvi[:] = np.nan\n",
    "            \n",
    "        #this was originally\n",
    "        #print(meanloocvi.max(), 'max', ncr)\n",
    "\n",
    "        #meanloocvi = meani\n",
    "        #meanloocvi = (ncr * meani ) / (ncr - 1) -   (1/ ncr)* msvd.reg_proj_vcount_norm_renorm[i] #results[reg[i]][tuple([cs[reg_cre_ind[j],1], cs[reg_cre_ind[k],1]])]\n",
    "        #rkeys = list(results[eminors[i]].keys())#np.asarray(list(results[experiments_minor_structures[sid][i]].keys()))\n",
    "        for j in range(nsamp):\n",
    "            meanj = means_cast.loc[tuple([cres[j], eminors[j]])]\n",
    "            #t= tuple([cres[i], cres[j]])\n",
    "            #if np.isin(t, rkeys).all():\n",
    "            if eminors[j] == eminors[i]:\n",
    "                credist[i,j]  = np.linalg.norm(meanloocvi - meanj)\n",
    "\n",
    "    return(credist)\n",
    "\n",
    "def get_nwloocv_predictions_singlemodel_dists(projections, dists, gamma, model_indices, eval_indices):\n",
    "  \n",
    "    eval_index_val = np.where(eval_indices == 1)[0]\n",
    "    model_index_val = np.where(model_indices == 1)[0]\n",
    "    \n",
    "    projections = np.asarray(projections, dtype=np.float32)\n",
    "    \n",
    "    nmod_ind = len(model_index_val)\n",
    "    neval = len(eval_index_val)\n",
    "    #nexp = centroids.shape[0]\n",
    "    predictions = np.empty(projections.shape)\n",
    "    #print(model_index_val.shape, eval_index_val.shape)\n",
    "\n",
    "    if len(model_index_val) > 0 and  len(eval_index_val) > 0:\n",
    "        weights = np.exp(-dists[model_index_val][:, eval_index_val] / gamma)#np.exp(-dists[model_index_val] / gamma) #get_weights(centroids, gamma)\n",
    "        for i in range(neval):\n",
    "            matchindex = np.where(model_index_val == eval_index_val[i])[0]\n",
    "            otherindices = np.setdiff1d(np.asarray(list(range(nmod_ind))), matchindex)         \n",
    "            #this order of operations is the fastest I found\n",
    "            weights_i = weights[i,:] / np.nansum(weights[i,:][otherindices])\n",
    "            #print(np.nansum(weights[:,i][otherindices]))\n",
    "            weights_i[matchindex] = 0\n",
    "            weights_i = np.asarray(weights_i, dtype=np.float32)\n",
    "            weights_i[np.isnan(weights_i)] = 0.\n",
    "            pred = np.dot(weights_i, projections[model_index_val])\n",
    "            predictions[eval_index_val[i]] = pred\n",
    "\n",
    "        \n",
    "    return(predictions) \n",
    "\n",
    "def get_nwloocv_predictions_multimodel_merge_dists(projections, dists, gammas, model_index_matrix, eval_index_matrix):\n",
    "    \n",
    "    predictions_unmerged = get_nwloocv_predictions_multimodel_dists(projections, dists, gammas, model_index_matrix, eval_index_matrix)\n",
    "    print(predictions_unmerged.shape)\n",
    "    predictions_merged = combine_predictions(predictions_unmerged, eval_index_matrix)\n",
    "    \n",
    "    return(predictions_merged)\n",
    "    \n",
    "    \n",
    "def get_nwloocv_predictions_multimodel_dists(projections, dists, gammas, model_index_matrix, eval_index_matrix):\n",
    "    \n",
    "\n",
    "    \n",
    "    ntargets = projections.shape[1]\n",
    "    nexp = projections.shape[0]\n",
    "    nmodels = model_index_matrix.shape[0]\n",
    "    ngammas = len(gammas)\n",
    "    \n",
    "    projections = np.asarray(projections, dtype=np.float32)\n",
    "    predictions = np.empty((nmodels, ngammas, nexp, ntargets))\n",
    "    \n",
    "    \n",
    "    for m in range(nmodels):\n",
    "        #print('m', m, len(np.where(model_index_matrix[m] ==1)[0]))\n",
    "        predictions[m] = np.asarray([get_nwloocv_predictions_singlemodel_dists(projections, dists, gammas[g], model_index_matrix[m], eval_index_matrix[m]) for g in range(ngammas)])\n",
    "    \n",
    "    return(predictions)  \n"
   ]
  },
  {
   "cell_type": "code",
   "execution_count": 5,
   "metadata": {},
   "outputs": [
    {
     "name": "stdout",
     "output_type": "stream",
     "text": [
      "315\n"
     ]
    }
   ],
   "source": [
    "\n",
    "connectivity_data = get_connectivity_data(cache, major_structure_ids[4:5], experiments_exclude, remove_injection = False)\n",
    "connectivity_data.get_injection_hemisphere_ids()\n",
    "connectivity_data.align()\n",
    "connectivity_data.get_centroids()\n",
    "#then apply the projection and injection masks to get regionalized data\n",
    "connectivity_data = get_data_matrices(connectivity_data)"
   ]
  },
  {
   "cell_type": "code",
   "execution_count": 6,
   "metadata": {
    "collapsed": true
   },
   "outputs": [],
   "source": [
    "\n",
    "\n",
    "#major division segregation is legacy code but convenient for fast cross validation in major division model\n",
    "experiments_minor_structures = get_summarystructure_dictionary(connectivity_data, data_info)\n",
    "\n",
    "#get leaves in ontological order.  Where leafs don't exist, uses summary structure\n",
    "ontological_order_leaves = get_leaves_ontologicalorder(connectivity_data, ontological_order)\n",
    "\n",
    "#Key isn't affected by which experiment we choose. This allows default masking to be inherited from the AllenSDK.\n",
    "sid0 = list(connectivity_data.structure_datas.keys())[0]\n",
    "eid0 = list(connectivity_data.structure_datas[sid0].experiment_datas.keys())[0]\n",
    "#key = eid0\n",
    "\n",
    "#Identify keys denoting which voxels correspond to which structure in the ipsi and contra targets.\n",
    "#contra_targetkey = msvd.experiments[list(msvd.experiments.keys())[0]].projection_mask.get_key(structure_ids=ontological_order_leaves, hemisphere_id=1)\n",
    "#ipsi_targetkey = msvd.experiments[list(msvd.experiments.keys())[0]].projection_mask.get_key(structure_ids=ontological_order_leaves, hemisphere_id=2)\n",
    "contra_targetkey = connectivity_data.structure_datas[sid0].projection_mask.get_key(structure_ids=ontological_order, hemisphere_id=1)\n",
    "ipsi_targetkey = connectivity_data.structure_datas[sid0].projection_mask.get_key(structure_ids=ontological_order, hemisphere_id=2)\n",
    "\n",
    "#get average intensities of projection structures given ipsi and contra keys\n",
    "source_key = ontological_order #only relevant here when injection needs to be unionized, but currently a required argument\n"
   ]
  },
  {
   "cell_type": "code",
   "execution_count": 7,
   "metadata": {
    "collapsed": true
   },
   "outputs": [],
   "source": [
    "connectivity_data = get_regionalized_normalized_data(connectivity_data, cache, ontological_order, ipsi_targetkey, contra_targetkey)"
   ]
  },
  {
   "cell_type": "code",
   "execution_count": 8,
   "metadata": {
    "collapsed": true
   },
   "outputs": [],
   "source": [
    "creline = get_cre_status(data_info, connectivity_data)\n",
    "with open('data/info/leafs.pickle', 'rb') as handle:\n",
    "    leafs = pickle.load(handle)\n"
   ]
  },
  {
   "cell_type": "code",
   "execution_count": 9,
   "metadata": {
    "collapsed": true
   },
   "outputs": [],
   "source": [
    "indices_leaf = {}\n",
    "indices_wtinleaf = {}\n",
    "indices_wtleaf = {}\n",
    "indices_summary = {}\n",
    "indices_summaryinleaf = {}\n",
    "indices_major = {}\n",
    "indices_majorinleaf = {}\n",
    "indices_leaf2ormore = {}\n",
    "indices_wtinleaf2ormore = {}\n",
    "indices_leaf_reduced = {}\n",
    "indices_wtinleaf_reduced = {}\n",
    "indices_wt_leaf2ormore = {}\n",
    "indices_leaf2ormore_wt = {}\n",
    "indices_wt1ormore_leaf2ormore = {}\n",
    "indices_leaf2ormore_wt1ormore = {}\n",
    "indices_creleaf = {}\n",
    "indices_creleaf2ormore = {}\n",
    "creleafs = {}\n",
    "creleafs_merged = {}\n",
    "for sid in major_structure_ids[4:5]:\n",
    "    \n",
    "    #wt_leaf on leaf\n",
    "\n",
    "    #get the indices of experiments sharing leafs (nmodels is number of leafs)\n",
    "    indices_leaf[sid] = get_indices(leafs[sid]) #eval_indices\n",
    "    #indices_creleaf = get_indices(leafs[sid])\n",
    "    \n",
    "    #get the indices of the wts in the leaf (nmodels is number of leafs)\n",
    "    indices_wtinleaf[sid] = get_indices2(creline[sid], np.asarray(['C57BL/6J']),leafs[sid]) #model_indices\n",
    "    \n",
    "    #get indices of experiments sharing summary structure x cre combination (nmodel is number of cre x leaf combinations)\n",
    "    #indices_wtleaf[sid] = get_indices(creleafs_merged[sid])\n",
    "    \n",
    "    #get indices of experiments sharing summary structure(nmodel is number of summary structures)\n",
    "    #indices_summary[sid] = get_indices(experiments_minor_structures[sid])\n",
    "    \n",
    "    #get indices of experiments sharing major structure(nmodel is number of summary structures)\n",
    "    #indices_major[sid] = np.ones((1,experiments_minor_structures[sid].shape[0]))\n",
    "    \n",
    "    #get indices of experiments sharing same major structure as a leaf (nmodel is number of leafs)\n",
    "    #indices_majorinleaf[sid] = np.ones((len(np.unique(leafs[sid])),experiments_minor_structures[sid].shape[0]))#get_indices2(np.ones(len(leafs[sid])), np.asarray([1]),leafs[sid]) #model_indices\n",
    "    \n",
    "    #get indices of experiments in same summary structure as a leaf (nmodel is number of leafs)\n",
    "    #indices_summaryinleaf[sid] = get_indices_summaryinleaf(experiments_minor_structures[sid], leafs[sid])\n",
    "    \n",
    "    #evaluate models on leafs\n",
    "    indices_leaf2ormore[sid] = screen_index_matrices(indices_leaf[sid], indices_leaf[sid])\n",
    "    \n",
    "    indices_wt1ormore_leaf2ormore[sid], indices_leaf2ormore_wt1ormore[sid] = screen_index_matrices3(indices_wtinleaf[sid], indices_leaf2ormore[sid])\n",
    "    \n",
    "    indices_wtinleaf2ormore[sid] = screen_index_matrices(indices_wtinleaf[sid], indices_wtinleaf[sid])\n",
    "    indices_leaf_reduced[sid], indices_wtinleaf_reduced[sid]  = screen_index_matrices2( indices_leaf2ormore[sid],indices_wtinleaf[sid])\n",
    "\n",
    "\n",
    "    #for sid in major_structure_ids:\n",
    "    creleafs[sid] = np.asarray(np.vstack([leafs[sid], creline[sid]]), dtype = str).transpose()\n",
    "    creleafs_merged[sid] = [creleafs[sid][:,0][i]  + creleafs[sid][:,1][i] for i in range(creleafs[sid].shape[0])]\n",
    "    \n",
    "\n",
    "    #for sid in major_structure_ids:\n",
    "    indices_creleaf[sid] = get_indices(np.asarray(creleafs_merged[sid]))\n",
    "    indices_creleaf2ormore[sid] = screen_index_matrices(indices_creleaf[sid], indices_creleaf[sid])\n",
    "\n",
    "eval_indices_creleaf2ormore = get_eval_indices(indices_creleaf2ormore)"
   ]
  },
  {
   "cell_type": "code",
   "execution_count": 10,
   "metadata": {
    "collapsed": true
   },
   "outputs": [],
   "source": [
    "ipsi_target_regions, ipsi_target_counts = nonzero_unique(ipsi_targetkey, return_counts=True)\n",
    "contra_target_regions, contra_target_counts = nonzero_unique(contra_targetkey, return_counts=True)\n",
    "target_order = lambda x: np.array(ontological_order)[np.isin(ontological_order, x)]\n",
    "permutation = lambda x: np.argsort(np.argsort(target_order(x)))\n",
    "targ_ids = np.concatenate([ipsi_target_regions[permutation(ipsi_target_regions)],\n",
    "                           contra_target_regions[permutation(contra_target_regions)]])\n",
    "colnames = np.asarray([ia_map[targ_ids[i]] for i in range(len(targ_ids))])"
   ]
  },
  {
   "cell_type": "code",
   "execution_count": 11,
   "metadata": {
    "collapsed": true
   },
   "outputs": [],
   "source": [
    "\n",
    "def get_loss_surface_control(proj,centroids,fraction,creline_sid,leafs_sid):\n",
    "    nsamp = centroids.shape[0]\n",
    "    #need source and target color\n",
    "    source = np.repeat(np.linspace(0,nsamp - 1, nsamp, dtype = int), nsamp)\n",
    "    target = np.tile(np.linspace(0,nsamp - 1, nsamp, dtype = int), nsamp)\n",
    "    gp = np.zeros((nsamp, nsamp))\n",
    "    for i in range(nsamp):\n",
    "        for j in range(nsamp):\n",
    "            if creline_sid[i] == creline_sid[j]:\n",
    "                if leafs_sid[i] == leafs_sid[j]:\n",
    "                    gp[i,j] = 1\n",
    "    goodpairs = np.asarray(np.where(gp == 1)).transpose()\n",
    "    ngp = goodpairs.shape[0]\n",
    "    projs = proj\n",
    "    ds2 = np.zeros(ngp)\n",
    "    ls2 = np.zeros(ngp)\n",
    "    for i in range(ngp):\n",
    "        ds2[i] = np.linalg.norm(centroids[goodpairs[i][0]] - centroids[goodpairs[i][1]])**2\n",
    "        \n",
    "        ls2[i] = np.linalg.norm(projs[goodpairs[i][0]] - projs[goodpairs[i][1]])**2\n",
    "    dsnorm  = np.linalg.norm(ds2)\n",
    "    ds2 = ds2 / dsnorm\n",
    "    dc = np.asarray([ds2,ls2]).transpose()\n",
    "    qqq = NadarayaWatson(kernel='rbf',  gamma  = 200000)\n",
    "    randos = random.sample(list(range(ngp)), math.floor(ngp * fraction))\n",
    "    qqq.fit(dc[:,:1][randos], dc[:,1:][randos])\n",
    "    \n",
    "    return(qqq)\n"
   ]
  },
  {
   "cell_type": "code",
   "execution_count": 12,
   "metadata": {},
   "outputs": [
    {
     "name": "stdout",
     "output_type": "stream",
     "text": [
      "315\n"
     ]
    }
   ],
   "source": [
    "#wrong dist (not remove)... try to recreate old result\n",
    "frac_learn = np.ones(12)\n",
    "frac_learn[4] = .01\n",
    "sls = {}\n",
    "for m in range(4,5):\n",
    "    sid = major_structure_ids[m]#[np.asarray([0,1,2,3,4,5,6,7,8,9,10,11], dtype = int)]:\n",
    "    print(sid)\n",
    "    #msvd = msvds[sid]\n",
    "    cres = creline[sid]\n",
    "    eminors = leafs[sid]\n",
    "    #means_cast, cs = get_cre_similarity(connectivity_data.structure_datas[sid].reg_proj_vcount_norm_renorm, cres,eminors, colnames)\n",
    "    #cre_dist2 = get_cre_dist_cv(connectivity_data.structure_datas[sid].reg_proj_vcount_norm_renorm, means_cast, eminors,cres)\n",
    "    qqq = get_loss_surface_control(connectivity_data.structure_datas[sid].reg_proj_vcount_norm_renorm, connectivity_data.structure_datas[sid].centroids,frac_learn[m],creline[sid],leafs[sid])\n"
   ]
  },
  {
   "cell_type": "code",
   "execution_count": 14,
   "metadata": {},
   "outputs": [
    {
     "data": {
      "text/plain": [
       "(0, 0.01)"
      ]
     },
     "execution_count": 14,
     "metadata": {},
     "output_type": "execute_result"
    },
    {
     "data": {
      "image/png": "[encoded data removed]",
      "text/plain": [
       "<Figure size 432x288 with 1 Axes>"
      ]
     },
     "metadata": {
      "needs_background": "light"
     },
     "output_type": "display_data"
    }
   ],
   "source": [
    "\n",
    "proj = connectivity_data.structure_datas[sid].reg_proj_vcount_norm_renorm\n",
    "centroids = connectivity_data.structure_datas[sid].centroids\n",
    "fraction = frac_learn[m]\n",
    "creline_sid = creline[sid]\n",
    "leafs_sid = leafs[sid]\n",
    "nsamp = centroids.shape[0]\n",
    "#need source and target color\n",
    "source = np.repeat(np.linspace(0,nsamp - 1, nsamp, dtype = int), nsamp)\n",
    "target = np.tile(np.linspace(0,nsamp - 1, nsamp, dtype = int), nsamp)\n",
    "gp = np.zeros((nsamp, nsamp))\n",
    "for i in range(nsamp):\n",
    "    for j in range(nsamp):\n",
    "        if creline_sid[i] == creline_sid[j]:\n",
    "            if leafs_sid[i] == leafs_sid[j]:\n",
    "                gp[i,j] = 1\n",
    "goodpairs = np.asarray(np.where(gp == 1)).transpose()\n",
    "ngp = goodpairs.shape[0]\n",
    "projs = proj\n",
    "ds2 = np.zeros(ngp)\n",
    "ls2 = np.zeros(ngp)\n",
    "for i in range(ngp):\n",
    "    ds2[i] = np.linalg.norm(centroids[goodpairs[i][0]] - centroids[goodpairs[i][1]])**2\n",
    "    ls2[i] = np.linalg.norm(projs[goodpairs[i][0]] - projs[goodpairs[i][1]])**2\n",
    "dsnorm  = np.linalg.norm(ds2)\n",
    "ds2 = ds2 / dsnorm\n",
    "dc = np.asarray([ds2,ls2]).transpose()\n",
    "plt.scatter(dc[:,0], dc[:,1])\n",
    "plt.xlim(0,0.01)"
   ]
  },
  {
   "cell_type": "code",
   "execution_count": 35,
   "metadata": {},
   "outputs": [
    {
     "data": {
      "text/plain": [
       "Text(0, 0.5, 'Projection distance predicted')"
      ]
     },
     "execution_count": 35,
     "metadata": {},
     "output_type": "execute_result"
    },
    {
     "data": {
      "image/png": "[encoded data removed]",
      "text/plain": [
       "<Figure size 432x288 with 1 Axes>"
      ]
     },
     "metadata": {
      "needs_background": "light"
     },
     "output_type": "display_data"
    }
   ],
   "source": [
    "qqq = NadarayaWatson(kernel='rbf',  gamma  = 1000000)\n",
    "#qqq = KernelRidge(kernel='rbf', alpha=0, gamma  = .05)\n",
    "randos = random.sample(list(range(ngp)), math.floor(ngp * fraction))\n",
    "qqq.fit(dc[:,:1][randos], dc[:,1:][randos])\n",
    "xs = np.linspace(0, dc[:,0].max(), 100)\n",
    "#ys = np.linspace(0, dc[:,1].max(), 100)\n",
    "preds = np.empty((100))\n",
    "for x in range(100):\n",
    "    preds[x] =qqq.predict(np.asarray([xs[x]]))#asdf.predict(np.asarray([[xs[x], ys[y]]])) #qqq.predict(np.asarray([[xs[x], ys[y]]]))\n",
    "#mxy = np.asarray(np.meshgrid(xs,ys)).transpose()\n",
    "fig,ax = plt.subplots(1,1)\n",
    "ax.scatter(xs, preds, s= .1)\n",
    "ax.set_xlabel('Centroid distance', fontsize=20)\n",
    "ax.set_ylabel('Projection distance predicted', fontsize=20)"
   ]
  },
  {
   "cell_type": "code",
   "execution_count": 43,
   "metadata": {
    "collapsed": true
   },
   "outputs": [],
   "source": [
    "def get_smoothed_losses_control(proj,centroids,fraction,creline_sid,leafs_sid):\n",
    "    \n",
    "    nsamp = centroids.shape[0]\n",
    "    #need source and target color\n",
    "    source = np.repeat(np.linspace(0,nsamp - 1, nsamp, dtype = int), nsamp)\n",
    "    target = np.tile(np.linspace(0,nsamp - 1, nsamp, dtype = int), nsamp)\n",
    "    gp = np.zeros((nsamp, nsamp))\n",
    "    for i in range(nsamp):\n",
    "        for j in range(nsamp):\n",
    "            if creline_sid[i] == creline_sid[j]:\n",
    "                if leafs_sid[i] == leafs_sid[j]:\n",
    "                    gp[i,j] = 1\n",
    "                 \n",
    "    goodpairs = np.asarray(np.where(gp == 1)).transpose()\n",
    "    ds = pairwise_distances(centroids)**2\n",
    "\n",
    "    nsamp = ds.shape[0]\n",
    "    smoothedlosses = np.empty((nsamp,nsamp))\n",
    "    smoothedlosses[:] = np.nan\n",
    "    \n",
    "    ds2 = np.zeros(ngp)\n",
    "    for i in range(ngp):\n",
    "        ds2[i] = ds[goodpairs[i,0], goodpairs[i,1]]\n",
    "    dsnorm  = np.linalg.norm(ds2)\n",
    "\n",
    "    ds2 = ds2 / dsnorm\n",
    "    \n",
    "    for i in range(ngp):#np.linalg.norm(centroids[goodpairs[i][0]] - centroids[goodpairs[i][1]])**2\n",
    "        smoothedlosses[goodpairs[i,0], goodpairs[i,1]] = qqq.predict(np.asarray([ds2[i]])) #np.linalg.norm(projs[goodpairs[i][0]] - projs[goodpairs[i][1]])**2\n",
    "        #print(ds2[i], smoothedlosses[goodpairs[i,0], goodpairs[i,1]])\n",
    "\n",
    "\n",
    "    return(smoothedlosses)"
   ]
  },
  {
   "cell_type": "code",
   "execution_count": 44,
   "metadata": {
    "collapsed": true,
    "scrolled": false
   },
   "outputs": [],
   "source": [
    "    sls_control = {}\n",
    "    sls_control[sid] = get_smoothed_losses_control(connectivity_data.structure_datas[sid].reg_proj_vcount_norm_renorm, connectivity_data.structure_datas[sid].centroids,fraction,creline[sid],leafs[sid])"
   ]
  },
  {
   "cell_type": "code",
   "execution_count": 45,
   "metadata": {
    "collapsed": true
   },
   "outputs": [],
   "source": [
    "#sls_control[sid] [2][:1000]"
   ]
  },
  {
   "cell_type": "code",
   "execution_count": 46,
   "metadata": {
    "collapsed": true
   },
   "outputs": [],
   "source": [
    "\n",
    "#     nsamp = centroids.shape[0]\n",
    "#     #need source and target color\n",
    "#     source = np.repeat(np.linspace(0,nsamp - 1, nsamp, dtype = int), nsamp)\n",
    "#     target = np.tile(np.linspace(0,nsamp - 1, nsamp, dtype = int), nsamp)\n",
    "#     gp = np.zeros((nsamp, nsamp))\n",
    "#     for i in range(nsamp):\n",
    "#         for j in range(nsamp):\n",
    "#             if creline_sid[i] == creline_sid[j]:\n",
    "#                 if leafs_sid[i] == leafs_sid[j]:\n",
    "#                     gp[i,j] = 1\n",
    "                 \n",
    "#     goodpairs = np.asarray(np.where(gp == 1)).transpose()\n",
    "#     ds = pairwise_distances(centroids)**2\n",
    "#     #ds2 = ds[goodpairs]\n",
    "#     #dsnorm  = np.linalg.norm(ds2)\n",
    "#     ls = pairwise_distances(proj)**2\n",
    "#     nsamp = ds.shape[0]\n",
    "#     smoothedlosses = np.empty((nsamp,nsamp))\n",
    "#     smoothedlosses[:] = np.nan\n",
    "#     for i in range(goodpairs.shape[0]):\n",
    "#         #ci = cs[bbbb[i,0], bbbb[i,1]] / csnorm\n",
    "        \n",
    "#         di = ds[goodpairs[i,0], goodpairs[i,1]] / dsnorm\n",
    "#         print(di, qqq.predict(np.asarray([di])))\n",
    "#         smoothedlosses[goodpairs[i,0], goodpairs[i,1]] = qqq.predict(np.asarray([di]))\n"
   ]
  },
  {
   "cell_type": "code",
   "execution_count": 47,
   "metadata": {},
   "outputs": [
    {
     "name": "stdout",
     "output_type": "stream",
     "text": [
      "(620, 5, 1128, 577)\n",
      "0\n"
     ]
    }
   ],
   "source": [
    "gammas = np.asarray([0.1,.5,1,2,10])\n",
    "for sid in major_structure_ids[4:5]:\n",
    "    connectivity_data.structure_datas[sid].loocv_predictions_leaf_leaf2 = get_nwloocv_predictions_multimodel_merge_dists(connectivity_data.structure_datas[sid].reg_proj_vcount_norm_renorm, \n",
    "                                                                                       sls_control[sid], \n",
    "                                                                                       gammas, \n",
    "                                                                                       indices_creleaf2ormore[sid], \n",
    "                                                                                       indices_creleaf2ormore[sid])\n",
    "a= [list(range(5))]\n",
    "keys = np.asarray(list(itertools.product(*a)))\n",
    "\n",
    "reg_proj_vcount_norm_renorms= {}\n",
    "nwloocv_leaf_leaf2 = {}\n",
    "for sid in major_structure_ids[4:5]:\n",
    "    reg_proj_vcount_norm_renorms[sid ] = connectivity_data.structure_datas[sid].reg_proj_vcount_norm_renorm\n",
    "    nwloocv_leaf_leaf2[sid] = connectivity_data.structure_datas[sid].loocv_predictions_leaf_leaf2\n",
    "\n",
    "eval_indices_creleaf2ormore = get_eval_indices(indices_creleaf2ormore)\n",
    "losses_leaf_leaf2 = get_loss(reg_proj_vcount_norm_renorms, nwloocv_leaf_leaf2,pred_ind = eval_indices_creleaf2ormore, true_ind = eval_indices_creleaf2ormore,keys = keys)\n",
    "best_gamma_leaf_leaf2 = get_best_hyperparameters(losses_leaf_leaf2,keys)\n",
    "meanloss_nw_leaf_leaf2 = get_loss_best_hyp(losses_leaf_leaf2, best_gamma_leaf_leaf2)"
   ]
  },
  {
   "cell_type": "code",
   "execution_count": 48,
   "metadata": {},
   "outputs": [
    {
     "data": {
      "text/plain": [
       "array([[0.27214122, 0.4739557 , 0.42313107, ..., 0.06492651, 0.2599173 ,\n",
       "        0.73011268],\n",
       "       [0.27214122, 0.52240207, 0.42829346, ..., 0.06995269, 0.2599173 ,\n",
       "        0.61593079],\n",
       "       [0.27214122, 0.57021739, 0.42902701, ..., 0.07726793, 0.2599173 ,\n",
       "        0.64563718],\n",
       "       [0.27214122, 0.60097991, 0.42939872, ..., 0.08299022, 0.2599173 ,\n",
       "        0.67443383],\n",
       "       [0.27214122, 0.62702639, 0.42969824, ..., 0.08894389, 0.2599173 ,\n",
       "        0.70460058]])"
      ]
     },
     "execution_count": 48,
     "metadata": {},
     "output_type": "execute_result"
    }
   ],
   "source": [
    "losses_leaf_leaf2[315] #[:,1] is worse than centroid only at gamma = 200000"
   ]
  },
  {
   "cell_type": "code",
   "execution_count": 54,
   "metadata": {},
   "outputs": [
    {
     "data": {
      "text/plain": [
       "array([       nan,        nan, 0.0240286 ,        nan,        nan,\n",
       "              nan,        nan,        nan,        nan,        nan,\n",
       "              nan,        nan,        nan,        nan,        nan,\n",
       "              nan,        nan,        nan,        nan,        nan,\n",
       "              nan,        nan,        nan,        nan,        nan,\n",
       "              nan,        nan,        nan,        nan,        nan,\n",
       "              nan,        nan,        nan,        nan,        nan,\n",
       "              nan,        nan,        nan,        nan,        nan,\n",
       "              nan,        nan,        nan,        nan,        nan,\n",
       "              nan,        nan,        nan,        nan,        nan,\n",
       "              nan,        nan,        nan,        nan,        nan,\n",
       "              nan,        nan,        nan,        nan,        nan,\n",
       "              nan,        nan,        nan,        nan,        nan,\n",
       "              nan,        nan,        nan,        nan,        nan,\n",
       "              nan,        nan,        nan,        nan,        nan,\n",
       "              nan,        nan,        nan,        nan,        nan,\n",
       "              nan,        nan,        nan,        nan,        nan,\n",
       "              nan,        nan,        nan,        nan,        nan,\n",
       "              nan,        nan,        nan,        nan,        nan,\n",
       "              nan,        nan,        nan,        nan,        nan,\n",
       "              nan,        nan,        nan,        nan,        nan,\n",
       "              nan,        nan,        nan,        nan,        nan,\n",
       "              nan,        nan,        nan,        nan,        nan,\n",
       "              nan,        nan,        nan,        nan,        nan,\n",
       "              nan,        nan,        nan,        nan,        nan,\n",
       "              nan,        nan,        nan,        nan, 1.23695812,\n",
       "              nan,        nan,        nan,        nan,        nan,\n",
       "              nan,        nan,        nan,        nan,        nan,\n",
       "              nan,        nan,        nan,        nan,        nan,\n",
       "              nan,        nan,        nan,        nan,        nan,\n",
       "              nan,        nan,        nan,        nan,        nan,\n",
       "              nan,        nan,        nan,        nan,        nan,\n",
       "              nan,        nan,        nan, 0.46453054,        nan,\n",
       "              nan,        nan,        nan,        nan,        nan,\n",
       "              nan,        nan,        nan,        nan,        nan,\n",
       "              nan,        nan,        nan,        nan,        nan,\n",
       "              nan,        nan,        nan,        nan,        nan,\n",
       "              nan,        nan,        nan,        nan,        nan,\n",
       "              nan,        nan,        nan,        nan,        nan,\n",
       "              nan,        nan,        nan,        nan,        nan,\n",
       "              nan,        nan,        nan,        nan,        nan,\n",
       "              nan,        nan,        nan,        nan,        nan,\n",
       "              nan,        nan,        nan,        nan,        nan,\n",
       "              nan,        nan,        nan,        nan,        nan,\n",
       "              nan,        nan,        nan,        nan,        nan,\n",
       "              nan,        nan,        nan,        nan,        nan,\n",
       "              nan,        nan,        nan,        nan,        nan,\n",
       "              nan,        nan,        nan,        nan,        nan,\n",
       "              nan,        nan,        nan,        nan,        nan,\n",
       "              nan,        nan,        nan,        nan,        nan,\n",
       "              nan,        nan,        nan,        nan,        nan,\n",
       "              nan,        nan,        nan,        nan,        nan,\n",
       "              nan,        nan,        nan,        nan,        nan,\n",
       "              nan,        nan,        nan,        nan,        nan,\n",
       "              nan,        nan,        nan,        nan,        nan,\n",
       "              nan,        nan,        nan,        nan,        nan,\n",
       "              nan,        nan,        nan,        nan,        nan,\n",
       "              nan,        nan,        nan,        nan,        nan,\n",
       "              nan,        nan,        nan,        nan,        nan,\n",
       "              nan,        nan,        nan,        nan,        nan,\n",
       "              nan,        nan,        nan,        nan,        nan,\n",
       "              nan,        nan,        nan,        nan,        nan,\n",
       "              nan,        nan,        nan,        nan,        nan,\n",
       "              nan,        nan,        nan,        nan,        nan,\n",
       "              nan,        nan,        nan,        nan,        nan,\n",
       "              nan,        nan, 0.32207188,        nan,        nan,\n",
       "              nan,        nan,        nan,        nan,        nan,\n",
       "              nan,        nan,        nan,        nan,        nan,\n",
       "              nan,        nan,        nan,        nan,        nan,\n",
       "              nan,        nan,        nan,        nan,        nan,\n",
       "              nan,        nan,        nan,        nan,        nan,\n",
       "              nan,        nan,        nan,        nan,        nan,\n",
       "              nan,        nan,        nan,        nan,        nan,\n",
       "              nan,        nan,        nan,        nan,        nan,\n",
       "              nan,        nan,        nan,        nan,        nan,\n",
       "              nan,        nan,        nan,        nan,        nan,\n",
       "              nan,        nan,        nan,        nan,        nan,\n",
       "              nan,        nan,        nan,        nan,        nan,\n",
       "              nan,        nan,        nan,        nan,        nan,\n",
       "              nan,        nan,        nan,        nan,        nan,\n",
       "              nan,        nan,        nan,        nan,        nan,\n",
       "              nan,        nan,        nan,        nan,        nan,\n",
       "              nan,        nan,        nan,        nan,        nan,\n",
       "              nan,        nan,        nan,        nan,        nan,\n",
       "              nan,        nan,        nan,        nan,        nan,\n",
       "              nan,        nan,        nan,        nan,        nan,\n",
       "              nan,        nan,        nan,        nan,        nan,\n",
       "              nan,        nan,        nan,        nan,        nan,\n",
       "              nan,        nan, 1.02697207,        nan,        nan,\n",
       "              nan,        nan,        nan,        nan,        nan,\n",
       "              nan,        nan,        nan,        nan,        nan,\n",
       "              nan,        nan,        nan,        nan,        nan,\n",
       "              nan,        nan,        nan,        nan,        nan,\n",
       "              nan,        nan,        nan,        nan,        nan,\n",
       "              nan,        nan,        nan,        nan,        nan,\n",
       "              nan,        nan,        nan,        nan,        nan,\n",
       "              nan,        nan,        nan,        nan,        nan,\n",
       "              nan,        nan,        nan,        nan,        nan,\n",
       "              nan,        nan,        nan,        nan,        nan,\n",
       "              nan,        nan,        nan,        nan,        nan,\n",
       "              nan,        nan,        nan,        nan,        nan,\n",
       "              nan,        nan,        nan,        nan,        nan,\n",
       "              nan,        nan,        nan,        nan,        nan,\n",
       "              nan,        nan,        nan,        nan,        nan,\n",
       "              nan,        nan,        nan,        nan,        nan,\n",
       "              nan,        nan,        nan,        nan,        nan,\n",
       "              nan, 1.02697207,        nan,        nan,        nan,\n",
       "              nan, 1.02697207,        nan,        nan,        nan,\n",
       "              nan,        nan,        nan,        nan,        nan,\n",
       "              nan,        nan,        nan,        nan,        nan,\n",
       "              nan,        nan,        nan,        nan,        nan,\n",
       "              nan,        nan,        nan,        nan,        nan,\n",
       "              nan,        nan,        nan,        nan,        nan,\n",
       "              nan,        nan,        nan,        nan,        nan,\n",
       "              nan,        nan,        nan,        nan,        nan,\n",
       "              nan,        nan,        nan,        nan,        nan,\n",
       "              nan,        nan,        nan,        nan,        nan,\n",
       "              nan,        nan,        nan,        nan,        nan,\n",
       "       1.22915783,        nan,        nan,        nan,        nan,\n",
       "              nan,        nan,        nan,        nan,        nan,\n",
       "              nan,        nan,        nan,        nan,        nan,\n",
       "              nan,        nan,        nan,        nan,        nan,\n",
       "              nan,        nan,        nan,        nan,        nan,\n",
       "              nan,        nan,        nan,        nan,        nan,\n",
       "       1.23695812,        nan,        nan,        nan,        nan,\n",
       "              nan,        nan,        nan,        nan,        nan,\n",
       "              nan,        nan,        nan,        nan,        nan,\n",
       "              nan,        nan,        nan,        nan,        nan,\n",
       "              nan,        nan,        nan,        nan,        nan,\n",
       "              nan,        nan,        nan,        nan,        nan,\n",
       "              nan,        nan,        nan,        nan,        nan,\n",
       "              nan,        nan,        nan,        nan,        nan,\n",
       "              nan,        nan,        nan,        nan,        nan,\n",
       "              nan,        nan,        nan,        nan,        nan,\n",
       "              nan,        nan,        nan,        nan,        nan,\n",
       "              nan,        nan,        nan,        nan,        nan,\n",
       "              nan,        nan,        nan,        nan,        nan,\n",
       "              nan,        nan,        nan,        nan,        nan,\n",
       "              nan,        nan,        nan,        nan,        nan,\n",
       "              nan,        nan,        nan,        nan,        nan,\n",
       "              nan,        nan,        nan,        nan,        nan,\n",
       "              nan,        nan,        nan,        nan,        nan,\n",
       "              nan,        nan,        nan,        nan,        nan,\n",
       "              nan,        nan,        nan,        nan,        nan,\n",
       "              nan,        nan,        nan,        nan,        nan,\n",
       "              nan,        nan,        nan,        nan,        nan,\n",
       "              nan,        nan,        nan,        nan,        nan,\n",
       "              nan,        nan,        nan,        nan,        nan,\n",
       "              nan,        nan,        nan,        nan,        nan,\n",
       "              nan,        nan,        nan,        nan,        nan,\n",
       "              nan,        nan,        nan,        nan,        nan,\n",
       "              nan,        nan,        nan,        nan,        nan,\n",
       "              nan,        nan,        nan,        nan,        nan,\n",
       "              nan,        nan,        nan,        nan,        nan,\n",
       "              nan,        nan,        nan,        nan,        nan,\n",
       "              nan,        nan,        nan,        nan,        nan,\n",
       "              nan,        nan,        nan,        nan,        nan,\n",
       "              nan,        nan,        nan,        nan,        nan,\n",
       "              nan,        nan,        nan,        nan,        nan,\n",
       "              nan,        nan,        nan,        nan,        nan,\n",
       "              nan,        nan,        nan,        nan,        nan,\n",
       "              nan,        nan,        nan,        nan,        nan,\n",
       "              nan,        nan,        nan,        nan,        nan,\n",
       "              nan,        nan,        nan,        nan,        nan,\n",
       "              nan,        nan,        nan,        nan,        nan,\n",
       "              nan,        nan,        nan,        nan,        nan,\n",
       "              nan,        nan,        nan,        nan,        nan,\n",
       "              nan,        nan,        nan,        nan,        nan,\n",
       "              nan,        nan,        nan,        nan,        nan,\n",
       "              nan,        nan,        nan,        nan,        nan,\n",
       "              nan,        nan,        nan,        nan,        nan,\n",
       "              nan,        nan,        nan,        nan,        nan,\n",
       "              nan,        nan,        nan,        nan,        nan,\n",
       "              nan,        nan,        nan,        nan,        nan,\n",
       "              nan,        nan,        nan,        nan,        nan,\n",
       "              nan,        nan,        nan,        nan,        nan,\n",
       "              nan,        nan,        nan,        nan,        nan,\n",
       "              nan, 0.30847083,        nan,        nan,        nan,\n",
       "              nan,        nan,        nan,        nan,        nan,\n",
       "              nan,        nan,        nan,        nan,        nan,\n",
       "              nan,        nan,        nan,        nan,        nan,\n",
       "              nan,        nan,        nan,        nan,        nan,\n",
       "              nan,        nan,        nan,        nan,        nan,\n",
       "              nan,        nan,        nan,        nan,        nan,\n",
       "              nan,        nan,        nan,        nan,        nan,\n",
       "              nan,        nan,        nan,        nan,        nan,\n",
       "              nan,        nan,        nan,        nan,        nan,\n",
       "              nan,        nan,        nan,        nan,        nan,\n",
       "              nan,        nan,        nan,        nan,        nan,\n",
       "              nan,        nan,        nan,        nan,        nan,\n",
       "              nan,        nan,        nan,        nan,        nan,\n",
       "              nan,        nan,        nan,        nan,        nan,\n",
       "              nan,        nan,        nan,        nan,        nan,\n",
       "              nan,        nan,        nan,        nan,        nan,\n",
       "              nan,        nan,        nan,        nan,        nan,\n",
       "              nan,        nan,        nan,        nan,        nan,\n",
       "              nan,        nan,        nan,        nan,        nan,\n",
       "              nan,        nan,        nan,        nan,        nan,\n",
       "              nan,        nan,        nan,        nan,        nan,\n",
       "              nan,        nan,        nan,        nan,        nan])"
      ]
     },
     "execution_count": 54,
     "metadata": {},
     "output_type": "execute_result"
    }
   ],
   "source": [
    "sls_control[sid][eval_indices_creleaf2ormore[315][1]][:1000]"
   ]
  },
  {
   "cell_type": "code",
   "execution_count": 56,
   "metadata": {},
   "outputs": [
    {
     "data": {
      "text/plain": [
       "2"
      ]
     },
     "execution_count": 56,
     "metadata": {},
     "output_type": "execute_result"
    }
   ],
   "source": []
  },
  {
   "cell_type": "code",
   "execution_count": 41,
   "metadata": {},
   "outputs": [
    {
     "data": {
      "text/plain": [
       "array([0.29962911])"
      ]
     },
     "execution_count": 41,
     "metadata": {},
     "output_type": "execute_result"
    }
   ],
   "source": [
    "meanloss_nw_leaf_leaf2"
   ]
  },
  {
   "cell_type": "code",
   "execution_count": 22,
   "metadata": {},
   "outputs": [
    {
     "data": {
      "text/plain": [
       "array([0.30222913])"
      ]
     },
     "execution_count": 22,
     "metadata": {},
     "output_type": "execute_result"
    }
   ],
   "source": [
    "meanloss_nw_leaf_leaf2"
   ]
  },
  {
   "cell_type": "code",
   "execution_count": 24,
   "metadata": {
    "collapsed": true
   },
   "outputs": [],
   "source": [
    "pds = pairwise_distances(connectivity_data.structure_datas[sid].centroids)**2"
   ]
  },
  {
   "cell_type": "code",
   "execution_count": 179,
   "metadata": {},
   "outputs": [
    {
     "name": "stderr",
     "output_type": "stream",
     "text": [
      "/Users/samsonkoelle/anaconda3/envs/allen_010719_5/lib/python3.7/site-packages/ipykernel_launcher.py:92: RuntimeWarning: divide by zero encountered in true_divide\n",
      "/Users/samsonkoelle/anaconda3/envs/allen_010719_5/lib/python3.7/site-packages/ipykernel_launcher.py:92: RuntimeWarning: invalid value encountered in true_divide\n",
      "/Users/samsonkoelle/anaconda3/envs/allen_010719_5/lib/python3.7/site-packages/ipykernel_launcher.py:92: RuntimeWarning: overflow encountered in true_divide\n"
     ]
    },
    {
     "name": "stdout",
     "output_type": "stream",
     "text": [
      "(620, 5, 1128, 577)\n",
      "0\n"
     ]
    }
   ],
   "source": [
    "gammas = np.asarray([0.1,.5,1,2,10])\n",
    "for sid in major_structure_ids[4:5]:\n",
    "    connectivity_data.structure_datas[sid].loocv_predictions_leaf_leaf2 = get_nwloocv_predictions_multimodel_merge_dists(connectivity_data.structure_datas[sid].reg_proj_vcount_norm_renorm, \n",
    "                                                                                       pds, \n",
    "                                                                                       gammas, \n",
    "                                                                                       indices_creleaf2ormore[sid], \n",
    "                                                                                       indices_creleaf2ormore[sid])\n",
    "a= [list(range(5))]\n",
    "keys = np.asarray(list(itertools.product(*a)))\n",
    "\n",
    "reg_proj_vcount_norm_renorms= {}\n",
    "nwloocv_leaf_leaf2 = {}\n",
    "for sid in major_structure_ids[4:5]:\n",
    "    reg_proj_vcount_norm_renorms[sid ] = connectivity_data.structure_datas[sid].reg_proj_vcount_norm_renorm\n",
    "    nwloocv_leaf_leaf2[sid] = connectivity_data.structure_datas[sid].loocv_predictions_leaf_leaf2\n",
    "\n",
    "# eval_indices_creleaf2ormore = get_eval_indices(indices_creleaf2ormore)\n",
    "# losses_leaf_leaf2 = get_loss(reg_proj_vcount_norm_renorms, nwloocv_leaf_leaf2,pred_ind = eval_indices_creleaf2ormore, true_ind = eval_indices_creleaf2ormore,keys = keys)\n",
    "# best_gamma_leaf_leaf2 = get_best_hyperparameters(losses_leaf_leaf2,keys)\n",
    "# meanloss_nw_leaf_leaf2 = get_loss_best_hyp(losses_leaf_leaf2, best_gamma_leaf_leaf2)\n",
    "\n",
    "eval_indices_creleaf2ormore = get_eval_indices(indices_creleaf2ormore)\n",
    "losses_leaf_leaf2 = get_loss(reg_proj_vcount_norm_renorms, nwloocv_leaf_leaf2,pred_ind = eval_indices_creleaf2ormore, true_ind = eval_indices_creleaf2ormore,keys = keys)\n",
    "best_gamma_leaf_leaf2 = get_best_hyperparameters(losses_leaf_leaf2,keys)\n",
    "meanloss_nw_leaf_leaf2 = get_loss_best_hyp(losses_leaf_leaf2, best_gamma_leaf_leaf2)"
   ]
  },
  {
   "cell_type": "code",
   "execution_count": 180,
   "metadata": {
    "collapsed": true
   },
   "outputs": [],
   "source": [
    "#losses_leaf_leaf2[315]  = 0."
   ]
  },
  {
   "cell_type": "code",
   "execution_count": 181,
   "metadata": {
    "collapsed": true
   },
   "outputs": [],
   "source": [
    "lsave = losses_leaf_leaf2[315] + 0."
   ]
  },
  {
   "cell_type": "code",
   "execution_count": 182,
   "metadata": {},
   "outputs": [
    {
     "data": {
      "text/plain": [
       "array([[0.27214122, 0.42440166, 0.42318851, ..., 0.06707866, 0.2599173 ,\n",
       "        0.64170026],\n",
       "       [0.27214122, 0.42440602, 0.42405743, ..., 0.06228889, 0.2599173 ,\n",
       "        0.64167633],\n",
       "       [0.27214122, 0.42440602, 0.4240574 , ..., 0.07484195, 0.2599173 ,\n",
       "        0.64167633],\n",
       "       [0.27214122, 0.42440602, 0.4240574 , ..., 0.08480845, 0.2599173 ,\n",
       "        0.64167633],\n",
       "       [0.27214122, 0.42440602, 0.4240574 , ..., 0.08626172, 0.2599173 ,\n",
       "        0.64167633]])"
      ]
     },
     "execution_count": 182,
     "metadata": {},
     "output_type": "execute_result"
    }
   ],
   "source": [
    "lsave"
   ]
  },
  {
   "cell_type": "code",
   "execution_count": 183,
   "metadata": {},
   "outputs": [
    {
     "data": {
      "text/plain": [
       "array([[0]])"
      ]
     },
     "execution_count": 183,
     "metadata": {},
     "output_type": "execute_result"
    }
   ],
   "source": [
    "best_gamma_leaf_leaf2"
   ]
  },
  {
   "cell_type": "code",
   "execution_count": 184,
   "metadata": {},
   "outputs": [
    {
     "data": {
      "text/plain": [
       "array([0.30072493])"
      ]
     },
     "execution_count": 184,
     "metadata": {},
     "output_type": "execute_result"
    }
   ],
   "source": [
    "meanloss_nw_leaf_leaf2"
   ]
  },
  {
   "cell_type": "code",
   "execution_count": 14,
   "metadata": {},
   "outputs": [
    {
     "name": "stderr",
     "output_type": "stream",
     "text": [
      "/Users/samsonkoelle/anaconda3/envs/allen_010719_5/lib/python3.7/site-packages/ipykernel_launcher.py:23: RuntimeWarning: divide by zero encountered in true_divide\n",
      "/Users/samsonkoelle/anaconda3/envs/allen_010719_5/lib/python3.7/site-packages/ipykernel_launcher.py:23: RuntimeWarning: invalid value encountered in true_divide\n",
      "/Users/samsonkoelle/anaconda3/envs/allen_010719_5/lib/python3.7/site-packages/ipykernel_launcher.py:23: RuntimeWarning: divide by zero encountered in true_divide\n",
      "/Users/samsonkoelle/anaconda3/envs/allen_010719_5/lib/python3.7/site-packages/ipykernel_launcher.py:23: RuntimeWarning: invalid value encountered in true_divide\n",
      "/Users/samsonkoelle/anaconda3/envs/allen_010719_5/lib/python3.7/site-packages/ipykernel_launcher.py:23: RuntimeWarning: divide by zero encountered in true_divide\n",
      "/Users/samsonkoelle/anaconda3/envs/allen_010719_5/lib/python3.7/site-packages/ipykernel_launcher.py:23: RuntimeWarning: invalid value encountered in true_divide\n",
      "/Users/samsonkoelle/anaconda3/envs/allen_010719_5/lib/python3.7/site-packages/ipykernel_launcher.py:23: RuntimeWarning: divide by zero encountered in true_divide\n",
      "/Users/samsonkoelle/anaconda3/envs/allen_010719_5/lib/python3.7/site-packages/ipykernel_launcher.py:23: RuntimeWarning: invalid value encountered in true_divide\n",
      "/Users/samsonkoelle/anaconda3/envs/allen_010719_5/lib/python3.7/site-packages/ipykernel_launcher.py:23: RuntimeWarning: divide by zero encountered in true_divide\n",
      "/Users/samsonkoelle/anaconda3/envs/allen_010719_5/lib/python3.7/site-packages/ipykernel_launcher.py:23: RuntimeWarning: invalid value encountered in true_divide\n",
      "/Users/samsonkoelle/anaconda3/envs/allen_010719_5/lib/python3.7/site-packages/ipykernel_launcher.py:23: RuntimeWarning: divide by zero encountered in true_divide\n",
      "/Users/samsonkoelle/anaconda3/envs/allen_010719_5/lib/python3.7/site-packages/ipykernel_launcher.py:23: RuntimeWarning: invalid value encountered in true_divide\n",
      "/Users/samsonkoelle/anaconda3/envs/allen_010719_5/lib/python3.7/site-packages/ipykernel_launcher.py:23: RuntimeWarning: divide by zero encountered in true_divide\n",
      "/Users/samsonkoelle/anaconda3/envs/allen_010719_5/lib/python3.7/site-packages/ipykernel_launcher.py:23: RuntimeWarning: invalid value encountered in true_divide\n",
      "/Users/samsonkoelle/anaconda3/envs/allen_010719_5/lib/python3.7/site-packages/ipykernel_launcher.py:23: RuntimeWarning: divide by zero encountered in true_divide\n",
      "/Users/samsonkoelle/anaconda3/envs/allen_010719_5/lib/python3.7/site-packages/ipykernel_launcher.py:23: RuntimeWarning: invalid value encountered in true_divide\n",
      "/Users/samsonkoelle/anaconda3/envs/allen_010719_5/lib/python3.7/site-packages/ipykernel_launcher.py:23: RuntimeWarning: divide by zero encountered in true_divide\n",
      "/Users/samsonkoelle/anaconda3/envs/allen_010719_5/lib/python3.7/site-packages/ipykernel_launcher.py:23: RuntimeWarning: invalid value encountered in true_divide\n",
      "/Users/samsonkoelle/anaconda3/envs/allen_010719_5/lib/python3.7/site-packages/ipykernel_launcher.py:23: RuntimeWarning: divide by zero encountered in true_divide\n",
      "/Users/samsonkoelle/anaconda3/envs/allen_010719_5/lib/python3.7/site-packages/ipykernel_launcher.py:23: RuntimeWarning: invalid value encountered in true_divide\n",
      "/Users/samsonkoelle/anaconda3/envs/allen_010719_5/lib/python3.7/site-packages/ipykernel_launcher.py:23: RuntimeWarning: divide by zero encountered in true_divide\n",
      "/Users/samsonkoelle/anaconda3/envs/allen_010719_5/lib/python3.7/site-packages/ipykernel_launcher.py:23: RuntimeWarning: invalid value encountered in true_divide\n",
      "/Users/samsonkoelle/anaconda3/envs/allen_010719_5/lib/python3.7/site-packages/ipykernel_launcher.py:23: RuntimeWarning: divide by zero encountered in true_divide\n",
      "/Users/samsonkoelle/anaconda3/envs/allen_010719_5/lib/python3.7/site-packages/ipykernel_launcher.py:23: RuntimeWarning: invalid value encountered in true_divide\n",
      "/Users/samsonkoelle/anaconda3/envs/allen_010719_5/lib/python3.7/site-packages/ipykernel_launcher.py:23: RuntimeWarning: divide by zero encountered in true_divide\n",
      "/Users/samsonkoelle/anaconda3/envs/allen_010719_5/lib/python3.7/site-packages/ipykernel_launcher.py:23: RuntimeWarning: invalid value encountered in true_divide\n",
      "/Users/samsonkoelle/anaconda3/envs/allen_010719_5/lib/python3.7/site-packages/ipykernel_launcher.py:23: RuntimeWarning: divide by zero encountered in true_divide\n",
      "/Users/samsonkoelle/anaconda3/envs/allen_010719_5/lib/python3.7/site-packages/ipykernel_launcher.py:23: RuntimeWarning: invalid value encountered in true_divide\n",
      "/Users/samsonkoelle/anaconda3/envs/allen_010719_5/lib/python3.7/site-packages/ipykernel_launcher.py:23: RuntimeWarning: divide by zero encountered in true_divide\n",
      "/Users/samsonkoelle/anaconda3/envs/allen_010719_5/lib/python3.7/site-packages/ipykernel_launcher.py:23: RuntimeWarning: invalid value encountered in true_divide\n",
      "/Users/samsonkoelle/anaconda3/envs/allen_010719_5/lib/python3.7/site-packages/ipykernel_launcher.py:23: RuntimeWarning: divide by zero encountered in true_divide\n",
      "/Users/samsonkoelle/anaconda3/envs/allen_010719_5/lib/python3.7/site-packages/ipykernel_launcher.py:23: RuntimeWarning: invalid value encountered in true_divide\n",
      "/Users/samsonkoelle/anaconda3/envs/allen_010719_5/lib/python3.7/site-packages/ipykernel_launcher.py:23: RuntimeWarning: divide by zero encountered in true_divide\n",
      "/Users/samsonkoelle/anaconda3/envs/allen_010719_5/lib/python3.7/site-packages/ipykernel_launcher.py:23: RuntimeWarning: invalid value encountered in true_divide\n",
      "/Users/samsonkoelle/anaconda3/envs/allen_010719_5/lib/python3.7/site-packages/ipykernel_launcher.py:23: RuntimeWarning: divide by zero encountered in true_divide\n",
      "/Users/samsonkoelle/anaconda3/envs/allen_010719_5/lib/python3.7/site-packages/ipykernel_launcher.py:23: RuntimeWarning: invalid value encountered in true_divide\n",
      "/Users/samsonkoelle/anaconda3/envs/allen_010719_5/lib/python3.7/site-packages/ipykernel_launcher.py:23: RuntimeWarning: divide by zero encountered in true_divide\n",
      "/Users/samsonkoelle/anaconda3/envs/allen_010719_5/lib/python3.7/site-packages/ipykernel_launcher.py:23: RuntimeWarning: invalid value encountered in true_divide\n",
      "/Users/samsonkoelle/anaconda3/envs/allen_010719_5/lib/python3.7/site-packages/ipykernel_launcher.py:23: RuntimeWarning: divide by zero encountered in true_divide\n",
      "/Users/samsonkoelle/anaconda3/envs/allen_010719_5/lib/python3.7/site-packages/ipykernel_launcher.py:23: RuntimeWarning: invalid value encountered in true_divide\n",
      "/Users/samsonkoelle/anaconda3/envs/allen_010719_5/lib/python3.7/site-packages/ipykernel_launcher.py:23: RuntimeWarning: divide by zero encountered in true_divide\n",
      "/Users/samsonkoelle/anaconda3/envs/allen_010719_5/lib/python3.7/site-packages/ipykernel_launcher.py:23: RuntimeWarning: invalid value encountered in true_divide\n",
      "/Users/samsonkoelle/anaconda3/envs/allen_010719_5/lib/python3.7/site-packages/ipykernel_launcher.py:23: RuntimeWarning: divide by zero encountered in true_divide\n",
      "/Users/samsonkoelle/anaconda3/envs/allen_010719_5/lib/python3.7/site-packages/ipykernel_launcher.py:23: RuntimeWarning: invalid value encountered in true_divide\n",
      "/Users/samsonkoelle/anaconda3/envs/allen_010719_5/lib/python3.7/site-packages/ipykernel_launcher.py:23: RuntimeWarning: divide by zero encountered in true_divide\n",
      "/Users/samsonkoelle/anaconda3/envs/allen_010719_5/lib/python3.7/site-packages/ipykernel_launcher.py:23: RuntimeWarning: invalid value encountered in true_divide\n",
      "/Users/samsonkoelle/anaconda3/envs/allen_010719_5/lib/python3.7/site-packages/ipykernel_launcher.py:23: RuntimeWarning: divide by zero encountered in true_divide\n",
      "/Users/samsonkoelle/anaconda3/envs/allen_010719_5/lib/python3.7/site-packages/ipykernel_launcher.py:23: RuntimeWarning: invalid value encountered in true_divide\n",
      "/Users/samsonkoelle/anaconda3/envs/allen_010719_5/lib/python3.7/site-packages/ipykernel_launcher.py:23: RuntimeWarning: divide by zero encountered in true_divide\n",
      "/Users/samsonkoelle/anaconda3/envs/allen_010719_5/lib/python3.7/site-packages/ipykernel_launcher.py:23: RuntimeWarning: invalid value encountered in true_divide\n",
      "/Users/samsonkoelle/anaconda3/envs/allen_010719_5/lib/python3.7/site-packages/ipykernel_launcher.py:23: RuntimeWarning: divide by zero encountered in true_divide\n",
      "/Users/samsonkoelle/anaconda3/envs/allen_010719_5/lib/python3.7/site-packages/ipykernel_launcher.py:23: RuntimeWarning: invalid value encountered in true_divide\n"
     ]
    },
    {
     "name": "stderr",
     "output_type": "stream",
     "text": [
      "/Users/samsonkoelle/anaconda3/envs/allen_010719_5/lib/python3.7/site-packages/ipykernel_launcher.py:23: RuntimeWarning: divide by zero encountered in true_divide\n",
      "/Users/samsonkoelle/anaconda3/envs/allen_010719_5/lib/python3.7/site-packages/ipykernel_launcher.py:23: RuntimeWarning: invalid value encountered in true_divide\n",
      "/Users/samsonkoelle/anaconda3/envs/allen_010719_5/lib/python3.7/site-packages/ipykernel_launcher.py:23: RuntimeWarning: divide by zero encountered in true_divide\n",
      "/Users/samsonkoelle/anaconda3/envs/allen_010719_5/lib/python3.7/site-packages/ipykernel_launcher.py:23: RuntimeWarning: invalid value encountered in true_divide\n",
      "/Users/samsonkoelle/anaconda3/envs/allen_010719_5/lib/python3.7/site-packages/ipykernel_launcher.py:23: RuntimeWarning: divide by zero encountered in true_divide\n",
      "/Users/samsonkoelle/anaconda3/envs/allen_010719_5/lib/python3.7/site-packages/ipykernel_launcher.py:23: RuntimeWarning: invalid value encountered in true_divide\n",
      "/Users/samsonkoelle/anaconda3/envs/allen_010719_5/lib/python3.7/site-packages/ipykernel_launcher.py:23: RuntimeWarning: divide by zero encountered in true_divide\n",
      "/Users/samsonkoelle/anaconda3/envs/allen_010719_5/lib/python3.7/site-packages/ipykernel_launcher.py:23: RuntimeWarning: invalid value encountered in true_divide\n",
      "/Users/samsonkoelle/anaconda3/envs/allen_010719_5/lib/python3.7/site-packages/ipykernel_launcher.py:23: RuntimeWarning: divide by zero encountered in true_divide\n",
      "/Users/samsonkoelle/anaconda3/envs/allen_010719_5/lib/python3.7/site-packages/ipykernel_launcher.py:23: RuntimeWarning: invalid value encountered in true_divide\n",
      "/Users/samsonkoelle/anaconda3/envs/allen_010719_5/lib/python3.7/site-packages/ipykernel_launcher.py:23: RuntimeWarning: divide by zero encountered in true_divide\n",
      "/Users/samsonkoelle/anaconda3/envs/allen_010719_5/lib/python3.7/site-packages/ipykernel_launcher.py:23: RuntimeWarning: invalid value encountered in true_divide\n",
      "/Users/samsonkoelle/anaconda3/envs/allen_010719_5/lib/python3.7/site-packages/ipykernel_launcher.py:23: RuntimeWarning: overflow encountered in true_divide\n",
      "/Users/samsonkoelle/anaconda3/envs/allen_010719_5/lib/python3.7/site-packages/ipykernel_launcher.py:23: RuntimeWarning: divide by zero encountered in true_divide\n",
      "/Users/samsonkoelle/anaconda3/envs/allen_010719_5/lib/python3.7/site-packages/ipykernel_launcher.py:23: RuntimeWarning: invalid value encountered in true_divide\n",
      "/Users/samsonkoelle/anaconda3/envs/allen_010719_5/lib/python3.7/site-packages/ipykernel_launcher.py:23: RuntimeWarning: divide by zero encountered in true_divide\n",
      "/Users/samsonkoelle/anaconda3/envs/allen_010719_5/lib/python3.7/site-packages/ipykernel_launcher.py:23: RuntimeWarning: invalid value encountered in true_divide\n",
      "/Users/samsonkoelle/anaconda3/envs/allen_010719_5/lib/python3.7/site-packages/ipykernel_launcher.py:23: RuntimeWarning: divide by zero encountered in true_divide\n",
      "/Users/samsonkoelle/anaconda3/envs/allen_010719_5/lib/python3.7/site-packages/ipykernel_launcher.py:23: RuntimeWarning: invalid value encountered in true_divide\n",
      "/Users/samsonkoelle/anaconda3/envs/allen_010719_5/lib/python3.7/site-packages/ipykernel_launcher.py:23: RuntimeWarning: divide by zero encountered in true_divide\n",
      "/Users/samsonkoelle/anaconda3/envs/allen_010719_5/lib/python3.7/site-packages/ipykernel_launcher.py:23: RuntimeWarning: invalid value encountered in true_divide\n",
      "/Users/samsonkoelle/anaconda3/envs/allen_010719_5/lib/python3.7/site-packages/ipykernel_launcher.py:23: RuntimeWarning: divide by zero encountered in true_divide\n",
      "/Users/samsonkoelle/anaconda3/envs/allen_010719_5/lib/python3.7/site-packages/ipykernel_launcher.py:23: RuntimeWarning: invalid value encountered in true_divide\n",
      "/Users/samsonkoelle/anaconda3/envs/allen_010719_5/lib/python3.7/site-packages/ipykernel_launcher.py:23: RuntimeWarning: divide by zero encountered in true_divide\n",
      "/Users/samsonkoelle/anaconda3/envs/allen_010719_5/lib/python3.7/site-packages/ipykernel_launcher.py:23: RuntimeWarning: invalid value encountered in true_divide\n",
      "/Users/samsonkoelle/anaconda3/envs/allen_010719_5/lib/python3.7/site-packages/ipykernel_launcher.py:23: RuntimeWarning: divide by zero encountered in true_divide\n",
      "/Users/samsonkoelle/anaconda3/envs/allen_010719_5/lib/python3.7/site-packages/ipykernel_launcher.py:23: RuntimeWarning: invalid value encountered in true_divide\n",
      "/Users/samsonkoelle/anaconda3/envs/allen_010719_5/lib/python3.7/site-packages/ipykernel_launcher.py:23: RuntimeWarning: divide by zero encountered in true_divide\n",
      "/Users/samsonkoelle/anaconda3/envs/allen_010719_5/lib/python3.7/site-packages/ipykernel_launcher.py:23: RuntimeWarning: invalid value encountered in true_divide\n",
      "/Users/samsonkoelle/anaconda3/envs/allen_010719_5/lib/python3.7/site-packages/ipykernel_launcher.py:23: RuntimeWarning: divide by zero encountered in true_divide\n",
      "/Users/samsonkoelle/anaconda3/envs/allen_010719_5/lib/python3.7/site-packages/ipykernel_launcher.py:23: RuntimeWarning: invalid value encountered in true_divide\n",
      "/Users/samsonkoelle/anaconda3/envs/allen_010719_5/lib/python3.7/site-packages/ipykernel_launcher.py:23: RuntimeWarning: divide by zero encountered in true_divide\n",
      "/Users/samsonkoelle/anaconda3/envs/allen_010719_5/lib/python3.7/site-packages/ipykernel_launcher.py:23: RuntimeWarning: invalid value encountered in true_divide\n",
      "/Users/samsonkoelle/anaconda3/envs/allen_010719_5/lib/python3.7/site-packages/ipykernel_launcher.py:23: RuntimeWarning: divide by zero encountered in true_divide\n",
      "/Users/samsonkoelle/anaconda3/envs/allen_010719_5/lib/python3.7/site-packages/ipykernel_launcher.py:23: RuntimeWarning: invalid value encountered in true_divide\n",
      "/Users/samsonkoelle/anaconda3/envs/allen_010719_5/lib/python3.7/site-packages/ipykernel_launcher.py:23: RuntimeWarning: divide by zero encountered in true_divide\n",
      "/Users/samsonkoelle/anaconda3/envs/allen_010719_5/lib/python3.7/site-packages/ipykernel_launcher.py:23: RuntimeWarning: invalid value encountered in true_divide\n",
      "/Users/samsonkoelle/anaconda3/envs/allen_010719_5/lib/python3.7/site-packages/ipykernel_launcher.py:23: RuntimeWarning: divide by zero encountered in true_divide\n",
      "/Users/samsonkoelle/anaconda3/envs/allen_010719_5/lib/python3.7/site-packages/ipykernel_launcher.py:23: RuntimeWarning: invalid value encountered in true_divide\n",
      "/Users/samsonkoelle/anaconda3/envs/allen_010719_5/lib/python3.7/site-packages/ipykernel_launcher.py:23: RuntimeWarning: divide by zero encountered in true_divide\n",
      "/Users/samsonkoelle/anaconda3/envs/allen_010719_5/lib/python3.7/site-packages/ipykernel_launcher.py:23: RuntimeWarning: invalid value encountered in true_divide\n",
      "/Users/samsonkoelle/anaconda3/envs/allen_010719_5/lib/python3.7/site-packages/ipykernel_launcher.py:23: RuntimeWarning: divide by zero encountered in true_divide\n",
      "/Users/samsonkoelle/anaconda3/envs/allen_010719_5/lib/python3.7/site-packages/ipykernel_launcher.py:23: RuntimeWarning: invalid value encountered in true_divide\n",
      "/Users/samsonkoelle/anaconda3/envs/allen_010719_5/lib/python3.7/site-packages/ipykernel_launcher.py:23: RuntimeWarning: divide by zero encountered in true_divide\n",
      "/Users/samsonkoelle/anaconda3/envs/allen_010719_5/lib/python3.7/site-packages/ipykernel_launcher.py:23: RuntimeWarning: invalid value encountered in true_divide\n",
      "/Users/samsonkoelle/anaconda3/envs/allen_010719_5/lib/python3.7/site-packages/ipykernel_launcher.py:23: RuntimeWarning: divide by zero encountered in true_divide\n",
      "/Users/samsonkoelle/anaconda3/envs/allen_010719_5/lib/python3.7/site-packages/ipykernel_launcher.py:23: RuntimeWarning: invalid value encountered in true_divide\n",
      "/Users/samsonkoelle/anaconda3/envs/allen_010719_5/lib/python3.7/site-packages/ipykernel_launcher.py:23: RuntimeWarning: divide by zero encountered in true_divide\n",
      "/Users/samsonkoelle/anaconda3/envs/allen_010719_5/lib/python3.7/site-packages/ipykernel_launcher.py:23: RuntimeWarning: invalid value encountered in true_divide\n",
      "/Users/samsonkoelle/anaconda3/envs/allen_010719_5/lib/python3.7/site-packages/ipykernel_launcher.py:23: RuntimeWarning: divide by zero encountered in true_divide\n",
      "/Users/samsonkoelle/anaconda3/envs/allen_010719_5/lib/python3.7/site-packages/ipykernel_launcher.py:23: RuntimeWarning: invalid value encountered in true_divide\n",
      "/Users/samsonkoelle/anaconda3/envs/allen_010719_5/lib/python3.7/site-packages/ipykernel_launcher.py:23: RuntimeWarning: divide by zero encountered in true_divide\n",
      "/Users/samsonkoelle/anaconda3/envs/allen_010719_5/lib/python3.7/site-packages/ipykernel_launcher.py:23: RuntimeWarning: invalid value encountered in true_divide\n",
      "/Users/samsonkoelle/anaconda3/envs/allen_010719_5/lib/python3.7/site-packages/ipykernel_launcher.py:23: RuntimeWarning: divide by zero encountered in true_divide\n",
      "/Users/samsonkoelle/anaconda3/envs/allen_010719_5/lib/python3.7/site-packages/ipykernel_launcher.py:23: RuntimeWarning: invalid value encountered in true_divide\n"
     ]
    },
    {
     "name": "stderr",
     "output_type": "stream",
     "text": [
      "/Users/samsonkoelle/anaconda3/envs/allen_010719_5/lib/python3.7/site-packages/ipykernel_launcher.py:23: RuntimeWarning: divide by zero encountered in true_divide\n",
      "/Users/samsonkoelle/anaconda3/envs/allen_010719_5/lib/python3.7/site-packages/ipykernel_launcher.py:23: RuntimeWarning: invalid value encountered in true_divide\n",
      "/Users/samsonkoelle/anaconda3/envs/allen_010719_5/lib/python3.7/site-packages/ipykernel_launcher.py:23: RuntimeWarning: overflow encountered in true_divide\n",
      "/Users/samsonkoelle/anaconda3/envs/allen_010719_5/lib/python3.7/site-packages/ipykernel_launcher.py:23: RuntimeWarning: overflow encountered in true_divide\n",
      "/Users/samsonkoelle/anaconda3/envs/allen_010719_5/lib/python3.7/site-packages/ipykernel_launcher.py:23: RuntimeWarning: divide by zero encountered in true_divide\n",
      "/Users/samsonkoelle/anaconda3/envs/allen_010719_5/lib/python3.7/site-packages/ipykernel_launcher.py:23: RuntimeWarning: invalid value encountered in true_divide\n",
      "/Users/samsonkoelle/anaconda3/envs/allen_010719_5/lib/python3.7/site-packages/ipykernel_launcher.py:23: RuntimeWarning: divide by zero encountered in true_divide\n",
      "/Users/samsonkoelle/anaconda3/envs/allen_010719_5/lib/python3.7/site-packages/ipykernel_launcher.py:23: RuntimeWarning: invalid value encountered in true_divide\n",
      "/Users/samsonkoelle/anaconda3/envs/allen_010719_5/lib/python3.7/site-packages/ipykernel_launcher.py:23: RuntimeWarning: divide by zero encountered in true_divide\n",
      "/Users/samsonkoelle/anaconda3/envs/allen_010719_5/lib/python3.7/site-packages/ipykernel_launcher.py:23: RuntimeWarning: invalid value encountered in true_divide\n",
      "/Users/samsonkoelle/anaconda3/envs/allen_010719_5/lib/python3.7/site-packages/ipykernel_launcher.py:23: RuntimeWarning: divide by zero encountered in true_divide\n",
      "/Users/samsonkoelle/anaconda3/envs/allen_010719_5/lib/python3.7/site-packages/ipykernel_launcher.py:23: RuntimeWarning: invalid value encountered in true_divide\n",
      "/Users/samsonkoelle/anaconda3/envs/allen_010719_5/lib/python3.7/site-packages/ipykernel_launcher.py:23: RuntimeWarning: divide by zero encountered in true_divide\n",
      "/Users/samsonkoelle/anaconda3/envs/allen_010719_5/lib/python3.7/site-packages/ipykernel_launcher.py:23: RuntimeWarning: invalid value encountered in true_divide\n",
      "/Users/samsonkoelle/anaconda3/envs/allen_010719_5/lib/python3.7/site-packages/ipykernel_launcher.py:23: RuntimeWarning: divide by zero encountered in true_divide\n",
      "/Users/samsonkoelle/anaconda3/envs/allen_010719_5/lib/python3.7/site-packages/ipykernel_launcher.py:23: RuntimeWarning: invalid value encountered in true_divide\n",
      "/Users/samsonkoelle/anaconda3/envs/allen_010719_5/lib/python3.7/site-packages/ipykernel_launcher.py:23: RuntimeWarning: divide by zero encountered in true_divide\n",
      "/Users/samsonkoelle/anaconda3/envs/allen_010719_5/lib/python3.7/site-packages/ipykernel_launcher.py:23: RuntimeWarning: invalid value encountered in true_divide\n",
      "/Users/samsonkoelle/anaconda3/envs/allen_010719_5/lib/python3.7/site-packages/ipykernel_launcher.py:23: RuntimeWarning: divide by zero encountered in true_divide\n",
      "/Users/samsonkoelle/anaconda3/envs/allen_010719_5/lib/python3.7/site-packages/ipykernel_launcher.py:23: RuntimeWarning: invalid value encountered in true_divide\n",
      "/Users/samsonkoelle/anaconda3/envs/allen_010719_5/lib/python3.7/site-packages/ipykernel_launcher.py:23: RuntimeWarning: divide by zero encountered in true_divide\n",
      "/Users/samsonkoelle/anaconda3/envs/allen_010719_5/lib/python3.7/site-packages/ipykernel_launcher.py:23: RuntimeWarning: invalid value encountered in true_divide\n",
      "/Users/samsonkoelle/anaconda3/envs/allen_010719_5/lib/python3.7/site-packages/ipykernel_launcher.py:23: RuntimeWarning: divide by zero encountered in true_divide\n",
      "/Users/samsonkoelle/anaconda3/envs/allen_010719_5/lib/python3.7/site-packages/ipykernel_launcher.py:23: RuntimeWarning: invalid value encountered in true_divide\n",
      "/Users/samsonkoelle/anaconda3/envs/allen_010719_5/lib/python3.7/site-packages/ipykernel_launcher.py:23: RuntimeWarning: divide by zero encountered in true_divide\n",
      "/Users/samsonkoelle/anaconda3/envs/allen_010719_5/lib/python3.7/site-packages/ipykernel_launcher.py:23: RuntimeWarning: invalid value encountered in true_divide\n",
      "/Users/samsonkoelle/anaconda3/envs/allen_010719_5/lib/python3.7/site-packages/ipykernel_launcher.py:23: RuntimeWarning: divide by zero encountered in true_divide\n",
      "/Users/samsonkoelle/anaconda3/envs/allen_010719_5/lib/python3.7/site-packages/ipykernel_launcher.py:23: RuntimeWarning: invalid value encountered in true_divide\n",
      "/Users/samsonkoelle/anaconda3/envs/allen_010719_5/lib/python3.7/site-packages/ipykernel_launcher.py:23: RuntimeWarning: divide by zero encountered in true_divide\n",
      "/Users/samsonkoelle/anaconda3/envs/allen_010719_5/lib/python3.7/site-packages/ipykernel_launcher.py:23: RuntimeWarning: invalid value encountered in true_divide\n",
      "/Users/samsonkoelle/anaconda3/envs/allen_010719_5/lib/python3.7/site-packages/ipykernel_launcher.py:23: RuntimeWarning: divide by zero encountered in true_divide\n",
      "/Users/samsonkoelle/anaconda3/envs/allen_010719_5/lib/python3.7/site-packages/ipykernel_launcher.py:23: RuntimeWarning: invalid value encountered in true_divide\n",
      "/Users/samsonkoelle/anaconda3/envs/allen_010719_5/lib/python3.7/site-packages/ipykernel_launcher.py:23: RuntimeWarning: divide by zero encountered in true_divide\n",
      "/Users/samsonkoelle/anaconda3/envs/allen_010719_5/lib/python3.7/site-packages/ipykernel_launcher.py:23: RuntimeWarning: invalid value encountered in true_divide\n",
      "/Users/samsonkoelle/anaconda3/envs/allen_010719_5/lib/python3.7/site-packages/ipykernel_launcher.py:23: RuntimeWarning: divide by zero encountered in true_divide\n",
      "/Users/samsonkoelle/anaconda3/envs/allen_010719_5/lib/python3.7/site-packages/ipykernel_launcher.py:23: RuntimeWarning: invalid value encountered in true_divide\n",
      "/Users/samsonkoelle/anaconda3/envs/allen_010719_5/lib/python3.7/site-packages/ipykernel_launcher.py:23: RuntimeWarning: divide by zero encountered in true_divide\n",
      "/Users/samsonkoelle/anaconda3/envs/allen_010719_5/lib/python3.7/site-packages/ipykernel_launcher.py:23: RuntimeWarning: invalid value encountered in true_divide\n",
      "/Users/samsonkoelle/anaconda3/envs/allen_010719_5/lib/python3.7/site-packages/ipykernel_launcher.py:23: RuntimeWarning: divide by zero encountered in true_divide\n",
      "/Users/samsonkoelle/anaconda3/envs/allen_010719_5/lib/python3.7/site-packages/ipykernel_launcher.py:23: RuntimeWarning: invalid value encountered in true_divide\n",
      "/Users/samsonkoelle/anaconda3/envs/allen_010719_5/lib/python3.7/site-packages/ipykernel_launcher.py:23: RuntimeWarning: divide by zero encountered in true_divide\n",
      "/Users/samsonkoelle/anaconda3/envs/allen_010719_5/lib/python3.7/site-packages/ipykernel_launcher.py:23: RuntimeWarning: invalid value encountered in true_divide\n",
      "/Users/samsonkoelle/anaconda3/envs/allen_010719_5/lib/python3.7/site-packages/ipykernel_launcher.py:23: RuntimeWarning: divide by zero encountered in true_divide\n",
      "/Users/samsonkoelle/anaconda3/envs/allen_010719_5/lib/python3.7/site-packages/ipykernel_launcher.py:23: RuntimeWarning: invalid value encountered in true_divide\n",
      "/Users/samsonkoelle/anaconda3/envs/allen_010719_5/lib/python3.7/site-packages/ipykernel_launcher.py:23: RuntimeWarning: divide by zero encountered in true_divide\n",
      "/Users/samsonkoelle/anaconda3/envs/allen_010719_5/lib/python3.7/site-packages/ipykernel_launcher.py:23: RuntimeWarning: invalid value encountered in true_divide\n",
      "/Users/samsonkoelle/anaconda3/envs/allen_010719_5/lib/python3.7/site-packages/ipykernel_launcher.py:23: RuntimeWarning: divide by zero encountered in true_divide\n",
      "/Users/samsonkoelle/anaconda3/envs/allen_010719_5/lib/python3.7/site-packages/ipykernel_launcher.py:23: RuntimeWarning: invalid value encountered in true_divide\n",
      "/Users/samsonkoelle/anaconda3/envs/allen_010719_5/lib/python3.7/site-packages/ipykernel_launcher.py:23: RuntimeWarning: divide by zero encountered in true_divide\n",
      "/Users/samsonkoelle/anaconda3/envs/allen_010719_5/lib/python3.7/site-packages/ipykernel_launcher.py:23: RuntimeWarning: invalid value encountered in true_divide\n",
      "/Users/samsonkoelle/anaconda3/envs/allen_010719_5/lib/python3.7/site-packages/ipykernel_launcher.py:23: RuntimeWarning: divide by zero encountered in true_divide\n",
      "/Users/samsonkoelle/anaconda3/envs/allen_010719_5/lib/python3.7/site-packages/ipykernel_launcher.py:23: RuntimeWarning: invalid value encountered in true_divide\n"
     ]
    },
    {
     "name": "stdout",
     "output_type": "stream",
     "text": [
      "(620, 5, 1128, 577)\n",
      "0\n"
     ]
    }
   ],
   "source": [
    "gammas = np.asarray([0.1,.5,1,2,10])\n",
    "for sid in major_structure_ids[4:5]:\n",
    "    connectivity_data.structure_datas[sid].loocv_predictions_leaf_leaf2 = get_nwloocv_predictions_multimodel_merge(connectivity_data.structure_datas[sid].reg_proj_vcount_norm_renorm, \n",
    "                                                                                       connectivity_data.structure_datas[sid].centroids, \n",
    "                                                                                       gammas, \n",
    "                                                                                       indices_creleaf2ormore[sid], \n",
    "                                                                                       indices_creleaf2ormore[sid])\n",
    "a= [list(range(5))]\n",
    "keys = np.asarray(list(itertools.product(*a)))\n",
    "\n",
    "reg_proj_vcount_norm_renorms= {}\n",
    "nwloocv_leaf_leaf2 = {}\n",
    "for sid in major_structure_ids[4:5]:\n",
    "    reg_proj_vcount_norm_renorms[sid ] = connectivity_data.structure_datas[sid].reg_proj_vcount_norm_renorm\n",
    "    nwloocv_leaf_leaf2[sid] = connectivity_data.structure_datas[sid].loocv_predictions_leaf_leaf2\n",
    "\n",
    "eval_indices_creleaf2ormore = get_eval_indices(indices_creleaf2ormore)\n",
    "losses_leaf_leaf2 = get_loss(reg_proj_vcount_norm_renorms, nwloocv_leaf_leaf2,pred_ind = eval_indices_creleaf2ormore, true_ind = eval_indices_creleaf2ormore,keys = keys)\n",
    "best_gamma_leaf_leaf2 = get_best_hyperparameters(losses_leaf_leaf2,keys)\n",
    "meanloss_nw_leaf_leaf2 = get_loss_best_hyp(losses_leaf_leaf2, best_gamma_leaf_leaf2)"
   ]
  },
  {
   "cell_type": "code",
   "execution_count": 16,
   "metadata": {},
   "outputs": [
    {
     "data": {
      "text/plain": [
       "array([0.30072493])"
      ]
     },
     "execution_count": 16,
     "metadata": {},
     "output_type": "execute_result"
    }
   ],
   "source": [
    "meanloss_nw_leaf_leaf2"
   ]
  },
  {
   "cell_type": "code",
   "execution_count": 21,
   "metadata": {},
   "outputs": [
    {
     "data": {
      "text/plain": [
       "0.5605442302247133"
      ]
     },
     "execution_count": 21,
     "metadata": {},
     "output_type": "execute_result"
    }
   ],
   "source": [
    "np.nanmean(losses_leaf_leaf2[sid][4, :])"
   ]
  },
  {
   "cell_type": "code",
   "execution_count": null,
   "metadata": {
    "collapsed": true
   },
   "outputs": [],
   "source": []
  },
  {
   "cell_type": "code",
   "execution_count": 31,
   "metadata": {},
   "outputs": [
    {
     "data": {
      "text/plain": [
       "array([[4.54800748e-04, 1.09955085e-05, 0.00000000e+00, ...,\n",
       "        5.32004325e-03, 0.00000000e+00, 1.00041031e-02],\n",
       "       [5.13135617e-03, 1.61887743e-05, 3.59820044e-05, ...,\n",
       "        0.00000000e+00, 0.00000000e+00, 9.42252256e-06],\n",
       "       [6.62649293e-02, 7.91556591e-03, 0.00000000e+00, ...,\n",
       "        1.86573792e-02, 2.07420761e-03, 8.00850086e-03],\n",
       "       ...,\n",
       "       [1.34075847e-03, 1.67553618e-04, 1.03449002e-06, ...,\n",
       "        2.76405562e-04, 5.04454827e-05, 1.77023763e-04],\n",
       "       [2.39921370e-02, 7.11895954e-05, 1.44303559e-05, ...,\n",
       "        3.58883721e-02, 1.12431083e-02, 2.47221686e-02],\n",
       "       [5.72316777e-03, 1.61017580e-06, 4.04545904e-05, ...,\n",
       "        1.30635375e-04, 5.00576333e-05, 2.58944283e-04]])"
      ]
     },
     "execution_count": 31,
     "metadata": {},
     "output_type": "execute_result"
    }
   ],
   "source": [
    "connectivity_data.structure_datas[sid].reg_proj_vcount_norm_renorm"
   ]
  },
  {
   "cell_type": "code",
   "execution_count": null,
   "metadata": {
    "collapsed": true
   },
   "outputs": [],
   "source": []
  },
  {
   "cell_type": "code",
   "execution_count": null,
   "metadata": {
    "collapsed": true
   },
   "outputs": [],
   "source": []
  },
  {
   "cell_type": "code",
   "execution_count": 68,
   "metadata": {},
   "outputs": [
    {
     "data": {
      "text/plain": [
       "(array([], dtype=int64), array([], dtype=int64))"
      ]
     },
     "execution_count": 68,
     "metadata": {},
     "output_type": "execute_result"
    }
   ],
   "source": [
    "np.where(np.isnan(losses_leaf_leaf2[315])) #theres nans in losses_leaf_leaf2[315] but not in _dists"
   ]
  },
  {
   "cell_type": "code",
   "execution_count": 17,
   "metadata": {},
   "outputs": [
    {
     "data": {
      "text/plain": [
       "(array([3, 3, 3, ..., 4, 4, 4]),\n",
       " array([  61,   61,   61, ..., 1115, 1115, 1115]),\n",
       " array([  0,   1,   2, ..., 574, 575, 576]))"
      ]
     },
     "execution_count": 17,
     "metadata": {},
     "output_type": "execute_result"
    }
   ],
   "source": [
    "np.where(np.isnan(connectivity_data.structure_datas[315].loocv_predictions_leaf_leaf2))"
   ]
  },
  {
   "cell_type": "code",
   "execution_count": 13,
   "metadata": {},
   "outputs": [
    {
     "name": "stderr",
     "output_type": "stream",
     "text": [
      "/Users/samsonkoelle/anaconda3/envs/allen_010719_5/lib/python3.7/site-packages/ipykernel_launcher.py:245: RuntimeWarning: divide by zero encountered in true_divide\n",
      "/Users/samsonkoelle/anaconda3/envs/allen_010719_5/lib/python3.7/site-packages/ipykernel_launcher.py:245: RuntimeWarning: invalid value encountered in true_divide\n",
      "/Users/samsonkoelle/anaconda3/envs/allen_010719_5/lib/python3.7/site-packages/ipykernel_launcher.py:245: RuntimeWarning: divide by zero encountered in true_divide\n",
      "/Users/samsonkoelle/anaconda3/envs/allen_010719_5/lib/python3.7/site-packages/ipykernel_launcher.py:245: RuntimeWarning: invalid value encountered in true_divide\n",
      "/Users/samsonkoelle/anaconda3/envs/allen_010719_5/lib/python3.7/site-packages/ipykernel_launcher.py:245: RuntimeWarning: divide by zero encountered in true_divide\n",
      "/Users/samsonkoelle/anaconda3/envs/allen_010719_5/lib/python3.7/site-packages/ipykernel_launcher.py:245: RuntimeWarning: invalid value encountered in true_divide\n",
      "/Users/samsonkoelle/anaconda3/envs/allen_010719_5/lib/python3.7/site-packages/ipykernel_launcher.py:245: RuntimeWarning: divide by zero encountered in true_divide\n",
      "/Users/samsonkoelle/anaconda3/envs/allen_010719_5/lib/python3.7/site-packages/ipykernel_launcher.py:245: RuntimeWarning: invalid value encountered in true_divide\n",
      "/Users/samsonkoelle/anaconda3/envs/allen_010719_5/lib/python3.7/site-packages/ipykernel_launcher.py:245: RuntimeWarning: divide by zero encountered in true_divide\n",
      "/Users/samsonkoelle/anaconda3/envs/allen_010719_5/lib/python3.7/site-packages/ipykernel_launcher.py:245: RuntimeWarning: invalid value encountered in true_divide\n",
      "/Users/samsonkoelle/anaconda3/envs/allen_010719_5/lib/python3.7/site-packages/ipykernel_launcher.py:245: RuntimeWarning: divide by zero encountered in true_divide\n",
      "/Users/samsonkoelle/anaconda3/envs/allen_010719_5/lib/python3.7/site-packages/ipykernel_launcher.py:245: RuntimeWarning: invalid value encountered in true_divide\n",
      "/Users/samsonkoelle/anaconda3/envs/allen_010719_5/lib/python3.7/site-packages/ipykernel_launcher.py:245: RuntimeWarning: divide by zero encountered in true_divide\n",
      "/Users/samsonkoelle/anaconda3/envs/allen_010719_5/lib/python3.7/site-packages/ipykernel_launcher.py:245: RuntimeWarning: invalid value encountered in true_divide\n",
      "/Users/samsonkoelle/anaconda3/envs/allen_010719_5/lib/python3.7/site-packages/ipykernel_launcher.py:245: RuntimeWarning: divide by zero encountered in true_divide\n",
      "/Users/samsonkoelle/anaconda3/envs/allen_010719_5/lib/python3.7/site-packages/ipykernel_launcher.py:245: RuntimeWarning: invalid value encountered in true_divide\n",
      "/Users/samsonkoelle/anaconda3/envs/allen_010719_5/lib/python3.7/site-packages/ipykernel_launcher.py:245: RuntimeWarning: divide by zero encountered in true_divide\n",
      "/Users/samsonkoelle/anaconda3/envs/allen_010719_5/lib/python3.7/site-packages/ipykernel_launcher.py:245: RuntimeWarning: invalid value encountered in true_divide\n",
      "/Users/samsonkoelle/anaconda3/envs/allen_010719_5/lib/python3.7/site-packages/ipykernel_launcher.py:245: RuntimeWarning: divide by zero encountered in true_divide\n",
      "/Users/samsonkoelle/anaconda3/envs/allen_010719_5/lib/python3.7/site-packages/ipykernel_launcher.py:245: RuntimeWarning: invalid value encountered in true_divide\n",
      "/Users/samsonkoelle/anaconda3/envs/allen_010719_5/lib/python3.7/site-packages/ipykernel_launcher.py:245: RuntimeWarning: divide by zero encountered in true_divide\n",
      "/Users/samsonkoelle/anaconda3/envs/allen_010719_5/lib/python3.7/site-packages/ipykernel_launcher.py:245: RuntimeWarning: invalid value encountered in true_divide\n",
      "/Users/samsonkoelle/anaconda3/envs/allen_010719_5/lib/python3.7/site-packages/ipykernel_launcher.py:245: RuntimeWarning: divide by zero encountered in true_divide\n",
      "/Users/samsonkoelle/anaconda3/envs/allen_010719_5/lib/python3.7/site-packages/ipykernel_launcher.py:245: RuntimeWarning: invalid value encountered in true_divide\n",
      "/Users/samsonkoelle/anaconda3/envs/allen_010719_5/lib/python3.7/site-packages/ipykernel_launcher.py:245: RuntimeWarning: divide by zero encountered in true_divide\n",
      "/Users/samsonkoelle/anaconda3/envs/allen_010719_5/lib/python3.7/site-packages/ipykernel_launcher.py:245: RuntimeWarning: invalid value encountered in true_divide\n",
      "/Users/samsonkoelle/anaconda3/envs/allen_010719_5/lib/python3.7/site-packages/ipykernel_launcher.py:245: RuntimeWarning: divide by zero encountered in true_divide\n",
      "/Users/samsonkoelle/anaconda3/envs/allen_010719_5/lib/python3.7/site-packages/ipykernel_launcher.py:245: RuntimeWarning: invalid value encountered in true_divide\n",
      "/Users/samsonkoelle/anaconda3/envs/allen_010719_5/lib/python3.7/site-packages/ipykernel_launcher.py:245: RuntimeWarning: divide by zero encountered in true_divide\n",
      "/Users/samsonkoelle/anaconda3/envs/allen_010719_5/lib/python3.7/site-packages/ipykernel_launcher.py:245: RuntimeWarning: invalid value encountered in true_divide\n",
      "/Users/samsonkoelle/anaconda3/envs/allen_010719_5/lib/python3.7/site-packages/ipykernel_launcher.py:245: RuntimeWarning: divide by zero encountered in true_divide\n",
      "/Users/samsonkoelle/anaconda3/envs/allen_010719_5/lib/python3.7/site-packages/ipykernel_launcher.py:245: RuntimeWarning: invalid value encountered in true_divide\n",
      "/Users/samsonkoelle/anaconda3/envs/allen_010719_5/lib/python3.7/site-packages/ipykernel_launcher.py:245: RuntimeWarning: divide by zero encountered in true_divide\n",
      "/Users/samsonkoelle/anaconda3/envs/allen_010719_5/lib/python3.7/site-packages/ipykernel_launcher.py:245: RuntimeWarning: invalid value encountered in true_divide\n",
      "/Users/samsonkoelle/anaconda3/envs/allen_010719_5/lib/python3.7/site-packages/ipykernel_launcher.py:245: RuntimeWarning: divide by zero encountered in true_divide\n",
      "/Users/samsonkoelle/anaconda3/envs/allen_010719_5/lib/python3.7/site-packages/ipykernel_launcher.py:245: RuntimeWarning: invalid value encountered in true_divide\n",
      "/Users/samsonkoelle/anaconda3/envs/allen_010719_5/lib/python3.7/site-packages/ipykernel_launcher.py:245: RuntimeWarning: divide by zero encountered in true_divide\n",
      "/Users/samsonkoelle/anaconda3/envs/allen_010719_5/lib/python3.7/site-packages/ipykernel_launcher.py:245: RuntimeWarning: invalid value encountered in true_divide\n",
      "/Users/samsonkoelle/anaconda3/envs/allen_010719_5/lib/python3.7/site-packages/ipykernel_launcher.py:245: RuntimeWarning: divide by zero encountered in true_divide\n",
      "/Users/samsonkoelle/anaconda3/envs/allen_010719_5/lib/python3.7/site-packages/ipykernel_launcher.py:245: RuntimeWarning: invalid value encountered in true_divide\n",
      "/Users/samsonkoelle/anaconda3/envs/allen_010719_5/lib/python3.7/site-packages/ipykernel_launcher.py:245: RuntimeWarning: divide by zero encountered in true_divide\n",
      "/Users/samsonkoelle/anaconda3/envs/allen_010719_5/lib/python3.7/site-packages/ipykernel_launcher.py:245: RuntimeWarning: invalid value encountered in true_divide\n",
      "/Users/samsonkoelle/anaconda3/envs/allen_010719_5/lib/python3.7/site-packages/ipykernel_launcher.py:245: RuntimeWarning: divide by zero encountered in true_divide\n",
      "/Users/samsonkoelle/anaconda3/envs/allen_010719_5/lib/python3.7/site-packages/ipykernel_launcher.py:245: RuntimeWarning: invalid value encountered in true_divide\n",
      "/Users/samsonkoelle/anaconda3/envs/allen_010719_5/lib/python3.7/site-packages/ipykernel_launcher.py:245: RuntimeWarning: divide by zero encountered in true_divide\n",
      "/Users/samsonkoelle/anaconda3/envs/allen_010719_5/lib/python3.7/site-packages/ipykernel_launcher.py:245: RuntimeWarning: invalid value encountered in true_divide\n",
      "/Users/samsonkoelle/anaconda3/envs/allen_010719_5/lib/python3.7/site-packages/ipykernel_launcher.py:245: RuntimeWarning: divide by zero encountered in true_divide\n",
      "/Users/samsonkoelle/anaconda3/envs/allen_010719_5/lib/python3.7/site-packages/ipykernel_launcher.py:245: RuntimeWarning: invalid value encountered in true_divide\n",
      "/Users/samsonkoelle/anaconda3/envs/allen_010719_5/lib/python3.7/site-packages/ipykernel_launcher.py:245: RuntimeWarning: divide by zero encountered in true_divide\n",
      "/Users/samsonkoelle/anaconda3/envs/allen_010719_5/lib/python3.7/site-packages/ipykernel_launcher.py:245: RuntimeWarning: invalid value encountered in true_divide\n",
      "/Users/samsonkoelle/anaconda3/envs/allen_010719_5/lib/python3.7/site-packages/ipykernel_launcher.py:245: RuntimeWarning: divide by zero encountered in true_divide\n",
      "/Users/samsonkoelle/anaconda3/envs/allen_010719_5/lib/python3.7/site-packages/ipykernel_launcher.py:245: RuntimeWarning: invalid value encountered in true_divide\n"
     ]
    },
    {
     "name": "stderr",
     "output_type": "stream",
     "text": [
      "/Users/samsonkoelle/anaconda3/envs/allen_010719_5/lib/python3.7/site-packages/ipykernel_launcher.py:245: RuntimeWarning: divide by zero encountered in true_divide\n",
      "/Users/samsonkoelle/anaconda3/envs/allen_010719_5/lib/python3.7/site-packages/ipykernel_launcher.py:245: RuntimeWarning: invalid value encountered in true_divide\n",
      "/Users/samsonkoelle/anaconda3/envs/allen_010719_5/lib/python3.7/site-packages/ipykernel_launcher.py:245: RuntimeWarning: divide by zero encountered in true_divide\n",
      "/Users/samsonkoelle/anaconda3/envs/allen_010719_5/lib/python3.7/site-packages/ipykernel_launcher.py:245: RuntimeWarning: invalid value encountered in true_divide\n",
      "/Users/samsonkoelle/anaconda3/envs/allen_010719_5/lib/python3.7/site-packages/ipykernel_launcher.py:245: RuntimeWarning: divide by zero encountered in true_divide\n",
      "/Users/samsonkoelle/anaconda3/envs/allen_010719_5/lib/python3.7/site-packages/ipykernel_launcher.py:245: RuntimeWarning: invalid value encountered in true_divide\n",
      "/Users/samsonkoelle/anaconda3/envs/allen_010719_5/lib/python3.7/site-packages/ipykernel_launcher.py:245: RuntimeWarning: divide by zero encountered in true_divide\n",
      "/Users/samsonkoelle/anaconda3/envs/allen_010719_5/lib/python3.7/site-packages/ipykernel_launcher.py:245: RuntimeWarning: invalid value encountered in true_divide\n",
      "/Users/samsonkoelle/anaconda3/envs/allen_010719_5/lib/python3.7/site-packages/ipykernel_launcher.py:245: RuntimeWarning: divide by zero encountered in true_divide\n",
      "/Users/samsonkoelle/anaconda3/envs/allen_010719_5/lib/python3.7/site-packages/ipykernel_launcher.py:245: RuntimeWarning: invalid value encountered in true_divide\n",
      "/Users/samsonkoelle/anaconda3/envs/allen_010719_5/lib/python3.7/site-packages/ipykernel_launcher.py:245: RuntimeWarning: divide by zero encountered in true_divide\n",
      "/Users/samsonkoelle/anaconda3/envs/allen_010719_5/lib/python3.7/site-packages/ipykernel_launcher.py:245: RuntimeWarning: invalid value encountered in true_divide\n",
      "/Users/samsonkoelle/anaconda3/envs/allen_010719_5/lib/python3.7/site-packages/ipykernel_launcher.py:245: RuntimeWarning: overflow encountered in true_divide\n",
      "/Users/samsonkoelle/anaconda3/envs/allen_010719_5/lib/python3.7/site-packages/ipykernel_launcher.py:245: RuntimeWarning: divide by zero encountered in true_divide\n",
      "/Users/samsonkoelle/anaconda3/envs/allen_010719_5/lib/python3.7/site-packages/ipykernel_launcher.py:245: RuntimeWarning: invalid value encountered in true_divide\n",
      "/Users/samsonkoelle/anaconda3/envs/allen_010719_5/lib/python3.7/site-packages/ipykernel_launcher.py:245: RuntimeWarning: divide by zero encountered in true_divide\n",
      "/Users/samsonkoelle/anaconda3/envs/allen_010719_5/lib/python3.7/site-packages/ipykernel_launcher.py:245: RuntimeWarning: invalid value encountered in true_divide\n",
      "/Users/samsonkoelle/anaconda3/envs/allen_010719_5/lib/python3.7/site-packages/ipykernel_launcher.py:245: RuntimeWarning: divide by zero encountered in true_divide\n",
      "/Users/samsonkoelle/anaconda3/envs/allen_010719_5/lib/python3.7/site-packages/ipykernel_launcher.py:245: RuntimeWarning: invalid value encountered in true_divide\n",
      "/Users/samsonkoelle/anaconda3/envs/allen_010719_5/lib/python3.7/site-packages/ipykernel_launcher.py:245: RuntimeWarning: divide by zero encountered in true_divide\n",
      "/Users/samsonkoelle/anaconda3/envs/allen_010719_5/lib/python3.7/site-packages/ipykernel_launcher.py:245: RuntimeWarning: invalid value encountered in true_divide\n",
      "/Users/samsonkoelle/anaconda3/envs/allen_010719_5/lib/python3.7/site-packages/ipykernel_launcher.py:245: RuntimeWarning: divide by zero encountered in true_divide\n",
      "/Users/samsonkoelle/anaconda3/envs/allen_010719_5/lib/python3.7/site-packages/ipykernel_launcher.py:245: RuntimeWarning: invalid value encountered in true_divide\n",
      "/Users/samsonkoelle/anaconda3/envs/allen_010719_5/lib/python3.7/site-packages/ipykernel_launcher.py:245: RuntimeWarning: divide by zero encountered in true_divide\n",
      "/Users/samsonkoelle/anaconda3/envs/allen_010719_5/lib/python3.7/site-packages/ipykernel_launcher.py:245: RuntimeWarning: invalid value encountered in true_divide\n",
      "/Users/samsonkoelle/anaconda3/envs/allen_010719_5/lib/python3.7/site-packages/ipykernel_launcher.py:245: RuntimeWarning: divide by zero encountered in true_divide\n",
      "/Users/samsonkoelle/anaconda3/envs/allen_010719_5/lib/python3.7/site-packages/ipykernel_launcher.py:245: RuntimeWarning: invalid value encountered in true_divide\n",
      "/Users/samsonkoelle/anaconda3/envs/allen_010719_5/lib/python3.7/site-packages/ipykernel_launcher.py:245: RuntimeWarning: divide by zero encountered in true_divide\n",
      "/Users/samsonkoelle/anaconda3/envs/allen_010719_5/lib/python3.7/site-packages/ipykernel_launcher.py:245: RuntimeWarning: invalid value encountered in true_divide\n",
      "/Users/samsonkoelle/anaconda3/envs/allen_010719_5/lib/python3.7/site-packages/ipykernel_launcher.py:245: RuntimeWarning: divide by zero encountered in true_divide\n",
      "/Users/samsonkoelle/anaconda3/envs/allen_010719_5/lib/python3.7/site-packages/ipykernel_launcher.py:245: RuntimeWarning: invalid value encountered in true_divide\n",
      "/Users/samsonkoelle/anaconda3/envs/allen_010719_5/lib/python3.7/site-packages/ipykernel_launcher.py:245: RuntimeWarning: divide by zero encountered in true_divide\n",
      "/Users/samsonkoelle/anaconda3/envs/allen_010719_5/lib/python3.7/site-packages/ipykernel_launcher.py:245: RuntimeWarning: invalid value encountered in true_divide\n",
      "/Users/samsonkoelle/anaconda3/envs/allen_010719_5/lib/python3.7/site-packages/ipykernel_launcher.py:245: RuntimeWarning: divide by zero encountered in true_divide\n",
      "/Users/samsonkoelle/anaconda3/envs/allen_010719_5/lib/python3.7/site-packages/ipykernel_launcher.py:245: RuntimeWarning: invalid value encountered in true_divide\n",
      "/Users/samsonkoelle/anaconda3/envs/allen_010719_5/lib/python3.7/site-packages/ipykernel_launcher.py:245: RuntimeWarning: divide by zero encountered in true_divide\n",
      "/Users/samsonkoelle/anaconda3/envs/allen_010719_5/lib/python3.7/site-packages/ipykernel_launcher.py:245: RuntimeWarning: invalid value encountered in true_divide\n",
      "/Users/samsonkoelle/anaconda3/envs/allen_010719_5/lib/python3.7/site-packages/ipykernel_launcher.py:245: RuntimeWarning: divide by zero encountered in true_divide\n",
      "/Users/samsonkoelle/anaconda3/envs/allen_010719_5/lib/python3.7/site-packages/ipykernel_launcher.py:245: RuntimeWarning: invalid value encountered in true_divide\n",
      "/Users/samsonkoelle/anaconda3/envs/allen_010719_5/lib/python3.7/site-packages/ipykernel_launcher.py:245: RuntimeWarning: divide by zero encountered in true_divide\n",
      "/Users/samsonkoelle/anaconda3/envs/allen_010719_5/lib/python3.7/site-packages/ipykernel_launcher.py:245: RuntimeWarning: invalid value encountered in true_divide\n",
      "/Users/samsonkoelle/anaconda3/envs/allen_010719_5/lib/python3.7/site-packages/ipykernel_launcher.py:245: RuntimeWarning: divide by zero encountered in true_divide\n",
      "/Users/samsonkoelle/anaconda3/envs/allen_010719_5/lib/python3.7/site-packages/ipykernel_launcher.py:245: RuntimeWarning: invalid value encountered in true_divide\n",
      "/Users/samsonkoelle/anaconda3/envs/allen_010719_5/lib/python3.7/site-packages/ipykernel_launcher.py:245: RuntimeWarning: divide by zero encountered in true_divide\n",
      "/Users/samsonkoelle/anaconda3/envs/allen_010719_5/lib/python3.7/site-packages/ipykernel_launcher.py:245: RuntimeWarning: invalid value encountered in true_divide\n",
      "/Users/samsonkoelle/anaconda3/envs/allen_010719_5/lib/python3.7/site-packages/ipykernel_launcher.py:245: RuntimeWarning: divide by zero encountered in true_divide\n",
      "/Users/samsonkoelle/anaconda3/envs/allen_010719_5/lib/python3.7/site-packages/ipykernel_launcher.py:245: RuntimeWarning: invalid value encountered in true_divide\n",
      "/Users/samsonkoelle/anaconda3/envs/allen_010719_5/lib/python3.7/site-packages/ipykernel_launcher.py:245: RuntimeWarning: divide by zero encountered in true_divide\n",
      "/Users/samsonkoelle/anaconda3/envs/allen_010719_5/lib/python3.7/site-packages/ipykernel_launcher.py:245: RuntimeWarning: invalid value encountered in true_divide\n",
      "/Users/samsonkoelle/anaconda3/envs/allen_010719_5/lib/python3.7/site-packages/ipykernel_launcher.py:245: RuntimeWarning: divide by zero encountered in true_divide\n",
      "/Users/samsonkoelle/anaconda3/envs/allen_010719_5/lib/python3.7/site-packages/ipykernel_launcher.py:245: RuntimeWarning: invalid value encountered in true_divide\n",
      "/Users/samsonkoelle/anaconda3/envs/allen_010719_5/lib/python3.7/site-packages/ipykernel_launcher.py:245: RuntimeWarning: divide by zero encountered in true_divide\n",
      "/Users/samsonkoelle/anaconda3/envs/allen_010719_5/lib/python3.7/site-packages/ipykernel_launcher.py:245: RuntimeWarning: invalid value encountered in true_divide\n",
      "/Users/samsonkoelle/anaconda3/envs/allen_010719_5/lib/python3.7/site-packages/ipykernel_launcher.py:245: RuntimeWarning: divide by zero encountered in true_divide\n",
      "/Users/samsonkoelle/anaconda3/envs/allen_010719_5/lib/python3.7/site-packages/ipykernel_launcher.py:245: RuntimeWarning: invalid value encountered in true_divide\n"
     ]
    },
    {
     "name": "stderr",
     "output_type": "stream",
     "text": [
      "/Users/samsonkoelle/anaconda3/envs/allen_010719_5/lib/python3.7/site-packages/ipykernel_launcher.py:245: RuntimeWarning: divide by zero encountered in true_divide\n",
      "/Users/samsonkoelle/anaconda3/envs/allen_010719_5/lib/python3.7/site-packages/ipykernel_launcher.py:245: RuntimeWarning: invalid value encountered in true_divide\n",
      "/Users/samsonkoelle/anaconda3/envs/allen_010719_5/lib/python3.7/site-packages/ipykernel_launcher.py:245: RuntimeWarning: overflow encountered in true_divide\n",
      "/Users/samsonkoelle/anaconda3/envs/allen_010719_5/lib/python3.7/site-packages/ipykernel_launcher.py:245: RuntimeWarning: overflow encountered in true_divide\n",
      "/Users/samsonkoelle/anaconda3/envs/allen_010719_5/lib/python3.7/site-packages/ipykernel_launcher.py:245: RuntimeWarning: divide by zero encountered in true_divide\n",
      "/Users/samsonkoelle/anaconda3/envs/allen_010719_5/lib/python3.7/site-packages/ipykernel_launcher.py:245: RuntimeWarning: invalid value encountered in true_divide\n",
      "/Users/samsonkoelle/anaconda3/envs/allen_010719_5/lib/python3.7/site-packages/ipykernel_launcher.py:245: RuntimeWarning: divide by zero encountered in true_divide\n",
      "/Users/samsonkoelle/anaconda3/envs/allen_010719_5/lib/python3.7/site-packages/ipykernel_launcher.py:245: RuntimeWarning: invalid value encountered in true_divide\n",
      "/Users/samsonkoelle/anaconda3/envs/allen_010719_5/lib/python3.7/site-packages/ipykernel_launcher.py:245: RuntimeWarning: divide by zero encountered in true_divide\n",
      "/Users/samsonkoelle/anaconda3/envs/allen_010719_5/lib/python3.7/site-packages/ipykernel_launcher.py:245: RuntimeWarning: invalid value encountered in true_divide\n",
      "/Users/samsonkoelle/anaconda3/envs/allen_010719_5/lib/python3.7/site-packages/ipykernel_launcher.py:245: RuntimeWarning: divide by zero encountered in true_divide\n",
      "/Users/samsonkoelle/anaconda3/envs/allen_010719_5/lib/python3.7/site-packages/ipykernel_launcher.py:245: RuntimeWarning: invalid value encountered in true_divide\n",
      "/Users/samsonkoelle/anaconda3/envs/allen_010719_5/lib/python3.7/site-packages/ipykernel_launcher.py:245: RuntimeWarning: divide by zero encountered in true_divide\n",
      "/Users/samsonkoelle/anaconda3/envs/allen_010719_5/lib/python3.7/site-packages/ipykernel_launcher.py:245: RuntimeWarning: invalid value encountered in true_divide\n",
      "/Users/samsonkoelle/anaconda3/envs/allen_010719_5/lib/python3.7/site-packages/ipykernel_launcher.py:245: RuntimeWarning: divide by zero encountered in true_divide\n",
      "/Users/samsonkoelle/anaconda3/envs/allen_010719_5/lib/python3.7/site-packages/ipykernel_launcher.py:245: RuntimeWarning: invalid value encountered in true_divide\n",
      "/Users/samsonkoelle/anaconda3/envs/allen_010719_5/lib/python3.7/site-packages/ipykernel_launcher.py:245: RuntimeWarning: divide by zero encountered in true_divide\n",
      "/Users/samsonkoelle/anaconda3/envs/allen_010719_5/lib/python3.7/site-packages/ipykernel_launcher.py:245: RuntimeWarning: invalid value encountered in true_divide\n",
      "/Users/samsonkoelle/anaconda3/envs/allen_010719_5/lib/python3.7/site-packages/ipykernel_launcher.py:245: RuntimeWarning: divide by zero encountered in true_divide\n",
      "/Users/samsonkoelle/anaconda3/envs/allen_010719_5/lib/python3.7/site-packages/ipykernel_launcher.py:245: RuntimeWarning: invalid value encountered in true_divide\n",
      "/Users/samsonkoelle/anaconda3/envs/allen_010719_5/lib/python3.7/site-packages/ipykernel_launcher.py:245: RuntimeWarning: divide by zero encountered in true_divide\n",
      "/Users/samsonkoelle/anaconda3/envs/allen_010719_5/lib/python3.7/site-packages/ipykernel_launcher.py:245: RuntimeWarning: invalid value encountered in true_divide\n",
      "/Users/samsonkoelle/anaconda3/envs/allen_010719_5/lib/python3.7/site-packages/ipykernel_launcher.py:245: RuntimeWarning: divide by zero encountered in true_divide\n",
      "/Users/samsonkoelle/anaconda3/envs/allen_010719_5/lib/python3.7/site-packages/ipykernel_launcher.py:245: RuntimeWarning: invalid value encountered in true_divide\n",
      "/Users/samsonkoelle/anaconda3/envs/allen_010719_5/lib/python3.7/site-packages/ipykernel_launcher.py:245: RuntimeWarning: divide by zero encountered in true_divide\n",
      "/Users/samsonkoelle/anaconda3/envs/allen_010719_5/lib/python3.7/site-packages/ipykernel_launcher.py:245: RuntimeWarning: invalid value encountered in true_divide\n",
      "/Users/samsonkoelle/anaconda3/envs/allen_010719_5/lib/python3.7/site-packages/ipykernel_launcher.py:245: RuntimeWarning: divide by zero encountered in true_divide\n",
      "/Users/samsonkoelle/anaconda3/envs/allen_010719_5/lib/python3.7/site-packages/ipykernel_launcher.py:245: RuntimeWarning: invalid value encountered in true_divide\n",
      "/Users/samsonkoelle/anaconda3/envs/allen_010719_5/lib/python3.7/site-packages/ipykernel_launcher.py:245: RuntimeWarning: divide by zero encountered in true_divide\n",
      "/Users/samsonkoelle/anaconda3/envs/allen_010719_5/lib/python3.7/site-packages/ipykernel_launcher.py:245: RuntimeWarning: invalid value encountered in true_divide\n",
      "/Users/samsonkoelle/anaconda3/envs/allen_010719_5/lib/python3.7/site-packages/ipykernel_launcher.py:245: RuntimeWarning: divide by zero encountered in true_divide\n",
      "/Users/samsonkoelle/anaconda3/envs/allen_010719_5/lib/python3.7/site-packages/ipykernel_launcher.py:245: RuntimeWarning: invalid value encountered in true_divide\n",
      "/Users/samsonkoelle/anaconda3/envs/allen_010719_5/lib/python3.7/site-packages/ipykernel_launcher.py:245: RuntimeWarning: divide by zero encountered in true_divide\n",
      "/Users/samsonkoelle/anaconda3/envs/allen_010719_5/lib/python3.7/site-packages/ipykernel_launcher.py:245: RuntimeWarning: invalid value encountered in true_divide\n",
      "/Users/samsonkoelle/anaconda3/envs/allen_010719_5/lib/python3.7/site-packages/ipykernel_launcher.py:245: RuntimeWarning: divide by zero encountered in true_divide\n",
      "/Users/samsonkoelle/anaconda3/envs/allen_010719_5/lib/python3.7/site-packages/ipykernel_launcher.py:245: RuntimeWarning: invalid value encountered in true_divide\n",
      "/Users/samsonkoelle/anaconda3/envs/allen_010719_5/lib/python3.7/site-packages/ipykernel_launcher.py:245: RuntimeWarning: divide by zero encountered in true_divide\n",
      "/Users/samsonkoelle/anaconda3/envs/allen_010719_5/lib/python3.7/site-packages/ipykernel_launcher.py:245: RuntimeWarning: invalid value encountered in true_divide\n",
      "/Users/samsonkoelle/anaconda3/envs/allen_010719_5/lib/python3.7/site-packages/ipykernel_launcher.py:245: RuntimeWarning: divide by zero encountered in true_divide\n",
      "/Users/samsonkoelle/anaconda3/envs/allen_010719_5/lib/python3.7/site-packages/ipykernel_launcher.py:245: RuntimeWarning: invalid value encountered in true_divide\n",
      "/Users/samsonkoelle/anaconda3/envs/allen_010719_5/lib/python3.7/site-packages/ipykernel_launcher.py:245: RuntimeWarning: divide by zero encountered in true_divide\n",
      "/Users/samsonkoelle/anaconda3/envs/allen_010719_5/lib/python3.7/site-packages/ipykernel_launcher.py:245: RuntimeWarning: invalid value encountered in true_divide\n",
      "/Users/samsonkoelle/anaconda3/envs/allen_010719_5/lib/python3.7/site-packages/ipykernel_launcher.py:245: RuntimeWarning: divide by zero encountered in true_divide\n",
      "/Users/samsonkoelle/anaconda3/envs/allen_010719_5/lib/python3.7/site-packages/ipykernel_launcher.py:245: RuntimeWarning: invalid value encountered in true_divide\n",
      "/Users/samsonkoelle/anaconda3/envs/allen_010719_5/lib/python3.7/site-packages/ipykernel_launcher.py:245: RuntimeWarning: divide by zero encountered in true_divide\n",
      "/Users/samsonkoelle/anaconda3/envs/allen_010719_5/lib/python3.7/site-packages/ipykernel_launcher.py:245: RuntimeWarning: invalid value encountered in true_divide\n",
      "/Users/samsonkoelle/anaconda3/envs/allen_010719_5/lib/python3.7/site-packages/ipykernel_launcher.py:245: RuntimeWarning: divide by zero encountered in true_divide\n",
      "/Users/samsonkoelle/anaconda3/envs/allen_010719_5/lib/python3.7/site-packages/ipykernel_launcher.py:245: RuntimeWarning: invalid value encountered in true_divide\n",
      "/Users/samsonkoelle/anaconda3/envs/allen_010719_5/lib/python3.7/site-packages/ipykernel_launcher.py:245: RuntimeWarning: divide by zero encountered in true_divide\n",
      "/Users/samsonkoelle/anaconda3/envs/allen_010719_5/lib/python3.7/site-packages/ipykernel_launcher.py:245: RuntimeWarning: invalid value encountered in true_divide\n",
      "/Users/samsonkoelle/anaconda3/envs/allen_010719_5/lib/python3.7/site-packages/ipykernel_launcher.py:245: RuntimeWarning: divide by zero encountered in true_divide\n",
      "/Users/samsonkoelle/anaconda3/envs/allen_010719_5/lib/python3.7/site-packages/ipykernel_launcher.py:245: RuntimeWarning: invalid value encountered in true_divide\n"
     ]
    },
    {
     "name": "stdout",
     "output_type": "stream",
     "text": [
      "(620, 5, 1128, 577)\n"
     ]
    },
    {
     "data": {
      "text/plain": [
       "(array([3, 3, 3, ..., 4, 4, 4]),\n",
       " array([  61,   61,   61, ..., 1115, 1115, 1115]),\n",
       " array([  0,   1,   2, ..., 574, 575, 576]))"
      ]
     },
     "execution_count": 13,
     "metadata": {},
     "output_type": "execute_result"
    }
   ],
   "source": [
    "np.where(np.isnan(get_nwloocv_predictions_multimodel_merge(connectivity_data.structure_datas[sid].reg_proj_vcount_norm_renorm, \n",
    "                                                                                       connectivity_data.structure_datas[sid].centroids, \n",
    "                                                                                       gammas, \n",
    "                                                                                       indices_creleaf2ormore[sid], \n",
    "                                                                                       indices_creleaf2ormore[sid])))"
   ]
  },
  {
   "cell_type": "code",
   "execution_count": 163,
   "metadata": {},
   "outputs": [
    {
     "data": {
      "text/plain": [
       "array([  40,   42,   76,  126,  155,  200,  245,  333,  534,  583,  605,\n",
       "        682,  889, 1008])"
      ]
     },
     "execution_count": 163,
     "metadata": {},
     "output_type": "execute_result"
    }
   ],
   "source": [
    "#np.intersect1d(np.where(creline_sid == creline_sid[42])[0],np.where(leafs_sid == leafs_sid[42])[0])\n",
    "#connectivity_data.structure_datas[315].reg_proj_vcount_norm_renorm.shape\n",
    "#connectivity_data.structure_datas[315].reg_proj_vcount_norm_renorm.shape\n",
    "#eval_indices_creleaf2ormore[315].shape, indices_creleaf2ormore[315].shape #nwloocv_leaf_leaf2[315][4,42]\n",
    "#losses_leaf_leaf2[315][4,42], eval_indices_creleaf2ormore[315][42]"
   ]
  },
  {
   "cell_type": "code",
   "execution_count": 31,
   "metadata": {},
   "outputs": [
    {
     "data": {
      "text/plain": [
       "(array([nan, nan, nan, nan, nan]), (5, 1128, 577))"
      ]
     },
     "execution_count": 31,
     "metadata": {},
     "output_type": "execute_result"
    }
   ],
   "source": [
    "nwloocv_leaf_leaf2[315][4,61][:5], nwloocv_leaf_leaf2[315].shape"
   ]
  },
  {
   "cell_type": "code",
   "execution_count": 32,
   "metadata": {},
   "outputs": [
    {
     "data": {
      "text/plain": [
       "((620, 1128), array([[428]]))"
      ]
     },
     "execution_count": 32,
     "metadata": {},
     "output_type": "execute_result"
    }
   ],
   "source": [
    "indices_creleaf2ormore[sid].shape , np.asarray(np.where(indices_creleaf2ormore[sid][:,61] == 1)).transpose()"
   ]
  },
  {
   "cell_type": "code",
   "execution_count": 37,
   "metadata": {
    "collapsed": true
   },
   "outputs": [],
   "source": [
    "projections = connectivity_data.structure_datas[sid].reg_proj_vcount_norm_renorm\n",
    "centroids = connectivity_data.structure_datas[sid].centroids\n",
    "dists = pds\n",
    "gamma = gammas[4]\n",
    "model_index_matrix = indices_creleaf2ormore[sid]\n",
    "eval_index_matrix = indices_creleaf2ormore[sid]\n",
    "model_indices = [428]\n",
    "eval_indices = indices_creleaf2ormore[sid][428] #results are different for which index?"
   ]
  },
  {
   "cell_type": "code",
   "execution_count": 34,
   "metadata": {},
   "outputs": [
    {
     "name": "stderr",
     "output_type": "stream",
     "text": [
      "/Users/samsonkoelle/anaconda3/envs/allen_010719_5/lib/python3.7/site-packages/ipykernel_launcher.py:245: RuntimeWarning: divide by zero encountered in true_divide\n",
      "/Users/samsonkoelle/anaconda3/envs/allen_010719_5/lib/python3.7/site-packages/ipykernel_launcher.py:245: RuntimeWarning: invalid value encountered in true_divide\n",
      "/Users/samsonkoelle/anaconda3/envs/allen_010719_5/lib/python3.7/site-packages/ipykernel_launcher.py:245: RuntimeWarning: divide by zero encountered in true_divide\n",
      "/Users/samsonkoelle/anaconda3/envs/allen_010719_5/lib/python3.7/site-packages/ipykernel_launcher.py:245: RuntimeWarning: invalid value encountered in true_divide\n",
      "/Users/samsonkoelle/anaconda3/envs/allen_010719_5/lib/python3.7/site-packages/ipykernel_launcher.py:245: RuntimeWarning: divide by zero encountered in true_divide\n",
      "/Users/samsonkoelle/anaconda3/envs/allen_010719_5/lib/python3.7/site-packages/ipykernel_launcher.py:245: RuntimeWarning: invalid value encountered in true_divide\n",
      "/Users/samsonkoelle/anaconda3/envs/allen_010719_5/lib/python3.7/site-packages/ipykernel_launcher.py:245: RuntimeWarning: divide by zero encountered in true_divide\n",
      "/Users/samsonkoelle/anaconda3/envs/allen_010719_5/lib/python3.7/site-packages/ipykernel_launcher.py:245: RuntimeWarning: invalid value encountered in true_divide\n",
      "/Users/samsonkoelle/anaconda3/envs/allen_010719_5/lib/python3.7/site-packages/ipykernel_launcher.py:245: RuntimeWarning: divide by zero encountered in true_divide\n",
      "/Users/samsonkoelle/anaconda3/envs/allen_010719_5/lib/python3.7/site-packages/ipykernel_launcher.py:245: RuntimeWarning: invalid value encountered in true_divide\n",
      "/Users/samsonkoelle/anaconda3/envs/allen_010719_5/lib/python3.7/site-packages/ipykernel_launcher.py:245: RuntimeWarning: divide by zero encountered in true_divide\n",
      "/Users/samsonkoelle/anaconda3/envs/allen_010719_5/lib/python3.7/site-packages/ipykernel_launcher.py:245: RuntimeWarning: invalid value encountered in true_divide\n",
      "/Users/samsonkoelle/anaconda3/envs/allen_010719_5/lib/python3.7/site-packages/ipykernel_launcher.py:245: RuntimeWarning: divide by zero encountered in true_divide\n",
      "/Users/samsonkoelle/anaconda3/envs/allen_010719_5/lib/python3.7/site-packages/ipykernel_launcher.py:245: RuntimeWarning: invalid value encountered in true_divide\n",
      "/Users/samsonkoelle/anaconda3/envs/allen_010719_5/lib/python3.7/site-packages/ipykernel_launcher.py:245: RuntimeWarning: divide by zero encountered in true_divide\n",
      "/Users/samsonkoelle/anaconda3/envs/allen_010719_5/lib/python3.7/site-packages/ipykernel_launcher.py:245: RuntimeWarning: invalid value encountered in true_divide\n",
      "/Users/samsonkoelle/anaconda3/envs/allen_010719_5/lib/python3.7/site-packages/ipykernel_launcher.py:245: RuntimeWarning: divide by zero encountered in true_divide\n",
      "/Users/samsonkoelle/anaconda3/envs/allen_010719_5/lib/python3.7/site-packages/ipykernel_launcher.py:245: RuntimeWarning: invalid value encountered in true_divide\n",
      "/Users/samsonkoelle/anaconda3/envs/allen_010719_5/lib/python3.7/site-packages/ipykernel_launcher.py:245: RuntimeWarning: divide by zero encountered in true_divide\n",
      "/Users/samsonkoelle/anaconda3/envs/allen_010719_5/lib/python3.7/site-packages/ipykernel_launcher.py:245: RuntimeWarning: invalid value encountered in true_divide\n",
      "/Users/samsonkoelle/anaconda3/envs/allen_010719_5/lib/python3.7/site-packages/ipykernel_launcher.py:245: RuntimeWarning: divide by zero encountered in true_divide\n",
      "/Users/samsonkoelle/anaconda3/envs/allen_010719_5/lib/python3.7/site-packages/ipykernel_launcher.py:245: RuntimeWarning: invalid value encountered in true_divide\n",
      "/Users/samsonkoelle/anaconda3/envs/allen_010719_5/lib/python3.7/site-packages/ipykernel_launcher.py:245: RuntimeWarning: divide by zero encountered in true_divide\n",
      "/Users/samsonkoelle/anaconda3/envs/allen_010719_5/lib/python3.7/site-packages/ipykernel_launcher.py:245: RuntimeWarning: invalid value encountered in true_divide\n",
      "/Users/samsonkoelle/anaconda3/envs/allen_010719_5/lib/python3.7/site-packages/ipykernel_launcher.py:245: RuntimeWarning: divide by zero encountered in true_divide\n",
      "/Users/samsonkoelle/anaconda3/envs/allen_010719_5/lib/python3.7/site-packages/ipykernel_launcher.py:245: RuntimeWarning: invalid value encountered in true_divide\n",
      "/Users/samsonkoelle/anaconda3/envs/allen_010719_5/lib/python3.7/site-packages/ipykernel_launcher.py:245: RuntimeWarning: divide by zero encountered in true_divide\n",
      "/Users/samsonkoelle/anaconda3/envs/allen_010719_5/lib/python3.7/site-packages/ipykernel_launcher.py:245: RuntimeWarning: invalid value encountered in true_divide\n",
      "/Users/samsonkoelle/anaconda3/envs/allen_010719_5/lib/python3.7/site-packages/ipykernel_launcher.py:245: RuntimeWarning: divide by zero encountered in true_divide\n",
      "/Users/samsonkoelle/anaconda3/envs/allen_010719_5/lib/python3.7/site-packages/ipykernel_launcher.py:245: RuntimeWarning: invalid value encountered in true_divide\n",
      "/Users/samsonkoelle/anaconda3/envs/allen_010719_5/lib/python3.7/site-packages/ipykernel_launcher.py:245: RuntimeWarning: divide by zero encountered in true_divide\n",
      "/Users/samsonkoelle/anaconda3/envs/allen_010719_5/lib/python3.7/site-packages/ipykernel_launcher.py:245: RuntimeWarning: invalid value encountered in true_divide\n",
      "/Users/samsonkoelle/anaconda3/envs/allen_010719_5/lib/python3.7/site-packages/ipykernel_launcher.py:245: RuntimeWarning: divide by zero encountered in true_divide\n",
      "/Users/samsonkoelle/anaconda3/envs/allen_010719_5/lib/python3.7/site-packages/ipykernel_launcher.py:245: RuntimeWarning: invalid value encountered in true_divide\n",
      "/Users/samsonkoelle/anaconda3/envs/allen_010719_5/lib/python3.7/site-packages/ipykernel_launcher.py:245: RuntimeWarning: divide by zero encountered in true_divide\n",
      "/Users/samsonkoelle/anaconda3/envs/allen_010719_5/lib/python3.7/site-packages/ipykernel_launcher.py:245: RuntimeWarning: invalid value encountered in true_divide\n",
      "/Users/samsonkoelle/anaconda3/envs/allen_010719_5/lib/python3.7/site-packages/ipykernel_launcher.py:245: RuntimeWarning: divide by zero encountered in true_divide\n",
      "/Users/samsonkoelle/anaconda3/envs/allen_010719_5/lib/python3.7/site-packages/ipykernel_launcher.py:245: RuntimeWarning: invalid value encountered in true_divide\n",
      "/Users/samsonkoelle/anaconda3/envs/allen_010719_5/lib/python3.7/site-packages/ipykernel_launcher.py:245: RuntimeWarning: divide by zero encountered in true_divide\n",
      "/Users/samsonkoelle/anaconda3/envs/allen_010719_5/lib/python3.7/site-packages/ipykernel_launcher.py:245: RuntimeWarning: invalid value encountered in true_divide\n",
      "/Users/samsonkoelle/anaconda3/envs/allen_010719_5/lib/python3.7/site-packages/ipykernel_launcher.py:245: RuntimeWarning: divide by zero encountered in true_divide\n",
      "/Users/samsonkoelle/anaconda3/envs/allen_010719_5/lib/python3.7/site-packages/ipykernel_launcher.py:245: RuntimeWarning: invalid value encountered in true_divide\n",
      "/Users/samsonkoelle/anaconda3/envs/allen_010719_5/lib/python3.7/site-packages/ipykernel_launcher.py:245: RuntimeWarning: divide by zero encountered in true_divide\n",
      "/Users/samsonkoelle/anaconda3/envs/allen_010719_5/lib/python3.7/site-packages/ipykernel_launcher.py:245: RuntimeWarning: invalid value encountered in true_divide\n",
      "/Users/samsonkoelle/anaconda3/envs/allen_010719_5/lib/python3.7/site-packages/ipykernel_launcher.py:245: RuntimeWarning: divide by zero encountered in true_divide\n",
      "/Users/samsonkoelle/anaconda3/envs/allen_010719_5/lib/python3.7/site-packages/ipykernel_launcher.py:245: RuntimeWarning: invalid value encountered in true_divide\n",
      "/Users/samsonkoelle/anaconda3/envs/allen_010719_5/lib/python3.7/site-packages/ipykernel_launcher.py:245: RuntimeWarning: divide by zero encountered in true_divide\n",
      "/Users/samsonkoelle/anaconda3/envs/allen_010719_5/lib/python3.7/site-packages/ipykernel_launcher.py:245: RuntimeWarning: invalid value encountered in true_divide\n",
      "/Users/samsonkoelle/anaconda3/envs/allen_010719_5/lib/python3.7/site-packages/ipykernel_launcher.py:245: RuntimeWarning: divide by zero encountered in true_divide\n",
      "/Users/samsonkoelle/anaconda3/envs/allen_010719_5/lib/python3.7/site-packages/ipykernel_launcher.py:245: RuntimeWarning: invalid value encountered in true_divide\n",
      "/Users/samsonkoelle/anaconda3/envs/allen_010719_5/lib/python3.7/site-packages/ipykernel_launcher.py:245: RuntimeWarning: divide by zero encountered in true_divide\n",
      "/Users/samsonkoelle/anaconda3/envs/allen_010719_5/lib/python3.7/site-packages/ipykernel_launcher.py:245: RuntimeWarning: invalid value encountered in true_divide\n"
     ]
    },
    {
     "name": "stderr",
     "output_type": "stream",
     "text": [
      "/Users/samsonkoelle/anaconda3/envs/allen_010719_5/lib/python3.7/site-packages/ipykernel_launcher.py:245: RuntimeWarning: divide by zero encountered in true_divide\n",
      "/Users/samsonkoelle/anaconda3/envs/allen_010719_5/lib/python3.7/site-packages/ipykernel_launcher.py:245: RuntimeWarning: invalid value encountered in true_divide\n",
      "/Users/samsonkoelle/anaconda3/envs/allen_010719_5/lib/python3.7/site-packages/ipykernel_launcher.py:245: RuntimeWarning: divide by zero encountered in true_divide\n",
      "/Users/samsonkoelle/anaconda3/envs/allen_010719_5/lib/python3.7/site-packages/ipykernel_launcher.py:245: RuntimeWarning: invalid value encountered in true_divide\n",
      "/Users/samsonkoelle/anaconda3/envs/allen_010719_5/lib/python3.7/site-packages/ipykernel_launcher.py:245: RuntimeWarning: divide by zero encountered in true_divide\n",
      "/Users/samsonkoelle/anaconda3/envs/allen_010719_5/lib/python3.7/site-packages/ipykernel_launcher.py:245: RuntimeWarning: invalid value encountered in true_divide\n",
      "/Users/samsonkoelle/anaconda3/envs/allen_010719_5/lib/python3.7/site-packages/ipykernel_launcher.py:245: RuntimeWarning: divide by zero encountered in true_divide\n",
      "/Users/samsonkoelle/anaconda3/envs/allen_010719_5/lib/python3.7/site-packages/ipykernel_launcher.py:245: RuntimeWarning: invalid value encountered in true_divide\n",
      "/Users/samsonkoelle/anaconda3/envs/allen_010719_5/lib/python3.7/site-packages/ipykernel_launcher.py:245: RuntimeWarning: divide by zero encountered in true_divide\n",
      "/Users/samsonkoelle/anaconda3/envs/allen_010719_5/lib/python3.7/site-packages/ipykernel_launcher.py:245: RuntimeWarning: invalid value encountered in true_divide\n",
      "/Users/samsonkoelle/anaconda3/envs/allen_010719_5/lib/python3.7/site-packages/ipykernel_launcher.py:245: RuntimeWarning: divide by zero encountered in true_divide\n",
      "/Users/samsonkoelle/anaconda3/envs/allen_010719_5/lib/python3.7/site-packages/ipykernel_launcher.py:245: RuntimeWarning: invalid value encountered in true_divide\n",
      "/Users/samsonkoelle/anaconda3/envs/allen_010719_5/lib/python3.7/site-packages/ipykernel_launcher.py:245: RuntimeWarning: overflow encountered in true_divide\n",
      "/Users/samsonkoelle/anaconda3/envs/allen_010719_5/lib/python3.7/site-packages/ipykernel_launcher.py:245: RuntimeWarning: divide by zero encountered in true_divide\n",
      "/Users/samsonkoelle/anaconda3/envs/allen_010719_5/lib/python3.7/site-packages/ipykernel_launcher.py:245: RuntimeWarning: invalid value encountered in true_divide\n",
      "/Users/samsonkoelle/anaconda3/envs/allen_010719_5/lib/python3.7/site-packages/ipykernel_launcher.py:245: RuntimeWarning: divide by zero encountered in true_divide\n",
      "/Users/samsonkoelle/anaconda3/envs/allen_010719_5/lib/python3.7/site-packages/ipykernel_launcher.py:245: RuntimeWarning: invalid value encountered in true_divide\n",
      "/Users/samsonkoelle/anaconda3/envs/allen_010719_5/lib/python3.7/site-packages/ipykernel_launcher.py:245: RuntimeWarning: divide by zero encountered in true_divide\n",
      "/Users/samsonkoelle/anaconda3/envs/allen_010719_5/lib/python3.7/site-packages/ipykernel_launcher.py:245: RuntimeWarning: invalid value encountered in true_divide\n",
      "/Users/samsonkoelle/anaconda3/envs/allen_010719_5/lib/python3.7/site-packages/ipykernel_launcher.py:245: RuntimeWarning: divide by zero encountered in true_divide\n",
      "/Users/samsonkoelle/anaconda3/envs/allen_010719_5/lib/python3.7/site-packages/ipykernel_launcher.py:245: RuntimeWarning: invalid value encountered in true_divide\n",
      "/Users/samsonkoelle/anaconda3/envs/allen_010719_5/lib/python3.7/site-packages/ipykernel_launcher.py:245: RuntimeWarning: divide by zero encountered in true_divide\n",
      "/Users/samsonkoelle/anaconda3/envs/allen_010719_5/lib/python3.7/site-packages/ipykernel_launcher.py:245: RuntimeWarning: invalid value encountered in true_divide\n",
      "/Users/samsonkoelle/anaconda3/envs/allen_010719_5/lib/python3.7/site-packages/ipykernel_launcher.py:245: RuntimeWarning: divide by zero encountered in true_divide\n",
      "/Users/samsonkoelle/anaconda3/envs/allen_010719_5/lib/python3.7/site-packages/ipykernel_launcher.py:245: RuntimeWarning: invalid value encountered in true_divide\n",
      "/Users/samsonkoelle/anaconda3/envs/allen_010719_5/lib/python3.7/site-packages/ipykernel_launcher.py:245: RuntimeWarning: divide by zero encountered in true_divide\n",
      "/Users/samsonkoelle/anaconda3/envs/allen_010719_5/lib/python3.7/site-packages/ipykernel_launcher.py:245: RuntimeWarning: invalid value encountered in true_divide\n",
      "/Users/samsonkoelle/anaconda3/envs/allen_010719_5/lib/python3.7/site-packages/ipykernel_launcher.py:245: RuntimeWarning: divide by zero encountered in true_divide\n",
      "/Users/samsonkoelle/anaconda3/envs/allen_010719_5/lib/python3.7/site-packages/ipykernel_launcher.py:245: RuntimeWarning: invalid value encountered in true_divide\n",
      "/Users/samsonkoelle/anaconda3/envs/allen_010719_5/lib/python3.7/site-packages/ipykernel_launcher.py:245: RuntimeWarning: divide by zero encountered in true_divide\n",
      "/Users/samsonkoelle/anaconda3/envs/allen_010719_5/lib/python3.7/site-packages/ipykernel_launcher.py:245: RuntimeWarning: invalid value encountered in true_divide\n",
      "/Users/samsonkoelle/anaconda3/envs/allen_010719_5/lib/python3.7/site-packages/ipykernel_launcher.py:245: RuntimeWarning: divide by zero encountered in true_divide\n",
      "/Users/samsonkoelle/anaconda3/envs/allen_010719_5/lib/python3.7/site-packages/ipykernel_launcher.py:245: RuntimeWarning: invalid value encountered in true_divide\n",
      "/Users/samsonkoelle/anaconda3/envs/allen_010719_5/lib/python3.7/site-packages/ipykernel_launcher.py:245: RuntimeWarning: divide by zero encountered in true_divide\n",
      "/Users/samsonkoelle/anaconda3/envs/allen_010719_5/lib/python3.7/site-packages/ipykernel_launcher.py:245: RuntimeWarning: invalid value encountered in true_divide\n",
      "/Users/samsonkoelle/anaconda3/envs/allen_010719_5/lib/python3.7/site-packages/ipykernel_launcher.py:245: RuntimeWarning: divide by zero encountered in true_divide\n",
      "/Users/samsonkoelle/anaconda3/envs/allen_010719_5/lib/python3.7/site-packages/ipykernel_launcher.py:245: RuntimeWarning: invalid value encountered in true_divide\n",
      "/Users/samsonkoelle/anaconda3/envs/allen_010719_5/lib/python3.7/site-packages/ipykernel_launcher.py:245: RuntimeWarning: divide by zero encountered in true_divide\n",
      "/Users/samsonkoelle/anaconda3/envs/allen_010719_5/lib/python3.7/site-packages/ipykernel_launcher.py:245: RuntimeWarning: invalid value encountered in true_divide\n",
      "/Users/samsonkoelle/anaconda3/envs/allen_010719_5/lib/python3.7/site-packages/ipykernel_launcher.py:245: RuntimeWarning: divide by zero encountered in true_divide\n",
      "/Users/samsonkoelle/anaconda3/envs/allen_010719_5/lib/python3.7/site-packages/ipykernel_launcher.py:245: RuntimeWarning: invalid value encountered in true_divide\n",
      "/Users/samsonkoelle/anaconda3/envs/allen_010719_5/lib/python3.7/site-packages/ipykernel_launcher.py:245: RuntimeWarning: divide by zero encountered in true_divide\n",
      "/Users/samsonkoelle/anaconda3/envs/allen_010719_5/lib/python3.7/site-packages/ipykernel_launcher.py:245: RuntimeWarning: invalid value encountered in true_divide\n",
      "/Users/samsonkoelle/anaconda3/envs/allen_010719_5/lib/python3.7/site-packages/ipykernel_launcher.py:245: RuntimeWarning: divide by zero encountered in true_divide\n",
      "/Users/samsonkoelle/anaconda3/envs/allen_010719_5/lib/python3.7/site-packages/ipykernel_launcher.py:245: RuntimeWarning: invalid value encountered in true_divide\n",
      "/Users/samsonkoelle/anaconda3/envs/allen_010719_5/lib/python3.7/site-packages/ipykernel_launcher.py:245: RuntimeWarning: divide by zero encountered in true_divide\n",
      "/Users/samsonkoelle/anaconda3/envs/allen_010719_5/lib/python3.7/site-packages/ipykernel_launcher.py:245: RuntimeWarning: invalid value encountered in true_divide\n",
      "/Users/samsonkoelle/anaconda3/envs/allen_010719_5/lib/python3.7/site-packages/ipykernel_launcher.py:245: RuntimeWarning: divide by zero encountered in true_divide\n",
      "/Users/samsonkoelle/anaconda3/envs/allen_010719_5/lib/python3.7/site-packages/ipykernel_launcher.py:245: RuntimeWarning: invalid value encountered in true_divide\n",
      "/Users/samsonkoelle/anaconda3/envs/allen_010719_5/lib/python3.7/site-packages/ipykernel_launcher.py:245: RuntimeWarning: divide by zero encountered in true_divide\n",
      "/Users/samsonkoelle/anaconda3/envs/allen_010719_5/lib/python3.7/site-packages/ipykernel_launcher.py:245: RuntimeWarning: invalid value encountered in true_divide\n",
      "/Users/samsonkoelle/anaconda3/envs/allen_010719_5/lib/python3.7/site-packages/ipykernel_launcher.py:245: RuntimeWarning: divide by zero encountered in true_divide\n",
      "/Users/samsonkoelle/anaconda3/envs/allen_010719_5/lib/python3.7/site-packages/ipykernel_launcher.py:245: RuntimeWarning: invalid value encountered in true_divide\n",
      "/Users/samsonkoelle/anaconda3/envs/allen_010719_5/lib/python3.7/site-packages/ipykernel_launcher.py:245: RuntimeWarning: divide by zero encountered in true_divide\n",
      "/Users/samsonkoelle/anaconda3/envs/allen_010719_5/lib/python3.7/site-packages/ipykernel_launcher.py:245: RuntimeWarning: invalid value encountered in true_divide\n"
     ]
    },
    {
     "name": "stderr",
     "output_type": "stream",
     "text": [
      "/Users/samsonkoelle/anaconda3/envs/allen_010719_5/lib/python3.7/site-packages/ipykernel_launcher.py:245: RuntimeWarning: divide by zero encountered in true_divide\n",
      "/Users/samsonkoelle/anaconda3/envs/allen_010719_5/lib/python3.7/site-packages/ipykernel_launcher.py:245: RuntimeWarning: invalid value encountered in true_divide\n",
      "/Users/samsonkoelle/anaconda3/envs/allen_010719_5/lib/python3.7/site-packages/ipykernel_launcher.py:245: RuntimeWarning: overflow encountered in true_divide\n",
      "/Users/samsonkoelle/anaconda3/envs/allen_010719_5/lib/python3.7/site-packages/ipykernel_launcher.py:245: RuntimeWarning: overflow encountered in true_divide\n",
      "/Users/samsonkoelle/anaconda3/envs/allen_010719_5/lib/python3.7/site-packages/ipykernel_launcher.py:245: RuntimeWarning: divide by zero encountered in true_divide\n",
      "/Users/samsonkoelle/anaconda3/envs/allen_010719_5/lib/python3.7/site-packages/ipykernel_launcher.py:245: RuntimeWarning: invalid value encountered in true_divide\n",
      "/Users/samsonkoelle/anaconda3/envs/allen_010719_5/lib/python3.7/site-packages/ipykernel_launcher.py:245: RuntimeWarning: divide by zero encountered in true_divide\n",
      "/Users/samsonkoelle/anaconda3/envs/allen_010719_5/lib/python3.7/site-packages/ipykernel_launcher.py:245: RuntimeWarning: invalid value encountered in true_divide\n",
      "/Users/samsonkoelle/anaconda3/envs/allen_010719_5/lib/python3.7/site-packages/ipykernel_launcher.py:245: RuntimeWarning: divide by zero encountered in true_divide\n",
      "/Users/samsonkoelle/anaconda3/envs/allen_010719_5/lib/python3.7/site-packages/ipykernel_launcher.py:245: RuntimeWarning: invalid value encountered in true_divide\n",
      "/Users/samsonkoelle/anaconda3/envs/allen_010719_5/lib/python3.7/site-packages/ipykernel_launcher.py:245: RuntimeWarning: divide by zero encountered in true_divide\n",
      "/Users/samsonkoelle/anaconda3/envs/allen_010719_5/lib/python3.7/site-packages/ipykernel_launcher.py:245: RuntimeWarning: invalid value encountered in true_divide\n",
      "/Users/samsonkoelle/anaconda3/envs/allen_010719_5/lib/python3.7/site-packages/ipykernel_launcher.py:245: RuntimeWarning: divide by zero encountered in true_divide\n",
      "/Users/samsonkoelle/anaconda3/envs/allen_010719_5/lib/python3.7/site-packages/ipykernel_launcher.py:245: RuntimeWarning: invalid value encountered in true_divide\n",
      "/Users/samsonkoelle/anaconda3/envs/allen_010719_5/lib/python3.7/site-packages/ipykernel_launcher.py:245: RuntimeWarning: divide by zero encountered in true_divide\n",
      "/Users/samsonkoelle/anaconda3/envs/allen_010719_5/lib/python3.7/site-packages/ipykernel_launcher.py:245: RuntimeWarning: invalid value encountered in true_divide\n",
      "/Users/samsonkoelle/anaconda3/envs/allen_010719_5/lib/python3.7/site-packages/ipykernel_launcher.py:245: RuntimeWarning: divide by zero encountered in true_divide\n",
      "/Users/samsonkoelle/anaconda3/envs/allen_010719_5/lib/python3.7/site-packages/ipykernel_launcher.py:245: RuntimeWarning: invalid value encountered in true_divide\n",
      "/Users/samsonkoelle/anaconda3/envs/allen_010719_5/lib/python3.7/site-packages/ipykernel_launcher.py:245: RuntimeWarning: divide by zero encountered in true_divide\n",
      "/Users/samsonkoelle/anaconda3/envs/allen_010719_5/lib/python3.7/site-packages/ipykernel_launcher.py:245: RuntimeWarning: invalid value encountered in true_divide\n",
      "/Users/samsonkoelle/anaconda3/envs/allen_010719_5/lib/python3.7/site-packages/ipykernel_launcher.py:245: RuntimeWarning: divide by zero encountered in true_divide\n",
      "/Users/samsonkoelle/anaconda3/envs/allen_010719_5/lib/python3.7/site-packages/ipykernel_launcher.py:245: RuntimeWarning: invalid value encountered in true_divide\n",
      "/Users/samsonkoelle/anaconda3/envs/allen_010719_5/lib/python3.7/site-packages/ipykernel_launcher.py:245: RuntimeWarning: divide by zero encountered in true_divide\n",
      "/Users/samsonkoelle/anaconda3/envs/allen_010719_5/lib/python3.7/site-packages/ipykernel_launcher.py:245: RuntimeWarning: invalid value encountered in true_divide\n",
      "/Users/samsonkoelle/anaconda3/envs/allen_010719_5/lib/python3.7/site-packages/ipykernel_launcher.py:245: RuntimeWarning: divide by zero encountered in true_divide\n",
      "/Users/samsonkoelle/anaconda3/envs/allen_010719_5/lib/python3.7/site-packages/ipykernel_launcher.py:245: RuntimeWarning: invalid value encountered in true_divide\n",
      "/Users/samsonkoelle/anaconda3/envs/allen_010719_5/lib/python3.7/site-packages/ipykernel_launcher.py:245: RuntimeWarning: divide by zero encountered in true_divide\n",
      "/Users/samsonkoelle/anaconda3/envs/allen_010719_5/lib/python3.7/site-packages/ipykernel_launcher.py:245: RuntimeWarning: invalid value encountered in true_divide\n",
      "/Users/samsonkoelle/anaconda3/envs/allen_010719_5/lib/python3.7/site-packages/ipykernel_launcher.py:245: RuntimeWarning: divide by zero encountered in true_divide\n",
      "/Users/samsonkoelle/anaconda3/envs/allen_010719_5/lib/python3.7/site-packages/ipykernel_launcher.py:245: RuntimeWarning: invalid value encountered in true_divide\n",
      "/Users/samsonkoelle/anaconda3/envs/allen_010719_5/lib/python3.7/site-packages/ipykernel_launcher.py:245: RuntimeWarning: divide by zero encountered in true_divide\n",
      "/Users/samsonkoelle/anaconda3/envs/allen_010719_5/lib/python3.7/site-packages/ipykernel_launcher.py:245: RuntimeWarning: invalid value encountered in true_divide\n",
      "/Users/samsonkoelle/anaconda3/envs/allen_010719_5/lib/python3.7/site-packages/ipykernel_launcher.py:245: RuntimeWarning: divide by zero encountered in true_divide\n",
      "/Users/samsonkoelle/anaconda3/envs/allen_010719_5/lib/python3.7/site-packages/ipykernel_launcher.py:245: RuntimeWarning: invalid value encountered in true_divide\n",
      "/Users/samsonkoelle/anaconda3/envs/allen_010719_5/lib/python3.7/site-packages/ipykernel_launcher.py:245: RuntimeWarning: divide by zero encountered in true_divide\n",
      "/Users/samsonkoelle/anaconda3/envs/allen_010719_5/lib/python3.7/site-packages/ipykernel_launcher.py:245: RuntimeWarning: invalid value encountered in true_divide\n",
      "/Users/samsonkoelle/anaconda3/envs/allen_010719_5/lib/python3.7/site-packages/ipykernel_launcher.py:245: RuntimeWarning: divide by zero encountered in true_divide\n",
      "/Users/samsonkoelle/anaconda3/envs/allen_010719_5/lib/python3.7/site-packages/ipykernel_launcher.py:245: RuntimeWarning: invalid value encountered in true_divide\n",
      "/Users/samsonkoelle/anaconda3/envs/allen_010719_5/lib/python3.7/site-packages/ipykernel_launcher.py:245: RuntimeWarning: divide by zero encountered in true_divide\n",
      "/Users/samsonkoelle/anaconda3/envs/allen_010719_5/lib/python3.7/site-packages/ipykernel_launcher.py:245: RuntimeWarning: invalid value encountered in true_divide\n",
      "/Users/samsonkoelle/anaconda3/envs/allen_010719_5/lib/python3.7/site-packages/ipykernel_launcher.py:245: RuntimeWarning: divide by zero encountered in true_divide\n",
      "/Users/samsonkoelle/anaconda3/envs/allen_010719_5/lib/python3.7/site-packages/ipykernel_launcher.py:245: RuntimeWarning: invalid value encountered in true_divide\n",
      "/Users/samsonkoelle/anaconda3/envs/allen_010719_5/lib/python3.7/site-packages/ipykernel_launcher.py:245: RuntimeWarning: divide by zero encountered in true_divide\n",
      "/Users/samsonkoelle/anaconda3/envs/allen_010719_5/lib/python3.7/site-packages/ipykernel_launcher.py:245: RuntimeWarning: invalid value encountered in true_divide\n",
      "/Users/samsonkoelle/anaconda3/envs/allen_010719_5/lib/python3.7/site-packages/ipykernel_launcher.py:245: RuntimeWarning: divide by zero encountered in true_divide\n",
      "/Users/samsonkoelle/anaconda3/envs/allen_010719_5/lib/python3.7/site-packages/ipykernel_launcher.py:245: RuntimeWarning: invalid value encountered in true_divide\n",
      "/Users/samsonkoelle/anaconda3/envs/allen_010719_5/lib/python3.7/site-packages/ipykernel_launcher.py:245: RuntimeWarning: divide by zero encountered in true_divide\n",
      "/Users/samsonkoelle/anaconda3/envs/allen_010719_5/lib/python3.7/site-packages/ipykernel_launcher.py:245: RuntimeWarning: invalid value encountered in true_divide\n"
     ]
    },
    {
     "name": "stdout",
     "output_type": "stream",
     "text": [
      "(620, 5, 1128, 577)\n"
     ]
    },
    {
     "name": "stderr",
     "output_type": "stream",
     "text": [
      "/Users/samsonkoelle/anaconda3/envs/allen_010719_5/lib/python3.7/site-packages/ipykernel_launcher.py:245: RuntimeWarning: divide by zero encountered in true_divide\n",
      "/Users/samsonkoelle/anaconda3/envs/allen_010719_5/lib/python3.7/site-packages/ipykernel_launcher.py:245: RuntimeWarning: invalid value encountered in true_divide\n",
      "/Users/samsonkoelle/anaconda3/envs/allen_010719_5/lib/python3.7/site-packages/ipykernel_launcher.py:245: RuntimeWarning: divide by zero encountered in true_divide\n",
      "/Users/samsonkoelle/anaconda3/envs/allen_010719_5/lib/python3.7/site-packages/ipykernel_launcher.py:245: RuntimeWarning: invalid value encountered in true_divide\n"
     ]
    }
   ],
   "source": [
    "predictions_unmerged = get_nwloocv_predictions_multimodel(projections, centroids, gammas, model_index_matrix, eval_index_matrix)\n",
    "print(predictions_unmerged.shape)\n",
    "predictions_merged = combine_predictions(predictions_unmerged, eval_index_matrix)"
   ]
  },
  {
   "cell_type": "code",
   "execution_count": 36,
   "metadata": {},
   "outputs": [
    {
     "data": {
      "text/plain": [
       "array([[1.07484851e-02, 1.77033944e-04, 3.64117883e-03, ...,\n",
       "        1.72572036e-04, 1.59473567e-18, 1.62325962e-03],\n",
       "       [1.07484851e-02, 1.77033944e-04, 3.64117883e-03, ...,\n",
       "        1.72572036e-04, 0.00000000e+00, 1.62325962e-03],\n",
       "       [1.07484851e-02, 1.77033944e-04, 3.64117883e-03, ...,\n",
       "        1.72572036e-04, 0.00000000e+00, 1.62325962e-03],\n",
       "       [           nan,            nan,            nan, ...,\n",
       "                   nan,            nan,            nan],\n",
       "       [           nan,            nan,            nan, ...,\n",
       "                   nan,            nan,            nan]])"
      ]
     },
     "execution_count": 36,
     "metadata": {},
     "output_type": "execute_result"
    }
   ],
   "source": [
    "predictions_merged[:,61]"
   ]
  },
  {
   "cell_type": "code",
   "execution_count": null,
   "metadata": {
    "collapsed": true
   },
   "outputs": [],
   "source": []
  },
  {
   "cell_type": "code",
   "execution_count": null,
   "metadata": {
    "collapsed": true
   },
   "outputs": [],
   "source": []
  },
  {
   "cell_type": "code",
   "execution_count": 187,
   "metadata": {},
   "outputs": [
    {
     "data": {
      "text/plain": [
       "array([0., 0., 0., 0., 0., 0., 0., 0., 0., 0., 0., 0., 0., 0., 0., 0., 0.,\n",
       "       0., 0., 0., 0., 0., 0., 0., 0., 0., 0., 0., 0., 0., 0., 0., 0., 0.,\n",
       "       0., 0., 0., 0., 0., 0., 0., 0., 0., 0., 0., 0., 0., 0., 0., 0., 0.,\n",
       "       0., 0., 0., 0., 0., 0., 0., 0., 0., 0., 0., 0., 0., 0., 0., 0., 0.,\n",
       "       0., 0., 0., 0., 0., 0., 0., 0., 0., 0., 0., 0., 0., 0., 0., 0., 0.,\n",
       "       0., 0., 0., 0., 0., 0., 0., 0., 0., 0., 0., 0., 0., 0., 0., 0., 0.,\n",
       "       0., 0., 0., 0., 0., 0., 0., 0., 0., 0., 0., 0., 0., 0., 0., 0., 0.,\n",
       "       0., 0., 0., 0., 0., 0., 0., 0., 0., 0., 0., 0., 0., 0., 0., 0., 0.,\n",
       "       0., 0., 0., 0., 0., 0., 0., 0., 0., 0., 0., 0., 0., 0., 0., 0., 0.,\n",
       "       0., 0., 0., 0., 0., 0., 0., 0., 0., 0., 0., 0., 0., 0., 0., 0., 0.,\n",
       "       0., 0., 0., 0., 0., 0., 0., 0., 0., 0., 0., 0., 0., 0., 0., 0., 0.,\n",
       "       0., 0., 0., 0., 0., 0., 0., 0., 0., 0., 0., 0., 0., 0., 0., 0., 0.,\n",
       "       0., 0., 0., 0., 0., 0., 0., 0., 0., 0., 0., 0., 0., 0., 0., 0., 0.,\n",
       "       0., 0., 0., 0., 0., 0., 0., 0., 0., 0., 0., 0., 0., 0., 0., 0., 0.,\n",
       "       0., 0., 0., 0., 0., 0., 0., 0., 0., 0., 0., 0., 0., 0., 0., 0., 0.,\n",
       "       0., 0., 0., 0., 0., 0., 0., 0., 0., 0., 0., 0., 0., 0., 0., 0., 0.,\n",
       "       0., 0., 0., 0., 0., 0., 0., 0., 0., 0., 0., 0., 0., 0., 0., 0., 0.,\n",
       "       0., 0., 0., 0., 0., 0., 0., 0., 0., 0., 0., 0., 0., 0., 0., 0., 0.,\n",
       "       0., 0., 0., 0., 0., 0., 0., 0., 0., 0., 0., 0., 0., 0., 0., 0., 0.,\n",
       "       0., 0., 0., 0., 0., 0., 0., 0., 0., 0., 0., 0., 0., 0., 0., 0., 0.,\n",
       "       0., 0., 0., 0., 0., 0., 0., 0., 0., 0., 0., 0., 0., 0., 0., 0., 0.,\n",
       "       0., 0., 0., 0., 0., 0., 0., 0., 0., 0., 0., 0., 0., 0., 0., 0., 0.,\n",
       "       0., 0., 0., 0., 0., 0., 0., 0., 0., 0., 0., 0., 0., 0., 0., 0., 0.,\n",
       "       0., 0., 0., 0., 0., 0., 0., 0., 0., 0., 0., 0., 0., 0., 0., 0., 0.,\n",
       "       0., 0., 0., 0., 0., 0., 0., 0., 0., 0., 0., 0., 0., 0., 0., 0., 0.,\n",
       "       0., 0., 0., 0., 0., 0., 0., 0., 0., 0., 0., 0., 0., 0., 0., 0., 0.,\n",
       "       0., 0., 0., 0., 0., 0., 0., 0., 0., 0., 0., 0., 0., 0., 0., 0., 0.,\n",
       "       0., 0., 0., 0., 0., 0., 0., 0., 0., 0., 0., 0., 0., 0., 0., 0., 0.,\n",
       "       0., 0., 0., 0., 0., 0., 0., 0., 0., 0., 0., 0., 0., 0., 0., 0., 0.,\n",
       "       0., 0., 0., 0., 0., 0., 0., 0., 0., 0., 0., 0., 0., 0., 0., 0., 0.,\n",
       "       0., 0., 0., 0., 0., 0., 0., 0., 0., 0., 0., 0., 0., 0., 0., 0., 0.,\n",
       "       0., 0., 0., 0., 0., 0., 0., 0., 0., 0., 0., 0., 0., 0., 0., 0., 0.,\n",
       "       0., 0., 0., 0., 0., 0., 0., 0., 0., 0., 0., 0., 0., 0., 0., 0., 0.,\n",
       "       0., 0., 0., 0., 0., 0., 0., 0., 0., 0., 0., 0., 0., 0., 0., 0.])"
      ]
     },
     "execution_count": 187,
     "metadata": {},
     "output_type": "execute_result"
    }
   ],
   "source": [
    "nwloocv_leaf_leaf2[315][4,61]"
   ]
  },
  {
   "cell_type": "code",
   "execution_count": 177,
   "metadata": {},
   "outputs": [
    {
     "data": {
      "text/plain": [
       "0.0"
      ]
     },
     "execution_count": 177,
     "metadata": {},
     "output_type": "execute_result"
    }
   ],
   "source": [
    "lsave"
   ]
  },
  {
   "cell_type": "code",
   "execution_count": 167,
   "metadata": {},
   "outputs": [
    {
     "data": {
      "text/plain": [
       "(5, 732)"
      ]
     },
     "execution_count": 167,
     "metadata": {},
     "output_type": "execute_result"
    }
   ],
   "source": [
    "losses_leaf_leaf2[315].shape #its the 4,42 in here thats the issue..."
   ]
  },
  {
   "cell_type": "code",
   "execution_count": 156,
   "metadata": {},
   "outputs": [
    {
     "data": {
      "text/plain": [
       "array([[4]])"
      ]
     },
     "execution_count": 156,
     "metadata": {},
     "output_type": "execute_result"
    }
   ],
   "source": [
    "best_gamma_leaf_leaf2"
   ]
  },
  {
   "cell_type": "code",
   "execution_count": 145,
   "metadata": {},
   "outputs": [
    {
     "data": {
      "text/plain": [
       "(5, 732)"
      ]
     },
     "execution_count": 145,
     "metadata": {},
     "output_type": "execute_result"
    }
   ],
   "source": [
    "losses_leaf_leaf2[315].shape"
   ]
  },
  {
   "cell_type": "code",
   "execution_count": 143,
   "metadata": {},
   "outputs": [
    {
     "data": {
      "text/plain": [
       "(array([], dtype=int64), array([], dtype=int64))"
      ]
     },
     "execution_count": 143,
     "metadata": {},
     "output_type": "execute_result"
    }
   ],
   "source": [
    "np.where(np.isnan(lsave))"
   ]
  },
  {
   "cell_type": "code",
   "execution_count": 144,
   "metadata": {},
   "outputs": [
    {
     "data": {
      "text/plain": [
       "array([[0.27214122, 0.42440166, 0.42318851, ..., 0.06707866, 0.2599173 ,\n",
       "        0.64170026],\n",
       "       [0.27214122, 0.42440602, 0.42405743, ..., 0.06228889, 0.2599173 ,\n",
       "        0.64167633],\n",
       "       [0.27214122, 0.42440602, 0.4240574 , ..., 0.07484195, 0.2599173 ,\n",
       "        0.64167633],\n",
       "       [0.27214122, 0.42440602, 0.4240574 , ..., 0.08480845, 0.2599173 ,\n",
       "        0.64167633],\n",
       "       [0.27214122, 0.42440602, 0.4240574 , ..., 0.08626172, 0.2599173 ,\n",
       "        0.64167633]])"
      ]
     },
     "execution_count": 144,
     "metadata": {},
     "output_type": "execute_result"
    }
   ],
   "source": [
    "lsave"
   ]
  },
  {
   "cell_type": "code",
   "execution_count": 140,
   "metadata": {},
   "outputs": [
    {
     "data": {
      "text/plain": [
       "0.0"
      ]
     },
     "execution_count": 140,
     "metadata": {},
     "output_type": "execute_result"
    }
   ],
   "source": [
    "np.nanmin(losses_leaf_leaf2[315] - lsave)"
   ]
  },
  {
   "cell_type": "code",
   "execution_count": 13,
   "metadata": {
    "collapsed": true
   },
   "outputs": [],
   "source": [
    "\n",
    "#get predictions at all eval_indices using model_indices\n",
    "#if an eval_indices is also a model indice, leave it out of the model\n",
    "#if a model index is not an eval index, it never gets left out\n",
    "def get_nwloocv_predictions_singlemodel(projections, centroids, gamma, model_indices, eval_indices):\n",
    "  \n",
    "    eval_index_val = np.where(eval_indices == 1)[0]\n",
    "    model_index_val = np.where(model_indices == 1)[0]\n",
    "    \n",
    "    projections = np.asarray(projections, dtype=np.float32)\n",
    "    \n",
    "    nmod_ind = len(model_index_val)\n",
    "    neval = len(eval_index_val)\n",
    "    #nexp = centroids.shape[0]\n",
    "    predictions = np.empty(projections.shape)\n",
    "    #print(model_index_val.shape, eval_index_val.shape)\n",
    "\n",
    "    if len(model_index_val) > 0 and  len(eval_index_val) > 0:\n",
    "        weights = pairwise_kernels(centroids[model_index_val], centroids[eval_index_val], metric='rbf', gamma=gamma, filter_params=True) #get_weights(centroids, gamma)\n",
    "        for i in range(neval):\n",
    "            matchindex = np.where(model_index_val == eval_index_val[i])[0]\n",
    "            otherindices = np.setdiff1d(np.asarray(list(range(nmod_ind))), matchindex)         \n",
    "            #this order of operations is the fastest I found\n",
    "            weights_i = weights[:,i] / weights[:,i][otherindices].sum()\n",
    "            weights_i[matchindex] = 0\n",
    "            weights_i = np.asarray(weights_i, dtype=np.float32)\n",
    "            \n",
    "            weights_i[np.isnan(weights_i)] = 0.\n",
    "            \n",
    "            pred = np.dot(weights_i, projections[model_index_val])\n",
    "            predictions[eval_index_val[i]] = pred\n",
    "\n",
    "        \n",
    "    return(predictions)    \n",
    "\n",
    "def get_nwloocv_predictions_multimodel(projections, centroids, gammas, model_index_matrix, eval_index_matrix):\n",
    "    \n",
    "\n",
    "    \n",
    "    ntargets = projections.shape[1]\n",
    "    nexp = projections.shape[0]\n",
    "    nmodels = model_index_matrix.shape[0]\n",
    "    ngammas = len(gammas)\n",
    "    \n",
    "    projections = np.asarray(projections, dtype=np.float32)\n",
    "    predictions = np.empty((nmodels, ngammas, nexp, ntargets))\n",
    "    \n",
    "    \n",
    "    for m in range(nmodels):\n",
    "        #print('m', m, len(np.where(model_index_matrix[m] ==1)[0]))\n",
    "        predictions[m] = np.asarray([get_nwloocv_predictions_singlemodel(projections, centroids, gammas[g], model_index_matrix[m], eval_index_matrix[m]) for g in range(ngammas)])\n",
    "    \n",
    "    return(predictions)  \n",
    "\n",
    "def combine_predictions(predictions, eval_index_matrix):\n",
    "    \n",
    "    nmodels, ngammas, nexp, ntargets = predictions.shape\n",
    "    combined_predictions = np.empty((ngammas, nexp, ntargets))\n",
    "    for m in range(nmodels):\n",
    "        combined_predictions[:,np.where(eval_index_matrix[m] == 1)[0]] = predictions[m][:,np.where(eval_index_matrix[m] == 1)[0]]\n",
    "        \n",
    "    return(combined_predictions)\n",
    "\n",
    "def get_nwloocv_predictions_multimodel_merge(projections, centroids, gammas, model_index_matrix, eval_index_matrix):\n",
    "    \n",
    "    predictions_unmerged = get_nwloocv_predictions_multimodel(projections, centroids, gammas, model_index_matrix, eval_index_matrix)\n",
    "    print(predictions_unmerged.shape)\n",
    "    predictions_merged = combine_predictions(predictions_unmerged, eval_index_matrix)\n",
    "    \n",
    "    return(predictions_merged)\n",
    "\n",
    "#we should not pass model_index_matrices that are identical to eval_index_matrices and have only 1 element per model\n",
    "#although in principal we could do automatically in the cross validation code \n",
    "#we would rather do it explicitly to ensure identical indexing b/w experiments\n",
    "#if we only have 1 model index we will remove the model index from eval indices\n",
    "\n",
    "def get_nwloocv_predictions_singlemodel_dists(projections, dists, gamma, model_indices, eval_indices):\n",
    "  \n",
    "    eval_index_val = np.where(eval_indices == 1)[0]\n",
    "    model_index_val = np.where(model_indices == 1)[0]\n",
    "    \n",
    "    projections = np.asarray(projections, dtype=np.float32)\n",
    "    \n",
    "    nmod_ind = len(model_index_val)\n",
    "    neval = len(eval_index_val)\n",
    "    #nexp = centroids.shape[0]\n",
    "    predictions = np.empty(projections.shape)\n",
    "    #print(model_index_val.shape, eval_index_val.shape)\n",
    "\n",
    "    if len(model_index_val) > 0 and  len(eval_index_val) > 0:\n",
    "        weights = np.exp(-dists[model_index_val][:, eval_index_val] * gamma)#np.exp(-dists[model_index_val] / gamma) #get_weights(centroids, gamma)\n",
    "        for i in range(neval):\n",
    "            matchindex = np.where(model_index_val == eval_index_val[i])[0]\n",
    "            otherindices = np.setdiff1d(np.asarray(list(range(nmod_ind))), matchindex)         \n",
    "            #this order of operations is the fastest I found\n",
    "            weights_i = weights[i,:] / np.nansum(weights[i,:][otherindices])\n",
    "            #print(np.nansum(weights[:,i][otherindices]))\n",
    "            weights_i[matchindex] = 0\n",
    "            weights_i = np.asarray(weights_i, dtype=np.float32)\n",
    "            weights_i[np.isnan(weights_i)] = 0.\n",
    "            pred = np.dot(weights_i, projections[model_index_val])\n",
    "            predictions[eval_index_val[i]] = pred\n",
    "\n",
    "        \n",
    "    return(predictions) \n",
    "\n",
    "def get_nwloocv_predictions_multimodel_merge_dists(projections, dists, gammas, model_index_matrix, eval_index_matrix):\n",
    "    \n",
    "    predictions_unmerged = get_nwloocv_predictions_multimodel_dists(projections, dists, gammas, model_index_matrix, eval_index_matrix)\n",
    "    print(predictions_unmerged.shape)\n",
    "    predictions_merged = combine_predictions(predictions_unmerged, eval_index_matrix)\n",
    "    \n",
    "    return(predictions_merged)\n",
    "    \n",
    "    \n",
    "def get_nwloocv_predictions_multimodel_dists(projections, dists, gammas, model_index_matrix, eval_index_matrix):\n",
    "    \n",
    "\n",
    "    \n",
    "    ntargets = projections.shape[1]\n",
    "    nexp = projections.shape[0]\n",
    "    nmodels = model_index_matrix.shape[0]\n",
    "    ngammas = len(gammas)\n",
    "    \n",
    "    projections = np.asarray(projections, dtype=np.float32)\n",
    "    predictions = np.empty((nmodels, ngammas, nexp, ntargets))\n",
    "    \n",
    "    \n",
    "    for m in range(nmodels):\n",
    "        #print('m', m, len(np.where(model_index_matrix[m] ==1)[0]))\n",
    "        predictions[m] = np.asarray([get_nwloocv_predictions_singlemodel_dists(projections, dists, gammas[g], model_index_matrix[m], eval_index_matrix[m]) for g in range(ngammas)])\n",
    "    \n",
    "    return(predictions)  \n"
   ]
  },
  {
   "cell_type": "code",
   "execution_count": 188,
   "metadata": {},
   "outputs": [
    {
     "data": {
      "text/plain": [
       "(620, 1128)"
      ]
     },
     "execution_count": 188,
     "metadata": {},
     "output_type": "execute_result"
    }
   ],
   "source": [
    "indices_creleaf2ormore[sid].shape #why do we have 620 models??"
   ]
  },
  {
   "cell_type": "code",
   "execution_count": 212,
   "metadata": {},
   "outputs": [
    {
     "data": {
      "text/plain": [
       "array([[428]])"
      ]
     },
     "execution_count": 212,
     "metadata": {},
     "output_type": "execute_result"
    }
   ],
   "source": [
    "np.asarray(np.where(indices_creleaf2ormore[sid][:,61] == 1)).transpose()"
   ]
  },
  {
   "cell_type": "code",
   "execution_count": 19,
   "metadata": {
    "collapsed": true
   },
   "outputs": [],
   "source": [
    "pds = pairwise_distances(connectivity_data.structure_datas[sid].centroids)**2"
   ]
  },
  {
   "cell_type": "code",
   "execution_count": 38,
   "metadata": {
    "collapsed": true
   },
   "outputs": [],
   "source": [
    "projections = connectivity_data.structure_datas[sid].reg_proj_vcount_norm_renorm\n",
    "centroids = connectivity_data.structure_datas[sid].centroids\n",
    "dists = pds\n",
    "gamma = gammas[4]\n",
    "model_indices = indices_creleaf2ormore[sid][428]\n",
    "eval_indices = indices_creleaf2ormore[sid][428] #results are different for which index?"
   ]
  },
  {
   "cell_type": "code",
   "execution_count": 58,
   "metadata": {},
   "outputs": [
    {
     "name": "stderr",
     "output_type": "stream",
     "text": [
      "/Users/samsonkoelle/anaconda3/envs/allen_010719_5/lib/python3.7/site-packages/ipykernel_launcher.py:19: RuntimeWarning: divide by zero encountered in true_divide\n",
      "/Users/samsonkoelle/anaconda3/envs/allen_010719_5/lib/python3.7/site-packages/ipykernel_launcher.py:19: RuntimeWarning: invalid value encountered in true_divide\n"
     ]
    }
   ],
   "source": [
    "    eval_index_val = np.where(eval_indices == 1)[0]\n",
    "    model_index_val = np.where(model_indices == 1)[0]\n",
    "    \n",
    "    projections = np.asarray(projections, dtype=np.float32)\n",
    "    \n",
    "    nmod_ind = len(model_index_val)\n",
    "    neval = len(eval_index_val)\n",
    "    #nexp = centroids.shape[0]\n",
    "    predictions = np.empty(projections.shape)\n",
    "    #print(model_index_val.shape, eval_index_val.shape)\n",
    "\n",
    "    if len(model_index_val) > 0 and  len(eval_index_val) > 0:\n",
    "        weights = pairwise_kernels(centroids[model_index_val], centroids[eval_index_val], metric='rbf', gamma=gamma, filter_params=True) #get_weights(centroids, gamma)\n",
    "        #for i in range(neval):\n",
    "        i  = 0 \n",
    "        matchindex = np.where(model_index_val == eval_index_val[i])[0]\n",
    "        otherindices = np.setdiff1d(np.asarray(list(range(nmod_ind))), matchindex)         \n",
    "        #this order of operations is the fastest I found\n",
    "        weights_i = weights[:,i] / weights[:,i][otherindices].sum()\n",
    "        weights_i[matchindex] = 0\n",
    "        weights_i = np.asarray(weights_i, dtype=np.float32)\n",
    "        pred = np.dot(weights_i, projections[model_index_val])\n",
    "        #predictions[eval_index_val[i]] = pred\n"
   ]
  },
  {
   "cell_type": "code",
   "execution_count": 60,
   "metadata": {},
   "outputs": [
    {
     "data": {
      "text/plain": [
       "array([[1.00000000e+000, 0.00000000e+000, 0.00000000e+000],\n",
       "       [0.00000000e+000, 1.00000000e+000, 1.15652978e-216],\n",
       "       [0.00000000e+000, 1.15652978e-216, 1.00000000e+000]])"
      ]
     },
     "execution_count": 60,
     "metadata": {},
     "output_type": "execute_result"
    }
   ],
   "source": [
    "weights"
   ]
  },
  {
   "cell_type": "code",
   "execution_count": 59,
   "metadata": {},
   "outputs": [
    {
     "data": {
      "text/plain": [
       "array([nan, nan, nan, nan, nan, nan, nan, nan, nan, nan, nan, nan, nan,\n",
       "       nan, nan, nan, nan, nan, nan, nan, nan, nan, nan, nan, nan, nan,\n",
       "       nan, nan, nan, nan, nan, nan, nan, nan, nan, nan, nan, nan, nan,\n",
       "       nan, nan, nan, nan, nan, nan, nan, nan, nan, nan, nan, nan, nan,\n",
       "       nan, nan, nan, nan, nan, nan, nan, nan, nan, nan, nan, nan, nan,\n",
       "       nan, nan, nan, nan, nan, nan, nan, nan, nan, nan, nan, nan, nan,\n",
       "       nan, nan, nan, nan, nan, nan, nan, nan, nan, nan, nan, nan, nan,\n",
       "       nan, nan, nan, nan, nan, nan, nan, nan, nan, nan, nan, nan, nan,\n",
       "       nan, nan, nan, nan, nan, nan, nan, nan, nan, nan, nan, nan, nan,\n",
       "       nan, nan, nan, nan, nan, nan, nan, nan, nan, nan, nan, nan, nan,\n",
       "       nan, nan, nan, nan, nan, nan, nan, nan, nan, nan, nan, nan, nan,\n",
       "       nan, nan, nan, nan, nan, nan, nan, nan, nan, nan, nan, nan, nan,\n",
       "       nan, nan, nan, nan, nan, nan, nan, nan, nan, nan, nan, nan, nan,\n",
       "       nan, nan, nan, nan, nan, nan, nan, nan, nan, nan, nan, nan, nan,\n",
       "       nan, nan, nan, nan, nan, nan, nan, nan, nan, nan, nan, nan, nan,\n",
       "       nan, nan, nan, nan, nan, nan, nan, nan, nan, nan, nan, nan, nan,\n",
       "       nan, nan, nan, nan, nan, nan, nan, nan, nan, nan, nan, nan, nan,\n",
       "       nan, nan, nan, nan, nan, nan, nan, nan, nan, nan, nan, nan, nan,\n",
       "       nan, nan, nan, nan, nan, nan, nan, nan, nan, nan, nan, nan, nan,\n",
       "       nan, nan, nan, nan, nan, nan, nan, nan, nan, nan, nan, nan, nan,\n",
       "       nan, nan, nan, nan, nan, nan, nan, nan, nan, nan, nan, nan, nan,\n",
       "       nan, nan, nan, nan, nan, nan, nan, nan, nan, nan, nan, nan, nan,\n",
       "       nan, nan, nan, nan, nan, nan, nan, nan, nan, nan, nan, nan, nan,\n",
       "       nan, nan, nan, nan, nan, nan, nan, nan, nan, nan, nan, nan, nan,\n",
       "       nan, nan, nan, nan, nan, nan, nan, nan, nan, nan, nan, nan, nan,\n",
       "       nan, nan, nan, nan, nan, nan, nan, nan, nan, nan, nan, nan, nan,\n",
       "       nan, nan, nan, nan, nan, nan, nan, nan, nan, nan, nan, nan, nan,\n",
       "       nan, nan, nan, nan, nan, nan, nan, nan, nan, nan, nan, nan, nan,\n",
       "       nan, nan, nan, nan, nan, nan, nan, nan, nan, nan, nan, nan, nan,\n",
       "       nan, nan, nan, nan, nan, nan, nan, nan, nan, nan, nan, nan, nan,\n",
       "       nan, nan, nan, nan, nan, nan, nan, nan, nan, nan, nan, nan, nan,\n",
       "       nan, nan, nan, nan, nan, nan, nan, nan, nan, nan, nan, nan, nan,\n",
       "       nan, nan, nan, nan, nan, nan, nan, nan, nan, nan, nan, nan, nan,\n",
       "       nan, nan, nan, nan, nan, nan, nan, nan, nan, nan, nan, nan, nan,\n",
       "       nan, nan, nan, nan, nan, nan, nan, nan, nan, nan, nan, nan, nan,\n",
       "       nan, nan, nan, nan, nan, nan, nan, nan, nan, nan, nan, nan, nan,\n",
       "       nan, nan, nan, nan, nan, nan, nan, nan, nan, nan, nan, nan, nan,\n",
       "       nan, nan, nan, nan, nan, nan, nan, nan, nan, nan, nan, nan, nan,\n",
       "       nan, nan, nan, nan, nan, nan, nan, nan, nan, nan, nan, nan, nan,\n",
       "       nan, nan, nan, nan, nan, nan, nan, nan, nan, nan, nan, nan, nan,\n",
       "       nan, nan, nan, nan, nan, nan, nan, nan, nan, nan, nan, nan, nan,\n",
       "       nan, nan, nan, nan, nan, nan, nan, nan, nan, nan, nan, nan, nan,\n",
       "       nan, nan, nan, nan, nan, nan, nan, nan, nan, nan, nan, nan, nan,\n",
       "       nan, nan, nan, nan, nan, nan, nan, nan, nan, nan, nan, nan, nan,\n",
       "       nan, nan, nan, nan, nan], dtype=float32)"
      ]
     },
     "execution_count": 59,
     "metadata": {},
     "output_type": "execute_result"
    }
   ],
   "source": [
    "pred"
   ]
  },
  {
   "cell_type": "code",
   "execution_count": null,
   "metadata": {
    "collapsed": true
   },
   "outputs": [],
   "source": []
  },
  {
   "cell_type": "code",
   "execution_count": 225,
   "metadata": {},
   "outputs": [
    {
     "data": {
      "text/plain": [
       "array([2060.36638465, 4309.53972985,  357.7903016 , ..., 3221.02208087,\n",
       "       1842.34638847,  115.01840761])"
      ]
     },
     "execution_count": 225,
     "metadata": {},
     "output_type": "execute_result"
    }
   ],
   "source": [
    "dists[61]"
   ]
  },
  {
   "cell_type": "code",
   "execution_count": 226,
   "metadata": {
    "collapsed": true
   },
   "outputs": [],
   "source": [
    "#eval_indices_creleaf2ormore[315][1] #this is the 1 model"
   ]
  },
  {
   "cell_type": "code",
   "execution_count": 227,
   "metadata": {
    "collapsed": true
   },
   "outputs": [],
   "source": [
    "#np.where(np.asarray(np.where(indices_creleaf2ormore[315] ==1)).transpose()[:,1] == 2)[0]"
   ]
  },
  {
   "cell_type": "code",
   "execution_count": 228,
   "metadata": {
    "collapsed": true
   },
   "outputs": [],
   "source": [
    "# for i in range(620):\n",
    "#     print(len(np.where(indices_creleaf2ormore[sid][i] == 1)[0]))"
   ]
  },
  {
   "cell_type": "code",
   "execution_count": 61,
   "metadata": {
    "scrolled": true
   },
   "outputs": [
    {
     "name": "stderr",
     "output_type": "stream",
     "text": [
      "/Users/samsonkoelle/anaconda3/envs/allen_010719_5/lib/python3.7/site-packages/ipykernel_launcher.py:19: RuntimeWarning: divide by zero encountered in true_divide\n",
      "/Users/samsonkoelle/anaconda3/envs/allen_010719_5/lib/python3.7/site-packages/ipykernel_launcher.py:19: RuntimeWarning: invalid value encountered in true_divide\n"
     ]
    }
   ],
   "source": [
    "    eval_index_val = np.where(eval_indices == 1)[0]\n",
    "    model_index_val = np.where(model_indices == 1)[0]\n",
    "    \n",
    "    projections = np.asarray(projections, dtype=np.float32)\n",
    "    \n",
    "    nmod_ind = len(model_index_val)\n",
    "    neval = len(eval_index_val)\n",
    "    #nexp = centroids.shape[0]\n",
    "    predictions = np.empty(projections.shape)\n",
    "    #print(model_index_val.shape, eval_index_val.shape)\n",
    "\n",
    "    if len(model_index_val) > 0 and  len(eval_index_val) > 0:\n",
    "        weights = np.exp(-dists[model_index_val][:, eval_index_val] * gamma)#np.exp(-dists[model_index_val] / gamma) #get_weights(centroids, gamma)\n",
    "        i = 0\n",
    "        #for i in range(neval):\n",
    "        matchindex = np.where(model_index_val == eval_index_val[i])[0]\n",
    "        otherindices = np.setdiff1d(np.asarray(list(range(nmod_ind))), matchindex)         \n",
    "        #this order of operations is the fastest I found\n",
    "        weights_i = weights[i,:] / np.nansum(weights[i,:][otherindices])\n",
    "        #print(np.nansum(weights[:,i][otherindices]))\n",
    "        weights_i[matchindex] = 0\n",
    "        weights_i = np.asarray(weights_i, dtype=np.float32)\n",
    "        #weights_i[np.isnan(weights_i)] = 0.\n",
    "        pred = np.dot(weights_i, projections[model_index_val])\n",
    "        #predictions[eval_index_val[i]] = pred\n",
    "\n",
    "#         i  = 0 \n",
    "#         matchindex = np.where(model_index_val == eval_index_val[i])[0]\n",
    "#         otherindices = np.setdiff1d(np.asarray(list(range(nmod_ind))), matchindex)         \n",
    "#         #this order of operations is the fastest I found\n",
    "#         weights_i = weights[:,i] / weights[:,i][otherindices].sum()\n",
    "#         weights_i[matchindex] = 0\n",
    "#         weights_i = np.asarray(weights_i, dtype=np.float32)\n",
    "#         pred = np.dot(weights_i, projections[model_index_val])\n",
    "        "
   ]
  },
  {
   "cell_type": "code",
   "execution_count": 62,
   "metadata": {},
   "outputs": [
    {
     "data": {
      "text/plain": [
       "array([nan, nan, nan, nan, nan, nan, nan, nan, nan, nan, nan, nan, nan,\n",
       "       nan, nan, nan, nan, nan, nan, nan, nan, nan, nan, nan, nan, nan,\n",
       "       nan, nan, nan, nan, nan, nan, nan, nan, nan, nan, nan, nan, nan,\n",
       "       nan, nan, nan, nan, nan, nan, nan, nan, nan, nan, nan, nan, nan,\n",
       "       nan, nan, nan, nan, nan, nan, nan, nan, nan, nan, nan, nan, nan,\n",
       "       nan, nan, nan, nan, nan, nan, nan, nan, nan, nan, nan, nan, nan,\n",
       "       nan, nan, nan, nan, nan, nan, nan, nan, nan, nan, nan, nan, nan,\n",
       "       nan, nan, nan, nan, nan, nan, nan, nan, nan, nan, nan, nan, nan,\n",
       "       nan, nan, nan, nan, nan, nan, nan, nan, nan, nan, nan, nan, nan,\n",
       "       nan, nan, nan, nan, nan, nan, nan, nan, nan, nan, nan, nan, nan,\n",
       "       nan, nan, nan, nan, nan, nan, nan, nan, nan, nan, nan, nan, nan,\n",
       "       nan, nan, nan, nan, nan, nan, nan, nan, nan, nan, nan, nan, nan,\n",
       "       nan, nan, nan, nan, nan, nan, nan, nan, nan, nan, nan, nan, nan,\n",
       "       nan, nan, nan, nan, nan, nan, nan, nan, nan, nan, nan, nan, nan,\n",
       "       nan, nan, nan, nan, nan, nan, nan, nan, nan, nan, nan, nan, nan,\n",
       "       nan, nan, nan, nan, nan, nan, nan, nan, nan, nan, nan, nan, nan,\n",
       "       nan, nan, nan, nan, nan, nan, nan, nan, nan, nan, nan, nan, nan,\n",
       "       nan, nan, nan, nan, nan, nan, nan, nan, nan, nan, nan, nan, nan,\n",
       "       nan, nan, nan, nan, nan, nan, nan, nan, nan, nan, nan, nan, nan,\n",
       "       nan, nan, nan, nan, nan, nan, nan, nan, nan, nan, nan, nan, nan,\n",
       "       nan, nan, nan, nan, nan, nan, nan, nan, nan, nan, nan, nan, nan,\n",
       "       nan, nan, nan, nan, nan, nan, nan, nan, nan, nan, nan, nan, nan,\n",
       "       nan, nan, nan, nan, nan, nan, nan, nan, nan, nan, nan, nan, nan,\n",
       "       nan, nan, nan, nan, nan, nan, nan, nan, nan, nan, nan, nan, nan,\n",
       "       nan, nan, nan, nan, nan, nan, nan, nan, nan, nan, nan, nan, nan,\n",
       "       nan, nan, nan, nan, nan, nan, nan, nan, nan, nan, nan, nan, nan,\n",
       "       nan, nan, nan, nan, nan, nan, nan, nan, nan, nan, nan, nan, nan,\n",
       "       nan, nan, nan, nan, nan, nan, nan, nan, nan, nan, nan, nan, nan,\n",
       "       nan, nan, nan, nan, nan, nan, nan, nan, nan, nan, nan, nan, nan,\n",
       "       nan, nan, nan, nan, nan, nan, nan, nan, nan, nan, nan, nan, nan,\n",
       "       nan, nan, nan, nan, nan, nan, nan, nan, nan, nan, nan, nan, nan,\n",
       "       nan, nan, nan, nan, nan, nan, nan, nan, nan, nan, nan, nan, nan,\n",
       "       nan, nan, nan, nan, nan, nan, nan, nan, nan, nan, nan, nan, nan,\n",
       "       nan, nan, nan, nan, nan, nan, nan, nan, nan, nan, nan, nan, nan,\n",
       "       nan, nan, nan, nan, nan, nan, nan, nan, nan, nan, nan, nan, nan,\n",
       "       nan, nan, nan, nan, nan, nan, nan, nan, nan, nan, nan, nan, nan,\n",
       "       nan, nan, nan, nan, nan, nan, nan, nan, nan, nan, nan, nan, nan,\n",
       "       nan, nan, nan, nan, nan, nan, nan, nan, nan, nan, nan, nan, nan,\n",
       "       nan, nan, nan, nan, nan, nan, nan, nan, nan, nan, nan, nan, nan,\n",
       "       nan, nan, nan, nan, nan, nan, nan, nan, nan, nan, nan, nan, nan,\n",
       "       nan, nan, nan, nan, nan, nan, nan, nan, nan, nan, nan, nan, nan,\n",
       "       nan, nan, nan, nan, nan, nan, nan, nan, nan, nan, nan, nan, nan,\n",
       "       nan, nan, nan, nan, nan, nan, nan, nan, nan, nan, nan, nan, nan,\n",
       "       nan, nan, nan, nan, nan, nan, nan, nan, nan, nan, nan, nan, nan,\n",
       "       nan, nan, nan, nan, nan], dtype=float32)"
      ]
     },
     "execution_count": 62,
     "metadata": {},
     "output_type": "execute_result"
    }
   ],
   "source": [
    "pred"
   ]
  },
  {
   "cell_type": "code",
   "execution_count": 55,
   "metadata": {},
   "outputs": [
    {
     "name": "stdout",
     "output_type": "stream",
     "text": [
      "[[1.00000000e+000 0.00000000e+000 0.00000000e+000]\n",
      " [0.00000000e+000 1.00000000e+000 1.15652978e-216]\n",
      " [0.00000000e+000 1.15652978e-216 1.00000000e+000]]\n"
     ]
    },
    {
     "name": "stderr",
     "output_type": "stream",
     "text": [
      "/Users/samsonkoelle/anaconda3/envs/allen_010719_5/lib/python3.7/site-packages/ipykernel_launcher.py:8: RuntimeWarning: divide by zero encountered in true_divide\n",
      "  \n",
      "/Users/samsonkoelle/anaconda3/envs/allen_010719_5/lib/python3.7/site-packages/ipykernel_launcher.py:8: RuntimeWarning: invalid value encountered in true_divide\n",
      "  \n"
     ]
    }
   ],
   "source": [
    "weights = np.exp(-dists[model_index_val][:, eval_index_val] * gamma)#np.exp(-dists[model_index_val] / gamma) #get_weights(centroids, gamma)\n",
    "print(weights)\n",
    "i = 0\n",
    "#for i in range(neval):\n",
    "matchindex = np.where(model_index_val == eval_index_val[i])[0]\n",
    "otherindices = np.setdiff1d(np.asarray(list(range(nmod_ind))), matchindex)         \n",
    "#this order of operations is the fastest I found\n",
    "weights_i = weights[i,:] / np.nansum(weights[i,:][otherindices])\n",
    "#print(np.nansum(weights[:,i][otherindices]))\n",
    "weights_i[matchindex] = 0\n",
    "weights_i = np.asarray(weights_i, dtype=np.float32)\n",
    "weights_i[np.isnan(weights_i)] = 0.\n",
    "pred = np.dot(weights_i, projections[model_index_val])\n",
    "#predictions[eval_index_val[i]] = pred\n"
   ]
  },
  {
   "cell_type": "code",
   "execution_count": 53,
   "metadata": {},
   "outputs": [
    {
     "data": {
      "text/plain": [
       "array([0., 0., 0.], dtype=float32)"
      ]
     },
     "execution_count": 53,
     "metadata": {},
     "output_type": "execute_result"
    }
   ],
   "source": [
    "weights_i"
   ]
  },
  {
   "cell_type": "code",
   "execution_count": 217,
   "metadata": {},
   "outputs": [
    {
     "data": {
      "text/plain": [
       "array([[1.00000000e+00, 6.34921906e-35, 2.79361114e-21],\n",
       "       [6.34921906e-35, 1.00000000e+00, 6.92837791e-03],\n",
       "       [2.79361114e-21, 6.92837791e-03, 1.00000000e+00]])"
      ]
     },
     "execution_count": 217,
     "metadata": {},
     "output_type": "execute_result"
    }
   ],
   "source": [
    "weights"
   ]
  },
  {
   "cell_type": "code",
   "execution_count": 218,
   "metadata": {
    "collapsed": true
   },
   "outputs": [],
   "source": [
    "weights = pairwise_kernels(centroids[model_index_val], centroids[eval_index_val], metric='rbf', gamma=gamma, filter_params=True) #get_weights(centroids, gamma)"
   ]
  },
  {
   "cell_type": "code",
   "execution_count": 219,
   "metadata": {},
   "outputs": [
    {
     "data": {
      "text/plain": [
       "array([[1.00000000e+00, 6.34921906e-35, 2.79361114e-21],\n",
       "       [6.34921906e-35, 1.00000000e+00, 6.92837791e-03],\n",
       "       [2.79361114e-21, 6.92837791e-03, 1.00000000e+00]])"
      ]
     },
     "execution_count": 219,
     "metadata": {},
     "output_type": "execute_result"
    }
   ],
   "source": [
    "weights"
   ]
  },
  {
   "cell_type": "code",
   "execution_count": 235,
   "metadata": {
    "collapsed": true
   },
   "outputs": [],
   "source": [
    "    if len(model_index_val) > 0 and  len(eval_index_val) > 0:\n",
    "        weights = pairwise_kernels(centroids[model_index_val], centroids[eval_index_val], metric='rbf', gamma=gamma, filter_params=True) #get_weights(centroids, gamma)\n",
    "        for i in range(neval):\n",
    "            matchindex = np.where(model_index_val == eval_index_val[i])[0]\n",
    "            otherindices = np.setdiff1d(np.asarray(list(range(nmod_ind))), matchindex)         \n",
    "            #this order of operations is the fastest I found\n",
    "            weights_i = weights[:,i] / weights[:,i][otherindices].sum()\n",
    "            weights_i[matchindex] = 0\n",
    "            weights_i = np.asarray(weights_i, dtype=np.float32)\n",
    "            pred = np.dot(weights_i, projections[model_index_val])\n",
    "            predictions[eval_index_val[i]] = pred\n",
    "\n",
    "      "
   ]
  },
  {
   "cell_type": "code",
   "execution_count": 239,
   "metadata": {},
   "outputs": [
    {
     "data": {
      "text/plain": [
       "646"
      ]
     },
     "execution_count": 239,
     "metadata": {},
     "output_type": "execute_result"
    }
   ],
   "source": [
    "eval_index_val[i]"
   ]
  },
  {
   "cell_type": "code",
   "execution_count": 238,
   "metadata": {},
   "outputs": [
    {
     "data": {
      "text/plain": [
       "array([3.19379324e-04, 1.24613777e-07, 1.37666609e-23, 2.56526946e-05,\n",
       "       1.16039478e-09, 6.04225323e-02, 1.17273543e-04, 2.42399993e-22,\n",
       "       0.00000000e+00, 0.00000000e+00, 6.00158119e-24, 7.24503458e-01,\n",
       "       6.00208677e-02, 2.54190117e-01, 2.64602294e-03, 1.12820953e-21,\n",
       "       0.00000000e+00, 1.21839912e-24, 1.97549703e-22, 0.00000000e+00,\n",
       "       8.42131420e-23, 0.00000000e+00, 6.60718579e-05, 1.42331442e-06,\n",
       "       3.30977229e-04, 3.68915676e-06, 3.12435208e-04, 0.00000000e+00,\n",
       "       8.40789347e-04, 0.00000000e+00, 1.74732967e-24, 3.57613526e-03,\n",
       "       2.51003657e-04, 2.39593089e-02, 2.37598599e-08, 1.25790160e-04,\n",
       "       0.00000000e+00, 0.00000000e+00, 2.27920296e-24, 0.00000000e+00,\n",
       "       0.00000000e+00, 1.54742813e-23, 2.98130838e-03, 2.28280202e-03,\n",
       "       3.16300808e-04, 7.45197959e-23, 6.74499740e-25, 2.99068270e-05,\n",
       "       2.08152278e-23, 0.00000000e+00, 1.13510687e-04, 5.98738516e-05,\n",
       "       7.12338602e-03, 1.55936754e-23, 6.27245987e-04, 1.29332126e-04,\n",
       "       0.00000000e+00, 2.06565831e-23, 2.70177192e-23, 1.66158454e-22,\n",
       "       2.96713735e-22, 1.11982182e-23, 2.74685473e-04, 2.67024407e-24,\n",
       "       1.77548663e-05, 3.73931176e-23, 1.82145089e-03, 1.01698547e-22,\n",
       "       1.49518637e-05, 3.36942594e-06, 2.38061534e-06, 7.28663465e-04,\n",
       "       0.00000000e+00, 1.58943527e-03, 0.00000000e+00, 0.00000000e+00,\n",
       "       1.06818567e-03, 1.09235325e-03, 1.22789964e-02, 3.43056885e-03,\n",
       "       0.00000000e+00, 3.49995316e-05, 0.00000000e+00, 2.14713423e-22,\n",
       "       0.00000000e+00, 0.00000000e+00, 0.00000000e+00, 2.44306157e-05,\n",
       "       2.11999068e-04, 8.35295214e-05, 0.00000000e+00, 1.18398084e-03,\n",
       "       9.30773953e-23, 2.58353841e-03, 0.00000000e+00, 1.54356803e-05,\n",
       "       0.00000000e+00, 1.74740217e-05, 1.41781184e-03, 0.00000000e+00,\n",
       "       2.06869524e-02, 9.03938990e-03, 1.08068403e-22, 3.49420297e-04,\n",
       "       3.41326173e-04, 0.00000000e+00, 0.00000000e+00, 6.15634781e-05,\n",
       "       3.87149994e-05, 0.00000000e+00, 0.00000000e+00, 3.75446044e-02,\n",
       "       1.55074478e-04, 7.40962344e-23, 2.90034863e-04, 3.09757632e-03,\n",
       "       0.00000000e+00, 5.59633736e-06, 5.08138270e-04, 1.21885154e-04,\n",
       "       7.80983246e-05, 8.19077063e-03, 1.13224518e-03, 1.98252723e-01,\n",
       "       7.56449736e-10, 6.05732482e-03, 3.06063303e-05, 1.46630732e-03,\n",
       "       0.00000000e+00, 3.16795781e-02, 0.00000000e+00, 6.56064049e-06,\n",
       "       4.97594883e-04, 2.34394952e-06, 3.93373695e-23, 6.35694291e-24,\n",
       "       0.00000000e+00, 0.00000000e+00, 1.24002700e-05, 1.35469054e-06,\n",
       "       9.38607336e-05, 2.75695783e-07, 6.76678610e-05, 4.53920150e-03,\n",
       "       1.16154930e-04, 0.00000000e+00, 3.34463989e-26, 7.61012489e-05,\n",
       "       0.00000000e+00, 5.91978058e-02, 0.00000000e+00, 1.49443640e-05,\n",
       "       2.27600778e-03, 2.21384363e-03, 9.98644318e-05, 2.51560778e-05,\n",
       "       2.61345576e-03, 0.00000000e+00, 5.24726165e-05, 3.28410766e-04,\n",
       "       9.89121571e-03, 1.52666997e-02, 3.31954625e-23, 9.21362487e-04,\n",
       "       2.54701445e-04, 9.50370739e-28, 1.88321230e-22, 8.36924937e-06,\n",
       "       1.35491093e-04, 2.37646218e-05, 1.70993286e-09, 0.00000000e+00,\n",
       "       9.28159061e-05, 1.65743683e-03, 6.75357971e-25, 3.38453319e-05,\n",
       "       3.41770106e-23, 3.10954674e-05, 3.07374222e-07, 0.00000000e+00,\n",
       "       1.10875726e-22, 3.79006155e-02, 1.40488322e-03, 0.00000000e+00,\n",
       "       1.19181699e-04, 4.21954683e-05, 5.58284569e-07, 0.00000000e+00,\n",
       "       1.72854141e-22, 3.44607455e-04, 3.85280792e-03, 0.00000000e+00,\n",
       "       3.98508826e-04, 1.47679344e-01, 2.79972541e-23, 4.72020792e-22,\n",
       "       6.97897524e-02, 0.00000000e+00, 4.10970009e-04, 0.00000000e+00,\n",
       "       0.00000000e+00, 0.00000000e+00, 0.00000000e+00, 2.93682729e-06,\n",
       "       0.00000000e+00, 2.05038450e-04, 1.45542231e-06, 6.36317600e-06,\n",
       "       7.25973621e-02, 2.19800484e-07, 0.00000000e+00, 8.23985101e-05,\n",
       "       2.23065520e-23, 1.87461561e-23, 0.00000000e+00, 2.39014461e-24,\n",
       "       1.71778150e-24, 3.78695782e-04, 2.47306794e-01, 0.00000000e+00,\n",
       "       4.16016467e-02, 2.30000064e-01, 8.28153361e-03, 4.09833498e-23,\n",
       "       5.75414674e-07, 1.06659973e-05, 4.91532086e-22, 0.00000000e+00,\n",
       "       1.65534336e-02, 1.25609870e-06, 2.11253334e-02, 4.18023119e-04,\n",
       "       1.61368723e-06, 3.66487797e-07, 4.78834445e-05, 3.05770413e-22,\n",
       "       6.69534271e-23, 1.36004585e-08, 1.00518007e-24, 8.10815036e-05,\n",
       "       1.35733887e-06, 3.74739961e-04, 2.99795811e-05, 2.07903561e-09,\n",
       "       0.00000000e+00, 9.56287086e-02, 0.00000000e+00, 1.43240353e-22,\n",
       "       1.29643549e-05, 1.67119942e-04, 4.04810458e-02, 5.46319435e-23,\n",
       "       3.23630065e-01, 8.05586969e-05, 5.54933431e-05, 7.52231108e-06,\n",
       "       1.23689315e-05, 1.90368004e-03, 2.53077815e-06, 4.22283949e-04,\n",
       "       5.27139986e-04, 2.88418087e-05, 1.24574244e-05, 2.17780028e-03,\n",
       "       2.57208216e-04, 1.07463777e-04, 1.45917520e-05, 8.17678049e-02,\n",
       "       6.05381514e-23, 1.24232920e-05, 1.55603906e-04, 4.96719964e-23,\n",
       "       2.56787007e-06, 6.81539538e-27, 6.15351251e-04, 0.00000000e+00,\n",
       "       5.32824322e-22, 0.00000000e+00, 3.46648297e-03, 0.00000000e+00,\n",
       "       8.31227153e-24, 4.01251905e-25, 5.05666877e-23, 0.00000000e+00,\n",
       "       9.22443904e-03, 1.55184988e-03, 1.29706363e-21, 4.00005560e-03,\n",
       "       2.36232445e-01, 1.56295102e-03, 2.47364701e-03, 2.34322230e-04,\n",
       "       9.22982224e-08, 0.00000000e+00, 4.17734154e-05, 6.99529539e-23,\n",
       "       2.19262522e-02, 1.67704620e-05, 2.55121681e-22, 0.00000000e+00,\n",
       "       0.00000000e+00, 2.05800734e-22, 1.09337017e-01, 1.36832464e-02,\n",
       "       3.54300179e-02, 4.40211385e-04, 1.32519519e-22, 4.50345134e-23,\n",
       "       2.34633638e-22, 0.00000000e+00, 0.00000000e+00, 3.36441940e-06,\n",
       "       0.00000000e+00, 6.14903428e-24, 8.98027793e-05, 9.18026581e-06,\n",
       "       6.02146883e-06, 2.50009063e-04, 0.00000000e+00, 1.06437516e-03,\n",
       "       0.00000000e+00, 1.31658780e-21, 1.54562283e-03, 1.23230202e-04,\n",
       "       1.17855426e-03, 4.85740826e-24, 1.18487456e-04, 0.00000000e+00,\n",
       "       0.00000000e+00, 1.56211230e-23, 0.00000000e+00, 0.00000000e+00,\n",
       "       7.03719968e-23, 3.64318432e-04, 7.78920548e-06, 1.59778778e-04,\n",
       "       0.00000000e+00, 1.64050471e-05, 9.51444112e-24, 9.80598912e-24,\n",
       "       0.00000000e+00, 1.62467700e-06, 7.03861806e-05, 1.89251371e-03,\n",
       "       6.59012862e-24, 9.62395401e-21, 2.99747717e-06, 0.00000000e+00,\n",
       "       1.83286041e-23, 5.75157855e-23, 2.40537650e-22, 2.91904946e-23,\n",
       "       8.34451057e-05, 1.31052074e-23, 1.13288456e-06, 5.57834351e-24,\n",
       "       2.86682287e-08, 1.07184907e-21, 4.80539438e-06, 0.00000000e+00,\n",
       "       0.00000000e+00, 3.97213705e-22, 1.10477196e-25, 0.00000000e+00,\n",
       "       7.08515232e-04, 5.24715542e-05, 6.30760845e-03, 9.93206559e-05,\n",
       "       1.96260862e-05, 2.04634343e-04, 0.00000000e+00, 1.59550325e-06,\n",
       "       0.00000000e+00, 0.00000000e+00, 0.00000000e+00, 1.57042770e-04,\n",
       "       3.88422260e-26, 2.33244544e-04, 0.00000000e+00, 6.39355585e-06,\n",
       "       1.39798951e-22, 1.40434504e-03, 2.75224230e-23, 0.00000000e+00,\n",
       "       0.00000000e+00, 4.13825683e-25, 1.90835071e-05, 0.00000000e+00,\n",
       "       2.71845120e-03, 1.90077990e-03, 8.37793079e-24, 8.43897215e-05,\n",
       "       1.28207859e-04, 0.00000000e+00, 0.00000000e+00, 9.01761235e-11,\n",
       "       4.12823174e-05, 0.00000000e+00, 0.00000000e+00, 4.93695540e-03,\n",
       "       0.00000000e+00, 0.00000000e+00, 6.66620231e-22, 1.54449619e-04,\n",
       "       0.00000000e+00, 2.51304402e-22, 2.08843077e-04, 1.74597176e-06,\n",
       "       5.19260357e-06, 4.20849938e-05, 5.95130275e-25, 7.35201035e-03,\n",
       "       8.01983449e-24, 1.06146836e-04, 4.48271807e-04, 6.33153104e-05,\n",
       "       0.00000000e+00, 1.08982960e-03, 0.00000000e+00, 4.96362145e-06,\n",
       "       2.86402792e-05, 5.61554820e-08, 1.26785898e-23, 2.59858055e-23,\n",
       "       0.00000000e+00, 0.00000000e+00, 3.85002932e-05, 0.00000000e+00,\n",
       "       4.03122438e-22, 3.60946643e-07, 2.11517872e-05, 2.03401363e-03,\n",
       "       9.21980063e-06, 1.12747502e-05, 0.00000000e+00, 2.28098415e-05,\n",
       "       4.06780055e-06, 1.29316840e-03, 0.00000000e+00, 1.61411812e-23,\n",
       "       1.06444361e-03, 1.90776427e-06, 3.84215527e-05, 0.00000000e+00,\n",
       "       4.90784296e-05, 0.00000000e+00, 0.00000000e+00, 5.50922297e-04,\n",
       "       2.93522328e-03, 3.30736325e-03, 1.94838849e-22, 1.27503311e-03,\n",
       "       1.67903205e-21, 4.02790850e-25, 0.00000000e+00, 1.15331023e-23,\n",
       "       3.89465595e-06, 1.31902734e-05, 1.35888367e-05, 0.00000000e+00,\n",
       "       1.12068810e-05, 3.13913483e-06, 3.92512479e-23, 1.61303513e-04,\n",
       "       0.00000000e+00, 2.00417635e-04, 8.34265990e-08, 0.00000000e+00,\n",
       "       7.10759763e-23, 1.60445890e-03, 1.29269168e-03, 0.00000000e+00,\n",
       "       4.61986747e-05, 3.98167685e-06, 0.00000000e+00, 1.74164688e-05,\n",
       "       1.95257854e-22, 5.56808556e-24, 8.47380026e-04, 0.00000000e+00,\n",
       "       1.52177585e-04, 1.96369477e-02, 0.00000000e+00, 4.75554542e-23,\n",
       "       1.07704289e-02, 1.81293249e-22, 2.35318585e-04, 0.00000000e+00,\n",
       "       0.00000000e+00, 0.00000000e+00, 1.05194013e-05, 0.00000000e+00,\n",
       "       4.34229732e-05, 2.25011387e-08, 6.45604504e-26, 2.31391434e-02,\n",
       "       0.00000000e+00, 0.00000000e+00, 1.43141342e-05, 2.88786378e-24,\n",
       "       5.86567939e-23, 1.32596932e-23, 2.79472719e-23, 0.00000000e+00,\n",
       "       0.00000000e+00, 2.67993174e-02, 3.00766409e-26, 3.14275082e-03,\n",
       "       6.67294934e-02, 1.23888562e-02, 7.21835654e-24, 6.35476511e-07,\n",
       "       0.00000000e+00, 2.51759947e-22, 0.00000000e+00, 1.32227708e-02,\n",
       "       9.09254538e-07, 2.85851322e-02, 2.65986484e-04, 1.68323641e-05,\n",
       "       0.00000000e+00, 7.85325465e-05, 9.44256229e-08, 3.43059673e-24,\n",
       "       3.19057585e-06, 2.54724942e-24, 1.18675511e-04, 4.31451070e-07,\n",
       "       8.29869459e-05, 1.30994677e-05, 1.96533256e-06, 0.00000000e+00,\n",
       "       1.34929698e-02, 2.81410111e-22, 1.90840378e-23, 2.61052466e-21,\n",
       "       2.46699993e-02, 9.72608256e-23, 7.50527158e-02, 9.41611008e-23,\n",
       "       6.12417117e-10, 3.52805801e-05, 4.11005232e-07, 6.60925725e-05,\n",
       "       6.40486633e-08, 4.09035129e-05, 0.00000000e+00, 3.77123652e-22,\n",
       "       4.03022386e-05, 1.39837339e-05, 0.00000000e+00, 3.27563876e-22,\n",
       "       1.99879069e-05, 1.28986789e-02, 9.72695473e-23, 2.18554806e-06,\n",
       "       4.67856239e-07, 1.17874184e-22, 1.37487917e-22, 0.00000000e+00,\n",
       "       5.87998715e-04, 0.00000000e+00, 1.54954042e-22, 0.00000000e+00,\n",
       "       8.89946765e-04, 1.64665129e-24, 1.03823927e-22, 0.00000000e+00,\n",
       "       6.18574109e-23, 0.00000000e+00, 0.00000000e+00, 4.73127035e-21,\n",
       "       1.96401674e-24, 4.75496454e-05, 5.21273306e-03, 7.01672325e-05,\n",
       "       5.52387733e-04], dtype=float32)"
      ]
     },
     "execution_count": 238,
     "metadata": {},
     "output_type": "execute_result"
    }
   ],
   "source": [
    "pred"
   ]
  },
  {
   "cell_type": "code",
   "execution_count": null,
   "metadata": {
    "collapsed": true
   },
   "outputs": [],
   "source": [
    "nwloocv_leaf_leaf2[315][4,61]"
   ]
  },
  {
   "cell_type": "code",
   "execution_count": null,
   "metadata": {
    "collapsed": true
   },
   "outputs": [],
   "source": []
  },
  {
   "cell_type": "code",
   "execution_count": 27,
   "metadata": {
    "collapsed": true
   },
   "outputs": [],
   "source": [
    "\n",
    "def get_nwloocv_predictions_singlemodel_dists_near(projections, dists, gamma, model_indices, eval_indices):\n",
    "  \n",
    "    eval_index_val = np.where(eval_indices == 1)[0]\n",
    "    model_index_val = np.where(model_indices == 1)[0]\n",
    "    \n",
    "    projections = np.asarray(projections, dtype=np.float32)\n",
    "    \n",
    "    nmod_ind = len(model_index_val)\n",
    "    neval = len(eval_index_val)\n",
    "    #nexp = centroids.shape[0]\n",
    "    predictions = np.empty(projections.shape)\n",
    "    #print(model_index_val.shape, eval_index_val.shape)\n",
    "\n",
    "    if len(model_index_val) > 0 and  len(eval_index_val) > 0:\n",
    "        weights = np.exp(-dists[model_index_val][:, eval_index_val] * gamma)#np.exp(-dists[model_index_val] / gamma) #get_weights(centroids, gamma)\n",
    "        for i in range(neval):\n",
    "            matchindex = np.where(model_index_val == eval_index_val[i])[0]\n",
    "            otherindices = np.setdiff1d(np.asarray(list(range(nmod_ind))), matchindex)         \n",
    "            #this order of operations is the fastest I found\n",
    "            weights_i = weights[i,:] / np.nansum(weights[i,:][otherindices])\n",
    "            #print(np.nansum(weights[:,i][otherindices]))\n",
    "            weights_i[matchindex] = 0\n",
    "            weights_i = np.asarray(weights_i, dtype=np.float32)\n",
    "            weights_i[np.isnan(weights_i)] = 0.\n",
    "            if np.sum(weights_i) > 0.:\n",
    "                #print('here')\n",
    "                pred = np.dot(weights_i, projections[model_index_val])\n",
    "            else:\n",
    "                print('here')\n",
    "                am = np.argmin(dists[model_index_val[otherindices]][:, eval_index_val[i]])\n",
    "                pred = projections[model_index_val[otherindices[am]]]\n",
    "            predictions[eval_index_val[i]] = pred\n",
    "\n",
    "        \n",
    "    return(predictions) \n",
    "\n",
    "def get_nwloocv_predictions_multimodel_merge_dists_near(projections, dists, gammas, model_index_matrix, eval_index_matrix):\n",
    "    \n",
    "    predictions_unmerged = get_nwloocv_predictions_multimodel_dists_near(projections, dists, gammas, model_index_matrix, eval_index_matrix)\n",
    "    print(predictions_unmerged.shape)\n",
    "    predictions_merged = combine_predictions(predictions_unmerged, eval_index_matrix)\n",
    "    \n",
    "    return(predictions_merged)\n",
    "    \n",
    "    \n",
    "def get_nwloocv_predictions_multimodel_dists_near(projections, dists, gammas, model_index_matrix, eval_index_matrix):\n",
    "    \n",
    "\n",
    "    \n",
    "    ntargets = projections.shape[1]\n",
    "    nexp = projections.shape[0]\n",
    "    nmodels = model_index_matrix.shape[0]\n",
    "    ngammas = len(gammas)\n",
    "    \n",
    "    projections = np.asarray(projections, dtype=np.float32)\n",
    "    predictions = np.empty((nmodels, ngammas, nexp, ntargets))\n",
    "    \n",
    "    \n",
    "    for m in range(nmodels):\n",
    "        #print('m', m, len(np.where(model_index_matrix[m] ==1)[0]))\n",
    "        predictions[m] = np.asarray([get_nwloocv_predictions_singlemodel_dists_near(projections, dists, gammas[g], model_index_matrix[m], eval_index_matrix[m]) for g in range(ngammas)])\n",
    "    \n",
    "    return(predictions)  "
   ]
  },
  {
   "cell_type": "code",
   "execution_count": 43,
   "metadata": {
    "collapsed": true
   },
   "outputs": [],
   "source": [
    "\n",
    "def get_nwloocv_predictions_singlemodel_dists_av(projections, dists, gamma, model_indices, eval_indices):\n",
    "  \n",
    "    eval_index_val = np.where(eval_indices == 1)[0]\n",
    "    model_index_val = np.where(model_indices == 1)[0]\n",
    "    \n",
    "    projections = np.asarray(projections, dtype=np.float32)\n",
    "    \n",
    "    nmod_ind = len(model_index_val)\n",
    "    neval = len(eval_index_val)\n",
    "    #nexp = centroids.shape[0]\n",
    "    predictions = np.empty(projections.shape)\n",
    "    #print(model_index_val.shape, eval_index_val.shape)\n",
    "\n",
    "    if len(model_index_val) > 0 and  len(eval_index_val) > 0:\n",
    "        weights = np.exp(-dists[model_index_val][:, eval_index_val] * gamma)#np.exp(-dists[model_index_val] / gamma) #get_weights(centroids, gamma)\n",
    "        for i in range(neval):\n",
    "            matchindex = np.where(model_index_val == eval_index_val[i])[0]\n",
    "            otherindices = np.setdiff1d(np.asarray(list(range(nmod_ind))), matchindex)         \n",
    "            #this order of operations is the fastest I found\n",
    "            weights_i = weights[i,:] / np.nansum(weights[i,:][otherindices])\n",
    "            #print(np.nansum(weights[:,i][otherindices]))\n",
    "            weights_i[matchindex] = 0\n",
    "            weights_i = np.asarray(weights_i, dtype=np.float32)\n",
    "            weights_i[np.isnan(weights_i)] = 0.\n",
    "            if np.sum(weights_i) > 0.:\n",
    "                #print('here')\n",
    "                pred = np.dot(weights_i, projections[model_index_val])\n",
    "            else:\n",
    "                print('here')\n",
    "                #am = np.argmin(dists[model_index_val[otherindices]][:, eval_index_val[i]])\n",
    "                pred = np.mean(projections[model_index_val[otherindices]], axis = 0)\n",
    "            predictions[eval_index_val[i]] = pred\n",
    "\n",
    "        \n",
    "    return(predictions) \n",
    "\n",
    "def get_nwloocv_predictions_multimodel_merge_dists_av(projections, dists, gammas, model_index_matrix, eval_index_matrix):\n",
    "    \n",
    "    predictions_unmerged = get_nwloocv_predictions_multimodel_dists_av(projections, dists, gammas, model_index_matrix, eval_index_matrix)\n",
    "    print(predictions_unmerged.shape)\n",
    "    predictions_merged = combine_predictions(predictions_unmerged, eval_index_matrix)\n",
    "    \n",
    "    return(predictions_merged)\n",
    "    \n",
    "    \n",
    "def get_nwloocv_predictions_multimodel_dists_av(projections, dists, gammas, model_index_matrix, eval_index_matrix):\n",
    "    \n",
    "\n",
    "    \n",
    "    ntargets = projections.shape[1]\n",
    "    nexp = projections.shape[0]\n",
    "    nmodels = model_index_matrix.shape[0]\n",
    "    ngammas = len(gammas)\n",
    "    \n",
    "    projections = np.asarray(projections, dtype=np.float32)\n",
    "    predictions = np.empty((nmodels, ngammas, nexp, ntargets))\n",
    "    \n",
    "    \n",
    "    for m in range(nmodels):\n",
    "        #print('m', m, len(np.where(model_index_matrix[m] ==1)[0]))\n",
    "        predictions[m] = np.asarray([get_nwloocv_predictions_singlemodel_dists_av(projections, dists, gammas[g], model_index_matrix[m], eval_index_matrix[m]) for g in range(ngammas)])\n",
    "    \n",
    "    return(predictions)  "
   ]
  },
  {
   "cell_type": "code",
   "execution_count": 46,
   "metadata": {
    "collapsed": true
   },
   "outputs": [],
   "source": [
    "\n",
    "def get_nwloocv_predictions_singlemodel_dists_factor(projections, dists, gamma, model_indices, eval_indices):\n",
    "  \n",
    "    eval_index_val = np.where(eval_indices == 1)[0]\n",
    "    model_index_val = np.where(model_indices == 1)[0]\n",
    "    \n",
    "    projections = np.asarray(projections, dtype=np.float32)\n",
    "    \n",
    "    nmod_ind = len(model_index_val)\n",
    "    neval = len(eval_index_val)\n",
    "    #nexp = centroids.shape[0]\n",
    "    predictions = np.empty(projections.shape)\n",
    "    #print(model_index_val.shape, eval_index_val.shape)\n",
    "\n",
    "    if len(model_index_val) > 0 and  len(eval_index_val) > 0:\n",
    "        ds =dists[model_index_val][:, eval_index_val]\n",
    "        dmin = ds[np.argsort(ds)]\n",
    "        ds = ds - dmin\n",
    "        weights = np.exp(- ds * gamma)#np.exp(-dists[model_index_val] / gamma) #get_weights(centroids, gamma)\n",
    "        for i in range(neval):\n",
    "            matchindex = np.where(model_index_val == eval_index_val[i])[0]\n",
    "            otherindices = np.setdiff1d(np.asarray(list(range(nmod_ind))), matchindex)         \n",
    "            #this order of operations is the fastest I found\n",
    "            weights_i = weights[i,:] / np.nansum(weights[i,:][otherindices])\n",
    "            #print(np.nansum(weights[:,i][otherindices]))\n",
    "            weights_i[matchindex] = 0\n",
    "            weights_i = np.asarray(weights_i, dtype=np.float32)\n",
    "            weights_i[np.isnan(weights_i)] = 0.\n",
    "            if np.sum(weights_i) > 0.:\n",
    "                #print('here')\n",
    "                pred = np.dot(weights_i, projections[model_index_val])\n",
    "            else:\n",
    "                print('here')\n",
    "                #am = np.argmin(dists[model_index_val[otherindices]][:, eval_index_val[i]])\n",
    "                pred = np.mean(projections[model_index_val[otherindices]], axis = 0)\n",
    "            predictions[eval_index_val[i]] = pred\n",
    "\n",
    "        \n",
    "    return(predictions) \n",
    "\n",
    "def get_nwloocv_predictions_multimodel_merge_dists_factor(projections, dists, gammas, model_index_matrix, eval_index_matrix):\n",
    "    \n",
    "    predictions_unmerged = get_nwloocv_predictions_multimodel_dists_factor(projections, dists, gammas, model_index_matrix, eval_index_matrix)\n",
    "    print(predictions_unmerged.shape)\n",
    "    predictions_merged = combine_predictions(predictions_unmerged, eval_index_matrix)\n",
    "    \n",
    "    return(predictions_merged)\n",
    "    \n",
    "    \n",
    "def get_nwloocv_predictions_multimodel_dists_factor(projections, dists, gammas, model_index_matrix, eval_index_matrix):\n",
    "    \n",
    "\n",
    "    \n",
    "    ntargets = projections.shape[1]\n",
    "    nexp = projections.shape[0]\n",
    "    nmodels = model_index_matrix.shape[0]\n",
    "    ngammas = len(gammas)\n",
    "    \n",
    "    projections = np.asarray(projections, dtype=np.float32)\n",
    "    predictions = np.empty((nmodels, ngammas, nexp, ntargets))\n",
    "    \n",
    "    \n",
    "    for m in range(nmodels):\n",
    "        #print('m', m, len(np.where(model_index_matrix[m] ==1)[0]))\n",
    "        predictions[m] = np.asarray([get_nwloocv_predictions_singlemodel_dists_factor(projections, dists, gammas[g], model_index_matrix[m], eval_index_matrix[m]) for g in range(ngammas)])\n",
    "    \n",
    "    return(predictions)  "
   ]
  },
  {
   "cell_type": "code",
   "execution_count": null,
   "metadata": {
    "collapsed": true
   },
   "outputs": [],
   "source": [
    "gammas = np.asarray([0.1,.5,1,2,10])\n",
    "for sid in major_structure_ids[4:5]:\n",
    "    connectivity_data.structure_datas[sid].loocv_predictions_leaf_leaf2 = get_nwloocv_predictions_multimodel_merge_dists_av(connectivity_data.structure_datas[sid].reg_proj_vcount_norm_renorm, \n",
    "                                                                                       pds, \n",
    "                                                                                       gammas, \n",
    "                                                                                       indices_creleaf2ormore[sid], \n",
    "                                                                                       indices_creleaf2ormore[sid])\n",
    "a= [list(range(5))]\n",
    "keys = np.asarray(list(itertools.product(*a)))\n",
    "\n",
    "reg_proj_vcount_norm_renorms= {}\n",
    "nwloocv_leaf_leaf2 = {}\n",
    "for sid in major_structure_ids[4:5]:\n",
    "    reg_proj_vcount_norm_renorms[sid ] = connectivity_data.structure_datas[sid].reg_proj_vcount_norm_renorm\n",
    "    nwloocv_leaf_leaf2[sid] = connectivity_data.structure_datas[sid].loocv_predictions_leaf_leaf2\n",
    "\n",
    "# eval_indices_creleaf2ormore = get_eval_indices(indices_creleaf2ormore)\n",
    "# losses_leaf_leaf2 = get_loss(reg_proj_vcount_norm_renorms, nwloocv_leaf_leaf2,pred_ind = eval_indices_creleaf2ormore, true_ind = eval_indices_creleaf2ormore,keys = keys)\n",
    "# best_gamma_leaf_leaf2 = get_best_hyperparameters(losses_leaf_leaf2,keys)\n",
    "# meanloss_nw_leaf_leaf2 = get_loss_best_hyp(losses_leaf_leaf2, best_gamma_leaf_leaf2)\n",
    "\n",
    "eval_indices_creleaf2ormore = get_eval_indices(indices_creleaf2ormore)\n",
    "losses_leaf_leaf2 = get_loss(reg_proj_vcount_norm_renorms, nwloocv_leaf_leaf2,pred_ind = eval_indices_creleaf2ormore, true_ind = eval_indices_creleaf2ormore,keys = keys)\n",
    "best_gamma_leaf_leaf2 = get_best_hyperparameters(losses_leaf_leaf2,keys)\n",
    "meanloss_nw_leaf_leaf2 = get_loss_best_hyp(losses_leaf_leaf2, best_gamma_leaf_leaf2)"
   ]
  },
  {
   "cell_type": "code",
   "execution_count": 39,
   "metadata": {},
   "outputs": [
    {
     "data": {
      "text/plain": [
       "array([0, 1, 2, 3])"
      ]
     },
     "execution_count": 39,
     "metadata": {},
     "output_type": "execute_result"
    }
   ],
   "source": [
    "np.argsort(np.asarray([1,2,3,4]))"
   ]
  },
  {
   "cell_type": "code",
   "execution_count": 44,
   "metadata": {},
   "outputs": [
    {
     "name": "stderr",
     "output_type": "stream",
     "text": [
      "/Users/samsonkoelle/anaconda3/envs/allen_010719_5/lib/python3.7/site-packages/ipykernel_launcher.py:20: RuntimeWarning: divide by zero encountered in true_divide\n",
      "/Users/samsonkoelle/anaconda3/envs/allen_010719_5/lib/python3.7/site-packages/ipykernel_launcher.py:20: RuntimeWarning: invalid value encountered in true_divide\n"
     ]
    },
    {
     "name": "stdout",
     "output_type": "stream",
     "text": [
      "here\n",
      "here\n",
      "here\n",
      "here\n",
      "here\n",
      "here\n",
      "here\n",
      "here\n",
      "here\n",
      "here\n",
      "here\n",
      "here\n",
      "here\n",
      "here\n",
      "here\n",
      "here\n",
      "here\n",
      "here\n",
      "here\n",
      "here\n",
      "here\n",
      "here\n",
      "here\n",
      "here\n",
      "here\n",
      "here\n",
      "here\n",
      "here\n",
      "here\n",
      "here\n",
      "here\n",
      "here\n",
      "here\n",
      "here\n",
      "here\n",
      "here\n",
      "here\n",
      "here\n",
      "here\n",
      "here\n",
      "here\n",
      "here\n",
      "here\n",
      "here\n",
      "here\n",
      "here\n",
      "here\n",
      "here\n",
      "here\n",
      "here\n",
      "here\n",
      "here\n",
      "here\n",
      "here\n",
      "here\n",
      "here\n",
      "here\n",
      "here\n",
      "here\n",
      "here\n"
     ]
    },
    {
     "name": "stderr",
     "output_type": "stream",
     "text": [
      "/Users/samsonkoelle/anaconda3/envs/allen_010719_5/lib/python3.7/site-packages/ipykernel_launcher.py:20: RuntimeWarning: overflow encountered in true_divide\n"
     ]
    },
    {
     "name": "stdout",
     "output_type": "stream",
     "text": [
      "here\n",
      "here\n",
      "here\n",
      "here\n",
      "here\n",
      "here\n",
      "here\n",
      "here\n",
      "here\n",
      "here\n",
      "here\n",
      "here\n",
      "here\n",
      "here\n",
      "here\n",
      "here\n",
      "here\n",
      "here\n",
      "here\n",
      "here\n",
      "here\n",
      "here\n",
      "here\n",
      "here\n",
      "here\n",
      "here\n",
      "here\n",
      "here\n",
      "here\n",
      "here\n",
      "here\n",
      "here\n",
      "here\n",
      "here\n",
      "here\n",
      "here\n",
      "here\n",
      "here\n",
      "here\n",
      "here\n",
      "here\n",
      "here\n",
      "here\n",
      "here\n",
      "here\n",
      "here\n",
      "here\n",
      "here\n",
      "here\n",
      "here\n",
      "here\n",
      "here\n",
      "here\n",
      "here\n",
      "here\n",
      "here\n",
      "here\n",
      "here\n",
      "here\n",
      "here\n",
      "here\n",
      "here\n",
      "here\n",
      "here\n",
      "here\n",
      "here\n",
      "here\n",
      "here\n",
      "here\n",
      "here\n",
      "here\n",
      "here\n",
      "here\n",
      "here\n",
      "here\n",
      "here\n",
      "here\n",
      "(620, 5, 1128, 577)\n",
      "0\n"
     ]
    }
   ],
   "source": [
    "gammas = np.asarray([0.1,.5,1,2,10])\n",
    "for sid in major_structure_ids[4:5]:\n",
    "    connectivity_data.structure_datas[sid].loocv_predictions_leaf_leaf2 = get_nwloocv_predictions_multimodel_merge_dists_av(connectivity_data.structure_datas[sid].reg_proj_vcount_norm_renorm, \n",
    "                                                                                       pds, \n",
    "                                                                                       gammas, \n",
    "                                                                                       indices_creleaf2ormore[sid], \n",
    "                                                                                       indices_creleaf2ormore[sid])\n",
    "a= [list(range(5))]\n",
    "keys = np.asarray(list(itertools.product(*a)))\n",
    "\n",
    "reg_proj_vcount_norm_renorms= {}\n",
    "nwloocv_leaf_leaf2 = {}\n",
    "for sid in major_structure_ids[4:5]:\n",
    "    reg_proj_vcount_norm_renorms[sid ] = connectivity_data.structure_datas[sid].reg_proj_vcount_norm_renorm\n",
    "    nwloocv_leaf_leaf2[sid] = connectivity_data.structure_datas[sid].loocv_predictions_leaf_leaf2\n",
    "\n",
    "# eval_indices_creleaf2ormore = get_eval_indices(indices_creleaf2ormore)\n",
    "# losses_leaf_leaf2 = get_loss(reg_proj_vcount_norm_renorms, nwloocv_leaf_leaf2,pred_ind = eval_indices_creleaf2ormore, true_ind = eval_indices_creleaf2ormore,keys = keys)\n",
    "# best_gamma_leaf_leaf2 = get_best_hyperparameters(losses_leaf_leaf2,keys)\n",
    "# meanloss_nw_leaf_leaf2 = get_loss_best_hyp(losses_leaf_leaf2, best_gamma_leaf_leaf2)\n",
    "\n",
    "eval_indices_creleaf2ormore = get_eval_indices(indices_creleaf2ormore)\n",
    "losses_leaf_leaf2 = get_loss(reg_proj_vcount_norm_renorms, nwloocv_leaf_leaf2,pred_ind = eval_indices_creleaf2ormore, true_ind = eval_indices_creleaf2ormore,keys = keys)\n",
    "best_gamma_leaf_leaf2 = get_best_hyperparameters(losses_leaf_leaf2,keys)\n",
    "meanloss_nw_leaf_leaf2 = get_loss_best_hyp(losses_leaf_leaf2, best_gamma_leaf_leaf2)"
   ]
  },
  {
   "cell_type": "code",
   "execution_count": 47,
   "metadata": {},
   "outputs": [
    {
     "data": {
      "text/plain": [
       "array([0.30072493])"
      ]
     },
     "execution_count": 47,
     "metadata": {},
     "output_type": "execute_result"
    }
   ],
   "source": [
    "meanloss_nw_leaf_leaf2"
   ]
  },
  {
   "cell_type": "code",
   "execution_count": 35,
   "metadata": {},
   "outputs": [
    {
     "data": {
      "text/plain": [
       "(577,)"
      ]
     },
     "execution_count": 35,
     "metadata": {},
     "output_type": "execute_result"
    }
   ],
   "source": [
    "np.mean(connectivity_data.structure_datas[sid].reg_proj_vcount_norm_renorm[[0,1]], axis = 0).shape"
   ]
  },
  {
   "cell_type": "code",
   "execution_count": 28,
   "metadata": {},
   "outputs": [
    {
     "name": "stderr",
     "output_type": "stream",
     "text": [
      "/Users/samsonkoelle/anaconda3/envs/allen_010719_5/lib/python3.7/site-packages/ipykernel_launcher.py:20: RuntimeWarning: divide by zero encountered in true_divide\n",
      "/Users/samsonkoelle/anaconda3/envs/allen_010719_5/lib/python3.7/site-packages/ipykernel_launcher.py:20: RuntimeWarning: invalid value encountered in true_divide\n"
     ]
    },
    {
     "name": "stdout",
     "output_type": "stream",
     "text": [
      "here\n",
      "here\n",
      "here\n",
      "here\n",
      "here\n",
      "here\n",
      "here\n",
      "here\n",
      "here\n",
      "here\n",
      "here\n",
      "here\n",
      "here\n",
      "here\n",
      "here\n",
      "here\n",
      "here\n",
      "here\n",
      "here\n",
      "here\n",
      "here\n",
      "here\n",
      "here\n",
      "here\n",
      "here\n",
      "here\n",
      "here\n",
      "here\n",
      "here\n",
      "here\n",
      "here\n",
      "here\n",
      "here\n",
      "here\n",
      "here\n",
      "here\n",
      "here\n",
      "here\n",
      "here\n",
      "here\n",
      "here\n",
      "here\n",
      "here\n",
      "here\n",
      "here\n",
      "here\n",
      "here\n",
      "here\n",
      "here\n",
      "here\n",
      "here\n",
      "here\n",
      "here\n",
      "here\n",
      "here\n",
      "here\n",
      "here\n",
      "here\n",
      "here\n",
      "here\n"
     ]
    },
    {
     "name": "stderr",
     "output_type": "stream",
     "text": [
      "/Users/samsonkoelle/anaconda3/envs/allen_010719_5/lib/python3.7/site-packages/ipykernel_launcher.py:20: RuntimeWarning: overflow encountered in true_divide\n"
     ]
    },
    {
     "name": "stdout",
     "output_type": "stream",
     "text": [
      "here\n",
      "here\n",
      "here\n",
      "here\n",
      "here\n",
      "here\n",
      "here\n",
      "here\n",
      "here\n",
      "here\n",
      "here\n",
      "here\n",
      "here\n",
      "here\n",
      "here\n",
      "here\n",
      "here\n",
      "here\n",
      "here\n",
      "here\n",
      "here\n",
      "here\n",
      "here\n",
      "here\n",
      "here\n",
      "here\n",
      "here\n",
      "here\n",
      "here\n",
      "here\n",
      "here\n",
      "here\n",
      "here\n",
      "here\n",
      "here\n",
      "here\n",
      "here\n",
      "here\n",
      "here\n",
      "here\n",
      "here\n",
      "here\n",
      "here\n",
      "here\n",
      "here\n",
      "here\n",
      "here\n",
      "here\n",
      "here\n",
      "here\n",
      "here\n",
      "here\n",
      "here\n",
      "here\n",
      "here\n",
      "here\n",
      "here\n",
      "here\n",
      "here\n",
      "here\n",
      "here\n",
      "here\n",
      "here\n",
      "here\n",
      "here\n",
      "here\n",
      "here\n",
      "here\n",
      "here\n",
      "here\n",
      "here\n",
      "here\n",
      "here\n",
      "here\n",
      "here\n",
      "here\n",
      "here\n",
      "(620, 5, 1128, 577)\n",
      "0\n"
     ]
    }
   ],
   "source": [
    "gammas = np.asarray([0.1,.5,1,2,10])\n",
    "for sid in major_structure_ids[4:5]:\n",
    "    connectivity_data.structure_datas[sid].loocv_predictions_leaf_leaf2 = get_nwloocv_predictions_multimodel_merge_dists_near(connectivity_data.structure_datas[sid].reg_proj_vcount_norm_renorm, \n",
    "                                                                                       pds, \n",
    "                                                                                       gammas, \n",
    "                                                                                       indices_creleaf2ormore[sid], \n",
    "                                                                                       indices_creleaf2ormore[sid])\n",
    "a= [list(range(5))]\n",
    "keys = np.asarray(list(itertools.product(*a)))\n",
    "\n",
    "reg_proj_vcount_norm_renorms= {}\n",
    "nwloocv_leaf_leaf2 = {}\n",
    "for sid in major_structure_ids[4:5]:\n",
    "    reg_proj_vcount_norm_renorms[sid ] = connectivity_data.structure_datas[sid].reg_proj_vcount_norm_renorm\n",
    "    nwloocv_leaf_leaf2[sid] = connectivity_data.structure_datas[sid].loocv_predictions_leaf_leaf2\n",
    "\n",
    "# eval_indices_creleaf2ormore = get_eval_indices(indices_creleaf2ormore)\n",
    "# losses_leaf_leaf2 = get_loss(reg_proj_vcount_norm_renorms, nwloocv_leaf_leaf2,pred_ind = eval_indices_creleaf2ormore, true_ind = eval_indices_creleaf2ormore,keys = keys)\n",
    "# best_gamma_leaf_leaf2 = get_best_hyperparameters(losses_leaf_leaf2,keys)\n",
    "# meanloss_nw_leaf_leaf2 = get_loss_best_hyp(losses_leaf_leaf2, best_gamma_leaf_leaf2)\n",
    "\n",
    "eval_indices_creleaf2ormore = get_eval_indices(indices_creleaf2ormore)\n",
    "losses_leaf_leaf2 = get_loss(reg_proj_vcount_norm_renorms, nwloocv_leaf_leaf2,pred_ind = eval_indices_creleaf2ormore, true_ind = eval_indices_creleaf2ormore,keys = keys)\n",
    "best_gamma_leaf_leaf2 = get_best_hyperparameters(losses_leaf_leaf2,keys)\n",
    "meanloss_nw_leaf_leaf2 = get_loss_best_hyp(losses_leaf_leaf2, best_gamma_leaf_leaf2)"
   ]
  },
  {
   "cell_type": "code",
   "execution_count": 29,
   "metadata": {},
   "outputs": [
    {
     "data": {
      "text/plain": [
       "array([0.30072493])"
      ]
     },
     "execution_count": 29,
     "metadata": {},
     "output_type": "execute_result"
    }
   ],
   "source": [
    "meanloss_nw_leaf_leaf2"
   ]
  },
  {
   "cell_type": "code",
   "execution_count": 30,
   "metadata": {},
   "outputs": [
    {
     "data": {
      "text/plain": [
       "0.3202595919320931"
      ]
     },
     "execution_count": 30,
     "metadata": {},
     "output_type": "execute_result"
    }
   ],
   "source": [
    "np.nanmean(losses_leaf_leaf2[sid][4, :])"
   ]
  },
  {
   "cell_type": "code",
   "execution_count": null,
   "metadata": {
    "collapsed": true
   },
   "outputs": [],
   "source": []
  }
 ],
 "metadata": {
  "kernelspec": {
   "display_name": "allen_010719_5",
   "language": "python",
   "name": "allen_010719_5"
  },
  "language_info": {
   "codemirror_mode": {
    "name": "ipython",
    "version": 3
   },
   "file_extension": ".py",
   "mimetype": "text/x-python",
   "name": "python",
   "nbconvert_exporter": "python",
   "pygments_lexer": "ipython3",
   "version": "3.7.6"
  }
 },
 "nbformat": 4,
 "nbformat_minor": 2
}

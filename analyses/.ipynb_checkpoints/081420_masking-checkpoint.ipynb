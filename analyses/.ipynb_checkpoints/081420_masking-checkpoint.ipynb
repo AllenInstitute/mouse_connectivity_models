{
 "cells": [
  {
   "cell_type": "code",
   "execution_count": 6,
   "metadata": {},
   "outputs": [],
   "source": [
    "#%load_ext autoreload\n",
    "##%autoreload 2\n",
    "\n",
    "import os\n",
    "import numpy as np\n",
    "import pandas as pd \n",
    "import sys\n",
    "import pickle\n",
    "import itertools\n",
    "import seaborn as sns\n",
    "import matplotlib.pyplot as plt\n",
    "\n",
    "workingdirectory = os.popen('git rev-parse --show-toplevel').read()[:-1]\n",
    "sys.path.append(workingdirectory)\n",
    "os.chdir(workingdirectory)\n",
    "\n",
    "import allensdk.core.json_utilities as ju\n",
    "from allensdk.core.mouse_connectivity_cache import MouseConnectivityCache\n",
    "\n",
    "#from ../../mcm_2020/mcm_updated/helpers/model_data.py import ModelData\n",
    "from mcmodels.core.base import VoxelData\n",
    "from mcmodels.core.experiment import Experiment\n",
    "from mcmodels.core import Mask,ModelData,VoxelModelCache\n",
    "from mcmodels.core.utils import get_structure_id, get_ordered_summary_structures,get_minorstructures,get_loss_paper\n",
    "from mcmodels.utils import nonzero_unique, unionize\n",
    "from mcmodels.core.experiment import get_voxeldata_msvd\n",
    "from mcmodels.models.crossvalidation import get_best_hyperparameters,get_loss_best_hyp,get_loocv_predictions,get_loss\n",
    "from mcmodels.core.utils import get_cre_status,get_minorstructure_dictionary,get_leaves_ontologicalorder\n",
    "from mcmodels.core.utils import get_regionalized_normalized_data\n",
    "from mcmodels.core.utils import get_connectivity\n",
    "from mcmodels.core.utils import get_ontological_order_leaf\n",
    "from mcmodels.core.utils import get_nw_loocv,get_wt_inds\n",
    "from mcmodels.core.utils import get_countvec"
   ]
  },
  {
   "cell_type": "code",
   "execution_count": 7,
   "metadata": {},
   "outputs": [],
   "source": [
    "\n",
    "#read data\n",
    "TOP_DIR = '/Users/samsonkoelle/alleninstitute/mcm_2020/mcm_updated/'\n",
    "INPUT_JSON = os.path.join(TOP_DIR, 'input_011520.json')\n",
    "EXPERIMENTS_EXCLUDE_JSON = os.path.join(TOP_DIR, 'experiments_exclude.json')\n",
    "FILE_DIR = '/Users/samsonkoelle/alleninstitute/mcm_2020/mcm_updated/'\n",
    "OUTPUT_DIR = os.path.join(FILE_DIR, 'output')\n",
    "\n",
    "input_data = ju.read(INPUT_JSON)\n",
    "manifest_file = input_data.get('manifest_file')\n",
    "manifest_file = os.path.join(TOP_DIR, manifest_file)\n",
    "experiments_exclude = ju.read(EXPERIMENTS_EXCLUDE_JSON)\n",
    "\n",
    "#its unclear why the hyperparameters are loaded from the output directory\n",
    "cache = VoxelModelCache(manifest_file=manifest_file)\n",
    "major_structures = input_data.get('structures')\n",
    "major_structure_ids = [get_structure_id(cache, s) for s in major_structures]\n",
    "data_info = pd.read_excel('/Users/samsonkoelle/alleninstitute/Whole Brain Cre Image Series_curation only.xlsx', 'all datasets curated_070919pull')\n",
    "data_info.set_index(\"id\", inplace=True)\n",
    "ontological_order = get_ordered_summary_structures(cache)\n",
    "\n",
    "mcc = MouseConnectivityCache(manifest_file = '../connectivity/mouse_connectivity_manifest.json')\n",
    "st = mcc.get_structure_tree()\n",
    "ai_map = st.get_id_acronym_map()\n",
    "ia_map = {value: key for key, value in ai_map.items()}\n",
    "\n",
    "#regionalize voxel model: compare with regional model\n",
    "#regional parameters\n",
    "cre = None\n",
    "eid_set=None\n",
    "high_res=False\n",
    "threshold_injection = False\n",
    "\n",
    "COARSE_STRUCTURE_SET_ID = 2\n",
    "DEFAULT_STRUCTURE_SET_IDS = tuple([COARSE_STRUCTURE_SET_ID])\n",
    "tree = cache.get_structure_tree()\n",
    "default_structures = tree.get_structures_by_set_id(DEFAULT_STRUCTURE_SET_IDS)\n",
    "default_structure_ids = [st['id'] for st in default_structures if st['id'] != 934]\n",
    "#cre= True\n",
    "def fit_structure(cache, structure_id, experiments_exclude, kernel_params,\n",
    "                  model_option='standard'):\n",
    "    data = ModelData(cache, structure_id).get_voxel_data(\n",
    "        experiments_exclude=experiments_exclude)\n",
    "\n",
    "    # nested cross val\n",
    "    nw_kwargs = dict()\n",
    "    if 'shape' in kernel_params:\n",
    "        nw_kwargs['kernel'] = Polynomial(**kernel_params)\n",
    "    else:\n",
    "        nw_kwargs['kernel'] = 'rbf'\n",
    "        nw_kwargs['gamma'] = kernel_params.pop('gamma')\n",
    "\n",
    "\n",
    "    error = VoxelModelError(cache, data)\n",
    "    return data, error.fit(**nw_kwargs, option=model_option)\n",
    "\n"
   ]
  },
  {
   "cell_type": "code",
   "execution_count": 8,
   "metadata": {},
   "outputs": [
    {
     "name": "stdout",
     "output_type": "stream",
     "text": [
      "here\n"
     ]
    },
    {
     "ename": "KeyError",
     "evalue": "'injection_hemisphere_id'",
     "output_type": "error",
     "traceback": [
      "\u001b[0;31m---------------------------------------------------------------------------\u001b[0m",
      "\u001b[0;31mKeyError\u001b[0m                                  Traceback (most recent call last)",
      "\u001b[0;32m<ipython-input-8-e77cf3979bf5>\u001b[0m in \u001b[0;36m<module>\u001b[0;34m\u001b[0m\n\u001b[1;32m     32\u001b[0m \u001b[0;34m\u001b[0m\u001b[0m\n\u001b[1;32m     33\u001b[0m     data, reg = fit_structure(cache, sid, experiments_exclude,\n\u001b[0;32m---> 34\u001b[0;31m                               hyperparameters[sac], model_option=suffix)\n\u001b[0m\u001b[1;32m     35\u001b[0m \u001b[0;34m\u001b[0m\u001b[0m\n\u001b[1;32m     36\u001b[0m     \u001b[0mw\u001b[0m \u001b[0;34m=\u001b[0m \u001b[0mreg\u001b[0m\u001b[0;34m.\u001b[0m\u001b[0mget_weights\u001b[0m\u001b[0;34m(\u001b[0m\u001b[0mdata\u001b[0m\u001b[0;34m.\u001b[0m\u001b[0minjection_mask\u001b[0m\u001b[0;34m.\u001b[0m\u001b[0mcoordinates\u001b[0m\u001b[0;34m)\u001b[0m\u001b[0;34m\u001b[0m\u001b[0;34m\u001b[0m\u001b[0m\n",
      "\u001b[0;32m<ipython-input-7-14bcede89eff>\u001b[0m in \u001b[0;36mfit_structure\u001b[0;34m(cache, structure_id, experiments_exclude, kernel_params, model_option)\u001b[0m\n\u001b[1;32m     40\u001b[0m                   model_option='standard'):\n\u001b[1;32m     41\u001b[0m     data = ModelData(cache, structure_id).get_voxel_data(\n\u001b[0;32m---> 42\u001b[0;31m         experiments_exclude=experiments_exclude)\n\u001b[0m\u001b[1;32m     43\u001b[0m \u001b[0;34m\u001b[0m\u001b[0m\n\u001b[1;32m     44\u001b[0m     \u001b[0;31m# nested cross val\u001b[0m\u001b[0;34m\u001b[0m\u001b[0;34m\u001b[0m\u001b[0;34m\u001b[0m\u001b[0m\n",
      "\u001b[0;32m~/alleninstitute/sambranch/mouse_connectivity_models/mcmodels/core/model_data.py\u001b[0m in \u001b[0;36mget_voxel_data\u001b[0;34m(self, **kwargs)\u001b[0m\n\u001b[1;32m    117\u001b[0m         \u001b[0;31m# eid_set = kwargs.pop('eid_set')\u001b[0m\u001b[0;34m\u001b[0m\u001b[0;34m\u001b[0m\u001b[0;34m\u001b[0m\u001b[0m\n\u001b[1;32m    118\u001b[0m         \u001b[0mexperiments_exclude\u001b[0m \u001b[0;34m=\u001b[0m \u001b[0mkwargs\u001b[0m\u001b[0;34m.\u001b[0m\u001b[0mpop\u001b[0m\u001b[0;34m(\u001b[0m\u001b[0;34m'experiments_exclude'\u001b[0m\u001b[0;34m)\u001b[0m\u001b[0;34m\u001b[0m\u001b[0;34m\u001b[0m\u001b[0m\n\u001b[0;32m--> 119\u001b[0;31m         \u001b[0minjection_hemisphere_id\u001b[0m \u001b[0;34m=\u001b[0m \u001b[0mkwargs\u001b[0m\u001b[0;34m.\u001b[0m\u001b[0mpop\u001b[0m\u001b[0;34m(\u001b[0m\u001b[0;34m'injection_hemisphere_id'\u001b[0m\u001b[0;34m)\u001b[0m\u001b[0;34m\u001b[0m\u001b[0;34m\u001b[0m\u001b[0m\n\u001b[0m\u001b[1;32m    120\u001b[0m         \u001b[0mprint\u001b[0m\u001b[0;34m(\u001b[0m\u001b[0minjection_hemisphere_id\u001b[0m\u001b[0;34m)\u001b[0m\u001b[0;34m\u001b[0m\u001b[0;34m\u001b[0m\u001b[0m\n\u001b[1;32m    121\u001b[0m         \u001b[0mcre\u001b[0m \u001b[0;34m=\u001b[0m \u001b[0mkwargs\u001b[0m\u001b[0;34m.\u001b[0m\u001b[0mpop\u001b[0m\u001b[0;34m(\u001b[0m\u001b[0;34m'cre'\u001b[0m\u001b[0;34m)\u001b[0m\u001b[0;34m\u001b[0m\u001b[0;34m\u001b[0m\u001b[0m\n",
      "\u001b[0;31mKeyError\u001b[0m: 'injection_hemisphere_id'"
     ]
    }
   ],
   "source": [
    "\n",
    "    input_data = ju.read(INPUT_JSON)\n",
    "\n",
    "    structures = input_data.get('structures')\n",
    "    manifest_file = input_data.get('manifest_file')\n",
    "    manifest_file = os.path.join(TOP_DIR, manifest_file)\n",
    "\n",
    "    #log_level = input_data.get('log_level', logging.DEBUG)\n",
    "    #logging.getLogger().setLevel(log_level)\n",
    "\n",
    "    # experiments to exclude\n",
    "    experiments_exclude = ju.read(EXPERIMENTS_EXCLUDE_JSON)\n",
    "\n",
    "    # load hyperparameter dict\n",
    "    suffix = 'log'\n",
    "    hyperparameter_json = os.path.join(OUTPUT_DIR, 'hyperparameters-%s.json' % suffix)\n",
    "    hyperparameters = ju.read(hyperparameter_json)\n",
    "    injection_hemisphere_id = 2\n",
    "    # get caching object\n",
    "    cache = VoxelModelCache(manifest_file=manifest_file)\n",
    "\n",
    "    # get structure ids\n",
    "    structure_ids = [get_structure_id(cache, s) for s in structures]\n",
    "\n",
    "    # mask for reordering source\n",
    "    annotation = cache.get_annotation_volume()[0]\n",
    "    cumm_source_mask = np.zeros(annotation.shape, dtype=np.int)\n",
    "\n",
    "    offset = 1 # start @ 1 so that nonzero can be used\n",
    "    weights, nodes = [], []\n",
    "    for sid, sac in zip(structure_ids[:1], structures[:1]):\n",
    "        #logging.debug(\"Building model for structure: %s\", sac)\n",
    "\n",
    "        data, reg = fit_structure(cache, sid, experiments_exclude,\n",
    "                                  hyperparameters[sac], model_option=suffix)\n",
    "\n",
    "        w = reg.get_weights(data.injection_mask.coordinates)\n",
    "\n",
    "        # assign ordering to full source\n",
    "        ordering = np.arange(offset, w.shape[0] + offset, dtype=np.int)\n",
    "        offset += w.shape[0]\n",
    "\n",
    "        # get source mask\n",
    "        data.injection_mask.fill_volume_where_masked(cumm_source_mask, ordering)\n",
    "\n",
    "        # append to list\n",
    "        weights.append(w)\n",
    "        nodes.append(reg.nodes)\n"
   ]
  },
  {
   "cell_type": "code",
   "execution_count": 20,
   "metadata": {
    "collapsed": true
   },
   "outputs": [],
   "source": [
    "data = ModelData(cache, 512)"
   ]
  },
  {
   "cell_type": "code",
   "execution_count": 22,
   "metadata": {},
   "outputs": [
    {
     "name": "stdout",
     "output_type": "stream",
     "text": [
      "here\n"
     ]
    },
    {
     "ename": "KeyError",
     "evalue": "'injection_hemisphere_id'",
     "output_type": "error",
     "traceback": [
      "\u001b[0;31m---------------------------------------------------------------------------\u001b[0m",
      "\u001b[0;31mKeyError\u001b[0m                                  Traceback (most recent call last)",
      "\u001b[0;32m<ipython-input-22-cfdf8869eb28>\u001b[0m in \u001b[0;36m<module>\u001b[0;34m\u001b[0m\n\u001b[1;32m      3\u001b[0m \u001b[0mcre\u001b[0m \u001b[0;34m=\u001b[0m \u001b[0;32mNone\u001b[0m\u001b[0;34m\u001b[0m\u001b[0;34m\u001b[0m\u001b[0m\n\u001b[1;32m      4\u001b[0m \u001b[0;34m\u001b[0m\u001b[0m\n\u001b[0;32m----> 5\u001b[0;31m \u001b[0mdata2\u001b[0m \u001b[0;34m=\u001b[0m \u001b[0mdata\u001b[0m\u001b[0;34m.\u001b[0m\u001b[0mget_voxel_data\u001b[0m\u001b[0;34m(\u001b[0m\u001b[0mexperiments_exclude\u001b[0m \u001b[0;34m=\u001b[0m \u001b[0;34m[\u001b[0m\u001b[0;34m]\u001b[0m\u001b[0;34m)\u001b[0m\u001b[0;31m#VoxelData(cache, injection_structure_ids=[512],\u001b[0m\u001b[0;34m\u001b[0m\u001b[0;34m\u001b[0m\u001b[0m\n\u001b[0m\u001b[1;32m      6\u001b[0m                  \u001b[0;31m# injection_hemisphere_id=2, flip_experiments = True)\u001b[0m\u001b[0;34m\u001b[0m\u001b[0;34m\u001b[0m\u001b[0;34m\u001b[0m\u001b[0m\n\u001b[1;32m      7\u001b[0m                  \u001b[0;31m#injection_hemisphere_id=2, flip_experiments=True)\u001b[0m\u001b[0;34m\u001b[0m\u001b[0;34m\u001b[0m\u001b[0;34m\u001b[0m\u001b[0m\n",
      "\u001b[0;32m~/alleninstitute/sambranch/mouse_connectivity_models/mcmodels/core/model_data.py\u001b[0m in \u001b[0;36mget_voxel_data\u001b[0;34m(self, **kwargs)\u001b[0m\n\u001b[1;32m    117\u001b[0m         \u001b[0;31m# eid_set = kwargs.pop('eid_set')\u001b[0m\u001b[0;34m\u001b[0m\u001b[0;34m\u001b[0m\u001b[0;34m\u001b[0m\u001b[0m\n\u001b[1;32m    118\u001b[0m         \u001b[0mexperiments_exclude\u001b[0m \u001b[0;34m=\u001b[0m \u001b[0mkwargs\u001b[0m\u001b[0;34m.\u001b[0m\u001b[0mpop\u001b[0m\u001b[0;34m(\u001b[0m\u001b[0;34m'experiments_exclude'\u001b[0m\u001b[0;34m)\u001b[0m\u001b[0;34m\u001b[0m\u001b[0;34m\u001b[0m\u001b[0m\n\u001b[0;32m--> 119\u001b[0;31m         \u001b[0minjection_hemisphere_id\u001b[0m \u001b[0;34m=\u001b[0m \u001b[0mkwargs\u001b[0m\u001b[0;34m.\u001b[0m\u001b[0mpop\u001b[0m\u001b[0;34m(\u001b[0m\u001b[0;34m'injection_hemisphere_id'\u001b[0m\u001b[0;34m)\u001b[0m\u001b[0;34m\u001b[0m\u001b[0;34m\u001b[0m\u001b[0m\n\u001b[0m\u001b[1;32m    120\u001b[0m         \u001b[0mprint\u001b[0m\u001b[0;34m(\u001b[0m\u001b[0minjection_hemisphere_id\u001b[0m\u001b[0;34m)\u001b[0m\u001b[0;34m\u001b[0m\u001b[0;34m\u001b[0m\u001b[0m\n\u001b[1;32m    121\u001b[0m         \u001b[0mcre\u001b[0m \u001b[0;34m=\u001b[0m \u001b[0mkwargs\u001b[0m\u001b[0;34m.\u001b[0m\u001b[0mpop\u001b[0m\u001b[0;34m(\u001b[0m\u001b[0;34m'cre'\u001b[0m\u001b[0;34m)\u001b[0m\u001b[0;34m\u001b[0m\u001b[0;34m\u001b[0m\u001b[0m\n",
      "\u001b[0;31mKeyError\u001b[0m: 'injection_hemisphere_id'"
     ]
    }
   ],
   "source": [
    "experiments_exclude = []\n",
    "injection_hemisphere_id = 2\n",
    "cre = None\n",
    "\n",
    "data2 = data.get_voxel_data(experiments_exclude = [],injection_hemisphere_id = 2)#VoxelData(cache, injection_structure_ids=[512],\n",
    "                 # injection_hemisphere_id=2, flip_experiments = True)\n",
    "                 #injection_hemisphere_id=2, flip_experiments=True)\n",
    "experiment_ids = [158375425]#data.get_experiment_ids(experiments_exclude=experiments_exclude, cre=cre)\n",
    "# 2 + flip flips 1s into 2s\n",
    "#data.get_experiment_data(experiment_ids)\n"
   ]
  },
  {
   "cell_type": "code",
   "execution_count": 19,
   "metadata": {},
   "outputs": [
    {
     "ename": "NameError",
     "evalue": "name 'Experiment' is not defined",
     "output_type": "error",
     "traceback": [
      "\u001b[0;31m---------------------------------------------------------------------------\u001b[0m",
      "\u001b[0;31mNameError\u001b[0m                                 Traceback (most recent call last)",
      "\u001b[0;32m<ipython-input-19-ef0623c78074>\u001b[0m in \u001b[0;36m<module>\u001b[0;34m\u001b[0m\n\u001b[0;32m----> 1\u001b[0;31m \u001b[0mdata\u001b[0m\u001b[0;34m.\u001b[0m\u001b[0mget_experiment_data\u001b[0m\u001b[0;34m(\u001b[0m\u001b[0mexperiment_ids\u001b[0m\u001b[0;34m)\u001b[0m\u001b[0;34m\u001b[0m\u001b[0;34m\u001b[0m\u001b[0m\n\u001b[0m",
      "\u001b[0;32m~/alleninstitute/sambranch/mouse_connectivity_models/mcmodels/core/base.py\u001b[0m in \u001b[0;36mget_experiment_data\u001b[0;34m(self, experiment_ids)\u001b[0m\n\u001b[1;32m    260\u001b[0m         \u001b[0marrays\u001b[0m \u001b[0;34m=\u001b[0m \u001b[0mmap\u001b[0m\u001b[0;34m(\u001b[0m\u001b[0mget_data\u001b[0m\u001b[0;34m,\u001b[0m \u001b[0mself\u001b[0m\u001b[0;34m.\u001b[0m\u001b[0m_experiment_generator\u001b[0m\u001b[0;34m(\u001b[0m\u001b[0mexperiment_ids\u001b[0m\u001b[0;34m)\u001b[0m\u001b[0;34m)\u001b[0m\u001b[0;34m\u001b[0m\u001b[0;34m\u001b[0m\u001b[0m\n\u001b[1;32m    261\u001b[0m \u001b[0;34m\u001b[0m\u001b[0m\n\u001b[0;32m--> 262\u001b[0;31m         \u001b[0mcentroids\u001b[0m\u001b[0;34m,\u001b[0m \u001b[0minjections\u001b[0m\u001b[0;34m,\u001b[0m \u001b[0mprojections\u001b[0m \u001b[0;34m=\u001b[0m \u001b[0mmap\u001b[0m\u001b[0;34m(\u001b[0m\u001b[0mnp\u001b[0m\u001b[0;34m.\u001b[0m\u001b[0marray\u001b[0m\u001b[0;34m,\u001b[0m \u001b[0mzip\u001b[0m\u001b[0;34m(\u001b[0m\u001b[0;34m*\u001b[0m\u001b[0marrays\u001b[0m\u001b[0;34m)\u001b[0m\u001b[0;34m)\u001b[0m\u001b[0;34m\u001b[0m\u001b[0;34m\u001b[0m\u001b[0m\n\u001b[0m\u001b[1;32m    263\u001b[0m         \u001b[0mself\u001b[0m\u001b[0;34m.\u001b[0m\u001b[0mcentroids\u001b[0m \u001b[0;34m=\u001b[0m \u001b[0mcentroids\u001b[0m\u001b[0;34m\u001b[0m\u001b[0;34m\u001b[0m\u001b[0m\n\u001b[1;32m    264\u001b[0m         \u001b[0mself\u001b[0m\u001b[0;34m.\u001b[0m\u001b[0minjections\u001b[0m \u001b[0;34m=\u001b[0m \u001b[0minjections\u001b[0m\u001b[0;34m\u001b[0m\u001b[0;34m\u001b[0m\u001b[0m\n",
      "\u001b[0;32m~/alleninstitute/sambranch/mouse_connectivity_models/mcmodels/core/base.py\u001b[0m in \u001b[0;36m_experiment_generator\u001b[0;34m(self, experiment_ids)\u001b[0m\n\u001b[1;32m    109\u001b[0m \u001b[0;34m\u001b[0m\u001b[0m\n\u001b[1;32m    110\u001b[0m         \u001b[0;32mfor\u001b[0m \u001b[0meid\u001b[0m \u001b[0;32min\u001b[0m \u001b[0mexperiment_ids\u001b[0m\u001b[0;34m:\u001b[0m\u001b[0;34m\u001b[0m\u001b[0;34m\u001b[0m\u001b[0m\n\u001b[0;32m--> 111\u001b[0;31m             experiment = Experiment.from_cache(\n\u001b[0m\u001b[1;32m    112\u001b[0m                 self.cache, eid, self.data_mask_tolerance)\n\u001b[1;32m    113\u001b[0m \u001b[0;34m\u001b[0m\u001b[0m\n",
      "\u001b[0;31mNameError\u001b[0m: name 'Experiment' is not defined"
     ]
    }
   ],
   "source": [
    "data.get_experiment_data(experiment_ids)"
   ]
  },
  {
   "cell_type": "code",
   "execution_count": 14,
   "metadata": {
    "collapsed": true
   },
   "outputs": [],
   "source": [
    "\n",
    "    def _experiment_generator(self, experiment_ids):\n",
    "        \n",
    "        \"\"\"Generates experiment objections given their experiment ids\"\"\"\n",
    "        def valid_volume(experiment):\n",
    "            \"\"\"Does experiment meet volume requirements?\"\"\"\n",
    "            # compute injection ratio contained within injection mask\n",
    "            contained_injection = self.injection_mask.mask_volume(\n",
    "                experiment.injection_density)\n",
    "            contained_ratio = contained_injection.sum() / experiment.injection_volume\n",
    "\n",
    "            # convert to mm^3\n",
    "            resolution = self.cache.get_reference_space().resolution[0]\n",
    "            convert = lambda x: x * (1e-3 * resolution)**3\n",
    "\n",
    "            injection_volume = convert(experiment.injection_volume)\n",
    "            projection_volume = convert(experiment.projection_volume)\n",
    "\n",
    "            return (injection_volume > self.injection_volume_bounds[0] and\n",
    "                    injection_volume < self.injection_volume_bounds[1] and\n",
    "                    projection_volume > self.projection_volume_bounds[0] and\n",
    "                    projection_volume < self.projection_volume_bounds[1] and\n",
    "                    contained_ratio > self.min_contained_injection_ratio)\n",
    "\n",
    "\n",
    "        for eid in experiment_ids:\n",
    "            experiment = Experiment.from_cache(\n",
    "                self.cache, eid, self.data_mask_tolerance)\n",
    "\n",
    "            if valid_volume(experiment):\n",
    "                hemisphere_id = experiment.injection_hemisphere_id\n",
    "\n",
    "                if (self.injection_hemisphere_id == 3 or\n",
    "                        hemisphere_id == self.injection_hemisphere_id):\n",
    "                    yield experiment\n",
    "\n",
    "                elif self.flip_experiments:\n",
    "                    yield experiment.flip()\n"
   ]
  },
  {
   "cell_type": "code",
   "execution_count": 15,
   "metadata": {},
   "outputs": [
    {
     "ename": "NameError",
     "evalue": "name 'Experiment' is not defined",
     "output_type": "error",
     "traceback": [
      "\u001b[0;31m---------------------------------------------------------------------------\u001b[0m",
      "\u001b[0;31mNameError\u001b[0m                                 Traceback (most recent call last)",
      "\u001b[0;32m<ipython-input-15-2a64e08c41c2>\u001b[0m in \u001b[0;36m<module>\u001b[0;34m\u001b[0m\n\u001b[1;32m     37\u001b[0m \u001b[0marrays\u001b[0m \u001b[0;34m=\u001b[0m \u001b[0mmap\u001b[0m\u001b[0;34m(\u001b[0m\u001b[0mget_data\u001b[0m\u001b[0;34m,\u001b[0m \u001b[0mself\u001b[0m\u001b[0;34m.\u001b[0m\u001b[0m_experiment_generator\u001b[0m\u001b[0;34m(\u001b[0m\u001b[0mexperiment_ids\u001b[0m\u001b[0;34m)\u001b[0m\u001b[0;34m)\u001b[0m\u001b[0;34m\u001b[0m\u001b[0;34m\u001b[0m\u001b[0m\n\u001b[1;32m     38\u001b[0m \u001b[0;34m\u001b[0m\u001b[0m\n\u001b[0;32m---> 39\u001b[0;31m \u001b[0mcentroids\u001b[0m\u001b[0;34m,\u001b[0m \u001b[0minjections\u001b[0m\u001b[0;34m,\u001b[0m \u001b[0mprojections\u001b[0m \u001b[0;34m=\u001b[0m \u001b[0mmap\u001b[0m\u001b[0;34m(\u001b[0m\u001b[0mnp\u001b[0m\u001b[0;34m.\u001b[0m\u001b[0marray\u001b[0m\u001b[0;34m,\u001b[0m \u001b[0mzip\u001b[0m\u001b[0;34m(\u001b[0m\u001b[0;34m*\u001b[0m\u001b[0marrays\u001b[0m\u001b[0;34m)\u001b[0m\u001b[0;34m)\u001b[0m\u001b[0;34m\u001b[0m\u001b[0;34m\u001b[0m\u001b[0m\n\u001b[0m\u001b[1;32m     40\u001b[0m \u001b[0mself\u001b[0m\u001b[0;34m.\u001b[0m\u001b[0mcentroids\u001b[0m \u001b[0;34m=\u001b[0m \u001b[0mcentroids\u001b[0m\u001b[0;34m\u001b[0m\u001b[0;34m\u001b[0m\u001b[0m\n\u001b[1;32m     41\u001b[0m \u001b[0mself\u001b[0m\u001b[0;34m.\u001b[0m\u001b[0minjections\u001b[0m \u001b[0;34m=\u001b[0m \u001b[0minjections\u001b[0m\u001b[0;34m\u001b[0m\u001b[0;34m\u001b[0m\u001b[0m\n",
      "\u001b[0;32m~/alleninstitute/sambranch/mouse_connectivity_models/mcmodels/core/base.py\u001b[0m in \u001b[0;36m_experiment_generator\u001b[0;34m(self, experiment_ids)\u001b[0m\n\u001b[1;32m    109\u001b[0m \u001b[0;34m\u001b[0m\u001b[0m\n\u001b[1;32m    110\u001b[0m         \u001b[0;32mfor\u001b[0m \u001b[0meid\u001b[0m \u001b[0;32min\u001b[0m \u001b[0mexperiment_ids\u001b[0m\u001b[0;34m:\u001b[0m\u001b[0;34m\u001b[0m\u001b[0;34m\u001b[0m\u001b[0m\n\u001b[0;32m--> 111\u001b[0;31m             experiment = Experiment.from_cache(\n\u001b[0m\u001b[1;32m    112\u001b[0m                 self.cache, eid, self.data_mask_tolerance)\n\u001b[1;32m    113\u001b[0m \u001b[0;34m\u001b[0m\u001b[0m\n",
      "\u001b[0;31mNameError\u001b[0m: name 'Experiment' is not defined"
     ]
    }
   ],
   "source": [
    "        self = data\n",
    "        #def get_experiment_data(self, experiment_ids):\n",
    "        \"\"\"Pulls voxel-scale grid data for experiments.\n",
    "\n",
    "        Uses the cache property to pull grid data from the Allen Brain Atlas.\n",
    "        Note that only experiments passing all defined parameters will be\n",
    "        included.\n",
    "\n",
    "        Parameters\n",
    "        ----------\n",
    "        experiment_ids : list\n",
    "            Ids of candidate experiments to pull. Only the subset of these\n",
    "            experiments passing user defined object parameters will be pulled.\n",
    "\n",
    "        Returns\n",
    "        -------\n",
    "        self : returns an instance of self.\n",
    "        \"\"\"\n",
    "        def get_centroid(experiment):\n",
    "            \"\"\"Returns experiment centroid\"\"\"\n",
    "            return experiment.centroid\n",
    "\n",
    "        def get_injection(experiment):\n",
    "            \"\"\"Returns experiment injection masked & flattened\"\"\"\n",
    "            injection = experiment.get_injection(self.normalized_injection)\n",
    "            return self.injection_mask.mask_volume(injection)\n",
    "\n",
    "        def get_projection(experiment):\n",
    "            \"\"\"Returns experiment projection masked & flattened\"\"\"\n",
    "            projection = experiment.get_projection(self.normalized_projection)\n",
    "            return self.projection_mask.mask_volume(projection)\n",
    "\n",
    "        # get data\n",
    "        get_data = lambda x: (get_centroid(x),\n",
    "                              get_injection(x),\n",
    "                              get_projection(x))\n",
    "        arrays = map(get_data, self._experiment_generator(experiment_ids))\n",
    "\n",
    "        centroids, injections, projections = map(np.array, zip(*arrays))\n",
    "        self.centroids = centroids\n",
    "        self.injections = injections\n",
    "        self.projections = projections\n",
    "\n",
    "        #return self\n"
   ]
  },
  {
   "cell_type": "code",
   "execution_count": null,
   "metadata": {
    "collapsed": true
   },
   "outputs": [],
   "source": []
  },
  {
   "cell_type": "code",
   "execution_count": null,
   "metadata": {
    "collapsed": true
   },
   "outputs": [],
   "source": [
    "    def get_voxel_data(self, **kwargs):\n",
    "        print('here')\n",
    "        # eid_set = kwargs.pop('eid_set')\n",
    "        experiments_exclude = []#kwargs.pop('experiments_exclude')\n",
    "        injection_hemisphere_id = 2#kwargs.pop('injection_hemisphere_id')\n",
    "        print(injection_hemisphere_id)\n",
    "        cre = None\n",
    "        experiment_ids = self.get_experiment_ids(experiments_exclude=experiments_exclude, cre=cre)\n",
    "        # projection_hemisphere_id = kwargs.pop('projection_hemisphere_id'3)\n",
    "        data = VoxelData(self.cache, injection_structure_ids=[self.structure_id],\n",
    "                         # injection_hemisphere_id=2, flip_experiments = True)\n",
    "                         injection_hemisphere_id=injection_hemisphere_id, flip_experiments=True)  # 2 + flip flips 1s into 2s\n",
    "        data.get_experiment_data(experiment_ids)\n",
    "        data.experiment_ids = experiment_ids\n",
    "        return data"
   ]
  },
  {
   "cell_type": "code",
   "execution_count": null,
   "metadata": {
    "collapsed": true
   },
   "outputs": [],
   "source": []
  },
  {
   "cell_type": "code",
   "execution_count": null,
   "metadata": {
    "collapsed": true
   },
   "outputs": [],
   "source": [
    "\n",
    "    # stack\n",
    "    weights = padded_diagonal_fill(weights)\n",
    "    nodes = np.vstack(nodes)\n",
    "\n",
    "    # need to reorder weights\n",
    "    # (subtract 1 to get proper index)\n",
    "    permutation = cumm_source_mask[cumm_source_mask.nonzero()] - 1\n",
    "    weights = weights[permutation, :]\n",
    "\n",
    "    # regionalized\n",
    "    logging.debug('regionalizing voxel weights')\n",
    "    ontological_order = get_ordered_summary_structures(cache)\n",
    "    source_mask = Mask.from_cache(cache, structure_ids=structure_ids, hemisphere_id=2)\n",
    "    source_key = source_mask.get_key(structure_ids=ontological_order)\n",
    "    ipsi_key = data.projection_mask.get_key(structure_ids=ontological_order, hemisphere_id=2)\n",
    "    contra_key = data.projection_mask.get_key(structure_ids=ontological_order, hemisphere_id=1)\n",
    "    ipsi_model = RegionalizedModel(weights, nodes, source_key, ipsi_key,\n",
    "                                     ordering=ontological_order, dataframe=True)\n",
    "    contra_model = RegionalizedModel(weights, nodes, source_key, contra_key,\n",
    "                                     ordering=ontological_order, dataframe=True)\n",
    "    get_metric = lambda s: pd.concat((getattr(ipsi_model, s), getattr(contra_model, s)),\n",
    "                                     keys=('ipsi', 'contra'), axis=1)\n",
    "\n",
    "    # write results\n",
    "    output_dir = os.path.join(TOP_DIR, 'connectivity', 'voxel-%s-model' % suffix)\n",
    "    if not os.path.exists(output_dir):\n",
    "        os.makedirs(output_dir)\n",
    "\n",
    "    # regionalized\n",
    "    logging.debug('saving to directory: %s', output_dir)\n",
    "    get_metric('connection_density').to_csv(\n",
    "        os.path.join(output_dir, 'connection_density.csv'))\n",
    "    get_metric('connection_strength').to_csv(\n",
    "        os.path.join(output_dir, 'connection_strength.csv'))\n",
    "    get_metric('normalized_connection_density').to_csv(\n",
    "        os.path.join(output_dir, 'normalized_connection_density.csv'))\n",
    "    get_metric('normalized_connection_strength').to_csv(\n",
    "        os.path.join(output_dir, 'normalized_connection_strength.csv'))\n",
    "\n",
    "    # voxel\n",
    "    ju.write(os.path.join(output_dir, 'target_mask_params.json'),\n",
    "             dict(structure_ids=structure_ids, hemisphere_id=3))\n",
    "    ju.write(os.path.join(output_dir, 'source_mask_params.json'),\n",
    "             dict(structure_ids=structure_ids, hemisphere_id=2))\n",
    "    np.savetxt(os.path.join(output_dir, 'weights.csv.gz'),\n",
    "               weights.astype(np.float32), delimiter=',')\n",
    "    np.savetxt(os.path.join(output_dir, 'nodes.csv.gz'),\n",
    "               nodes.astype(np.float32), delimiter=',')\n",
    "\n",
    "\n",
    "if __name__ == \"__main__\":\n",
    "    main()\n"
   ]
  }
 ],
 "metadata": {
  "kernelspec": {
   "display_name": "allen_010719_5",
   "language": "python",
   "name": "allen_010719_5"
  },
  "language_info": {
   "codemirror_mode": {
    "name": "ipython",
    "version": 3
   },
   "file_extension": ".py",
   "mimetype": "text/x-python",
   "name": "python",
   "nbconvert_exporter": "python",
   "pygments_lexer": "ipython3",
   "version": "3.7.6"
  }
 },
 "nbformat": 4,
 "nbformat_minor": 2
}

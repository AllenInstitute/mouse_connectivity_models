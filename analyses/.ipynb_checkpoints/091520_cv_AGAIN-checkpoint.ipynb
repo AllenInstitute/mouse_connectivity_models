{
 "cells": [
  {
   "cell_type": "code",
   "execution_count": 1,
   "metadata": {},
   "outputs": [
    {
     "name": "stderr",
     "output_type": "stream",
     "text": [
      "/Users/samsonkoelle/anaconda3/envs/allen_010719_5/lib/python3.7/site-packages/sklearn/utils/deprecation.py:144: FutureWarning: The sklearn.linear_model.base module is  deprecated in version 0.22 and will be removed in version 0.24. The corresponding classes / functions should instead be imported from sklearn.linear_model. Anything that cannot be imported from sklearn.linear_model is now part of the private API.\n",
      "  warnings.warn(message, FutureWarning)\n",
      "/Users/samsonkoelle/anaconda3/envs/allen_010719_5/lib/python3.7/site-packages/sklearn/utils/deprecation.py:144: FutureWarning: The sklearn.metrics.scorer module is  deprecated in version 0.22 and will be removed in version 0.24. The corresponding classes / functions should instead be imported from sklearn.metrics. Anything that cannot be imported from sklearn.metrics is now part of the private API.\n",
      "  warnings.warn(message, FutureWarning)\n"
     ]
    }
   ],
   "source": [
    "%load_ext autoreload\n",
    "%autoreload 2\n",
    "\n",
    "import os\n",
    "import numpy as np\n",
    "import pandas as pd \n",
    "import sys\n",
    "import pickle\n",
    "import itertools\n",
    "import seaborn as sns\n",
    "import matplotlib.pyplot as plt\n",
    "from mpl_toolkits.mplot3d import Axes3D\n",
    "import random\n",
    "from sklearn.metrics import pairwise_distances\n",
    "\n",
    "workingdirectory = os.popen('git rev-parse --show-toplevel').read()[:-1]\n",
    "sys.path.append(workingdirectory)\n",
    "os.chdir(workingdirectory)\n",
    "from mcmodels.regressors import NadarayaWatson\n",
    "import math\n",
    "from collections import Counter\n",
    "\n",
    "import allensdk.core.json_utilities as ju\n",
    "from allensdk.core.mouse_connectivity_cache import MouseConnectivityCache\n",
    "from sklearn.kernel_ridge import KernelRidge\n",
    "\n",
    "from mcmodels.core import Mask,ModelData,VoxelModelCache\n",
    "from mcmodels.core.utils import get_structure_id, get_ordered_summary_structures,get_minorstructures,get_loss_paper\n",
    "from mcmodels.utils import nonzero_unique, unionize\n",
    "from mcmodels.core.experiment import get_voxeldata_msvd\n",
    "from mcmodels.models.crossvalidation import get_best_hyperparameters,get_loss_best_hyp,get_loocv_predictions,get_loss\n",
    "from mcmodels.core.utils import get_cre_status,get_minorstructure_dictionary,get_leaves_ontologicalorder\n",
    "from mcmodels.core.utils import get_regionalized_normalized_data\n",
    "from mcmodels.core.utils import get_connectivity\n",
    "from mcmodels.core.utils import get_ontological_order_leaf\n",
    "from mcmodels.core.utils import get_nw_loocv,get_wt_inds\n",
    "from mcmodels.core.utils import get_countvec\n",
    "from mcmodels.core.utils import get_injection_hemisphere_id"
   ]
  },
  {
   "cell_type": "code",
   "execution_count": 2,
   "metadata": {
    "collapsed": true
   },
   "outputs": [],
   "source": [
    "#read data\n",
    "TOP_DIR = '/Users/samsonkoelle/alleninstitute/mcm_2020/mcm_updated/'\n",
    "INPUT_JSON = os.path.join(TOP_DIR, 'input_011520.json')\n",
    "EXPERIMENTS_EXCLUDE_JSON = os.path.join(TOP_DIR, 'experiments_exclude.json')\n",
    "FILE_DIR = '/Users/samsonkoelle/alleninstitute/mcm_2020/mcm_updated/'\n",
    "OUTPUT_DIR = os.path.join(FILE_DIR, 'output')\n",
    "\n",
    "input_data = ju.read(INPUT_JSON)\n",
    "manifest_file = input_data.get('manifest_file')\n",
    "manifest_file = os.path.join(TOP_DIR, manifest_file)\n",
    "experiments_exclude = ju.read(EXPERIMENTS_EXCLUDE_JSON)\n",
    "\n",
    "#its unclear why the hyperparameters are loaded from the output directory\n",
    "cache = VoxelModelCache(manifest_file=manifest_file)\n",
    "major_structures = input_data.get('structures')\n",
    "major_structure_ids = [get_structure_id(cache, s) for s in major_structures]\n",
    "data_info = pd.read_excel('/Users/samsonkoelle/alleninstitute/Whole Brain Cre Image Series_curation only.xlsx', 'all datasets curated_070919pull')\n",
    "data_info.set_index(\"id\", inplace=True)\n",
    "ontological_order = get_ordered_summary_structures(cache)\n",
    "\n",
    "mcc = MouseConnectivityCache(manifest_file = '../connectivity/mouse_connectivity_manifest.json')\n",
    "st = mcc.get_structure_tree()\n",
    "ai_map = st.get_id_acronym_map()\n",
    "ia_map = {value: key for key, value in ai_map.items()}\n",
    "\n",
    "#regionalize voxel model: compare with regional model\n",
    "#regional parameters\n",
    "cre = None\n",
    "eid_set=None\n",
    "high_res=False\n",
    "threshold_injection = False\n",
    "\n",
    "COARSE_STRUCTURE_SET_ID = 2\n",
    "DEFAULT_STRUCTURE_SET_IDS = tuple([COARSE_STRUCTURE_SET_ID])\n",
    "tree = cache.get_structure_tree()\n",
    "default_structures = tree.get_structures_by_set_id(DEFAULT_STRUCTURE_SET_IDS)\n",
    "default_structure_ids = [st['id'] for st in default_structures if st['id'] != 934]\n",
    "#cre= True\n",
    "\n"
   ]
  },
  {
   "cell_type": "code",
   "execution_count": 5,
   "metadata": {
    "collapsed": true
   },
   "outputs": [],
   "source": [
    "class ConnectivityData():\n",
    "    \n",
    "    def __init__(self):\n",
    "        self.structure_datas = {}    \n",
    "    \n",
    "    def get_injection_hemisphere_ids(self):\n",
    "        \n",
    "        structure_datas = self.structure_datas\n",
    "        \n",
    "        \n",
    "        for sid in list(structure_datas.keys()):\n",
    "            structure_datas[sid].get_injection_hemisphere_ids()\n",
    "            \n",
    "        self.structure_datas = structure_datas\n",
    "        \n",
    "        \n",
    "    def align(self):\n",
    "        \n",
    "        structure_datas= self.structure_datas\n",
    "        \n",
    "        for sid in list(structure_datas.keys()):\n",
    "            structure_datas[sid].align()\n",
    "        self.structure_datas = structure_datas\n",
    "\n",
    "    def get_centroids(self):\n",
    "        \n",
    "        structure_datas = self.structure_datas\n",
    "        \n",
    "        for sid in list(structure_datas.keys()):\n",
    "            structure_datas[sid].get_centroids()\n",
    "            \n",
    "        self.structure_datas = structure_datas\n",
    "        \n",
    "class StructureData():\n",
    "    \n",
    "    def __init__(self, sid):\n",
    "        self.experiment_datas = {}\n",
    "        \n",
    "    def get_injection_hemisphere_ids(self):   \n",
    "        \n",
    "        experiment_datas = self.experiment_datas\n",
    "        \n",
    "        for eid in list(experiment_datas.keys()):\n",
    "             experiment_datas[eid].injection_hemisphere_id = get_injection_hemisphere_id(experiment_datas[eid].injection_qmasked, majority=True)\n",
    "        self.experiment_datas = experiment_datas\n",
    "        \n",
    "    def align(self):\n",
    "        \n",
    "        experiment_datas = self.experiment_datas\n",
    "        \n",
    "        for eid in list(experiment_datas.keys()):\n",
    "            if experiment_datas[eid].injection_hemisphere_id == 1:\n",
    "                experiment_datas[eid].flip()\n",
    "        self.experiment_datas = experiment_datas\n",
    "\n",
    "    def get_centroids(self):\n",
    "        \n",
    "        experiment_datas = self.experiment_datas\n",
    "        \n",
    "        for eid in list(experiment_datas.keys()):\n",
    "            experiment_datas[eid].centroid = compute_centroid(experiment_datas[eid].injection_qmasked)\n",
    "        self.experiment_datas = experiment_datas        \n",
    "        \n",
    "class ExperimentData():\n",
    "    \n",
    "    def __init__(self, eid):\n",
    "        2+2\n",
    "    \n",
    "    #def get_injection_hemisphere():\n",
    "        \n",
    "        \n",
    "    def flip(self):\n",
    "        \"\"\"Reflects experiment along midline.\n",
    "\n",
    "        Returns\n",
    "        -------\n",
    "        self - flipped experiment\n",
    "        \"\"\"\n",
    "\n",
    "        self.injection_qmasked = self.injection_qmasked[..., ::-1]\n",
    "        self.projection_qmasked = self.projection_qmasked[..., ::-1]\n",
    "        self.injection_signal = self.injection_signal[..., ::-1]\n",
    "        self.projection_signal = self.projection_signal[..., ::-1]\n",
    "        self.injection_signal_true = self.injection_signal_true[..., ::-1]\n",
    "        #self.projection_signal_true = self.projection_signal_true[..., ::-1]\n",
    "        self.injection_fraction = self.injection_fraction[..., ::-1]\n",
    "        self.data_quality_mask = self.data_quality_mask[...,::-1]\n",
    "        \n",
    "        #return self        \n",
    "\n",
    "def _mask_data_volume(data_volume, data_mask, tolerance=0.0):\n",
    "    \"\"\"Masks a given data volume in place.\n",
    "\n",
    "    Parameters\n",
    "    ----------\n",
    "    data_volume : array, shape (x_ccf, y_ccf, z_ccf)\n",
    "        Data volume to be masked.\n",
    "\n",
    "    data_mask : array, shape (x_ccf, y_ccf, z_ccf)\n",
    "        data_mask for given experiment (values in [0,1])\n",
    "        See allensdk.core.mouse_connectivity_cache for more info.\n",
    "\n",
    "    tolerance : float, optional (default=0.0)\n",
    "        tolerance with which to define bad voxels in data_mask.\n",
    "\n",
    "\n",
    "    Returns\n",
    "    -------\n",
    "    data_volume\n",
    "        data_volume parameter masked in place.\n",
    "\n",
    "    \"\"\"\n",
    "    if data_volume.shape != data_mask.shape:\n",
    "        raise ValueError(\"data_volume (%s) and data_mask (%s) must be the same \"\n",
    "                         \"shape!\" % (data_volume.shape, data_mask.shape))\n",
    "\n",
    "    # mask data volume\n",
    "    data_volume[data_mask < tolerance] = 0.0\n",
    "\n",
    "    return data_volume\n",
    "\n",
    "\n",
    "def get_summarystructure_dictionary(connectivity_data, data_info):\n",
    "    summarystructure_dictionary = {}\n",
    "    major_structure_ids = np.asarray(list(connectivity_data.structure_datas.keys()))\n",
    "    for sid in major_structure_ids:\n",
    "        eids = np.asarray(list(connectivity_data.structure_datas[sid].experiment_datas.keys()))\n",
    "        summarystructure_dictionary[sid] = get_minorstructures(eids, data_info)\n",
    "    return (summarystructure_dictionary)\n",
    "\n",
    "\n",
    "def get_leaves_ontologicalorder(connectivity_data, ontological_order):\n",
    "    '''\n",
    "\n",
    "    :param msvd:\n",
    "    :param ontological_order:\n",
    "    :return: The leaf order associated with the 'ontological_order' of summary structures\n",
    "    '''\n",
    "    sid0 = list(connectivity_data.structure_datas.keys())[0]\n",
    "    #eid0 = list(connectivity_data.structure_datas[sid0].experiment_datas.keys())[0]\n",
    "    levs = connectivity_data.structure_datas[sid0].projection_mask.reference_space.structure_tree.child_ids(\n",
    "        ontological_order)\n",
    "    flat_list = np.asarray([item for sublist in levs for item in sublist])\n",
    "\n",
    "    nss = len(levs)\n",
    "    leavves = np.asarray([])\n",
    "    for i in range(nss):\n",
    "        if len(levs[i]) > 0:\n",
    "            leavves = np.append(leavves, levs[i])\n",
    "        else:\n",
    "            leavves = np.append(leavves, ontological_order[i])\n",
    "    return (leavves)\n",
    "\n",
    "from sklearn.metrics.pairwise import pairwise_kernels\n",
    "from mcmodels.regressors.nonparametric.nadaraya_watson import get_weights\n",
    "\n",
    "def get_best_hyperparameters(losses, keys):\n",
    "    \n",
    "    major_structure_ids = np.asarray(list(losses.keys()))\n",
    "    nms = len(major_structure_ids)\n",
    "    nkey = keys.shape[1]\n",
    "    output = np.empty((nms, nkey))\n",
    "    for m in range(nms):\n",
    "        print(m)\n",
    "        sid = major_structure_ids[m]\n",
    "        lvec = np.asarray([np.nanmean(losses[sid][key]) for key in keys])\n",
    "        if np.any(~np.isnan(lvec)):\n",
    "            output[m] = keys[np.nanargmin(lvec)]\n",
    "        # if len(np.where(np.isnan(np.nanmean(losses[sid][:,:], axis = 1)))[0]) < losses[sid].shape[0]:\n",
    "        #    output[m] = np.nanargmin(np.nanmean(losses[sid][:,:], axis = 1))\n",
    "\n",
    "    output = np.asarray(output, dtype=int)\n",
    "    return(output)\n",
    "\n",
    "#get where we actually modelled\n",
    "def get_eval_indices(eval_index_matrices):\n",
    "    eval_indices = {}\n",
    "    major_structure_ids = np.asarray(list(eval_index_matrices.keys()))\n",
    "    for sid in major_structure_ids:\n",
    "        eval_indices[sid] = np.where(eval_index_matrices[sid].sum(axis = 0) > 0)[0]\n",
    "    return(eval_indices)    \n",
    "\n",
    "\n",
    "\n",
    "def get_weights(eval_centroids, model_centroids, gamma):\n",
    "    weights = pairwise_kernels(X=eval_centroids, Y=model_centroids, metric='rbf', gamma=gamma, filter_params=True)\n",
    "    return (weights)\n",
    "\n",
    "\n",
    "def get_indices(ids):\n",
    "\n",
    "    ids_unique = np.unique(ids)\n",
    "    output = np.zeros((len(ids_unique), len(ids)), dtype = int)\n",
    "    for i in range(len(ids_unique)):\n",
    "        output[i,np.where(ids == ids_unique[i])[0] ] = 1\n",
    "    return(output)\n",
    "\n",
    "#get indices of firstlist in firstlisttest in categories defined by secondlist\n",
    "def get_indices2(firstlist, firstlisttest, secondlist):\n",
    "    \n",
    "    sl_unique = np.unique(secondlist)\n",
    "    output = np.zeros((len(sl_unique), len(secondlist)), dtype = int)\n",
    "    for i in range(len(sl_unique)):\n",
    "        output[i,np.intersect1d(np.where(np.isin(firstlist,firstlisttest))[0], np.where(secondlist == sl_unique[i])[0])] = 1\n",
    "    return(output)\n",
    "\n",
    "#nmodels = nleafs\n",
    "#populate each with experiments that share summary structure\n",
    "def get_indices_summaryinleaf(summarylist , leaflist):\n",
    "    \n",
    "    nexp = len(leaflist)\n",
    "    leaf_unique = np.unique(leaflist)\n",
    "    output = np.zeros((len(leaf_unique), nexp), dtype = int)\n",
    "    \n",
    "    for i in range(len(leaf_unique)):\n",
    "        \n",
    "        summary = summarylist[np.where(leaflist == leaf_unique[i])[0]][0]\n",
    "        output[i,np.where(summarylist == summary)[0]] = 1\n",
    "        \n",
    "        \n",
    "    return(output)\n",
    "\n",
    "#get predictions at all eval_indices using model_indices\n",
    "#if an eval_indices is also a model indice, leave it out of the model\n",
    "#if a model index is not an eval index, it never gets left out\n",
    "def get_nwloocv_predictions_singlemodel(projections, centroids, gamma, model_indices, eval_indices):\n",
    "  \n",
    "    eval_index_val = np.where(eval_indices == 1)[0]\n",
    "    model_index_val = np.where(model_indices == 1)[0]\n",
    "    \n",
    "    projections = np.asarray(projections, dtype=np.float32)\n",
    "    \n",
    "    nmod_ind = len(model_index_val)\n",
    "    neval = len(eval_index_val)\n",
    "    #nexp = centroids.shape[0]\n",
    "    predictions = np.empty(projections.shape)\n",
    "    #print(model_index_val.shape, eval_index_val.shape)\n",
    "\n",
    "    if len(model_index_val) > 0 and  len(eval_index_val) > 0:\n",
    "        weights = pairwise_kernels(centroids[model_index_val], centroids[eval_index_val], metric='rbf', gamma=gamma, filter_params=True) #get_weights(centroids, gamma)\n",
    "        for i in range(neval):\n",
    "            matchindex = np.where(model_index_val == eval_index_val[i])[0]\n",
    "            otherindices = np.setdiff1d(np.asarray(list(range(nmod_ind))), matchindex)         \n",
    "            #this order of operations is the fastest I found\n",
    "            weights_i = weights[:,i] / weights[:,i][otherindices].sum()\n",
    "            weights_i[matchindex] = 0\n",
    "            weights_i = np.asarray(weights_i, dtype=np.float32)\n",
    "            pred = np.dot(weights_i, projections[model_index_val])\n",
    "            predictions[eval_index_val[i]] = pred\n",
    "\n",
    "        \n",
    "    return(predictions)    \n",
    "\n",
    "def get_nwloocv_predictions_multimodel(projections, centroids, gammas, model_index_matrix, eval_index_matrix):\n",
    "    \n",
    "\n",
    "    \n",
    "    ntargets = projections.shape[1]\n",
    "    nexp = projections.shape[0]\n",
    "    nmodels = model_index_matrix.shape[0]\n",
    "    ngammas = len(gammas)\n",
    "    \n",
    "    projections = np.asarray(projections, dtype=np.float32)\n",
    "    predictions = np.empty((nmodels, ngammas, nexp, ntargets))\n",
    "    \n",
    "    \n",
    "    for m in range(nmodels):\n",
    "        #print('m', m, len(np.where(model_index_matrix[m] ==1)[0]))\n",
    "        predictions[m] = np.asarray([get_nwloocv_predictions_singlemodel(projections, centroids, gammas[g], model_index_matrix[m], eval_index_matrix[m]) for g in range(ngammas)])\n",
    "    \n",
    "    return(predictions)  \n",
    "\n",
    "def combine_predictions(predictions, eval_index_matrix):\n",
    "    \n",
    "    nmodels, ngammas, nexp, ntargets = predictions.shape\n",
    "    combined_predictions = np.empty((ngammas, nexp, ntargets))\n",
    "    for m in range(nmodels):\n",
    "        combined_predictions[:,np.where(eval_index_matrix[m] == 1)[0]] = predictions[m][:,np.where(eval_index_matrix[m] == 1)[0]]\n",
    "        \n",
    "    return(combined_predictions)\n",
    "\n",
    "def get_nwloocv_predictions_multimodel_merge(projections, centroids, gammas, model_index_matrix, eval_index_matrix):\n",
    "    \n",
    "    predictions_unmerged = get_nwloocv_predictions_multimodel(projections, centroids, gammas, model_index_matrix, eval_index_matrix)\n",
    "    print(predictions_unmerged.shape)\n",
    "    predictions_merged = combine_predictions(predictions_unmerged, eval_index_matrix)\n",
    "    \n",
    "    return(predictions_merged)\n",
    "\n",
    "#we should not pass model_index_matrices that are identical to eval_index_matrices and have only 1 element per model\n",
    "#although in principal we could do automatically in the cross validation code \n",
    "#we would rather do it explicitly to ensure identical indexing b/w experiments\n",
    "#if we only have 1 model index we will remove the model index from eval indices\n",
    "def screen_indices(model_indices, eval_indices):\n",
    "    \n",
    "    eval_indices2 = eval_indices.copy()\n",
    "    mod_loc = np.where(model_indices == 1)[0]\n",
    "    if len(mod_loc) == 1:\n",
    "        eval_indices2[mod_loc] = 0\n",
    "    return(eval_indices2)\n",
    "\n",
    "#this could result in an empty eval index i.e. certain indices having no prediction.  catch later\n",
    "#can merge (sum) the index matrix to see where predictions are actually generated\n",
    "def screen_index_matrices(model_index_matrices, eval_index_matrices):\n",
    "    \n",
    "    #alter eval_indices to remove model index in cases where there is only one experiment in the model\n",
    "    \n",
    "    nmodels = model_index_matrices.shape[0]\n",
    "    eval_index_matrices2 = eval_index_matrices.copy()\n",
    "    for m in range(nmodels):\n",
    "        eval_index_matrices2[m] = screen_indices(model_index_matrices[m], eval_index_matrices[m])\n",
    "    \n",
    "    return(eval_index_matrices2)\n",
    "\n",
    "#need code for removing experiments that have no model\n",
    "#this can happen when the model set is a subset of the evaluation set.\n",
    "#we will therefore generate predictions for a subset\n",
    "#given a leaf is included, the eval set is the same\n",
    "#however, we want to remove evals in leaves we don't have a wt for... of course one could say we are doing worse...\n",
    "#but we also have a fewer number of models\n",
    "#model_index_matrices are the indices of the leafs'\n",
    "#indices_wtinleaf are the wild types\n",
    "#need to make sure we dont have leafs with only 1 experiment\n",
    "\n",
    "def screen_index_matrices2(model_index_matrices, eval_index_matrices):\n",
    "    \n",
    "    #alter model and eval matrices to be nonzero only when there are at least two experiments in the model\n",
    "    #it can be useful for when model_index_matrices is a subset of eval_index_matrices\n",
    "    #nmodels = model_index_matrices.shape[0]\n",
    "    include_per_model = model_index_matrices.sum(axis= 1)\n",
    "    to_exclude = np.where(include_per_model <= 1)[0]\n",
    "    #to_include = np.where(include_per_model > 0)[0]\n",
    "    \n",
    "    model_index_matrices2 = model_index_matrices.copy()\n",
    "    eval_index_matrices2 = eval_index_matrices.copy()\n",
    "    model_index_matrices2[to_exclude] = 0\n",
    "    eval_index_matrices2[to_exclude] = 0\n",
    "    \n",
    "    return(model_index_matrices2, eval_index_matrices2)\n",
    "  \n",
    "    \n",
    "def screen_index_matrices3(model_index_matrices, eval_index_matrices):\n",
    "    \n",
    "    #alter model and eval matrices to be nonzero only when there are at least one experiments in the model\n",
    "    #it can be useful for when model_index_matrices is a subset of eval_index_matrices\n",
    "    #nmodels = model_index_matrices.shape[0]\n",
    "    include_per_model = model_index_matrices.sum(axis= 1)\n",
    "    to_exclude = np.where(include_per_model < 1)[0]\n",
    "    #to_include = np.where(include_per_model > 0)[0]\n",
    "    \n",
    "    model_index_matrices2 = model_index_matrices.copy()\n",
    "    eval_index_matrices2 = eval_index_matrices.copy()\n",
    "    model_index_matrices2[to_exclude] = 0\n",
    "    eval_index_matrices2[to_exclude] = 0\n",
    "    \n",
    "    to_remove = np.where(include_per_model == 1)[0]\n",
    "    eval_index_matrices2[to_remove] = 0\n",
    "    \n",
    "    return(model_index_matrices2, eval_index_matrices2)\n",
    "\n",
    "def get_cre_similarity(proj, cres,eminors,colnames):\n",
    "\n",
    "    ss = np.append(['cre','injsum'],colnames)\n",
    "    ns = np.concatenate([np.empty(2, dtype = str), np.repeat('ipsi',291), np.repeat('contra',286)])\n",
    "    colns = np.vstack([ns,ss]).transpose()\n",
    "    clns = list(zip(*colns.transpose()))\n",
    "    clnsmi = pd.MultiIndex.from_tuples(clns, names=['first', 'second'])\n",
    "    data_merged = pd.DataFrame(np.hstack([np.expand_dims(cres,1),np.expand_dims(eminors,1),proj ]), columns= clnsmi)\n",
    "    data_melted = pd.melt(data_merged, id_vars=[('','cre'),('','injsum')])\n",
    "    data_melted = data_melted.astype({'value': np.float64})\n",
    "    means = data_melted.groupby(by=['first', 'second',('','cre'),('','injsum')])['value'].mean().reset_index()\n",
    "    means = means.astype({'value': np.float64})\n",
    "    means_cast = pd.pivot_table(means, index = [('','cre'),('','injsum')], columns = ['first', 'second'])\n",
    "    cs = np.asarray(list(means_cast.index))    \n",
    "    return(means_cast,cs)\n",
    "\n",
    "def get_cre_dist_cv(proj, means_cast, eminors,cres):\n",
    "    nsamp = cres.shape[0]\n",
    "    credist = np.empty((nsamp,nsamp))\n",
    "    credist[:] = np.nan\n",
    "    for i in range(nsamp):\n",
    "        print(i)\n",
    "        #get mean of all points sharing cre line and minor structure with this one (but not including)\n",
    "        meani = means_cast.loc[tuple([cres[i], eminors[i]])]\n",
    "        ls = np.where(leafs[sid] == leafs[sid][i])[0]\n",
    "        crs = np.where(cres == cres[i])[0]\n",
    "        ncr = len(np.intersect1d(ls, crs))\n",
    "        \n",
    "        meanloocvi = meani\n",
    "        if ncr > 1:\n",
    "            meanloocvi = (ncr * meani ) / (ncr - 1) -   (1/ ncr)* proj[i] #results[reg[i]][tuple([cs[reg_cre_ind[j],1], cs[reg_cre_ind[k],1]])]\n",
    "        else:\n",
    "            meanloocvi = np.zeros(proj[i].shape[0])\n",
    "            meanloocvi[:] = np.nan\n",
    "        for j in range(nsamp):\n",
    "            meanj = means_cast.loc[tuple([cres[j], eminors[j]])]\n",
    "            if eminors[j] == eminors[i]:\n",
    "                credist[i,j]  = np.linalg.norm(meanloocvi - meanj)\n",
    "\n",
    "    return(credist)\n",
    "\n",
    "\n",
    "def get_ccf_data(cache, experiment_id):\n",
    "\n",
    "    eid_data = ExperimentData(experiment_id)\n",
    "    eid_data.data_quality_mask = cache.get_data_mask(experiment_id)[0]\n",
    "    eid_data.injection_signal = cache.get_injection_density(experiment_id)[0]\n",
    "    eid_data.injection_fraction = cache.get_injection_fraction(experiment_id)[0]\n",
    "    eid_data.projection_signal = cache.get_projection_density(experiment_id)[0]\n",
    "    return(eid_data)\n",
    "#     return {\n",
    "#         \"data_quality_mask\" : cache.get_data_mask(experiment_id)[0],\n",
    "#         \"injection_signal\" : cache.get_injection_density(experiment_id)[0],\n",
    "#         \"injection_fraction\" : cache.get_injection_fraction(experiment_id)[0],\n",
    "#         \"projection_signal\" : cache.get_projection_density(experiment_id)[0]\n",
    "#     }\n",
    "\n",
    "def get_connectivity_data(cache, structure_ids, experiments_exclude, remove_injection = False):\n",
    "\n",
    "    connectivity_data = ConnectivityData()\n",
    "    for sid in structure_ids:\n",
    "        print(sid)\n",
    "        sid_data = StructureData(sid)\n",
    "        #deprecated language\n",
    "        model_data = ModelData(cache, sid)\n",
    "        sid_data.eids = model_data.get_experiment_ids(experiments_exclude=experiments_exclude, cre=None)\n",
    "        for eid in sid_data.eids:\n",
    "            \n",
    "            eid_data = get_ccf_data(cache, eid)#ExperimentData(eid)\n",
    "            eid_data.data_mask_tolerance = .5\n",
    "            #ccf_data = get_ccf_data(cache, eid)\n",
    "            eid_data.injection_signal_true = eid_data.injection_signal * eid_data.injection_fraction\n",
    "            if remove_injection == True:\n",
    "                pass #remove injection fraction from projection\n",
    "            #injection_signal should = projection_signal in some locations (nonzero)\n",
    "            #why do we use partial?\n",
    "            #mask_func = partial(_mask_data_volume,data_mask=eid_data.data_mask,tolerance=eid_data.data_mask_tolerance)\n",
    "            eid_data.injection_qmasked  = _mask_data_volume(eid_data.injection_signal_true,eid_data.data_quality_mask,eid_data.data_mask_tolerance)\n",
    "            eid_data.projection_qmasked  = _mask_data_volume(eid_data.projection_signal,eid_data.data_quality_mask,eid_data.data_mask_tolerance) #mask_func(eid_data.projection_signal) \n",
    "            #eid_data.centroid = compute_centroid(eid_data.injection_qmasked)\n",
    "            sid_data.experiment_datas[eid] = eid_data\n",
    "        connectivity_data.structure_datas[sid] = sid_data\n",
    "    return(connectivity_data)\n",
    "\n",
    "def get_data_matrices(connectivity_data):\n",
    "    \n",
    "    structure_ids = np.asarray(list(connectivity_data.structure_datas.keys()))\n",
    "    for sid in structure_ids:\n",
    "        experiment_ids = np.asarray(list(connectivity_data.structure_datas[sid].experiment_datas.keys()))\n",
    "        connectivity_data.structure_datas[sid].injection_mask = Mask.from_cache(cache,structure_ids=[sid],hemisphere_id=2)\n",
    "        connectivity_data.structure_datas[sid].projection_mask = Mask.from_cache(cache,structure_ids=default_structure_ids, hemisphere_id=3)\n",
    "        for eid in experiment_ids:\n",
    "            connectivity_data.structure_datas[sid].experiment_datas[eid].injection_vec = connectivity_data.structure_datas[sid].injection_mask.mask_volume(connectivity_data.structure_datas[sid].experiment_datas[eid].injection_qmasked)\n",
    "            connectivity_data.structure_datas[sid].experiment_datas[eid].projection_vec = connectivity_data.structure_datas[sid].projection_mask.mask_volume(connectivity_data.structure_datas[sid].experiment_datas[eid].projection_qmasked)\n",
    "        connectivity_data.structure_datas[sid].injections = np.asarray([connectivity_data.structure_datas[sid].experiment_datas[eid].injection_vec for eid in connectivity_data.structure_datas[sid].eids])\n",
    "        connectivity_data.structure_datas[sid].projections = np.asarray([connectivity_data.structure_datas[sid].experiment_datas[eid].projection_vec for eid in connectivity_data.structure_datas[sid].eids])\n",
    "        connectivity_data.structure_datas[sid].centroids = np.asarray([connectivity_data.structure_datas[sid].experiment_datas[eid].centroid for eid in connectivity_data.structure_datas[sid].eids])\n",
    "        \n",
    "        \n",
    "    return(connectivity_data)\n",
    "\n",
    "\n",
    "def get_regionalized_normalized_data(connectivity_data, cache, source_order, ipsi_key, contra_key): #experiments_minor_structures):\n",
    "    '''\n",
    "    :param msvds: Class dictionary holding data\n",
    "    :param cache: AllenSDK cache\n",
    "    :param source_order: Source key (tautologically ipsilateral due to hemisphere mirroring)\n",
    "    :param ipsi_key: Ipsilateral target key\n",
    "    :param contra_key:  Contralateral target key\n",
    "    :return: msvds: Class dictionary holding average data\n",
    "    '''\n",
    "    major_structure_ids = np.asarray(list(connectivity_data.structure_datas.keys()))\n",
    "    for sid in major_structure_ids:\n",
    "        # print()\n",
    "        structure_data = connectivity_data.structure_datas[sid]\n",
    "        #nexp = msvd.projections.shape[0]\n",
    "\n",
    "        #minor_structures = np.unique(experiments_minor_structures[sid])\n",
    "        #nmins = len(minor_structures)\n",
    "\n",
    "        projections = structure_data.projections\n",
    "        ipsi_proj = unionize(projections, ipsi_key)\n",
    "        contra_proj = unionize(projections, contra_key)\n",
    "        reg_proj = np.hstack([ipsi_proj, contra_proj])\n",
    "        structure_data.reg_proj = reg_proj\n",
    "\n",
    "        ipsi_target_regions, ipsi_target_counts = nonzero_unique(ipsi_key, return_counts=True)\n",
    "        contra_target_regions, contra_target_counts = nonzero_unique(contra_key, return_counts=True)\n",
    "        target_counts = np.concatenate([ipsi_target_counts, contra_target_counts])\n",
    "        reg_proj_vcount_norm = np.divide(reg_proj, target_counts[np.newaxis, :])\n",
    "        structure_data.reg_proj_vcount_norm = reg_proj_vcount_norm\n",
    "        structure_data.reg_proj_vcount_norm_renorm = reg_proj_vcount_norm / np.expand_dims(np.linalg.norm(reg_proj_vcount_norm, axis=1), 1)\n",
    "        \n",
    "        source_mask = Mask.from_cache(cache, structure_ids=[sid], hemisphere_id=2)\n",
    "        source_key = source_mask.get_key(structure_ids=source_order)\n",
    "        source_regions, source_counts = nonzero_unique(source_key, return_counts=True)\n",
    "\n",
    "        injections = structure_data.injections\n",
    "        reg_ipsi_inj = unionize(injections, source_key)\n",
    "        structure_data.reg_inj = reg_ipsi_inj\n",
    "        reg_inj_vcount_norm = np.divide(reg_ipsi_inj, source_counts[np.newaxis, :])\n",
    "        structure_data.reg_inj_vcount_norm = reg_inj_vcount_norm\n",
    "        \n",
    "        structure_data.reg_proj_vcount_norm_injnorm = reg_proj_vcount_norm / np.expand_dims(np.linalg.norm(reg_inj_vcount_norm, axis=1), 1)\n",
    "        connectivity_data.structure_datas[sid] = structure_data\n",
    "        #msvd.reg_proj_vcountnorm_totalnorm =\n",
    "    connectivity_data.ipsi_target_regions = ipsi_target_regions\n",
    "    connectivity_data.contra_target_regions = contra_target_regions        \n",
    "    connectivity_data.target_regions = np.concatenate([ipsi_target_regions, contra_target_regions])\n",
    "    return (connectivity_data)\n",
    "\n",
    "# def get_normalized_data(connectivity_data, normalization = None):\n",
    "\n",
    "#     structure_ids = np.asarray(list(connectivity_data.structure_datas.keys()))\n",
    "#     for sid in structure_ids:\n",
    "#         if normalization == None:\n",
    "#             pass\n",
    "#         if normalization == 'injection':\n",
    "#             nc = np.sum(connectivity_data.structure_datas[sid].injections, axis = 1)\n",
    "#             connectivity_data.structure_datas[sid].projection_normed = connectivity_data.structure_datas[sid].projections / nc\n",
    "#         if normalization == 'total':\n",
    "#             nc = np.sum(conn_data[sid].projections, axis = 1)\n",
    "#             connectivity_data.structure_datas[sid].projection_normed = connectivity_data.structure_datas[sid].projections / nc\n",
    "\n",
    "#     return(connectivity_data)\n",
    "\n",
    "\n",
    "def compute_centroid(injection_density):\n",
    "    \"\"\"Computes centroid in index coordinates.\n",
    "\n",
    "    Parameters\n",
    "    ----------\n",
    "    injection_density : array, shape (x_ccf, y_ccf, z_ccf)\n",
    "        injection_density data volume.\n",
    "\n",
    "    Returns\n",
    "    -------\n",
    "        centroid of injection_density in index coordinates.\n",
    "    \"\"\"\n",
    "    nnz = injection_density.nonzero()\n",
    "    coords = np.vstack(nnz)\n",
    "\n",
    "    return np.dot(coords, injection_density[nnz]) / injection_density.sum()\n",
    "\n",
    "def get_cre_status(data_info, connectivity_data):\n",
    "    major_structure_ids = np.asarray(list(connectivity_data.structure_datas.keys()))\n",
    "    exps = np.asarray(data_info.index.values , dtype = np.int)\n",
    "    creline = {}\n",
    "    for sid in major_structure_ids:\n",
    "        experiment_ids = np.asarray(list(connectivity_data.structure_datas[sid].experiment_datas.keys()))\n",
    "        nexp = len(experiment_ids)\n",
    "        creline[sid] = np.zeros(nexp, dtype = object)\n",
    "        for i in range(len(experiment_ids)):\n",
    "            index = np.where(exps == experiment_ids[i])[0][0]\n",
    "            creline[sid][i] = data_info['transgenic-line'].iloc[index]\n",
    "    return(creline)\n",
    "\n",
    "def get_minorstructures(eids, data_info):\n",
    "    \n",
    "    experiments_minors = np.zeros(len(eids), dtype=object)\n",
    "\n",
    "    for i in range(len(eids)):\n",
    "        experiment_id = eids[i]\n",
    "        experiments_minors[i] = ai_map[data_info['primary-injection-structure'].loc[experiment_id]]\n",
    "    \n",
    "    return(experiments_minors)\n",
    "\n",
    "def get_summarystructures(connectivity_data, data_info):\n",
    "    summarystructure_dictionary = {}\n",
    "    major_structure_ids = np.asarray(list(connectivity_data.structure_datas.keys()))\n",
    "    for sid in major_structure_ids:\n",
    "        eids = np.asarray(list(connectivity_data.structure_datas[sid].experiment_datas.keys()))\n",
    "        connectivity_data.structure_datas[sid].summary_structures = get_minorstructures(eids, data_info)\n",
    "    return (connectivity_data)\n",
    "\n",
    "def get_leafs(connectivity_data, data_info,leafs):\n",
    "    summarystructure_dictionary = {}\n",
    "    major_structure_ids = np.asarray(list(connectivity_data.structure_datas.keys()))\n",
    "    for sid in major_structure_ids:\n",
    "        eids = np.asarray(list(connectivity_data.structure_datas[sid].experiment_datas.keys()))\n",
    "        connectivity_data.structure_datas[sid].leafs = leafs[sid]\n",
    "    return (connectivity_data)\n",
    "\n",
    "\n",
    "def screen_index_matrices4(eval_index_matrices, screen):\n",
    "\n",
    "    eval_index_matrices2 = eval_index_matrices.copy()\n",
    "    \n",
    "    #remove values only occuring once in screenset from eval_index_matrices\n",
    "    #shouldn't necessarily remove from model... they can still be used for other points.\n",
    "    nmodels = eval_index_matrices.shape[0]\n",
    "    #output = sceens\n",
    "    for m in range(nmodels):\n",
    "        #print(m)\n",
    "        eval_indices = np.where(eval_index_matrices[m] == 1)[0]\n",
    "        screen_occurences = np.asarray(Counter(screen[eval_indices]).most_common())\n",
    "        if len(screen_occurences)>1:\n",
    "            screens_eliminate = screen_occurences[:,0][np.where(np.asarray(screen_occurences[:,1], dtype = int) == 1)[0]]\n",
    "            eval_index_matrices2[m,eval_indices[np.where(np.isin(screen[eval_indices],screens_eliminate))[0]]] = 0\n",
    "    return(eval_index_matrices2)\n",
    "\n",
    "\n",
    "def get_nw_predictions(projections, dists, gamma):\n",
    "  \n",
    "     \n",
    "    projections = np.asarray(projections, dtype=np.float32)\n",
    "    neval = dists.shape[1]\n",
    "    #nexp = centroids.shape[0]\n",
    "    predictions = np.zeros((neval, projections.shape[1]))\n",
    "    predictions[:] = np.nan\n",
    "    \n",
    "    #print(model_index_val.shape, eval_index_val.shape)\n",
    "    #weights = np.exp(- dists / gamma)#np.exp(-dists[model_index_val] / gamma) #get_weights(centroids, gamma)\n",
    "    for i in range(neval):\n",
    "        #dists_i = dists[:,i] - np.min(dists[:,i])\n",
    "        #dists_i = dists[i,:] - np.min(dists[i,:])\n",
    "        weights_i = np.exp(- dists_i / gamma)\n",
    "        weights_i = np.asarray(weights_i, dtype=np.float32)\n",
    "        weights_i[np.isnan(weights_i)] = 0.\n",
    "        weights_i = weights_i / np.sum(weights_i)\n",
    "        predictions[i] = np.dot(weights_i, projections)\n",
    "        \n",
    "    return(predictions) \n",
    "\n",
    "\n",
    "def get_nwloocv_predictions_singlemodel_dists(projections, dists, gamma, model_indices, eval_indices):\n",
    "  \n",
    "    eval_index_val = np.where(eval_indices == 1)[0]\n",
    "    model_index_val = np.where(model_indices == 1)[0]\n",
    "    \n",
    "    projections = np.asarray(projections, dtype=np.float32)\n",
    "    \n",
    "    nmod_ind = len(model_index_val)\n",
    "    neval = len(eval_index_val)\n",
    "    #nexp = centroids.shape[0]\n",
    "    predictions = np.empty(projections.shape)\n",
    "\n",
    "    if len(model_index_val) > 0 and  len(eval_index_val) > 0:\n",
    "        #weights = np.exp(-dists[model_index_val][:, eval_index_val] / gamma)#np.exp(-dists[model_index_val] / gamma) #get_weights(centroids, gamma)\n",
    "        for i in range(neval):\n",
    "            matchindex = np.where(model_index_val == eval_index_val[i])[0]\n",
    "            otherindices = np.setdiff1d(np.asarray(list(range(nmod_ind))), matchindex)         \n",
    "            #this order of operations is the fastest I found\n",
    "            dists_i = dists[model_index_val][:, eval_index_val[i]] - np.min(dists[model_index_val[otherindices]][:, eval_index_val[i]])\n",
    "            weights_i = np.exp(-dists_i * gamma)#weights[i,:] / np.nansum(weights[i,:][otherindices])\n",
    "            #print(np.nansum(weights[:,i][otherindices]))\n",
    "            weights_i[matchindex] = 0\n",
    "            weights_i = np.asarray(weights_i, dtype=np.float32)\n",
    "            weights_i = weights_i / np.sum(weights_i)\n",
    "            #weights_i[np.isnan(weights_i)] = 0.\n",
    "            pred = np.dot(weights_i, projections[model_index_val])\n",
    "            predictions[eval_index_val[i]] = pred\n",
    "        \n",
    "    return(predictions) \n",
    "\n",
    "def get_nwloocv_predictions_multimodel_merge_dists(projections, dists, gammas, model_index_matrix, eval_index_matrix):\n",
    "    \n",
    "    predictions_unmerged = get_nwloocv_predictions_multimodel_dists(projections, dists, gammas, model_index_matrix, eval_index_matrix)\n",
    "    print(predictions_unmerged.shape)\n",
    "    predictions_merged = combine_predictions(predictions_unmerged, eval_index_matrix)\n",
    "    \n",
    "    return(predictions_merged)\n",
    "    \n",
    "    \n",
    "def get_nwloocv_predictions_multimodel_dists(projections, dists, gammas, model_index_matrix, eval_index_matrix):\n",
    "    \n",
    "    ntargets = projections.shape[1]\n",
    "    nexp = projections.shape[0]\n",
    "    nmodels = model_index_matrix.shape[0]\n",
    "    ngammas = len(gammas)\n",
    "    \n",
    "    projections = np.asarray(projections, dtype=np.float32)\n",
    "    predictions = np.empty((nmodels, ngammas, nexp, ntargets))\n",
    "    \n",
    "    \n",
    "    for m in range(nmodels):\n",
    "        #print('m', m, len(np.where(model_index_matrix[m] ==1)[0]))\n",
    "        predictions[m] = np.asarray([get_nwloocv_predictions_singlemodel_dists(projections, dists, gammas[g], model_index_matrix[m], eval_index_matrix[m]) for g in range(ngammas)])\n",
    "    \n",
    "    return(predictions)  \n",
    "\n",
    "def get_cre_distances(projections, means_cast, sids, cres):\n",
    "    nsamp = cres.shape[0]\n",
    "    credist = np.empty((nsamp,nsamp))\n",
    "    credist[:] = np.nan\n",
    "    for i in range(nsamp):\n",
    "        print(i)\n",
    "        meani = means_cast[sids[i]][cres[i]]#means_cast.loc[tuple([cres[i], sids[i]])]\n",
    "        for j in range(nsamp):\n",
    "            meanj = means_cast[sids[j]][cres[j]]\n",
    "            if sids[j] == sids[i]:\n",
    "                credist[i,j]  = np.linalg.norm(meani - meanj)#**2\n",
    "    return(credist)\n",
    "def get_loss_surface_cv(projections, centroids, cres, sids,fraction, gamma = 100000):\n",
    "    means_cast = get_means(projections, cres, sids)\n",
    "    cre_distances_cv = get_cre_distances_cv(projections, means_cast, sids, cres)\n",
    "    surface = get_surface_from_distances(projections,centroids,cre_distances_cv, fraction, gamma)\n",
    "    surface.cre_distances_cv = cre_distances_cv\n",
    "    return(surface)\n",
    "\n",
    "# def get_cre_distances_cv(proj, means_cast, sids,cres):\n",
    "#     nsamp = cres.shape[0]\n",
    "#     credist = np.empty((nsamp,nsamp))\n",
    "#     credist[:] = np.nan\n",
    "#     for i in range(nsamp):\n",
    "#         print(i)\n",
    "#         meani = meani = means_cast[sids[i]][cres[i]]\n",
    "#         ls = np.where(leafs[sid] == leafs[sid][i])[0]\n",
    "#         crs = np.where(cres == cres[i])[0]\n",
    "#         ncr = len(np.intersect1d(ls, crs))\n",
    "        \n",
    "#         meanloocvi = meani\n",
    "#         if ncr > 1:\n",
    "#             meanloocvi = (ncr * meani ) / (ncr - 1) -   (1/ ncr)* proj[i] #results[reg[i]][tuple([cs[reg_cre_ind[j],1], cs[reg_cre_ind[k],1]])]\n",
    "#         else:\n",
    "#             meanloocvi = np.zeros(proj[i].shape[0])\n",
    "#             meanloocvi[:] = np.nan\n",
    "            \n",
    "#         for j in range(nsamp):\n",
    "#             meanj = means_cast[sids[j]][cres[j]]\n",
    "#             if sids[j] == sids[i]:\n",
    "#                 credist[i,j]  = np.linalg.norm(meanloocvi - meanj)\n",
    "\n",
    "#     return(credist)\n",
    "\n",
    "def get_cre_distances_cv(proj, means_cast, sids,cres):\n",
    "    nsamp = cres.shape[0]\n",
    "    credist = np.empty((nsamp,nsamp))\n",
    "    credist[:] = np.nan\n",
    "    for i in range(nsamp):\n",
    "        print(i)\n",
    "        meani = meani = means_cast[sids[i]][cres[i]]\n",
    "        ls = np.where(leafs[sid] == leafs[sid][i])[0]\n",
    "        crs = np.where(cres == cres[i])[0]\n",
    "        ncr = len(np.intersect1d(ls, crs))\n",
    "        \n",
    "        meanloocvi = meani\n",
    "        if ncr > 1:\n",
    "            meanloocvi = (ncr * meani ) / (ncr - 1) -   (1/ ncr)* proj[i] #results[reg[i]][tuple([cs[reg_cre_ind[j],1], cs[reg_cre_ind[k],1]])]\n",
    "        else:\n",
    "            meanloocvi = np.zeros(proj[i].shape[0])\n",
    "            meanloocvi[:] = np.nan\n",
    "            \n",
    "        for j in range(nsamp):\n",
    "            meanj = means_cast[sids[j]][cres[j]]\n",
    "            if sids[j] == sids[i]:\n",
    "                credist[j,i]  = np.linalg.norm(meanloocvi - meanj)\n",
    "\n",
    "    return(credist)\n",
    "def get_means(projections, cres, sids):\n",
    "    cre_means = {}\n",
    "    cre_types = np.unique(cres)\n",
    "    sid_types = np.unique(sids)\n",
    "    for i in range(len(sid_types)):\n",
    "        cre_means[sid_types[i]] = {}\n",
    "        sid_inds = np.where(sids == sid_types[i])[0]\n",
    "        for j in range(len(cre_types)): \n",
    "            cre_inds = np.where(cres == cre_types[j])[0]\n",
    "            cre_means[sid_types[i]][cre_types[j]] = np.mean(projections[np.intersect1d(sid_inds, cre_inds)], axis = 0 )\n",
    "    return(cre_means)\n",
    "\n",
    "def get_surface_from_distances(projections,centroids,cre_distances, fraction, gamma = 100000):\n",
    "    \n",
    "    nsamp = centroids.shape[0]\n",
    "    pairs = np.asarray(np.where(~np.isnan(cre_distances))).transpose() #not all cres will have distances, e.g. if not in same leaf\n",
    "    ngp = pairs.shape[0]\n",
    "    \n",
    "    coordinates = np.zeros((ngp,2))\n",
    "    projection_distances = np.zeros((ngp,1))\n",
    "    for i in range(ngp):\n",
    "        coordinates[i,0] = np.linalg.norm(centroids[pairs[i][0]] - centroids[pairs[i][1]])**2\n",
    "        coordinates[i,1] = cre_distances[pairs[i][0]][pairs[i][1]]\n",
    "        projection_distances[i] = np.linalg.norm(projections[pairs[i][0]] - projections[pairs[i][1]])**2\n",
    "    coordinates_normed = coordinates / np.linalg.norm(coordinates, axis = 0)#**2\n",
    "\n",
    "    surface = NadarayaWatson(kernel='rbf',  gamma  = gamma)\n",
    "    randos = random.sample(list(range(ngp)), math.floor(ngp * fraction))\n",
    "    surface.fit(coordinates_normed[randos], projection_distances[randos])\n",
    "    surface.coordinates_normed = coordinates_normed\n",
    "    surface.norms = np.linalg.norm(coordinates, axis = 0)\n",
    "    return(surface)\n",
    "\n",
    "def get_loss_surface(projections, centroids, cres, sids,fraction, gamma = 100000):\n",
    "    means_cast = get_means(projections, cres, sids)\n",
    "    cre_distances = get_cre_distances(projections, means_cast, sids, cres)\n",
    "    surface = get_surface_from_distances(projections,centroids,cre_distances, fraction, gamma)\n",
    "    return(surface)\n",
    "\n",
    "def plot_loss_surface(surface):\n",
    "    xs = np.linspace(0, surface.coordinates_normed[:,0].max(), 100)\n",
    "    ys = np.linspace(0, surface.coordinates_normed[:,1].max(), 100)\n",
    "    preds = np.empty((100,100))\n",
    "    for x in range(100):\n",
    "        for y in range(100):\n",
    "            preds[x,y] = surface.predict(np.asarray([[xs[x], ys[y]]]))#asdf.predict(np.asarray([[xs[x], ys[y]]])) #qqq.predict(np.asarray([[xs[x], ys[y]]]))\n",
    "\n",
    "    mxy = np.asarray(np.meshgrid(xs,ys)).transpose()\n",
    "\n",
    "    #%matplotlib inline\n",
    "    fig = plt.figure()\n",
    "    ax = Axes3D(fig)\n",
    "\n",
    "    ax.scatter(mxy[:,:,0], \n",
    "               mxy[:,:,1], \n",
    "               preds, s= .1)\n",
    "\n",
    "    #ax.set_axis_off()\n",
    "    ax.set_xlabel('Centroid distance', fontsize=20, rotation=150)\n",
    "    ax.set_ylabel('Cre-distance', fontsize=20, rotation=150)\n",
    "    ax.set_zlabel('Projection distance predicted', fontsize=20, rotation=150)  \n",
    "    \n",
    "def get_embedding_cv(surface, dists, cre_distances_cv):\n",
    "    \n",
    "    ntrain = dists.shape[0]\n",
    "    norms = surface.norms\n",
    "    leaf_pairs = np.asarray(np.where(~np.isnan(cre_distances_cv))).transpose()\n",
    "    nlp = leaf_pairs.shape[0]\n",
    "    \n",
    "    losses = np.zeros((ntrain, ntrain))\n",
    "    for i in range(nlp):\n",
    "        d_ij = dists[leaf_pairs[i][0]][leaf_pairs[i][1]] / norms[0]\n",
    "        p_ij = cre_distances_cv[leaf_pairs[i][0]][leaf_pairs[i][1]] / norms[1]\n",
    "        losses[leaf_pairs[i][0]][leaf_pairs[i][1]] = surface.predict(np.asarray([[d_ij, p_ij]]))\n",
    "      \n",
    "    losses[np.where(losses == 0)] = np.nan\n",
    "    \n",
    "    return(losses)"
   ]
  },
  {
   "cell_type": "code",
   "execution_count": 233,
   "metadata": {
    "collapsed": true
   },
   "outputs": [],
   "source": []
  },
  {
   "cell_type": "code",
   "execution_count": 262,
   "metadata": {
    "collapsed": true
   },
   "outputs": [],
   "source": []
  },
  {
   "cell_type": "code",
   "execution_count": null,
   "metadata": {
    "collapsed": true
   },
   "outputs": [],
   "source": []
  },
  {
   "cell_type": "code",
   "execution_count": 7,
   "metadata": {},
   "outputs": [
    {
     "name": "stdout",
     "output_type": "stream",
     "text": [
      "315\n"
     ]
    }
   ],
   "source": [
    "connectivity_data = get_connectivity_data(cache, major_structure_ids[4:5], experiments_exclude, remove_injection = False)\n",
    "connectivity_data.get_injection_hemisphere_ids()\n",
    "connectivity_data.align()\n",
    "connectivity_data.get_centroids()\n",
    "connectivity_data = get_data_matrices(connectivity_data)\n",
    "\n",
    "creline = get_cre_status(data_info, connectivity_data)\n",
    "with open('data/info/leafs.pickle', 'rb') as handle:\n",
    "    leafs = pickle.load(handle)\n",
    "    \n",
    "connectivity_data = get_summarystructures(connectivity_data, data_info)\n",
    "connectivity_data = get_leafs(connectivity_data, data_info,leafs)"
   ]
  },
  {
   "cell_type": "code",
   "execution_count": 10,
   "metadata": {
    "collapsed": true
   },
   "outputs": [],
   "source": [
    "#major division segregation is legacy code but convenient for fast cross validation in major division model\n",
    "#experiments_minor_structures = get_summarystructure_dictionary(connectivity_data, data_info)\n",
    "#get leaves in ontological order.  Where leafs don't exist, uses summary structure\n",
    "ontological_order_leaves = get_leaves_ontologicalorder(connectivity_data, ontological_order)\n",
    "#Key isn't affected by which experiment we choose. This allows default masking to be inherited from the AllenSDK.\n",
    "sid0 = list(connectivity_data.structure_datas.keys())[0]\n",
    "eid0 = list(connectivity_data.structure_datas[sid0].experiment_datas.keys())[0]\n",
    "#Identify keys denoting which voxels correspond to which structure in the ipsi and contra targets.\n",
    "#contra_targetkey = msvd.experiments[list(msvd.experiments.keys())[0]].projection_mask.get_key(structure_ids=ontological_order_leaves, hemisphere_id=1)\n",
    "#ipsi_targetkey = msvd.experiments[list(msvd.experiments.keys())[0]].projection_mask.get_key(structure_ids=ontological_order_leaves, hemisphere_id=2)\n",
    "contra_targetkey = connectivity_data.structure_datas[sid0].projection_mask.get_key(structure_ids=ontological_order, hemisphere_id=1)\n",
    "ipsi_targetkey = connectivity_data.structure_datas[sid0].projection_mask.get_key(structure_ids=ontological_order, hemisphere_id=2)\n",
    "#get average intensities of projection structures given ipsi and contra keys\n",
    "#source_key = ontological_order #only relevant here when injection needs to be unionized, but currently a required argument\n",
    "ipsi_target_regions, ipsi_target_counts = nonzero_unique(ipsi_targetkey, return_counts=True)\n",
    "contra_target_regions, contra_target_counts = nonzero_unique(contra_targetkey, return_counts=True)\n",
    "\n",
    "target_order = lambda x: np.array(ontological_order)[np.isin(ontological_order, x)]\n",
    "permutation = lambda x: np.argsort(np.argsort(target_order(x)))\n",
    "targ_ids = np.concatenate([ipsi_target_regions[permutation(ipsi_target_regions)],\n",
    "                           contra_target_regions[permutation(contra_target_regions)]])\n"
   ]
  },
  {
   "cell_type": "code",
   "execution_count": 11,
   "metadata": {
    "collapsed": true
   },
   "outputs": [],
   "source": [
    "connectivity_data = get_regionalized_normalized_data(connectivity_data, cache, ontological_order, ipsi_targetkey, contra_targetkey)"
   ]
  },
  {
   "cell_type": "code",
   "execution_count": 12,
   "metadata": {
    "collapsed": true
   },
   "outputs": [],
   "source": [
    "indices_leaf = {}\n",
    "indices_wtinleaf = {}\n",
    "indices_wtleaf = {}\n",
    "indices_summary = {}\n",
    "indices_summaryinleaf = {}\n",
    "indices_major = {}\n",
    "indices_majorinleaf = {}\n",
    "indices_leaf2ormore = {}\n",
    "indices_wtinleaf2ormore = {}\n",
    "indices_leaf_reduced = {}\n",
    "indices_wtinleaf_reduced = {}\n",
    "indices_wt_leaf2ormore = {}\n",
    "indices_leaf2ormore_wt = {}\n",
    "indices_wt1ormore_leaf2ormore = {}\n",
    "indices_leaf2ormore_wt1ormore = {}\n",
    "indices_creleaf = {}\n",
    "indices_creleaf2ormore = {}\n",
    "creleafs = {}\n",
    "creleafs_merged = {}\n",
    "for sid in major_structure_ids[4:5]:\n",
    "    \n",
    "    #wt_leaf on leaf\n",
    "\n",
    "    #get the indices of experiments sharing leafs (nmodels is number of leafs)\n",
    "    indices_leaf[sid] = get_indices(leafs[sid]) #eval_indices\n",
    "    #indices_creleaf = get_indices(leafs[sid])\n",
    "    \n",
    "    #get the indices of the wts in the leaf (nmodels is number of leafs)\n",
    "    indices_wtinleaf[sid] = get_indices2(creline[sid], np.asarray(['C57BL/6J']),leafs[sid]) #model_indices\n",
    "    \n",
    "    #get indices of experiments sharing summary structure x cre combination (nmodel is number of cre x leaf combinations)\n",
    "    #indices_wtleaf[sid] = get_indices(creleafs_merged[sid])\n",
    "    \n",
    "    #get indices of experiments sharing summary structure(nmodel is number of summary structures)\n",
    "    #indices_summary[sid] = get_indices(experiments_minor_structures[sid])\n",
    "    \n",
    "    #get indices of experiments sharing major structure(nmodel is number of summary structures)\n",
    "    #indices_major[sid] = np.ones((1,experiments_minor_structures[sid].shape[0]))\n",
    "    \n",
    "    #get indices of experiments sharing same major structure as a leaf (nmodel is number of leafs)\n",
    "    #indices_majorinleaf[sid] = np.ones((len(np.unique(leafs[sid])),experiments_minor_structures[sid].shape[0]))#get_indices2(np.ones(len(leafs[sid])), np.asarray([1]),leafs[sid]) #model_indices\n",
    "    \n",
    "    #get indices of experiments in same summary structure as a leaf (nmodel is number of leafs)\n",
    "    #indices_summaryinleaf[sid] = get_indices_summaryinleaf(experiments_minor_structures[sid], leafs[sid])\n",
    "    \n",
    "    #evaluate models on leafs\n",
    "    indices_leaf2ormore[sid] = screen_index_matrices(indices_leaf[sid], indices_leaf[sid])\n",
    "    \n",
    "    indices_wt1ormore_leaf2ormore[sid], indices_leaf2ormore_wt1ormore[sid] = screen_index_matrices3(indices_wtinleaf[sid], indices_leaf2ormore[sid])\n",
    "    \n",
    "    indices_wtinleaf2ormore[sid] = screen_index_matrices(indices_wtinleaf[sid], indices_wtinleaf[sid])\n",
    "    indices_leaf_reduced[sid], indices_wtinleaf_reduced[sid]  = screen_index_matrices2( indices_leaf2ormore[sid],indices_wtinleaf[sid])\n",
    "\n",
    "    creleafs[sid] = np.asarray(np.vstack([leafs[sid], creline[sid]]), dtype = str).transpose()\n",
    "    creleafs_merged[sid] = [creleafs[sid][:,0][i]  + creleafs[sid][:,1][i] for i in range(creleafs[sid].shape[0])]\n",
    "\n",
    "    indices_creleaf[sid] = get_indices(np.asarray(creleafs_merged[sid]))\n",
    "    indices_creleaf2ormore[sid] = screen_index_matrices(indices_creleaf[sid], indices_creleaf[sid])\n",
    "\n",
    "eval_indices_creleaf2ormore = get_eval_indices(indices_creleaf2ormore)"
   ]
  },
  {
   "cell_type": "code",
   "execution_count": 296,
   "metadata": {},
   "outputs": [
    {
     "name": "stderr",
     "output_type": "stream",
     "text": [
      "/Users/samsonkoelle/anaconda3/envs/allen_010719_5/lib/python3.7/site-packages/numpy/core/fromnumeric.py:3335: RuntimeWarning: Mean of empty slice.\n",
      "  out=out, **kwargs)\n",
      "/Users/samsonkoelle/anaconda3/envs/allen_010719_5/lib/python3.7/site-packages/numpy/core/_methods.py:154: RuntimeWarning: invalid value encountered in true_divide\n",
      "  ret, rcount, out=ret, casting='unsafe', subok=False)\n"
     ]
    },
    {
     "name": "stdout",
     "output_type": "stream",
     "text": [
      "0\n",
      "1\n",
      "2\n",
      "3\n",
      "4\n",
      "5\n",
      "6\n",
      "7\n",
      "8\n",
      "9\n",
      "10\n",
      "11\n",
      "12\n",
      "13\n",
      "14\n",
      "15\n",
      "16\n",
      "17\n",
      "18\n",
      "19\n",
      "20\n",
      "21\n",
      "22\n",
      "23\n",
      "24\n",
      "25\n",
      "26\n",
      "27\n",
      "28\n",
      "29\n",
      "30\n",
      "31\n",
      "32\n",
      "33\n",
      "34\n",
      "35\n",
      "36\n",
      "37\n",
      "38\n",
      "39\n",
      "40\n",
      "41\n",
      "42\n",
      "43\n",
      "44\n",
      "45\n",
      "46\n",
      "47\n",
      "48\n",
      "49\n",
      "50\n",
      "51\n",
      "52\n",
      "53\n",
      "54\n",
      "55\n",
      "56\n",
      "57\n",
      "58\n",
      "59\n",
      "60\n",
      "61\n",
      "62\n",
      "63\n",
      "64\n",
      "65\n",
      "66\n",
      "67\n",
      "68\n",
      "69\n",
      "70\n",
      "71\n",
      "72\n",
      "73\n",
      "74\n",
      "75\n",
      "76\n",
      "77\n",
      "78\n",
      "79\n",
      "80\n",
      "81\n",
      "82\n",
      "83\n",
      "84\n",
      "85\n",
      "86\n",
      "87\n",
      "88\n",
      "89\n",
      "90\n",
      "91\n",
      "92\n",
      "93\n",
      "94\n",
      "95\n",
      "96\n",
      "97\n",
      "98\n",
      "99\n",
      "100\n",
      "101\n",
      "102\n",
      "103\n",
      "104\n",
      "105\n",
      "106\n",
      "107\n",
      "108\n",
      "109\n",
      "110\n",
      "111\n",
      "112\n",
      "113\n",
      "114\n",
      "115\n",
      "116\n",
      "117\n",
      "118\n",
      "119\n",
      "120\n",
      "121\n",
      "122\n",
      "123\n",
      "124\n",
      "125\n",
      "126\n",
      "127\n",
      "128\n",
      "129\n",
      "130\n",
      "131\n",
      "132\n",
      "133\n",
      "134\n",
      "135\n",
      "136\n",
      "137\n",
      "138\n",
      "139\n",
      "140\n",
      "141\n",
      "142\n",
      "143\n",
      "144\n",
      "145\n",
      "146\n",
      "147\n",
      "148\n",
      "149\n",
      "150\n",
      "151\n",
      "152\n",
      "153\n",
      "154\n",
      "155\n",
      "156\n",
      "157\n",
      "158\n",
      "159\n",
      "160\n",
      "161\n",
      "162\n",
      "163\n",
      "164\n",
      "165\n",
      "166\n",
      "167\n",
      "168\n",
      "169\n",
      "170\n",
      "171\n",
      "172\n",
      "173\n",
      "174\n",
      "175\n",
      "176\n",
      "177\n",
      "178\n",
      "179\n",
      "180\n",
      "181\n",
      "182\n",
      "183\n",
      "184\n",
      "185\n",
      "186\n",
      "187\n",
      "188\n",
      "189\n",
      "190\n",
      "191\n",
      "192\n",
      "193\n",
      "194\n",
      "195\n",
      "196\n",
      "197\n",
      "198\n",
      "199\n",
      "200\n",
      "201\n",
      "202\n",
      "203\n",
      "204\n",
      "205\n",
      "206\n",
      "207\n",
      "208\n",
      "209\n",
      "210\n",
      "211\n",
      "212\n",
      "213\n",
      "214\n",
      "215\n",
      "216\n",
      "217\n",
      "218\n",
      "219\n",
      "220\n",
      "221\n",
      "222\n",
      "223\n",
      "224\n",
      "225\n",
      "226\n",
      "227\n",
      "228\n",
      "229\n",
      "230\n",
      "231\n",
      "232\n",
      "233\n",
      "234\n",
      "235\n",
      "236\n",
      "237\n",
      "238\n",
      "239\n",
      "240\n",
      "241\n",
      "242\n",
      "243\n",
      "244\n",
      "245\n",
      "246\n",
      "247\n",
      "248\n",
      "249\n",
      "250\n",
      "251\n",
      "252\n",
      "253\n",
      "254\n",
      "255\n",
      "256\n",
      "257\n",
      "258\n",
      "259\n",
      "260\n",
      "261\n",
      "262\n",
      "263\n",
      "264\n",
      "265\n",
      "266\n",
      "267\n",
      "268\n",
      "269\n",
      "270\n",
      "271\n",
      "272\n",
      "273\n",
      "274\n",
      "275\n",
      "276\n",
      "277\n",
      "278\n",
      "279\n",
      "280\n",
      "281\n",
      "282\n",
      "283\n",
      "284\n",
      "285\n",
      "286\n",
      "287\n",
      "288\n",
      "289\n",
      "290\n",
      "291\n",
      "292\n",
      "293\n",
      "294\n",
      "295\n",
      "296\n",
      "297\n",
      "298\n",
      "299\n",
      "300\n",
      "301\n",
      "302\n",
      "303\n",
      "304\n",
      "305\n",
      "306\n",
      "307\n",
      "308\n",
      "309\n",
      "310\n",
      "311\n",
      "312\n",
      "313\n",
      "314\n",
      "315\n",
      "316\n",
      "317\n",
      "318\n",
      "319\n",
      "320\n",
      "321\n",
      "322\n",
      "323\n",
      "324\n",
      "325\n",
      "326\n",
      "327\n",
      "328\n",
      "329\n",
      "330\n",
      "331\n",
      "332\n",
      "333\n",
      "334\n",
      "335\n",
      "336\n",
      "337\n",
      "338\n",
      "339\n",
      "340\n",
      "341\n",
      "342\n",
      "343\n",
      "344\n",
      "345\n",
      "346\n",
      "347\n",
      "348\n",
      "349\n",
      "350\n",
      "351\n",
      "352\n",
      "353\n",
      "354\n",
      "355\n",
      "356\n",
      "357\n",
      "358\n",
      "359\n",
      "360\n",
      "361\n",
      "362\n",
      "363\n",
      "364\n",
      "365\n",
      "366\n",
      "367\n",
      "368\n",
      "369\n",
      "370\n",
      "371\n",
      "372\n",
      "373\n",
      "374\n",
      "375\n",
      "376\n",
      "377\n",
      "378\n",
      "379\n",
      "380\n",
      "381\n",
      "382\n",
      "383\n",
      "384\n",
      "385\n",
      "386\n",
      "387\n",
      "388\n",
      "389\n",
      "390\n",
      "391\n",
      "392\n",
      "393\n",
      "394\n",
      "395\n",
      "396\n",
      "397\n",
      "398\n",
      "399\n",
      "400\n",
      "401\n",
      "402\n",
      "403\n",
      "404\n",
      "405\n",
      "406\n",
      "407\n",
      "408\n",
      "409\n",
      "410\n",
      "411\n",
      "412\n",
      "413\n",
      "414\n",
      "415\n",
      "416\n",
      "417\n",
      "418\n",
      "419\n",
      "420\n",
      "421\n",
      "422\n",
      "423\n",
      "424\n",
      "425\n",
      "426\n",
      "427\n",
      "428\n",
      "429\n",
      "430\n",
      "431\n",
      "432\n",
      "433\n",
      "434\n",
      "435\n",
      "436\n",
      "437\n",
      "438\n",
      "439\n",
      "440\n",
      "441\n",
      "442\n",
      "443\n",
      "444\n",
      "445\n",
      "446\n",
      "447\n",
      "448\n",
      "449\n",
      "450\n",
      "451\n",
      "452\n",
      "453\n",
      "454\n",
      "455\n",
      "456\n",
      "457\n",
      "458\n",
      "459\n",
      "460\n",
      "461\n",
      "462\n",
      "463\n",
      "464\n",
      "465\n",
      "466\n",
      "467\n",
      "468\n",
      "469\n",
      "470\n",
      "471\n",
      "472\n",
      "473\n",
      "474\n",
      "475\n",
      "476\n",
      "477\n",
      "478\n",
      "479\n",
      "480\n",
      "481\n",
      "482\n",
      "483\n",
      "484\n",
      "485\n",
      "486\n",
      "487\n",
      "488\n",
      "489\n",
      "490\n",
      "491\n",
      "492\n",
      "493\n",
      "494\n",
      "495\n",
      "496\n",
      "497\n",
      "498\n",
      "499\n",
      "500\n",
      "501\n",
      "502\n",
      "503\n",
      "504\n",
      "505\n",
      "506\n",
      "507\n",
      "508\n",
      "509\n",
      "510\n",
      "511\n",
      "512\n",
      "513\n",
      "514\n",
      "515\n",
      "516\n",
      "517\n",
      "518\n",
      "519\n",
      "520\n",
      "521\n",
      "522\n",
      "523\n",
      "524\n",
      "525\n",
      "526\n",
      "527\n",
      "528\n",
      "529\n",
      "530\n",
      "531\n",
      "532\n",
      "533\n",
      "534\n",
      "535\n",
      "536\n",
      "537\n",
      "538\n",
      "539\n",
      "540\n",
      "541\n",
      "542\n",
      "543\n",
      "544\n",
      "545\n",
      "546\n",
      "547\n",
      "548\n",
      "549\n",
      "550\n",
      "551\n",
      "552\n",
      "553\n",
      "554\n",
      "555\n",
      "556\n",
      "557\n",
      "558\n",
      "559\n",
      "560\n",
      "561\n",
      "562\n",
      "563\n",
      "564\n",
      "565\n",
      "566\n",
      "567\n",
      "568\n",
      "569\n",
      "570\n",
      "571\n",
      "572\n",
      "573\n",
      "574\n",
      "575\n",
      "576\n",
      "577\n",
      "578\n",
      "579\n",
      "580\n",
      "581\n",
      "582\n",
      "583\n",
      "584\n",
      "585\n",
      "586\n",
      "587\n",
      "588\n",
      "589\n",
      "590\n",
      "591\n",
      "592\n",
      "593\n",
      "594\n",
      "595\n",
      "596\n",
      "597\n",
      "598\n",
      "599\n",
      "600\n",
      "601\n",
      "602\n",
      "603\n",
      "604\n",
      "605\n",
      "606\n",
      "607\n",
      "608\n",
      "609\n",
      "610\n",
      "611\n",
      "612\n",
      "613\n",
      "614\n",
      "615\n",
      "616\n",
      "617\n",
      "618\n",
      "619\n",
      "620\n",
      "621\n",
      "622\n",
      "623\n",
      "624\n",
      "625\n",
      "626\n",
      "627\n",
      "628\n",
      "629\n",
      "630\n",
      "631\n",
      "632\n",
      "633\n",
      "634\n",
      "635\n",
      "636\n",
      "637\n",
      "638\n",
      "639\n",
      "640\n",
      "641\n",
      "642\n",
      "643\n",
      "644\n",
      "645\n",
      "646\n",
      "647\n",
      "648\n",
      "649\n",
      "650\n",
      "651\n",
      "652\n",
      "653\n",
      "654\n",
      "655\n",
      "656\n",
      "657\n",
      "658\n",
      "659\n",
      "660\n",
      "661\n",
      "662\n",
      "663\n",
      "664\n",
      "665\n",
      "666\n",
      "667\n",
      "668\n",
      "669\n",
      "670\n",
      "671\n",
      "672\n",
      "673\n",
      "674\n",
      "675\n",
      "676\n",
      "677\n",
      "678\n",
      "679\n",
      "680\n",
      "681\n",
      "682\n",
      "683\n",
      "684\n",
      "685\n",
      "686\n",
      "687\n",
      "688\n",
      "689\n",
      "690\n",
      "691\n",
      "692\n",
      "693\n",
      "694\n",
      "695\n",
      "696\n",
      "697\n",
      "698\n",
      "699\n",
      "700\n",
      "701\n",
      "702\n",
      "703\n",
      "704\n",
      "705\n",
      "706\n",
      "707\n",
      "708\n",
      "709\n",
      "710\n",
      "711\n",
      "712\n",
      "713\n",
      "714\n",
      "715\n",
      "716\n",
      "717\n",
      "718\n",
      "719\n",
      "720\n",
      "721\n",
      "722\n",
      "723\n",
      "724\n",
      "725\n",
      "726\n",
      "727\n",
      "728\n",
      "729\n",
      "730\n",
      "731\n",
      "732\n",
      "733\n",
      "734\n",
      "735\n",
      "736\n",
      "737\n",
      "738\n",
      "739\n",
      "740\n",
      "741\n",
      "742\n",
      "743\n",
      "744\n",
      "745\n",
      "746\n",
      "747\n",
      "748\n",
      "749\n",
      "750\n",
      "751\n",
      "752\n",
      "753\n",
      "754\n",
      "755\n",
      "756\n",
      "757\n",
      "758\n",
      "759\n",
      "760\n",
      "761\n",
      "762\n",
      "763\n",
      "764\n",
      "765\n",
      "766\n",
      "767\n",
      "768\n",
      "769\n",
      "770\n",
      "771\n",
      "772\n",
      "773\n",
      "774\n",
      "775\n",
      "776\n",
      "777\n",
      "778\n",
      "779\n",
      "780\n",
      "781\n",
      "782\n",
      "783\n",
      "784\n",
      "785\n",
      "786\n",
      "787\n",
      "788\n",
      "789\n",
      "790\n",
      "791\n",
      "792\n",
      "793\n",
      "794\n",
      "795\n",
      "796\n",
      "797\n",
      "798\n",
      "799\n",
      "800\n",
      "801\n",
      "802\n",
      "803\n",
      "804\n",
      "805\n",
      "806\n",
      "807\n",
      "808\n",
      "809\n",
      "810\n",
      "811\n",
      "812\n",
      "813\n",
      "814\n",
      "815\n",
      "816\n",
      "817\n",
      "818\n",
      "819\n",
      "820\n",
      "821\n",
      "822\n",
      "823\n",
      "824\n",
      "825\n",
      "826\n",
      "827\n",
      "828\n",
      "829\n",
      "830\n",
      "831\n",
      "832\n",
      "833\n",
      "834\n",
      "835\n",
      "836\n",
      "837\n",
      "838\n",
      "839\n",
      "840\n",
      "841\n",
      "842\n",
      "843\n",
      "844\n",
      "845\n",
      "846\n",
      "847\n",
      "848\n",
      "849\n",
      "850\n",
      "851\n",
      "852\n",
      "853\n",
      "854\n",
      "855\n",
      "856\n",
      "857\n",
      "858\n",
      "859\n",
      "860\n",
      "861\n",
      "862\n",
      "863\n",
      "864\n",
      "865\n",
      "866\n",
      "867\n",
      "868\n",
      "869\n",
      "870\n",
      "871\n",
      "872\n",
      "873\n",
      "874\n",
      "875\n",
      "876\n",
      "877\n",
      "878\n",
      "879\n",
      "880\n",
      "881\n",
      "882\n",
      "883\n",
      "884\n",
      "885\n",
      "886\n",
      "887\n",
      "888\n",
      "889\n",
      "890\n",
      "891\n",
      "892\n",
      "893\n",
      "894\n",
      "895\n",
      "896\n",
      "897\n",
      "898\n",
      "899\n",
      "900\n",
      "901\n",
      "902\n",
      "903\n",
      "904\n",
      "905\n",
      "906\n",
      "907\n",
      "908\n",
      "909\n",
      "910\n",
      "911\n",
      "912\n",
      "913\n",
      "914\n",
      "915\n",
      "916\n",
      "917\n",
      "918\n",
      "919\n",
      "920\n",
      "921\n",
      "922\n",
      "923\n",
      "924\n",
      "925\n",
      "926\n",
      "927\n",
      "928\n",
      "929\n",
      "930\n",
      "931\n",
      "932\n",
      "933\n",
      "934\n",
      "935\n",
      "936\n",
      "937\n",
      "938\n",
      "939\n",
      "940\n",
      "941\n",
      "942\n",
      "943\n",
      "944\n",
      "945\n",
      "946\n",
      "947\n",
      "948\n",
      "949\n",
      "950\n",
      "951\n",
      "952\n",
      "953\n",
      "954\n",
      "955\n",
      "956\n",
      "957\n",
      "958\n",
      "959\n",
      "960\n",
      "961\n",
      "962\n",
      "963\n",
      "964\n",
      "965\n",
      "966\n",
      "967\n",
      "968\n",
      "969\n",
      "970\n",
      "971\n",
      "972\n",
      "973\n",
      "974\n",
      "975\n",
      "976\n",
      "977\n",
      "978\n",
      "979\n",
      "980\n",
      "981\n",
      "982\n",
      "983\n",
      "984\n",
      "985\n",
      "986\n",
      "987\n",
      "988\n",
      "989\n",
      "990\n",
      "991\n",
      "992\n",
      "993\n",
      "994\n",
      "995\n",
      "996\n",
      "997\n",
      "998\n",
      "999\n",
      "1000\n",
      "1001\n",
      "1002\n",
      "1003\n",
      "1004\n",
      "1005\n",
      "1006\n",
      "1007\n",
      "1008\n",
      "1009\n",
      "1010\n",
      "1011\n",
      "1012\n",
      "1013\n",
      "1014\n",
      "1015\n",
      "1016\n",
      "1017\n",
      "1018\n",
      "1019\n",
      "1020\n",
      "1021\n",
      "1022\n",
      "1023\n",
      "1024\n",
      "1025\n",
      "1026\n",
      "1027\n",
      "1028\n",
      "1029\n",
      "1030\n",
      "1031\n",
      "1032\n",
      "1033\n",
      "1034\n",
      "1035\n",
      "1036\n",
      "1037\n",
      "1038\n",
      "1039\n",
      "1040\n",
      "1041\n",
      "1042\n",
      "1043\n",
      "1044\n",
      "1045\n",
      "1046\n",
      "1047\n",
      "1048\n",
      "1049\n",
      "1050\n",
      "1051\n",
      "1052\n",
      "1053\n",
      "1054\n",
      "1055\n",
      "1056\n",
      "1057\n",
      "1058\n",
      "1059\n",
      "1060\n",
      "1061\n",
      "1062\n",
      "1063\n",
      "1064\n",
      "1065\n",
      "1066\n",
      "1067\n",
      "1068\n",
      "1069\n",
      "1070\n",
      "1071\n",
      "1072\n",
      "1073\n",
      "1074\n",
      "1075\n",
      "1076\n",
      "1077\n",
      "1078\n",
      "1079\n",
      "1080\n",
      "1081\n",
      "1082\n",
      "1083\n",
      "1084\n",
      "1085\n",
      "1086\n",
      "1087\n",
      "1088\n",
      "1089\n",
      "1090\n",
      "1091\n",
      "1092\n",
      "1093\n",
      "1094\n",
      "1095\n",
      "1096\n",
      "1097\n",
      "1098\n",
      "1099\n",
      "1100\n",
      "1101\n",
      "1102\n",
      "1103\n",
      "1104\n",
      "1105\n",
      "1106\n",
      "1107\n",
      "1108\n",
      "1109\n",
      "1110\n",
      "1111\n",
      "1112\n",
      "1113\n",
      "1114\n",
      "1115\n",
      "1116\n",
      "1117\n",
      "1118\n",
      "1119\n",
      "1120\n",
      "1121\n",
      "1122\n",
      "1123\n",
      "1124\n",
      "1125\n",
      "1126\n",
      "1127\n"
     ]
    }
   ],
   "source": [
    "#wrong dist (not remove)... try to recreate old result\n",
    "frac_learn = np.ones(12)\n",
    "frac_learn[4] = .1\n",
    "sls = {}\n",
    "for m in range(4,5):\n",
    "    sid = major_structure_ids[m]\n",
    "    connectivity_data.structure_datas[sid].loss_surface_cv = get_loss_surface_cv(connectivity_data.structure_datas[sid].reg_proj_vcount_norm_renorm, connectivity_data.structure_datas[sid].centroids,creline[sid],leafs[sid],frac_learn[m])"
   ]
  },
  {
   "cell_type": "code",
   "execution_count": 297,
   "metadata": {},
   "outputs": [
    {
     "data": {
      "image/png": "[encoded data removed]",
      "text/plain": [
       "<Figure size 432x288 with 1 Axes>"
      ]
     },
     "metadata": {
      "needs_background": "light"
     },
     "output_type": "display_data"
    }
   ],
   "source": [
    "plot_loss_surface(connectivity_data.structure_datas[sid].loss_surface_cv)"
   ]
  },
  {
   "cell_type": "code",
   "execution_count": 41,
   "metadata": {
    "collapsed": true
   },
   "outputs": [],
   "source": [
    "# #wrong dist (not remove)... try to recreate old result\n",
    "# frac_learn = np.ones(12)\n",
    "# frac_learn[4] = .1\n",
    "# sls = {}\n",
    "# for m in range(4,5):\n",
    "#     sid = major_structure_ids[m]\n",
    "#     connectivity_data.structure_datas[sid].loss_surface = get_loss_surface(connectivity_data.structure_datas[sid].reg_proj_vcount_norm_renorm, connectivity_data.structure_datas[sid].centroids,creline[sid],leafs[sid],frac_learn[m])"
   ]
  },
  {
   "cell_type": "code",
   "execution_count": 42,
   "metadata": {
    "collapsed": true
   },
   "outputs": [],
   "source": [
    "# def plot_loss_surface(surface):\n",
    "#     xs = np.linspace(0, surface.coordinates_normed[:,0].max(), 100)\n",
    "#     ys = np.linspace(0, surface.coordinates_normed[:,1].max(), 100)\n",
    "#     preds = np.empty((100,100))\n",
    "#     for x in range(100):\n",
    "#         for y in range(100):\n",
    "#             preds[x,y] = surface.predict(np.asarray([[xs[x], ys[y]]]))#asdf.predict(np.asarray([[xs[x], ys[y]]])) #qqq.predict(np.asarray([[xs[x], ys[y]]]))\n",
    "\n",
    "#     mxy = np.asarray(np.meshgrid(xs,ys)).transpose()\n",
    "\n",
    "#     #%matplotlib inline\n",
    "#     fig = plt.figure()\n",
    "#     ax = Axes3D(fig)\n",
    "\n",
    "#     ax.scatter(mxy[:,:,0], \n",
    "#                mxy[:,:,1], \n",
    "#                preds, s= .1)\n",
    "\n",
    "#     #ax.set_axis_off()\n",
    "#     ax.set_xlabel('Centroid distance', fontsize=20, rotation=150)\n",
    "#     ax.set_ylabel('Cre-distance', fontsize=20, rotation=150)\n",
    "#     ax.set_zlabel('Projection distance predicted', fontsize=20, rotation=150)    \n",
    "# plot_loss_surface(connectivity_data.structure_datas[sid].loss_surface)"
   ]
  },
  {
   "cell_type": "code",
   "execution_count": 354,
   "metadata": {
    "collapsed": true
   },
   "outputs": [],
   "source": []
  },
  {
   "cell_type": "code",
   "execution_count": 383,
   "metadata": {
    "collapsed": true
   },
   "outputs": [],
   "source": [
    "for m in range(4,5):\n",
    "    sid = major_structure_ids[m]\n",
    "    connectivity_data.structure_datas[sid].smoothed_losses = get_embedding_cv(surface = connectivity_data.structure_datas[sid].loss_surface_cv, dists = pairwise_distances(connectivity_data.structure_datas[sid].centroids)**2, cre_distances_cv = connectivity_data.structure_datas[sid].loss_surface_cv.cre_distances_cv)"
   ]
  },
  {
   "cell_type": "code",
   "execution_count": 384,
   "metadata": {
    "collapsed": true
   },
   "outputs": [],
   "source": [
    "#losses = get_embedding_cv(surface = connectivity_data.structure_datas[sid].loss_surface_cv, dists = pairwise_distances(connectivity_data.structure_datas[sid].centroids)**2, cre_distances_cv = connectivity_data.structure_datas[sid].loss_surface_cv.cre_distances_cv)"
   ]
  },
  {
   "cell_type": "code",
   "execution_count": 385,
   "metadata": {
    "collapsed": true
   },
   "outputs": [],
   "source": [
    "# screened_eval_indices = {}\n",
    "# for sid in major_structure_ids[4:5]:\n",
    "#     screened_eval_indices[sid] = screen_index_matrices4(indices_leaf2ormore[315], creline[315])"
   ]
  },
  {
   "cell_type": "code",
   "execution_count": 386,
   "metadata": {},
   "outputs": [
    {
     "name": "stdout",
     "output_type": "stream",
     "text": [
      "(119, 7, 1128, 577)\n",
      "0\n"
     ]
    }
   ],
   "source": [
    "gammas = np.asarray([0.1,.5,1,2,10,20,40])\n",
    "for sid in major_structure_ids[4:5]:\n",
    "    connectivity_data.structure_datas[sid].loocv_predictions_leaf_leaf2 = get_nwloocv_predictions_multimodel_merge_dists(connectivity_data.structure_datas[sid].reg_proj_vcount_norm_renorm, \n",
    "                                                                                       connectivity_data.structure_datas[sid].smoothed_losses,#np.ones(losses.shape),#(losses - np.nanmin(losses))**2,#**6, \n",
    "                                                                                       #pds,                                       \n",
    "                                                                                       #(sls[sid] - np.nanmin(sls[sid]))**.5,\n",
    "                                                                                       gammas, \n",
    "                                                                                       indices_leaf2ormore[sid], \n",
    "                                                                                       indices_leaf2ormore[sid])                                  \n",
    "                                                                                       #screened_eval_indices[sid])                                  \n",
    "                                                                                       #indices_leaf2ormore[sid])\n",
    "a= [list(range(7))]\n",
    "keys = np.asarray(list(itertools.product(*a)))\n",
    "\n",
    "reg_proj_vcount_norm_renorms= {}\n",
    "nwloocv_leaf_leaf2 = {}\n",
    "for sid in major_structure_ids[4:5]:\n",
    "    reg_proj_vcount_norm_renorms[sid ] = connectivity_data.structure_datas[sid].reg_proj_vcount_norm_renorm\n",
    "    nwloocv_leaf_leaf2[sid] = connectivity_data.structure_datas[sid].loocv_predictions_leaf_leaf2\n",
    "\n",
    "eval_indices_creleaf2ormore = get_eval_indices(indices_creleaf2ormore)\n",
    "\n",
    "losses_leaf_leaf2 = get_loss(reg_proj_vcount_norm_renorms, nwloocv_leaf_leaf2,pred_ind = eval_indices_creleaf2ormore, true_ind = eval_indices_creleaf2ormore,keys = keys)\n",
    "best_gamma_leaf_leaf2 = get_best_hyperparameters(losses_leaf_leaf2,keys)\n",
    "meanloss_nw_leaf_leaf2 = get_loss_best_hyp(losses_leaf_leaf2, best_gamma_leaf_leaf2)\n",
    "\n",
    "#meanloss_nw_leaf_leaf2wt\n",
    "#meanloss_nw_wtleaf_leaf2wt"
   ]
  },
  {
   "cell_type": "code",
   "execution_count": 387,
   "metadata": {},
   "outputs": [
    {
     "data": {
      "text/plain": [
       "array([0.24632457])"
      ]
     },
     "execution_count": 387,
     "metadata": {},
     "output_type": "execute_result"
    }
   ],
   "source": [
    "meanloss_nw_leaf_leaf2"
   ]
  },
  {
   "cell_type": "code",
   "execution_count": 363,
   "metadata": {},
   "outputs": [
    {
     "data": {
      "text/plain": [
       "array([[0.28735297, 0.82782972, 0.27477986, ..., 0.39571721, 0.63577134,\n",
       "        0.64382626],\n",
       "       [0.26986014, 0.79434165, 0.27427867, ..., 0.35560933, 0.60467972,\n",
       "        0.61841191],\n",
       "       [0.24913309, 0.75227267, 0.27387095, ..., 0.30777878, 0.56594905,\n",
       "        0.59116334],\n",
       "       ...,\n",
       "       [0.11905524, 0.39805622, 0.29335997, ..., 0.06055187, 0.21362866,\n",
       "        0.49265994],\n",
       "       [0.21877469, 0.40105001, 0.35427576, ..., 0.05822214, 0.25499796,\n",
       "        0.55204555],\n",
       "       [0.26964042, 0.4186912 , 0.41266453, ..., 0.06229851, 0.25989947,\n",
       "        0.62597958]])"
      ]
     },
     "execution_count": 363,
     "metadata": {},
     "output_type": "execute_result"
    }
   ],
   "source": [
    "losses_leaf_leaf2[315]"
   ]
  },
  {
   "cell_type": "code",
   "execution_count": 362,
   "metadata": {},
   "outputs": [
    {
     "data": {
      "text/plain": [
       "(array([], dtype=int64), array([], dtype=int64))"
      ]
     },
     "execution_count": 362,
     "metadata": {},
     "output_type": "execute_result"
    }
   ],
   "source": [
    "np.where(np.isnan(losses_leaf_leaf2[315]))"
   ]
  },
  {
   "cell_type": "code",
   "execution_count": 372,
   "metadata": {},
   "outputs": [
    {
     "name": "stdout",
     "output_type": "stream",
     "text": [
      "(119, 7, 1128, 577)\n",
      "0\n"
     ]
    }
   ],
   "source": [
    "gammas = np.asarray([0.1,.5,1,2,10,20,40])\n",
    "for sid in major_structure_ids[4:5]:\n",
    "    connectivity_data.structure_datas[sid].loocv_predictions_leaf_leaf2 = get_nwloocv_predictions_multimodel_merge_dists(connectivity_data.structure_datas[sid].reg_proj_vcount_norm_renorm, \n",
    "                                                                                       losses,#(losses - np.nanmin(losses))**2,#**6, \n",
    "                                                                                       #pds,                                       \n",
    "                                                                                       #(sls[sid] - np.nanmin(sls[sid]))**.5,\n",
    "                                                                                       gammas, \n",
    "                                                                                       indices_leaf2ormore[sid], \n",
    "                                                                                       indices_leaf2ormore[sid])                                  \n",
    "                                                                                       #screened_eval_indices[sid])                                  \n",
    "                                                                                       #indices_leaf2ormore[sid])\n",
    "a= [list(range(7))]\n",
    "keys = np.asarray(list(itertools.product(*a)))\n",
    "\n",
    "reg_proj_vcount_norm_renorms= {}\n",
    "nwloocv_leaf_leaf2 = {}\n",
    "for sid in major_structure_ids[4:5]:\n",
    "    reg_proj_vcount_norm_renorms[sid ] = connectivity_data.structure_datas[sid].reg_proj_vcount_norm_renorm\n",
    "    nwloocv_leaf_leaf2[sid] = connectivity_data.structure_datas[sid].loocv_predictions_leaf_leaf2\n",
    "\n",
    "eval_indices_creleaf2ormore = get_eval_indices(indices_creleaf2ormore)\n",
    "\n",
    "losses_leaf_leaf2 = get_loss(reg_proj_vcount_norm_renorms, nwloocv_leaf_leaf2,pred_ind = eval_indices_creleaf2ormore, true_ind = eval_indices_creleaf2ormore,keys = keys)\n",
    "best_gamma_leaf_leaf2 = get_best_hyperparameters(losses_leaf_leaf2,keys)\n",
    "meanloss_nw_leaf_leaf2 = get_loss_best_hyp(losses_leaf_leaf2, best_gamma_leaf_leaf2)\n",
    "\n",
    "#meanloss_nw_leaf_leaf2wt\n",
    "#meanloss_nw_wtleaf_leaf2wt"
   ]
  },
  {
   "cell_type": "code",
   "execution_count": 373,
   "metadata": {},
   "outputs": [
    {
     "data": {
      "text/plain": [
       "6.066692994838945"
      ]
     },
     "execution_count": 373,
     "metadata": {},
     "output_type": "execute_result"
    }
   ],
   "source": [
    "np.sum(nwloocv_leaf_leaf2[315][0,2])"
   ]
  },
  {
   "cell_type": "code",
   "execution_count": 382,
   "metadata": {},
   "outputs": [
    {
     "data": {
      "text/plain": [
       "array([[nan, nan, nan, ..., nan, nan, nan],\n",
       "       [nan, nan, nan, ..., nan, nan, nan],\n",
       "       [nan, nan, nan, ..., nan, nan, nan],\n",
       "       ...,\n",
       "       [nan, nan, nan, ..., nan, nan, nan],\n",
       "       [nan, nan, nan, ..., nan, nan, nan],\n",
       "       [nan, nan, nan, ..., nan, nan, nan]])"
      ]
     },
     "execution_count": 382,
     "metadata": {},
     "output_type": "execute_result"
    }
   ],
   "source": [
    "nwloocv_leaf_leaf2[315][:,0]"
   ]
  },
  {
   "cell_type": "code",
   "execution_count": null,
   "metadata": {
    "collapsed": true
   },
   "outputs": [],
   "source": []
  },
  {
   "cell_type": "code",
   "execution_count": null,
   "metadata": {
    "collapsed": true
   },
   "outputs": [],
   "source": []
  },
  {
   "cell_type": "code",
   "execution_count": null,
   "metadata": {
    "collapsed": true
   },
   "outputs": [],
   "source": []
  },
  {
   "cell_type": "code",
   "execution_count": null,
   "metadata": {
    "collapsed": true
   },
   "outputs": [],
   "source": []
  },
  {
   "cell_type": "code",
   "execution_count": null,
   "metadata": {
    "collapsed": true
   },
   "outputs": [],
   "source": []
  },
  {
   "cell_type": "code",
   "execution_count": null,
   "metadata": {
    "collapsed": true
   },
   "outputs": [],
   "source": []
  },
  {
   "cell_type": "code",
   "execution_count": null,
   "metadata": {
    "collapsed": true
   },
   "outputs": [],
   "source": []
  },
  {
   "cell_type": "code",
   "execution_count": null,
   "metadata": {
    "collapsed": true
   },
   "outputs": [],
   "source": []
  },
  {
   "cell_type": "code",
   "execution_count": null,
   "metadata": {
    "collapsed": true
   },
   "outputs": [],
   "source": []
  },
  {
   "cell_type": "code",
   "execution_count": null,
   "metadata": {
    "collapsed": true
   },
   "outputs": [],
   "source": []
  },
  {
   "cell_type": "code",
   "execution_count": null,
   "metadata": {
    "collapsed": true
   },
   "outputs": [],
   "source": []
  },
  {
   "cell_type": "code",
   "execution_count": null,
   "metadata": {
    "collapsed": true
   },
   "outputs": [],
   "source": []
  },
  {
   "cell_type": "code",
   "execution_count": null,
   "metadata": {
    "collapsed": true
   },
   "outputs": [],
   "source": []
  },
  {
   "cell_type": "code",
   "execution_count": null,
   "metadata": {
    "collapsed": true
   },
   "outputs": [],
   "source": []
  },
  {
   "cell_type": "code",
   "execution_count": null,
   "metadata": {
    "collapsed": true
   },
   "outputs": [],
   "source": []
  },
  {
   "cell_type": "code",
   "execution_count": null,
   "metadata": {
    "collapsed": true
   },
   "outputs": [],
   "source": []
  },
  {
   "cell_type": "code",
   "execution_count": null,
   "metadata": {
    "collapsed": true
   },
   "outputs": [],
   "source": []
  },
  {
   "cell_type": "code",
   "execution_count": null,
   "metadata": {
    "collapsed": true
   },
   "outputs": [],
   "source": []
  },
  {
   "cell_type": "code",
   "execution_count": null,
   "metadata": {
    "collapsed": true
   },
   "outputs": [],
   "source": []
  },
  {
   "cell_type": "code",
   "execution_count": 314,
   "metadata": {
    "collapsed": true
   },
   "outputs": [],
   "source": [
    "# surface = connectivity_data.structure_datas[sid].loss_surface_cv\n",
    "# dists = pairwise_distances(connectivity_data.structure_datas[sid].centroids)**2\n",
    "# cre_distances_cv = connectivity_data.structure_datas[sid].loss_surface_cv.cre_distances_cv"
   ]
  },
  {
   "cell_type": "code",
   "execution_count": 315,
   "metadata": {
    "collapsed": true
   },
   "outputs": [],
   "source": [
    "projections = connectivity_data.structure_datas[sid].reg_proj_vcount_norm_renorm\n",
    "dists = losses\n",
    "gammas = gammas\n",
    "model_index_matrix = indices_leaf2ormore[sid]\n",
    "eval_index_matrix = screened_eval_indices[sid]\n",
    "m = 0\n",
    "model_indices=  model_index_matrix[m]\n",
    "eval_indices = eval_index_matrix[m]\n",
    "gamma = .1"
   ]
  },
  {
   "cell_type": "code",
   "execution_count": 323,
   "metadata": {
    "collapsed": true
   },
   "outputs": [],
   "source": [
    "    eval_index_val = np.where(eval_indices == 1)[0]\n",
    "    model_index_val = np.where(model_indices == 1)[0]\n",
    "    \n",
    "    projections = np.asarray(projections, dtype=np.float32)\n",
    "    \n",
    "    nmod_ind = len(model_index_val)\n",
    "    neval = len(eval_index_val)\n",
    "    #nexp = centroids.shape[0]\n",
    "    predictions = np.empty(projections.shape)\n",
    "\n",
    "    if len(model_index_val) > 0 and  len(eval_index_val) > 0:\n",
    "        #weights = np.exp(-dists[model_index_val][:, eval_index_val] / gamma)#np.exp(-dists[model_index_val] / gamma) #get_weights(centroids, gamma)\n",
    "        #for i in range(neval):\n",
    "        i = 0 \n",
    "        matchindex = np.where(model_index_val == eval_index_val[i])[0]\n",
    "        otherindices = np.setdiff1d(np.asarray(list(range(nmod_ind))), matchindex)         \n",
    "        #this order of operations is the fastest I found\n",
    "        dists_i = dists[model_index_val][:, eval_index_val[i]] - np.min(dists[model_index_val[otherindices]][:, eval_index_val[i]])\n",
    "        weights_i = np.exp(-dists_i * gamma)#weights[i,:] / np.nansum(weights[i,:][otherindices])\n",
    "        #print(np.nansum(weights[:,i][otherindices]))\n",
    "        weights_i[matchindex] = 0\n",
    "        weights_i = np.asarray(weights_i, dtype=np.float32)\n",
    "        weights_i = weights_i / np.sum(weights_i)\n",
    "        #weights_i[np.isnan(weights_i)] = 0.\n",
    "        pred = np.dot(weights_i, projections[model_index_val])\n",
    "        #predictions[eval_index_val[i]] = pred\n"
   ]
  },
  {
   "cell_type": "code",
   "execution_count": 322,
   "metadata": {},
   "outputs": [
    {
     "data": {
      "text/plain": [
       "array([0.        , 0.03900989, 0.03990509, 0.03908423, 0.04236791,\n",
       "       0.0400004 , 0.03997645, 0.03973566, 0.03903433, 0.03952909,\n",
       "       0.03987857, 0.04001774, 0.03998732, 0.04025463, 0.04138208,\n",
       "       0.04085689, 0.03972955, 0.04057322, 0.03933576, 0.03992678,\n",
       "       0.03965541, 0.03954123, 0.04019793, 0.04002054, 0.0400303 ,\n",
       "       0.03996908], dtype=float32)"
      ]
     },
     "execution_count": 322,
     "metadata": {},
     "output_type": "execute_result"
    }
   ],
   "source": [
    "weights_i"
   ]
  },
  {
   "cell_type": "code",
   "execution_count": 324,
   "metadata": {},
   "outputs": [
    {
     "data": {
      "text/plain": [
       "array([0.        , 0.03900989, 0.03990509, 0.03908423, 0.04236791,\n",
       "       0.04000041, 0.03997645, 0.03973566, 0.03903433, 0.03952909,\n",
       "       0.03987857, 0.04001774, 0.03998732, 0.04025463, 0.04138208,\n",
       "       0.04085689, 0.03972955, 0.04057322, 0.03933576, 0.03992678,\n",
       "       0.03965541, 0.03954123, 0.04019793, 0.04002054, 0.0400303 ,\n",
       "       0.03996908], dtype=float32)"
      ]
     },
     "execution_count": 324,
     "metadata": {},
     "output_type": "execute_result"
    }
   ],
   "source": [
    "weights_i"
   ]
  },
  {
   "cell_type": "code",
   "execution_count": 318,
   "metadata": {},
   "outputs": [
    {
     "data": {
      "text/plain": [
       "array([0.6387341 , 1.48010873, 1.25322178, 1.46107026, 0.65434738,\n",
       "       1.22936442, 1.23535487, 1.29576905, 1.47384526, 1.3478935 ,\n",
       "       1.25987034, 1.22503168, 1.2326361 , 1.16600978, 0.8897813 ,\n",
       "       1.01750652, 1.29730822, 1.08717835, 1.39691997, 1.24778808,\n",
       "       1.31598645, 1.34482141, 1.18010623, 1.22433183, 1.22189493,\n",
       "       1.23720009])"
      ]
     },
     "execution_count": 318,
     "metadata": {},
     "output_type": "execute_result"
    }
   ],
   "source": [
    "dists[model_index_val][:, eval_index_val[i]]"
   ]
  },
  {
   "cell_type": "code",
   "execution_count": 319,
   "metadata": {},
   "outputs": [
    {
     "data": {
      "text/plain": [
       "0.6543473846083134"
      ]
     },
     "execution_count": 319,
     "metadata": {},
     "output_type": "execute_result"
    }
   ],
   "source": [
    "np.min(dists[model_index_val[otherindices]][:, eval_index_val[i]])"
   ]
  },
  {
   "cell_type": "code",
   "execution_count": 320,
   "metadata": {},
   "outputs": [
    {
     "data": {
      "text/plain": [
       "array([-0.01561328,  0.82576134,  0.5988744 ,  0.80672287,  0.        ,\n",
       "        0.57501703,  0.58100749,  0.64142167,  0.81949788,  0.69354611,\n",
       "        0.60552296,  0.5706843 ,  0.57828871,  0.51166239,  0.23543391,\n",
       "        0.36315914,  0.64296083,  0.43283097,  0.74257259,  0.5934407 ,\n",
       "        0.66163907,  0.69047402,  0.52575884,  0.56998445,  0.56754754,\n",
       "        0.58285271])"
      ]
     },
     "execution_count": 320,
     "metadata": {},
     "output_type": "execute_result"
    }
   ],
   "source": [
    "dists_i"
   ]
  },
  {
   "cell_type": "code",
   "execution_count": null,
   "metadata": {
    "collapsed": true
   },
   "outputs": [],
   "source": []
  },
  {
   "cell_type": "code",
   "execution_count": null,
   "metadata": {
    "collapsed": true
   },
   "outputs": [],
   "source": []
  },
  {
   "cell_type": "code",
   "execution_count": null,
   "metadata": {
    "collapsed": true
   },
   "outputs": [],
   "source": []
  },
  {
   "cell_type": "code",
   "execution_count": null,
   "metadata": {
    "collapsed": true
   },
   "outputs": [],
   "source": []
  },
  {
   "cell_type": "code",
   "execution_count": null,
   "metadata": {
    "collapsed": true
   },
   "outputs": [],
   "source": []
  },
  {
   "cell_type": "code",
   "execution_count": 145,
   "metadata": {
    "collapsed": true
   },
   "outputs": [],
   "source": [
    "    ntrain = dists.shape[0]\n",
    "    norms = surface.norms\n",
    "    #cre_dists = #surface.cre_distances_cv\n",
    "    #cnorm = surface.cnorm\n",
    "    \n",
    "#     cre_deezy = np.zeros((ntrain))\n",
    "    \n",
    "#     for i in range(ntrain):\n",
    "#         cre_deezy[i] = np.linalg.norm(means[cres[i]] - means[cre])\n",
    "\n",
    "    #get_cre_distances_cv(proj, means_cast, sids,cres)\n",
    "    leaf_pairs = np.asarray(np.where(~np.isnan(cre_distances_cv))).transpose()\n",
    "    nlp = leaf_pairs.shape[0]\n",
    "    \n",
    "    losses = np.zeros((ntrain, ntrain))\n",
    "    #for i in range(nlp):\n",
    "    i = 0\n",
    "    d_ij = dists[leaf_pairs[i][0]][leaf_pairs[i][1]] / norms[0]\n",
    "    p_ij = cre_distances_cv[leaf_pairs[i][0]][leaf_pairs[i][1]] / norms[1]\n",
    "    losses[leaf_pairs[i][0]][leaf_pairs[i][1]] = surface.predict(np.asarray([[d_ij, p_ij]]))\n",
    " "
   ]
  },
  {
   "cell_type": "code",
   "execution_count": 206,
   "metadata": {},
   "outputs": [
    {
     "data": {
      "text/plain": [
       "(594, 43)"
      ]
     },
     "execution_count": 206,
     "metadata": {},
     "output_type": "execute_result"
    }
   ],
   "source": [
    "i = 19132\n",
    "leaf_pairs[i][0], leaf_pairs[i][1]"
   ]
  },
  {
   "cell_type": "code",
   "execution_count": 207,
   "metadata": {},
   "outputs": [
    {
     "data": {
      "text/plain": [
       "(594, 61)"
      ]
     },
     "execution_count": 207,
     "metadata": {},
     "output_type": "execute_result"
    }
   ],
   "source": [
    "i = 19133\n",
    "leaf_pairs[i][0], leaf_pairs[i][1]"
   ]
  },
  {
   "cell_type": "code",
   "execution_count": null,
   "metadata": {
    "collapsed": true
   },
   "outputs": [],
   "source": [
    "dists[592,54]"
   ]
  },
  {
   "cell_type": "code",
   "execution_count": 169,
   "metadata": {
    "collapsed": true
   },
   "outputs": [],
   "source": [
    "#i = 1593\n",
    "d_ij = dists[leaf_pairs[i][0]][leaf_pairs[i][1]] / norms[0]\n",
    "p_ij = cre_distances_cv[leaf_pairs[i][0]][leaf_pairs[i][1]] / norms[1]\n"
   ]
  },
  {
   "cell_type": "code",
   "execution_count": 175,
   "metadata": {},
   "outputs": [
    {
     "data": {
      "text/plain": [
       "array([[1.46972433]])"
      ]
     },
     "execution_count": 175,
     "metadata": {},
     "output_type": "execute_result"
    }
   ],
   "source": [
    "surface.predict(np.asarray([[d_ij, p_ij]]))"
   ]
  },
  {
   "cell_type": "code",
   "execution_count": 170,
   "metadata": {},
   "outputs": [
    {
     "data": {
      "text/plain": [
       "0.01100325676638931"
      ]
     },
     "execution_count": 170,
     "metadata": {},
     "output_type": "execute_result"
    }
   ],
   "source": [
    "d_ij"
   ]
  },
  {
   "cell_type": "code",
   "execution_count": 171,
   "metadata": {},
   "outputs": [
    {
     "data": {
      "text/plain": [
       "0.010308140866773001"
      ]
     },
     "execution_count": 171,
     "metadata": {},
     "output_type": "execute_result"
    }
   ],
   "source": [
    "p_ij"
   ]
  },
  {
   "cell_type": "code",
   "execution_count": 168,
   "metadata": {},
   "outputs": [
    {
     "data": {
      "text/plain": [
       "array([54, 56])"
      ]
     },
     "execution_count": 168,
     "metadata": {},
     "output_type": "execute_result"
    }
   ],
   "source": [
    "leaf_pairs[1593]"
   ]
  },
  {
   "cell_type": "code",
   "execution_count": 181,
   "metadata": {},
   "outputs": [
    {
     "data": {
      "text/plain": [
       "1.4697243276197498"
      ]
     },
     "execution_count": 181,
     "metadata": {},
     "output_type": "execute_result"
    }
   ],
   "source": [
    "losses[54,56]"
   ]
  },
  {
   "cell_type": "code",
   "execution_count": 178,
   "metadata": {},
   "outputs": [
    {
     "data": {
      "text/plain": [
       "array([[0.        , 0.        , 0.        , ..., 0.        , 0.        ,\n",
       "        0.        ],\n",
       "       [0.        , 0.63149924, 0.        , ..., 0.        , 0.        ,\n",
       "        0.        ],\n",
       "       [0.        , 0.        , 0.39528027, ..., 0.        , 0.        ,\n",
       "        1.42381074],\n",
       "       ...,\n",
       "       [0.        , 0.        , 0.        , ..., 0.37629942, 0.        ,\n",
       "        0.        ],\n",
       "       [0.        , 0.        , 0.        , ..., 0.        , 0.63149924,\n",
       "        0.        ],\n",
       "       [0.        , 0.        , 1.42090374, ..., 0.        , 0.        ,\n",
       "        0.4023113 ]])"
      ]
     },
     "execution_count": 178,
     "metadata": {},
     "output_type": "execute_result"
    }
   ],
   "source": [
    "losses"
   ]
  },
  {
   "cell_type": "code",
   "execution_count": 95,
   "metadata": {},
   "outputs": [
    {
     "data": {
      "text/plain": [
       "0.5"
      ]
     },
     "execution_count": 95,
     "metadata": {},
     "output_type": "execute_result"
    }
   ],
   "source": [
    "cre_distances_cv[leaf_pairs[i][0]][leaf_pairs[i][1]]"
   ]
  },
  {
   "cell_type": "code",
   "execution_count": 91,
   "metadata": {},
   "outputs": [
    {
     "data": {
      "text/plain": [
       "array([35022.69788788,   157.60131586])"
      ]
     },
     "execution_count": 91,
     "metadata": {},
     "output_type": "execute_result"
    }
   ],
   "source": [
    "norms"
   ]
  },
  {
   "cell_type": "code",
   "execution_count": 88,
   "metadata": {},
   "outputs": [
    {
     "data": {
      "text/plain": [
       "(0.0, 1.4276455845881961e-05)"
      ]
     },
     "execution_count": 88,
     "metadata": {},
     "output_type": "execute_result"
    }
   ],
   "source": [
    "d_ij, p_ij"
   ]
  },
  {
   "cell_type": "code",
   "execution_count": 63,
   "metadata": {
    "collapsed": true
   },
   "outputs": [],
   "source": [
    "#cre_distances_cv #this is gonna be nan sometimes... if they aren't in the same leaf "
   ]
  },
  {
   "cell_type": "code",
   "execution_count": 265,
   "metadata": {},
   "outputs": [
    {
     "name": "stdout",
     "output_type": "stream",
     "text": [
      "(119, 7, 1128, 577)\n",
      "0\n"
     ]
    }
   ],
   "source": [
    "gammas = np.asarray([0.1,.5,1,2,10,20,40])\n",
    "for sid in major_structure_ids[4:5]:\n",
    "    connectivity_data.structure_datas[sid].loocv_predictions_leaf_leaf2 = get_nwloocv_predictions_multimodel_merge_dists(connectivity_data.structure_datas[sid].reg_proj_vcount_norm_renorm, \n",
    "                                                                                       losses,#**6, \n",
    "                                                                                       #pds,                                       \n",
    "                                                                                       #(sls[sid] - np.nanmin(sls[sid]))**.5,\n",
    "                                                                                       gammas, \n",
    "                                                                                       indices_leaf2ormore[sid], \n",
    "                                                                                       screened_eval_indices[sid])                                  \n",
    "                                                                                       #indices_leaf2ormore[sid])\n",
    "a= [list(range(5))]\n",
    "keys = np.asarray(list(itertools.product(*a)))\n",
    "\n",
    "reg_proj_vcount_norm_renorms= {}\n",
    "nwloocv_leaf_leaf2 = {}\n",
    "for sid in major_structure_ids[4:5]:\n",
    "    reg_proj_vcount_norm_renorms[sid ] = connectivity_data.structure_datas[sid].reg_proj_vcount_norm_renorm\n",
    "    nwloocv_leaf_leaf2[sid] = connectivity_data.structure_datas[sid].loocv_predictions_leaf_leaf2\n",
    "\n",
    "eval_indices_creleaf2ormore = get_eval_indices(indices_creleaf2ormore)\n",
    "\n",
    "losses_leaf_leaf2 = get_loss(reg_proj_vcount_norm_renorms, nwloocv_leaf_leaf2,pred_ind = eval_indices_creleaf2ormore, true_ind = eval_indices_creleaf2ormore,keys = keys)\n",
    "best_gamma_leaf_leaf2 = get_best_hyperparameters(losses_leaf_leaf2,keys)\n",
    "meanloss_nw_leaf_leaf2 = get_loss_best_hyp(losses_leaf_leaf2, best_gamma_leaf_leaf2)\n",
    "\n",
    "#meanloss_nw_leaf_leaf2wt\n",
    "#meanloss_nw_wtleaf_leaf2wt"
   ]
  },
  {
   "cell_type": "code",
   "execution_count": 266,
   "metadata": {},
   "outputs": [
    {
     "data": {
      "text/plain": [
       "array([0.48375245])"
      ]
     },
     "execution_count": 266,
     "metadata": {},
     "output_type": "execute_result"
    }
   ],
   "source": [
    "meanloss_nw_leaf_leaf2"
   ]
  },
  {
   "cell_type": "code",
   "execution_count": 267,
   "metadata": {},
   "outputs": [
    {
     "data": {
      "text/plain": [
       "array([[0.        , 0.        , 0.        , ..., 0.        , 0.        ,\n",
       "        0.        ],\n",
       "       [0.        , 0.63149924, 0.        , ..., 0.        , 0.        ,\n",
       "        0.        ],\n",
       "       [0.        , 0.        , 0.39528027, ..., 0.        , 0.        ,\n",
       "        1.42381074],\n",
       "       ...,\n",
       "       [0.        , 0.        , 0.        , ..., 0.37629942, 0.        ,\n",
       "        0.        ],\n",
       "       [0.        , 0.        , 0.        , ..., 0.        , 0.63149924,\n",
       "        0.        ],\n",
       "       [0.        , 0.        , 1.42090374, ..., 0.        , 0.        ,\n",
       "        0.4023113 ]])"
      ]
     },
     "execution_count": 267,
     "metadata": {},
     "output_type": "execute_result"
    }
   ],
   "source": [
    "losses"
   ]
  },
  {
   "cell_type": "code",
   "execution_count": 75,
   "metadata": {
    "collapsed": true
   },
   "outputs": [],
   "source": [
    "\n",
    "def get_smoothed_losses(proj,centroids, qqq, cre_dist):\n",
    "    ds = pairwise_distances(centroids)**2\n",
    "    cs = cre_dist\n",
    "    ds2 = ds[np.where(~np.isnan(cs))]\n",
    "    cs2 = cs[np.where(~np.isnan(cs))]\n",
    "    dsnorm  = np.linalg.norm(ds2)\n",
    "    csnorm = np.linalg.norm(cs2)\n",
    "    \n",
    "    ls = pairwise_distances(proj)**2\n",
    "    nsamp = ds.shape[0]\n",
    "    bbbb = np.asarray(np.where(~np.isnan(cs))).transpose()\n",
    "    smoothedlosses = np.empty((nsamp,nsamp))\n",
    "    smoothedlosses[:] = np.nan\n",
    "    for i in range(bbbb.shape[0]):\n",
    "        ci = cs[bbbb[i,0], bbbb[i,1]] / csnorm\n",
    "        di = ds[bbbb[i,0], bbbb[i,1]] / dsnorm\n",
    "        smoothedlosses[bbbb[i,0], bbbb[i,1]] = qqq.predict(np.asarray([[di, ci]]))#qqq.predict(np.asarray([[ci, di]]))\n",
    "    return(smoothedlosses)"
   ]
  },
  {
   "cell_type": "code",
   "execution_count": 76,
   "metadata": {
    "collapsed": true
   },
   "outputs": [],
   "source": [
    "proj = connectivity_data.structure_datas[sid].reg_proj_vcount_norm_renorm\n",
    "qqq = connectivity_data.structure_datas[sid].loss_surface_cv\n",
    "centroids = connectivity_data.structure_datas[sid].centroids\n",
    "cre_dist = connectivity_data.structure_datas[sid].loss_surface_cv.cre_distances_cv\n",
    "smoothed_losses = get_smoothed_losses(proj,centroids, qqq, cre_dist)"
   ]
  },
  {
   "cell_type": "code",
   "execution_count": 77,
   "metadata": {},
   "outputs": [
    {
     "data": {
      "text/plain": [
       "array([[       nan,        nan,        nan, ...,        nan,        nan,\n",
       "               nan],\n",
       "       [       nan, 0.63149924,        nan, ...,        nan,        nan,\n",
       "               nan],\n",
       "       [       nan,        nan, 0.39528027, ...,        nan,        nan,\n",
       "        1.42381074],\n",
       "       ...,\n",
       "       [       nan,        nan,        nan, ..., 0.37629942,        nan,\n",
       "               nan],\n",
       "       [       nan,        nan,        nan, ...,        nan, 0.63149924,\n",
       "               nan],\n",
       "       [       nan,        nan, 1.42090374, ...,        nan,        nan,\n",
       "        0.4023113 ]])"
      ]
     },
     "execution_count": 77,
     "metadata": {},
     "output_type": "execute_result"
    }
   ],
   "source": [
    "smoothed_losses"
   ]
  },
  {
   "cell_type": "code",
   "execution_count": 268,
   "metadata": {},
   "outputs": [
    {
     "data": {
      "text/plain": [
       "1.469724327619753"
      ]
     },
     "execution_count": 268,
     "metadata": {},
     "output_type": "execute_result"
    }
   ],
   "source": [
    "smoothed_losses[54,56]"
   ]
  },
  {
   "cell_type": "code",
   "execution_count": 101,
   "metadata": {},
   "outputs": [
    {
     "name": "stdout",
     "output_type": "stream",
     "text": [
      "(119, 7, 1128, 577)\n",
      "0\n"
     ]
    }
   ],
   "source": [
    "gammas = np.asarray([0.1,.5,1,2,10,20,40])\n",
    "for sid in major_structure_ids[4:5]:\n",
    "    connectivity_data.structure_datas[sid].loocv_predictions_leaf_leaf2 = get_nwloocv_predictions_multimodel_merge_dists(connectivity_data.structure_datas[sid].reg_proj_vcount_norm_renorm, \n",
    "                                                                                       smoothed_losses,#**6, \n",
    "                                                                                       #pds,                                       \n",
    "                                                                                       #(sls[sid] - np.nanmin(sls[sid]))**.5,\n",
    "                                                                                       gammas, \n",
    "                                                                                       indices_leaf2ormore[sid], \n",
    "                                                                                       indices_leaf2ormore[sid])\n",
    "a= [list(range(5))]\n",
    "keys = np.asarray(list(itertools.product(*a)))\n",
    "\n",
    "reg_proj_vcount_norm_renorms= {}\n",
    "nwloocv_leaf_leaf2 = {}\n",
    "for sid in major_structure_ids[4:5]:\n",
    "    reg_proj_vcount_norm_renorms[sid ] = connectivity_data.structure_datas[sid].reg_proj_vcount_norm_renorm\n",
    "    nwloocv_leaf_leaf2[sid] = connectivity_data.structure_datas[sid].loocv_predictions_leaf_leaf2\n",
    "\n",
    "eval_indices_creleaf2ormore = get_eval_indices(indices_creleaf2ormore)\n",
    "\n",
    "losses_leaf_leaf2 = get_loss(reg_proj_vcount_norm_renorms, nwloocv_leaf_leaf2,pred_ind = eval_indices_creleaf2ormore, true_ind = eval_indices_creleaf2ormore,keys = keys)\n",
    "best_gamma_leaf_leaf2 = get_best_hyperparameters(losses_leaf_leaf2,keys)\n",
    "meanloss_nw_leaf_leaf2 = get_loss_best_hyp(losses_leaf_leaf2, best_gamma_leaf_leaf2)\n",
    "\n",
    "#meanloss_nw_leaf_leaf2wt\n",
    "#meanloss_nw_wtleaf_leaf2wt"
   ]
  },
  {
   "cell_type": "code",
   "execution_count": 102,
   "metadata": {},
   "outputs": [
    {
     "data": {
      "text/plain": [
       "array([0.20605018])"
      ]
     },
     "execution_count": 102,
     "metadata": {},
     "output_type": "execute_result"
    }
   ],
   "source": [
    "meanloss_nw_leaf_leaf2"
   ]
  },
  {
   "cell_type": "code",
   "execution_count": 89,
   "metadata": {
    "collapsed": true
   },
   "outputs": [],
   "source": [
    "    ds = pairwise_distances(centroids)**2\n",
    "    cs = cre_dist\n",
    "    ds2 = ds[np.where(~np.isnan(cs))]\n",
    "    cs2 = cs[np.where(~np.isnan(cs))]\n",
    "    dsnorm  = np.linalg.norm(ds2)\n",
    "    csnorm = np.linalg.norm(cs2)\n",
    "    \n",
    "    ls = pairwise_distances(proj)**2\n",
    "    nsamp = ds.shape[0]\n",
    "    bbbb = np.asarray(np.where(~np.isnan(cs))).transpose()\n",
    "    smoothedlosses = np.empty((nsamp,nsamp))\n",
    "    smoothedlosses[:] = np.nan\n",
    "    #for i in range(bbbb.shape[0]):\n",
    "    i = 0\n",
    "    ci = cs[bbbb[i,0], bbbb[i,1]] / csnorm\n",
    "    di = ds[bbbb[i,0], bbbb[i,1]] / dsnorm\n",
    "    smoothedlosses[bbbb[i,0], bbbb[i,1]] = qqq.predict(np.asarray([[di, ci]]))#qqq.predict(np.asarray([[ci, di]]))\n"
   ]
  },
  {
   "cell_type": "code",
   "execution_count": 90,
   "metadata": {},
   "outputs": [
    {
     "data": {
      "text/plain": [
       "(0.0, 0.0031725623436064886)"
      ]
     },
     "execution_count": 90,
     "metadata": {},
     "output_type": "execute_result"
    }
   ],
   "source": [
    "di, ci"
   ]
  },
  {
   "cell_type": "code",
   "execution_count": 92,
   "metadata": {},
   "outputs": [
    {
     "data": {
      "text/plain": [
       "35022.6978878814"
      ]
     },
     "execution_count": 92,
     "metadata": {},
     "output_type": "execute_result"
    }
   ],
   "source": [
    "dsnorm"
   ]
  },
  {
   "cell_type": "code",
   "execution_count": 93,
   "metadata": {},
   "outputs": [
    {
     "data": {
      "text/plain": [
       "157.6013158599155"
      ]
     },
     "execution_count": 93,
     "metadata": {},
     "output_type": "execute_result"
    }
   ],
   "source": [
    "csnorm"
   ]
  },
  {
   "cell_type": "code",
   "execution_count": 94,
   "metadata": {},
   "outputs": [
    {
     "data": {
      "text/plain": [
       "0.5"
      ]
     },
     "execution_count": 94,
     "metadata": {},
     "output_type": "execute_result"
    }
   ],
   "source": [
    "cs[bbbb[i,0], bbbb[i,1]]"
   ]
  },
  {
   "cell_type": "code",
   "execution_count": 118,
   "metadata": {},
   "outputs": [
    {
     "data": {
      "text/plain": [
       "1.228720485437922"
      ]
     },
     "execution_count": 118,
     "metadata": {},
     "output_type": "execute_result"
    }
   ],
   "source": [
    "np.nanmax(smoothed_losses[1])"
   ]
  },
  {
   "cell_type": "code",
   "execution_count": 111,
   "metadata": {},
   "outputs": [
    {
     "data": {
      "text/plain": [
       "array([[0.        , 0.        , 0.        , ..., 0.        , 0.        ,\n",
       "        0.        ],\n",
       "       [0.        , 0.63149924, 0.        , ..., 0.        , 0.        ,\n",
       "        0.        ],\n",
       "       [0.        , 0.        , 0.39528027, ..., 0.        , 0.        ,\n",
       "        1.42381074],\n",
       "       ...,\n",
       "       [0.        , 0.        , 0.        , ..., 0.37629942, 0.        ,\n",
       "        0.        ],\n",
       "       [0.        , 0.        , 0.        , ..., 0.        , 0.63149924,\n",
       "        0.        ],\n",
       "       [0.        , 0.        , 1.42090374, ..., 0.        , 0.        ,\n",
       "        0.4023113 ]])"
      ]
     },
     "execution_count": 111,
     "metadata": {},
     "output_type": "execute_result"
    }
   ],
   "source": [
    "losses"
   ]
  },
  {
   "cell_type": "code",
   "execution_count": 108,
   "metadata": {},
   "outputs": [
    {
     "data": {
      "text/plain": [
       "(array([], dtype=int64), array([], dtype=int64))"
      ]
     },
     "execution_count": 108,
     "metadata": {},
     "output_type": "execute_result"
    }
   ],
   "source": [
    "np.where(np.isnan(losses))"
   ]
  },
  {
   "cell_type": "code",
   "execution_count": 110,
   "metadata": {},
   "outputs": [
    {
     "data": {
      "text/plain": [
       "(array([   0,    0,    0, ..., 1127, 1127, 1127]),\n",
       " array([   0,    1,    2, ..., 1122, 1125, 1126]))"
      ]
     },
     "execution_count": 110,
     "metadata": {},
     "output_type": "execute_result"
    }
   ],
   "source": [
    "np.where(np.isnan(smoothed_losses))"
   ]
  },
  {
   "cell_type": "code",
   "execution_count": 106,
   "metadata": {},
   "outputs": [
    {
     "name": "stdout",
     "output_type": "stream",
     "text": [
      "(119, 7, 1128, 577)\n",
      "0\n"
     ]
    }
   ],
   "source": [
    "gammas = np.asarray([0.1,.5,1,2,10,20,40])\n",
    "for sid in major_structure_ids[4:5]:\n",
    "    connectivity_data.structure_datas[sid].loocv_predictions_leaf_leaf2 = get_nwloocv_predictions_multimodel_merge_dists(connectivity_data.structure_datas[sid].reg_proj_vcount_norm_renorm, \n",
    "                                                                                       losses,#**6, \n",
    "                                                                                       #pds,                                       \n",
    "                                                                                       #(sls[sid] - np.nanmin(sls[sid]))**.5,\n",
    "                                                                                       gammas, \n",
    "                                                                                       indices_leaf2ormore[sid], \n",
    "                                                                                       indices_leaf2ormore[sid])\n",
    "a= [list(range(5))]\n",
    "keys = np.asarray(list(itertools.product(*a)))\n",
    "\n",
    "reg_proj_vcount_norm_renorms= {}\n",
    "nwloocv_leaf_leaf2 = {}\n",
    "for sid in major_structure_ids[4:5]:\n",
    "    reg_proj_vcount_norm_renorms[sid ] = connectivity_data.structure_datas[sid].reg_proj_vcount_norm_renorm\n",
    "    nwloocv_leaf_leaf2[sid] = connectivity_data.structure_datas[sid].loocv_predictions_leaf_leaf2\n",
    "\n",
    "eval_indices_creleaf2ormore = get_eval_indices(indices_creleaf2ormore)\n",
    "\n",
    "losses_leaf_leaf2 = get_loss(reg_proj_vcount_norm_renorms, nwloocv_leaf_leaf2,pred_ind = eval_indices_creleaf2ormore, true_ind = eval_indices_creleaf2ormore,keys = keys)\n",
    "best_gamma_leaf_leaf2 = get_best_hyperparameters(losses_leaf_leaf2,keys)\n",
    "meanloss_nw_leaf_leaf2 = get_loss_best_hyp(losses_leaf_leaf2, best_gamma_leaf_leaf2)\n",
    "\n",
    "#meanloss_nw_leaf_leaf2wt\n",
    "#meanloss_nw_wtleaf_leaf2wt"
   ]
  },
  {
   "cell_type": "code",
   "execution_count": 229,
   "metadata": {},
   "outputs": [
    {
     "data": {
      "text/plain": [
       "(620, 1128)"
      ]
     },
     "execution_count": 229,
     "metadata": {},
     "output_type": "execute_result"
    }
   ],
   "source": [
    "indices_creleaf2ormore[sid].shape"
   ]
  },
  {
   "cell_type": "code",
   "execution_count": 107,
   "metadata": {},
   "outputs": [
    {
     "data": {
      "text/plain": [
       "array([0.48375245])"
      ]
     },
     "execution_count": 107,
     "metadata": {},
     "output_type": "execute_result"
    }
   ],
   "source": [
    "meanloss_nw_leaf_leaf2"
   ]
  },
  {
   "cell_type": "code",
   "execution_count": null,
   "metadata": {
    "collapsed": true
   },
   "outputs": [],
   "source": [
    "def get_nwloocv_predictions_singlemodel_dists(projections, dists, gamma, model_indices, eval_indices):\n",
    "  \n",
    "    eval_index_val = np.where(eval_indices == 1)[0]\n",
    "    model_index_val = np.where(model_indices == 1)[0]\n",
    "    \n",
    "    projections = np.asarray(projections, dtype=np.float32)\n",
    "    \n",
    "    nmod_ind = len(model_index_val)\n",
    "    neval = len(eval_index_val)\n",
    "    #nexp = centroids.shape[0]\n",
    "    predictions = np.empty(projections.shape)\n",
    "\n",
    "    if len(model_index_val) > 0 and  len(eval_index_val) > 0:\n",
    "        #weights = np.exp(-dists[model_index_val][:, eval_index_val] / gamma)#np.exp(-dists[model_index_val] / gamma) #get_weights(centroids, gamma)\n",
    "        for i in range(neval):\n",
    "            matchindex = np.where(model_index_val == eval_index_val[i])[0]\n",
    "            otherindices = np.setdiff1d(np.asarray(list(range(nmod_ind))), matchindex)         \n",
    "            #this order of operations is the fastest I found\n",
    "            dists_i = dists[model_index_val][:, eval_index_val[i]] - np.min(dists[model_index_val[otherindices]][:, eval_index_val[i]])\n",
    "            weights_i = np.exp(-dists_i * gamma)#weights[i,:] / np.nansum(weights[i,:][otherindices])\n",
    "            #print(np.nansum(weights[:,i][otherindices]))\n",
    "            weights_i[matchindex] = 0\n",
    "            weights_i = np.asarray(weights_i, dtype=np.float32)\n",
    "            weights_i = weights_i / np.sum(weights_i)\n",
    "            #weights_i[np.isnan(weights_i)] = 0.\n",
    "            pred = np.dot(weights_i, projections[model_index_val])\n",
    "            predictions[eval_index_val[i]] = pred\n",
    "        \n",
    "    return(predictions) \n",
    "\n",
    "def get_nwloocv_predictions_multimodel_merge_dists(projections, dists, gammas, model_index_matrix, eval_index_matrix):\n",
    "    \n",
    "    predictions_unmerged = get_nwloocv_predictions_multimodel_dists(projections, dists, gammas, model_index_matrix, eval_index_matrix)\n",
    "    print(predictions_unmerged.shape)\n",
    "    predictions_merged = combine_predictions(predictions_unmerged, eval_index_matrix)\n",
    "    \n",
    "    return(predictions_merged)\n",
    "    \n",
    "    \n",
    "def get_nwloocv_predictions_multimodel_dists(projections, dists, gammas, model_index_matrix, eval_index_matrix):\n",
    "    \n",
    "    ntargets = projections.shape[1]\n",
    "    nexp = projections.shape[0]\n",
    "    nmodels = model_index_matrix.shape[0]\n",
    "    ngammas = len(gammas)\n",
    "    \n",
    "    projections = np.asarray(projections, dtype=np.float32)\n",
    "    predictions = np.empty((nmodels, ngammas, nexp, ntargets))\n",
    "    \n",
    "    \n",
    "    for m in range(nmodels):\n",
    "        #print('m', m, len(np.where(model_index_matrix[m] ==1)[0]))\n",
    "        predictions[m] = np.asarray([get_nwloocv_predictions_singlemodel_dists(projections, dists, gammas[g], model_index_matrix[m], eval_index_matrix[m]) for g in range(ngammas)])\n",
    "    \n",
    "    return(predictions)  \n"
   ]
  },
  {
   "cell_type": "code",
   "execution_count": 183,
   "metadata": {
    "collapsed": true
   },
   "outputs": [],
   "source": [
    "projections = connectivity_data.structure_datas[sid].reg_proj_vcount_norm_renorm\n",
    "dists = losses\n",
    "gammas = gammas\n",
    "model_index_matrix = indices_leaf2ormore[sid]\n",
    "eval_index_matrix = indices_leaf2ormore[sid]\n",
    "m = 0\n",
    "model_indices=  model_index_matrix[m]\n",
    "eval_indices = eval_index_matrix[m]\n",
    "gamma = .1"
   ]
  },
  {
   "cell_type": "code",
   "execution_count": 184,
   "metadata": {
    "collapsed": true
   },
   "outputs": [],
   "source": [
    "    eval_index_val = np.where(eval_indices == 1)[0]\n",
    "    model_index_val = np.where(model_indices == 1)[0]\n",
    "    \n",
    "    projections = np.asarray(projections, dtype=np.float32)\n",
    "    \n",
    "    nmod_ind = len(model_index_val)\n",
    "    neval = len(eval_index_val)\n",
    "    #nexp = centroids.shape[0]\n",
    "    predictions = np.empty(projections.shape)\n",
    "\n",
    "    if len(model_index_val) > 0 and  len(eval_index_val) > 0:\n",
    "        #weights = np.exp(-dists[model_index_val][:, eval_index_val] / gamma)#np.exp(-dists[model_index_val] / gamma) #get_weights(centroids, gamma)\n",
    "        #for i in range(neval):\n",
    "        i = 0 \n",
    "        matchindex = np.where(model_index_val == eval_index_val[i])[0]\n",
    "        otherindices = np.setdiff1d(np.asarray(list(range(nmod_ind))), matchindex)         \n",
    "        #this order of operations is the fastest I found\n",
    "        dists_i = dists[model_index_val][:, eval_index_val[i]] - np.min(dists[model_index_val[otherindices]][:, eval_index_val[i]])\n",
    "        weights_i = np.exp(-dists_i * gamma)#weights[i,:] / np.nansum(weights[i,:][otherindices])\n",
    "        #print(np.nansum(weights[:,i][otherindices]))\n",
    "        weights_i[matchindex] = 0\n",
    "        weights_i = np.asarray(weights_i, dtype=np.float32)\n",
    "        weights_i = weights_i / np.sum(weights_i)\n",
    "        #weights_i[np.isnan(weights_i)] = 0.\n",
    "        pred = np.dot(weights_i, projections[model_index_val])\n",
    "        #predictions[eval_index_val[i]] = pred\n"
   ]
  },
  {
   "cell_type": "code",
   "execution_count": 192,
   "metadata": {},
   "outputs": [
    {
     "data": {
      "text/plain": [
       "592"
      ]
     },
     "execution_count": 192,
     "metadata": {},
     "output_type": "execute_result"
    }
   ],
   "source": [
    "model_index_val[13]"
   ]
  },
  {
   "cell_type": "code",
   "execution_count": 193,
   "metadata": {},
   "outputs": [
    {
     "data": {
      "text/plain": [
       "0.0"
      ]
     },
     "execution_count": 193,
     "metadata": {},
     "output_type": "execute_result"
    }
   ],
   "source": [
    "dists[592,54]"
   ]
  },
  {
   "cell_type": "code",
   "execution_count": 191,
   "metadata": {},
   "outputs": [
    {
     "data": {
      "text/plain": [
       "array([0.63149924, 0.        , 1.14240073, 1.35293366, 0.64729115,\n",
       "       1.06185928, 1.07107956, 1.16103704, 1.47020326, 1.23234753,\n",
       "       1.10751321, 1.0569817 , 1.06820641, 0.        , 0.        ,\n",
       "       0.98993438, 1.16466352, 0.        , 1.28363844, 1.08871043,\n",
       "       1.18932411, 1.2751139 , 1.13054507, 1.0564163 , 1.09586096,\n",
       "       1.22446064])"
      ]
     },
     "execution_count": 191,
     "metadata": {},
     "output_type": "execute_result"
    }
   ],
   "source": [
    "dists_i"
   ]
  },
  {
   "cell_type": "code",
   "execution_count": 186,
   "metadata": {},
   "outputs": [
    {
     "data": {
      "text/plain": [
       "array([2.34874543e-02, 6.28234920e-05, 8.46722032e-05, 5.05646458e-04,\n",
       "       2.39271065e-03, 5.54497261e-03, 7.06436986e-04, 5.07800132e-02,\n",
       "       2.03303352e-04, 0.00000000e+00, 3.01076616e-05, 7.81267323e-03,\n",
       "       3.00719315e-04, 3.83422826e-03, 7.32802786e-04, 1.61159805e-05,\n",
       "       2.87580711e-04, 2.51660924e-02, 1.51362056e-02, 0.00000000e+00,\n",
       "       2.11163206e-04, 2.19367314e-04, 1.34669817e-05, 3.07118549e-04,\n",
       "       1.76694337e-03, 1.56965863e-03, 4.80974704e-04, 3.75759168e-06,\n",
       "       6.33062387e-04, 0.00000000e+00, 1.14701572e-04, 8.93155986e-04,\n",
       "       7.21598882e-03, 1.09051540e-02, 1.08642278e-04, 6.26923400e-04,\n",
       "       6.78166398e-05, 6.73697868e-05, 3.14898789e-05, 6.65621556e-05,\n",
       "       1.80444640e-05, 4.89519094e-04, 1.08077365e-04, 2.69336343e-01,\n",
       "       9.22598047e-05, 6.35380775e-06, 2.10528178e-05, 5.98062277e-01,\n",
       "       2.75048107e-04, 3.18716275e-06, 4.49984521e-02, 6.79857330e-03,\n",
       "       2.15847380e-04, 2.73582805e-03, 1.33404303e-02, 3.28794908e-04,\n",
       "       2.68266711e-04, 1.36964654e-05, 1.94020886e-05, 2.83968548e-04,\n",
       "       1.48379491e-04, 5.25627547e-05, 7.13827927e-03, 6.34376338e-05,\n",
       "       1.32790618e-02, 1.82515814e-05, 2.28374764e-01, 6.59252226e-04,\n",
       "       2.17031082e-03, 1.06709551e-04, 1.48053892e-04, 2.87538934e-02,\n",
       "       2.58682248e-05, 7.55549991e-04, 1.69422640e-06, 2.31009244e-06,\n",
       "       2.57026142e-04, 1.48324957e-02, 6.93113077e-04, 9.36520770e-02,\n",
       "       7.57247981e-05, 1.93042615e-05, 2.18874658e-04, 4.33449255e-04,\n",
       "       1.43242742e-05, 8.83906760e-05, 2.47879478e-04, 6.12792978e-03,\n",
       "       4.47766250e-03, 2.28736571e-05, 6.43036474e-05, 1.24577461e-02,\n",
       "       2.54757790e-04, 1.39755860e-03, 2.00298837e-06, 2.15800155e-05,\n",
       "       3.31099704e-02, 1.78790390e-02, 2.82523781e-03, 1.11577043e-04,\n",
       "       8.60379660e-04, 1.49306364e-03, 2.88333790e-03, 1.22244863e-04,\n",
       "       7.22059864e-04, 1.41496448e-05, 4.79209075e-06, 9.33856718e-05,\n",
       "       4.64516284e-04, 5.95978463e-06, 4.74796288e-05, 3.96252936e-03,\n",
       "       5.44689130e-04, 4.17470665e-06, 1.12705315e-02, 3.78990342e-04,\n",
       "       3.56494206e-06, 1.14650808e-04, 1.14650058e-03, 3.07337614e-03,\n",
       "       1.74690457e-03, 2.96398878e-01, 1.77246029e-03, 4.41017263e-02,\n",
       "       6.26980473e-05, 4.46900167e-02, 5.26725838e-04, 8.79574046e-02,\n",
       "       2.06340547e-03, 6.27486333e-02, 1.59486826e-03, 1.00103917e-03,\n",
       "       6.29712790e-02, 2.93917925e-04, 7.85466764e-05, 6.16620018e-05,\n",
       "       5.14894433e-04, 1.27658459e-05, 7.66909914e-04, 6.62675302e-04,\n",
       "       1.37717742e-02, 6.82407932e-04, 3.13790631e-03, 4.40351432e-03,\n",
       "       4.42642311e-04, 1.06842617e-05, 9.21633182e-05, 2.15371698e-03,\n",
       "       3.45149972e-02, 7.54603148e-02, 1.11466587e-04, 2.17903900e-04,\n",
       "       4.58734762e-03, 4.05398692e-04, 1.20405806e-03, 2.80171051e-03,\n",
       "       2.15752497e-02, 0.00000000e+00, 1.62021592e-04, 1.21137279e-03,\n",
       "       8.37799977e-04, 2.23631016e-03, 3.10470705e-06, 2.73358286e-03,\n",
       "       1.44661404e-03, 1.95124139e-05, 5.26207034e-04, 3.51282273e-04,\n",
       "       1.12209208e-02, 1.27646688e-03, 1.42751273e-03, 1.10206076e-06,\n",
       "       2.44710203e-02, 6.55602617e-03, 8.60625063e-04, 1.72092253e-03,\n",
       "       2.84289446e-04, 1.40234409e-03, 9.61083515e-06, 2.21383034e-05,\n",
       "       1.07992659e-04, 4.36325697e-03, 3.90584115e-04, 1.66472728e-05,\n",
       "       1.74520328e-03, 8.61887075e-03, 8.21752183e-05, 3.41126956e-02,\n",
       "       2.58005421e-05, 1.84253156e-02, 3.14202654e-04, 9.57203272e-04,\n",
       "       2.62932200e-03, 1.04765862e-03, 1.49541749e-02, 6.56570483e-04,\n",
       "       2.03766953e-03, 3.76383177e-05, 2.79988837e-03, 1.20297656e-08,\n",
       "       1.38729205e-03, 1.12500617e-04, 3.45291414e-06, 8.29594865e-05,\n",
       "       3.23299264e-06, 1.81586179e-03, 2.13435094e-04, 4.66712518e-03,\n",
       "       3.54881457e-04, 4.86567842e-05, 2.00413615e-06, 9.92721226e-03,\n",
       "       3.15746502e-06, 1.64227953e-04, 7.70014594e-06, 3.78099794e-05,\n",
       "       8.62120760e-06, 1.01858878e-03, 2.54981183e-02, 7.79160382e-06,\n",
       "       7.09019136e-03, 4.69262861e-02, 1.82639353e-03, 3.73759431e-05,\n",
       "       3.00437183e-04, 7.16043403e-04, 2.51789577e-04, 3.77505239e-06,\n",
       "       1.84783642e-03, 1.85845216e-04, 1.39806885e-03, 3.65942321e-03,\n",
       "       1.56651993e-04, 1.31975685e-03, 6.19352376e-03, 7.10467357e-05,\n",
       "       8.48045020e-05, 4.58972121e-04, 4.71456769e-06, 2.29785946e-04,\n",
       "       1.81181735e-04, 1.26649556e-03, 7.66967569e-05, 1.45708967e-04,\n",
       "       1.05289793e-04, 9.18063277e-04, 4.71722524e-05, 4.27605817e-04,\n",
       "       1.04768944e-04, 6.37486170e-04, 5.67442738e-04, 2.13357362e-05,\n",
       "       2.29089474e-03, 2.20562652e-04, 1.51285517e-03, 1.64651836e-03,\n",
       "       1.59288931e-04, 2.49777129e-03, 2.34567779e-04, 1.08275807e-03,\n",
       "       1.49734588e-02, 5.57059131e-04, 2.43844319e-04, 6.96432684e-03,\n",
       "       2.04488467e-02, 7.28041778e-05, 3.72959650e-04, 3.85138541e-02,\n",
       "       3.53468713e-05, 1.15935924e-03, 5.76354284e-03, 1.50222651e-04,\n",
       "       3.19697167e-04, 1.02891299e-05, 1.55773305e-03, 3.24473940e-02,\n",
       "       1.83266646e-04, 3.25875287e-03, 8.14772490e-03, 1.86187444e-05,\n",
       "       1.69092789e-04, 1.16056924e-06, 1.29378357e-04, 3.68421133e-05,\n",
       "       7.75872590e-03, 1.11647360e-02, 1.80538100e-05, 6.96612638e-04,\n",
       "       3.97164859e-02, 4.09458913e-02, 2.94567402e-02, 8.46365653e-03,\n",
       "       4.94057895e-05, 2.67953055e-05, 8.78402556e-04, 4.60731884e-04,\n",
       "       9.07602441e-03, 2.85537913e-04, 1.65472666e-04, 2.26417051e-05,\n",
       "       2.89502941e-06, 1.02396145e-04, 3.87146370e-04, 1.54559661e-04,\n",
       "       5.40268142e-04, 6.73489558e-05, 1.65782767e-05, 8.38625929e-05,\n",
       "       2.59784050e-04, 5.36256994e-04, 4.78512789e-07, 4.18260082e-04,\n",
       "       4.97154906e-06, 5.62881951e-06, 1.34771911e-03, 8.64606176e-04,\n",
       "       1.75516005e-03, 2.37817338e-04, 2.31181693e-05, 1.74752058e-04,\n",
       "       0.00000000e+00, 3.36777593e-04, 3.35621560e-04, 7.83605874e-03,\n",
       "       2.08749622e-03, 3.21920015e-06, 3.24880893e-05, 2.28844816e-04,\n",
       "       1.05700274e-05, 3.27414855e-05, 3.79218341e-06, 2.30244837e-06,\n",
       "       3.05010966e-04, 6.19419880e-05, 7.33801135e-05, 5.56935665e-05,\n",
       "       7.01227782e-06, 6.23245724e-05, 7.37486553e-05, 3.30617913e-04,\n",
       "       1.42497165e-05, 1.02986967e-04, 3.14759673e-03, 1.93981687e-04,\n",
       "       1.23892769e-05, 6.23360509e-03, 8.07837278e-05, 1.71605730e-04,\n",
       "       1.73600438e-05, 1.61106236e-05, 1.00257952e-04, 1.43278276e-05,\n",
       "       4.80791461e-03, 1.04781093e-05, 6.88376031e-06, 4.53523062e-05,\n",
       "       8.30978970e-05, 1.95503724e-03, 6.83729377e-05, 2.39673209e-05,\n",
       "       6.62232333e-06, 9.87017876e-04, 1.16712996e-04, 1.14076488e-06,\n",
       "       3.62031860e-05, 1.47476429e-04, 7.72861677e-05, 7.04088670e-05,\n",
       "       2.87832809e-04, 2.60848992e-06, 3.32404943e-06, 5.25493990e-04,\n",
       "       2.44698094e-05, 1.19201446e-04, 4.31311264e-06, 5.24705881e-03,\n",
       "       1.02640406e-05, 8.92532717e-06, 3.41507766e-05, 1.00040728e-04,\n",
       "       4.15486051e-04, 2.13140505e-04, 3.38577447e-05, 4.57001297e-05,\n",
       "       2.41686503e-05, 2.36407195e-05, 1.29045729e-04, 0.00000000e+00,\n",
       "       6.55865588e-05, 6.58302888e-05, 1.09022716e-03, 9.72339039e-05,\n",
       "       2.04315031e-04, 1.29622886e-05, 1.83575630e-05, 4.37507406e-05,\n",
       "       2.17831170e-04, 1.89366692e-05, 3.49286274e-05, 1.50145934e-04,\n",
       "       2.37226177e-05, 1.48809818e-06, 3.81890079e-03, 5.75112135e-05,\n",
       "       2.38332041e-06, 3.50880982e-05, 2.44796334e-04, 1.48216874e-04,\n",
       "       5.05604330e-05, 5.83058037e-03, 6.91374182e-04, 2.78858375e-03,\n",
       "       1.72785745e-04, 2.33746809e-03, 2.24967720e-03, 9.11097694e-03,\n",
       "       3.32817755e-04, 3.47569701e-03, 2.10391113e-06, 7.74001019e-05,\n",
       "       2.83721951e-03, 5.06543220e-05, 1.99154292e-05, 2.00778486e-05,\n",
       "       3.12730484e-03, 2.02636675e-05, 2.14517946e-04, 3.32458330e-06,\n",
       "       1.00860035e-03, 5.05658332e-04, 3.30059254e-03, 9.35493852e-04,\n",
       "       3.29115050e-04, 9.02377542e-06, 3.72406823e-04, 1.54561189e-03,\n",
       "       2.20836901e-05, 3.02457809e-03, 1.26042289e-06, 1.21540892e-04,\n",
       "       3.65904649e-04, 8.40930225e-05, 9.26353270e-04, 4.61232958e-05,\n",
       "       1.56504801e-04, 2.82206747e-06, 1.04732710e-04, 8.81459739e-04,\n",
       "       3.27465852e-04, 3.74730444e-03, 1.15420698e-04, 7.01569207e-03,\n",
       "       3.03766603e-04, 1.29137461e-05, 1.31603156e-04, 1.45523998e-04,\n",
       "       2.85016769e-03, 1.68671575e-03, 4.13030712e-03, 6.35406650e-06,\n",
       "       2.11134793e-05, 1.77047026e-04, 7.81791186e-06, 3.40298889e-03,\n",
       "       1.58392140e-04, 1.39875617e-03, 4.19188000e-05, 2.82915462e-05,\n",
       "       7.23360063e-05, 3.13043565e-04, 1.27130101e-04, 1.54078789e-05,\n",
       "       3.18564998e-04, 2.90997908e-03, 4.73176915e-05, 1.87202295e-05,\n",
       "       1.33042759e-05, 4.88707428e-06, 4.23007114e-05, 3.01040882e-06,\n",
       "       2.72431551e-03, 3.40699160e-04, 1.30080832e-06, 1.47058236e-04,\n",
       "       1.45289392e-04, 4.19311937e-06, 2.13197386e-03, 0.00000000e+00,\n",
       "       5.68489622e-06, 1.31140632e-06, 1.55257934e-04, 8.86090845e-07,\n",
       "       1.79778412e-03, 1.34487957e-04, 6.18950526e-06, 6.56552787e-04,\n",
       "       5.02295688e-06, 2.44286116e-06, 1.01585290e-03, 5.27593693e-06,\n",
       "       9.77993041e-05, 1.15616267e-05, 2.91788292e-05, 3.29015893e-05,\n",
       "       1.96658279e-04, 1.07520691e-03, 4.57469105e-06, 9.11345647e-04,\n",
       "       2.16001552e-03, 4.72220097e-04, 3.79302255e-05, 4.37752460e-05,\n",
       "       4.55264308e-05, 1.45146376e-04, 0.00000000e+00, 7.28279294e-04,\n",
       "       1.01108060e-04, 1.71746608e-04, 5.14953514e-04, 2.25223906e-04,\n",
       "       1.61057433e-05, 9.00266634e-04, 6.35162141e-05, 2.16713033e-05,\n",
       "       1.82152173e-04, 1.17179889e-05, 4.09297616e-04, 4.50660227e-05,\n",
       "       5.49480319e-04, 3.31017072e-04, 1.24575876e-04, 7.50387844e-05,\n",
       "       1.62793411e-04, 5.18389978e-04, 2.03686315e-04, 1.01196661e-03,\n",
       "       8.01523929e-05, 1.75737241e-05, 2.74355931e-04, 8.17069958e-05,\n",
       "       9.88709944e-05, 7.80781033e-04, 1.37758325e-04, 1.03796971e-04,\n",
       "       1.16762712e-04, 1.12289868e-04, 4.74175386e-06, 1.49107182e-05,\n",
       "       2.51472316e-04, 5.06290060e-04, 4.14017268e-06, 1.45684928e-04,\n",
       "       3.65083106e-04, 2.97054881e-03, 1.77204365e-05, 1.29282661e-03,\n",
       "       5.52412675e-05, 1.75162189e-04, 1.05772470e-03, 1.63662298e-05,\n",
       "       6.44713524e-04, 3.95523421e-06, 3.86349042e-04, 8.95464153e-04,\n",
       "       6.55414886e-04, 3.10396572e-05, 3.22436499e-05, 1.38916323e-04,\n",
       "       2.74099060e-04, 5.88678131e-06, 7.96750886e-04, 4.00914950e-03,\n",
       "       1.48581588e-04, 6.17107071e-05, 1.58121611e-03, 2.18322128e-03,\n",
       "       2.26633693e-03], dtype=float32)"
      ]
     },
     "execution_count": 186,
     "metadata": {},
     "output_type": "execute_result"
    }
   ],
   "source": [
    "pred"
   ]
  },
  {
   "cell_type": "code",
   "execution_count": 272,
   "metadata": {
    "collapsed": true
   },
   "outputs": [],
   "source": [
    "projections = connectivity_data.structure_datas[sid].reg_proj_vcount_norm_renorm\n",
    "dists = losses\n",
    "gammas = gammas\n",
    "model_index_matrix = indices_leaf2ormore[sid]\n",
    "eval_index_matrix = indices_leaf2ormore[sid]\n",
    "m = 0\n",
    "model_indices=  model_index_matrix[m]\n",
    "eval_indices = screened_eval_indices[315][m]#eval_index_matrix[m]\n",
    "gamma = .1"
   ]
  },
  {
   "cell_type": "code",
   "execution_count": 275,
   "metadata": {},
   "outputs": [
    {
     "data": {
      "text/plain": [
       "array([  54,  103,  111,  260,  303,  316,  357,  372,  411,  473,  487,\n",
       "        521,  633,  648,  698,  898,  933,  986,  990, 1044, 1079, 1115])"
      ]
     },
     "execution_count": 275,
     "metadata": {},
     "output_type": "execute_result"
    }
   ],
   "source": [
    "eval_index_val"
   ]
  },
  {
   "cell_type": "code",
   "execution_count": 276,
   "metadata": {},
   "outputs": [
    {
     "data": {
      "text/plain": [
       "array([  54,   56,  103,  111,  260,  303,  316,  357,  372,  411,  473,\n",
       "        487,  521,  592,  597,  633,  648,  662,  698,  898,  933,  986,\n",
       "        990, 1044, 1079, 1115])"
      ]
     },
     "execution_count": 276,
     "metadata": {},
     "output_type": "execute_result"
    }
   ],
   "source": [
    "model_index_val"
   ]
  },
  {
   "cell_type": "code",
   "execution_count": 277,
   "metadata": {
    "collapsed": true
   },
   "outputs": [],
   "source": [
    "    eval_index_val = np.where(eval_indices == 1)[0]\n",
    "    model_index_val = np.where(model_indices == 1)[0]\n",
    "    \n",
    "    projections = np.asarray(projections, dtype=np.float32)\n",
    "    \n",
    "    nmod_ind = len(model_index_val)\n",
    "    neval = len(eval_index_val)\n",
    "    #nexp = centroids.shape[0]\n",
    "    predictions = np.empty(projections.shape)\n",
    "\n",
    "    if len(model_index_val) > 0 and  len(eval_index_val) > 0:\n",
    "        #weights = np.exp(-dists[model_index_val][:, eval_index_val] / gamma)#np.exp(-dists[model_index_val] / gamma) #get_weights(centroids, gamma)\n",
    "        #for i in range(neval):\n",
    "        i = 0 \n",
    "        matchindex = np.where(model_index_val == eval_index_val[i])[0]\n",
    "        otherindices = np.setdiff1d(np.asarray(list(range(nmod_ind))), matchindex)         \n",
    "        #this order of operations is the fastest I found\n",
    "        dists_i = dists[model_index_val][:, eval_index_val[i]] - np.min(dists[model_index_val[otherindices]][:, eval_index_val[i]])\n",
    "        weights_i = np.exp(-dists_i * gamma)#weights[i,:] / np.nansum(weights[i,:][otherindices])\n",
    "        #print(np.nansum(weights[:,i][otherindices]))\n",
    "        weights_i[matchindex] = 0\n",
    "        weights_i = np.asarray(weights_i, dtype=np.float32)\n",
    "        weights_i = weights_i / np.sum(weights_i)\n",
    "        #weights_i[np.isnan(weights_i)] = 0.\n",
    "        pred = np.dot(weights_i, projections[model_index_val])\n",
    "        #predictions[eval_index_val[i]] = pred\n"
   ]
  },
  {
   "cell_type": "code",
   "execution_count": 287,
   "metadata": {},
   "outputs": [
    {
     "data": {
      "text/plain": [
       "0.0"
      ]
     },
     "execution_count": 287,
     "metadata": {},
     "output_type": "execute_result"
    }
   ],
   "source": [
    "dists[model_index_val][:, eval_index_val[i]][13]"
   ]
  },
  {
   "cell_type": "code",
   "execution_count": 288,
   "metadata": {},
   "outputs": [
    {
     "data": {
      "text/plain": [
       "592"
      ]
     },
     "execution_count": 288,
     "metadata": {},
     "output_type": "execute_result"
    }
   ],
   "source": [
    "model_index_val[13]"
   ]
  },
  {
   "cell_type": "code",
   "execution_count": 291,
   "metadata": {},
   "outputs": [
    {
     "data": {
      "text/plain": [
       "array([  54,  103,  111,  260,  303,  316,  357,  372,  411,  473,  487,\n",
       "        521,  633,  648,  698,  898,  933,  986,  990, 1044, 1079, 1115])"
      ]
     },
     "execution_count": 291,
     "metadata": {},
     "output_type": "execute_result"
    }
   ],
   "source": [
    "eval_index_val"
   ]
  },
  {
   "cell_type": "code",
   "execution_count": 289,
   "metadata": {
    "scrolled": true
   },
   "outputs": [
    {
     "data": {
      "text/plain": [
       "'Npr3-IRES2-Cre'"
      ]
     },
     "execution_count": 289,
     "metadata": {},
     "output_type": "execute_result"
    }
   ],
   "source": [
    "creline[315][592]"
   ]
  },
  {
   "cell_type": "code",
   "execution_count": 290,
   "metadata": {},
   "outputs": [
    {
     "data": {
      "text/plain": [
       "array(['Penk-IRES2-Cre-neo', 'Syt6-Cre_KI148', 'Ntsr1-Cre_GN220',\n",
       "       'Penk-IRES2-Cre-neo', 'Ntsr1-Cre_GN220', 'Ntsr1-Cre_GN220',\n",
       "       'Ntsr1-Cre_GN220', 'Rbp4-Cre_KL100', 'Ntsr1-Cre_GN220',\n",
       "       'Ntsr1-Cre_GN220', 'Ntsr1-Cre_GN220', 'Ntsr1-Cre_GN220',\n",
       "       'Ctgf-T2A-dgCre', 'Ntsr1-Cre_GN220', 'Ntsr1-Cre_GN220',\n",
       "       'Ntsr1-Cre_GN220', 'Ntsr1-Cre_GN220', 'Syt6-Cre_KI148',\n",
       "       'Ctgf-T2A-dgCre', 'Ntsr1-Cre_GN220', 'Syt6-Cre_KI148',\n",
       "       'Rbp4-Cre_KL100'], dtype=object)"
      ]
     },
     "execution_count": 290,
     "metadata": {},
     "output_type": "execute_result"
    }
   ],
   "source": [
    "creline[315][eval_index_val]"
   ]
  },
  {
   "cell_type": "code",
   "execution_count": 285,
   "metadata": {},
   "outputs": [
    {
     "data": {
      "text/plain": [
       "(array([  54,   56,  103,  111,  260,  303,  316,  357,  372,  411,  473,\n",
       "         487,  521,  592,  597,  633,  648,  662,  698,  898,  933,  986,\n",
       "         990, 1044, 1079, 1115]),\n",
       " array([  54,  103,  111,  260,  303,  316,  357,  372,  411,  473,  487,\n",
       "         521,  633,  648,  698,  898,  933,  986,  990, 1044, 1079, 1115]))"
      ]
     },
     "execution_count": 285,
     "metadata": {},
     "output_type": "execute_result"
    }
   ],
   "source": [
    "model_index_val,eval_index_val"
   ]
  },
  {
   "cell_type": "code",
   "execution_count": 279,
   "metadata": {},
   "outputs": [
    {
     "data": {
      "text/plain": [
       "array([0.63149924, 0.        , 1.14240073, 1.35293366, 0.64729115,\n",
       "       1.06185928, 1.07107956, 1.16103704, 1.47020326, 1.23234753,\n",
       "       1.10751321, 1.0569817 , 1.06820641, 0.        , 0.        ,\n",
       "       0.98993438, 1.16466352, 0.        , 1.28363844, 1.08871043,\n",
       "       1.18932411, 1.2751139 , 1.13054507, 1.0564163 , 1.09586096,\n",
       "       1.22446064])"
      ]
     },
     "execution_count": 279,
     "metadata": {},
     "output_type": "execute_result"
    }
   ],
   "source": [
    "dists_i"
   ]
  },
  {
   "cell_type": "code",
   "execution_count": 280,
   "metadata": {},
   "outputs": [
    {
     "data": {
      "text/plain": [
       "array([2.34874543e-02, 6.28234920e-05, 8.46722032e-05, 5.05646458e-04,\n",
       "       2.39271065e-03, 5.54497261e-03, 7.06436986e-04, 5.07800132e-02,\n",
       "       2.03303352e-04, 0.00000000e+00, 3.01076616e-05, 7.81267323e-03,\n",
       "       3.00719315e-04, 3.83422826e-03, 7.32802786e-04, 1.61159805e-05,\n",
       "       2.87580711e-04, 2.51660924e-02, 1.51362056e-02, 0.00000000e+00,\n",
       "       2.11163206e-04, 2.19367314e-04, 1.34669817e-05, 3.07118549e-04,\n",
       "       1.76694337e-03, 1.56965863e-03, 4.80974704e-04, 3.75759168e-06,\n",
       "       6.33062387e-04, 0.00000000e+00, 1.14701572e-04, 8.93155986e-04,\n",
       "       7.21598882e-03, 1.09051540e-02, 1.08642278e-04, 6.26923400e-04,\n",
       "       6.78166398e-05, 6.73697868e-05, 3.14898789e-05, 6.65621556e-05,\n",
       "       1.80444640e-05, 4.89519094e-04, 1.08077365e-04, 2.69336343e-01,\n",
       "       9.22598047e-05, 6.35380775e-06, 2.10528178e-05, 5.98062277e-01,\n",
       "       2.75048107e-04, 3.18716275e-06, 4.49984521e-02, 6.79857330e-03,\n",
       "       2.15847380e-04, 2.73582805e-03, 1.33404303e-02, 3.28794908e-04,\n",
       "       2.68266711e-04, 1.36964654e-05, 1.94020886e-05, 2.83968548e-04,\n",
       "       1.48379491e-04, 5.25627547e-05, 7.13827927e-03, 6.34376338e-05,\n",
       "       1.32790618e-02, 1.82515814e-05, 2.28374764e-01, 6.59252226e-04,\n",
       "       2.17031082e-03, 1.06709551e-04, 1.48053892e-04, 2.87538934e-02,\n",
       "       2.58682248e-05, 7.55549991e-04, 1.69422640e-06, 2.31009244e-06,\n",
       "       2.57026142e-04, 1.48324957e-02, 6.93113077e-04, 9.36520770e-02,\n",
       "       7.57247981e-05, 1.93042615e-05, 2.18874658e-04, 4.33449255e-04,\n",
       "       1.43242742e-05, 8.83906760e-05, 2.47879478e-04, 6.12792978e-03,\n",
       "       4.47766250e-03, 2.28736571e-05, 6.43036474e-05, 1.24577461e-02,\n",
       "       2.54757790e-04, 1.39755860e-03, 2.00298837e-06, 2.15800155e-05,\n",
       "       3.31099704e-02, 1.78790390e-02, 2.82523781e-03, 1.11577043e-04,\n",
       "       8.60379660e-04, 1.49306364e-03, 2.88333790e-03, 1.22244863e-04,\n",
       "       7.22059864e-04, 1.41496448e-05, 4.79209075e-06, 9.33856718e-05,\n",
       "       4.64516284e-04, 5.95978463e-06, 4.74796288e-05, 3.96252936e-03,\n",
       "       5.44689130e-04, 4.17470665e-06, 1.12705315e-02, 3.78990342e-04,\n",
       "       3.56494206e-06, 1.14650808e-04, 1.14650058e-03, 3.07337614e-03,\n",
       "       1.74690457e-03, 2.96398878e-01, 1.77246029e-03, 4.41017263e-02,\n",
       "       6.26980473e-05, 4.46900167e-02, 5.26725838e-04, 8.79574046e-02,\n",
       "       2.06340547e-03, 6.27486333e-02, 1.59486826e-03, 1.00103917e-03,\n",
       "       6.29712790e-02, 2.93917925e-04, 7.85466764e-05, 6.16620018e-05,\n",
       "       5.14894433e-04, 1.27658459e-05, 7.66909914e-04, 6.62675302e-04,\n",
       "       1.37717742e-02, 6.82407932e-04, 3.13790631e-03, 4.40351432e-03,\n",
       "       4.42642311e-04, 1.06842617e-05, 9.21633182e-05, 2.15371698e-03,\n",
       "       3.45149972e-02, 7.54603148e-02, 1.11466587e-04, 2.17903900e-04,\n",
       "       4.58734762e-03, 4.05398692e-04, 1.20405806e-03, 2.80171051e-03,\n",
       "       2.15752497e-02, 0.00000000e+00, 1.62021592e-04, 1.21137279e-03,\n",
       "       8.37799977e-04, 2.23631016e-03, 3.10470705e-06, 2.73358286e-03,\n",
       "       1.44661404e-03, 1.95124139e-05, 5.26207034e-04, 3.51282273e-04,\n",
       "       1.12209208e-02, 1.27646688e-03, 1.42751273e-03, 1.10206076e-06,\n",
       "       2.44710203e-02, 6.55602617e-03, 8.60625063e-04, 1.72092253e-03,\n",
       "       2.84289446e-04, 1.40234409e-03, 9.61083515e-06, 2.21383034e-05,\n",
       "       1.07992659e-04, 4.36325697e-03, 3.90584115e-04, 1.66472728e-05,\n",
       "       1.74520328e-03, 8.61887075e-03, 8.21752183e-05, 3.41126956e-02,\n",
       "       2.58005421e-05, 1.84253156e-02, 3.14202654e-04, 9.57203272e-04,\n",
       "       2.62932200e-03, 1.04765862e-03, 1.49541749e-02, 6.56570483e-04,\n",
       "       2.03766953e-03, 3.76383177e-05, 2.79988837e-03, 1.20297656e-08,\n",
       "       1.38729205e-03, 1.12500617e-04, 3.45291414e-06, 8.29594865e-05,\n",
       "       3.23299264e-06, 1.81586179e-03, 2.13435094e-04, 4.66712518e-03,\n",
       "       3.54881457e-04, 4.86567842e-05, 2.00413615e-06, 9.92721226e-03,\n",
       "       3.15746502e-06, 1.64227953e-04, 7.70014594e-06, 3.78099794e-05,\n",
       "       8.62120760e-06, 1.01858878e-03, 2.54981183e-02, 7.79160382e-06,\n",
       "       7.09019136e-03, 4.69262861e-02, 1.82639353e-03, 3.73759431e-05,\n",
       "       3.00437183e-04, 7.16043403e-04, 2.51789577e-04, 3.77505239e-06,\n",
       "       1.84783642e-03, 1.85845216e-04, 1.39806885e-03, 3.65942321e-03,\n",
       "       1.56651993e-04, 1.31975685e-03, 6.19352376e-03, 7.10467357e-05,\n",
       "       8.48045020e-05, 4.58972121e-04, 4.71456769e-06, 2.29785946e-04,\n",
       "       1.81181735e-04, 1.26649556e-03, 7.66967569e-05, 1.45708967e-04,\n",
       "       1.05289793e-04, 9.18063277e-04, 4.71722524e-05, 4.27605817e-04,\n",
       "       1.04768944e-04, 6.37486170e-04, 5.67442738e-04, 2.13357362e-05,\n",
       "       2.29089474e-03, 2.20562652e-04, 1.51285517e-03, 1.64651836e-03,\n",
       "       1.59288931e-04, 2.49777129e-03, 2.34567779e-04, 1.08275807e-03,\n",
       "       1.49734588e-02, 5.57059131e-04, 2.43844319e-04, 6.96432684e-03,\n",
       "       2.04488467e-02, 7.28041778e-05, 3.72959650e-04, 3.85138541e-02,\n",
       "       3.53468713e-05, 1.15935924e-03, 5.76354284e-03, 1.50222651e-04,\n",
       "       3.19697167e-04, 1.02891299e-05, 1.55773305e-03, 3.24473940e-02,\n",
       "       1.83266646e-04, 3.25875287e-03, 8.14772490e-03, 1.86187444e-05,\n",
       "       1.69092789e-04, 1.16056924e-06, 1.29378357e-04, 3.68421133e-05,\n",
       "       7.75872590e-03, 1.11647360e-02, 1.80538100e-05, 6.96612638e-04,\n",
       "       3.97164859e-02, 4.09458913e-02, 2.94567402e-02, 8.46365653e-03,\n",
       "       4.94057895e-05, 2.67953055e-05, 8.78402556e-04, 4.60731884e-04,\n",
       "       9.07602441e-03, 2.85537913e-04, 1.65472666e-04, 2.26417051e-05,\n",
       "       2.89502941e-06, 1.02396145e-04, 3.87146370e-04, 1.54559661e-04,\n",
       "       5.40268142e-04, 6.73489558e-05, 1.65782767e-05, 8.38625929e-05,\n",
       "       2.59784050e-04, 5.36256994e-04, 4.78512789e-07, 4.18260082e-04,\n",
       "       4.97154906e-06, 5.62881951e-06, 1.34771911e-03, 8.64606176e-04,\n",
       "       1.75516005e-03, 2.37817338e-04, 2.31181693e-05, 1.74752058e-04,\n",
       "       0.00000000e+00, 3.36777593e-04, 3.35621560e-04, 7.83605874e-03,\n",
       "       2.08749622e-03, 3.21920015e-06, 3.24880893e-05, 2.28844816e-04,\n",
       "       1.05700274e-05, 3.27414855e-05, 3.79218341e-06, 2.30244837e-06,\n",
       "       3.05010966e-04, 6.19419880e-05, 7.33801135e-05, 5.56935665e-05,\n",
       "       7.01227782e-06, 6.23245724e-05, 7.37486553e-05, 3.30617913e-04,\n",
       "       1.42497165e-05, 1.02986967e-04, 3.14759673e-03, 1.93981687e-04,\n",
       "       1.23892769e-05, 6.23360509e-03, 8.07837278e-05, 1.71605730e-04,\n",
       "       1.73600438e-05, 1.61106236e-05, 1.00257952e-04, 1.43278276e-05,\n",
       "       4.80791461e-03, 1.04781093e-05, 6.88376031e-06, 4.53523062e-05,\n",
       "       8.30978970e-05, 1.95503724e-03, 6.83729377e-05, 2.39673209e-05,\n",
       "       6.62232333e-06, 9.87017876e-04, 1.16712996e-04, 1.14076488e-06,\n",
       "       3.62031860e-05, 1.47476429e-04, 7.72861677e-05, 7.04088670e-05,\n",
       "       2.87832809e-04, 2.60848992e-06, 3.32404943e-06, 5.25493990e-04,\n",
       "       2.44698094e-05, 1.19201446e-04, 4.31311264e-06, 5.24705881e-03,\n",
       "       1.02640406e-05, 8.92532717e-06, 3.41507766e-05, 1.00040728e-04,\n",
       "       4.15486051e-04, 2.13140505e-04, 3.38577447e-05, 4.57001297e-05,\n",
       "       2.41686503e-05, 2.36407195e-05, 1.29045729e-04, 0.00000000e+00,\n",
       "       6.55865588e-05, 6.58302888e-05, 1.09022716e-03, 9.72339039e-05,\n",
       "       2.04315031e-04, 1.29622886e-05, 1.83575630e-05, 4.37507406e-05,\n",
       "       2.17831170e-04, 1.89366692e-05, 3.49286274e-05, 1.50145934e-04,\n",
       "       2.37226177e-05, 1.48809818e-06, 3.81890079e-03, 5.75112135e-05,\n",
       "       2.38332041e-06, 3.50880982e-05, 2.44796334e-04, 1.48216874e-04,\n",
       "       5.05604330e-05, 5.83058037e-03, 6.91374182e-04, 2.78858375e-03,\n",
       "       1.72785745e-04, 2.33746809e-03, 2.24967720e-03, 9.11097694e-03,\n",
       "       3.32817755e-04, 3.47569701e-03, 2.10391113e-06, 7.74001019e-05,\n",
       "       2.83721951e-03, 5.06543220e-05, 1.99154292e-05, 2.00778486e-05,\n",
       "       3.12730484e-03, 2.02636675e-05, 2.14517946e-04, 3.32458330e-06,\n",
       "       1.00860035e-03, 5.05658332e-04, 3.30059254e-03, 9.35493852e-04,\n",
       "       3.29115050e-04, 9.02377542e-06, 3.72406823e-04, 1.54561189e-03,\n",
       "       2.20836901e-05, 3.02457809e-03, 1.26042289e-06, 1.21540892e-04,\n",
       "       3.65904649e-04, 8.40930225e-05, 9.26353270e-04, 4.61232958e-05,\n",
       "       1.56504801e-04, 2.82206747e-06, 1.04732710e-04, 8.81459739e-04,\n",
       "       3.27465852e-04, 3.74730444e-03, 1.15420698e-04, 7.01569207e-03,\n",
       "       3.03766603e-04, 1.29137461e-05, 1.31603156e-04, 1.45523998e-04,\n",
       "       2.85016769e-03, 1.68671575e-03, 4.13030712e-03, 6.35406650e-06,\n",
       "       2.11134793e-05, 1.77047026e-04, 7.81791186e-06, 3.40298889e-03,\n",
       "       1.58392140e-04, 1.39875617e-03, 4.19188000e-05, 2.82915462e-05,\n",
       "       7.23360063e-05, 3.13043565e-04, 1.27130101e-04, 1.54078789e-05,\n",
       "       3.18564998e-04, 2.90997908e-03, 4.73176915e-05, 1.87202295e-05,\n",
       "       1.33042759e-05, 4.88707428e-06, 4.23007114e-05, 3.01040882e-06,\n",
       "       2.72431551e-03, 3.40699160e-04, 1.30080832e-06, 1.47058236e-04,\n",
       "       1.45289392e-04, 4.19311937e-06, 2.13197386e-03, 0.00000000e+00,\n",
       "       5.68489622e-06, 1.31140632e-06, 1.55257934e-04, 8.86090845e-07,\n",
       "       1.79778412e-03, 1.34487957e-04, 6.18950526e-06, 6.56552787e-04,\n",
       "       5.02295688e-06, 2.44286116e-06, 1.01585290e-03, 5.27593693e-06,\n",
       "       9.77993041e-05, 1.15616267e-05, 2.91788292e-05, 3.29015893e-05,\n",
       "       1.96658279e-04, 1.07520691e-03, 4.57469105e-06, 9.11345647e-04,\n",
       "       2.16001552e-03, 4.72220097e-04, 3.79302255e-05, 4.37752460e-05,\n",
       "       4.55264308e-05, 1.45146376e-04, 0.00000000e+00, 7.28279294e-04,\n",
       "       1.01108060e-04, 1.71746608e-04, 5.14953514e-04, 2.25223906e-04,\n",
       "       1.61057433e-05, 9.00266634e-04, 6.35162141e-05, 2.16713033e-05,\n",
       "       1.82152173e-04, 1.17179889e-05, 4.09297616e-04, 4.50660227e-05,\n",
       "       5.49480319e-04, 3.31017072e-04, 1.24575876e-04, 7.50387844e-05,\n",
       "       1.62793411e-04, 5.18389978e-04, 2.03686315e-04, 1.01196661e-03,\n",
       "       8.01523929e-05, 1.75737241e-05, 2.74355931e-04, 8.17069958e-05,\n",
       "       9.88709944e-05, 7.80781033e-04, 1.37758325e-04, 1.03796971e-04,\n",
       "       1.16762712e-04, 1.12289868e-04, 4.74175386e-06, 1.49107182e-05,\n",
       "       2.51472316e-04, 5.06290060e-04, 4.14017268e-06, 1.45684928e-04,\n",
       "       3.65083106e-04, 2.97054881e-03, 1.77204365e-05, 1.29282661e-03,\n",
       "       5.52412675e-05, 1.75162189e-04, 1.05772470e-03, 1.63662298e-05,\n",
       "       6.44713524e-04, 3.95523421e-06, 3.86349042e-04, 8.95464153e-04,\n",
       "       6.55414886e-04, 3.10396572e-05, 3.22436499e-05, 1.38916323e-04,\n",
       "       2.74099060e-04, 5.88678131e-06, 7.96750886e-04, 4.00914950e-03,\n",
       "       1.48581588e-04, 6.17107071e-05, 1.58121611e-03, 2.18322128e-03,\n",
       "       2.26633693e-03], dtype=float32)"
      ]
     },
     "execution_count": 280,
     "metadata": {},
     "output_type": "execute_result"
    }
   ],
   "source": [
    "pred"
   ]
  },
  {
   "cell_type": "code",
   "execution_count": 137,
   "metadata": {},
   "outputs": [
    {
     "data": {
      "text/plain": [
       "nan"
      ]
     },
     "execution_count": 137,
     "metadata": {},
     "output_type": "execute_result"
    }
   ],
   "source": [
    "np.min(dists[model_index_val[otherindices]][:, eval_index_val[i]])"
   ]
  },
  {
   "cell_type": "code",
   "execution_count": 150,
   "metadata": {},
   "outputs": [
    {
     "data": {
      "text/plain": [
       "array([  56,  103,  111,  260,  303,  316,  357,  372,  411,  473,  487,\n",
       "        521,  592,  597,  633,  648,  662,  698,  898,  933,  986,  990,\n",
       "       1044, 1079, 1115])"
      ]
     },
     "execution_count": 150,
     "metadata": {},
     "output_type": "execute_result"
    }
   ],
   "source": [
    "model_index_val[otherindices]"
   ]
  },
  {
   "cell_type": "code",
   "execution_count": null,
   "metadata": {
    "collapsed": true
   },
   "outputs": [],
   "source": []
  },
  {
   "cell_type": "code",
   "execution_count": 138,
   "metadata": {},
   "outputs": [
    {
     "data": {
      "text/plain": [
       "array([       nan, 1.14240073, 1.35293366, 0.64729115, 1.06185928,\n",
       "       1.07107956, 1.16103704, 1.47020326, 1.23234753, 1.10751321,\n",
       "       1.0569817 , 1.06820641,        nan,        nan, 0.98993438,\n",
       "       1.16466352,        nan, 1.28363844, 1.08871043, 1.18932411,\n",
       "       1.2751139 , 1.13054507, 1.0564163 , 1.09586096, 1.22446064])"
      ]
     },
     "execution_count": 138,
     "metadata": {},
     "output_type": "execute_result"
    }
   ],
   "source": [
    "dists[model_index_val[otherindices]][:, eval_index_val[i]]"
   ]
  },
  {
   "cell_type": "code",
   "execution_count": 151,
   "metadata": {},
   "outputs": [
    {
     "data": {
      "text/plain": [
       "54"
      ]
     },
     "execution_count": 151,
     "metadata": {},
     "output_type": "execute_result"
    }
   ],
   "source": [
    "eval_index_val[i]"
   ]
  },
  {
   "cell_type": "code",
   "execution_count": 141,
   "metadata": {},
   "outputs": [
    {
     "data": {
      "text/plain": [
       "array([       nan, 1.14240073, 1.35293366, 0.64729115, 1.06185928,\n",
       "       1.07107956, 1.16103704, 1.47020326, 1.23234753, 1.10751321,\n",
       "       1.0569817 , 1.06820641,        nan,        nan, 0.98993438,\n",
       "       1.16466352,        nan, 1.28363844, 1.08871043, 1.18932411,\n",
       "       1.2751139 , 1.13054507, 1.0564163 , 1.09586096, 1.22446064])"
      ]
     },
     "execution_count": 141,
     "metadata": {},
     "output_type": "execute_result"
    }
   ],
   "source": [
    "dists[model_index_val[otherindices]][:, eval_index_val[i]]"
   ]
  },
  {
   "cell_type": "code",
   "execution_count": 152,
   "metadata": {},
   "outputs": [
    {
     "data": {
      "text/plain": [
       "array([  56,  103,  111,  260,  303,  316,  357,  372,  411,  473,  487,\n",
       "        521,  592,  597,  633,  648,  662,  698,  898,  933,  986,  990,\n",
       "       1044, 1079, 1115])"
      ]
     },
     "execution_count": 152,
     "metadata": {},
     "output_type": "execute_result"
    }
   ],
   "source": [
    "model_index_val[otherindices]"
   ]
  },
  {
   "cell_type": "code",
   "execution_count": 210,
   "metadata": {},
   "outputs": [
    {
     "data": {
      "text/plain": [
       "array([1, 0, 0, 0, 0, 0, 0, 0, 0, 0, 0, 0, 0, 0, 0, 0, 0, 0, 0, 0, 0, 0,\n",
       "       0, 0, 0, 0, 0, 0, 0, 0, 0, 0, 0, 0, 0, 0, 0, 0, 0, 0, 0, 0, 0, 0,\n",
       "       0, 0, 0, 0, 0, 0, 0, 0, 0, 0, 0, 0, 0, 0, 0, 0, 0, 0, 0, 0, 0, 0,\n",
       "       0, 0, 0, 0, 0, 0, 0, 0, 0, 0, 0, 0, 0, 0, 0, 0, 0, 0, 0, 0, 0, 0,\n",
       "       0, 0, 0, 0, 0, 0, 0, 0, 0, 0, 0, 0, 0, 0, 0, 0, 0, 0, 0, 0, 0, 0,\n",
       "       0, 0, 0, 0, 0, 0, 0, 0, 0])"
      ]
     },
     "execution_count": 210,
     "metadata": {},
     "output_type": "execute_result"
    }
   ],
   "source": [
    "indices_leaf2ormore[315][:,54]"
   ]
  },
  {
   "cell_type": "code",
   "execution_count": 211,
   "metadata": {},
   "outputs": [
    {
     "data": {
      "text/plain": [
       "array([1, 0, 0, 0, 0, 0, 0, 0, 0, 0, 0, 0, 0, 0, 0, 0, 0, 0, 0, 0, 0, 0,\n",
       "       0, 0, 0, 0, 0, 0, 0, 0, 0, 0, 0, 0, 0, 0, 0, 0, 0, 0, 0, 0, 0, 0,\n",
       "       0, 0, 0, 0, 0, 0, 0, 0, 0, 0, 0, 0, 0, 0, 0, 0, 0, 0, 0, 0, 0, 0,\n",
       "       0, 0, 0, 0, 0, 0, 0, 0, 0, 0, 0, 0, 0, 0, 0, 0, 0, 0, 0, 0, 0, 0,\n",
       "       0, 0, 0, 0, 0, 0, 0, 0, 0, 0, 0, 0, 0, 0, 0, 0, 0, 0, 0, 0, 0, 0,\n",
       "       0, 0, 0, 0, 0, 0, 0, 0, 0])"
      ]
     },
     "execution_count": 211,
     "metadata": {},
     "output_type": "execute_result"
    }
   ],
   "source": [
    "indices_leaf2ormore[315][:,56]"
   ]
  },
  {
   "cell_type": "code",
   "execution_count": null,
   "metadata": {
    "collapsed": true
   },
   "outputs": [],
   "source": [
    "#credist_cv is 0 in places where perhaps it should not be"
   ]
  },
  {
   "cell_type": "code",
   "execution_count": 213,
   "metadata": {},
   "outputs": [
    {
     "data": {
      "text/plain": [
       "array([  54,   56,  103,  111,  260,  303,  316,  357,  372,  411,  473,\n",
       "        487,  521,  592,  597,  633,  648,  662,  698,  898,  933,  986,\n",
       "        990, 1044, 1079, 1115])"
      ]
     },
     "execution_count": 213,
     "metadata": {},
     "output_type": "execute_result"
    }
   ],
   "source": [
    "np.where(indices_leaf2ormore[315][0] !=0)[0]"
   ]
  },
  {
   "cell_type": "code",
   "execution_count": 214,
   "metadata": {},
   "outputs": [
    {
     "data": {
      "text/plain": [
       "array(['Penk-IRES2-Cre-neo', 'Efr3a-Cre_NO108', 'Syt6-Cre_KI148',\n",
       "       'Ntsr1-Cre_GN220', 'Penk-IRES2-Cre-neo', 'Ntsr1-Cre_GN220',\n",
       "       'Ntsr1-Cre_GN220', 'Ntsr1-Cre_GN220', 'Rbp4-Cre_KL100',\n",
       "       'Ntsr1-Cre_GN220', 'Ntsr1-Cre_GN220', 'Ntsr1-Cre_GN220',\n",
       "       'Ntsr1-Cre_GN220', 'Npr3-IRES2-Cre', 'Gpr26-Cre_KO250',\n",
       "       'Ctgf-T2A-dgCre', 'Ntsr1-Cre_GN220', 'Emx1-IRES-Cre',\n",
       "       'Ntsr1-Cre_GN220', 'Ntsr1-Cre_GN220', 'Ntsr1-Cre_GN220',\n",
       "       'Syt6-Cre_KI148', 'Ctgf-T2A-dgCre', 'Ntsr1-Cre_GN220',\n",
       "       'Syt6-Cre_KI148', 'Rbp4-Cre_KL100'], dtype=object)"
      ]
     },
     "execution_count": 214,
     "metadata": {},
     "output_type": "execute_result"
    }
   ],
   "source": [
    "creline[sid][np.where(indices_leaf2ormore[315][0] !=0)[0]]"
   ]
  },
  {
   "cell_type": "code",
   "execution_count": 215,
   "metadata": {},
   "outputs": [
    {
     "data": {
      "text/plain": [
       "array([33, 33, 33, 33, 33, 33, 33, 33, 33, 33, 33, 33, 33, 33, 33, 33, 33,\n",
       "       33, 33, 33, 33, 33, 33, 33, 33, 33])"
      ]
     },
     "execution_count": 215,
     "metadata": {},
     "output_type": "execute_result"
    }
   ],
   "source": [
    "leafs[sid][np.where(indices_leaf2ormore[315][0] !=0)[0]]"
   ]
  },
  {
   "cell_type": "code",
   "execution_count": 216,
   "metadata": {},
   "outputs": [
    {
     "data": {
      "text/plain": [
       "'Npr3-IRES2-Cre'"
      ]
     },
     "execution_count": 216,
     "metadata": {},
     "output_type": "execute_result"
    }
   ],
   "source": [
    "creline[sid][np.where(indices_leaf2ormore[315][0] !=0)[0]][13]"
   ]
  },
  {
   "cell_type": "code",
   "execution_count": null,
   "metadata": {
    "collapsed": true
   },
   "outputs": [],
   "source": []
  }
 ],
 "metadata": {
  "kernelspec": {
   "display_name": "allen_010719_5",
   "language": "python",
   "name": "allen_010719_5"
  },
  "language_info": {
   "codemirror_mode": {
    "name": "ipython",
    "version": 3
   },
   "file_extension": ".py",
   "mimetype": "text/x-python",
   "name": "python",
   "nbconvert_exporter": "python",
   "pygments_lexer": "ipython3",
   "version": "3.7.6"
  }
 },
 "nbformat": 4,
 "nbformat_minor": 2
}

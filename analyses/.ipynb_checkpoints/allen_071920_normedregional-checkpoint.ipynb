{
 "cells": [
  {
   "cell_type": "code",
   "execution_count": 1,
   "metadata": {},
   "outputs": [
    {
     "name": "stderr",
     "output_type": "stream",
     "text": [
      "/Users/samsonkoelle/anaconda3/envs/allen_010719_5/lib/python3.7/site-packages/sklearn/utils/deprecation.py:144: FutureWarning: The sklearn.linear_model.base module is  deprecated in version 0.22 and will be removed in version 0.24. The corresponding classes / functions should instead be imported from sklearn.linear_model. Anything that cannot be imported from sklearn.linear_model is now part of the private API.\n",
      "  warnings.warn(message, FutureWarning)\n",
      "/Users/samsonkoelle/anaconda3/envs/allen_010719_5/lib/python3.7/site-packages/sklearn/utils/deprecation.py:144: FutureWarning: The sklearn.metrics.scorer module is  deprecated in version 0.22 and will be removed in version 0.24. The corresponding classes / functions should instead be imported from sklearn.metrics. Anything that cannot be imported from sklearn.metrics is now part of the private API.\n",
      "  warnings.warn(message, FutureWarning)\n"
     ]
    }
   ],
   "source": [
    "%load_ext autoreload\n",
    "%autoreload 2\n",
    "\n",
    "import os\n",
    "import numpy as np\n",
    "import pandas as pd \n",
    "import sys\n",
    "import pickle\n",
    "workingdirectory = os.popen('git rev-parse --show-toplevel').read()[:-1]\n",
    "sys.path.append(workingdirectory)\n",
    "os.chdir(workingdirectory)\n",
    "\n",
    "import allensdk.core.json_utilities as ju\n",
    "#import mcmodels\n",
    "from mcmodels.core import VoxelModelCache#.voxel_model_cache import VoxelModelCache\n",
    "from mcmodels.core import Mask\n",
    "from mcmodels.core.utils import get_structure_id, get_ordered_summary_structures\n",
    "from mcmodels.utils import nonzero_unique, unionize\n",
    "from mcmodels.core.utils import get_minorstructures\n",
    "from mcmodels.models.crossvalidation import get_loocv_predictions\n",
    "from mcmodels.core.utils import get_loss_paper\n",
    "from mcmodels.core.experiment import get_voxeldata_msvd\n",
    "from mcmodels.core.utils import get_loss_paper\n",
    "\n",
    "from mcmodels.core import ModelData\n",
    "#from VoxelModel import VoxelModel\n",
    "#from HomogeneousModel import HomogeneousModel\n",
    "\n",
    "#from NadarayaWatson import NadarayaWatson"
   ]
  },
  {
   "cell_type": "code",
   "execution_count": 2,
   "metadata": {
    "collapsed": true
   },
   "outputs": [],
   "source": [
    "#read data\n",
    "TOP_DIR = '/Users/samsonkoelle/alleninstitute/mcm_2020/mcm_updated/'\n",
    "INPUT_JSON = os.path.join(TOP_DIR, 'input_011520.json')\n",
    "EXPERIMENTS_EXCLUDE_JSON = os.path.join(TOP_DIR, 'experiments_exclude.json')\n",
    "FILE_DIR = '/Users/samsonkoelle/alleninstitute/mcm_2020/mcm_updated/'\n",
    "OUTPUT_DIR = os.path.join(FILE_DIR, 'output')\n",
    "\n",
    "input_data = ju.read(INPUT_JSON)\n",
    "manifest_file = input_data.get('manifest_file')\n",
    "manifest_file = os.path.join(TOP_DIR, manifest_file)\n",
    "experiments_exclude = ju.read(EXPERIMENTS_EXCLUDE_JSON)\n",
    "\n",
    "#its unclear why the hyperparameters are loaded from the output directory\n",
    "cache = VoxelModelCache(manifest_file=manifest_file)\n",
    "major_structures = input_data.get('structures')\n",
    "major_structure_ids = [get_structure_id(cache, s) for s in major_structures]\n",
    "\n",
    "#regionalize voxel model: compare with regional model\n",
    "#regional parameters\n",
    "cre = None\n",
    "eid_set=None\n",
    "high_res=False\n",
    "threshold_injection = False"
   ]
  },
  {
   "cell_type": "code",
   "execution_count": 3,
   "metadata": {
    "collapsed": true
   },
   "outputs": [],
   "source": [
    "COARSE_STRUCTURE_SET_ID = 2\n",
    "DEFAULT_STRUCTURE_SET_IDS = tuple([COARSE_STRUCTURE_SET_ID])\n",
    "tree = cache.get_structure_tree()\n",
    "default_structures = tree.get_structures_by_set_id(DEFAULT_STRUCTURE_SET_IDS)\n",
    "default_structure_ids = [st['id'] for st in default_structures if st['id'] != 934]\n",
    "#cre= True"
   ]
  },
  {
   "cell_type": "code",
   "execution_count": 4,
   "metadata": {},
   "outputs": [
    {
     "name": "stdout",
     "output_type": "stream",
     "text": [
      "512\n",
      "None\n",
      "703\n",
      "None\n",
      "1089\n",
      "None\n",
      "1097\n",
      "None\n",
      "315\n",
      "None\n",
      "313\n",
      "None\n",
      "354\n",
      "None\n",
      "698\n",
      "None\n",
      "771\n",
      "None\n",
      "803\n",
      "None\n",
      "477\n",
      "None\n",
      "549\n",
      "None\n"
     ]
    }
   ],
   "source": [
    "msvds = {}\n",
    "#gammas = np.asarray([0.1])\n",
    "for sid in major_structure_ids:\n",
    "    print(sid)\n",
    "    voxel_data = ModelData(cache, sid)\n",
    "    print(cre)\n",
    "    experiment_ids = voxel_data.get_experiment_ids(experiments_exclude=experiments_exclude, cre=cre)\n",
    "    experiment_ids = np.asarray(list(experiment_ids))    \n",
    "    msvd = get_voxeldata_msvd(cache, sid,experiments_exclude,default_structure_ids,cre)\n",
    "    #msvd.l2losses, msvd.paperlosses,msvd.normspredict,msvd.normtrue = single_region_cv(msvd, gammas)\n",
    "    msvds[sid]  = msvd"
   ]
  },
  {
   "cell_type": "code",
   "execution_count": 6,
   "metadata": {
    "collapsed": true
   },
   "outputs": [],
   "source": [
    "data_info = pd.read_excel('/Users/samsonkoelle/alleninstitute/Whole Brain Cre Image Series_curation only.xlsx', 'all datasets curated_070919pull')\n",
    "data_info.set_index(\"id\", inplace=True)\n",
    "ontological_order = get_ordered_summary_structures(cache)\n",
    "\n",
    "exps = np.asarray(data_info.index.values , dtype = np.int)\n",
    "creline = {}\n",
    "for sid in major_structure_ids:\n",
    "    msvd = msvds[sid]\n",
    "    experiment_ids = np.asarray(list(msvd.experiments.keys()))\n",
    "    nexp = len(experiment_ids)\n",
    "    creline[sid] = np.zeros(nexp, dtype = object)\n",
    "    for i in range(len(experiment_ids)):\n",
    "        index = np.where(exps == experiment_ids[i])[0][0]\n",
    "        creline[sid][i] = data_info['transgenic-line'].iloc[index]\n",
    "        \n",
    "experiments_minor_structures = {}\n",
    "for sid in major_structure_ids:\n",
    "    msvd = msvds[sid]\n",
    "    eids = np.asarray(list(msvd.experiments.keys()))\n",
    "    experiments_minor_structures[sid] = get_minorstructures(eids, data_info)"
   ]
  },
  {
   "cell_type": "code",
   "execution_count": 7,
   "metadata": {
    "collapsed": true
   },
   "outputs": [],
   "source": [
    "key = list(msvd.experiments.keys())[0]\n",
    "contra_key = msvd.experiments[key].projection_mask.get_key(structure_ids=ontological_order, hemisphere_id=1)\n",
    "ipsi_key = msvd.experiments[key].projection_mask.get_key(structure_ids=ontological_order, hemisphere_id=2)\n",
    "\n",
    "cre = None\n",
    "l2losses = {}\n",
    "paperlosses = {}\n",
    "normspredict = {}\n",
    "normtrue = {}\n",
    "for sid in major_structure_ids:\n",
    "    #print()\n",
    "    msvd = msvds[sid]\n",
    "    nexp = msvd.projections.shape[0]\n",
    "    ngam = 1\n",
    "    \n",
    "    l2losses[sid] = np.zeros((ngam,nexp))\n",
    "    paperlosses[sid] = np.zeros((ngam,nexp))\n",
    "    normspredict[sid] = np.zeros((ngam,nexp))\n",
    "    normtrue[sid] = np.zeros(nexp)\n",
    "\n",
    "    minor_structures = np.unique(experiments_minor_structures[sid])\n",
    "    nmins = len(minor_structures)\n",
    "    \n",
    "    projections = msvd.projections\n",
    "    ipsi_proj = unionize(projections, ipsi_key)\n",
    "    contra_proj = unionize(projections, contra_key)\n",
    "    reg_proj = np.hstack([ipsi_proj, contra_proj])\n",
    "    msvd.reg_proj = reg_proj\n",
    "    \n",
    "    ipsi_target_regions, ipsi_target_counts = nonzero_unique(ipsi_key, return_counts=True)\n",
    "    contra_target_regions, contra_target_counts = nonzero_unique(contra_key, return_counts=True)\n",
    "    target_counts = np.concatenate([ipsi_target_counts, contra_target_counts])\n",
    "    reg_proj_vcount_norm = np.divide(reg_proj, target_counts[np.newaxis, :])\n",
    "    msvd.reg_proj_vcount_norm = reg_proj_vcount_norm\n",
    "\n",
    "\n",
    "    source_mask = Mask.from_cache(cache, structure_ids=[sid], hemisphere_id=2)\n",
    "    source_key = source_mask.get_key(structure_ids=ontological_order)  \n",
    "    source_target_counts, source_target_counts =nonzero_unique(source_key, return_counts=True)\n",
    "    \n",
    "    injections = msvd.injections\n",
    "    reg_ipsi_inj = unionize(injections, source_key)\n",
    "    msvd.reg_inj = reg_ipsi_inj  \n",
    "    reg_inj_vcount_norm = np.divide(reg_ipsi_inj, source_target_counts[np.newaxis, :])\n",
    "    msvd.reg_inj_vcount_norm = reg_inj_vcount_norm"
   ]
  },
  {
   "cell_type": "code",
   "execution_count": 8,
   "metadata": {},
   "outputs": [
    {
     "name": "stdout",
     "output_type": "stream",
     "text": [
      "0 m\n",
      "1 m\n",
      "2 m\n",
      "3 m\n",
      "4 m\n",
      "5 m\n",
      "6 m\n",
      "7 m\n",
      "8 m\n",
      "9 m\n",
      "10 m\n",
      "11 m\n"
     ]
    }
   ],
   "source": [
    "nms= 12\n",
    "for m in range(nms):\n",
    "    print(m,'m')\n",
    "    sid = major_structure_ids[m]\n",
    "    msvd = msvds[sid]\n",
    "    projections = msvd.reg_proj_vcount_norm\n",
    "    projections = projections / np.expand_dims(np.linalg.norm(projections, axis = 1),1)\n",
    "    msvds[sid].reg_proj_vcount_norm_renorm = projections"
   ]
  },
  {
   "cell_type": "code",
   "execution_count": 9,
   "metadata": {
    "collapsed": true
   },
   "outputs": [],
   "source": [
    "exps = np.asarray(data_info.index.values , dtype = np.int)\n",
    "creline = {}\n",
    "for sid in major_structure_ids:\n",
    "    msvd = msvds[sid]\n",
    "    experiment_ids = np.asarray(list(msvd.experiments.keys()))\n",
    "    nexp = len(experiment_ids)\n",
    "    creline[sid] = np.zeros(nexp, dtype = object)\n",
    "    for i in range(len(experiment_ids)):\n",
    "        index = np.where(exps == experiment_ids[i])[0][0]\n",
    "        creline[sid][i] = data_info['transgenic-line'].iloc[index]\n",
    "\n",
    "#inds_bad are where there is no injection\n",
    "#we can use these to train but shouldnt to evaluate\n",
    "#the 'wt_ind' should just be 'eval_ind'\n",
    "inds_bad = {}\n",
    "inds_good = {}\n",
    "for sid in major_structure_ids:\n",
    "    injections = msvds[sid].injections \n",
    "    inds_bad[sid] = np.where(injections.sum(axis = 1) == 0.)[0]\n",
    "    inds_good[sid] = np.where(injections.sum(axis = 1) > 0.)[0]\n",
    "    \n",
    "nms = len(major_structure_ids)\n",
    "#ngam = len(gammas)\n",
    "wt_2ormore = {}\n",
    "losses_reg_norm = np.zeros((nms,ngam))\n",
    "inds_good_wt = {}\n",
    "inds_good_wtsub = {}\n",
    "for m in range(nms):\n",
    "    sid = major_structure_ids[m]\n",
    "    wt_inds = np.where(creline[sid] == 'C57BL/6J')[0]\n",
    "    wt_2ormore[sid] = np.asarray([])\n",
    "    #wt_2ormore is the indices of when there are 2 or more wild types\n",
    "    if len(wt_inds) > 1:\n",
    "        wt_2ormore[sid] = np.append(wt_2ormore[sid],wt_inds)\n",
    "    wt_2ormore[sid] = np.asarray(wt_2ormore[sid], dtype = int)\n",
    "    inds_good_wt[sid] = np.intersect1d(wt_2ormore[sid], inds_good[sid])\n",
    "    inds_good_wtsub[sid] = np.where(np.isin(wt_2ormore[sid], inds_good[sid]))[0]"
   ]
  },
  {
   "cell_type": "code",
   "execution_count": 15,
   "metadata": {
    "collapsed": true
   },
   "outputs": [],
   "source": [
    "from mcmodels.models.crossvalidation import get_loocv_predictions_nnlinear_number_inj"
   ]
  },
  {
   "cell_type": "code",
   "execution_count": 20,
   "metadata": {},
   "outputs": [
    {
     "name": "stdout",
     "output_type": "stream",
     "text": [
      "0 m\n"
     ]
    },
    {
     "name": "stderr",
     "output_type": "stream",
     "text": [
      "/Users/samsonkoelle/anaconda3/envs/allen_010719_5/lib/python3.7/site-packages/ipykernel_launcher.py:35: RuntimeWarning: invalid value encountered in true_divide\n"
     ]
    },
    {
     "name": "stdout",
     "output_type": "stream",
     "text": [
      "1 m\n",
      "2 m\n",
      "3 m\n",
      "4 m\n",
      "5 m\n",
      "6 m\n"
     ]
    },
    {
     "name": "stderr",
     "output_type": "stream",
     "text": [
      "/Users/samsonkoelle/anaconda3/envs/allen_010719_5/lib/python3.7/site-packages/ipykernel_launcher.py:35: RuntimeWarning: invalid value encountered in true_divide\n"
     ]
    },
    {
     "name": "stdout",
     "output_type": "stream",
     "text": [
      "7 m\n",
      "8 m\n",
      "9 m\n",
      "10 m\n",
      "11 m\n"
     ]
    }
   ],
   "source": [
    "#m  = 11\n",
    "#nms = 12\n",
    "for m in range(12):\n",
    "#for m in np.asarray([4]):\n",
    "    print(m,'m')\n",
    "    sid = major_structure_ids[m]\n",
    "    msvd = msvds[sid]\n",
    "    projections = msvd.reg_proj_vcount_norm\n",
    "    projections = projections / np.expand_dims(np.linalg.norm(projections, axis = 1),1)\n",
    "    msvds[sid].reg_proj_vcount_norm_renorm = projections\n",
    "    injections = msvd.reg_inj_vcount_norm / np.expand_dims(np.linalg.norm(msvd.reg_inj_vcount_norm, axis = 1),1)\n",
    "    injections[np.where(np.isnan(injections))] = 0.\n",
    "    nreg = projections.shape[1]\n",
    "    nexp = projections.shape[0]\n",
    "    nfeat = injections.shape[1]\n",
    "    wt_inds = np.where(creline[sid] == 'C57BL/6J')[0]\n",
    "\n",
    "\n",
    "    #nexp rather than nwtexp to retain indexing\n",
    "    #msvds[sid].loocv_predictions_wt = np.zeros((ngam, nexp, nreg))\n",
    "\n",
    "    #msvds[sid].loocv_predictions_all[g] = get_loocv_predictions(projections, centroids, gammas[g])\n",
    "\n",
    "#    thresh = 0.000001\n",
    "    #hyperparameters are number needed to be present above thresh\n",
    "    #treat thresh as fixed and low for now\n",
    "#     msvds[sid].loocv_predictions_all_in = np.zeros((5, nexp, nreg))\n",
    "#     for g in range(5):\n",
    "#         print(g,'g')\n",
    "#         msvds[sid].loocv_predictions_all_in[g] = get_loocv_predictions_nnlinear_number_inj(projections, injections,1e-10,g)\n",
    "    #msvds[sid].loocv_predictions_all_in = np.zeros((nexp, nreg))\n",
    "    #for g in range(5):\n",
    "    #    print(g,'g')\n",
    "    msvds[sid].loocv_predictions_all_in = get_loocv_predictions_nnlinear_number_inj(projections, injections,1e-10,0)\n",
    "    msvds[sid].loocv_predictions_all_in_pn = msvds[sid].loocv_predictions_all_in / np.expand_dims(np.linalg.norm(msvds[sid].loocv_predictions_all_in, axis = 1),1)\n",
    "\n",
    "\n",
    "    #lpca can projection onto principal components in log space then transform back.\n",
    "    #alternatively, find pcas in log space and factor design matrix onto the retransformed components in the original space\n",
    "    #variability will be concentrated in machine e low components\n",
    "    #set to zero and true nonzeros will drive variability\n",
    "    #msvds[sid].loocv_predictions_all_lpca[0] = get_loocv_predictions_nnlinear_lpca\n",
    "\n",
    "    #projection on nmf, fit, and back\n",
    "    #hyp is n components\n",
    "#     ncomps = np.asarray(np.linspace(nfeat / 2, nfeat-1, 5), dtype = int)\n",
    "#     msvds[sid].loocv_predictions_all_nmf_in = np.zeros((5, nexp, nreg))\n",
    "#     nmf_recon_err_in = np.zeros((5,nexp))\n",
    "#     for g in range(5):\n",
    "#         print(g)\n",
    "#         msvds[sid].loocv_predictions_all_nmf_in[g],nmf_recon_err_in[g] = get_loocv_predictions_nnlinear_nmf(projections, injections,ncomps[g])\n"
   ]
  },
  {
   "cell_type": "code",
   "execution_count": 18,
   "metadata": {
    "collapsed": true
   },
   "outputs": [],
   "source": [
    "msvds[sid].loocv_predictions_all_in_pn = msvds[sid].loocv_predictions_all_in / np.expand_dims(np.linalg.norm(msvds[sid].loocv_predictions_all_in, axis = 1),1)"
   ]
  },
  {
   "cell_type": "code",
   "execution_count": 11,
   "metadata": {},
   "outputs": [
    {
     "data": {
      "text/plain": [
       "(83,)"
      ]
     },
     "execution_count": 11,
     "metadata": {},
     "output_type": "execute_result"
    }
   ],
   "source": [
    "np.linalg.norm(msvds[sid].projections, axis = 1).shape"
   ]
  },
  {
   "cell_type": "code",
   "execution_count": 19,
   "metadata": {},
   "outputs": [
    {
     "data": {
      "text/plain": [
       "(1128, 577)"
      ]
     },
     "execution_count": 19,
     "metadata": {},
     "output_type": "execute_result"
    }
   ],
   "source": [
    "msvds[sid].loocv_predictions_all_in_pn.shape"
   ]
  },
  {
   "cell_type": "code",
   "execution_count": null,
   "metadata": {
    "collapsed": true
   },
   "outputs": [],
   "source": []
  }
 ],
 "metadata": {
  "kernelspec": {
   "display_name": "allen_010719_5",
   "language": "python",
   "name": "allen_010719_5"
  },
  "language_info": {
   "codemirror_mode": {
    "name": "ipython",
    "version": 3
   },
   "file_extension": ".py",
   "mimetype": "text/x-python",
   "name": "python",
   "nbconvert_exporter": "python",
   "pygments_lexer": "ipython3",
   "version": "3.7.6"
  }
 },
 "nbformat": 4,
 "nbformat_minor": 2
}

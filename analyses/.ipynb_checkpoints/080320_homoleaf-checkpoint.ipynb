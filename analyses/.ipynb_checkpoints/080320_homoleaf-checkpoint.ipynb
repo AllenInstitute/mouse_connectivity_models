{
 "cells": [
  {
   "cell_type": "code",
   "execution_count": 1,
   "metadata": {},
   "outputs": [
    {
     "name": "stderr",
     "output_type": "stream",
     "text": [
      "/Users/samsonkoelle/anaconda3/envs/allen_010719_5/lib/python3.7/site-packages/sklearn/utils/deprecation.py:144: FutureWarning: The sklearn.linear_model.base module is  deprecated in version 0.22 and will be removed in version 0.24. The corresponding classes / functions should instead be imported from sklearn.linear_model. Anything that cannot be imported from sklearn.linear_model is now part of the private API.\n",
      "  warnings.warn(message, FutureWarning)\n",
      "/Users/samsonkoelle/anaconda3/envs/allen_010719_5/lib/python3.7/site-packages/sklearn/utils/deprecation.py:144: FutureWarning: The sklearn.metrics.scorer module is  deprecated in version 0.22 and will be removed in version 0.24. The corresponding classes / functions should instead be imported from sklearn.metrics. Anything that cannot be imported from sklearn.metrics is now part of the private API.\n",
      "  warnings.warn(message, FutureWarning)\n"
     ]
    }
   ],
   "source": [
    "%load_ext autoreload\n",
    "%autoreload 2\n",
    "\n",
    "import os\n",
    "import numpy as np\n",
    "import pandas as pd \n",
    "import sys\n",
    "import pickle\n",
    "import itertools\n",
    "import seaborn as sns\n",
    "import matplotlib.pyplot as plt\n",
    "\n",
    "workingdirectory = os.popen('git rev-parse --show-toplevel').read()[:-1]\n",
    "sys.path.append(workingdirectory)\n",
    "os.chdir(workingdirectory)\n",
    "\n",
    "import allensdk.core.json_utilities as ju\n",
    "from allensdk.core.mouse_connectivity_cache import MouseConnectivityCache\n",
    "\n",
    "from mcmodels.core import Mask,ModelData,VoxelModelCache\n",
    "from mcmodels.core.utils import get_structure_id, get_ordered_summary_structures,get_minorstructures,get_loss_paper\n",
    "from mcmodels.utils import nonzero_unique, unionize\n",
    "from mcmodels.core.experiment import get_voxeldata_msvd\n",
    "from mcmodels.models.crossvalidation import get_best_hyperparameters,get_loss_best_hyp,get_loocv_predictions,get_loss\n",
    "from mcmodels.core.utils import get_cre_status,get_minorstructure_dictionary,get_leaves_ontologicalorder\n",
    "from mcmodels.core.utils import get_regionalized_normalized_data\n",
    "from mcmodels.core.utils import get_connectivity\n",
    "from mcmodels.core.utils import get_ontological_order_leaf\n",
    "from mcmodels.core.utils import get_nw_loocv,get_wt_inds\n",
    "from mcmodels.core.utils import get_countvec"
   ]
  },
  {
   "cell_type": "code",
   "execution_count": 2,
   "metadata": {
    "collapsed": true
   },
   "outputs": [],
   "source": [
    "#read data\n",
    "TOP_DIR = '/Users/samsonkoelle/alleninstitute/mcm_2020/mcm_updated/'\n",
    "INPUT_JSON = os.path.join(TOP_DIR, 'input_011520.json')\n",
    "EXPERIMENTS_EXCLUDE_JSON = os.path.join(TOP_DIR, 'experiments_exclude.json')\n",
    "FILE_DIR = '/Users/samsonkoelle/alleninstitute/mcm_2020/mcm_updated/'\n",
    "OUTPUT_DIR = os.path.join(FILE_DIR, 'output')\n",
    "\n",
    "input_data = ju.read(INPUT_JSON)\n",
    "manifest_file = input_data.get('manifest_file')\n",
    "manifest_file = os.path.join(TOP_DIR, manifest_file)\n",
    "experiments_exclude = ju.read(EXPERIMENTS_EXCLUDE_JSON)\n",
    "\n",
    "#its unclear why the hyperparameters are loaded from the output directory\n",
    "cache = VoxelModelCache(manifest_file=manifest_file)\n",
    "major_structures = input_data.get('structures')\n",
    "major_structure_ids = [get_structure_id(cache, s) for s in major_structures]\n",
    "data_info = pd.read_excel('/Users/samsonkoelle/alleninstitute/Whole Brain Cre Image Series_curation only.xlsx', 'all datasets curated_070919pull')\n",
    "data_info.set_index(\"id\", inplace=True)\n",
    "ontological_order = get_ordered_summary_structures(cache)\n",
    "\n",
    "mcc = MouseConnectivityCache(manifest_file = '../connectivity/mouse_connectivity_manifest.json')\n",
    "st = mcc.get_structure_tree()\n",
    "ai_map = st.get_id_acronym_map()\n",
    "ia_map = {value: key for key, value in ai_map.items()}\n",
    "\n",
    "#regionalize voxel model: compare with regional model\n",
    "#regional parameters\n",
    "cre = None\n",
    "eid_set=None\n",
    "high_res=False\n",
    "threshold_injection = False\n",
    "\n",
    "COARSE_STRUCTURE_SET_ID = 2\n",
    "DEFAULT_STRUCTURE_SET_IDS = tuple([COARSE_STRUCTURE_SET_ID])\n",
    "tree = cache.get_structure_tree()\n",
    "default_structures = tree.get_structures_by_set_id(DEFAULT_STRUCTURE_SET_IDS)\n",
    "default_structure_ids = [st['id'] for st in default_structures if st['id'] != 934]\n",
    "#cre= True"
   ]
  },
  {
   "cell_type": "code",
   "execution_count": 3,
   "metadata": {},
   "outputs": [
    {
     "name": "stdout",
     "output_type": "stream",
     "text": [
      "512\n",
      "None\n",
      "703\n",
      "None\n",
      "1089\n",
      "None\n",
      "1097\n",
      "None\n",
      "315\n",
      "None\n",
      "313\n",
      "None\n",
      "354\n",
      "None\n",
      "698\n",
      "None\n",
      "771\n",
      "None\n",
      "803\n",
      "None\n",
      "477\n",
      "None\n",
      "549\n",
      "None\n"
     ]
    }
   ],
   "source": [
    "msvds = {}\n",
    "#gammas = np.asarray([0.1])\n",
    "for sid in major_structure_ids:\n",
    "    print(sid)\n",
    "    voxel_data = ModelData(cache, sid)\n",
    "    print(cre)\n",
    "    experiment_ids = voxel_data.get_experiment_ids(experiments_exclude=experiments_exclude, cre=cre)\n",
    "    experiment_ids = np.asarray(list(experiment_ids))    \n",
    "    msvd = get_voxeldata_msvd(cache, sid,experiments_exclude,default_structure_ids,cre)\n",
    "    #msvd.l2losses, msvd.paperlosses,msvd.normspredict,msvd.normtrue = single_region_cv(msvd, gammas)\n",
    "    msvds[sid]  = msvd"
   ]
  },
  {
   "cell_type": "code",
   "execution_count": 4,
   "metadata": {
    "collapsed": true
   },
   "outputs": [],
   "source": []
  },
  {
   "cell_type": "code",
   "execution_count": 5,
   "metadata": {
    "collapsed": true
   },
   "outputs": [],
   "source": [
    "from mcmodels.models.crossvalidation import get_loocv_predictions_nnlinear_number_inj_norm"
   ]
  },
  {
   "cell_type": "code",
   "execution_count": null,
   "metadata": {},
   "outputs": [],
   "source": [
    "# creline = get_cre_status(data_info, msvds)\n",
    "# experiments_minor_structures = get_minorstructure_dictionary(msvds, data_info)\n",
    "# leavves = get_leaves_ontologicalorder(msvd, ontological_order)\n",
    "\n",
    "# # contra_key = msvd.experiments[list(msvd.experiments.keys())[0]].projection_mask.get_key(structure_ids=leavves, hemisphere_id=1)\n",
    "# # ipsi_key = msvd.experiments[list(msvd.experiments.keys())[0]].projection_mask.get_key(structure_ids=leavves, hemisphere_id=2)\n",
    "\n",
    "# key = list(msvd.experiments.keys())[0]\n",
    "# contra_key = msvd.experiments[key].projection_mask.get_key(structure_ids=ontological_order, hemisphere_id=1)\n",
    "# ipsi_key = msvd.experiments[key].projection_mask.get_key(structure_ids=ontological_order, hemisphere_id=2)\n",
    "\n",
    "# msvds = get_regionalized_normalized_data(msvds,cache, ontological_order,ipsi_key,contra_key)\n",
    "# thres_ncomp = np.asarray([[1e-10,0]])\n",
    "# wt_2ormore = get_wt_inds(creline)\n",
    "\n",
    "#get dictionaries of creline and leaf by experiment\n",
    "creline = get_cre_status(data_info, msvds)\n",
    "with open('data/info/leafs.pickle', 'rb') as handle:\n",
    "    leafs = pickle.load(handle)\n",
    "    \n",
    "#get dictionary of minor structures for each experiment in each major division\n",
    "#major division segregation is legacy code but convenient for fast cross validation in major division model\n",
    "experiments_minor_structures = get_minorstructure_dictionary(msvds, data_info)\n",
    "\n",
    "#get leaves in ontological order.  Where leafs don't exist, uses summary structure\n",
    "ontological_order_leaves = get_leaves_ontologicalorder(msvd, ontological_order)\n",
    "\n",
    "#Key isn't affected by which experiment we choose. This allows default masking to be inherited from the AllenSDK.\n",
    "key = list(msvd.experiments.keys())[0]\n",
    "\n",
    "#Identify keys denoting which voxels correspond to which structure in the ipsi and contra targets.\n",
    "#contra_targetkey = msvd.experiments[list(msvd.experiments.keys())[0]].projection_mask.get_key(structure_ids=ontological_order_leaves, hemisphere_id=1)\n",
    "#ipsi_targetkey = msvd.experiments[list(msvd.experiments.keys())[0]].projection_mask.get_key(structure_ids=ontological_order_leaves, hemisphere_id=2)\n",
    "contra_targetkey = msvd.experiments[key].projection_mask.get_key(structure_ids=ontological_order, hemisphere_id=1)\n",
    "ipsi_targetkey = msvd.experiments[key].projection_mask.get_key(structure_ids=ontological_order, hemisphere_id=2)\n",
    "\n",
    "#get average intensities of projection structures given ipsi and contra keys\n",
    "source_key = ontological_order_leaves#_leaves #only relevant here when injection needs to be unionized, but currently a required argument\n",
    "msvds = get_regionalized_normalized_data(msvds,cache, source_key,ipsi_targetkey,contra_targetkey)\n",
    "\n",
    "#wt_2ormore = get_wt_inds(creline)\n"
   ]
  },
  {
   "cell_type": "code",
   "execution_count": 150,
   "metadata": {
    "collapsed": true
   },
   "outputs": [],
   "source": [
    "from sklearn.metrics.pairwise import pairwise_kernels\n",
    "from mcmodels.regressors.nonparametric.nadaraya_watson import get_weights\n",
    "\n",
    "def get_weights(eval_centroids, model_centroids, gamma):\n",
    "    weights = pairwise_kernels(X=eval_centroids, Y=model_centroids, metric='rbf', gamma=gamma, filter_params=True)\n",
    "    return (weights)\n",
    "\n",
    "\n",
    "def get_indices(ids):\n",
    "\n",
    "    ids_unique = np.unique(ids)\n",
    "    output = np.zeros((len(ids_unique), len(ids)), dtype = int)\n",
    "    for i in range(len(ids_unique)):\n",
    "        output[i,np.where(ids == ids_unique[i])[0] ] = 1\n",
    "    return(output)\n",
    "\n",
    "#get indices of firstlist in firstlisttest in categories defined by secondlist\n",
    "def get_indices2(firstlist, firstlisttest, secondlist):\n",
    "    \n",
    "    sl_unique = np.unique(secondlist)\n",
    "    output = np.zeros((len(sl_unique), len(secondlist)), dtype = int)\n",
    "    for i in range(len(sl_unique)):\n",
    "        output[i,np.intersect1d(np.where(np.isin(firstlist,firstlisttest))[0], np.where(secondlist == secondlist[i])[0])] = 1\n",
    "    return(output)\n",
    "\n",
    "#nmodels = nleafs\n",
    "#populate each with experiments that share summary structure\n",
    "def get_indices_summaryinleaf(summarylist , leaflist):\n",
    "    \n",
    "    nexp = len(leaflist)\n",
    "    leaf_unique = np.unique(leaflist)\n",
    "    output = np.zeros((len(leaf_unique), nexp), dtype = int)\n",
    "    \n",
    "    for i in range(len(leaf_unique)):\n",
    "        \n",
    "        summary = summarylist[np.where(leaflist == leaf_unique[i])[0]][0]\n",
    "        output[i,np.where(summarylist == summary)[0]] = 1\n",
    "        \n",
    "        \n",
    "    return(output)\n",
    "\n",
    "#get predictions at all eval_indices using model_indices\n",
    "#if an eval_indices is also a model indice, leave it out of the model\n",
    "#if a model index is not an eval index, it never gets left out\n",
    "# def get_homo_loocv_predictions_multimodel(projections, injections, hyperparameters, model_indices, eval_indices):\n",
    "    \n",
    "# #def get_loocv_predictions(projections, centroids, gamma):\n",
    "    \n",
    "# #     projections = np.asarray(projections, dtype=np.float32)\n",
    "# #     neval = len(eval_indices)\n",
    "# #     #nexp = centroids.shape[0]\n",
    "# #     predictions = np.empty(projections.shape)\n",
    "# #     weights = get_weights(centroids, gamma)\n",
    "    \n",
    "# #     for i in range(neval):\n",
    "# #         otherindices = np.setdiff1d(model_indices, eval_indices[i])\n",
    "# #         #this order of operations is the fastest I found\n",
    "# #         weights_i = weights[eval_indices[i]][model_indices] / weights[model_indices[i]][otherindices].sum()\n",
    "# #         weights_i[i] = 0\n",
    "# #         weights_i = np.asarray(weights_i, dtype=np.float32)\n",
    "# #         pred = np.dot(weights_i, projections[model_indices])\n",
    "# #         predictions[i] = pred\n",
    "\n",
    "#     eval_index_val = np.where(eval_indices == 1)[0]\n",
    "#     model_index_val = np.where(model_indices == 1)[0]\n",
    "    \n",
    "#     projections = np.asarray(projections, dtype=np.float32)\n",
    "    \n",
    "#     nmod_ind = len(model_index_val)\n",
    "#     neval = len(eval_index_val)\n",
    "#     #nexp = centroids.shape[0]\n",
    "#     predictions = np.empty(projections.shape)\n",
    "#     #print(model_index_val.shape, eval_index_val.shape)\n",
    "\n",
    "#     if len(model_index_val) > 0 and  len(eval_index_val) > 0:\n",
    "#         weights = pairwise_kernels(centroids[model_index_val], centroids[eval_index_val], metric='rbf', gamma=gamma, filter_params=True) #get_weights(centroids, gamma)\n",
    "#         for i in range(neval):\n",
    "#             matchindex = np.where(model_index_val == eval_index_val[i])[0]\n",
    "#             otherindices = np.setdiff1d(np.asarray(list(range(nmod_ind))), matchindex)         \n",
    "#             #this order of operations is the fastest I found\n",
    "#             weights_i = weights[:,i] / weights[:,i][otherindices].sum()\n",
    "#             weights_i[matchindex] = 0\n",
    "#             weights_i = np.asarray(weights_i, dtype=np.float32)\n",
    "#             pred = np.dot(weights_i, projections[model_index_val])\n",
    "#             predictions[eval_index_val[i]] = pred\n",
    "\n",
    "        \n",
    "#     return(predictions)    \n",
    "\n",
    "def get_homo_loocv(msvd, indices, loocv, hyperparameters):\n",
    "\n",
    "    if len(indices) > 1:\n",
    "        projections = msvd.reg_proj_vcount_norm_renorm\n",
    "        injections = msvd.reg_inj_vcount_norm / np.expand_dims(np.linalg.norm(msvd.reg_inj_vcount_norm, axis = 1),1)\n",
    "        injections[np.where(np.isnan(injections))] = 0.\n",
    "        \n",
    "        nreg = projections.shape[1]\n",
    "        nexp = projections.shape[0]\n",
    "        nhyp = hyperparameters.shape[0]\n",
    "        loocv_predictions = np.zeros((nhyp, nexp, nreg))\n",
    "        for g in range(nhyp):\n",
    "            loocv_predictions[g, indices] = loocv(projections[indices], injections[indices], *hyperparameters[g])\n",
    "        return (loocv_predictions)\n",
    "    else:\n",
    "        return (np.asarray([]))\n",
    "    \n",
    "\n",
    "def get_homo_loocv_predictions_singlemodel(projections, injections, thresh, number, model_indices, eval_indices):\n",
    "    \n",
    "    eval_index_val = np.where(eval_indices == 1)[0]\n",
    "    model_index_val = np.where(model_indices == 1)[0]\n",
    "    \n",
    "    projections = np.asarray(projections, dtype=np.float32)\n",
    "    injections = np.asarray(injections, dtype=np.float32)\n",
    "    injections = injections / np.expand_dims(np.linalg.norm(injections, axis = 1),1)\n",
    "    injections[np.where(np.isnan(injections))] = 0.\n",
    "    \n",
    "    nexp = projections.shape[0]\n",
    "    print('nexp',nexp)\n",
    "    predictions = np.zeros(projections.shape)\n",
    "    homo_est = HomogeneousModel(kappa=np.inf)\n",
    "    nmod_ind = len(model_index_val)\n",
    "    #neval = len(eval_index_val)\n",
    "    if len(model_index_val) > 0 and  len(eval_index_val) > 0:\n",
    "        \n",
    "        for i in range(nexp):\n",
    "            matchindex = np.where(model_index_val == eval_index_val[i])[0]\n",
    "            otherindices = np.setdiff1d(np.asarray(list(range(nmod_ind))), matchindex)         \n",
    "\n",
    "            print('exp', i)\n",
    "            inj, inds = get_reduced_matrix_ninj(injections[otherindices], thresh, number)\n",
    "            homo_est.fit(inj, projections[otherindices])\n",
    "            pred = homo_est.predict(injections[i:(i + 1)][:, inds])\n",
    "            predictions[i] = pred / np.linalg.norm(pred)\n",
    "\n",
    "    return (predictions)\n",
    "\n",
    "def get_homo_loocv_predictions_multimodel(projections, injections, hyperparameters, model_index_matrix, eval_index_matrix):\n",
    "    \n",
    "\n",
    "    \n",
    "    ntargets = projections.shape[1]\n",
    "    nexp = projections.shape[0]\n",
    "    nmodels = model_index_matrix.shape[0]\n",
    "    nhyp = hyperparameters.shape[0]\n",
    "    \n",
    "    projections = np.asarray(projections, dtype=np.float32)\n",
    "    predictions = np.empty((nmodels, nhyp, nexp, ntargets))\n",
    "    \n",
    "    for m in range(nmodels):\n",
    "        #print('m', m, len(np.where(model_index_matrix[m] ==1)[0]))\n",
    "        predictions[m] = np.asarray([get_homo_loocv_predictions_singlemodel(projections, injections, hyperparameters[g][0], hyperparameters[g][1], model_index_matrix[m], eval_index_matrix[m]) for g in range(nhyp)])\n",
    "    \n",
    "    return(predictions)  \n",
    "\n",
    "def get_homo_loocv_predictions_multimodel_merge(projections, injections, hyperparameters, model_index_matrix, eval_index_matrix):\n",
    "    \n",
    "    predictions_unmerged = get_homo_loocv_predictions_multimodel(projections, injections, hyperparameters, model_index_matrix, eval_index_matrix)\n",
    "    predictions_merged = combine_predictions(predictions_unmerged, eval_index_matrix)\n",
    "    \n",
    "    return(predictions_merged)\n",
    "#we should not pass model_index_matrices that are identical to eval_index_matrices and have only 1 element per model\n",
    "#can do automatically in the cross validation code but would rther do it explicitly to ensure identical indexing b/w experiments\n",
    "#1 model leads to removing the model index from eval indices\n",
    "#should never have no elements in model_indices\n",
    "def screen_indices(model_indices, eval_indices):\n",
    "    \n",
    "    eval_indices2 = eval_indices.copy()\n",
    "    mod_loc = np.where(model_indices == 1)[0]\n",
    "    if len(mod_loc) == 1:\n",
    "        eval_indices2[mod_loc] = 0\n",
    "    return(eval_indices2)\n",
    "\n",
    "#this will not result in certain models having no indices, but could result in an empty eval index.  cactch later\n",
    "#this will result in certain indices having no prediction.  this is fine.\n",
    "#can merge (sum) the index matrix to see where predictions are actually generated\n",
    "def screen_index_matrices(model_index_matrices, eval_index_matrices):\n",
    "    \n",
    "    nmodels = model_index_matrices.shape[0]\n",
    "    eval_index_matrices2 = eval_index_matrices.copy()\n",
    "    for m in range(nmodels):\n",
    "        eval_index_matrices2[m] = screen_indices(model_index_matrices[m], eval_index_matrices[m])\n",
    "    \n",
    "    return(eval_index_matrices2)\n",
    "\n",
    "#need code for removing experiments that have no model\n",
    "#this can happen when the model set is a subset of the evaluation set.\n",
    "#we will therefore generate predictions for a subset\n",
    "#given a leaf is included, the eval set is the same\n",
    "#however, we want to remove evals in leaves we don't have a wt for... of course one could say we are doing worse...\n",
    "#but we also have a fewer number of models\n",
    "def screen_index_matrices2(model_index_matrices, eval_index_matrices):\n",
    "    \n",
    "    nmodels = model_index_matrices.shape[0]\n",
    "    include_per_model = model_index_matrices.sum(axis= 1)\n",
    "    to_include = np.where(include_per_model > 0)[0]\n",
    "    \n",
    "    model_index_matrices2 = model_index_matrices\n",
    "    eval_index_matrices2 = eval_index_matrices[to_include]\n",
    "    model_index_matrices2 = model_index_matrices[to_include]\n",
    "    \n",
    "    return(model_index_matrices2, eval_index_matrices2)"
   ]
  },
  {
   "cell_type": "code",
   "execution_count": 20,
   "metadata": {
    "collapsed": true
   },
   "outputs": [],
   "source": [
    "indices_leaf = {}\n",
    "indices_wtinleaf = {}\n",
    "indices_wtleaf = {}\n",
    "indices_summary = {}\n",
    "indices_summaryinleaf = {}\n",
    "indices_major = {}\n",
    "indices_majorinleaf = {}\n",
    "indices_leaf2ormore = {}\n",
    "indices_wtinleaf2ormore = {}\n",
    "for sid in major_structure_ids:\n",
    "    \n",
    "    #wt_leaf on leaf\n",
    "\n",
    "    #get the indices of experiments sharing leafs (nmodels is number of leafs)\n",
    "    indices_leaf[sid] = get_indices(leafs[sid]) #eval_indices\n",
    "    indices_creleaf = get_indices(leafs[sid])\n",
    "    \n",
    "    #get the indices of the wts in the leaf (nmodels is number of leafs)\n",
    "    indices_wtinleaf[sid] = get_indices2(creline[sid], np.asarray(['C57BL/6J']),leafs[sid]) #model_indices\n",
    "    \n",
    "    #get indices of experiments sharing summary structure x cre combination (nmodel is number of cre x leaf combinations)\n",
    "    #indices_wtleaf[sid] = get_indices(creleafs_merged[sid])\n",
    "    \n",
    "    #get indices of experiments sharing summary structure(nmodel is number of summary structures)\n",
    "    indices_summary[sid] = get_indices(experiments_minor_structures[sid])\n",
    "    \n",
    "    #get indices of experiments sharing major structure(nmodel is number of summary structures)\n",
    "    indices_major[sid] = np.ones((1,experiments_minor_structures[sid].shape[0]))\n",
    "    \n",
    "    #get indices of experiments sharing same major structure as a leaf (nmodel is number of leafs)\n",
    "    indices_majorinleaf[sid] = get_indices2(np.ones(len(leafs[sid])), np.asarray([1]),leafs[sid]) #model_indices\n",
    "    \n",
    "    #get indices of experiments in same summary structure as a leaf (nmodel is number of leafs)\n",
    "    indices_summaryinleaf[sid] = get_indices_summaryinleaf(experiments_minor_structures[sid], leafs[sid])\n",
    "    \n",
    "    #evaluate models on leafs\n",
    "    #model_indices, eval_indices = indices_majorinleaf, indices_leaf\n",
    "    #model_indices, eval_indices = indices_summaryinleaf, indices_leaf\n",
    "    #this is the most restrictive of these 3, so eval_indices_leaf2ormore is the smallest eval set\n",
    "    indices_leaf2ormore[sid] = screen_index_matrices(indices_leaf[sid], indices_leaf[sid])\n",
    "    \n",
    "    indices_wtinleaf2ormore[sid] = screen_index_matrices(indices_wtinleaf[sid], indices_wtinleaf[sid])\n",
    "    #need to find explicitly so can be used in other experiments\n",
    "    #how do we line up with leaf model...\n",
    "    #reduced modelset.  also\n",
    "    #indices_wtinleaf_reduced, indices_leaf_reduced = screen_index_matrices2(indices_wtinleaf[sid], indices_leaf[sid])\n",
    "    \n",
    "    #if i want to only use indices_leaf_reduced as target in a different experiment, do i need to eliminate  \n",
    "    #\n",
    "    \n",
    "    \n",
    "    #leaf on leaf\n",
    "    #eval_indices = indices_leaf\n",
    "    #model_indices = indices_leaf\n",
    "\n",
    "    #leaf on wt_leaf\n",
    "    #model_indices = indices_leaf\n",
    "    #eval_indices = indices_wtinleaf\n",
    "\n",
    "    #summary on summary\n",
    "    #model_indices = get_indices(experiments_minor_structures[sid])\n",
    "    #eval_indices = get_indices(experiments_minor_structures[sid])\n",
    "\n",
    "    #creleaf precise (nmodels is number of creleaf combinations)\n",
    "    \n",
    "    #indices_wtleaf = get_indices(creleafs[sid])"
   ]
  },
  {
   "cell_type": "code",
   "execution_count": 21,
   "metadata": {},
   "outputs": [
    {
     "data": {
      "text/plain": [
       "(83, 45)"
      ]
     },
     "execution_count": 21,
     "metadata": {},
     "output_type": "execute_result"
    }
   ],
   "source": [
    "msvds[sid].reg_inj_vcount_norm.shape"
   ]
  },
  {
   "cell_type": "code",
   "execution_count": null,
   "metadata": {},
   "outputs": [],
   "source": [
    "# for sid in major_structure_ids:\n",
    "#     print(sid)\n",
    "#     #print(msvds[sid].projections.shape[0], len(wt_2ormore[sid]))\n",
    "#     msvds[sid].loocv_predictions_all = get_homo_loocv(msvds[sid], np.asarray(list(range(msvds[sid].projections.shape[0]))), get_loocv_predictions_nnlinear_number_inj_norm, thres_ncomp)\n",
    "#     #msvds[sid].loocv_predictions_wt = get_homo_loocv(msvds[sid], wt_2ormore[sid], get_loocv_predictions_nnlinear_number_inj_norm, thres_ncomp)\n"
   ]
  },
  {
   "cell_type": "code",
   "execution_count": 76,
   "metadata": {
    "collapsed": true
   },
   "outputs": [],
   "source": [
    "from mcmodels.models.homogeneous import svd_subset_selection, HomogeneousModel\n",
    "from mcmodels.core.utils import get_reduced_matrix_ninj"
   ]
  },
  {
   "cell_type": "code",
   "execution_count": 77,
   "metadata": {},
   "outputs": [],
   "source": [
    "\n",
    "# homo_loocv_predictions_all = {}\n",
    "# homo_loocv_predictions_wt = {}\n",
    "# homo_reg_proj_vcount_norm_renorms= {}\n",
    "# for sid in major_structure_ids:\n",
    "#     homo_loocv_predictions_all[sid ] = msvds[sid].loocv_predictions_all\n",
    "#     homo_loocv_predictions_wt[sid ] = msvds[sid].loocv_predictions_wt\n",
    "#     homo_reg_proj_vcount_norm_renorms[sid ] = msvds[sid].reg_proj_vcount_norm_renorm\n",
    "    "
   ]
  },
  {
   "cell_type": "code",
   "execution_count": 78,
   "metadata": {
    "collapsed": true
   },
   "outputs": [],
   "source": [
    "\n",
    "def combine_predictions(predictions, eval_index_matrix):\n",
    "    \n",
    "    nmodels, ngammas, nexp, ntargets = predictions.shape\n",
    "    combined_predictions = np.empty((ngammas, nexp, ntargets))\n",
    "    for m in range(nmodels):\n",
    "        combined_predictions[:,np.where(eval_index_matrix[m] == 1)[0]] = predictions[m][:,np.where(eval_index_matrix[m] == 1)[0]]\n",
    "        \n",
    "    return(combined_predictions)"
   ]
  },
  {
   "cell_type": "code",
   "execution_count": 114,
   "metadata": {},
   "outputs": [
    {
     "data": {
      "text/plain": [
       "array([[1.e-10],\n",
       "       [0.e+00]])"
      ]
     },
     "execution_count": 114,
     "metadata": {},
     "output_type": "execute_result"
    }
   ],
   "source": [
    "np.asarray([[1e-10],[0]])"
   ]
  },
  {
   "cell_type": "code",
   "execution_count": 157,
   "metadata": {},
   "outputs": [
    {
     "name": "stdout",
     "output_type": "stream",
     "text": [
      "nexp 36\n",
      "exp 0\n",
      "exp 1\n",
      "exp 2\n",
      "exp 3\n",
      "exp 4\n",
      "exp 5\n",
      "exp 6\n",
      "exp 7\n",
      "exp 8\n",
      "exp 9\n",
      "exp 10\n",
      "exp 11\n"
     ]
    },
    {
     "name": "stderr",
     "output_type": "stream",
     "text": [
      "/Users/samsonkoelle/anaconda3/envs/allen_010719_5/lib/python3.7/site-packages/ipykernel_launcher.py:134: RuntimeWarning: invalid value encountered in true_divide\n"
     ]
    },
    {
     "name": "stdout",
     "output_type": "stream",
     "text": [
      "exp 12\n",
      "exp 13\n",
      "exp 14\n",
      "exp 15\n",
      "exp 16\n",
      "exp 17\n",
      "exp 18\n",
      "exp 19\n",
      "exp 20\n",
      "exp 21\n",
      "exp 22\n",
      "exp 23\n",
      "exp 24\n",
      "exp 25\n",
      "exp 26\n",
      "exp 27\n",
      "exp 28\n",
      "exp 29\n",
      "exp 30\n",
      "exp 31\n",
      "exp 32\n",
      "exp 33\n",
      "exp 34\n",
      "exp 35\n",
      "nexp 7\n",
      "exp 0\n",
      "exp 1\n",
      "exp 2\n",
      "exp 3\n",
      "exp 4\n",
      "exp 5\n",
      "exp 6\n",
      "nexp 122\n",
      "exp 0\n",
      "exp 1\n",
      "exp 2\n",
      "exp 3\n",
      "exp 4\n",
      "exp 5\n",
      "exp 6\n",
      "exp 7\n",
      "exp 8\n",
      "exp 9\n",
      "exp 10\n",
      "exp 11\n",
      "exp 12\n",
      "exp 13\n",
      "exp 14\n",
      "exp 15\n",
      "exp 16\n",
      "exp 17\n",
      "exp 18\n",
      "exp 19\n",
      "exp 20\n",
      "exp 21\n",
      "exp 22\n",
      "exp 23\n",
      "exp 24\n",
      "exp 25\n",
      "exp 26\n",
      "exp 27\n",
      "exp 28\n",
      "exp 29\n",
      "exp 30\n",
      "exp 31\n",
      "exp 32\n",
      "exp 33\n",
      "exp 34\n",
      "exp 35\n",
      "exp 36\n",
      "exp 37\n",
      "exp 38\n",
      "exp 39\n",
      "exp 40\n",
      "exp 41\n",
      "exp 42\n",
      "exp 43\n",
      "exp 44\n",
      "exp 45\n",
      "exp 46\n",
      "exp 47\n",
      "exp 48\n",
      "exp 49\n",
      "exp 50\n",
      "exp 51\n",
      "exp 52\n",
      "exp 53\n",
      "exp 54\n",
      "exp 55\n",
      "exp 56\n",
      "exp 57\n",
      "exp 58\n",
      "exp 59\n",
      "exp 60\n",
      "exp 61\n",
      "exp 62\n",
      "exp 63\n",
      "exp 64\n",
      "exp 65\n",
      "exp 66\n",
      "exp 67\n",
      "exp 68\n",
      "exp 69\n",
      "exp 70\n",
      "exp 71\n",
      "exp 72\n",
      "exp 73\n",
      "exp 74\n",
      "exp 75\n",
      "exp 76\n",
      "exp 77\n",
      "exp 78\n",
      "exp 79\n",
      "exp 80\n",
      "exp 81\n",
      "exp 82\n",
      "exp 83\n",
      "exp 84\n",
      "exp 85\n",
      "exp 86\n",
      "exp 87\n",
      "exp 88\n",
      "exp 89\n",
      "exp 90\n",
      "exp 91\n",
      "exp 92\n",
      "exp 93\n",
      "exp 94\n",
      "exp 95\n",
      "exp 96\n",
      "exp 97\n",
      "exp 98\n",
      "exp 99\n",
      "exp 100\n",
      "exp 101\n",
      "exp 102\n",
      "exp 103\n",
      "exp 104\n",
      "exp 105\n",
      "exp 106\n",
      "exp 107\n",
      "exp 108\n",
      "exp 109\n",
      "exp 110\n",
      "exp 111\n",
      "exp 112\n",
      "exp 113\n",
      "exp 114\n",
      "exp 115\n",
      "exp 116\n",
      "exp 117\n",
      "exp 118\n",
      "exp 119\n",
      "exp 120\n",
      "exp 121\n",
      "nexp 85\n",
      "exp 0\n",
      "exp 1\n",
      "exp 2\n",
      "exp 3\n",
      "exp 4\n",
      "exp 5\n",
      "exp 6\n",
      "exp 7\n",
      "exp 8\n",
      "exp 9\n",
      "exp 10\n",
      "exp 11\n",
      "exp 12\n",
      "exp 13\n",
      "exp 14\n",
      "exp 15\n",
      "exp 16\n",
      "exp 17\n",
      "exp 18\n",
      "exp 19\n",
      "exp 20\n",
      "exp 21\n",
      "exp 22\n",
      "exp 23\n",
      "exp 24\n",
      "exp 25\n",
      "exp 26\n",
      "exp 27\n",
      "exp 28\n",
      "exp 29\n",
      "exp 30\n",
      "exp 31\n",
      "exp 32\n",
      "exp 33\n",
      "exp 34\n",
      "exp 35\n",
      "exp 36\n",
      "exp 37\n",
      "exp 38\n",
      "exp 39\n",
      "exp 40\n",
      "exp 41\n",
      "exp 42\n",
      "exp 43\n",
      "exp 44\n",
      "exp 45\n",
      "exp 46\n",
      "exp 47\n",
      "exp 48\n",
      "exp 49\n",
      "exp 50\n",
      "exp 51\n",
      "exp 52\n",
      "exp 53\n",
      "exp 54\n",
      "exp 55\n",
      "exp 56\n",
      "exp 57\n",
      "exp 58\n",
      "exp 59\n"
     ]
    },
    {
     "ename": "KeyboardInterrupt",
     "evalue": "",
     "output_type": "error",
     "traceback": [
      "\u001b[0;31m---------------------------------------------------------------------------\u001b[0m",
      "\u001b[0;31mKeyboardInterrupt\u001b[0m                         Traceback (most recent call last)",
      "\u001b[0;32m<ipython-input-157-1eca2a488886>\u001b[0m in \u001b[0;36m<module>\u001b[0;34m\u001b[0m\n\u001b[1;32m      4\u001b[0m                                                                     \u001b[0mhyperparameters\u001b[0m \u001b[0;34m=\u001b[0m \u001b[0mnp\u001b[0m\u001b[0;34m.\u001b[0m\u001b[0masarray\u001b[0m\u001b[0;34m(\u001b[0m\u001b[0;34m[\u001b[0m\u001b[0;34m[\u001b[0m\u001b[0;36m1e-10\u001b[0m\u001b[0;34m,\u001b[0m\u001b[0;36m0\u001b[0m\u001b[0;34m]\u001b[0m\u001b[0;34m]\u001b[0m\u001b[0;34m)\u001b[0m\u001b[0;34m,\u001b[0m\u001b[0;34m\u001b[0m\u001b[0;34m\u001b[0m\u001b[0m\n\u001b[1;32m      5\u001b[0m                                                                     \u001b[0mmodel_index_matrix\u001b[0m \u001b[0;34m=\u001b[0m \u001b[0mindices_major\u001b[0m\u001b[0;34m[\u001b[0m\u001b[0msid\u001b[0m\u001b[0;34m]\u001b[0m\u001b[0;34m,\u001b[0m\u001b[0;34m\u001b[0m\u001b[0;34m\u001b[0m\u001b[0m\n\u001b[0;32m----> 6\u001b[0;31m                                                                     eval_index_matrix = indices_major[sid])\n\u001b[0m\u001b[1;32m      7\u001b[0m                                                                      \u001b[0;31m#codes=np.asarray(np.vstack([leafs[sid], creline[sid]]), dtype = str).transpose())\u001b[0m\u001b[0;34m\u001b[0m\u001b[0;34m\u001b[0m\u001b[0;34m\u001b[0m\u001b[0m\n",
      "\u001b[0;32m<ipython-input-150-eba3acf5c44b>\u001b[0m in \u001b[0;36mget_homo_loocv_predictions_multimodel_merge\u001b[0;34m(projections, injections, hyperparameters, model_index_matrix, eval_index_matrix)\u001b[0m\n\u001b[1;32m    156\u001b[0m \u001b[0;32mdef\u001b[0m \u001b[0mget_homo_loocv_predictions_multimodel_merge\u001b[0m\u001b[0;34m(\u001b[0m\u001b[0mprojections\u001b[0m\u001b[0;34m,\u001b[0m \u001b[0minjections\u001b[0m\u001b[0;34m,\u001b[0m \u001b[0mhyperparameters\u001b[0m\u001b[0;34m,\u001b[0m \u001b[0mmodel_index_matrix\u001b[0m\u001b[0;34m,\u001b[0m \u001b[0meval_index_matrix\u001b[0m\u001b[0;34m)\u001b[0m\u001b[0;34m:\u001b[0m\u001b[0;34m\u001b[0m\u001b[0;34m\u001b[0m\u001b[0m\n\u001b[1;32m    157\u001b[0m \u001b[0;34m\u001b[0m\u001b[0m\n\u001b[0;32m--> 158\u001b[0;31m     \u001b[0mpredictions_unmerged\u001b[0m \u001b[0;34m=\u001b[0m \u001b[0mget_homo_loocv_predictions_multimodel\u001b[0m\u001b[0;34m(\u001b[0m\u001b[0mprojections\u001b[0m\u001b[0;34m,\u001b[0m \u001b[0minjections\u001b[0m\u001b[0;34m,\u001b[0m \u001b[0mhyperparameters\u001b[0m\u001b[0;34m,\u001b[0m \u001b[0mmodel_index_matrix\u001b[0m\u001b[0;34m,\u001b[0m \u001b[0meval_index_matrix\u001b[0m\u001b[0;34m)\u001b[0m\u001b[0;34m\u001b[0m\u001b[0;34m\u001b[0m\u001b[0m\n\u001b[0m\u001b[1;32m    159\u001b[0m     \u001b[0mpredictions_merged\u001b[0m \u001b[0;34m=\u001b[0m \u001b[0mcombine_predictions\u001b[0m\u001b[0;34m(\u001b[0m\u001b[0mpredictions_unmerged\u001b[0m\u001b[0;34m,\u001b[0m \u001b[0meval_index_matrix\u001b[0m\u001b[0;34m)\u001b[0m\u001b[0;34m\u001b[0m\u001b[0;34m\u001b[0m\u001b[0m\n\u001b[1;32m    160\u001b[0m \u001b[0;34m\u001b[0m\u001b[0m\n",
      "\u001b[0;32m<ipython-input-150-eba3acf5c44b>\u001b[0m in \u001b[0;36mget_homo_loocv_predictions_multimodel\u001b[0;34m(projections, injections, hyperparameters, model_index_matrix, eval_index_matrix)\u001b[0m\n\u001b[1;32m    150\u001b[0m     \u001b[0;32mfor\u001b[0m \u001b[0mm\u001b[0m \u001b[0;32min\u001b[0m \u001b[0mrange\u001b[0m\u001b[0;34m(\u001b[0m\u001b[0mnmodels\u001b[0m\u001b[0;34m)\u001b[0m\u001b[0;34m:\u001b[0m\u001b[0;34m\u001b[0m\u001b[0;34m\u001b[0m\u001b[0m\n\u001b[1;32m    151\u001b[0m         \u001b[0;31m#print('m', m, len(np.where(model_index_matrix[m] ==1)[0]))\u001b[0m\u001b[0;34m\u001b[0m\u001b[0;34m\u001b[0m\u001b[0;34m\u001b[0m\u001b[0m\n\u001b[0;32m--> 152\u001b[0;31m         \u001b[0mpredictions\u001b[0m\u001b[0;34m[\u001b[0m\u001b[0mm\u001b[0m\u001b[0;34m]\u001b[0m \u001b[0;34m=\u001b[0m \u001b[0mnp\u001b[0m\u001b[0;34m.\u001b[0m\u001b[0masarray\u001b[0m\u001b[0;34m(\u001b[0m\u001b[0;34m[\u001b[0m\u001b[0mget_homo_loocv_predictions_singlemodel\u001b[0m\u001b[0;34m(\u001b[0m\u001b[0mprojections\u001b[0m\u001b[0;34m,\u001b[0m \u001b[0minjections\u001b[0m\u001b[0;34m,\u001b[0m \u001b[0mhyperparameters\u001b[0m\u001b[0;34m[\u001b[0m\u001b[0mg\u001b[0m\u001b[0;34m]\u001b[0m\u001b[0;34m[\u001b[0m\u001b[0;36m0\u001b[0m\u001b[0;34m]\u001b[0m\u001b[0;34m,\u001b[0m \u001b[0mhyperparameters\u001b[0m\u001b[0;34m[\u001b[0m\u001b[0mg\u001b[0m\u001b[0;34m]\u001b[0m\u001b[0;34m[\u001b[0m\u001b[0;36m1\u001b[0m\u001b[0;34m]\u001b[0m\u001b[0;34m,\u001b[0m \u001b[0mmodel_index_matrix\u001b[0m\u001b[0;34m[\u001b[0m\u001b[0mm\u001b[0m\u001b[0;34m]\u001b[0m\u001b[0;34m,\u001b[0m \u001b[0meval_index_matrix\u001b[0m\u001b[0;34m[\u001b[0m\u001b[0mm\u001b[0m\u001b[0;34m]\u001b[0m\u001b[0;34m)\u001b[0m \u001b[0;32mfor\u001b[0m \u001b[0mg\u001b[0m \u001b[0;32min\u001b[0m \u001b[0mrange\u001b[0m\u001b[0;34m(\u001b[0m\u001b[0mnhyp\u001b[0m\u001b[0;34m)\u001b[0m\u001b[0;34m]\u001b[0m\u001b[0;34m)\u001b[0m\u001b[0;34m\u001b[0m\u001b[0;34m\u001b[0m\u001b[0m\n\u001b[0m\u001b[1;32m    153\u001b[0m \u001b[0;34m\u001b[0m\u001b[0m\n\u001b[1;32m    154\u001b[0m     \u001b[0;32mreturn\u001b[0m\u001b[0;34m(\u001b[0m\u001b[0mpredictions\u001b[0m\u001b[0;34m)\u001b[0m\u001b[0;34m\u001b[0m\u001b[0;34m\u001b[0m\u001b[0m\n",
      "\u001b[0;32m<ipython-input-150-eba3acf5c44b>\u001b[0m in \u001b[0;36m<listcomp>\u001b[0;34m(.0)\u001b[0m\n\u001b[1;32m    150\u001b[0m     \u001b[0;32mfor\u001b[0m \u001b[0mm\u001b[0m \u001b[0;32min\u001b[0m \u001b[0mrange\u001b[0m\u001b[0;34m(\u001b[0m\u001b[0mnmodels\u001b[0m\u001b[0;34m)\u001b[0m\u001b[0;34m:\u001b[0m\u001b[0;34m\u001b[0m\u001b[0;34m\u001b[0m\u001b[0m\n\u001b[1;32m    151\u001b[0m         \u001b[0;31m#print('m', m, len(np.where(model_index_matrix[m] ==1)[0]))\u001b[0m\u001b[0;34m\u001b[0m\u001b[0;34m\u001b[0m\u001b[0;34m\u001b[0m\u001b[0m\n\u001b[0;32m--> 152\u001b[0;31m         \u001b[0mpredictions\u001b[0m\u001b[0;34m[\u001b[0m\u001b[0mm\u001b[0m\u001b[0;34m]\u001b[0m \u001b[0;34m=\u001b[0m \u001b[0mnp\u001b[0m\u001b[0;34m.\u001b[0m\u001b[0masarray\u001b[0m\u001b[0;34m(\u001b[0m\u001b[0;34m[\u001b[0m\u001b[0mget_homo_loocv_predictions_singlemodel\u001b[0m\u001b[0;34m(\u001b[0m\u001b[0mprojections\u001b[0m\u001b[0;34m,\u001b[0m \u001b[0minjections\u001b[0m\u001b[0;34m,\u001b[0m \u001b[0mhyperparameters\u001b[0m\u001b[0;34m[\u001b[0m\u001b[0mg\u001b[0m\u001b[0;34m]\u001b[0m\u001b[0;34m[\u001b[0m\u001b[0;36m0\u001b[0m\u001b[0;34m]\u001b[0m\u001b[0;34m,\u001b[0m \u001b[0mhyperparameters\u001b[0m\u001b[0;34m[\u001b[0m\u001b[0mg\u001b[0m\u001b[0;34m]\u001b[0m\u001b[0;34m[\u001b[0m\u001b[0;36m1\u001b[0m\u001b[0;34m]\u001b[0m\u001b[0;34m,\u001b[0m \u001b[0mmodel_index_matrix\u001b[0m\u001b[0;34m[\u001b[0m\u001b[0mm\u001b[0m\u001b[0;34m]\u001b[0m\u001b[0;34m,\u001b[0m \u001b[0meval_index_matrix\u001b[0m\u001b[0;34m[\u001b[0m\u001b[0mm\u001b[0m\u001b[0;34m]\u001b[0m\u001b[0;34m)\u001b[0m \u001b[0;32mfor\u001b[0m \u001b[0mg\u001b[0m \u001b[0;32min\u001b[0m \u001b[0mrange\u001b[0m\u001b[0;34m(\u001b[0m\u001b[0mnhyp\u001b[0m\u001b[0;34m)\u001b[0m\u001b[0;34m]\u001b[0m\u001b[0;34m)\u001b[0m\u001b[0;34m\u001b[0m\u001b[0;34m\u001b[0m\u001b[0m\n\u001b[0m\u001b[1;32m    153\u001b[0m \u001b[0;34m\u001b[0m\u001b[0m\n\u001b[1;32m    154\u001b[0m     \u001b[0;32mreturn\u001b[0m\u001b[0;34m(\u001b[0m\u001b[0mpredictions\u001b[0m\u001b[0;34m)\u001b[0m\u001b[0;34m\u001b[0m\u001b[0;34m\u001b[0m\u001b[0m\n",
      "\u001b[0;32m<ipython-input-150-eba3acf5c44b>\u001b[0m in \u001b[0;36mget_homo_loocv_predictions_singlemodel\u001b[0;34m(projections, injections, thresh, number, model_indices, eval_indices)\u001b[0m\n\u001b[1;32m    130\u001b[0m             \u001b[0mprint\u001b[0m\u001b[0;34m(\u001b[0m\u001b[0;34m'exp'\u001b[0m\u001b[0;34m,\u001b[0m \u001b[0mi\u001b[0m\u001b[0;34m)\u001b[0m\u001b[0;34m\u001b[0m\u001b[0;34m\u001b[0m\u001b[0m\n\u001b[1;32m    131\u001b[0m             \u001b[0minj\u001b[0m\u001b[0;34m,\u001b[0m \u001b[0minds\u001b[0m \u001b[0;34m=\u001b[0m \u001b[0mget_reduced_matrix_ninj\u001b[0m\u001b[0;34m(\u001b[0m\u001b[0minjections\u001b[0m\u001b[0;34m[\u001b[0m\u001b[0motherindices\u001b[0m\u001b[0;34m]\u001b[0m\u001b[0;34m,\u001b[0m \u001b[0mthresh\u001b[0m\u001b[0;34m,\u001b[0m \u001b[0mnumber\u001b[0m\u001b[0;34m)\u001b[0m\u001b[0;34m\u001b[0m\u001b[0;34m\u001b[0m\u001b[0m\n\u001b[0;32m--> 132\u001b[0;31m             \u001b[0mhomo_est\u001b[0m\u001b[0;34m.\u001b[0m\u001b[0mfit\u001b[0m\u001b[0;34m(\u001b[0m\u001b[0minj\u001b[0m\u001b[0;34m,\u001b[0m \u001b[0mprojections\u001b[0m\u001b[0;34m[\u001b[0m\u001b[0motherindices\u001b[0m\u001b[0;34m]\u001b[0m\u001b[0;34m)\u001b[0m\u001b[0;34m\u001b[0m\u001b[0;34m\u001b[0m\u001b[0m\n\u001b[0m\u001b[1;32m    133\u001b[0m             \u001b[0mpred\u001b[0m \u001b[0;34m=\u001b[0m \u001b[0mhomo_est\u001b[0m\u001b[0;34m.\u001b[0m\u001b[0mpredict\u001b[0m\u001b[0;34m(\u001b[0m\u001b[0minjections\u001b[0m\u001b[0;34m[\u001b[0m\u001b[0mi\u001b[0m\u001b[0;34m:\u001b[0m\u001b[0;34m(\u001b[0m\u001b[0mi\u001b[0m \u001b[0;34m+\u001b[0m \u001b[0;36m1\u001b[0m\u001b[0;34m)\u001b[0m\u001b[0;34m]\u001b[0m\u001b[0;34m[\u001b[0m\u001b[0;34m:\u001b[0m\u001b[0;34m,\u001b[0m \u001b[0minds\u001b[0m\u001b[0;34m]\u001b[0m\u001b[0;34m)\u001b[0m\u001b[0;34m\u001b[0m\u001b[0;34m\u001b[0m\u001b[0m\n\u001b[1;32m    134\u001b[0m             \u001b[0mpredictions\u001b[0m\u001b[0;34m[\u001b[0m\u001b[0mi\u001b[0m\u001b[0;34m]\u001b[0m \u001b[0;34m=\u001b[0m \u001b[0mpred\u001b[0m \u001b[0;34m/\u001b[0m \u001b[0mnp\u001b[0m\u001b[0;34m.\u001b[0m\u001b[0mlinalg\u001b[0m\u001b[0;34m.\u001b[0m\u001b[0mnorm\u001b[0m\u001b[0;34m(\u001b[0m\u001b[0mpred\u001b[0m\u001b[0;34m)\u001b[0m\u001b[0;34m\u001b[0m\u001b[0;34m\u001b[0m\u001b[0m\n",
      "\u001b[0;32m~/alleninstitute/sambranch/mouse_connectivity_models/mcmodels/models/homogeneous/homogeneous_model.py\u001b[0m in \u001b[0;36mfit\u001b[0;34m(self, X, y, sample_weight)\u001b[0m\n\u001b[1;32m     72\u001b[0m         \u001b[0mself\u001b[0m\u001b[0;34m.\u001b[0m\u001b[0mcolumns_\u001b[0m \u001b[0;34m=\u001b[0m \u001b[0mcolumns\u001b[0m\u001b[0;34m\u001b[0m\u001b[0;34m\u001b[0m\u001b[0m\n\u001b[1;32m     73\u001b[0m \u001b[0;34m\u001b[0m\u001b[0m\n\u001b[0;32m---> 74\u001b[0;31m         \u001b[0;32mreturn\u001b[0m \u001b[0msuper\u001b[0m\u001b[0;34m(\u001b[0m\u001b[0mHomogeneousModel\u001b[0m\u001b[0;34m,\u001b[0m \u001b[0mself\u001b[0m\u001b[0;34m)\u001b[0m\u001b[0;34m.\u001b[0m\u001b[0mfit\u001b[0m\u001b[0;34m(\u001b[0m\u001b[0mX\u001b[0m\u001b[0;34m,\u001b[0m \u001b[0my\u001b[0m\u001b[0;34m,\u001b[0m \u001b[0msample_weight\u001b[0m\u001b[0;34m=\u001b[0m\u001b[0msample_weight\u001b[0m\u001b[0;34m)\u001b[0m\u001b[0;34m\u001b[0m\u001b[0;34m\u001b[0m\u001b[0m\n\u001b[0m\u001b[1;32m     75\u001b[0m \u001b[0;34m\u001b[0m\u001b[0m\n\u001b[1;32m     76\u001b[0m     \u001b[0;32mdef\u001b[0m \u001b[0mpredict\u001b[0m\u001b[0;34m(\u001b[0m\u001b[0mself\u001b[0m\u001b[0;34m,\u001b[0m \u001b[0mX\u001b[0m\u001b[0;34m)\u001b[0m\u001b[0;34m:\u001b[0m\u001b[0;34m\u001b[0m\u001b[0;34m\u001b[0m\u001b[0m\n",
      "\u001b[0;32m~/alleninstitute/sambranch/mouse_connectivity_models/mcmodels/regressors/nonnegative_linear/base.py\u001b[0m in \u001b[0;36mfit\u001b[0;34m(self, X, y, sample_weight)\u001b[0m\n\u001b[1;32m    161\u001b[0m         \u001b[0;31m# fit weights\u001b[0m\u001b[0;34m\u001b[0m\u001b[0;34m\u001b[0m\u001b[0;34m\u001b[0m\u001b[0m\n\u001b[1;32m    162\u001b[0m         self.coef_, self.res_ = nonnegative_regression(\n\u001b[0;32m--> 163\u001b[0;31m             X, y, sample_weight=sample_weight)\n\u001b[0m\u001b[1;32m    164\u001b[0m \u001b[0;34m\u001b[0m\u001b[0m\n\u001b[1;32m    165\u001b[0m         \u001b[0;32mreturn\u001b[0m \u001b[0mself\u001b[0m\u001b[0;34m\u001b[0m\u001b[0;34m\u001b[0m\u001b[0m\n",
      "\u001b[0;32m~/alleninstitute/sambranch/mouse_connectivity_models/mcmodels/regressors/nonnegative_linear/base.py\u001b[0m in \u001b[0;36mnonnegative_regression\u001b[0;34m(X, y, sample_weight)\u001b[0m\n\u001b[1;32m     89\u001b[0m         \u001b[0mX\u001b[0m\u001b[0;34m,\u001b[0m \u001b[0my\u001b[0m \u001b[0;34m=\u001b[0m \u001b[0m_rescale_data\u001b[0m\u001b[0;34m(\u001b[0m\u001b[0mX\u001b[0m\u001b[0;34m,\u001b[0m \u001b[0my\u001b[0m\u001b[0;34m,\u001b[0m \u001b[0msample_weight\u001b[0m\u001b[0;34m)\u001b[0m\u001b[0;34m\u001b[0m\u001b[0;34m\u001b[0m\u001b[0m\n\u001b[1;32m     90\u001b[0m \u001b[0;34m\u001b[0m\u001b[0m\n\u001b[0;32m---> 91\u001b[0;31m     \u001b[0mcoef\u001b[0m\u001b[0;34m,\u001b[0m \u001b[0mres\u001b[0m \u001b[0;34m=\u001b[0m \u001b[0m_solve_nnls\u001b[0m\u001b[0;34m(\u001b[0m\u001b[0mX\u001b[0m\u001b[0;34m,\u001b[0m \u001b[0my\u001b[0m\u001b[0;34m)\u001b[0m\u001b[0;34m\u001b[0m\u001b[0;34m\u001b[0m\u001b[0m\n\u001b[0m\u001b[1;32m     92\u001b[0m \u001b[0;34m\u001b[0m\u001b[0m\n\u001b[1;32m     93\u001b[0m     \u001b[0;32mif\u001b[0m \u001b[0mravel\u001b[0m\u001b[0;34m:\u001b[0m\u001b[0;34m\u001b[0m\u001b[0;34m\u001b[0m\u001b[0m\n",
      "\u001b[0;32m~/alleninstitute/sambranch/mouse_connectivity_models/mcmodels/regressors/nonnegative_linear/base.py\u001b[0m in \u001b[0;36m_solve_nnls\u001b[0;34m(X, y)\u001b[0m\n\u001b[1;32m     28\u001b[0m     \u001b[0;32mfor\u001b[0m \u001b[0mi\u001b[0m \u001b[0;32min\u001b[0m \u001b[0mrange\u001b[0m\u001b[0;34m(\u001b[0m\u001b[0mn_targets\u001b[0m\u001b[0;34m)\u001b[0m\u001b[0;34m:\u001b[0m\u001b[0;34m\u001b[0m\u001b[0;34m\u001b[0m\u001b[0m\n\u001b[1;32m     29\u001b[0m         \u001b[0my_column\u001b[0m \u001b[0;34m=\u001b[0m \u001b[0my\u001b[0m\u001b[0;34m[\u001b[0m\u001b[0;34m:\u001b[0m\u001b[0;34m,\u001b[0m \u001b[0mi\u001b[0m\u001b[0;34m]\u001b[0m\u001b[0;34m\u001b[0m\u001b[0;34m\u001b[0m\u001b[0m\n\u001b[0;32m---> 30\u001b[0;31m         \u001b[0minfo\u001b[0m \u001b[0;34m=\u001b[0m \u001b[0msopt\u001b[0m\u001b[0;34m.\u001b[0m\u001b[0mnnls\u001b[0m\u001b[0;34m(\u001b[0m\u001b[0mX\u001b[0m\u001b[0;34m,\u001b[0m \u001b[0my_column\u001b[0m\u001b[0;34m)\u001b[0m\u001b[0;34m\u001b[0m\u001b[0;34m\u001b[0m\u001b[0m\n\u001b[0m\u001b[1;32m     31\u001b[0m \u001b[0;34m\u001b[0m\u001b[0m\n\u001b[1;32m     32\u001b[0m         \u001b[0mcoef\u001b[0m\u001b[0;34m[\u001b[0m\u001b[0mi\u001b[0m\u001b[0;34m]\u001b[0m \u001b[0;34m=\u001b[0m \u001b[0minfo\u001b[0m\u001b[0;34m[\u001b[0m\u001b[0;36m0\u001b[0m\u001b[0;34m]\u001b[0m\u001b[0;34m\u001b[0m\u001b[0;34m\u001b[0m\u001b[0m\n",
      "\u001b[0;32m~/anaconda3/envs/allen_010719_5/lib/python3.7/site-packages/scipy/optimize/nnls.py\u001b[0m in \u001b[0;36mnnls\u001b[0;34m(A, b, maxiter)\u001b[0m\n\u001b[1;32m     76\u001b[0m     \u001b[0mindex\u001b[0m \u001b[0;34m=\u001b[0m \u001b[0mzeros\u001b[0m\u001b[0;34m(\u001b[0m\u001b[0;34m(\u001b[0m\u001b[0mn\u001b[0m\u001b[0;34m,\u001b[0m\u001b[0;34m)\u001b[0m\u001b[0;34m,\u001b[0m \u001b[0mdtype\u001b[0m\u001b[0;34m=\u001b[0m\u001b[0mint\u001b[0m\u001b[0;34m)\u001b[0m\u001b[0;34m\u001b[0m\u001b[0;34m\u001b[0m\u001b[0m\n\u001b[1;32m     77\u001b[0m \u001b[0;34m\u001b[0m\u001b[0m\n\u001b[0;32m---> 78\u001b[0;31m     \u001b[0mx\u001b[0m\u001b[0;34m,\u001b[0m \u001b[0mrnorm\u001b[0m\u001b[0;34m,\u001b[0m \u001b[0mmode\u001b[0m \u001b[0;34m=\u001b[0m \u001b[0m_nnls\u001b[0m\u001b[0;34m.\u001b[0m\u001b[0mnnls\u001b[0m\u001b[0;34m(\u001b[0m\u001b[0mA\u001b[0m\u001b[0;34m,\u001b[0m \u001b[0mm\u001b[0m\u001b[0;34m,\u001b[0m \u001b[0mn\u001b[0m\u001b[0;34m,\u001b[0m \u001b[0mb\u001b[0m\u001b[0;34m,\u001b[0m \u001b[0mw\u001b[0m\u001b[0;34m,\u001b[0m \u001b[0mzz\u001b[0m\u001b[0;34m,\u001b[0m \u001b[0mindex\u001b[0m\u001b[0;34m,\u001b[0m \u001b[0mmaxiter\u001b[0m\u001b[0;34m)\u001b[0m\u001b[0;34m\u001b[0m\u001b[0;34m\u001b[0m\u001b[0m\n\u001b[0m\u001b[1;32m     79\u001b[0m     \u001b[0;32mif\u001b[0m \u001b[0mmode\u001b[0m \u001b[0;34m!=\u001b[0m \u001b[0;36m1\u001b[0m\u001b[0;34m:\u001b[0m\u001b[0;34m\u001b[0m\u001b[0;34m\u001b[0m\u001b[0m\n\u001b[1;32m     80\u001b[0m         \u001b[0;32mraise\u001b[0m \u001b[0mRuntimeError\u001b[0m\u001b[0;34m(\u001b[0m\u001b[0;34m\"too many iterations\"\u001b[0m\u001b[0;34m)\u001b[0m\u001b[0;34m\u001b[0m\u001b[0;34m\u001b[0m\u001b[0m\n",
      "\u001b[0;31mKeyboardInterrupt\u001b[0m: "
     ]
    }
   ],
   "source": [
    "for sid in major_structure_ids:\n",
    "    msvds[sid].loocv_predictions_model = get_homo_loocv_predictions_multimodel_merge(projections = msvds[sid].reg_proj_vcount_norm_renorm, \n",
    "                                                                     injections = msvds[sid].reg_inj_vcount_norm,\n",
    "                                                                    hyperparameters = np.asarray([[1e-10,0]]),\n",
    "                                                                    model_index_matrix = indices_major[sid],\n",
    "                                                                    eval_index_matrix = indices_major[sid])\n",
    "                                                                     #codes=np.asarray(np.vstack([leafs[sid], creline[sid]]), dtype = str).transpose())\n"
   ]
  },
  {
   "cell_type": "code",
   "execution_count": 152,
   "metadata": {},
   "outputs": [],
   "source": [
    "\n",
    "homo_loocv_predictions_all = {}\n",
    "#homo_loocv_predictions_wt = {}\n",
    "homo_reg_proj_vcount_norm_renorms= {}\n",
    "for sid in major_structure_ids[:2]:\n",
    "    homo_loocv_predictions_all[sid ] = msvds[sid].loocv_predictions_model\n",
    "    #homo_loocv_predictions_wt[sid ] = msvds[sid].loocv_predictions_wt\n",
    "    homo_reg_proj_vcount_norm_renorms[sid ] = msvds[sid].reg_proj_vcount_norm_renorm\n",
    "    "
   ]
  },
  {
   "cell_type": "code",
   "execution_count": 153,
   "metadata": {
    "collapsed": true
   },
   "outputs": [],
   "source": [
    "inds_good = {}\n",
    "for sid in major_structure_ids[:2]:\n",
    "    inds_good[sid] = np.asarray(list(range(msvds[sid].injections.shape[0])))\n",
    "    \n",
    "a = [list(range(1)), list(range(1))]\n",
    "keys = np.asarray(list(itertools.product(*a)))\n"
   ]
  },
  {
   "cell_type": "code",
   "execution_count": 154,
   "metadata": {},
   "outputs": [],
   "source": [
    "\n",
    "def get_loss(true_dict, prediction_dict, pred_ind=None, true_ind=None, keys=None):\n",
    "    output = {}\n",
    "    \n",
    "    major_structure_ids = list(prediction_dict.keys())\n",
    "    nms = len(major_structure_ids)\n",
    "    ngam = prediction_dict[major_structure_ids[0]].shape[0]\n",
    "    nalph = prediction_dict[major_structure_ids[0]].shape[1]\n",
    "    for m in range(nms):\n",
    "        sid = major_structure_ids[m]\n",
    "        if pred_ind == None:\n",
    "            # prediction_dict and true_dict will contain predictions for 'bad' experiments with no recorded injection\n",
    "            # when we have the wild type predictions, the subset is what is good among the wild types\n",
    "            # so 'true' subsetting is always good, since it is w.r.t. the full injection\n",
    "            # but prediction needs good w.r.t. wt\n",
    "            pind = np.asarray(list(range(prediction_dict[sid].shape[1])), dtype=int)\n",
    "        else:\n",
    "            pind = pred_ind[sid]\n",
    "        if true_ind == None:\n",
    "            tind = np.asarray(list(range(true_dict[sid].shape[0])), dtype=int)\n",
    "        else:\n",
    "            tind = true_ind[sid]\n",
    "\n",
    "        nexp = len(pind)\n",
    "\n",
    "        output[sid] = np.zeros((keys.shape[0], nexp))\n",
    "\n",
    "        for j in range(keys.shape[0]):\n",
    "            output[sid][j] = np.asarray(\n",
    "                [get_loss_paper(true_dict[sid][tind[i]], prediction_dict[sid][j][pind[i]]) for i in\n",
    "                 range(nexp)])\n",
    "\n",
    "    return (output)"
   ]
  },
  {
   "cell_type": "code",
   "execution_count": 155,
   "metadata": {},
   "outputs": [],
   "source": [
    "losses_all = get_loss(homo_reg_proj_vcount_norm_renorms, homo_loocv_predictions_all,pred_ind = inds_good, true_ind = inds_good,keys = keys)\n"
   ]
  },
  {
   "cell_type": "code",
   "execution_count": 156,
   "metadata": {},
   "outputs": [
    {
     "name": "stdout",
     "output_type": "stream",
     "text": [
      "0\n",
      "1\n",
      "[0.73357498 0.8541805 ]\n"
     ]
    },
    {
     "ename": "IndexError",
     "evalue": "index 4 is out of bounds for axis 0 with size 2",
     "output_type": "error",
     "traceback": [
      "\u001b[0;31m---------------------------------------------------------------------------\u001b[0m",
      "\u001b[0;31mIndexError\u001b[0m                                Traceback (most recent call last)",
      "\u001b[0;32m<ipython-input-156-41d747a18368>\u001b[0m in \u001b[0;36m<module>\u001b[0;34m\u001b[0m\n\u001b[1;32m     10\u001b[0m \u001b[0;34m\u001b[0m\u001b[0m\n\u001b[1;32m     11\u001b[0m \u001b[0mlosses\u001b[0m \u001b[0;34m=\u001b[0m \u001b[0mnp\u001b[0m\u001b[0;34m.\u001b[0m\u001b[0masarray\u001b[0m\u001b[0;34m(\u001b[0m\u001b[0;34m[\u001b[0m\u001b[0mmean_nw_all\u001b[0m\u001b[0;34m]\u001b[0m\u001b[0;34m)\u001b[0m\u001b[0;34m.\u001b[0m\u001b[0mtranspose\u001b[0m\u001b[0;34m(\u001b[0m\u001b[0;34m)\u001b[0m\u001b[0;34m\u001b[0m\u001b[0;34m\u001b[0m\u001b[0m\n\u001b[0;32m---> 12\u001b[0;31m \u001b[0mlosses2\u001b[0m \u001b[0;34m=\u001b[0m \u001b[0mlosses\u001b[0m\u001b[0;34m[\u001b[0m\u001b[0;34m[\u001b[0m\u001b[0;36m4\u001b[0m\u001b[0;34m,\u001b[0m\u001b[0;36m7\u001b[0m\u001b[0;34m,\u001b[0m\u001b[0;36m2\u001b[0m\u001b[0;34m,\u001b[0m\u001b[0;36m1\u001b[0m\u001b[0;34m,\u001b[0m\u001b[0;36m10\u001b[0m\u001b[0;34m,\u001b[0m\u001b[0;36m9\u001b[0m\u001b[0;34m,\u001b[0m\u001b[0;36m11\u001b[0m\u001b[0;34m,\u001b[0m\u001b[0;36m3\u001b[0m\u001b[0;34m,\u001b[0m\u001b[0;36m5\u001b[0m\u001b[0;34m,\u001b[0m\u001b[0;36m8\u001b[0m\u001b[0;34m,\u001b[0m\u001b[0;36m6\u001b[0m\u001b[0;34m,\u001b[0m\u001b[0;36m0\u001b[0m\u001b[0;34m]\u001b[0m\u001b[0;34m]\u001b[0m\u001b[0;34m\u001b[0m\u001b[0;34m\u001b[0m\u001b[0m\n\u001b[0m\u001b[1;32m     13\u001b[0m \u001b[0mloss\u001b[0m \u001b[0;34m=\u001b[0m\u001b[0mpd\u001b[0m\u001b[0;34m.\u001b[0m\u001b[0mDataFrame\u001b[0m\u001b[0;34m(\u001b[0m\u001b[0mlosses2\u001b[0m\u001b[0;34m,\u001b[0m \u001b[0mcolumns\u001b[0m \u001b[0;34m=\u001b[0m \u001b[0;34m[\u001b[0m\u001b[0;34m'all'\u001b[0m\u001b[0;34m,\u001b[0m\u001b[0;34m'allwt'\u001b[0m\u001b[0;34m]\u001b[0m\u001b[0;34m)\u001b[0m\u001b[0;34m\u001b[0m\u001b[0;34m\u001b[0m\u001b[0m\n",
      "\u001b[0;31mIndexError\u001b[0m: index 4 is out of bounds for axis 0 with size 2"
     ]
    }
   ],
   "source": [
    "\n",
    "sel_ga_all = get_best_hyperparameters(losses_all,keys)\n",
    "\n",
    "\n",
    "mean_nw_all = get_loss_best_hyp(losses_all, sel_ga_all)\n",
    "\n",
    "#mean_nw_wt = get_loss_best_hyp(losses_all, sel_ga_wt)\n",
    "\n",
    "print(mean_nw_all)\n",
    "\n",
    "\n",
    "losses = np.asarray([mean_nw_all]).transpose()\n",
    "losses2 = losses[[4,7,2,1,10,9,11,3,5,8,6,0]]\n",
    "loss =pd.DataFrame(losses2, columns = ['all','allwt'])"
   ]
  },
  {
   "cell_type": "code",
   "execution_count": 147,
   "metadata": {},
   "outputs": [
    {
     "data": {
      "text/plain": [
       "array([[1.79429952, 1.84022172, 1.20661765, 1.99502652, 1.43279907,\n",
       "        1.99557181, 1.76841474, 1.94121895, 1.02176886, 1.93389254,\n",
       "        1.96911868, 1.9698524 , 1.52393303, 1.97455856, 1.99993808,\n",
       "        1.94585568, 1.35517941, 1.29777866, 1.37154365, 1.67780285,\n",
       "        1.9648431 , 1.91962371, 1.94727464, 1.97926452, 1.95114343,\n",
       "        1.84326631, 1.06150107, 1.37236168, 1.54600063, 1.618074  ,\n",
       "        1.21057103, 1.75188756, 1.99358748, 1.97687266, 1.84841024,\n",
       "        1.84299481]])"
      ]
     },
     "execution_count": 147,
     "metadata": {},
     "output_type": "execute_result"
    }
   ],
   "source": [
    "losses_all[512]"
   ]
  },
  {
   "cell_type": "code",
   "execution_count": 105,
   "metadata": {},
   "outputs": [
    {
     "data": {
      "text/plain": [
       "array([[0, 0],\n",
       "       [0, 0]])"
      ]
     },
     "execution_count": 105,
     "metadata": {},
     "output_type": "execute_result"
    }
   ],
   "source": [
    "sel_ga_all"
   ]
  },
  {
   "cell_type": "code",
   "execution_count": 109,
   "metadata": {},
   "outputs": [
    {
     "data": {
      "text/plain": [
       "(577,)"
      ]
     },
     "execution_count": 109,
     "metadata": {},
     "output_type": "execute_result"
    }
   ],
   "source": [
    "msvds[315].reg_proj_vcount_norm_renorm[0].shape"
   ]
  },
  {
   "cell_type": "code",
   "execution_count": 111,
   "metadata": {},
   "outputs": [
    {
     "data": {
      "text/plain": [
       "array([[[1.26964645e-02, 3.08185627e-05, 1.31216450e-02, ...,\n",
       "         1.92882362e-04, 3.58154386e-04, 1.86203950e-04],\n",
       "        [2.97906734e-02, 1.05838342e-06, 6.33131200e-03, ...,\n",
       "         0.00000000e+00, 1.08713975e-04, 1.90663955e-03],\n",
       "        [3.26103419e-02, 1.45890322e-02, 6.21838699e-05, ...,\n",
       "         7.82005554e-06, 1.12742873e-05, 4.12790716e-04],\n",
       "        ...,\n",
       "        [9.41307750e-03, 1.65668753e-05, 2.88871955e-03, ...,\n",
       "         0.00000000e+00, 0.00000000e+00, 3.19308252e-04],\n",
       "        [3.89679149e-02, 1.44760925e-02, 3.76606731e-05, ...,\n",
       "         8.91638501e-06, 1.34690918e-05, 5.35137835e-04],\n",
       "        [3.53414789e-02, 1.37833795e-02, 4.04842394e-05, ...,\n",
       "         8.07139531e-06, 1.23910249e-05, 4.88802907e-04]]])"
      ]
     },
     "execution_count": 111,
     "metadata": {},
     "output_type": "execute_result"
    }
   ],
   "source": [
    "homo_loocv_predictions_all[512 ]"
   ]
  },
  {
   "cell_type": "code",
   "execution_count": 129,
   "metadata": {},
   "outputs": [
    {
     "name": "stdout",
     "output_type": "stream",
     "text": [
      "exp 0\n",
      "exp 1\n",
      "exp 2\n",
      "exp 3\n",
      "exp 4\n",
      "exp 5\n",
      "exp 6\n",
      "exp 7\n",
      "exp 8\n",
      "exp 9\n",
      "exp 10\n",
      "exp 11\n",
      "exp 12\n"
     ]
    },
    {
     "name": "stderr",
     "output_type": "stream",
     "text": [
      "/Users/samsonkoelle/alleninstitute/sambranch/mouse_connectivity_models/mcmodels/models/crossvalidation.py:173: RuntimeWarning: invalid value encountered in true_divide\n",
      "  predictions[i] = pred / np.linalg.norm(pred)\n"
     ]
    },
    {
     "name": "stdout",
     "output_type": "stream",
     "text": [
      "exp 13\n",
      "exp 14\n",
      "exp 15\n",
      "exp 16\n",
      "exp 17\n",
      "exp 18\n",
      "exp 19\n",
      "exp 20\n",
      "exp 21\n",
      "exp 22\n",
      "exp 23\n",
      "exp 24\n",
      "exp 25\n",
      "exp 26\n",
      "exp 27\n",
      "exp 28\n",
      "exp 29\n",
      "exp 30\n",
      "exp 31\n",
      "exp 32\n",
      "exp 33\n",
      "exp 34\n",
      "exp 35\n"
     ]
    },
    {
     "data": {
      "text/plain": [
       "array([[[8.56070966e-03, 3.05101003e-05, 1.35357073e-02, ...,\n",
       "         7.38799063e-05, 1.24148733e-04, 9.93363574e-05],\n",
       "        [2.71225795e-02, 2.57367301e-05, 6.23216294e-03, ...,\n",
       "         0.00000000e+00, 1.14158065e-04, 1.88135076e-03],\n",
       "        [3.52268964e-02, 1.53093301e-02, 7.20390090e-05, ...,\n",
       "         7.36269931e-06, 1.32501909e-05, 4.51150147e-04],\n",
       "        ...,\n",
       "        [7.39513477e-03, 3.51957024e-05, 2.86665931e-03, ...,\n",
       "         0.00000000e+00, 0.00000000e+00, 3.00048589e-04],\n",
       "        [4.77858670e-02, 2.00595204e-02, 5.85877387e-05, ...,\n",
       "         8.99483348e-06, 2.13925159e-05, 7.38395029e-04],\n",
       "        [4.40028347e-02, 1.91143900e-02, 6.05519745e-05, ...,\n",
       "         8.28236080e-06, 1.99363203e-05, 6.84276223e-04]]])"
      ]
     },
     "execution_count": 129,
     "metadata": {},
     "output_type": "execute_result"
    }
   ],
   "source": [
    "sid = 512\n",
    "get_homo_loocv(msvds[sid], np.asarray(list(range(msvds[sid].projections.shape[0]))), get_loocv_predictions_nnlinear_number_inj_norm, thres_ncomp)\n"
   ]
  },
  {
   "cell_type": "code",
   "execution_count": 121,
   "metadata": {
    "collapsed": true
   },
   "outputs": [],
   "source": [
    "thres_ncomp = np.asarray([[1e-10,0]])"
   ]
  },
  {
   "cell_type": "code",
   "execution_count": 131,
   "metadata": {},
   "outputs": [
    {
     "name": "stdout",
     "output_type": "stream",
     "text": [
      "nexp 36\n",
      "exp 0\n",
      "exp 1\n",
      "exp 2\n",
      "exp 3\n",
      "exp 4\n",
      "exp 5\n",
      "exp 6\n",
      "exp 7\n",
      "exp 8\n",
      "exp 9\n",
      "exp 10\n",
      "exp 11\n",
      "exp 12\n"
     ]
    },
    {
     "name": "stderr",
     "output_type": "stream",
     "text": [
      "/Users/samsonkoelle/anaconda3/envs/allen_010719_5/lib/python3.7/site-packages/ipykernel_launcher.py:132: RuntimeWarning: invalid value encountered in true_divide\n"
     ]
    },
    {
     "name": "stdout",
     "output_type": "stream",
     "text": [
      "exp 13\n",
      "exp 14\n",
      "exp 15\n",
      "exp 16\n",
      "exp 17\n",
      "exp 18\n",
      "exp 19\n",
      "exp 20\n",
      "exp 21\n",
      "exp 22\n",
      "exp 23\n",
      "exp 24\n",
      "exp 25\n",
      "exp 26\n",
      "exp 27\n",
      "exp 28\n",
      "exp 29\n",
      "exp 30\n",
      "exp 31\n",
      "exp 32\n",
      "exp 33\n",
      "exp 34\n",
      "exp 35\n"
     ]
    },
    {
     "data": {
      "text/plain": [
       "array([[[1.26964645e-02, 3.08185627e-05, 1.31216450e-02, ...,\n",
       "         1.92882362e-04, 3.58154386e-04, 1.86203950e-04],\n",
       "        [2.97906734e-02, 1.05838342e-06, 6.33131200e-03, ...,\n",
       "         0.00000000e+00, 1.08713975e-04, 1.90663955e-03],\n",
       "        [3.26103419e-02, 1.45890322e-02, 6.21838699e-05, ...,\n",
       "         7.82005554e-06, 1.12742873e-05, 4.12790716e-04],\n",
       "        ...,\n",
       "        [9.41307750e-03, 1.65668753e-05, 2.88871955e-03, ...,\n",
       "         0.00000000e+00, 0.00000000e+00, 3.19308252e-04],\n",
       "        [3.89679149e-02, 1.44760925e-02, 3.76606731e-05, ...,\n",
       "         8.91638501e-06, 1.34690918e-05, 5.35137835e-04],\n",
       "        [3.53414789e-02, 1.37833795e-02, 4.04842394e-05, ...,\n",
       "         8.07139531e-06, 1.23910249e-05, 4.88802907e-04]]])"
      ]
     },
     "execution_count": 131,
     "metadata": {},
     "output_type": "execute_result"
    }
   ],
   "source": [
    "get_homo_loocv_predictions_multimodel_merge(projections = msvds[sid].reg_proj_vcount_norm_renorm, \n",
    "                                                                    injections = msvds[sid].reg_inj_vcount_norm,\n",
    "                                                                    hyperparameters = np.asarray([[1e-10,0]]),\n",
    "                                                                    model_index_matrix = indices_major[sid],\n",
    "                                                                    eval_index_matrix = indices_major[sid])"
   ]
  },
  {
   "cell_type": "code",
   "execution_count": 133,
   "metadata": {},
   "outputs": [
    {
     "name": "stdout",
     "output_type": "stream",
     "text": [
      "nexp 36\n",
      "exp 0\n",
      "exp 1\n",
      "exp 2\n",
      "exp 3\n",
      "exp 4\n",
      "exp 5\n",
      "exp 6\n",
      "exp 7\n",
      "exp 8\n",
      "exp 9\n",
      "exp 10\n",
      "exp 11\n",
      "exp 12\n"
     ]
    },
    {
     "name": "stderr",
     "output_type": "stream",
     "text": [
      "/Users/samsonkoelle/anaconda3/envs/allen_010719_5/lib/python3.7/site-packages/ipykernel_launcher.py:132: RuntimeWarning: invalid value encountered in true_divide\n"
     ]
    },
    {
     "name": "stdout",
     "output_type": "stream",
     "text": [
      "exp 13\n",
      "exp 14\n",
      "exp 15\n",
      "exp 16\n",
      "exp 17\n",
      "exp 18\n",
      "exp 19\n",
      "exp 20\n",
      "exp 21\n",
      "exp 22\n",
      "exp 23\n",
      "exp 24\n",
      "exp 25\n",
      "exp 26\n",
      "exp 27\n",
      "exp 28\n",
      "exp 29\n",
      "exp 30\n",
      "exp 31\n",
      "exp 32\n",
      "exp 33\n",
      "exp 34\n",
      "exp 35\n"
     ]
    },
    {
     "data": {
      "text/plain": [
       "array([[1.26964645e-02, 3.08185627e-05, 1.31216450e-02, ...,\n",
       "        1.92882362e-04, 3.58154386e-04, 1.86203950e-04],\n",
       "       [2.97906734e-02, 1.05838342e-06, 6.33131200e-03, ...,\n",
       "        0.00000000e+00, 1.08713975e-04, 1.90663955e-03],\n",
       "       [3.26103419e-02, 1.45890322e-02, 6.21838699e-05, ...,\n",
       "        7.82005554e-06, 1.12742873e-05, 4.12790716e-04],\n",
       "       ...,\n",
       "       [9.41307750e-03, 1.65668753e-05, 2.88871955e-03, ...,\n",
       "        0.00000000e+00, 0.00000000e+00, 3.19308252e-04],\n",
       "       [3.89679149e-02, 1.44760925e-02, 3.76606731e-05, ...,\n",
       "        8.91638501e-06, 1.34690918e-05, 5.35137835e-04],\n",
       "       [3.53414789e-02, 1.37833795e-02, 4.04842394e-05, ...,\n",
       "        8.07139531e-06, 1.23910249e-05, 4.88802907e-04]])"
      ]
     },
     "execution_count": 133,
     "metadata": {},
     "output_type": "execute_result"
    }
   ],
   "source": [
    "get_homo_loocv_predictions_singlemodel(projections = msvds[sid].reg_proj_vcount_norm_renorm, \n",
    "                                                                    injections = msvds[sid].reg_inj_vcount_norm,\n",
    "                                                                    thresh = 1e-10,\n",
    "                                                                    number = 0, \n",
    "                                                                    model_indices = indices_major[sid][0],\n",
    "                                                                    eval_indices = indices_major[sid][0])"
   ]
  },
  {
   "cell_type": "code",
   "execution_count": 149,
   "metadata": {},
   "outputs": [
    {
     "name": "stdout",
     "output_type": "stream",
     "text": [
      "exp 0\n",
      "exp 1\n",
      "exp 2\n",
      "exp 3\n",
      "exp 4\n",
      "exp 5\n",
      "exp 6\n",
      "exp 7\n",
      "exp 8\n",
      "exp 9\n",
      "exp 10\n",
      "exp 11\n",
      "exp 12\n"
     ]
    },
    {
     "name": "stderr",
     "output_type": "stream",
     "text": [
      "/Users/samsonkoelle/alleninstitute/sambranch/mouse_connectivity_models/mcmodels/models/crossvalidation.py:173: RuntimeWarning: invalid value encountered in true_divide\n",
      "  predictions[i] = pred / np.linalg.norm(pred)\n"
     ]
    },
    {
     "name": "stdout",
     "output_type": "stream",
     "text": [
      "exp 13\n",
      "exp 14\n",
      "exp 15\n",
      "exp 16\n",
      "exp 17\n",
      "exp 18\n",
      "exp 19\n",
      "exp 20\n",
      "exp 21\n",
      "exp 22\n",
      "exp 23\n",
      "exp 24\n",
      "exp 25\n",
      "exp 26\n",
      "exp 27\n",
      "exp 28\n",
      "exp 29\n",
      "exp 30\n",
      "exp 31\n",
      "exp 32\n",
      "exp 33\n",
      "exp 34\n",
      "exp 35\n"
     ]
    },
    {
     "data": {
      "text/plain": [
       "array([[1.26964645e-02, 3.08185627e-05, 1.31216450e-02, ...,\n",
       "        1.92882362e-04, 3.58154386e-04, 1.86203950e-04],\n",
       "       [2.97906734e-02, 1.05838342e-06, 6.33131200e-03, ...,\n",
       "        0.00000000e+00, 1.08713975e-04, 1.90663955e-03],\n",
       "       [3.26103419e-02, 1.45890322e-02, 6.21838699e-05, ...,\n",
       "        7.82005554e-06, 1.12742873e-05, 4.12790716e-04],\n",
       "       ...,\n",
       "       [9.41307750e-03, 1.65668753e-05, 2.88871955e-03, ...,\n",
       "        0.00000000e+00, 0.00000000e+00, 3.19308252e-04],\n",
       "       [3.89679149e-02, 1.44760925e-02, 3.76606731e-05, ...,\n",
       "        8.91638501e-06, 1.34690918e-05, 5.35137835e-04],\n",
       "       [3.53414789e-02, 1.37833795e-02, 4.04842394e-05, ...,\n",
       "        8.07139531e-06, 1.23910249e-05, 4.88802907e-04]])"
      ]
     },
     "execution_count": 149,
     "metadata": {},
     "output_type": "execute_result"
    }
   ],
   "source": [
    "get_loocv_predictions_nnlinear_number_inj_norm(projections = msvds[sid].reg_proj_vcount_norm_renorm, \n",
    "                                                                    injections = msvds[sid].reg_inj_vcount_norm,\n",
    "                                                                    thresh = 1e-10,\n",
    "                                                                    number = 0)"
   ]
  },
  {
   "cell_type": "code",
   "execution_count": 148,
   "metadata": {},
   "outputs": [
    {
     "name": "stdout",
     "output_type": "stream",
     "text": [
      "exp 0\n",
      "exp 1\n",
      "exp 2\n",
      "exp 3\n",
      "exp 4\n",
      "exp 5\n",
      "exp 6\n",
      "exp 7\n",
      "exp 8\n",
      "exp 9\n",
      "exp 10\n",
      "exp 11\n",
      "exp 12\n"
     ]
    },
    {
     "name": "stderr",
     "output_type": "stream",
     "text": [
      "/Users/samsonkoelle/alleninstitute/sambranch/mouse_connectivity_models/mcmodels/models/crossvalidation.py:173: RuntimeWarning: invalid value encountered in true_divide\n",
      "  predictions[i] = pred / np.linalg.norm(pred)\n"
     ]
    },
    {
     "name": "stdout",
     "output_type": "stream",
     "text": [
      "exp 13\n",
      "exp 14\n",
      "exp 15\n",
      "exp 16\n",
      "exp 17\n",
      "exp 18\n",
      "exp 19\n",
      "exp 20\n",
      "exp 21\n",
      "exp 22\n",
      "exp 23\n",
      "exp 24\n",
      "exp 25\n",
      "exp 26\n",
      "exp 27\n",
      "exp 28\n",
      "exp 29\n",
      "exp 30\n",
      "exp 31\n",
      "exp 32\n",
      "exp 33\n",
      "exp 34\n",
      "exp 35\n"
     ]
    },
    {
     "data": {
      "text/plain": [
       "array([[[8.56070966e-03, 3.05101003e-05, 1.35357073e-02, ...,\n",
       "         7.38799063e-05, 1.24148733e-04, 9.93363574e-05],\n",
       "        [2.71225795e-02, 2.57367301e-05, 6.23216294e-03, ...,\n",
       "         0.00000000e+00, 1.14158065e-04, 1.88135076e-03],\n",
       "        [3.52268964e-02, 1.53093301e-02, 7.20390090e-05, ...,\n",
       "         7.36269931e-06, 1.32501909e-05, 4.51150147e-04],\n",
       "        ...,\n",
       "        [7.39513477e-03, 3.51957024e-05, 2.86665931e-03, ...,\n",
       "         0.00000000e+00, 0.00000000e+00, 3.00048589e-04],\n",
       "        [4.77858670e-02, 2.00595204e-02, 5.85877387e-05, ...,\n",
       "         8.99483348e-06, 2.13925159e-05, 7.38395029e-04],\n",
       "        [4.40028347e-02, 1.91143900e-02, 6.05519745e-05, ...,\n",
       "         8.28236080e-06, 1.99363203e-05, 6.84276223e-04]]])"
      ]
     },
     "execution_count": 148,
     "metadata": {},
     "output_type": "execute_result"
    }
   ],
   "source": [
    "sid = 512\n",
    "get_homo_loocv(msvds[sid], np.asarray(list(range(msvds[sid].projections.shape[0]))), get_loocv_predictions_nnlinear_number_inj_norm, thres_ncomp)\n"
   ]
  },
  {
   "cell_type": "code",
   "execution_count": null,
   "metadata": {
    "collapsed": true
   },
   "outputs": [],
   "source": []
  }
 ],
 "metadata": {
  "kernelspec": {
   "display_name": "allen_010719_5",
   "language": "python",
   "name": "allen_010719_5"
  },
  "language_info": {
   "codemirror_mode": {
    "name": "ipython",
    "version": 3
   },
   "file_extension": ".py",
   "mimetype": "text/x-python",
   "name": "python",
   "nbconvert_exporter": "python",
   "pygments_lexer": "ipython3",
   "version": "3.7.6"
  }
 },
 "nbformat": 4,
 "nbformat_minor": 2
}

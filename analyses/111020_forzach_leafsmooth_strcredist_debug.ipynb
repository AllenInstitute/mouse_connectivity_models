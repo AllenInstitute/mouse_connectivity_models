{
 "cells": [
  {
   "cell_type": "code",
   "execution_count": 1,
   "metadata": {},
   "outputs": [
    {
     "name": "stderr",
     "output_type": "stream",
     "text": [
      "/Users/samsonkoelle/anaconda3/envs/allen_010719_5/lib/python3.7/site-packages/sklearn/utils/deprecation.py:144: FutureWarning: The sklearn.linear_model.base module is  deprecated in version 0.22 and will be removed in version 0.24. The corresponding classes / functions should instead be imported from sklearn.linear_model. Anything that cannot be imported from sklearn.linear_model is now part of the private API.\n",
      "  warnings.warn(message, FutureWarning)\n",
      "/Users/samsonkoelle/anaconda3/envs/allen_010719_5/lib/python3.7/site-packages/sklearn/utils/deprecation.py:144: FutureWarning: The sklearn.metrics.scorer module is  deprecated in version 0.22 and will be removed in version 0.24. The corresponding classes / functions should instead be imported from sklearn.metrics. Anything that cannot be imported from sklearn.metrics is now part of the private API.\n",
      "  warnings.warn(message, FutureWarning)\n",
      "/Users/samsonkoelle/anaconda3/envs/allen_010719_5/lib/python3.7/site-packages/sklearn/utils/deprecation.py:144: FutureWarning: The sklearn.decomposition.cdnmf_fast module is  deprecated in version 0.22 and will be removed in version 0.24. The corresponding classes / functions should instead be imported from sklearn.decomposition. Anything that cannot be imported from sklearn.decomposition is now part of the private API.\n",
      "  warnings.warn(message, FutureWarning)\n"
     ]
    }
   ],
   "source": [
    "%load_ext autoreload\n",
    "%autoreload 2\n",
    "\n",
    "import os\n",
    "import numpy as np\n",
    "import pandas as pd \n",
    "import sys\n",
    "import pickle\n",
    "import itertools\n",
    "import seaborn as sns\n",
    "import matplotlib.pyplot as plt\n",
    "from mpl_toolkits.mplot3d import Axes3D\n",
    "import random\n",
    "from sklearn.metrics import pairwise_distances\n",
    "from sklearn.kernel_ridge import KernelRidge\n",
    "import math\n",
    "\n",
    "workingdirectory = os.popen('git rev-parse --show-toplevel').read()[:-1]\n",
    "sys.path.append(workingdirectory)\n",
    "os.chdir(workingdirectory)\n",
    "\n",
    "import allensdk.core.json_utilities as ju\n",
    "from allensdk.core.mouse_connectivity_cache import MouseConnectivityCache\n",
    "\n",
    "from mcmodels.core import VoxelModelCache\n",
    "from mcmodels.core.utils import get_structure_id,get_ordered_summary_structures\n",
    "from mcmodels.core.connectivity_data import get_connectivity_data\n",
    "from mcmodels.models.crossvalidation import get_nwloocv_predictions_multimodel_merge_dists\n",
    "from mcmodels.utils import nonzero_unique #, unionize\n",
    "from mcmodels.models.crossvalidation import get_best_hyperparameters,get_loss_best_hyp,get_loss#get_loocv_predictions,get_loss#get_best_hyperparameters,get_loss_best_hyp,get_loocv_predictions,get_loss\n",
    "from mcmodels.core.utils import get_leaves_ontologicalorder, get_indices, get_indices2,get_eval_indices,screen_index_matrices,screen_index_matrices2,screen_index_matrices3#get_cre_status,get_minorstructure_dictionary,get_leaves_ontologicalorder\n",
    "from mcmodels.core.utils import get_indices_2ormore\n",
    "\n",
    "# from mcmodels.core.utils import get_regionalized_normalized_data\n",
    "# from mcmodels.core.utils import get_connectivity\n",
    "# from mcmodels.core.utils import get_ontological_order_leaf\n",
    "# from mcmodels.core.utils import get_nw_loocv,get_wt_inds\n",
    "# from mcmodels.core.utils import get_countvec\n",
    "# from mcmodels.core.utils import get_injection_hemisphere_id\n",
    "# from mcmodels.core.utils import get_structure_id, get_ordered_summary_structures,get_minorstructures,get_loss_paper\n",
    "# from mcmodels.core.experiment import get_voxeldata_msvd\n",
    "from mcmodels.regressors import NadarayaWatson\n",
    "from mcmodels.core.plotting import plot_loss_surface,plot_loss_scatter"
   ]
  },
  {
   "cell_type": "code",
   "execution_count": 2,
   "metadata": {
    "collapsed": true
   },
   "outputs": [],
   "source": [
    "#read data\n",
    "TOP_DIR = '/Users/samsonkoelle/alleninstitute/mcm_2020/mcm_updated/'\n",
    "INPUT_JSON = os.path.join(TOP_DIR, 'input_011520.json')\n",
    "EXPERIMENTS_EXCLUDE_JSON = os.path.join(TOP_DIR, 'experiments_exclude.json')\n",
    "FILE_DIR = '/Users/samsonkoelle/alleninstitute/mcm_2020/mcm_updated/'\n",
    "OUTPUT_DIR = os.path.join(FILE_DIR, 'output')\n",
    "\n",
    "input_data = ju.read(INPUT_JSON)\n",
    "manifest_file = input_data.get('manifest_file')\n",
    "manifest_file = os.path.join(TOP_DIR, manifest_file)\n",
    "experiments_exclude = ju.read(EXPERIMENTS_EXCLUDE_JSON)\n",
    "\n",
    "#its unclear why the hyperparameters are loaded from the output directory\n",
    "cache = VoxelModelCache(manifest_file=manifest_file)\n",
    "major_structures = input_data.get('structures')\n",
    "major_structure_ids = [get_structure_id(cache, s) for s in major_structures]\n",
    "data_info = pd.read_excel('/Users/samsonkoelle/alleninstitute/Whole Brain Cre Image Series_curation only.xlsx', 'all datasets curated_070919pull')\n",
    "data_info.set_index(\"id\", inplace=True)\n",
    "ontological_order = get_ordered_summary_structures(cache)\n",
    "\n",
    "mcc = MouseConnectivityCache(manifest_file = '../connectivity/mouse_connectivity_manifest.json')\n",
    "st = mcc.get_structure_tree()\n",
    "ai_map = st.get_id_acronym_map()\n",
    "ia_map = {value: key for key, value in ai_map.items()}\n",
    "\n",
    "#regionalize voxel model: compare with regional model\n",
    "#regional parameters\n",
    "cre = None\n",
    "eid_set=None\n",
    "high_res=False\n",
    "threshold_injection = False\n",
    "\n",
    "COARSE_STRUCTURE_SET_ID = 2\n",
    "DEFAULT_STRUCTURE_SET_IDS = tuple([COARSE_STRUCTURE_SET_ID])\n",
    "tree = cache.get_structure_tree()\n",
    "default_structures = tree.get_structures_by_set_id(DEFAULT_STRUCTURE_SET_IDS)\n",
    "default_structure_ids = [st['id'] for st in default_structures if st['id'] != 934]\n",
    "#cre= True"
   ]
  },
  {
   "cell_type": "code",
   "execution_count": 3,
   "metadata": {},
   "outputs": [
    {
     "name": "stdout",
     "output_type": "stream",
     "text": [
      "512\n",
      "703\n",
      "1089\n",
      "1097\n",
      "315\n",
      "313\n",
      "354\n",
      "698\n",
      "771\n",
      "803\n",
      "477\n",
      "549\n"
     ]
    }
   ],
   "source": [
    "connectivity_data = get_connectivity_data(cache, major_structure_ids, experiments_exclude, remove_injection = False)\n",
    "\n",
    "connectivity_data.get_injection_hemisphere_ids()\n",
    "connectivity_data.align()\n",
    "connectivity_data.get_centroids()\n",
    "connectivity_data.get_data_matrices(default_structure_ids)\n",
    "connectivity_data.get_crelines(data_info)\n",
    "with open('data/info/leafs.pickle', 'rb') as handle:\n",
    "    leafs = pickle.load(handle)\n",
    "    \n",
    "connectivity_data.ai_map = ai_map\n",
    "connectivity_data.get_summarystructures(data_info)\n",
    "connectivity_data.leafs = leafs"
   ]
  },
  {
   "cell_type": "code",
   "execution_count": 4,
   "metadata": {
    "collapsed": true
   },
   "outputs": [],
   "source": [
    "#major division segregation is legacy code but convenient for fast cross validation in major division model\n",
    "#experiments_minor_structures = get_summarystructure_dictionary(connectivity_data, data_info)\n",
    "#get leaves in ontological order.  Where leafs don't exist, uses summary structure\n",
    "ontological_order_leaves = get_leaves_ontologicalorder(connectivity_data, ontological_order)\n",
    "#Key isn't affected by which experiment we choose. This allows default masking to be inherited from the AllenSDK.\n",
    "sid0 = list(connectivity_data.structure_datas.keys())[0]\n",
    "eid0 = list(connectivity_data.structure_datas[sid0].experiment_datas.keys())[0]\n",
    "#Identify keys denoting which voxels correspond to which structure in the ipsi and contra targets.\n",
    "contra_targetkey = connectivity_data.structure_datas[sid0].projection_mask.get_key(structure_ids=ontological_order_leaves, hemisphere_id=1)\n",
    "ipsi_targetkey = connectivity_data.structure_datas[sid0].projection_mask.get_key(structure_ids=ontological_order_leaves, hemisphere_id=2)\n",
    "\n",
    "#contra_targetkey = connectivity_data.structure_datas[sid0].projection_mask.get_key(structure_ids=ontological_order, hemisphere_id=1)\n",
    "#ipsi_targetkey = connectivity_data.structure_datas[sid0].projection_mask.get_key(structure_ids=ontological_order, hemisphere_id=2)\n",
    "#get average intensities of projection structures given ipsi and contra keys\n",
    "#source_key = ontological_order #only relevant here when injection needs to be unionized, but currently a required argument\n",
    "ipsi_target_regions, ipsi_target_counts = nonzero_unique(ipsi_targetkey, return_counts=True)\n",
    "contra_target_regions, contra_target_counts = nonzero_unique(contra_targetkey, return_counts=True)\n",
    "\n",
    "target_order = lambda x: np.array(ontological_order_leaves)[np.isin(ontological_order_leaves, x)]\n",
    "permutation = lambda x: np.argsort(np.argsort(target_order(x)))\n",
    "targ_ids = np.concatenate([ipsi_target_regions[permutation(ipsi_target_regions)],\n",
    "                           contra_target_regions[permutation(contra_target_regions)]])"
   ]
  },
  {
   "cell_type": "code",
   "execution_count": 5,
   "metadata": {
    "collapsed": true
   },
   "outputs": [],
   "source": [
    "connectivity_data.get_regionalized_normalized_data(ontological_order, ipsi_targetkey, contra_targetkey)\n",
    "connectivity_data.get_creleaf_combos()\n",
    "connectivity_data.leaf2_index_matrices = get_indices_2ormore(connectivity_data.leafs)\n",
    "connectivity_data.creleaf2_index_matrices = get_indices_2ormore(connectivity_data.creleaf_combos)"
   ]
  },
  {
   "cell_type": "code",
   "execution_count": 69,
   "metadata": {
    "collapsed": true
   },
   "outputs": [],
   "source": [
    "\n",
    "def get_cre_distances(projections, means_cast, sids, cres):\n",
    "    nsamp = cres.shape[0]\n",
    "    credist = np.empty((nsamp,nsamp))\n",
    "    credist[:] = np.nan\n",
    "    for i in range(nsamp):\n",
    "        #print(i)\n",
    "        meani = means_cast[sids[i]][cres[i]]#means_cast.loc[tuple([cres[i], sids[i]])]\n",
    "        for j in range(nsamp):\n",
    "            meanj = means_cast[sids[j]][cres[j]]\n",
    "            if sids[j] == sids[i]:\n",
    "                credist[i,j]  = np.linalg.norm(meani - meanj)#**2\n",
    "    return(credist)\n",
    "def get_loss_surface_cv(projections, centroids, cres, sids,fraction, gamma = 100000):\n",
    "    means_cast = get_means(projections, cres, sids)\n",
    "    cre_distances_cv = get_cre_distances_cv(projections, means_cast, sids, cres)\n",
    "    surface = get_surface_from_distances(projections,centroids,cre_distances_cv, fraction, gamma)\n",
    "    surface.cre_distances_cv = cre_distances_cv\n",
    "    return(surface)\n",
    "\n",
    "def get_surface_from_distances(projections,centroids,cre_distances, fraction, gamma = 100000):\n",
    "    \n",
    "    nsamp = centroids.shape[0]\n",
    "    pairs = np.asarray(np.where(~np.isnan(cre_distances))).transpose() #not all cres will have distances, e.g. if not in same leaf\n",
    "    ngp = pairs.shape[0]\n",
    "    \n",
    "    coordinates = np.zeros((ngp,2))\n",
    "    projection_distances = np.zeros((ngp,1))\n",
    "    for i in range(ngp):\n",
    "        coordinates[i,0] = np.linalg.norm(centroids[pairs[i][0]] - centroids[pairs[i][1]])**2\n",
    "        coordinates[i,1] = cre_distances[pairs[i][0]][pairs[i][1]]\n",
    "        projection_distances[i] = np.linalg.norm(projections[pairs[i][0]] - projections[pairs[i][1]])**2\n",
    "    coordinates_normed = coordinates / np.linalg.norm(coordinates, axis = 0)#**2\n",
    "\n",
    "    surface = NadarayaWatson(kernel='rbf',  gamma  = gamma)\n",
    "    randos = random.sample(list(range(ngp)), math.floor(ngp * fraction))\n",
    "    surface.fit(coordinates_normed[randos], projection_distances[randos])\n",
    "    surface.coordinates_normed = coordinates_normed\n",
    "    surface.norms = np.linalg.norm(coordinates, axis = 0)\n",
    "    surface.projection_distances = projection_distances\n",
    "    return(surface)\n",
    "\n",
    "# def get_cre_distances_cv(proj, means_cast, sids,cres):\n",
    "#     nsamp = cres.shape[0]\n",
    "#     credist = np.empty((nsamp,nsamp))\n",
    "#     credist[:] = np.nan\n",
    "#     for i in range(nsamp):\n",
    "#         print(i)\n",
    "#         meani = meani = means_cast[sids[i]][cres[i]]\n",
    "#         ls = np.where(leafs[sid] == leafs[sid][i])[0]\n",
    "#         crs = np.where(cres == cres[i])[0]\n",
    "#         ncr = len(np.intersect1d(ls, crs))\n",
    "        \n",
    "#         meanloocvi = meani\n",
    "#         if ncr > 1:\n",
    "#             meanloocvi = (ncr * meani ) / (ncr - 1) -   (1/ ncr)* proj[i] #results[reg[i]][tuple([cs[reg_cre_ind[j],1], cs[reg_cre_ind[k],1]])]\n",
    "#         else:\n",
    "#             meanloocvi = np.zeros(proj[i].shape[0])\n",
    "#             meanloocvi[:] = np.nan\n",
    "            \n",
    "#         for j in range(nsamp):\n",
    "#             meanj = means_cast[sids[j]][cres[j]]\n",
    "#             if sids[j] == sids[i]:\n",
    "#                 credist[i,j]  = np.linalg.norm(meanloocvi - meanj)\n",
    "\n",
    "#     return(credist)\n",
    "\n",
    "def get_means(projections, cres, sids):\n",
    "    cre_means = {}\n",
    "    cre_types = np.unique(cres)\n",
    "    sid_types = np.unique(sids)\n",
    "    for i in range(len(sid_types)):\n",
    "        cre_means[sid_types[i]] = {}\n",
    "        sid_inds = np.where(sids == sid_types[i])[0]\n",
    "        for j in range(len(cre_types)): \n",
    "            cre_inds = np.where(cres == cre_types[j])[0]\n",
    "            cre_means[sid_types[i]][cre_types[j]] = np.mean(projections[np.intersect1d(sid_inds, cre_inds)], axis = 0 )\n",
    "    return(cre_means)\n",
    "\n",
    "def get_cre_distances_cv(proj, means_cast, sids,cres):\n",
    "    nsamp = cres.shape[0]\n",
    "    credist = np.empty((nsamp,nsamp))\n",
    "    credist[:] = np.nan\n",
    "    for i in range(nsamp):\n",
    "        #print(i)\n",
    "        meani = meani = means_cast[sids[i]][cres[i]]\n",
    "        ls = np.where(leafs[sid] == leafs[sid][i])[0]\n",
    "        crs = np.where(cres == cres[i])[0]\n",
    "        ncr = len(np.intersect1d(ls, crs))\n",
    "        \n",
    "        meanloocvi = meani\n",
    "        if ncr > 1:\n",
    "            meanloocvi = (ncr * meani ) / (ncr - 1) -   (1/ ncr)* proj[i] #results[reg[i]][tuple([cs[reg_cre_ind[j],1], cs[reg_cre_ind[k],1]])]\n",
    "        else:\n",
    "            meanloocvi = np.zeros(proj[i].shape[0])\n",
    "            meanloocvi[:] = np.nan\n",
    "            \n",
    "        for j in range(nsamp):\n",
    "            meanj = means_cast[sids[j]][cres[j]]\n",
    "            if sids[j] == sids[i]:\n",
    "                credist[j,i]  = np.linalg.norm(meanloocvi - meanj)\n",
    "\n",
    "    return(credist)\n",
    "\n",
    "def get_embedding_cv(surface, dists, cre_distances_cv):\n",
    "    \n",
    "    ntrain = dists.shape[0]\n",
    "    norms = surface.norms\n",
    "    leaf_pairs = np.asarray(np.where(~np.isnan(cre_distances_cv))).transpose()\n",
    "    nlp = leaf_pairs.shape[0]\n",
    "    \n",
    "    losses = np.zeros((ntrain, ntrain))\n",
    "    for i in range(nlp):\n",
    "        d_ij = dists[leaf_pairs[i][0]][leaf_pairs[i][1]] / norms[0]\n",
    "        p_ij = cre_distances_cv[leaf_pairs[i][0]][leaf_pairs[i][1]] / norms[1]\n",
    "        losses[leaf_pairs[i][0]][leaf_pairs[i][1]] = surface.predict(np.asarray([[d_ij, p_ij]]))\n",
    "      \n",
    "    losses[np.where(losses == 0)] = np.nan\n",
    "    \n",
    "    return(losses)\n",
    "\n",
    "\n",
    "from mcmodels.core import Mask\n",
    "\n",
    "# def get_connectivity_matrices3(connectivity_data, surfaces, cres, structures, model_ordering_leaf, model_region_surface, source_ordering, target_ordering, eval_cres):\n",
    "    \n",
    "#     nsource = len(source_ordering)\n",
    "#     #n#target = len(target_ordering)\n",
    "#     ncre = len(eval_cres)\n",
    "\n",
    "#     ipsi_target_regions = connectivity_data.ipsi_target_regions\n",
    "#     contra_target_regions = connectivity_data.contra_target_regions                               \n",
    "#     ipsi_indices= np.asarray([])\n",
    "#     contra_indices = np.asarray([])\n",
    "#     for iy in target_ordering: \n",
    "#         ipsi_indices = np.concatenate([ipsi_indices, np.where(ipsi_target_regions==iy)[0]] )\n",
    "#         contra_indices = np.concatenate([contra_indices, np.where(contra_target_regions==iy)[0]] )\n",
    "#     ipsi_indices = np.asarray(ipsi_indices, dtype = int)   \n",
    "#     contra_indices = np.asarray(contra_indices, dtype = int)    \n",
    "#     reorder = np.concatenate([ipsi_indices, len(ipsi_indices) + contra_indices])  \n",
    "#     ntarget = len(reorder)\n",
    "      \n",
    "#     connectivity = np.zeros((ncre, nsource, ntarget))\n",
    "#     connectivity[:] = np.nan\n",
    "#     #structure_major_dictionary = connectivity_data.structure_major_dictionary\n",
    "#     for c in range(ncre):\n",
    "#         for i in range(nsource):\n",
    "#             print(i,source_ordering[i])\n",
    "#             sid = model_ordering_leaf[i,0]#structure_major_dictionary[source_ordering[i]]\n",
    "#             gamma = surfaces[sid].gamma#gamma_dict[sid]\n",
    "#             connectivity[c,i] = get_region_prediction3(cache,\n",
    "#                                                       connectivity_data.structure_datas[sid],\n",
    "#                                                       exp_structures = structures[sid],\n",
    "#                                                       model_region_leaf = model_ordering_leaf[i,1],\n",
    "#                                                        model_region_surface = model_region_surface[i,1],\n",
    "#                                                       prediction_region= source_ordering[i],\n",
    "#                                                       cre = eval_cres[c],\n",
    "#                                                       gamma = surfaces[sid].bestgamma,\n",
    "#                                                       surface = surfaces[sid],\n",
    "#                                                       cre_model = True)\n",
    "                                                      \n",
    "#     connectivity = connectivity[:,:,reorder]                                                  \n",
    "                                                      \n",
    "#     return(connectivity)\n",
    "\n",
    "# def get_region_prediction3(cache, structure_data,  exp_structures, model_region_surface, model_region_leaf, prediction_region, cre, gamma, surface = None, cre_model = False):\n",
    "    \n",
    "#     #model_experiments = np.where(exp_structures == model_region)[0]\n",
    "#     model_experiments_leaf = np.where(exp_structures == model_region_leaf)[0]\n",
    "#     nexp = len(model_experiments_leaf)\n",
    "    \n",
    "#     cres = structure_data.crelines[model_experiments_leaf]\n",
    "#     mask = Mask.from_cache(cache,structure_ids=[prediction_region],hemisphere_id=2)\n",
    "\n",
    "# #     if surface != None and cre_model != True:\n",
    "# #         means = get_means(projections,cres, np.repeat(model_region,nexp))\n",
    "        \n",
    "# #         losses = get_embedding(surface, pairwise_distances(centroids, mask.coordinates)**2, cres, cre, means[model_region])\n",
    "# #         predictions = get_nw_predictions(projections, losses, gamma)\n",
    "# #         output = np.mean(predictions, axis = 0)\n",
    "        \n",
    "#     if surface != None and cre_model == True:\n",
    "#         projections = structure_data.reg_proj_norm[model_experiments_leaf]\n",
    "#         centroids = structure_data.centroids[model_experiments_leaf]#model_region_leaf\n",
    "#         means = get_means(projections, cres, np.repeat(model_region_surface,nexp))\n",
    "#         #print(means)\n",
    "#         print(prediction_region)\n",
    "#         #print(prediction_region, model_region,means.keys())\n",
    "#         #supposed to check if theres a cre in that region\n",
    "#         if np.isin(model_region_surface, list(means.keys())):\n",
    "#             if np.isin(cre, np.asarray(list(means[model_region_surface].keys()))):\n",
    "#                 losses = get_embedding(surface, pairwise_distances(centroids, mask.coordinates)**2, cres, cre, means[model_region_surface])\n",
    "#                 predictions = get_nw_predictions(projections, losses, gamma)\n",
    "#                 output = np.mean(predictions, axis = 0)\n",
    "#             else:\n",
    "#                 output = np.zeros(projections.shape[1])\n",
    "#                 output[:] = np.nan\n",
    "#         else:\n",
    "#             output = np.zeros(projections.shape[1])\n",
    "#             output[:] = np.nan           \n",
    "# #     if surface == None and cre_model != True:\n",
    "# #         means = get_means(projections, cres, [model_region])\n",
    "# #         predictions = means[cres]\n",
    "# #         output = np.mean(predictions, axis = 0)\n",
    "        \n",
    "#     if surface == None and cre_model == True:\n",
    "        \n",
    "        \n",
    "#         modelcre_experiments = np.where(cres == cre)[0]\n",
    "#         if len(modelcre_experiments)>0:\n",
    "#             projections = structure_data.reg_proj_norm[model_experiments][modelcre_experiments]\n",
    "#             centroids = structure_data.centroids[model_experiments][modelcre_experiments]\n",
    "#             #print((pairwise_distances(centroids, mask.coordinates)**2).shape)\n",
    "#             predictions = get_nw_predictions(projections, pairwise_distances(centroids, mask.coordinates)**2, gamma)\n",
    "#             output = np.mean(predictions, axis = 0)\n",
    "#         else:\n",
    "#             output = np.zeros(structure_data.reg_proj_norm.shape[1])\n",
    "#             output[:] = np.nan  \n",
    "            \n",
    "#     if surface == None and cre_model == False:\n",
    "        \n",
    "#         if len(model_experiments)>0:\n",
    "#             projections = structure_data.reg_proj_norm[model_experiments]\n",
    "#             centroids = structure_data.centroids[model_experiments]\n",
    "#             predictions = get_nw_predictions(projections, pairwise_distances(centroids, mask.coordinates)**2, gamma)\n",
    "#             output = np.mean(predictions, axis = 0)\n",
    "#         else:\n",
    "#             output = np.zeros(structure_data.reg_proj_norm.shape[1])\n",
    "#             output[:] = np.nan  \n",
    "        \n",
    "#     return(output)\n",
    "\n",
    "\n",
    "def get_embedding(surface, dists, cres = None, cre = None, means = None):\n",
    "    \n",
    "    ntrain = dists.shape[0]\n",
    "    neval = dists.shape[1]\n",
    "    norms = surface.norms\n",
    "    #cnorm = surface.cnorm\n",
    "    \n",
    "    cre_deezy = np.zeros((ntrain))\n",
    "    \n",
    "    for i in range(ntrain):\n",
    "        cre_deezy[i] = np.linalg.norm(means[cres[i]] - means[cre])\n",
    "    \n",
    "    losses = np.zeros((ntrain, neval))\n",
    "    for i in range(ntrain):\n",
    "        for j in range(neval):\n",
    "            d_ij = dists[i,j] / norms[0]\n",
    "            p_i = cre_deezy[i] / norms[1]\n",
    "            losses[i,j] = surface.predict(np.asarray([[d_ij, p_i]]))\n",
    "            \n",
    "    return(losses)\n",
    "\n",
    "\n",
    "\n",
    "def get_nw_predictions(projections, dists, gamma):\n",
    "  \n",
    "     \n",
    "    projections = np.asarray(projections, dtype=np.float32)\n",
    "    neval = dists.shape[1]\n",
    "    #nexp = centroids.shape[0]\n",
    "    predictions = np.zeros((neval, projections.shape[1]))\n",
    "    predictions[:] = np.nan\n",
    "    \n",
    "    #print(model_index_val.shape, eval_index_val.shape)\n",
    "    #weights = np.exp(- dists / gamma)#np.exp(-dists[model_index_val] / gamma) #get_weights(centroids, gamma)\n",
    "    for i in range(neval):\n",
    "        dists_i = dists[:,i] - np.min(dists[:,i])\n",
    "        #dists_i = dists[i,:] - np.min(dists[i,:])\n",
    "        weights_i = np.exp(- dists_i * gamma)\n",
    "        weights_i = np.asarray(weights_i, dtype=np.float32)\n",
    "        weights_i[np.isnan(weights_i)] = 0.\n",
    "        weights_i = weights_i / np.sum(weights_i)\n",
    "        predictions[i] = np.dot(weights_i, projections)\n",
    "        \n",
    "    return(predictions) \n",
    "\n",
    "def get_connectivity_matrices2_nw(connectivity_data, gamma_dict, cres, structures, model_ordering, source_ordering, target_ordering, eval_cres, cre_model = True):\n",
    "    \n",
    "    nsource = len(source_ordering)\n",
    "    #n#target = len(target_ordering)\n",
    "    ncre = len(eval_cres)\n",
    "\n",
    "    ipsi_target_regions = connectivity_data.ipsi_target_regions\n",
    "    contra_target_regions = connectivity_data.contra_target_regions                               \n",
    "    ipsi_indices= np.asarray([])\n",
    "    contra_indices = np.asarray([])\n",
    "    for iy in target_ordering: \n",
    "        ipsi_indices = np.concatenate([ipsi_indices, np.where(ipsi_target_regions==iy)[0]] )\n",
    "        contra_indices = np.concatenate([contra_indices, np.where(contra_target_regions==iy)[0]] )\n",
    "    ipsi_indices = np.asarray(ipsi_indices, dtype = int)   \n",
    "    contra_indices = np.asarray(contra_indices, dtype = int)    \n",
    "    reorder = np.concatenate([ipsi_indices, len(ipsi_indices) + contra_indices])  \n",
    "    ntarget = len(reorder)\n",
    "      \n",
    "    connectivity = np.zeros((ncre, nsource, ntarget))\n",
    "    connectivity[:] = np.nan\n",
    "    #structure_major_dictionary = connectivity_data.structure_major_dictionary\n",
    "    for c in range(ncre):\n",
    "        for i in range(nsource):\n",
    "            print(i,source_ordering[i])\n",
    "            sid = model_ordering[i,0]#structure_major_dictionary[source_ordering[i]]\n",
    "            gamma = gamma_dict[sid]\n",
    "            connectivity[c,i] = get_region_prediction2(cache,\n",
    "                                                      connectivity_data.structure_datas[sid],\n",
    "                                                      exp_structures = structures[sid],\n",
    "                                                      model_region = model_ordering[i,1],\n",
    "                                                      prediction_region= source_ordering[i],\n",
    "                                                      cre = eval_cres[c],\n",
    "                                                      gamma = gamma_dict[sid],\n",
    "                                                      cre_model = cre_model)\n",
    "                                                      \n",
    "    connectivity = connectivity[:,:,reorder]                                                  \n",
    "                                                      \n",
    "    return(connectivity)\n",
    "\n",
    "\n",
    "def get_region_prediction2(cache, structure_data,  exp_structures, model_region, prediction_region, cre, gamma, surface = None, cre_model = False):\n",
    "    \n",
    "    model_experiments = np.where(exp_structures == model_region)[0]\n",
    "    nexp = len(model_experiments)\n",
    "    \n",
    "    cres = structure_data.crelines[model_experiments]\n",
    "    mask = Mask.from_cache(cache,structure_ids=[prediction_region],hemisphere_id=2)\n",
    "\n",
    "#     if surface != None and cre_model != True:\n",
    "#         means = get_means(projections,cres, np.repeat(model_region,nexp))\n",
    "        \n",
    "#         losses = get_embedding(surface, pairwise_distances(centroids, mask.coordinates)**2, cres, cre, means[model_region])\n",
    "#         predictions = get_nw_predictions(projections, losses, gamma)\n",
    "#         output = np.mean(predictions, axis = 0)\n",
    "        \n",
    "    if surface != None and cre_model == True:\n",
    "        projections = structure_data.reg_proj_norm[model_experiments]\n",
    "        centroids = structure_data.centroids[model_experiments]\n",
    "        means = get_means(projections, cres, np.repeat(model_region,nexp))\n",
    "        #print(means)\n",
    "        print(prediction_region, model_region,means.keys())\n",
    "        #supposed to check if theres a cre in that region\n",
    "        if np.isin(model_region, list(means.keys())):\n",
    "            if np.isin(cre, np.asarray(list(means[model_region].keys()))):\n",
    "                losses = get_embedding(surface, pairwise_distances(centroids, mask.coordinates)**2, cres, cre, means[model_region])\n",
    "                predictions = get_nw_predictions(projections, losses, gamma)\n",
    "                output = np.mean(predictions, axis = 0)\n",
    "            else:\n",
    "                output = np.zeros(projections.shape[1])\n",
    "                output[:] = np.nan\n",
    "        else:\n",
    "            output = np.zeros(projections.shape[1])\n",
    "            output[:] = np.nan           \n",
    "#     if surface == None and cre_model != True:\n",
    "#         means = get_means(projections, cres, [model_region])\n",
    "#         predictions = means[cres]\n",
    "#         output = np.mean(predictions, axis = 0)\n",
    "        \n",
    "    if surface == None and cre_model == True:\n",
    "        \n",
    "        \n",
    "        modelcre_experiments = np.where(cres == cre)[0]\n",
    "        if len(modelcre_experiments)>0:\n",
    "            projections = structure_data.reg_proj_norm[model_experiments][modelcre_experiments]\n",
    "            centroids = structure_data.centroids[model_experiments][modelcre_experiments]\n",
    "            #print((pairwise_distances(centroids, mask.coordinates)**2).shape)\n",
    "            predictions = get_nw_predictions(projections, pairwise_distances(centroids, mask.coordinates)**2, gamma)\n",
    "            output = np.mean(predictions, axis = 0)\n",
    "        else:\n",
    "            output = np.zeros(structure_data.reg_proj_norm.shape[1])\n",
    "            output[:] = np.nan  \n",
    "            \n",
    "    if surface == None and cre_model == False:\n",
    "        \n",
    "        if len(model_experiments)>0:\n",
    "            projections = structure_data.reg_proj_norm[model_experiments]\n",
    "            centroids = structure_data.centroids[model_experiments]\n",
    "            predictions = get_nw_predictions(projections, pairwise_distances(centroids, mask.coordinates)**2, gamma)\n",
    "            output = np.mean(predictions, axis = 0)\n",
    "        else:\n",
    "            output = np.zeros(structure_data.reg_proj_norm.shape[1])\n",
    "            output[:] = np.nan  \n",
    "        \n",
    "    return(output)\n"
   ]
  },
  {
   "cell_type": "code",
   "execution_count": 15,
   "metadata": {
    "collapsed": true
   },
   "outputs": [],
   "source": [
    "summary_structures = {}\n",
    "\n",
    "for sid in major_structure_ids:\n",
    "    summary_structures[sid] = connectivity_data.structure_datas[sid].summary_structures\n",
    "    \n",
    "connectivity_data.summary_structures = summary_structures#get_indices_2ormore(connectivity_data.leafs)\n"
   ]
  },
  {
   "cell_type": "code",
   "execution_count": 17,
   "metadata": {
    "collapsed": true
   },
   "outputs": [],
   "source": [
    "#wrong dist (not remove)... try to recreate old result\n",
    "frac_learn = np.ones(12)\n",
    "frac_learn[4] = .1\n",
    "sls = {}\n",
    "gammas_surface = 100000 * np.ones(12)\n",
    "gammas_surface[0] = 10\n",
    "gammas_surface[1] = 10\n",
    "gammas_surface[2] = 1000\n",
    "gammas_surface[3] = 100\n",
    "gammas_surface[4] = 20000\n",
    "gammas_surface[3] = 100\n",
    "gammas_surface[5] = 100\n",
    "gammas_surface[6] = 10\n",
    "gammas_surface[7] = 100\n",
    "gammas_surface[8] = 100\n",
    "gammas_surface[9] = 25\n",
    "gammas_surface[10] = 1000\n",
    "gammas_surface[11] = 1000\n",
    "\n",
    "# for m in range(len(list(connectivity_data.structure_datas.keys()))):\n",
    "#     sid = major_structure_ids[m]\n",
    "#     connectivity_data.structure_datas[sid].loss_surface_cv = get_loss_surface_cv(connectivity_data.structure_datas[sid].reg_proj_norm, \n",
    "#                                                                                  connectivity_data.structure_datas[sid].centroids,\n",
    "#                                                                                  connectivity_data.creline[sid],connectivity_data.leafs[sid],\n",
    "#                                                                                  frac_learn[m],\n",
    "#                                                                                  gamma = gammas_surface[m])"
   ]
  },
  {
   "cell_type": "code",
   "execution_count": null,
   "metadata": {
    "collapsed": true
   },
   "outputs": [],
   "source": [
    "for m in range(12):\n",
    "    print(m)\n",
    "    sid = major_structure_ids[m]\n",
    "    connectivity_data.structure_datas[sid].loss_surface_cv_str = get_loss_surface_cv(connectivity_data.structure_datas[sid].reg_proj_norm,\n",
    "                                                                                                 connectivity_data.structure_datas[sid].centroids,\n",
    "                                                                                                 connectivity_data.creline[sid],\n",
    "                                                                                                 connectivity_data.summary_structures[sid],\n",
    "                                                                                                 frac_learn[m],\n",
    "                                                                                                 gamma = 10000)\n",
    "    \n",
    "    \n",
    "\n"
   ]
  },
  {
   "cell_type": "code",
   "execution_count": 22,
   "metadata": {},
   "outputs": [
    {
     "name": "stdout",
     "output_type": "stream",
     "text": [
      "0\n",
      "1\n",
      "2\n",
      "3\n",
      "4\n",
      "5\n",
      "6\n",
      "7\n",
      "8\n",
      "9\n",
      "10\n",
      "11\n"
     ]
    }
   ],
   "source": [
    "for m in range(len(list(connectivity_data.structure_datas.keys()))):\n",
    "    sid = major_structure_ids[m]\n",
    "    print(m)\n",
    "    connectivity_data.structure_datas[sid].smoothed_losses_str = get_embedding_cv(surface = connectivity_data.structure_datas[sid].loss_surface_cv_str,\n",
    "                                                                              dists = pairwise_distances(connectivity_data.structure_datas[sid].centroids)**2,\n",
    "                                                                              cre_distances_cv = connectivity_data.structure_datas[sid].loss_surface_cv_str.cre_distances_cv)"
   ]
  },
  {
   "cell_type": "code",
   "execution_count": 103,
   "metadata": {
    "collapsed": true
   },
   "outputs": [],
   "source": [
    "crelist = ['C57BL/6J']\n",
    "eval_cres = ['C57BL/6J']\n",
    "def get_aligned_ids(list1,list2):\n",
    "    output = np.empty(len(list1), dtype = int)\n",
    "    for i in range(len(ontological_order_leaves)):\n",
    "        output[ i] = np.intersect1d(st.ancestor_ids([list1[i]]), list2)[0]\n",
    "    return(output)\n",
    "eval_cres = ['C57BL/6J']\n",
    "ontological_order_leaves_majors = get_aligned_ids(ontological_order_leaves,major_structure_ids)\n",
    "ontological_order_leaves_summary = get_aligned_ids(ontological_order_leaves,ontological_order)\n",
    "\n",
    "\n",
    "# model_ordering_leaf = np.asarray([ontological_order_leaves_majors,ontological_order_leaves]).transpose()\n",
    "# model_ordering_summary = np.asarray([ontological_order_leaves_majors,ontological_order_leaves_summary]).transpose()\n",
    "model_ordering_leafs = np.asarray([ontological_order_leaves_majors,ontological_order_leaves]).transpose()\n",
    "model_ordering_summaries = np.asarray([ontological_order_leaves_majors,ontological_order_leaves_summary]).transpose()\n"
   ]
  },
  {
   "cell_type": "code",
   "execution_count": null,
   "metadata": {
    "collapsed": true
   },
   "outputs": [],
   "source": [
    "gs = gammas[[6,\n",
    "        0,\n",
    "        6,\n",
    "        4,\n",
    "        6,\n",
    "        4,\n",
    "        4,\n",
    "        6,\n",
    "        4,\n",
    "        4,\n",
    "        6,\n",
    "        4]]"
   ]
  },
  {
   "cell_type": "code",
   "execution_count": 104,
   "metadata": {
    "collapsed": true
   },
   "outputs": [],
   "source": [
    "for m in range(12):\n",
    "    sid = major_structure_ids[m]\n",
    "    surfaces_str[sid].gamma = gs[m]\n",
    "    #gamma_dict = gd_nw_leaf_creleaf2\n",
    "    \n",
    "for sid in major_structure_ids:\n",
    "    connectivity_data.structure_datas[sid].crelines = connectivity_data.creline[sid]"
   ]
  },
  {
   "cell_type": "code",
   "execution_count": 139,
   "metadata": {},
   "outputs": [
    {
     "name": "stdout",
     "output_type": "stream",
     "text": [
      "0 593.0\n",
      "1 821.0\n"
     ]
    },
    {
     "ename": "IndexError",
     "evalue": "index 0 is out of bounds for axis 0 with size 0",
     "output_type": "error",
     "traceback": [
      "\u001b[0;31m---------------------------------------------------------------------------\u001b[0m",
      "\u001b[0;31mIndexError\u001b[0m                                Traceback (most recent call last)",
      "\u001b[0;32m<ipython-input-139-d18476deadd8>\u001b[0m in \u001b[0;36m<module>\u001b[0;34m\u001b[0m\n\u001b[1;32m      7\u001b[0m                                                   \u001b[0meval_cres\u001b[0m \u001b[0;34m=\u001b[0m \u001b[0meval_cres\u001b[0m\u001b[0;34m,\u001b[0m\u001b[0;34m\u001b[0m\u001b[0;34m\u001b[0m\u001b[0m\n\u001b[1;32m      8\u001b[0m                                                   \u001b[0msource_ordering\u001b[0m \u001b[0;34m=\u001b[0m \u001b[0montological_order_leaves\u001b[0m\u001b[0;34m[\u001b[0m\u001b[0;36m117\u001b[0m\u001b[0;34m:\u001b[0m\u001b[0;36m123\u001b[0m\u001b[0;34m]\u001b[0m\u001b[0;34m,\u001b[0m\u001b[0;31m#ontological_order_leaves,\u001b[0m\u001b[0;34m\u001b[0m\u001b[0;34m\u001b[0m\u001b[0m\n\u001b[0;32m----> 9\u001b[0;31m                                                   target_ordering= ontological_order_leaves)\n\u001b[0m",
      "\u001b[0;32m<ipython-input-138-240f6b1ff134>\u001b[0m in \u001b[0;36mget_connectivity_matrices3\u001b[0;34m(connectivity_data, surfaces, cres, structures, model_ordering_leafs, model_ordering_surfaces, source_ordering, target_ordering, eval_cres)\u001b[0m\n\u001b[1;32m     38\u001b[0m                                                       \u001b[0mgamma\u001b[0m \u001b[0;34m=\u001b[0m \u001b[0msurfaces\u001b[0m\u001b[0;34m[\u001b[0m\u001b[0msid\u001b[0m\u001b[0;34m]\u001b[0m\u001b[0;34m.\u001b[0m\u001b[0mbestgamma\u001b[0m\u001b[0;34m,\u001b[0m\u001b[0;34m\u001b[0m\u001b[0;34m\u001b[0m\u001b[0m\n\u001b[1;32m     39\u001b[0m                                                       \u001b[0msurface\u001b[0m \u001b[0;34m=\u001b[0m \u001b[0msurfaces\u001b[0m\u001b[0;34m[\u001b[0m\u001b[0msid\u001b[0m\u001b[0;34m]\u001b[0m\u001b[0;34m,\u001b[0m\u001b[0;34m\u001b[0m\u001b[0;34m\u001b[0m\u001b[0m\n\u001b[0;32m---> 40\u001b[0;31m                                                       cre_model = True)\n\u001b[0m\u001b[1;32m     41\u001b[0m \u001b[0;34m\u001b[0m\u001b[0m\n\u001b[1;32m     42\u001b[0m     \u001b[0mconnectivity\u001b[0m \u001b[0;34m=\u001b[0m \u001b[0mconnectivity\u001b[0m\u001b[0;34m[\u001b[0m\u001b[0;34m:\u001b[0m\u001b[0;34m,\u001b[0m\u001b[0;34m:\u001b[0m\u001b[0;34m,\u001b[0m\u001b[0mreorder\u001b[0m\u001b[0;34m]\u001b[0m\u001b[0;34m\u001b[0m\u001b[0;34m\u001b[0m\u001b[0m\n",
      "\u001b[0;32m<ipython-input-138-240f6b1ff134>\u001b[0m in \u001b[0;36mget_region_prediction3\u001b[0;34m(cache, structure_data, structures_sid, leafs_sid, model_region_surface, model_region_leaf, prediction_region, cre, gamma, surface, cre_model)\u001b[0m\n\u001b[1;32m     58\u001b[0m         \u001b[0mprojections_surface\u001b[0m \u001b[0;34m=\u001b[0m \u001b[0mstructure_data\u001b[0m\u001b[0;34m.\u001b[0m\u001b[0mreg_proj_norm\u001b[0m\u001b[0;34m[\u001b[0m\u001b[0mmodel_experiments_surface\u001b[0m\u001b[0;34m]\u001b[0m\u001b[0;34m\u001b[0m\u001b[0;34m\u001b[0m\u001b[0m\n\u001b[1;32m     59\u001b[0m         \u001b[0mcentroids\u001b[0m \u001b[0;34m=\u001b[0m \u001b[0mstructure_data\u001b[0m\u001b[0;34m.\u001b[0m\u001b[0mcentroids\u001b[0m\u001b[0;34m[\u001b[0m\u001b[0mmodel_experiments_leaf\u001b[0m\u001b[0;34m]\u001b[0m\u001b[0;31m#model_region_leaf\u001b[0m\u001b[0;34m\u001b[0m\u001b[0;34m\u001b[0m\u001b[0m\n\u001b[0;32m---> 60\u001b[0;31m         \u001b[0mmeans\u001b[0m \u001b[0;34m=\u001b[0m \u001b[0mget_means\u001b[0m\u001b[0;34m(\u001b[0m\u001b[0mprojections_surface\u001b[0m\u001b[0;34m,\u001b[0m \u001b[0mcres\u001b[0m\u001b[0;34m,\u001b[0m \u001b[0mnp\u001b[0m\u001b[0;34m.\u001b[0m\u001b[0mrepeat\u001b[0m\u001b[0;34m(\u001b[0m\u001b[0mmodel_region_surface\u001b[0m\u001b[0;34m,\u001b[0m\u001b[0mnexp\u001b[0m\u001b[0;34m)\u001b[0m\u001b[0;34m)\u001b[0m\u001b[0;34m\u001b[0m\u001b[0;34m\u001b[0m\u001b[0m\n\u001b[0m\u001b[1;32m     61\u001b[0m         \u001b[0;31m#supposed to check if theres a cre in that region\u001b[0m\u001b[0;34m\u001b[0m\u001b[0;34m\u001b[0m\u001b[0;34m\u001b[0m\u001b[0m\n\u001b[1;32m     62\u001b[0m         \u001b[0;32mif\u001b[0m \u001b[0mnp\u001b[0m\u001b[0;34m.\u001b[0m\u001b[0misin\u001b[0m\u001b[0;34m(\u001b[0m\u001b[0mmodel_region_surface\u001b[0m\u001b[0;34m,\u001b[0m \u001b[0mlist\u001b[0m\u001b[0;34m(\u001b[0m\u001b[0mmeans\u001b[0m\u001b[0;34m.\u001b[0m\u001b[0mkeys\u001b[0m\u001b[0;34m(\u001b[0m\u001b[0;34m)\u001b[0m\u001b[0;34m)\u001b[0m\u001b[0;34m)\u001b[0m\u001b[0;34m:\u001b[0m\u001b[0;34m\u001b[0m\u001b[0;34m\u001b[0m\u001b[0m\n",
      "\u001b[0;32m<ipython-input-69-69c1ddde94aa>\u001b[0m in \u001b[0;36mget_means\u001b[0;34m(projections, cres, sids)\u001b[0m\n\u001b[1;32m     74\u001b[0m         \u001b[0;32mfor\u001b[0m \u001b[0mj\u001b[0m \u001b[0;32min\u001b[0m \u001b[0mrange\u001b[0m\u001b[0;34m(\u001b[0m\u001b[0mlen\u001b[0m\u001b[0;34m(\u001b[0m\u001b[0mcre_types\u001b[0m\u001b[0;34m)\u001b[0m\u001b[0;34m)\u001b[0m\u001b[0;34m:\u001b[0m\u001b[0;34m\u001b[0m\u001b[0;34m\u001b[0m\u001b[0m\n\u001b[1;32m     75\u001b[0m             \u001b[0mcre_inds\u001b[0m \u001b[0;34m=\u001b[0m \u001b[0mnp\u001b[0m\u001b[0;34m.\u001b[0m\u001b[0mwhere\u001b[0m\u001b[0;34m(\u001b[0m\u001b[0mcres\u001b[0m \u001b[0;34m==\u001b[0m \u001b[0mcre_types\u001b[0m\u001b[0;34m[\u001b[0m\u001b[0mj\u001b[0m\u001b[0;34m]\u001b[0m\u001b[0;34m)\u001b[0m\u001b[0;34m[\u001b[0m\u001b[0;36m0\u001b[0m\u001b[0;34m]\u001b[0m\u001b[0;34m\u001b[0m\u001b[0;34m\u001b[0m\u001b[0m\n\u001b[0;32m---> 76\u001b[0;31m             \u001b[0mcre_means\u001b[0m\u001b[0;34m[\u001b[0m\u001b[0msid_types\u001b[0m\u001b[0;34m[\u001b[0m\u001b[0mi\u001b[0m\u001b[0;34m]\u001b[0m\u001b[0;34m]\u001b[0m\u001b[0;34m[\u001b[0m\u001b[0mcre_types\u001b[0m\u001b[0;34m[\u001b[0m\u001b[0mj\u001b[0m\u001b[0;34m]\u001b[0m\u001b[0;34m]\u001b[0m \u001b[0;34m=\u001b[0m \u001b[0mnp\u001b[0m\u001b[0;34m.\u001b[0m\u001b[0mmean\u001b[0m\u001b[0;34m(\u001b[0m\u001b[0mprojections\u001b[0m\u001b[0;34m[\u001b[0m\u001b[0mnp\u001b[0m\u001b[0;34m.\u001b[0m\u001b[0mintersect1d\u001b[0m\u001b[0;34m(\u001b[0m\u001b[0msid_inds\u001b[0m\u001b[0;34m,\u001b[0m \u001b[0mcre_inds\u001b[0m\u001b[0;34m)\u001b[0m\u001b[0;34m]\u001b[0m\u001b[0;34m,\u001b[0m \u001b[0maxis\u001b[0m \u001b[0;34m=\u001b[0m \u001b[0;36m0\u001b[0m \u001b[0;34m)\u001b[0m\u001b[0;34m\u001b[0m\u001b[0;34m\u001b[0m\u001b[0m\n\u001b[0m\u001b[1;32m     77\u001b[0m     \u001b[0;32mreturn\u001b[0m\u001b[0;34m(\u001b[0m\u001b[0mcre_means\u001b[0m\u001b[0;34m)\u001b[0m\u001b[0;34m\u001b[0m\u001b[0;34m\u001b[0m\u001b[0m\n\u001b[1;32m     78\u001b[0m \u001b[0;34m\u001b[0m\u001b[0m\n",
      "\u001b[0;31mIndexError\u001b[0m: index 0 is out of bounds for axis 0 with size 0"
     ]
    }
   ],
   "source": [
    "connectivity_matrices = get_connectivity_matrices3(connectivity_data, \n",
    "                                                   surfaces = surfaces_str,\n",
    "                                                   cres = crelist,\n",
    "                                                  structures = leafs,\n",
    "                                                  model_ordering_leafs = model_ordering_leafs,\n",
    "                                                   model_ordering_surfaces = model_ordering_summaries,\n",
    "                                                  eval_cres = eval_cres,\n",
    "                                                  source_ordering = ontological_order_leaves[117:123],#ontological_order_leaves,\n",
    "                                                  target_ordering= ontological_order_leaves)"
   ]
  },
  {
   "cell_type": "code",
   "execution_count": 106,
   "metadata": {
    "collapsed": true
   },
   "outputs": [],
   "source": [
    "target_ordering= ontological_order_leaves\n",
    "\n",
    "rnames = np.asarray([ia_map[ontological_order_leaves[i]] for i in range(len(ontological_order_leaves))])\n",
    "ipsi_target_regions = connectivity_data.ipsi_target_regions\n",
    "contra_target_regions = connectivity_data.contra_target_regions                               \n",
    "ipsi_indices= np.asarray([])\n",
    "contra_indices = np.asarray([])\n",
    "for iy in target_ordering: \n",
    "    ipsi_indices = np.concatenate([ipsi_indices, np.where(ipsi_target_regions==iy)[0]] )\n",
    "    contra_indices = np.concatenate([contra_indices, np.where(contra_target_regions==iy)[0]] )\n",
    "ipsi_indices = np.asarray(ipsi_indices, dtype = int)   \n",
    "contra_indices = np.asarray(contra_indices, dtype = int)    \n",
    "reorder = np.concatenate([ipsi_indices, len(ipsi_indices) + contra_indices])  \n",
    "ntarget = len(reorder)\n",
    "\n",
    "#cnames = np.concatenate([ipsi_colnames, contra_colnames])"
   ]
  },
  {
   "cell_type": "code",
   "execution_count": 107,
   "metadata": {
    "collapsed": true
   },
   "outputs": [],
   "source": [
    "colids = np.concatenate([ipsi_target_regions, contra_target_regions])[reorder]\n",
    "cnames = np.asarray([ia_map[colids[i]] for i in range(len(colids))])"
   ]
  },
  {
   "cell_type": "code",
   "execution_count": 108,
   "metadata": {
    "collapsed": true
   },
   "outputs": [],
   "source": [
    "connectivity_matrices_leafall = pd.DataFrame(connectivity_matrices[0], columns = cnames, index=np.asarray(['VISp1','VISp2/3','VISp4','VISp5','VISp6a','VISp6b']))"
   ]
  },
  {
   "cell_type": "code",
   "execution_count": 109,
   "metadata": {
    "scrolled": true
   },
   "outputs": [
    {
     "data": {
      "text/plain": [
       "<matplotlib.axes._subplots.AxesSubplot at 0xcc8947190>"
      ]
     },
     "execution_count": 109,
     "metadata": {},
     "output_type": "execute_result"
    },
    {
     "data": {
      "image/png": "[encoded data removed]",
      "text/plain": [
       "<Figure size 2160x720 with 2 Axes>"
      ]
     },
     "metadata": {
      "needs_background": "light"
     },
     "output_type": "display_data"
    }
   ],
   "source": [
    "srs = np.asarray(['VISp1', 'VISp2/3', 'VISp4', 'VISp5', 'VISp6a', 'VISp6b'])\n",
    "trs = np.asarray(['VISp1', 'VISp2/3' ,'VISp4', 'VISp5' ,'VISp6a','VISp6b','LGd-sh', 'LGd-co', 'LGd-ip','VISam1','VISam2/3','VISam4','VISam5', 'VISam6a'])\n",
    "\n",
    "fig, axes = plt.subplots(figsize = (30,10))\n",
    "sns.heatmap(connectivity_matrices_leafall.loc[srs].loc[:,trs])"
   ]
  },
  {
   "cell_type": "code",
   "execution_count": 275,
   "metadata": {
    "collapsed": true
   },
   "outputs": [],
   "source": [
    "\n",
    "#good one\n",
    "#model_ordering_leafs,model_region_structures are len n exps, which model to use\n",
    "#model_experiments_leaf,model_experiments_structure are inds of \n",
    "def get_connectivity_matrices3(connectivity_data, surfaces, cres, structures_smooth,structures_surface, model_ordering_leafs, model_ordering_surfaces, source_ordering, target_ordering, eval_cres):\n",
    "    \n",
    "    nsource = len(source_ordering)\n",
    "    #n#target = len(target_ordering)\n",
    "    ncre = len(eval_cres)\n",
    "\n",
    "    ipsi_target_regions = connectivity_data.ipsi_target_regions\n",
    "    contra_target_regions = connectivity_data.contra_target_regions                               \n",
    "    ipsi_indices= np.asarray([])\n",
    "    contra_indices = np.asarray([])\n",
    "    for iy in target_ordering: \n",
    "        ipsi_indices = np.concatenate([ipsi_indices, np.where(ipsi_target_regions==iy)[0]] )\n",
    "        contra_indices = np.concatenate([contra_indices, np.where(contra_target_regions==iy)[0]] )\n",
    "    ipsi_indices = np.asarray(ipsi_indices, dtype = int)   \n",
    "    contra_indices = np.asarray(contra_indices, dtype = int)    \n",
    "    reorder = np.concatenate([ipsi_indices, len(ipsi_indices) + contra_indices])  \n",
    "    ntarget = len(reorder)\n",
    "      \n",
    "    connectivity = np.zeros((ncre, nsource, ntarget))\n",
    "    connectivity[:] = np.nan\n",
    "    #structure_major_dictionary = connectivity_data.structure_major_dictionary\n",
    "    for c in range(ncre):\n",
    "        for i in range(nsource):\n",
    "            print(i,source_ordering[i])\n",
    "            sid = model_ordering_leafs[i,0]#structure_major_dictionary[source_ordering[i]]\n",
    "            gamma = surfaces[sid].gamma#gamma_dict[sid]\n",
    "            connectivity[c,i] = get_region_prediction3(cache,\n",
    "                                                      connectivity_data.structure_datas[sid],\n",
    "                                                      #structures_sid = structures[sid],\n",
    "                                                       structures_surface_sid =structures_surface[sid],\n",
    "                                                       structures_smooth_sid= structures_smooth[sid],\n",
    "                                                      model_region_leaf = model_ordering_leafs[i,1],\n",
    "                                                       model_region_surface = model_ordering_surfaces[i,1],\n",
    "                                                      prediction_region= source_ordering[i],\n",
    "                                                      cre = eval_cres[c],\n",
    "                                                      gamma = surfaces[sid].bestgamma,\n",
    "                                                      surface = surfaces[sid],\n",
    "                                                      cre_model = True)\n",
    "                                                      \n",
    "    connectivity = connectivity[:,:,reorder]                                                  \n",
    "                                                      \n",
    "    return(connectivity)\n",
    "\n",
    "def get_region_prediction3(cache, structure_data,  structures_surface_sid,structures_smooth_sid, model_region_surface, model_region_leaf, prediction_region, cre, gamma, surface = None, cre_model = False):\n",
    "    \n",
    "\n",
    "    model_experiments_leaf = np.where(structures_smooth_sid == model_region_leaf)[0]\n",
    "    model_experiments_surface = np.where(structures_surface_sid == model_region_surface)[0]\n",
    "    \n",
    "    nexp_surface = len(model_experiments_surface)\n",
    "    \n",
    "    cres_surface = structure_data.crelines[model_experiments_surface]\n",
    "    mask = Mask.from_cache(cache,structure_ids=[prediction_region],hemisphere_id=2)\n",
    "    if surface != None and cre_model == True:\n",
    "        projections = structure_data.reg_proj_norm[model_experiments_leaf]\n",
    "        projections_surface = structure_data.reg_proj_norm[model_experiments_surface]\n",
    "        centroids = structure_data.centroids[model_experiments_leaf]#model_region_leaf\n",
    "        means = get_means(projections_surface, cres_surface, np.repeat(model_region_surface,nexp_surface))\n",
    "        #supposed to check if theres a cre in that region\n",
    "        #if np.isin(model_region_surface, list(means.keys())):\n",
    "        if centroids.shape[0]>0:\n",
    "            if np.isin(cre, np.asarray(list(means[model_region_surface].keys()))):\n",
    "                losses = get_embedding(surface, pairwise_distances(centroids, mask.coordinates)**2, cres_surface, cre, means[model_region_surface])\n",
    "                predictions = get_nw_predictions(projections, losses, gamma)\n",
    "                output = np.mean(predictions, axis = 0)\n",
    "            else:\n",
    "                output = np.zeros(projections.shape[1])\n",
    "                output[:] = np.nan\n",
    "        else:\n",
    "            output = np.zeros(projections.shape[1])\n",
    "            output[:] = np.nan\n",
    "    if surface == None and cre_model == True:\n",
    "        \n",
    "        \n",
    "        modelcre_experiments = np.where(cres == cre)[0]\n",
    "        if len(modelcre_experiments)>0:\n",
    "            projections = structure_data.reg_proj_norm[model_experiments][modelcre_experiments]\n",
    "            centroids = structure_data.centroids[model_experiments][modelcre_experiments]\n",
    "            #print((pairwise_distances(centroids, mask.coordinates)**2).shape)\n",
    "            predictions = get_nw_predictions(projections, pairwise_distances(centroids, mask.coordinates)**2, gamma)\n",
    "            output = np.mean(predictions, axis = 0)\n",
    "        else:\n",
    "            output = np.zeros(structure_data.reg_proj_norm.shape[1])\n",
    "            output[:] = np.nan  \n",
    "            \n",
    "    if surface == None and cre_model == False:\n",
    "        \n",
    "        if len(model_experiments)>0:\n",
    "            projections = structure_data.reg_proj_norm[model_experiments]\n",
    "            centroids = structure_data.centroids[model_experiments]\n",
    "            predictions = get_nw_predictions(projections, pairwise_distances(centroids, mask.coordinates)**2, gamma)\n",
    "            output = np.mean(predictions, axis = 0)\n",
    "        else:\n",
    "            output = np.zeros(structure_data.reg_proj_norm.shape[1])\n",
    "            output[:] = np.nan  \n",
    "        \n",
    "    return(output)\n"
   ]
  },
  {
   "cell_type": "code",
   "execution_count": 276,
   "metadata": {
    "collapsed": true
   },
   "outputs": [],
   "source": [
    "connectivity_data\n",
    "surfaces = surfaces_str\n",
    "cres = crelist\n",
    "structures_smooth = leafs\n",
    "structures_surface = summary_structures\n",
    "model_ordering_leafs = np.asarray([ontological_order_leaves_majors,ontological_order_leaves]).transpose()\n",
    "model_ordering_surfaces = np.asarray([ontological_order_leaves_majors,ontological_order_leaves_summary]).transpose()\n",
    "model_ordering_leafs = model_ordering_leafs[117:123]\n",
    "model_ordering_surfaces = model_ordering_summaries[117:123]\n",
    "eval_cres = eval_cres\n",
    "source_ordering = ontological_order_leaves[117:123]\n",
    "target_ordering= ontological_order_leaves\n",
    "    "
   ]
  },
  {
   "cell_type": "code",
   "execution_count": 277,
   "metadata": {},
   "outputs": [
    {
     "name": "stdout",
     "output_type": "stream",
     "text": [
      "0 593.0\n",
      "1 821.0\n",
      "2 721.0\n",
      "3 778.0\n",
      "4 33.0\n",
      "5 305.0\n"
     ]
    }
   ],
   "source": [
    "    nsource = len(source_ordering)\n",
    "    #n#target = len(target_ordering)\n",
    "    ncre = len(eval_cres)\n",
    "\n",
    "    ipsi_target_regions = connectivity_data.ipsi_target_regions\n",
    "    contra_target_regions = connectivity_data.contra_target_regions                               \n",
    "    ipsi_indices= np.asarray([])\n",
    "    contra_indices = np.asarray([])\n",
    "    for iy in target_ordering: \n",
    "        ipsi_indices = np.concatenate([ipsi_indices, np.where(ipsi_target_regions==iy)[0]] )\n",
    "        contra_indices = np.concatenate([contra_indices, np.where(contra_target_regions==iy)[0]] )\n",
    "    ipsi_indices = np.asarray(ipsi_indices, dtype = int)   \n",
    "    contra_indices = np.asarray(contra_indices, dtype = int)    \n",
    "    reorder = np.concatenate([ipsi_indices, len(ipsi_indices) + contra_indices])  \n",
    "    ntarget = len(reorder)\n",
    "      \n",
    "    connectivity = np.zeros((ncre, nsource, ntarget))\n",
    "    connectivity[:] = np.nan\n",
    "    #structure_major_dictionary = connectivity_data.structure_major_dictionary\n",
    "    for c in range(ncre):\n",
    "        for i in range(nsource):\n",
    "            print(i,source_ordering[i])\n",
    "            sid = model_ordering_leafs[i,0]#structure_major_dictionary[source_ordering[i]]\n",
    "            gamma = surfaces[sid].gamma#gamma_dict[sid]\n",
    "            connectivity[c,i] = get_region_prediction3(cache,\n",
    "                                                      structure_data = connectivity_data.structure_datas[sid],\n",
    "                                                       structures_surface_sid =structures_surface[sid],\n",
    "                                                       structures_smooth_sid= structures_smooth[sid],\n",
    "                                                      model_region_leaf = model_ordering_leafs[i,1],\n",
    "                                                       model_region_surface = model_ordering_surfaces[i,1],\n",
    "                                                      prediction_region= source_ordering[i],\n",
    "                                                      cre = eval_cres[c],\n",
    "                                                      gamma = surfaces[sid].bestgamma,\n",
    "                                                      surface = surfaces[sid],\n",
    "                                                      cre_model = True)\n",
    "                                                                       "
   ]
  },
  {
   "cell_type": "code",
   "execution_count": 279,
   "metadata": {
    "collapsed": true
   },
   "outputs": [],
   "source": [
    "connectivity = connectivity[:,:,reorder]   "
   ]
  },
  {
   "cell_type": "code",
   "execution_count": 281,
   "metadata": {
    "collapsed": true
   },
   "outputs": [],
   "source": [
    "connectivity_matrices_leafall = pd.DataFrame(connectivity[0], columns = cnames, index=np.asarray(['VISp1','VISp2/3','VISp4','VISp5','VISp6a','VISp6b']))"
   ]
  },
  {
   "cell_type": "code",
   "execution_count": 282,
   "metadata": {},
   "outputs": [
    {
     "data": {
      "text/plain": [
       "<matplotlib.axes._subplots.AxesSubplot at 0xcbcc4d450>"
      ]
     },
     "execution_count": 282,
     "metadata": {},
     "output_type": "execute_result"
    },
    {
     "data": {
      "image/png": "[encoded data removed]",
      "text/plain": [
       "<Figure size 2160x720 with 2 Axes>"
      ]
     },
     "metadata": {
      "needs_background": "light"
     },
     "output_type": "display_data"
    }
   ],
   "source": [
    "srs = np.asarray(['VISp1', 'VISp2/3', 'VISp4', 'VISp5', 'VISp6a', 'VISp6b'])\n",
    "trs = np.asarray(['VISp1', 'VISp2/3' ,'VISp4', 'VISp5' ,'VISp6a','VISp6b','LGd-sh', 'LGd-co', 'LGd-ip','VISam1','VISam2/3','VISam4','VISam5', 'VISam6a'])\n",
    "\n",
    "fig, axes = plt.subplots(figsize = (30,10))\n",
    "sns.heatmap(connectivity_matrices_leafall.loc[srs].loc[:,trs])"
   ]
  },
  {
   "cell_type": "code",
   "execution_count": null,
   "metadata": {
    "collapsed": true
   },
   "outputs": [],
   "source": []
  },
  {
   "cell_type": "code",
   "execution_count": 270,
   "metadata": {
    "collapsed": true
   },
   "outputs": [],
   "source": [
    "#get_region_predicitons\n",
    "i = 0\n",
    "#sid = 315\n",
    "structure_data = connectivity_data.structure_datas[sid]\n",
    "structures_surface_sid =structures_surface[sid]\n",
    "structures_smooth_sid= structures_smooth[sid]\n",
    "model_region_surface = model_ordering_surfaces[i,1]#model_ordering_surfaces[i,1]\n",
    "model_region_leaf = model_ordering_leafs[i,1]#model_region_leafs[i,1]\n",
    "prediction_region= source_ordering[i]\n",
    "cre = eval_cres[c]\n",
    "gamma = surfaces[sid].bestgamma\n",
    "surface = surfaces[sid]\n",
    "cre_model = True"
   ]
  },
  {
   "cell_type": "code",
   "execution_count": 271,
   "metadata": {},
   "outputs": [
    {
     "data": {
      "text/plain": [
       "['C57BL/6J']"
      ]
     },
     "execution_count": 271,
     "metadata": {},
     "output_type": "execute_result"
    }
   ],
   "source": [
    "cres"
   ]
  },
  {
   "cell_type": "code",
   "execution_count": 274,
   "metadata": {
    "collapsed": true
   },
   "outputs": [],
   "source": [
    "    model_experiments_leaf = np.where(structures_smooth_sid == model_region_leaf)[0]\n",
    "    model_experiments_surface = np.where(structures_surface_sid == model_region_surface)[0]\n",
    "    \n",
    "    nexp_surface = len(model_experiments_surface)\n",
    "    \n",
    "    cres_surface = structure_data.crelines[model_experiments_surface]\n",
    "    mask = Mask.from_cache(cache,structure_ids=[prediction_region],hemisphere_id=2)\n",
    "    if surface != None and cre_model == True:\n",
    "        projections = structure_data.reg_proj_norm[model_experiments_leaf]\n",
    "        projections_surface = structure_data.reg_proj_norm[model_experiments_surface]\n",
    "        centroids = structure_data.centroids[model_experiments_leaf]#model_region_leaf\n",
    "        means = get_means(projections_surface, cres_surface, np.repeat(model_region_surface,nexp_surface))\n",
    "        #supposed to check if theres a cre in that region\n",
    "        #if np.isin(model_region_surface, list(means.keys())):\n",
    "        if centroids.shape[0]>0:\n",
    "            if np.isin(cre, np.asarray(list(means[model_region_surface].keys()))):\n",
    "                losses = get_embedding(surface, pairwise_distances(centroids, mask.coordinates)**2, cres_surface, cre, means[model_region_surface])\n",
    "                predictions = get_nw_predictions(projections, losses, gamma)\n",
    "                output = np.mean(predictions, axis = 0)\n",
    "            else:\n",
    "                output = np.zeros(projections.shape[1])\n",
    "                output[:] = np.nan\n",
    "        else:\n",
    "            output = np.zeros(projections.shape[1])\n",
    "            output[:] = np.nan           "
   ]
  },
  {
   "cell_type": "code",
   "execution_count": 273,
   "metadata": {},
   "outputs": [
    {
     "data": {
      "text/plain": [
       "(0, 3)"
      ]
     },
     "execution_count": 273,
     "metadata": {},
     "output_type": "execute_result"
    }
   ],
   "source": [
    "centroids.shape"
   ]
  },
  {
   "cell_type": "code",
   "execution_count": 269,
   "metadata": {},
   "outputs": [
    {
     "data": {
      "text/plain": [
       "array([3.64671834e-03, 1.75563873e-05, 0.00000000e+00, ...,\n",
       "       5.69222092e-09, 5.36088646e-06, 0.00000000e+00])"
      ]
     },
     "execution_count": 269,
     "metadata": {},
     "output_type": "execute_result"
    }
   ],
   "source": [
    "output"
   ]
  },
  {
   "cell_type": "code",
   "execution_count": 262,
   "metadata": {},
   "outputs": [
    {
     "data": {
      "text/plain": [
       "'RSPv2/3'"
      ]
     },
     "execution_count": 262,
     "metadata": {},
     "output_type": "execute_result"
    }
   ],
   "source": [
    "ia_map[structures_smooth_sid[0]]# == model_region_leaf"
   ]
  },
  {
   "cell_type": "code",
   "execution_count": 265,
   "metadata": {},
   "outputs": [
    {
     "data": {
      "text/plain": [
       "'VISp1'"
      ]
     },
     "execution_count": 265,
     "metadata": {},
     "output_type": "execute_result"
    }
   ],
   "source": [
    "ia_map[model_region_leaf]"
   ]
  },
  {
   "cell_type": "code",
   "execution_count": 264,
   "metadata": {},
   "outputs": [
    {
     "data": {
      "text/plain": [
       "(1128,)"
      ]
     },
     "execution_count": 264,
     "metadata": {},
     "output_type": "execute_result"
    }
   ],
   "source": [
    "structures_smooth_sid.shape"
   ]
  },
  {
   "cell_type": "code",
   "execution_count": null,
   "metadata": {
    "collapsed": true
   },
   "outputs": [],
   "source": []
  },
  {
   "cell_type": "code",
   "execution_count": null,
   "metadata": {
    "collapsed": true
   },
   "outputs": [],
   "source": []
  },
  {
   "cell_type": "code",
   "execution_count": null,
   "metadata": {
    "collapsed": true
   },
   "outputs": [],
   "source": []
  },
  {
   "cell_type": "code",
   "execution_count": null,
   "metadata": {
    "collapsed": true
   },
   "outputs": [],
   "source": []
  },
  {
   "cell_type": "code",
   "execution_count": 257,
   "metadata": {},
   "outputs": [
    {
     "data": {
      "text/plain": [
       "array([], dtype=int64)"
      ]
     },
     "execution_count": 257,
     "metadata": {},
     "output_type": "execute_result"
    }
   ],
   "source": [
    "np.where(structures_smooth_sid == model_region_leaf)[0]"
   ]
  },
  {
   "cell_type": "code",
   "execution_count": 255,
   "metadata": {},
   "outputs": [
    {
     "data": {
      "text/plain": [
       "array([], dtype=int64)"
      ]
     },
     "execution_count": 255,
     "metadata": {},
     "output_type": "execute_result"
    }
   ],
   "source": [
    "model_experiments_leaf"
   ]
  },
  {
   "cell_type": "code",
   "execution_count": null,
   "metadata": {
    "collapsed": true
   },
   "outputs": [],
   "source": []
  },
  {
   "cell_type": "code",
   "execution_count": null,
   "metadata": {
    "collapsed": true
   },
   "outputs": [],
   "source": []
  },
  {
   "cell_type": "code",
   "execution_count": null,
   "metadata": {
    "collapsed": true
   },
   "outputs": [],
   "source": []
  },
  {
   "cell_type": "code",
   "execution_count": null,
   "metadata": {
    "collapsed": true
   },
   "outputs": [],
   "source": []
  },
  {
   "cell_type": "code",
   "execution_count": null,
   "metadata": {
    "collapsed": true
   },
   "outputs": [],
   "source": []
  },
  {
   "cell_type": "code",
   "execution_count": null,
   "metadata": {
    "collapsed": true
   },
   "outputs": [],
   "source": []
  },
  {
   "cell_type": "code",
   "execution_count": null,
   "metadata": {
    "collapsed": true
   },
   "outputs": [],
   "source": []
  },
  {
   "cell_type": "code",
   "execution_count": null,
   "metadata": {
    "collapsed": true
   },
   "outputs": [],
   "source": []
  },
  {
   "cell_type": "code",
   "execution_count": 67,
   "metadata": {
    "collapsed": true
   },
   "outputs": [],
   "source": [
    "gd_nw_leaf_creleaf2 = {}\n",
    "for m in range(12):\n",
    "    sid = major_structure_ids[m]\n",
    "    gd_nw_leaf_creleaf2[sid] = gsnwl[m]"
   ]
  },
  {
   "cell_type": "code",
   "execution_count": 66,
   "metadata": {
    "collapsed": true
   },
   "outputs": [],
   "source": [
    "gsnwl = np.asarray([.01,.001,.01,.1,.1,1.,0.1,0.001,1.,0.1,0.1,0.01])"
   ]
  },
  {
   "cell_type": "code",
   "execution_count": 70,
   "metadata": {},
   "outputs": [
    {
     "name": "stdout",
     "output_type": "stream",
     "text": [
      "0 593.0\n",
      "1 821.0\n",
      "2 721.0\n",
      "3 778.0\n",
      "4 33.0\n",
      "5 305.0\n"
     ]
    }
   ],
   "source": [
    "connectivity_matrices_leafall = get_connectivity_matrices2_nw(connectivity_data,\n",
    "                                                      gamma_dict = gd_nw_leaf_creleaf2,\n",
    "                                                   cres = crelist,\n",
    "                                                  structures = leafs,\n",
    "                                                  model_ordering = np.asarray([[315,315,315,315,315,315],[593, 821, 721, 778, 33, 305]], dtype = int).transpose(),\n",
    "                                                  eval_cres = eval_cres,\n",
    "                                                  source_ordering = ontological_order_leaves[117:123],\n",
    "                                                  target_ordering= ontological_order_leaves,\n",
    "                                                     cre_model = False)\n",
    "connectivity_matrices_leafall = pd.DataFrame(connectivity_matrices_leafall[0], columns = cnames, index=np.asarray(['VISp1','VISp2/3','VISp4','VISp5','VISp6a','VISp6b']))"
   ]
  },
  {
   "cell_type": "code",
   "execution_count": 71,
   "metadata": {},
   "outputs": [
    {
     "data": {
      "text/plain": [
       "<matplotlib.axes._subplots.AxesSubplot at 0xcc844d4d0>"
      ]
     },
     "execution_count": 71,
     "metadata": {},
     "output_type": "execute_result"
    },
    {
     "data": {
      "image/png": "[encoded data removed]",
      "text/plain": [
       "<Figure size 2160x720 with 2 Axes>"
      ]
     },
     "metadata": {
      "needs_background": "light"
     },
     "output_type": "display_data"
    }
   ],
   "source": [
    "srs = np.asarray(['VISp1', 'VISp2/3', 'VISp4', 'VISp5', 'VISp6a', 'VISp6b'])\n",
    "trs = np.asarray(['VISp1', 'VISp2/3' ,'VISp4', 'VISp5' ,'VISp6a','VISp6b','LGd-sh', 'LGd-co', 'LGd-ip','VISam1','VISam2/3','VISam4','VISam5', 'VISam6a'])\n",
    "\n",
    "fig, axes = plt.subplots(figsize = (30,10))\n",
    "sns.heatmap(connectivity_matrices_leafall.loc[srs].loc[:,trs])"
   ]
  },
  {
   "cell_type": "code",
   "execution_count": null,
   "metadata": {
    "collapsed": true
   },
   "outputs": [],
   "source": []
  },
  {
   "cell_type": "code",
   "execution_count": null,
   "metadata": {
    "collapsed": true
   },
   "outputs": [],
   "source": []
  },
  {
   "cell_type": "code",
   "execution_count": null,
   "metadata": {
    "collapsed": true
   },
   "outputs": [],
   "source": []
  },
  {
   "cell_type": "code",
   "execution_count": null,
   "metadata": {
    "collapsed": true
   },
   "outputs": [],
   "source": []
  },
  {
   "cell_type": "code",
   "execution_count": null,
   "metadata": {
    "collapsed": true
   },
   "outputs": [],
   "source": []
  },
  {
   "cell_type": "code",
   "execution_count": null,
   "metadata": {
    "collapsed": true
   },
   "outputs": [],
   "source": []
  },
  {
   "cell_type": "code",
   "execution_count": null,
   "metadata": {
    "collapsed": true
   },
   "outputs": [],
   "source": []
  },
  {
   "cell_type": "code",
   "execution_count": null,
   "metadata": {
    "collapsed": true
   },
   "outputs": [],
   "source": []
  },
  {
   "cell_type": "code",
   "execution_count": null,
   "metadata": {
    "collapsed": true
   },
   "outputs": [],
   "source": []
  },
  {
   "cell_type": "code",
   "execution_count": null,
   "metadata": {
    "collapsed": true
   },
   "outputs": [],
   "source": []
  },
  {
   "cell_type": "code",
   "execution_count": null,
   "metadata": {
    "collapsed": true
   },
   "outputs": [],
   "source": []
  },
  {
   "cell_type": "code",
   "execution_count": null,
   "metadata": {
    "collapsed": true
   },
   "outputs": [],
   "source": []
  },
  {
   "cell_type": "code",
   "execution_count": null,
   "metadata": {
    "collapsed": true
   },
   "outputs": [],
   "source": []
  },
  {
   "cell_type": "code",
   "execution_count": null,
   "metadata": {
    "collapsed": true
   },
   "outputs": [],
   "source": []
  },
  {
   "cell_type": "code",
   "execution_count": null,
   "metadata": {
    "collapsed": true
   },
   "outputs": [],
   "source": []
  },
  {
   "cell_type": "code",
   "execution_count": null,
   "metadata": {
    "collapsed": true
   },
   "outputs": [],
   "source": []
  },
  {
   "cell_type": "code",
   "execution_count": null,
   "metadata": {
    "collapsed": true
   },
   "outputs": [],
   "source": [
    "connectivity_matrices_leafall = get_connectivity_matrices2_nw(connectivity_data,\n",
    "                                                      gamma_dict = gd_nw_leaf_creleaf2,\n",
    "                                                   cres = crelist,\n",
    "                                                  structures = leafs,\n",
    "                                                  model_ordering = np.asarray([[315,315,315,315,315,315],[593, 821, 721, 778, 33, 305]], dtype = int).transpose(),\n",
    "                                                  eval_cres = eval_cres,\n",
    "                                                  source_ordering = ontological_order_leaves[117:123],\n",
    "                                                  target_ordering= ontological_order_leaves,\n",
    "                                                     cre_model = False)\n",
    "connectivity_matrices_leafall = pd.DataFrame(connectivity_matrices_leafall[0], columns = cnames, index=np.asarray(['VISp1','VISp2/3','VISp4','VISp5','VISp6a','VISp6b']))"
   ]
  },
  {
   "cell_type": "code",
   "execution_count": 31,
   "metadata": {
    "collapsed": true
   },
   "outputs": [],
   "source": [
    "gs = gammas[[6,\n",
    "        0,\n",
    "        6,\n",
    "        4,\n",
    "        6,\n",
    "        4,\n",
    "        4,\n",
    "        6,\n",
    "        4,\n",
    "        4,\n",
    "        6,\n",
    "        4]]"
   ]
  },
  {
   "cell_type": "code",
   "execution_count": 30,
   "metadata": {},
   "outputs": [
    {
     "data": {
      "text/plain": [
       "array([1.e-03, 1.e-02, 1.e-01, 1.e+00, 1.e+01, 1.e+02, 1.e+03, 1.e+04])"
      ]
     },
     "execution_count": 30,
     "metadata": {},
     "output_type": "execute_result"
    }
   ],
   "source": [
    "gammas"
   ]
  },
  {
   "cell_type": "code",
   "execution_count": 32,
   "metadata": {
    "collapsed": true
   },
   "outputs": [],
   "source": [
    "surfaces_str = {}\n",
    "#surfaces_leaf = {}\n",
    "for m in range(12):\n",
    "    sid = major_structure_ids[m]\n",
    "    surfaces_str[sid] = connectivity_data.structure_datas[sid].loss_surface_cv_str\n",
    "    surfaces_str[sid].bestgamma =  gs[m]#gammas[twostage_str_creleaf2.bestgamma[m]]"
   ]
  },
  {
   "cell_type": "code",
   "execution_count": 37,
   "metadata": {
    "collapsed": true
   },
   "outputs": [],
   "source": []
  },
  {
   "cell_type": "code",
   "execution_count": 40,
   "metadata": {},
   "outputs": [
    {
     "name": "stdout",
     "output_type": "stream",
     "text": [
      "0 68.0\n"
     ]
    },
    {
     "ename": "NameError",
     "evalue": "name 'model_ordering' is not defined",
     "output_type": "error",
     "traceback": [
      "\u001b[0;31m---------------------------------------------------------------------------\u001b[0m",
      "\u001b[0;31mNameError\u001b[0m                                 Traceback (most recent call last)",
      "\u001b[0;32m<ipython-input-40-f973b868773d>\u001b[0m in \u001b[0;36m<module>\u001b[0;34m\u001b[0m\n\u001b[1;32m      7\u001b[0m                                                   \u001b[0meval_cres\u001b[0m \u001b[0;34m=\u001b[0m \u001b[0meval_cres\u001b[0m\u001b[0;34m,\u001b[0m\u001b[0;34m\u001b[0m\u001b[0;34m\u001b[0m\u001b[0m\n\u001b[1;32m      8\u001b[0m                                                   \u001b[0msource_ordering\u001b[0m \u001b[0;34m=\u001b[0m \u001b[0montological_order_leaves\u001b[0m\u001b[0;34m,\u001b[0m\u001b[0;34m\u001b[0m\u001b[0;34m\u001b[0m\u001b[0m\n\u001b[0;32m----> 9\u001b[0;31m                                                   target_ordering= ontological_order_leaves)\n\u001b[0m",
      "\u001b[0;32m<ipython-input-39-e3106592322c>\u001b[0m in \u001b[0;36mget_connectivity_matrices3\u001b[0;34m(connectivity_data, surfaces, cres, structures, model_ordering_leaf, model_region_surface, source_ordering, target_ordering, eval_cres)\u001b[0m\n\u001b[1;32m    146\u001b[0m         \u001b[0;32mfor\u001b[0m \u001b[0mi\u001b[0m \u001b[0;32min\u001b[0m \u001b[0mrange\u001b[0m\u001b[0;34m(\u001b[0m\u001b[0mnsource\u001b[0m\u001b[0;34m)\u001b[0m\u001b[0;34m:\u001b[0m\u001b[0;34m\u001b[0m\u001b[0;34m\u001b[0m\u001b[0m\n\u001b[1;32m    147\u001b[0m             \u001b[0mprint\u001b[0m\u001b[0;34m(\u001b[0m\u001b[0mi\u001b[0m\u001b[0;34m,\u001b[0m\u001b[0msource_ordering\u001b[0m\u001b[0;34m[\u001b[0m\u001b[0mi\u001b[0m\u001b[0;34m]\u001b[0m\u001b[0;34m)\u001b[0m\u001b[0;34m\u001b[0m\u001b[0;34m\u001b[0m\u001b[0m\n\u001b[0;32m--> 148\u001b[0;31m             \u001b[0msid\u001b[0m \u001b[0;34m=\u001b[0m \u001b[0mmodel_ordering\u001b[0m\u001b[0;34m[\u001b[0m\u001b[0mi\u001b[0m\u001b[0;34m,\u001b[0m\u001b[0;36m0\u001b[0m\u001b[0;34m]\u001b[0m\u001b[0;31m#structure_major_dictionary[source_ordering[i]]\u001b[0m\u001b[0;34m\u001b[0m\u001b[0;34m\u001b[0m\u001b[0m\n\u001b[0m\u001b[1;32m    149\u001b[0m             \u001b[0mgamma\u001b[0m \u001b[0;34m=\u001b[0m \u001b[0mgamma_dict\u001b[0m\u001b[0;34m[\u001b[0m\u001b[0msid\u001b[0m\u001b[0;34m]\u001b[0m\u001b[0;34m\u001b[0m\u001b[0;34m\u001b[0m\u001b[0m\n\u001b[1;32m    150\u001b[0m             connectivity[c,i] = get_region_prediction3(cache,\n",
      "\u001b[0;31mNameError\u001b[0m: name 'model_ordering' is not defined"
     ]
    }
   ],
   "source": []
  },
  {
   "cell_type": "code",
   "execution_count": null,
   "metadata": {
    "collapsed": true
   },
   "outputs": [],
   "source": []
  },
  {
   "cell_type": "code",
   "execution_count": null,
   "metadata": {
    "collapsed": true
   },
   "outputs": [],
   "source": []
  },
  {
   "cell_type": "code",
   "execution_count": null,
   "metadata": {
    "collapsed": true
   },
   "outputs": [],
   "source": []
  },
  {
   "cell_type": "code",
   "execution_count": null,
   "metadata": {
    "collapsed": true
   },
   "outputs": [],
   "source": []
  },
  {
   "cell_type": "code",
   "execution_count": null,
   "metadata": {
    "collapsed": true
   },
   "outputs": [],
   "source": []
  },
  {
   "cell_type": "code",
   "execution_count": null,
   "metadata": {
    "collapsed": true
   },
   "outputs": [],
   "source": []
  },
  {
   "cell_type": "code",
   "execution_count": null,
   "metadata": {
    "collapsed": true
   },
   "outputs": [],
   "source": []
  },
  {
   "cell_type": "code",
   "execution_count": null,
   "metadata": {
    "collapsed": true
   },
   "outputs": [],
   "source": []
  },
  {
   "cell_type": "code",
   "execution_count": null,
   "metadata": {
    "collapsed": true
   },
   "outputs": [],
   "source": []
  },
  {
   "cell_type": "code",
   "execution_count": null,
   "metadata": {
    "collapsed": true
   },
   "outputs": [],
   "source": []
  },
  {
   "cell_type": "code",
   "execution_count": null,
   "metadata": {
    "collapsed": true
   },
   "outputs": [],
   "source": []
  },
  {
   "cell_type": "code",
   "execution_count": null,
   "metadata": {
    "collapsed": true
   },
   "outputs": [],
   "source": []
  },
  {
   "cell_type": "code",
   "execution_count": null,
   "metadata": {
    "collapsed": true
   },
   "outputs": [],
   "source": []
  },
  {
   "cell_type": "code",
   "execution_count": null,
   "metadata": {
    "collapsed": true
   },
   "outputs": [],
   "source": []
  },
  {
   "cell_type": "code",
   "execution_count": null,
   "metadata": {
    "collapsed": true
   },
   "outputs": [],
   "source": []
  },
  {
   "cell_type": "code",
   "execution_count": null,
   "metadata": {
    "collapsed": true
   },
   "outputs": [],
   "source": []
  },
  {
   "cell_type": "code",
   "execution_count": null,
   "metadata": {
    "collapsed": true
   },
   "outputs": [],
   "source": []
  },
  {
   "cell_type": "code",
   "execution_count": null,
   "metadata": {
    "collapsed": true
   },
   "outputs": [],
   "source": []
  },
  {
   "cell_type": "code",
   "execution_count": null,
   "metadata": {
    "collapsed": true
   },
   "outputs": [],
   "source": []
  },
  {
   "cell_type": "code",
   "execution_count": null,
   "metadata": {
    "collapsed": true
   },
   "outputs": [],
   "source": []
  },
  {
   "cell_type": "code",
   "execution_count": null,
   "metadata": {
    "collapsed": true
   },
   "outputs": [],
   "source": []
  },
  {
   "cell_type": "code",
   "execution_count": null,
   "metadata": {
    "collapsed": true
   },
   "outputs": [],
   "source": []
  },
  {
   "cell_type": "code",
   "execution_count": 7,
   "metadata": {
    "collapsed": true
   },
   "outputs": [],
   "source": []
  },
  {
   "cell_type": "code",
   "execution_count": null,
   "metadata": {
    "collapsed": true
   },
   "outputs": [],
   "source": []
  },
  {
   "cell_type": "code",
   "execution_count": null,
   "metadata": {
    "collapsed": true
   },
   "outputs": [],
   "source": [
    "connectivity_data.structure_datas[sid].centroids.shape"
   ]
  },
  {
   "cell_type": "code",
   "execution_count": null,
   "metadata": {
    "collapsed": true,
    "scrolled": true
   },
   "outputs": [],
   "source": [
    "connectivity_data.structure_datas[sid].loss_surface_cv_str.cre_distances_cv.shape"
   ]
  },
  {
   "cell_type": "code",
   "execution_count": null,
   "metadata": {
    "collapsed": true
   },
   "outputs": [],
   "source": [
    "connectivity_data.structure_datas[sid].smoothed_losses_str.shape"
   ]
  },
  {
   "cell_type": "code",
   "execution_count": 14,
   "metadata": {},
   "outputs": [
    {
     "name": "stdout",
     "output_type": "stream",
     "text": [
      "0\n"
     ]
    },
    {
     "ename": "NameError",
     "evalue": "name 'get_embedding_cv' is not defined",
     "output_type": "error",
     "traceback": [
      "\u001b[0;31m---------------------------------------------------------------------------\u001b[0m",
      "\u001b[0;31mNameError\u001b[0m                                 Traceback (most recent call last)",
      "\u001b[0;32m<ipython-input-14-0aac38adba6f>\u001b[0m in \u001b[0;36m<module>\u001b[0;34m\u001b[0m\n\u001b[1;32m      2\u001b[0m     \u001b[0msid\u001b[0m \u001b[0;34m=\u001b[0m \u001b[0mmajor_structure_ids\u001b[0m\u001b[0;34m[\u001b[0m\u001b[0mm\u001b[0m\u001b[0;34m]\u001b[0m\u001b[0;34m\u001b[0m\u001b[0;34m\u001b[0m\u001b[0m\n\u001b[1;32m      3\u001b[0m     \u001b[0mprint\u001b[0m\u001b[0;34m(\u001b[0m\u001b[0mm\u001b[0m\u001b[0;34m)\u001b[0m\u001b[0;34m\u001b[0m\u001b[0;34m\u001b[0m\u001b[0m\n\u001b[0;32m----> 4\u001b[0;31m     connectivity_data.structure_datas[sid].smoothed_losses_str = get_embedding_cv(surface = connectivity_data.structure_datas[sid].loss_surface_cv_str,\n\u001b[0m\u001b[1;32m      5\u001b[0m                                                                               \u001b[0mdists\u001b[0m \u001b[0;34m=\u001b[0m \u001b[0mpairwise_distances\u001b[0m\u001b[0;34m(\u001b[0m\u001b[0mconnectivity_data\u001b[0m\u001b[0;34m.\u001b[0m\u001b[0mstructure_datas\u001b[0m\u001b[0;34m[\u001b[0m\u001b[0msid\u001b[0m\u001b[0;34m]\u001b[0m\u001b[0;34m.\u001b[0m\u001b[0mcentroids\u001b[0m\u001b[0;34m)\u001b[0m\u001b[0;34m**\u001b[0m\u001b[0;36m2\u001b[0m\u001b[0;34m,\u001b[0m\u001b[0;34m\u001b[0m\u001b[0;34m\u001b[0m\u001b[0m\n\u001b[1;32m      6\u001b[0m                                                                               cre_distances_cv = connectivity_data.structure_datas[sid].loss_surface_cv_str.cre_distances_cv)\n",
      "\u001b[0;31mNameError\u001b[0m: name 'get_embedding_cv' is not defined"
     ]
    }
   ],
   "source": []
  },
  {
   "cell_type": "code",
   "execution_count": 12,
   "metadata": {
    "collapsed": true
   },
   "outputs": [],
   "source": [
    "class Crossval:\n",
    "    \n",
    "    def __init__(self):\n",
    "        2+2"
   ]
  },
  {
   "cell_type": "code",
   "execution_count": 13,
   "metadata": {},
   "outputs": [
    {
     "ename": "AttributeError",
     "evalue": "'StructureData' object has no attribute 'smoothed_losses_str'",
     "output_type": "error",
     "traceback": [
      "\u001b[0;31m---------------------------------------------------------------------------\u001b[0m",
      "\u001b[0;31mAttributeError\u001b[0m                            Traceback (most recent call last)",
      "\u001b[0;32m<ipython-input-13-2eaeae213abe>\u001b[0m in \u001b[0;36m<module>\u001b[0;34m\u001b[0m\n\u001b[1;32m      8\u001b[0m     \u001b[0mreg_proj_norm\u001b[0m\u001b[0;34m[\u001b[0m\u001b[0msid\u001b[0m \u001b[0;34m]\u001b[0m \u001b[0;34m=\u001b[0m \u001b[0mconnectivity_data\u001b[0m\u001b[0;34m.\u001b[0m\u001b[0mstructure_datas\u001b[0m\u001b[0;34m[\u001b[0m\u001b[0msid\u001b[0m\u001b[0;34m]\u001b[0m\u001b[0;34m.\u001b[0m\u001b[0mreg_proj_norm\u001b[0m\u001b[0;34m\u001b[0m\u001b[0;34m\u001b[0m\u001b[0m\n\u001b[1;32m      9\u001b[0m     loocvpredictions[sid] = get_nwloocv_predictions_multimodel_merge_dists(connectivity_data.structure_datas[sid].reg_proj_norm, \n\u001b[0;32m---> 10\u001b[0;31m                                                                                        \u001b[0mconnectivity_data\u001b[0m\u001b[0;34m.\u001b[0m\u001b[0mstructure_datas\u001b[0m\u001b[0;34m[\u001b[0m\u001b[0msid\u001b[0m\u001b[0;34m]\u001b[0m\u001b[0;34m.\u001b[0m\u001b[0msmoothed_losses_str\u001b[0m\u001b[0;34m,\u001b[0m\u001b[0;31m#np.ones(losses.shape),#(losses - np.nanmin(losses))**2,#**6,\u001b[0m\u001b[0;34m\u001b[0m\u001b[0;34m\u001b[0m\u001b[0m\n\u001b[0m\u001b[1;32m     11\u001b[0m                                                                                        \u001b[0;31m#pds,\u001b[0m\u001b[0;34m\u001b[0m\u001b[0;34m\u001b[0m\u001b[0;34m\u001b[0m\u001b[0m\n\u001b[1;32m     12\u001b[0m                                                                                        \u001b[0;31m#(sls[sid] - np.nanmin(sls[sid]))**.5,\u001b[0m\u001b[0;34m\u001b[0m\u001b[0;34m\u001b[0m\u001b[0;34m\u001b[0m\u001b[0m\n",
      "\u001b[0;31mAttributeError\u001b[0m: 'StructureData' object has no attribute 'smoothed_losses_str'"
     ]
    }
   ],
   "source": [
    "twostage_str_creleaf2 = Crossval()\n",
    "\n",
    "gammas = np.asarray([0.001,0.01,0.1,1,10,100,1000,10000])\n",
    "#gammas = np.asarray([0.1,.5,1,2,10,20,40,100,1000,10000])\n",
    "loocvpredictions = {}\n",
    "reg_proj_norm= {}\n",
    "for sid in np.asarray(list(connectivity_data.structure_datas.keys())):\n",
    "    reg_proj_norm[sid ] = connectivity_data.structure_datas[sid].reg_proj_norm\n",
    "    loocvpredictions[sid] = get_nwloocv_predictions_multimodel_merge_dists(connectivity_data.structure_datas[sid].reg_proj_norm, \n",
    "                                                                                       connectivity_data.structure_datas[sid].smoothed_losses_str,#np.ones(losses.shape),#(losses - np.nanmin(losses))**2,#**6, \n",
    "                                                                                       #pds,                                       \n",
    "                                                                                       #(sls[sid] - np.nanmin(sls[sid]))**.5,\n",
    "                                                                                       gammas, \n",
    "                                                                                       connectivity_data.leaf2_index_matrices[sid], \n",
    "                                                                                       connectivity_data.leaf2_index_matrices[sid])                                  \n",
    "                                                                                       #screened_eval_indices[sid])                                  \n",
    "                                                                                       #indices_leaf2ormore[sid])\n",
    "            \n",
    "    \n",
    "    \n"
   ]
  },
  {
   "cell_type": "code",
   "execution_count": 9,
   "metadata": {
    "collapsed": true
   },
   "outputs": [],
   "source": [
    "connectivity_data.creleaf2_evalindices = get_eval_indices(connectivity_data.creleaf2_index_matrices)\n"
   ]
  },
  {
   "cell_type": "code",
   "execution_count": 10,
   "metadata": {},
   "outputs": [
    {
     "ename": "NameError",
     "evalue": "name 'gammas' is not defined",
     "output_type": "error",
     "traceback": [
      "\u001b[0;31m---------------------------------------------------------------------------\u001b[0m",
      "\u001b[0;31mNameError\u001b[0m                                 Traceback (most recent call last)",
      "\u001b[0;32m<ipython-input-10-f3e7d1e833e2>\u001b[0m in \u001b[0;36m<module>\u001b[0;34m\u001b[0m\n\u001b[0;32m----> 1\u001b[0;31m \u001b[0ma\u001b[0m\u001b[0;34m=\u001b[0m \u001b[0;34m[\u001b[0m\u001b[0mlist\u001b[0m\u001b[0;34m(\u001b[0m\u001b[0mrange\u001b[0m\u001b[0;34m(\u001b[0m\u001b[0mlen\u001b[0m\u001b[0;34m(\u001b[0m\u001b[0mgammas\u001b[0m\u001b[0;34m)\u001b[0m\u001b[0;34m)\u001b[0m\u001b[0;34m)\u001b[0m\u001b[0;34m]\u001b[0m\u001b[0;34m\u001b[0m\u001b[0;34m\u001b[0m\u001b[0m\n\u001b[0m\u001b[1;32m      2\u001b[0m \u001b[0mkeys\u001b[0m \u001b[0;34m=\u001b[0m \u001b[0mnp\u001b[0m\u001b[0;34m.\u001b[0m\u001b[0masarray\u001b[0m\u001b[0;34m(\u001b[0m\u001b[0mlist\u001b[0m\u001b[0;34m(\u001b[0m\u001b[0mitertools\u001b[0m\u001b[0;34m.\u001b[0m\u001b[0mproduct\u001b[0m\u001b[0;34m(\u001b[0m\u001b[0;34m*\u001b[0m\u001b[0ma\u001b[0m\u001b[0;34m)\u001b[0m\u001b[0;34m)\u001b[0m\u001b[0;34m)\u001b[0m\u001b[0;34m\u001b[0m\u001b[0;34m\u001b[0m\u001b[0m\n\u001b[1;32m      3\u001b[0m \u001b[0;34m\u001b[0m\u001b[0m\n\u001b[1;32m      4\u001b[0m \u001b[0mtwostage_str_creleaf2\u001b[0m\u001b[0;34m.\u001b[0m\u001b[0mloocvpredictions\u001b[0m \u001b[0;34m=\u001b[0m \u001b[0mloocvpredictions\u001b[0m\u001b[0;34m\u001b[0m\u001b[0;34m\u001b[0m\u001b[0m\n\u001b[1;32m      5\u001b[0m \u001b[0mtwostage_str_creleaf2\u001b[0m\u001b[0;34m.\u001b[0m\u001b[0mlosses\u001b[0m \u001b[0;34m=\u001b[0m \u001b[0mget_loss\u001b[0m\u001b[0;34m(\u001b[0m\u001b[0mreg_proj_norm\u001b[0m\u001b[0;34m,\u001b[0m \u001b[0mtwostage_str_creleaf2\u001b[0m\u001b[0;34m.\u001b[0m\u001b[0mloocvpredictions\u001b[0m\u001b[0;34m,\u001b[0m\u001b[0mpred_ind\u001b[0m \u001b[0;34m=\u001b[0m \u001b[0mconnectivity_data\u001b[0m\u001b[0;34m.\u001b[0m\u001b[0mcreleaf2_evalindices\u001b[0m\u001b[0;34m,\u001b[0m \u001b[0mtrue_ind\u001b[0m \u001b[0;34m=\u001b[0m \u001b[0mconnectivity_data\u001b[0m\u001b[0;34m.\u001b[0m\u001b[0mcreleaf2_evalindices\u001b[0m\u001b[0;34m,\u001b[0m\u001b[0mkeys\u001b[0m \u001b[0;34m=\u001b[0m \u001b[0mkeys\u001b[0m\u001b[0;34m)\u001b[0m\u001b[0;34m\u001b[0m\u001b[0;34m\u001b[0m\u001b[0m\n",
      "\u001b[0;31mNameError\u001b[0m: name 'gammas' is not defined"
     ]
    }
   ],
   "source": [
    "a= [list(range(len(gammas)))]\n",
    "keys = np.asarray(list(itertools.product(*a)))\n",
    "\n",
    "twostage_str_creleaf2.loocvpredictions = loocvpredictions\n",
    "twostage_str_creleaf2.losses = get_loss(reg_proj_norm, twostage_str_creleaf2.loocvpredictions,pred_ind = connectivity_data.creleaf2_evalindices, true_ind = connectivity_data.creleaf2_evalindices,keys = keys)\n",
    "twostage_str_creleaf2.bestgamma  = get_best_hyperparameters(twostage_str_creleaf2.losses,keys)\n",
    "twostage_str_creleaf2.meanloss = get_loss_best_hyp(twostage_str_creleaf2.losses, twostage_str_creleaf2.bestgamma)\n",
    "\n",
    "#meanloss_nw_leaf_leaf2wt\n",
    "#meanloss_nw_wtleaf_leaf2wt"
   ]
  },
  {
   "cell_type": "code",
   "execution_count": 21,
   "metadata": {},
   "outputs": [
    {
     "data": {
      "text/plain": [
       "array([0.02480253, 0.60140432, 0.09111914, 0.20309182, 0.16384254,\n",
       "       0.14736513, 0.11575248, 0.04578022, 0.23520951, 0.1241904 ,\n",
       "       0.04673123, 0.26290721])"
      ]
     },
     "execution_count": 21,
     "metadata": {},
     "output_type": "execute_result"
    }
   ],
   "source": [
    "twostage_str_creleaf2.meanloss"
   ]
  },
  {
   "cell_type": "code",
   "execution_count": 61,
   "metadata": {
    "collapsed": true
   },
   "outputs": [],
   "source": [
    "\n",
    "# from mcmodels.core import Mask\n",
    "\n",
    "# def get_connectivity_matrices3(connectivity_data, surfaces, cres, structures, model_ordering_leaf, model_region_surface, source_ordering, target_ordering, eval_cres):\n",
    "    \n",
    "#     nsource = len(source_ordering)\n",
    "#     #n#target = len(target_ordering)\n",
    "#     ncre = len(eval_cres)\n",
    "\n",
    "#     ipsi_target_regions = connectivity_data.ipsi_target_regions\n",
    "#     contra_target_regions = connectivity_data.contra_target_regions                               \n",
    "#     ipsi_indices= np.asarray([])\n",
    "#     contra_indices = np.asarray([])\n",
    "#     for iy in target_ordering: \n",
    "#         ipsi_indices = np.concatenate([ipsi_indices, np.where(ipsi_target_regions==iy)[0]] )\n",
    "#         contra_indices = np.concatenate([contra_indices, np.where(contra_target_regions==iy)[0]] )\n",
    "#     ipsi_indices = np.asarray(ipsi_indices, dtype = int)   \n",
    "#     contra_indices = np.asarray(contra_indices, dtype = int)    \n",
    "#     reorder = np.concatenate([ipsi_indices, len(ipsi_indices) + contra_indices])  \n",
    "#     ntarget = len(reorder)\n",
    "      \n",
    "#     connectivity = np.zeros((ncre, nsource, ntarget))\n",
    "#     connectivity[:] = np.nan\n",
    "#     #structure_major_dictionary = connectivity_data.structure_major_dictionary\n",
    "#     for c in range(ncre):\n",
    "#         for i in range(nsource):\n",
    "#             print(i,source_ordering[i])\n",
    "#             sid = model_ordering[i,0]#structure_major_dictionary[source_ordering[i]]\n",
    "#             gamma = gamma_dict[sid]\n",
    "#             connectivity[c,i] = get_region_prediction3(cache,\n",
    "#                                                       connectivity_data.structure_datas[sid],\n",
    "#                                                       exp_structures = structures[sid],\n",
    "#                                                       model_region_leaf = model_ordering_leaf[i,1],\n",
    "#                                                        model_region_surface = model_region_surface[i,1],\n",
    "#                                                       prediction_region= source_ordering[i],\n",
    "#                                                       cre = eval_cres[c],\n",
    "#                                                       gamma = surfaces[sid].bestgamma,\n",
    "#                                                       surface = surfaces[sid],\n",
    "#                                                       cre_model = True)\n",
    "                                                      \n",
    "#     connectivity = connectivity[:,:,reorder]                                                  \n",
    "                                                      \n",
    "#     return(connectivity)\n",
    "\n",
    "# def get_region_prediction3(cache, structure_data,  exp_structures, model_region_surface, model_region_leaf, prediction_region, cre, gamma, surface = None, cre_model = False):\n",
    "    \n",
    "#     #model_experiments = np.where(exp_structures == model_region)[0]\n",
    "#     model_experiments_leaf = np.where(exp_structures == model_region_leaf)[0]\n",
    "#     nexp = len(model_experiments_leaf)\n",
    "    \n",
    "#     cres = structure_data.crelines[model_experiments_leaf]\n",
    "#     mask = Mask.from_cache(cache,structure_ids=[prediction_region],hemisphere_id=2)\n",
    "\n",
    "# #     if surface != None and cre_model != True:\n",
    "# #         means = get_means(projections,cres, np.repeat(model_region,nexp))\n",
    "        \n",
    "# #         losses = get_embedding(surface, pairwise_distances(centroids, mask.coordinates)**2, cres, cre, means[model_region])\n",
    "# #         predictions = get_nw_predictions(projections, losses, gamma)\n",
    "# #         output = np.mean(predictions, axis = 0)\n",
    "        \n",
    "#     if surface != None and cre_model == True:\n",
    "#         projections = structure_data.reg_proj_norm[model_experiments_leaf]\n",
    "#         centroids = structure_data.centroids[model_experiments_leaf]#model_region_leaf\n",
    "#         means = get_means(projections, cres, np.repeat(model_region_surface,nexp))\n",
    "#         #print(means)\n",
    "#         print(prediction_region)\n",
    "#         #print(prediction_region, model_region,means.keys())\n",
    "#         #supposed to check if theres a cre in that region\n",
    "#         if np.isin(model_region_surface, list(means.keys())):\n",
    "#             if np.isin(cre, np.asarray(list(means[model_region_surface].keys()))):\n",
    "#                 losses = get_embedding(surface, pairwise_distances(centroids, mask.coordinates)**2, cres, cre, means[model_region_surface])\n",
    "#                 predictions = get_nw_predictions(projections, losses, gamma)\n",
    "#                 output = np.mean(predictions, axis = 0)\n",
    "#             else:\n",
    "#                 output = np.zeros(projections.shape[1])\n",
    "#                 output[:] = np.nan\n",
    "#         else:\n",
    "#             output = np.zeros(projections.shape[1])\n",
    "#             output[:] = np.nan           \n",
    "# #     if surface == None and cre_model != True:\n",
    "# #         means = get_means(projections, cres, [model_region])\n",
    "# #         predictions = means[cres]\n",
    "# #         output = np.mean(predictions, axis = 0)\n",
    "        \n",
    "#     if surface == None and cre_model == True:\n",
    "        \n",
    "        \n",
    "#         modelcre_experiments = np.where(cres == cre)[0]\n",
    "#         if len(modelcre_experiments)>0:\n",
    "#             projections = structure_data.reg_proj_norm[model_experiments][modelcre_experiments]\n",
    "#             centroids = structure_data.centroids[model_experiments][modelcre_experiments]\n",
    "#             #print((pairwise_distances(centroids, mask.coordinates)**2).shape)\n",
    "#             predictions = get_nw_predictions(projections, pairwise_distances(centroids, mask.coordinates)**2, gamma)\n",
    "#             output = np.mean(predictions, axis = 0)\n",
    "#         else:\n",
    "#             output = np.zeros(structure_data.reg_proj_norm.shape[1])\n",
    "#             output[:] = np.nan  \n",
    "            \n",
    "#     if surface == None and cre_model == False:\n",
    "        \n",
    "#         if len(model_experiments)>0:\n",
    "#             projections = structure_data.reg_proj_norm[model_experiments]\n",
    "#             centroids = structure_data.centroids[model_experiments]\n",
    "#             predictions = get_nw_predictions(projections, pairwise_distances(centroids, mask.coordinates)**2, gamma)\n",
    "#             output = np.mean(predictions, axis = 0)\n",
    "#         else:\n",
    "#             output = np.zeros(structure_data.reg_proj_norm.shape[1])\n",
    "#             output[:] = np.nan  \n",
    "        \n",
    "#     return(output)\n"
   ]
  },
  {
   "cell_type": "code",
   "execution_count": 28,
   "metadata": {
    "collapsed": true
   },
   "outputs": [],
   "source": [
    "surfaces_str = {}\n",
    "#surfaces_leaf = {}\n",
    "for m in range(12):\n",
    "    sid = major_structure_ids[m]\n",
    "    surfaces_str[sid] = connectivity_data.structure_datas[sid].loss_surface_cv_str\n",
    "    surfaces_str[sid].bestgamma =  gammas[twostage_str_creleaf2.bestgamma[m]]"
   ]
  },
  {
   "cell_type": "code",
   "execution_count": 37,
   "metadata": {
    "collapsed": true
   },
   "outputs": [],
   "source": []
  },
  {
   "cell_type": "code",
   "execution_count": 40,
   "metadata": {
    "collapsed": true
   },
   "outputs": [],
   "source": [
    "def get_aligned_ids(list1,list2):\n",
    "    output = np.empty(len(list1), dtype = int)\n",
    "    for i in range(len(ontological_order_leaves)):\n",
    "        output[ i] = np.intersect1d(st.ancestor_ids([list1[i]]), list2)[0]\n",
    "    return(output)\n",
    "eval_cres = ['C57BL/6J']\n",
    "ontological_order_leaves_majors = get_aligned_ids(ontological_order_leaves,major_structure_ids)\n",
    "ontological_order_leaves_summary = get_aligned_ids(ontological_order_leaves,ontological_order)\n",
    "\n"
   ]
  },
  {
   "cell_type": "code",
   "execution_count": 102,
   "metadata": {
    "collapsed": true
   },
   "outputs": [],
   "source": [
    "model_ordering_leafs = np.asarray([ontological_order_leaves_majors,ontological_order_leaves]).transpose()\n",
    "model_ordering_summaries = np.asarray([ontological_order_leaves_majors,ontological_order_leaves_summary]).transpose()"
   ]
  },
  {
   "cell_type": "code",
   "execution_count": 42,
   "metadata": {
    "collapsed": true
   },
   "outputs": [],
   "source": [
    "gamma_dict = {}\n",
    "for i in range(12):\n",
    "    gamma_dict[major_structure_ids[i]] = gammas[twostage_str_creleaf2.bestgamma[i,0]]\n",
    "    "
   ]
  },
  {
   "cell_type": "code",
   "execution_count": 57,
   "metadata": {
    "collapsed": true
   },
   "outputs": [],
   "source": [
    "for sid in major_structure_ids:\n",
    "    connectivity_data.structure_datas[sid].crelines = connectivity_data.creline[sid]"
   ]
  },
  {
   "cell_type": "code",
   "execution_count": 66,
   "metadata": {
    "collapsed": true
   },
   "outputs": [],
   "source": []
  },
  {
   "cell_type": "code",
   "execution_count": 68,
   "metadata": {
    "collapsed": true
   },
   "outputs": [],
   "source": []
  },
  {
   "cell_type": "code",
   "execution_count": 69,
   "metadata": {},
   "outputs": [
    {
     "name": "stdout",
     "output_type": "stream",
     "text": [
      "0 68.0\n",
      "68.0\n",
      "1 667.0\n",
      "667.0\n",
      "2 526157192.0\n",
      "526157192.0\n",
      "3 526157196.0\n",
      "526157196.0\n",
      "4 526322264.0\n",
      "526322264.0\n",
      "5 320.0\n",
      "320.0\n",
      "6 943.0\n",
      "943.0\n",
      "7 648.0\n",
      "648.0\n",
      "8 844.0\n",
      "844.0\n",
      "9 882.0\n",
      "882.0\n",
      "10 656.0\n",
      "656.0\n",
      "11 962.0\n",
      "962.0\n",
      "12 767.0\n",
      "767.0\n",
      "13 1021.0\n",
      "1021.0\n",
      "14 1085.0\n",
      "1085.0\n",
      "15 558.0\n",
      "558.0\n",
      "16 838.0\n",
      "838.0\n",
      "17 654.0\n",
      "654.0\n",
      "18 702.0\n",
      "702.0\n",
      "19 889.0\n",
      "889.0\n",
      "20 929.0\n",
      "929.0\n",
      "21 981.0\n",
      "981.0\n",
      "22 201.0\n",
      "201.0\n",
      "23 1047.0\n",
      "1047.0\n",
      "24 1070.0\n",
      "1070.0\n",
      "25 1038.0\n",
      "1038.0\n",
      "26 1062.0\n",
      "1062.0\n",
      "27 1030.0\n",
      "1030.0\n",
      "28 113.0\n",
      "113.0\n",
      "29 1094.0\n",
      "1094.0\n",
      "30 1128.0\n",
      "1128.0\n",
      "31 478.0\n",
      "478.0\n",
      "32 510.0\n",
      "510.0\n",
      "33 878.0\n",
      "878.0\n",
      "34 657.0\n",
      "657.0\n",
      "35 950.0\n",
      "950.0\n",
      "36 974.0\n",
      "974.0\n",
      "37 1102.0\n",
      "1102.0\n",
      "38 2.0\n",
      "2.0\n",
      "39 450.0\n",
      "450.0\n",
      "40 854.0\n",
      "854.0\n",
      "41 577.0\n",
      "577.0\n",
      "42 625.0\n",
      "625.0\n",
      "43 945.0\n",
      "945.0\n",
      "44 1026.0\n",
      "1026.0\n",
      "45 1006.0\n",
      "1006.0\n",
      "46 670.0\n",
      "670.0\n",
      "47 1086.0\n",
      "1086.0\n",
      "48 1111.0\n",
      "1111.0\n",
      "49 9.0\n",
      "9.0\n",
      "50 461.0\n",
      "461.0\n",
      "51 182305693.0\n",
      "182305693.0\n",
      "52 182305697.0\n",
      "182305697.0\n",
      "53 182305701.0\n",
      "182305701.0\n",
      "54 182305705.0\n",
      "182305705.0\n",
      "55 182305709.0\n",
      "182305709.0\n",
      "56 182305713.0\n",
      "182305713.0\n",
      "57 873.0\n",
      "873.0\n",
      "58 806.0\n",
      "806.0\n",
      "59 1035.0\n",
      "1035.0\n",
      "60 1090.0\n",
      "1090.0\n",
      "61 862.0\n",
      "862.0\n",
      "62 893.0\n",
      "893.0\n",
      "63 36.0\n",
      "36.0\n",
      "64 180.0\n",
      "180.0\n",
      "65 148.0\n",
      "148.0\n",
      "66 187.0\n",
      "187.0\n",
      "67 638.0\n",
      "638.0\n",
      "68 662.0\n",
      "662.0\n",
      "69 897.0\n",
      "897.0\n",
      "70 1106.0\n",
      "1106.0\n",
      "71 1010.0\n",
      "1010.0\n",
      "72 1058.0\n",
      "1058.0\n",
      "73 857.0\n",
      "857.0\n",
      "74 849.0\n",
      "849.0\n",
      "75 527.0\n",
      "527.0\n",
      "76 600.0\n",
      "600.0\n",
      "77 678.0\n",
      "678.0\n",
      "78 252.0\n",
      "252.0\n",
      "79 156.0\n",
      "156.0\n",
      "80 243.0\n",
      "243.0\n",
      "81 735.0\n",
      "735.0\n",
      "82 251.0\n",
      "251.0\n",
      "83 816.0\n",
      "816.0\n",
      "84 847.0\n",
      "847.0\n",
      "85 954.0\n",
      "954.0\n",
      "86 1005.0\n",
      "1005.0\n",
      "87 696.0\n",
      "696.0\n",
      "88 643.0\n",
      "643.0\n",
      "89 759.0\n",
      "759.0\n",
      "90 791.0\n",
      "791.0\n",
      "91 249.0\n",
      "249.0\n",
      "92 456.0\n",
      "456.0\n",
      "93 959.0\n",
      "959.0\n",
      "94 755.0\n",
      "755.0\n",
      "95 990.0\n",
      "990.0\n",
      "96 1023.0\n",
      "1023.0\n",
      "97 520.0\n",
      "520.0\n",
      "98 598.0\n",
      "598.0\n",
      "99 1074.0\n",
      "1074.0\n",
      "100 905.0\n",
      "905.0\n",
      "101 1114.0\n",
      "1114.0\n",
      "102 233.0\n",
      "233.0\n",
      "103 601.0\n",
      "601.0\n",
      "104 649.0\n",
      "649.0\n",
      "105 281.0\n",
      "281.0\n",
      "106 1066.0\n",
      "1066.0\n",
      "107 401.0\n",
      "401.0\n",
      "108 433.0\n",
      "433.0\n",
      "109 1046.0\n",
      "1046.0\n",
      "110 441.0\n",
      "441.0\n",
      "111 421.0\n",
      "421.0\n",
      "112 973.0\n",
      "973.0\n",
      "113 573.0\n",
      "573.0\n",
      "114 613.0\n",
      "613.0\n",
      "115 74.0\n",
      "74.0\n",
      "116 121.0\n",
      "121.0\n",
      "117 593.0\n",
      "593.0\n",
      "118 821.0\n",
      "821.0\n",
      "119 721.0\n",
      "721.0\n",
      "120 778.0\n",
      "778.0\n",
      "121 33.0\n",
      "33.0\n",
      "122 305.0\n",
      "305.0\n",
      "123 750.0\n",
      "750.0\n",
      "124 269.0\n",
      "269.0\n",
      "125 869.0\n",
      "869.0\n",
      "126 902.0\n",
      "902.0\n",
      "127 377.0\n",
      "377.0\n",
      "128 393.0\n",
      "393.0\n",
      "129 805.0\n",
      "805.0\n",
      "130 41.0\n",
      "41.0\n",
      "131 501.0\n",
      "501.0\n",
      "132 565.0\n",
      "565.0\n",
      "133 257.0\n",
      "257.0\n",
      "134 469.0\n",
      "469.0\n",
      "135 312782578.0\n",
      "312782578.0\n",
      "136 312782582.0\n",
      "312782582.0\n",
      "137 312782586.0\n",
      "312782586.0\n",
      "138 312782590.0\n",
      "312782590.0\n",
      "139 312782594.0\n",
      "312782594.0\n",
      "140 312782598.0\n",
      "312782598.0\n",
      "141 312782632.0\n",
      "312782632.0\n",
      "142 312782636.0\n",
      "312782636.0\n",
      "143 312782640.0\n",
      "312782640.0\n",
      "144 312782644.0\n",
      "312782644.0\n",
      "145 312782648.0\n",
      "312782648.0\n",
      "146 312782652.0\n",
      "312782652.0\n",
      "147 935.0\n",
      "935.0\n",
      "148 211.0\n",
      "211.0\n",
      "149 1015.0\n",
      "1015.0\n",
      "150 919.0\n",
      "919.0\n",
      "151 927.0\n",
      "927.0\n",
      "152 588.0\n",
      "588.0\n",
      "153 296.0\n",
      "296.0\n",
      "154 772.0\n",
      "772.0\n",
      "155 810.0\n",
      "810.0\n",
      "156 819.0\n",
      "819.0\n",
      "157 171.0\n",
      "171.0\n",
      "158 304.0\n",
      "304.0\n",
      "159 363.0\n",
      "363.0\n",
      "160 84.0\n",
      "84.0\n",
      "161 132.0\n",
      "132.0\n",
      "162 707.0\n",
      "707.0\n",
      "163 556.0\n",
      "556.0\n",
      "164 827.0\n",
      "827.0\n",
      "165 1054.0\n",
      "1054.0\n",
      "166 1081.0\n",
      "1081.0\n",
      "167 448.0\n",
      "448.0\n",
      "168 412.0\n",
      "412.0\n",
      "169 630.0\n",
      "630.0\n",
      "170 440.0\n",
      "440.0\n",
      "171 488.0\n",
      "488.0\n",
      "172 484.0\n",
      "484.0\n",
      "173 582.0\n",
      "582.0\n",
      "174 620.0\n",
      "620.0\n",
      "175 910.0\n",
      "910.0\n",
      "176 527696977.0\n",
      "527696977.0\n",
      "177 969.0\n",
      "969.0\n",
      "178 288.0\n",
      "288.0\n",
      "179 1125.0\n",
      "1125.0\n",
      "180 608.0\n",
      "608.0\n",
      "181 680.0\n",
      "680.0\n",
      "182 996.0\n",
      "996.0\n",
      "183 328.0\n",
      "328.0\n",
      "184 1101.0\n",
      "1101.0\n",
      "185 783.0\n",
      "783.0\n",
      "186 831.0\n",
      "831.0\n",
      "187 120.0\n",
      "120.0\n",
      "188 163.0\n",
      "163.0\n",
      "189 344.0\n",
      "344.0\n",
      "190 314.0\n",
      "314.0\n",
      "191 355.0\n",
      "355.0\n",
      "192 704.0\n",
      "704.0\n",
      "193 694.0\n",
      "694.0\n",
      "194 800.0\n",
      "800.0\n",
      "195 675.0\n",
      "675.0\n",
      "196 699.0\n",
      "699.0\n",
      "197 671.0\n",
      "671.0\n",
      "198 965.0\n",
      "965.0\n",
      "199 774.0\n",
      "774.0\n",
      "200 906.0\n",
      "906.0\n",
      "201 279.0\n",
      "279.0\n",
      "202 442.0\n",
      "442.0\n",
      "203 434.0\n",
      "434.0\n",
      "204 610.0\n",
      "610.0\n",
      "205 274.0\n",
      "274.0\n",
      "206 330.0\n",
      "330.0\n",
      "207 542.0\n",
      "542.0\n",
      "208 430.0\n",
      "430.0\n",
      "209 687.0\n",
      "687.0\n",
      "210 590.0\n",
      "590.0\n",
      "211 622.0\n",
      "622.0\n",
      "212 312782550.0\n",
      "312782550.0\n",
      "213 312782554.0\n",
      "312782554.0\n",
      "214 312782558.0\n",
      "312782558.0\n",
      "215 312782562.0\n",
      "312782562.0\n",
      "216 312782566.0\n",
      "312782566.0\n",
      "217 312782570.0\n",
      "312782570.0\n",
      "218 312782604.0\n",
      "312782604.0\n",
      "219 312782608.0\n",
      "312782608.0\n",
      "220 312782612.0\n",
      "312782612.0\n",
      "221 312782616.0\n",
      "312782616.0\n",
      "222 312782620.0\n",
      "312782620.0\n",
      "223 312782624.0\n",
      "312782624.0\n",
      "224 97.0\n",
      "97.0\n",
      "225 1127.0\n",
      "1127.0\n",
      "226 234.0\n",
      "234.0\n",
      "227 289.0\n",
      "289.0\n",
      "228 729.0\n",
      "729.0\n",
      "229 786.0\n",
      "786.0\n",
      "230 540.0\n",
      "540.0\n",
      "231 888.0\n",
      "888.0\n",
      "232 692.0\n",
      "692.0\n",
      "233 335.0\n",
      "335.0\n",
      "234 368.0\n",
      "368.0\n",
      "235 836.0\n",
      "836.0\n",
      "236 427.0\n",
      "427.0\n",
      "237 988.0\n",
      "988.0\n",
      "238 977.0\n",
      "977.0\n",
      "239 1045.0\n",
      "1045.0\n",
      "240 507.0\n",
      "507.0\n",
      "241 188.0\n",
      "188.0\n",
      "242 196.0\n",
      "196.0\n",
      "243 204.0\n",
      "204.0\n",
      "244 159.0\n",
      "159.0\n",
      "245 597.0\n",
      "597.0\n",
      "246 605.0\n",
      "605.0\n",
      "247 814.0\n",
      "814.0\n",
      "248 961.0\n",
      "961.0\n",
      "249 260.0\n",
      "260.0\n",
      "250 268.0\n",
      "268.0\n",
      "251 1139.0\n",
      "1139.0\n",
      "252 639.0\n",
      "639.0\n",
      "253 655.0\n",
      "655.0\n",
      "254 663.0\n",
      "663.0\n",
      "255 788.0\n",
      "788.0\n",
      "256 566.0\n",
      "566.0\n",
      "257 382.0\n",
      "382.0\n",
      "258 423.0\n",
      "423.0\n",
      "259 463.0\n",
      "463.0\n",
      "260 10703.0\n",
      "10703.0\n",
      "261 10704.0\n",
      "10704.0\n",
      "262 632.0\n",
      "632.0\n",
      "263 982.0\n",
      "982.0\n",
      "264 19.0\n",
      "19.0\n",
      "265 1121.0\n",
      "1121.0\n",
      "266 20.0\n",
      "20.0\n",
      "267 52.0\n",
      "52.0\n",
      "268 139.0\n",
      "139.0\n",
      "269 28.0\n",
      "28.0\n",
      "270 526.0\n",
      "526.0\n",
      "271 543.0\n",
      "543.0\n",
      "272 664.0\n",
      "664.0\n",
      "273 727.0\n",
      "727.0\n",
      "274 743.0\n",
      "743.0\n",
      "275 843.0\n",
      "843.0\n",
      "276 1037.0\n",
      "1037.0\n",
      "277 1084.0\n",
      "1084.0\n",
      "278 502.0\n",
      "502.0\n",
      "279 583.0\n",
      "583.0\n",
      "280 952.0\n",
      "952.0\n",
      "281 966.0\n",
      "966.0\n",
      "282 131.0\n",
      "131.0\n",
      "283 303.0\n",
      "303.0\n",
      "284 311.0\n",
      "311.0\n",
      "285 451.0\n",
      "451.0\n",
      "286 327.0\n",
      "327.0\n",
      "287 334.0\n",
      "334.0\n",
      "288 780.0\n",
      "780.0\n",
      "289 672.0\n",
      "672.0\n",
      "290 56.0\n",
      "56.0\n",
      "291 998.0\n",
      "998.0\n",
      "292 754.0\n",
      "754.0\n",
      "293 250.0\n",
      "250.0\n",
      "294 258.0\n",
      "258.0\n",
      "295 266.0\n",
      "266.0\n",
      "296 310.0\n",
      "310.0\n",
      "297 333.0\n",
      "333.0\n",
      "298 23.0\n",
      "23.0\n",
      "299 292.0\n",
      "292.0\n",
      "300 544.0\n",
      "544.0\n",
      "301 551.0\n",
      "551.0\n",
      "302 559.0\n",
      "559.0\n",
      "303 1105.0\n",
      "1105.0\n",
      "304 403.0\n",
      "403.0\n",
      "305 1022.0\n",
      "1022.0\n",
      "306 1031.0\n",
      "1031.0\n",
      "307 342.0\n",
      "342.0\n",
      "308 298.0\n",
      "298.0\n",
      "309 564.0\n",
      "564.0\n",
      "310 596.0\n",
      "596.0\n",
      "311 581.0\n",
      "581.0\n",
      "312 351.0\n",
      "351.0\n",
      "313 287.0\n",
      "287.0\n",
      "314 629.0\n",
      "629.0\n",
      "315 685.0\n",
      "685.0\n",
      "316 718.0\n",
      "718.0\n",
      "317 725.0\n",
      "725.0\n",
      "318 733.0\n",
      "733.0\n",
      "319 741.0\n",
      "741.0\n",
      "320 414.0\n",
      "414.0\n",
      "321 422.0\n",
      "422.0\n",
      "322 609.0\n",
      "609.0\n",
      "323 1044.0\n",
      "1044.0\n",
      "324 1072.0\n",
      "1072.0\n",
      "325 1079.0\n",
      "1079.0\n",
      "326 1088.0\n",
      "1088.0\n",
      "327 496345664.0\n",
      "496345664.0\n",
      "328 496345668.0\n",
      "496345668.0\n",
      "329 496345672.0\n",
      "496345672.0\n",
      "330 218.0\n",
      "218.0\n",
      "331 1020.0\n",
      "1020.0\n",
      "332 1029.0\n",
      "1029.0\n",
      "333 325.0\n",
      "325.0\n",
      "334 255.0\n",
      "255.0\n",
      "335 1096.0\n",
      "1096.0\n",
      "336 1104.0\n",
      "1104.0\n",
      "337 64.0\n",
      "64.0\n",
      "338 1120.0\n",
      "1120.0\n",
      "339 1113.0\n",
      "1113.0\n",
      "340 155.0\n",
      "155.0\n",
      "341 59.0\n",
      "59.0\n",
      "342 362.0\n",
      "362.0\n",
      "343 366.0\n",
      "366.0\n",
      "344 1077.0\n",
      "1077.0\n",
      "345 149.0\n",
      "149.0\n",
      "346 15.0\n",
      "15.0\n",
      "347 181.0\n",
      "181.0\n",
      "348 189.0\n",
      "189.0\n",
      "349 599.0\n",
      "599.0\n",
      "350 907.0\n",
      "907.0\n",
      "351 575.0\n",
      "575.0\n",
      "352 930.0\n",
      "930.0\n",
      "353 262.0\n",
      "262.0\n",
      "354 27.0\n",
      "27.0\n",
      "355 178.0\n",
      "178.0\n",
      "356 321.0\n",
      "321.0\n",
      "357 483.0\n",
      "483.0\n",
      "358 186.0\n",
      "186.0\n",
      "359 390.0\n",
      "390.0\n",
      "360 332.0\n",
      "332.0\n",
      "361 38.0\n",
      "38.0\n",
      "362 30.0\n",
      "30.0\n",
      "363 118.0\n",
      "118.0\n",
      "364 223.0\n",
      "223.0\n",
      "365 72.0\n",
      "72.0\n",
      "366 263.0\n",
      "263.0\n",
      "367 272.0\n",
      "272.0\n",
      "368 830.0\n",
      "830.0\n",
      "369 452.0\n",
      "452.0\n",
      "370 523.0\n",
      "523.0\n",
      "371 763.0\n",
      "763.0\n",
      "372 914.0\n",
      "914.0\n",
      "373 1109.0\n",
      "1109.0\n",
      "374 126.0\n",
      "126.0\n",
      "375 133.0\n",
      "133.0\n",
      "376 347.0\n",
      "347.0\n",
      "377 286.0\n",
      "286.0\n",
      "378 338.0\n",
      "338.0\n",
      "379 689.0\n",
      "689.0\n",
      "380 88.0\n",
      "88.0\n",
      "381 210.0\n",
      "210.0\n",
      "382 732.0\n",
      "732.0\n",
      "383 606826647.0\n",
      "606826647.0\n",
      "384 606826651.0\n",
      "606826651.0\n",
      "385 606826655.0\n",
      "606826655.0\n",
      "386 606826659.0\n",
      "606826659.0\n",
      "387 525.0\n",
      "525.0\n",
      "388 1126.0\n",
      "1126.0\n",
      "389 1.0\n",
      "1.0\n",
      "390 515.0\n",
      "515.0\n",
      "391 980.0\n",
      "980.0\n",
      "392 1004.0\n",
      "1004.0\n",
      "393 63.0\n",
      "63.0\n",
      "394 693.0\n",
      "693.0\n",
      "395 946.0\n",
      "946.0\n",
      "396 194.0\n",
      "194.0\n",
      "397 226.0\n",
      "226.0\n",
      "398 356.0\n",
      "356.0\n",
      "399 364.0\n",
      "364.0\n",
      "400 173.0\n",
      "173.0\n",
      "401 470.0\n",
      "470.0\n",
      "402 614.0\n",
      "614.0\n",
      "403 804.0\n",
      "804.0\n",
      "404 851.0\n",
      "851.0\n",
      "405 842.0\n",
      "842.0\n",
      "406 834.0\n",
      "834.0\n",
      "407 811.0\n",
      "811.0\n",
      "408 820.0\n",
      "820.0\n",
      "409 828.0\n",
      "828.0\n",
      "410 580.0\n",
      "580.0\n",
      "411 271.0\n",
      "271.0\n",
      "412 874.0\n",
      "874.0\n",
      "413 460.0\n",
      "460.0\n",
      "414 381.0\n",
      "381.0\n",
      "415 749.0\n",
      "749.0\n",
      "416 246.0\n",
      "246.0\n",
      "417 128.0\n",
      "128.0\n",
      "418 26.0\n",
      "26.0\n",
      "419 42.0\n",
      "42.0\n",
      "420 17.0\n",
      "17.0\n",
      "421 10.0\n",
      "10.0\n",
      "422 50.0\n",
      "50.0\n",
      "423 67.0\n",
      "67.0\n",
      "424 587.0\n",
      "587.0\n",
      "425 614454277.0\n",
      "614454277.0\n",
      "426 215.0\n",
      "215.0\n",
      "427 531.0\n",
      "531.0\n",
      "428 628.0\n",
      "628.0\n",
      "429 634.0\n",
      "634.0\n",
      "430 706.0\n",
      "706.0\n",
      "431 1061.0\n",
      "1061.0\n",
      "432 616.0\n",
      "616.0\n",
      "433 214.0\n",
      "214.0\n",
      "434 35.0\n",
      "35.0\n",
      "435 975.0\n",
      "975.0\n",
      "436 115.0\n",
      "115.0\n",
      "437 757.0\n",
      "757.0\n",
      "438 231.0\n",
      "231.0\n",
      "439 66.0\n",
      "66.0\n",
      "440 374.0\n",
      "374.0\n",
      "441 1052.0\n",
      "1052.0\n",
      "442 12.0\n",
      "12.0\n",
      "443 607344834.0\n",
      "607344834.0\n",
      "444 607344838.0\n",
      "607344838.0\n",
      "445 607344842.0\n",
      "607344842.0\n",
      "446 607344846.0\n",
      "607344846.0\n",
      "447 607344850.0\n",
      "607344850.0\n",
      "448 607344854.0\n",
      "607344854.0\n",
      "449 607344858.0\n",
      "607344858.0\n",
      "450 607344862.0\n",
      "607344862.0\n",
      "451 197.0\n",
      "197.0\n",
      "452 591.0\n",
      "591.0\n",
      "453 872.0\n",
      "872.0\n",
      "454 612.0\n",
      "612.0\n",
      "455 7.0\n",
      "7.0\n",
      "456 123.0\n",
      "123.0\n",
      "457 122.0\n",
      "122.0\n",
      "458 105.0\n",
      "105.0\n",
      "459 114.0\n",
      "114.0\n",
      "460 280.0\n",
      "280.0\n",
      "461 880.0\n",
      "880.0\n",
      "462 898.0\n",
      "898.0\n",
      "463 931.0\n",
      "931.0\n",
      "464 1093.0\n",
      "1093.0\n",
      "465 318.0\n",
      "318.0\n",
      "466 534.0\n",
      "534.0\n",
      "467 574.0\n",
      "574.0\n",
      "468 621.0\n",
      "621.0\n",
      "469 679.0\n",
      "679.0\n",
      "470 147.0\n",
      "147.0\n",
      "471 162.0\n",
      "162.0\n",
      "472 604.0\n",
      "604.0\n",
      "473 146.0\n",
      "146.0\n",
      "474 238.0\n",
      "238.0\n",
      "475 350.0\n",
      "350.0\n",
      "476 358.0\n",
      "358.0\n",
      "477 207.0\n",
      "207.0\n",
      "478 96.0\n",
      "96.0\n",
      "479 101.0\n"
     ]
    },
    {
     "name": "stdout",
     "output_type": "stream",
     "text": [
      "101.0\n",
      "480 711.0\n",
      "711.0\n",
      "481 1039.0\n",
      "1039.0\n",
      "482 903.0\n",
      "903.0\n",
      "483 642.0\n",
      "642.0\n",
      "484 651.0\n",
      "651.0\n",
      "485 429.0\n",
      "429.0\n",
      "486 437.0\n",
      "437.0\n",
      "487 445.0\n",
      "445.0\n",
      "488 653.0\n",
      "653.0\n",
      "489 661.0\n",
      "661.0\n",
      "490 576.0\n",
      "576.0\n",
      "491 939.0\n",
      "939.0\n",
      "492 143.0\n",
      "143.0\n",
      "493 839.0\n",
      "839.0\n",
      "494 1048.0\n",
      "1048.0\n",
      "495 372.0\n",
      "372.0\n",
      "496 83.0\n",
      "83.0\n",
      "497 136.0\n",
      "136.0\n",
      "498 106.0\n",
      "106.0\n",
      "499 203.0\n",
      "203.0\n",
      "500 955.0\n",
      "955.0\n",
      "501 963.0\n",
      "963.0\n",
      "502 307.0\n",
      "307.0\n",
      "503 1098.0\n",
      "1098.0\n",
      "504 1107.0\n",
      "1107.0\n",
      "505 852.0\n",
      "852.0\n",
      "506 859.0\n",
      "859.0\n",
      "507 970.0\n",
      "970.0\n",
      "508 978.0\n",
      "978.0\n",
      "509 177.0\n",
      "177.0\n",
      "510 169.0\n",
      "169.0\n",
      "511 1069.0\n",
      "1069.0\n",
      "512 209.0\n",
      "209.0\n",
      "513 202.0\n",
      "202.0\n",
      "514 225.0\n",
      "225.0\n",
      "515 217.0\n",
      "217.0\n",
      "516 765.0\n",
      "765.0\n",
      "517 773.0\n",
      "773.0\n",
      "518 781.0\n",
      "781.0\n",
      "519 206.0\n",
      "206.0\n",
      "520 230.0\n",
      "230.0\n",
      "521 222.0\n",
      "222.0\n",
      "522 912.0\n",
      "912.0\n",
      "523 976.0\n",
      "976.0\n",
      "524 984.0\n",
      "984.0\n",
      "525 1091.0\n",
      "1091.0\n",
      "526 936.0\n",
      "936.0\n",
      "527 944.0\n",
      "944.0\n",
      "528 951.0\n",
      "951.0\n",
      "529 957.0\n",
      "957.0\n",
      "530 968.0\n",
      "968.0\n",
      "531 1007.0\n",
      "1007.0\n",
      "532 1056.0\n",
      "1056.0\n",
      "533 1064.0\n",
      "1064.0\n",
      "534 1025.0\n",
      "1025.0\n",
      "535 1033.0\n",
      "1033.0\n",
      "536 1041.0\n",
      "1041.0\n",
      "537 1049.0\n",
      "1049.0\n",
      "538 989.0\n",
      "989.0\n",
      "539 91.0\n",
      "91.0\n",
      "540 846.0\n",
      "846.0\n"
     ]
    }
   ],
   "source": [
    "connectivity_matrices = get_connectivity_matrices3(connectivity_data, \n",
    "                                                   surfaces = surfaces_str,\n",
    "                                                   cres = crelist,\n",
    "                                                  structures = leafs,\n",
    "                                                  model_ordering_leaf = model_ordering_leaf,\n",
    "                                                   model_region_surface = model_ordering_summary,\n",
    "                                                  eval_cres = eval_cres,\n",
    "                                                  source_ordering = ontological_order_leaves,\n",
    "                                                  target_ordering= ontological_order_leaves)"
   ]
  },
  {
   "cell_type": "code",
   "execution_count": 73,
   "metadata": {
    "collapsed": true
   },
   "outputs": [],
   "source": [
    "#connectivity_data\n",
    "#surfaces = surfaces,\n",
    "#cres = crelist\n",
    "#structures = summary_structures\n",
    "#model_ordering = np.asarray([[315,385],[315,385]])#[230:231]\n",
    "#eval_cres = eval_cres,\n",
    "#source_ordering = np.asarray([821,721])#[230:231],\n",
    "#target_ordering= np.asarray([821,721])\n",
    "target_ordering= ontological_order_leaves"
   ]
  },
  {
   "cell_type": "code",
   "execution_count": 74,
   "metadata": {
    "collapsed": true
   },
   "outputs": [],
   "source": [
    "rnames = np.asarray([ia_map[ontological_order_leaves[i]] for i in range(len(ontological_order_leaves))])\n",
    "ipsi_target_regions = connectivity_data.ipsi_target_regions\n",
    "contra_target_regions = connectivity_data.contra_target_regions                               \n",
    "ipsi_indices= np.asarray([])\n",
    "contra_indices = np.asarray([])\n",
    "for iy in target_ordering: \n",
    "    ipsi_indices = np.concatenate([ipsi_indices, np.where(ipsi_target_regions==iy)[0]] )\n",
    "    contra_indices = np.concatenate([contra_indices, np.where(contra_target_regions==iy)[0]] )\n",
    "ipsi_indices = np.asarray(ipsi_indices, dtype = int)   \n",
    "contra_indices = np.asarray(contra_indices, dtype = int)    \n",
    "reorder = np.concatenate([ipsi_indices, len(ipsi_indices) + contra_indices])  \n",
    "ntarget = len(reorder)\n",
    "\n",
    "#cnames = np.concatenate([ipsi_colnames, contra_colnames])"
   ]
  },
  {
   "cell_type": "code",
   "execution_count": 77,
   "metadata": {
    "collapsed": true
   },
   "outputs": [],
   "source": [
    "colids = np.concatenate([ipsi_target_regions, contra_target_regions])[reorder]\n",
    "cnames = np.asarray([ia_map[colids[i]] for i in range(len(colids))])"
   ]
  },
  {
   "cell_type": "code",
   "execution_count": 78,
   "metadata": {
    "collapsed": true
   },
   "outputs": [],
   "source": [
    "wt_conn = pd.DataFrame(connectivity_matrices[0], index = rnames, columns = cnames)"
   ]
  },
  {
   "cell_type": "code",
   "execution_count": 80,
   "metadata": {
    "collapsed": true
   },
   "outputs": [],
   "source": [
    "#np.asarray(wt_conn.columns)\n",
    "source_regions = np.asarray(['VISp2/3', 'VISp4', 'VISp5', 'VISp6a','VISl4', 'VISl5', 'VISl6a'])\n",
    "target_regions = np.concatenate([source_regions,['LGd-sh', 'LGd-co', 'LGd-ip']])\n",
    "#target_regions = np.asarray(['LGv','LGd','VISp','VISl'])"
   ]
  },
  {
   "cell_type": "code",
   "execution_count": 81,
   "metadata": {},
   "outputs": [
    {
     "data": {
      "text/plain": [
       "<matplotlib.axes._subplots.AxesSubplot at 0xcbd6efe10>"
      ]
     },
     "execution_count": 81,
     "metadata": {},
     "output_type": "execute_result"
    },
    {
     "data": {
      "image/png": "[encoded data removed]",
      "text/plain": [
       "<Figure size 2160x720 with 2 Axes>"
      ]
     },
     "metadata": {
      "needs_background": "light"
     },
     "output_type": "display_data"
    }
   ],
   "source": [
    "fig, axes = plt.subplots(figsize = (30,10))\n",
    "#cbar_ax = fig.add_axes([.91, .3, .03, .4])\n",
    "\n",
    "#tp = #np.log(wt_conn.loc[source_regions].loc[:,target_regions])\n",
    "tp = wt_conn.loc[source_regions].loc[:,target_regions]\n",
    "#tp.iloc[np.where(tp < -9)] = -9\n",
    "sns.heatmap(tp)\n",
    "#sns.heatmap(tp, vmin = -9, vmax= 0., ax= axes[0,0], cbar = False)\n"
   ]
  },
  {
   "cell_type": "code",
   "execution_count": 82,
   "metadata": {},
   "outputs": [
    {
     "ename": "TypeError",
     "evalue": "get_connectivity_matrices3() missing 1 required positional argument: 'surfaces'",
     "output_type": "error",
     "traceback": [
      "\u001b[0;31m---------------------------------------------------------------------------\u001b[0m",
      "\u001b[0;31mTypeError\u001b[0m                                 Traceback (most recent call last)",
      "\u001b[0;32m<ipython-input-82-fab8f29475b9>\u001b[0m in \u001b[0;36m<module>\u001b[0;34m\u001b[0m\n\u001b[1;32m      6\u001b[0m                                                   \u001b[0meval_cres\u001b[0m \u001b[0;34m=\u001b[0m \u001b[0meval_cres\u001b[0m\u001b[0;34m,\u001b[0m\u001b[0;34m\u001b[0m\u001b[0;34m\u001b[0m\u001b[0m\n\u001b[1;32m      7\u001b[0m                                                   \u001b[0msource_ordering\u001b[0m \u001b[0;34m=\u001b[0m \u001b[0montological_order_leaves\u001b[0m\u001b[0;34m,\u001b[0m\u001b[0;34m\u001b[0m\u001b[0;34m\u001b[0m\u001b[0m\n\u001b[0;32m----> 8\u001b[0;31m                                                   target_ordering= ontological_order_leaves)\n\u001b[0m",
      "\u001b[0;31mTypeError\u001b[0m: get_connectivity_matrices3() missing 1 required positional argument: 'surfaces'"
     ]
    }
   ],
   "source": [
    "connectivity_matrices_nwleafall = get_connectivity_matrices3(connectivity_data, \n",
    "                                                   cres = crelist,\n",
    "                                                  structures = leafs,\n",
    "                                                  model_ordering_leaf = model_ordering_leaf,\n",
    "                                                   model_region_surface = model_ordering_leaf,\n",
    "                                                  eval_cres = eval_cres,\n",
    "                                                  source_ordering = ontological_order_leaves,\n",
    "                                                  target_ordering= ontological_order_leaves)"
   ]
  },
  {
   "cell_type": "code",
   "execution_count": 84,
   "metadata": {
    "collapsed": true
   },
   "outputs": [],
   "source": [
    "def get_connectivity_matrices2_nw(connectivity_data, gamma_dict, cres, structures, model_ordering, source_ordering, target_ordering, eval_cres, cre_model = True):\n",
    "    \n",
    "    nsource = len(source_ordering)\n",
    "    #n#target = len(target_ordering)\n",
    "    ncre = len(eval_cres)\n",
    "\n",
    "    ipsi_target_regions = connectivity_data.ipsi_target_regions\n",
    "    contra_target_regions = connectivity_data.contra_target_regions                               \n",
    "    ipsi_indices= np.asarray([])\n",
    "    contra_indices = np.asarray([])\n",
    "    for iy in target_ordering: \n",
    "        ipsi_indices = np.concatenate([ipsi_indices, np.where(ipsi_target_regions==iy)[0]] )\n",
    "        contra_indices = np.concatenate([contra_indices, np.where(contra_target_regions==iy)[0]] )\n",
    "    ipsi_indices = np.asarray(ipsi_indices, dtype = int)   \n",
    "    contra_indices = np.asarray(contra_indices, dtype = int)    \n",
    "    reorder = np.concatenate([ipsi_indices, len(ipsi_indices) + contra_indices])  \n",
    "    ntarget = len(reorder)\n",
    "      \n",
    "    connectivity = np.zeros((ncre, nsource, ntarget))\n",
    "    connectivity[:] = np.nan\n",
    "    #structure_major_dictionary = connectivity_data.structure_major_dictionary\n",
    "    for c in range(ncre):\n",
    "        for i in range(nsource):\n",
    "            print(i,source_ordering[i])\n",
    "            sid = model_ordering[i,0]#structure_major_dictionary[source_ordering[i]]\n",
    "            gamma = gamma_dict[sid]\n",
    "            connectivity[c,i] = get_region_prediction2(cache,\n",
    "                                                      connectivity_data.structure_datas[sid],\n",
    "                                                      exp_structures = structures[sid],\n",
    "                                                      model_region = model_ordering[i,1],\n",
    "                                                      prediction_region= source_ordering[i],\n",
    "                                                      cre = eval_cres[c],\n",
    "                                                      gamma = gamma_dict[sid],\n",
    "                                                      cre_model = cre_model)\n",
    "                                                      \n",
    "    connectivity = connectivity[:,:,reorder]                                                  \n",
    "                                                      \n",
    "    return(connectivity)"
   ]
  },
  {
   "cell_type": "code",
   "execution_count": null,
   "metadata": {
    "collapsed": true
   },
   "outputs": [],
   "source": [
    "gd_nw_leaf_creleaf2 = gamma_dict"
   ]
  },
  {
   "cell_type": "code",
   "execution_count": 85,
   "metadata": {},
   "outputs": [
    {
     "ename": "NameError",
     "evalue": "name 'gd_nw_leaf_creleaf2' is not defined",
     "output_type": "error",
     "traceback": [
      "\u001b[0;31m---------------------------------------------------------------------------\u001b[0m",
      "\u001b[0;31mNameError\u001b[0m                                 Traceback (most recent call last)",
      "\u001b[0;32m<ipython-input-85-e5099f0af9db>\u001b[0m in \u001b[0;36m<module>\u001b[0;34m\u001b[0m\n\u001b[1;32m      1\u001b[0m connectivity_matrices_leafall = get_connectivity_matrices2_nw(connectivity_data,\n\u001b[0;32m----> 2\u001b[0;31m                                                       \u001b[0mgamma_dict\u001b[0m \u001b[0;34m=\u001b[0m \u001b[0mgd_nw_leaf_creleaf2\u001b[0m\u001b[0;34m,\u001b[0m\u001b[0;34m\u001b[0m\u001b[0;34m\u001b[0m\u001b[0m\n\u001b[0m\u001b[1;32m      3\u001b[0m                                                    \u001b[0mcres\u001b[0m \u001b[0;34m=\u001b[0m \u001b[0mcrelist\u001b[0m\u001b[0;34m,\u001b[0m\u001b[0;34m\u001b[0m\u001b[0;34m\u001b[0m\u001b[0m\n\u001b[1;32m      4\u001b[0m                                                   \u001b[0mstructures\u001b[0m \u001b[0;34m=\u001b[0m \u001b[0mleafs\u001b[0m\u001b[0;34m,\u001b[0m\u001b[0;34m\u001b[0m\u001b[0;34m\u001b[0m\u001b[0m\n\u001b[1;32m      5\u001b[0m                                                   \u001b[0mmodel_ordering\u001b[0m \u001b[0;34m=\u001b[0m \u001b[0mnp\u001b[0m\u001b[0;34m.\u001b[0m\u001b[0masarray\u001b[0m\u001b[0;34m(\u001b[0m\u001b[0;34m[\u001b[0m\u001b[0;34m[\u001b[0m\u001b[0;36m315\u001b[0m\u001b[0;34m,\u001b[0m\u001b[0;36m821\u001b[0m\u001b[0;34m]\u001b[0m\u001b[0;34m,\u001b[0m\u001b[0;34m[\u001b[0m\u001b[0;36m315\u001b[0m\u001b[0;34m,\u001b[0m\u001b[0;36m721\u001b[0m\u001b[0;34m]\u001b[0m\u001b[0;34m]\u001b[0m\u001b[0;34m)\u001b[0m\u001b[0;34m,\u001b[0m\u001b[0;34m\u001b[0m\u001b[0;34m\u001b[0m\u001b[0m\n",
      "\u001b[0;31mNameError\u001b[0m: name 'gd_nw_leaf_creleaf2' is not defined"
     ]
    }
   ],
   "source": [
    "connectivity_matrices_leafall = get_connectivity_matrices2_nw(connectivity_data,\n",
    "                                                      gamma_dict = gd_nw_leaf_creleaf2,\n",
    "                                                   cres = crelist,\n",
    "                                                  structures = leafs,\n",
    "                                                  model_ordering = np.asarray([[315,821],[315,721]]),\n",
    "                                                  eval_cres = eval_cres,\n",
    "                                                  source_ordering = ontological_order_leaves[118:120],\n",
    "                                                  target_ordering= ontological_order_leaves,\n",
    "                                                     cre_model = False)\n",
    "connectivity_matrices_leafall = pd.DataFrame(connectivity_matrices_leafall[0], columns = cnames, index=['VISp2/3','VISp4'])"
   ]
  },
  {
   "cell_type": "code",
   "execution_count": null,
   "metadata": {
    "collapsed": true
   },
   "outputs": [],
   "source": [
    "srs = np.asarray(['VISp1', 'VISp2/3', 'VISp4', 'VISp5', 'VISp6a', 'VISp6b'])\n",
    "trs = np.asarray(['VISp1', 'VISp2/3' ,'VISp4', 'VISp5' ,'VISp6a','VISp6b','LGd-sh', 'LGd-co', 'LGd-ip','VISam1','VISam2/3','VISam4','VISam5', 'VISam6a'])\n",
    "\n",
    "fig, axes = plt.subplots(figsize = (30,10))\n",
    "sns.heatmap(connectivity_matrices_leafall.loc[srs].loc[:,trs])"
   ]
  }
 ],
 "metadata": {
  "kernelspec": {
   "display_name": "allen_010719_5",
   "language": "python",
   "name": "allen_010719_5"
  },
  "language_info": {
   "codemirror_mode": {
    "name": "ipython",
    "version": 3
   },
   "file_extension": ".py",
   "mimetype": "text/x-python",
   "name": "python",
   "nbconvert_exporter": "python",
   "pygments_lexer": "ipython3",
   "version": "3.7.6"
  }
 },
 "nbformat": 4,
 "nbformat_minor": 2
}
